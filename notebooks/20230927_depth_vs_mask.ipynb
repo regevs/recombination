{
 "cells": [
  {
   "cell_type": "code",
   "execution_count": 1,
   "metadata": {},
   "outputs": [],
   "source": [
    "%load_ext autoreload\n",
    "%autoreload 2"
   ]
  },
  {
   "cell_type": "code",
   "execution_count": 2,
   "metadata": {},
   "outputs": [],
   "source": [
    "import numpy as np\n",
    "import pandas as pd\n",
    "import matplotlib.pyplot as plt\n",
    "import matplotlib.patches as mpatches\n",
    "import matplotlib.lines\n",
    "from pathlib import Path\n",
    "import fastq as fq\n",
    "import tqdm\n",
    "import re\n",
    "import sys\n",
    "import seaborn as sns\n",
    "import scipy.stats\n",
    "import os\n",
    "import msprime\n",
    "import pybedtools"
   ]
  },
  {
   "cell_type": "code",
   "execution_count": 3,
   "metadata": {},
   "outputs": [],
   "source": [
    "sys.path.append(\"/nfs/users/nfs_r/rs42/rs42/git/hapfusion/src\")\n",
    "sys.path.append(\"/nfs/users/nfs_r/rs42/rs42/git/himut/src\")\n",
    "\n",
    "sys.path.append(str(Path(os.getcwd()).parent))\n",
    "from src import liftover"
   ]
  },
  {
   "cell_type": "code",
   "execution_count": 4,
   "metadata": {},
   "outputs": [],
   "source": [
    "import hapfusion\n",
    "import himut"
   ]
  },
  {
   "cell_type": "markdown",
   "metadata": {},
   "source": [
    "# Which samples?"
   ]
  },
  {
   "cell_type": "code",
   "execution_count": 5,
   "metadata": {},
   "outputs": [],
   "source": [
    "aut_chrom_names = [f\"chr{i}\" for i in list(range(1, 23))]\n",
    "chrom_names = aut_chrom_names + [\"chrX\", \"chrY\"]"
   ]
  },
  {
   "cell_type": "code",
   "execution_count": 6,
   "metadata": {},
   "outputs": [],
   "source": [
    "sample_ids = [\n",
    "    \"PD50477f\",\n",
    "    # \"PD50508bf\", -- ignore; merged two sampling dates just for phasing, but should be analyzed separately\n",
    "    \"PD50519d\",\n",
    "    # \"PD47269d\", -- don't use, not there\n",
    "    \"PD50508f\",\n",
    "    # \"PD50511e\", -- don't use, likely mixture\n",
    "    \"PD50523b\",\n",
    "    # \"PD48473b\", -- don't use, not there\n",
    "    \"PD50521b\",\n",
    "    \"PD50508b\",\n",
    "    # \"PD50521be\", -- ignore; merged two sampling dates just for phasing, but should be analyzed separately\n",
    "    \"PD46180c\",\n",
    "    # \"PD50502f\", -- don't use, likely mixture\n",
    "    \"PD50521e\",\n",
    "    # \"PD50511e_SS\",  --- don't use\n",
    "    \"PD50489e\",\n",
    "]"
   ]
  },
  {
   "cell_type": "markdown",
   "metadata": {},
   "source": [
    "# Functions to load _hapfusion_ summary files"
   ]
  },
  {
   "cell_type": "markdown",
   "metadata": {},
   "source": [
    "## Loading files using T2T as reference"
   ]
  },
  {
   "cell_type": "code",
   "execution_count": 7,
   "metadata": {},
   "outputs": [],
   "source": [
    "t2t_hapfusion_output_path = Path(\"/lustre/scratch126/casm/team154pc/sl17/03.sperm/02.results/01.read_alignment/01.ccs/03.T2T-CHM13\")\n",
    "\n",
    "def t2t_load_files(sample_id):\n",
    "    data_path = t2t_hapfusion_output_path / sample_id\n",
    "\n",
    "    reads_df = pd.read_csv(\n",
    "        str(data_path / f\"chm13.{sample_id}.hapfusion.txt\"),\n",
    "        comment=\"#\",\n",
    "        delim_whitespace=True,\n",
    "        header=None,\n",
    "    )\n",
    "\n",
    "    log_df = pd.read_csv(\n",
    "        str(data_path / \"hapfusion.log\"),\n",
    "        delim_whitespace=True,\n",
    "        index_col=0,\n",
    "    )\n",
    "\n",
    "    candidates_df = pd.read_csv(\n",
    "        str(data_path / \"hapfusion_candidates.txt\"),\n",
    "        delim_whitespace=True,\n",
    "    )\n",
    "\n",
    "    return {\"reads\": reads_df, \"summary\": log_df, \"candidates\": candidates_df}\n",
    "\n"
   ]
  },
  {
   "cell_type": "markdown",
   "metadata": {},
   "source": [
    "# Functions to load depth files"
   ]
  },
  {
   "cell_type": "code",
   "execution_count": 8,
   "metadata": {},
   "outputs": [],
   "source": [
    "def load_depth(sample_id, chrom, n_every = 1):\n",
    "    depth_path = f\"/lustre/scratch126/casm/team154pc/sl17/03.sperm/02.results/01.read_alignment/01.ccs/03.T2T-CHM13/{sample_id}/chm13.{sample_id}.{chrom}.depth.txt.gz\"\n",
    "\n",
    "    df = pd.read_csv(\n",
    "        depth_path,\n",
    "        delim_whitespace=True,\n",
    "        skiprows=lambda i: i % n_every != 0,\n",
    "        names=[\"chrom\", \"pos_1based\", \"depth\"],\n",
    "    )\n",
    "\n",
    "    return df"
   ]
  },
  {
   "cell_type": "markdown",
   "metadata": {},
   "source": [
    "# Compare depths with accessibility"
   ]
  },
  {
   "cell_type": "code",
   "execution_count": 9,
   "metadata": {},
   "outputs": [],
   "source": [
    "sample_id = sample_ids[-1]"
   ]
  },
  {
   "cell_type": "code",
   "execution_count": 10,
   "metadata": {},
   "outputs": [
    {
     "name": "stdout",
     "output_type": "stream",
     "text": [
      "CPU times: user 1min 24s, sys: 1.16 s, total: 1min 26s\n",
      "Wall time: 1min 28s\n"
     ]
    }
   ],
   "source": [
    "%%time\n",
    "depth_df = load_depth(sample_id, aut_chrom_names[0], int(1e4))"
   ]
  },
  {
   "cell_type": "code",
   "execution_count": 11,
   "metadata": {},
   "outputs": [
    {
     "data": {
      "image/png": "[encoded data removed]",
      "text/plain": [
       "<Figure size 640x480 with 1 Axes>"
      ]
     },
     "metadata": {},
     "output_type": "display_data"
    }
   ],
   "source": [
    "depth_df[\"depth\"].hist(bins=np.linspace(0,50,50));"
   ]
  },
  {
   "cell_type": "code",
   "execution_count": 12,
   "metadata": {},
   "outputs": [],
   "source": [
    "depth_bed = pybedtools.BedTool.from_dataframe(\n",
    "    depth_df\n",
    "        .assign(start_0based=lambda df: df[\"pos_1based\"]-1)\n",
    "        .rename(columns={\"pos_1based\": \"end_0based\"})\n",
    "        [[\"chrom\", \"start_0based\", \"end_0based\", \"depth\"]]\n",
    ")\n"
   ]
  },
  {
   "cell_type": "code",
   "execution_count": 13,
   "metadata": {},
   "outputs": [],
   "source": [
    "t2t_access_mask = pybedtools.BedTool(\"/lustre/scratch126/casm/team154pc/sl17/03.sperm/01.data/07.references/05.accessibility_masks/01.T2T/combined_mask.bed.gz\")"
   ]
  },
  {
   "cell_type": "code",
   "execution_count": 14,
   "metadata": {},
   "outputs": [],
   "source": [
    "t2t_access_mask_complement = t2t_access_mask.complement(\n",
    "    g=pybedtools.helpers.chromsizes_to_file({k:(0, v) for k,v in liftover.T2T_chromosome_sizes_in_bp.items()})\n",
    ")"
   ]
  },
  {
   "cell_type": "code",
   "execution_count": 15,
   "metadata": {},
   "outputs": [],
   "source": [
    "intersection_df = (t2t_access_mask\n",
    "    .intersect(depth_bed, wb=True)\n",
    "    .to_dataframe()\n",
    "    .set_axis([\"chrom\", \"start\", \"end\", \"mask_chrom\", \"start_pos_0based\", \"end_pos_0based\", \"depth\"], axis=1)\n",
    ")"
   ]
  },
  {
   "cell_type": "code",
   "execution_count": 16,
   "metadata": {},
   "outputs": [],
   "source": [
    "comp_intersection_df = (t2t_access_mask_complement\n",
    "    .intersect(depth_bed, wb=True)\n",
    "    .to_dataframe()\n",
    "    .set_axis([\"chrom\", \"start\", \"end\", \"mask_chrom\", \"start_pos_0based\", \"end_pos_0based\", \"depth\"], axis=1)\n",
    ")"
   ]
  },
  {
   "cell_type": "code",
   "execution_count": 17,
   "metadata": {},
   "outputs": [
    {
     "data": {
      "text/plain": [
       "Text(0.5, 1.0, 'PD50489e, chr1')"
      ]
     },
     "execution_count": 17,
     "metadata": {},
     "output_type": "execute_result"
    },
    {
     "data": {
      "image/png": "[encoded data removed]",
      "text/plain": [
       "<Figure size 640x480 with 1 Axes>"
      ]
     },
     "metadata": {},
     "output_type": "display_data"
    }
   ],
   "source": [
    "max_depth_in_hist = 60\n",
    "\n",
    "fig, ax = plt.subplots()\n",
    "ax.hist(\n",
    "    [\n",
    "#        np.minimum(depth_df[\"depth\"], max_depth_in_hist),\n",
    "        np.minimum(intersection_df[\"depth\"], max_depth_in_hist),\n",
    "        np.minimum(comp_intersection_df[\"depth\"], max_depth_in_hist),\n",
    "    ],\n",
    "    bins=np.linspace(0, max_depth_in_hist, max_depth_in_hist+1),\n",
    "    density=True,\n",
    ");\n",
    "ax.legend([\"Accessible\", \"Not accessible\"])\n",
    "ax.set_xticks(\n",
    "    np.arange(0, max_depth_in_hist+1, 10), \n",
    "    [str(x) for x in np.arange(0, max_depth_in_hist, 10).astype(int)] + [f\">{max_depth_in_hist}\"],\n",
    ");\n",
    "ax.set_xlabel(\"Read depth\")\n",
    "ax.set_ylabel(\"Density\")\n",
    "ax.set_title(f\"{sample_id}, chr1\")"
   ]
  },
  {
   "cell_type": "code",
   "execution_count": 18,
   "metadata": {},
   "outputs": [
    {
     "data": {
      "text/plain": [
       "22.233368481595093"
      ]
     },
     "execution_count": 18,
     "metadata": {},
     "output_type": "execute_result"
    }
   ],
   "source": [
    "intersection_df.depth.mean()"
   ]
  },
  {
   "cell_type": "code",
   "execution_count": 19,
   "metadata": {},
   "outputs": [
    {
     "data": {
      "text/html": [
       "<div>\n",
       "<style scoped>\n",
       "    .dataframe tbody tr th:only-of-type {\n",
       "        vertical-align: middle;\n",
       "    }\n",
       "\n",
       "    .dataframe tbody tr th {\n",
       "        vertical-align: top;\n",
       "    }\n",
       "\n",
       "    .dataframe thead th {\n",
       "        text-align: right;\n",
       "    }\n",
       "</style>\n",
       "<table border=\"1\" class=\"dataframe\">\n",
       "  <thead>\n",
       "    <tr style=\"text-align: right;\">\n",
       "      <th></th>\n",
       "      <th>chrom</th>\n",
       "      <th>start</th>\n",
       "      <th>end</th>\n",
       "      <th>mask_chrom</th>\n",
       "      <th>start_pos_0based</th>\n",
       "      <th>end_pos_0based</th>\n",
       "      <th>depth</th>\n",
       "    </tr>\n",
       "  </thead>\n",
       "  <tbody>\n",
       "    <tr>\n",
       "      <th>0</th>\n",
       "      <td>chr1</td>\n",
       "      <td>220582</td>\n",
       "      <td>220583</td>\n",
       "      <td>chr1</td>\n",
       "      <td>220582</td>\n",
       "      <td>220583</td>\n",
       "      <td>36</td>\n",
       "    </tr>\n",
       "    <tr>\n",
       "      <th>1</th>\n",
       "      <td>chr1</td>\n",
       "      <td>250582</td>\n",
       "      <td>250583</td>\n",
       "      <td>chr1</td>\n",
       "      <td>250582</td>\n",
       "      <td>250583</td>\n",
       "      <td>24</td>\n",
       "    </tr>\n",
       "    <tr>\n",
       "      <th>2</th>\n",
       "      <td>chr1</td>\n",
       "      <td>260582</td>\n",
       "      <td>260583</td>\n",
       "      <td>chr1</td>\n",
       "      <td>260582</td>\n",
       "      <td>260583</td>\n",
       "      <td>27</td>\n",
       "    </tr>\n",
       "    <tr>\n",
       "      <th>3</th>\n",
       "      <td>chr1</td>\n",
       "      <td>270582</td>\n",
       "      <td>270583</td>\n",
       "      <td>chr1</td>\n",
       "      <td>270582</td>\n",
       "      <td>270583</td>\n",
       "      <td>19</td>\n",
       "    </tr>\n",
       "    <tr>\n",
       "      <th>4</th>\n",
       "      <td>chr1</td>\n",
       "      <td>300582</td>\n",
       "      <td>300583</td>\n",
       "      <td>chr1</td>\n",
       "      <td>300582</td>\n",
       "      <td>300583</td>\n",
       "      <td>19</td>\n",
       "    </tr>\n",
       "    <tr>\n",
       "      <th>...</th>\n",
       "      <td>...</td>\n",
       "      <td>...</td>\n",
       "      <td>...</td>\n",
       "      <td>...</td>\n",
       "      <td>...</td>\n",
       "      <td>...</td>\n",
       "      <td>...</td>\n",
       "    </tr>\n",
       "    <tr>\n",
       "      <th>20859</th>\n",
       "      <td>chr1</td>\n",
       "      <td>248323717</td>\n",
       "      <td>248323718</td>\n",
       "      <td>chr1</td>\n",
       "      <td>248323717</td>\n",
       "      <td>248323718</td>\n",
       "      <td>23</td>\n",
       "    </tr>\n",
       "    <tr>\n",
       "      <th>20860</th>\n",
       "      <td>chr1</td>\n",
       "      <td>248333717</td>\n",
       "      <td>248333718</td>\n",
       "      <td>chr1</td>\n",
       "      <td>248333717</td>\n",
       "      <td>248333718</td>\n",
       "      <td>24</td>\n",
       "    </tr>\n",
       "    <tr>\n",
       "      <th>20861</th>\n",
       "      <td>chr1</td>\n",
       "      <td>248343717</td>\n",
       "      <td>248343718</td>\n",
       "      <td>chr1</td>\n",
       "      <td>248343717</td>\n",
       "      <td>248343718</td>\n",
       "      <td>22</td>\n",
       "    </tr>\n",
       "    <tr>\n",
       "      <th>20862</th>\n",
       "      <td>chr1</td>\n",
       "      <td>248353717</td>\n",
       "      <td>248353718</td>\n",
       "      <td>chr1</td>\n",
       "      <td>248353717</td>\n",
       "      <td>248353718</td>\n",
       "      <td>28</td>\n",
       "    </tr>\n",
       "    <tr>\n",
       "      <th>20863</th>\n",
       "      <td>chr1</td>\n",
       "      <td>248363717</td>\n",
       "      <td>248363718</td>\n",
       "      <td>chr1</td>\n",
       "      <td>248363717</td>\n",
       "      <td>248363718</td>\n",
       "      <td>26</td>\n",
       "    </tr>\n",
       "  </tbody>\n",
       "</table>\n",
       "<p>20202 rows × 7 columns</p>\n",
       "</div>"
      ],
      "text/plain": [
       "      chrom      start        end mask_chrom  start_pos_0based  \\\n",
       "0      chr1     220582     220583       chr1            220582   \n",
       "1      chr1     250582     250583       chr1            250582   \n",
       "2      chr1     260582     260583       chr1            260582   \n",
       "3      chr1     270582     270583       chr1            270582   \n",
       "4      chr1     300582     300583       chr1            300582   \n",
       "...     ...        ...        ...        ...               ...   \n",
       "20859  chr1  248323717  248323718       chr1         248323717   \n",
       "20860  chr1  248333717  248333718       chr1         248333717   \n",
       "20861  chr1  248343717  248343718       chr1         248343717   \n",
       "20862  chr1  248353717  248353718       chr1         248353717   \n",
       "20863  chr1  248363717  248363718       chr1         248363717   \n",
       "\n",
       "       end_pos_0based  depth  \n",
       "0              220583     36  \n",
       "1              250583     24  \n",
       "2              260583     27  \n",
       "3              270583     19  \n",
       "4              300583     19  \n",
       "...               ...    ...  \n",
       "20859       248323718     23  \n",
       "20860       248333718     24  \n",
       "20861       248343718     22  \n",
       "20862       248353718     28  \n",
       "20863       248363718     26  \n",
       "\n",
       "[20202 rows x 7 columns]"
      ]
     },
     "execution_count": 19,
     "metadata": {},
     "output_type": "execute_result"
    }
   ],
   "source": [
    "intersection_df.loc[lambda df: (df.depth > 25/2) & (df.depth < 25*2)]"
   ]
  },
  {
   "cell_type": "code",
   "execution_count": 20,
   "metadata": {},
   "outputs": [
    {
     "data": {
      "text/html": [
       "<div>\n",
       "<style scoped>\n",
       "    .dataframe tbody tr th:only-of-type {\n",
       "        vertical-align: middle;\n",
       "    }\n",
       "\n",
       "    .dataframe tbody tr th {\n",
       "        vertical-align: top;\n",
       "    }\n",
       "\n",
       "    .dataframe thead th {\n",
       "        text-align: right;\n",
       "    }\n",
       "</style>\n",
       "<table border=\"1\" class=\"dataframe\">\n",
       "  <thead>\n",
       "    <tr style=\"text-align: right;\">\n",
       "      <th></th>\n",
       "      <th>chrom</th>\n",
       "      <th>start</th>\n",
       "      <th>end</th>\n",
       "      <th>mask_chrom</th>\n",
       "      <th>start_pos_0based</th>\n",
       "      <th>end_pos_0based</th>\n",
       "      <th>depth</th>\n",
       "    </tr>\n",
       "  </thead>\n",
       "  <tbody>\n",
       "    <tr>\n",
       "      <th>1</th>\n",
       "      <td>chr1</td>\n",
       "      <td>10016</td>\n",
       "      <td>10017</td>\n",
       "      <td>chr1</td>\n",
       "      <td>10016</td>\n",
       "      <td>10017</td>\n",
       "      <td>30</td>\n",
       "    </tr>\n",
       "    <tr>\n",
       "      <th>2</th>\n",
       "      <td>chr1</td>\n",
       "      <td>20016</td>\n",
       "      <td>20017</td>\n",
       "      <td>chr1</td>\n",
       "      <td>20016</td>\n",
       "      <td>20017</td>\n",
       "      <td>24</td>\n",
       "    </tr>\n",
       "    <tr>\n",
       "      <th>3</th>\n",
       "      <td>chr1</td>\n",
       "      <td>30582</td>\n",
       "      <td>30583</td>\n",
       "      <td>chr1</td>\n",
       "      <td>30582</td>\n",
       "      <td>30583</td>\n",
       "      <td>14</td>\n",
       "    </tr>\n",
       "    <tr>\n",
       "      <th>4</th>\n",
       "      <td>chr1</td>\n",
       "      <td>40582</td>\n",
       "      <td>40583</td>\n",
       "      <td>chr1</td>\n",
       "      <td>40582</td>\n",
       "      <td>40583</td>\n",
       "      <td>26</td>\n",
       "    </tr>\n",
       "    <tr>\n",
       "      <th>6</th>\n",
       "      <td>chr1</td>\n",
       "      <td>60582</td>\n",
       "      <td>60583</td>\n",
       "      <td>chr1</td>\n",
       "      <td>60582</td>\n",
       "      <td>60583</td>\n",
       "      <td>43</td>\n",
       "    </tr>\n",
       "    <tr>\n",
       "      <th>...</th>\n",
       "      <td>...</td>\n",
       "      <td>...</td>\n",
       "      <td>...</td>\n",
       "      <td>...</td>\n",
       "      <td>...</td>\n",
       "      <td>...</td>\n",
       "      <td>...</td>\n",
       "    </tr>\n",
       "    <tr>\n",
       "      <th>3888</th>\n",
       "      <td>chr1</td>\n",
       "      <td>248083717</td>\n",
       "      <td>248083718</td>\n",
       "      <td>chr1</td>\n",
       "      <td>248083717</td>\n",
       "      <td>248083718</td>\n",
       "      <td>36</td>\n",
       "    </tr>\n",
       "    <tr>\n",
       "      <th>3889</th>\n",
       "      <td>chr1</td>\n",
       "      <td>248103717</td>\n",
       "      <td>248103718</td>\n",
       "      <td>chr1</td>\n",
       "      <td>248103717</td>\n",
       "      <td>248103718</td>\n",
       "      <td>14</td>\n",
       "    </tr>\n",
       "    <tr>\n",
       "      <th>3890</th>\n",
       "      <td>chr1</td>\n",
       "      <td>248113717</td>\n",
       "      <td>248113718</td>\n",
       "      <td>chr1</td>\n",
       "      <td>248113717</td>\n",
       "      <td>248113718</td>\n",
       "      <td>16</td>\n",
       "    </tr>\n",
       "    <tr>\n",
       "      <th>3891</th>\n",
       "      <td>chr1</td>\n",
       "      <td>248163717</td>\n",
       "      <td>248163718</td>\n",
       "      <td>chr1</td>\n",
       "      <td>248163717</td>\n",
       "      <td>248163718</td>\n",
       "      <td>22</td>\n",
       "    </tr>\n",
       "    <tr>\n",
       "      <th>3892</th>\n",
       "      <td>chr1</td>\n",
       "      <td>248373717</td>\n",
       "      <td>248373718</td>\n",
       "      <td>chr1</td>\n",
       "      <td>248373717</td>\n",
       "      <td>248373718</td>\n",
       "      <td>14</td>\n",
       "    </tr>\n",
       "  </tbody>\n",
       "</table>\n",
       "<p>2671 rows × 7 columns</p>\n",
       "</div>"
      ],
      "text/plain": [
       "     chrom      start        end mask_chrom  start_pos_0based  end_pos_0based  \\\n",
       "1     chr1      10016      10017       chr1             10016           10017   \n",
       "2     chr1      20016      20017       chr1             20016           20017   \n",
       "3     chr1      30582      30583       chr1             30582           30583   \n",
       "4     chr1      40582      40583       chr1             40582           40583   \n",
       "6     chr1      60582      60583       chr1             60582           60583   \n",
       "...    ...        ...        ...        ...               ...             ...   \n",
       "3888  chr1  248083717  248083718       chr1         248083717       248083718   \n",
       "3889  chr1  248103717  248103718       chr1         248103717       248103718   \n",
       "3890  chr1  248113717  248113718       chr1         248113717       248113718   \n",
       "3891  chr1  248163717  248163718       chr1         248163717       248163718   \n",
       "3892  chr1  248373717  248373718       chr1         248373717       248373718   \n",
       "\n",
       "      depth  \n",
       "1        30  \n",
       "2        24  \n",
       "3        14  \n",
       "4        26  \n",
       "6        43  \n",
       "...     ...  \n",
       "3888     36  \n",
       "3889     14  \n",
       "3890     16  \n",
       "3891     22  \n",
       "3892     14  \n",
       "\n",
       "[2671 rows x 7 columns]"
      ]
     },
     "execution_count": 20,
     "metadata": {},
     "output_type": "execute_result"
    }
   ],
   "source": [
    "comp_intersection_df.loc[lambda df: (df.depth > 25/2) & (df.depth < 25*2)]"
   ]
  },
  {
   "cell_type": "code",
   "execution_count": 21,
   "metadata": {},
   "outputs": [],
   "source": [
    "t2t_total_df = (t2t_access_mask.to_dataframe()\n",
    "    .assign(interval_length = lambda df: df.end - df.start)\n",
    "    .groupby(\"chrom\")[[\"interval_length\"]]\n",
    "    .sum()\n",
    "    .reset_index()\n",
    ").merge(\n",
    "    (t2t_access_mask_complement.to_dataframe()\n",
    "        .assign(interval_length = lambda df: df.end - df.start)\n",
    "        .groupby(\"chrom\")[[\"interval_length\"]]\n",
    "        .sum()\n",
    "        .reset_index()\n",
    "        .rename(columns={\"interval_length\": \"comp_interval_length\"})\n",
    "    )\n",
    ")"
   ]
  },
  {
   "cell_type": "code",
   "execution_count": 22,
   "metadata": {},
   "outputs": [],
   "source": [
    "t2t_total_df = (\n",
    "    t2t_total_df\n",
    "    .assign(mask_prop = lambda df: df.interval_length / (df.interval_length + df.comp_interval_length))\n",
    "    .set_index(\"chrom\")\n",
    "    .loc[chrom_names]\n",
    ")"
   ]
  },
  {
   "cell_type": "code",
   "execution_count": 23,
   "metadata": {},
   "outputs": [
    {
     "data": {
      "text/html": [
       "<div>\n",
       "<style scoped>\n",
       "    .dataframe tbody tr th:only-of-type {\n",
       "        vertical-align: middle;\n",
       "    }\n",
       "\n",
       "    .dataframe tbody tr th {\n",
       "        vertical-align: top;\n",
       "    }\n",
       "\n",
       "    .dataframe thead th {\n",
       "        text-align: right;\n",
       "    }\n",
       "</style>\n",
       "<table border=\"1\" class=\"dataframe\">\n",
       "  <thead>\n",
       "    <tr style=\"text-align: right;\">\n",
       "      <th></th>\n",
       "      <th>interval_length</th>\n",
       "      <th>comp_interval_length</th>\n",
       "      <th>mask_prop</th>\n",
       "    </tr>\n",
       "    <tr>\n",
       "      <th>chrom</th>\n",
       "      <th></th>\n",
       "      <th></th>\n",
       "      <th></th>\n",
       "    </tr>\n",
       "  </thead>\n",
       "  <tbody>\n",
       "    <tr>\n",
       "      <th>chr1</th>\n",
       "      <td>208836768</td>\n",
       "      <td>39550560</td>\n",
       "      <td>0.840771</td>\n",
       "    </tr>\n",
       "    <tr>\n",
       "      <th>chr2</th>\n",
       "      <td>224728513</td>\n",
       "      <td>17968239</td>\n",
       "      <td>0.925964</td>\n",
       "    </tr>\n",
       "    <tr>\n",
       "      <th>chr3</th>\n",
       "      <td>188326009</td>\n",
       "      <td>12779939</td>\n",
       "      <td>0.936452</td>\n",
       "    </tr>\n",
       "    <tr>\n",
       "      <th>chr4</th>\n",
       "      <td>180339974</td>\n",
       "      <td>13234971</td>\n",
       "      <td>0.931629</td>\n",
       "    </tr>\n",
       "    <tr>\n",
       "      <th>chr5</th>\n",
       "      <td>168767186</td>\n",
       "      <td>13278253</td>\n",
       "      <td>0.927061</td>\n",
       "    </tr>\n",
       "    <tr>\n",
       "      <th>chr6</th>\n",
       "      <td>162509684</td>\n",
       "      <td>9616944</td>\n",
       "      <td>0.944129</td>\n",
       "    </tr>\n",
       "    <tr>\n",
       "      <th>chr7</th>\n",
       "      <td>144940588</td>\n",
       "      <td>15626840</td>\n",
       "      <td>0.902677</td>\n",
       "    </tr>\n",
       "    <tr>\n",
       "      <th>chr8</th>\n",
       "      <td>135882713</td>\n",
       "      <td>10376618</td>\n",
       "      <td>0.929053</td>\n",
       "    </tr>\n",
       "    <tr>\n",
       "      <th>chr9</th>\n",
       "      <td>104549755</td>\n",
       "      <td>46067492</td>\n",
       "      <td>0.694142</td>\n",
       "    </tr>\n",
       "    <tr>\n",
       "      <th>chr10</th>\n",
       "      <td>123749914</td>\n",
       "      <td>11008220</td>\n",
       "      <td>0.918311</td>\n",
       "    </tr>\n",
       "    <tr>\n",
       "      <th>chr11</th>\n",
       "      <td>123794573</td>\n",
       "      <td>11333196</td>\n",
       "      <td>0.916130</td>\n",
       "    </tr>\n",
       "    <tr>\n",
       "      <th>chr12</th>\n",
       "      <td>124722930</td>\n",
       "      <td>8601618</td>\n",
       "      <td>0.935484</td>\n",
       "    </tr>\n",
       "    <tr>\n",
       "      <th>chr13</th>\n",
       "      <td>92981369</td>\n",
       "      <td>20585317</td>\n",
       "      <td>0.818738</td>\n",
       "    </tr>\n",
       "    <tr>\n",
       "      <th>chr14</th>\n",
       "      <td>82817993</td>\n",
       "      <td>18343499</td>\n",
       "      <td>0.818671</td>\n",
       "    </tr>\n",
       "    <tr>\n",
       "      <th>chr15</th>\n",
       "      <td>74575474</td>\n",
       "      <td>25177721</td>\n",
       "      <td>0.747600</td>\n",
       "    </tr>\n",
       "    <tr>\n",
       "      <th>chr16</th>\n",
       "      <td>67985411</td>\n",
       "      <td>28344963</td>\n",
       "      <td>0.705753</td>\n",
       "    </tr>\n",
       "    <tr>\n",
       "      <th>chr17</th>\n",
       "      <td>69803969</td>\n",
       "      <td>14472928</td>\n",
       "      <td>0.828269</td>\n",
       "    </tr>\n",
       "    <tr>\n",
       "      <th>chr18</th>\n",
       "      <td>72150371</td>\n",
       "      <td>8392167</td>\n",
       "      <td>0.895805</td>\n",
       "    </tr>\n",
       "    <tr>\n",
       "      <th>chr19</th>\n",
       "      <td>48158664</td>\n",
       "      <td>13548700</td>\n",
       "      <td>0.780436</td>\n",
       "    </tr>\n",
       "    <tr>\n",
       "      <th>chr20</th>\n",
       "      <td>57983827</td>\n",
       "      <td>8226428</td>\n",
       "      <td>0.875753</td>\n",
       "    </tr>\n",
       "    <tr>\n",
       "      <th>chr21</th>\n",
       "      <td>31884530</td>\n",
       "      <td>13206152</td>\n",
       "      <td>0.707120</td>\n",
       "    </tr>\n",
       "    <tr>\n",
       "      <th>chr22</th>\n",
       "      <td>30219677</td>\n",
       "      <td>21105249</td>\n",
       "      <td>0.588791</td>\n",
       "    </tr>\n",
       "    <tr>\n",
       "      <th>chrX</th>\n",
       "      <td>142133141</td>\n",
       "      <td>12126425</td>\n",
       "      <td>0.921389</td>\n",
       "    </tr>\n",
       "    <tr>\n",
       "      <th>chrY</th>\n",
       "      <td>14363623</td>\n",
       "      <td>48096406</td>\n",
       "      <td>0.229965</td>\n",
       "    </tr>\n",
       "  </tbody>\n",
       "</table>\n",
       "</div>"
      ],
      "text/plain": [
       "       interval_length  comp_interval_length  mask_prop\n",
       "chrom                                                  \n",
       "chr1         208836768              39550560   0.840771\n",
       "chr2         224728513              17968239   0.925964\n",
       "chr3         188326009              12779939   0.936452\n",
       "chr4         180339974              13234971   0.931629\n",
       "chr5         168767186              13278253   0.927061\n",
       "chr6         162509684               9616944   0.944129\n",
       "chr7         144940588              15626840   0.902677\n",
       "chr8         135882713              10376618   0.929053\n",
       "chr9         104549755              46067492   0.694142\n",
       "chr10        123749914              11008220   0.918311\n",
       "chr11        123794573              11333196   0.916130\n",
       "chr12        124722930               8601618   0.935484\n",
       "chr13         92981369              20585317   0.818738\n",
       "chr14         82817993              18343499   0.818671\n",
       "chr15         74575474              25177721   0.747600\n",
       "chr16         67985411              28344963   0.705753\n",
       "chr17         69803969              14472928   0.828269\n",
       "chr18         72150371               8392167   0.895805\n",
       "chr19         48158664              13548700   0.780436\n",
       "chr20         57983827               8226428   0.875753\n",
       "chr21         31884530              13206152   0.707120\n",
       "chr22         30219677              21105249   0.588791\n",
       "chrX         142133141              12126425   0.921389\n",
       "chrY          14363623              48096406   0.229965"
      ]
     },
     "metadata": {},
     "output_type": "display_data"
    }
   ],
   "source": [
    "display(t2t_total_df)"
   ]
  },
  {
   "cell_type": "code",
   "execution_count": 24,
   "metadata": {},
   "outputs": [
    {
     "data": {
      "text/plain": [
       "0.8585082246152103"
      ]
     },
     "execution_count": 24,
     "metadata": {},
     "output_type": "execute_result"
    }
   ],
   "source": [
    "t2t_total_df.interval_length.sum() / (t2t_total_df.interval_length.sum() + t2t_total_df.comp_interval_length.sum())"
   ]
  },
  {
   "cell_type": "code",
   "execution_count": 25,
   "metadata": {},
   "outputs": [
    {
     "data": {
      "text/plain": [
       "0.868698957599061"
      ]
     },
     "execution_count": 25,
     "metadata": {},
     "output_type": "execute_result"
    }
   ],
   "source": [
    "t2t_total_df.interval_length[:22].sum() / (t2t_total_df.interval_length[:22].sum() + t2t_total_df.comp_interval_length[:22].sum())"
   ]
  },
  {
   "cell_type": "code",
   "execution_count": null,
   "metadata": {},
   "outputs": [],
   "source": []
  }
 ],
 "metadata": {
  "kernelspec": {
   "display_name": "sperm",
   "language": "python",
   "name": "sperm"
  },
  "language_info": {
   "codemirror_mode": {
    "name": "ipython",
    "version": 3
   },
   "file_extension": ".py",
   "mimetype": "text/x-python",
   "name": "python",
   "nbconvert_exporter": "python",
   "pygments_lexer": "ipython3",
   "version": "3.11.5"
  },
  "orig_nbformat": 4
 },
 "nbformat": 4,
 "nbformat_minor": 2
}
