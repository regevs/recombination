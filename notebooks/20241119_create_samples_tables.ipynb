{
 "cells": [
  {
   "cell_type": "code",
   "execution_count": 1,
   "id": "91f1b1b4-96f8-4618-bb2b-3c17165a4d7a",
   "metadata": {},
   "outputs": [],
   "source": [
    "%load_ext autoreload\n",
    "%autoreload 2"
   ]
  },
  {
   "cell_type": "code",
   "execution_count": 13,
   "id": "9f68b51d-bb42-4569-9df3-0c9b0bf5063d",
   "metadata": {},
   "outputs": [],
   "source": [
    "import numpy as np\n",
    "import pandas as pd\n",
    "import matplotlib as mpl\n",
    "import matplotlib.pyplot as plt\n",
    "import tqdm\n",
    "import glob\n",
    "\n",
    "from pathlib import Path\n"
   ]
  },
  {
   "cell_type": "markdown",
   "id": "6165ae92-4d53-46e6-ab72-26dd12a4600e",
   "metadata": {},
   "source": [
    "# Parse raw data to generate config tsv-s for snakemake"
   ]
  },
  {
   "cell_type": "code",
   "execution_count": 28,
   "id": "3b5dce80-e90d-437f-911d-3e10a088210b",
   "metadata": {
    "tags": []
   },
   "outputs": [],
   "source": [
    "import gzip\n",
    "\n",
    "def max_quality_in_first_10_reads(fastq_gz_file):\n",
    "    max_quality = 0\n",
    "    with gzip.open(fastq_gz_file, 'rt') as f:\n",
    "        line_count = 0\n",
    "        for line in f:\n",
    "            line_count += 1\n",
    "            # Every 4th line starting from the 4th is a quality score line\n",
    "            if line_count % 4 == 0:\n",
    "                # Convert ASCII characters to Phred quality scores\n",
    "                qualities = [ord(char) - 33 for char in line.strip()]\n",
    "                max_quality = max(max_quality, max(qualities))\n",
    "                # Stop after processing 10 reads (40 lines total)\n",
    "                if line_count >= 40:\n",
    "                    break\n",
    "    return max_quality\n"
   ]
  },
  {
   "cell_type": "markdown",
   "id": "a15186f1-fe56-4bb9-afe1-60cd19484208",
   "metadata": {},
   "source": [
    "## CEPH data"
   ]
  },
  {
   "cell_type": "markdown",
   "id": "30b61e30-37f7-408e-90b8-678f6c012022",
   "metadata": {},
   "source": [
    "### Files table"
   ]
  },
  {
   "cell_type": "code",
   "execution_count": 29,
   "id": "6d9589f3-a481-418d-ac0a-57b8487b2e09",
   "metadata": {
    "tags": []
   },
   "outputs": [],
   "source": [
    "flow_cells_paths = list(Path(\"/lustre/scratch122/tol/projects/sperm/data/CEPH\").glob(\"*/m*.filtered.fastq.gz\"))"
   ]
  },
  {
   "cell_type": "code",
   "execution_count": 30,
   "id": "30c311d9-9211-475d-9b55-21fe3aaa329d",
   "metadata": {
    "tags": []
   },
   "outputs": [
    {
     "name": "stderr",
     "output_type": "stream",
     "text": [
      "100%|██████████| 40/40 [00:02<00:00, 14.28it/s]\n"
     ]
    }
   ],
   "source": [
    "rows = []\n",
    "for flow_cell_path in tqdm.tqdm(flow_cells_paths):\n",
    "    # Get names\n",
    "    sample_id = flow_cell_path.parts[-2]\n",
    "    flow_cell_id = flow_cell_path.stem.split('.')[0]\n",
    "    \n",
    "    # Figure out type - in this case, if max BQ is 40, it's revio\n",
    "    if max_quality_in_first_10_reads(flow_cell_path) == 40:\n",
    "        flow_cell_type = \"revio\"\n",
    "    else:\n",
    "        flow_cell_type = \"sequel_ii\"\n",
    "    \n",
    "    # Each sample set has a single sample\n",
    "    row = [\n",
    "        sample_id,\n",
    "        sample_id,\n",
    "        flow_cell_id,\n",
    "        flow_cell_type,\n",
    "        str(flow_cell_path),\n",
    "    ]\n",
    "    \n",
    "    rows.append(row)"
   ]
  },
  {
   "cell_type": "code",
   "execution_count": 31,
   "id": "3fba6315-3dae-45bc-8f2c-640e46990cd0",
   "metadata": {
    "tags": []
   },
   "outputs": [],
   "source": [
    "pd.DataFrame(\n",
    "    rows,\n",
    "    columns = [\"sample_set\", \"sample\", \"flow_cell\", \"flow_cell_type\", \"path\"],\n",
    ").to_csv(\n",
    "    \"/nfs/users/nfs_r/rs42/rs42/git/sperm/configs/CEPH.tsv\",\n",
    "    index=False,\n",
    "    header=True,\n",
    "    sep=\"\\t\",\n",
    ")"
   ]
  },
  {
   "cell_type": "markdown",
   "id": "02d4cc3f-bac7-4046-b48d-5175550b0b74",
   "metadata": {},
   "source": [
    "### Assemblies table"
   ]
  },
  {
   "cell_type": "code",
   "execution_count": 34,
   "id": "5ce2bf87-924e-4573-8420-919a0bae3180",
   "metadata": {},
   "outputs": [],
   "source": [
    "rows = []\n",
    "\n",
    "for path in glob.glob(\"/lustre/scratch126/casm/team154pc/sl17/03.sperm/01.data/02.ccs/CEPH/assemblies/*/hifiasm/*/*.hifiasm.dip.hap1.p_ctg.gfa.fasta\"):\n",
    "    rows.append([Path(path).parents[2].name, path.replace(\"hap1\", r\"hap{haplotype}\")])\n",
    "    \n",
    "for path in glob.glob(\"/lustre/scratch126/casm/team154pc/sl17/03.sperm/01.data/02.ccs/CEPH/assemblies/*/verkko/*/assembly.haplotype1.fasta\"):\n",
    "    rows.append([Path(path).parents[2].name, path.replace(\"haplotype1\", r\"haplotype{haplotype}\")])    \n",
    "    \n",
    "pd.DataFrame(\n",
    "    rows,\n",
    "    columns = [\"sample_set\", \"fasta_wildcard_path\"],\n",
    ").to_csv(\n",
    "    \"/nfs/users/nfs_r/rs42/rs42/git/sperm/configs/CEPH_assemblies.tsv\",\n",
    "    index=False,\n",
    "    header=True,\n",
    "    sep=\"\\t\",\n",
    ")"
   ]
  },
  {
   "cell_type": "code",
   "execution_count": null,
   "id": "7df05d6c-94d3-4329-b631-08e0dfd9dd47",
   "metadata": {},
   "outputs": [],
   "source": []
  }
 ],
 "metadata": {
  "kernelspec": {
   "display_name": "sperm",
   "language": "python",
   "name": "sperm"
  },
  "language_info": {
   "codemirror_mode": {
    "name": "ipython",
    "version": 3
   },
   "file_extension": ".py",
   "mimetype": "text/x-python",
   "name": "python",
   "nbconvert_exporter": "python",
   "pygments_lexer": "ipython3",
   "version": "3.11.10"
  }
 },
 "nbformat": 4,
 "nbformat_minor": 5
}
