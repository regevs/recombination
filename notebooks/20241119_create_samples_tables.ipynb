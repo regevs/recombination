{
 "cells": [
  {
   "cell_type": "code",
   "execution_count": 1,
   "id": "91f1b1b4-96f8-4618-bb2b-3c17165a4d7a",
   "metadata": {},
   "outputs": [],
   "source": [
    "%load_ext autoreload\n",
    "%autoreload 2"
   ]
  },
  {
   "cell_type": "code",
   "execution_count": 2,
   "id": "9f68b51d-bb42-4569-9df3-0c9b0bf5063d",
   "metadata": {},
   "outputs": [],
   "source": [
    "import numpy as np\n",
    "import pandas as pd\n",
    "import matplotlib as mpl\n",
    "import matplotlib.pyplot as plt\n",
    "import tqdm\n",
    "import glob\n",
    "\n",
    "from pathlib import Path\n"
   ]
  },
  {
   "cell_type": "markdown",
   "id": "6165ae92-4d53-46e6-ab72-26dd12a4600e",
   "metadata": {},
   "source": [
    "# Parse raw data to generate config tsv-s for snakemake"
   ]
  },
  {
   "cell_type": "code",
   "execution_count": 6,
   "id": "3b5dce80-e90d-437f-911d-3e10a088210b",
   "metadata": {
    "tags": []
   },
   "outputs": [],
   "source": [
    "import gzip\n",
    "\n",
    "def max_quality_in_first_10_reads(fastq_gz_file):\n",
    "    max_quality = 0\n",
    "    with gzip.open(fastq_gz_file, 'rt') as f:\n",
    "        line_count = 0\n",
    "        for line in f:\n",
    "            line_count += 1\n",
    "            # Every 4th line starting from the 4th is a quality score line\n",
    "            if line_count % 4 == 0:\n",
    "                # Convert ASCII characters to Phred quality scores\n",
    "                qualities = [ord(char) - 33 for char in line.strip()]\n",
    "                max_quality = max(max_quality, max(qualities))\n",
    "                # Stop after processing 10 reads (40 lines total)\n",
    "                if line_count >= 40:\n",
    "                    break\n",
    "    return max_quality\n",
    "\n",
    "import gzip\n",
    "\n",
    "def num_qualities_in_first_10_reads(fastq_gz_file):\n",
    "    all_qualities = set()\n",
    "    with gzip.open(fastq_gz_file, 'rt') as f:\n",
    "        line_count = 0\n",
    "        for line in f:\n",
    "            line_count += 1\n",
    "            # Every 4th line starting from the 4th is a quality score line\n",
    "            if line_count % 4 == 0:\n",
    "                # Convert ASCII characters to Phred quality scores\n",
    "                qualities = [ord(char) - 33 for char in line.strip()]\n",
    "                all_qualities |= set(qualities)\n",
    "                # Stop after processing 10 reads (40 lines total)\n",
    "                if line_count >= 40:\n",
    "                    break\n",
    "    return all_qualities\n",
    "\n"
   ]
  },
  {
   "cell_type": "markdown",
   "id": "a15186f1-fe56-4bb9-afe1-60cd19484208",
   "metadata": {},
   "source": [
    "## CEPH data"
   ]
  },
  {
   "cell_type": "markdown",
   "id": "30b61e30-37f7-408e-90b8-678f6c012022",
   "metadata": {},
   "source": [
    "### Files table"
   ]
  },
  {
   "cell_type": "code",
   "execution_count": 4,
   "id": "6d9589f3-a481-418d-ac0a-57b8487b2e09",
   "metadata": {
    "tags": []
   },
   "outputs": [],
   "source": [
    "flow_cells_paths = list(Path(\"/lustre/scratch122/tol/projects/sperm/data/CEPH\").glob(\"*/m*.filtered.fastq.gz\"))"
   ]
  },
  {
   "cell_type": "code",
   "execution_count": 8,
   "id": "30c311d9-9211-475d-9b55-21fe3aaa329d",
   "metadata": {
    "tags": []
   },
   "outputs": [
    {
     "name": "stderr",
     "output_type": "stream",
     "text": [
      "100%|██████████| 107/107 [00:02<00:00, 49.06it/s]\n"
     ]
    }
   ],
   "source": [
    "rows = []\n",
    "for flow_cell_path in tqdm.tqdm(flow_cells_paths):\n",
    "    # Get names\n",
    "    sample_id = flow_cell_path.parts[-2]\n",
    "    flow_cell_id = flow_cell_path.stem.split('.')[0]\n",
    "    \n",
    "    # Figure out type - in this case, if max BQ is 40, it's revio\n",
    "    #print(sample_id, flow_cell_id, max_quality_in_first_10_reads(flow_cell_path), sorted(list(num_qualities_in_first_10_reads(flow_cell_path))))\n",
    "    if (M := max_quality_in_first_10_reads(flow_cell_path)) == 40:\n",
    "        flow_cell_type = \"revio_40\"\n",
    "    elif M == 50:\n",
    "        flow_cell_type = \"revio_50\"\n",
    "    else:\n",
    "        flow_cell_type = \"sequel_ii\"\n",
    "    \n",
    "    # Each sample set has a single sample\n",
    "    row = [\n",
    "        sample_id,\n",
    "        sample_id,\n",
    "        flow_cell_id,\n",
    "        flow_cell_type,\n",
    "        str(flow_cell_path),\n",
    "    ]\n",
    "    \n",
    "    rows.append(row)"
   ]
  },
  {
   "cell_type": "code",
   "execution_count": 9,
   "id": "3fba6315-3dae-45bc-8f2c-640e46990cd0",
   "metadata": {
    "tags": []
   },
   "outputs": [],
   "source": [
    "pd.DataFrame(\n",
    "    rows,\n",
    "    columns = [\"sample_set\", \"sample_id\", \"flow_cell\", \"flow_cell_type\", \"path\"],\n",
    ").to_csv(\n",
    "    \"/nfs/users/nfs_r/rs42/rs42/git/sperm/configs/CEPH.tsv\",\n",
    "    index=False,\n",
    "    header=True,\n",
    "    sep=\"\\t\",\n",
    ")"
   ]
  },
  {
   "cell_type": "markdown",
   "id": "02d4cc3f-bac7-4046-b48d-5175550b0b74",
   "metadata": {},
   "source": [
    "### Assemblies table"
   ]
  },
  {
   "cell_type": "code",
   "execution_count": 36,
   "id": "5ce2bf87-924e-4573-8420-919a0bae3180",
   "metadata": {},
   "outputs": [],
   "source": [
    "rows = []\n",
    "\n",
    "for path in glob.glob(\"/lustre/scratch126/casm/team154pc/sl17/03.sperm/01.data/02.ccs/CEPH/assemblies/*/hifiasm/*/*.hifiasm.dip.hap1.p_ctg.gfa.fasta\"):\n",
    "    rows.append([Path(path).parents[2].name, path.replace(\"hap1\", r\"hap{haplotype}\")])\n",
    "\n",
    "for path in glob.glob(\"/lustre/scratch126/casm/team154pc/sl17/03.sperm/01.data/02.ccs/CEPH/assemblies/*/hifiasm/*//K1463_*_1.fasta.gz\"):\n",
    "    rows.append([Path(path).parents[2].name, path.replace(\"_1.fasta\", r\"_{haplotype}.fasta\")])    \n",
    "    \n",
    "for path in glob.glob(\"/lustre/scratch126/casm/team154pc/sl17/03.sperm/01.data/02.ccs/CEPH/assemblies/*/verkko/*/assembly.haplotype1.fasta\"):\n",
    "    rows.append([Path(path).parents[2].name, path.replace(\"haplotype1\", r\"haplotype{haplotype}\")])    \n",
    "\n",
    "    \n",
    "pd.DataFrame(\n",
    "    rows,\n",
    "    columns = [\"sample_set\", \"fasta_wildcard_path\"],\n",
    ").to_csv(\n",
    "    \"/nfs/users/nfs_r/rs42/rs42/git/sperm/configs/CEPH_assemblies.tsv\",\n",
    "    index=False,\n",
    "    header=True,\n",
    "    sep=\"\\t\",\n",
    ")"
   ]
  },
  {
   "cell_type": "markdown",
   "id": "3631b13f-dfc4-43fb-8a1d-1e1421621030",
   "metadata": {},
   "source": [
    "## Rahbari samples"
   ]
  },
  {
   "cell_type": "code",
   "execution_count": 7,
   "id": "d3c2f6a7-5605-4219-82f9-c252b6a06a01",
   "metadata": {
    "tags": []
   },
   "outputs": [],
   "source": [
    "flow_cells_paths = list(Path(\"/lustre/scratch122/tol/projects/sperm/data/Rahbari\").glob(\"*/*/m*.filtered.fastq.gz\"))"
   ]
  },
  {
   "cell_type": "code",
   "execution_count": 8,
   "id": "6e122377-af54-4b52-b415-c5d4d1465b06",
   "metadata": {
    "tags": []
   },
   "outputs": [],
   "source": [
    "rahbari_sample_ids = [\n",
    "    #\n",
    "    # Sperm samples\n",
    "    #\n",
    "    \"PD50477f\",\n",
    "    # \"PD50508bf\", -- ignore; merged two sampling dates just for phasing, but should be analyzed separately\n",
    "    \"PD50519d\",\n",
    "    # \"PD47269d\", -- don't use, not there\n",
    "    \"PD50508f\",\n",
    "    # \"PD50511e\", -- don't use, likely mixture\n",
    "    \"PD50523b\",\n",
    "    # \"PD48473b\", -- don't use, not there\n",
    "    \"PD50521b\",\n",
    "    \"PD50508b\",\n",
    "    # \"PD50521be\", -- ignore; merged two sampling dates just for phasing, but should be analyzed separately\n",
    "    \"PD46180c\",\n",
    "    # \"PD50502f\", -- don't use, likely mixture\n",
    "    \"PD50521e\",\n",
    "    # \"PD50511e_SS\",  --- don't use\n",
    "    \"PD50489e\",\n",
    "    # \n",
    "    # Blood samples:\n",
    "    #\n",
    "    \"PD47269d\",\n",
    "    \"PD48473b\",\n",
    "]\n",
    "\n",
    "sample_id_to_sample_set = {\n",
    "    \"PD50477f\": \"PD50477f\",\n",
    "#    \"PD50519d\": \"PD46180c_PD50519d\",\n",
    "    \"PD50519d\": \"PD50519d\",\n",
    "    \"PD50508f\": \"PD50508b_PD50508f\",\n",
    "    \"PD50523b\": \"PD50523b\",\n",
    "    \"PD50521b\": \"PD50521b_PD50521e\",\n",
    "    \"PD50508b\": \"PD50508b_PD50508f\",\n",
    "#    \"PD46180c\": \"PD46180c_PD50519d\",\n",
    "    \"PD46180c\": \"PD46180c\",\n",
    "    \"PD50521e\": \"PD50521b_PD50521e\",\n",
    "    \"PD50489e\": \"PD50489e\",\n",
    "    \"PD47269d\": \"PD47269d\",\n",
    "    \"PD48473b\": \"PD48473b\",\n",
    "}"
   ]
  },
  {
   "cell_type": "code",
   "execution_count": 9,
   "id": "253a1453-7faa-48df-bda5-74eb3d5fb428",
   "metadata": {
    "tags": []
   },
   "outputs": [
    {
     "name": "stderr",
     "output_type": "stream",
     "text": [
      "100%|██████████| 69/69 [00:05<00:00, 12.28it/s]\n"
     ]
    }
   ],
   "source": [
    "rows = []\n",
    "for flow_cell_path in tqdm.tqdm(flow_cells_paths):\n",
    "    # Get names\n",
    "    sample_id = flow_cell_path.parts[-3]\n",
    "    if sample_id not in rahbari_sample_ids:\n",
    "        continue\n",
    "    sample_set = sample_id_to_sample_set[sample_id]\n",
    "    flow_cell_id = flow_cell_path.stem.split('.')[0]\n",
    "    \n",
    "    # Figure out type - in this case, if max BQ is 40, it's revio\n",
    "    #print(sample_id, flow_cell_id, max_quality_in_first_10_reads(flow_cell_path), sorted(list(num_qualities_in_first_10_reads(flow_cell_path))))\n",
    "    if (M := max_quality_in_first_10_reads(flow_cell_path)) == 40:\n",
    "        flow_cell_type = \"revio_40\"\n",
    "    elif \"02.revio\" in str(flow_cell_path):\n",
    "        flow_cell_type = \"revio_unbinned\"\n",
    "    else:\n",
    "        flow_cell_type = \"sequel_ii\"\n",
    "    \n",
    "    # Each sample set has a single sample\n",
    "    row = [\n",
    "        sample_set,\n",
    "        sample_id,\n",
    "        flow_cell_id,\n",
    "        flow_cell_type,\n",
    "        str(flow_cell_path),\n",
    "        #sorted(list(num_qualities_in_first_10_reads(flow_cell_path)))\n",
    "    ]\n",
    "    \n",
    "    rows.append(row)"
   ]
  },
  {
   "cell_type": "code",
   "execution_count": 37,
   "id": "7e0d3af8-291d-41d3-96f1-2659cf65d58d",
   "metadata": {},
   "outputs": [
    {
     "data": {
      "text/html": [
       "<div>\n",
       "<style scoped>\n",
       "    .dataframe tbody tr th:only-of-type {\n",
       "        vertical-align: middle;\n",
       "    }\n",
       "\n",
       "    .dataframe tbody tr th {\n",
       "        vertical-align: top;\n",
       "    }\n",
       "\n",
       "    .dataframe thead th {\n",
       "        text-align: right;\n",
       "    }\n",
       "</style>\n",
       "<table border=\"1\" class=\"dataframe\">\n",
       "  <thead>\n",
       "    <tr style=\"text-align: right;\">\n",
       "      <th></th>\n",
       "      <th>0</th>\n",
       "      <th>1</th>\n",
       "      <th>2</th>\n",
       "      <th>3</th>\n",
       "      <th>4</th>\n",
       "    </tr>\n",
       "  </thead>\n",
       "  <tbody>\n",
       "    <tr>\n",
       "      <th>0</th>\n",
       "      <td>PD50521b_PD50521e</td>\n",
       "      <td>PD50521b</td>\n",
       "      <td>m84093_241012_145529_s3</td>\n",
       "      <td>revio_40</td>\n",
       "      <td>/lustre/scratch122/tol/projects/sperm/data/Rah...</td>\n",
       "    </tr>\n",
       "    <tr>\n",
       "      <th>1</th>\n",
       "      <td>PD50521b_PD50521e</td>\n",
       "      <td>PD50521b</td>\n",
       "      <td>m84047_240924_113521_s4</td>\n",
       "      <td>revio_unbinned</td>\n",
       "      <td>/lustre/scratch122/tol/projects/sperm/data/Rah...</td>\n",
       "    </tr>\n",
       "    <tr>\n",
       "      <th>2</th>\n",
       "      <td>PD50521b_PD50521e</td>\n",
       "      <td>PD50521b</td>\n",
       "      <td>m64178e_240721_224443</td>\n",
       "      <td>sequel_ii</td>\n",
       "      <td>/lustre/scratch122/tol/projects/sperm/data/Rah...</td>\n",
       "    </tr>\n",
       "    <tr>\n",
       "      <th>3</th>\n",
       "      <td>PD50521b_PD50521e</td>\n",
       "      <td>PD50521b</td>\n",
       "      <td>m64229e_220912_125215</td>\n",
       "      <td>sequel_ii</td>\n",
       "      <td>/lustre/scratch122/tol/projects/sperm/data/Rah...</td>\n",
       "    </tr>\n",
       "    <tr>\n",
       "      <th>4</th>\n",
       "      <td>PD50521b_PD50521e</td>\n",
       "      <td>PD50521b</td>\n",
       "      <td>m64016e_220901_135237</td>\n",
       "      <td>sequel_ii</td>\n",
       "      <td>/lustre/scratch122/tol/projects/sperm/data/Rah...</td>\n",
       "    </tr>\n",
       "    <tr>\n",
       "      <th>...</th>\n",
       "      <td>...</td>\n",
       "      <td>...</td>\n",
       "      <td>...</td>\n",
       "      <td>...</td>\n",
       "      <td>...</td>\n",
       "    </tr>\n",
       "    <tr>\n",
       "      <th>55</th>\n",
       "      <td>PD46180c</td>\n",
       "      <td>PD46180c</td>\n",
       "      <td>m64178e_220824_153720</td>\n",
       "      <td>sequel_ii</td>\n",
       "      <td>/lustre/scratch122/tol/projects/sperm/data/Rah...</td>\n",
       "    </tr>\n",
       "    <tr>\n",
       "      <th>56</th>\n",
       "      <td>PD46180c</td>\n",
       "      <td>PD46180c</td>\n",
       "      <td>m64016e_220904_102424</td>\n",
       "      <td>sequel_ii</td>\n",
       "      <td>/lustre/scratch122/tol/projects/sperm/data/Rah...</td>\n",
       "    </tr>\n",
       "    <tr>\n",
       "      <th>57</th>\n",
       "      <td>PD46180c</td>\n",
       "      <td>PD46180c</td>\n",
       "      <td>m64094e_220916_121850</td>\n",
       "      <td>sequel_ii</td>\n",
       "      <td>/lustre/scratch122/tol/projects/sperm/data/Rah...</td>\n",
       "    </tr>\n",
       "    <tr>\n",
       "      <th>58</th>\n",
       "      <td>PD50508b_PD50508f</td>\n",
       "      <td>PD50508f</td>\n",
       "      <td>m64178e_220827_132801</td>\n",
       "      <td>sequel_ii</td>\n",
       "      <td>/lustre/scratch122/tol/projects/sperm/data/Rah...</td>\n",
       "    </tr>\n",
       "    <tr>\n",
       "      <th>59</th>\n",
       "      <td>PD50508b_PD50508f</td>\n",
       "      <td>PD50508f</td>\n",
       "      <td>m64230e_220901_155033</td>\n",
       "      <td>sequel_ii</td>\n",
       "      <td>/lustre/scratch122/tol/projects/sperm/data/Rah...</td>\n",
       "    </tr>\n",
       "  </tbody>\n",
       "</table>\n",
       "<p>60 rows × 5 columns</p>\n",
       "</div>"
      ],
      "text/plain": [
       "                    0         1                        2               3  \\\n",
       "0   PD50521b_PD50521e  PD50521b  m84093_241012_145529_s3        revio_40   \n",
       "1   PD50521b_PD50521e  PD50521b  m84047_240924_113521_s4  revio_unbinned   \n",
       "2   PD50521b_PD50521e  PD50521b    m64178e_240721_224443       sequel_ii   \n",
       "3   PD50521b_PD50521e  PD50521b    m64229e_220912_125215       sequel_ii   \n",
       "4   PD50521b_PD50521e  PD50521b    m64016e_220901_135237       sequel_ii   \n",
       "..                ...       ...                      ...             ...   \n",
       "55           PD46180c  PD46180c    m64178e_220824_153720       sequel_ii   \n",
       "56           PD46180c  PD46180c    m64016e_220904_102424       sequel_ii   \n",
       "57           PD46180c  PD46180c    m64094e_220916_121850       sequel_ii   \n",
       "58  PD50508b_PD50508f  PD50508f    m64178e_220827_132801       sequel_ii   \n",
       "59  PD50508b_PD50508f  PD50508f    m64230e_220901_155033       sequel_ii   \n",
       "\n",
       "                                                    4  \n",
       "0   /lustre/scratch122/tol/projects/sperm/data/Rah...  \n",
       "1   /lustre/scratch122/tol/projects/sperm/data/Rah...  \n",
       "2   /lustre/scratch122/tol/projects/sperm/data/Rah...  \n",
       "3   /lustre/scratch122/tol/projects/sperm/data/Rah...  \n",
       "4   /lustre/scratch122/tol/projects/sperm/data/Rah...  \n",
       "..                                                ...  \n",
       "55  /lustre/scratch122/tol/projects/sperm/data/Rah...  \n",
       "56  /lustre/scratch122/tol/projects/sperm/data/Rah...  \n",
       "57  /lustre/scratch122/tol/projects/sperm/data/Rah...  \n",
       "58  /lustre/scratch122/tol/projects/sperm/data/Rah...  \n",
       "59  /lustre/scratch122/tol/projects/sperm/data/Rah...  \n",
       "\n",
       "[60 rows x 5 columns]"
      ]
     },
     "metadata": {},
     "output_type": "display_data"
    }
   ],
   "source": [
    "with pd.option_context('display.max_rows', 10, 'display.max_columns', 10):\n",
    "    display(pd.DataFrame(rows))"
   ]
  },
  {
   "cell_type": "code",
   "execution_count": 38,
   "id": "aac27e77-9f30-4427-bc43-810f661e3200",
   "metadata": {
    "tags": []
   },
   "outputs": [],
   "source": [
    "pd.DataFrame(\n",
    "    rows,\n",
    "    columns = [\"sample_set\", \"sample_id\", \"flow_cell\", \"flow_cell_type\", \"path\"],\n",
    ").to_csv(\n",
    "    \"/nfs/users/nfs_r/rs42/rs42/git/sperm/configs/Rahbari.tsv\",\n",
    "    index=False,\n",
    "    header=True,\n",
    "    sep=\"\\t\",\n",
    ")"
   ]
  },
  {
   "cell_type": "markdown",
   "id": "2f5e5d85-6a29-49f3-b41c-c6ee20482413",
   "metadata": {},
   "source": [
    "### Use previous Sequel-only assemblies in assemblies table"
   ]
  },
  {
   "cell_type": "code",
   "execution_count": 39,
   "id": "620c6780-6a26-40f0-9fca-e7ef20ce5406",
   "metadata": {
    "tags": []
   },
   "outputs": [],
   "source": [
    "rows = []\n",
    "\n",
    "for path in glob.glob(\"/lustre/scratch122/tol/projects/sperm/data/Rahbari/hifiasm_0.19.5-r592_assemblies/*/*.hap1.p_ctg.fasta\"):\n",
    "    old_joint = Path(path).parents[0].name\n",
    "    sample_set = old_joint\n",
    "    if old_joint == \"PD50508bf\":\n",
    "        sample_set = \"PD50508b_PD50508f\"\n",
    "    elif old_joint == \"PD50521be\":\n",
    "        sample_set = \"PD50521b_PD50521e\"\n",
    "    rows.append([sample_set, path.replace(\"hap1\", r\"hap{haplotype}\")])\n",
    "\n",
    "    \n",
    "pd.DataFrame(\n",
    "    rows,\n",
    "    columns = [\"sample_set\", \"fasta_wildcard_path\"],\n",
    ").to_csv(\n",
    "    \"/nfs/users/nfs_r/rs42/rs42/git/sperm/configs/Rahbari_assemblies.tsv\",\n",
    "    index=False,\n",
    "    header=True,\n",
    "    sep=\"\\t\",\n",
    ")"
   ]
  },
  {
   "cell_type": "markdown",
   "id": "1a2b02ce-398c-400c-bc23-f57f2b2f14d3",
   "metadata": {},
   "source": [
    "### Sequel-only subset"
   ]
  },
  {
   "cell_type": "code",
   "execution_count": 7,
   "id": "f2dbd6c6-aa6a-4704-abb4-c01635fb1ad2",
   "metadata": {
    "tags": []
   },
   "outputs": [],
   "source": [
    "(\n",
    "    pd.DataFrame(\n",
    "        rows,\n",
    "        columns = [\"sample_set\", \"sample_id\", \"flow_cell\", \"flow_cell_type\", \"path\"],\n",
    "    )\n",
    "    .query(\"flow_cell_type == 'sequel_ii'\")\n",
    "    .to_csv(\n",
    "        \"/nfs/users/nfs_r/rs42/rs42/git/sperm/configs/Rahbari_sequel_only.tsv\",\n",
    "        index=False,\n",
    "        header=True,\n",
    "        sep=\"\\t\",\n",
    "    )\n",
    ")"
   ]
  },
  {
   "cell_type": "markdown",
   "id": "fb2fda11-abf1-4ed8-b9bd-f81cc22ff576",
   "metadata": {},
   "source": [
    "### Revio-only subset"
   ]
  },
  {
   "cell_type": "markdown",
   "id": "6e07485c-2ac4-42c5-a811-1020cf805660",
   "metadata": {},
   "source": [
    "#### ALL"
   ]
  },
  {
   "cell_type": "code",
   "execution_count": 8,
   "id": "2acb352e-d414-480b-b65a-e80757ff8610",
   "metadata": {
    "tags": []
   },
   "outputs": [],
   "source": [
    "(\n",
    "    pd.DataFrame(\n",
    "        rows,\n",
    "        columns = [\"sample_set\", \"sample_id\", \"flow_cell\", \"flow_cell_type\", \"path\"],\n",
    "    )\n",
    "    .query(\"flow_cell_type != 'sequel_ii'\")\n",
    "    .to_csv(\n",
    "        \"/nfs/users/nfs_r/rs42/rs42/git/sperm/configs/Rahbari_revio_only.tsv\",\n",
    "        index=False,\n",
    "        header=True,\n",
    "        sep=\"\\t\",\n",
    "    )\n",
    ")"
   ]
  },
  {
   "cell_type": "markdown",
   "id": "7dd3b4b2-37fe-4216-ba06-ff0210e1d34c",
   "metadata": {},
   "source": [
    "#### Two of each, to make assembly possible"
   ]
  },
  {
   "cell_type": "code",
   "execution_count": 12,
   "id": "a04dfe8f-4db0-4877-97f6-a6e4e4e9f0e5",
   "metadata": {
    "tags": []
   },
   "outputs": [],
   "source": [
    "(\n",
    "    pd.DataFrame(\n",
    "        rows,\n",
    "        columns = [\"sample_set\", \"sample_id\", \"flow_cell\", \"flow_cell_type\", \"path\"],\n",
    "    )\n",
    "    .query(\"flow_cell_type == 'revio_unbinned'\")\n",
    "    .groupby([\"sample_id\"]).head(2)\n",
    "    .to_csv(\n",
    "        \"/nfs/users/nfs_r/rs42/rs42/git/sperm/configs/Rahbari_revio_only_subset.tsv\",\n",
    "        index=False,\n",
    "        header=True,\n",
    "        sep=\"\\t\",\n",
    "    )\n",
    ")"
   ]
  },
  {
   "cell_type": "markdown",
   "id": "f766be83-42bb-4c64-a5af-156a1639b393",
   "metadata": {},
   "source": [
    "### Revio-only Assemblies "
   ]
  },
  {
   "cell_type": "code",
   "execution_count": 11,
   "id": "67ef1cad-9db9-461f-bd7b-25cf07615250",
   "metadata": {
    "tags": []
   },
   "outputs": [],
   "source": [
    "rows = []\n",
    "\n",
    "for path in glob.glob(\"/lustre/scratch122/tol/projects/sperm/results/Rahbari_revio_only_subset_20250114/assemblies/*/haplotype_1.fasta\"):\n",
    "    sample_set = Path(path).parents[0].name\n",
    "    rows.append([sample_set, path.replace(\"haplotype_1\", r\"haplotype_{haplotype}\")])\n",
    "\n",
    "    \n",
    "pd.DataFrame(\n",
    "    rows,\n",
    "    columns = [\"sample_set\", \"fasta_wildcard_path\"],\n",
    ").to_csv(\n",
    "    \"/nfs/users/nfs_r/rs42/rs42/git/sperm/configs/Rahbari_revio_only_assemblies.tsv\",\n",
    "    index=False,\n",
    "    header=True,\n",
    "    sep=\"\\t\",\n",
    ")"
   ]
  },
  {
   "cell_type": "code",
   "execution_count": null,
   "id": "7d616bd7-108b-49d2-9528-537114589fac",
   "metadata": {},
   "outputs": [],
   "source": []
  },
  {
   "cell_type": "code",
   "execution_count": null,
   "id": "ae37b531-e8b5-454b-a75e-781d6e4d59e4",
   "metadata": {},
   "outputs": [],
   "source": []
  },
  {
   "cell_type": "markdown",
   "id": "7eb683c9-5321-4c9a-98a0-866a397bea1f",
   "metadata": {},
   "source": [
    "## Sudmant"
   ]
  },
  {
   "cell_type": "code",
   "execution_count": 43,
   "id": "ab43c68f-67da-4456-96c6-99bb5625b8c8",
   "metadata": {
    "tags": []
   },
   "outputs": [],
   "source": [
    "flow_cells_paths = list(Path(\"/lustre/scratch122/tol/projects/sperm/data/PeterSudmant\").glob(\"*/m*.filtered.fastq.gz\"))"
   ]
  },
  {
   "cell_type": "code",
   "execution_count": 45,
   "id": "46da7717-e244-42b5-af16-e2a17455ebbb",
   "metadata": {
    "tags": []
   },
   "outputs": [],
   "source": [
    "sudmant_sample_ids = [    \n",
    "    \"1894\",\n",
    "    \"3898\",\n",
    "    \"7899\",\n",
    "    \"95619\",\n",
    "    \"115980\",\n",
    "    \"2895\",\n",
    "    # \"105621\", -- weird assembly, takes a long time, errors, and CO reads are x5 what they should be\n",
    "    # \"6901\",  --- weird assembly, maybe contamination?\n",
    "    # \"8900\",  --- surprisingly low coverage\n",
    "]"
   ]
  },
  {
   "cell_type": "code",
   "execution_count": 48,
   "id": "1a50f0c1-87d5-4f11-92a8-ed0a8cbfb6ab",
   "metadata": {
    "tags": []
   },
   "outputs": [
    {
     "name": "stderr",
     "output_type": "stream",
     "text": [
      "100%|██████████| 20/20 [00:00<00:00, 106589.68it/s]\n"
     ]
    }
   ],
   "source": [
    "rows = []\n",
    "for flow_cell_path in tqdm.tqdm(flow_cells_paths):\n",
    "    # Get names\n",
    "    sample_id = flow_cell_path.parts[-2]\n",
    "    if sample_id not in sudmant_sample_ids:\n",
    "        continue\n",
    "    flow_cell_id = flow_cell_path.stem.split('.')[0]\n",
    "        \n",
    "        \n",
    "    # Each sample set has a single sample\n",
    "    row = [\n",
    "        sample_id,\n",
    "        sample_id,\n",
    "        flow_cell_id,\n",
    "        \"revio_40\",   # They are all revio with max 40\n",
    "        str(flow_cell_path),\n",
    "#        sorted(list(num_qualities_in_first_10_reads(flow_cell_path)))\n",
    "    ]\n",
    "    \n",
    "    rows.append(row)"
   ]
  },
  {
   "cell_type": "code",
   "execution_count": 49,
   "id": "cc997c92-2977-43e5-844b-5afa53bb2081",
   "metadata": {
    "tags": []
   },
   "outputs": [],
   "source": [
    "pd.DataFrame(\n",
    "    rows,\n",
    "    columns = [\"sample_set\", \"sample_id\", \"flow_cell\", \"flow_cell_type\", \"path\"],\n",
    ").to_csv(\n",
    "    \"/nfs/users/nfs_r/rs42/rs42/git/sperm/configs/Sudmant.tsv\",\n",
    "    index=False,\n",
    "    header=True,\n",
    "    sep=\"\\t\",\n",
    ")"
   ]
  },
  {
   "cell_type": "code",
   "execution_count": null,
   "id": "a3d63550-5eb3-48df-ba11-2c389d3da2ac",
   "metadata": {},
   "outputs": [],
   "source": []
  }
 ],
 "metadata": {
  "kernelspec": {
   "display_name": "sperm",
   "language": "python",
   "name": "sperm"
  },
  "language_info": {
   "codemirror_mode": {
    "name": "ipython",
    "version": 3
   },
   "file_extension": ".py",
   "mimetype": "text/x-python",
   "name": "python",
   "nbconvert_exporter": "python",
   "pygments_lexer": "ipython3",
   "version": "3.11.10"
  }
 },
 "nbformat": 4,
 "nbformat_minor": 5
}
