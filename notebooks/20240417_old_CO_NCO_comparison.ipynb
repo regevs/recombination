{
 "cells": [
  {
   "cell_type": "code",
   "execution_count": 1,
   "id": "8b7b195e-56be-4979-9d63-95c587e2a99e",
   "metadata": {},
   "outputs": [],
   "source": [
    "%load_ext autoreload\n",
    "%autoreload 2"
   ]
  },
  {
   "cell_type": "code",
   "execution_count": 2,
   "id": "94fde3b0-5ed5-4e14-be04-bacb5c2d2dba",
   "metadata": {},
   "outputs": [],
   "source": [
    "import numpy as np\n",
    "import pandas as pd\n",
    "import matplotlib as mpl\n",
    "import matplotlib.pyplot as plt\n",
    "import matplotlib.ticker as ticker\n",
    "import numba\n",
    "import numba.typed\n",
    "\n",
    "from pathlib import Path\n",
    "import tqdm\n",
    "import sys\n",
    "import seaborn as sns\n",
    "import scipy.stats\n",
    "import os\n",
    "import pysam\n",
    "import pprint\n",
    "import pickle\n",
    "import joblib\n",
    "import subprocess\n",
    "import polars as pl\n",
    "import io\n",
    "import itertools\n",
    "import warnings\n",
    "\n",
    "from brokenaxes import brokenaxes\n",
    "\n",
    "\n",
    "from adjustText import adjust_text\n",
    "\n",
    "\n",
    "# This is needed before pybedtools to make sure bedtools is imported on sanger JupyterHub \n",
    "os.environ[\"PATH\"] += \":\" + os.path.join(sys.prefix, \"bin\")\n",
    "import pybedtools\n",
    "\n",
    "pd.set_option('display.max_rows', 1000)\n"
   ]
  },
  {
   "cell_type": "code",
   "execution_count": 3,
   "id": "c1cd8ac9-4f73-4d78-b2c1-b71569c47dc8",
   "metadata": {},
   "outputs": [],
   "source": [
    "sys.path.append(str(Path(os.getcwd()).parent))\n",
    "from src import liftover, annotate, diagnostics, inference"
   ]
  },
  {
   "cell_type": "code",
   "execution_count": 4,
   "id": "4a710b20-1459-4bc1-a0c4-af6e024992c5",
   "metadata": {},
   "outputs": [],
   "source": [
    "aut_chrom_names = [f\"chr{i}\" for i in list(range(1, 23))]\n",
    "chrom_names = aut_chrom_names + [\"chrX\", \"chrY\"]"
   ]
  },
  {
   "cell_type": "code",
   "execution_count": null,
   "id": "a0c398a4-f416-42ff-a0dc-dd03670272b2",
   "metadata": {},
   "outputs": [],
   "source": []
  },
  {
   "cell_type": "code",
   "execution_count": 5,
   "id": "f3520f1d-39a1-44fd-a59b-f8ce2ecdb1f5",
   "metadata": {},
   "outputs": [],
   "source": [
    "# Samples to do\n",
    "sample_ids = [\n",
    "    \"PD50477f\",\n",
    "    # \"PD50508bf\", -- ignore; merged two sampling dates just for phasing, but should be analyzed separately\n",
    "    \"PD50519d\",\n",
    "    # \"PD47269d\", -- don't use, not there\n",
    "    \"PD50508f\",\n",
    "    # \"PD50511e\", -- don't use, likely mixture\n",
    "    \"PD50523b\",\n",
    "    # \"PD48473b\", -- don't use, not there\n",
    "    \"PD50521b\",\n",
    "    \"PD50508b\",\n",
    "    # \"PD50521be\", -- ignore; merged two sampling dates just for phasing, but should be analyzed separately\n",
    "    \"PD46180c\",\n",
    "    # \"PD50502f\", -- don't use, likely mixture\n",
    "    \"PD50521e\",\n",
    "    # \"PD50511e_SS\",  --- don't use\n",
    "    \"PD50489e\",\n",
    "]\n",
    "\n"
   ]
  },
  {
   "cell_type": "markdown",
   "id": "a4d8f7f8-7984-4c45-9615-eb5bdf4e9780",
   "metadata": {},
   "source": [
    "# Add relevant fields to the dataframe of all reads"
   ]
  },
  {
   "cell_type": "markdown",
   "id": "bfb468ec-cd83-4227-9ee0-45b195c890d7",
   "metadata": {},
   "source": [
    "### Create reads dataframe"
   ]
  },
  {
   "cell_type": "code",
   "execution_count": 6,
   "id": "cf2d2599-ef6e-470b-ac89-c15baca59870",
   "metadata": {},
   "outputs": [
    {
     "name": "stderr",
     "output_type": "stream",
     "text": [
      "100%|██████████| 9/9 [05:40<00:00, 37.84s/it]\n"
     ]
    },
    {
     "name": "stdout",
     "output_type": "stream",
     "text": [
      "CPU times: user 1min 50s, sys: 49.7 s, total: 2min 40s\n",
      "Wall time: 6min\n"
     ]
    }
   ],
   "source": [
    "%%time\n",
    "reads_df = pl.concat([\n",
    "    pl.read_parquet(\n",
    "        f\"/lustre/scratch126/casm/team154pc/sl17/03.sperm/02.results/01.read_alignment/01.ccs/04.hifiasm/02.hifiasm_0.19.5-r592/02.chromosome_length_scaffolds/{focal_sample_id}/reads/{chrom}_RagTag.certainty_0.95.all_reads_structure_annotated.parquet\"\n",
    "    ).with_columns(sample_id = pl.lit(focal_sample_id)) \\\n",
    "        for focal_sample_id in tqdm.tqdm(sample_ids)\n",
    "        for chrom in aut_chrom_names\n",
    "])"
   ]
  },
  {
   "cell_type": "code",
   "execution_count": 7,
   "id": "fa5825fc-1f04-4cef-b65b-164221e0fa6d",
   "metadata": {},
   "outputs": [
    {
     "data": {
      "text/html": [
       "<div><style>\n",
       ".dataframe > thead > tr,\n",
       ".dataframe > tbody > tr {\n",
       "  text-align: right;\n",
       "  white-space: pre-wrap;\n",
       "}\n",
       "</style>\n",
       "<small>shape: (37_731_834, 60)</small><table border=\"1\" class=\"dataframe\"><thead><tr><th>read_name</th><th>read_length</th><th>mapq1</th><th>mapq2</th><th>is_forward1</th><th>is_forward2</th><th>total_mismatches</th><th>num_common_insertions</th><th>num_common_deletions</th><th>total_clipping</th><th>chrom</th><th>sample_id</th><th>grch37_chromosome_size_in_bp</th><th>high_quality_snp_positions</th><th>high_quality_snp_positions_alleles</th><th>mid_quality_snp_positions</th><th>mid_quality_snp_positions_alleles</th><th>CO_active_interval_start</th><th>CO_active_interval_end</th><th>NCO_active_interval_start</th><th>NCO_active_interval_end</th><th>mid_CO_active_interval_start</th><th>mid_CO_active_interval_end</th><th>mid_NCO_active_interval_start</th><th>mid_NCO_active_interval_end</th><th>CO_active_interval_length_bp</th><th>NCO_active_interval_length_bp</th><th>mid_CO_active_interval_length_bp</th><th>mid_NCO_active_interval_length_bp</th><th>grch37_reference_start</th><th>grch38_reference_start</th><th>grch37_reference_end</th><th>grch38_reference_end</th><th>grch37_reference_start_cM</th><th>grch37_reference_end_cM</th><th>CO_active_interval_start_cM</th><th>CO_active_interval_end_cM</th><th>NCO_active_interval_start_cM</th><th>NCO_active_interval_end_cM</th><th>mid_CO_active_interval_start_cM</th><th>mid_CO_active_interval_end_cM</th><th>mid_NCO_active_interval_start_cM</th><th>mid_NCO_active_interval_end_cM</th><th>full_read_crossover_prob</th><th>CO_active_interval_crossover_prob</th><th>NCO_active_interval_crossover_prob</th><th>mid_CO_active_interval_crossover_prob</th><th>mid_NCO_active_interval_crossover_prob</th><th>CO_prob_detection_full_read</th><th>NCO_prob_detection_full_read</th><th>CO_prob_detection_in_CO_active_interval</th><th>NCO_prob_detection_in_NCO_active_interval</th><th>NCO_prob_detection_in_CO_active_interval</th><th>AA_motif_center_pos</th><th>AA_heat</th><th>AA_motif_strand</th><th>CL4_motif_center_pos</th><th>CL4_heat</th><th>CL4_motif_strand</th><th>is_high_quality_read</th></tr><tr><td>str</td><td>i32</td><td>i32</td><td>i32</td><td>bool</td><td>bool</td><td>i64</td><td>u32</td><td>u32</td><td>i64</td><td>str</td><td>str</td><td>i32</td><td>list[i64]</td><td>list[i32]</td><td>list[i64]</td><td>list[i32]</td><td>i64</td><td>i64</td><td>i64</td><td>i64</td><td>i64</td><td>i64</td><td>i64</td><td>i64</td><td>i64</td><td>i64</td><td>i64</td><td>i64</td><td>i64</td><td>i64</td><td>i64</td><td>i64</td><td>f64</td><td>f64</td><td>f64</td><td>f64</td><td>f64</td><td>f64</td><td>f64</td><td>f64</td><td>f64</td><td>f64</td><td>f64</td><td>f64</td><td>f64</td><td>f64</td><td>f64</td><td>f64</td><td>f64</td><td>f64</td><td>f64</td><td>f64</td><td>i64</td><td>f64</td><td>i64</td><td>i64</td><td>f64</td><td>i64</td><td>bool</td></tr></thead><tbody><tr><td>&quot;m64178e_220829…</td><td>15601</td><td>60</td><td>60</td><td>false</td><td>false</td><td>9</td><td>28</td><td>39</td><td>0</td><td>&quot;chr1&quot;</td><td>&quot;PD50477f&quot;</td><td>249250621</td><td>[]</td><td>[]</td><td>[]</td><td>[]</td><td>null</td><td>null</td><td>null</td><td>null</td><td>null</td><td>null</td><td>null</td><td>null</td><td>null</td><td>null</td><td>null</td><td>null</td><td>57080451</td><td>56614778</td><td>57096052</td><td>56630379</td><td>59.516833</td><td>59.517527</td><td>null</td><td>null</td><td>null</td><td>null</td><td>null</td><td>null</td><td>null</td><td>null</td><td>0.000007</td><td>null</td><td>null</td><td>null</td><td>null</td><td>0.0</td><td>0.0</td><td>0.0</td><td>0.0</td><td>0.0</td><td>null</td><td>null</td><td>null</td><td>null</td><td>null</td><td>null</td><td>true</td></tr><tr><td>&quot;m64230e_220906…</td><td>18274</td><td>60</td><td>60</td><td>true</td><td>true</td><td>13</td><td>101</td><td>43</td><td>33</td><td>&quot;chr1&quot;</td><td>&quot;PD50477f&quot;</td><td>249250621</td><td>[]</td><td>[]</td><td>[]</td><td>[]</td><td>null</td><td>null</td><td>null</td><td>null</td><td>null</td><td>null</td><td>null</td><td>null</td><td>null</td><td>null</td><td>null</td><td>null</td><td>55655495</td><td>55189822</td><td>55673769</td><td>55208096</td><td>58.407468</td><td>58.411218</td><td>null</td><td>null</td><td>null</td><td>null</td><td>null</td><td>null</td><td>null</td><td>null</td><td>0.000037</td><td>null</td><td>null</td><td>null</td><td>null</td><td>0.0</td><td>0.0</td><td>0.0</td><td>0.0</td><td>0.0</td><td>55204177</td><td>24.277329</td><td>1</td><td>null</td><td>null</td><td>null</td><td>false</td></tr><tr><td>&quot;m64230e_220906…</td><td>12114</td><td>60</td><td>60</td><td>false</td><td>false</td><td>16</td><td>17</td><td>51</td><td>13</td><td>&quot;chr1&quot;</td><td>&quot;PD50477f&quot;</td><td>249250621</td><td>[]</td><td>[]</td><td>[]</td><td>[]</td><td>null</td><td>null</td><td>null</td><td>null</td><td>null</td><td>null</td><td>null</td><td>null</td><td>null</td><td>null</td><td>null</td><td>null</td><td>42122479</td><td>41656808</td><td>42134593</td><td>41668922</td><td>51.292737</td><td>51.292985</td><td>null</td><td>null</td><td>null</td><td>null</td><td>null</td><td>null</td><td>null</td><td>null</td><td>0.000002</td><td>null</td><td>null</td><td>null</td><td>null</td><td>0.0</td><td>0.0</td><td>0.0</td><td>0.0</td><td>0.0</td><td>41666050</td><td>7.942005</td><td>1</td><td>null</td><td>null</td><td>null</td><td>false</td></tr><tr><td>&quot;m64230e_220906…</td><td>14185</td><td>60</td><td>60</td><td>false</td><td>false</td><td>0</td><td>0</td><td>3</td><td>0</td><td>&quot;chr1&quot;</td><td>&quot;PD50477f&quot;</td><td>249250621</td><td>[1671, 1758, … 11753]</td><td>[0, 0, … 0]</td><td>[703, 1004, … 13494]</td><td>[0, 0, … 0]</td><td>1758</td><td>11327</td><td>1671</td><td>11753</td><td>1004</td><td>13436</td><td>703</td><td>13494</td><td>9569</td><td>10082</td><td>12432</td><td>12791</td><td>85897457</td><td>85431774</td><td>85911642</td><td>85445959</td><td>83.446421</td><td>83.446625</td><td>83.446443</td><td>83.446583</td><td>83.446442</td><td>83.446589</td><td>83.446434</td><td>83.446614</td><td>83.44643</td><td>83.446615</td><td>0.000002</td><td>0.000001</td><td>0.000001</td><td>0.000002</td><td>0.000002</td><td>0.674586</td><td>0.026743</td><td>1.0</td><td>0.037623</td><td>0.033568</td><td>85436768</td><td>34.824806</td><td>0</td><td>null</td><td>null</td><td>null</td><td>true</td></tr><tr><td>&quot;m64094e_220917…</td><td>14080</td><td>60</td><td>60</td><td>false</td><td>false</td><td>5</td><td>36</td><td>44</td><td>436</td><td>&quot;chr1&quot;</td><td>&quot;PD50477f&quot;</td><td>249250621</td><td>[10689]</td><td>[1]</td><td>[10689]</td><td>[1]</td><td>null</td><td>null</td><td>null</td><td>null</td><td>null</td><td>null</td><td>null</td><td>null</td><td>null</td><td>null</td><td>null</td><td>null</td><td>227673258</td><td>227485557</td><td>227687338</td><td>227499637</td><td>161.320179</td><td>161.324404</td><td>null</td><td>null</td><td>null</td><td>null</td><td>null</td><td>null</td><td>null</td><td>null</td><td>0.000042</td><td>null</td><td>null</td><td>null</td><td>null</td><td>0.0</td><td>0.0</td><td>0.0</td><td>0.0</td><td>0.0</td><td>null</td><td>null</td><td>null</td><td>null</td><td>null</td><td>null</td><td>false</td></tr><tr><td>&hellip;</td><td>&hellip;</td><td>&hellip;</td><td>&hellip;</td><td>&hellip;</td><td>&hellip;</td><td>&hellip;</td><td>&hellip;</td><td>&hellip;</td><td>&hellip;</td><td>&hellip;</td><td>&hellip;</td><td>&hellip;</td><td>&hellip;</td><td>&hellip;</td><td>&hellip;</td><td>&hellip;</td><td>&hellip;</td><td>&hellip;</td><td>&hellip;</td><td>&hellip;</td><td>&hellip;</td><td>&hellip;</td><td>&hellip;</td><td>&hellip;</td><td>&hellip;</td><td>&hellip;</td><td>&hellip;</td><td>&hellip;</td><td>&hellip;</td><td>&hellip;</td><td>&hellip;</td><td>&hellip;</td><td>&hellip;</td><td>&hellip;</td><td>&hellip;</td><td>&hellip;</td><td>&hellip;</td><td>&hellip;</td><td>&hellip;</td><td>&hellip;</td><td>&hellip;</td><td>&hellip;</td><td>&hellip;</td><td>&hellip;</td><td>&hellip;</td><td>&hellip;</td><td>&hellip;</td><td>&hellip;</td><td>&hellip;</td><td>&hellip;</td><td>&hellip;</td><td>&hellip;</td><td>&hellip;</td><td>&hellip;</td><td>&hellip;</td><td>&hellip;</td><td>&hellip;</td><td>&hellip;</td><td>&hellip;</td></tr><tr><td>&quot;m64094e_220717…</td><td>8261</td><td>60</td><td>60</td><td>false</td><td>false</td><td>0</td><td>0</td><td>0</td><td>0</td><td>&quot;chr22&quot;</td><td>&quot;PD50489e&quot;</td><td>51304566</td><td>[2155, 2795, … 5426]</td><td>[0, 0, … 0]</td><td>[2155, 2795, … 5426]</td><td>[0, 0, … 0]</td><td>2795</td><td>4944</td><td>2155</td><td>5426</td><td>2795</td><td>4944</td><td>2155</td><td>5426</td><td>2149</td><td>3271</td><td>2149</td><td>3271</td><td>35759495</td><td>35363502</td><td>35767756</td><td>35371763</td><td>28.088701</td><td>28.090478</td><td>28.089385</td><td>28.089752</td><td>28.089276</td><td>28.089834</td><td>28.089385</td><td>28.089752</td><td>28.089276</td><td>28.089834</td><td>0.000018</td><td>0.000004</td><td>0.000006</td><td>0.000004</td><td>0.000006</td><td>0.260138</td><td>0.018157</td><td>1.0</td><td>0.045843</td><td>0.041859</td><td>null</td><td>null</td><td>null</td><td>null</td><td>null</td><td>null</td><td>true</td></tr><tr><td>&quot;m64094e_220715…</td><td>9720</td><td>60</td><td>42</td><td>false</td><td>false</td><td>0</td><td>12</td><td>7</td><td>0</td><td>&quot;chr22&quot;</td><td>&quot;PD50489e&quot;</td><td>51304566</td><td>[1880, 3470, 3824]</td><td>[1, 1, 1]</td><td>[966, 1274, … 8567]</td><td>[1, 1, … 1]</td><td>null</td><td>null</td><td>1880</td><td>3824</td><td>1274</td><td>4775</td><td>966</td><td>8567</td><td>null</td><td>1944</td><td>3501</td><td>7601</td><td>16209642</td><td>15758609</td><td>16219362</td><td>15768329</td><td>0.0</td><td>0.0</td><td>null</td><td>null</td><td>0.0</td><td>0.0</td><td>0.0</td><td>0.0</td><td>0.0</td><td>0.0</td><td>0.0</td><td>null</td><td>0.0</td><td>0.0</td><td>0.0</td><td>0.0</td><td>0.003086</td><td>0.0</td><td>0.015424</td><td>0.0</td><td>null</td><td>null</td><td>null</td><td>null</td><td>null</td><td>null</td><td>false</td></tr><tr><td>&quot;m64174e_220620…</td><td>2567</td><td>60</td><td>60</td><td>true</td><td>true</td><td>0</td><td>0</td><td>0</td><td>0</td><td>&quot;chr22&quot;</td><td>&quot;PD50489e&quot;</td><td>51304566</td><td>[]</td><td>[]</td><td>[1143]</td><td>[1]</td><td>null</td><td>null</td><td>null</td><td>null</td><td>null</td><td>null</td><td>null</td><td>null</td><td>null</td><td>null</td><td>null</td><td>null</td><td>28202607</td><td>27806619</td><td>28205174</td><td>27809186</td><td>21.61303</td><td>21.613962</td><td>null</td><td>null</td><td>null</td><td>null</td><td>null</td><td>null</td><td>null</td><td>null</td><td>0.000009</td><td>null</td><td>null</td><td>null</td><td>null</td><td>0.0</td><td>0.0</td><td>0.0</td><td>0.0</td><td>0.0</td><td>null</td><td>null</td><td>null</td><td>null</td><td>null</td><td>null</td><td>true</td></tr><tr><td>&quot;m64094e_220715…</td><td>9208</td><td>60</td><td>60</td><td>false</td><td>false</td><td>0</td><td>64</td><td>0</td><td>5</td><td>&quot;chr22&quot;</td><td>&quot;PD50489e&quot;</td><td>51304566</td><td>[1887, 2597, … 7178]</td><td>[1, 1, … 1]</td><td>[1887, 2597, … 7178]</td><td>[1, 1, … 1]</td><td>2597</td><td>4903</td><td>1887</td><td>7178</td><td>2597</td><td>4903</td><td>1887</td><td>7178</td><td>2306</td><td>5291</td><td>2306</td><td>5291</td><td>33940036</td><td>33544050</td><td>33949244</td><td>33553258</td><td>25.52317</td><td>25.529493</td><td>25.528341</td><td>25.528836</td><td>25.528189</td><td>25.52913</td><td>25.528341</td><td>25.528836</td><td>25.528189</td><td>25.52913</td><td>0.000063</td><td>0.000005</td><td>0.000009</td><td>0.000005</td><td>0.000009</td><td>0.250434</td><td>0.02334</td><td>1.0</td><td>0.040612</td><td>0.067158</td><td>null</td><td>null</td><td>null</td><td>null</td><td>null</td><td>null</td><td>true</td></tr><tr><td>&quot;m64094e_220715…</td><td>15116</td><td>60</td><td>60</td><td>true</td><td>true</td><td>0</td><td>7</td><td>9</td><td>0</td><td>&quot;chr22&quot;</td><td>&quot;PD50489e&quot;</td><td>51304566</td><td>[4034, 5262, … 13334]</td><td>[0, 0, … 0]</td><td>[3023, 4034, … 13334]</td><td>[0, 0, … 0]</td><td>5262</td><td>12798</td><td>4034</td><td>13334</td><td>4034</td><td>12798</td><td>3023</td><td>13334</td><td>7536</td><td>9300</td><td>8764</td><td>10311</td><td>35995868</td><td>35599821</td><td>36010984</td><td>35614937</td><td>28.370853</td><td>28.372507</td><td>28.371242</td><td>28.372309</td><td>28.371094</td><td>28.372355</td><td>28.371094</td><td>28.372309</td><td>28.371033</td><td>28.372355</td><td>0.000017</td><td>0.000011</td><td>0.000013</td><td>0.000012</td><td>0.000013</td><td>0.498545</td><td>0.025873</td><td>1.0</td><td>0.042049</td><td>0.044083</td><td>null</td><td>null</td><td>null</td><td>null</td><td>null</td><td>null</td><td>true</td></tr></tbody></table></div>"
      ],
      "text/plain": [
       "shape: (37_731_834, 60)\n",
       "┌─────────────┬─────────────┬───────┬───────┬───┬─────────────┬──────────┬────────────┬────────────┐\n",
       "│ read_name   ┆ read_length ┆ mapq1 ┆ mapq2 ┆ … ┆ CL4_motif_c ┆ CL4_heat ┆ CL4_motif_ ┆ is_high_qu │\n",
       "│ ---         ┆ ---         ┆ ---   ┆ ---   ┆   ┆ enter_pos   ┆ ---      ┆ strand     ┆ ality_read │\n",
       "│ str         ┆ i32         ┆ i32   ┆ i32   ┆   ┆ ---         ┆ f64      ┆ ---        ┆ ---        │\n",
       "│             ┆             ┆       ┆       ┆   ┆ i64         ┆          ┆ i64        ┆ bool       │\n",
       "╞═════════════╪═════════════╪═══════╪═══════╪═══╪═════════════╪══════════╪════════════╪════════════╡\n",
       "│ m64178e_220 ┆ 15601       ┆ 60    ┆ 60    ┆ … ┆ null        ┆ null     ┆ null       ┆ true       │\n",
       "│ 829_002441/ ┆             ┆       ┆       ┆   ┆             ┆          ┆            ┆            │\n",
       "│ 31917701/c… ┆             ┆       ┆       ┆   ┆             ┆          ┆            ┆            │\n",
       "│ m64230e_220 ┆ 18274       ┆ 60    ┆ 60    ┆ … ┆ null        ┆ null     ┆ null       ┆ false      │\n",
       "│ 906_003948/ ┆             ┆       ┆       ┆   ┆             ┆          ┆            ┆            │\n",
       "│ 8128517/cc… ┆             ┆       ┆       ┆   ┆             ┆          ┆            ┆            │\n",
       "│ m64230e_220 ┆ 12114       ┆ 60    ┆ 60    ┆ … ┆ null        ┆ null     ┆ null       ┆ false      │\n",
       "│ 906_003948/ ┆             ┆       ┆       ┆   ┆             ┆          ┆            ┆            │\n",
       "│ 107806804/… ┆             ┆       ┆       ┆   ┆             ┆          ┆            ┆            │\n",
       "│ m64230e_220 ┆ 14185       ┆ 60    ┆ 60    ┆ … ┆ null        ┆ null     ┆ null       ┆ true       │\n",
       "│ 906_003948/ ┆             ┆       ┆       ┆   ┆             ┆          ┆            ┆            │\n",
       "│ 27853954/c… ┆             ┆       ┆       ┆   ┆             ┆          ┆            ┆            │\n",
       "│ m64094e_220 ┆ 14080       ┆ 60    ┆ 60    ┆ … ┆ null        ┆ null     ┆ null       ┆ false      │\n",
       "│ 917_231317/ ┆             ┆       ┆       ┆   ┆             ┆          ┆            ┆            │\n",
       "│ 171508784/… ┆             ┆       ┆       ┆   ┆             ┆          ┆            ┆            │\n",
       "│ …           ┆ …           ┆ …     ┆ …     ┆ … ┆ …           ┆ …        ┆ …          ┆ …          │\n",
       "│ m64094e_220 ┆ 8261        ┆ 60    ┆ 60    ┆ … ┆ null        ┆ null     ┆ null       ┆ true       │\n",
       "│ 717_002414/ ┆             ┆       ┆       ┆   ┆             ┆          ┆            ┆            │\n",
       "│ 98962075/c… ┆             ┆       ┆       ┆   ┆             ┆          ┆            ┆            │\n",
       "│ m64094e_220 ┆ 9720        ┆ 60    ┆ 42    ┆ … ┆ null        ┆ null     ┆ null       ┆ false      │\n",
       "│ 715_151527/ ┆             ┆       ┆       ┆   ┆             ┆          ┆            ┆            │\n",
       "│ 55837634/c… ┆             ┆       ┆       ┆   ┆             ┆          ┆            ┆            │\n",
       "│ m64174e_220 ┆ 2567        ┆ 60    ┆ 60    ┆ … ┆ null        ┆ null     ┆ null       ┆ true       │\n",
       "│ 620_110709/ ┆             ┆       ┆       ┆   ┆             ┆          ┆            ┆            │\n",
       "│ 88345123/c… ┆             ┆       ┆       ┆   ┆             ┆          ┆            ┆            │\n",
       "│ m64094e_220 ┆ 9208        ┆ 60    ┆ 60    ┆ … ┆ null        ┆ null     ┆ null       ┆ true       │\n",
       "│ 715_151527/ ┆             ┆       ┆       ┆   ┆             ┆          ┆            ┆            │\n",
       "│ 169478064/… ┆             ┆       ┆       ┆   ┆             ┆          ┆            ┆            │\n",
       "│ m64094e_220 ┆ 15116       ┆ 60    ┆ 60    ┆ … ┆ null        ┆ null     ┆ null       ┆ true       │\n",
       "│ 715_151527/ ┆             ┆       ┆       ┆   ┆             ┆          ┆            ┆            │\n",
       "│ 122095502/… ┆             ┆       ┆       ┆   ┆             ┆          ┆            ┆            │\n",
       "└─────────────┴─────────────┴───────┴───────┴───┴─────────────┴──────────┴────────────┴────────────┘"
      ]
     },
     "execution_count": 7,
     "metadata": {},
     "output_type": "execute_result"
    }
   ],
   "source": [
    "reads_df"
   ]
  },
  {
   "cell_type": "code",
   "execution_count": 8,
   "id": "f382da3e-a711-4315-ae71-54a5ae019b97",
   "metadata": {},
   "outputs": [
    {
     "data": {
      "text/plain": [
       "['read_name',\n",
       " 'read_length',\n",
       " 'mapq1',\n",
       " 'mapq2',\n",
       " 'is_forward1',\n",
       " 'is_forward2',\n",
       " 'total_mismatches',\n",
       " 'num_common_insertions',\n",
       " 'num_common_deletions',\n",
       " 'total_clipping',\n",
       " 'chrom',\n",
       " 'sample_id',\n",
       " 'grch37_chromosome_size_in_bp',\n",
       " 'high_quality_snp_positions',\n",
       " 'high_quality_snp_positions_alleles',\n",
       " 'mid_quality_snp_positions',\n",
       " 'mid_quality_snp_positions_alleles',\n",
       " 'CO_active_interval_start',\n",
       " 'CO_active_interval_end',\n",
       " 'NCO_active_interval_start',\n",
       " 'NCO_active_interval_end',\n",
       " 'mid_CO_active_interval_start',\n",
       " 'mid_CO_active_interval_end',\n",
       " 'mid_NCO_active_interval_start',\n",
       " 'mid_NCO_active_interval_end',\n",
       " 'CO_active_interval_length_bp',\n",
       " 'NCO_active_interval_length_bp',\n",
       " 'mid_CO_active_interval_length_bp',\n",
       " 'mid_NCO_active_interval_length_bp',\n",
       " 'grch37_reference_start',\n",
       " 'grch38_reference_start',\n",
       " 'grch37_reference_end',\n",
       " 'grch38_reference_end',\n",
       " 'grch37_reference_start_cM',\n",
       " 'grch37_reference_end_cM',\n",
       " 'CO_active_interval_start_cM',\n",
       " 'CO_active_interval_end_cM',\n",
       " 'NCO_active_interval_start_cM',\n",
       " 'NCO_active_interval_end_cM',\n",
       " 'mid_CO_active_interval_start_cM',\n",
       " 'mid_CO_active_interval_end_cM',\n",
       " 'mid_NCO_active_interval_start_cM',\n",
       " 'mid_NCO_active_interval_end_cM',\n",
       " 'full_read_crossover_prob',\n",
       " 'CO_active_interval_crossover_prob',\n",
       " 'NCO_active_interval_crossover_prob',\n",
       " 'mid_CO_active_interval_crossover_prob',\n",
       " 'mid_NCO_active_interval_crossover_prob',\n",
       " 'CO_prob_detection_full_read',\n",
       " 'NCO_prob_detection_full_read',\n",
       " 'CO_prob_detection_in_CO_active_interval',\n",
       " 'NCO_prob_detection_in_NCO_active_interval',\n",
       " 'NCO_prob_detection_in_CO_active_interval',\n",
       " 'AA_motif_center_pos',\n",
       " 'AA_heat',\n",
       " 'AA_motif_strand',\n",
       " 'CL4_motif_center_pos',\n",
       " 'CL4_heat',\n",
       " 'CL4_motif_strand',\n",
       " 'is_high_quality_read']"
      ]
     },
     "execution_count": 8,
     "metadata": {},
     "output_type": "execute_result"
    }
   ],
   "source": [
    "reads_df.columns"
   ]
  },
  {
   "cell_type": "markdown",
   "id": "a34f647c-3c69-4f4e-8d88-2d4621810924",
   "metadata": {},
   "source": [
    "### Subset of reads with at least 5 SNPs"
   ]
  },
  {
   "cell_type": "code",
   "execution_count": 9,
   "id": "d0d7e547-bdc0-4f0a-9260-72475ba2c38a",
   "metadata": {},
   "outputs": [],
   "source": [
    "dense_reads_df = (reads_df\n",
    "    .filter(pl.col(\"high_quality_snp_positions\").list.len() >= 5)\n",
    "    .filter(\"is_high_quality_read\")\n",
    "    .filter(pl.col(\"CO_active_interval_crossover_prob\") > 0)\n",
    ")"
   ]
  },
  {
   "cell_type": "markdown",
   "id": "36581fc5-fb90-4505-b44a-7a38b606c920",
   "metadata": {},
   "source": [
    "# Are cM rates and SNP patterns correlated?"
   ]
  },
  {
   "cell_type": "markdown",
   "id": "ba95a344-58af-42be-a7e2-77e9c7c7e314",
   "metadata": {},
   "source": [
    "### Not normalizing for active interval length"
   ]
  },
  {
   "cell_type": "code",
   "execution_count": 10,
   "id": "98646b61-22f2-4833-9a0d-4ae41760b2ee",
   "metadata": {},
   "outputs": [
    {
     "data": {
      "text/plain": [
       "<Axes: xlabel='CO_active_interval_crossover_prob', ylabel='NCO_prob_detection_in_CO_active_interval'>"
      ]
     },
     "execution_count": 10,
     "metadata": {},
     "output_type": "execute_result"
    },
    {
     "data": {
      "image/png": "[encoded data removed]",
      "text/plain": [
       "<Figure size 640x480 with 1 Axes>"
      ]
     },
     "metadata": {},
     "output_type": "display_data"
    }
   ],
   "source": [
    "sns.histplot(\n",
    "    (dense_reads_df\n",
    "        .select(\n",
    "            pl.col(\"CO_active_interval_crossover_prob\").log10(), \n",
    "            pl.col(\"NCO_prob_detection_in_CO_active_interval\").log10(),\n",
    "        )\n",
    "    ),\n",
    "    x=\"CO_active_interval_crossover_prob\",\n",
    "    y=\"NCO_prob_detection_in_CO_active_interval\",\n",
    "    bins=50, \n",
    ")"
   ]
  },
  {
   "cell_type": "code",
   "execution_count": 11,
   "id": "43898425-8c3b-4c57-b59e-2717dde73a7d",
   "metadata": {},
   "outputs": [
    {
     "data": {
      "text/plain": [
       "PearsonRResult(statistic=0.027719192373235762, pvalue=0.0)"
      ]
     },
     "execution_count": 11,
     "metadata": {},
     "output_type": "execute_result"
    }
   ],
   "source": [
    "scipy.stats.pearsonr(*(dense_reads_df\n",
    "        .select(\n",
    "            pl.col(\"CO_active_interval_crossover_prob\").log10(), \n",
    "            pl.col(\"NCO_prob_detection_in_CO_active_interval\").log10(),\n",
    "        )\n",
    "    ).to_numpy().T\n",
    ")"
   ]
  },
  {
   "cell_type": "code",
   "execution_count": 12,
   "id": "f5d6eb25-6196-4845-ad26-0b811f6df118",
   "metadata": {},
   "outputs": [
    {
     "data": {
      "image/png": "[encoded data removed]",
      "text/plain": [
       "<Figure size 600x500 with 1 Axes>"
      ]
     },
     "metadata": {},
     "output_type": "display_data"
    }
   ],
   "source": [
    "fig, ax = plt.subplots(figsize=(6,5))\n",
    "\n",
    "sns.histplot(\n",
    "    (dense_reads_df\n",
    "        .select(\n",
    "            (pl.col(\"CO_active_interval_crossover_prob\") / pl.col(\"CO_active_interval_length_bp\")).log10().alias(\"CO_active_interval_cM_rate\"), \n",
    "            (pl.col(\"NCO_prob_detection_in_CO_active_interval\") / pl.col(\"CO_active_interval_length_bp\")).log10().alias(\"NCO_prob_detection_rate\"),\n",
    "        )\n",
    "    ),\n",
    "    x=\"CO_active_interval_cM_rate\",\n",
    "    y=\"NCO_prob_detection_rate\",\n",
    "    bins=50, \n",
    "    ax=ax,\n",
    ")\n",
    "\n",
    "ax.set_xlabel(\"$\\log10(L_i/N_i)$\");\n",
    "ax.set_ylabel(\"$\\log10(f_i/N_i)$\");"
   ]
  },
  {
   "cell_type": "code",
   "execution_count": 13,
   "id": "07b67afb-286a-4e50-b897-85423537df6c",
   "metadata": {},
   "outputs": [
    {
     "ename": "ColumnNotFoundError",
     "evalue": "CO_active_interval_start_length_bp",
     "output_type": "error",
     "traceback": [
      "\u001b[0;31m---------------------------------------------------------------------------\u001b[0m",
      "\u001b[0;31mColumnNotFoundError\u001b[0m                       Traceback (most recent call last)",
      "Cell \u001b[0;32mIn[13], line 2\u001b[0m\n\u001b[1;32m      1\u001b[0m scipy\u001b[38;5;241m.\u001b[39mstats\u001b[38;5;241m.\u001b[39mpearsonr(\u001b[38;5;241m*\u001b[39m(\u001b[43mdense_reads_df\u001b[49m\n\u001b[0;32m----> 2\u001b[0m \u001b[43m    \u001b[49m\u001b[38;5;241;43m.\u001b[39;49m\u001b[43mselect\u001b[49m\u001b[43m(\u001b[49m\n\u001b[1;32m      3\u001b[0m \u001b[43m        \u001b[49m\u001b[43m(\u001b[49m\u001b[43mpl\u001b[49m\u001b[38;5;241;43m.\u001b[39;49m\u001b[43mcol\u001b[49m\u001b[43m(\u001b[49m\u001b[38;5;124;43m\"\u001b[39;49m\u001b[38;5;124;43mCO_active_interval_crossover_prob\u001b[39;49m\u001b[38;5;124;43m\"\u001b[39;49m\u001b[43m)\u001b[49m\u001b[43m \u001b[49m\u001b[38;5;241;43m/\u001b[39;49m\u001b[43m \u001b[49m\u001b[43mpl\u001b[49m\u001b[38;5;241;43m.\u001b[39;49m\u001b[43mcol\u001b[49m\u001b[43m(\u001b[49m\u001b[38;5;124;43m\"\u001b[39;49m\u001b[38;5;124;43mCO_active_interval_start_length_bp\u001b[39;49m\u001b[38;5;124;43m\"\u001b[39;49m\u001b[43m)\u001b[49m\u001b[43m)\u001b[49m\u001b[38;5;241;43m.\u001b[39;49m\u001b[43mlog10\u001b[49m\u001b[43m(\u001b[49m\u001b[43m)\u001b[49m\u001b[38;5;241;43m.\u001b[39;49m\u001b[43malias\u001b[49m\u001b[43m(\u001b[49m\u001b[38;5;124;43m\"\u001b[39;49m\u001b[38;5;124;43mCO_active_interval_cM_rate\u001b[39;49m\u001b[38;5;124;43m\"\u001b[39;49m\u001b[43m)\u001b[49m\u001b[43m,\u001b[49m\u001b[43m \u001b[49m\n\u001b[1;32m      4\u001b[0m \u001b[43m        \u001b[49m\u001b[43m(\u001b[49m\u001b[43mpl\u001b[49m\u001b[38;5;241;43m.\u001b[39;49m\u001b[43mcol\u001b[49m\u001b[43m(\u001b[49m\u001b[38;5;124;43m\"\u001b[39;49m\u001b[38;5;124;43mNCO_prob_detection_in_CO_active_interval\u001b[39;49m\u001b[38;5;124;43m\"\u001b[39;49m\u001b[43m)\u001b[49m\u001b[43m \u001b[49m\u001b[38;5;241;43m/\u001b[39;49m\u001b[43m \u001b[49m\u001b[43mpl\u001b[49m\u001b[38;5;241;43m.\u001b[39;49m\u001b[43mcol\u001b[49m\u001b[43m(\u001b[49m\u001b[38;5;124;43m\"\u001b[39;49m\u001b[38;5;124;43mCO_active_interval_start_length_bp\u001b[39;49m\u001b[38;5;124;43m\"\u001b[39;49m\u001b[43m)\u001b[49m\u001b[43m)\u001b[49m\u001b[38;5;241;43m.\u001b[39;49m\u001b[43mlog10\u001b[49m\u001b[43m(\u001b[49m\u001b[43m)\u001b[49m\u001b[38;5;241;43m.\u001b[39;49m\u001b[43malias\u001b[49m\u001b[43m(\u001b[49m\u001b[38;5;124;43m\"\u001b[39;49m\u001b[38;5;124;43mNCO_prob_detection_rate\u001b[39;49m\u001b[38;5;124;43m\"\u001b[39;49m\u001b[43m)\u001b[49m\u001b[43m,\u001b[49m\n\u001b[1;32m      5\u001b[0m \u001b[43m    \u001b[49m\u001b[43m)\u001b[49m\n\u001b[1;32m      6\u001b[0m     )\u001b[38;5;241m.\u001b[39mto_numpy()\u001b[38;5;241m.\u001b[39mT\n\u001b[1;32m      7\u001b[0m )\n",
      "File \u001b[0;32m/nfs/treeoflife-01/teams/tola/users/rs42/miniconda3/envs/sperm/lib/python3.11/site-packages/polars/dataframe/frame.py:8128\u001b[0m, in \u001b[0;36mDataFrame.select\u001b[0;34m(self, *exprs, **named_exprs)\u001b[0m\n\u001b[1;32m   8028\u001b[0m \u001b[38;5;28;01mdef\u001b[39;00m \u001b[38;5;21mselect\u001b[39m(\n\u001b[1;32m   8029\u001b[0m     \u001b[38;5;28mself\u001b[39m, \u001b[38;5;241m*\u001b[39mexprs: IntoExpr \u001b[38;5;241m|\u001b[39m Iterable[IntoExpr], \u001b[38;5;241m*\u001b[39m\u001b[38;5;241m*\u001b[39mnamed_exprs: IntoExpr\n\u001b[1;32m   8030\u001b[0m ) \u001b[38;5;241m-\u001b[39m\u001b[38;5;241m>\u001b[39m DataFrame:\n\u001b[1;32m   8031\u001b[0m \u001b[38;5;250m    \u001b[39m\u001b[38;5;124;03m\"\"\"\u001b[39;00m\n\u001b[1;32m   8032\u001b[0m \u001b[38;5;124;03m    Select columns from this DataFrame.\u001b[39;00m\n\u001b[1;32m   8033\u001b[0m \n\u001b[0;32m   (...)\u001b[0m\n\u001b[1;32m   8126\u001b[0m \u001b[38;5;124;03m    └───────────┘\u001b[39;00m\n\u001b[1;32m   8127\u001b[0m \u001b[38;5;124;03m    \"\"\"\u001b[39;00m\n\u001b[0;32m-> 8128\u001b[0m     \u001b[38;5;28;01mreturn\u001b[39;00m \u001b[38;5;28;43mself\u001b[39;49m\u001b[38;5;241;43m.\u001b[39;49m\u001b[43mlazy\u001b[49m\u001b[43m(\u001b[49m\u001b[43m)\u001b[49m\u001b[38;5;241;43m.\u001b[39;49m\u001b[43mselect\u001b[49m\u001b[43m(\u001b[49m\u001b[38;5;241;43m*\u001b[39;49m\u001b[43mexprs\u001b[49m\u001b[43m,\u001b[49m\u001b[43m \u001b[49m\u001b[38;5;241;43m*\u001b[39;49m\u001b[38;5;241;43m*\u001b[39;49m\u001b[43mnamed_exprs\u001b[49m\u001b[43m)\u001b[49m\u001b[38;5;241;43m.\u001b[39;49m\u001b[43mcollect\u001b[49m\u001b[43m(\u001b[49m\u001b[43m_eager\u001b[49m\u001b[38;5;241;43m=\u001b[39;49m\u001b[38;5;28;43;01mTrue\u001b[39;49;00m\u001b[43m)\u001b[49m\n",
      "File \u001b[0;32m/nfs/treeoflife-01/teams/tola/users/rs42/miniconda3/envs/sperm/lib/python3.11/site-packages/polars/lazyframe/frame.py:1939\u001b[0m, in \u001b[0;36mLazyFrame.collect\u001b[0;34m(self, type_coercion, predicate_pushdown, projection_pushdown, simplify_expression, slice_pushdown, comm_subplan_elim, comm_subexpr_elim, no_optimization, streaming, background, _eager)\u001b[0m\n\u001b[1;32m   1936\u001b[0m \u001b[38;5;28;01mif\u001b[39;00m background:\n\u001b[1;32m   1937\u001b[0m     \u001b[38;5;28;01mreturn\u001b[39;00m InProcessQuery(ldf\u001b[38;5;241m.\u001b[39mcollect_concurrently())\n\u001b[0;32m-> 1939\u001b[0m \u001b[38;5;28;01mreturn\u001b[39;00m wrap_df(ldf\u001b[38;5;241m.\u001b[39mcollect())\n",
      "\u001b[0;31mColumnNotFoundError\u001b[0m: CO_active_interval_start_length_bp"
     ]
    }
   ],
   "source": [
    "scipy.stats.pearsonr(*(dense_reads_df\n",
    "    .select(\n",
    "        (pl.col(\"CO_active_interval_crossover_prob\") / pl.col(\"CO_active_interval_start_length_bp\")).log10().alias(\"CO_active_interval_cM_rate\"), \n",
    "        (pl.col(\"NCO_prob_detection_in_CO_active_interval\") / pl.col(\"CO_active_interval_start_length_bp\")).log10().alias(\"NCO_prob_detection_rate\"),\n",
    "    )\n",
    "    ).to_numpy().T\n",
    ")"
   ]
  },
  {
   "cell_type": "code",
   "execution_count": null,
   "id": "e1de16c3-374e-43f6-aa6d-fb72a4a6da3f",
   "metadata": {},
   "outputs": [],
   "source": [
    "df = (dense_reads_df\n",
    "    .select(\n",
    "        (pl.col(\"CO_active_interval_crossover_prob\") / pl.col(\"CO_active_interval_start_length_bp\")).log10().alias(\"CO_active_interval_cM_rate\"), \n",
    "        (pl.col(\"NCO_prob_detection_in_CO_active_interval\") / pl.col(\"CO_active_interval_start_length_bp\")).log10().alias(\"NCO_prob_detection_rate\"),\n",
    "    )\n",
    ")\n",
    "\n",
    "scipy.stats.linregress(y=df[\"NCO_prob_detection_rate\"], x=df[\"CO_active_interval_cM_rate\"])"
   ]
  },
  {
   "cell_type": "code",
   "execution_count": null,
   "id": "c2e9989e-25c2-48ee-b0a6-162f23345ddc",
   "metadata": {},
   "outputs": [],
   "source": [
    "10**0.019774522396442333"
   ]
  },
  {
   "cell_type": "code",
   "execution_count": null,
   "id": "0cadc2b0-eb76-418a-98db-2703ec24c6f9",
   "metadata": {},
   "outputs": [],
   "source": [
    "df = (dense_reads_df\n",
    "    .select(\n",
    "        (pl.col(\"CO_active_interval_crossover_prob\") / pl.col(\"CO_active_interval_start_length_bp\")).log10().alias(\"CO_active_interval_cM_rate\"), \n",
    "        pl.col(\"high_quality_snp_positions\").list.len().alias(\"n_snps\"),\n",
    "    )\n",
    ")\n",
    "\n",
    "scipy.stats.linregress(y=df[\"n_snps\"], x=df[\"CO_active_interval_cM_rate\"])"
   ]
  },
  {
   "cell_type": "code",
   "execution_count": null,
   "id": "8ee0f5e5-7f25-4d76-9b80-b2b160104593",
   "metadata": {},
   "outputs": [],
   "source": []
  },
  {
   "cell_type": "code",
   "execution_count": null,
   "id": "939a9dd7-f47a-40e0-a3c2-411d18074bce",
   "metadata": {},
   "outputs": [],
   "source": []
  },
  {
   "cell_type": "markdown",
   "id": "ee5fc93a-2a00-4c6d-bb76-650d07fdae6d",
   "metadata": {},
   "source": [
    "# Cross with recombinant reads"
   ]
  },
  {
   "cell_type": "code",
   "execution_count": null,
   "id": "ce684ab8-8b8f-414c-9754-82d84a9778ab",
   "metadata": {},
   "outputs": [],
   "source": [
    "cls_df = pl.concat([\n",
    "    pl.read_parquet(\n",
    "        str(Path(\"/lustre/scratch126/casm/team154pc/sl17/03.sperm/02.results/01.read_alignment/01.ccs/04.hifiasm/02.hifiasm_0.19.5-r592/02.chromosome_length_scaffolds\")\n",
    "            / f\"{focal_sample_id}\" / \"reads\" / f\"{chrom}_RagTag.certainty_0.95.classified_reads.parquet\")\n",
    "    ) \\\n",
    "    for focal_sample_id in sample_ids\n",
    "    for chrom in aut_chrom_names\n",
    "])\n",
    "\n",
    "basic_filtering = \\\n",
    "    (~pl.col(\"has_common_transition\")) & \\\n",
    "    (pl.col(\"min_coverage_between_transitions_hap1\") >= 3) & \\\n",
    "    (pl.col(\"min_coverage_between_transitions_hap2\") >= 3) & \\\n",
    "    (pl.col(\"mapq1\") >= 60) & \\\n",
    "    (pl.col(\"mapq2\") >= 60) & \\\n",
    "    (pl.col(\"is_forward1\") == pl.col(\"is_forward2\"))\n",
    "\n",
    "extra_filtering = \\\n",
    "    (pl.col(\"total_mismatches\") <= 100) & \\\n",
    "    (pl.col(\"total_clipping\") <= 10)\n",
    "\n",
    "very_trusty_cls_df = cls_df.filter(basic_filtering & extra_filtering)\n"
   ]
  },
  {
   "cell_type": "markdown",
   "id": "56fb4308-ab1a-478d-9ed5-ea7a707d3905",
   "metadata": {},
   "source": [
    "### Re-call the class only on high quality SNPs, only in the active region, but use the filtering of reads to avoid problems like fake COs from low coverage etc."
   ]
  },
  {
   "cell_type": "code",
   "execution_count": null,
   "id": "038b60e9-5246-42c1-b4a8-81094c50d8e2",
   "metadata": {},
   "outputs": [],
   "source": [
    "dense_reads_with_detection_df = (dense_reads_df\n",
    "    .join(\n",
    "        very_trusty_cls_df.select(\"read_name\", \"class\"),\n",
    "        on=\"read_name\",\n",
    "        how=\"left\",\n",
    "    )                  \n",
    ")\n",
    "\n",
    "dense_reads_with_detection_df = (dense_reads_df    \n",
    "    .join(\n",
    "        (dense_reads_with_detection_df\n",
    "            .with_columns(\n",
    "                high_quality_snps_diff = pl.col(\"high_quality_snp_positions_alleles\").list.diff(null_behavior=\"drop\"),\n",
    "            )\n",
    "            .with_columns(\n",
    "                high_quality_snps_transitions = pl.col(\"high_quality_snps_diff\").list.eval(pl.element() != 0).cast(pl.List(int)),        \n",
    "            )\n",
    "            .with_columns(\n",
    "                high_quality_detected_class = pl.when( \n",
    "                    (pl.col(\"class\").is_not_null()) &\n",
    "                    (pl.col(\"high_quality_snp_positions_alleles\").list.get(0) == pl.col(\"high_quality_snp_positions_alleles\").list.get(1)) &\n",
    "                    (pl.col(\"high_quality_snp_positions_alleles\").list.get(-1) == pl.col(\"high_quality_snp_positions_alleles\").list.get(-2))\n",
    "                ).then(\n",
    "                    pl.when(\n",
    "                        pl.col(\"high_quality_snps_transitions\").list.sum() == 1\n",
    "                    ).then(\n",
    "                        pl.lit(\"CO\")\n",
    "                    ).when(\n",
    "                        pl.col(\"high_quality_snps_transitions\").list.sum() == 2\n",
    "                    ).then(\n",
    "                        pl.lit(\"NCO\")\n",
    "                    )\n",
    "                )\n",
    "            )\n",
    "            .select(\"read_name\", \"high_quality_detected_class\")\n",
    "        ),\n",
    "        on=\"read_name\",\n",
    "    )        \n",
    ")                                 "
   ]
  },
  {
   "cell_type": "markdown",
   "id": "12b988b0-a58b-4610-847e-2c0270dd2414",
   "metadata": {},
   "source": [
    "# Test 1: Assume independence between active interval genetic lengths and detected event"
   ]
  },
  {
   "cell_type": "markdown",
   "id": "48979505-8e80-441e-9a4d-36033225b398",
   "metadata": {},
   "source": [
    "## Test across all data"
   ]
  },
  {
   "cell_type": "code",
   "execution_count": null,
   "id": "167cb2cb-71d5-4d8c-ad11-65543d6c467d",
   "metadata": {},
   "outputs": [],
   "source": [
    "df = (dense_reads_with_detection_df\n",
    "    .filter(pl.col(\"high_quality_detected_class\").is_not_null())\n",
    "    .select(\n",
    "        \"CO_active_interval_crossover_prob\",\n",
    "        \"high_quality_detected_class\",\n",
    "    )\n",
    ")\n",
    " \n",
    "CO_lens = df.filter(pl.col(\"high_quality_detected_class\") == \"CO\")[\"CO_active_interval_crossover_prob\"] * 1e2\n",
    "NCO_lens = df.filter(pl.col(\"high_quality_detected_class\") == \"NCO\")[\"CO_active_interval_crossover_prob\"] * 1e2\n",
    "all_lens = (dense_reads_with_detection_df\n",
    "    .filter(pl.col(\"CO_active_interval_crossover_prob\") > 0)\n",
    "    .sample(fraction=1e-3)\n",
    "    [\"CO_active_interval_crossover_prob\"] * 1e2\n",
    ")"
   ]
  },
  {
   "cell_type": "code",
   "execution_count": null,
   "id": "e7b43641-9514-4399-a244-046bab9f8c6c",
   "metadata": {},
   "outputs": [],
   "source": [
    "fig, ax = plt.subplots(figsize=(10,5))\n",
    "\n",
    "sns.histplot(\n",
    "    [\n",
    "        pd.Series(CO_lens, name=\"CO\"),\n",
    "        pd.Series(NCO_lens, name=\"NCO\"),\n",
    "        pd.Series(all_lens, name=\"All reads\"),\n",
    "    ], \n",
    "    bins=25, #np.linspace(0, 2, 25),\n",
    "    multiple=\"dodge\",\n",
    "    shrink=0.8,\n",
    "    stat=\"proportion\",\n",
    "    common_norm=False,\n",
    "    ax=ax,\n",
    ")\n",
    "\n",
    "#plt.yscale(\"log\");\n",
    "#plt.ylim(0,0.05);\n",
    "plt.xlabel(\"Active interval genetic length (cM)\");\n"
   ]
  },
  {
   "cell_type": "code",
   "execution_count": null,
   "id": "106d13e4-8c73-4051-8cf6-7bc9b53b67f8",
   "metadata": {},
   "outputs": [],
   "source": [
    "fig, ax = plt.subplots(figsize=(10,5))\n",
    "\n",
    "sns.histplot(\n",
    "    [\n",
    "        pd.Series(np.log10(CO_lens), name=\"CO\"),\n",
    "        pd.Series(np.log10(NCO_lens), name=\"NCO\"),\n",
    "        pd.Series(np.log10(all_lens), name=\"All reads\"),\n",
    "    ], \n",
    "    bins=25, #np.linspace(0, 2, 25),\n",
    "    multiple=\"dodge\",\n",
    "    shrink=0.8,\n",
    "    stat=\"proportion\",\n",
    "    common_norm=False,\n",
    "    ax=ax,\n",
    ")\n",
    "\n",
    "#plt.yscale(\"log\");\n",
    "#plt.ylim(0,0.05);\n",
    "plt.xlabel(\"Active interval genetic length, log10(cM)\");\n"
   ]
  },
  {
   "cell_type": "code",
   "execution_count": null,
   "id": "7dea52a7-a17e-4ff7-82a9-7a983839e6a0",
   "metadata": {},
   "outputs": [],
   "source": [
    "df = (dense_reads_with_detection_df\n",
    "    .filter(pl.col(\"high_quality_detected_class\").is_not_null())\n",
    "    .select(\n",
    "        \"CO_active_interval_crossover_prob\",\n",
    "        \"high_quality_detected_class\",\n",
    "        \"CO_active_interval_start_length_bp\",\n",
    "    )\n",
    ")\n",
    " \n",
    "CO_rates = (\n",
    "    df.filter(pl.col(\"high_quality_detected_class\") == \"CO\")[\"CO_active_interval_crossover_prob\"] * 1e2 /\n",
    "    (df.filter(pl.col(\"high_quality_detected_class\") == \"CO\")[\"CO_active_interval_start_length_bp\"] * 1e-6)\n",
    ")\n",
    "NCO_rates = (\n",
    "    df.filter(pl.col(\"high_quality_detected_class\") == \"NCO\")[\"CO_active_interval_crossover_prob\"] * 1e2 /\n",
    "    (df.filter(pl.col(\"high_quality_detected_class\") == \"NCO\")[\"CO_active_interval_start_length_bp\"] * 1e-6)\n",
    ")\n",
    "sdf = (dense_reads_with_detection_df\n",
    "    .filter(pl.col(\"CO_active_interval_crossover_prob\") > 0)\n",
    "    .sample(fraction=1e-1)\n",
    ")\n",
    "all_rates = (\n",
    "    sdf[\"CO_active_interval_crossover_prob\"] * 1e2 / \n",
    "    (sdf[\"CO_active_interval_start_length_bp\"] * 1e-6)\n",
    ")"
   ]
  },
  {
   "cell_type": "code",
   "execution_count": null,
   "id": "287f8d69-cf63-451c-b5a5-3beab22e022d",
   "metadata": {},
   "outputs": [],
   "source": [
    "fig, ax = plt.subplots(figsize=(10,5))\n",
    "\n",
    "sns.histplot(\n",
    "    [\n",
    "        pd.Series(np.log10(CO_rates), name=\"CO\"),\n",
    "        pd.Series(np.log10(NCO_rates), name=\"NCO\"),\n",
    "        pd.Series(np.log10(all_rates), name=\"All reads\"),\n",
    "    ], \n",
    "    bins=np.linspace(-3, 2.5, 20),\n",
    "    multiple=\"dodge\",\n",
    "    shrink=0.8,\n",
    "    stat=\"proportion\",\n",
    "    common_norm=False,\n",
    "    ax=ax,\n",
    ")\n",
    "\n",
    "#plt.yscale(\"log\");\n",
    "#plt.ylim(0,0.05);\n",
    "#ax.set_xlim(-3,3);\n",
    "ax.set_xlabel(\"Active interval recombination map rates, $log_{10}$(cM/Mb)\");\n"
   ]
  },
  {
   "cell_type": "code",
   "execution_count": null,
   "id": "393cd22d-3aff-4029-a438-7c6c2844d288",
   "metadata": {},
   "outputs": [],
   "source": [
    "CO_rates"
   ]
  },
  {
   "cell_type": "code",
   "execution_count": null,
   "id": "60fc574d-f3ff-45e4-a4c8-9751b0af9bca",
   "metadata": {},
   "outputs": [],
   "source": []
  },
  {
   "cell_type": "code",
   "execution_count": null,
   "id": "be69aae8-d067-4dce-a07d-79746e7084e9",
   "metadata": {},
   "outputs": [],
   "source": []
  },
  {
   "cell_type": "markdown",
   "id": "f83a60cb-3cf2-47ec-87e7-a71481bf9ce6",
   "metadata": {},
   "source": [
    "## Different chromosomes and samples?"
   ]
  },
  {
   "cell_type": "code",
   "execution_count": null,
   "id": "660b22aa-8a4b-427c-9c5c-1d6a5db66177",
   "metadata": {},
   "outputs": [],
   "source": [
    "def test_condition(condition):\n",
    "    df = (dense_reads_with_detection_df\n",
    "        .filter(condition)\n",
    "        .filter(pl.col(\"high_quality_detected_class\").is_not_null())\n",
    "        .select(\n",
    "            \"CO_active_interval_crossover_prob\",\n",
    "            \"high_quality_detected_class\",\n",
    "        )\n",
    "    )\n",
    "\n",
    "    CO_lens = df.filter(pl.col(\"high_quality_detected_class\") == \"CO\")[\"CO_active_interval_crossover_prob\"] * 1e2\n",
    "    NCO_lens = df.filter(pl.col(\"high_quality_detected_class\") == \"NCO\")[\"CO_active_interval_crossover_prob\"] * 1e2\n",
    "    \n",
    "    return len(CO_lens), len(NCO_lens), scipy.stats.ks_2samp(CO_lens, NCO_lens).pvalue, inference.permutation_testing([[CO_lens, NCO_lens]], 1000)"
   ]
  },
  {
   "cell_type": "code",
   "execution_count": null,
   "id": "cc553c8d-041d-4170-8014-a56e2539baa3",
   "metadata": {},
   "outputs": [],
   "source": [
    "rows = []\n",
    "for chrom in tqdm.tqdm(aut_chrom_names):\n",
    "    rows.append([chrom] + list(test_condition(pl.col(\"chrom\") == chrom)))\n",
    "    \n",
    "with pl.Config(tbl_rows=100) as cfg:\n",
    "    display(pl.DataFrame(rows, schema=[\"chrom\", \"n_events_CO\", \"n_events_NCO\", \"KS_pvalue\", \"AD_perm_pvalue\"]))"
   ]
  },
  {
   "cell_type": "code",
   "execution_count": null,
   "id": "7f04eac7-b7c6-4291-9717-0bc0bdf78f6a",
   "metadata": {},
   "outputs": [],
   "source": [
    "rows = []\n",
    "for sample_id in tqdm.tqdm(sorted(sample_ids)):\n",
    "    rows.append([sample_id] + list(test_condition(pl.col(\"sample_id\") == sample_id)))\n",
    "    \n",
    "with pl.Config(tbl_rows=100) as cfg:\n",
    "    display(pl.DataFrame(rows, schema=[\"sample_id\", \"n_events_CO\", \"n_events_NCO\", \"KS_pvalue\", \"AD_perm_pvalue\"]))    "
   ]
  },
  {
   "cell_type": "code",
   "execution_count": null,
   "id": "3799e67b-6f1f-4891-8dc5-e41d778f3aca",
   "metadata": {},
   "outputs": [],
   "source": [
    "df = (dense_reads_with_detection_df\n",
    "    #.filter(pl.col(\"sample_id\") == \"PD50519d\")\n",
    "    .filter(pl.col(\"chrom\") == \"chr2\")\n",
    "    .filter(pl.col(\"high_quality_detected_class\").is_not_null())\n",
    "    .select(\n",
    "        \"CO_active_interval_crossover_prob\",\n",
    "        \"high_quality_detected_class\",\n",
    "    )\n",
    ")\n",
    "\n",
    "CO_lens = df.filter(pl.col(\"high_quality_detected_class\") == \"CO\")[\"CO_active_interval_crossover_prob\"] * 1e2\n",
    "NCO_lens = df.filter(pl.col(\"high_quality_detected_class\") == \"NCO\")[\"CO_active_interval_crossover_prob\"] * 1e2\n",
    "   \n",
    "sns.histplot(\n",
    "    [\n",
    "        pd.Series(np.log10(CO_lens), name=\"CO\"),\n",
    "        pd.Series(np.log10(NCO_lens), name=\"NCO\"),\n",
    "    ], \n",
    "    bins=25, #np.linspace(0, 2, 25),\n",
    "    multiple=\"dodge\",\n",
    "    shrink=0.8,\n",
    "    stat=\"proportion\",\n",
    "    common_norm=False,\n",
    ")\n",
    "\n",
    "#plt.yscale(\"log\");\n",
    "#plt.ylim(0,0.05);\n",
    "plt.xlabel(\"Active interval genetic length, log10(cM)\");\n"
   ]
  },
  {
   "cell_type": "markdown",
   "id": "c18da350-9c2e-4993-94e5-4f33b954d246",
   "metadata": {},
   "source": [
    "### Different NCO distributions per sample?"
   ]
  },
  {
   "cell_type": "code",
   "execution_count": null,
   "id": "52915bf7-a8f4-4ee8-89f6-ac93c2532fe9",
   "metadata": {},
   "outputs": [],
   "source": [
    "def test_two_samples_NCO(sample_id1, sample_id2, event_class):\n",
    "    df = (dense_reads_with_detection_df\n",
    "        .filter(pl.col(\"high_quality_detected_class\") == event_class)\n",
    "        .select(\n",
    "            \"sample_id\",\n",
    "            \"CO_active_interval_crossover_prob\",\n",
    "            \"high_quality_detected_class\",\n",
    "        )\n",
    "    )\n",
    "\n",
    "    lens_1 = df.filter(pl.col(\"sample_id\") == sample_id1)[\"CO_active_interval_crossover_prob\"] * 1e2\n",
    "    lens_2 = df.filter(pl.col(\"sample_id\") == sample_id2)[\"CO_active_interval_crossover_prob\"] * 1e2\n",
    "    \n",
    "    return (\n",
    "        len(lens_1), \n",
    "        len(lens_2), \n",
    "        scipy.stats.ks_2samp(lens_1, lens_2).pvalue, \n",
    "        inference.permutation_testing([[lens_1, lens_2]], 1000),\n",
    "    )"
   ]
  },
  {
   "cell_type": "code",
   "execution_count": null,
   "id": "e07dfc0a-5f01-4c10-8d57-95ee79b4a567",
   "metadata": {},
   "outputs": [],
   "source": [
    "rows = []\n",
    "\n",
    "for sample_id1, sample_id2 in itertools.combinations(sorted(sample_ids), 2):\n",
    "    for event_class in [\"CO\", \"NCO\"]:\n",
    "        rows.append([sample_id1, sample_id2, event_class] + list(test_two_samples_NCO(sample_id1, sample_id2, event_class)))\n",
    "    \n",
    "pairwise_nco_df = pl.DataFrame(\n",
    "    rows,\n",
    "    schema=[\"sample_id1\", \"sample_id2\", \"class\", \"n1\", \"n2\", \"ks_pvalue\", \"AD_perm_pvalue\"],\n",
    ")"
   ]
  },
  {
   "cell_type": "code",
   "execution_count": null,
   "id": "8b6488a5-92e7-403c-b848-57dde547ea92",
   "metadata": {},
   "outputs": [],
   "source": [
    "with pl.Config(tbl_rows=100) as cfg:\n",
    "    display(pairwise_nco_df.sort(\"AD_perm_pvalue\"))"
   ]
  },
  {
   "cell_type": "markdown",
   "id": "f9eecfb2-5398-4e24-82b2-9df02a069042",
   "metadata": {},
   "source": [
    "### Test one sample vs. all others, in NCO distributions"
   ]
  },
  {
   "cell_type": "code",
   "execution_count": null,
   "id": "9725839d-ca55-46c3-9514-4858fa8a8f85",
   "metadata": {},
   "outputs": [],
   "source": [
    "def test_sample_vs_rest_NCO(sample_id, event_class):\n",
    "    df = (dense_reads_with_detection_df\n",
    "        .filter(pl.col(\"high_quality_detected_class\") == event_class)\n",
    "        .select(\n",
    "            \"sample_id\",\n",
    "            \"CO_active_interval_crossover_prob\",\n",
    "            \"high_quality_detected_class\",\n",
    "        )\n",
    "    )\n",
    "\n",
    "    lens1 = df.filter(pl.col(\"sample_id\") == sample_id)[\"CO_active_interval_crossover_prob\"] * 1e2\n",
    "    lens2 = df.filter(pl.col(\"sample_id\") != sample_id)[\"CO_active_interval_crossover_prob\"] * 1e2\n",
    "    \n",
    "    return (\n",
    "        len(lens1), \n",
    "        len(lens2), \n",
    "        scipy.stats.ks_2samp(lens1, lens2).pvalue, \n",
    "        inference.permutation_testing([[lens1, lens2]], 1000),\n",
    "    )"
   ]
  },
  {
   "cell_type": "code",
   "execution_count": null,
   "id": "1eeb9c57-31d2-44a3-830c-f6f2a887a90f",
   "metadata": {},
   "outputs": [],
   "source": [
    "rows = []\n",
    "\n",
    "for sample_id in sorted(sample_ids):\n",
    "    for event_class in [\"CO\", \"NCO\"]:\n",
    "        rows.append([sample_id, event_class] + list(test_sample_vs_rest_NCO(sample_id, event_class)))\n",
    "    \n",
    "sample_vs_rest_nco_df = pl.DataFrame(\n",
    "    rows,\n",
    "    schema=[\"sample_id\", \"class\", \"n1\", \"n2\", \"ks_pvalue\", \"AD_perm_pvalue\"],\n",
    ")"
   ]
  },
  {
   "cell_type": "code",
   "execution_count": null,
   "id": "77a55202-83db-4179-85d1-8168306f9baa",
   "metadata": {},
   "outputs": [],
   "source": [
    "sample_vs_rest_nco_df.sort(\"AD_perm_pvalue\")"
   ]
  },
  {
   "cell_type": "code",
   "execution_count": null,
   "id": "5e86ae4c-7344-479a-a90e-2874ad601d67",
   "metadata": {},
   "outputs": [],
   "source": [
    "df = (dense_reads_with_detection_df\n",
    "    .filter(pl.col(\"high_quality_detected_class\") == \"CO\")\n",
    "    .filter(pl.col(\"sample_id\") != \"PD50523b\")\n",
    "    .select(\n",
    "        \"sample_id\",\n",
    "        \"CO_active_interval_crossover_prob\",\n",
    "        \"high_quality_detected_class\",\n",
    "    )\n",
    ")\n",
    "\n",
    "x_lens = df.filter(pl.col(\"sample_id\") == \"PD50508f\")[\"CO_active_interval_crossover_prob\"] * 1e2\n",
    "y_lens = df.filter(pl.col(\"sample_id\") != \"PD50508f\")[\"CO_active_interval_crossover_prob\"] * 1e2\n",
    "   \n",
    "sns.histplot(\n",
    "    [\n",
    "        pd.Series(np.log10(x_lens), name=\"PD50508f\"),\n",
    "        pd.Series(np.log10(y_lens), name=\"rest\"),\n",
    "    ], \n",
    "    bins=25, #np.linspace(0, 2, 25),\n",
    "    multiple=\"dodge\",\n",
    "    shrink=0.8,\n",
    "    stat=\"proportion\",\n",
    "    common_norm=False,\n",
    ")\n",
    "\n",
    "#plt.yscale(\"log\");\n",
    "#plt.ylim(0,0.05);\n",
    "plt.xlabel(\"Active interval genetic length, log10(cM)\");\n"
   ]
  },
  {
   "cell_type": "code",
   "execution_count": null,
   "id": "021218e8-a828-4568-bdab-49fbe80e9024",
   "metadata": {},
   "outputs": [],
   "source": []
  },
  {
   "cell_type": "code",
   "execution_count": null,
   "id": "ea829b4c-9bfc-4f07-ad3e-2577d6f985e8",
   "metadata": {},
   "outputs": [],
   "source": []
  },
  {
   "cell_type": "markdown",
   "id": "265b2cc9-83ae-4a96-9935-d60054c9a47d",
   "metadata": {},
   "source": [
    "# Test 2: Condition on number of SNPs"
   ]
  },
  {
   "cell_type": "code",
   "execution_count": null,
   "id": "9dfd32fa-009e-4f81-8aa3-6388294c5629",
   "metadata": {},
   "outputs": [],
   "source": [
    "cnt_df = (dense_reads_with_detection_df\n",
    "    .filter(pl.col(\"high_quality_detected_class\").is_not_null())\n",
    "    .select(pl.col(\"high_quality_snp_positions\").list.len().alias(\"n_snps\"))\n",
    ")\n",
    "\n",
    "plt.hist(cnt_df[\"n_snps\"], bins=np.arange(5,60));"
   ]
  },
  {
   "cell_type": "markdown",
   "id": "5a1ac962-e6c3-4ea0-85d1-3be4872a2e4e",
   "metadata": {},
   "source": [
    "### Per # of SNPs"
   ]
  },
  {
   "cell_type": "code",
   "execution_count": null,
   "id": "cc81fc1b-94f5-4e16-a01f-1f982e5d8c7e",
   "metadata": {},
   "outputs": [],
   "source": [
    "rows = []\n",
    "for n_snps in tqdm.tqdm(np.arange(5, 30)):\n",
    "    rows.append([n_snps] + list(test_condition(pl.col(\"high_quality_snp_positions\").list.len() == n_snps)))\n",
    "    \n",
    "n_snps_df = pl.DataFrame(rows, schema=[\"n_snps\", \"n_events_CO\", \"n_events_NCO\", \"KS_pvalue\", \"AD_perm_pvalue\"])    \n",
    "with pl.Config(tbl_rows=100) as cfg:\n",
    "    display(n_snps_df)\n",
    "\n"
   ]
  },
  {
   "cell_type": "markdown",
   "id": "efaadb02-cd2d-468f-a232-e9080d3d2eb6",
   "metadata": {},
   "source": [
    "### Aggregate across all # of SNPs"
   ]
  },
  {
   "cell_type": "code",
   "execution_count": null,
   "id": "fb113a49-ee2c-4a09-a974-32b4319ec892",
   "metadata": {},
   "outputs": [],
   "source": [
    "def test_condition_across_n_snps(condition, snp_groups, n_perms):\n",
    "    df = (dense_reads_with_detection_df\n",
    "        .filter(condition)\n",
    "        .with_columns(\n",
    "            n_snps = pl.col(\"high_quality_snp_positions\").list.len(),\n",
    "        )\n",
    "        .filter(pl.col(\"n_snps\") < 30)\n",
    "        .filter(pl.col(\"high_quality_detected_class\").is_not_null())\n",
    "        .select(\n",
    "            \"n_snps\",\n",
    "            \"CO_active_interval_crossover_prob\",\n",
    "            \"high_quality_detected_class\",\n",
    "        )\n",
    "    )\n",
    "\n",
    "    pairs = [\n",
    "        [\n",
    "            df.filter((pl.col(\"n_snps\").is_in(group)) & (pl.col(\"high_quality_detected_class\") == \"CO\"))[\"CO_active_interval_crossover_prob\"] * 1e2,\n",
    "            df.filter((pl.col(\"n_snps\").is_in(group)) & (pl.col(\"high_quality_detected_class\") == \"NCO\"))[\"CO_active_interval_crossover_prob\"] * 1e2,\n",
    "        ] \\\n",
    "        for group in snp_groups]\n",
    "\n",
    "    return inference.permutation_testing(pairs, n_perms=n_perms)\n"
   ]
  },
  {
   "cell_type": "code",
   "execution_count": null,
   "id": "8e7932a7-a797-4713-a724-8ede7557ff52",
   "metadata": {},
   "outputs": [],
   "source": [
    "test_condition_across_n_snps(pl.lit(True), , 1000)"
   ]
  },
  {
   "cell_type": "markdown",
   "id": "11b2e975-bb49-4da4-8e96-115f54663b5d",
   "metadata": {},
   "source": [
    "### Per chrom"
   ]
  },
  {
   "cell_type": "code",
   "execution_count": null,
   "id": "f97e369d-33fb-4a1b-ad69-2fae97eb2fd7",
   "metadata": {},
   "outputs": [],
   "source": [
    "def runme(chrom, group_size):\n",
    "    snp_groups = np.array_split(np.arange(5, 30), (30-5)/group_size)\n",
    "    pval = test_condition_across_n_snps(pl.col(\"chrom\") == chrom, snp_groups, 10000)\n",
    "    return [chrom, group_size, pval]\n",
    "\n",
    "rows = joblib.Parallel(n_jobs=-1, verbose)(\n",
    "    joblib.delayed(runme)(chrom, group_size)\n",
    "    for chrom in aut_chrom_names\n",
    "    for group_size in np.arange(1, 6)\n",
    ")\n",
    "\n",
    "chrom_snps_agg_df =     \n",
    "with pl.Config(tbl_rows=100) as cfg:\n",
    "    display()"
   ]
  },
  {
   "cell_type": "markdown",
   "id": "242151b1-85cc-4b9a-a517-dee6806b80f0",
   "metadata": {},
   "source": [
    "### Per sample"
   ]
  },
  {
   "cell_type": "code",
   "execution_count": null,
   "id": "1746070b-1fc8-4790-9ac3-b54d792b044e",
   "metadata": {},
   "outputs": [],
   "source": [
    "rows = []\n",
    "for sample_id in tqdm.tqdm(sorted(sample_ids)):\n",
    "    rows.append([sample_id, test_condition_across_n_snps(pl.col(\"sample_id\") == sample_id, 10000)])\n",
    "    \n",
    "with pl.Config(tbl_rows=100) as cfg:\n",
    "    display(pl.DataFrame(rows, schema=[\"sample_id\", \"AD_perm_pvalue\"]))"
   ]
  },
  {
   "cell_type": "code",
   "execution_count": null,
   "id": "b531cef7-7cbc-4cd6-a2f6-75a9257cc44f",
   "metadata": {},
   "outputs": [],
   "source": []
  },
  {
   "cell_type": "code",
   "execution_count": null,
   "id": "5b9de0c4-a885-4faf-b15c-b51fd793d63b",
   "metadata": {},
   "outputs": [],
   "source": []
  }
 ],
 "metadata": {
  "kernelspec": {
   "display_name": "sperm",
   "language": "python",
   "name": "sperm"
  },
  "language_info": {
   "codemirror_mode": {
    "name": "ipython",
    "version": 3
   },
   "file_extension": ".py",
   "mimetype": "text/x-python",
   "name": "python",
   "nbconvert_exporter": "python",
   "pygments_lexer": "ipython3",
   "version": "3.11.6"
  }
 },
 "nbformat": 4,
 "nbformat_minor": 5
}
