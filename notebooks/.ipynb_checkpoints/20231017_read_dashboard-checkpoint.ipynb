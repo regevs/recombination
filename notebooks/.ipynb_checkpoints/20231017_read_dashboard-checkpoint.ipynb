{
 "cells": [
  {
   "cell_type": "code",
   "execution_count": 1,
   "id": "807cc872-e0ab-421a-81f5-6e11fbc79102",
   "metadata": {},
   "outputs": [],
   "source": [
    "%load_ext autoreload\n",
    "%autoreload 2"
   ]
  },
  {
   "cell_type": "code",
   "execution_count": 11,
   "id": "76c86b12-93fe-4a25-a4e6-6ae73816486f",
   "metadata": {},
   "outputs": [],
   "source": [
    "import numpy as np\n",
    "import pandas as pd\n",
    "import matplotlib.pyplot as plt\n",
    "from pathlib import Path\n",
    "import fastq as fq\n",
    "import tqdm\n",
    "import re\n",
    "import sys\n",
    "import seaborn as sns\n",
    "import scipy.stats\n",
    "import os\n",
    "import msprime\n",
    "import pysam\n",
    "\n",
    "# This is needed before pybedtools to make sure bedtools is imported on sanger JupyterHub \n",
    "os.environ[\"PATH\"] += \":\" + os.path.join(sys.prefix, \"bin\")\n",
    "import pybedtools\n"
   ]
  },
  {
   "cell_type": "code",
   "execution_count": 16,
   "id": "d2096cca-cd78-4be5-a278-5632f94493d9",
   "metadata": {},
   "outputs": [
    {
     "ename": "ModuleNotFoundError",
     "evalue": "No module named 'pyfastx'",
     "output_type": "error",
     "traceback": [
      "\u001b[0;31m---------------------------------------------------------------------------\u001b[0m",
      "\u001b[0;31mModuleNotFoundError\u001b[0m                       Traceback (most recent call last)",
      "Cell \u001b[0;32mIn[16], line 5\u001b[0m\n\u001b[1;32m      2\u001b[0m sys\u001b[38;5;241m.\u001b[39mpath\u001b[38;5;241m.\u001b[39mappend(\u001b[38;5;124m\"\u001b[39m\u001b[38;5;124m/nfs/users/nfs_r/rs42/rs42/git/himut/src\u001b[39m\u001b[38;5;124m\"\u001b[39m)\n\u001b[1;32m      4\u001b[0m sys\u001b[38;5;241m.\u001b[39mpath\u001b[38;5;241m.\u001b[39mappend(\u001b[38;5;28mstr\u001b[39m(Path(os\u001b[38;5;241m.\u001b[39mgetcwd())\u001b[38;5;241m.\u001b[39mparent))\n\u001b[0;32m----> 5\u001b[0m \u001b[38;5;28;01mfrom\u001b[39;00m \u001b[38;5;21;01msrc\u001b[39;00m \u001b[38;5;28;01mimport\u001b[39;00m liftover, annotate, data, diagnostics\n",
      "File \u001b[0;32m/nfs/treeoflife-01/teams/tola/users/rs42/git/sperm/src/diagnostics.py:15\u001b[0m\n\u001b[1;32m     13\u001b[0m sys\u001b[38;5;241m.\u001b[39mpath\u001b[38;5;241m.\u001b[39mappend(\u001b[38;5;124m\"\u001b[39m\u001b[38;5;124m/nfs/users/nfs_r/rs42/rs42/git/hapfusion/src\u001b[39m\u001b[38;5;124m\"\u001b[39m)\n\u001b[1;32m     14\u001b[0m \u001b[38;5;28;01mimport\u001b[39;00m \u001b[38;5;21;01mhapfusion\u001b[39;00m\n\u001b[0;32m---> 15\u001b[0m \u001b[38;5;28;01mfrom\u001b[39;00m \u001b[38;5;21;01mhapfusion\u001b[39;00m \u001b[38;5;28;01mimport\u001b[39;00m bamlib\n\u001b[1;32m     17\u001b[0m sys\u001b[38;5;241m.\u001b[39mpath\u001b[38;5;241m.\u001b[39mappend(\u001b[38;5;124m\"\u001b[39m\u001b[38;5;124m/nfs/users/nfs_r/rs42/rs42/git/himut/src\u001b[39m\u001b[38;5;124m\"\u001b[39m)\n\u001b[1;32m     18\u001b[0m \u001b[38;5;28;01mimport\u001b[39;00m \u001b[38;5;21;01mhimut\u001b[39;00m\n",
      "File \u001b[0;32m~/rs42/git/hapfusion/src/hapfusion/bamlib.py:7\u001b[0m\n\u001b[1;32m      5\u001b[0m \u001b[38;5;28;01mimport\u001b[39;00m \u001b[38;5;21;01mnatsort\u001b[39;00m\n\u001b[1;32m      6\u001b[0m \u001b[38;5;28;01mimport\u001b[39;00m \u001b[38;5;21;01mnumpy\u001b[39;00m \u001b[38;5;28;01mas\u001b[39;00m \u001b[38;5;21;01mnp\u001b[39;00m\n\u001b[0;32m----> 7\u001b[0m \u001b[38;5;28;01mimport\u001b[39;00m \u001b[38;5;21;01mhimut\u001b[39;00m\u001b[38;5;21;01m.\u001b[39;00m\u001b[38;5;21;01mcslib\u001b[39;00m\n\u001b[1;32m      8\u001b[0m \u001b[38;5;28;01mimport\u001b[39;00m \u001b[38;5;21;01mhapfusion\u001b[39;00m\u001b[38;5;21;01m.\u001b[39;00m\u001b[38;5;21;01mhaplib\u001b[39;00m\n\u001b[1;32m      9\u001b[0m \u001b[38;5;28;01mfrom\u001b[39;00m \u001b[38;5;21;01mtyping\u001b[39;00m \u001b[38;5;28;01mimport\u001b[39;00m Set, List, Dict, Tuple\n",
      "File \u001b[0;32m~/rs42/git/himut/src/himut/cslib.py:2\u001b[0m\n\u001b[1;32m      1\u001b[0m \u001b[38;5;28;01mimport\u001b[39;00m \u001b[38;5;21;01mre\u001b[39;00m\n\u001b[0;32m----> 2\u001b[0m \u001b[38;5;28;01mimport\u001b[39;00m \u001b[38;5;21;01mhimut\u001b[39;00m\u001b[38;5;21;01m.\u001b[39;00m\u001b[38;5;21;01mutil\u001b[39;00m\n\u001b[1;32m      3\u001b[0m \u001b[38;5;28;01mimport\u001b[39;00m \u001b[38;5;21;01mnumpy\u001b[39;00m \u001b[38;5;28;01mas\u001b[39;00m \u001b[38;5;21;01mnp\u001b[39;00m\n\u001b[1;32m      4\u001b[0m \u001b[38;5;28;01mfrom\u001b[39;00m \u001b[38;5;21;01mtyping\u001b[39;00m \u001b[38;5;28;01mimport\u001b[39;00m Dict, List, Tuple\n",
      "File \u001b[0;32m~/rs42/git/himut/src/himut/util.py:7\u001b[0m\n\u001b[1;32m      5\u001b[0m \u001b[38;5;28;01mimport\u001b[39;00m \u001b[38;5;21;01mcyvcf2\u001b[39;00m\n\u001b[1;32m      6\u001b[0m \u001b[38;5;28;01mimport\u001b[39;00m \u001b[38;5;21;01mpsutil\u001b[39;00m\n\u001b[0;32m----> 7\u001b[0m \u001b[38;5;28;01mimport\u001b[39;00m \u001b[38;5;21;01mpyfastx\u001b[39;00m\n\u001b[1;32m      8\u001b[0m \u001b[38;5;28;01mimport\u001b[39;00m \u001b[38;5;21;01mnatsort\u001b[39;00m\n\u001b[1;32m      9\u001b[0m \u001b[38;5;28;01mimport\u001b[39;00m \u001b[38;5;21;01mhimut\u001b[39;00m\u001b[38;5;21;01m.\u001b[39;00m\u001b[38;5;21;01mvcflib\u001b[39;00m\n",
      "\u001b[0;31mModuleNotFoundError\u001b[0m: No module named 'pyfastx'"
     ]
    }
   ],
   "source": [
    "sys.path.append(\"/nfs/users/nfs_r/rs42/rs42/git/hapfusion/src\")\n",
    "sys.path.append(\"/nfs/users/nfs_r/rs42/rs42/git/himut/src\")\n",
    "\n",
    "sys.path.append(str(Path(os.getcwd()).parent))\n",
    "from src import liftover, annotate, data, diagnostics"
   ]
  },
  {
   "cell_type": "code",
   "execution_count": null,
   "id": "9d90b7ea-faea-4e80-a67f-ea6fcd43afe3",
   "metadata": {},
   "outputs": [],
   "source": [
    "import hapfusion\n",
    "import himut"
   ]
  },
  {
   "cell_type": "markdown",
   "id": "39092af8-a6d6-45d2-9c36-e9860a2b316b",
   "metadata": {},
   "source": [
    "# Which samples?"
   ]
  },
  {
   "cell_type": "code",
   "execution_count": null,
   "id": "b21fc5d6-1928-4263-96bd-ac1ec2e09792",
   "metadata": {},
   "outputs": [],
   "source": [
    "aut_chrom_names = [f\"chr{i}\" for i in list(range(1, 23))]\n",
    "chrom_names = aut_chrom_names + [\"chrX\", \"chrY\"]"
   ]
  },
  {
   "cell_type": "code",
   "execution_count": null,
   "id": "3c2286b5-34ac-4721-a7d1-f1cf85282097",
   "metadata": {},
   "outputs": [],
   "source": [
    "sample_ids = [\n",
    "    \"PD50477f\",\n",
    "    # \"PD50508bf\", -- ignore; merged two sampling dates just for phasing, but should be analyzed separately\n",
    "    \"PD50519d\",\n",
    "    # \"PD47269d\", -- don't use, not there\n",
    "    \"PD50508f\",\n",
    "    # \"PD50511e\", -- don't use, likely mixture\n",
    "    \"PD50523b\",\n",
    "    # \"PD48473b\", -- don't use, not there\n",
    "    \"PD50521b\",\n",
    "    \"PD50508b\",\n",
    "    # \"PD50521be\", -- ignore; merged two sampling dates just for phasing, but should be analyzed separately\n",
    "    \"PD46180c\",\n",
    "    # \"PD50502f\", -- don't use, likely mixture\n",
    "    \"PD50521e\",\n",
    "    # \"PD50511e_SS\",  --- don't use\n",
    "    \"PD50489e\",\n",
    "]"
   ]
  },
  {
   "cell_type": "code",
   "execution_count": null,
   "id": "361ab8be-5306-4bee-bd3a-38cc1596f072",
   "metadata": {},
   "outputs": [],
   "source": []
  },
  {
   "cell_type": "markdown",
   "id": "c3c98858-bbdf-4b12-88f7-cd38378770e4",
   "metadata": {},
   "source": [
    "# Look at a single event"
   ]
  },
  {
   "cell_type": "code",
   "execution_count": null,
   "id": "0bd906e1-1b89-4bfb-9a08-aed1e0286353",
   "metadata": {},
   "outputs": [],
   "source": [
    "sample_id = \"PD50523b\"\n",
    "chrom = \"chr1\""
   ]
  },
  {
   "cell_type": "code",
   "execution_count": null,
   "id": "02deb856-3825-4835-826c-96cc0491bafc",
   "metadata": {},
   "outputs": [],
   "source": [
    "reads_df = data.t2t_load_files(sample_id)[\"reads\"]\n",
    "reads_df = annotate.annonate_with_mappability_mask(reads_df)\n",
    "reads_df = annotate.annotate_with_cm_ranges(reads_df) \n",
    "reads_df = annotate.annotate_with_crossover_detection_prob(\n",
    "    reads_df,\n",
    "    annotate.get_all_hets(sample_id, chrom)\n",
    ")"
   ]
  },
  {
   "cell_type": "code",
   "execution_count": null,
   "id": "b6f39d4a-a7cd-49f0-bcea-43a5025c4b2e",
   "metadata": {},
   "outputs": [],
   "source": [
    "focal_event = reads_df[(reads_df[\"accessible_ratio\"]>0.8) & (reads_df[\"event\"] == \"CNCO\")].iloc[3]"
   ]
  },
  {
   "cell_type": "code",
   "execution_count": null,
   "id": "0f788231-b6c0-4a40-8129-1deebbf94742",
   "metadata": {},
   "outputs": [],
   "source": [
    "diagnostics.diagnose_events(sample_id, focal_event)"
   ]
  },
  {
   "cell_type": "code",
   "execution_count": null,
   "id": "f72b1eaa-0874-4c47-813c-d39288dbc0c3",
   "metadata": {},
   "outputs": [],
   "source": []
  },
  {
   "cell_type": "code",
   "execution_count": null,
   "id": "77c1f41e-73ec-4598-aaec-4b7015edb0df",
   "metadata": {},
   "outputs": [],
   "source": []
  },
  {
   "cell_type": "code",
   "execution_count": null,
   "id": "aec2d11c-3da2-4225-9e01-a845318cb6af",
   "metadata": {},
   "outputs": [],
   "source": []
  }
 ],
 "metadata": {
  "kernelspec": {
   "display_name": "sperm",
   "language": "python",
   "name": "sperm"
  },
  "language_info": {
   "codemirror_mode": {
    "name": "ipython",
    "version": 3
   },
   "file_extension": ".py",
   "mimetype": "text/x-python",
   "name": "python",
   "nbconvert_exporter": "python",
   "pygments_lexer": "ipython3",
   "version": "3.11.6"
  }
 },
 "nbformat": 4,
 "nbformat_minor": 5
}
