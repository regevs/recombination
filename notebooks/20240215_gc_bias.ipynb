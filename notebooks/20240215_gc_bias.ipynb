{
 "cells": [
  {
   "cell_type": "code",
   "execution_count": 1,
   "id": "1aec1125-05a0-4bd6-977e-d7a8aaf86c79",
   "metadata": {},
   "outputs": [],
   "source": [
    "%load_ext autoreload\n",
    "%autoreload 2"
   ]
  },
  {
   "cell_type": "code",
   "execution_count": 2,
   "id": "5a368cd4-0452-464b-99b3-152aec47cee8",
   "metadata": {},
   "outputs": [],
   "source": [
    "import numpy as np\n",
    "import pandas as pd\n",
    "import matplotlib as mpl\n",
    "import matplotlib.pyplot as plt\n",
    "import matplotlib.ticker as ticker\n",
    "import numba\n",
    "import numba.typed\n",
    "\n",
    "from pathlib import Path\n",
    "from tqdm import trange, tqdm\n",
    "import sys\n",
    "import seaborn as sns\n",
    "import scipy.stats\n",
    "import os\n",
    "import pysam\n",
    "import pprint\n",
    "import pickle\n",
    "import joblib\n",
    "import polars as pl\n",
    "\n",
    "# This is needed before pybedtools to make sure bedtools is imported on sanger JupyterHub \n",
    "os.environ[\"PATH\"] += \":\" + os.path.join(sys.prefix, \"bin\")\n",
    "import pybedtools\n",
    "\n",
    "pd.set_option('display.max_rows', 1000)\n"
   ]
  },
  {
   "cell_type": "code",
   "execution_count": 3,
   "id": "9c6c880e-7625-4c0b-82ac-37951c526a1d",
   "metadata": {},
   "outputs": [],
   "source": [
    "sys.path.append(str(Path(os.getcwd()).parent))\n",
    "from src import liftover, annotate, diagnostics, inference"
   ]
  },
  {
   "cell_type": "code",
   "execution_count": 4,
   "id": "bbfbefb8-382a-422f-8b9a-e5ebb76fe718",
   "metadata": {},
   "outputs": [],
   "source": [
    "aut_chrom_names = [f\"chr{i}\" for i in list(range(1, 23))]\n",
    "chrom_names = aut_chrom_names + [\"chrX\", \"chrY\"]"
   ]
  },
  {
   "cell_type": "markdown",
   "id": "d1674546-1f7f-4b38-a1f1-1d67b5cac9ee",
   "metadata": {},
   "source": [
    "# Read the classified events"
   ]
  },
  {
   "cell_type": "code",
   "execution_count": 5,
   "id": "5c92ddbb-8a70-4ed2-9c01-425bb3ea5cc4",
   "metadata": {},
   "outputs": [],
   "source": [
    "# Samples to do\n",
    "sample_ids = [\n",
    "    \"PD50477f\",\n",
    "    # \"PD50508bf\", -- ignore; merged two sampling dates just for phasing, but should be analyzed separately\n",
    "    \"PD50519d\",\n",
    "    # \"PD47269d\", -- don't use, not there\n",
    "    \"PD50508f\",\n",
    "    # \"PD50511e\", -- don't use, likely mixture\n",
    "    \"PD50523b\",\n",
    "    # \"PD48473b\", -- don't use, not there\n",
    "    \"PD50521b\",\n",
    "    \"PD50508b\",\n",
    "    # \"PD50521be\", -- ignore; merged two sampling dates just for phasing, but should be analyzed separately\n",
    "    \"PD46180c\",\n",
    "    # \"PD50502f\", -- don't use, likely mixture\n",
    "    \"PD50521e\",\n",
    "    # \"PD50511e_SS\",  --- don't use\n",
    "    \"PD50489e\",\n",
    "]\n",
    "\n",
    "cls_df = pl.concat([\n",
    "    pl.read_parquet(\n",
    "        str(Path(\"/lustre/scratch126/casm/team154pc/sl17/03.sperm/02.results/01.read_alignment/01.ccs/04.hifiasm/02.hifiasm_0.19.5-r592/02.chromosome_length_scaffolds\")\n",
    "            / f\"{focal_sample_id}\" / \"reads\" / f\"{chrom}_RagTag.certainty_0.95.classified_reads.parquet\")\n",
    "    ) \\\n",
    "    for focal_sample_id in sample_ids\n",
    "    for chrom in aut_chrom_names\n",
    "])"
   ]
  },
  {
   "cell_type": "code",
   "execution_count": 6,
   "id": "ef32b9d2-6925-4215-953b-5c91c546f301",
   "metadata": {},
   "outputs": [],
   "source": [
    "trusty_cls_df = (cls_df\n",
    "    .filter(~pl.col(\"has_common_transition\"))\n",
    "    .filter(pl.col(\"min_coverage_between_transitions_hap1\") >= 3)\n",
    "    .filter(pl.col(\"min_coverage_between_transitions_hap2\") >= 3)\n",
    ")"
   ]
  },
  {
   "cell_type": "code",
   "execution_count": null,
   "id": "56fa6c36-dd01-4059-b8a1-bf129a0e6e40",
   "metadata": {},
   "outputs": [],
   "source": []
  },
  {
   "cell_type": "code",
   "execution_count": 55,
   "id": "1db54f4e-9a95-46e1-8f68-1fba204b61de",
   "metadata": {},
   "outputs": [
    {
     "data": {
      "text/html": [
       "<div><style>\n",
       ".dataframe > thead > tr,\n",
       ".dataframe > tbody > tr {\n",
       "  text-align: right;\n",
       "  white-space: pre-wrap;\n",
       "}\n",
       "</style>\n",
       "<small>shape: (9, 2)</small><table border=\"1\" class=\"dataframe\"><thead><tr><th>sample_id</th><th>len</th></tr><tr><td>str</td><td>u32</td></tr></thead><tbody><tr><td>&quot;PD50477f&quot;</td><td>370</td></tr><tr><td>&quot;PD50521b&quot;</td><td>491</td></tr><tr><td>&quot;PD50508b&quot;</td><td>260</td></tr><tr><td>&quot;PD50508f&quot;</td><td>176</td></tr><tr><td>&quot;PD50521e&quot;</td><td>347</td></tr><tr><td>&quot;PD46180c&quot;</td><td>469</td></tr><tr><td>&quot;PD50489e&quot;</td><td>256</td></tr><tr><td>&quot;PD50519d&quot;</td><td>326</td></tr><tr><td>&quot;PD50523b&quot;</td><td>360</td></tr></tbody></table></div>"
      ],
      "text/plain": [
       "shape: (9, 2)\n",
       "┌───────────┬─────┐\n",
       "│ sample_id ┆ len │\n",
       "│ ---       ┆ --- │\n",
       "│ str       ┆ u32 │\n",
       "╞═══════════╪═════╡\n",
       "│ PD50477f  ┆ 370 │\n",
       "│ PD50521b  ┆ 491 │\n",
       "│ PD50508b  ┆ 260 │\n",
       "│ PD50508f  ┆ 176 │\n",
       "│ PD50521e  ┆ 347 │\n",
       "│ PD46180c  ┆ 469 │\n",
       "│ PD50489e  ┆ 256 │\n",
       "│ PD50519d  ┆ 326 │\n",
       "│ PD50523b  ┆ 360 │\n",
       "└───────────┴─────┘"
      ]
     },
     "execution_count": 55,
     "metadata": {},
     "output_type": "execute_result"
    }
   ],
   "source": [
    "trusty_cls_df.group_by(\"sample_id\").len()"
   ]
  },
  {
   "cell_type": "code",
   "execution_count": 56,
   "id": "9e6c7487-4314-41c9-a78d-2a70145cc1f4",
   "metadata": {},
   "outputs": [],
   "source": [
    "age_dict = {\n",
    "    \"PD46180c\": 24,\n",
    "    \"PD50477f\": 74,\n",
    "    \"PD50489e\": 47,\n",
    "    \"PD50502f\": 57,\n",
    "    \"PD50508b\": 62,\n",
    "    \"PD50508f\": 74,\n",
    "    \"PD50511e\": 55,\n",
    "    \"PD50519d\": 36,\n",
    "    \"PD50521b\": 27,\n",
    "    \"PD50521e\": 40,\n",
    "    \"PD50523b\": 26,\n",
    "}"
   ]
  },
  {
   "cell_type": "code",
   "execution_count": 64,
   "id": "6b08f49f-372c-4715-8f58-84d45466e2da",
   "metadata": {},
   "outputs": [],
   "source": [
    "age_df = pl.DataFrame({\n",
    "    \"sample_id\": list(age_dict.keys()),\n",
    "    \"age\": list(age_dict.values()),\n",
    "})\n",
    "\n",
    "age_df = trusty_cls_df.group_by(\"sample_id\").len().join(age_df, on=\"sample_id\")"
   ]
  },
  {
   "cell_type": "code",
   "execution_count": 66,
   "id": "c6be7af8-e132-49f6-b27c-a88c89af50c2",
   "metadata": {},
   "outputs": [
    {
     "data": {
      "image/png": "[encoded data removed]",
      "text/plain": [
       "<Figure size 640x480 with 1 Axes>"
      ]
     },
     "metadata": {},
     "output_type": "display_data"
    }
   ],
   "source": [
    "plt.scatter(\n",
    "    age_df[\"age\"],\n",
    "    age_df[\"len\"],\n",
    ")\n",
    "plt.xlabel(\"age\");\n",
    "plt.ylabel(\"number of reads\");"
   ]
  },
  {
   "cell_type": "code",
   "execution_count": 71,
   "id": "302059d1-2e03-4e68-a821-6ffe0da30e93",
   "metadata": {},
   "outputs": [
    {
     "data": {
      "text/plain": [
       "491"
      ]
     },
     "execution_count": 71,
     "metadata": {},
     "output_type": "execute_result"
    }
   ],
   "source": [
    "np.max(age_df[\"len\"].to_numpy())"
   ]
  },
  {
   "cell_type": "code",
   "execution_count": 85,
   "id": "352daa18-351f-44f6-a0a5-4378e3d1d5a6",
   "metadata": {},
   "outputs": [
    {
     "data": {
      "text/html": [
       "<div><style>\n",
       ".dataframe > thead > tr,\n",
       ".dataframe > tbody > tr {\n",
       "  text-align: right;\n",
       "  white-space: pre-wrap;\n",
       "}\n",
       "</style>\n",
       "<small>shape: (9, 4)</small><table border=\"1\" class=\"dataframe\"><thead><tr><th>sample_id</th><th>n_reads</th><th>n_long_reads</th><th>long_rate</th></tr><tr><td>str</td><td>u32</td><td>u32</td><td>f64</td></tr></thead><tbody><tr><td>&quot;PD50489e&quot;</td><td>36</td><td>5</td><td>0.138889</td></tr><tr><td>&quot;PD50477f&quot;</td><td>58</td><td>5</td><td>0.086207</td></tr><tr><td>&quot;PD50521b&quot;</td><td>81</td><td>10</td><td>0.123457</td></tr><tr><td>&quot;PD50508b&quot;</td><td>40</td><td>3</td><td>0.075</td></tr><tr><td>&quot;PD50519d&quot;</td><td>67</td><td>6</td><td>0.089552</td></tr><tr><td>&quot;PD50508f&quot;</td><td>27</td><td>6</td><td>0.222222</td></tr><tr><td>&quot;PD46180c&quot;</td><td>58</td><td>8</td><td>0.137931</td></tr><tr><td>&quot;PD50521e&quot;</td><td>53</td><td>6</td><td>0.113208</td></tr><tr><td>&quot;PD50523b&quot;</td><td>71</td><td>5</td><td>0.070423</td></tr></tbody></table></div>"
      ],
      "text/plain": [
       "shape: (9, 4)\n",
       "┌───────────┬─────────┬──────────────┬───────────┐\n",
       "│ sample_id ┆ n_reads ┆ n_long_reads ┆ long_rate │\n",
       "│ ---       ┆ ---     ┆ ---          ┆ ---       │\n",
       "│ str       ┆ u32     ┆ u32          ┆ f64       │\n",
       "╞═══════════╪═════════╪══════════════╪═══════════╡\n",
       "│ PD50489e  ┆ 36      ┆ 5            ┆ 0.138889  │\n",
       "│ PD50477f  ┆ 58      ┆ 5            ┆ 0.086207  │\n",
       "│ PD50521b  ┆ 81      ┆ 10           ┆ 0.123457  │\n",
       "│ PD50508b  ┆ 40      ┆ 3            ┆ 0.075     │\n",
       "│ PD50519d  ┆ 67      ┆ 6            ┆ 0.089552  │\n",
       "│ PD50508f  ┆ 27      ┆ 6            ┆ 0.222222  │\n",
       "│ PD46180c  ┆ 58      ┆ 8            ┆ 0.137931  │\n",
       "│ PD50521e  ┆ 53      ┆ 6            ┆ 0.113208  │\n",
       "│ PD50523b  ┆ 71      ┆ 5            ┆ 0.070423  │\n",
       "└───────────┴─────────┴──────────────┴───────────┘"
      ]
     },
     "execution_count": 85,
     "metadata": {},
     "output_type": "execute_result"
    }
   ],
   "source": [
    "(trusty_cls_df\n",
    "    .filter(pl.col(\"class\") == \"GC\")\n",
    "    .with_columns(\n",
    "        (pl.col(\"snp_positions_on_read\").list.get(pl.col(\"idx_transitions\").list.get(1)+1) -\n",
    "         pl.col(\"snp_positions_on_read\").list.get(pl.col(\"idx_transitions\").list.get(0))).alias(\"upper_bound\")\n",
    "    )\n",
    "    .group_by(\"sample_id\")\n",
    "    .agg(\n",
    "        pl.col(\"sample_id\").len().alias(\"n_reads\"),\n",
    "        (pl.col(\"upper_bound\") > 5000).sum().alias(\"n_long_reads\"),\n",
    "    )\n",
    "    .with_columns(long_rate = pl.col(\"n_long_reads\") / pl.col(\"n_reads\"))\n",
    ")"
   ]
  },
  {
   "cell_type": "code",
   "execution_count": null,
   "id": "93f67471-6f21-4a62-823e-7e493e452585",
   "metadata": {},
   "outputs": [],
   "source": []
  },
  {
   "cell_type": "code",
   "execution_count": null,
   "id": "d51eaac3-3fee-49c3-825c-336dde93bec5",
   "metadata": {},
   "outputs": [],
   "source": []
  },
  {
   "cell_type": "code",
   "execution_count": null,
   "id": "2e524cfc-262b-4272-adae-bf41b5a79c19",
   "metadata": {},
   "outputs": [],
   "source": []
  },
  {
   "cell_type": "markdown",
   "id": "8fae4234-b35c-4403-a49d-f897a54c9b70",
   "metadata": {},
   "source": [
    "# GC bias"
   ]
  },
  {
   "cell_type": "code",
   "execution_count": null,
   "id": "c66fecf0-cdf6-4096-a936-8f2966ab2d5a",
   "metadata": {},
   "outputs": [],
   "source": [
    "gcs_df = trusty_cls_df.filter(pl.col(\"class\") == \"GC\")"
   ]
  },
  {
   "cell_type": "code",
   "execution_count": 10,
   "id": "0022ab54-0cdb-41af-a876-3249653f54c5",
   "metadata": {},
   "outputs": [],
   "source": [
    "snp_filenames = [\n",
    "    Path(\"/lustre/scratch126/casm/team154pc/sl17/03.sperm/02.results/01.read_alignment/01.ccs/04.hifiasm/02.hifiasm_0.19.5-r592/02.chromosome_length_scaffolds/\") \\\n",
    "        / f\"{focal_sample_id}\" / \"reads\" / f\"{chrom}_RagTag.certainty_0.95.snps.parquet\"\n",
    "    for focal_sample_id in sample_ids\n",
    "    for chrom in aut_chrom_names\n",
    "]\n",
    "\n",
    "snp_filenames = snp_filenames\n"
   ]
  },
  {
   "cell_type": "code",
   "execution_count": 13,
   "id": "eadb2be8-3c51-47af-8705-258bd2195396",
   "metadata": {},
   "outputs": [
    {
     "name": "stderr",
     "output_type": "stream",
     "text": [
      "\n",
      "  0%|          | 0/198 [00:00<?, ?it/s]\u001b[A\n",
      "  1%|          | 1/198 [00:04<14:54,  4.54s/it]\u001b[A\n",
      "  1%|          | 2/198 [00:08<13:36,  4.17s/it]\u001b[A\n",
      "  2%|▏         | 3/198 [00:13<14:41,  4.52s/it]\u001b[A\n",
      "  2%|▏         | 4/198 [00:16<12:15,  3.79s/it]\u001b[A\n",
      "  3%|▎         | 5/198 [00:18<11:05,  3.45s/it]\u001b[A\n",
      "  3%|▎         | 6/198 [00:22<11:10,  3.49s/it]\u001b[A\n",
      "  4%|▎         | 7/198 [00:25<10:21,  3.25s/it]\u001b[A\n",
      "  4%|▍         | 8/198 [00:29<11:14,  3.55s/it]\u001b[A\n",
      "  5%|▍         | 9/198 [00:33<11:51,  3.76s/it]\u001b[A\n",
      "  5%|▌         | 10/198 [00:38<12:30,  3.99s/it]\u001b[A\n",
      "  6%|▌         | 11/198 [00:41<11:29,  3.69s/it]\u001b[A\n",
      "  6%|▌         | 12/198 [00:47<13:33,  4.37s/it]\u001b[A\n",
      "  7%|▋         | 13/198 [00:51<13:12,  4.28s/it]\u001b[A\n",
      "  7%|▋         | 14/198 [00:56<13:59,  4.56s/it]\u001b[A\n",
      "  8%|▊         | 15/198 [01:01<14:38,  4.80s/it]\u001b[A\n",
      "  8%|▊         | 16/198 [01:06<14:51,  4.90s/it]\u001b[A\n",
      "  9%|▊         | 17/198 [01:09<12:43,  4.22s/it]\u001b[A\n",
      "  9%|▉         | 18/198 [01:12<11:26,  3.81s/it]\u001b[A\n",
      " 10%|▉         | 19/198 [01:15<10:24,  3.49s/it]\u001b[A\n",
      " 10%|█         | 20/198 [01:17<09:19,  3.14s/it]\u001b[A\n",
      " 11%|█         | 21/198 [01:18<07:30,  2.55s/it]\u001b[A\n",
      " 11%|█         | 22/198 [01:20<06:58,  2.38s/it]\u001b[A\n",
      " 12%|█▏        | 23/198 [01:23<07:17,  2.50s/it]\u001b[A\n",
      " 12%|█▏        | 24/198 [01:27<08:18,  2.86s/it]\u001b[A\n",
      " 13%|█▎        | 25/198 [01:31<09:33,  3.31s/it]\u001b[A\n",
      " 13%|█▎        | 26/198 [01:35<10:20,  3.61s/it]\u001b[A\n",
      " 14%|█▎        | 27/198 [01:40<11:18,  3.97s/it]\u001b[A\n",
      " 14%|█▍        | 28/198 [01:43<10:12,  3.61s/it]\u001b[A\n",
      " 15%|█▍        | 29/198 [01:48<11:55,  4.23s/it]\u001b[A\n",
      " 15%|█▌        | 30/198 [01:53<12:20,  4.41s/it]\u001b[A\n",
      " 16%|█▌        | 31/198 [01:58<12:10,  4.37s/it]\u001b[A\n",
      " 16%|█▌        | 32/198 [02:04<13:52,  5.02s/it]\u001b[A\n",
      " 17%|█▋        | 33/198 [02:10<14:05,  5.13s/it]\u001b[A\n",
      " 17%|█▋        | 34/198 [02:17<15:35,  5.70s/it]\u001b[A\n",
      " 18%|█▊        | 35/198 [02:24<17:11,  6.33s/it]\u001b[A\n",
      " 18%|█▊        | 36/198 [02:31<17:34,  6.51s/it]\u001b[A\n",
      " 19%|█▊        | 37/198 [02:33<13:36,  5.07s/it]\u001b[A\n",
      " 19%|█▉        | 38/198 [02:36<11:34,  4.34s/it]\u001b[A\n",
      " 20%|█▉        | 39/198 [02:38<10:01,  3.79s/it]\u001b[A\n",
      " 20%|██        | 40/198 [02:40<08:45,  3.33s/it]\u001b[A\n",
      " 21%|██        | 41/198 [02:42<07:22,  2.82s/it]\u001b[A\n",
      " 21%|██        | 42/198 [02:44<06:59,  2.69s/it]\u001b[A\n",
      " 22%|██▏       | 43/198 [02:46<05:46,  2.23s/it]\u001b[A\n",
      " 22%|██▏       | 44/198 [02:47<04:55,  1.92s/it]\u001b[A\n",
      " 23%|██▎       | 45/198 [02:53<08:03,  3.16s/it]\u001b[A\n",
      " 23%|██▎       | 46/198 [02:58<09:15,  3.66s/it]\u001b[A\n",
      " 24%|██▎       | 47/198 [03:02<10:06,  4.02s/it]\u001b[A\n",
      " 24%|██▍       | 48/198 [03:06<09:26,  3.78s/it]\u001b[A\n",
      " 25%|██▍       | 49/198 [03:10<09:54,  3.99s/it]\u001b[A\n",
      " 25%|██▌       | 50/198 [03:14<09:59,  4.05s/it]\u001b[A\n",
      " 26%|██▌       | 51/198 [03:20<11:12,  4.58s/it]\u001b[A\n",
      " 26%|██▋       | 52/198 [03:26<11:47,  4.84s/it]\u001b[A\n",
      " 27%|██▋       | 53/198 [03:28<09:39,  4.00s/it]\u001b[A\n",
      " 27%|██▋       | 54/198 [03:33<10:12,  4.25s/it]\u001b[A\n",
      " 28%|██▊       | 55/198 [03:36<09:45,  4.09s/it]\u001b[A\n",
      " 28%|██▊       | 56/198 [03:40<09:47,  4.14s/it]\u001b[A\n",
      " 29%|██▉       | 57/198 [03:44<09:28,  4.03s/it]\u001b[A\n",
      " 29%|██▉       | 58/198 [03:47<08:50,  3.79s/it]\u001b[A\n",
      " 30%|██▉       | 59/198 [03:50<07:53,  3.40s/it]\u001b[A\n",
      " 30%|███       | 60/198 [03:53<07:48,  3.40s/it]\u001b[A\n",
      " 31%|███       | 61/198 [03:55<06:53,  3.02s/it]\u001b[A\n",
      " 31%|███▏      | 62/198 [03:58<06:19,  2.79s/it]\u001b[A\n",
      " 32%|███▏      | 63/198 [03:59<05:28,  2.44s/it]\u001b[A\n",
      " 32%|███▏      | 64/198 [04:02<05:29,  2.46s/it]\u001b[A\n",
      " 33%|███▎      | 65/198 [04:03<04:41,  2.12s/it]\u001b[A\n",
      " 33%|███▎      | 66/198 [04:05<04:07,  1.88s/it]\u001b[A\n",
      " 34%|███▍      | 67/198 [04:09<05:46,  2.64s/it]\u001b[A\n",
      " 34%|███▍      | 68/198 [04:16<08:27,  3.90s/it]\u001b[A\n",
      " 35%|███▍      | 69/198 [04:19<08:07,  3.78s/it]\u001b[A\n",
      " 35%|███▌      | 70/198 [04:22<07:38,  3.58s/it]\u001b[A\n",
      " 36%|███▌      | 71/198 [04:25<06:43,  3.18s/it]\u001b[A\n",
      " 36%|███▋      | 72/198 [04:30<07:52,  3.75s/it]\u001b[A\n",
      " 37%|███▋      | 73/198 [04:33<07:13,  3.46s/it]\u001b[A\n",
      " 37%|███▋      | 74/198 [04:35<06:41,  3.24s/it]\u001b[A\n",
      " 38%|███▊      | 75/198 [04:40<07:25,  3.62s/it]\u001b[A\n",
      " 38%|███▊      | 76/198 [04:46<08:52,  4.37s/it]\u001b[A\n",
      " 39%|███▉      | 77/198 [04:51<09:26,  4.69s/it]\u001b[A\n",
      " 39%|███▉      | 78/198 [04:57<10:17,  5.15s/it]\u001b[A\n",
      " 40%|███▉      | 79/198 [05:02<09:39,  4.87s/it]\u001b[A\n",
      " 40%|████      | 80/198 [05:07<09:52,  5.02s/it]\u001b[A\n",
      " 41%|████      | 81/198 [05:10<08:46,  4.50s/it]\u001b[A\n",
      " 41%|████▏     | 82/198 [05:14<08:09,  4.22s/it]\u001b[A\n",
      " 42%|████▏     | 83/198 [05:17<07:33,  3.95s/it]\u001b[A\n",
      " 42%|████▏     | 84/198 [05:20<06:55,  3.65s/it]\u001b[A\n",
      " 43%|████▎     | 85/198 [05:22<05:52,  3.12s/it]\u001b[A\n",
      " 43%|████▎     | 86/198 [05:25<05:42,  3.05s/it]\u001b[A\n",
      " 44%|████▍     | 87/198 [05:26<04:47,  2.59s/it]\u001b[A\n",
      " 44%|████▍     | 88/198 [05:28<04:23,  2.39s/it]\u001b[A\n",
      " 45%|████▍     | 89/198 [05:32<04:50,  2.66s/it]\u001b[A\n",
      " 45%|████▌     | 90/198 [05:39<07:06,  3.95s/it]\u001b[A\n",
      " 46%|████▌     | 91/198 [05:43<07:18,  4.10s/it]\u001b[A\n",
      " 46%|████▋     | 92/198 [05:47<07:14,  4.10s/it]\u001b[A\n",
      " 47%|████▋     | 93/198 [05:51<07:00,  4.01s/it]\u001b[A\n",
      " 47%|████▋     | 94/198 [05:55<06:45,  3.89s/it]\u001b[A\n",
      " 48%|████▊     | 95/198 [05:57<06:08,  3.58s/it]\u001b[A\n",
      " 48%|████▊     | 96/198 [06:01<05:57,  3.51s/it]\u001b[A\n",
      " 49%|████▉     | 97/198 [06:03<05:23,  3.20s/it]\u001b[A\n",
      " 49%|████▉     | 98/198 [06:07<05:35,  3.35s/it]\u001b[A\n",
      " 50%|█████     | 99/198 [06:10<05:15,  3.19s/it]\u001b[A\n",
      " 51%|█████     | 100/198 [06:12<04:53,  3.00s/it]\u001b[A\n",
      " 51%|█████     | 101/198 [06:21<07:28,  4.63s/it]\u001b[A\n",
      " 52%|█████▏    | 102/198 [06:26<07:30,  4.69s/it]\u001b[A\n",
      " 52%|█████▏    | 103/198 [06:30<07:27,  4.71s/it]\u001b[A\n",
      " 53%|█████▎    | 104/198 [06:35<07:09,  4.57s/it]\u001b[A\n",
      " 53%|█████▎    | 105/198 [06:39<06:46,  4.37s/it]\u001b[A\n",
      " 54%|█████▎    | 106/198 [06:44<07:12,  4.71s/it]\u001b[A\n",
      " 54%|█████▍    | 107/198 [06:47<06:32,  4.32s/it]\u001b[A\n",
      " 55%|█████▍    | 108/198 [06:50<05:47,  3.86s/it]\u001b[A\n",
      " 55%|█████▌    | 109/198 [06:51<04:32,  3.07s/it]\u001b[A\n",
      " 56%|█████▌    | 110/198 [06:53<03:46,  2.58s/it]\u001b[A\n",
      " 56%|█████▌    | 111/198 [06:55<03:44,  2.58s/it]\u001b[A\n",
      " 57%|█████▋    | 112/198 [07:00<04:30,  3.14s/it]\u001b[A\n",
      " 57%|█████▋    | 113/198 [07:03<04:16,  3.02s/it]\u001b[A\n",
      " 58%|█████▊    | 114/198 [07:07<04:37,  3.30s/it]\u001b[A\n",
      " 58%|█████▊    | 115/198 [07:13<05:53,  4.26s/it]\u001b[A\n",
      " 59%|█████▊    | 116/198 [07:19<06:38,  4.86s/it]\u001b[A\n",
      " 59%|█████▉    | 117/198 [07:27<07:52,  5.84s/it]\u001b[A\n",
      " 60%|█████▉    | 118/198 [07:32<07:06,  5.33s/it]\u001b[A\n",
      " 60%|██████    | 119/198 [07:36<06:39,  5.06s/it]\u001b[A\n",
      " 61%|██████    | 120/198 [07:43<07:12,  5.54s/it]\u001b[A\n",
      " 61%|██████    | 121/198 [07:50<07:35,  5.91s/it]\u001b[A\n",
      " 62%|██████▏   | 122/198 [07:55<07:23,  5.83s/it]\u001b[A\n",
      " 62%|██████▏   | 123/198 [07:59<06:29,  5.20s/it]\u001b[A\n",
      " 63%|██████▎   | 124/198 [08:02<05:46,  4.68s/it]\u001b[A\n",
      " 63%|██████▎   | 125/198 [08:05<05:01,  4.13s/it]\u001b[A\n",
      " 64%|██████▎   | 126/198 [08:08<04:25,  3.69s/it]\u001b[A\n",
      " 64%|██████▍   | 127/198 [08:11<04:03,  3.43s/it]\u001b[A\n",
      " 65%|██████▍   | 128/198 [08:13<03:44,  3.21s/it]\u001b[A\n",
      " 65%|██████▌   | 129/198 [08:15<03:11,  2.77s/it]\u001b[A\n",
      " 66%|██████▌   | 130/198 [08:17<02:51,  2.53s/it]\u001b[A\n",
      " 66%|██████▌   | 131/198 [08:19<02:29,  2.24s/it]\u001b[A\n",
      " 67%|██████▋   | 132/198 [08:20<02:07,  1.94s/it]\u001b[A\n",
      " 67%|██████▋   | 133/198 [08:24<02:54,  2.69s/it]\u001b[A\n",
      " 68%|██████▊   | 134/198 [08:29<03:32,  3.32s/it]\u001b[A\n",
      " 68%|██████▊   | 135/198 [08:34<03:49,  3.64s/it]\u001b[A\n",
      " 69%|██████▊   | 136/198 [08:38<03:59,  3.86s/it]\u001b[A\n",
      " 69%|██████▉   | 137/198 [08:42<03:54,  3.85s/it]\u001b[A\n",
      " 70%|██████▉   | 138/198 [08:45<03:39,  3.65s/it]\u001b[A\n",
      " 70%|███████   | 139/198 [08:48<03:28,  3.54s/it]\u001b[A\n",
      " 71%|███████   | 140/198 [08:52<03:32,  3.67s/it]\u001b[A\n",
      " 71%|███████   | 141/198 [08:57<03:54,  4.11s/it]\u001b[A\n",
      " 72%|███████▏  | 142/198 [09:02<03:58,  4.26s/it]\u001b[A\n",
      " 72%|███████▏  | 143/198 [09:05<03:35,  3.93s/it]\u001b[A\n",
      " 73%|███████▎  | 144/198 [09:10<03:40,  4.09s/it]\u001b[A\n",
      " 73%|███████▎  | 145/198 [09:16<04:16,  4.84s/it]\u001b[A\n",
      " 74%|███████▎  | 146/198 [09:21<04:12,  4.85s/it]\u001b[A\n",
      " 74%|███████▍  | 147/198 [09:25<03:47,  4.46s/it]\u001b[A\n",
      " 75%|███████▍  | 148/198 [09:28<03:32,  4.24s/it]\u001b[A\n",
      " 75%|███████▌  | 149/198 [09:32<03:20,  4.09s/it]\u001b[A\n",
      " 76%|███████▌  | 150/198 [09:37<03:29,  4.36s/it]\u001b[A\n",
      " 76%|███████▋  | 151/198 [09:39<02:50,  3.63s/it]\u001b[A\n",
      " 77%|███████▋  | 152/198 [09:42<02:35,  3.38s/it]\u001b[A\n",
      " 77%|███████▋  | 153/198 [09:43<02:06,  2.81s/it]\u001b[A\n",
      " 78%|███████▊  | 154/198 [09:45<01:50,  2.50s/it]\u001b[A\n",
      " 78%|███████▊  | 155/198 [09:48<01:51,  2.58s/it]\u001b[A\n",
      " 79%|███████▉  | 156/198 [09:53<02:26,  3.50s/it]\u001b[A\n",
      " 79%|███████▉  | 157/198 [09:58<02:42,  3.96s/it]\u001b[A\n",
      " 80%|███████▉  | 158/198 [10:02<02:29,  3.73s/it]\u001b[A\n",
      " 80%|████████  | 159/198 [10:05<02:16,  3.50s/it]\u001b[A\n",
      " 81%|████████  | 160/198 [10:10<02:34,  4.06s/it]\u001b[A\n",
      " 81%|████████▏ | 161/198 [10:13<02:19,  3.78s/it]\u001b[A\n",
      " 82%|████████▏ | 162/198 [10:17<02:15,  3.76s/it]\u001b[A\n",
      " 82%|████████▏ | 163/198 [10:20<02:11,  3.75s/it]\u001b[A\n",
      " 83%|████████▎ | 164/198 [10:26<02:27,  4.33s/it]\u001b[A\n",
      " 83%|████████▎ | 165/198 [10:31<02:24,  4.37s/it]\u001b[A\n",
      " 84%|████████▍ | 166/198 [10:36<02:29,  4.68s/it]\u001b[A\n",
      " 84%|████████▍ | 167/198 [10:42<02:36,  5.03s/it]\u001b[A\n",
      " 85%|████████▍ | 168/198 [10:48<02:37,  5.24s/it]\u001b[A\n",
      " 85%|████████▌ | 169/198 [10:50<02:03,  4.27s/it]\u001b[A\n",
      " 86%|████████▌ | 170/198 [10:52<01:42,  3.68s/it]\u001b[A\n",
      " 86%|████████▋ | 171/198 [10:55<01:35,  3.52s/it]\u001b[A\n",
      " 87%|████████▋ | 172/198 [10:58<01:30,  3.46s/it]\u001b[A\n",
      " 87%|████████▋ | 173/198 [11:00<01:12,  2.88s/it]\u001b[A\n",
      " 88%|████████▊ | 174/198 [11:02<01:06,  2.77s/it]\u001b[A\n",
      " 88%|████████▊ | 175/198 [11:04<00:54,  2.35s/it]\u001b[A\n",
      " 89%|████████▉ | 176/198 [11:05<00:45,  2.09s/it]\u001b[A\n",
      " 89%|████████▉ | 177/198 [11:09<00:51,  2.46s/it]\u001b[A\n",
      " 90%|████████▉ | 178/198 [11:13<00:58,  2.91s/it]\u001b[A\n",
      " 90%|█████████ | 179/198 [11:15<00:53,  2.80s/it]\u001b[A\n",
      " 91%|█████████ | 180/198 [11:18<00:49,  2.72s/it]\u001b[A\n",
      " 91%|█████████▏| 181/198 [11:20<00:45,  2.67s/it]\u001b[A\n",
      " 92%|█████████▏| 182/198 [11:24<00:46,  2.88s/it]\u001b[A\n",
      " 92%|█████████▏| 183/198 [11:25<00:36,  2.42s/it]\u001b[A\n",
      " 93%|█████████▎| 184/198 [11:31<00:51,  3.65s/it]\u001b[A\n",
      " 93%|█████████▎| 185/198 [11:36<00:52,  4.01s/it]\u001b[A\n",
      " 94%|█████████▍| 186/198 [11:41<00:52,  4.34s/it]\u001b[A\n",
      " 94%|█████████▍| 187/198 [11:49<00:57,  5.27s/it]\u001b[A\n",
      " 95%|█████████▍| 188/198 [11:54<00:51,  5.15s/it]\u001b[A\n",
      " 95%|█████████▌| 189/198 [12:00<00:49,  5.49s/it]\u001b[A\n",
      " 96%|█████████▌| 190/198 [12:02<00:36,  4.53s/it]\u001b[A\n",
      " 96%|█████████▋| 191/198 [12:05<00:27,  3.93s/it]\u001b[A\n",
      " 97%|█████████▋| 192/198 [12:08<00:22,  3.79s/it]\u001b[A\n",
      " 97%|█████████▋| 193/198 [12:11<00:17,  3.57s/it]\u001b[A\n",
      " 98%|█████████▊| 194/198 [12:13<00:12,  3.01s/it]\u001b[A\n",
      " 98%|█████████▊| 195/198 [12:14<00:07,  2.53s/it]\u001b[A\n",
      " 99%|█████████▉| 196/198 [12:17<00:04,  2.46s/it]\u001b[A\n",
      " 99%|█████████▉| 197/198 [12:18<00:02,  2.13s/it]\u001b[A\n",
      "100%|██████████| 198/198 [12:19<00:00,  3.74s/it]\u001b[A\n"
     ]
    }
   ],
   "source": [
    "gc_reads_snps_df = pl.concat([(pl.scan_parquet(filename)\n",
    "    .join(gcs_df.select(\"read_name\").lazy(), on=\"read_name\")\n",
    ").collect() for filename in tqdm(snp_filenames)])\n"
   ]
  },
  {
   "cell_type": "code",
   "execution_count": 20,
   "id": "fc8ef7fc-e542-43e1-b198-1c7eb40afa71",
   "metadata": {},
   "outputs": [
    {
     "data": {
      "text/plain": [
       "{'read_name': 'm64178e_220829_002441/140052607/ccs',\n",
       " 'read_length': 11215,\n",
       " 'n_transitions': 2,\n",
       " 'idx_transitions': [2, 3],\n",
       " 'snp_positions_on_read': [2085,\n",
       "  3231,\n",
       "  3830,\n",
       "  5695,\n",
       "  6081,\n",
       "  7655,\n",
       "  8052,\n",
       "  8856,\n",
       "  9281],\n",
       " 'class': 'GC',\n",
       " 'min_coverage_between_transitions_hap1': 6,\n",
       " 'min_coverage_between_transitions_hap2': 5,\n",
       " 'has_common_transition': False,\n",
       " 'chrom': 'chr1_RagTag',\n",
       " 'sample_id': 'PD50477f'}"
      ]
     },
     "metadata": {},
     "output_type": "display_data"
    }
   ],
   "source": [
    "d = gcs_df.row(0, named=True)\n",
    "display(d)"
   ]
  },
  {
   "cell_type": "code",
   "execution_count": 35,
   "id": "d3406314-1786-4272-99b7-8356951c4d5d",
   "metadata": {},
   "outputs": [],
   "source": [
    "dfs = []\n",
    "for d in gcs_df.iter_rows(named=True):\n",
    "    read_subdf = (gc_reads_snps_df\n",
    "        .filter(pl.col(\"is_high_quality_snp\"))\n",
    "        .filter(pl.col(\"read_name\") == d[\"read_name\"])    \n",
    "    )\n",
    "\n",
    "    which = read_subdf.row(0, named=True)[\"op1\"]\n",
    "    seq_df = (read_subdf\n",
    "        .filter(pl.col(\"op1\") != which)\n",
    "        .select([\"refseq_start1\", \"refseq_start2\"])\n",
    "        .with_columns(which=which)\n",
    "    )\n",
    "    \n",
    "    dfs.append(seq_df)\n",
    "\n",
    "all_seq_df = pl.concat(dfs)"
   ]
  },
  {
   "cell_type": "code",
   "execution_count": 46,
   "id": "85bcc9f0-9bd5-42ff-a51c-641d79ae10b6",
   "metadata": {},
   "outputs": [],
   "source": [
    "converted = all_seq_df.select(\n",
    "    pl.when(pl.col(\"which\") == 8)\n",
    "    .then(pl.col(\"refseq_start1\"))\n",
    "    .otherwise(pl.col(\"refseq_start2\"))\n",
    "    .alias(\"converted\")\n",
    ")"
   ]
  },
  {
   "cell_type": "code",
   "execution_count": 47,
   "id": "d60ebd71-cf9e-4c56-b7ac-005d54f7738a",
   "metadata": {},
   "outputs": [
    {
     "data": {
      "text/html": [
       "<div><style>\n",
       ".dataframe > thead > tr,\n",
       ".dataframe > tbody > tr {\n",
       "  text-align: right;\n",
       "  white-space: pre-wrap;\n",
       "}\n",
       "</style>\n",
       "<small>shape: (4, 2)</small><table border=\"1\" class=\"dataframe\"><thead><tr><th>converted</th><th>count</th></tr><tr><td>str</td><td>u32</td></tr></thead><tbody><tr><td>&quot;T&quot;</td><td>108</td></tr><tr><td>&quot;C&quot;</td><td>168</td></tr><tr><td>&quot;A&quot;</td><td>117</td></tr><tr><td>&quot;G&quot;</td><td>162</td></tr></tbody></table></div>"
      ],
      "text/plain": [
       "shape: (4, 2)\n",
       "┌───────────┬───────┐\n",
       "│ converted ┆ count │\n",
       "│ ---       ┆ ---   │\n",
       "│ str       ┆ u32   │\n",
       "╞═══════════╪═══════╡\n",
       "│ T         ┆ 108   │\n",
       "│ C         ┆ 168   │\n",
       "│ A         ┆ 117   │\n",
       "│ G         ┆ 162   │\n",
       "└───────────┴───────┘"
      ]
     },
     "execution_count": 47,
     "metadata": {},
     "output_type": "execute_result"
    }
   ],
   "source": [
    "converted[\"converted\"].value_counts()"
   ]
  },
  {
   "cell_type": "code",
   "execution_count": 51,
   "id": "97eb0755-f1fe-4aa2-b73d-bd738db1d90a",
   "metadata": {},
   "outputs": [
    {
     "data": {
      "text/plain": [
       "BinomTestResult(k=330, n=555, alternative='two-sided', statistic=0.5945945945945946, pvalue=9.556722248824026e-06)"
      ]
     },
     "execution_count": 51,
     "metadata": {},
     "output_type": "execute_result"
    }
   ],
   "source": [
    "scipy.stats.binomtest(168+162, len(converted))"
   ]
  },
  {
   "cell_type": "code",
   "execution_count": 52,
   "id": "bec4c3ed-b7dd-4198-ae39-ad9494426152",
   "metadata": {},
   "outputs": [
    {
     "data": {
      "text/plain": [
       "0.5945945945945946"
      ]
     },
     "execution_count": 52,
     "metadata": {},
     "output_type": "execute_result"
    }
   ],
   "source": [
    "330/555"
   ]
  },
  {
   "cell_type": "code",
   "execution_count": null,
   "id": "6d0bad42-2fb7-4ab3-b0e4-26050814cb80",
   "metadata": {},
   "outputs": [],
   "source": []
  }
 ],
 "metadata": {
  "kernelspec": {
   "display_name": "sperm",
   "language": "python",
   "name": "sperm"
  },
  "language_info": {
   "codemirror_mode": {
    "name": "ipython",
    "version": 3
   },
   "file_extension": ".py",
   "mimetype": "text/x-python",
   "name": "python",
   "nbconvert_exporter": "python",
   "pygments_lexer": "ipython3",
   "version": "3.11.6"
  }
 },
 "nbformat": 4,
 "nbformat_minor": 5
}
