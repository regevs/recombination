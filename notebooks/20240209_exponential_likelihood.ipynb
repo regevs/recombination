{
 "cells": [
  {
   "cell_type": "code",
   "execution_count": 1,
   "id": "75489a85-60b8-453d-a5b2-53cd47ed7589",
   "metadata": {},
   "outputs": [],
   "source": [
    "%load_ext autoreload\n",
    "%autoreload 2"
   ]
  },
  {
   "cell_type": "code",
   "execution_count": 2,
   "id": "fefb9897-307d-4ddd-8569-59890792934c",
   "metadata": {},
   "outputs": [],
   "source": [
    "import numpy as np\n",
    "import pandas as pd\n",
    "import matplotlib as mpl\n",
    "import matplotlib.pyplot as plt\n",
    "import matplotlib.ticker as ticker\n",
    "import numba\n",
    "import numba.typed\n",
    "\n",
    "from pathlib import Path\n",
    "from tqdm import trange, tqdm\n",
    "import sys\n",
    "import seaborn as sns\n",
    "import scipy.stats\n",
    "import os\n",
    "import pysam\n",
    "import pprint\n",
    "import pickle\n",
    "import joblib\n",
    "import polars as pl\n",
    "\n",
    "# This is needed before pybedtools to make sure bedtools is imported on sanger JupyterHub \n",
    "os.environ[\"PATH\"] += \":\" + os.path.join(sys.prefix, \"bin\")\n",
    "import pybedtools\n",
    "\n",
    "pd.set_option('display.max_rows', 1000)\n"
   ]
  },
  {
   "cell_type": "code",
   "execution_count": 3,
   "id": "8372b0c6-01e0-476c-9537-1b088b657664",
   "metadata": {},
   "outputs": [],
   "source": [
    "sys.path.append(str(Path(os.getcwd()).parent))\n",
    "from src import liftover, annotate, diagnostics, inference"
   ]
  },
  {
   "cell_type": "code",
   "execution_count": 4,
   "id": "cebcb2e9-cd9e-4d94-8a5b-dcfe0e946215",
   "metadata": {},
   "outputs": [],
   "source": [
    "aut_chrom_names = [f\"chr{i}\" for i in list(range(1, 23))]\n",
    "chrom_names = aut_chrom_names + [\"chrX\", \"chrY\"]"
   ]
  },
  {
   "cell_type": "markdown",
   "id": "a6ad313a-e834-4ba6-9ffa-9e43181e0992",
   "metadata": {},
   "source": [
    "# Read the classified events"
   ]
  },
  {
   "cell_type": "code",
   "execution_count": 5,
   "id": "739e9ea7-75cb-4bda-bcf0-f790ca62e569",
   "metadata": {},
   "outputs": [],
   "source": [
    "# Samples to do\n",
    "sample_ids = [\n",
    "    \"PD50477f\",\n",
    "    # \"PD50508bf\", -- ignore; merged two sampling dates just for phasing, but should be analyzed separately\n",
    "    \"PD50519d\",\n",
    "    # \"PD47269d\", -- don't use, not there\n",
    "    \"PD50508f\",\n",
    "    # \"PD50511e\", -- don't use, likely mixture\n",
    "    \"PD50523b\",\n",
    "    # \"PD48473b\", -- don't use, not there\n",
    "    \"PD50521b\",\n",
    "    \"PD50508b\",\n",
    "    # \"PD50521be\", -- ignore; merged two sampling dates just for phasing, but should be analyzed separately\n",
    "    \"PD46180c\",\n",
    "    # \"PD50502f\", -- don't use, likely mixture\n",
    "    \"PD50521e\",\n",
    "    # \"PD50511e_SS\",  --- don't use\n",
    "    \"PD50489e\",\n",
    "]\n",
    "\n",
    "cls_df = pl.concat([\n",
    "    pl.read_parquet(\n",
    "        str(Path(\"/lustre/scratch126/casm/team154pc/sl17/03.sperm/02.results/01.read_alignment/01.ccs/04.hifiasm/02.hifiasm_0.19.5-r592/02.chromosome_length_scaffolds\")\n",
    "            / f\"{focal_sample_id}\" / \"reads\" / f\"{chrom}_RagTag.certainty_0.95.classified_reads.parquet\")\n",
    "    ) \\\n",
    "    for focal_sample_id in sample_ids\n",
    "    for chrom in aut_chrom_names\n",
    "])"
   ]
  },
  {
   "cell_type": "code",
   "execution_count": 6,
   "id": "51752573-4276-4232-96b2-81f1c7099dca",
   "metadata": {},
   "outputs": [],
   "source": [
    "trusty_cls_df = (cls_df\n",
    "    .filter(~pl.col(\"has_common_transition\"))\n",
    "    .filter(pl.col(\"min_coverage_between_transitions_hap1\") >= 3)\n",
    "    .filter(pl.col(\"min_coverage_between_transitions_hap2\") >= 3)\n",
    ")"
   ]
  },
  {
   "cell_type": "markdown",
   "id": "4ea3ffa6-4a57-4f23-9568-2715048f9c17",
   "metadata": {},
   "source": [
    "# Utils"
   ]
  },
  {
   "cell_type": "code",
   "execution_count": 7,
   "id": "69fac72b-33fb-4854-82a9-263b2878a038",
   "metadata": {},
   "outputs": [],
   "source": [
    "def hist_transitions(df, upto=2):\n",
    "    return np.histogram(df[\"n_transitions\"], bins=np.arange(upto+2), density=True)[0]"
   ]
  },
  {
   "cell_type": "markdown",
   "id": "1fb7cc67-82a6-434e-8981-b59821509a4d",
   "metadata": {},
   "source": [
    "# Functions to get call set for a single sample"
   ]
  },
  {
   "cell_type": "code",
   "execution_count": 17,
   "id": "97f0f82a-ce3f-4e7a-8f15-c812c2004d7e",
   "metadata": {},
   "outputs": [],
   "source": [
    "def generate_call_set(focal_sample_ids, take_every=1, bootstrap=False):\n",
    "    # Create the joint dataframe\n",
    "    both_df = (\n",
    "        trusty_cls_df\n",
    "            .filter(pl.col(\"sample_id\").is_in(focal_sample_ids))\n",
    "            .select([\"read_length\", \"snp_positions_on_read\", \"idx_transitions\", \"sample_id\", \"read_name\"])\n",
    "            .with_columns(weight = 1)        \n",
    "    )    \n",
    "    \n",
    "    # Bootstrap if needed\n",
    "    if bootstrap:\n",
    "        both_df = both_df.sample(n = len(both_df), with_replacement = True)\n",
    "    \n",
    "    # Add useful fields\n",
    "    aug_both_df = (both_df\n",
    "        .with_columns(\n",
    "            prob_inside = 1 - (pl.col(\"snp_positions_on_read\").list.get(0) + pl.col(\"read_length\") - pl.col(\"snp_positions_on_read\").list.get(-1)) / pl.col(\"read_length\"),\n",
    "            n_transitions = pl.col(\"idx_transitions\").list.len(),\n",
    "        )\n",
    "        .with_columns(\n",
    "            rounded_prob_inside = pl.col(\"prob_inside\") // 0.1 * 0.1,\n",
    "        )\n",
    "    )\n",
    "    \n",
    "    # Just take GC-s\n",
    "    aug_both_df = aug_both_df.filter(pl.col(\"n_transitions\") == 2)\n",
    "    \n",
    "    return aug_both_df\n"
   ]
  },
  {
   "cell_type": "code",
   "execution_count": null,
   "id": "377cc2c9-4360-49e7-9f9d-6ac72342f5ea",
   "metadata": {},
   "outputs": [],
   "source": []
  },
  {
   "cell_type": "code",
   "execution_count": 55,
   "id": "cd917a46-6a53-4e7a-a41c-18c5978a95aa",
   "metadata": {},
   "outputs": [],
   "source": [
    "def extract_exponential_samples(\n",
    "    idx_transitions,\n",
    "    snp_positions_on_read,\n",
    "):\n",
    "    dists = []\n",
    "    is_continued = []\n",
    "    \n",
    "    # Which SNP indices are different?\n",
    "    diff_snp_indices = np.arange(idx_transitions[0]+1, idx_transitions[1]+1)\n",
    "      \n",
    "    for i in diff_snp_indices:\n",
    "        # Try left\n",
    "        dists.append(snp_positions_on_read[i] - snp_positions_on_read[i-1])\n",
    "        is_continued.append(i-1 in diff_snp_indices)\n",
    "        \n",
    "        # Try right\n",
    "        dists.append(snp_positions_on_read[i+1] - snp_positions_on_read[i])\n",
    "        is_continued.append(i+1 in diff_snp_indices)\n",
    "    \n",
    "    return dists, is_continued\n",
    "    \n",
    "\n",
    "def exponential_likelihood(\n",
    "    all_dists,\n",
    "    all_is_continued,\n",
    "    mean_tract_length,\n",
    "):\n",
    "    lmb = 1/mean_tract_length\n",
    "    prob_conv = np.exp(-lmb * all_dists)\n",
    "    all_is_continued_bool = np.array(all_is_continued).astype(int)\n",
    "    \n",
    "    LL = (all_is_continued_bool * np.log(prob_conv) + (1-all_is_continued_bool) * np.log(1-prob_conv)).sum()\n",
    "    \n",
    "    return LL\n",
    "\n",
    "def get_best_tract_length(df):\n",
    "    lsts = [extract_exponential_samples(*xx) \\\n",
    "        for xx in zip(df[\"idx_transitions\"].to_numpy(), df[\"snp_positions_on_read\"].to_numpy())]\n",
    "    all_dists, all_is_continued = zip(*lsts)\n",
    "\n",
    "    all_dists = np.concatenate(all_dists)\n",
    "    all_is_continued = np.concatenate(all_is_continued)\n",
    "    \n",
    "    tts = np.arange(1, 1000, 0.1)\n",
    "    lls = [exponential_likelihood(\n",
    "        all_dists,\n",
    "        all_is_continued,\n",
    "        tt\n",
    "    ) for tt in tts]\n",
    "    \n",
    "    return tts, lls"
   ]
  },
  {
   "cell_type": "code",
   "execution_count": 36,
   "id": "614477c2-2595-4498-bcba-551637374b41",
   "metadata": {},
   "outputs": [],
   "source": []
  },
  {
   "cell_type": "code",
   "execution_count": 82,
   "id": "710ef95c-aa82-45bc-862e-e4aed8f69832",
   "metadata": {},
   "outputs": [
    {
     "name": "stderr",
     "output_type": "stream",
     "text": [
      "/tmp/ipykernel_4524/1674801664.py:32: RuntimeWarning: divide by zero encountered in log\n",
      "  LL = (all_is_continued_bool * np.log(prob_conv) + (1-all_is_continued_bool) * np.log(1-prob_conv)).sum()\n",
      "/tmp/ipykernel_4524/1674801664.py:32: RuntimeWarning: invalid value encountered in multiply\n",
      "  LL = (all_is_continued_bool * np.log(prob_conv) + (1-all_is_continued_bool) * np.log(1-prob_conv)).sum()\n"
     ]
    },
    {
     "data": {
      "image/png": "[encoded data removed]",
      "text/plain": [
       "<Figure size 640x480 with 1 Axes>"
      ]
     },
     "metadata": {},
     "output_type": "display_data"
    }
   ],
   "source": [
    "df = generate_call_set(sample_ids, 100, False)\n",
    "df = df.sample(n=len(df), with_replacement=True)\n",
    "tts, lls = get_best_tract_length(df)\n",
    "plt.plot(tts, lls);\n",
    "plt.xlim(0, 500);\n",
    "max_tt = tts[np.nanargmax(lls)]\n",
    "plt.title(f\"Max = {max_tt:1.3f}\");\n",
    "plt.axvline(max_tt, color=\"black\", ls=\"--\", lw=0.5);"
   ]
  },
  {
   "cell_type": "code",
   "execution_count": null,
   "id": "b9d0773d-ecc4-40a1-b588-ac3a5bc926ff",
   "metadata": {},
   "outputs": [],
   "source": []
  },
  {
   "cell_type": "code",
   "execution_count": null,
   "id": "192b4cec-299b-45e6-9bc4-de90736a7b0c",
   "metadata": {},
   "outputs": [],
   "source": []
  },
  {
   "cell_type": "code",
   "execution_count": null,
   "id": "a7c043bc-a2f5-49d3-b8c9-5cbbc5873eaf",
   "metadata": {},
   "outputs": [],
   "source": []
  }
 ],
 "metadata": {
  "kernelspec": {
   "display_name": "sperm",
   "language": "python",
   "name": "sperm"
  },
  "language_info": {
   "codemirror_mode": {
    "name": "ipython",
    "version": 3
   },
   "file_extension": ".py",
   "mimetype": "text/x-python",
   "name": "python",
   "nbconvert_exporter": "python",
   "pygments_lexer": "ipython3",
   "version": "3.11.6"
  }
 },
 "nbformat": 4,
 "nbformat_minor": 5
}
