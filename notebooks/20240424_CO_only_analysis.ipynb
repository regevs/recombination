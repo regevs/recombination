{
 "cells": [
  {
   "cell_type": "code",
   "execution_count": 1,
   "id": "62835377-b4cd-4156-961f-aff63af55f03",
   "metadata": {},
   "outputs": [],
   "source": [
    "%load_ext autoreload\n",
    "%autoreload 2"
   ]
  },
  {
   "cell_type": "code",
   "execution_count": 2,
   "id": "db6998e2-be02-4c2c-a0fb-3b2d5b8f0c13",
   "metadata": {},
   "outputs": [],
   "source": [
    "import numpy as np\n",
    "import pandas as pd\n",
    "import matplotlib as mpl\n",
    "import matplotlib.pyplot as plt\n",
    "import matplotlib.ticker as ticker\n",
    "import numba\n",
    "import numba.typed\n",
    "\n",
    "from pathlib import Path\n",
    "import tqdm\n",
    "import sys\n",
    "import seaborn as sns\n",
    "import scipy.stats\n",
    "import os\n",
    "import pysam\n",
    "import pprint\n",
    "import pickle\n",
    "import joblib\n",
    "import subprocess\n",
    "import io\n",
    "import itertools\n",
    "import warnings\n",
    "import statsmodels.stats.proportion\n",
    "\n",
    "import polars as pl\n",
    "pl.Config.set_tbl_rows(-1)\n",
    "pl.Config.set_fmt_str_lengths(50)\n",
    "\n",
    "\n",
    "from brokenaxes import brokenaxes\n",
    "from adjustText import adjust_text\n",
    "\n",
    "\n",
    "# This is needed before pybedtools to make sure bedtools is imported on sanger JupyterHub \n",
    "os.environ[\"PATH\"] += \":\" + os.path.join(sys.prefix, \"bin\")\n",
    "import pybedtools\n",
    "\n",
    "pd.set_option('display.max_rows', 1000)\n"
   ]
  },
  {
   "cell_type": "code",
   "execution_count": 3,
   "id": "83b89977-2653-4aa8-90d3-52ab74be1e7f",
   "metadata": {},
   "outputs": [],
   "source": [
    "sys.path.append(str(Path(os.getcwd()).parent))\n",
    "from src import liftover, annotate, diagnostics, inference\n",
    "from src.IDs import *\n"
   ]
  },
  {
   "cell_type": "markdown",
   "id": "5ce914e7-e910-4ac0-a4a4-6af2412cb48e",
   "metadata": {},
   "source": [
    "# Add relevant fields to the dataframe of all reads"
   ]
  },
  {
   "cell_type": "markdown",
   "id": "40e32938-de08-4ab9-9d2b-f3a5e4002d3f",
   "metadata": {},
   "source": [
    "## Create reads dataframe"
   ]
  },
  {
   "cell_type": "code",
   "execution_count": 4,
   "id": "a3beb5cc-cab8-4dfd-aad8-5e04739b222d",
   "metadata": {},
   "outputs": [
    {
     "name": "stderr",
     "output_type": "stream",
     "text": [
      "100%|██████████| 15/15 [00:07<00:00,  1.90it/s]"
     ]
    },
    {
     "name": "stdout",
     "output_type": "stream",
     "text": [
      "CPU times: user 204 ms, sys: 236 ms, total: 440 ms\n",
      "Wall time: 7.9 s\n"
     ]
    },
    {
     "name": "stderr",
     "output_type": "stream",
     "text": [
      "\n"
     ]
    }
   ],
   "source": [
    "%%time\n",
    "reads_df = pl.concat([\n",
    "    pl.scan_parquet(\n",
    "        f\"/lustre/scratch126/casm/team154pc/sl17/03.sperm/02.results/01.read_alignment/01.ccs/04.hifiasm/02.hifiasm_0.19.5-r592/02.chromosome_length_scaffolds/{focal_sample_id}/reads/{chrom}_RagTag.certainty_0.95.all_reads_structure_annotated.parquet\"\n",
    "    ) \n",
    "    for focal_sample_id in tqdm.tqdm(sample_ids)\n",
    "    for chrom in aut_chrom_names\n",
    "])"
   ]
  },
  {
   "cell_type": "markdown",
   "id": "38e36ef3-bea0-43f0-b8c7-771b69eb458d",
   "metadata": {},
   "source": [
    "## Subset of reads with at least 4 SNPs"
   ]
  },
  {
   "cell_type": "code",
   "execution_count": 5,
   "id": "f2b0c5dc-f8c5-4956-8c6d-e59e87383350",
   "metadata": {},
   "outputs": [
    {
     "name": "stdout",
     "output_type": "stream",
     "text": [
      "CPU times: user 3min 16s, sys: 36 s, total: 3min 53s\n",
      "Wall time: 1min 29s\n"
     ]
    }
   ],
   "source": [
    "%%time\n",
    "dense_reads_with_detection_df = (reads_df\n",
    "    .select(\n",
    "        'read_name',\n",
    "        'read_length',\n",
    "        'chrom',\n",
    "        'sample_id',\n",
    "        'grch37_chromosome_size_in_bp',\n",
    "        'high_quality_snp_positions',\n",
    "        'CO_active_interval_start',\n",
    "        'CO_active_interval_end',\n",
    "        'CO_active_interval_length_bp',\n",
    "        'grch37_reference_start',\n",
    "        'grch38_reference_start',\n",
    "        'grch37_reference_end',\n",
    "        'grch38_reference_end',\n",
    "        'grch37_reference_start_cM',\n",
    "        'grch37_reference_end_cM',\n",
    "        'CO_active_interval_start_cM',\n",
    "        'CO_active_interval_end_cM',\n",
    "        'CO_active_interval_crossover_prob',\n",
    "        \"mid_CO_active_interval_crossover_prob\",\n",
    "        \"full_read_crossover_prob\",\n",
    "        'AA_motif_center_pos',\n",
    "        'AA_heat',\n",
    "        'AA_motif_strand',\n",
    "        'CL4_motif_center_pos',\n",
    "        'CL4_heat',\n",
    "        'CL4_motif_strand',\n",
    "        'is_high_quality_read',\n",
    "        \"min_coverage_hap1\",\n",
    "        \"min_coverage_hap2\",\n",
    "        \"high_quality_classification_class\",\n",
    "        \"snp_positions_on_read\", \n",
    "        \"idx_transitions\",\n",
    "        \"H3K4me3_signal_mean\",\n",
    "        \"CTCF_signal_sum\",\n",
    "        \"CTCF_signal_mean\",\n",
    "        \"high_quality_classification_in_detectable_class\",\n",
    "    )\n",
    "    .filter(pl.col(\"high_quality_snp_positions\").list.len() >= 4)\n",
    "    .filter(\"is_high_quality_read\")\n",
    "    .filter(pl.col(\"CO_active_interval_crossover_prob\") > 0)\n",
    "    .collect(streaming=True)\n",
    ")"
   ]
  },
  {
   "cell_type": "markdown",
   "id": "eb1c8e80-72f1-4ab1-ba09-6661ad761fec",
   "metadata": {},
   "source": [
    "# # of events, expected vs. observed"
   ]
  },
  {
   "cell_type": "markdown",
   "id": "c0ce4ded-ea77-4d82-ade4-20cbbb389f5f",
   "metadata": {},
   "source": [
    "Carefully constrain the set of reads for this analysis:\n",
    "\n",
    "* Only reads with sufficient coverage, to (over)account for the effect of filtering for coverage between switches\n",
    "* Only high quality reads\n",
    "* We can allow 4 SNPs"
   ]
  },
  {
   "cell_type": "code",
   "execution_count": 6,
   "id": "6995dbff-50d9-43f0-8005-c50364873669",
   "metadata": {},
   "outputs": [],
   "source": [
    "possible_CO_subset_df = (dense_reads_with_detection_df\n",
    "    .filter(pl.col(\"high_quality_snp_positions\").list.len() >= 4)\n",
    "    .filter(\"is_high_quality_read\")\n",
    "    .filter(pl.col(\"mid_CO_active_interval_crossover_prob\") > 0)\n",
    "    .filter(pl.col(\"min_coverage_hap1\") >= 3)\n",
    "    .filter(pl.col(\"min_coverage_hap2\") >= 3)\n",
    ")\n",
    "\n"
   ]
  },
  {
   "cell_type": "code",
   "execution_count": 7,
   "id": "cd24f15a-d9ab-4168-bdbc-f54e0ff28963",
   "metadata": {},
   "outputs": [],
   "source": [
    "def get_obs_exp(df):\n",
    "    n_observed_COs = len(df.filter(pl.col(\"high_quality_classification_class\") == \"CO\"))\n",
    "    \n",
    "    ps = df[\"mid_CO_active_interval_crossover_prob\"].to_numpy()\n",
    "\n",
    "    # Expected is \\sum_{p}\n",
    "    mean_expected_COs = ps.sum()\n",
    "\n",
    "    # Variance is \\sum_{p(1-p)}\n",
    "    std_expected_COs = (ps*(1-ps)).sum()**0.5\n",
    "    \n",
    "    return {\n",
    "        \"n_observed_COs\": n_observed_COs,\n",
    "        \"mean_expected_COs\": mean_expected_COs,\n",
    "        \"std_expected_COs\": std_expected_COs,\n",
    "    }\n",
    "    \n",
    "    "
   ]
  },
  {
   "cell_type": "code",
   "execution_count": 8,
   "id": "27010921-0d6b-4a19-9905-714324513285",
   "metadata": {},
   "outputs": [
    {
     "data": {
      "text/plain": [
       "{'n_observed_COs': 3931,\n",
       " 'mean_expected_COs': 4364.967522012835,\n",
       " 'std_expected_COs': 66.02706153226625}"
      ]
     },
     "execution_count": 8,
     "metadata": {},
     "output_type": "execute_result"
    }
   ],
   "source": [
    "get_obs_exp(possible_CO_subset_df)"
   ]
  },
  {
   "cell_type": "code",
   "execution_count": 9,
   "id": "8943b96e-c3b0-4cd2-bd71-0d4dca0c133b",
   "metadata": {
    "tags": []
   },
   "outputs": [
    {
     "data": {
      "text/plain": [
       "{'n_observed_COs': 1394,\n",
       " 'mean_expected_COs': 1650.2053216048942,\n",
       " 'std_expected_COs': 40.598422170422666}"
      ]
     },
     "execution_count": 9,
     "metadata": {},
     "output_type": "execute_result"
    }
   ],
   "source": [
    "get_obs_exp(possible_CO_subset_df.filter(pl.col(\"sample_id\").is_in(rahbari_sample_ids)))"
   ]
  },
  {
   "cell_type": "code",
   "execution_count": 10,
   "id": "d9e2f45d-1d2a-41b1-983d-a7c1dc35d091",
   "metadata": {},
   "outputs": [
    {
     "ename": "KeyboardInterrupt",
     "evalue": "",
     "output_type": "error",
     "traceback": [
      "\u001b[0;31m---------------------------------------------------------------------------\u001b[0m",
      "\u001b[0;31mKeyboardInterrupt\u001b[0m                         Traceback (most recent call last)",
      "Cell \u001b[0;32mIn[10], line 4\u001b[0m\n\u001b[1;32m      1\u001b[0m fig, ax \u001b[38;5;241m=\u001b[39m plt\u001b[38;5;241m.\u001b[39msubplots(figsize\u001b[38;5;241m=\u001b[39m(\u001b[38;5;241m12\u001b[39m, \u001b[38;5;241m4\u001b[39m))\n\u001b[1;32m      3\u001b[0m \u001b[38;5;28;01mfor\u001b[39;00m i, sample_id \u001b[38;5;129;01min\u001b[39;00m \u001b[38;5;28menumerate\u001b[39m(sample_presentation_order[:\u001b[38;5;241m-\u001b[39m\u001b[38;5;241m1\u001b[39m]):\n\u001b[0;32m----> 4\u001b[0m     d \u001b[38;5;241m=\u001b[39m get_obs_exp(\u001b[43mpossible_CO_subset_df\u001b[49m\u001b[38;5;241;43m.\u001b[39;49m\u001b[43mfilter\u001b[49m\u001b[43m(\u001b[49m\u001b[43mpl\u001b[49m\u001b[38;5;241;43m.\u001b[39;49m\u001b[43mcol\u001b[49m\u001b[43m(\u001b[49m\u001b[38;5;124;43m\"\u001b[39;49m\u001b[38;5;124;43msample_id\u001b[39;49m\u001b[38;5;124;43m\"\u001b[39;49m\u001b[43m)\u001b[49m\u001b[43m \u001b[49m\u001b[38;5;241;43m==\u001b[39;49m\u001b[43m \u001b[49m\u001b[43msample_id\u001b[49m\u001b[43m)\u001b[49m)\n\u001b[1;32m      6\u001b[0m     ax\u001b[38;5;241m.\u001b[39mbarh(\n\u001b[1;32m      7\u001b[0m         y \u001b[38;5;241m=\u001b[39m i,\n\u001b[1;32m      8\u001b[0m         width \u001b[38;5;241m=\u001b[39m d[\u001b[38;5;124m\"\u001b[39m\u001b[38;5;124mn_observed_COs\u001b[39m\u001b[38;5;124m\"\u001b[39m],\n\u001b[1;32m      9\u001b[0m         color \u001b[38;5;241m=\u001b[39m \u001b[38;5;124m\"\u001b[39m\u001b[38;5;124mC0\u001b[39m\u001b[38;5;124m\"\u001b[39m,        \n\u001b[1;32m     10\u001b[0m     );\n\u001b[1;32m     12\u001b[0m     ax\u001b[38;5;241m.\u001b[39merrorbar(\n\u001b[1;32m     13\u001b[0m         x \u001b[38;5;241m=\u001b[39m d[\u001b[38;5;124m\"\u001b[39m\u001b[38;5;124mmean_expected_COs\u001b[39m\u001b[38;5;124m\"\u001b[39m],\n\u001b[1;32m     14\u001b[0m         y \u001b[38;5;241m=\u001b[39m i,\n\u001b[0;32m   (...)\u001b[0m\n\u001b[1;32m     20\u001b[0m         capsize \u001b[38;5;241m=\u001b[39m \u001b[38;5;241m5\u001b[39m,\n\u001b[1;32m     21\u001b[0m     );\n",
      "File \u001b[0;32m/nfs/treeoflife-01/teams/tola/users/rs42/miniconda3/envs/sperm/lib/python3.11/site-packages/polars/dataframe/frame.py:4270\u001b[0m, in \u001b[0;36mDataFrame.filter\u001b[0;34m(self, *predicates, **constraints)\u001b[0m\n\u001b[1;32m   4172\u001b[0m \u001b[38;5;28;01mdef\u001b[39;00m \u001b[38;5;21mfilter\u001b[39m(\n\u001b[1;32m   4173\u001b[0m     \u001b[38;5;28mself\u001b[39m,\n\u001b[1;32m   4174\u001b[0m     \u001b[38;5;241m*\u001b[39mpredicates: (\n\u001b[0;32m   (...)\u001b[0m\n\u001b[1;32m   4181\u001b[0m     \u001b[38;5;241m*\u001b[39m\u001b[38;5;241m*\u001b[39mconstraints: Any,\n\u001b[1;32m   4182\u001b[0m ) \u001b[38;5;241m-\u001b[39m\u001b[38;5;241m>\u001b[39m DataFrame:\n\u001b[1;32m   4183\u001b[0m \u001b[38;5;250m    \u001b[39m\u001b[38;5;124;03m\"\"\"\u001b[39;00m\n\u001b[1;32m   4184\u001b[0m \u001b[38;5;124;03m    Filter the rows in the DataFrame based on one or more predicate expressions.\u001b[39;00m\n\u001b[1;32m   4185\u001b[0m \n\u001b[0;32m   (...)\u001b[0m\n\u001b[1;32m   4268\u001b[0m \u001b[38;5;124;03m    └─────┴─────┴─────┘\u001b[39;00m\n\u001b[1;32m   4269\u001b[0m \u001b[38;5;124;03m    \"\"\"\u001b[39;00m\n\u001b[0;32m-> 4270\u001b[0m     \u001b[38;5;28;01mreturn\u001b[39;00m \u001b[38;5;28;43mself\u001b[39;49m\u001b[38;5;241;43m.\u001b[39;49m\u001b[43mlazy\u001b[49m\u001b[43m(\u001b[49m\u001b[43m)\u001b[49m\u001b[38;5;241;43m.\u001b[39;49m\u001b[43mfilter\u001b[49m\u001b[43m(\u001b[49m\u001b[38;5;241;43m*\u001b[39;49m\u001b[43mpredicates\u001b[49m\u001b[43m,\u001b[49m\u001b[43m \u001b[49m\u001b[38;5;241;43m*\u001b[39;49m\u001b[38;5;241;43m*\u001b[39;49m\u001b[43mconstraints\u001b[49m\u001b[43m)\u001b[49m\u001b[38;5;241;43m.\u001b[39;49m\u001b[43mcollect\u001b[49m\u001b[43m(\u001b[49m\u001b[43m_eager\u001b[49m\u001b[38;5;241;43m=\u001b[39;49m\u001b[38;5;28;43;01mTrue\u001b[39;49;00m\u001b[43m)\u001b[49m\n",
      "File \u001b[0;32m/nfs/treeoflife-01/teams/tola/users/rs42/miniconda3/envs/sperm/lib/python3.11/site-packages/polars/lazyframe/frame.py:1939\u001b[0m, in \u001b[0;36mLazyFrame.collect\u001b[0;34m(self, type_coercion, predicate_pushdown, projection_pushdown, simplify_expression, slice_pushdown, comm_subplan_elim, comm_subexpr_elim, no_optimization, streaming, background, _eager)\u001b[0m\n\u001b[1;32m   1936\u001b[0m \u001b[38;5;28;01mif\u001b[39;00m background:\n\u001b[1;32m   1937\u001b[0m     \u001b[38;5;28;01mreturn\u001b[39;00m InProcessQuery(ldf\u001b[38;5;241m.\u001b[39mcollect_concurrently())\n\u001b[0;32m-> 1939\u001b[0m \u001b[38;5;28;01mreturn\u001b[39;00m wrap_df(ldf\u001b[38;5;241m.\u001b[39mcollect())\n",
      "\u001b[0;31mKeyboardInterrupt\u001b[0m: "
     ]
    },
    {
     "data": {
      "image/png": "[encoded data removed]",
      "text/plain": [
       "<Figure size 1200x400 with 1 Axes>"
      ]
     },
     "metadata": {},
     "output_type": "display_data"
    }
   ],
   "source": [
    "fig, ax = plt.subplots(figsize=(12, 4))\n",
    "\n",
    "for i, sample_id in enumerate(sample_presentation_order[:-1]):\n",
    "    d = get_obs_exp(possible_CO_subset_df.filter(pl.col(\"sample_id\") == sample_id))\n",
    "    \n",
    "    ax.barh(\n",
    "        y = i,\n",
    "        width = d[\"n_observed_COs\"],\n",
    "        color = \"C0\",        \n",
    "    );\n",
    "    \n",
    "    ax.errorbar(\n",
    "        x = d[\"mean_expected_COs\"],\n",
    "        y = i,\n",
    "        xerr = d[\"std_expected_COs\"] * 2,\n",
    "        color = \"red\",\n",
    "        ms = 10,\n",
    "        fmt='o',\n",
    "        elinewidth = 2,\n",
    "        capsize = 5,\n",
    "    );\n",
    "    \n",
    "ax.invert_yaxis()\n",
    "ax.set_yticks(np.arange(len(sample_presentation_order[:-1])), [sample_id_to_paper_label[x] for x in sample_presentation_order[:-1]]);\n",
    "ax.legend([\"Observed\", \"Expected (+/- 2 s.e.)\"]);\n",
    "ax.set_title(\"# of CO reads\");\n",
    "    "
   ]
  },
  {
   "cell_type": "code",
   "execution_count": null,
   "id": "28b0db55-616e-4b3b-90ef-0965942113c4",
   "metadata": {},
   "outputs": [],
   "source": []
  },
  {
   "cell_type": "code",
   "execution_count": null,
   "id": "e1e3b087-5aa0-4bd6-ab20-b5c16600aae6",
   "metadata": {},
   "outputs": [],
   "source": []
  },
  {
   "cell_type": "code",
   "execution_count": null,
   "id": "a09b9289-3ecd-487c-9368-30d70f10afef",
   "metadata": {},
   "outputs": [],
   "source": []
  },
  {
   "cell_type": "code",
   "execution_count": null,
   "id": "1e2adff0-072d-4c12-97aa-d9eb9c89d723",
   "metadata": {},
   "outputs": [],
   "source": []
  },
  {
   "cell_type": "code",
   "execution_count": null,
   "id": "90fce858-f998-495d-99d7-25c139cd4e75",
   "metadata": {},
   "outputs": [],
   "source": []
  },
  {
   "cell_type": "markdown",
   "id": "cb80941e-ee17-465d-9f6d-2169ffc1222a",
   "metadata": {},
   "source": [
    "# Overall rates"
   ]
  },
  {
   "cell_type": "code",
   "execution_count": 11,
   "id": "a0534dad-7086-49bf-9eb3-2854b518c9c1",
   "metadata": {},
   "outputs": [],
   "source": [
    "CO_df = (dense_reads_with_detection_df\n",
    "    .filter(pl.col(\"high_quality_classification_in_detectable_class\") == \"CO\")\n",
    "    .with_columns(\n",
    "        grch37_recombining_interval_start_pos = pl.col(\"grch37_reference_start\") + pl.col(\"snp_positions_on_read\").list.get(pl.col(\"idx_transitions\").list.get(0)),\n",
    "        grch37_recombining_interval_end_pos = pl.col(\"grch37_reference_start\") + pl.col(\"snp_positions_on_read\").list.get(pl.col(\"idx_transitions\").list.get(-1) + 1),\n",
    "        grch38_recombining_interval_start_pos = pl.col(\"grch38_reference_start\") + pl.col(\"snp_positions_on_read\").list.get(pl.col(\"idx_transitions\").list.get(0)),\n",
    "        grch38_recombining_interval_end_pos = pl.col(\"grch38_reference_start\") + pl.col(\"snp_positions_on_read\").list.get(pl.col(\"idx_transitions\").list.get(-1) + 1),\n",
    "    )\n",
    "    .with_columns(\n",
    "        grch37_recombining_interval_length = pl.col(\"grch37_recombining_interval_end_pos\") - pl.col(\"grch37_recombining_interval_start_pos\"),                \n",
    "        grch38_recombining_interval_length = pl.col(\"grch38_recombining_interval_end_pos\") - pl.col(\"grch38_recombining_interval_start_pos\"),                \n",
    "    )\n",
    ")\n",
    "\n",
    "dfs = []\n",
    "for [chrom], df in CO_df.partition_by(by=[\"chrom\"], as_dict=True).items():\n",
    "    rate_map = annotate.rate_maps[chrom]\n",
    "    dfs.append(\n",
    "        df.with_columns(\n",
    "            grch37_recombining_interval_start_poses_cm = rate_map.get_cumulative_mass(df[\"grch37_recombining_interval_start_pos\"]) * 1e2,\n",
    "            grch37_recombining_interval_end_poses_cm = rate_map.get_cumulative_mass(df[\"grch37_recombining_interval_end_pos\"]) * 1e2,\n",
    "        ).with_columns(\n",
    "            grch37_recombining_interval_cM = (pl.col(\"grch37_recombining_interval_end_poses_cm\") - pl.col(\"grch37_recombining_interval_start_poses_cm\")),\n",
    "            grch37_cM_per_bp_across_recombining_interval = (pl.col(\"grch37_recombining_interval_end_poses_cm\") - pl.col(\"grch37_recombining_interval_start_poses_cm\")) / pl.col(\"grch37_recombining_interval_length\"),\n",
    "        )\n",
    "    )\n",
    "    \n",
    "CO_df = pl.concat(dfs)"
   ]
  },
  {
   "cell_type": "markdown",
   "id": "2b9f1b2f-0429-4cf7-b5f6-0020d27792ab",
   "metadata": {},
   "source": [
    "## cM/Mb rates"
   ]
  },
  {
   "cell_type": "markdown",
   "id": "44b060b8-fd2b-4a7c-92b1-832930acaa6d",
   "metadata": {},
   "source": [
    "### cM/Mb across CO interval"
   ]
  },
  {
   "cell_type": "code",
   "execution_count": null,
   "id": "edde3da1-54e2-4d6f-8f0b-10d4c030d4f3",
   "metadata": {},
   "outputs": [],
   "source": [
    "(CO_df[\"grch37_cM_per_bp_across_recombining_interval\"]*1e6).mean()"
   ]
  },
  {
   "cell_type": "markdown",
   "id": "8d5f83e4-56ad-4144-904f-042a19b5a786",
   "metadata": {},
   "source": [
    "### Across all read"
   ]
  },
  {
   "cell_type": "code",
   "execution_count": null,
   "id": "cac2d4ae-f2ae-4b26-8b63-bfeebf720105",
   "metadata": {
    "tags": []
   },
   "outputs": [],
   "source": [
    "(CO_df[\"full_read_crossover_prob\"]*1e2 / CO_df[\"read_length\"] * 1e6).mean()\n",
    "\n"
   ]
  },
  {
   "cell_type": "markdown",
   "id": "b7ccb920-e3f7-410f-9834-680bc36dc8ca",
   "metadata": {},
   "source": [
    "### Compare to background"
   ]
  },
  {
   "cell_type": "code",
   "execution_count": null,
   "id": "bf8034af-7047-44ad-9654-273ab2a3df15",
   "metadata": {},
   "outputs": [],
   "source": [
    "(dense_reads_with_detection_df\n",
    "    .select(pl.col(\"CO_active_interval_crossover_prob\")*1e2 / pl.col(\"CO_active_interval_length_bp\") * 1e6)\n",
    ").mean()"
   ]
  },
  {
   "cell_type": "markdown",
   "id": "f7cb4d86-414f-494b-8e00-8eb0ecde89c6",
   "metadata": {},
   "source": [
    "# Does it follow the model?"
   ]
  },
  {
   "cell_type": "markdown",
   "id": "32a7a47a-19b4-40a1-b4fc-151b8c30839f",
   "metadata": {},
   "source": [
    "## In bp"
   ]
  },
  {
   "cell_type": "markdown",
   "id": "eae5b250-beb3-4f39-bcec-b4e2a86b7c0b",
   "metadata": {},
   "source": [
    "### All read"
   ]
  },
  {
   "cell_type": "code",
   "execution_count": null,
   "id": "663cee83-0f30-48dd-83ea-0825d575e796",
   "metadata": {
    "tags": []
   },
   "outputs": [],
   "source": [
    "N = 1e3\n",
    "\n",
    "(dense_reads_with_detection_df\n",
    "    .select(\n",
    "        ((pl.col(\"read_length\") // N).round() * N).alias(\"read_length_rounded_bp\"),\n",
    "        (pl.col(\"idx_transitions\").list.len() == 1).cast(pl.Int32).alias(\"is_co\"),\n",
    "    )\n",
    "    .group_by(\"read_length_rounded_bp\")\n",
    "    .agg(pl.col(\"is_co\").mean())\n",
    "    .sort(\"read_length_rounded_bp\")\n",
    "    .plot.scatter(x=\"read_length_rounded_bp\", y=\"is_co\")\n",
    ")"
   ]
  },
  {
   "cell_type": "markdown",
   "id": "1eba6f71-ce5f-4b07-9cf1-25957485945f",
   "metadata": {},
   "source": [
    "### Only detectable interval"
   ]
  },
  {
   "cell_type": "code",
   "execution_count": null,
   "id": "41b9ce29-90cc-4612-8fc6-e873c4c4cd99",
   "metadata": {
    "tags": []
   },
   "outputs": [],
   "source": [
    "N = 1e3\n",
    "\n",
    "(dense_reads_with_detection_df\n",
    "    .select(\n",
    "        ((pl.col(\"CO_active_interval_length_bp\") // N).round() * N).alias(\"detectable_interval_length_rounded_bp\"),\n",
    "        (\n",
    "            pl.col(\"high_quality_classification_in_detectable_class\").is_not_null() & \\\n",
    "            (pl.col(\"high_quality_classification_in_detectable_class\") == \"CO\")\n",
    "        ).cast(pl.Int32).alias(\"is_co\"),\n",
    "    )\n",
    "    .group_by(\"detectable_interval_length_rounded_bp\")\n",
    "    .agg(pl.col(\"is_co\").mean())\n",
    "    .sort(\"detectable_interval_length_rounded_bp\")\n",
    "    .plot.scatter(x=\"detectable_interval_length_rounded_bp\", y=\"is_co\")\n",
    ")"
   ]
  },
  {
   "cell_type": "markdown",
   "id": "c7b98b35-07ae-4a06-9c4a-2a784ab5586d",
   "metadata": {},
   "source": [
    "## In cM"
   ]
  },
  {
   "cell_type": "markdown",
   "id": "67198262-4823-493c-9857-8fc5015ec958",
   "metadata": {},
   "source": [
    "### All read"
   ]
  },
  {
   "cell_type": "code",
   "execution_count": null,
   "id": "d5ef43c4-4341-4853-942a-425045d00db2",
   "metadata": {
    "tags": []
   },
   "outputs": [],
   "source": [
    "N = 1e-1*0.5\n",
    "\n",
    "(dense_reads_with_detection_df\n",
    "    .select(\n",
    "        (((pl.col(\"grch37_reference_end_cM\") - pl.col(\"grch37_reference_start_cM\")) // N).round() * N).alias(\"read_length_rounded_cM\"),\n",
    "        (pl.col(\"idx_transitions\").list.len() == 1).cast(pl.Int32).alias(\"is_co\"),\n",
    "    )\n",
    "    .group_by(\"read_length_rounded_cM\")\n",
    "    .agg(pl.col(\"is_co\").mean())\n",
    "    .sort(\"read_length_rounded_cM\")\n",
    "    .plot.scatter(x=\"read_length_rounded_cM\", y=\"is_co\")\n",
    ")"
   ]
  },
  {
   "cell_type": "markdown",
   "id": "6fea7e6c-4224-4da4-ab50-e335e44ac467",
   "metadata": {},
   "source": [
    "### Only detectable interval"
   ]
  },
  {
   "cell_type": "code",
   "execution_count": null,
   "id": "bcf3082f-3264-45db-9e01-2f5daf491c7c",
   "metadata": {
    "tags": []
   },
   "outputs": [],
   "source": [
    "N = 1e-2\n",
    "\n",
    "(dense_reads_with_detection_df\n",
    "    .select(\n",
    "        (((pl.col(\"CO_active_interval_end_cM\") - pl.col(\"CO_active_interval_start_cM\")) // N).round() * N).alias(\"detectable_interval_length_rounded_cM\"),\n",
    "        (\n",
    "            pl.col(\"high_quality_classification_in_detectable_class\").is_not_null() & \\\n",
    "            (pl.col(\"high_quality_classification_in_detectable_class\") == \"CO\")\n",
    "        ).cast(pl.Int32).alias(\"is_co\"),\n",
    "    )\n",
    "    .group_by(\"detectable_interval_length_rounded_cM\")\n",
    "    .agg(pl.col(\"is_co\").mean())\n",
    "    .sort(\"detectable_interval_length_rounded_cM\")\n",
    "    .plot.scatter(x=\"detectable_interval_length_rounded_cM\", y=\"is_co\")\n",
    ")"
   ]
  },
  {
   "cell_type": "markdown",
   "id": "99c35928-ed1a-4bae-8602-472f0b0b5717",
   "metadata": {},
   "source": [
    "# Does it follow the CO map along the genome?"
   ]
  },
  {
   "cell_type": "code",
   "execution_count": null,
   "id": "d0d31b22-74ba-4770-88d1-c26d7b74c784",
   "metadata": {
    "tags": []
   },
   "outputs": [],
   "source": [
    "def show_co_map(sample_ids, show_ks=True):\n",
    "    fig, axs = plt.subplots(4, 6, figsize=(14, 10))\n",
    "\n",
    "    kses = []\n",
    "    for ax, chrom in zip(axs.ravel()[:len(aut_chrom_names)], tqdm.tqdm(aut_chrom_names)):\n",
    "        df = (dense_reads_with_detection_df              \n",
    "            .filter(pl.col(\"sample_id\").is_in(sample_ids))\n",
    "            .filter(pl.col(\"high_quality_classification_class\") == \"CO\")\n",
    "            .filter(pl.col(\"chrom\") == chrom)\n",
    "            .sort(\"grch37_reference_start_cM\")\n",
    "            .drop_nulls(\"grch37_reference_start_cM\")\n",
    "        )\n",
    "\n",
    "        midpoints_in_cms = np.sort((df[\"grch37_reference_start_cM\"] + df[\"grch37_reference_end_cM\"])/2)\n",
    "        genetic_length_in_cm = annotate.rate_maps[chrom].get_cumulative_mass(annotate.grch37_chromosome_sizes_in_bp[chrom]-1)*1e2\n",
    "\n",
    "        ks_pvalue = scipy.stats.ks_1samp(midpoints_in_cms, scipy.stats.uniform(0, genetic_length_in_cm).cdf).pvalue\n",
    "        kses.append(ks_pvalue)\n",
    "\n",
    "        ax.plot(midpoints_in_cms, '.')\n",
    "        ax.plot(\n",
    "            [0, len(midpoints_in_cms)], \n",
    "            [0, genetic_length_in_cm], \n",
    "            color=\"black\", \n",
    "            ls=\"--\"\n",
    "        )\n",
    "        if show_ks:\n",
    "            ax.set_title(f\"{chrom}, KS: p={ks_pvalue:1.2f}\");\n",
    "        else:\n",
    "            ax.set_title(f\"{chrom}\");\n",
    "\n",
    "    combined = scipy.stats.combine_pvalues(kses).pvalue\n",
    "    fig.supxlabel(\"Event # (in order along chromosome)\");\n",
    "    fig.supylabel(\"Position in cM\");\n",
    "    if show_ks:\n",
    "        fig.suptitle(f\"Crossovers, combined p={combined:1.2f}\");\n",
    "\n",
    "    plt.tight_layout()"
   ]
  },
  {
   "cell_type": "markdown",
   "id": "ec0537e4-d8b8-4f3c-aa80-643be65c488c",
   "metadata": {},
   "source": [
    "## All samples"
   ]
  },
  {
   "cell_type": "code",
   "execution_count": null,
   "id": "8491a734-341d-47f9-b705-405b8781f545",
   "metadata": {
    "tags": []
   },
   "outputs": [],
   "source": [
    "show_co_map(sample_ids, show_ks=False)"
   ]
  },
  {
   "cell_type": "markdown",
   "id": "a6823f4c-02db-4298-90f0-2d2b16eca66b",
   "metadata": {},
   "source": [
    "## Just Rahbari"
   ]
  },
  {
   "cell_type": "code",
   "execution_count": null,
   "id": "16ddadf3-aa30-41f3-990d-5e2de8943d69",
   "metadata": {
    "tags": []
   },
   "outputs": [],
   "source": [
    "fig, axs = plt.subplots(4, 6, figsize=(14, 10))\n",
    "\n",
    "kses = []\n",
    "for ax, chrom in zip(axs.ravel()[:len(aut_chrom_names)], tqdm.tqdm(aut_chrom_names)):\n",
    "    df = (dense_reads_with_detection_df\n",
    "        .filter(pl.col(\"sample_id\").is_in(rahbari_sample_ids))\n",
    "        .filter(pl.col(\"high_quality_classification_class\") == \"CO\")\n",
    "        .filter(pl.col(\"chrom\") == chrom)\n",
    "        .sort(\"grch37_reference_start_cM\")\n",
    "        .drop_nulls(\"grch37_reference_start_cM\")\n",
    "    )\n",
    "\n",
    "    midpoints_in_cms = np.sort((df[\"grch37_reference_start_cM\"] + df[\"grch37_reference_end_cM\"])/2)\n",
    "    genetic_length_in_cm = annotate.rate_maps[chrom].get_cumulative_mass(annotate.grch37_chromosome_sizes_in_bp[chrom]-1)*1e2\n",
    "    \n",
    "    ks_pvalue = scipy.stats.ks_1samp(midpoints_in_cms, scipy.stats.uniform(0, genetic_length_in_cm).cdf).pvalue\n",
    "    kses.append(ks_pvalue)\n",
    "    \n",
    "    ax.plot(midpoints_in_cms, '.')\n",
    "    ax.plot(\n",
    "        [0, len(midpoints_in_cms)], \n",
    "        [0, genetic_length_in_cm], \n",
    "        color=\"black\", \n",
    "        ls=\"--\"\n",
    "    )\n",
    "    ax.set_title(f\"{chrom}, KS: p={ks_pvalue:1.2f}\");\n",
    "\n",
    "combined = scipy.stats.combine_pvalues(kses).pvalue\n",
    "fig.supxlabel(\"Index\");\n",
    "fig.supylabel(\"Position in cM\");\n",
    "fig.suptitle(f\"Crossovers, combined p={combined:1.2f}\");\n",
    "    \n",
    "plt.tight_layout()"
   ]
  },
  {
   "cell_type": "markdown",
   "id": "d318a8df-0f04-4881-83f7-9d0288b98a95",
   "metadata": {},
   "source": [
    "## Just Sudmant"
   ]
  },
  {
   "cell_type": "code",
   "execution_count": null,
   "id": "593083b4-ece9-49f4-9da9-4b8dbf5cb15c",
   "metadata": {
    "tags": []
   },
   "outputs": [],
   "source": [
    "fig, axs = plt.subplots(4, 6, figsize=(14, 10))\n",
    "\n",
    "kses = []\n",
    "for ax, chrom in zip(axs.ravel()[:len(aut_chrom_names)], tqdm.tqdm(aut_chrom_names)):\n",
    "    df = (dense_reads_with_detection_df\n",
    "        .filter(pl.col(\"sample_id\").is_in(sudmant_sample_ids))\n",
    "        .filter(pl.col(\"high_quality_classification_class\") == \"CO\")\n",
    "        .filter(pl.col(\"chrom\") == chrom)\n",
    "        .sort(\"grch37_reference_start_cM\")\n",
    "        .drop_nulls(\"grch37_reference_start_cM\")\n",
    "    )\n",
    "\n",
    "    midpoints_in_cms = np.sort((df[\"grch37_reference_start_cM\"] + df[\"grch37_reference_end_cM\"])/2)\n",
    "    genetic_length_in_cm = annotate.rate_maps[chrom].get_cumulative_mass(annotate.grch37_chromosome_sizes_in_bp[chrom]-1)*1e2\n",
    "    \n",
    "    ks_pvalue = scipy.stats.ks_1samp(midpoints_in_cms, scipy.stats.uniform(0, genetic_length_in_cm).cdf).pvalue\n",
    "    kses.append(ks_pvalue)\n",
    "    \n",
    "    ax.plot(midpoints_in_cms, '.')\n",
    "    ax.plot(\n",
    "        [0, len(midpoints_in_cms)], \n",
    "        [0, genetic_length_in_cm], \n",
    "        color=\"black\", \n",
    "        ls=\"--\"\n",
    "    )\n",
    "    ax.set_title(f\"{chrom}, KS: p={ks_pvalue:1.2f}\");\n",
    "\n",
    "combined = scipy.stats.combine_pvalues(kses).pvalue\n",
    "fig.supxlabel(\"Index\");\n",
    "fig.supylabel(\"Position in cM\");\n",
    "fig.suptitle(f\"Crossovers, combined p={combined:1.2f}\");\n",
    "    \n",
    "plt.tight_layout()"
   ]
  },
  {
   "cell_type": "code",
   "execution_count": null,
   "id": "0c6ee1bd-52ea-451d-a92d-84ab56c19e29",
   "metadata": {},
   "outputs": [],
   "source": []
  },
  {
   "cell_type": "markdown",
   "id": "159bd420-df74-4c11-bd4e-d5460aaff18d",
   "metadata": {},
   "source": [
    "# Compare CO distribution between samples"
   ]
  },
  {
   "cell_type": "markdown",
   "id": "ea064701-061a-4a11-8e5f-ffb25baa531e",
   "metadata": {},
   "source": [
    "## Across all of detectable interval"
   ]
  },
  {
   "cell_type": "code",
   "execution_count": 12,
   "id": "bc4b00d5-121e-46e1-939f-f36e72947f71",
   "metadata": {
    "tags": []
   },
   "outputs": [
    {
     "name": "stderr",
     "output_type": "stream",
     "text": [
      " 35%|███▌      | 37/105 [00:16<00:30,  2.24it/s]\n"
     ]
    },
    {
     "ename": "KeyboardInterrupt",
     "evalue": "",
     "output_type": "error",
     "traceback": [
      "\u001b[0;31m---------------------------------------------------------------------------\u001b[0m",
      "\u001b[0;31mKeyboardInterrupt\u001b[0m                         Traceback (most recent call last)",
      "Cell \u001b[0;32mIn[12], line 1\u001b[0m\n\u001b[0;32m----> 1\u001b[0m pairwise_co_df \u001b[38;5;241m=\u001b[39m \u001b[43minference\u001b[49m\u001b[38;5;241;43m.\u001b[39;49m\u001b[43mget_sample_pairwise_tests\u001b[49m\u001b[43m(\u001b[49m\n\u001b[1;32m      2\u001b[0m \u001b[43m    \u001b[49m\u001b[43msample_ids\u001b[49m\u001b[43m,\u001b[49m\n\u001b[1;32m      3\u001b[0m \u001b[43m    \u001b[49m\u001b[43mCO_df\u001b[49m\u001b[43m,\u001b[49m\n\u001b[1;32m      4\u001b[0m \u001b[43m    \u001b[49m\u001b[38;5;124;43m\"\u001b[39;49m\u001b[38;5;124;43mCO_active_interval_crossover_prob\u001b[39;49m\u001b[38;5;124;43m\"\u001b[39;49m\u001b[43m,\u001b[49m\n\u001b[1;32m      5\u001b[0m \u001b[43m    \u001b[49m\u001b[43mn_perms\u001b[49m\u001b[43m \u001b[49m\u001b[38;5;241;43m=\u001b[39;49m\u001b[43m \u001b[49m\u001b[38;5;241;43m1000\u001b[39;49m\u001b[43m,\u001b[49m\n\u001b[1;32m      6\u001b[0m \u001b[43m    \u001b[49m\u001b[43mtake_log10\u001b[49m\u001b[43m \u001b[49m\u001b[38;5;241;43m=\u001b[39;49m\u001b[43m \u001b[49m\u001b[38;5;28;43;01mFalse\u001b[39;49;00m\u001b[43m,\u001b[49m\n\u001b[1;32m      7\u001b[0m \u001b[43m)\u001b[49m\n",
      "File \u001b[0;32m/nfs/treeoflife-01/teams/tola/users/rs42/git/sperm/src/inference.py:1543\u001b[0m, in \u001b[0;36mget_sample_pairwise_tests\u001b[0;34m(sample_ids, test_df, test_field, n_perms, take_log10)\u001b[0m\n\u001b[1;32m   1532\u001b[0m     signal_1 \u001b[38;5;241m=\u001b[39m sample_id_to_signal[sample_id1]\n\u001b[1;32m   1533\u001b[0m     signal_2 \u001b[38;5;241m=\u001b[39m sample_id_to_signal[sample_id2]\n\u001b[1;32m   1534\u001b[0m     rows\u001b[38;5;241m.\u001b[39mappend(\n\u001b[1;32m   1535\u001b[0m         [\n\u001b[1;32m   1536\u001b[0m             sample_id1, \n\u001b[1;32m   1537\u001b[0m             sample_id2,\n\u001b[1;32m   1538\u001b[0m             paper_label_id1,\n\u001b[1;32m   1539\u001b[0m             paper_label_id2,\n\u001b[1;32m   1540\u001b[0m             \u001b[38;5;28mlen\u001b[39m(signal_1), \n\u001b[1;32m   1541\u001b[0m             \u001b[38;5;28mlen\u001b[39m(signal_2),\n\u001b[1;32m   1542\u001b[0m             scipy\u001b[38;5;241m.\u001b[39mstats\u001b[38;5;241m.\u001b[39mks_2samp(signal_1, signal_2)\u001b[38;5;241m.\u001b[39mpvalue,\n\u001b[0;32m-> 1543\u001b[0m             \u001b[43mpermutation_testing\u001b[49m\u001b[43m(\u001b[49m\u001b[43m[\u001b[49m\u001b[43m[\u001b[49m\u001b[43msignal_1\u001b[49m\u001b[43m,\u001b[49m\u001b[43m \u001b[49m\u001b[43msignal_2\u001b[49m\u001b[43m]\u001b[49m\u001b[43m]\u001b[49m\u001b[43m,\u001b[49m\u001b[43m \u001b[49m\u001b[43mn_perms\u001b[49m\u001b[43m)\u001b[49m,\n\u001b[1;32m   1544\u001b[0m         ]\n\u001b[1;32m   1545\u001b[0m     )\n\u001b[1;32m   1547\u001b[0m pairwise_df \u001b[38;5;241m=\u001b[39m pl\u001b[38;5;241m.\u001b[39mDataFrame(\n\u001b[1;32m   1548\u001b[0m     rows,\n\u001b[1;32m   1549\u001b[0m     schema\u001b[38;5;241m=\u001b[39m[\u001b[38;5;124m\"\u001b[39m\u001b[38;5;124msample_id1\u001b[39m\u001b[38;5;124m\"\u001b[39m, \u001b[38;5;124m\"\u001b[39m\u001b[38;5;124msample_id2\u001b[39m\u001b[38;5;124m\"\u001b[39m, \n\u001b[0;32m   (...)\u001b[0m\n\u001b[1;32m   1553\u001b[0m             \u001b[38;5;124m\"\u001b[39m\u001b[38;5;124mAD_perm_pvalue\u001b[39m\u001b[38;5;124m\"\u001b[39m],\n\u001b[1;32m   1554\u001b[0m ) \n\u001b[1;32m   1556\u001b[0m \u001b[38;5;28;01mreturn\u001b[39;00m pairwise_df\n",
      "File \u001b[0;32m/nfs/treeoflife-01/teams/tola/users/rs42/git/sperm/src/inference.py:1293\u001b[0m, in \u001b[0;36mpermutation_testing\u001b[0;34m(pairs, n_perms, seed, method)\u001b[0m\n\u001b[1;32m   1291\u001b[0m             z \u001b[38;5;241m=\u001b[39m np\u001b[38;5;241m.\u001b[39mconcatenate([x,y])\n\u001b[1;32m   1292\u001b[0m             px, py \u001b[38;5;241m=\u001b[39m np\u001b[38;5;241m.\u001b[39msplit(rng\u001b[38;5;241m.\u001b[39mpermutation(z), [\u001b[38;5;28mlen\u001b[39m(x)])\n\u001b[0;32m-> 1293\u001b[0m             sum_stats \u001b[38;5;241m+\u001b[39m\u001b[38;5;241m=\u001b[39m \u001b[43mtest_statistic\u001b[49m\u001b[43m(\u001b[49m\u001b[43mpx\u001b[49m\u001b[43m,\u001b[49m\u001b[43m \u001b[49m\u001b[43mpy\u001b[49m\u001b[43m)\u001b[49m\n\u001b[1;32m   1294\u001b[0m     permuted\u001b[38;5;241m.\u001b[39mappend(sum_stats)\n\u001b[1;32m   1296\u001b[0m pvalue \u001b[38;5;241m=\u001b[39m np\u001b[38;5;241m.\u001b[39mmean(np\u001b[38;5;241m.\u001b[39marray(permuted)\u001b[38;5;241m>\u001b[39m\u001b[38;5;241m=\u001b[39morig)\n",
      "File \u001b[0;32m/nfs/treeoflife-01/teams/tola/users/rs42/git/sperm/src/inference.py:1279\u001b[0m, in \u001b[0;36mpermutation_testing.<locals>.<lambda>\u001b[0;34m(x, y)\u001b[0m\n\u001b[1;32m   1277\u001b[0m     test_statistic \u001b[38;5;241m=\u001b[39m \u001b[38;5;28;01mlambda\u001b[39;00m x,y: scipy\u001b[38;5;241m.\u001b[39mstats\u001b[38;5;241m.\u001b[39mks_2samp(x, y, method\u001b[38;5;241m=\u001b[39m\u001b[38;5;124m\"\u001b[39m\u001b[38;5;124mauto\u001b[39m\u001b[38;5;124m\"\u001b[39m)\u001b[38;5;241m.\u001b[39mstatistic\n\u001b[1;32m   1278\u001b[0m \u001b[38;5;28;01mif\u001b[39;00m method \u001b[38;5;241m==\u001b[39m \u001b[38;5;124m\"\u001b[39m\u001b[38;5;124mAD\u001b[39m\u001b[38;5;124m\"\u001b[39m:\n\u001b[0;32m-> 1279\u001b[0m     test_statistic \u001b[38;5;241m=\u001b[39m \u001b[38;5;28;01mlambda\u001b[39;00m x,y: \u001b[43mscipy\u001b[49m\u001b[38;5;241;43m.\u001b[39;49m\u001b[43mstats\u001b[49m\u001b[38;5;241;43m.\u001b[39;49m\u001b[43manderson_ksamp\u001b[49m\u001b[43m(\u001b[49m\u001b[43m[\u001b[49m\u001b[43mx\u001b[49m\u001b[43m,\u001b[49m\u001b[43m \u001b[49m\u001b[43my\u001b[49m\u001b[43m]\u001b[49m\u001b[43m)\u001b[49m\u001b[38;5;241m.\u001b[39mstatistic\n\u001b[1;32m   1280\u001b[0m \u001b[38;5;28;01mif\u001b[39;00m method \u001b[38;5;241m==\u001b[39m \u001b[38;5;124m\"\u001b[39m\u001b[38;5;124mU\u001b[39m\u001b[38;5;124m\"\u001b[39m:\n\u001b[1;32m   1281\u001b[0m     test_statistic \u001b[38;5;241m=\u001b[39m \u001b[38;5;28;01mlambda\u001b[39;00m x,y: scipy\u001b[38;5;241m.\u001b[39mstats\u001b[38;5;241m.\u001b[39mmannwhitneyu(x, y, use_continuity\u001b[38;5;241m=\u001b[39m\u001b[38;5;28;01mFalse\u001b[39;00m)\u001b[38;5;241m.\u001b[39mstatistic\n",
      "File \u001b[0;32m/nfs/treeoflife-01/teams/tola/users/rs42/miniconda3/envs/sperm/lib/python3.11/site-packages/scipy/stats/_morestats.py:2406\u001b[0m, in \u001b[0;36manderson_ksamp\u001b[0;34m(samples, midrank)\u001b[0m\n\u001b[1;32m   2402\u001b[0m     \u001b[38;5;28;01mraise\u001b[39;00m \u001b[38;5;167;01mValueError\u001b[39;00m(\u001b[38;5;124m\"\u001b[39m\u001b[38;5;124manderson_ksamp encountered sample without \u001b[39m\u001b[38;5;124m\"\u001b[39m\n\u001b[1;32m   2403\u001b[0m                      \u001b[38;5;124m\"\u001b[39m\u001b[38;5;124mobservations\u001b[39m\u001b[38;5;124m\"\u001b[39m)\n\u001b[1;32m   2405\u001b[0m \u001b[38;5;28;01mif\u001b[39;00m midrank:\n\u001b[0;32m-> 2406\u001b[0m     A2kN \u001b[38;5;241m=\u001b[39m \u001b[43m_anderson_ksamp_midrank\u001b[49m\u001b[43m(\u001b[49m\u001b[43msamples\u001b[49m\u001b[43m,\u001b[49m\u001b[43m \u001b[49m\u001b[43mZ\u001b[49m\u001b[43m,\u001b[49m\u001b[43m \u001b[49m\u001b[43mZstar\u001b[49m\u001b[43m,\u001b[49m\u001b[43m \u001b[49m\u001b[43mk\u001b[49m\u001b[43m,\u001b[49m\u001b[43m \u001b[49m\u001b[43mn\u001b[49m\u001b[43m,\u001b[49m\u001b[43m \u001b[49m\u001b[43mN\u001b[49m\u001b[43m)\u001b[49m\n\u001b[1;32m   2407\u001b[0m \u001b[38;5;28;01melse\u001b[39;00m:\n\u001b[1;32m   2408\u001b[0m     A2kN \u001b[38;5;241m=\u001b[39m _anderson_ksamp_right(samples, Z, Zstar, k, n, N)\n",
      "File \u001b[0;32m/nfs/treeoflife-01/teams/tola/users/rs42/miniconda3/envs/sperm/lib/python3.11/site-packages/scipy/stats/_morestats.py:2238\u001b[0m, in \u001b[0;36m_anderson_ksamp_midrank\u001b[0;34m(samples, Z, Zstar, k, n, N)\u001b[0m\n\u001b[1;32m   2236\u001b[0m     Mij \u001b[38;5;241m-\u001b[39m\u001b[38;5;241m=\u001b[39m fij \u001b[38;5;241m/\u001b[39m \u001b[38;5;241m2.\u001b[39m\n\u001b[1;32m   2237\u001b[0m     inner \u001b[38;5;241m=\u001b[39m lj \u001b[38;5;241m/\u001b[39m \u001b[38;5;28mfloat\u001b[39m(N) \u001b[38;5;241m*\u001b[39m (N\u001b[38;5;241m*\u001b[39mMij \u001b[38;5;241m-\u001b[39m Bj\u001b[38;5;241m*\u001b[39mn[i])\u001b[38;5;241m*\u001b[39m\u001b[38;5;241m*\u001b[39m\u001b[38;5;241m2\u001b[39m \u001b[38;5;241m/\u001b[39m (Bj\u001b[38;5;241m*\u001b[39m(N \u001b[38;5;241m-\u001b[39m Bj) \u001b[38;5;241m-\u001b[39m N\u001b[38;5;241m*\u001b[39mlj\u001b[38;5;241m/\u001b[39m\u001b[38;5;241m4.\u001b[39m)\n\u001b[0;32m-> 2238\u001b[0m     A2akN \u001b[38;5;241m+\u001b[39m\u001b[38;5;241m=\u001b[39m \u001b[43minner\u001b[49m\u001b[38;5;241;43m.\u001b[39;49m\u001b[43msum\u001b[49m\u001b[43m(\u001b[49m\u001b[43m)\u001b[49m \u001b[38;5;241m/\u001b[39m n[i]\n\u001b[1;32m   2239\u001b[0m A2akN \u001b[38;5;241m*\u001b[39m\u001b[38;5;241m=\u001b[39m (N \u001b[38;5;241m-\u001b[39m \u001b[38;5;241m1.\u001b[39m) \u001b[38;5;241m/\u001b[39m N\n\u001b[1;32m   2240\u001b[0m \u001b[38;5;28;01mreturn\u001b[39;00m A2akN\n",
      "File \u001b[0;32m/nfs/treeoflife-01/teams/tola/users/rs42/miniconda3/envs/sperm/lib/python3.11/site-packages/numpy/core/_methods.py:47\u001b[0m, in \u001b[0;36m_sum\u001b[0;34m(a, axis, dtype, out, keepdims, initial, where)\u001b[0m\n\u001b[1;32m     43\u001b[0m \u001b[38;5;28;01mdef\u001b[39;00m \u001b[38;5;21m_amin\u001b[39m(a, axis\u001b[38;5;241m=\u001b[39m\u001b[38;5;28;01mNone\u001b[39;00m, out\u001b[38;5;241m=\u001b[39m\u001b[38;5;28;01mNone\u001b[39;00m, keepdims\u001b[38;5;241m=\u001b[39m\u001b[38;5;28;01mFalse\u001b[39;00m,\n\u001b[1;32m     44\u001b[0m           initial\u001b[38;5;241m=\u001b[39m_NoValue, where\u001b[38;5;241m=\u001b[39m\u001b[38;5;28;01mTrue\u001b[39;00m):\n\u001b[1;32m     45\u001b[0m     \u001b[38;5;28;01mreturn\u001b[39;00m umr_minimum(a, axis, \u001b[38;5;28;01mNone\u001b[39;00m, out, keepdims, initial, where)\n\u001b[0;32m---> 47\u001b[0m \u001b[38;5;28;01mdef\u001b[39;00m \u001b[38;5;21m_sum\u001b[39m(a, axis\u001b[38;5;241m=\u001b[39m\u001b[38;5;28;01mNone\u001b[39;00m, dtype\u001b[38;5;241m=\u001b[39m\u001b[38;5;28;01mNone\u001b[39;00m, out\u001b[38;5;241m=\u001b[39m\u001b[38;5;28;01mNone\u001b[39;00m, keepdims\u001b[38;5;241m=\u001b[39m\u001b[38;5;28;01mFalse\u001b[39;00m,\n\u001b[1;32m     48\u001b[0m          initial\u001b[38;5;241m=\u001b[39m_NoValue, where\u001b[38;5;241m=\u001b[39m\u001b[38;5;28;01mTrue\u001b[39;00m):\n\u001b[1;32m     49\u001b[0m     \u001b[38;5;28;01mreturn\u001b[39;00m umr_sum(a, axis, dtype, out, keepdims, initial, where)\n\u001b[1;32m     51\u001b[0m \u001b[38;5;28;01mdef\u001b[39;00m \u001b[38;5;21m_prod\u001b[39m(a, axis\u001b[38;5;241m=\u001b[39m\u001b[38;5;28;01mNone\u001b[39;00m, dtype\u001b[38;5;241m=\u001b[39m\u001b[38;5;28;01mNone\u001b[39;00m, out\u001b[38;5;241m=\u001b[39m\u001b[38;5;28;01mNone\u001b[39;00m, keepdims\u001b[38;5;241m=\u001b[39m\u001b[38;5;28;01mFalse\u001b[39;00m,\n\u001b[1;32m     52\u001b[0m           initial\u001b[38;5;241m=\u001b[39m_NoValue, where\u001b[38;5;241m=\u001b[39m\u001b[38;5;28;01mTrue\u001b[39;00m):\n",
      "\u001b[0;31mKeyboardInterrupt\u001b[0m: "
     ]
    }
   ],
   "source": [
    "pairwise_co_df = inference.get_sample_pairwise_tests(\n",
    "    sample_ids,\n",
    "    CO_df,\n",
    "    \"CO_active_interval_crossover_prob\",\n",
    "    n_perms = 1000,\n",
    "    take_log10 = False,\n",
    ")"
   ]
  },
  {
   "cell_type": "code",
   "execution_count": null,
   "id": "52786e84-fef5-44f3-aeb7-507012f2c039",
   "metadata": {
    "tags": []
   },
   "outputs": [],
   "source": [
    "pairwise_co_df.sort(\"AD_perm_pvalue\").head()"
   ]
  },
  {
   "cell_type": "code",
   "execution_count": null,
   "id": "2b8bd76c-f534-4202-bb08-b61863a77db5",
   "metadata": {
    "tags": []
   },
   "outputs": [],
   "source": [
    "inference.plot_pairwise_results(\n",
    "    pairwise_co_df,\n",
    "    sample_presentation_order[:-1],\n",
    "    column = \"AD_perm_pvalue\",\n",
    "    vmax = 0.05,\n",
    "    show_paper_labels = True,\n",
    ")"
   ]
  },
  {
   "cell_type": "code",
   "execution_count": null,
   "id": "4a7d99f4-da56-4f31-97c6-68d25adc3f3d",
   "metadata": {},
   "outputs": [],
   "source": []
  },
  {
   "cell_type": "code",
   "execution_count": null,
   "id": "c6695f10-c336-43c9-8f30-e33f019a00f5",
   "metadata": {},
   "outputs": [],
   "source": []
  },
  {
   "cell_type": "code",
   "execution_count": null,
   "id": "a69ae3dd-d310-46d0-8e6c-9ab58d564a97",
   "metadata": {},
   "outputs": [],
   "source": []
  },
  {
   "cell_type": "code",
   "execution_count": null,
   "id": "3ce81ce6-47a6-451e-92ba-0668c57714fa",
   "metadata": {},
   "outputs": [],
   "source": []
  },
  {
   "cell_type": "markdown",
   "id": "7b51bc3b-3882-4b76-8d3b-6e88e43e5171",
   "metadata": {},
   "source": [
    "## Across the recombining interval"
   ]
  },
  {
   "cell_type": "code",
   "execution_count": null,
   "id": "d14d5014-a345-4434-8978-4a283f8e7590",
   "metadata": {
    "tags": []
   },
   "outputs": [],
   "source": [
    "pairwise_co_recomb_df = inference.get_sample_pairwise_tests(\n",
    "    sample_ids,\n",
    "    CO_df.filter(pl.col(\"CO_active_interval_crossover_prob\").is_not_null()),\n",
    "    \"grch37_recombining_interval_cM\",\n",
    "    n_perms = 1000,\n",
    "    take_log10 = False,\n",
    ")"
   ]
  },
  {
   "cell_type": "code",
   "execution_count": null,
   "id": "5d4b9619-b346-4373-98e6-a9a689c38387",
   "metadata": {
    "tags": []
   },
   "outputs": [],
   "source": [
    "inference.plot_pairwise_results(\n",
    "    pairwise_co_recomb_df,\n",
    "    sample_presentation_order[:-1],\n",
    "    column = \"AD_perm_pvalue\",\n",
    "    vmax = 0.05,\n",
    "    show_paper_labels = True,\n",
    ")"
   ]
  },
  {
   "cell_type": "code",
   "execution_count": null,
   "id": "9fcd2440-2ef7-47f9-927f-5b36b0ba4cb0",
   "metadata": {
    "tags": []
   },
   "outputs": [],
   "source": [
    "ax = inference.plot_boxplots_samples(\n",
    "    CO_df.filter(pl.col(\"CO_active_interval_crossover_prob\").is_not_null()),\n",
    "    \"grch37_recombining_interval_cM\",\n",
    "    xlabel = \"cM\",\n",
    "    take_log10=True,\n",
    "    figsize=(4, 6),\n",
    "    ticks = np.arange(-5, 1),\n",
    "    label_to_color={\n",
    "        \"AD\": CO_color,\n",
    "        \"AB\": CO_color,\n",
    "        \"AN-s2\": CO_color,\n",
    "    }\n",
    ");\n"
   ]
  },
  {
   "cell_type": "code",
   "execution_count": null,
   "id": "85e54a2e-42f2-4cba-a297-f1176f69a35d",
   "metadata": {
    "tags": []
   },
   "outputs": [],
   "source": [
    "inference.get_sample_vs_rest_tests(\n",
    "    [s for s in sample_ids if sample_id_to_paper_label[s] not in [\"AD\"]],\n",
    "    CO_df.filter(pl.col(\"CO_active_interval_crossover_prob\").is_not_null()),\n",
    "    \"grch37_recombining_interval_cM\",\n",
    "    n_perms = 1000,\n",
    ")"
   ]
  },
  {
   "cell_type": "code",
   "execution_count": null,
   "id": "804c405f-54a1-4b1b-a2f3-5c83a09f2a19",
   "metadata": {
    "tags": []
   },
   "outputs": [],
   "source": [
    "inference.get_sample_vs_rest_tests(\n",
    "    [s for s in sample_ids if sample_id_to_paper_label[s] not in [\"AD\", \"AB\"]],\n",
    "    CO_df.filter(pl.col(\"CO_active_interval_crossover_prob\").is_not_null()),\n",
    "    \"grch37_recombining_interval_cM\",\n",
    "    n_perms = 1000,\n",
    ")"
   ]
  },
  {
   "cell_type": "code",
   "execution_count": null,
   "id": "d701c260-cf2b-4c5c-bfb1-b8a3cc5b10a7",
   "metadata": {
    "tags": []
   },
   "outputs": [],
   "source": [
    "inference.get_sample_vs_rest_tests(\n",
    "    [s for s in sample_ids if sample_id_to_paper_label[s] not in [\"AD\", \"AB\", \"AN-s2\"]],\n",
    "    CO_df.filter(pl.col(\"CO_active_interval_crossover_prob\").is_not_null()),\n",
    "    \"grch37_recombining_interval_cM\",\n",
    "    n_perms = 1000,\n",
    ")"
   ]
  },
  {
   "cell_type": "code",
   "execution_count": null,
   "id": "b0f93834-2ba1-4ff2-b083-09b87b09b654",
   "metadata": {},
   "outputs": [],
   "source": []
  },
  {
   "cell_type": "code",
   "execution_count": null,
   "id": "9b3e4e7d-76d3-4b38-a3e9-bc8ed3152f6b",
   "metadata": {},
   "outputs": [],
   "source": []
  },
  {
   "cell_type": "code",
   "execution_count": null,
   "id": "38de1410-bf13-4e6f-80a0-79c0799fd365",
   "metadata": {},
   "outputs": [],
   "source": []
  },
  {
   "cell_type": "code",
   "execution_count": null,
   "id": "6288de2f-2af2-4008-9384-d61b74f635e1",
   "metadata": {},
   "outputs": [],
   "source": []
  },
  {
   "cell_type": "code",
   "execution_count": null,
   "id": "7993ca1f-14c7-4a4e-98cd-8fcb668fe2b5",
   "metadata": {},
   "outputs": [],
   "source": []
  },
  {
   "cell_type": "markdown",
   "id": "afeccf0c-9b1d-4b48-a835-b70b833eeffd",
   "metadata": {},
   "source": [
    "## Across the recombining interval, cM/Mb"
   ]
  },
  {
   "cell_type": "code",
   "execution_count": null,
   "id": "475e9d06-1d49-46c5-b30c-6366663e4b5c",
   "metadata": {
    "tags": []
   },
   "outputs": [],
   "source": [
    "pairwise_co_recomb_rate_df = inference.get_sample_pairwise_tests(\n",
    "    sample_ids,\n",
    "    CO_df.filter(pl.col(\"CO_active_interval_crossover_prob\").is_not_null()),\n",
    "    \"grch37_cM_per_bp_across_recombining_interval\",\n",
    "    n_perms = 1000,\n",
    "    take_log10 = False,\n",
    ")"
   ]
  },
  {
   "cell_type": "code",
   "execution_count": null,
   "id": "56bb81c6-dc91-4339-bfc0-0ce9a7a157ca",
   "metadata": {
    "tags": []
   },
   "outputs": [],
   "source": [
    "inference.plot_pairwise_results(\n",
    "    pairwise_co_recomb_rate_df,\n",
    "    sample_presentation_order[:-1],\n",
    "    column = \"AD_perm_pvalue\",\n",
    "    vmax = 0.05,\n",
    "    show_paper_labels = True,\n",
    ")"
   ]
  },
  {
   "cell_type": "code",
   "execution_count": null,
   "id": "e3962135-fa02-4d12-9848-207defa0604a",
   "metadata": {},
   "outputs": [],
   "source": []
  },
  {
   "cell_type": "code",
   "execution_count": null,
   "id": "2c6499fc-5d15-4396-9cdb-8d037ef6a6d6",
   "metadata": {},
   "outputs": [],
   "source": []
  },
  {
   "cell_type": "code",
   "execution_count": null,
   "id": "54f5f867-46fb-4fa2-9fbc-368bdf52ee4b",
   "metadata": {},
   "outputs": [],
   "source": []
  },
  {
   "cell_type": "markdown",
   "id": "edc557f1-434a-4b16-9676-53c16d8d1fde",
   "metadata": {},
   "source": [
    "# Test one sample vs the rest"
   ]
  },
  {
   "cell_type": "markdown",
   "id": "14ea0fe8-9d6a-4a64-96ad-0facf55b6ebd",
   "metadata": {},
   "source": [
    "## All"
   ]
  },
  {
   "cell_type": "code",
   "execution_count": 13,
   "id": "b172640e-259d-432a-b9be-0d553eeda938",
   "metadata": {
    "tags": []
   },
   "outputs": [
    {
     "name": "stdout",
     "output_type": "stream",
     "text": [
      "[Parallel(n_jobs=-1)]: Using backend LokyBackend with 16 concurrent workers.\n",
      "[Parallel(n_jobs=-1)]: Done   1 tasks      | elapsed:  1.9min\n",
      "[Parallel(n_jobs=-1)]: Done   2 out of  15 | elapsed:  1.9min remaining: 12.6min\n",
      "[Parallel(n_jobs=-1)]: Done   3 out of  15 | elapsed:  2.0min remaining:  7.9min\n",
      "[Parallel(n_jobs=-1)]: Done   4 out of  15 | elapsed:  2.0min remaining:  5.5min\n",
      "[Parallel(n_jobs=-1)]: Done   5 out of  15 | elapsed:  2.0min remaining:  4.0min\n",
      "[Parallel(n_jobs=-1)]: Done   6 out of  15 | elapsed:  2.0min remaining:  3.0min\n",
      "[Parallel(n_jobs=-1)]: Done   7 out of  15 | elapsed:  2.1min remaining:  2.3min\n",
      "[Parallel(n_jobs=-1)]: Done   8 out of  15 | elapsed:  2.1min remaining:  1.8min\n",
      "[Parallel(n_jobs=-1)]: Done   9 out of  15 | elapsed:  2.2min remaining:  1.4min\n",
      "[Parallel(n_jobs=-1)]: Done  10 out of  15 | elapsed:  2.2min remaining:  1.1min\n",
      "[Parallel(n_jobs=-1)]: Done  11 out of  15 | elapsed:  2.2min remaining:   47.9s\n",
      "[Parallel(n_jobs=-1)]: Done  12 out of  15 | elapsed:  2.2min remaining:   33.0s\n",
      "[Parallel(n_jobs=-1)]: Done  13 out of  15 | elapsed:  2.2min remaining:   20.6s\n",
      "[Parallel(n_jobs=-1)]: Done  15 out of  15 | elapsed:  2.4min finished\n"
     ]
    }
   ],
   "source": [
    "sample_vs_rest_df = inference.get_sample_vs_rest_tests(\n",
    "    sample_id_order,\n",
    "    CO_df,\n",
    "    \"CO_active_interval_crossover_prob\",\n",
    "    n_perms=10000,\n",
    ")"
   ]
  },
  {
   "cell_type": "code",
   "execution_count": 14,
   "id": "d49c8169-86f0-443f-8464-372a30ecdc8e",
   "metadata": {},
   "outputs": [
    {
     "data": {
      "text/html": [
       "<div><style>\n",
       ".dataframe > thead > tr,\n",
       ".dataframe > tbody > tr {\n",
       "  text-align: right;\n",
       "  white-space: pre-wrap;\n",
       "}\n",
       "</style>\n",
       "<small>shape: (15, 6)</small><table border=\"1\" class=\"dataframe\"><thead><tr><th>sample_id</th><th>paper_label_id</th><th>n_in_sample</th><th>AD_perm_pvalue</th><th>AD_perm_pvalue_agg</th><th>ttest_pvalue_agg</th></tr><tr><td>str</td><td>str</td><td>i64</td><td>f64</td><td>f64</td><td>f64</td></tr></thead><tbody><tr><td>&quot;115980&quot;</td><td>&quot;AA9&quot;</td><td>363</td><td>0.0</td><td>0.0097</td><td>0.318405</td></tr><tr><td>&quot;1894&quot;</td><td>&quot;AA5&quot;</td><td>444</td><td>0.0</td><td>0.1158</td><td>0.194154</td></tr><tr><td>&quot;2895&quot;</td><td>&quot;AB&quot;</td><td>304</td><td>0.0</td><td>0.3889</td><td>0.17193</td></tr><tr><td>&quot;3898&quot;</td><td>&quot;AA6&quot;</td><td>390</td><td>0.0</td><td>0.3678</td><td>0.115785</td></tr><tr><td>&quot;7899&quot;</td><td>&quot;AA7&quot;</td><td>443</td><td>0.0</td><td>0.6395</td><td>0.291808</td></tr><tr><td>&quot;95619&quot;</td><td>&quot;AA8&quot;</td><td>374</td><td>0.0</td><td>0.321</td><td>0.795538</td></tr><tr><td>&quot;PD46180c&quot;</td><td>&quot;AA2-t1&quot;</td><td>213</td><td>0.0</td><td>0.8238</td><td>0.750792</td></tr><tr><td>&quot;PD50477f&quot;</td><td>&quot;AA3&quot;</td><td>153</td><td>0.0</td><td>0.3952</td><td>0.652502</td></tr><tr><td>&quot;PD50489e&quot;</td><td>&quot;AA4&quot;</td><td>137</td><td>0.0</td><td>0.2349</td><td>0.832114</td></tr><tr><td>&quot;PD50508b&quot;</td><td>&quot;AA1-s1&quot;</td><td>130</td><td>0.0</td><td>0.016</td><td>0.311659</td></tr><tr><td>&quot;PD50508f&quot;</td><td>&quot;AA1-s2&quot;</td><td>106</td><td>0.0</td><td>0.0349</td><td>0.005487</td></tr><tr><td>&quot;PD50519d&quot;</td><td>&quot;AA2-t2&quot;</td><td>136</td><td>0.0</td><td>0.2204</td><td>0.709524</td></tr><tr><td>&quot;PD50521b&quot;</td><td>&quot;AN-s1&quot;</td><td>194</td><td>0.0</td><td>0.2549</td><td>0.134791</td></tr><tr><td>&quot;PD50521e&quot;</td><td>&quot;AN-s2&quot;</td><td>155</td><td>0.0</td><td>0.0078</td><td>0.194836</td></tr><tr><td>&quot;PD50523b&quot;</td><td>&quot;AD&quot;</td><td>164</td><td>0.0</td><td>0.0</td><td>3.0134e-7</td></tr></tbody></table></div>"
      ],
      "text/plain": [
       "shape: (15, 6)\n",
       "┌───────────┬────────────────┬─────────────┬────────────────┬───────────────────┬──────────────────┐\n",
       "│ sample_id ┆ paper_label_id ┆ n_in_sample ┆ AD_perm_pvalue ┆ AD_perm_pvalue_ag ┆ ttest_pvalue_agg │\n",
       "│ ---       ┆ ---            ┆ ---         ┆ ---            ┆ g                 ┆ ---              │\n",
       "│ str       ┆ str            ┆ i64         ┆ f64            ┆ ---               ┆ f64              │\n",
       "│           ┆                ┆             ┆                ┆ f64               ┆                  │\n",
       "╞═══════════╪════════════════╪═════════════╪════════════════╪═══════════════════╪══════════════════╡\n",
       "│ 115980    ┆ AA9            ┆ 363         ┆ 0.0            ┆ 0.0097            ┆ 0.318405         │\n",
       "│ 1894      ┆ AA5            ┆ 444         ┆ 0.0            ┆ 0.1158            ┆ 0.194154         │\n",
       "│ 2895      ┆ AB             ┆ 304         ┆ 0.0            ┆ 0.3889            ┆ 0.17193          │\n",
       "│ 3898      ┆ AA6            ┆ 390         ┆ 0.0            ┆ 0.3678            ┆ 0.115785         │\n",
       "│ 7899      ┆ AA7            ┆ 443         ┆ 0.0            ┆ 0.6395            ┆ 0.291808         │\n",
       "│ 95619     ┆ AA8            ┆ 374         ┆ 0.0            ┆ 0.321             ┆ 0.795538         │\n",
       "│ PD46180c  ┆ AA2-t1         ┆ 213         ┆ 0.0            ┆ 0.8238            ┆ 0.750792         │\n",
       "│ PD50477f  ┆ AA3            ┆ 153         ┆ 0.0            ┆ 0.3952            ┆ 0.652502         │\n",
       "│ PD50489e  ┆ AA4            ┆ 137         ┆ 0.0            ┆ 0.2349            ┆ 0.832114         │\n",
       "│ PD50508b  ┆ AA1-s1         ┆ 130         ┆ 0.0            ┆ 0.016             ┆ 0.311659         │\n",
       "│ PD50508f  ┆ AA1-s2         ┆ 106         ┆ 0.0            ┆ 0.0349            ┆ 0.005487         │\n",
       "│ PD50519d  ┆ AA2-t2         ┆ 136         ┆ 0.0            ┆ 0.2204            ┆ 0.709524         │\n",
       "│ PD50521b  ┆ AN-s1          ┆ 194         ┆ 0.0            ┆ 0.2549            ┆ 0.134791         │\n",
       "│ PD50521e  ┆ AN-s2          ┆ 155         ┆ 0.0            ┆ 0.0078            ┆ 0.194836         │\n",
       "│ PD50523b  ┆ AD             ┆ 164         ┆ 0.0            ┆ 0.0               ┆ 3.0134e-7        │\n",
       "└───────────┴────────────────┴─────────────┴────────────────┴───────────────────┴──────────────────┘"
      ]
     },
     "execution_count": 14,
     "metadata": {},
     "output_type": "execute_result"
    }
   ],
   "source": [
    "sample_vs_rest_df.sort(\"AD_perm_pvalue\")"
   ]
  },
  {
   "cell_type": "markdown",
   "id": "8f86b37d-ac85-49c9-a33e-59458016bfbb",
   "metadata": {},
   "source": [
    "## Remove the most different samples"
   ]
  },
  {
   "cell_type": "code",
   "execution_count": null,
   "id": "631fd4c4-08d4-4068-95f7-7addd89249b9",
   "metadata": {
    "tags": []
   },
   "outputs": [],
   "source": [
    "sample_vs_rest_except_df = inference.get_sample_vs_rest_tests(\n",
    "    [k for k,v in sample_id_to_paper_label.items() if v not in [\"AD\"]],\n",
    "    CO_df,\n",
    "    \"CO_active_interval_crossover_prob\",\n",
    "    n_perms=10000,\n",
    ")"
   ]
  },
  {
   "cell_type": "code",
   "execution_count": null,
   "id": "19986d0f-b393-4848-a3fe-c6a4c7a80c9b",
   "metadata": {
    "tags": []
   },
   "outputs": [],
   "source": [
    "sample_vs_rest_except_df.sort(\"AD_perm_pvalue\")"
   ]
  },
  {
   "cell_type": "code",
   "execution_count": null,
   "id": "75e12471-1cb9-4966-b23a-5b2128b99c0e",
   "metadata": {
    "tags": []
   },
   "outputs": [],
   "source": [
    "sample_vs_rest_except_df = inference.get_sample_vs_rest_tests(\n",
    "    [k for k,v in sample_id_to_paper_label.items() if v not in [\"AD\", \"AB\", \"AN-s1\", \"AN-s2\", \"AA1-s1\", \"AA1-s2\"]],\n",
    "    CO_df,\n",
    "    \"CO_active_interval_crossover_prob\",\n",
    "    n_perms=10000,\n",
    ")"
   ]
  },
  {
   "cell_type": "code",
   "execution_count": null,
   "id": "6fcdb3fb-0127-476b-900a-b4d1663117cf",
   "metadata": {
    "tags": []
   },
   "outputs": [],
   "source": [
    "sample_vs_rest_except_df.sort(\"AD_perm_pvalue\")"
   ]
  },
  {
   "cell_type": "code",
   "execution_count": null,
   "id": "43858ce6-39f3-41ff-9955-2b497f607d1f",
   "metadata": {},
   "outputs": [],
   "source": []
  },
  {
   "cell_type": "code",
   "execution_count": null,
   "id": "6693f4d5-d4f2-43f0-b8e3-e94ae7776689",
   "metadata": {},
   "outputs": [],
   "source": []
  },
  {
   "cell_type": "code",
   "execution_count": null,
   "id": "79a7b02b-dfb6-4a0a-88b9-13bb38f61997",
   "metadata": {},
   "outputs": [],
   "source": []
  },
  {
   "cell_type": "code",
   "execution_count": null,
   "id": "38c206f2-2ceb-484a-adbd-a0067e1ba757",
   "metadata": {},
   "outputs": [],
   "source": []
  },
  {
   "cell_type": "code",
   "execution_count": null,
   "id": "08e6326a-dea9-414a-a090-93fe9b69fc3c",
   "metadata": {
    "tags": []
   },
   "outputs": [],
   "source": [
    "import statsmodels.stats.multitest\n",
    "\n",
    "statsmodels.stats.multitest.multipletests(\n",
    "    pvals = sample_vs_rest_except_df.sort(\"AD_perm_pvalue\")[\"AD_perm_pvalue\"],\n",
    "    method = \"bonferroni\",\n",
    ")"
   ]
  },
  {
   "cell_type": "code",
   "execution_count": null,
   "id": "12a7e176-1a7c-4741-8ac8-1476412306ed",
   "metadata": {
    "tags": []
   },
   "outputs": [],
   "source": [
    "scipy.stats.combine_pvalues([0.012, 0.024])"
   ]
  },
  {
   "cell_type": "code",
   "execution_count": null,
   "id": "558c0ec3-8df1-4615-b029-1b6f218522f6",
   "metadata": {},
   "outputs": [],
   "source": []
  },
  {
   "cell_type": "markdown",
   "id": "d387a4cd-bd1a-4d77-b99c-22f0e5763a25",
   "metadata": {},
   "source": [
    "## Plot particular examples"
   ]
  },
  {
   "cell_type": "code",
   "execution_count": 23,
   "id": "998f487b-2dc3-468a-af6b-578481381479",
   "metadata": {
    "tags": []
   },
   "outputs": [],
   "source": [
    "def plot_cm_diffs(\n",
    "    label_list1,\n",
    "    label_list2,\n",
    "    label_legend1 = \"\",\n",
    "    label_legend2 = \"\",\n",
    "    ax = None,\n",
    "):\n",
    "\n",
    "    if ax is None:\n",
    "        fig, ax = plt.subplots(figsize=(6,4))\n",
    "\n",
    "    sample_ids1 = [k for k,v in sample_id_to_paper_label.items() if v in label_list1]\n",
    "    sample_ids2 = [k for k,v in sample_id_to_paper_label.items() if v in label_list2]\n",
    "    \n",
    "    if label_legend1 == \"\":\n",
    "        label_legend1 = ', '.join(sample_ids1)\n",
    "    if label_legend2 == \"\":\n",
    "        label_legend2 = ', '.join(sample_ids1)\n",
    "\n",
    "    x1 = pd.Series(np.log10(CO_df.filter(pl.col(\"sample_id\").is_in(sample_ids1))[\"CO_active_interval_crossover_prob\"] * 1e2), name=label_legend1)\n",
    "    x2 = pd.Series(np.log10(CO_df.filter(pl.col(\"sample_id\").is_in(sample_ids2))[\"CO_active_interval_crossover_prob\"] * 1e2), name=label_legend2)\n",
    "\n",
    "    sns.histplot(\n",
    "        data = [x1, x2],\n",
    "        bins=25, #np.linspace(0, 2, 25),\n",
    "        multiple=\"dodge\",\n",
    "        shrink=0.8,\n",
    "        stat=\"proportion\",\n",
    "        common_norm=False,\n",
    "        ax=ax,\n",
    "    )\n",
    "    \n",
    "    sns.despine(ax=ax)\n",
    "\n",
    "    ax.set_xlabel(\"Genetic length (cM)\");\n",
    "    ax.set_xticks(\n",
    "        ticks = np.arange(-7, 1),\n",
    "        labels = [f\"$10^{{{x}}}$\" for x in np.arange(-7, 1)],\n",
    "    );"
   ]
  },
  {
   "cell_type": "code",
   "execution_count": 31,
   "id": "0d2e808d-588b-4b8f-8296-a6cccbeda2fc",
   "metadata": {
    "tags": []
   },
   "outputs": [
    {
     "data": {
      "image/png": "[encoded data removed]",
      "text/plain": [
       "<Figure size 1000x600 with 4 Axes>"
      ]
     },
     "metadata": {},
     "output_type": "display_data"
    }
   ],
   "source": [
    "fig, axs = plt.subplots(2, 2, figsize=(10, 6), sharex=True, sharey=True)\n",
    "\n",
    "plot_cm_diffs(\n",
    "    [\"AD\"],\n",
    "    [label for label in sample_id_to_paper_label.values() if \"AA\" in label],\n",
    "    label_legend1 = \"AD sample\",\n",
    "    label_legend2 = \"All AA samples\",\n",
    "    ax = axs[0,0],\n",
    ")\n",
    "\n",
    "plot_cm_diffs(\n",
    "    [\"AB\"],\n",
    "    [label for label in sample_id_to_paper_label.values() if \"AA\" in label],\n",
    "    label_legend1 = \"AB sample\",\n",
    "    label_legend2 = \"All AA samples\",\n",
    "    ax = axs[0,1],\n",
    ")\n",
    "\n",
    "\n",
    "plot_cm_diffs(\n",
    "    [\"AN-s1\", \"AN-s2\"],\n",
    "    [label for label in sample_id_to_paper_label.values() if \"AA\" in label],\n",
    "    label_legend1 = \"AN samples\",\n",
    "    label_legend2 = \"All AA samples\",\n",
    "    ax = axs[1,0],\n",
    ")\n",
    "\n",
    "\n",
    "plot_cm_diffs(\n",
    "    [\"AA1-s1\", \"AA1-s2\"],\n",
    "    [label for label in sample_id_to_paper_label.values() if \"AA\" in label and label not in [\"AA1-s1\", \"AA1-s2\"]],\n",
    "    label_legend1 = \"AA1 samples\",\n",
    "    label_legend2 = \"All other AA samples\",\n",
    "    ax = axs[1,1],\n",
    ")"
   ]
  },
  {
   "cell_type": "code",
   "execution_count": null,
   "id": "39f420ed-b483-4baa-937b-5489a76424ff",
   "metadata": {},
   "outputs": [],
   "source": []
  },
  {
   "cell_type": "code",
   "execution_count": null,
   "id": "7cec47bb-b1ac-496e-99d1-e69bface183d",
   "metadata": {},
   "outputs": [],
   "source": []
  },
  {
   "cell_type": "code",
   "execution_count": 18,
   "id": "5df70ba5-5377-423a-bc79-ce988f312216",
   "metadata": {},
   "outputs": [
    {
     "data": {
      "image/png": "[encoded data removed]",
      "text/plain": [
       "<Figure size 600x400 with 1 Axes>"
      ]
     },
     "metadata": {},
     "output_type": "display_data"
    }
   ],
   "source": [
    "plot_cm_diffs(\n",
    "    [\"AA1-s1\", \"AA1-s2\"],\n",
    "    [label for label in sample_id_to_paper_label.values() if \"AA\" in label and label not in [\"AA1-s1\", \"AA1-s2\"]],\n",
    "    label_legend1 = \"AA1 samples\",\n",
    "    label_legend2 = \"All other AA samples\",\n",
    ")"
   ]
  },
  {
   "cell_type": "code",
   "execution_count": null,
   "id": "250b5da3-2ad2-44c6-9a01-c6203201d467",
   "metadata": {},
   "outputs": [],
   "source": []
  },
  {
   "cell_type": "code",
   "execution_count": null,
   "id": "8b12a9d8-d288-4fd3-ab27-78b2edfb1676",
   "metadata": {},
   "outputs": [],
   "source": []
  },
  {
   "cell_type": "code",
   "execution_count": null,
   "id": "ee601963-4c37-40cd-8840-32b6bd640f0c",
   "metadata": {},
   "outputs": [],
   "source": []
  },
  {
   "cell_type": "code",
   "execution_count": null,
   "id": "8c3f0e31-41fb-4648-9e95-ece91da400ab",
   "metadata": {},
   "outputs": [],
   "source": []
  },
  {
   "cell_type": "code",
   "execution_count": null,
   "id": "3a3d575c-d590-4e5e-985b-883d66eed45c",
   "metadata": {},
   "outputs": [],
   "source": []
  },
  {
   "cell_type": "code",
   "execution_count": null,
   "id": "1b1cba9e-83da-4101-97e1-a11cb3273774",
   "metadata": {},
   "outputs": [],
   "source": []
  },
  {
   "cell_type": "markdown",
   "id": "52c27725-376e-492e-b0a6-ea1407ee9829",
   "metadata": {},
   "source": [
    "## Big transparent plot?"
   ]
  },
  {
   "cell_type": "code",
   "execution_count": null,
   "id": "a607151f-41f8-4b50-b010-6a49154e4e9f",
   "metadata": {
    "tags": []
   },
   "outputs": [],
   "source": [
    "def get_data(label_list, name):\n",
    "    sample_ids = [k for k,v in sample_id_to_paper_label.items() if v in label_list]\n",
    "    x = pd.Series(np.log10(CO_df.filter(pl.col(\"sample_id\").is_in(sample_ids))[\"CO_active_interval_crossover_prob\"] * 1e2), name=name)\n",
    "    return x\n",
    "\n",
    "fig, ax = plt.subplots(figsize=(8, 6))\n",
    "\n",
    "data = [\n",
    "#    get_data([\"AA1-s1\", \"AA1-s2\"], \"AA1 samples\"),\n",
    "    get_data(\n",
    "        [label for label in sample_id_to_paper_label.values() if \"AA\" in label and label not in [\"AA1-s1\", \"AA1-s2\"]],\n",
    "        \"All other AA samples\",\n",
    "    ),\n",
    "    get_data([\"AN-s1\", \"AN-s2\"], \"AN samples\"),\n",
    "    get_data([\"AB\"], \"AB\"),\n",
    "    get_data([\"AD\"], \"AD\"),\n",
    "]\n",
    "\n",
    "sns.histplot(\n",
    "    data = data,\n",
    "    bins=np.linspace(-5.5, 0.2, 25), \n",
    "    #multiple=\"dodge\",\n",
    "    #shrink=0.8,\n",
    "    stat=\"proportion\",\n",
    "    common_norm=False,\n",
    "    element=\"step\",\n",
    "    #kde=True,\n",
    "    #palette=[CO_color, NCO_color, background_color],\n",
    "    #fill=False,\n",
    "    alpha=0.1,\n",
    "    ax=ax,\n",
    "    lw=0.5,\n",
    ")\n",
    "\n",
    "ax.set_xlabel(\"Genetic length (cM)\");\n",
    "ax.set_xticks(\n",
    "    np.arange(-5, 1),\n",
    "    [f\"$10^{{{x}}}$\" for x in np.arange(-5, 1)],\n",
    ");\n",
    "# ax.legend(\n",
    "#     ax.get_legend().legend_handles, \n",
    "#     [\"CO reads\", \"NCO reads\", \"All reads\"], \n",
    "#     loc=\"upper left\",\n",
    "# );\n",
    "\n",
    "ax.spines[['right', 'top']].set_visible(False)"
   ]
  },
  {
   "cell_type": "code",
   "execution_count": null,
   "id": "a4e833eb-8e08-4464-b35b-772d5ee5d7ae",
   "metadata": {},
   "outputs": [],
   "source": []
  },
  {
   "cell_type": "code",
   "execution_count": null,
   "id": "157468e1-4473-4f22-9739-6cf30ab6d419",
   "metadata": {},
   "outputs": [],
   "source": []
  },
  {
   "cell_type": "markdown",
   "id": "bd94b8de-7558-480e-abd2-70a65ad39e24",
   "metadata": {},
   "source": [
    "# *** Pretty plot for differences"
   ]
  },
  {
   "cell_type": "code",
   "execution_count": null,
   "id": "9997c9be-662e-460d-8812-6b8a4f8713c3",
   "metadata": {
    "tags": []
   },
   "outputs": [],
   "source": [
    "ax = inference.plot_boxplots_samples(\n",
    "    CO_df.with_columns(cM=pl.col(\"CO_active_interval_crossover_prob\")*1e2),\n",
    "    \"cM\",\n",
    "    xlabel = \"cM\",\n",
    "    take_log10=True,\n",
    "    figsize=(4, 6),\n",
    "    ticks = np.arange(-4, 1),\n",
    "    label_to_color={\n",
    "        \"AB\": CO_color,\n",
    "        \"AD\": CO_color,\n",
    "        \"AA1-s1\": CO_color,\n",
    "        \"AA1-s2\": CO_color,\n",
    "    }\n",
    ");\n"
   ]
  },
  {
   "cell_type": "code",
   "execution_count": null,
   "id": "67c33c1c-9075-435e-864b-a3c0f2a54c6b",
   "metadata": {},
   "outputs": [],
   "source": []
  },
  {
   "cell_type": "code",
   "execution_count": null,
   "id": "5e547999-b649-480a-b92a-06a3152a2c33",
   "metadata": {},
   "outputs": [],
   "source": []
  },
  {
   "cell_type": "code",
   "execution_count": null,
   "id": "89a8bd1a-b897-40d1-a898-53e1efc09722",
   "metadata": {},
   "outputs": [],
   "source": []
  },
  {
   "cell_type": "code",
   "execution_count": null,
   "id": "f2c09b43-7b51-4b73-9989-0fc931d3e6ed",
   "metadata": {},
   "outputs": [],
   "source": []
  },
  {
   "cell_type": "markdown",
   "id": "934dcfc7-d1ba-4832-9cd3-da39ba4c719c",
   "metadata": {},
   "source": [
    "# DSBs"
   ]
  },
  {
   "cell_type": "markdown",
   "id": "96eab027-498f-488e-a60b-2197b1d8cff2",
   "metadata": {},
   "source": [
    "## Overall rates"
   ]
  },
  {
   "cell_type": "markdown",
   "id": "cb528e12-2458-4dac-8540-ba2ed130ee32",
   "metadata": {},
   "source": [
    "### A/A"
   ]
  },
  {
   "cell_type": "code",
   "execution_count": null,
   "id": "b9b00d87-cb18-495b-a059-c0dd2e7fcda8",
   "metadata": {},
   "outputs": [],
   "source": [
    "print(\"Fraction of CO reads with motif in them:\" ,(dense_reads_with_detection_df\n",
    "    .filter(pl.col(\"grch38_reference_start\").is_not_null())\n",
    "    .filter(pl.col(\"high_quality_classification_class\") == \"CO\")\n",
    "    .select(pl.col(\"AA_motif_center_pos\").is_not_null())\n",
    "    .mean().item(0,0)\n",
    "))"
   ]
  },
  {
   "cell_type": "code",
   "execution_count": null,
   "id": "6cca050d-6418-405e-a6c6-c5fb66127543",
   "metadata": {},
   "outputs": [],
   "source": [
    "print(\"Fraction of all reads with motif in them:\" ,(dense_reads_with_detection_df\n",
    "    .filter(pl.col(\"grch38_reference_start\").is_not_null())                                                    \n",
    "    .select(pl.col(\"AA_motif_center_pos\").is_not_null())\n",
    "    .mean().item(0,0)\n",
    "))"
   ]
  },
  {
   "cell_type": "code",
   "execution_count": null,
   "id": "2844260e-2be3-4f50-aeab-a963fcff2d98",
   "metadata": {},
   "outputs": [],
   "source": [
    "print(\"Fraction of CO reads with motif in recombining region:\", (CO_df\n",
    "    .filter(pl.col(\"grch38_reference_start\").is_not_null())                                                            \n",
    "    .select(\n",
    "        (pl.col(\"grch38_recombining_interval_start_pos\") <= pl.col(\"AA_motif_center_pos\")) &\n",
    "        (pl.col(\"grch38_recombining_interval_end_pos\") > pl.col(\"AA_motif_center_pos\"))\n",
    "    )\n",
    "    .mean().item(0,0)\n",
    "))"
   ]
  },
  {
   "cell_type": "markdown",
   "id": "a579f9cb-05ee-4391-80ae-e8858ca091c0",
   "metadata": {},
   "source": [
    "## Overall distances to motif center"
   ]
  },
  {
   "cell_type": "markdown",
   "id": "36b2cc4f-d2d3-46e6-8632-51b74a98ef0a",
   "metadata": {},
   "source": [
    "### A/A"
   ]
  },
  {
   "cell_type": "code",
   "execution_count": null,
   "id": "514e7d1a-d972-492e-887b-6e9eb0d164e6",
   "metadata": {},
   "outputs": [],
   "source": [
    "xs, H = inference.calculate_motif_distance_histogram(\n",
    "    (CO_df\n",
    "        .filter(pl.col(\"AA_motif_center_pos\").is_not_null())\n",
    "    ),\n",
    "    \"AA_motif_center_pos\",\n",
    "    \"AA_motif_strand\",\n",
    "    grch38_recombining_interval_threshold = 300,\n",
    ")\n",
    "\n",
    "plt.plot(xs, H);\n",
    "plt.plot(xs, H[::-1], color=\"teal\", alpha=0.2);\n",
    "\n",
    "plt.xlim(-2000,2000);\n",
    "plt.axvline(0, color=\"black\", ls=\"--\");\n",
    "plt.xlabel(\"Distance to motif (bp)\");\n",
    "plt.ylabel(\"Proportion\");"
   ]
  },
  {
   "cell_type": "code",
   "execution_count": null,
   "id": "8f303c1a-fcbb-4699-9c40-bfa64a452c9f",
   "metadata": {
    "tags": []
   },
   "outputs": [],
   "source": [
    "H[len(H)//2:].sum()"
   ]
  },
  {
   "cell_type": "code",
   "execution_count": null,
   "id": "0663b56d-55dd-4ab5-a092-15c6f897caa9",
   "metadata": {},
   "outputs": [],
   "source": []
  },
  {
   "cell_type": "code",
   "execution_count": null,
   "id": "99ac7e5b-4972-46a1-9ec2-1d2deb22e471",
   "metadata": {},
   "outputs": [],
   "source": []
  },
  {
   "cell_type": "code",
   "execution_count": null,
   "id": "48b072cb-8a98-4ed9-a0d3-01a65502ae2c",
   "metadata": {
    "tags": []
   },
   "outputs": [],
   "source": [
    "np.sum(xs*H)"
   ]
  },
  {
   "cell_type": "code",
   "execution_count": null,
   "id": "5ec161bc-aa1e-4f00-8819-66ffe6555b23",
   "metadata": {},
   "outputs": [],
   "source": [
    "%%time\n",
    "inference.motif_distance_histogram_symmetry_permutation_testing(\n",
    "    (CO_df\n",
    "        .filter(pl.col(\"AA_motif_center_pos\").is_not_null())\n",
    "    ),\n",
    "    \"AA_motif_center_pos\",\n",
    "    \"AA_motif_strand\",\n",
    "    n_perms=1000,\n",
    "    grch38_recombining_interval_threshold = 300,\n",
    "    stat = \"max_abs\",\n",
    ")"
   ]
  },
  {
   "cell_type": "code",
   "execution_count": null,
   "id": "76875eb9-7c3d-4f28-885a-10f4b6895579",
   "metadata": {},
   "outputs": [],
   "source": []
  },
  {
   "cell_type": "markdown",
   "id": "b1c62641-5558-49be-a24c-847a62d0ce80",
   "metadata": {},
   "source": [
    "## Distance to motif centers, per sample"
   ]
  },
  {
   "cell_type": "code",
   "execution_count": null,
   "id": "54ebcef2-79d5-4c53-b80b-7e2860f311d0",
   "metadata": {},
   "outputs": [],
   "source": [
    "fig, axs = plt.subplots(4, 4, figsize=(8, 6))\n",
    "\n",
    "motif_distances_per_sample_id = {}\n",
    "\n",
    "for ax, sample_id in zip(axs.ravel(), tqdm.tqdm(sample_id_order)):\n",
    "    xs, H = inference.calculate_motif_distance_histogram(\n",
    "        (CO_df\n",
    "            .filter(pl.col(\"AA_motif_center_pos\").is_not_null())\n",
    "            .filter(pl.col(\"sample_id\") == sample_id)\n",
    "        ),\n",
    "        \"AA_motif_center_pos\",\n",
    "        \"AA_motif_strand\",\n",
    "    )\n",
    "    \n",
    "    pval = inference.motif_distance_histogram_symmetry_permutation_testing(\n",
    "        (CO_df\n",
    "            .filter(pl.col(\"AA_motif_center_pos\").is_not_null())\n",
    "            .filter(pl.col(\"sample_id\") == sample_id) \n",
    "        ),\n",
    "        \"AA_motif_center_pos\",\n",
    "        \"AA_motif_strand\",\n",
    "    )\n",
    "    \n",
    "    motif_distances_per_sample_id[sample_id] = H\n",
    "\n",
    "    ax.plot(xs, H, label=sample_id);\n",
    "    ax.set_title(f\"{sample_id}, p={pval}\")\n",
    "    ax.set_xlim(-500,500)\n",
    "    ax.set_ylim(0, 0.0006);\n",
    "\n",
    "fig.tight_layout()"
   ]
  },
  {
   "cell_type": "markdown",
   "id": "95fdebf8-e82d-4967-86db-9d3ad57e4586",
   "metadata": {},
   "source": [
    "# Compare distance to motif between samples, in COs"
   ]
  },
  {
   "cell_type": "code",
   "execution_count": null,
   "id": "49a1e0f0-6db2-419f-9ec2-f0645c6136c7",
   "metadata": {},
   "outputs": [],
   "source": [
    "rows = []\n",
    "for sample_id1, sample_id2 in tqdm.tqdm(list(itertools.combinations(sorted(sample_ids), 2))):\n",
    "    pval = inference.motif_distance_histogram_diffs_permutation_testing(\n",
    "        (CO_df\n",
    "            .filter(pl.col(\"AA_motif_center_pos\").is_not_null())\n",
    "            .filter((pl.col(\"sample_id\") == sample_id1) & (pl.col(\"high_quality_classification_class\") == \"CO\"))\n",
    "        ),\n",
    "        (CO_df\n",
    "            .filter(pl.col(\"AA_motif_center_pos\").is_not_null())\n",
    "            .filter((pl.col(\"sample_id\") == sample_id2) & (pl.col(\"high_quality_classification_class\") == \"CO\"))\n",
    "        ),\n",
    "        \"AA_motif_center_pos\",\n",
    "        \"AA_motif_strand\",\n",
    "        max_dist=30000,\n",
    "        n_perms=100,\n",
    "        stat=\"sum_abs\",\n",
    "    )\n",
    "    \n",
    "    rows.append(\n",
    "        [\n",
    "            sample_id1, \n",
    "            sample_id2,\n",
    "            pval,\n",
    "        ]\n",
    "    )\n",
    "    \n",
    "pairwise_motif_dists_co_df = pl.DataFrame(\n",
    "    rows,\n",
    "    schema=[\"sample_id1\", \"sample_id2\", \"perm_pval\"\n",
    "           ],\n",
    ")       "
   ]
  },
  {
   "cell_type": "code",
   "execution_count": null,
   "id": "226882f9-af38-4927-bbe4-9060313d343d",
   "metadata": {},
   "outputs": [],
   "source": [
    "pairwise_motif_dists_co_df.sort(\"perm_pval\").head()"
   ]
  },
  {
   "cell_type": "code",
   "execution_count": null,
   "id": "c27d5945-f07d-4d2f-a30c-c4ca40bb9e50",
   "metadata": {},
   "outputs": [],
   "source": []
  },
  {
   "cell_type": "markdown",
   "id": "b2acaff7-20ab-407b-becc-c437f2ae0e14",
   "metadata": {
    "tags": []
   },
   "source": [
    "# Compare DSB signal strengths between COs"
   ]
  },
  {
   "cell_type": "code",
   "execution_count": null,
   "id": "e3284422-7528-4306-bdf8-3a041c3138a1",
   "metadata": {},
   "outputs": [],
   "source": [
    "sample_id_to_AA_heats = {}\n",
    "\n",
    "for sample_id in sample_ids:\n",
    "    sdf = (dense_reads_with_detection_df\n",
    "        .filter(pl.col(\"grch38_reference_start\").is_not_null())           \n",
    "        .filter((pl.col(\"sample_id\") == sample_id) & (pl.col(\"high_quality_classification_class\") == \"CO\"))\n",
    "    )\n",
    "    heats = sdf[\"AA_heat\"].fill_null(0)\n",
    "    sample_id_to_AA_heats[sample_id] = heats.to_numpy()\n",
    "\n",
    "rows = []\n",
    "for sample_id1, sample_id2 in tqdm.tqdm(list(itertools.combinations(sorted(sample_ids), 2))):\n",
    "    heats_1 = sample_id_to_AA_heats[sample_id1]\n",
    "    heats_2 = sample_id_to_AA_heats[sample_id2]\n",
    "    rows.append(\n",
    "        [\n",
    "            sample_id1, \n",
    "            sample_id2,\n",
    "            len(heats_1), \n",
    "            len(heats_2),\n",
    "            scipy.stats.ks_2samp(heats_1, heats_2).pvalue,\n",
    "            inference.permutation_testing([[heats_1, heats_2]], 1000),\n",
    "            inference.permutation_testing([[heats_1[heats_1>0], heats_2[heats_2>0]]], 1000),\n",
    "            scipy.stats.fisher_exact(\n",
    "                [[(heats_1==0).sum(), (heats_1!=0).sum()],\n",
    "                 [(heats_2==0).sum(), (heats_2!=0).sum()]],\n",
    "            ).pvalue,\n",
    "        ]\n",
    "    )\n",
    "    \n",
    "pairwise_AA_heats_co_df = pl.DataFrame(\n",
    "    rows,\n",
    "    schema=[\"sample_id1\", \"sample_id2\", \"n1\", \"n2\", \n",
    "            \"heats_ks_pvalue\", \n",
    "            \"heats_AD_perm_pvalue\", \n",
    "            \"heats_AD_perm_no_zeros_pvalue\",\n",
    "            \"heats_fisher_pvalue\",\n",
    "           ],\n",
    ")    "
   ]
  },
  {
   "cell_type": "code",
   "execution_count": null,
   "id": "31e26dfb-74cf-4228-9097-ecf66e0175d6",
   "metadata": {},
   "outputs": [],
   "source": [
    "pairwise_AA_heats_co_df.sort(\"heats_AD_perm_pvalue\")"
   ]
  },
  {
   "cell_type": "markdown",
   "id": "8f6a8a1f-0e16-4ec0-a05b-f2de3c2d3645",
   "metadata": {},
   "source": [
    "## Matrix"
   ]
  },
  {
   "cell_type": "code",
   "execution_count": null,
   "id": "e6960755-3f88-4c7e-a285-8bf91b56f8e3",
   "metadata": {},
   "outputs": [],
   "source": [
    "mat = []\n",
    "for sample_id1 in sample_id_order:\n",
    "    row = []\n",
    "    for sample_id2 in sample_id_order:\n",
    "        if sample_id1 == sample_id2:\n",
    "            pval = 1\n",
    "        else:\n",
    "            pval = pairwise_AA_heats_co_df.filter(\n",
    "                ((pl.col(\"sample_id1\") == sample_id1) & (pl.col(\"sample_id2\") == sample_id2)) | \n",
    "                ((pl.col(\"sample_id1\") == sample_id2) & (pl.col(\"sample_id2\") == sample_id1))\n",
    "            )[\"heats_AD_perm_pvalue\"].item(0)\n",
    "        row.append(pval)\n",
    "    mat.append(row)\n",
    "    \n",
    "mat = pd.DataFrame(mat, index=sample_id_order, columns=sample_id_order)\n",
    "\n",
    "fig, ax = plt.subplots(figsize=(10,8))\n",
    "sns.heatmap(\n",
    "    mat,\n",
    "    vmin=0, \n",
    "    vmax=0.05,\n",
    "    annot=True,\n",
    "    fmt=\".2f\",\n",
    "    square=True,\n",
    ");\n",
    "\n",
    "plt.title(\"AD perm pvalues\");"
   ]
  },
  {
   "cell_type": "code",
   "execution_count": null,
   "id": "97b8c839-69a5-4fc9-b293-6a574815c037",
   "metadata": {},
   "outputs": [],
   "source": [
    "mat = []\n",
    "for sample_id1 in sample_presentation_order[:-1]:\n",
    "    row = []\n",
    "    for sample_id2 in sample_presentation_order[:-1]:\n",
    "        if sample_id1 == sample_id2:\n",
    "            pval = 1\n",
    "        else:\n",
    "            pval = pairwise_AA_heats_co_df.filter(\n",
    "                ((pl.col(\"sample_id1\") == sample_id1) & (pl.col(\"sample_id2\") == sample_id2)) | \n",
    "                ((pl.col(\"sample_id1\") == sample_id2) & (pl.col(\"sample_id2\") == sample_id1))\n",
    "            )[\"heats_fisher_pvalue\"].item(0)\n",
    "        row.append(pval)\n",
    "    mat.append(row)\n",
    "    \n",
    "labels = [sample_id_to_paper_label[x] for x in sample_presentation_order[:-1]]\n",
    "mat = pd.DataFrame(mat, index=labels, columns=labels)\n",
    "\n",
    "fig, ax = plt.subplots(figsize=(10,8))\n",
    "sns.heatmap(\n",
    "    mat,\n",
    "    vmin=0, \n",
    "    vmax=0.05,\n",
    "    annot=True,\n",
    "    fmt=\".2f\",\n",
    "    square=True,    \n",
    ");\n",
    "\n",
    "plt.title(\"Fisher's exact pvalues\");"
   ]
  },
  {
   "cell_type": "code",
   "execution_count": null,
   "id": "6b8d5f3c-14fd-45bf-bc85-c1d8be87c5fd",
   "metadata": {},
   "outputs": [],
   "source": [
    "fig, ax = plt.subplots(figsize=(7,5))\n",
    "\n",
    "mns = [(sample_id_to_AA_heats[s]>0).mean() for s in sample_presentation_order[:-1]]\n",
    "cis = [statsmodels.stats.proportion.proportion_confint(\n",
    "    (sample_id_to_AA_heats[s]>0).sum(),\n",
    "    len(sample_id_to_AA_heats[s]),\n",
    "    method=\"beta\",\n",
    ") for s in sample_presentation_order[:-1]]\n",
    "    \n",
    "\n",
    "\n",
    "ax.errorbar(\n",
    "    x = np.arange(len(sample_presentation_order[:-1])),\n",
    "    y = mns,\n",
    "    yerr = [\n",
    "        [mn-low_ci for ((low_ci, high_ci), mn) in zip(cis, mns)],\n",
    "        [high_ci-mn for ((low_ci, high_ci), mn) in zip(cis, mns)],\n",
    "    ],\n",
    "    fmt=\".-\",\n",
    "    ms=20,\n",
    "    \n",
    ");\n",
    "ax.set_xticks(\n",
    "    ticks = np.arange(len(sample_id_order)), \n",
    "    labels=[sample_id_to_paper_label[x] for x in sample_presentation_order[:-1]], \n",
    "    rotation=45\n",
    ");\n",
    "ax.set_ylabel(\"Fraction of CO reads with DSB\");"
   ]
  },
  {
   "cell_type": "markdown",
   "id": "da49d0e6-202e-45bd-96e5-1e6c0f062efa",
   "metadata": {},
   "source": [
    "### Sample vs. rest"
   ]
  },
  {
   "cell_type": "code",
   "execution_count": null,
   "id": "c28bee75-9f79-4435-84d0-117354ab11be",
   "metadata": {
    "tags": []
   },
   "outputs": [],
   "source": [
    "def test_fishers_exact_one_vs_rest(sample_ids):\n",
    "    rows = []\n",
    "    for sample_id in tqdm.tqdm(sample_ids):\n",
    "        xx = sample_id_to_AA_heats[sample_id]\n",
    "        sx = (xx>0).sum()\n",
    "        yy = np.concatenate([sample_id_to_AA_heats[s] for s in sample_ids if s != sample_id])\n",
    "        sy = (yy>0).sum()\n",
    "        \n",
    "        pval = scipy.stats.fisher_exact(\n",
    "            [[sx, len(xx)-sx], [sy, len(yy)-sy]]\n",
    "        ).pvalue\n",
    "        \n",
    "        label_id = sample_id_to_paper_label[sample_id]\n",
    "        rows.append([sample_id, label_id, sx/len(xx), sy/len(yy), pval])\n",
    "    \n",
    "    df = pl.DataFrame(rows, schema=[\"sample_id\", \"paper_label\", \"prop\", \"other_prop\", \"fisher_pval\"]).sort(\"fisher_pval\")\n",
    "    return df\n",
    "    "
   ]
  },
  {
   "cell_type": "code",
   "execution_count": null,
   "id": "e519c179-7405-48a0-9df8-922a5116770a",
   "metadata": {
    "tags": []
   },
   "outputs": [],
   "source": [
    "test_fishers_exact_one_vs_rest(sample_ids)"
   ]
  },
  {
   "cell_type": "code",
   "execution_count": null,
   "id": "77ad5ee6-43f8-4a7a-b497-1f9874beb2b1",
   "metadata": {
    "tags": []
   },
   "outputs": [],
   "source": [
    "test_fishers_exact_one_vs_rest([s for s in sample_ids if sample_id_to_paper_label[s] not in [\"AD\", \"AA1-s1\", \"AA2-t1\"]])"
   ]
  },
  {
   "cell_type": "code",
   "execution_count": null,
   "id": "9c337261-5232-4674-846f-d5ed6f1e70d9",
   "metadata": {
    "tags": []
   },
   "outputs": [],
   "source": [
    "def test_combined_fishers_exact_one_vs_rest(sample_ids):\n",
    "    rows = []\n",
    "    for sample_id in tqdm.tqdm(sample_ids):\n",
    "        pvals = (pairwise_AA_heats_co_df\n",
    "            .filter((pl.col(\"sample_id1\") == sample_id) | (pl.col(\"sample_id2\") == sample_id))\n",
    "            [\"heats_fisher_pvalue\"]\n",
    "        )\n",
    "        \n",
    "        comb_fisher = scipy.stats.combine_pvalues(pvals, method=\"fisher\").pvalue\n",
    "        \n",
    "        label_id = sample_id_to_paper_label[sample_id]\n",
    "        rows.append([sample_id, label_id, comb_fisher])\n",
    "    \n",
    "    df = pl.DataFrame(rows, schema=[\"sample_id\", \"paper_label\", \"comb_fisher\"]).sort(\"comb_fisher\")\n",
    "    return df\n",
    "    \n",
    "    "
   ]
  },
  {
   "cell_type": "code",
   "execution_count": null,
   "id": "58cfd315-cb5b-44d1-8667-06cb71245c5c",
   "metadata": {
    "tags": []
   },
   "outputs": [],
   "source": [
    "test_combined_fishers_exact_one_vs_rest(sample_ids)"
   ]
  },
  {
   "cell_type": "code",
   "execution_count": null,
   "id": "c571581f-d592-47f6-9b2c-43e6e2d87d16",
   "metadata": {
    "tags": []
   },
   "outputs": [],
   "source": [
    "test_combined_fishers_exact_one_vs_rest([s for s in sample_ids if sample_id_to_paper_label[s] not in [\"AD\", \"AA1-s1\", \"AA2-t1\"]])"
   ]
  },
  {
   "cell_type": "code",
   "execution_count": null,
   "id": "97255cba-912a-4150-9a4b-97acb2bd58a1",
   "metadata": {},
   "outputs": [],
   "source": []
  },
  {
   "cell_type": "code",
   "execution_count": null,
   "id": "0a587b16-261e-48b3-89af-0282522968c0",
   "metadata": {},
   "outputs": [],
   "source": []
  },
  {
   "cell_type": "markdown",
   "id": "33c99759-45d4-42a5-820a-d9d4e0e5c36d",
   "metadata": {},
   "source": [
    "## Look at some examples"
   ]
  },
  {
   "cell_type": "code",
   "execution_count": null,
   "id": "70893368-c701-4d94-bc55-e21324151ba8",
   "metadata": {},
   "outputs": [],
   "source": [
    "fig, ax = plt.subplots(figsize=(10,5))\n",
    "\n",
    "sample_id1 = \"PD50508f\"\n",
    "sample_id2 = \"PD50521e\"\n",
    "\n",
    "pval = pairwise_AA_heats_co_df.filter(\n",
    "    ((pl.col(\"sample_id1\") == sample_id1) & (pl.col(\"sample_id2\") == sample_id2)) | \n",
    "    ((pl.col(\"sample_id1\") == sample_id2) & (pl.col(\"sample_id2\") == sample_id1))\n",
    ")[\"heats_AD_perm_pvalue\"].item(0)\n",
    "\n",
    "sns.histplot(\n",
    "    [\n",
    "        pd.Series(sample_id_to_AA_heats[sample_id1], name=sample_id1),\n",
    "        pd.Series(sample_id_to_AA_heats[sample_id2], name=sample_id2),\n",
    "    ], \n",
    "    bins=50, #np.linspace(0, 2, 25),\n",
    "    multiple=\"dodge\",\n",
    "    shrink=0.8,\n",
    "    stat=\"proportion\",\n",
    "    common_norm=False,\n",
    "    ax=ax,\n",
    ")\n",
    "\n",
    "#plt.yscale(\"log\");\n",
    "#plt.ylim(0,0.05);\n",
    "plt.xlabel(\"AA heat\");\n",
    "plt.title(f\"AD perm pval = {pval}\");\n"
   ]
  },
  {
   "cell_type": "markdown",
   "id": "be53577f-6468-4146-b319-6c004628d3ca",
   "metadata": {},
   "source": [
    "# Pratto et al. DSBs"
   ]
  },
  {
   "cell_type": "code",
   "execution_count": null,
   "id": "b62cb487-cbc5-498b-848c-6d9bda6bed21",
   "metadata": {},
   "outputs": [],
   "source": [
    "pratto_df = pd.read_csv(\n",
    "    \"/lustre/scratch126/casm/team154pc/sl17/03.sperm/01.data/07.references/06.hotspots/pratto_2014_hotspots.tsv\",\n",
    "    delim_whitespace = True,\n",
    "    comment = \"#\",\n",
    ")"
   ]
  },
  {
   "cell_type": "code",
   "execution_count": null,
   "id": "9a210c5c-fcb9-4811-899c-d0f415db53e6",
   "metadata": {
    "tags": []
   },
   "outputs": [],
   "source": [
    "intersection_df = (\n",
    "    pl.from_dataframe(\n",
    "        pybedtools.BedTool.from_dataframe(\n",
    "            CO_df\n",
    "                .select(\"chrom\", \"grch37_recombining_interval_start_pos\", \"grch37_recombining_interval_end_pos\", \"read_name\")\n",
    "                .sort(\"chrom\", \"grch37_recombining_interval_start_pos\", \"grch37_recombining_interval_end_pos\")\n",
    "                .to_pandas()\n",
    "        ).intersect(\n",
    "            pybedtools.BedTool.from_dataframe(\n",
    "                pratto_df[[\"chrom\", \"start\", \"end\", \"AA1_strength\"]].sort_values([\"chrom\", \"start\"])\n",
    "            ),\n",
    "            wao=True,\n",
    "        )\n",
    "        .to_dataframe()\n",
    "    )\n",
    "    .with_columns(\n",
    "        AA1_heat_signal = pl.col(\"thickEnd\").cast(pl.Int32, strict=False)\n",
    "    )\n",
    "    .select(\n",
    "        \"chrom\", \n",
    "        \"start\", \n",
    "        \"end\", \n",
    "        pl.col(\"name\").alias(\"read_name\"), \n",
    "        pl.col(\"itemRgb\").alias(\"n_intersect\"), \n",
    "        \"AA1_heat_signal\",\n",
    "        (pl.col(\"end\") - pl.col(\"start\")).alias(\"n_total\")\n",
    "    )\n",
    ")\n",
    "\n",
    "pratto_AA1_df = (intersection_df\n",
    "    .with_columns(times = pl.col(\"AA1_heat_signal\") * pl.col(\"n_intersect\"))\n",
    "    .group_by(\"read_name\", \"n_total\")\n",
    "    .agg(pl.col(\"times\").sum())\n",
    "    .with_columns(AA1_heat_average = pl.col(\"times\") / pl.col(\"n_total\"))\n",
    "    .select(\"read_name\", \"AA1_heat_average\")\n",
    ")"
   ]
  },
  {
   "cell_type": "code",
   "execution_count": null,
   "id": "86270053-9f3a-4c85-a507-db9a5a6a9321",
   "metadata": {
    "tags": []
   },
   "outputs": [],
   "source": [
    "intersection_df = (\n",
    "    pl.from_dataframe(\n",
    "        pybedtools.BedTool.from_dataframe(\n",
    "            CO_df\n",
    "                .select(\"chrom\", \"grch37_recombining_interval_start_pos\", \"grch37_recombining_interval_end_pos\", \"read_name\")\n",
    "                .sort(\"chrom\", \"grch37_recombining_interval_start_pos\", \"grch37_recombining_interval_end_pos\")\n",
    "                .to_pandas()\n",
    "        ).intersect(\n",
    "            pybedtools.BedTool.from_dataframe(\n",
    "                pratto_df[[\"chrom\", \"start\", \"end\", \"AA2_strength\"]].sort_values([\"chrom\", \"start\"])\n",
    "            ),\n",
    "            wao=True,\n",
    "        )\n",
    "        .to_dataframe()\n",
    "    )\n",
    "    .with_columns(\n",
    "        AA2_heat_signal = pl.col(\"thickEnd\").cast(pl.Int32, strict=False)\n",
    "    )\n",
    "    .select(\n",
    "        \"chrom\", \n",
    "        \"start\", \n",
    "        \"end\", \n",
    "        pl.col(\"name\").alias(\"read_name\"), \n",
    "        pl.col(\"itemRgb\").alias(\"n_intersect\"), \n",
    "        \"AA2_heat_signal\",\n",
    "        (pl.col(\"end\") - pl.col(\"start\")).alias(\"n_total\")\n",
    "    )\n",
    ")\n",
    "\n",
    "pratto_AA2_df = (intersection_df\n",
    "    .with_columns(times = pl.col(\"AA2_heat_signal\") * pl.col(\"n_intersect\"))\n",
    "    .group_by(\"read_name\", \"n_total\")\n",
    "    .agg(pl.col(\"times\").sum())\n",
    "    .with_columns(AA2_heat_average = pl.col(\"times\") / pl.col(\"n_total\"))\n",
    "    .select(\"read_name\", \"AA2_heat_average\")\n",
    ")"
   ]
  },
  {
   "cell_type": "code",
   "execution_count": null,
   "id": "918ecaa9-8510-48b6-acc6-84beb0f0c074",
   "metadata": {},
   "outputs": [],
   "source": []
  },
  {
   "cell_type": "code",
   "execution_count": null,
   "id": "569becc4-673e-4cfc-b87d-c15690223da1",
   "metadata": {
    "tags": []
   },
   "outputs": [],
   "source": [
    "pairwise_pratto_aa1_df = inference.get_sample_pairwise_tests(\n",
    "    sample_ids,\n",
    "    CO_df.join(pratto_AA1_df, on=\"read_name\", how=\"left\").fill_null(0),\n",
    "    \"AA1_heat_average\",\n",
    "    n_perms = 1000,\n",
    "    take_log10 = False,\n",
    ")"
   ]
  },
  {
   "cell_type": "code",
   "execution_count": null,
   "id": "3af1c62f-7893-4307-b22a-b74a76c63a7b",
   "metadata": {
    "tags": []
   },
   "outputs": [],
   "source": [
    "pairwise_pratto_aa2_df = inference.get_sample_pairwise_tests(\n",
    "    sample_ids,\n",
    "    CO_df.join(pratto_AA2_df, on=\"read_name\", how=\"left\").fill_null(0),\n",
    "    \"AA2_heat_average\",\n",
    "    n_perms = 1000,\n",
    "    take_log10 = False,\n",
    ")"
   ]
  },
  {
   "cell_type": "code",
   "execution_count": null,
   "id": "4c40ecce-c45f-4947-b72b-03a56f4c061e",
   "metadata": {
    "tags": []
   },
   "outputs": [],
   "source": [
    "pairwise_pratto_aa1_df.sort(\"AD_perm_pvalue\").head(10)"
   ]
  },
  {
   "cell_type": "code",
   "execution_count": null,
   "id": "9f383568-1fd1-4911-b9c3-9673aacd9091",
   "metadata": {
    "tags": []
   },
   "outputs": [],
   "source": [
    "pairwise_pratto_aa2_df.sort(\"AD_perm_pvalue\").head(10)"
   ]
  },
  {
   "cell_type": "code",
   "execution_count": null,
   "id": "ec6b9443-4309-4b13-8935-2a2e6999a155",
   "metadata": {
    "tags": []
   },
   "outputs": [],
   "source": [
    "inference.plot_pairwise_results(\n",
    "    pairwise_pratto_aa1_df,\n",
    "    sample_presentation_order[:-1],\n",
    ")"
   ]
  },
  {
   "cell_type": "code",
   "execution_count": null,
   "id": "d83a7702-eff6-4c2b-b7ed-f6d163ceb707",
   "metadata": {
    "tags": []
   },
   "outputs": [],
   "source": [
    "inference.plot_pairwise_results(\n",
    "    pairwise_pratto_aa2_df,\n",
    "    sample_presentation_order[:-1],\n",
    ")"
   ]
  },
  {
   "cell_type": "code",
   "execution_count": null,
   "id": "2b5d8144-14d3-4883-bc28-79aecb2fde75",
   "metadata": {},
   "outputs": [],
   "source": []
  },
  {
   "cell_type": "code",
   "execution_count": null,
   "id": "23bc6dce-4405-4cbf-a2f6-e9cba21f7164",
   "metadata": {
    "tags": []
   },
   "outputs": [],
   "source": [
    "sample_id_to_has_AA1_frac = dict(\n",
    "    (CO_df\n",
    "        .join(pratto_AA1_df, on=\"read_name\", how=\"left\").fill_null(0)\n",
    "        .group_by(\"sample_id\")\n",
    "        .agg((pl.col(\"AA1_heat_average\")>0).cast(pl.Int32).mean().alias(\"has_AA1_heat\"))\n",
    "    )\n",
    "    .rows()\n",
    ")"
   ]
  },
  {
   "cell_type": "code",
   "execution_count": null,
   "id": "ceea4cfb-cefd-4059-b61b-9748e8c06fcf",
   "metadata": {
    "tags": []
   },
   "outputs": [],
   "source": [
    "fig, ax = plt.subplots(figsize=(7,5))\n",
    "\n",
    "mns = [sample_id_to_has_AA1_frac[s] for s in sample_presentation_order[:-1]]\n",
    "# cis = [statsmodels.stats.proportion.proportion_confint(\n",
    "#     (sample_id_to_AA_heats[s]>0).sum(),\n",
    "#     len(sample_id_to_AA_heats[s]),\n",
    "#     method=\"beta\",\n",
    "# ) for s in sample_id_order]\n",
    "    \n",
    "\n",
    "\n",
    "ax.plot(\n",
    "    np.arange(len(sample_id_order)),\n",
    "    mns,\n",
    "    # yerr = [\n",
    "    #     [mn-low_ci for ((low_ci, high_ci), mn) in zip(cis, mns)],\n",
    "    #     [high_ci-mn for ((low_ci, high_ci), mn) in zip(cis, mns)],\n",
    "    # ],\n",
    "    '.-',\n",
    "    #fmt=\".-\",\n",
    "    ms=20,\n",
    "    \n",
    ");\n",
    "ax.set_xticks(ticks = np.arange(len(sample_presentation_order[:-1])), labels=sample_presentation_order[:-1], rotation=45);\n",
    "ax.set_ylabel(\"Fraction of CO reads with DSB\");"
   ]
  },
  {
   "cell_type": "code",
   "execution_count": null,
   "id": "0b83865d-96a9-4dd6-840d-96aaf9d0605a",
   "metadata": {},
   "outputs": [],
   "source": []
  },
  {
   "cell_type": "code",
   "execution_count": null,
   "id": "2ff87a58-0a39-4802-9c89-d2954c035a48",
   "metadata": {},
   "outputs": [],
   "source": []
  },
  {
   "cell_type": "markdown",
   "id": "598c3a25-1260-4d38-ab28-b83776c1658d",
   "metadata": {
    "toc-hr-collapsed": true
   },
   "source": [
    "# Distance to telomeres"
   ]
  },
  {
   "cell_type": "markdown",
   "id": "bf747ee7-84bb-463e-b87c-182dbd1b08a7",
   "metadata": {},
   "source": [
    "$Pr(dist|detected) \\propto Pr(detected|dist)Pr(dist)$\n",
    "\n",
    "$Pr(dist) \\approx $ (num of reads in dist)/(num total reads) \\propto (num of reads in dist)\n",
    "\n",
    "$Pr(detected|dist) \\approx \\frac{1}{\\text{num of reads in dist}}\\sum_{read\\ in\\ dist}{Pr(detected|read)}$ \\Rightarrow\n",
    "\n",
    "$Pr(dist|detected) \\propto \\sum_{read\\ in\\ dist}{Pr(detected|read)}$ (???)"
   ]
  },
  {
   "cell_type": "code",
   "execution_count": null,
   "id": "bc2c48e2-dd86-4802-80ed-c1c261ae7564",
   "metadata": {},
   "outputs": [],
   "source": [
    "exp_df = (dense_reads_with_detection_df\n",
    "    .filter(pl.col(\"grch37_reference_start\") < 30e6)\n",
    "    .with_columns(\n",
    "        rounded_grch37_reference_start = (pl.col(\"grch37_reference_start\") // (1e6)).cast(pl.Int64),\n",
    "    )\n",
    "    .group_by(\"rounded_grch37_reference_start\")\n",
    "    .agg(pl.col(\"CO_active_interval_crossover_prob\").sum().alias(\"exp\"))\n",
    "    .sort(\"rounded_grch37_reference_start\")\n",
    "    .with_columns(\n",
    "        exp = pl.col(\"exp\") / pl.col(\"exp\").sum()\n",
    "    )\n",
    ")\n",
    "\n",
    "obs_df = (CO_df\n",
    "    .filter(pl.col(\"grch37_reference_start\") < 30e6)\n",
    "    .with_columns(\n",
    "        rounded_grch37_reference_start = (pl.col(\"grch37_reference_start\") // (1e6)).cast(pl.Int64),\n",
    "    )\n",
    "    .group_by(\"rounded_grch37_reference_start\")\n",
    "    .len()\n",
    "    .sort(\"rounded_grch37_reference_start\")\n",
    "    .with_columns(\n",
    "        obs = pl.col(\"len\") / pl.col(\"len\").sum()\n",
    "    )\n",
    ")\n",
    "\n",
    "n_total = len(CO_df\n",
    "    .filter(pl.col(\"grch37_reference_start\") < 30e6)\n",
    ")\n",
    "\n",
    "low_ci, high_ci = statsmodels.stats.proportion.proportion_confint(\n",
    "    obs_df[\"len\"], n_total, alpha=0.05, method='beta'\n",
    ")\n",
    "\n",
    "plt.scatter(\n",
    "    exp_df[\"rounded_grch37_reference_start\"],\n",
    "    exp_df[\"exp\"],\n",
    "    label=\"Expected\",\n",
    ")\n",
    "\n",
    "plt.errorbar(\n",
    "    x=obs_df[\"rounded_grch37_reference_start\"],\n",
    "    y=obs_df[\"obs\"],\n",
    "    yerr=[obs_df[\"obs\"]-low_ci, high_ci-obs_df[\"obs\"]],\n",
    "    color=\"C1\",\n",
    "    label=\"Observed\",\n",
    "    fmt='-o',\n",
    "    lw=0.5,\n",
    ")\n",
    "\n",
    "plt.legend();\n",
    "plt.title(\"COs near telomeres\");"
   ]
  },
  {
   "cell_type": "code",
   "execution_count": null,
   "id": "9e2ffbd5-c5b2-4afd-afd5-fe57ca190da5",
   "metadata": {},
   "outputs": [],
   "source": []
  },
  {
   "cell_type": "markdown",
   "id": "8f1d4e93-6039-4605-a1db-130395bff82f",
   "metadata": {
    "tags": []
   },
   "source": [
    "# ENCODE H3K4me3"
   ]
  },
  {
   "cell_type": "code",
   "execution_count": null,
   "id": "f7455399-ef33-4dfb-b508-88fda8c2099d",
   "metadata": {
    "tags": []
   },
   "outputs": [],
   "source": [
    "pairwise_co_signals_df = inference.get_sample_pairwise_tests(\n",
    "    sample_ids,\n",
    "    CO_df,\n",
    "    \"H3K4me3_signal_mean\",\n",
    "    n_perms = 1000,\n",
    ")"
   ]
  },
  {
   "cell_type": "code",
   "execution_count": null,
   "id": "470deb12-4e93-4954-be68-1e4a932c455f",
   "metadata": {
    "tags": []
   },
   "outputs": [],
   "source": [
    "pairwise_co_signals_df.sort(\"AD_perm_pvalue\").head()"
   ]
  },
  {
   "cell_type": "code",
   "execution_count": null,
   "id": "88f13bc9-375e-45c0-991c-a973969d752f",
   "metadata": {
    "tags": []
   },
   "outputs": [],
   "source": [
    "inference.plot_pairwise_results(pairwise_co_signals_df, sample_presentation_order[:-1], vmax=0.05)"
   ]
  },
  {
   "cell_type": "code",
   "execution_count": null,
   "id": "6a5a9b3b-d7dd-4371-80be-7eedbab8edde",
   "metadata": {},
   "outputs": [],
   "source": [
    "inference.get_sample_vs_rest_tests(\n",
    "    sample_ids,\n",
    "    CO_df,\n",
    "    \"H3K4me3_signal_mean\",\n",
    "    n_perms = 10000,\n",
    ")"
   ]
  },
  {
   "cell_type": "code",
   "execution_count": 42,
   "id": "053a2c37-5fc4-4573-9f75-363454c7d27f",
   "metadata": {
    "tags": []
   },
   "outputs": [],
   "source": [
    "def plot_h3k4_diffs(\n",
    "    label_list1,\n",
    "    label_list2,\n",
    "    label_legend1 = \"\",\n",
    "    label_legend2 = \"\",\n",
    "    ax = None,\n",
    "):\n",
    "\n",
    "    if ax is None:\n",
    "        fig, ax = plt.subplots(figsize=(6,4))\n",
    "\n",
    "    sample_ids1 = [k for k,v in sample_id_to_paper_label.items() if v in label_list1]\n",
    "    sample_ids2 = [k for k,v in sample_id_to_paper_label.items() if v in label_list2]\n",
    "    \n",
    "    if label_legend1 == \"\":\n",
    "        label_legend1 = ', '.join(sample_ids1)\n",
    "    if label_legend2 == \"\":\n",
    "        label_legend2 = ', '.join(sample_ids1)\n",
    "\n",
    "    x1 = pd.Series(np.log10(CO_df.filter(pl.col(\"sample_id\").is_in(sample_ids1))[\"H3K4me3_signal_mean\"]), name=label_legend1)\n",
    "    x2 = pd.Series(np.log10(CO_df.filter(pl.col(\"sample_id\").is_in(sample_ids2))[\"H3K4me3_signal_mean\"]), name=label_legend2)\n",
    "\n",
    "    sns.histplot(\n",
    "        data = [x1, x2],\n",
    "        bins = np.linspace(-1, 1.5, 25),\n",
    "        multiple=\"dodge\",\n",
    "        shrink=0.8,\n",
    "        stat=\"proportion\",\n",
    "        common_norm=False,\n",
    "        ax=ax,\n",
    "    )\n",
    "    \n",
    "    sns.despine(ax=ax)\n",
    "\n",
    "    ax.set_xlabel(\"H3K4me4 signal average across read\");\n",
    "    ax.set_xticks(\n",
    "        ticks = np.arange(-1, 2, 1),\n",
    "        labels = [f\"$10^{{{x}}}$\" for x in np.arange(-1, 2, 1)],\n",
    "    );"
   ]
  },
  {
   "cell_type": "code",
   "execution_count": 43,
   "id": "c6e061ba-4d3c-4c65-9f5e-bf764482d9e4",
   "metadata": {
    "tags": []
   },
   "outputs": [
    {
     "name": "stderr",
     "output_type": "stream",
     "text": [
      "/nfs/treeoflife-01/teams/tola/users/rs42/miniconda3/envs/sperm/lib/python3.11/site-packages/polars/series/series.py:1476: RuntimeWarning: divide by zero encountered in log10\n",
      "  series = f(lambda out: ufunc(*args, out=out, dtype=dtype_char, **kwargs))\n",
      "/nfs/treeoflife-01/teams/tola/users/rs42/miniconda3/envs/sperm/lib/python3.11/site-packages/polars/series/series.py:1476: RuntimeWarning: divide by zero encountered in log10\n",
      "  series = f(lambda out: ufunc(*args, out=out, dtype=dtype_char, **kwargs))\n"
     ]
    },
    {
     "data": {
      "image/png": "[encoded data removed]",
      "text/plain": [
       "<Figure size 1000x400 with 2 Axes>"
      ]
     },
     "metadata": {},
     "output_type": "display_data"
    }
   ],
   "source": [
    "fig, axs = plt.subplots(1, 2, figsize=(10, 4))\n",
    "\n",
    "plot_h3k4_diffs(\n",
    "    [\"AA2-t2\"],\n",
    "    [label for label in sample_id_to_paper_label.values() if \"AA\" in label and label not in [\"AA2-t2\"]],\n",
    "    label_legend1 = \"AA2-t2\",\n",
    "    label_legend2 = \"All samples except\\nAA2-t2\",\n",
    "    ax = axs[0]\n",
    ")\n",
    "\n",
    "plot_h3k4_diffs(\n",
    "    [\"AA8\"],\n",
    "    [label for label in sample_id_to_paper_label.values() if \"AA\" in label and label not in [\"AA8\", \"AA2-t2\"]],\n",
    "    label_legend1 = \"AA8\",\n",
    "    label_legend2 = \"All samples except\\nAA2-t2 and AA8\",\n",
    "    ax = axs[1]\n",
    ")"
   ]
  },
  {
   "cell_type": "code",
   "execution_count": null,
   "id": "1c6f9a37-fbf5-47ef-8ccf-265fd2520f48",
   "metadata": {},
   "outputs": [],
   "source": []
  },
  {
   "cell_type": "code",
   "execution_count": null,
   "id": "9eb1a606-93e7-40d8-be89-cb1888555e12",
   "metadata": {
    "tags": []
   },
   "outputs": [],
   "source": [
    "inference.get_sample_vs_rest_tests(\n",
    "    [k for k,v in sample_id_to_paper_label.items() if v not in [\"AA2-t2\"]],\n",
    "    CO_df,\n",
    "    \"H3K4me3_signal_mean\",\n",
    "    n_perms = 1000,\n",
    ")"
   ]
  },
  {
   "cell_type": "code",
   "execution_count": null,
   "id": "b6ea1d53-c48f-40c0-88be-948ec437ff07",
   "metadata": {
    "tags": []
   },
   "outputs": [],
   "source": [
    "plot_h3k4_diffs(\n",
    "    [\"AA8\"],\n",
    "    [label for label in sample_id_to_paper_label.values() if \"AA\" in label and label not in [\"AA2-t2\", \"AA8\"]],\n",
    "    label_legend1 = \"AA8\",\n",
    "    label_legend2 = \"All other samples except AA2-t2\",\n",
    ")"
   ]
  },
  {
   "cell_type": "code",
   "execution_count": null,
   "id": "982fb8a3-24e6-4e67-8090-6f96aef90296",
   "metadata": {},
   "outputs": [],
   "source": []
  },
  {
   "cell_type": "code",
   "execution_count": null,
   "id": "3e213cb5-e8f1-446b-ae65-f6b762ce8a52",
   "metadata": {},
   "outputs": [],
   "source": []
  },
  {
   "cell_type": "code",
   "execution_count": null,
   "id": "fa50e923-12fd-461b-b9bc-3b6d0da0ce38",
   "metadata": {},
   "outputs": [],
   "source": []
  },
  {
   "cell_type": "code",
   "execution_count": null,
   "id": "4dfe07c1-721f-4b32-a2d1-f2f60e9312bc",
   "metadata": {},
   "outputs": [],
   "source": []
  },
  {
   "cell_type": "code",
   "execution_count": null,
   "id": "1f328c29-0529-42f6-bccf-27c7a43e32f3",
   "metadata": {},
   "outputs": [],
   "source": []
  },
  {
   "cell_type": "code",
   "execution_count": null,
   "id": "9dfdbe65-258e-459b-98bd-e84b3b3c9221",
   "metadata": {
    "tags": []
   },
   "outputs": [],
   "source": [
    "ax = inference.plot_boxplots_samples(\n",
    "    CO_df,\n",
    "    \"H3K4me3_signal_mean\",\n",
    "    xlabel = \"H3K4me3_signal_mean\",\n",
    "    take_log10=True,\n",
    "    figsize=(4, 6),\n",
    "    #ticks = np.arange(-1, 1),\n",
    "    label_to_color={\n",
    "        \"AA6\": CO_color,\n",
    "        \"AA8\": CO_color,\n",
    "        \"AA2-t2\": CO_color,\n",
    "    }\n",
    ");\n"
   ]
  },
  {
   "cell_type": "code",
   "execution_count": null,
   "id": "63315f2f-1793-4d28-b902-8d9ef83f5ba4",
   "metadata": {
    "tags": []
   },
   "outputs": [],
   "source": [
    "fig, ax = plt.subplots(figsize=(10,5))\n",
    "\n",
    "focal_sample_id = \"95619\"\n",
    "other_focal_sample_id = \"7899\"\n",
    "\n",
    "sns.histplot(\n",
    "    [\n",
    "        # pd.Series(CO_df.filter(pl.col(\"sample_id\") != focal_sample_id)[\"H3K4me3_signal_mean\"].log10(), \n",
    "        #           name=\"All others\"),\n",
    "        pd.Series(CO_df.filter(pl.col(\"sample_id\") == focal_sample_id)[\"H3K4me3_signal_mean\"].log10(), \n",
    "                  name=sample_id_to_paper_label[focal_sample_id]),        \n",
    "        pd.Series(CO_df.filter(pl.col(\"sample_id\") == other_focal_sample_id)[\"H3K4me3_signal_mean\"].log10(), \n",
    "                  name=sample_id_to_paper_label[other_focal_sample_id]),\n",
    "    ], \n",
    "    bins=np.linspace(-1,1,50),\n",
    "    multiple=\"dodge\",\n",
    "    shrink=0.8,\n",
    "    stat=\"proportion\",\n",
    "    common_norm=False,\n",
    "    ax=ax,\n",
    ")\n",
    "\n",
    "#plt.yscale(\"log\");\n",
    "#plt.ylim(0,0.05);\n",
    "plt.xlabel(\"Mean signal in detectible interval\");\n"
   ]
  },
  {
   "cell_type": "code",
   "execution_count": null,
   "id": "aa83f4f5-6a9f-4c89-94b7-e637a1657fe6",
   "metadata": {},
   "outputs": [],
   "source": []
  },
  {
   "cell_type": "code",
   "execution_count": null,
   "id": "5d86f406-5895-4dfe-944c-3d0ce0705d2d",
   "metadata": {},
   "outputs": [],
   "source": []
  },
  {
   "cell_type": "code",
   "execution_count": null,
   "id": "314b5407-868d-4543-b2e1-8b3989139f25",
   "metadata": {},
   "outputs": [],
   "source": []
  },
  {
   "cell_type": "code",
   "execution_count": null,
   "id": "f05d0843-77c1-46d1-9fae-f0e2089a6247",
   "metadata": {
    "tags": []
   },
   "outputs": [],
   "source": [
    "inference.get_sample_vs_all_tests(\n",
    "    sample_ids,\n",
    "    CO_df,\n",
    "    dense_reads_with_detection_df,\n",
    "    \"H3K4me3_signal_mean\",\n",
    "    n_perms = 1000,\n",
    "    subsample_fraction = 0.001,\n",
    ")"
   ]
  },
  {
   "cell_type": "code",
   "execution_count": null,
   "id": "bffa61cf-234b-4100-b920-4d713b19b082",
   "metadata": {},
   "outputs": [],
   "source": []
  },
  {
   "cell_type": "code",
   "execution_count": null,
   "id": "319ce58e-98a5-4063-abc0-392d68fb9155",
   "metadata": {
    "tags": []
   },
   "outputs": [],
   "source": []
  },
  {
   "cell_type": "code",
   "execution_count": null,
   "id": "72bd7a57-50ac-49fc-b1e7-e2a01b5d7792",
   "metadata": {},
   "outputs": [],
   "source": []
  },
  {
   "cell_type": "code",
   "execution_count": null,
   "id": "f7d2335f-ebb7-4480-a21c-e762b815c701",
   "metadata": {
    "tags": []
   },
   "outputs": [],
   "source": [
    "fig, ax = plt.subplots(figsize=(10,5))\n",
    "\n",
    "focal_sample_id = \"PD50521e\"\n",
    "\n",
    "sns.histplot(\n",
    "    [\n",
    "        pd.Series(dense_reads_with_detection_df[\"H3K4me3_signal_mean\"][::100], name=\"All reads\"),\n",
    "        pd.Series(CO_df.filter(pl.col(\"sample_id\") == focal_sample_id)[\"H3K4me3_signal_mean\"], \n",
    "                  name=sample_id_to_paper_label[focal_sample_id]),\n",
    "    ], \n",
    "    bins=np.linspace(0,1,50),\n",
    "    multiple=\"dodge\",\n",
    "    shrink=0.8,\n",
    "    stat=\"proportion\",\n",
    "    common_norm=False,\n",
    "    ax=ax,\n",
    ")\n",
    "\n",
    "#plt.yscale(\"log\");\n",
    "#plt.ylim(0,0.05);\n",
    "plt.xlabel(\"Mean signal in detectible interval\");\n"
   ]
  },
  {
   "cell_type": "code",
   "execution_count": null,
   "id": "11240913-de69-4e0d-a622-6dd0a0c46ef6",
   "metadata": {
    "tags": []
   },
   "outputs": [],
   "source": [
    "fig, ax = plt.subplots(figsize=(10,5))\n",
    "\n",
    "focal_sample_id = \"PD50519d\"\n",
    "\n",
    "sns.histplot(\n",
    "    [\n",
    "        pd.Series(CO_df.filter(pl.col(\"sample_id\") != focal_sample_id)[\"H3K4me3_signal_mean\"], \n",
    "                  name=\"All others\"),\n",
    "        pd.Series(CO_df.filter(pl.col(\"sample_id\") == focal_sample_id)[\"H3K4me3_signal_mean\"], \n",
    "                  name=sample_id_to_paper_label[focal_sample_id]),\n",
    "    ], \n",
    "    bins=np.linspace(0,1,50),\n",
    "    multiple=\"dodge\",\n",
    "    shrink=0.8,\n",
    "    stat=\"proportion\",\n",
    "    common_norm=False,\n",
    "    ax=ax,\n",
    ")\n",
    "\n",
    "#plt.yscale(\"log\");\n",
    "#plt.ylim(0,0.05);\n",
    "plt.xlabel(\"Mean signal in detectible interval\");\n"
   ]
  },
  {
   "cell_type": "code",
   "execution_count": null,
   "id": "c35e47b2-981f-4a44-bd0f-79e7d0fbf7de",
   "metadata": {},
   "outputs": [],
   "source": []
  },
  {
   "cell_type": "code",
   "execution_count": null,
   "id": "2c43fcab-d839-4fa8-acb1-6118748a5c3a",
   "metadata": {},
   "outputs": [],
   "source": []
  },
  {
   "cell_type": "markdown",
   "id": "3e70fa67-56c1-4524-bcc9-580d066b6017",
   "metadata": {},
   "source": [
    "# ENCODE CTCF"
   ]
  },
  {
   "cell_type": "code",
   "execution_count": null,
   "id": "53beec0b-c8e1-475d-b135-b7dac87630e7",
   "metadata": {
    "tags": []
   },
   "outputs": [],
   "source": [
    "pairwise_co_signals_df = inference.get_sample_pairwise_tests(\n",
    "    sample_ids,\n",
    "    CO_df,\n",
    "    \"CTCF_signal_mean\",\n",
    "    n_perms = 1000,\n",
    ")"
   ]
  },
  {
   "cell_type": "code",
   "execution_count": null,
   "id": "85773c61-bb2b-4822-bb36-6577cd81a27f",
   "metadata": {
    "tags": []
   },
   "outputs": [],
   "source": [
    "pairwise_co_signals_df.sort(\"AD_perm_pvalue\")"
   ]
  },
  {
   "cell_type": "code",
   "execution_count": null,
   "id": "67ed0801-49b8-4d4d-9b7e-471a58279d41",
   "metadata": {
    "tags": []
   },
   "outputs": [],
   "source": [
    "inference.plot_pairwise_results(pairwise_co_signals_df, sample_presentation_order[:-1], vmax=0.05)"
   ]
  },
  {
   "cell_type": "code",
   "execution_count": null,
   "id": "9b5667c6-2009-4560-bcf4-b88fb5125adf",
   "metadata": {
    "tags": []
   },
   "outputs": [],
   "source": [
    "inference.get_sample_vs_rest_tests(\n",
    "    sample_ids,\n",
    "    CO_df,\n",
    "    \"CTCF_signal_mean\",\n",
    "    n_perms = 1000,\n",
    ") "
   ]
  },
  {
   "cell_type": "code",
   "execution_count": null,
   "id": "b4ccd177-0c0b-44cd-b776-53d06b791b8b",
   "metadata": {
    "tags": []
   },
   "outputs": [],
   "source": [
    "inference.get_sample_vs_all_tests(\n",
    "    sample_ids,\n",
    "    CO_df,\n",
    "    dense_reads_with_detection_df[::100],\n",
    "    \"CTCF_signal_mean\",\n",
    "    n_perms = 1000,\n",
    ") "
   ]
  },
  {
   "cell_type": "code",
   "execution_count": null,
   "id": "c227effd-7e36-4db7-b2da-f6fd12db3ca0",
   "metadata": {
    "tags": []
   },
   "outputs": [],
   "source": [
    "fig, ax = plt.subplots(figsize=(10,5))\n",
    "\n",
    "focal_sample_id = \"PD46180c\"\n",
    "\n",
    "sns.histplot(\n",
    "    [\n",
    "        pd.Series(dense_reads_with_detection_df[\"CTCF_signal_mean\"][::100], name=\"All reads\"),\n",
    "        pd.Series(CO_df.filter(pl.col(\"sample_id\") == focal_sample_id)[\"CTCF_signal_mean\"], \n",
    "                  name=sample_id_to_paper_label[focal_sample_id]),\n",
    "    ], \n",
    "    bins=np.linspace(0,2,50),\n",
    "    multiple=\"dodge\",\n",
    "    shrink=0.8,\n",
    "    stat=\"proportion\",\n",
    "    common_norm=False,\n",
    "    ax=ax,\n",
    ")\n",
    "\n",
    "#plt.yscale(\"log\");\n",
    "#plt.ylim(0,0.05);\n",
    "plt.xlabel(\"Mean signal in detectible interval\");\n"
   ]
  },
  {
   "cell_type": "code",
   "execution_count": null,
   "id": "3ff89691-1792-4e8b-adcc-39613f2dfde1",
   "metadata": {
    "tags": []
   },
   "outputs": [],
   "source": [
    "def dropnan(x):\n",
    "    return x[~np.isnan(x)]"
   ]
  },
  {
   "cell_type": "code",
   "execution_count": null,
   "id": "991f4d78-b715-4d99-870c-7b169f7cd900",
   "metadata": {
    "tags": []
   },
   "outputs": [],
   "source": [
    "focal_sample_id = \"PD50519d\"\n",
    "\n",
    "scipy.stats.ttest_ind(\n",
    "    dropnan(CO_df.filter(pl.col(\"sample_id\") != focal_sample_id)[\"H3K4me3_signal_mean\"].to_numpy()),\n",
    "    dropnan(CO_df.filter(pl.col(\"sample_id\") == focal_sample_id)[\"H3K4me3_signal_mean\"].to_numpy()),\n",
    ")"
   ]
  },
  {
   "cell_type": "code",
   "execution_count": null,
   "id": "0f107b39-f924-4310-ac1d-f6b76ba071b8",
   "metadata": {},
   "outputs": [],
   "source": []
  },
  {
   "cell_type": "code",
   "execution_count": null,
   "id": "baf69ae1-4af4-431b-a053-df2ae80f8a18",
   "metadata": {
    "tags": []
   },
   "outputs": [],
   "source": [
    "inference.plot_histograms_samples(\n",
    "    CO_df,\n",
    "    \"CTCF_signal_mean\",\n",
    "    dense_reads_with_detection_df,\n",
    "    bins = np.linspace(-0.8, 0.4, 25),\n",
    "    ylim_max = 0.3,\n",
    "    xlabel = \"\",\n",
    "    take_log10=True,\n",
    ");"
   ]
  },
  {
   "cell_type": "code",
   "execution_count": null,
   "id": "1e9ec4cd-b692-442d-9b37-d6506bda4ed7",
   "metadata": {},
   "outputs": [],
   "source": []
  },
  {
   "cell_type": "code",
   "execution_count": null,
   "id": "e4ac5b62-e6a7-437b-a9d9-dffef2087c14",
   "metadata": {},
   "outputs": [],
   "source": []
  }
 ],
 "metadata": {
  "kernelspec": {
   "display_name": "sperm",
   "language": "python",
   "name": "sperm"
  },
  "language_info": {
   "codemirror_mode": {
    "name": "ipython",
    "version": 3
   },
   "file_extension": ".py",
   "mimetype": "text/x-python",
   "name": "python",
   "nbconvert_exporter": "python",
   "pygments_lexer": "ipython3",
   "version": "3.11.10"
  }
 },
 "nbformat": 4,
 "nbformat_minor": 5
}
