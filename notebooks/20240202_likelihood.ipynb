{
 "cells": [
  {
   "cell_type": "code",
   "execution_count": 1,
   "id": "11eaea53-874e-4501-a236-1e0d665364eb",
   "metadata": {},
   "outputs": [],
   "source": [
    "%load_ext autoreload\n",
    "%autoreload 2"
   ]
  },
  {
   "cell_type": "code",
   "execution_count": 2,
   "id": "c7967fac-9a3a-4e2d-84e7-1ecf23a8c866",
   "metadata": {},
   "outputs": [],
   "source": [
    "import numpy as np\n",
    "import pandas as pd\n",
    "import matplotlib as mpl\n",
    "import matplotlib.pyplot as plt\n",
    "import numba\n",
    "import numba.typed\n",
    "\n",
    "from pathlib import Path\n",
    "from tqdm import trange, tqdm\n",
    "import sys\n",
    "import seaborn as sns\n",
    "import scipy.stats\n",
    "import os\n",
    "import pysam\n",
    "import pprint\n",
    "import pickle\n",
    "import joblib\n",
    "import polars as pl\n",
    "\n",
    "# This is needed before pybedtools to make sure bedtools is imported on sanger JupyterHub \n",
    "os.environ[\"PATH\"] += \":\" + os.path.join(sys.prefix, \"bin\")\n",
    "import pybedtools\n",
    "\n",
    "pd.set_option('display.max_rows', 1000)\n"
   ]
  },
  {
   "cell_type": "code",
   "execution_count": 3,
   "id": "bf6e7df6-997e-4fc0-80ca-70d96084c388",
   "metadata": {},
   "outputs": [],
   "source": [
    "sys.path.append(str(Path(os.getcwd()).parent))\n",
    "from src import liftover, annotate, diagnostics, inference"
   ]
  },
  {
   "cell_type": "code",
   "execution_count": 4,
   "id": "021f772b-dfe7-4608-b7cd-121a239376b4",
   "metadata": {},
   "outputs": [],
   "source": [
    "aut_chrom_names = [f\"chr{i}\" for i in list(range(1, 23))]\n",
    "chrom_names = aut_chrom_names + [\"chrX\", \"chrY\"]"
   ]
  },
  {
   "cell_type": "markdown",
   "id": "2bcbcaa4-66ef-49ac-9452-d69ec776b147",
   "metadata": {},
   "source": [
    "# Read the classified events"
   ]
  },
  {
   "cell_type": "code",
   "execution_count": 5,
   "id": "57c6771f-3453-4b23-afc5-30865fd32d3e",
   "metadata": {},
   "outputs": [],
   "source": [
    "# Samples to do\n",
    "sample_ids = [\n",
    "    \"PD50477f\",\n",
    "    # \"PD50508bf\", -- ignore; merged two sampling dates just for phasing, but should be analyzed separately\n",
    "    \"PD50519d\",\n",
    "    # \"PD47269d\", -- don't use, not there\n",
    "    \"PD50508f\",\n",
    "    # \"PD50511e\", -- don't use, likely mixture\n",
    "    \"PD50523b\",\n",
    "    # \"PD48473b\", -- don't use, not there\n",
    "    \"PD50521b\",\n",
    "    \"PD50508b\",\n",
    "    # \"PD50521be\", -- ignore; merged two sampling dates just for phasing, but should be analyzed separately\n",
    "    \"PD46180c\",\n",
    "    # \"PD50502f\", -- don't use, likely mixture\n",
    "    \"PD50521e\",\n",
    "    # \"PD50511e_SS\",  --- don't use\n",
    "    \"PD50489e\",\n",
    "]\n",
    "\n",
    "cls_df = pl.concat([\n",
    "    pl.read_parquet(\n",
    "        str(Path(\"/lustre/scratch126/casm/team154pc/sl17/03.sperm/02.results/01.read_alignment/01.ccs/04.hifiasm/02.hifiasm_0.19.5-r592/02.chromosome_length_scaffolds\")\n",
    "            / f\"{focal_sample_id}\" / \"reads\" / f\"{chrom}_RagTag.certainty_0.95.classified_reads.parquet\")\n",
    "    ) \\\n",
    "    for focal_sample_id in sample_ids\n",
    "    for chrom in aut_chrom_names\n",
    "])"
   ]
  },
  {
   "cell_type": "code",
   "execution_count": 6,
   "id": "653a9a0d-3007-417a-86e7-e5cfdae79304",
   "metadata": {},
   "outputs": [],
   "source": [
    "trusty_cls_df = (cls_df\n",
    "    .filter(~pl.col(\"has_common_transition\"))\n",
    "    .filter(pl.col(\"min_coverage_between_transitions_hap1\") >= 3)\n",
    "    .filter(pl.col(\"min_coverage_between_transitions_hap2\") >= 3)\n",
    ")"
   ]
  },
  {
   "cell_type": "code",
   "execution_count": 7,
   "id": "44ccaac5-1df8-40f7-b68d-8f7df941c1fc",
   "metadata": {},
   "outputs": [
    {
     "data": {
      "text/plain": [
       "Text(0.5, 0, '# of switches')"
      ]
     },
     "execution_count": 7,
     "metadata": {},
     "output_type": "execute_result"
    },
    {
     "data": {
      "image/png": "[encoded data removed]",
      "text/plain": [
       "<Figure size 640x480 with 1 Axes>"
      ]
     },
     "metadata": {},
     "output_type": "display_data"
    }
   ],
   "source": [
    "plt.hist(trusty_cls_df.filter(pl.col(\"class\") == \"CNCO\").select(\"n_transitions\"), bins=np.arange(13));\n",
    "plt.xlabel(\"# of switches\")"
   ]
  },
  {
   "cell_type": "code",
   "execution_count": 12,
   "id": "b9b9e3c4-e111-485d-835b-aeef000ea807",
   "metadata": {},
   "outputs": [
    {
     "data": {
      "text/plain": [
       "3055"
      ]
     },
     "execution_count": 12,
     "metadata": {},
     "output_type": "execute_result"
    }
   ],
   "source": [
    "len(trusty_cls_df[\"class\"])"
   ]
  },
  {
   "cell_type": "code",
   "execution_count": 8,
   "id": "9019c93b-8ae3-4302-8e11-c6a3d0f70b23",
   "metadata": {},
   "outputs": [
    {
     "data": {
      "text/html": [
       "<div><style>\n",
       ".dataframe > thead > tr,\n",
       ".dataframe > tbody > tr {\n",
       "  text-align: right;\n",
       "  white-space: pre-wrap;\n",
       "}\n",
       "</style>\n",
       "<small>shape: (4, 2)</small><table border=\"1\" class=\"dataframe\"><thead><tr><th>class</th><th>count</th></tr><tr><td>str</td><td>u32</td></tr></thead><tbody><tr><td>&quot;CNCO&quot;</td><td>74</td></tr><tr><td>&quot;GC&quot;</td><td>491</td></tr><tr><td>&quot;ambiguous&quot;</td><td>1211</td></tr><tr><td>&quot;CO&quot;</td><td>1279</td></tr></tbody></table></div>"
      ],
      "text/plain": [
       "shape: (4, 2)\n",
       "┌───────────┬───────┐\n",
       "│ class     ┆ count │\n",
       "│ ---       ┆ ---   │\n",
       "│ str       ┆ u32   │\n",
       "╞═══════════╪═══════╡\n",
       "│ CNCO      ┆ 74    │\n",
       "│ GC        ┆ 491   │\n",
       "│ ambiguous ┆ 1211  │\n",
       "│ CO        ┆ 1279  │\n",
       "└───────────┴───────┘"
      ]
     },
     "execution_count": 8,
     "metadata": {},
     "output_type": "execute_result"
    }
   ],
   "source": [
    "trusty_cls_df[\"class\"].value_counts().sort(by=\"count\")"
   ]
  },
  {
   "cell_type": "code",
   "execution_count": null,
   "id": "5f844c2c-55b7-48ee-adf4-b2986561c667",
   "metadata": {},
   "outputs": [],
   "source": []
  },
  {
   "cell_type": "code",
   "execution_count": 9,
   "id": "c8727ef6-5c70-4533-a91a-74382e56a1d5",
   "metadata": {},
   "outputs": [
    {
     "data": {
      "image/png": "[encoded data removed]",
      "text/plain": [
       "<Figure size 640x480 with 1 Axes>"
      ]
     },
     "metadata": {},
     "output_type": "display_data"
    }
   ],
   "source": [
    "plt.hist(trusty_cls_df.filter(pl.col(\"class\") == \"ambiguous\").select(pl.col(\"snp_positions_on_read\").list.len()), bins=np.arange(10));"
   ]
  },
  {
   "cell_type": "code",
   "execution_count": 10,
   "id": "975a78fa-4694-4adf-b755-20e55a8b31a7",
   "metadata": {},
   "outputs": [
    {
     "data": {
      "text/html": [
       "<div><style>\n",
       ".dataframe > thead > tr,\n",
       ".dataframe > tbody > tr {\n",
       "  text-align: right;\n",
       "  white-space: pre-wrap;\n",
       "}\n",
       "</style>\n",
       "<small>shape: (5, 2)</small><table border=\"1\" class=\"dataframe\"><thead><tr><th>diff</th><th>count</th></tr><tr><td>i64</td><td>u32</td></tr></thead><tbody><tr><td>1</td><td>447</td></tr><tr><td>3</td><td>8</td></tr><tr><td>2</td><td>31</td></tr><tr><td>4</td><td>3</td></tr><tr><td>5</td><td>2</td></tr></tbody></table></div>"
      ],
      "text/plain": [
       "shape: (5, 2)\n",
       "┌──────┬───────┐\n",
       "│ diff ┆ count │\n",
       "│ ---  ┆ ---   │\n",
       "│ i64  ┆ u32   │\n",
       "╞══════╪═══════╡\n",
       "│ 1    ┆ 447   │\n",
       "│ 3    ┆ 8     │\n",
       "│ 2    ┆ 31    │\n",
       "│ 4    ┆ 3     │\n",
       "│ 5    ┆ 2     │\n",
       "└──────┴───────┘"
      ]
     },
     "execution_count": 10,
     "metadata": {},
     "output_type": "execute_result"
    }
   ],
   "source": [
    "(trusty_cls_df.filter(pl.col(\"class\") == \"GC\")).select((pl.col(\"idx_transitions\").list.get(1) - pl.col(\"idx_transitions\").list.get(0)).alias(\"diff\"))[\"diff\"].value_counts()"
   ]
  },
  {
   "cell_type": "code",
   "execution_count": 11,
   "id": "1de5da16-16fa-4d57-ac41-4e55f3d0d9fd",
   "metadata": {},
   "outputs": [
    {
     "data": {
      "text/html": [
       "<div><style>\n",
       ".dataframe > thead > tr,\n",
       ".dataframe > tbody > tr {\n",
       "  text-align: right;\n",
       "  white-space: pre-wrap;\n",
       "}\n",
       "</style>\n",
       "<small>shape: (31, 7)</small><table border=\"1\" class=\"dataframe\"><thead><tr><th>read_length</th><th>idx_transitions</th><th>before_first</th><th>first</th><th>second</th><th>after_second</th><th>diff</th></tr><tr><td>i64</td><td>list[i64]</td><td>i64</td><td>i64</td><td>i64</td><td>i64</td><td>i64</td></tr></thead><tbody><tr><td>15384</td><td>[0, 2]</td><td>2587</td><td>6107</td><td>12079</td><td>13712</td><td>5972</td></tr><tr><td>10150</td><td>[1, 3]</td><td>2830</td><td>3426</td><td>6920</td><td>7309</td><td>3494</td></tr><tr><td>14549</td><td>[0, 2]</td><td>1663</td><td>2576</td><td>4781</td><td>6918</td><td>2205</td></tr><tr><td>23954</td><td>[0, 2]</td><td>12600</td><td>17072</td><td>19217</td><td>19247</td><td>2145</td></tr><tr><td>8843</td><td>[4, 6]</td><td>5334</td><td>5496</td><td>6644</td><td>7160</td><td>1148</td></tr><tr><td>12426</td><td>[0, 2]</td><td>1720</td><td>1796</td><td>2855</td><td>4296</td><td>1059</td></tr><tr><td>13845</td><td>[8, 10]</td><td>3897</td><td>4198</td><td>5098</td><td>5112</td><td>900</td></tr><tr><td>19995</td><td>[0, 2]</td><td>10148</td><td>10476</td><td>11176</td><td>12999</td><td>700</td></tr><tr><td>10927</td><td>[3, 5]</td><td>4155</td><td>4569</td><td>5113</td><td>9073</td><td>544</td></tr><tr><td>20836</td><td>[14, 16]</td><td>11081</td><td>11667</td><td>12184</td><td>12713</td><td>517</td></tr><tr><td>14395</td><td>[4, 6]</td><td>4256</td><td>5074</td><td>5499</td><td>6430</td><td>425</td></tr><tr><td>15276</td><td>[6, 8]</td><td>7431</td><td>8587</td><td>8946</td><td>9767</td><td>359</td></tr><tr><td>17109</td><td>[8, 10]</td><td>8022</td><td>11007</td><td>11351</td><td>12232</td><td>344</td></tr><tr><td>21857</td><td>[3, 5]</td><td>10790</td><td>16325</td><td>16580</td><td>18652</td><td>255</td></tr><tr><td>9989</td><td>[1, 3]</td><td>3070</td><td>4617</td><td>4796</td><td>5274</td><td>179</td></tr><tr><td>24388</td><td>[2, 4]</td><td>5679</td><td>6094</td><td>6271</td><td>8241</td><td>177</td></tr><tr><td>12768</td><td>[3, 5]</td><td>4309</td><td>4851</td><td>4932</td><td>6176</td><td>81</td></tr><tr><td>17079</td><td>[22, 24]</td><td>12793</td><td>13288</td><td>13347</td><td>13378</td><td>59</td></tr><tr><td>15344</td><td>[6, 8]</td><td>8753</td><td>8986</td><td>9045</td><td>9601</td><td>59</td></tr><tr><td>12185</td><td>[1, 3]</td><td>2507</td><td>3673</td><td>3724</td><td>4599</td><td>51</td></tr><tr><td>8634</td><td>[13, 15]</td><td>6365</td><td>6959</td><td>7005</td><td>7132</td><td>46</td></tr><tr><td>21238</td><td>[6, 8]</td><td>5224</td><td>5753</td><td>5798</td><td>5875</td><td>45</td></tr><tr><td>17018</td><td>[1, 3]</td><td>2579</td><td>7742</td><td>7786</td><td>7996</td><td>44</td></tr><tr><td>16105</td><td>[6, 8]</td><td>8879</td><td>14044</td><td>14088</td><td>14298</td><td>44</td></tr><tr><td>20772</td><td>[9, 11]</td><td>12508</td><td>13063</td><td>13103</td><td>13991</td><td>40</td></tr><tr><td>19907</td><td>[1, 3]</td><td>6288</td><td>11611</td><td>11649</td><td>11837</td><td>38</td></tr><tr><td>11865</td><td>[1, 3]</td><td>3051</td><td>5622</td><td>5651</td><td>5883</td><td>29</td></tr><tr><td>13402</td><td>[4, 6]</td><td>3398</td><td>3498</td><td>3522</td><td>3674</td><td>24</td></tr><tr><td>20782</td><td>[2, 4]</td><td>5850</td><td>8609</td><td>8628</td><td>9419</td><td>19</td></tr><tr><td>16803</td><td>[9, 11]</td><td>9488</td><td>9604</td><td>9620</td><td>10034</td><td>16</td></tr><tr><td>15890</td><td>[2, 4]</td><td>4125</td><td>5570</td><td>5586</td><td>14385</td><td>16</td></tr></tbody></table></div>"
      ],
      "text/plain": [
       "shape: (31, 7)\n",
       "┌─────────────┬─────────────────┬──────────────┬───────┬────────┬──────────────┬──────┐\n",
       "│ read_length ┆ idx_transitions ┆ before_first ┆ first ┆ second ┆ after_second ┆ diff │\n",
       "│ ---         ┆ ---             ┆ ---          ┆ ---   ┆ ---    ┆ ---          ┆ ---  │\n",
       "│ i64         ┆ list[i64]       ┆ i64          ┆ i64   ┆ i64    ┆ i64          ┆ i64  │\n",
       "╞═════════════╪═════════════════╪══════════════╪═══════╪════════╪══════════════╪══════╡\n",
       "│ 15384       ┆ [0, 2]          ┆ 2587         ┆ 6107  ┆ 12079  ┆ 13712        ┆ 5972 │\n",
       "│ 10150       ┆ [1, 3]          ┆ 2830         ┆ 3426  ┆ 6920   ┆ 7309         ┆ 3494 │\n",
       "│ 14549       ┆ [0, 2]          ┆ 1663         ┆ 2576  ┆ 4781   ┆ 6918         ┆ 2205 │\n",
       "│ 23954       ┆ [0, 2]          ┆ 12600        ┆ 17072 ┆ 19217  ┆ 19247        ┆ 2145 │\n",
       "│ 8843        ┆ [4, 6]          ┆ 5334         ┆ 5496  ┆ 6644   ┆ 7160         ┆ 1148 │\n",
       "│ 12426       ┆ [0, 2]          ┆ 1720         ┆ 1796  ┆ 2855   ┆ 4296         ┆ 1059 │\n",
       "│ 13845       ┆ [8, 10]         ┆ 3897         ┆ 4198  ┆ 5098   ┆ 5112         ┆ 900  │\n",
       "│ 19995       ┆ [0, 2]          ┆ 10148        ┆ 10476 ┆ 11176  ┆ 12999        ┆ 700  │\n",
       "│ 10927       ┆ [3, 5]          ┆ 4155         ┆ 4569  ┆ 5113   ┆ 9073         ┆ 544  │\n",
       "│ 20836       ┆ [14, 16]        ┆ 11081        ┆ 11667 ┆ 12184  ┆ 12713        ┆ 517  │\n",
       "│ 14395       ┆ [4, 6]          ┆ 4256         ┆ 5074  ┆ 5499   ┆ 6430         ┆ 425  │\n",
       "│ 15276       ┆ [6, 8]          ┆ 7431         ┆ 8587  ┆ 8946   ┆ 9767         ┆ 359  │\n",
       "│ 17109       ┆ [8, 10]         ┆ 8022         ┆ 11007 ┆ 11351  ┆ 12232        ┆ 344  │\n",
       "│ 21857       ┆ [3, 5]          ┆ 10790        ┆ 16325 ┆ 16580  ┆ 18652        ┆ 255  │\n",
       "│ 9989        ┆ [1, 3]          ┆ 3070         ┆ 4617  ┆ 4796   ┆ 5274         ┆ 179  │\n",
       "│ 24388       ┆ [2, 4]          ┆ 5679         ┆ 6094  ┆ 6271   ┆ 8241         ┆ 177  │\n",
       "│ 12768       ┆ [3, 5]          ┆ 4309         ┆ 4851  ┆ 4932   ┆ 6176         ┆ 81   │\n",
       "│ 17079       ┆ [22, 24]        ┆ 12793        ┆ 13288 ┆ 13347  ┆ 13378        ┆ 59   │\n",
       "│ 15344       ┆ [6, 8]          ┆ 8753         ┆ 8986  ┆ 9045   ┆ 9601         ┆ 59   │\n",
       "│ 12185       ┆ [1, 3]          ┆ 2507         ┆ 3673  ┆ 3724   ┆ 4599         ┆ 51   │\n",
       "│ 8634        ┆ [13, 15]        ┆ 6365         ┆ 6959  ┆ 7005   ┆ 7132         ┆ 46   │\n",
       "│ 21238       ┆ [6, 8]          ┆ 5224         ┆ 5753  ┆ 5798   ┆ 5875         ┆ 45   │\n",
       "│ 17018       ┆ [1, 3]          ┆ 2579         ┆ 7742  ┆ 7786   ┆ 7996         ┆ 44   │\n",
       "│ 16105       ┆ [6, 8]          ┆ 8879         ┆ 14044 ┆ 14088  ┆ 14298        ┆ 44   │\n",
       "│ 20772       ┆ [9, 11]         ┆ 12508        ┆ 13063 ┆ 13103  ┆ 13991        ┆ 40   │\n",
       "│ 19907       ┆ [1, 3]          ┆ 6288         ┆ 11611 ┆ 11649  ┆ 11837        ┆ 38   │\n",
       "│ 11865       ┆ [1, 3]          ┆ 3051         ┆ 5622  ┆ 5651   ┆ 5883         ┆ 29   │\n",
       "│ 13402       ┆ [4, 6]          ┆ 3398         ┆ 3498  ┆ 3522   ┆ 3674         ┆ 24   │\n",
       "│ 20782       ┆ [2, 4]          ┆ 5850         ┆ 8609  ┆ 8628   ┆ 9419         ┆ 19   │\n",
       "│ 16803       ┆ [9, 11]         ┆ 9488         ┆ 9604  ┆ 9620   ┆ 10034        ┆ 16   │\n",
       "│ 15890       ┆ [2, 4]          ┆ 4125         ┆ 5570  ┆ 5586   ┆ 14385        ┆ 16   │\n",
       "└─────────────┴─────────────────┴──────────────┴───────┴────────┴──────────────┴──────┘"
      ]
     },
     "metadata": {},
     "output_type": "display_data"
    }
   ],
   "source": [
    "with pl.Config(fmt_str_lengths=50, set_tbl_rows=-1):\n",
    "    display(\n",
    "        (trusty_cls_df.filter(pl.col(\"class\") == \"GC\")).filter((pl.col(\"idx_transitions\").list.get(1) - pl.col(\"idx_transitions\").list.get(0)) == 2)\n",
    "        .select([\n",
    "            \"read_length\",\n",
    "            \"idx_transitions\", \n",
    "            pl.col(\"snp_positions_on_read\").list.get(pl.col(\"idx_transitions\").list.get(0)).alias(\"before_first\"),\n",
    "            pl.col(\"snp_positions_on_read\").list.get(pl.col(\"idx_transitions\").list.get(0)+1).alias(\"first\"),\n",
    "            pl.col(\"snp_positions_on_read\").list.get(pl.col(\"idx_transitions\").list.get(1)).alias(\"second\"),\n",
    "            pl.col(\"snp_positions_on_read\").list.get(pl.col(\"idx_transitions\").list.get(1)+1).alias(\"after_second\"),\n",
    "        ])\n",
    "        .with_columns((pl.col(\"second\") - pl.col(\"first\")).alias(\"diff\"))\n",
    "        .sort(\"diff\", descending=True)\n",
    "    )\n"
   ]
  },
  {
   "cell_type": "markdown",
   "id": "880a2b2c-a956-4a34-a602-22b7690c6370",
   "metadata": {},
   "source": [
    "# Empirical GC tracts?"
   ]
  },
  {
   "cell_type": "code",
   "execution_count": 12,
   "id": "33281ada-714f-4591-b23c-8d2ba5b8ae19",
   "metadata": {},
   "outputs": [],
   "source": [
    "def plot_tract_lengths(df):\n",
    "\n",
    "    fig, axs = plt.subplots(1, 3, figsize=(12, 4))\n",
    "    \n",
    "    axs[0].hist(df.select(pl.col(\"idx_transitions\").list.len()), log=True);\n",
    "    axs[0].set_title(\"# of transitions\");    \n",
    "\n",
    "    xdf = (df\n",
    "#        .filter(pl.col(\"sample_id\") == focal_sample_id)\n",
    "#        .filter(pl.col(\"class\") == \"GC\")\n",
    "        .filter(pl.col(\"idx_transitions\").list.len() == 2)\n",
    "        .select(\n",
    "            pl.col(\"snp_positions_on_read\"),\n",
    "            pl.col(\"idx_transitions\"),\n",
    "            pl.col(\"snp_positions_on_read\").list.get(pl.col(\"idx_transitions\").list.get(0)).alias(\"first_transition_snp\"),\n",
    "            pl.col(\"snp_positions_on_read\").list.get(pl.col(\"idx_transitions\").list.get(1)+1).alias(\"last_transition_snp\"),\n",
    "        )\n",
    "        .with_columns((pl.col(\"last_transition_snp\") - pl.col(\"first_transition_snp\")).alias(\"tract_upper_bound\"))\n",
    "    )\n",
    "\n",
    "    axs[1].hist(xdf[\"tract_upper_bound\"], bins=50);\n",
    "    axs[1].axvline(xdf[\"tract_upper_bound\"].mean(), c=\"black\")\n",
    "    axs[1].set_title(\"Tract upper bound\");\n",
    "\n",
    "    xdf = (df\n",
    "#        .filter(pl.col(\"sample_id\") == focal_sample_id)\n",
    "#        .filter(pl.col(\"class\") == \"GC\")\n",
    "        .filter(pl.col(\"idx_transitions\").list.len() == 2)          \n",
    "        .select(\n",
    "            pl.col(\"snp_positions_on_read\"),\n",
    "            pl.col(\"idx_transitions\"),\n",
    "            pl.col(\"snp_positions_on_read\").list.get(pl.col(\"idx_transitions\").list.get(0)+1).alias(\"first_transition_snp\"),\n",
    "            pl.col(\"snp_positions_on_read\").list.get(pl.col(\"idx_transitions\").list.get(1)).alias(\"last_transition_snp\"),\n",
    "        )\n",
    "        .with_columns((pl.col(\"last_transition_snp\") - pl.col(\"first_transition_snp\")).alias(\"tract_lower_bound\"))\n",
    "    )\n",
    "\n",
    "    n_zeros = np.sum(xdf[\"tract_lower_bound\"].to_numpy()==0)\n",
    "    mn = xdf[\"tract_lower_bound\"].mean()\n",
    "    # cnt = xdf[\"tract_lower_bound\"].value_counts().sort(\"tract_lower_bound\")\n",
    "    # axs[1].barh(np.arange(len(cnt)), cnt[\"count\"], height=0.8);\n",
    "    # axs[1].set_yticks(np.arange(len(cnt)), cnt[\"tract_lower_bound\"], fontsize=6);\n",
    "    \n",
    "    axs[2].hist(xdf[\"tract_lower_bound\"], bins=50, log=True);\n",
    "    axs[2].axvline(xdf[\"tract_lower_bound\"].mean(), c=\"black\")\n",
    "    axs[2].set_title(f\"Tract lower bound, mean = {mn:1.3f}\");\n",
    "    #axs[1].set_xscale(\"log\");\n"
   ]
  },
  {
   "cell_type": "code",
   "execution_count": 13,
   "id": "4739fd3d-76cd-4c95-9e67-a24e193ba3f1",
   "metadata": {},
   "outputs": [
    {
     "data": {
      "image/png": "[encoded data removed]",
      "text/plain": [
       "<Figure size 1200x400 with 3 Axes>"
      ]
     },
     "metadata": {},
     "output_type": "display_data"
    }
   ],
   "source": [
    "plot_tract_lengths(trusty_cls_df)\n"
   ]
  },
  {
   "cell_type": "code",
   "execution_count": null,
   "id": "e2dbff8b-3fb4-4e18-9b96-5dead66d48f8",
   "metadata": {},
   "outputs": [],
   "source": []
  },
  {
   "cell_type": "code",
   "execution_count": 115,
   "id": "2e03f6ad-b11d-48b1-bb51-3c2a340eba13",
   "metadata": {},
   "outputs": [
    {
     "data": {
      "text/plain": [
       "array([9.99921414e-01, 6.73594083e-05, 1.12265680e-05, 0.00000000e+00])"
      ]
     },
     "execution_count": 115,
     "metadata": {},
     "output_type": "execute_result"
    }
   ],
   "source": [
    "np.histogram(both_df.select(pl.col(\"idx_transitions\").list.len()), bins=np.arange(5), density=True)[0]"
   ]
  },
  {
   "cell_type": "code",
   "execution_count": 104,
   "id": "436b5c8b-0b2a-4111-9949-b4e9364ae094",
   "metadata": {},
   "outputs": [
    {
     "data": {
      "text/html": [
       "<div><style>\n",
       ".dataframe > thead > tr,\n",
       ".dataframe > tbody > tr {\n",
       "  text-align: right;\n",
       "  white-space: pre-wrap;\n",
       "}\n",
       "</style>\n",
       "<small>shape: (3_206_679, 5)</small><table border=\"1\" class=\"dataframe\"><thead><tr><th>read_length</th><th>snp_positions_on_read</th><th>idx_transitions</th><th>sample_id</th><th>read_name</th></tr><tr><td>i64</td><td>list[i64]</td><td>list[i64]</td><td>str</td><td>str</td></tr></thead><tbody><tr><td>26697</td><td>[1542, 2963, … 24324]</td><td>[25]</td><td>&quot;PD50489e&quot;</td><td>&quot;m64174e_220620…</td></tr><tr><td>18384</td><td>[4531, 5034, … 14753]</td><td>[0]</td><td>&quot;PD50489e&quot;</td><td>&quot;m64094e_220717…</td></tr><tr><td>7552</td><td>[5427, 5526]</td><td>[0]</td><td>&quot;PD50489e&quot;</td><td>&quot;m64174e_220620…</td></tr><tr><td>21089</td><td>[4721, 5695, … 19487]</td><td>[2]</td><td>&quot;PD50489e&quot;</td><td>&quot;m64094e_220715…</td></tr><tr><td>12853</td><td>[2118, 2865, … 11291]</td><td>[4]</td><td>&quot;PD50489e&quot;</td><td>&quot;m64174e_220620…</td></tr><tr><td>22981</td><td>[1936, 7101, … 17093]</td><td>[2]</td><td>&quot;PD50489e&quot;</td><td>&quot;m64094e_220715…</td></tr><tr><td>19951</td><td>[1871, 1946, … 16753]</td><td>[1]</td><td>&quot;PD50489e&quot;</td><td>&quot;m64094e_220717…</td></tr><tr><td>16265</td><td>[11515, 11590, … 12650]</td><td>[1]</td><td>&quot;PD50489e&quot;</td><td>&quot;m64094e_220717…</td></tr><tr><td>17076</td><td>[2138, 3377, … 15562]</td><td>[29]</td><td>&quot;PD50489e&quot;</td><td>&quot;m64174e_220620…</td></tr><tr><td>25939</td><td>[2667, 8711, 22040]</td><td>[1]</td><td>&quot;PD50489e&quot;</td><td>&quot;m64094e_220715…</td></tr><tr><td>6339</td><td>[1849, 2314, … 4565]</td><td>[3, 4]</td><td>&quot;PD50489e&quot;</td><td>&quot;m64174e_220620…</td></tr><tr><td>22318</td><td>[3150, 3207, … 19546]</td><td>[1]</td><td>&quot;PD50489e&quot;</td><td>&quot;m64174e_220620…</td></tr><tr><td>&hellip;</td><td>&hellip;</td><td>&hellip;</td><td>&hellip;</td><td>&hellip;</td></tr><tr><td>13974</td><td>[1502, 2198, … 12304]</td><td>[]</td><td>&quot;PD50489e&quot;</td><td>&quot;m64094e_220717…</td></tr><tr><td>5419</td><td>[3458]</td><td>[]</td><td>&quot;PD50489e&quot;</td><td>&quot;m64174e_220620…</td></tr><tr><td>11752</td><td>[1746, 1950, … 10142]</td><td>[]</td><td>&quot;PD50489e&quot;</td><td>&quot;m64094e_220717…</td></tr><tr><td>5257</td><td>[1760]</td><td>[]</td><td>&quot;PD50489e&quot;</td><td>&quot;m64174e_220620…</td></tr><tr><td>14000</td><td>[4003, 6548, … 11388]</td><td>[]</td><td>&quot;PD50489e&quot;</td><td>&quot;m64094e_220715…</td></tr><tr><td>8933</td><td>[1684, 1791, … 6903]</td><td>[]</td><td>&quot;PD50489e&quot;</td><td>&quot;m64094e_220717…</td></tr><tr><td>9769</td><td>[2790, 4320, 7162]</td><td>[]</td><td>&quot;PD50489e&quot;</td><td>&quot;m64174e_220620…</td></tr><tr><td>5061</td><td>[3249]</td><td>[]</td><td>&quot;PD50489e&quot;</td><td>&quot;m64094e_220715…</td></tr><tr><td>9319</td><td>[2845, 2964, … 6447]</td><td>[]</td><td>&quot;PD50489e&quot;</td><td>&quot;m64174e_220620…</td></tr><tr><td>6555</td><td>[2671, 3466, 4129]</td><td>[]</td><td>&quot;PD50489e&quot;</td><td>&quot;m64094e_220717…</td></tr><tr><td>15821</td><td>[2309, 2874, … 11627]</td><td>[]</td><td>&quot;PD50489e&quot;</td><td>&quot;m64174e_220620…</td></tr><tr><td>9354</td><td>[2395, 2614, … 7731]</td><td>[]</td><td>&quot;PD50489e&quot;</td><td>&quot;m64094e_220717…</td></tr></tbody></table></div>"
      ],
      "text/plain": [
       "shape: (3_206_679, 5)\n",
       "┌─────────────┬───────────────────────┬─────────────────┬───────────┬──────────────────────────────┐\n",
       "│ read_length ┆ snp_positions_on_read ┆ idx_transitions ┆ sample_id ┆ read_name                    │\n",
       "│ ---         ┆ ---                   ┆ ---             ┆ ---       ┆ ---                          │\n",
       "│ i64         ┆ list[i64]             ┆ list[i64]       ┆ str       ┆ str                          │\n",
       "╞═════════════╪═══════════════════════╪═════════════════╪═══════════╪══════════════════════════════╡\n",
       "│ 26697       ┆ [1542, 2963, … 24324] ┆ [25]            ┆ PD50489e  ┆ m64174e_220620_110709/105318 │\n",
       "│             ┆                       ┆                 ┆           ┆ 852/…                        │\n",
       "│ 18384       ┆ [4531, 5034, … 14753] ┆ [0]             ┆ PD50489e  ┆ m64094e_220717_002414/761544 │\n",
       "│             ┆                       ┆                 ┆           ┆ 03/c…                        │\n",
       "│ 7552        ┆ [5427, 5526]          ┆ [0]             ┆ PD50489e  ┆ m64174e_220620_110709/160432 │\n",
       "│             ┆                       ┆                 ┆           ┆ 373/…                        │\n",
       "│ 21089       ┆ [4721, 5695, … 19487] ┆ [2]             ┆ PD50489e  ┆ m64094e_220715_151527/848045 │\n",
       "│             ┆                       ┆                 ┆           ┆ 94/c…                        │\n",
       "│ 12853       ┆ [2118, 2865, … 11291] ┆ [4]             ┆ PD50489e  ┆ m64174e_220620_110709/561654 │\n",
       "│             ┆                       ┆                 ┆           ┆ 94/c…                        │\n",
       "│ …           ┆ …                     ┆ …               ┆ …         ┆ …                            │\n",
       "│ 5061        ┆ [3249]                ┆ []              ┆ PD50489e  ┆ m64094e_220715_151527/128470 │\n",
       "│             ┆                       ┆                 ┆           ┆ 91/c…                        │\n",
       "│ 9319        ┆ [2845, 2964, … 6447]  ┆ []              ┆ PD50489e  ┆ m64174e_220620_110709/715018 │\n",
       "│             ┆                       ┆                 ┆           ┆ 45/c…                        │\n",
       "│ 6555        ┆ [2671, 3466, 4129]    ┆ []              ┆ PD50489e  ┆ m64094e_220717_002414/794968 │\n",
       "│             ┆                       ┆                 ┆           ┆ 46/c…                        │\n",
       "│ 15821       ┆ [2309, 2874, … 11627] ┆ []              ┆ PD50489e  ┆ m64174e_220620_110709/131926 │\n",
       "│             ┆                       ┆                 ┆           ┆ 096/…                        │\n",
       "│ 9354        ┆ [2395, 2614, … 7731]  ┆ []              ┆ PD50489e  ┆ m64094e_220717_002414/153944 │\n",
       "│             ┆                       ┆                 ┆           ┆ 156/…                        │\n",
       "└─────────────┴───────────────────────┴─────────────────┴───────────┴──────────────────────────────┘"
      ]
     },
     "execution_count": 104,
     "metadata": {},
     "output_type": "execute_result"
    }
   ],
   "source": [
    "both_df"
   ]
  },
  {
   "cell_type": "markdown",
   "id": "76106ea6-62ad-462a-8538-15386a1eaaaa",
   "metadata": {},
   "source": [
    "### Cutting off the edge more aggressively"
   ]
  },
  {
   "cell_type": "code",
   "execution_count": 14,
   "id": "0c1ad421-081e-4429-b0a6-7e8b0e5e0b64",
   "metadata": {},
   "outputs": [
    {
     "data": {
      "image/png": "[encoded data removed]",
      "text/plain": [
       "<Figure size 1200x400 with 3 Axes>"
      ]
     },
     "metadata": {},
     "output_type": "display_data"
    }
   ],
   "source": [
    "plot_tract_lengths(trusty_cls_df\n",
    "    .with_columns(\n",
    "        pl.col(\"snp_positions_on_read\").list.get(pl.col(\"idx_transitions\").list.get(0)+1).alias(\"first_transition_snp\"),\n",
    "        pl.col(\"snp_positions_on_read\").list.get(pl.col(\"idx_transitions\").list.get(1)).alias(\"last_transition_snp\"),\n",
    "    )\n",
    "    .filter((pl.col(\"first_transition_snp\") > 3000) & ((pl.col(\"read_length\") - pl.col(\"last_transition_snp\")) > 3000))\n",
    ")\n"
   ]
  },
  {
   "cell_type": "code",
   "execution_count": 15,
   "id": "c2b9920f-e659-4837-8250-e342e6169c73",
   "metadata": {},
   "outputs": [],
   "source": [
    "outer_diffs = (trusty_cls_df\n",
    "    .filter(pl.col(\"class\") == \"GC\")\n",
    "    .with_columns(\n",
    "        pl.col(\"snp_positions_on_read\").list.get(pl.col(\"idx_transitions\").list.get(0)).alias(\"first_transition_snp\"),\n",
    "        pl.col(\"snp_positions_on_read\").list.get(pl.col(\"idx_transitions\").list.get(1)+1).alias(\"last_transition_snp\"),\n",
    "    )\n",
    "    .select((pl.col(\"last_transition_snp\") - pl.col(\"first_transition_snp\")).alias(\"outer_diff\"))\n",
    ")"
   ]
  },
  {
   "cell_type": "code",
   "execution_count": 16,
   "id": "25679a72-96cd-4187-b5d2-1a046c53a851",
   "metadata": {},
   "outputs": [
    {
     "data": {
      "text/plain": [
       "6797.0"
      ]
     },
     "execution_count": 16,
     "metadata": {},
     "output_type": "execute_result"
    }
   ],
   "source": [
    "np.quantile(outer_diffs, 0.95)"
   ]
  },
  {
   "cell_type": "code",
   "execution_count": 17,
   "id": "2ef422a6-4029-4408-a604-b24a8fc34c31",
   "metadata": {},
   "outputs": [
    {
     "data": {
      "image/png": "[encoded data removed]",
      "text/plain": [
       "<Figure size 1200x400 with 3 Axes>"
      ]
     },
     "metadata": {},
     "output_type": "display_data"
    }
   ],
   "source": [
    "plot_tract_lengths(trusty_cls_df\n",
    "    .filter(pl.col(\"class\") == \"GC\")\n",
    "    .with_columns(\n",
    "        pl.col(\"snp_positions_on_read\").list.get(pl.col(\"idx_transitions\").list.get(0)).alias(\"first_transition_snp\"),\n",
    "        pl.col(\"snp_positions_on_read\").list.get(pl.col(\"idx_transitions\").list.get(1)+1).alias(\"last_transition_snp\"),\n",
    "    )\n",
    "    .filter((pl.col(\"last_transition_snp\") - pl.col(\"first_transition_snp\")) < 6800)\n",
    ")\n"
   ]
  },
  {
   "cell_type": "code",
   "execution_count": null,
   "id": "3aa8a108-bc32-4561-b730-fa5e79de3a63",
   "metadata": {},
   "outputs": [],
   "source": []
  },
  {
   "cell_type": "code",
   "execution_count": 56,
   "id": "a5b14bac-4148-4270-9367-9854060b5230",
   "metadata": {},
   "outputs": [],
   "source": [
    "aug_both_df = (both_df\n",
    "    .with_columns(\n",
    "        prob_inside = 1 - (pl.col(\"snp_positions_on_read\").list.get(0) + pl.col(\"read_length\") - pl.col(\"snp_positions_on_read\").list.get(-1)) / pl.col(\"read_length\"),\n",
    "        n_transitions = pl.col(\"idx_transitions\").list.len(),\n",
    "    )\n",
    "    .with_columns(\n",
    "        rounded_prob_inside = pl.col(\"prob_inside\") // 0.1 * 0.1,\n",
    "    )\n",
    ")"
   ]
  },
  {
   "cell_type": "code",
   "execution_count": 65,
   "id": "dff07c61-0f64-4558-b6af-11e514aa44cd",
   "metadata": {},
   "outputs": [
    {
     "data": {
      "image/png": "[encoded data removed]",
      "text/plain": [
       "<Figure size 640x480 with 1 Axes>"
      ]
     },
     "metadata": {},
     "output_type": "display_data"
    }
   ],
   "source": [
    "ps = np.arange(0, 1, 0.1)\n",
    "\n",
    "def histme(df):\n",
    "    hs = []\n",
    "    for p in ps:\n",
    "        hs.append(\n",
    "            np.histogram(\n",
    "                df.filter(pl.col(\"rounded_prob_inside\") == p)[\"n_transitions\"],\n",
    "                bins=np.arange(0, 4),\n",
    "                density=True,\n",
    "            )[0]\n",
    "        )\n",
    "    return hs\n",
    "\n",
    "plt.plot(ps, [x[1] for x in histme(aug_both_df)], '.')\n",
    "plt.title(\"real\");"
   ]
  },
  {
   "cell_type": "code",
   "execution_count": null,
   "id": "6b3289c8-ff0a-4a4b-b227-3c8a2ee978d0",
   "metadata": {},
   "outputs": [],
   "source": []
  },
  {
   "cell_type": "code",
   "execution_count": null,
   "id": "619335a7-bfcb-44ab-b20e-65ea0a00b87a",
   "metadata": {},
   "outputs": [],
   "source": []
  },
  {
   "cell_type": "code",
   "execution_count": null,
   "id": "960de074-1803-4b52-b20f-2d88914bee60",
   "metadata": {},
   "outputs": [],
   "source": []
  },
  {
   "cell_type": "code",
   "execution_count": 18,
   "id": "0373b0b9-518e-4603-a03d-b6988007866d",
   "metadata": {},
   "outputs": [],
   "source": [
    "where_trans_df = (trusty_cls_df\n",
    "    .filter(pl.col(\"class\") == \"GC\")\n",
    "    .with_columns(n_possible_transitions = pl.col(\"snp_positions_on_read\").list.len() - 1)\n",
    "    .explode(\"idx_transitions\")\n",
    "    .group_by([\"n_possible_transitions\", \"idx_transitions\"])\n",
    "    .len()\n",
    "    .sort(by=[\"n_possible_transitions\", \"idx_transitions\"])\n",
    ")"
   ]
  },
  {
   "cell_type": "code",
   "execution_count": 19,
   "id": "b8f207bb-ec9e-4108-8262-53f368e2a87d",
   "metadata": {},
   "outputs": [
    {
     "data": {
      "image/png": "[encoded data removed]",
      "text/plain": [
       "<Figure size 640x480 with 1 Axes>"
      ]
     },
     "metadata": {},
     "output_type": "display_data"
    }
   ],
   "source": [
    "df = where_trans_df.filter(pl.col(\"n_possible_transitions\") == 9)\n",
    "plt.bar(df[\"idx_transitions\"], df[\"len\"]);"
   ]
  },
  {
   "cell_type": "code",
   "execution_count": null,
   "id": "c3ba4143-e324-445a-96c7-a7c20e0a9e51",
   "metadata": {},
   "outputs": [],
   "source": [
    "import scipy.stats\n",
    "\n",
    "def F(df):\n",
    "    n_pos = df.select(\"n_possible_transitions\").row(0)[0]\n",
    "    edges = df.filter((pl.col(\"idx_transitions\") == 0) | (pl.col(\"idx_transitions\") == n_pos-1))[\"len\"].sum()\n",
    "    total = df[\"len\"].sum()\n",
    "    return pl.DataFrame({\n",
    "        \"n_possible_transitions\": n_pos,\n",
    "        \"n_at_edges\": edges,\n",
    "        \"n_total\": total,    \n",
    "        \"edge_p_value\": scipy.stats.binomtest(k=edges, n=total, p=2/n_pos).pvalue,\n",
    "        \"uniform_p_value\": scipy.stats.chisquare(df[\"idx_transitions\"]).pvalue,\n",
    "    })\n",
    "\n",
    "pdf = where_trans_df.group_by(\"n_possible_transitions\").map_groups(F)"
   ]
  },
  {
   "cell_type": "code",
   "execution_count": null,
   "id": "bbb48b38-244e-4639-bef6-dc14dec6daa6",
   "metadata": {},
   "outputs": [],
   "source": [
    "pdf"
   ]
  },
  {
   "cell_type": "code",
   "execution_count": null,
   "id": "3eb4e8b0-ac41-4e10-b953-3260bebc6a36",
   "metadata": {},
   "outputs": [],
   "source": [
    "scipy.stats.chi2.sf(-2*np.log(pdf[\"uniform_p_value\"][:20]).sum(), 2*20)"
   ]
  },
  {
   "cell_type": "code",
   "execution_count": null,
   "id": "b683af57-3fc9-43e8-8f3f-29127a79d8f8",
   "metadata": {},
   "outputs": [],
   "source": [
    "scipy.stats.chi2.sf(-2*np.log(pdf[\"edge_p_value\"][:15]).sum(), 2*15)"
   ]
  },
  {
   "cell_type": "code",
   "execution_count": null,
   "id": "b7bcb86b-f6b4-403b-8ed6-54fbd97435cb",
   "metadata": {},
   "outputs": [],
   "source": [
    "real_edge_df = (trusty_cls_df\n",
    "    .filter(pl.col(\"class\") == \"GC\")\n",
    "    .with_columns(n_possible_transitions = pl.col(\"snp_positions_on_read\").list.len() - 1)\n",
    "    .with_columns(\n",
    "        (pl.col(\"idx_transitions\").list.get(0) == 0).alias(\"is_left_edge\"),\n",
    "        (pl.col(\"idx_transitions\").list.get(-1) == (pl.col(\"n_possible_transitions\") - 1)).alias(\"is_right_edge\")\n",
    "    )\n",
    "    .with_columns((pl.col(\"is_left_edge\") | pl.col(\"is_right_edge\")).alias(\"is_edge\"))\n",
    "    .group_by(\"n_possible_transitions\", \"is_edge\")\n",
    "    .len()\n",
    "    .sort(by=[\"n_possible_transitions\", \"is_edge\"]) \n",
    "    .group_by(\"n_possible_transitions\")\n",
    "    .map_groups(\n",
    "        lambda group: group.with_columns(\n",
    "            (group['len'] / group['len'].sum()).alias('fraction'), \n",
    "            pl.lit(group[\"len\"].sum()).alias(\"total\")\n",
    "        )    \n",
    "    )\n",
    "    .filter(pl.col(\"is_edge\"))\n",
    ")"
   ]
  },
  {
   "cell_type": "code",
   "execution_count": null,
   "id": "fee04a92-d532-45df-8380-8fb01645acc8",
   "metadata": {},
   "outputs": [],
   "source": [
    "real_edge_df"
   ]
  },
  {
   "cell_type": "code",
   "execution_count": null,
   "id": "adadf2ae-a719-4398-950c-a6a3b6a2dc43",
   "metadata": {},
   "outputs": [],
   "source": []
  },
  {
   "cell_type": "code",
   "execution_count": 20,
   "id": "e62b3a55-bb16-4df2-ab9e-d477300fdc0f",
   "metadata": {},
   "outputs": [],
   "source": [
    "single_where_df = (trusty_cls_df\n",
    "    .filter(pl.col(\"n_transitions\") == 1)\n",
    "    .with_columns(n_possible_transitions = pl.col(\"snp_positions_on_read\").list.len() - 1)\n",
    "    .explode(\"idx_transitions\")\n",
    "    .group_by([\"n_possible_transitions\", \"idx_transitions\"])\n",
    "    .len()\n",
    "    .sort(by=[\"n_possible_transitions\", \"idx_transitions\"])\n",
    ")"
   ]
  },
  {
   "cell_type": "code",
   "execution_count": 21,
   "id": "2d166290-3f2a-49b0-8127-31a3df7ae4b6",
   "metadata": {},
   "outputs": [
    {
     "data": {
      "image/png": "[encoded data removed]",
      "text/plain": [
       "<Figure size 640x480 with 1 Axes>"
      ]
     },
     "metadata": {},
     "output_type": "display_data"
    }
   ],
   "source": [
    "df = single_where_df.filter(pl.col(\"n_possible_transitions\") == 6)\n",
    "plt.bar(df[\"idx_transitions\"], df[\"len\"]);"
   ]
  },
  {
   "cell_type": "code",
   "execution_count": 39,
   "id": "b6a7f500-52a5-4ea4-9a50-3cbffcc732be",
   "metadata": {},
   "outputs": [],
   "source": [
    "import scipy.stats\n",
    "\n",
    "def F(df):\n",
    "    n_pos = df.select(\"n_possible_transitions\").row(0)[0]\n",
    "    edges = df.filter((pl.col(\"idx_transitions\") == 0) | (pl.col(\"idx_transitions\") == n_pos-1))[\"len\"].sum()\n",
    "    total = df[\"len\"].sum()\n",
    "    return pl.DataFrame({\n",
    "        \"n_possible_transitions\": n_pos,\n",
    "        \"n_at_edges\": edges,\n",
    "        \"n_total\": total,    \n",
    "        \"edge_p_value\": scipy.stats.binomtest(k=edges, n=total, p=2/n_pos).pvalue,\n",
    "        \"uniform_p_value\": scipy.stats.chisquare(df[\"idx_transitions\"]).pvalue,\n",
    "    })\n",
    "\n",
    "pdf = single_where_df.filter(pl.col(\"n_possible_transitions\") >= 2).group_by(\"n_possible_transitions\").map_groups(F)"
   ]
  },
  {
   "cell_type": "code",
   "execution_count": 46,
   "id": "177e2591-e875-4119-a2b9-35a91f845f4d",
   "metadata": {},
   "outputs": [
    {
     "data": {
      "image/png": "[encoded data removed]",
      "text/plain": [
       "<Figure size 640x480 with 1 Axes>"
      ]
     },
     "metadata": {},
     "output_type": "display_data"
    }
   ],
   "source": [
    "plt.plot(np.log10(pdf[\"edge_p_value\"]), '.');"
   ]
  },
  {
   "cell_type": "code",
   "execution_count": 30,
   "id": "31341f27-feb7-4f2f-bee3-fab30733efc0",
   "metadata": {},
   "outputs": [],
   "source": [
    "where_pos_df = (\n",
    "    trusty_cls_df\n",
    "    .filter(pl.col(\"idx_transitions\").list.len() == 1)\n",
    "    .with_columns(\n",
    "        pl.min_horizontal(\n",
    "            pl.col(\"snp_positions_on_read\").list.get(pl.col(\"idx_transitions\").list.get(0)),\n",
    "            (pl.col(\"read_length\") - pl.col(\"snp_positions_on_read\").list.get(pl.col(\"idx_transitions\").list.get(0)+1)),\n",
    "        ).alias(\"gap\")\n",
    "    )\n",
    ")"
   ]
  },
  {
   "cell_type": "code",
   "execution_count": 32,
   "id": "81859311-5142-4f8c-9109-e93cf60d74f7",
   "metadata": {},
   "outputs": [
    {
     "data": {
      "image/png": "[encoded data removed]",
      "text/plain": [
       "<Figure size 640x480 with 1 Axes>"
      ]
     },
     "metadata": {},
     "output_type": "display_data"
    }
   ],
   "source": [
    "plt.hist(where_pos_df[\"gap\"], bins=100);"
   ]
  },
  {
   "cell_type": "code",
   "execution_count": null,
   "id": "1b957fe3-ba88-4b1b-a5f3-d9860fec4455",
   "metadata": {},
   "outputs": [],
   "source": []
  },
  {
   "cell_type": "code",
   "execution_count": null,
   "id": "22cbf9a9-7c94-4317-a04d-6282e4d22768",
   "metadata": {},
   "outputs": [],
   "source": []
  },
  {
   "cell_type": "code",
   "execution_count": null,
   "id": "2785fc1d-afb4-4c0a-adca-cb8a67b3c9a3",
   "metadata": {},
   "outputs": [],
   "source": []
  },
  {
   "cell_type": "code",
   "execution_count": null,
   "id": "f8f1770d-5ce6-4f80-a102-b59950ac42a1",
   "metadata": {},
   "outputs": [],
   "source": []
  },
  {
   "cell_type": "markdown",
   "id": "eb0bfc28-4294-4e09-9cf3-dd1604da4382",
   "metadata": {},
   "source": [
    "# Get some non-event reads"
   ]
  },
  {
   "cell_type": "code",
   "execution_count": 13,
   "id": "1e15558c-bd06-457e-a410-8b60b3122722",
   "metadata": {},
   "outputs": [
    {
     "name": "stdout",
     "output_type": "stream",
     "text": [
      "CPU times: user 2.57 s, sys: 597 ms, total: 3.17 s\n",
      "Wall time: 3.73 s\n"
     ]
    }
   ],
   "source": [
    "%%time\n",
    "focal_sample_id = \"PD50489e\"\n",
    "# t2t_chrom = \"chr2\"\n",
    "# denovo_chrom = t2t_chrom + \"_RagTag\"\n",
    "certainty = \"0.95\"\n",
    "\n",
    "total_reads = []\n",
    "all_sampled_reads = []\n",
    "\n",
    "#for focal_sample_id in tqdm(sample_ids):\n",
    "for focal_sample_id in [focal_sample_id]:\n",
    "    for t2t_chrom in (aut_chrom_names):\n",
    "        denovo_chrom = t2t_chrom + \"_RagTag\"\n",
    "        \n",
    "        patterns_filename = Path(\"/lustre/scratch126/casm/team154pc/sl17/03.sperm/02.results/01.read_alignment/01.ccs/04.hifiasm/02.hifiasm_0.19.5-r592/02.chromosome_length_scaffolds/\") \\\n",
    "            / f\"{focal_sample_id}\" / \"reads\" / f\"{denovo_chrom}.certainty_{certainty}.candidate_reads.patterns.parquet\"\n",
    "\n",
    "        pat_df = pl.scan_parquet(patterns_filename)\n",
    "        all_sampled_reads.append(pat_df)\n",
    "        \n",
    "all_sampled_reads = pl.concat(all_sampled_reads).collect(streaming=True)\n"
   ]
  },
  {
   "cell_type": "code",
   "execution_count": 20,
   "id": "0e975e83-0e1f-453c-9fde-eaf5d06cf236",
   "metadata": {},
   "outputs": [
    {
     "name": "stdout",
     "output_type": "stream",
     "text": [
      "CPU times: user 26 s, sys: 1.72 s, total: 27.8 s\n",
      "Wall time: 28.4 s\n"
     ]
    }
   ],
   "source": [
    "%%time\n",
    "read_length_list, snp_positions_on_read_list = all_sampled_reads.select(\"read_length\", \"snp_positions_on_read\").to_numpy().T\n",
    "\n",
    "idx_transitions_list = inference.simulate_many_read_patterns(\n",
    "    read_length_list,\n",
    "    snp_positions_on_read_list,\n",
    "    1,\n",
    "    100,\n",
    "    1,\n",
    "    42,\n",
    ")\n",
    "\n",
    "sim_df = pl.from_pandas(pd.DataFrame({\n",
    "    \"idx_transitions\": list(idx_transitions_list), \n",
    "    \"snp_positions_on_read\": list(snp_positions_on_read_list),\n",
    "    \"read_length\": list(read_length_list),\n",
    "}))\n",
    "\n"
   ]
  },
  {
   "cell_type": "code",
   "execution_count": null,
   "id": "0f6092fd-a6f1-4a83-a087-9b68fe4fa6e8",
   "metadata": {},
   "outputs": [],
   "source": []
  },
  {
   "cell_type": "code",
   "execution_count": null,
   "id": "e358fc8a-652a-4b20-8e98-6298a14b2ac0",
   "metadata": {},
   "outputs": [],
   "source": []
  },
  {
   "cell_type": "code",
   "execution_count": 34,
   "id": "7853e9de-6efb-4ae7-ab79-4ba2b47f80f4",
   "metadata": {},
   "outputs": [
    {
     "name": "stdout",
     "output_type": "stream",
     "text": [
      "CPU times: user 166 ms, sys: 142 ms, total: 307 ms\n",
      "Wall time: 216 ms\n"
     ]
    }
   ],
   "source": [
    "%%time\n",
    "where_pos_df = (\n",
    "    sim_df\n",
    "    .filter(pl.col(\"idx_transitions\").list.len() == 1)\n",
    "    .with_columns(\n",
    "        pl.min_horizontal(\n",
    "            pl.col(\"snp_positions_on_read\").list.get(pl.col(\"idx_transitions\").list.get(0)),\n",
    "            (pl.col(\"read_length\") - pl.col(\"snp_positions_on_read\").list.get(pl.col(\"idx_transitions\").list.get(0)+1)),\n",
    "        ).alias(\"gap\")\n",
    "    )\n",
    ")"
   ]
  },
  {
   "cell_type": "code",
   "execution_count": 40,
   "id": "5c693b22-8094-4f0d-acdb-d82575be4601",
   "metadata": {},
   "outputs": [
    {
     "data": {
      "image/png": "[encoded data removed]",
      "text/plain": [
       "<Figure size 640x480 with 1 Axes>"
      ]
     },
     "metadata": {},
     "output_type": "display_data"
    }
   ],
   "source": [
    "plt.hist(where_pos_df.filter(pl.col(\"snp_positions_on_read\").list.len() == 2)[\"gap\"], bins=100);"
   ]
  },
  {
   "cell_type": "code",
   "execution_count": null,
   "id": "eb62c2ca-a6aa-4ce7-b469-52fdc648d8e4",
   "metadata": {},
   "outputs": [],
   "source": []
  },
  {
   "cell_type": "code",
   "execution_count": 66,
   "id": "89f574dd-f087-45d7-b331-16260b78aa68",
   "metadata": {},
   "outputs": [
    {
     "name": "stdout",
     "output_type": "stream",
     "text": [
      "CPU times: user 23.5 s, sys: 52.5 s, total: 1min 15s\n",
      "Wall time: 1min 15s\n"
     ]
    }
   ],
   "source": [
    "%%time\n",
    "where_trans_df = (\n",
    "    pl.DataFrame({\"idx_transitions\": list(idx_transitions_list), \"snp_positions_on_read\": list(snp_positions_on_read_list)})\n",
    "    .filter(pl.col(\"idx_transitions\").list.len() == 1)\n",
    "    .with_columns(n_possible_transitions = pl.col(\"snp_positions_on_read\").list.len() - 1)\n",
    "    .explode(\"idx_transitions\")\n",
    "    .group_by([\"n_possible_transitions\", \"idx_transitions\"])\n",
    "    .len()\n",
    "    .sort(by=[\"n_possible_transitions\", \"idx_transitions\"])\n",
    ")"
   ]
  },
  {
   "cell_type": "code",
   "execution_count": null,
   "id": "f7045079-60db-4289-8a26-933324a86d17",
   "metadata": {},
   "outputs": [],
   "source": []
  },
  {
   "cell_type": "code",
   "execution_count": 67,
   "id": "96b913c1-e1f8-458e-b31c-681245a49bbb",
   "metadata": {},
   "outputs": [
    {
     "data": {
      "image/png": "[encoded data removed]",
      "text/plain": [
       "<Figure size 640x480 with 1 Axes>"
      ]
     },
     "metadata": {},
     "output_type": "display_data"
    }
   ],
   "source": [
    "df = where_trans_df.filter(pl.col(\"n_possible_transitions\") == 21)\n",
    "plt.bar(df[\"idx_transitions\"], df[\"len\"]);"
   ]
  },
  {
   "cell_type": "code",
   "execution_count": 75,
   "id": "77566952-d1fb-4791-8490-ec78163c92f2",
   "metadata": {},
   "outputs": [
    {
     "name": "stderr",
     "output_type": "stream",
     "text": [
      "/nfs/treeoflife-01/teams/tola/users/rs42/miniconda3/envs/sperm/lib/python3.11/site-packages/scipy/stats/_stats_py.py:8064: RuntimeWarning: invalid value encountered in divide\n",
      "  terms = (f_obs_float - f_exp)**2 / f_exp\n"
     ]
    }
   ],
   "source": [
    "import scipy.stats\n",
    "\n",
    "def F(df):\n",
    "    n_pos = df.select(\"n_possible_transitions\").row(0)[0]\n",
    "    edges = df.filter((pl.col(\"idx_transitions\") == 0) | (pl.col(\"idx_transitions\") == n_pos-1))[\"len\"].sum()\n",
    "    total = df[\"len\"].sum()\n",
    "    return pl.DataFrame({\n",
    "        \"n_possible_transitions\": n_pos,\n",
    "        \"n_at_edges\": edges,\n",
    "        \"n_total\": total,    \n",
    "        \"edge_p_value\": scipy.stats.binomtest(k=edges, n=total, p=2/n_pos).pvalue,\n",
    "        \"uniform_p_value\": scipy.stats.chisquare(df[\"idx_transitions\"]).pvalue,\n",
    "    })\n",
    "\n",
    "pdf = (where_trans_df\n",
    "    .filter(pl.col(\"idx_transitions\").is_not_null())\n",
    "    .filter(pl.col(\"n_possible_transitions\")>=2)\n",
    "    .group_by(\"n_possible_transitions\")\n",
    "    .map_groups(F)\n",
    ")"
   ]
  },
  {
   "cell_type": "code",
   "execution_count": 77,
   "id": "6010326b-104e-4c44-8c74-f57d5f30491b",
   "metadata": {},
   "outputs": [
    {
     "data": {
      "text/html": [
       "<div><style>\n",
       ".dataframe > thead > tr,\n",
       ".dataframe > tbody > tr {\n",
       "  text-align: right;\n",
       "  white-space: pre-wrap;\n",
       "}\n",
       "</style>\n",
       "<small>shape: (167, 5)</small><table border=\"1\" class=\"dataframe\"><thead><tr><th>n_possible_transitions</th><th>n_at_edges</th><th>n_total</th><th>edge_p_value</th><th>uniform_p_value</th></tr><tr><td>i64</td><td>i64</td><td>i64</td><td>f64</td><td>f64</td></tr></thead><tbody><tr><td>2</td><td>13847</td><td>13847</td><td>1.0</td><td>0.317311</td></tr><tr><td>3</td><td>10598</td><td>15881</td><td>0.859711</td><td>0.367879</td></tr><tr><td>4</td><td>7991</td><td>15813</td><td>0.181552</td><td>0.34303</td></tr><tr><td>5</td><td>6193</td><td>15315</td><td>0.269118</td><td>0.287297</td></tr><tr><td>6</td><td>4916</td><td>14672</td><td>0.661513</td><td>0.22064</td></tr><tr><td>7</td><td>4016</td><td>13936</td><td>0.523772</td><td>0.155681</td></tr><tr><td>8</td><td>3323</td><td>13170</td><td>0.539371</td><td>0.100559</td></tr><tr><td>9</td><td>2714</td><td>12211</td><td>0.991316</td><td>0.059145</td></tr><tr><td>10</td><td>2301</td><td>11579</td><td>0.736223</td><td>0.031497</td></tr><tr><td>11</td><td>1910</td><td>10472</td><td>0.879173</td><td>0.015105</td></tr><tr><td>12</td><td>1650</td><td>9728</td><td>0.43812</td><td>0.00649</td></tr><tr><td>13</td><td>1390</td><td>9008</td><td>0.907009</td><td>0.002487</td></tr><tr><td>&hellip;</td><td>&hellip;</td><td>&hellip;</td><td>&hellip;</td><td>&hellip;</td></tr><tr><td>178</td><td>1</td><td>1</td><td>0.011236</td><td>NaN</td></tr><tr><td>179</td><td>0</td><td>2</td><td>1.0</td><td>0.946125</td></tr><tr><td>184</td><td>0</td><td>2</td><td>1.0</td><td>0.654721</td></tr><tr><td>188</td><td>0</td><td>4</td><td>1.0</td><td>2.1614e-9</td></tr><tr><td>193</td><td>0</td><td>4</td><td>1.0</td><td>0.003452</td></tr><tr><td>194</td><td>0</td><td>2</td><td>1.0</td><td>0.820847</td></tr><tr><td>199</td><td>0</td><td>2</td><td>1.0</td><td>0.89322</td></tr><tr><td>209</td><td>0</td><td>2</td><td>1.0</td><td>0.853923</td></tr><tr><td>215</td><td>0</td><td>2</td><td>1.0</td><td>0.637352</td></tr><tr><td>223</td><td>0</td><td>2</td><td>1.0</td><td>0.811947</td></tr><tr><td>260</td><td>0</td><td>2</td><td>1.0</td><td>0.906186</td></tr><tr><td>287</td><td>0</td><td>2</td><td>1.0</td><td>0.836996</td></tr></tbody></table></div>"
      ],
      "text/plain": [
       "shape: (167, 5)\n",
       "┌────────────────────────┬────────────┬─────────┬──────────────┬─────────────────┐\n",
       "│ n_possible_transitions ┆ n_at_edges ┆ n_total ┆ edge_p_value ┆ uniform_p_value │\n",
       "│ ---                    ┆ ---        ┆ ---     ┆ ---          ┆ ---             │\n",
       "│ i64                    ┆ i64        ┆ i64     ┆ f64          ┆ f64             │\n",
       "╞════════════════════════╪════════════╪═════════╪══════════════╪═════════════════╡\n",
       "│ 2                      ┆ 13847      ┆ 13847   ┆ 1.0          ┆ 0.317311        │\n",
       "│ 3                      ┆ 10598      ┆ 15881   ┆ 0.859711     ┆ 0.367879        │\n",
       "│ 4                      ┆ 7991       ┆ 15813   ┆ 0.181552     ┆ 0.34303         │\n",
       "│ 5                      ┆ 6193       ┆ 15315   ┆ 0.269118     ┆ 0.287297        │\n",
       "│ 6                      ┆ 4916       ┆ 14672   ┆ 0.661513     ┆ 0.22064         │\n",
       "│ …                      ┆ …          ┆ …       ┆ …            ┆ …               │\n",
       "│ 209                    ┆ 0          ┆ 2       ┆ 1.0          ┆ 0.853923        │\n",
       "│ 215                    ┆ 0          ┆ 2       ┆ 1.0          ┆ 0.637352        │\n",
       "│ 223                    ┆ 0          ┆ 2       ┆ 1.0          ┆ 0.811947        │\n",
       "│ 260                    ┆ 0          ┆ 2       ┆ 1.0          ┆ 0.906186        │\n",
       "│ 287                    ┆ 0          ┆ 2       ┆ 1.0          ┆ 0.836996        │\n",
       "└────────────────────────┴────────────┴─────────┴──────────────┴─────────────────┘"
      ]
     },
     "execution_count": 77,
     "metadata": {},
     "output_type": "execute_result"
    }
   ],
   "source": [
    "pdf"
   ]
  },
  {
   "cell_type": "code",
   "execution_count": 78,
   "id": "6fa8f7aa-8af0-4472-8d62-be572a78f6a4",
   "metadata": {},
   "outputs": [
    {
     "data": {
      "text/plain": [
       "[<matplotlib.lines.Line2D at 0x146d244e17d0>]"
      ]
     },
     "execution_count": 78,
     "metadata": {},
     "output_type": "execute_result"
    },
    {
     "data": {
      "image/png": "[encoded data removed]",
      "text/plain": [
       "<Figure size 640x480 with 1 Axes>"
      ]
     },
     "metadata": {},
     "output_type": "display_data"
    }
   ],
   "source": [
    "plt.plot(np.log10(pdf[\"uniform_p_value\"]), '.')"
   ]
  },
  {
   "cell_type": "code",
   "execution_count": 82,
   "id": "909090d8-66a5-47af-a7b5-5ab6a6b30656",
   "metadata": {},
   "outputs": [
    {
     "data": {
      "text/plain": [
       "1.1305341408166874e-33"
      ]
     },
     "execution_count": 82,
     "metadata": {},
     "output_type": "execute_result"
    }
   ],
   "source": [
    "scipy.stats.chi2.sf(-2*np.log(pdf[\"uniform_p_value\"][:20]).sum(), 2*20)"
   ]
  },
  {
   "cell_type": "code",
   "execution_count": 84,
   "id": "b04343d7-13c6-411a-a679-673d56f6c7eb",
   "metadata": {},
   "outputs": [
    {
     "data": {
      "text/plain": [
       "0.6069689919814163"
      ]
     },
     "execution_count": 84,
     "metadata": {},
     "output_type": "execute_result"
    }
   ],
   "source": [
    "scipy.stats.chi2.sf(-2*np.log(pdf[\"edge_p_value\"][:40]).sum(), 2*40)"
   ]
  },
  {
   "cell_type": "code",
   "execution_count": 126,
   "id": "0925ed9b-4ba6-4daa-b7ab-43152ec74b53",
   "metadata": {},
   "outputs": [],
   "source": [
    "# xdf = (\n",
    "#     pl.DataFrame({\"idx_transitions\": list(idx_transitions_list), \"snp_positions_on_read\": list(snp_positions_on_read_list)})\n",
    "#     .filter(pl.col(\"idx_transitions\").is_not_null())\n",
    "#     .with_columns(n_possible_transitions = pl.col(\"snp_positions_on_read\").list.len() - 1)\n",
    "#     .filter(pl.col(\"n_possible_transitions\")>=2)\n",
    "#     .with_columns(\n",
    "#         (pl.col(\"idx_transitions\").list.get(0) == 0).alias(\"is_left_edge\"),\n",
    "#         (pl.col(\"idx_transitions\").list.get(-1) == (pl.col(\"n_possible_transitions\") - 1)).alias(\"is_right_edge\")\n",
    "#     )\n",
    "#     .with_columns((pl.col(\"is_left_edge\") | pl.col(\"is_right_edge\")).alias(\"is_edge\"))\n",
    "# )"
   ]
  },
  {
   "cell_type": "code",
   "execution_count": null,
   "id": "779b48b8-7eed-48ee-994f-e0de19f0fdd5",
   "metadata": {},
   "outputs": [],
   "source": []
  },
  {
   "cell_type": "code",
   "execution_count": 142,
   "id": "7016510a-688a-4563-8c0e-0e678165e4f5",
   "metadata": {},
   "outputs": [
    {
     "name": "stdout",
     "output_type": "stream",
     "text": [
      "CPU times: user 17.3 s, sys: 30.2 s, total: 47.5 s\n",
      "Wall time: 47.5 s\n"
     ]
    }
   ],
   "source": [
    "%%time\n",
    "sim_edge_df = (\n",
    "    pl.DataFrame({\"idx_transitions\": list(idx_transitions_list), \"snp_positions_on_read\": list(snp_positions_on_read_list)})\n",
    "    .filter(pl.col(\"idx_transitions\").is_not_null())\n",
    "    .filter(pl.col(\"idx_transitions\").list.len() == 2)\n",
    "    .with_columns(n_possible_transitions = pl.col(\"snp_positions_on_read\").list.len() - 1)\n",
    "    .filter(pl.col(\"n_possible_transitions\")>=2)\n",
    "    .with_columns(\n",
    "        (pl.col(\"idx_transitions\").list.get(0) == 0).alias(\"is_left_edge\"),\n",
    "        (pl.col(\"idx_transitions\").list.get(-1) == (pl.col(\"n_possible_transitions\") - 1)).alias(\"is_right_edge\")\n",
    "    )\n",
    "    .with_columns((pl.col(\"is_left_edge\") | pl.col(\"is_right_edge\")).alias(\"is_edge\"))\n",
    "    .group_by(\"n_possible_transitions\", \"is_edge\")\n",
    "    .len()\n",
    "    .sort(by=[\"n_possible_transitions\", \"is_edge\"]) \n",
    "    .group_by(\"n_possible_transitions\")\n",
    "    .map_groups(\n",
    "        lambda group: group.with_columns(\n",
    "            (group['len'] / group['len'].sum()).alias('fraction'), \n",
    "            pl.lit(group[\"len\"].sum()).alias(\"total\")\n",
    "        )    \n",
    "    )\n",
    "    .filter(pl.col(\"is_edge\"))\n",
    ")"
   ]
  },
  {
   "cell_type": "code",
   "execution_count": 143,
   "id": "6be8a449-ab4a-4262-8a4a-6ed332c0c247",
   "metadata": {},
   "outputs": [
    {
     "data": {
      "image/png": "[encoded data removed]",
      "text/plain": [
       "<Figure size 640x480 with 1 Axes>"
      ]
     },
     "metadata": {},
     "output_type": "display_data"
    }
   ],
   "source": [
    "plt.plot(\n",
    "    real_edge_df[\"n_possible_transitions\"], real_edge_df[\"fraction\"], '.',\n",
    ")\n",
    "\n",
    "plt.plot(\n",
    "    sim_edge_df[\"n_possible_transitions\"], sim_edge_df[\"fraction\"], '.',\n",
    ")\n",
    "\n",
    "plt.xlim(0,30);\n"
   ]
  },
  {
   "cell_type": "code",
   "execution_count": 150,
   "id": "f25cadf2-cb0e-4114-842e-922f98ccc5cf",
   "metadata": {},
   "outputs": [],
   "source": [
    "rows = (sim_edge_df\n",
    "    .join(real_edge_df, on=[\"n_possible_transitions\", \"is_edge\"])\n",
    "    .select([\"len\", \"total\", \"len_right\", \"total_right\"])\n",
    "    .rows()\n",
    ")"
   ]
  },
  {
   "cell_type": "code",
   "execution_count": 152,
   "id": "3234e08b-c4eb-4d1a-a8b6-d17979d035a4",
   "metadata": {},
   "outputs": [
    {
     "ename": "NameError",
     "evalue": "name 'row' is not defined",
     "output_type": "error",
     "traceback": [
      "\u001b[0;31m---------------------------------------------------------------------------\u001b[0m",
      "\u001b[0;31mNameError\u001b[0m                                 Traceback (most recent call last)",
      "Cell \u001b[0;32mIn[152], line 1\u001b[0m\n\u001b[0;32m----> 1\u001b[0m scipy\u001b[38;5;241m.\u001b[39mstats\u001b[38;5;241m.\u001b[39mfisher_exact([[\u001b[43mrow\u001b[49m[\u001b[38;5;241m0\u001b[39m], row[\u001b[38;5;241m1\u001b[39m]\u001b[38;5;241m-\u001b[39mrow[\u001b[38;5;241m0\u001b[39m]], row[\u001b[38;5;241m2\u001b[39m], row[\u001b[38;5;241m3\u001b[39m]\u001b[38;5;241m-\u001b[39mrow[\u001b[38;5;241m2\u001b[39m]])\n",
      "\u001b[0;31mNameError\u001b[0m: name 'row' is not defined"
     ]
    }
   ],
   "source": [
    "[scipy.stats.fisher_exact([[row[0], row[1]-row[0]], row[2], row[3]-row[2]]) "
   ]
  },
  {
   "cell_type": "code",
   "execution_count": null,
   "id": "769c9ef6-1018-4b51-9279-42bfe1438a3c",
   "metadata": {},
   "outputs": [],
   "source": []
  },
  {
   "cell_type": "code",
   "execution_count": null,
   "id": "2ad71a4e-3309-4107-87ab-64b878ea01f8",
   "metadata": {},
   "outputs": [],
   "source": []
  },
  {
   "cell_type": "code",
   "execution_count": null,
   "id": "f76712b8-8da1-4e13-942e-b42b891f1b1f",
   "metadata": {},
   "outputs": [],
   "source": []
  },
  {
   "cell_type": "code",
   "execution_count": null,
   "id": "3e2d5b9e-b94a-41fa-b9dc-b97b026a4935",
   "metadata": {},
   "outputs": [],
   "source": []
  },
  {
   "cell_type": "code",
   "execution_count": 29,
   "id": "3f35b427-601f-416f-b44e-81e57235274e",
   "metadata": {},
   "outputs": [
    {
     "name": "stdout",
     "output_type": "stream",
     "text": [
      "CPU times: user 8.56 s, sys: 1.44 s, total: 10 s\n",
      "Wall time: 10 s\n"
     ]
    }
   ],
   "source": [
    "%%time\n",
    "sim_df = pl.DataFrame(\n",
    "    {\n",
    "        \"read_length\": read_length_list.astype(np.int64),\n",
    "        \"snp_positions_on_read\": list(snp_positions_on_read_list),\n",
    "        \"idx_transitions\": list(idx_transitions_list),\n",
    "        \"sample_id\": all_sampled_reads[\"sample_id\"],\n",
    "        \"class\": all_sampled_reads[\"class\"],\n",
    "    },\n",
    ")"
   ]
  },
  {
   "cell_type": "code",
   "execution_count": 43,
   "id": "e0abb0b5-32f4-4f1a-951f-88b5a73f0969",
   "metadata": {},
   "outputs": [
    {
     "data": {
      "text/plain": [
       "(3206427, 5)"
      ]
     },
     "execution_count": 43,
     "metadata": {},
     "output_type": "execute_result"
    }
   ],
   "source": [
    "sim_df.shape"
   ]
  },
  {
   "cell_type": "code",
   "execution_count": 32,
   "id": "ef7a4596-8d71-4f29-b4e9-b4546c27bcbe",
   "metadata": {},
   "outputs": [
    {
     "data": {
      "image/png": "[encoded data removed]",
      "text/plain": [
       "<Figure size 1200x400 with 3 Axes>"
      ]
     },
     "metadata": {},
     "output_type": "display_data"
    }
   ],
   "source": [
    "plot_tract_lengths(sim_df.filter(pl.col(\"sample_id\") == focal_sample_id))"
   ]
  },
  {
   "cell_type": "code",
   "execution_count": null,
   "id": "c5017bdf-4bd7-41e3-97e1-f6152d5922b0",
   "metadata": {},
   "outputs": [],
   "source": []
  },
  {
   "cell_type": "code",
   "execution_count": 14,
   "id": "f32dddf6-f61e-47ee-b6ae-c65171e5a416",
   "metadata": {},
   "outputs": [],
   "source": [
    "read_length_list, snp_positions_on_read_list = all_sampled_reads.select(\"read_length\", \"snp_positions_on_read\").to_numpy().T\n",
    "\n",
    "def runme(CO_prob, mean_tract_length, recomb_rate):\n",
    "    idx_transitions_list = inference.simulate_many_read_patterns(\n",
    "        read_length_list,\n",
    "        snp_positions_on_read_list,\n",
    "        CO_prob,\n",
    "        mean_tract_length,\n",
    "        recomb_rate,\n",
    "        42,\n",
    "    )\n",
    "    \n",
    "    sim_df = pl.from_pandas(pd.DataFrame({\n",
    "        \"idx_transitions\": list(idx_transitions_list), \n",
    "        \"snp_positions_on_read\": list(snp_positions_on_read_list),\n",
    "        \"read_length\": list(read_length_list),\n",
    "    }))\n",
    "\n",
    "    aug_sim_df = (sim_df\n",
    "        .with_columns(\n",
    "            prob_inside = 1 - (pl.col(\"snp_positions_on_read\").list.get(0) + pl.col(\"read_length\") - pl.col(\"snp_positions_on_read\").list.get(-1)) / pl.col(\"read_length\"),\n",
    "            n_transitions = pl.col(\"idx_transitions\").list.len(),\n",
    "        )\n",
    "        .with_columns(\n",
    "            rounded_prob_inside = pl.col(\"prob_inside\") // 0.1 * 0.1,\n",
    "        )\n",
    "    )\n",
    "\n",
    "    return aug_sim_df"
   ]
  },
  {
   "cell_type": "code",
   "execution_count": 15,
   "id": "ddf6160b-74c0-45f1-a0f9-c5680224d944",
   "metadata": {},
   "outputs": [
    {
     "name": "stderr",
     "output_type": "stream",
     "text": [
      "[Parallel(n_jobs=-1)]: Using backend LokyBackend with 8 concurrent workers.\n",
      "[Parallel(n_jobs=-1)]: Done   2 tasks      | elapsed:  2.2min\n",
      "[Parallel(n_jobs=-1)]: Done   4 out of  17 | elapsed:  3.3min remaining: 10.6min\n",
      "IOStream.flush timed out\n",
      "[Parallel(n_jobs=-1)]: Done   6 out of  17 | elapsed:  4.1min remaining:  7.5min\n",
      "[Parallel(n_jobs=-1)]: Done   8 out of  17 | elapsed:  4.4min remaining:  5.0min\n",
      "[Parallel(n_jobs=-1)]: Done  10 out of  17 | elapsed:  4.7min remaining:  3.3min\n",
      "[Parallel(n_jobs=-1)]: Done  12 out of  17 | elapsed:  4.7min remaining:  2.0min\n",
      "[Parallel(n_jobs=-1)]: Done  14 out of  17 | elapsed:  4.8min remaining:  1.0min\n",
      "[Parallel(n_jobs=-1)]: Done  17 out of  17 | elapsed:  5.1min finished\n"
     ]
    }
   ],
   "source": [
    "tract_lengths = np.arange(50, 800, 50)\n",
    "\n",
    "sim_params = (\n",
    "    [(0, -1, 0)] +                           # No recombination at all\n",
    "    [(1, -1, 1)] +                           # CO at every read\n",
    "    [(0, t, 1) for t in tract_lengths]      # GC at every read\n",
    ")\n",
    "\n",
    "\n",
    "\n",
    "res = joblib.Parallel(n_jobs=-1, verbose=10)(\n",
    "    joblib.delayed(runme)(CO_prob, mean_tract_length, recomb_rate) \n",
    "        for CO_prob, mean_tract_length, recomb_rate in sim_params\n",
    ")\n",
    "\n",
    "res_dict = dict(zip(sim_params, res))"
   ]
  },
  {
   "cell_type": "code",
   "execution_count": 22,
   "id": "120c8831-d69d-4fa4-a2d7-6d43d9bcff21",
   "metadata": {},
   "outputs": [],
   "source": [
    "def histme(df):\n",
    "    hs = []\n",
    "    for p in np.arange(0, 1, 0.1):\n",
    "        hs.append(\n",
    "            np.histogram(\n",
    "                df.filter(pl.col(\"rounded_prob_inside\") == p)[\"n_transitions\"],\n",
    "                bins=np.arange(0, 4),\n",
    "                density=True,\n",
    "            )[0]\n",
    "        )\n",
    "    return hs"
   ]
  },
  {
   "cell_type": "code",
   "execution_count": 182,
   "id": "7a206ce1-90b8-4d83-ad37-e59e006e2a87",
   "metadata": {},
   "outputs": [],
   "source": [
    "no_recomb_hist = np.histogram(res_dict[(0, -1, 0)][\"n_transitions\"], bins=np.arange(4), density=True)[0]\n",
    "co_hist = np.histogram(res_dict[(1, -1, 1)][\"n_transitions\"], bins=np.arange(4), density=True)[0]\n",
    "tracts_hists = {t:np.histogram(res_dict[(0, t, 1)][\"n_transitions\"], bins=np.arange(4), density=True)[0] for t in tract_lengths}"
   ]
  },
  {
   "cell_type": "code",
   "execution_count": 181,
   "id": "0655f876-a774-4668-a278-ddf48049427e",
   "metadata": {},
   "outputs": [
    {
     "data": {
      "text/plain": [
       "array([0.64225382, 0.35774618, 0.        ])"
      ]
     },
     "execution_count": 181,
     "metadata": {},
     "output_type": "execute_result"
    }
   ],
   "source": [
    "co_hist"
   ]
  },
  {
   "cell_type": "code",
   "execution_count": 183,
   "id": "53848692-bd1b-44ab-b370-58d1b4a8d8a6",
   "metadata": {},
   "outputs": [
    {
     "data": {
      "text/plain": [
       "{50: array([0.97365541, 0.00792471, 0.01841988]),\n",
       " 100: array([0.95111319, 0.01566635, 0.03322047]),\n",
       " 150: array([0.93099609, 0.0233269 , 0.04567701]),\n",
       " 200: array([0.9130094 , 0.03077382, 0.05621678]),\n",
       " 250: array([0.8967271 , 0.03804765, 0.06522525]),\n",
       " 300: array([0.88175967, 0.04506761, 0.07317272]),\n",
       " 350: array([0.86799356, 0.05192197, 0.08008447]),\n",
       " 400: array([0.85519708, 0.05861415, 0.08618877]),\n",
       " 450: array([0.84338985, 0.06506651, 0.09154364]),\n",
       " 500: array([0.8324749 , 0.07131365, 0.09621145]),\n",
       " 550: array([0.82230501, 0.07724954, 0.10044545]),\n",
       " 600: array([0.81279692, 0.08303448, 0.1041686 ]),\n",
       " 650: array([0.80382869, 0.08863823, 0.10753309]),\n",
       " 700: array([0.79531859, 0.09409258, 0.11058883]),\n",
       " 750: array([0.7873577 , 0.0993358 , 0.11330649])}"
      ]
     },
     "execution_count": 183,
     "metadata": {},
     "output_type": "execute_result"
    }
   ],
   "source": [
    "tracts_hists"
   ]
  },
  {
   "cell_type": "code",
   "execution_count": 185,
   "id": "4dcd628a-38c7-4d01-bda2-9c59a8a9e6d9",
   "metadata": {},
   "outputs": [
    {
     "data": {
      "text/plain": [
       "array([9.99933887e-01, 4.99032849e-05, 1.62094942e-05])"
      ]
     },
     "execution_count": 185,
     "metadata": {},
     "output_type": "execute_result"
    }
   ],
   "source": [
    "(1-1e-7*1e4)*no_recomb_hist + (1e-7*1e4*0.12)*co_hist +  (1e-7*1e4*(1-0.12))*tracts_hists[50]"
   ]
  },
  {
   "cell_type": "code",
   "execution_count": 187,
   "id": "ae1d6d23-325c-40ae-b905-e21f4609024d",
   "metadata": {},
   "outputs": [
    {
     "data": {
      "text/plain": [
       "array([7.70704588e-05, 4.29295412e-05, 0.00000000e+00])"
      ]
     },
     "execution_count": 187,
     "metadata": {},
     "output_type": "execute_result"
    }
   ],
   "source": [
    "(1e-7*1e4*0.12)*co_hist"
   ]
  },
  {
   "cell_type": "code",
   "execution_count": null,
   "id": "32282050-66dd-42df-9dcd-92edc638d547",
   "metadata": {},
   "outputs": [
    {
     "data": {
      "text/plain": [
       "array([8.56816762e-04, 6.97374367e-06, 1.62094942e-05])"
      ]
     },
     "execution_count": 188,
     "metadata": {},
     "output_type": "execute_result"
    }
   ],
   "source": []
  },
  {
   "cell_type": "code",
   "execution_count": null,
   "id": "7ee085ac-c01b-44e4-8a2f-b8bc4f1163dd",
   "metadata": {},
   "outputs": [],
   "source": []
  },
  {
   "cell_type": "code",
   "execution_count": null,
   "id": "5d83107a-04a4-414a-bc95-8e860a56a5c8",
   "metadata": {},
   "outputs": [],
   "source": []
  },
  {
   "cell_type": "code",
   "execution_count": null,
   "id": "0f9e7786-4d90-4920-ad98-aa4d5095a267",
   "metadata": {},
   "outputs": [],
   "source": []
  },
  {
   "cell_type": "code",
   "execution_count": 173,
   "id": "a39ec944-1a83-4031-beaf-dbe1d680af04",
   "metadata": {},
   "outputs": [],
   "source": [
    "isit = runme(0.12, 45, 1e-7)"
   ]
  },
  {
   "cell_type": "code",
   "execution_count": 174,
   "id": "649c6520-36e8-47a4-9c2b-f346c3ad4fe4",
   "metadata": {},
   "outputs": [
    {
     "data": {
      "text/plain": [
       "array([9.99913618e-01, 6.82950621e-05, 1.80872767e-05])"
      ]
     },
     "execution_count": 174,
     "metadata": {},
     "output_type": "execute_result"
    }
   ],
   "source": [
    "np.histogram(isit[\"n_transitions\"], bins=np.arange(4), density=True)[0]"
   ]
  },
  {
   "cell_type": "code",
   "execution_count": 175,
   "id": "6220eb43-b0e3-4b59-b825-db45b781f6fb",
   "metadata": {},
   "outputs": [
    {
     "data": {
      "text/plain": [
       "[array([9.99998892e-01, 1.10780616e-06, 0.00000000e+00]),\n",
       " array([9.99948970e-01, 4.25249622e-05, 8.50499243e-06]),\n",
       " array([9.99970369e-01, 2.96305076e-05, 0.00000000e+00]),\n",
       " array([9.99939821e-01, 4.34624167e-05, 1.67163141e-05]),\n",
       " array([9.99904379e-01, 8.32832092e-05, 1.23382532e-05]),\n",
       " array([9.99893492e-01, 8.63575259e-05, 2.01500894e-05]),\n",
       " array([9.99832419e-01, 1.35661028e-04, 3.19202420e-05]),\n",
       " array([9.99779930e-01, 1.65052339e-04, 5.50174463e-05]),\n",
       " array([9.99709558e-01, 2.06119887e-04, 8.43217719e-05]),\n",
       " array([1., 0., 0.])]"
      ]
     },
     "execution_count": 175,
     "metadata": {},
     "output_type": "execute_result"
    }
   ],
   "source": [
    "histme(isit)"
   ]
  },
  {
   "cell_type": "code",
   "execution_count": 176,
   "id": "934ef8cd-f931-486b-a42a-adb30da9df37",
   "metadata": {},
   "outputs": [
    {
     "data": {
      "text/plain": [
       "[<matplotlib.lines.Line2D at 0x14b79378b4d0>]"
      ]
     },
     "execution_count": 176,
     "metadata": {},
     "output_type": "execute_result"
    },
    {
     "data": {
      "image/png": "[encoded data removed]",
      "text/plain": [
       "<Figure size 640x480 with 1 Axes>"
      ]
     },
     "metadata": {},
     "output_type": "display_data"
    }
   ],
   "source": [
    "plt.plot(np.arange(0, 1, 0.1), [x[1] for x in histme(isit)], '.')\n"
   ]
  },
  {
   "cell_type": "code",
   "execution_count": null,
   "id": "8fb840a6-f5bf-4f00-8db5-83352294acea",
   "metadata": {},
   "outputs": [],
   "source": []
  },
  {
   "cell_type": "code",
   "execution_count": null,
   "id": "7bac2086-8dc9-41ad-a16c-1237b2ac8177",
   "metadata": {},
   "outputs": [],
   "source": []
  },
  {
   "cell_type": "code",
   "execution_count": null,
   "id": "61064c60-2219-46a3-9be1-f73259430f37",
   "metadata": {},
   "outputs": [],
   "source": []
  },
  {
   "cell_type": "code",
   "execution_count": 29,
   "id": "d24d6ec9-8a41-4523-b74e-43ae0e90c03d",
   "metadata": {},
   "outputs": [
    {
     "name": "stderr",
     "output_type": "stream",
     "text": [
      "/tmp/ipykernel_2276/2669343502.py:1: RuntimeWarning: invalid value encountered in scalar divide\n",
      "  {k:v[2]/(v[1]+v[2]) for k,v in res_dict.items()}\n"
     ]
    },
    {
     "data": {
      "text/plain": [
       "{(0, -1, 0): nan,\n",
       " (1, -1, 1): 0.0,\n",
       " (0, 50, 1): 0.6991902642295672,\n",
       " (0, 100, 1): 0.6795383790956415,\n",
       " (0, 150, 1): 0.6619481505586289,\n",
       " (0, 200, 1): 0.6462397240874918,\n",
       " (0, 250, 1): 0.6315814904405125,\n",
       " (0, 300, 1): 0.6188474107757518,\n",
       " (0, 350, 1): 0.6066709350318592,\n",
       " (0, 400, 1): 0.5952143010984278,\n",
       " (0, 450, 1): 0.5845319908634516,\n",
       " (0, 500, 1): 0.5743106763944247,\n",
       " (0, 550, 1): 0.5652688998641547,\n",
       " (0, 600, 1): 0.5564470315017168,\n",
       " (0, 650, 1): 0.548159088343728,\n",
       " (0, 700, 1): 0.5402973658227386,\n",
       " (0, 750, 1): 0.5328502160387902}"
      ]
     },
     "execution_count": 29,
     "metadata": {},
     "output_type": "execute_result"
    }
   ],
   "source": [
    "{k:v[2]/(v[1]+v[2]) for k,v in res_dict.items()}"
   ]
  },
  {
   "cell_type": "code",
   "execution_count": 48,
   "id": "25515d3c-e39a-4197-86bc-b3901c42b5bf",
   "metadata": {},
   "outputs": [
    {
     "data": {
      "text/plain": [
       "257"
      ]
     },
     "execution_count": 48,
     "metadata": {},
     "output_type": "execute_result"
    }
   ],
   "source": [
    "np.max(np.random.geometric(1/50, 100))"
   ]
  },
  {
   "cell_type": "code",
   "execution_count": 42,
   "id": "4de40208-0af6-4938-8699-bdb239a0a734",
   "metadata": {},
   "outputs": [],
   "source": [
    "snp_gaps = np.concatenate([np.diff(x) for x in snp_positions_on_read_list])"
   ]
  },
  {
   "cell_type": "code",
   "execution_count": 45,
   "id": "4dc20cf4-db4f-4991-9757-69d3a754e8f0",
   "metadata": {},
   "outputs": [
    {
     "data": {
      "image/png": "[encoded data removed]",
      "text/plain": [
       "<Figure size 640x480 with 1 Axes>"
      ]
     },
     "metadata": {},
     "output_type": "display_data"
    }
   ],
   "source": [
    "plt.hist(snp_gaps, bins=50, log=True);"
   ]
  },
  {
   "cell_type": "code",
   "execution_count": 46,
   "id": "d9f5d0a4-52f3-4b15-8207-102973b53e9b",
   "metadata": {},
   "outputs": [
    {
     "data": {
      "text/plain": [
       "818.587835755243"
      ]
     },
     "execution_count": 46,
     "metadata": {},
     "output_type": "execute_result"
    }
   ],
   "source": [
    "snp_gaps.mean()"
   ]
  },
  {
   "cell_type": "code",
   "execution_count": 51,
   "id": "f8ef15e7-a576-4c10-84cf-26fd820e120b",
   "metadata": {},
   "outputs": [],
   "source": [
    "snp_lens = np.array([len(x) for x in snp_positions_on_read_list])"
   ]
  },
  {
   "cell_type": "code",
   "execution_count": 55,
   "id": "06682dba-7c1d-431b-bf7b-091f4970b53e",
   "metadata": {},
   "outputs": [
    {
     "data": {
      "image/png": "[encoded data removed]",
      "text/plain": [
       "<Figure size 640x480 with 1 Axes>"
      ]
     },
     "metadata": {},
     "output_type": "display_data"
    }
   ],
   "source": [
    "plt.hist(snp_lens, bins=50, log=True);"
   ]
  },
  {
   "cell_type": "code",
   "execution_count": 56,
   "id": "7bdeb81f-af84-4bc6-8892-a35295ffe753",
   "metadata": {},
   "outputs": [
    {
     "data": {
      "text/plain": [
       "7.164133473177465"
      ]
     },
     "execution_count": 56,
     "metadata": {},
     "output_type": "execute_result"
    }
   ],
   "source": [
    "np.mean(snp_lens)"
   ]
  },
  {
   "cell_type": "code",
   "execution_count": 57,
   "id": "f924a212-9fa8-4e08-985b-e22a4a445c77",
   "metadata": {},
   "outputs": [
    {
     "data": {
      "text/plain": [
       "0.7701808399801328"
      ]
     },
     "execution_count": 57,
     "metadata": {},
     "output_type": "execute_result"
    }
   ],
   "source": [
    "np.mean(2/snp_lens)"
   ]
  },
  {
   "cell_type": "code",
   "execution_count": null,
   "id": "5aab3f32-e96f-424d-a736-4d208427dd7a",
   "metadata": {},
   "outputs": [],
   "source": []
  },
  {
   "cell_type": "code",
   "execution_count": null,
   "id": "7742625f-3807-4773-97ff-382406be828d",
   "metadata": {},
   "outputs": [],
   "source": []
  },
  {
   "cell_type": "markdown",
   "id": "4235061b-ece0-4691-9392-ed620278bb01",
   "metadata": {},
   "source": [
    "## Try all of them"
   ]
  },
  {
   "cell_type": "code",
   "execution_count": 136,
   "id": "df12de88-760c-4dae-a3d4-9e68fedcad4a",
   "metadata": {},
   "outputs": [],
   "source": [
    "both_df = (\n",
    "    pl.concat([\n",
    "        (trusty_cls_df\n",
    "            .filter(pl.col(\"class\") != \"CNCO\")\n",
    "            .filter(pl.col(\"sample_id\") == focal_sample_id)\n",
    "            .select([\"read_length\", \"snp_positions_on_read\", \"idx_transitions\", \"sample_id\", \"read_name\"])\n",
    "        ), \n",
    "        (all_sampled_reads\n",
    "            .select([\"read_length\", \"snp_positions_on_read\", \"idx_transitions\", \"sample_id\", \"read_name\"])\n",
    "        )\n",
    "    ])\n",
    ")"
   ]
  },
  {
   "cell_type": "code",
   "execution_count": 137,
   "id": "0d36bcda-159f-4c92-9906-5cc3824693a1",
   "metadata": {},
   "outputs": [],
   "source": [
    "gc_inputs = both_df.select([\"read_length\", \"snp_positions_on_read\", \"idx_transitions\"]).with_columns(weight=1).to_numpy().T"
   ]
  },
  {
   "cell_type": "code",
   "execution_count": 138,
   "id": "beb2a8b6-9b95-4218-8d8f-7e2d2ec0f8f1",
   "metadata": {},
   "outputs": [
    {
     "data": {
      "image/png": "[encoded data removed]",
      "text/plain": [
       "<Figure size 1200x400 with 3 Axes>"
      ]
     },
     "metadata": {},
     "output_type": "display_data"
    }
   ],
   "source": [
    "plot_tract_lengths(both_df)\n"
   ]
  },
  {
   "cell_type": "code",
   "execution_count": 139,
   "id": "bcfa9109-d6c7-4d40-be35-9cf3ea383cf7",
   "metadata": {},
   "outputs": [
    {
     "data": {
      "text/plain": [
       "array([9.99921414e-01, 6.73594083e-05, 1.12265680e-05])"
      ]
     },
     "execution_count": 139,
     "metadata": {},
     "output_type": "execute_result"
    }
   ],
   "source": [
    "np.histogram(\n",
    "    both_df.select(pl.col(\"idx_transitions\").list.len().alias(\"n_transitions\"))[\"n_transitions\"], \n",
    "    bins=np.arange(4), \n",
    "    density=True,\n",
    ")[0]"
   ]
  },
  {
   "cell_type": "code",
   "execution_count": 140,
   "id": "3bf3d181-853a-4664-b24c-37f65e3ec9d7",
   "metadata": {},
   "outputs": [
    {
     "data": {
      "text/html": [
       "<div><style>\n",
       ".dataframe > thead > tr,\n",
       ".dataframe > tbody > tr {\n",
       "  text-align: right;\n",
       "  white-space: pre-wrap;\n",
       "}\n",
       "</style>\n",
       "<small>shape: (3, 2)</small><table border=\"1\" class=\"dataframe\"><thead><tr><th>n_transitions</th><th>count</th></tr><tr><td>u32</td><td>u32</td></tr></thead><tbody><tr><td>0</td><td>3206427</td></tr><tr><td>2</td><td>36</td></tr><tr><td>1</td><td>216</td></tr></tbody></table></div>"
      ],
      "text/plain": [
       "shape: (3, 2)\n",
       "┌───────────────┬─────────┐\n",
       "│ n_transitions ┆ count   │\n",
       "│ ---           ┆ ---     │\n",
       "│ u32           ┆ u32     │\n",
       "╞═══════════════╪═════════╡\n",
       "│ 0             ┆ 3206427 │\n",
       "│ 2             ┆ 36      │\n",
       "│ 1             ┆ 216     │\n",
       "└───────────────┴─────────┘"
      ]
     },
     "execution_count": 140,
     "metadata": {},
     "output_type": "execute_result"
    }
   ],
   "source": [
    "both_df.select(pl.col(\"idx_transitions\").list.len().alias(\"n_transitions\"))[\"n_transitions\"].value_counts()"
   ]
  },
  {
   "cell_type": "code",
   "execution_count": null,
   "id": "0250b6a6-7640-4d5c-93ae-a28261579f1a",
   "metadata": {},
   "outputs": [],
   "source": []
  },
  {
   "cell_type": "code",
   "execution_count": 144,
   "id": "db15b5f7-1765-4af6-bba6-4923ccf49bf0",
   "metadata": {},
   "outputs": [
    {
     "name": "stderr",
     "output_type": "stream",
     "text": [
      "/nfs/treeoflife-01/teams/tola/users/rs42/git/sperm/src/inference.py:351: OptimizeWarning: Initial guess is not within the specified bounds\n",
      "  res = scipy.optimize.minimize(\n"
     ]
    },
    {
     "name": "stdout",
     "output_type": "stream",
     "text": [
      "Current:\t[1.05e-02 1.05e+01 1.00e-07]\n",
      "Current:\t[1.1e-02 1.1e+01 1.0e-07]\n",
      "Current:\t[1.1e-02 1.1e+01 1.0e-07]\n",
      "Current:\t[1.20000000e-02 1.18333333e+01 1.00000000e-07]\n",
      "Current:\t[1.25000000e-02 1.31666667e+01 1.00000000e-07]\n",
      "Current:\t[1.45000000e-02 1.33333333e+01 1.00000000e-07]\n",
      "Current:\t[1.70000000e-02 1.63333333e+01 1.00000000e-07]\n",
      "Current:\t[2.00000000e-02 1.91666667e+01 1.00000000e-07]\n",
      "Current:\t[2.65e-02 2.25e+01 1.00e-07]\n",
      "Current:\t[3.45000000e-02 3.13333333e+01 1.00000000e-07]\n",
      "Current:\t[4.70000000e-02 4.03333333e+01 1.00000000e-07]\n",
      "Current:\t[6.80000000e-02 5.58333333e+01 1.00000000e-07]\n",
      "Current:\t[7.31666667e-02 6.25000000e+01 1.00000000e-07]\n",
      "Current:\t[9.09444444e-02 7.44444444e+01 1.00000000e-07]\n",
      "Current:\t[9.09444444e-02 7.44444444e+01 1.00000000e-07]\n",
      "Current:\t[7.67777778e-02 6.34444444e+01 1.00000000e-07]\n",
      "Current:\t[7.67777778e-02 6.34444444e+01 1.00000000e-07]\n",
      "Current:\t[8.75586420e-02 7.22484568e+01 1.00000000e-07]\n",
      "Current:\t[8.6188786e-02 7.0993570e+01 1.0000000e-07]\n",
      "Current:\t[8.70538409e-02 7.08557956e+01 1.00000000e-07]\n",
      "Current:\t[8.70538409e-02 7.08557956e+01 1.00000000e-07]\n",
      "Current:\t[7.99811100e-02 6.47576446e+01 1.00000000e-07]\n",
      "Current:\t[7.97383592e-02 6.43521853e+01 1.00000000e-07]\n",
      "Current:\t[8.30617760e-02 6.51552402e+01 1.00000000e-07]\n",
      "Current:\t[8.30617760e-02 6.51552402e+01 1.00000000e-07]\n",
      "Current:\t[8.30617760e-02 6.51552402e+01 1.00000000e-07]\n",
      "Current:\t[8.19102080e-02 6.08725709e+01 1.00000000e-07]\n",
      "Current:\t[8.97060280e-02 6.53356005e+01 1.00000000e-07]\n",
      "Current:\t[9.37551155e-02 6.59292838e+01 1.00000000e-07]\n",
      "Current:\t[9.92477995e-02 6.18269747e+01 1.00000000e-07]\n",
      "Current:\t[9.92477995e-02 6.18269747e+01 1.00000000e-07]\n",
      "Current:\t[9.92477995e-02 6.18269747e+01 1.00000000e-07]\n",
      "Current:\t[1.16787828e-01 6.39070086e+01 1.00000000e-07]\n",
      "Current:\t[1.12914982e-01 5.50954416e+01 1.00000000e-07]\n",
      "Current:\t[1.12914982e-01 5.50954416e+01 1.00000000e-07]\n",
      "Current:\t[1.12914982e-01 5.50954416e+01 1.00000000e-07]\n",
      "Current:\t[1.15854000e-01 4.61406374e+01 1.00000000e-07]\n",
      "Current:\t[1.15854000e-01 4.61406374e+01 1.00000000e-07]\n",
      "Current:\t[1.15854000e-01 4.61406374e+01 1.00000000e-07]\n",
      "Current:\t[1.20781291e-01 4.23037175e+01 1.00000000e-07]\n",
      "Current:\t[1.20781291e-01 4.23037175e+01 1.00000000e-07]\n",
      "Current:\t[1.15189310e-01 4.50931238e+01 1.00000000e-07]\n",
      "Current:\t[1.19528584e-01 4.54801352e+01 1.00000000e-07]\n",
      "Current:\t[1.19528584e-01 4.54801352e+01 1.00000000e-07]\n",
      "Current:\t[1.19701204e-01 4.33214042e+01 1.00000000e-07]\n",
      "Current:\t[1.17657196e-01 4.44208207e+01 1.00000000e-07]\n",
      "Current:\t[1.17657196e-01 4.44208207e+01 1.00000000e-07]\n",
      "Current:\t[1.19333008e-01 4.46013940e+01 1.00000000e-07]\n",
      "Current:\t[1.19357952e-01 4.37353601e+01 1.00000000e-07]\n",
      "Current:\t[1.19418306e-01 4.38391292e+01 1.00000000e-07]\n",
      "Current:\t[1.18513476e-01 4.42397243e+01 1.00000000e-07]\n",
      "Current:\t[1.18513476e-01 4.42397243e+01 1.00000000e-07]\n",
      "Current:\t[1.18513476e-01 4.42397243e+01 1.00000000e-07]\n",
      "Current:\t[1.19146250e-01 4.40555762e+01 1.00000000e-07]\n",
      "Current:\t[1.19146250e-01 4.40555762e+01 1.00000000e-07]\n",
      "Current:\t[1.19146250e-01 4.40555762e+01 1.00000000e-07]\n",
      "Current:\t[1.18618669e-01 4.41473736e+01 1.00000000e-07]\n",
      "Current:\t[1.18618669e-01 4.41473736e+01 1.00000000e-07]\n",
      "Current:\t[1.18698842e-01 4.41404375e+01 1.00000000e-07]\n",
      "Current:\t[1.18749660e-01 4.40491707e+01 1.00000000e-07]\n",
      "Current:\t[1.18917653e-01 4.40839518e+01 1.00000000e-07]\n",
      "Current:\t[1.18917653e-01 4.40839518e+01 1.00000000e-07]\n",
      "Current:\t[1.18917653e-01 4.40839518e+01 1.00000000e-07]\n",
      "Current:\t[1.18917653e-01 4.40839518e+01 1.00000000e-07]\n",
      "Current:\t[1.18917653e-01 4.40839518e+01 1.00000000e-07]\n",
      "Current:\t[1.18869038e-01 4.41103354e+01 1.00000000e-07]\n",
      "Current:\t[1.18844962e-01 4.40972574e+01 1.00000000e-07]\n",
      "Current:\t[1.18844962e-01 4.40972574e+01 1.00000000e-07]\n",
      "Current:\t[1.18844962e-01 4.40972574e+01 1.00000000e-07]\n",
      "Current:\t[1.18845927e-01 4.40899784e+01 1.00000000e-07]\n",
      "Current:\t[1.18845927e-01 4.40899784e+01 1.00000000e-07]\n",
      "Current:\t[1.18868575e-01 4.40928640e+01 1.00000000e-07]\n",
      "Current:\t[1.18853356e-01 4.40941545e+01 1.00000000e-07]\n",
      "Current:\t[1.18853356e-01 4.40941545e+01 1.00000000e-07]\n",
      "Current:\t[1.18853844e-01 4.40913793e+01 1.00000000e-07]\n",
      "Current:\t[1.18862712e-01 4.40925747e+01 1.00000000e-07]\n",
      "Current:\t[1.18862712e-01 4.40925747e+01 1.00000000e-07]\n",
      "Current:\t[1.18862712e-01 4.40925747e+01 1.00000000e-07]\n",
      "Current:\t[1.18862312e-01 4.40936634e+01 1.00000000e-07]\n",
      "Current:\t[1.18862312e-01 4.40936634e+01 1.00000000e-07]\n",
      "Current:\t[1.18857583e-01 4.40935403e+01 1.00000000e-07]\n",
      "Current:\t[1.18857583e-01 4.40935403e+01 1.00000000e-07]\n",
      "Current:\t[1.18857956e-01 4.40933574e+01 1.00000000e-07]\n",
      "Current:\t[1.18857956e-01 4.40933574e+01 1.00000000e-07]\n",
      "Current:\t[1.18857956e-01 4.40933574e+01 1.00000000e-07]\n",
      "Current:\t[1.18857956e-01 4.40933574e+01 1.00000000e-07]\n",
      "Current:\t[1.18857956e-01 4.40933574e+01 1.00000000e-07]\n",
      "Current:\t[1.18857956e-01 4.40933574e+01 1.00000000e-07]\n",
      "Current:\t[1.18857956e-01 4.40933574e+01 1.00000000e-07]\n",
      "Current:\t[1.18857956e-01 4.40933574e+01 1.00000000e-07]\n",
      "Current:\t[1.18857956e-01 4.40933574e+01 1.00000000e-07]\n",
      "CPU times: user 6min 51s, sys: 2.99 s, total: 6min 54s\n",
      "Wall time: 6min 53s\n"
     ]
    },
    {
     "data": {
      "text/plain": [
       "       message: Optimization terminated successfully.\n",
       "       success: True\n",
       "        status: 0\n",
       "           fun: 3125.787864774684\n",
       "             x: [ 1.189e-01  4.409e+01  1.000e-07]\n",
       "           nit: 91\n",
       "          nfev: 173\n",
       " final_simplex: (array([[ 1.189e-01,  4.409e+01,  1.000e-07],\n",
       "                       [ 1.189e-01,  4.409e+01,  1.000e-07],\n",
       "                       [ 1.189e-01,  4.409e+01,  1.000e-07],\n",
       "                       [ 1.189e-01,  4.409e+01,  1.000e-07]]), array([ 3.126e+03,  3.126e+03,  3.126e+03,  3.126e+03]))"
      ]
     },
     "execution_count": 144,
     "metadata": {},
     "output_type": "execute_result"
    }
   ],
   "source": [
    "%%time\n",
    "read_length_list, snp_positions_on_read_list, idx_transitions_list, weights_list = gc_inputs\n",
    "\n",
    "inference.maximum_likelihood_all_reads(\n",
    "    read_length_list,\n",
    "    snp_positions_on_read_list,\n",
    "    idx_transitions_list,\n",
    "    weights_list,\n",
    "    [0, 1],\n",
    "    [1, 10000],\n",
    "    [1e-7, 1e-7],\n",
    ")"
   ]
  },
  {
   "cell_type": "markdown",
   "id": "8ef8395e-85cd-4f31-bb54-7b91f6c416ac",
   "metadata": {},
   "source": [
    "## Try using only reads with many SNPS"
   ]
  },
  {
   "cell_type": "code",
   "execution_count": 145,
   "id": "56673f73-565d-4e9e-9849-63884a5b915a",
   "metadata": {},
   "outputs": [],
   "source": [
    "#gc_inputs = trusty_cls_df.filter(pl.col(\"class\") == \"GC\").select([\"read_length\", \"snp_positions_on_read\", \"idx_transitions\"]).to_numpy()\n",
    "\n",
    "candidates_inputs = (trusty_cls_df\n",
    "    .filter(pl.col(\"class\") != \"CNCO\")\n",
    "    .filter(pl.col(\"sample_id\") == focal_sample_id)\n",
    "    .filter(pl.col(\"snp_positions_on_read\").list.len() >= 5)\n",
    "    .select([\"read_length\", \"snp_positions_on_read\", \"idx_transitions\"])\n",
    "    .with_columns(weight=1)\n",
    "    .to_numpy()\n",
    ")\n",
    "\n",
    "non_candidates_input = (all_sampled_reads\n",
    "    .filter(pl.col(\"snp_positions_on_read\").list.len() >= 5)\n",
    "    .select([\"read_length\", \"snp_positions_on_read\", \"idx_transitions\"])\n",
    "    .with_columns(weight=1)\n",
    "    .to_numpy()\n",
    ")\n",
    "\n",
    "gc_inputs = np.concatenate([candidates_inputs, non_candidates_input])\n"
   ]
  },
  {
   "cell_type": "code",
   "execution_count": 148,
   "id": "81ee2fef-c082-408a-88db-083fc75a6197",
   "metadata": {},
   "outputs": [
    {
     "name": "stderr",
     "output_type": "stream",
     "text": [
      "/nfs/treeoflife-01/teams/tola/users/rs42/git/sperm/src/inference.py:351: OptimizeWarning: Initial guess is not within the specified bounds\n",
      "  res = scipy.optimize.minimize(\n"
     ]
    },
    {
     "name": "stdout",
     "output_type": "stream",
     "text": [
      "Current:\t[1.05e-02 1.05e+01 1.00e-07]\n",
      "Current:\t[1.1e-02 1.1e+01 1.0e-07]\n",
      "Current:\t[1.1e-02 1.1e+01 1.0e-07]\n",
      "Current:\t[1.20000000e-02 1.18333333e+01 1.00000000e-07]\n",
      "Current:\t[1.25000000e-02 1.31666667e+01 1.00000000e-07]\n",
      "Current:\t[1.45000000e-02 1.33333333e+01 1.00000000e-07]\n",
      "Current:\t[1.70000000e-02 1.63333333e+01 1.00000000e-07]\n",
      "Current:\t[2.00000000e-02 1.91666667e+01 1.00000000e-07]\n",
      "Current:\t[2.65e-02 2.25e+01 1.00e-07]\n",
      "Current:\t[3.45000000e-02 3.13333333e+01 1.00000000e-07]\n",
      "Current:\t[4.70000000e-02 4.03333333e+01 1.00000000e-07]\n",
      "Current:\t[6.80000000e-02 5.58333333e+01 1.00000000e-07]\n",
      "Current:\t[7.31666667e-02 6.25000000e+01 1.00000000e-07]\n",
      "Current:\t[9.09444444e-02 7.44444444e+01 1.00000000e-07]\n",
      "Current:\t[9.09444444e-02 7.44444444e+01 1.00000000e-07]\n",
      "Current:\t[7.67777778e-02 6.34444444e+01 1.00000000e-07]\n",
      "Current:\t[7.67777778e-02 6.34444444e+01 1.00000000e-07]\n",
      "Current:\t[8.75586420e-02 7.22484568e+01 1.00000000e-07]\n",
      "Current:\t[8.6188786e-02 7.0993570e+01 1.0000000e-07]\n",
      "Current:\t[8.70538409e-02 7.08557956e+01 1.00000000e-07]\n",
      "Current:\t[8.70538409e-02 7.08557956e+01 1.00000000e-07]\n",
      "Current:\t[7.99811100e-02 6.47576446e+01 1.00000000e-07]\n",
      "Current:\t[7.97383592e-02 6.43521853e+01 1.00000000e-07]\n",
      "Current:\t[8.30617760e-02 6.51552402e+01 1.00000000e-07]\n",
      "Current:\t[8.30617760e-02 6.51552402e+01 1.00000000e-07]\n",
      "Current:\t[8.30617760e-02 6.51552402e+01 1.00000000e-07]\n",
      "Current:\t[8.19102080e-02 6.08725709e+01 1.00000000e-07]\n",
      "Current:\t[8.97060280e-02 6.53356005e+01 1.00000000e-07]\n",
      "Current:\t[9.37551155e-02 6.59292838e+01 1.00000000e-07]\n",
      "Current:\t[9.92477995e-02 6.18269747e+01 1.00000000e-07]\n",
      "Current:\t[9.92477995e-02 6.18269747e+01 1.00000000e-07]\n",
      "Current:\t[9.92477995e-02 6.18269747e+01 1.00000000e-07]\n",
      "Current:\t[1.16787828e-01 6.39070086e+01 1.00000000e-07]\n",
      "Current:\t[1.12914982e-01 5.50954416e+01 1.00000000e-07]\n",
      "Current:\t[1.12914982e-01 5.50954416e+01 1.00000000e-07]\n",
      "Current:\t[1.12914982e-01 5.50954416e+01 1.00000000e-07]\n",
      "Current:\t[1.15854000e-01 4.61406374e+01 1.00000000e-07]\n",
      "Current:\t[1.15854000e-01 4.61406374e+01 1.00000000e-07]\n",
      "Current:\t[1.15854000e-01 4.61406374e+01 1.00000000e-07]\n",
      "Current:\t[1.15854000e-01 4.61406374e+01 1.00000000e-07]\n",
      "Current:\t[1.15854000e-01 4.61406374e+01 1.00000000e-07]\n",
      "Current:\t[1.15854000e-01 4.61406374e+01 1.00000000e-07]\n",
      "Current:\t[1.15854000e-01 4.61406374e+01 1.00000000e-07]\n",
      "Current:\t[1.15854000e-01 4.61406374e+01 1.00000000e-07]\n",
      "Current:\t[1.15854000e-01 4.61406374e+01 1.00000000e-07]\n",
      "Current:\t[1.16477413e-01 4.48369911e+01 1.00000000e-07]\n",
      "Current:\t[1.16477413e-01 4.48369911e+01 1.00000000e-07]\n",
      "Current:\t[1.14875026e-01 4.54378668e+01 1.00000000e-07]\n",
      "Current:\t[1.16073580e-01 4.48386575e+01 1.00000000e-07]\n",
      "Current:\t[1.16228697e-01 4.52904666e+01 1.00000000e-07]\n",
      "Current:\t[1.15349945e-01 4.53649999e+01 1.00000000e-07]\n",
      "Current:\t[1.15379550e-01 4.53012874e+01 1.00000000e-07]\n",
      "Current:\t[1.15379550e-01 4.53012874e+01 1.00000000e-07]\n",
      "Current:\t[1.15379550e-01 4.53012874e+01 1.00000000e-07]\n",
      "Current:\t[1.15528722e-01 4.52907479e+01 1.00000000e-07]\n",
      "Current:\t[1.15528722e-01 4.52907479e+01 1.00000000e-07]\n",
      "Current:\t[1.15633150e-01 4.51677002e+01 1.00000000e-07]\n",
      "Current:\t[1.15633150e-01 4.51677002e+01 1.00000000e-07]\n",
      "Current:\t[1.15633150e-01 4.51677002e+01 1.00000000e-07]\n",
      "Current:\t[1.15633150e-01 4.51677002e+01 1.00000000e-07]\n",
      "Current:\t[1.15633150e-01 4.51677002e+01 1.00000000e-07]\n",
      "Current:\t[1.15562565e-01 4.51906122e+01 1.00000000e-07]\n",
      "Current:\t[1.15583373e-01 4.51509564e+01 1.00000000e-07]\n",
      "Current:\t[1.15555068e-01 4.51742712e+01 1.00000000e-07]\n",
      "Current:\t[1.15600076e-01 4.51698234e+01 1.00000000e-07]\n",
      "Current:\t[1.15571035e-01 4.51778146e+01 1.00000000e-07]\n",
      "Current:\t[1.15579383e-01 4.51624631e+01 1.00000000e-07]\n",
      "Current:\t[1.15569283e-01 4.51721525e+01 1.00000000e-07]\n",
      "Current:\t[1.15586655e-01 4.51703167e+01 1.00000000e-07]\n",
      "Current:\t[1.15586655e-01 4.51703167e+01 1.00000000e-07]\n",
      "Current:\t[1.15578138e-01 4.51671535e+01 1.00000000e-07]\n",
      "Current:\t[1.15585124e-01 4.51691902e+01 1.00000000e-07]\n",
      "Current:\t[1.15579022e-01 4.51709748e+01 1.00000000e-07]\n",
      "Current:\t[1.15579022e-01 4.51709748e+01 1.00000000e-07]\n",
      "Current:\t[1.15579022e-01 4.51709748e+01 1.00000000e-07]\n",
      "Current:\t[1.15579022e-01 4.51709748e+01 1.00000000e-07]\n",
      "Current:\t[1.15581245e-01 4.51698283e+01 1.00000000e-07]\n",
      "Current:\t[1.15579725e-01 4.51694627e+01 1.00000000e-07]\n",
      "Current:\t[1.15579725e-01 4.51694627e+01 1.00000000e-07]\n",
      "Current:\t[1.15579418e-01 4.51704020e+01 1.00000000e-07]\n",
      "Current:\t[1.15579301e-01 4.51700472e+01 1.00000000e-07]\n",
      "Current:\t[1.15580363e-01 4.51698995e+01 1.00000000e-07]\n",
      "Current:\t[1.15580363e-01 4.51698995e+01 1.00000000e-07]\n",
      "Current:\t[1.15579605e-01 4.51701570e+01 1.00000000e-07]\n",
      "Current:\t[1.15579605e-01 4.51701570e+01 1.00000000e-07]\n",
      "Current:\t[1.15580000e-01 4.51702468e+01 1.00000000e-07]\n",
      "Current:\t[1.15580048e-01 4.51700167e+01 1.00000000e-07]\n",
      "Current:\t[1.15580028e-01 4.51702113e+01 1.00000000e-07]\n",
      "Current:\t[1.15579815e-01 4.51701576e+01 1.00000000e-07]\n",
      "Current:\t[1.15579928e-01 4.51700103e+01 1.00000000e-07]\n",
      "Current:\t[1.15579928e-01 4.51700103e+01 1.00000000e-07]\n",
      "Current:\t[1.15579928e-01 4.51700103e+01 1.00000000e-07]\n",
      "Current:\t[1.15579939e-01 4.51701127e+01 1.00000000e-07]\n",
      "Current:\t[1.15579939e-01 4.51701127e+01 1.00000000e-07]\n",
      "Current:\t[1.15579939e-01 4.51701127e+01 1.00000000e-07]\n",
      "Current:\t[1.15579963e-01 4.51700921e+01 1.00000000e-07]\n",
      "Current:\t[1.15579963e-01 4.51700921e+01 1.00000000e-07]\n",
      "CPU times: user 5min 5s, sys: 1.97 s, total: 5min 7s\n",
      "Wall time: 5min 6s\n"
     ]
    },
    {
     "data": {
      "text/plain": [
       "       message: Optimization terminated successfully.\n",
       "       success: True\n",
       "        status: 0\n",
       "           fun: 2500.7718882817894\n",
       "             x: [ 1.156e-01  4.517e+01  1.000e-07]\n",
       "           nit: 97\n",
       "          nfev: 186\n",
       " final_simplex: (array([[ 1.156e-01,  4.517e+01,  1.000e-07],\n",
       "                       [ 1.156e-01,  4.517e+01,  1.000e-07],\n",
       "                       [ 1.156e-01,  4.517e+01,  1.000e-07],\n",
       "                       [ 1.156e-01,  4.517e+01,  1.000e-07]]), array([ 2.501e+03,  2.501e+03,  2.501e+03,  2.501e+03]))"
      ]
     },
     "execution_count": 148,
     "metadata": {},
     "output_type": "execute_result"
    }
   ],
   "source": [
    "%%time\n",
    "read_length_list, snp_positions_on_read_list, idx_transitions_list, weights_list = gc_inputs.T\n",
    "\n",
    "inference.maximum_likelihood_all_reads(\n",
    "    read_length_list,\n",
    "    snp_positions_on_read_list,\n",
    "    idx_transitions_list,\n",
    "    weights_list,\n",
    "    [0, 1],\n",
    "    [1, 10000],\n",
    "    [1e-7, 1e-7],\n",
    ")"
   ]
  },
  {
   "cell_type": "code",
   "execution_count": 162,
   "id": "58ed2b64-a09c-43bd-94c1-c5901343a02b",
   "metadata": {},
   "outputs": [
    {
     "data": {
      "text/plain": [
       "array([0.        , 0.88636364, 0.11363636])"
      ]
     },
     "execution_count": 162,
     "metadata": {},
     "output_type": "execute_result"
    }
   ],
   "source": [
    "np.histogram(\n",
    "    (trusty_cls_df\n",
    "        .filter(pl.col(\"class\") != \"CNCO\")\n",
    "        .filter(pl.col(\"sample_id\") == focal_sample_id)\n",
    "        .filter(pl.col(\"snp_positions_on_read\").list.len() >= 20)\n",
    "        .select(pl.col(\"idx_transitions\").list.len())\n",
    "    ),\n",
    "    bins=np.arange(4),\n",
    "    density=True,\n",
    ")[0]"
   ]
  },
  {
   "cell_type": "code",
   "execution_count": null,
   "id": "495d4acb-ad3f-46c5-85ad-f7ff1f35c74a",
   "metadata": {},
   "outputs": [],
   "source": []
  },
  {
   "cell_type": "markdown",
   "id": "28a5c158-6c8d-48a1-98c2-1a52b06da1e7",
   "metadata": {
    "tags": []
   },
   "source": [
    "## Try with cutting the 5% longest GC-s\n"
   ]
  },
  {
   "cell_type": "code",
   "execution_count": 163,
   "id": "4ba604c1-e6f6-4216-bace-3bc5824c0d7b",
   "metadata": {},
   "outputs": [],
   "source": [
    "#gc_inputs = trusty_cls_df.filter(pl.col(\"class\") == \"GC\").select([\"read_length\", \"snp_positions_on_read\", \"idx_transitions\"]).to_numpy()\n",
    "\n",
    "candidates_inputs = (trusty_cls_df\n",
    "    .filter(pl.col(\"class\") != \"CNCO\")\n",
    "    .filter(pl.col(\"sample_id\") == focal_sample_id)\n",
    "    .filter(\n",
    "        pl.when(pl.col(\"class\") != \"GC\").then(pl.lit(True)).otherwise(\n",
    "            (pl.col(\"snp_positions_on_read\").list.get(pl.col(\"idx_transitions\").list.get(1)+1) - \\\n",
    "             pl.col(\"snp_positions_on_read\").list.get(pl.col(\"idx_transitions\").list.get(0))) < 6700\n",
    "        )\n",
    "    )         \n",
    "    .select([\"read_length\", \"snp_positions_on_read\", \"idx_transitions\"])\n",
    "    .with_columns(weight=1)\n",
    "    .to_numpy()\n",
    ")\n",
    "\n",
    "non_candidates_input = (all_sampled_reads\n",
    "    .select([\"read_length\", \"snp_positions_on_read\", \"idx_transitions\"])\n",
    "    .with_columns(weight=1)\n",
    "    .to_numpy()\n",
    ")\n",
    "\n",
    "gc_inputs = np.concatenate([candidates_inputs, non_candidates_input])\n"
   ]
  },
  {
   "cell_type": "code",
   "execution_count": 164,
   "id": "ef60fdde-7672-49c3-b475-416d44496bdc",
   "metadata": {},
   "outputs": [
    {
     "name": "stderr",
     "output_type": "stream",
     "text": [
      "/nfs/treeoflife-01/teams/tola/users/rs42/git/sperm/src/inference.py:351: OptimizeWarning: Initial guess is not within the specified bounds\n",
      "  res = scipy.optimize.minimize(\n"
     ]
    },
    {
     "name": "stdout",
     "output_type": "stream",
     "text": [
      "Current:\t[1.05e-02 1.00e+01 1.00e-07]\n",
      "Current:\t[1.08333333e-02 1.08333333e+01 1.00000000e-07]\n",
      "Current:\t[1.16666667e-02 1.01666667e+01 1.00000000e-07]\n",
      "Current:\t[1.23333333e-02 1.03333333e+01 1.00000000e-07]\n",
      "Current:\t[1.38333333e-02 1.13333333e+01 1.00000000e-07]\n",
      "Current:\t[1.61666667e-02 1.01666667e+01 1.00000000e-07]\n",
      "Current:\t[1.90e-02 1.15e+01 1.00e-07]\n",
      "Current:\t[2.43333333e-02 1.23333333e+01 1.00000000e-07]\n",
      "Current:\t[3.18333333e-02 1.13333333e+01 1.00000000e-07]\n",
      "Current:\t[4.28333333e-02 1.48333333e+01 1.00000000e-07]\n",
      "Current:\t[6.10e-02 1.55e+01 1.00e-07]\n",
      "Current:\t[8.7e-02 1.7e+01 1.0e-07]\n",
      "Current:\t[1.27166667e-01 2.46666667e+01 1.00000000e-07]\n",
      "Current:\t[1.27166667e-01 2.46666667e+01 1.00000000e-07]\n",
      "Current:\t[1.27166667e-01 2.46666667e+01 1.00000000e-07]\n",
      "Current:\t[1.27166667e-01 2.46666667e+01 1.00000000e-07]\n",
      "Current:\t[1.27166667e-01 2.46666667e+01 1.00000000e-07]\n",
      "Current:\t[1.27166667e-01 2.46666667e+01 1.00000000e-07]\n",
      "Current:\t[1.27166667e-01 2.46666667e+01 1.00000000e-07]\n",
      "Current:\t[1.22943287e-01 2.29432870e+01 1.00000000e-07]\n",
      "Current:\t[1.24023920e-01 2.51720679e+01 1.00000000e-07]\n",
      "Current:\t[1.24023920e-01 2.51720679e+01 1.00000000e-07]\n",
      "Current:\t[1.24562264e-01 2.43719350e+01 1.00000000e-07]\n",
      "Current:\t[1.22274638e-01 2.53584855e+01 1.00000000e-07]\n",
      "Current:\t[1.21263326e-01 2.45418756e+01 1.00000000e-07]\n",
      "Current:\t[1.21263326e-01 2.45418756e+01 1.00000000e-07]\n",
      "Current:\t[1.23100165e-01 2.45598271e+01 1.00000000e-07]\n",
      "Current:\t[1.23100165e-01 2.45598271e+01 1.00000000e-07]\n",
      "Current:\t[1.23100165e-01 2.45598271e+01 1.00000000e-07]\n",
      "Current:\t[1.22847566e-01 2.47231457e+01 1.00000000e-07]\n",
      "Current:\t[1.22809073e-01 2.44356637e+01 1.00000000e-07]\n",
      "Current:\t[1.22341645e-01 2.45406131e+01 1.00000000e-07]\n",
      "Current:\t[1.22341645e-01 2.45406131e+01 1.00000000e-07]\n",
      "Current:\t[1.22341645e-01 2.45406131e+01 1.00000000e-07]\n",
      "Current:\t[1.22341645e-01 2.45406131e+01 1.00000000e-07]\n",
      "Current:\t[1.22341645e-01 2.45406131e+01 1.00000000e-07]\n",
      "Current:\t[1.22361862e-01 2.45577861e+01 1.00000000e-07]\n",
      "Current:\t[1.22509222e-01 2.45331082e+01 1.00000000e-07]\n",
      "Current:\t[1.22509222e-01 2.45331082e+01 1.00000000e-07]\n",
      "Current:\t[1.22509222e-01 2.45331082e+01 1.00000000e-07]\n",
      "Current:\t[1.22509222e-01 2.45331082e+01 1.00000000e-07]\n",
      "Current:\t[1.22429751e-01 2.45443503e+01 1.00000000e-07]\n",
      "Current:\t[1.22451467e-01 2.45263548e+01 1.00000000e-07]\n",
      "Current:\t[1.22451467e-01 2.45263548e+01 1.00000000e-07]\n",
      "Current:\t[1.22476321e-01 2.45358002e+01 1.00000000e-07]\n",
      "Current:\t[1.22476321e-01 2.45358002e+01 1.00000000e-07]\n",
      "Current:\t[1.22458077e-01 2.45379597e+01 1.00000000e-07]\n",
      "Current:\t[1.22458077e-01 2.45379597e+01 1.00000000e-07]\n",
      "Current:\t[1.22458077e-01 2.45379597e+01 1.00000000e-07]\n",
      "Current:\t[1.22467291e-01 2.45357313e+01 1.00000000e-07]\n",
      "Current:\t[1.22460476e-01 2.45340149e+01 1.00000000e-07]\n",
      "Current:\t[1.22460476e-01 2.45340149e+01 1.00000000e-07]\n",
      "Current:\t[1.22461596e-01 2.45361812e+01 1.00000000e-07]\n",
      "Current:\t[1.22461596e-01 2.45361812e+01 1.00000000e-07]\n",
      "Current:\t[1.22464140e-01 2.45356038e+01 1.00000000e-07]\n",
      "Current:\t[1.22464140e-01 2.45356038e+01 1.00000000e-07]\n",
      "Current:\t[1.22464140e-01 2.45356038e+01 1.00000000e-07]\n",
      "Current:\t[1.22464140e-01 2.45356038e+01 1.00000000e-07]\n",
      "Current:\t[1.22464140e-01 2.45356038e+01 1.00000000e-07]\n",
      "Current:\t[1.22464140e-01 2.45356038e+01 1.00000000e-07]\n",
      "Current:\t[1.22463571e-01 2.45354958e+01 1.00000000e-07]\n",
      "Current:\t[1.22463571e-01 2.45354958e+01 1.00000000e-07]\n",
      "Current:\t[1.22463571e-01 2.45354958e+01 1.00000000e-07]\n",
      "Current:\t[1.22463571e-01 2.45354958e+01 1.00000000e-07]\n",
      "Current:\t[1.22463571e-01 2.45354958e+01 1.00000000e-07]\n",
      "Current:\t[1.22463588e-01 2.45354859e+01 1.00000000e-07]\n",
      "Current:\t[1.22463588e-01 2.45354859e+01 1.00000000e-07]\n",
      "Current:\t[1.22463588e-01 2.45354859e+01 1.00000000e-07]\n",
      "CPU times: user 5min 38s, sys: 2.26 s, total: 5min 41s\n",
      "Wall time: 5min 40s\n"
     ]
    },
    {
     "data": {
      "text/plain": [
       "       message: Optimization terminated successfully.\n",
       "       success: True\n",
       "        status: 0\n",
       "           fun: 3025.8317143750583\n",
       "             x: [ 1.225e-01  2.454e+01  1.000e-07]\n",
       "           nit: 68\n",
       "          nfev: 142\n",
       " final_simplex: (array([[ 1.225e-01,  2.454e+01,  1.000e-07],\n",
       "                       [ 1.225e-01,  2.454e+01,  1.000e-07],\n",
       "                       [ 1.225e-01,  2.454e+01,  1.000e-07],\n",
       "                       [ 1.225e-01,  2.454e+01,  1.000e-07]]), array([ 3.026e+03,  3.026e+03,  3.026e+03,  3.026e+03]))"
      ]
     },
     "execution_count": 164,
     "metadata": {},
     "output_type": "execute_result"
    }
   ],
   "source": [
    "%%time\n",
    "read_length_list, snp_positions_on_read_list, idx_transitions_list, weights_list = gc_inputs.T\n",
    "\n",
    "inference.maximum_likelihood_all_reads(\n",
    "    read_length_list,\n",
    "    snp_positions_on_read_list,\n",
    "    idx_transitions_list,\n",
    "    weights_list,\n",
    "    [0, 1],\n",
    "    [1, 10000],\n",
    "    [1e-7, 1e-7],\n",
    ")"
   ]
  },
  {
   "cell_type": "code",
   "execution_count": null,
   "id": "d1abb1db-4779-4751-a1e2-a01f5540531b",
   "metadata": {},
   "outputs": [],
   "source": []
  },
  {
   "cell_type": "markdown",
   "id": "3dcf5aac-55da-4492-adc3-d275c799bbba",
   "metadata": {},
   "source": [
    "# Simulate and test"
   ]
  },
  {
   "cell_type": "code",
   "execution_count": 21,
   "id": "afb0170b-9e2c-4f86-b63d-d6bab9b728ea",
   "metadata": {},
   "outputs": [
    {
     "data": {
      "text/plain": [
       "array([array([ 2385,  2623,  4256, 16361, 16461]), array([ 4247, 12916]),\n",
       "       array([ 4864,  6928,  7597, 11405, 11866, 12372]), ...,\n",
       "       array([2155]), array([1876, 2023, 2052, 2116, 2297]),\n",
       "       array([1831, 3106, 3215, 3769, 3997, 4111, 4976, 5091, 6208])],\n",
       "      dtype=object)"
      ]
     },
     "execution_count": 21,
     "metadata": {},
     "output_type": "execute_result"
    }
   ],
   "source": [
    "gc_inputs.T[1]"
   ]
  },
  {
   "cell_type": "code",
   "execution_count": 22,
   "id": "a214d551-add0-4207-b20c-b9baed007192",
   "metadata": {},
   "outputs": [
    {
     "name": "stdout",
     "output_type": "stream",
     "text": [
      "Candidate reads: 239\n",
      "CPU times: user 7.82 s, sys: 239 ms, total: 8.06 s\n",
      "Wall time: 8.06 s\n"
     ]
    }
   ],
   "source": [
    "%%time\n",
    "# test_n_reads = 100000\n",
    "\n",
    "# test_read_length = 10000\n",
    "# test_snp_positions = np.arange(0, test_read_length, 2000)[1:].astype(int)\n",
    "# read_length_list = np.ones(test_n_reads) * test_read_length\n",
    "# snp_positions_on_read_list = [test_snp_positions]*test_n_reads\n",
    "# weights_list = np.ones(test_n_reads)\n",
    "\n",
    "read_length_list, snp_positions_on_read_list, _, _ = gc_inputs.T\n",
    "read_length_list = read_length_list * 10\n",
    "snp_positions_on_read_list = snp_positions_on_read_list * 10\n",
    "test_n_reads = len(read_length_list)\n",
    "weights_list = np.ones(test_n_reads)\n",
    "\n",
    "test_prob_CO = 0.1\n",
    "test_tract_length = 200\n",
    "test_prob_recomb = 1e-7\n",
    "\n",
    "#test_trans = [inference.simulate_read_pattern(test_read_length, test_snp_positions, test_prob_CO, test_tract_length, test_prob_recomb) for i in range(test_n_reads)]\n",
    "test_trans = [inference.simulate_read_pattern(read_length_list[i], snp_positions_on_read_list[i], test_prob_CO, test_tract_length, test_prob_recomb) for i in range(test_n_reads)]\n",
    "\n",
    "idx_transitions_list = test_trans\n",
    "\n",
    "print(\"Candidate reads:\", np.sum([len(x)>0 for x in test_trans]))"
   ]
  },
  {
   "cell_type": "code",
   "execution_count": 23,
   "id": "50194e1f-7c52-4089-9dc1-852335a4b91d",
   "metadata": {},
   "outputs": [
    {
     "name": "stderr",
     "output_type": "stream",
     "text": [
      "/nfs/treeoflife-01/teams/tola/users/rs42/git/sperm/src/inference.py:255: OptimizeWarning: Initial guess is not within the specified bounds\n",
      "  res = scipy.optimize.minimize(\n"
     ]
    },
    {
     "name": "stdout",
     "output_type": "stream",
     "text": [
      "CPU times: user 52.6 s, sys: 0 ns, total: 52.6 s\n",
      "Wall time: 52.6 s\n"
     ]
    },
    {
     "data": {
      "text/plain": [
       "       message: Optimization terminated successfully.\n",
       "       success: True\n",
       "        status: 0\n",
       "           fun: 2429.722807825813\n",
       "             x: [ 9.837e-02  1.910e+02  1.000e-07]\n",
       "           nit: 103\n",
       "          nfev: 206\n",
       " final_simplex: (array([[ 9.837e-02,  1.910e+02,  1.000e-07],\n",
       "                       [ 9.837e-02,  1.910e+02,  1.000e-07],\n",
       "                       [ 9.837e-02,  1.910e+02,  1.000e-07],\n",
       "                       [ 9.837e-02,  1.910e+02,  1.000e-07]]), array([ 2.430e+03,  2.430e+03,  2.430e+03,  2.430e+03]))"
      ]
     },
     "execution_count": 23,
     "metadata": {},
     "output_type": "execute_result"
    }
   ],
   "source": [
    "%%time\n",
    "\n",
    "inference.maximum_likelihood_all_reads(\n",
    "    read_length_list,\n",
    "    snp_positions_on_read_list,\n",
    "    idx_transitions_list,\n",
    "    weights_list,\n",
    "    [0, 1],\n",
    "    [1, 10000],\n",
    "    [test_prob_recomb, test_prob_recomb],\n",
    ")\n"
   ]
  },
  {
   "cell_type": "code",
   "execution_count": null,
   "id": "256d4c8f-0b11-4ec2-a3f4-3eaa54962c2f",
   "metadata": {},
   "outputs": [],
   "source": []
  },
  {
   "cell_type": "code",
   "execution_count": null,
   "id": "20865c53-a6e3-4418-976b-0cacc83dc696",
   "metadata": {},
   "outputs": [],
   "source": []
  }
 ],
 "metadata": {
  "kernelspec": {
   "display_name": "sperm",
   "language": "python",
   "name": "sperm"
  },
  "language_info": {
   "codemirror_mode": {
    "name": "ipython",
    "version": 3
   },
   "file_extension": ".py",
   "mimetype": "text/x-python",
   "name": "python",
   "nbconvert_exporter": "python",
   "pygments_lexer": "ipython3",
   "version": "3.11.6"
  }
 },
 "nbformat": 4,
 "nbformat_minor": 5
}
