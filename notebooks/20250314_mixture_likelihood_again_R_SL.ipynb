{
 "cells": [
  {
   "cell_type": "code",
   "execution_count": 1,
   "id": "250c2dfd-5d39-44ae-86dc-4c8295b45388",
   "metadata": {
    "tags": []
   },
   "outputs": [],
   "source": [
    "%load_ext autoreload\n",
    "%autoreload 2"
   ]
  },
  {
   "cell_type": "code",
   "execution_count": 2,
   "id": "8a25c75b-fb14-46da-ba84-00b35e68ffc2",
   "metadata": {
    "tags": []
   },
   "outputs": [],
   "source": [
    "import numpy as np\n",
    "import pandas as pd\n",
    "import matplotlib.pyplot as plt\n",
    "plt.rcParams['pdf.use14corefonts'] = True\n",
    "\n",
    "import numba\n",
    "import numba.typed\n",
    "\n",
    "from pathlib import Path\n",
    "import tqdm\n",
    "import sys\n",
    "import seaborn as sns\n",
    "import scipy.stats\n",
    "import os\n",
    "import joblib\n",
    "import io\n",
    "import itertools\n",
    "import warnings\n",
    "\n",
    "from brokenaxes import brokenaxes\n",
    "\n",
    "\n",
    "import polars as pl\n",
    "pl.Config.set_tbl_rows(100);\n",
    "pl.Config.set_fmt_str_lengths(50);\n"
   ]
  },
  {
   "cell_type": "code",
   "execution_count": 3,
   "id": "05a65a95-e51a-49b7-9a8f-5ea35c523595",
   "metadata": {
    "tags": []
   },
   "outputs": [],
   "source": [
    "sys.path.append(str(Path(os.getcwd()).parent))\n",
    "from src import liftover, annotate, diagnostics, inference\n",
    "from src.IDs import *\n"
   ]
  },
  {
   "cell_type": "markdown",
   "id": "40286606-1d91-41e0-b88e-55a7abfb5843",
   "metadata": {},
   "source": [
    "# Create callset to infer from"
   ]
  },
  {
   "cell_type": "code",
   "execution_count": 4,
   "id": "06431627-38c4-4e76-b28d-64433b8ef5df",
   "metadata": {
    "tags": []
   },
   "outputs": [],
   "source": [
    "rahbari_df = pl.read_csv(\"/nfs/users/nfs_r/rs42/rs42/git/sperm/configs/Rahbari.tsv\", separator='\\t')"
   ]
  },
  {
   "cell_type": "code",
   "execution_count": 5,
   "id": "e0ef7267-17e0-4504-aef6-8cf4749853dc",
   "metadata": {
    "tags": []
   },
   "outputs": [],
   "source": [
    "sudmant_df = (\n",
    "    pl.read_csv(\"/nfs/users/nfs_r/rs42/rs42/git/sperm/configs/Sudmant.tsv\", separator='\\t')\n",
    "    .with_columns(\n",
    "        pl.col(\"sample_set\").cast(pl.String),\n",
    "        pl.col(\"sample_id\").cast(pl.String),\n",
    "    )\n",
    ")"
   ]
  },
  {
   "cell_type": "code",
   "execution_count": 6,
   "id": "8a5654a5-0536-4036-a97c-86e76ca359b5",
   "metadata": {
    "tags": []
   },
   "outputs": [
    {
     "name": "stderr",
     "output_type": "stream",
     "text": [
      "9it [00:00, 328.80it/s]\n",
      "6it [00:00, 1667.72it/s]"
     ]
    },
    {
     "name": "stdout",
     "output_type": "stream",
     "text": [
      "CPU times: user 0 ns, sys: 40.8 ms, total: 40.8 ms\n",
      "Wall time: 57.4 ms\n"
     ]
    },
    {
     "name": "stderr",
     "output_type": "stream",
     "text": [
      "\n"
     ]
    }
   ],
   "source": [
    "%%time\n",
    "reads_df_list = \\\n",
    "    [\n",
    "        pl.scan_parquet(\n",
    "            f\"/lustre/scratch122/tol/projects/sperm/results/Rahbari_20250212/read_analysis/{sample_set}/{sample_id}/reads/{chrom}/all_reads_structure_annotated.parquet\",\n",
    "        ) \n",
    "        for sample_id, sample_set in tqdm.tqdm(rahbari_df.select(\"sample_id\", \"sample_set\").unique().iter_rows())\n",
    "        for chrom in aut_chrom_names\n",
    "    ] + \\\n",
    "    [\n",
    "        pl.scan_parquet(\n",
    "            f\"/lustre/scratch122/tol/projects/sperm/results/Sudmant_20241121/read_analysis/{sample_set}/{sample_id}/reads/{chrom}/all_reads_structure_annotated.parquet\",\n",
    "        ) \n",
    "        for sample_id, sample_set in tqdm.tqdm(sudmant_df.select(\"sample_id\", \"sample_set\").unique().iter_rows())\n",
    "        for chrom in aut_chrom_names\n",
    "    ]\n"
   ]
  },
  {
   "cell_type": "code",
   "execution_count": null,
   "id": "4d711e3a-8922-4129-9fc1-f7da8ea26487",
   "metadata": {},
   "outputs": [],
   "source": []
  },
  {
   "cell_type": "code",
   "execution_count": null,
   "id": "070a9edc-e441-48a5-b5e2-fe25a8f9f673",
   "metadata": {},
   "outputs": [],
   "source": []
  },
  {
   "cell_type": "code",
   "execution_count": 7,
   "id": "380ceaab-55b7-4d08-9e6d-48d3e57fa509",
   "metadata": {
    "tags": []
   },
   "outputs": [],
   "source": [
    "sperm_sample_ids_except_AD = [x for x in rahbari_sample_ids + sudmant_sample_ids if x != 'PD50523b']"
   ]
  },
  {
   "cell_type": "code",
   "execution_count": 8,
   "id": "4225cbcc-ad21-49af-8c88-2eb82ee0a261",
   "metadata": {
    "tags": []
   },
   "outputs": [
    {
     "name": "stderr",
     "output_type": "stream",
     "text": [
      "/nfs/users/nfs_r/rs42/rs42/miniforge3/envs/sperm/lib/python3.11/site-packages/joblib/externals/loky/backend/fork_exec.py:38: RuntimeWarning: Using fork() can cause Polars to deadlock in the child process.\n",
      "In addition, using fork() with Python in general is a recipe for mysterious\n",
      "deadlocks and crashes.\n",
      "\n",
      "The most likely reason you are seeing this error is because you are using the\n",
      "multiprocessing module on Linux, which uses fork() by default. This will be\n",
      "fixed in Python 3.14. Until then, you want to use the \"spawn\" context instead.\n",
      "\n",
      "See https://docs.pola.rs/user-guide/misc/multiprocessing/ for details.\n",
      "\n",
      "  pid = os.fork()\n",
      "[Parallel(n_jobs=-1)]: Using backend LokyBackend with 16 concurrent workers.\n",
      "[Parallel(n_jobs=-1)]: Done  18 tasks      | elapsed:    6.6s\n",
      "/nfs/users/nfs_r/rs42/rs42/miniforge3/envs/sperm/lib/python3.11/site-packages/joblib/externals/loky/process_executor.py:752: UserWarning: A worker stopped while some jobs were given to the executor. This can be caused by a too short worker timeout or by a memory leak.\n",
      "  warnings.warn(\n",
      "[Parallel(n_jobs=-1)]: Done 168 tasks      | elapsed:  2.1min\n"
     ]
    },
    {
     "name": "stdout",
     "output_type": "stream",
     "text": [
      "CPU times: user 1.59 s, sys: 2.23 s, total: 3.82 s\n",
      "Wall time: 3min 2s\n"
     ]
    },
    {
     "name": "stderr",
     "output_type": "stream",
     "text": [
      "[Parallel(n_jobs=-1)]: Done 330 out of 330 | elapsed:  3.0min finished\n"
     ]
    }
   ],
   "source": [
    "%%time\n",
    "dfs = joblib.Parallel(n_jobs=-1, verbose=1)(\n",
    "    joblib.delayed(inference.generate_call_set)(\n",
    "        reads_df, sperm_sample_ids_except_AD, 100, False, 3, 1\n",
    "    )\n",
    "    for reads_df in reads_df_list\n",
    ")\n",
    "\n",
    "callset_df = pl.concat([df for df in dfs if len(df)])"
   ]
  },
  {
   "cell_type": "code",
   "execution_count": 9,
   "id": "00f805bb-38e0-4c43-b157-98bb319f2cd0",
   "metadata": {
    "tags": []
   },
   "outputs": [
    {
     "data": {
      "text/plain": [
       "941152"
      ]
     },
     "execution_count": 9,
     "metadata": {},
     "output_type": "execute_result"
    }
   ],
   "source": [
    "len(callset_df)"
   ]
  },
  {
   "cell_type": "code",
   "execution_count": null,
   "id": "2d08e1bd-9596-4420-b5d2-7412c05760a4",
   "metadata": {},
   "outputs": [],
   "source": []
  },
  {
   "cell_type": "code",
   "execution_count": null,
   "id": "efed4576-287f-489d-92ac-1d5e29971e56",
   "metadata": {},
   "outputs": [],
   "source": []
  },
  {
   "cell_type": "code",
   "execution_count": null,
   "id": "6a1f731f-3577-45bd-87aa-6761663ef6d0",
   "metadata": {},
   "outputs": [],
   "source": []
  },
  {
   "cell_type": "markdown",
   "id": "5b7d1201-d737-4d75-9b59-14ae75cd467b",
   "metadata": {},
   "source": [
    "# Confirm number of COs makes sense?"
   ]
  },
  {
   "cell_type": "markdown",
   "id": "d583860b-ccf6-48fc-96c5-a858d558f038",
   "metadata": {},
   "source": [
    "## x..y, high snps"
   ]
  },
  {
   "cell_type": "code",
   "execution_count": 11,
   "id": "12e863e7-d793-4407-8523-d07b69dc24b0",
   "metadata": {
    "tags": []
   },
   "outputs": [
    {
     "name": "stdout",
     "output_type": "stream",
     "text": [
      "# of observed 1-switches: 6339\n"
     ]
    }
   ],
   "source": [
    "print(\n",
    "    \"# of observed 1-switches:\",\n",
    "    (callset_df\n",
    "        .filter(pl.col(\"high_quality_snps_idx_transitions\").list.len() == 1)\n",
    "        .select(pl.len()).item()\n",
    "    ),\n",
    ")"
   ]
  },
  {
   "cell_type": "code",
   "execution_count": 12,
   "id": "b4b7ea3c-6ff0-4c59-89ef-222b933438bc",
   "metadata": {
    "tags": []
   },
   "outputs": [
    {
     "name": "stdout",
     "output_type": "stream",
     "text": [
      "# of high quality expected 1-switches: 62.82356135646074\n"
     ]
    }
   ],
   "source": [
    "print(\n",
    "    \"# of high quality expected 1-switches:\",\n",
    "    callset_df.select(\n",
    "        (pl.col(\"between_high_quality_snps_cM\").list.slice(\n",
    "            1, \n",
    "            pl.col(\"between_high_quality_snps_cM\").list.len() - 2,\n",
    "        ).list.sum() * 1e-2).alias(\"prob\")\n",
    "    )\n",
    "    [\"prob\"].sum()\n",
    ")"
   ]
  },
  {
   "cell_type": "code",
   "execution_count": null,
   "id": "6beae1bb-63a2-42c0-8c9f-4d8948f348e3",
   "metadata": {},
   "outputs": [],
   "source": []
  },
  {
   "cell_type": "markdown",
   "id": "7186d0f3-645b-4c30-8e76-73e449923170",
   "metadata": {
    "tags": []
   },
   "source": [
    "# See summary stats"
   ]
  },
  {
   "cell_type": "code",
   "execution_count": 10,
   "id": "5d9ea976-cf03-4e40-8b6e-c2e339b6fe51",
   "metadata": {
    "tags": []
   },
   "outputs": [
    {
     "data": {
      "text/html": [
       "<div><style>\n",
       ".dataframe > thead > tr,\n",
       ".dataframe > tbody > tr {\n",
       "  text-align: right;\n",
       "  white-space: pre-wrap;\n",
       "}\n",
       "</style>\n",
       "<small>shape: (3, 2)</small><table border=\"1\" class=\"dataframe\"><thead><tr><th>n_transitions</th><th>len</th></tr><tr><td>u32</td><td>u32</td></tr></thead><tbody><tr><td>0</td><td>2598200</td></tr><tr><td>1</td><td>3589</td></tr><tr><td>2</td><td>744</td></tr></tbody></table></div>"
      ],
      "text/plain": [
       "shape: (3, 2)\n",
       "┌───────────────┬─────────┐\n",
       "│ n_transitions ┆ len     │\n",
       "│ ---           ┆ ---     │\n",
       "│ u32           ┆ u32     │\n",
       "╞═══════════════╪═════════╡\n",
       "│ 0             ┆ 2598200 │\n",
       "│ 1             ┆ 3589    │\n",
       "│ 2             ┆ 744     │\n",
       "└───────────────┴─────────┘"
      ]
     },
     "execution_count": 10,
     "metadata": {},
     "output_type": "execute_result"
    }
   ],
   "source": [
    "(callset_df\n",
    "    .select(pl.col(\"high_quality_snps_idx_transitions\").list.len().alias(\"n_transitions\"))\n",
    "    .group_by(\"n_transitions\")\n",
    "    .len()\n",
    "    .sort(\"n_transitions\")\n",
    ")"
   ]
  },
  {
   "cell_type": "code",
   "execution_count": 11,
   "id": "fcb7b03d-80bd-4d8e-a79b-85a7264ecb08",
   "metadata": {
    "tags": []
   },
   "outputs": [
    {
     "data": {
      "text/html": [
       "<div><style>\n",
       ".dataframe > thead > tr,\n",
       ".dataframe > tbody > tr {\n",
       "  text-align: right;\n",
       "  white-space: pre-wrap;\n",
       "}\n",
       "</style>\n",
       "<small>shape: (4, 2)</small><table border=\"1\" class=\"dataframe\"><thead><tr><th>n_converted</th><th>len</th></tr><tr><td>i64</td><td>u32</td></tr></thead><tbody><tr><td>1</td><td>716</td></tr><tr><td>2</td><td>24</td></tr><tr><td>3</td><td>2</td></tr><tr><td>4</td><td>2</td></tr></tbody></table></div>"
      ],
      "text/plain": [
       "shape: (4, 2)\n",
       "┌─────────────┬─────┐\n",
       "│ n_converted ┆ len │\n",
       "│ ---         ┆ --- │\n",
       "│ i64         ┆ u32 │\n",
       "╞═════════════╪═════╡\n",
       "│ 1           ┆ 716 │\n",
       "│ 2           ┆ 24  │\n",
       "│ 3           ┆ 2   │\n",
       "│ 4           ┆ 2   │\n",
       "└─────────────┴─────┘"
      ]
     },
     "execution_count": 11,
     "metadata": {},
     "output_type": "execute_result"
    }
   ],
   "source": [
    "(callset_df\n",
    "    .filter(pl.col(\"high_quality_snps_idx_transitions\").list.len() == 2)\n",
    "    .select(pl.col(\"high_quality_snps_idx_transitions\").list.diff(null_behavior=\"drop\").list.first().alias(\"n_converted\"))\n",
    "    .group_by(\"n_converted\")\n",
    "    .len()\n",
    "    .sort(\"n_converted\")\n",
    ")"
   ]
  },
  {
   "cell_type": "code",
   "execution_count": 13,
   "id": "afb1412a-d51d-4650-858d-240478557a40",
   "metadata": {
    "tags": []
   },
   "outputs": [
    {
     "data": {
      "text/html": [
       "\n",
       "<style>\n",
       "  #altair-viz-6879b6091f0045be949df842217227e1.vega-embed {\n",
       "    width: 100%;\n",
       "    display: flex;\n",
       "  }\n",
       "\n",
       "  #altair-viz-6879b6091f0045be949df842217227e1.vega-embed details,\n",
       "  #altair-viz-6879b6091f0045be949df842217227e1.vega-embed details summary {\n",
       "    position: relative;\n",
       "  }\n",
       "</style>\n",
       "<div id=\"altair-viz-6879b6091f0045be949df842217227e1\"></div>\n",
       "<script type=\"text/javascript\">\n",
       "  var VEGA_DEBUG = (typeof VEGA_DEBUG == \"undefined\") ? {} : VEGA_DEBUG;\n",
       "  (function(spec, embedOpt){\n",
       "    let outputDiv = document.currentScript.previousElementSibling;\n",
       "    if (outputDiv.id !== \"altair-viz-6879b6091f0045be949df842217227e1\") {\n",
       "      outputDiv = document.getElementById(\"altair-viz-6879b6091f0045be949df842217227e1\");\n",
       "    }\n",
       "\n",
       "    const paths = {\n",
       "      \"vega\": \"https://cdn.jsdelivr.net/npm/vega@5?noext\",\n",
       "      \"vega-lib\": \"https://cdn.jsdelivr.net/npm/vega-lib?noext\",\n",
       "      \"vega-lite\": \"https://cdn.jsdelivr.net/npm/vega-lite@5.20.1?noext\",\n",
       "      \"vega-embed\": \"https://cdn.jsdelivr.net/npm/vega-embed@6?noext\",\n",
       "    };\n",
       "\n",
       "    function maybeLoadScript(lib, version) {\n",
       "      var key = `${lib.replace(\"-\", \"\")}_version`;\n",
       "      return (VEGA_DEBUG[key] == version) ?\n",
       "        Promise.resolve(paths[lib]) :\n",
       "        new Promise(function(resolve, reject) {\n",
       "          var s = document.createElement('script');\n",
       "          document.getElementsByTagName(\"head\")[0].appendChild(s);\n",
       "          s.async = true;\n",
       "          s.onload = () => {\n",
       "            VEGA_DEBUG[key] = version;\n",
       "            return resolve(paths[lib]);\n",
       "          };\n",
       "          s.onerror = () => reject(`Error loading script: ${paths[lib]}`);\n",
       "          s.src = paths[lib];\n",
       "        });\n",
       "    }\n",
       "\n",
       "    function showError(err) {\n",
       "      outputDiv.innerHTML = `<div class=\"error\" style=\"color:red;\">${err}</div>`;\n",
       "      throw err;\n",
       "    }\n",
       "\n",
       "    function displayChart(vegaEmbed) {\n",
       "      vegaEmbed(outputDiv, spec, embedOpt)\n",
       "        .catch(err => showError(`Javascript Error: ${err.message}<br>This usually means there's a typo in your chart specification. See the javascript console for the full traceback.`));\n",
       "    }\n",
       "\n",
       "    if(typeof define === \"function\" && define.amd) {\n",
       "      requirejs.config({paths});\n",
       "      let deps = [\"vega-embed\"];\n",
       "      require(deps, displayChart, err => showError(`Error loading script: ${err.message}`));\n",
       "    } else {\n",
       "      maybeLoadScript(\"vega\", \"5\")\n",
       "        .then(() => maybeLoadScript(\"vega-lite\", \"5.20.1\"))\n",
       "        .then(() => maybeLoadScript(\"vega-embed\", \"6\"))\n",
       "        .catch(showError)\n",
       "        .then(() => displayChart(vegaEmbed));\n",
       "    }\n",
       "  })({\"config\": {\"view\": {\"continuousWidth\": 300, \"continuousHeight\": 300}}, \"data\": {\"name\": \"data-9f26cc021e7e5595b0e094fb4bb8d2d1\"}, \"mark\": {\"type\": \"bar\", \"tooltip\": true}, \"encoding\": {\"x\": {\"bin\": true, \"field\": \"upper_bound\", \"type\": \"quantitative\"}, \"y\": {\"aggregate\": \"count\", \"type\": \"quantitative\"}}, \"params\": [{\"name\": \"param_1\", \"select\": {\"type\": \"interval\", \"encodings\": [\"x\", \"y\"]}, \"bind\": \"scales\"}], \"$schema\": \"https://vega.github.io/schema/vega-lite/v5.20.1.json\", \"datasets\": {\"data-9f26cc021e7e5595b0e094fb4bb8d2d1\": [{\"upper_bound\": 1222}, {\"upper_bound\": 1778}, {\"upper_bound\": 2359}, {\"upper_bound\": 1652}, {\"upper_bound\": 4434}, {\"upper_bound\": 1381}, {\"upper_bound\": 2836}, {\"upper_bound\": 3779}, {\"upper_bound\": 1945}, {\"upper_bound\": 4097}, {\"upper_bound\": 958}, {\"upper_bound\": 358}, {\"upper_bound\": 3641}, {\"upper_bound\": 465}, {\"upper_bound\": 4369}, {\"upper_bound\": 1784}, {\"upper_bound\": 312}, {\"upper_bound\": 2041}, {\"upper_bound\": 777}, {\"upper_bound\": 749}, {\"upper_bound\": 1983}, {\"upper_bound\": 4338}, {\"upper_bound\": 3191}, {\"upper_bound\": 16602}, {\"upper_bound\": 4858}, {\"upper_bound\": 508}, {\"upper_bound\": 6339}, {\"upper_bound\": 4353}, {\"upper_bound\": 2178}, {\"upper_bound\": 1972}, {\"upper_bound\": 5013}, {\"upper_bound\": 2672}, {\"upper_bound\": 2899}, {\"upper_bound\": 592}, {\"upper_bound\": 868}, {\"upper_bound\": 1090}, {\"upper_bound\": 1686}, {\"upper_bound\": 2639}, {\"upper_bound\": 1416}, {\"upper_bound\": 309}, {\"upper_bound\": 1100}, {\"upper_bound\": 458}, {\"upper_bound\": 7228}, {\"upper_bound\": 3348}, {\"upper_bound\": 1924}, {\"upper_bound\": 5561}, {\"upper_bound\": 9280}, {\"upper_bound\": 4751}, {\"upper_bound\": 7649}, {\"upper_bound\": 3571}, {\"upper_bound\": 1132}, {\"upper_bound\": 773}, {\"upper_bound\": 2179}, {\"upper_bound\": 1993}, {\"upper_bound\": 5247}, {\"upper_bound\": 916}, {\"upper_bound\": 2634}, {\"upper_bound\": 2106}, {\"upper_bound\": 1859}, {\"upper_bound\": 1762}, {\"upper_bound\": 2635}, {\"upper_bound\": 1705}, {\"upper_bound\": 3092}, {\"upper_bound\": 1757}, {\"upper_bound\": 762}, {\"upper_bound\": 129}, {\"upper_bound\": 1329}, {\"upper_bound\": 411}, {\"upper_bound\": 4819}, {\"upper_bound\": 3586}, {\"upper_bound\": 1233}, {\"upper_bound\": 309}, {\"upper_bound\": 1133}, {\"upper_bound\": 2427}, {\"upper_bound\": 4312}, {\"upper_bound\": 4811}, {\"upper_bound\": 4919}, {\"upper_bound\": 458}, {\"upper_bound\": 1984}, {\"upper_bound\": 1774}, {\"upper_bound\": 429}, {\"upper_bound\": 3942}, {\"upper_bound\": 716}, {\"upper_bound\": 1459}, {\"upper_bound\": 1572}, {\"upper_bound\": 1751}, {\"upper_bound\": 3255}, {\"upper_bound\": 5015}, {\"upper_bound\": 6791}, {\"upper_bound\": 5740}, {\"upper_bound\": 1181}, {\"upper_bound\": 4133}, {\"upper_bound\": 1145}, {\"upper_bound\": 441}, {\"upper_bound\": 11507}, {\"upper_bound\": 1472}, {\"upper_bound\": 2594}, {\"upper_bound\": 5400}, {\"upper_bound\": 3168}, {\"upper_bound\": 2443}, {\"upper_bound\": 5262}, {\"upper_bound\": 1153}, {\"upper_bound\": 6333}, {\"upper_bound\": 4716}, {\"upper_bound\": 1632}, {\"upper_bound\": 4804}, {\"upper_bound\": 2137}, {\"upper_bound\": 3108}, {\"upper_bound\": 4217}, {\"upper_bound\": 1961}, {\"upper_bound\": 2729}, {\"upper_bound\": 4326}, {\"upper_bound\": 1686}, {\"upper_bound\": 914}, {\"upper_bound\": 11434}, {\"upper_bound\": 3404}, {\"upper_bound\": 227}, {\"upper_bound\": 1737}, {\"upper_bound\": 2268}, {\"upper_bound\": 9586}, {\"upper_bound\": 650}, {\"upper_bound\": 497}, {\"upper_bound\": 867}, {\"upper_bound\": 283}, {\"upper_bound\": 11169}, {\"upper_bound\": 1923}, {\"upper_bound\": 1345}, {\"upper_bound\": 5985}, {\"upper_bound\": 3784}, {\"upper_bound\": 1275}, {\"upper_bound\": 570}, {\"upper_bound\": 70}, {\"upper_bound\": 1977}, {\"upper_bound\": 2777}, {\"upper_bound\": 3988}, {\"upper_bound\": 307}, {\"upper_bound\": 899}, {\"upper_bound\": 12967}, {\"upper_bound\": 8079}, {\"upper_bound\": 3076}, {\"upper_bound\": 1216}, {\"upper_bound\": 6282}, {\"upper_bound\": 474}, {\"upper_bound\": 1962}, {\"upper_bound\": 3017}, {\"upper_bound\": 2453}, {\"upper_bound\": 3098}, {\"upper_bound\": 6725}, {\"upper_bound\": 370}, {\"upper_bound\": 1368}, {\"upper_bound\": 3795}, {\"upper_bound\": 1488}, {\"upper_bound\": 2134}, {\"upper_bound\": 835}, {\"upper_bound\": 5581}, {\"upper_bound\": 695}, {\"upper_bound\": 833}, {\"upper_bound\": 657}, {\"upper_bound\": 4791}, {\"upper_bound\": 867}, {\"upper_bound\": 10184}, {\"upper_bound\": 443}, {\"upper_bound\": 2292}, {\"upper_bound\": 2912}, {\"upper_bound\": 1119}, {\"upper_bound\": 2283}, {\"upper_bound\": 301}, {\"upper_bound\": 1724}, {\"upper_bound\": 1899}, {\"upper_bound\": 738}, {\"upper_bound\": 410}, {\"upper_bound\": 2004}, {\"upper_bound\": 3023}, {\"upper_bound\": 1975}, {\"upper_bound\": 1082}, {\"upper_bound\": 8586}, {\"upper_bound\": 712}, {\"upper_bound\": 1910}, {\"upper_bound\": 393}, {\"upper_bound\": 1673}, {\"upper_bound\": 754}, {\"upper_bound\": 1454}, {\"upper_bound\": 352}, {\"upper_bound\": 1729}, {\"upper_bound\": 1086}, {\"upper_bound\": 13303}, {\"upper_bound\": 1144}, {\"upper_bound\": 1253}, {\"upper_bound\": 2064}, {\"upper_bound\": 260}, {\"upper_bound\": 4156}, {\"upper_bound\": 3344}, {\"upper_bound\": 3054}, {\"upper_bound\": 6748}, {\"upper_bound\": 332}, {\"upper_bound\": 459}, {\"upper_bound\": 466}, {\"upper_bound\": 2490}, {\"upper_bound\": 1713}, {\"upper_bound\": 343}, {\"upper_bound\": 1659}, {\"upper_bound\": 2195}, {\"upper_bound\": 4141}, {\"upper_bound\": 3420}, {\"upper_bound\": 474}, {\"upper_bound\": 867}, {\"upper_bound\": 2154}, {\"upper_bound\": 466}, {\"upper_bound\": 168}, {\"upper_bound\": 2901}, {\"upper_bound\": 5643}, {\"upper_bound\": 2244}, {\"upper_bound\": 998}, {\"upper_bound\": 4091}, {\"upper_bound\": 2659}, {\"upper_bound\": 388}, {\"upper_bound\": 1024}, {\"upper_bound\": 2737}, {\"upper_bound\": 505}, {\"upper_bound\": 1718}, {\"upper_bound\": 328}, {\"upper_bound\": 610}, {\"upper_bound\": 2451}, {\"upper_bound\": 4082}, {\"upper_bound\": 2826}, {\"upper_bound\": 3373}, {\"upper_bound\": 294}, {\"upper_bound\": 3157}, {\"upper_bound\": 1829}, {\"upper_bound\": 3392}, {\"upper_bound\": 618}, {\"upper_bound\": 1496}, {\"upper_bound\": 236}, {\"upper_bound\": 1118}, {\"upper_bound\": 1189}, {\"upper_bound\": 342}, {\"upper_bound\": 944}, {\"upper_bound\": 8442}, {\"upper_bound\": 807}, {\"upper_bound\": 2961}, {\"upper_bound\": 6707}, {\"upper_bound\": 1138}, {\"upper_bound\": 673}, {\"upper_bound\": 613}, {\"upper_bound\": 628}, {\"upper_bound\": 105}, {\"upper_bound\": 2046}, {\"upper_bound\": 2660}, {\"upper_bound\": 1307}, {\"upper_bound\": 2890}, {\"upper_bound\": 2256}, {\"upper_bound\": 7661}, {\"upper_bound\": 1915}, {\"upper_bound\": 9887}, {\"upper_bound\": 1229}, {\"upper_bound\": 2243}, {\"upper_bound\": 4156}, {\"upper_bound\": 275}, {\"upper_bound\": 2376}, {\"upper_bound\": 1034}, {\"upper_bound\": 7718}, {\"upper_bound\": 597}, {\"upper_bound\": 14783}, {\"upper_bound\": 3068}, {\"upper_bound\": 1512}, {\"upper_bound\": 145}, {\"upper_bound\": 1663}, {\"upper_bound\": 658}, {\"upper_bound\": 283}, {\"upper_bound\": 1446}, {\"upper_bound\": 7617}, {\"upper_bound\": 625}, {\"upper_bound\": 3622}, {\"upper_bound\": 5690}, {\"upper_bound\": 2074}, {\"upper_bound\": 1555}, {\"upper_bound\": 3580}, {\"upper_bound\": 1761}, {\"upper_bound\": 1925}, {\"upper_bound\": 1629}, {\"upper_bound\": 907}, {\"upper_bound\": 1442}, {\"upper_bound\": 1272}, {\"upper_bound\": 1058}, {\"upper_bound\": 4742}, {\"upper_bound\": 1504}, {\"upper_bound\": 800}, {\"upper_bound\": 1669}, {\"upper_bound\": 922}, {\"upper_bound\": 181}, {\"upper_bound\": 5260}, {\"upper_bound\": 453}, {\"upper_bound\": 760}, {\"upper_bound\": 893}, {\"upper_bound\": 243}, {\"upper_bound\": 3662}, {\"upper_bound\": 1854}, {\"upper_bound\": 232}, {\"upper_bound\": 776}, {\"upper_bound\": 2541}, {\"upper_bound\": 467}, {\"upper_bound\": 1428}, {\"upper_bound\": 3311}, {\"upper_bound\": 273}, {\"upper_bound\": 1020}, {\"upper_bound\": 289}, {\"upper_bound\": 1416}, {\"upper_bound\": 968}, {\"upper_bound\": 662}, {\"upper_bound\": 2100}, {\"upper_bound\": 1890}, {\"upper_bound\": 1681}, {\"upper_bound\": 633}, {\"upper_bound\": 3780}, {\"upper_bound\": 1756}, {\"upper_bound\": 8255}, {\"upper_bound\": 9459}, {\"upper_bound\": 8306}, {\"upper_bound\": 6044}, {\"upper_bound\": 1815}, {\"upper_bound\": 905}, {\"upper_bound\": 1238}, {\"upper_bound\": 903}, {\"upper_bound\": 1218}, {\"upper_bound\": 475}, {\"upper_bound\": 1990}, {\"upper_bound\": 685}, {\"upper_bound\": 973}, {\"upper_bound\": 587}, {\"upper_bound\": 5059}, {\"upper_bound\": 285}, {\"upper_bound\": 1256}, {\"upper_bound\": 360}, {\"upper_bound\": 1743}, {\"upper_bound\": 6338}, {\"upper_bound\": 1733}, {\"upper_bound\": 631}, {\"upper_bound\": 697}, {\"upper_bound\": 266}, {\"upper_bound\": 1101}, {\"upper_bound\": 10194}, {\"upper_bound\": 3741}, {\"upper_bound\": 407}, {\"upper_bound\": 2194}, {\"upper_bound\": 3652}, {\"upper_bound\": 2755}, {\"upper_bound\": 1017}, {\"upper_bound\": 864}, {\"upper_bound\": 2685}, {\"upper_bound\": 1844}, {\"upper_bound\": 5244}, {\"upper_bound\": 2739}, {\"upper_bound\": 226}, {\"upper_bound\": 2093}, {\"upper_bound\": 1266}, {\"upper_bound\": 3312}, {\"upper_bound\": 2112}, {\"upper_bound\": 1317}, {\"upper_bound\": 1885}, {\"upper_bound\": 624}, {\"upper_bound\": 1731}, {\"upper_bound\": 2268}, {\"upper_bound\": 7710}, {\"upper_bound\": 5244}, {\"upper_bound\": 8475}, {\"upper_bound\": 1807}, {\"upper_bound\": 1033}, {\"upper_bound\": 6547}, {\"upper_bound\": 533}, {\"upper_bound\": 1102}, {\"upper_bound\": 1933}, {\"upper_bound\": 4757}, {\"upper_bound\": 3855}, {\"upper_bound\": 577}, {\"upper_bound\": 223}, {\"upper_bound\": 5264}, {\"upper_bound\": 1250}, {\"upper_bound\": 3927}, {\"upper_bound\": 1937}, {\"upper_bound\": 310}, {\"upper_bound\": 1586}, {\"upper_bound\": 7669}, {\"upper_bound\": 4544}, {\"upper_bound\": 633}, {\"upper_bound\": 3695}, {\"upper_bound\": 6393}, {\"upper_bound\": 218}, {\"upper_bound\": 3136}, {\"upper_bound\": 10690}, {\"upper_bound\": 181}, {\"upper_bound\": 5022}, {\"upper_bound\": 2298}, {\"upper_bound\": 3425}, {\"upper_bound\": 110}, {\"upper_bound\": 2080}, {\"upper_bound\": 1882}, {\"upper_bound\": 953}, {\"upper_bound\": 631}, {\"upper_bound\": 2845}, {\"upper_bound\": 7999}, {\"upper_bound\": 524}, {\"upper_bound\": 4346}, {\"upper_bound\": 4055}, {\"upper_bound\": 2088}, {\"upper_bound\": 615}, {\"upper_bound\": 15104}, {\"upper_bound\": 812}, {\"upper_bound\": 3827}, {\"upper_bound\": 1315}, {\"upper_bound\": 204}, {\"upper_bound\": 356}, {\"upper_bound\": 10965}, {\"upper_bound\": 7925}, {\"upper_bound\": 8054}, {\"upper_bound\": 350}, {\"upper_bound\": 4875}, {\"upper_bound\": 4571}, {\"upper_bound\": 3910}, {\"upper_bound\": 2803}, {\"upper_bound\": 792}, {\"upper_bound\": 3761}, {\"upper_bound\": 319}, {\"upper_bound\": 2952}, {\"upper_bound\": 657}, {\"upper_bound\": 1147}, {\"upper_bound\": 792}, {\"upper_bound\": 1629}, {\"upper_bound\": 10828}, {\"upper_bound\": 1925}, {\"upper_bound\": 1314}, {\"upper_bound\": 5534}, {\"upper_bound\": 1906}, {\"upper_bound\": 2700}, {\"upper_bound\": 4085}, {\"upper_bound\": 6652}, {\"upper_bound\": 1169}, {\"upper_bound\": 579}, {\"upper_bound\": 2851}, {\"upper_bound\": 1262}, {\"upper_bound\": 946}, {\"upper_bound\": 658}, {\"upper_bound\": 1086}, {\"upper_bound\": 6809}, {\"upper_bound\": 1027}, {\"upper_bound\": 1023}, {\"upper_bound\": 304}, {\"upper_bound\": 1185}, {\"upper_bound\": 7881}, {\"upper_bound\": 1765}, {\"upper_bound\": 391}, {\"upper_bound\": 691}, {\"upper_bound\": 2044}, {\"upper_bound\": 338}, {\"upper_bound\": 649}, {\"upper_bound\": 2449}, {\"upper_bound\": 5194}, {\"upper_bound\": 667}, {\"upper_bound\": 5773}, {\"upper_bound\": 2255}, {\"upper_bound\": 2190}, {\"upper_bound\": 1853}, {\"upper_bound\": 761}, {\"upper_bound\": 4566}, {\"upper_bound\": 11774}, {\"upper_bound\": 1870}, {\"upper_bound\": 641}, {\"upper_bound\": 2061}, {\"upper_bound\": 2050}, {\"upper_bound\": 1522}, {\"upper_bound\": 368}, {\"upper_bound\": 1315}, {\"upper_bound\": 3654}, {\"upper_bound\": 584}, {\"upper_bound\": 346}, {\"upper_bound\": 1696}, {\"upper_bound\": 547}, {\"upper_bound\": 155}, {\"upper_bound\": 3006}, {\"upper_bound\": 2987}, {\"upper_bound\": 116}, {\"upper_bound\": 1351}, {\"upper_bound\": 3969}, {\"upper_bound\": 3859}, {\"upper_bound\": 302}, {\"upper_bound\": 1655}, {\"upper_bound\": 6715}, {\"upper_bound\": 2138}, {\"upper_bound\": 6349}, {\"upper_bound\": 3297}, {\"upper_bound\": 8055}, {\"upper_bound\": 1587}, {\"upper_bound\": 7419}, {\"upper_bound\": 2034}, {\"upper_bound\": 8732}, {\"upper_bound\": 1651}, {\"upper_bound\": 5012}, {\"upper_bound\": 2874}, {\"upper_bound\": 834}, {\"upper_bound\": 3836}, {\"upper_bound\": 7896}, {\"upper_bound\": 294}, {\"upper_bound\": 694}, {\"upper_bound\": 672}, {\"upper_bound\": 802}, {\"upper_bound\": 400}, {\"upper_bound\": 6620}, {\"upper_bound\": 1069}, {\"upper_bound\": 462}, {\"upper_bound\": 1969}, {\"upper_bound\": 1861}, {\"upper_bound\": 3084}, {\"upper_bound\": 8949}, {\"upper_bound\": 1948}, {\"upper_bound\": 1698}, {\"upper_bound\": 9681}, {\"upper_bound\": 5041}, {\"upper_bound\": 2958}, {\"upper_bound\": 597}, {\"upper_bound\": 3244}, {\"upper_bound\": 725}, {\"upper_bound\": 1423}, {\"upper_bound\": 179}, {\"upper_bound\": 1618}, {\"upper_bound\": 451}, {\"upper_bound\": 6714}, {\"upper_bound\": 6938}, {\"upper_bound\": 835}, {\"upper_bound\": 1479}, {\"upper_bound\": 6277}, {\"upper_bound\": 660}, {\"upper_bound\": 1413}, {\"upper_bound\": 10232}, {\"upper_bound\": 3914}, {\"upper_bound\": 2538}, {\"upper_bound\": 191}, {\"upper_bound\": 1415}, {\"upper_bound\": 623}, {\"upper_bound\": 1343}, {\"upper_bound\": 1663}, {\"upper_bound\": 1629}, {\"upper_bound\": 60}, {\"upper_bound\": 944}, {\"upper_bound\": 707}, {\"upper_bound\": 2237}, {\"upper_bound\": 776}, {\"upper_bound\": 912}, {\"upper_bound\": 2398}, {\"upper_bound\": 663}, {\"upper_bound\": 824}, {\"upper_bound\": 6771}, {\"upper_bound\": 12438}, {\"upper_bound\": 8549}, {\"upper_bound\": 4878}, {\"upper_bound\": 4309}, {\"upper_bound\": 1387}, {\"upper_bound\": 148}, {\"upper_bound\": 11011}, {\"upper_bound\": 1994}, {\"upper_bound\": 13679}, {\"upper_bound\": 7663}, {\"upper_bound\": 427}, {\"upper_bound\": 172}, {\"upper_bound\": 1952}, {\"upper_bound\": 1090}, {\"upper_bound\": 2323}, {\"upper_bound\": 537}, {\"upper_bound\": 2652}, {\"upper_bound\": 2383}, {\"upper_bound\": 1290}, {\"upper_bound\": 2295}, {\"upper_bound\": 3442}, {\"upper_bound\": 1132}, {\"upper_bound\": 877}, {\"upper_bound\": 209}, {\"upper_bound\": 3107}, {\"upper_bound\": 1157}, {\"upper_bound\": 1602}, {\"upper_bound\": 1760}, {\"upper_bound\": 2878}, {\"upper_bound\": 6824}, {\"upper_bound\": 550}, {\"upper_bound\": 1974}, {\"upper_bound\": 686}, {\"upper_bound\": 413}, {\"upper_bound\": 2166}, {\"upper_bound\": 435}, {\"upper_bound\": 825}, {\"upper_bound\": 692}, {\"upper_bound\": 1023}, {\"upper_bound\": 3171}, {\"upper_bound\": 4935}, {\"upper_bound\": 1917}, {\"upper_bound\": 5217}, {\"upper_bound\": 639}, {\"upper_bound\": 1651}, {\"upper_bound\": 2186}, {\"upper_bound\": 798}, {\"upper_bound\": 1193}, {\"upper_bound\": 3949}, {\"upper_bound\": 575}, {\"upper_bound\": 5925}, {\"upper_bound\": 2361}, {\"upper_bound\": 2567}, {\"upper_bound\": 1731}, {\"upper_bound\": 5139}, {\"upper_bound\": 1856}, {\"upper_bound\": 1024}, {\"upper_bound\": 2725}, {\"upper_bound\": 4303}, {\"upper_bound\": 967}, {\"upper_bound\": 747}, {\"upper_bound\": 1298}, {\"upper_bound\": 1747}, {\"upper_bound\": 39}, {\"upper_bound\": 3576}, {\"upper_bound\": 1177}, {\"upper_bound\": 2234}, {\"upper_bound\": 384}, {\"upper_bound\": 3794}, {\"upper_bound\": 1652}, {\"upper_bound\": 4161}, {\"upper_bound\": 1849}, {\"upper_bound\": 1219}, {\"upper_bound\": 1456}, {\"upper_bound\": 1822}, {\"upper_bound\": 661}, {\"upper_bound\": 6247}, {\"upper_bound\": 6230}, {\"upper_bound\": 3018}, {\"upper_bound\": 5768}, {\"upper_bound\": 1268}, {\"upper_bound\": 307}, {\"upper_bound\": 1637}, {\"upper_bound\": 889}, {\"upper_bound\": 1917}, {\"upper_bound\": 9409}, {\"upper_bound\": 2973}, {\"upper_bound\": 382}, {\"upper_bound\": 5714}, {\"upper_bound\": 7825}, {\"upper_bound\": 454}, {\"upper_bound\": 4066}, {\"upper_bound\": 1779}, {\"upper_bound\": 391}, {\"upper_bound\": 3722}, {\"upper_bound\": 3232}, {\"upper_bound\": 1973}, {\"upper_bound\": 808}, {\"upper_bound\": 5913}, {\"upper_bound\": 6754}, {\"upper_bound\": 2113}, {\"upper_bound\": 963}, {\"upper_bound\": 6684}, {\"upper_bound\": 972}, {\"upper_bound\": 8405}, {\"upper_bound\": 15683}, {\"upper_bound\": 773}, {\"upper_bound\": 741}, {\"upper_bound\": 2764}, {\"upper_bound\": 5308}, {\"upper_bound\": 4697}, {\"upper_bound\": 1624}, {\"upper_bound\": 552}, {\"upper_bound\": 1139}, {\"upper_bound\": 1148}, {\"upper_bound\": 660}, {\"upper_bound\": 2124}, {\"upper_bound\": 4497}, {\"upper_bound\": 620}, {\"upper_bound\": 2596}, {\"upper_bound\": 8950}, {\"upper_bound\": 337}, {\"upper_bound\": 20270}, {\"upper_bound\": 3424}, {\"upper_bound\": 1067}, {\"upper_bound\": 3094}, {\"upper_bound\": 917}, {\"upper_bound\": 4621}, {\"upper_bound\": 1454}, {\"upper_bound\": 1080}, {\"upper_bound\": 7195}, {\"upper_bound\": 2159}, {\"upper_bound\": 693}, {\"upper_bound\": 310}, {\"upper_bound\": 5505}, {\"upper_bound\": 757}, {\"upper_bound\": 2238}, {\"upper_bound\": 249}, {\"upper_bound\": 2764}, {\"upper_bound\": 3967}, {\"upper_bound\": 5357}, {\"upper_bound\": 2401}, {\"upper_bound\": 3003}, {\"upper_bound\": 338}, {\"upper_bound\": 2261}, {\"upper_bound\": 8871}, {\"upper_bound\": 1061}, {\"upper_bound\": 1668}, {\"upper_bound\": 2568}, {\"upper_bound\": 1827}, {\"upper_bound\": 1974}, {\"upper_bound\": 934}, {\"upper_bound\": 912}, {\"upper_bound\": 3058}, {\"upper_bound\": 671}, {\"upper_bound\": 5411}, {\"upper_bound\": 966}, {\"upper_bound\": 9357}, {\"upper_bound\": 774}, {\"upper_bound\": 461}, {\"upper_bound\": 3262}, {\"upper_bound\": 503}, {\"upper_bound\": 1602}, {\"upper_bound\": 1115}, {\"upper_bound\": 557}, {\"upper_bound\": 3502}, {\"upper_bound\": 4221}, {\"upper_bound\": 518}, {\"upper_bound\": 1170}, {\"upper_bound\": 3054}, {\"upper_bound\": 1427}, {\"upper_bound\": 6203}, {\"upper_bound\": 829}, {\"upper_bound\": 766}, {\"upper_bound\": 235}, {\"upper_bound\": 3258}, {\"upper_bound\": 1728}, {\"upper_bound\": 4316}, {\"upper_bound\": 3607}, {\"upper_bound\": 3508}, {\"upper_bound\": 9423}, {\"upper_bound\": 277}, {\"upper_bound\": 504}, {\"upper_bound\": 352}, {\"upper_bound\": 3772}, {\"upper_bound\": 156}, {\"upper_bound\": 3500}, {\"upper_bound\": 8987}, {\"upper_bound\": 6322}, {\"upper_bound\": 585}, {\"upper_bound\": 1259}, {\"upper_bound\": 2852}, {\"upper_bound\": 1610}, {\"upper_bound\": 652}]}}, {\"mode\": \"vega-lite\"});\n",
       "</script>"
      ],
      "text/plain": [
       "alt.Chart(...)"
      ]
     },
     "execution_count": 13,
     "metadata": {},
     "output_type": "execute_result"
    }
   ],
   "source": [
    "(callset_df\n",
    "    .filter(pl.col(\"high_quality_snps_idx_transitions\").list.len() == 2)\n",
    "    .select(\n",
    "        (\n",
    "            pl.col(\"high_quality_snp_positions\").list.get(pl.col(\"high_quality_snps_idx_transitions\").list.get(1)+1) -\n",
    "            pl.col(\"high_quality_snp_positions\").list.get(pl.col(\"high_quality_snps_idx_transitions\").list.get(0))\n",
    "        ).alias(\"upper_bound\")            \n",
    "    )\n",
    "    [\"upper_bound\"].plot.hist()\n",
    ")"
   ]
  },
  {
   "cell_type": "code",
   "execution_count": null,
   "id": "fbdbb13a-cde0-4bfa-88cf-391353fa450d",
   "metadata": {},
   "outputs": [],
   "source": []
  },
  {
   "cell_type": "code",
   "execution_count": null,
   "id": "c40e6a2a-28c2-49a1-8a41-225827f1d508",
   "metadata": {},
   "outputs": [],
   "source": []
  },
  {
   "cell_type": "markdown",
   "id": "6f68db6a-5641-489f-92cb-6c47d7ee96d9",
   "metadata": {},
   "source": [
    "# Run it"
   ]
  },
  {
   "cell_type": "code",
   "execution_count": 96,
   "id": "438d81a4-d47b-4e6d-9080-42e2f4cbb577",
   "metadata": {
    "tags": []
   },
   "outputs": [
    {
     "name": "stdout",
     "output_type": "stream",
     "text": [
      "Current:\t[   0.1     0.98   30.   1000.      1.  ]\t"
     ]
    },
    {
     "name": "stderr",
     "output_type": "stream",
     "text": [
      "/nfs/treeoflife-01/teams/tola/users/rs42/git/sperm/src/inference.py:1031: NumbaTypeSafetyWarning: unsafe cast from uint64 to int64. Precision may be lost.\n",
      "  S += weights_list[i] * \\\n"
     ]
    },
    {
     "name": "stdout",
     "output_type": "stream",
     "text": [
      "137271.85878556984\n",
      "Current:\t[   0.105    0.98    30.    1000.       1.   ]\t137250.90063914284\n",
      "Current:\t[   0.1      0.971   30.    1000.       1.   ]\t137370.9029020259\n",
      "Current:\t[   0.1     0.98   31.5  1000.      1.  ]\t137287.1261555321\n",
      "Current:\t[   0.1     0.98   30.   1050.      1.  ]\t137278.76205024926\n",
      "Current:\t[   0.1     0.98   30.   1000.      1.  ]\t137271.85878556984\n",
      "Current:\t[   0.102    0.989   30.6   1020.       1.   ]\t137193.86861570802\n",
      "Current:\t[   0.103    0.998   30.9   1030.       1.   ]\t137164.85366250633\n",
      "Current:\t[   0.103    0.987   28.86  1032.       1.   ]\t137197.58757876913\n",
      "Current:\t[  0.104   0.99   29.904 974.8     1.   ]\t137178.26372555984\n",
      "Current:\t[   0.106    0.994   29.866 1014.72     1.   ]\t137163.79636634153\n",
      "Current:\t[   0.109    1.      29.798 1022.08     1.   ]\t137667.71044592367\n",
      "Current:\t[   0.109    1.      29.812 1020.608    1.   ]\t137212.85732538707\n",
      "Current:\t[   0.105    1.      29.737 1028.851    1.   ]\t137661.4236591419\n",
      "Current:\t[   0.105    0.987   29.934 1007.213    1.   ]\t137197.9800509186\n",
      "Current:\t[   0.1      0.983   29.974 1002.885    1.   ]\t137245.27836201177\n",
      "Current:\t[   0.107    0.996   29.852 1016.177    1.   ]\t137162.26580900524\n",
      "Current:\t[   0.104    0.999   29.819 1019.866    1.   ]\t137178.3369342295\n",
      "Current:\t[  0.107   1.     31.276 990.225   1.   ]\t137626.76206429713\n",
      "Current:\t[   0.104    0.991   29.464 1021.556    1.   ]\t137173.9633088325\n",
      "Current:\t[   0.105    0.989   30.176 1003.035    1.   ]\t137187.75951250337\n",
      "Current:\t[   0.105    0.996   29.908 1015.658    1.   ]\t137161.1607219127\n",
      "Current:\t[   0.105    1.      30.092 1064.445    1.   ]\t137652.50865444876\n",
      "Current:\t[  0.105   0.993  29.951 997.211   1.   ]\t137167.96160091486\n",
      "Current:\t[   0.106    0.999   30.727 1007.95     1.   ]\t137185.54675874268\n",
      "Current:\t[   0.105    0.993   29.78  1018.155    1.   ]\t137165.8884103239\n",
      "Current:\t[   0.105    0.998   30.171 1040.673    1.   ]\t137169.11866799934\n",
      "Current:\t[   0.105    0.994   30.006 1008.077    1.   ]\t137163.64291802698\n",
      "Current:\t[   0.106    0.998   30.433 1015.698    1.   ]\t137165.68710424952\n",
      "Current:\t[   0.105    0.997   30.27  1016.312    1.   ]\t137161.59604702826\n",
      "Current:\t[  0.108   0.993  29.061 998.378   1.   ]\t137169.00285574843\n",
      "Current:\t[   0.104    0.997   30.44  1022.094    1.   ]\t137161.00285238388\n",
      "Current:\t[   0.104    0.998   30.325 1016.608    1.   ]\t137163.41447592323\n",
      "Current:\t[   0.105    0.999   30.312 1026.663    1.   ]\t137180.73176809124\n",
      "Current:\t[   0.105    0.995   30.083 1012.723    1.   ]\t137161.31019819021\n",
      "Current:\t[   0.106    0.995   29.896 1016.579    1.   ]\t137162.8602311263\n",
      "Current:\t[   0.106    0.995   30.003 1016.586    1.   ]\t137161.60503599985\n",
      "Current:\t[   0.103    0.997   30.429 1017.172    1.   ]\t137160.92698695627\n",
      "Current:\t[   0.102    0.997   30.718 1017.67     1.   ]\t137162.44945365482\n",
      "Current:\t[   0.103    0.997   30.448 1016.998    1.   ]\t137162.17730675093\n",
      "Current:\t[   0.105    0.996   30.115 1016.689    1.   ]\t137161.02159177297\n",
      "Current:\t[   0.104    0.996   30.12  1017.423    1.   ]\t137160.88451837443\n",
      "Current:\t[   0.103    0.995   30.045 1017.978    1.   ]\t137161.80738950224\n",
      "Current:\t[   0.103    0.997   30.322 1022.892    1.   ]\t137161.78820170922\n",
      "Current:\t[   0.105    0.996   30.142 1015.265    1.   ]\t137160.86039458698\n",
      "Current:\t[   0.104    0.996   30.591 1019.799    1.   ]\t137161.015134283\n",
      "Current:\t[   0.103    0.996   30.574 1020.013    1.   ]\t137161.0213899494\n",
      "Current:\t[   0.103    0.996   30.459 1019.182    1.   ]\t137160.77209703112\n",
      "Current:\t[   0.104    0.997   30.046 1016.656    1.   ]\t137160.8864369318\n",
      "Current:\t[   0.103    0.996   30.039 1012.185    1.   ]\t137160.7457389646\n",
      "Current:\t[   0.103    0.995   29.838 1007.23     1.   ]\t137161.22733712013\n",
      "Current:\t[   0.104    0.995   29.893 1015.112    1.   ]\t137161.2620182427\n",
      "Current:\t[   0.104    0.996   30.295 1016.657    1.   ]\t137160.66295954204\n",
      "Current:\t[   0.103    0.995   30.376 1015.629    1.   ]\t137161.49430543795\n",
      "Current:\t[   0.104    0.996   30.128 1016.399    1.   ]\t137160.644924063\n",
      "Current:\t[   0.104    0.997   30.306 1014.452    1.   ]\t137160.74964080003\n",
      "Current:\t[   0.102    0.997   30.348 1016.285    1.   ]\t137160.88408917622\n",
      "Current:\t[   0.104    0.996   30.194 1015.52     1.   ]\t137160.68523197406\n",
      "Current:\t[   0.104    0.996   29.925 1010.904    1.   ]\t137160.70669452296\n",
      "Current:\t[   0.104    0.996   29.927 1014.213    1.   ]\t137160.81510150534\n",
      "Current:\t[   0.104    0.996   30.211 1014.393    1.   ]\t137160.63876121712\n",
      "Current:\t[   0.104    0.997   30.263 1017.364    1.   ]\t137161.09037574302\n",
      "Current:\t[   0.103    0.996   30.095 1013.48     1.   ]\t137160.6245481595\n",
      "Current:\t[   0.103    0.996   30.444 1019.676    1.   ]\t137160.74911612345\n",
      "Current:\t[   0.104    0.996   30.055 1013.097    1.   ]\t137160.63898589538\n",
      "Current:\t[   0.103    0.996   30.12  1014.09     1.   ]\t137160.610741157\n",
      "Current:\t[   0.103    0.997   30.083 1013.375    1.   ]\t137160.6789452549\n",
      "Current:\t[   0.104    0.996   29.948 1011.926    1.   ]\t137160.63107662048\n",
      "Current:\t[   0.103    0.996   30.043 1010.395    1.   ]\t137160.56671705344\n",
      "Current:\t[   0.103    0.996   30.    1007.393    1.   ]\t137160.55106341338\n",
      "Current:\t[   0.103    0.996   30.095 1011.416    1.   ]\t137160.54649338196\n",
      "Current:\t[   0.103    0.996   30.114 1010.575    1.   ]\t137160.54624939486\n",
      "Current:\t[   0.103    0.996   29.9   1008.593    1.   ]\t137160.53658206706\n",
      "Current:\t[   0.103    0.996   29.745 1005.693    1.   ]\t137160.5802734749\n",
      "Current:\t[   0.103    0.996   30.143 1009.726    1.   ]\t137160.58730572366\n",
      "Current:\t[   0.103    0.996   30.017 1006.671    1.   ]\t137160.479718743\n",
      "Current:\t[   0.102    0.996   29.977 1003.267    1.   ]\t137160.48683350915\n",
      "Current:\t[   0.102    0.996   29.95  1003.094    1.   ]\t137160.62123013055\n",
      "Current:\t[   0.103    0.996   30.077 1011.341    1.   ]\t137160.53537576605\n",
      "Current:\t[   0.103    0.996   29.9   1008.103    1.   ]\t137160.52477567163\n",
      "Current:\t[   0.103    0.996   30.003 1010.72     1.   ]\t137160.49787378256\n",
      "Current:\t[   0.103    0.996   29.844 1007.596    1.   ]\t137160.47277697126\n",
      "Current:\t[   0.103    0.996   29.709 1006.106    1.   ]\t137160.5017221954\n",
      "Current:\t[   0.103    0.997   30.037 1009.18     1.   ]\t137160.59725748657\n",
      "Current:\t[   0.103    0.996   29.934 1008.74     1.   ]\t137160.49126087787\n",
      "Current:\t[   0.103    0.996   29.802 1005.391    1.   ]\t137160.41852065583\n",
      "Current:\t[   0.102    0.996   29.664 1002.416    1.   ]\t137160.3724083761\n",
      "Current:\t[   0.102    0.996   29.885 1006.354    1.   ]\t137160.42900732008\n",
      "Current:\t[   0.103    0.996   29.735 1001.991    1.   ]\t137160.40519642137\n",
      "Current:\t[   0.102    0.996   29.724 1001.272    1.   ]\t137160.34617330442\n",
      "Current:\t[  0.102   0.996  29.618 997.538   1.   ]\t137160.3002839467\n",
      "Current:\t[  0.102   0.996  29.482 999.687   1.   ]\t137160.32838408393\n",
      "Current:\t[  0.101   0.996  29.509 995.599   1.   ]\t137160.23559776173\n",
      "Current:\t[  0.101   0.996  29.342 989.6     1.   ]\t137160.15598269016\n",
      "Current:\t[  0.102   0.996  29.252 990.138   1.   ]\t137160.24726012078\n",
      "Current:\t[  0.101   0.996  29.209 989.761   1.   ]\t137160.11875339152\n",
      "Current:\t[  0.1     0.996  28.946 983.646   1.   ]\t137160.01680484443\n",
      "Current:\t[  0.1     0.996  28.992 981.828   1.   ]\t137160.00695499306\n",
      "Current:\t[  0.099   0.996  28.655 971.533   1.   ]\t137159.88084104913\n",
      "Current:\t[  0.099   0.996  28.843 973.296   1.   ]\t137159.94671852412\n",
      "Current:\t[  0.098   0.996  28.397 965.747   1.   ]\t137159.76113373638\n",
      "Current:\t[  0.097   0.996  27.786 949.852   1.   ]\t137159.57662149728\n",
      "Current:\t[  0.096   0.996  28.177 957.032   1.   ]\t137159.84856052953\n",
      "Current:\t[  0.096   0.996  27.621 944.544   1.   ]\t137159.64392385952\n",
      "Current:\t[  0.095   0.996  27.487 934.857   1.   ]\t137159.55939653137\n",
      "Current:\t[  0.092   0.996  26.757 910.462   1.   ]\t137159.53993193968\n",
      "Current:\t[  0.093   0.996  26.755 920.074   1.   ]\t137159.40355716692\n",
      "Current:\t[  0.09    0.996  25.712 893.463   1.   ]\t137159.35211678795\n",
      "Current:\t[  0.089   0.996  25.766 890.608   1.   ]\t137159.45941368787\n",
      "Current:\t[  0.089   0.996  25.279 878.539   1.   ]\t137159.27240187608\n",
      "Current:\t[  0.085   0.996  23.831 839.292   1.   ]\t137159.53449695642\n",
      "Current:\t[  0.087   0.996  24.899 864.625   1.   ]\t137159.4366629911\n",
      "Current:\t[  0.082   0.996  23.58  825.226   1.   ]\t137160.16717953744\n",
      "Current:\t[  0.093   0.996  26.734 918.696   1.   ]\t137159.3392329768\n",
      "Current:\t[  0.087   0.996  24.599 867.91    1.   ]\t137159.37531657176\n",
      "Current:\t[  0.089   0.996  25.123 878.685   1.   ]\t137159.30651923973\n",
      "Current:\t[  0.092   0.996  26.08  910.292   1.   ]\t137159.398231641\n",
      "Current:\t[  0.091   0.996  25.785 898.875   1.   ]\t137159.29705177748\n",
      "Current:\t[  0.093   0.996  26.855 919.393   1.   ]\t137159.36556769843\n",
      "Current:\t[  0.092   0.996  26.291 906.522   1.   ]\t137159.28863644035\n",
      "Current:\t[  0.092   0.996  25.973 899.064   1.   ]\t137159.30506247064\n",
      "Current:\t[  0.088   0.996  24.647 865.979   1.   ]\t137159.4204728167\n",
      "Current:\t[  0.092   0.996  26.212 905.516   1.   ]\t137159.27161414866\n",
      "Current:\t[  0.093   0.996  26.693 916.721   1.   ]\t137159.36271881347\n",
      "Current:\t[  0.09    0.996  25.516 888.194   1.   ]\t137159.26481255278\n",
      "Current:\t[  0.09    0.996  25.66  891.995   1.   ]\t137159.35619832855\n",
      "Current:\t[  0.091   0.996  25.895 897.297   1.   ]\t137159.26583966546\n",
      "Current:\t[  0.091   0.996  25.893 891.552   1.   ]\t137159.22929186097\n",
      "Current:\t[  0.091   0.996  25.947 887.89    1.   ]\t137159.2259627515\n",
      "Current:\t[  0.089   0.996  25.249 876.453   1.   ]\t137159.25403748231\n",
      "Current:\t[  0.092   0.996  26.248 903.601   1.   ]\t137159.29173435987\n",
      "Current:\t[  0.09    0.996  25.522 884.804   1.   ]\t137159.2435307225\n",
      "Current:\t[  0.089   0.996  25.039 868.339   1.   ]\t137159.25355989652\n",
      "Current:\t[  0.088   0.996  25.014 864.976   1.   ]\t137159.25770665158\n",
      "Current:\t[  0.089   0.996  25.192 864.79    1.   ]\t137159.22623018257\n",
      "Current:\t[  0.091   0.996  25.766 887.935   1.   ]\t137159.21929410292\n",
      "Current:\t[  0.092   0.996  26.141 899.415   1.   ]\t137159.2479267655\n",
      "Current:\t[  0.09    0.996  25.737 881.051   1.   ]\t137159.20729927978\n",
      "Current:\t[  0.091   0.996  25.981 883.351   1.   ]\t137159.22942546927\n",
      "Current:\t[  0.091   0.996  26.226 894.25    1.   ]\t137159.26326318653\n",
      "Current:\t[  0.089   0.996  25.336 874.817   1.   ]\t137159.22045484837\n",
      "Current:\t[  0.09    0.996  25.669 873.789   1.   ]\t137159.1960169423\n",
      "Current:\t[  0.09    0.996  25.743 868.281   1.   ]\t137159.2092351802\n",
      "Current:\t[  0.092   0.996  26.19  897.403   1.   ]\t137159.22650086682\n",
      "Current:\t[  0.089   0.996  25.442 872.943   1.   ]\t137159.20868849603\n",
      "Current:\t[  0.089   0.996  25.233 868.324   1.   ]\t137159.2041384702\n",
      "Current:\t[  0.09    0.996  25.803 878.8     1.   ]\t137159.18867798866\n",
      "Current:\t[  0.091   0.996  26.036 880.792   1.   ]\t137159.1964258464\n",
      "Current:\t[  0.089   0.996  25.388 862.028   1.   ]\t137159.21354327464\n",
      "Current:\t[  0.089   0.996  25.482 868.505   1.   ]\t137159.19724103223\n",
      "Current:\t[  0.09    0.996  25.728 875.244   1.   ]\t137159.1746699045\n",
      "Current:\t[  0.091   0.996  25.872 876.395   1.   ]\t137159.162888601\n",
      "Current:\t[  0.09    0.996  25.487 865.274   1.   ]\t137159.16807577046\n",
      "Current:\t[  0.091   0.996  26.092 876.781   1.   ]\t137159.2199002265\n",
      "Current:\t[  0.09    0.996  25.448 870.438   1.   ]\t137159.18262360003\n",
      "Current:\t[  0.091   0.996  25.829 877.374   1.   ]\t137159.16486090023\n",
      "Current:\t[  0.09    0.996  25.706 873.523   1.   ]\t137159.15201933862\n",
      "Current:\t[  0.09    0.996  25.724 873.391   1.   ]\t137159.1456632299\n",
      "Current:\t[  0.09    0.996  25.541 866.348   1.   ]\t137159.13668944986\n",
      "Current:\t[  0.09    0.996  25.41  860.122   1.   ]\t137159.12620782768\n",
      "Current:\t[  0.091   0.996  25.881 870.584   1.   ]\t137159.11304791595\n",
      "Current:\t[  0.092   0.996  26.097 870.656   1.   ]\t137159.09104804258\n",
      "Current:\t[  0.092   0.996  26.086 877.901   1.   ]\t137159.1316761081\n",
      "Current:\t[  0.091   0.996  25.846 866.012   1.   ]\t137159.09504324605\n",
      "Current:\t[  0.091   0.996  25.794 862.838   1.   ]\t137159.10724943687\n",
      "Current:\t[  0.092   0.996  25.969 861.621   1.   ]\t137159.06570678306\n",
      "Current:\t[  0.092   0.996  26.092 855.737   1.   ]\t137159.0463656942\n",
      "Current:\t[  0.091   0.996  25.609 848.245   1.   ]\t137159.04604671916\n",
      "Current:\t[  0.09    0.996  25.371 833.417   1.   ]\t137159.03239433255\n",
      "Current:\t[  0.093   0.996  26.27  855.342   1.   ]\t137159.03226992366\n",
      "Current:\t[  0.094   0.996  26.7   852.952   1.   ]\t137159.05020994632\n",
      "Current:\t[  0.092   0.996  26.077 849.628   1.   ]\t137158.99391598452\n",
      "Current:\t[  0.092   0.996  26.219 843.023   1.   ]\t137158.96691051853\n",
      "Current:\t[  0.093   0.995  26.173 837.258   1.   ]\t137158.98477162348\n",
      "Current:\t[  0.092   0.995  25.953 819.254   1.   ]\t137158.95663977324\n",
      "Current:\t[  0.093   0.995  25.881 793.553   1.   ]\t137158.9812066649\n",
      "Current:\t[  0.092   0.995  25.903 819.581   1.   ]\t137158.91387923594\n",
      "Current:\t[  0.091   0.995  25.808 801.503   1.   ]\t137158.8716620509\n",
      "Current:\t[  0.094   0.995  26.798 829.135   1.   ]\t137158.9351618574\n",
      "Current:\t[  0.092   0.995  26.11  796.727   1.   ]\t137158.89378767862\n",
      "Current:\t[  0.092   0.995  26.182 798.599   1.   ]\t137158.82544063398\n",
      "Current:\t[  0.092   0.995  26.187 779.269   1.   ]\t137158.76388557546\n",
      "Current:\t[  0.093   0.995  26.124 767.333   1.   ]\t137158.82807071778\n",
      "Current:\t[  0.093   0.995  26.458 770.333   1.   ]\t137158.8321309234\n",
      "Current:\t[  0.091   0.995  25.477 736.931   1.   ]\t137158.7990585306\n",
      "Current:\t[  0.092   0.995  25.911 745.421   1.   ]\t137158.7110211261\n",
      "Current:\t[  0.092   0.995  25.812 719.767   1.   ]\t137158.6541597473\n",
      "Current:\t[  0.093   0.994  26.214 707.95    1.   ]\t137158.70329874888\n",
      "Current:\t[  0.091   0.995  25.467 714.167   1.   ]\t137158.713357365\n",
      "Current:\t[  0.09    0.995  25.539 695.901   1.   ]\t137158.67649764853\n",
      "Current:\t[  0.093   0.995  26.211 709.891   1.   ]\t137158.62145290658\n",
      "Current:\t[  0.094   0.995  26.578 696.371   1.   ]\t137158.64788013755\n",
      "Current:\t[  0.091   0.994  25.511 639.802   1.   ]\t137158.74008109063\n",
      "Current:\t[  0.091   0.994  25.68  674.669   1.   ]\t137158.6604797842\n",
      "Current:\t[  0.093   0.995  26.315 689.104   1.   ]\t137158.6955399148\n",
      "Current:\t[  0.091   0.995  25.608 687.783   1.   ]\t137158.61898494675\n",
      "Current:\t[  0.09    0.995  25.305 677.7     1.   ]\t137158.6502060202\n",
      "Current:\t[  0.09    0.995  25.225 706.101   1.   ]\t137158.68445652854\n",
      "Current:\t[  0.091   0.995  25.497 701.852   1.   ]\t137158.6399786432\n",
      "Current:\t[  0.093   0.995  25.984 701.683   1.   ]\t137158.64194279752\n",
      "Current:\t[  0.092   0.995  25.965 733.722   1.   ]\t137158.62264651284\n",
      "Current:\t[  0.092   0.995  25.895 694.205   1.   ]\t137158.61242363378\n",
      "Current:\t[  0.092   0.995  25.936 681.424   1.   ]\t137158.65818760893\n",
      "Current:\t[  0.091   0.995  25.686 709.298   1.   ]\t137158.6199355\n",
      "Current:\t[  0.092   0.995  26.249 712.108   1.   ]\t137158.6156498395\n",
      "Current:\t[  0.091   0.995  25.894 671.592   1.   ]\t137158.6416086388\n",
      "Current:\t[  0.092   0.995  25.947 718.19    1.   ]\t137158.60484346922\n",
      "Current:\t[  0.09    0.995  25.543 698.742   1.   ]\t137158.62809724946\n",
      "Current:\t[  0.092   0.995  26.044 707.104   1.   ]\t137158.60520215923\n",
      "Current:\t[  0.093   0.995  26.211 698.458   1.   ]\t137158.62043813142\n",
      "Current:\t[  0.091   0.995  25.817 706.588   1.   ]\t137158.60498557054\n",
      "Current:\t[  0.093   0.995  26.373 727.495   1.   ]\t137158.626934045\n",
      "Current:\t[  0.091   0.995  25.799 697.711   1.   ]\t137158.60405378754\n",
      "Current:\t[  0.091   0.995  25.552 697.411   1.   ]\t137158.62643814506\n",
      "Current:\t[  0.092   0.995  26.075 708.434   1.   ]\t137158.60290672592\n",
      "Current:\t[  0.092   0.995  25.978 721.005   1.   ]\t137158.63179053474\n",
      "Current:\t[  0.092   0.995  25.916 700.905   1.   ]\t137158.6014815633\n",
      "Current:\t[  0.091   0.995  25.778 705.627   1.   ]\t137158.60312902255\n",
      "Current:\t[  0.092   0.995  25.988 705.759   1.   ]\t137158.60203088907\n",
      "Current:\t[  0.091   0.995  25.875 689.185   1.   ]\t137158.61029990535\n",
      "Current:\t[  0.092   0.995  25.929 710.938   1.   ]\t137158.60052734983\n",
      "Current:\t[  0.092   0.995  26.075 714.954   1.   ]\t137158.60764196035\n",
      "Current:\t[  0.092   0.995  25.868 702.022   1.   ]\t137158.60047957342\n",
      "Current:\t[  0.092   0.995  26.133 705.596   1.   ]\t137158.60634045885\n",
      "Current:\t[  0.091   0.995  25.866 705.619   1.   ]\t137158.6002753116\n",
      "Current:\t[  0.091   0.995  25.753 701.663   1.   ]\t137158.60390762758\n",
      "Current:\t[  0.092   0.995  25.994 706.741   1.   ]\t137158.6004219034\n",
      "Current:\t[  0.091   0.995  25.841 704.732   1.   ]\t137158.60207819694\n",
      "Current:\t[  0.092   0.995  25.952 705.502   1.   ]\t137158.6002554807\n",
      "Current:\t[  0.092   0.995  25.928 711.424   1.   ]\t137158.60235290922\n",
      "Current:\t[  0.092   0.995  25.919 703.535   1.   ]\t137158.6000297712\n",
      "Current:\t[  0.092   0.995  25.91  698.429   1.   ]\t137158.60184075308\n",
      "Current:\t[  0.092   0.995  25.925 707.811   1.   ]\t137158.59978129406\n",
      "Current:\t[  0.092   0.995  25.994 709.662   1.   ]\t137158.60140344594\n",
      "Current:\t[  0.092   0.995  25.9   703.932   1.   ]\t137158.59981258304\n",
      "Current:\t[  0.091   0.995  25.83  703.818   1.   ]\t137158.60031348403\n",
      "Current:\t[  0.092   0.995  25.871 704.549   1.   ]\t137158.5998256422\n",
      "Current:\t[  0.092   0.995  25.96  704.512   1.   ]\t137158.60097467125\n",
      "Current:\t[  0.092   0.995  25.89  705.343   1.   ]\t137158.59976727283\n",
      "Current:\t[  0.091   0.995  25.85  704.566   1.   ]\t137158.60014275176\n",
      "Current:\t[  0.092   0.995  25.875 704.8     1.   ]\t137158.59977285002\n",
      "Current:\t[  0.091   0.995  25.866 707.039   1.   ]\t137158.60020599465\n",
      "Current:\t[  0.092   0.995  25.905 704.411   1.   ]\t137158.59973769228\n",
      "Current:\t[  0.092   0.995  25.927 705.969   1.   ]\t137158.59986720083\n",
      "Current:\t[  0.092   0.995  25.885 704.904   1.   ]\t137158.5996991045\n",
      "Current:\t[  0.092   0.995  25.892 706.976   1.   ]\t137158.59979902644\n",
      "Current:\t[  0.092   0.995  25.894 706.215   1.   ]\t137158.59969169815\n",
      "Current:\t[  0.091   0.995  25.855 702.458   1.   ]\t137158.60006211448\n",
      "Current:\t[  0.092   0.995  25.907 706.473   1.   ]\t137158.5996670277\n",
      "Current:\t[  0.092   0.995  25.917 706.138   1.   ]\t137158.59981935204\n",
      "Current:\t[  0.092   0.995  25.886 705.134   1.   ]\t137158.59968646837\n",
      "Current:\t[  0.092   0.995  25.901 705.512   1.   ]\t137158.59982735038\n",
      "Current:\t[  0.092   0.995  25.893 705.385   1.   ]\t137158.59968355065\n",
      "Current:\t[  0.092   0.995  25.881 706.833   1.   ]\t137158.5997671071\n",
      "Current:\t[  0.092   0.995  25.899 705.017   1.   ]\t137158.59967881168\n",
      "Current:\t[  0.092   0.995  25.907 706.385   1.   ]\t137158.59966111588\n",
      "Current:\t[  0.092   0.995  25.917 707.126   1.   ]\t137158.5997028814\n",
      "Current:\t[  0.092   0.995  25.902 705.143   1.   ]\t137158.5996758082\n",
      "Current:\t[  0.092   0.995  25.917 706.226   1.   ]\t137158.59967029744\n",
      "Current:\t[  0.092   0.995  25.921 706.313   1.   ]\t137158.5996846648\n",
      "Current:\t[  0.092   0.995  25.9   705.617   1.   ]\t137158.5996590216\n",
      "Current:\t[  0.092   0.995  25.914 706.921   1.   ]\t137158.59970758314\n",
      "Current:\t[  0.092   0.995  25.903 705.493   1.   ]\t137158.5996554554\n",
      "Current:\t[  0.092   0.995  25.911 706.935   1.   ]\t137158.5997127954\n",
      "Current:\t[  0.092   0.995  25.905 705.591   1.   ]\t137158.59965447747\n",
      "Current:\t[  0.092   0.995  25.891 705.597   1.   ]\t137158.59967184946\n",
      "Current:\t[  0.092   0.995  25.911 706.069   1.   ]\t137158.5996562784\n",
      "Current:\t[  0.092   0.995  25.903 705.189   1.   ]\t137158.59967493382\n",
      "Current:\t[  0.092   0.995  25.906 706.152   1.   ]\t137158.59965482503\n",
      "Current:\t[  0.092   0.995  25.903 705.183   1.   ]\t137158.59966025923\n",
      "Current:\t[  0.092   0.995  25.904 705.484   1.   ]\t137158.59965360814\n",
      "Current:\t[  0.092   0.995  25.912 705.898   1.   ]\t137158.59965529875\n",
      "Current:\t[  0.092   0.995  25.901 705.378   1.   ]\t137158.5996567341\n",
      "Current:\t[  0.092   0.995  25.908 705.896   1.   ]\t137158.59965213176\n",
      "Current:\t[  0.092   0.995  25.911 706.116   1.   ]\t137158.5996567957\n",
      "Current:\t[  0.092   0.995  25.905 705.648   1.   ]\t137158.59965180335\n",
      "Current:\t[  0.092   0.995  25.899 705.61    1.   ]\t137158.59965797642\n",
      "Current:\t[  0.092   0.995  25.909 705.826   1.   ]\t137158.59965163132\n",
      "Current:\t[  0.092   0.995  25.906 705.226   1.   ]\t137158.59965927713\n",
      "Current:\t[  0.092   0.995  25.906 705.92    1.   ]\t137158.5996513909\n",
      "Current:\t[  0.092   0.995  25.908 705.919   1.   ]\t137158.59965893443\n",
      "Current:\t[  0.092   0.995  25.906 705.673   1.   ]\t137158.59965135483\n",
      "Current:\t[  0.092   0.995  25.91  706.102   1.   ]\t137158.59965407045\n",
      "Current:\t[  0.092   0.995  25.905 705.638   1.   ]\t137158.59965149307\n",
      "Current:\t[  0.092   0.995  25.904 705.586   1.   ]\t137158.59965171834\n",
      "Current:\t[  0.092   0.995  25.907 705.809   1.   ]\t137158.59965135463\n",
      "Current:\t[  0.092   0.995  25.908 705.89    1.   ]\t137158.59965365523\n",
      "Current:\t[  0.092   0.995  25.909 705.961   1.   ]\t137158.59965224814\n",
      "Current:\t[  0.092   0.995  25.905 705.68    1.   ]\t137158.59965091242\n",
      "Current:\t[  0.092   0.995  25.903 705.662   1.   ]\t137158.59965225845\n",
      "Current:\t[  0.092   0.995  25.907 705.785   1.   ]\t137158.59965088326\n",
      "Current:\t[  0.092   0.995  25.907 705.909   1.   ]\t137158.59965236462\n",
      "Current:\t[  0.092   0.995  25.906 705.706   1.   ]\t137158.5996508354\n",
      "Current:\t[  0.092   0.995  25.906 705.541   1.   ]\t137158.59965232768\n",
      "Current:\t[  0.092   0.995  25.906 705.826   1.   ]\t137158.5996508165\n",
      "Current:\t[  0.092   0.995  25.907 705.849   1.   ]\t137158.5996513801\n",
      "Current:\t[  0.092   0.995  25.906 705.717   1.   ]\t137158.59965088527\n",
      "Current:\t[  0.092   0.995  25.905 705.676   1.   ]\t137158.59965133463\n",
      "Current:\t[  0.092   0.995  25.906 705.709   1.   ]\t137158.5996508687\n",
      "Current:\t[  0.092   0.995  25.907 705.817   1.   ]\t137158.59965094135\n",
      "Current:\t[  0.092   0.995  25.906 705.714   1.   ]\t137158.59965076434\n",
      "Current:\t[  0.092   0.995  25.906 705.779   1.   ]\t137158.59965105393\n",
      "Current:\t[  0.092   0.995  25.906 705.733   1.   ]\t137158.59965074356\n",
      "Current:\t[  0.092   0.995  25.904 705.69    1.   ]\t137158.5996510228\n",
      "Current:\t[  0.092   0.995  25.907 705.761   1.   ]\t137158.59965074726\n",
      "Current:\t[  0.092   0.995  25.906 705.786   1.   ]\t137158.5996508121\n",
      "Current:\t[  0.092   0.995  25.906 705.822   1.   ]\t137158.59965095198\n",
      "Current:\t[  0.092   0.995  25.906 705.735   1.   ]\t137158.5996507324\n",
      "Current:\t[  0.092   0.995  25.906 705.666   1.   ]\t137158.5996509455\n",
      "Current:\t[  0.092   0.995  25.906 705.786   1.   ]\t137158.5996507277\n",
      "Current:\t[  0.092   0.995  25.906 705.705   1.   ]\t137158.59965084738\n",
      "Current:\t[  0.092   0.995  25.906 705.766   1.   ]\t137158.59965073477\n",
      "Current:\t[  0.092   0.995  25.907 705.798   1.   ]\t137158.59965077735\n",
      "Current:\t[  0.092   0.995  25.906 705.735   1.   ]\t137158.59965072467\n",
      "Current:\t[  0.092   0.995  25.906 705.74    1.   ]\t137158.59965077785\n",
      "Current:\t[  0.092   0.995  25.906 705.756   1.   ]\t137158.5996507196\n",
      "Current:\t[  0.092   0.995  25.906 705.779   1.   ]\t137158.5996507296\n",
      "Current:\t[  0.092   0.995  25.906 705.75    1.   ]\t137158.59965073637\n",
      "Current:\t[  0.092   0.995  25.906 705.762   1.   ]\t137158.59965071833\n",
      "Current:\t[  0.092   0.995  25.906 705.792   1.   ]\t137158.59965076987\n",
      "Current:\t[  0.092   0.995  25.906 705.749   1.   ]\t137158.59965071225\n",
      "Current:\t[  0.092   0.995  25.906 705.737   1.   ]\t137158.59965073178\n",
      "Current:\t[  0.092   0.995  25.906 705.768   1.   ]\t137158.59965071577\n",
      "Current:\t[  0.092   0.995  25.906 705.723   1.   ]\t137158.5996507483\n",
      "Current:\t[  0.092   0.995  25.906 705.77    1.   ]\t137158.59965071478\n",
      "Current:\t[  0.092   0.995  25.906 705.787   1.   ]\t137158.59965073472\n",
      "Current:\t[  0.092   0.995  25.906 705.748   1.   ]\t137158.5996507127\n",
      "Current:\t[  0.092   0.995  25.906 705.763   1.   ]\t137158.5996507125\n",
      "Current:\t[  0.092   0.995  25.906 705.757   1.   ]\t137158.59965071108\n",
      "Current:\t[  0.092   0.995  25.906 705.755   1.   ]\t137158.59965072115\n",
      "Current:\t[  0.092   0.995  25.906 705.747   1.   ]\t137158.59965071524\n",
      "Current:\t[  0.092   0.995  25.906 705.752   1.   ]\t137158.59965070928\n",
      "Current:\t[  0.092   0.995  25.906 705.738   1.   ]\t137158.59965071964\n",
      "Current:\t[  0.092   0.995  25.906 705.762   1.   ]\t137158.59965070942\n",
      "Current:\t[  0.092   0.995  25.906 705.765   1.   ]\t137158.59965071175\n",
      "Current:\t[  0.092   0.995  25.906 705.752   1.   ]\t137158.59965071524\n",
      "Current:\t[  0.092   0.995  25.906 705.76    1.   ]\t137158.59965071088\n",
      "Current:\t[  0.092   0.995  25.906 705.769   1.   ]\t137158.59965071324\n",
      "Current:\t[  0.092   0.995  25.906 705.754   1.   ]\t137158.59965071012\n",
      "Current:\t[  0.092   0.995  25.906 705.749   1.   ]\t137158.59965071554\n",
      "Current:\t[  0.092   0.995  25.906 705.761   1.   ]\t137158.59965070954\n",
      "CPU times: user 4h 1min 30s, sys: 35.2 s, total: 4h 2min 5s\n",
      "Wall time: 19min 10s\n"
     ]
    },
    {
     "data": {
      "text/plain": [
       "       message: Optimization terminated successfully.\n",
       "       success: True\n",
       "        status: 0\n",
       "           fun: 137158.59965070928\n",
       "             x: [ 9.164e-02  9.949e-01  2.591e+01  7.058e+02  1.000e+00]\n",
       "           nit: 198\n",
       "          nfev: 341\n",
       " final_simplex: (array([[ 9.164e-02,  9.949e-01, ...,  7.058e+02,\n",
       "                         1.000e+00],\n",
       "                       [ 9.164e-02,  9.949e-01, ...,  7.058e+02,\n",
       "                         1.000e+00],\n",
       "                       ...,\n",
       "                       [ 9.164e-02,  9.949e-01, ...,  7.058e+02,\n",
       "                         1.000e+00],\n",
       "                       [ 9.164e-02,  9.949e-01, ...,  7.058e+02,\n",
       "                         1.000e+00]]), array([ 1.372e+05,  1.372e+05,  1.372e+05,  1.372e+05,\n",
       "                        1.372e+05,  1.372e+05]))"
      ]
     },
     "execution_count": 96,
     "metadata": {},
     "output_type": "execute_result"
    }
   ],
   "source": [
    "%%time\n",
    "prob_factor = 1\n",
    "\n",
    "idf = callset_df\n",
    "\n",
    "inference.maximum_likelihood_all_reads(\n",
    "    idf[\"read_length\"].to_numpy(),\n",
    "    idf[\"high_quality_snp_positions\"].to_numpy(),\n",
    "    idf[\"high_quality_snps_idx_transitions\"].to_numpy(),\n",
    "    idf[\"between_high_quality_snps_bp\"].to_numpy() * 1e-8 * prob_factor,\n",
    "    numba.typed.List(np.repeat(5000 * 1e-8 * prob_factor, len(idf))),\n",
    "    numba.typed.List(np.repeat(5000 * 1e-8 * prob_factor, len(idf))),\n",
    "    idf[\"weight\"].to_numpy(),\n",
    "    q_range = (0.05, 0.5),   \n",
    "    m_range = (0.8, 1),\n",
    "    GC_tract_mean_range = (5, 1000),\n",
    "    GC_tract_mean2_range = (100, 100000),\n",
    "    prob_factor_range = (1,1),\n",
    "    read_margin_in_bp = 5000,\n",
    "    x0 = [0.1, 0.98, 30, 1000, 1],\n",
    ")\n",
    "\n",
    "# inference.maximum_likelihood_all_reads(\n",
    "#     idf[\"read_length\"].to_numpy(),\n",
    "#     idf[\"high_quality_snp_positions\"].to_numpy(),\n",
    "#     idf[\"high_quality_snps_idx_transitions\"].to_numpy(),\n",
    "#     idf[\"between_high_quality_snps_cM\"].to_numpy() * 1e-2 * prob_factor,\n",
    "#     idf[\"before_read_cM\"].to_numpy() * 1e-2 * prob_factor,\n",
    "#     idf[\"after_read_cM\"].to_numpy() * 1e-2 * prob_factor,\n",
    "#     idf[\"weight\"].to_numpy(),\n",
    "#     q_range = (0.05, 0.5),   \n",
    "#     m_range = (0.8, 1),\n",
    "#     GC_tract_mean_range = (5, 1000),\n",
    "#     GC_tract_mean2_range = (100, 100000),\n",
    "#     prob_factor_range = (1,1),\n",
    "#     read_margin_in_bp = 5000,\n",
    "#     x0 = [0.1, 0.98, 30, 1000, 1],\n",
    "# )\n"
   ]
  },
  {
   "cell_type": "markdown",
   "id": "99b9dcad-3316-4c54-86c3-c1070fa666c0",
   "metadata": {},
   "source": [
    "# Read results from snakemake + bootstrap"
   ]
  },
  {
   "cell_type": "code",
   "execution_count": 8,
   "id": "44ad10b4-e0e3-420e-a711-e0e55ba559e5",
   "metadata": {
    "tags": []
   },
   "outputs": [],
   "source": [
    "res = pickle.load(open(\"/lustre/scratch122/tol/projects/sperm/results/tract_length_inference_sperm_20250330/inference.take_every=10.bootstrap=0.rep=0.pcl\", \"rb\"))"
   ]
  },
  {
   "cell_type": "code",
   "execution_count": 17,
   "id": "87d04b03-3b56-4c10-97fe-4f4ce32b19bf",
   "metadata": {
    "tags": []
   },
   "outputs": [
    {
     "name": "stdout",
     "output_type": "stream",
     "text": [
      "q = 11.45%\n",
      "m = 98.99%\n",
      "L1 = 30.49 bp\n",
      "L2 = 16841.02 bp\n"
     ]
    }
   ],
   "source": [
    "print(f\"q = {res.x[0]*100:1.2f}%\")\n",
    "print(f\"m = {res.x[1]*100:1.2f}%\")\n",
    "print(f\"L1 = {res.x[2]:1.2f} bp\")\n",
    "print(f\"L2 = {res.x[3]:1.2f} bp\")"
   ]
  },
  {
   "cell_type": "code",
   "execution_count": null,
   "id": "f5847ee4-fe72-4f18-b1d0-918c37e8e567",
   "metadata": {},
   "outputs": [],
   "source": []
  },
  {
   "cell_type": "code",
   "execution_count": 4,
   "id": "014a5b32-68bb-48b6-9a93-6c8b7bd1dfd1",
   "metadata": {
    "tags": []
   },
   "outputs": [],
   "source": [
    "import glob, pickle\n",
    "\n",
    "pcls = glob.glob(\"/lustre/scratch122/tol/projects/sperm/results/tract_length_inference_sperm_20250330/inference.take_every=10.bootstrap=1.rep=*.pcl\")\n",
    "reses = [pickle.load(open(pcl, \"rb\")) for pcl in pcls]\n",
    "all_sols = np.vstack([x.x for x in reses])"
   ]
  },
  {
   "cell_type": "code",
   "execution_count": 5,
   "id": "16a34f88-da53-43c1-8a0b-2eacb6e9e991",
   "metadata": {
    "tags": []
   },
   "outputs": [
    {
     "data": {
      "image/png": "[encoded data removed]",
      "text/plain": [
       "<Figure size 640x480 with 1 Axes>"
      ]
     },
     "metadata": {},
     "output_type": "display_data"
    }
   ],
   "source": [
    "plt.hist(all_sols[:,0], bins=25);"
   ]
  },
  {
   "cell_type": "code",
   "execution_count": 6,
   "id": "657982e9-4737-4826-aa37-4dce5e2fc15f",
   "metadata": {
    "tags": []
   },
   "outputs": [
    {
     "name": "stdout",
     "output_type": "stream",
     "text": [
      "CI for q: [0.09354339 0.11286428 0.13513177]\n"
     ]
    }
   ],
   "source": [
    "print(\"CI for q:\", np.quantile(all_sols[:,0], q=[0.025, 0.5, 1-0.025]))"
   ]
  },
  {
   "cell_type": "code",
   "execution_count": 20,
   "id": "2f154cc5-9f76-462c-bc7e-8fa0a040149e",
   "metadata": {
    "tags": []
   },
   "outputs": [
    {
     "name": "stdout",
     "output_type": "stream",
     "text": [
      "CI for m: [0.98756691 0.98983319 0.99214192]\n"
     ]
    }
   ],
   "source": [
    "print(\"CI for m:\", np.quantile(all_sols[:,1], q=[0.025, 0.5, 1-0.025]))"
   ]
  },
  {
   "cell_type": "code",
   "execution_count": 21,
   "id": "180b3f4f-2393-4b07-9805-33eb452a0f80",
   "metadata": {
    "tags": []
   },
   "outputs": [
    {
     "name": "stdout",
     "output_type": "stream",
     "text": [
      "CI for L1: [23.76943173 29.92198224 38.36807126]\n"
     ]
    }
   ],
   "source": [
    "print(\"CI for L1:\", np.quantile(all_sols[:,2], q=[0.025, 0.5, 1-0.025]))"
   ]
  },
  {
   "cell_type": "code",
   "execution_count": 22,
   "id": "de589c50-c6f8-48b7-ba99-4a1fbbacc3c6",
   "metadata": {
    "tags": []
   },
   "outputs": [
    {
     "name": "stdout",
     "output_type": "stream",
     "text": [
      "CI for L2: [ 6242.31721158 16735.31553233 20762.98144071]\n"
     ]
    }
   ],
   "source": [
    "print(\"CI for L2:\", np.quantile(all_sols[:,3], q=[0.025, 0.5, 1-0.025]))"
   ]
  },
  {
   "cell_type": "code",
   "execution_count": null,
   "id": "7ea1cf4b-1688-4078-ac2a-3c84bd7eaf06",
   "metadata": {},
   "outputs": [],
   "source": []
  },
  {
   "cell_type": "code",
   "execution_count": 205,
   "id": "73110d06-a493-4a73-82e9-45cf107e2ed0",
   "metadata": {
    "tags": []
   },
   "outputs": [
    {
     "data": {
      "text/plain": [
       "1.3132703631479545e-59"
      ]
     },
     "execution_count": 205,
     "metadata": {},
     "output_type": "execute_result"
    }
   ],
   "source": [
    "np.exp(((2*4 - 2*(-26726.36)) - (2*2 - 2*(-26863.94)))/2)"
   ]
  },
  {
   "cell_type": "markdown",
   "id": "4eddea9e-3a34-49f2-87b4-91683b67eca5",
   "metadata": {},
   "source": [
    "# Run single component"
   ]
  },
  {
   "cell_type": "code",
   "execution_count": 103,
   "id": "f0d9efa2-f539-44d9-af10-cf7929eea77f",
   "metadata": {
    "tags": []
   },
   "outputs": [
    {
     "name": "stderr",
     "output_type": "stream",
     "text": [
      "/nfs/treeoflife-01/teams/tola/users/rs42/git/sperm/src/inference.py:1173: OptimizeWarning: Initial guess is not within the specified bounds\n",
      "  res = scipy.optimize.minimize(\n"
     ]
    },
    {
     "name": "stdout",
     "output_type": "stream",
     "text": [
      "Current:\t[  0.1   1.   30.  100.    1. ]\t137649.84074884534\n",
      "Current:\t[  0.105   1.     30.    100.      1.   ]\t137654.30999215526\n",
      "Current:\t[  0.1   1.   30.  100.    1. ]\t137649.84074884534\n",
      "Current:\t[  0.1   1.   31.5 100.    1. ]\t137621.05846319132\n",
      "Current:\t[  0.1   1.   30.  100.    1. ]\t137649.84074884534\n",
      "Current:\t[  0.1   1.   30.  100.    1. ]\t137649.84074884534\n",
      "Current:\t[  0.095   1.     30.6   100.      1.   ]\t137640.69000047396\n",
      "Current:\t[  0.098   1.     30.84  100.      1.   ]\t137633.66545326143\n",
      "Current:\t[  0.097   1.     31.176 100.      1.   ]\t137628.76312336046\n",
      "Current:\t[  0.096   1.     31.646 100.      1.   ]\t137623.41870785196\n",
      "Current:\t[  0.095   1.     32.305 100.      1.   ]\t137618.94484516597\n",
      "Current:\t[  0.092   1.     33.457 100.      1.   ]\t137619.73518747027\n",
      "Current:\t[  0.099   1.     32.387 100.      1.   ]\t137608.2431442197\n",
      "Current:\t[  0.101   1.     33.28  100.      1.   ]\t137593.54701526163\n",
      "Current:\t[  0.098   1.     33.123 100.      1.   ]\t137602.29611143246\n",
      "Current:\t[  0.099   1.     33.566 100.      1.   ]\t137595.4214624263\n",
      "Current:\t[  0.101   1.     33.863 100.      1.   ]\t137587.75094940406\n",
      "Current:\t[  0.103   1.     34.972 100.      1.   ]\t137571.9746050419\n",
      "Current:\t[  0.098   1.     35.399 100.      1.   ]\t137582.87319991004\n",
      "Current:\t[  0.105   1.     35.831 100.      1.   ]\t137560.3248042198\n",
      "Current:\t[  0.111   1.     37.594 100.      1.   ]\t137536.06647555344\n",
      "Current:\t[  0.107   1.     36.801 100.      1.   ]\t137548.47837386938\n",
      "Current:\t[  0.11    1.     37.652 100.      1.   ]\t137537.3835769944\n",
      "Current:\t[  0.11    1.     39.687 100.      1.   ]\t137525.08571697614\n",
      "Current:\t[  0.115   1.     42.89  100.      1.   ]\t137504.16970177993\n",
      "Current:\t[  0.12    1.     40.565 100.      1.   ]\t137501.1295718979\n",
      "Current:\t[  0.131   1.     43.149 100.      1.   ]\t137474.47059242506\n",
      "Current:\t[  0.126   1.     44.263 100.      1.   ]\t137472.88483126863\n",
      "Current:\t[  0.137   1.     48.908 100.      1.   ]\t137440.90245309024\n",
      "Current:\t[  0.134   1.     47.276 100.      1.   ]\t137450.21527477461\n",
      "Current:\t[  0.141   1.     50.274 100.      1.   ]\t137432.26855975125\n",
      "Current:\t[  0.157   1.     56.585 100.      1.   ]\t137403.20505671724\n",
      "Current:\t[  0.158   1.     57.929 100.      1.   ]\t137399.8109569425\n",
      "Current:\t[  0.182   1.     68.097 100.      1.   ]\t137374.97673032287\n",
      "Current:\t[  0.182   1.     62.716 100.      1.   ]\t137383.21577238318\n",
      "Current:\t[  0.186   1.     70.284 100.      1.   ]\t137372.6191307626\n",
      "Current:\t[  0.214   1.     83.852 100.      1.   ]\t137365.32493368146\n",
      "Current:\t[  0.215   1.     80.787 100.      1.   ]\t137364.31925212857\n",
      "Current:\t[  0.255   1.     97.542 100.      1.   ]\t137375.61553850214\n",
      "Current:\t[  0.243   1.     91.907 100.      1.   ]\t137369.73882889943\n",
      "Current:\t[  0.257   1.     98.358 100.      1.   ]\t137376.75753816796\n",
      "Current:\t[  0.263   1.    106.484 100.      1.   ]\t137381.28208098805\n",
      "Current:\t[  0.242   1.     95.542 100.      1.   ]\t137369.9902710973\n",
      "Current:\t[  0.181   1.     69.716 100.      1.   ]\t137376.48389403062\n",
      "Current:\t[  0.2     1.     76.876 100.      1.   ]\t137366.7357473819\n",
      "Current:\t[  0.263   1.    103.489 100.      1.   ]\t137380.09733790584\n",
      "Current:\t[  0.202   1.     76.945 100.      1.   ]\t137365.82432356008\n",
      "Current:\t[  0.187   1.     68.604 100.      1.   ]\t137372.73166097075\n",
      "Current:\t[  0.229   1.     88.808 100.      1.   ]\t137365.68800744103\n",
      "Current:\t[  0.181   1.     71.    100.      1.   ]\t137377.4419385213\n",
      "Current:\t[  0.227   1.     86.68  100.      1.   ]\t137365.18691161566\n",
      "Current:\t[  0.235   1.     89.952 100.      1.   ]\t137366.86809317805\n",
      "Current:\t[  0.209   1.     80.145 100.      1.   ]\t137364.8324295072\n",
      "Current:\t[  0.235   1.     91.164 100.      1.   ]\t137367.0457884272\n",
      "Current:\t[  0.211   1.     80.5   100.      1.   ]\t137364.5215551661\n",
      "Current:\t[  0.201   1.     75.978 100.      1.   ]\t137366.0874587426\n",
      "Current:\t[  0.222   1.     85.6   100.      1.   ]\t137364.61943522704\n",
      "Current:\t[  0.22    1.     81.633 100.      1.   ]\t137364.85123381138\n",
      "Current:\t[  0.203   1.     76.786 100.      1.   ]\t137365.7118921267\n",
      "Current:\t[  0.221   1.     84.206 100.      1.   ]\t137364.4066874929\n",
      "Current:\t[  0.211   1.     82.862 100.      1.   ]\t137365.5158991461\n",
      "Current:\t[  0.217   1.     81.94  100.      1.   ]\t137364.30649374137\n",
      "Current:\t[  0.226   1.     85.068 100.      1.   ]\t137365.06304557066\n",
      "Current:\t[  0.213   1.     81.376 100.      1.   ]\t137364.32697420008\n",
      "Current:\t[  0.209   1.     77.924 100.      1.   ]\t137364.9143586936\n",
      "Current:\t[  0.219   1.     83.681 100.      1.   ]\t137364.28455234037\n",
      "Current:\t[  0.223   1.     84.297 100.      1.   ]\t137364.74072821985\n",
      "Current:\t[  0.214   1.     81.449 100.      1.   ]\t137364.25570275655\n",
      "Current:\t[  0.21    1.     79.487 100.      1.   ]\t137364.53357845193\n",
      "Current:\t[  0.218   1.     83.027 100.      1.   ]\t137364.24079569592\n",
      "Current:\t[  0.22    1.     82.978 100.      1.   ]\t137364.45408990054\n",
      "Current:\t[  0.215   1.     81.776 100.      1.   ]\t137364.21994524938\n",
      "Current:\t[  0.218   1.     83.962 100.      1.   ]\t137364.3466524769\n",
      "Current:\t[  0.216   1.     81.581 100.      1.   ]\t137364.2265098669\n",
      "Current:\t[  0.215   1.     82.665 100.      1.   ]\t137364.35076654665\n",
      "Current:\t[  0.217   1.     82.122 100.      1.   ]\t137364.2224703549\n",
      "Current:\t[  0.213   1.     80.301 100.      1.   ]\t137364.33878854872\n",
      "Current:\t[  0.217   1.     82.836 100.      1.   ]\t137364.21664506712\n",
      "Current:\t[  0.219   1.     83.088 100.      1.   ]\t137364.31261824234\n",
      "Current:\t[  0.215   1.     81.859 100.      1.   ]\t137364.20871961207\n",
      "Current:\t[  0.214   1.     81.043 100.      1.   ]\t137364.25623723073\n",
      "Current:\t[  0.217   1.     82.531 100.      1.   ]\t137364.20916554308\n",
      "Current:\t[  0.217   1.     82.868 100.      1.   ]\t137364.23060618856\n",
      "Current:\t[  0.216   1.     81.903 100.      1.   ]\t137364.20624660575\n",
      "Current:\t[  0.215   1.     82.24  100.      1.   ]\t137364.23415318393\n",
      "Current:\t[  0.216   1.     82.151 100.      1.   ]\t137364.20458280205\n",
      "Current:\t[  0.218   1.     82.735 100.      1.   ]\t137364.23661122742\n",
      "Current:\t[  0.216   1.     82.016 100.      1.   ]\t137364.20349904156\n",
      "Current:\t[  0.215   1.     81.348 100.      1.   ]\t137364.227456731\n",
      "Current:\t[  0.217   1.     82.464 100.      1.   ]\t137364.20337365096\n",
      "Current:\t[  0.215   1.     81.626 100.      1.   ]\t137364.21513736818\n",
      "Current:\t[  0.217   1.     82.305 100.      1.   ]\t137364.20194532117\n",
      "Current:\t[  0.217   1.     82.477 100.      1.   ]\t137364.21623487395\n",
      "Current:\t[  0.216   1.     82.013 100.      1.   ]\t137364.20171245205\n",
      "Current:\t[  0.216   1.     82.477 100.      1.   ]\t137364.2061095456\n",
      "Current:\t[  0.216   1.     82.333 100.      1.   ]\t137364.20170544588\n",
      "Current:\t[  0.216   1.     82.301 100.      1.   ]\t137364.20947849576\n",
      "Current:\t[  0.216   1.     82.189 100.      1.   ]\t137364.200919202\n",
      "Current:\t[  0.217   1.     82.505 100.      1.   ]\t137364.2070889538\n",
      "Current:\t[  0.216   1.     82.138 100.      1.   ]\t137364.20081185532\n",
      "Current:\t[  0.216   1.     81.927 100.      1.   ]\t137364.20235303984\n",
      "Current:\t[  0.216   1.     82.061 100.      1.   ]\t137364.20063975063\n",
      "Current:\t[  0.215   1.     81.989 100.      1.   ]\t137364.2040487302\n",
      "Current:\t[  0.216   1.     82.226 100.      1.   ]\t137364.20046409414\n",
      "Current:\t[  0.217   1.     82.366 100.      1.   ]\t137364.20203866935\n",
      "Current:\t[  0.216   1.     82.101 100.      1.   ]\t137364.20056020597\n",
      "Current:\t[  0.216   1.     81.953 100.      1.   ]\t137364.20241418458\n",
      "Current:\t[  0.216   1.     82.238 100.      1.   ]\t137364.2005176113\n",
      "Current:\t[  0.216   1.     82.117 100.      1.   ]\t137364.2020797866\n",
      "Current:\t[  0.216   1.     82.171 100.      1.   ]\t137364.20029762652\n",
      "Current:\t[  0.216   1.     82.181 100.      1.   ]\t137364.20066933043\n",
      "Current:\t[  0.216   1.     82.17  100.      1.   ]\t137364.20031237698\n",
      "Current:\t[  0.216   1.     82.301 100.      1.   ]\t137364.2008657905\n",
      "Current:\t[  0.216   1.     82.121 100.      1.   ]\t137364.20029548998\n",
      "Current:\t[  0.216   1.     82.269 100.      1.   ]\t137364.2010169152\n",
      "Current:\t[  0.216   1.     82.143 100.      1.   ]\t137364.20025962812\n",
      "Current:\t[  0.216   1.     82.094 100.      1.   ]\t137364.20088874525\n",
      "Current:\t[  0.216   1.     82.202 100.      1.   ]\t137364.20026206409\n",
      "Current:\t[  0.216   1.     82.097 100.      1.   ]\t137364.20045357855\n",
      "Current:\t[  0.216   1.     82.129 100.      1.   ]\t137364.2002760796\n",
      "Current:\t[  0.216   1.     82.137 100.      1.   ]\t137364.20036585312\n",
      "Current:\t[  0.216   1.     82.162 100.      1.   ]\t137364.20023726666\n",
      "Current:\t[  0.216   1.     82.132 100.      1.   ]\t137364.20039946577\n",
      "Current:\t[  0.216   1.     82.161 100.      1.   ]\t137364.20023026122\n",
      "Current:\t[  0.216   1.     82.198 100.      1.   ]\t137364.20024205983\n",
      "Current:\t[  0.216   1.     82.217 100.      1.   ]\t137364.20030370104\n",
      "Current:\t[  0.216   1.     82.151 100.      1.   ]\t137364.20022503298\n",
      "Current:\t[  0.216   1.     82.124 100.      1.   ]\t137364.20030414558\n",
      "Current:\t[  0.216   1.     82.183 100.      1.   ]\t137364.200220465\n",
      "Current:\t[  0.216   1.     82.199 100.      1.   ]\t137364.2002960877\n",
      "Current:\t[  0.216   1.     82.157 100.      1.   ]\t137364.20022052716\n",
      "Current:\t[  0.216   1.     82.128 100.      1.   ]\t137364.20027822032\n",
      "Current:\t[  0.216   1.     82.18  100.      1.   ]\t137364.200216682\n",
      "Current:\t[  0.216   1.     82.171 100.      1.   ]\t137364.20023565943\n",
      "Current:\t[  0.216   1.     82.169 100.      1.   ]\t137364.2002178979\n",
      "Current:\t[  0.216   1.     82.175 100.      1.   ]\t137364.20025664647\n",
      "Current:\t[  0.216   1.     82.165 100.      1.   ]\t137364.2002145565\n",
      "Current:\t[  0.216   1.     82.19  100.      1.   ]\t137364.20022815475\n",
      "Current:\t[  0.216   1.     82.161 100.      1.   ]\t137364.20021539368\n",
      "Current:\t[  0.216   1.     82.186 100.      1.   ]\t137364.20022261195\n",
      "Current:\t[  0.216   1.     82.164 100.      1.   ]\t137364.20021431378\n",
      "Current:\t[  0.216   1.     82.153 100.      1.   ]\t137364.20022144282\n",
      "Current:\t[  0.216   1.     82.175 100.      1.   ]\t137364.20021430386\n",
      "Current:\t[  0.216   1.     82.169 100.      1.   ]\t137364.20021534225\n",
      "Current:\t[  0.216   1.     82.153 100.      1.   ]\t137364.2002210031\n",
      "Current:\t[  0.216   1.     82.174 100.      1.   ]\t137364.20021276403\n",
      "Current:\t[  0.216   1.     82.178 100.      1.   ]\t137364.2002169239\n",
      "Current:\t[  0.216   1.     82.165 100.      1.   ]\t137364.20021270183\n",
      "Current:\t[  0.216   1.     82.168 100.      1.   ]\t137364.20021710207\n",
      "Current:\t[  0.216   1.     82.169 100.      1.   ]\t137364.2002126563\n",
      "CPU times: user 1h 53min 52s, sys: 23.2 s, total: 1h 54min 16s\n",
      "Wall time: 10min 31s\n"
     ]
    },
    {
     "data": {
      "text/plain": [
       "       message: Optimization terminated successfully.\n",
       "       success: True\n",
       "        status: 0\n",
       "           fun: 137364.2002126563\n",
       "             x: [ 2.161e-01  1.000e+00  8.217e+01  1.000e+02  1.000e+00]\n",
       "           nit: 81\n",
       "          nfev: 150\n",
       " final_simplex: (array([[ 2.161e-01,  1.000e+00, ...,  1.000e+02,\n",
       "                         1.000e+00],\n",
       "                       [ 2.161e-01,  1.000e+00, ...,  1.000e+02,\n",
       "                         1.000e+00],\n",
       "                       ...,\n",
       "                       [ 2.161e-01,  1.000e+00, ...,  1.000e+02,\n",
       "                         1.000e+00],\n",
       "                       [ 2.161e-01,  1.000e+00, ...,  1.000e+02,\n",
       "                         1.000e+00]]), array([ 1.374e+05,  1.374e+05,  1.374e+05,  1.374e+05,\n",
       "                        1.374e+05,  1.374e+05]))"
      ]
     },
     "execution_count": 103,
     "metadata": {},
     "output_type": "execute_result"
    }
   ],
   "source": [
    "%%time\n",
    "prob_factor = 1\n",
    "\n",
    "idf = callset_df\n",
    "\n",
    "# inference.maximum_likelihood_all_reads(\n",
    "    # idf[\"read_length\"].to_numpy(),\n",
    "    # idf[\"high_quality_snp_positions\"].to_numpy(),\n",
    "    # idf[\"high_quality_snps_idx_transitions\"].to_numpy(),\n",
    "    # idf[\"between_high_quality_snps_cM\"].to_numpy() * 1e-2 * prob_factor,\n",
    "    # idf[\"before_read_cM\"].to_numpy() * 1e-2 * prob_factor,\n",
    "    # idf[\"after_read_cM\"].to_numpy() * 1e-2 * prob_factor,\n",
    "    # idf[\"weight\"].to_numpy(),\n",
    "    # q_range = (0.05, 0.5),   \n",
    "    # m_range = (1, 1),\n",
    "    # GC_tract_mean_range = (5, 1000),\n",
    "    # GC_tract_mean2_range = (100, 100),\n",
    "    # prob_factor_range = (1,1),\n",
    "    # read_margin_in_bp = 5000,\n",
    "    # x0 = [0.1, 0.98, 30, 1000, 1],\n",
    "# )\n",
    "\n",
    "inference.maximum_likelihood_all_reads(\n",
    "    idf[\"read_length\"].to_numpy(),\n",
    "    idf[\"high_quality_snp_positions\"].to_numpy(),\n",
    "    idf[\"high_quality_snps_idx_transitions\"].to_numpy(),\n",
    "    idf[\"between_high_quality_snps_bp\"].to_numpy() * 1e-8 * prob_factor,\n",
    "    numba.typed.List(np.repeat(5000 * 1e-8 * prob_factor, len(idf))),\n",
    "    numba.typed.List(np.repeat(5000 * 1e-8 * prob_factor, len(idf))),\n",
    "    idf[\"weight\"].to_numpy(),\n",
    "    q_range = (0.05, 0.5),   \n",
    "    m_range = (1, 1),\n",
    "    GC_tract_mean_range = (5, 1000),\n",
    "    GC_tract_mean2_range = (100, 100),\n",
    "    prob_factor_range = (1,1),\n",
    "    read_margin_in_bp = 5000,\n",
    "    x0 = [0.1, 0.98, 30, 1000, 1],\n",
    ")\n"
   ]
  },
  {
   "cell_type": "code",
   "execution_count": null,
   "id": "6e6c7bfc-9114-4c75-9832-7fc64636691d",
   "metadata": {},
   "outputs": [],
   "source": []
  },
  {
   "cell_type": "markdown",
   "id": "0790feeb-56ab-48d8-aa91-10e64b64c6e3",
   "metadata": {},
   "source": [
    "# Run meoitic + mitotic components"
   ]
  },
  {
   "cell_type": "code",
   "execution_count": null,
   "id": "bc23253b-6131-4550-b55f-4f6641fbc868",
   "metadata": {},
   "outputs": [],
   "source": []
  },
  {
   "cell_type": "code",
   "execution_count": null,
   "id": "96be99e5-70da-43ca-9bdd-495389050ca2",
   "metadata": {},
   "outputs": [],
   "source": []
  },
  {
   "cell_type": "code",
   "execution_count": 12,
   "id": "0cce2bb6-cfef-477b-80a0-f69c7598623d",
   "metadata": {
    "tags": []
   },
   "outputs": [
    {
     "name": "stdout",
     "output_type": "stream",
     "text": [
      "Current:\t[   0.1     0.98   30.   1000.      1.  ]\t137332.1819325376\n",
      "Current:\t[   0.105    0.98    30.    1000.       1.   ]\t137300.22890934368\n",
      "Current:\t[   0.1      0.971   30.    1000.       1.   ]\t137456.90357940277\n",
      "Current:\t[   0.1     0.98   31.5  1000.      1.  ]\t137357.4330336757\n",
      "Current:\t[   0.1     0.98   30.   1050.      1.  ]\t137340.28649716213\n",
      "Current:\t[   0.1     0.98   30.   1000.      0.95]\t137328.6068307545\n",
      "Current:\t[   0.102    0.989   30.6   1020.       0.98 ]\t137228.28832281992\n",
      "Current:\t[   0.103    0.998   30.9   1030.       0.97 ]\t137175.28283702087\n",
      "Current:\t[   0.103    0.987   28.86  1032.       0.968]\t137222.74205413263\n",
      "Current:\t[  0.104   0.99   29.904 974.8     0.955]\t137198.7240627588\n",
      "Current:\t[   0.106    0.994   29.866 1014.72     0.937]\t137170.1453517318\n",
      "Current:\t[   0.109    1.      29.798 1022.08     0.906]\t137653.13644046916\n",
      "Current:\t[   0.109    1.      29.812 1020.608    0.982]\t137200.05461028594\n",
      "Current:\t[   0.105    1.      29.737 1028.851    0.925]\t137654.49045494857\n",
      "Current:\t[   0.105    0.987   29.934 1007.213    0.981]\t137227.0223773204\n",
      "Current:\t[   0.105    1.      29.802 1021.638    0.944]\t137653.31044889367\n",
      "Current:\t[   0.105    0.99    29.901 1010.819    0.972]\t137197.14966721888\n",
      "Current:\t[  0.108   1.     31.293 988.379   0.959]\t137625.36904849883\n",
      "Current:\t[   0.104    0.991   29.468 1021.095    0.966]\t137192.70491929518\n",
      "Current:\t[  0.101   0.986  30.204 999.966   0.938]\t137261.57134856228\n",
      "Current:\t[   0.107    0.996   29.91  1015.447    0.971]\t137163.4501419333\n",
      "Current:\t[   0.106    0.998   30.114 1062.033    0.971]\t137165.78626029156\n",
      "Current:\t[   0.105    1.      30.202 1046.499    0.954]\t137645.83070049732\n",
      "Current:\t[   0.105    0.993   29.976 1019.739    0.967]\t137180.48650589617\n",
      "Current:\t[   0.106    1.      30.838 1035.681    0.961]\t137634.06277211872\n",
      "Current:\t[   0.105    0.993   29.811 1024.741    0.965]\t137177.51833368978\n",
      "Current:\t[   0.105    0.999   30.264 1039.037    0.958]\t137174.1124327601\n",
      "Current:\t[   0.106    1.      30.611 1039.754    0.959]\t137638.1796164594\n",
      "Current:\t[   0.105    0.995   30.011 1028.494    0.963]\t137169.26452017677\n",
      "Current:\t[   0.109    0.995   29.165 1033.893    0.95 ]\t137162.4586936589\n",
      "Current:\t[   0.112    0.993   28.298 1035.839    0.94 ]\t137165.61326809076\n",
      "Current:\t[   0.108    0.992   29.363 1022.797    0.959]\t137175.25440336022\n",
      "Current:\t[   0.106    0.997   30.038 1034.977    0.958]\t137164.20606634652\n",
      "Current:\t[   0.107    0.998   29.83  1055.218    0.988]\t137166.98754741927\n",
      "Current:\t[   0.108    0.999   29.612 1052.133    0.973]\t137167.8964696295\n",
      "Current:\t[   0.108    0.998   29.712 1046.223    0.97 ]\t137162.94865588145\n",
      "Current:\t[   0.107    0.995   29.746 1021.812    0.94 ]\t137164.39875502756\n",
      "Current:\t[  0.109   0.995  29.315 998.908   0.945]\t137162.4291790905\n",
      "Current:\t[  0.11    0.993  28.915 967.346   0.932]\t137164.73831517083\n",
      "Current:\t[   0.108    0.997   29.51  1029.968    0.978]\t137161.08230636574\n",
      "Current:\t[   0.108    0.998   29.392 1034.046    0.997]\t137164.31387214226\n",
      "Current:\t[   0.11     0.995   29.006 1014.798    0.967]\t137160.85214743172\n",
      "Current:\t[   0.112    0.994   28.49  1004.709    0.972]\t137162.7565717035\n",
      "Current:\t[   0.11     0.996   28.774 1034.069    0.953]\t137159.7911954452\n",
      "Current:\t[   0.112    0.995   28.205 1043.38     0.944]\t137161.19043041195\n",
      "Current:\t[  0.111   0.993  28.596 998.431   0.947]\t137165.16757462462\n",
      "Current:\t[   0.108    0.997   29.433 1034.275    0.964]\t137160.3157326828\n",
      "Current:\t[   0.109    0.997   29.25  1010.915    0.973]\t137159.68350457592\n",
      "Current:\t[  0.11    0.998  29.292 999.426   0.984]\t137162.28113666433\n",
      "Current:\t[   0.11     0.998   29.074 1050.702    0.989]\t137161.7841765377\n",
      "Current:\t[   0.109    0.997   29.134 1037.753    0.978]\t137159.84966660768\n",
      "Current:\t[   0.111    0.995   28.729 1022.756    0.957]\t137160.1333855989\n",
      "Current:\t[   0.11     0.997   29.121 1041.109    0.963]\t137160.83463512486\n",
      "Current:\t[   0.11     0.997   29.093 1034.531    0.964]\t137159.62471726895\n",
      "Current:\t[   0.112    0.996   28.559 1021.735    0.965]\t137159.6564456724\n",
      "Current:\t[   0.109    0.998   29.195 1032.845    0.977]\t137161.46772412973\n",
      "Current:\t[   0.111    0.996   28.845 1025.278    0.962]\t137159.44065890685\n",
      "Current:\t[   0.111    0.995   28.673 1012.858    0.949]\t137159.79781004155\n",
      "Current:\t[   0.111    0.996   28.789 1019.082    0.956]\t137159.41256351554\n",
      "Current:\t[   0.11     0.997   29.04  1010.548    0.975]\t137159.70932309947\n",
      "Current:\t[   0.11     0.997   28.974 1016.428    0.969]\t137159.32654861818\n",
      "Current:\t[   0.112    0.996   28.454 1035.907    0.954]\t137160.1698031413\n",
      "Current:\t[   0.11     0.997   29.051 1017.163    0.968]\t137159.29460544273\n",
      "Current:\t[   0.109    0.997   29.342 1023.258    0.962]\t137159.83787714463\n",
      "Current:\t[   0.111    0.996   28.754 1022.116    0.965]\t137159.32790779183\n",
      "Current:\t[   0.111    0.996   28.672 1005.495    0.964]\t137159.632084223\n",
      "Current:\t[   0.11     0.997   28.988 1027.272    0.964]\t137159.31647538263\n",
      "Current:\t[   0.11     0.997   28.977 1015.546    0.967]\t137159.51764595485\n",
      "Current:\t[   0.111    0.996   28.878 1022.845    0.963]\t137159.2817924781\n",
      "Current:\t[   0.11     0.997   29.069 1023.248    0.976]\t137159.67419014097\n",
      "Current:\t[   0.111    0.996   28.859 1020.123    0.961]\t137159.26178079788\n",
      "Current:\t[   0.11     0.997   29.145 1019.417    0.965]\t137159.40856528917\n",
      "Current:\t[   0.111    0.996   28.852 1021.441    0.965]\t137159.25124187797\n",
      "Current:\t[   0.11     0.996   28.877 1027.11     0.959]\t137159.35911369193\n",
      "Current:\t[   0.11     0.996   28.95  1019.098    0.967]\t137159.25311944124\n",
      "Current:\t[   0.111    0.996   28.848 1012.996    0.965]\t137159.23662560212\n",
      "Current:\t[   0.111    0.996   28.778 1005.858    0.966]\t137159.33157409274\n",
      "Current:\t[   0.111    0.996   28.704 1021.439    0.96 ]\t137159.47868139407\n",
      "Current:\t[   0.11     0.996   28.964 1018.232    0.966]\t137159.2247668655\n",
      "Current:\t[   0.111    0.996   28.911 1013.911    0.967]\t137159.2216212534\n",
      "Current:\t[   0.111    0.997   28.927 1009.444    0.968]\t137159.2851133798\n",
      "Current:\t[   0.11     0.997   28.951 1014.148    0.971]\t137159.2538738182\n",
      "Current:\t[   0.11     0.996   28.928 1015.642    0.968]\t137159.22360988526\n",
      "Current:\t[   0.111    0.996   28.852 1013.79     0.966]\t137159.21587139214\n",
      "Current:\t[   0.111    0.996   28.803 1011.136    0.965]\t137159.26211288248\n",
      "Current:\t[   0.11     0.996   28.949 1008.387    0.968]\t137159.16448071937\n",
      "Current:\t[   0.11     0.996   28.997 1001.86     0.97 ]\t137159.13889413123\n",
      "Current:\t[   0.11     0.997   29.013 1012.378    0.969]\t137159.2912140167\n",
      "Current:\t[   0.111    0.996   28.889 1012.842    0.966]\t137159.19604980396\n",
      "Current:\t[   0.111    0.996   28.867 1004.986    0.969]\t137159.16424318968\n",
      "Current:\t[   0.111    0.996   28.878 1003.314    0.967]\t137159.1594327682\n",
      "Current:\t[   0.111    0.996   28.883 1000.806    0.968]\t137159.18354165973\n",
      "Current:\t[  0.111   0.996  28.954 995.733   0.97 ]\t137159.09982033374\n",
      "Current:\t[  0.111   0.996  29.005 986.704   0.972]\t137159.05796605625\n",
      "Current:\t[  0.111   0.996  28.963 986.227   0.972]\t137159.05309053807\n",
      "Current:\t[  0.111   0.996  29.    972.919   0.975]\t137158.9901686098\n",
      "Current:\t[  0.111   0.996  29.017 987.108   0.972]\t137159.08518626558\n",
      "Current:\t[  0.11    0.996  29.092 975.776   0.974]\t137159.04359732236\n",
      "Current:\t[  0.11    0.996  29.166 966.434   0.979]\t137159.06410215967\n",
      "Current:\t[  0.111   0.996  29.115 953.716   0.979]\t137158.92959860907\n",
      "Current:\t[  0.111   0.996  29.174 929.644   0.983]\t137158.84556969072\n",
      "Current:\t[  0.111   0.996  29.158 945.483   0.98 ]\t137158.9570113073\n",
      "Current:\t[  0.111   0.996  29.006 957.777   0.975]\t137158.96656109195\n",
      "Current:\t[  0.111   0.996  29.167 925.936   0.982]\t137158.85824343798\n",
      "Current:\t[  0.111   0.996  29.109 916.928   0.985]\t137158.78703504894\n",
      "Current:\t[  0.112   0.995  29.118 887.503   0.99 ]\t137158.69287686303\n",
      "Current:\t[  0.111   0.996  29.249 885.618   0.99 ]\t137158.76267953028\n",
      "Current:\t[  0.111   0.996  29.34  871.896   0.996]\t137158.77146051457\n",
      "Current:\t[  0.112   0.996  29.261 854.756   0.996]\t137158.5974118739\n",
      "Current:\t[  0.112   0.995  29.312 809.392   1.   ]\t137158.481475571\n",
      "Current:\t[  0.112   0.995  29.31  827.686   1.   ]\t137158.53569300086\n",
      "Current:\t[  0.112   0.995  29.358 783.194   1.   ]\t137158.51645806304\n",
      "Current:\t[  0.112   0.995  29.198 805.461   0.997]\t137158.46548454565\n",
      "Current:\t[  0.113   0.995  29.127 772.243   0.997]\t137158.46565994137\n",
      "Current:\t[  0.113   0.995  29.27  759.676   1.   ]\t137158.38790435472\n",
      "Current:\t[  0.114   0.995  29.28  696.706   1.   ]\t137158.49857345966\n",
      "Current:\t[  0.113   0.995  29.461 706.66    1.   ]\t137158.5447530673\n",
      "Current:\t[  0.113   0.995  29.375 751.871   1.   ]\t137158.44050355276\n",
      "Current:\t[  0.113   0.995  29.295 736.152   0.999]\t137158.4176358211\n",
      "Current:\t[  0.113   0.995  29.222 761.827   0.998]\t137158.37740616887\n",
      "Current:\t[  0.113   0.995  29.154 751.143   0.997]\t137158.41698032222\n",
      "Current:\t[  0.113   0.995  29.232 716.603   0.997]\t137158.44577064447\n",
      "Current:\t[  0.114   0.995  29.359 684.991   1.   ]\t137158.55181419998\n",
      "Current:\t[  0.113   0.995  29.238 775.343   0.998]\t137158.40779453993\n",
      "Current:\t[  0.112   0.995  29.328 797.345   1.   ]\t137158.46283875013\n",
      "Current:\t[  0.113   0.995  29.256 736.788   0.998]\t137158.40405277576\n",
      "Current:\t[  0.113   0.995  29.137 756.044   0.997]\t137158.42174793305\n",
      "Current:\t[  0.113   0.995  29.197 755.001   0.998]\t137158.39593062553\n",
      "Current:\t[  0.113   0.995  29.178 779.302   0.998]\t137158.38705730188\n",
      "Current:\t[  0.113   0.995  29.21  741.694   0.999]\t137158.3952982287\n",
      "Current:\t[  0.113   0.995  29.175 782.212   0.999]\t137158.38418707493\n",
      "Current:\t[  0.113   0.995  29.225 774.884   1.   ]\t137158.38849392562\n",
      "Current:\t[  0.112   0.995  29.217 801.466   0.999]\t137158.40486067467\n",
      "Current:\t[  0.113   0.995  29.212 756.637   0.999]\t137158.380769307\n",
      "Current:\t[  0.113   0.995  29.197 760.978   0.998]\t137158.39443849173\n",
      "Current:\t[  0.113   0.995  29.218 771.407   0.999]\t137158.37964166858\n",
      "Current:\t[  0.113   0.995  29.132 780.878   0.997]\t137158.40676716814\n",
      "Current:\t[  0.113   0.995  29.235 764.977   0.999]\t137158.3787643042\n",
      "Current:\t[  0.113   0.995  29.247 755.522   1.   ]\t137158.38073975354\n",
      "Current:\t[  0.113   0.995  29.279 741.936   0.999]\t137158.39180993996\n",
      "Current:\t[  0.113   0.995  29.201 772.143   0.999]\t137158.37822121466\n",
      "Current:\t[  0.113   0.995  29.237 773.713   0.999]\t137158.3794157691\n",
      "Current:\t[  0.113   0.995  29.199 782.105   0.998]\t137158.38515680973\n",
      "Current:\t[  0.113   0.995  29.235 762.168   1.   ]\t137158.37742944673\n",
      "Current:\t[  0.113   0.995  29.233 762.523   0.999]\t137158.37703970534\n",
      "Current:\t[  0.113   0.995  29.241 758.081   0.998]\t137158.380453183\n",
      "Current:\t[  0.113   0.995  29.213 755.742   0.999]\t137158.3806120237\n",
      "Current:\t[  0.113   0.995  29.231 769.22    0.999]\t137158.37711678538\n",
      "Current:\t[  0.113   0.995  29.213 766.176   0.999]\t137158.37689909886\n",
      "Current:\t[  0.113   0.995  29.202 766.775   0.998]\t137158.38046552063\n",
      "Current:\t[  0.113   0.995  29.253 756.623   0.998]\t137158.3788785602\n",
      "Current:\t[  0.113   0.995  29.214 768.263   0.999]\t137158.3766392376\n",
      "Current:\t[  0.113   0.995  29.211 769.036   0.998]\t137158.37686662938\n",
      "Current:\t[  0.113   0.995  29.219 772.26    0.999]\t137158.37598016096\n",
      "Current:\t[  0.113   0.995  29.218 777.477   1.   ]\t137158.37743136182\n",
      "Current:\t[  0.113   0.995  29.205 766.083   0.998]\t137158.37551615416\n",
      "Current:\t[  0.113   0.995  29.192 764.514   0.998]\t137158.37648501433\n",
      "Current:\t[  0.113   0.995  29.191 774.204   0.998]\t137158.37986901277\n",
      "Current:\t[  0.113   0.995  29.223 765.443   0.999]\t137158.375739479\n",
      "Current:\t[  0.113   0.995  29.215 770.259   0.999]\t137158.37819975757\n",
      "Current:\t[  0.113   0.995  29.214 767.196   0.999]\t137158.37585554767\n",
      "Current:\t[  0.113   0.995  29.219 766.662   1.   ]\t137158.37569936464\n",
      "Current:\t[  0.113   0.995  29.218 766.795   0.999]\t137158.37405726122\n",
      "Current:\t[  0.113   0.995  29.22  766.062   0.999]\t137158.3729955379\n",
      "Current:\t[  0.113   0.995  29.213 760.318   0.998]\t137158.37549348758\n",
      "Current:\t[  0.113   0.995  29.219 762.631   0.999]\t137158.37387423875\n",
      "Current:\t[  0.113   0.995  29.208 763.259   0.999]\t137158.37359272875\n",
      "Current:\t[  0.113   0.995  29.207 760.679   0.997]\t137158.37400981254\n",
      "Current:\t[  0.113   0.995  29.222 759.097   0.998]\t137158.37247530877\n",
      "Current:\t[  0.113   0.995  29.23  755.604   0.998]\t137158.3723486661\n",
      "Current:\t[  0.113   0.995  29.22  762.976   0.998]\t137158.37066050936\n",
      "Current:\t[  0.113   0.995  29.223 764.304   0.999]\t137158.36948004254\n",
      "Current:\t[  0.113   0.995  29.233 764.065   1.   ]\t137158.3725260098\n",
      "Current:\t[  0.113   0.995  29.227 762.687   0.999]\t137158.37000609993\n",
      "Current:\t[  0.113   0.995  29.246 761.829   0.999]\t137158.37274247242\n",
      "Current:\t[  0.113   0.995  29.244 757.334   0.999]\t137158.37085277468\n",
      "Current:\t[  0.113   0.995  29.217 759.768   0.999]\t137158.37073869162\n",
      "Current:\t[  0.113   0.995  29.224 755.814   0.998]\t137158.36817098045\n",
      "Current:\t[  0.113   0.995  29.219 751.688   0.997]\t137158.36762335675\n",
      "Current:\t[  0.113   0.995  29.222 762.708   0.999]\t137158.365750292\n",
      "Current:\t[  0.113   0.995  29.218 766.261   0.999]\t137158.3638865076\n",
      "Current:\t[  0.113   0.995  29.198 764.549   0.998]\t137158.3670449753\n",
      "Current:\t[  0.113   0.995  29.217 764.027   0.997]\t137158.36463891505\n",
      "Current:\t[  0.113   0.995  29.203 761.645   0.997]\t137158.362708223\n",
      "Current:\t[  0.113   0.995  29.191 761.124   0.996]\t137158.36238563323\n",
      "Current:\t[  0.113   0.995  29.194 758.755   0.996]\t137158.35716766707\n",
      "Current:\t[  0.113   0.995  29.179 755.981   0.995]\t137158.35163622594\n",
      "Current:\t[  0.112   0.995  29.182 773.089   0.997]\t137158.35791747493\n",
      "Current:\t[  0.112   0.995  29.196 763.644   0.996]\t137158.35669327714\n",
      "Current:\t[  0.112   0.995  29.169 764.012   0.995]\t137158.34881175152\n",
      "Current:\t[  0.112   0.995  29.145 764.005   0.994]\t137158.34177416848\n",
      "Current:\t[  0.112   0.995  29.139 760.876   0.992]\t137158.35114411803\n",
      "Current:\t[  0.112   0.995  29.146 765.914   0.994]\t137158.33825124346\n",
      "Current:\t[  0.112   0.995  29.124 768.308   0.993]\t137158.32805070726\n",
      "Current:\t[  0.112   0.995  29.131 752.037   0.991]\t137158.33573758858\n",
      "Current:\t[  0.112   0.995  29.091 756.839   0.99 ]\t137158.32657149507\n",
      "Current:\t[  0.112   0.995  29.038 753.437   0.987]\t137158.31787099218\n",
      "Current:\t[  0.112   0.995  29.052 763.484   0.988]\t137158.31954078906\n",
      "Current:\t[  0.112   0.995  29.057 759.632   0.989]\t137158.3014850762\n",
      "Current:\t[  0.112   0.995  29.015 759.009   0.988]\t137158.28005264056\n",
      "Current:\t[  0.112   0.995  28.999 754.505   0.984]\t137158.28419340588\n",
      "Current:\t[  0.112   0.995  28.96  767.461   0.985]\t137158.27367940024\n",
      "Current:\t[  0.111   0.995  28.875 775.173   0.982]\t137158.25017247288\n",
      "Current:\t[  0.112   0.995  28.868 753.935   0.979]\t137158.25584468784\n",
      "Current:\t[  0.112   0.995  28.866 754.939   0.98 ]\t137158.23847475954\n",
      "Current:\t[  0.111   0.995  28.773 750.667   0.976]\t137158.21545683203\n",
      "Current:\t[  0.111   0.995  28.774 763.879   0.977]\t137158.19275832505\n",
      "Current:\t[  0.11    0.995  28.642 769.1     0.972]\t137158.1477613312\n",
      "Current:\t[  0.111   0.995  28.67  768.648   0.974]\t137158.17695392412\n",
      "Current:\t[  0.11    0.995  28.516 768.      0.965]\t137158.14132782497\n",
      "Current:\t[  0.11    0.995  28.266 772.495   0.954]\t137158.10538132096\n",
      "Current:\t[  0.11    0.995  28.422 780.498   0.964]\t137158.13961657736\n",
      "Current:\t[  0.109   0.995  28.235 761.391   0.954]\t137158.08121215948\n",
      "Current:\t[  0.108   0.995  27.914 754.5     0.94 ]\t137158.06585114571\n",
      "Current:\t[  0.108   0.996  27.993 787.43    0.945]\t137158.04919718645\n",
      "Current:\t[  0.106   0.996  27.604 805.812   0.93 ]\t137158.0632519841\n",
      "Current:\t[  0.107   0.995  27.825 776.961   0.936]\t137158.02621442714\n",
      "Current:\t[  0.106   0.996  27.403 781.117   0.916]\t137158.03087842325\n",
      "Current:\t[  0.107   0.996  27.526 779.654   0.924]\t137158.1328334493\n",
      "Current:\t[  0.106   0.995  27.387 767.918   0.916]\t137158.019994294\n",
      "Current:\t[  0.104   0.995  26.87  761.628   0.891]\t137158.04993284735\n",
      "Current:\t[  0.109   0.995  28.228 764.068   0.952]\t137158.0279945702\n",
      "Current:\t[  0.106   0.996  27.474 767.856   0.921]\t137158.04225488982\n",
      "Current:\t[  0.106   0.996  27.649 791.193   0.928]\t137157.97347101345\n",
      "Current:\t[  0.106   0.996  27.516 809.539   0.922]\t137157.97097224696\n",
      "Current:\t[  0.106   0.995  27.379 767.107   0.914]\t137157.92716114203\n",
      "Current:\t[  0.104   0.995  27.072 756.945   0.898]\t137157.88942929864\n",
      "Current:\t[  0.107   0.995  27.738 782.317   0.928]\t137157.9667974255\n",
      "Current:\t[  0.104   0.996  26.787 793.404   0.887]\t137158.00803733873\n",
      "Current:\t[  0.103   0.995  26.775 787.088   0.885]\t137157.88666075477\n",
      "Current:\t[  0.101   0.995  26.25  792.152   0.86 ]\t137157.88951537453\n",
      "Current:\t[  0.103   0.996  26.968 803.8     0.893]\t137157.86839364443\n",
      "Current:\t[  0.102   0.996  26.758 821.74    0.881]\t137157.9030822711\n",
      "Current:\t[  0.106   0.995  27.64  782.471   0.923]\t137157.89775867978\n",
      "Current:\t[  0.104   0.995  26.961 755.509   0.888]\t137157.81306343776\n",
      "Current:\t[  0.104   0.995  26.683 728.494   0.871]\t137157.81392905617\n",
      "Current:\t[  0.101   0.996  26.428 772.008   0.866]\t137157.79516873922\n",
      "Current:\t[  0.099   0.996  25.774 766.854   0.836]\t137157.8494587793\n",
      "Current:\t[  0.101   0.996  26.041 767.669   0.849]\t137157.9729883458\n",
      "Current:\t[  0.105   0.995  27.24  778.771   0.904]\t137157.8354604427\n",
      "Current:\t[  0.102   0.995  26.677 801.925   0.877]\t137157.8453520333\n",
      "Current:\t[  0.103   0.995  26.935 777.717   0.886]\t137157.77958262604\n",
      "Current:\t[  0.103   0.995  27.015 773.031   0.887]\t137157.80300185207\n",
      "Current:\t[  0.103   0.995  26.729 750.573   0.876]\t137157.7360706591\n",
      "Current:\t[  0.103   0.995  26.61  723.959   0.868]\t137157.71454695627\n",
      "Current:\t[  0.104   0.995  26.993 721.26    0.888]\t137157.78485577437\n",
      "Current:\t[  0.101   0.995  26.33  721.411   0.854]\t137157.70344397152\n",
      "Current:\t[  0.1     0.995  25.875 692.731   0.83 ]\t137157.72153229458\n",
      "Current:\t[  0.101   0.995  26.358 731.033   0.857]\t137157.68455976422\n",
      "Current:\t[  0.099   0.995  26.056 718.795   0.842]\t137157.70678828025\n",
      "Current:\t[  0.103   0.995  26.862 698.144   0.875]\t137157.72345110538\n",
      "Current:\t[  0.101   0.995  26.245 739.645   0.848]\t137157.68033612584\n",
      "Current:\t[  0.099   0.995  25.871 748.838   0.828]\t137157.76055909003\n",
      "Current:\t[  0.101   0.995  26.027 667.96    0.835]\t137157.740747875\n",
      "Current:\t[  0.101   0.995  26.254 695.399   0.848]\t137157.6828344122\n",
      "Current:\t[  0.099   0.995  25.857 746.435   0.835]\t137157.70745085532\n",
      "Current:\t[  0.099   0.995  25.807 729.61    0.829]\t137157.67315350522\n",
      "Current:\t[  0.097   0.995  25.406 732.436   0.81 ]\t137157.74091467704\n",
      "Current:\t[  0.102   0.995  26.541 700.404   0.86 ]\t137157.6738297916\n",
      "Current:\t[  0.1     0.995  26.152 717.026   0.843]\t137157.6559305063\n",
      "Current:\t[  0.099   0.995  26.062 714.834   0.837]\t137157.71416697328\n",
      "Current:\t[  0.1     0.995  26.042 701.801   0.834]\t137157.653803684\n",
      "Current:\t[  0.099   0.994  25.884 687.185   0.822]\t137157.69786139054\n",
      "Current:\t[  0.099   0.995  26.061 739.996   0.838]\t137157.70019171893\n",
      "Current:\t[  0.101   0.995  26.206 706.548   0.845]\t137157.65238578455\n",
      "Current:\t[  0.1     0.995  26.054 682.511   0.836]\t137157.67961687967\n",
      "Current:\t[  0.1     0.995  26.102 696.794   0.839]\t137157.6516377279\n",
      "Current:\t[  0.098   0.995  25.582 720.308   0.816]\t137157.65854859998\n",
      "Current:\t[  0.101   0.995  26.226 687.381   0.842]\t137157.67292480462\n",
      "Current:\t[  0.1     0.995  26.121 697.938   0.839]\t137157.64923368007\n",
      "Current:\t[  0.102   0.995  26.666 687.735   0.864]\t137157.70065099915\n",
      "Current:\t[  0.099   0.995  25.853 712.165   0.828]\t137157.64173949073\n",
      "Current:\t[  0.1     0.995  25.978 689.072   0.831]\t137157.66908038408\n",
      "Current:\t[  0.1     0.995  26.108 710.038   0.84 ]\t137157.64411262283\n",
      "Current:\t[  0.1     0.995  26.114 707.592   0.843]\t137157.65608554723\n",
      "Current:\t[  0.1     0.995  26.06  703.249   0.836]\t137157.64455575126\n",
      "Current:\t[  0.099   0.995  25.892 701.525   0.827]\t137157.65195009205\n",
      "Current:\t[  0.099   0.995  25.971 702.781   0.832]\t137157.64385066953\n",
      "Current:\t[  0.099   0.995  25.944 713.674   0.831]\t137157.6638652469\n",
      "Current:\t[  0.1     0.995  26.062 701.014   0.837]\t137157.64283268736\n",
      "Current:\t[  0.099   0.995  25.9   713.76    0.831]\t137157.64377824188\n",
      "Current:\t[  0.099   0.995  25.898 712.654   0.831]\t137157.65080438394\n",
      "Current:\t[  0.1     0.995  26.019 705.6     0.835]\t137157.64109519537\n",
      "Current:\t[  0.099   0.995  25.814 704.09    0.825]\t137157.64074118226\n",
      "Current:\t[  0.098   0.995  25.667 701.117   0.818]\t137157.64524332955\n",
      "Current:\t[  0.099   0.995  25.889 711.871   0.83 ]\t137157.64339878288\n",
      "Current:\t[  0.1     0.995  25.955 700.136   0.832]\t137157.64204503514\n",
      "Current:\t[  0.1     0.995  25.992 697.331   0.832]\t137157.64520475536\n",
      "Current:\t[  0.099   0.995  25.915 708.236   0.831]\t137157.6404580336\n",
      "Current:\t[  0.099   0.995  25.761 711.077   0.823]\t137157.6444850968\n",
      "Current:\t[  0.1     0.995  25.987 703.53    0.834]\t137157.64035131712\n",
      "Current:\t[  0.099   0.995  25.881 713.313   0.829]\t137157.64324240538\n",
      "Current:\t[  0.099   0.995  25.936 703.43    0.831]\t137157.6402003529\n",
      "Current:\t[  0.1     0.995  26.015 697.79    0.834]\t137157.6431099245\n",
      "Current:\t[  0.099   0.995  25.894 708.571   0.83 ]\t137157.6401114865\n",
      "Current:\t[  0.099   0.995  25.799 705.543   0.825]\t137157.64243146006\n",
      "Current:\t[  0.099   0.995  25.964 705.586   0.832]\t137157.6399624164\n",
      "Current:\t[  0.1     0.995  26.064 707.651   0.838]\t137157.6412713141\n",
      "Current:\t[  0.099   0.995  25.877 704.98    0.828]\t137157.63994665546\n",
      "Current:\t[  0.099   0.995  25.948 702.203   0.831]\t137157.64073100436\n",
      "Current:\t[  0.099   0.995  25.923 706.728   0.831]\t137157.63989724955\n",
      "Current:\t[  0.099   0.995  25.851 708.188   0.827]\t137157.64066707913\n",
      "Current:\t[  0.099   0.995  25.953 704.694   0.832]\t137157.63986720558\n",
      "Current:\t[  0.099   0.995  25.908 708.794   0.83 ]\t137157.6403115102\n",
      "Current:\t[  0.099   0.995  25.929 704.771   0.831]\t137157.6398460139\n",
      "Current:\t[  0.099   0.995  25.965 702.133   0.832]\t137157.64047513405\n",
      "Current:\t[  0.099   0.995  25.912 706.961   0.83 ]\t137157.63980305675\n",
      "Current:\t[  0.099   0.995  25.873 705.668   0.828]\t137157.64024102868\n",
      "Current:\t[  0.099   0.995  25.942 705.606   0.831]\t137157.63977759166\n",
      "Current:\t[  0.1     0.995  25.987 706.524   0.834]\t137157.6400525869\n",
      "Current:\t[  0.099   0.995  25.904 705.366   0.83 ]\t137157.6397895273\n",
      "Current:\t[  0.099   0.995  25.933 704.232   0.831]\t137157.63991234958\n",
      "Current:\t[  0.099   0.995  25.926 706.104   0.831]\t137157.63978417075\n",
      "Current:\t[  0.099   0.995  25.892 706.829   0.829]\t137157.6399243715\n",
      "Current:\t[  0.099   0.995  25.938 705.228   0.831]\t137157.63977244444\n",
      "Current:\t[  0.099   0.995  25.919 706.935   0.831]\t137157.63982550512\n",
      "Current:\t[  0.099   0.995  25.922 706.394   0.831]\t137157.63976232288\n",
      "Current:\t[  0.099   0.995  25.941 704.518   0.831]\t137157.63985818895\n",
      "Current:\t[  0.099   0.995  25.919 706.351   0.83 ]\t137157.6397540089\n",
      "Current:\t[  0.099   0.995  25.954 706.507   0.832]\t137157.63979793247\n",
      "Current:\t[  0.099   0.995  25.917 705.651   0.83 ]\t137157.6397546272\n",
      "Current:\t[  0.099   0.995  25.929 705.589   0.831]\t137157.63976265636\n",
      "Current:\t[  0.099   0.995  25.908 706.079   0.83 ]\t137157.63980281146\n",
      "Current:\t[  0.099   0.995  25.933 705.724   0.831]\t137157.6397474353\n",
      "Current:\t[  0.099   0.995  25.91  706.656   0.83 ]\t137157.63979629893\n",
      "Current:\t[  0.099   0.995  25.931 705.585   0.831]\t137157.63974636077\n",
      "Current:\t[  0.099   0.995  25.92  706.294   0.831]\t137157.63979190268\n",
      "Current:\t[  0.099   0.995  25.927 705.765   0.831]\t137157.63974383066\n",
      "Current:\t[  0.099   0.995  25.929 705.236   0.831]\t137157.63976200402\n",
      "Current:\t[  0.099   0.995  25.927 705.526   0.831]\t137157.63974609278\n",
      "Current:\t[  0.099   0.995  25.938 705.929   0.831]\t137157.63976120713\n",
      "Current:\t[  0.099   0.995  25.922 705.721   0.831]\t137157.63974361576\n",
      "Current:\t[  0.099   0.995  25.937 704.978   0.831]\t137157.63977591973\n",
      "Current:\t[  0.099   0.995  25.923 706.007   0.831]\t137157.63974232398\n",
      "Current:\t[  0.099   0.995  25.919 705.717   0.83 ]\t137157.63974634782\n",
      "Current:\t[  0.099   0.995  25.916 705.909   0.83 ]\t137157.63974977803\n",
      "Current:\t[  0.099   0.995  25.927 705.666   0.831]\t137157.63974209016\n",
      "Current:\t[  0.099   0.995  25.932 705.757   0.831]\t137157.63974617884\n",
      "Current:\t[  0.099   0.995  25.928 705.747   0.831]\t137157.63974225908\n",
      "Current:\t[  0.099   0.995  25.924 706.037   0.831]\t137157.63974397568\n",
      "Current:\t[  0.099   0.995  25.925 705.909   0.831]\t137157.63974126277\n",
      "Current:\t[  0.099   0.995  25.924 705.855   0.831]\t137157.6397474897\n",
      "Current:\t[  0.099   0.995  25.926 705.787   0.831]\t137157.63974111847\n",
      "Current:\t[  0.099   0.995  25.93  705.926   0.831]\t137157.63974325868\n",
      "Current:\t[  0.099   0.995  25.928 705.875   0.831]\t137157.6397412177\n",
      "Current:\t[  0.099   0.995  25.93  705.586   0.831]\t137157.63974469685\n",
      "Current:\t[  0.099   0.995  25.925 705.902   0.831]\t137157.63974082537\n",
      "Current:\t[  0.099   0.995  25.924 705.909   0.831]\t137157.63974240527\n",
      "Current:\t[  0.099   0.995  25.927 705.787   0.831]\t137157.6397410018\n",
      "Current:\t[  0.099   0.995  25.925 706.038   0.831]\t137157.63974345897\n",
      "Current:\t[  0.099   0.995  25.927 705.759   0.831]\t137157.6397408529\n",
      "Current:\t[  0.099   0.995  25.928 705.735   0.831]\t137157.63974235748\n",
      "Current:\t[  0.099   0.995  25.926 705.866   0.831]\t137157.63974069344\n",
      "Current:\t[  0.099   0.995  25.924 705.766   0.831]\t137157.63974101943\n",
      "Current:\t[  0.099   0.995  25.926 705.845   0.831]\t137157.63974119694\n",
      "Current:\t[  0.099   0.995  25.926 705.802   0.831]\t137157.63974072452\n",
      "Current:\t[  0.099   0.995  25.928 705.88    0.831]\t137157.63974105992\n",
      "Current:\t[  0.099   0.995  25.925 705.795   0.831]\t137157.63974069885\n",
      "Current:\t[  0.099   0.995  25.924 705.862   0.831]\t137157.63974120127\n",
      "Current:\t[  0.099   0.995  25.927 705.806   0.831]\t137157.6397406773\n",
      "Current:\t[  0.099   0.995  25.925 705.909   0.831]\t137157.63974107406\n",
      "Current:\t[  0.099   0.995  25.926 705.797   0.831]\t137157.63974064012\n",
      "Current:\t[  0.099   0.995  25.927 705.724   0.831]\t137157.63974108512\n",
      "Current:\t[  0.099   0.995  25.926 705.857   0.831]\t137157.63974063267\n",
      "Current:\t[  0.099   0.995  25.926 705.846   0.831]\t137157.63974066768\n",
      "Current:\t[  0.099   0.995  25.927 705.874   0.831]\t137157.63974060732\n",
      "Current:\t[  0.099   0.995  25.927 705.914   0.831]\t137157.63974076838\n",
      "Current:\t[  0.099   0.995  25.927 705.807   0.831]\t137157.63974078812\n",
      "Current:\t[  0.099   0.995  25.926 705.851   0.831]\t137157.63974059751\n",
      "Current:\t[  0.099   0.995  25.925 705.884   0.831]\t137157.63974073945\n",
      "Current:\t[  0.099   0.995  25.926 705.826   0.831]\t137157.63974059655\n",
      "Current:\t[  0.099   0.995  25.926 705.835   0.831]\t137157.63974069976\n",
      "Current:\t[  0.099   0.995  25.926 705.844   0.831]\t137157.6397405964\n",
      "Current:\t[  0.099   0.995  25.926 705.904   0.831]\t137157.63974069463\n",
      "Current:\t[  0.099   0.995  25.926 705.823   0.831]\t137157.63974058777\n",
      "Current:\t[  0.099   0.995  25.927 705.83    0.831]\t137157.639740618\n",
      "Current:\t[  0.099   0.995  25.926 705.837   0.831]\t137157.63974058453\n",
      "Current:\t[  0.099   0.995  25.926 705.798   0.831]\t137157.6397406541\n",
      "Current:\t[  0.099   0.995  25.926 705.855   0.831]\t137157.63974057883\n",
      "Current:\t[  0.099   0.995  25.927 705.823   0.831]\t137157.63974062662\n",
      "Current:\t[  0.099   0.995  25.926 705.844   0.831]\t137157.6397405788\n",
      "Current:\t[  0.099   0.995  25.926 705.855   0.831]\t137157.63974059353\n",
      "Current:\t[  0.099   0.995  25.927 705.842   0.831]\t137157.6397406027\n",
      "Current:\t[  0.099   0.995  25.926 705.843   0.831]\t137157.63974058058\n",
      "Current:\t[  0.099   0.995  25.926 705.825   0.831]\t137157.6397405992\n",
      "Current:\t[  0.099   0.995  25.926 705.848   0.831]\t137157.63974057935\n",
      "Current:\t[  0.099   0.995  25.926 705.867   0.831]\t137157.63974058683\n",
      "Current:\t[  0.099   0.995  25.926 705.856   0.831]\t137157.63974057813\n",
      "Current:\t[  0.099   0.995  25.926 705.862   0.831]\t137157.6397405934\n",
      "Current:\t[  0.099   0.995  25.926 705.843   0.831]\t137157.63974057627\n",
      "Current:\t[  0.099   0.995  25.926 705.855   0.831]\t137157.63974058646\n",
      "Current:\t[  0.099   0.995  25.926 705.846   0.831]\t137157.63974057662\n",
      "Current:\t[  0.099   0.995  25.926 705.85    0.831]\t137157.63974057866\n",
      "Current:\t[  0.099   0.995  25.926 705.841   0.831]\t137157.63974057927\n",
      "Current:\t[  0.099   0.995  25.926 705.851   0.831]\t137157.63974057624\n",
      "CPU times: user 37min 43s, sys: 2.25 s, total: 37min 46s\n",
      "Wall time: 3min 34s\n"
     ]
    }
   ],
   "source": [
    "%%time\n",
    "idf = callset_df\n",
    "\n",
    "inf_res = inference.maximum_likelihood_all_reads_meiotic_mitotic(\n",
    "    idf[\"read_length\"].to_numpy(),\n",
    "    idf[\"high_quality_snp_positions\"].to_numpy(),\n",
    "    idf[\"high_quality_snps_idx_transitions\"].to_numpy(),\n",
    "    # idf[\"between_high_quality_snps_cM\"].to_numpy() * 1e-2,\n",
    "    # idf[\"before_read_cM\"].to_numpy() * 1e-2,\n",
    "    # idf[\"after_read_cM\"].to_numpy() * 1e-2,\n",
    "    idf[\"between_high_quality_snps_bp\"].to_numpy() * 1e-8,\n",
    "    numba.typed.List(np.repeat(5000 * 1e-8, len(idf))),\n",
    "    numba.typed.List(np.repeat(5000 * 1e-8, len(idf))),\n",
    "    idf[\"between_high_quality_snps_bp\"].to_numpy() * 1e-8,\n",
    "    numba.typed.List(np.repeat(5000 * 1e-8, len(idf))),\n",
    "    numba.typed.List(np.repeat(5000 * 1e-8, len(idf))),\n",
    "    idf[\"weight\"].to_numpy(),\n",
    "    q_range_meiotic = (0.05, 0.5),   \n",
    "    m_range_meiotic = (0.8, 1),\n",
    "    GC_tract_mean_meiotic_range = (5, 1000),\n",
    "    GC_tract_mean2_meoitic_range = (100, 100000),\n",
    "    prob_factor_range_mitotic = (1e-10, 1),\n",
    "    read_margin_in_bp = 5000,\n",
    "    x0 = [0.1, 0.98, 30, 1000, 1],\n",
    ")"
   ]
  },
  {
   "cell_type": "code",
   "execution_count": 38,
   "id": "23e6e4ba-40c7-436c-8917-4fc62fe90713",
   "metadata": {
    "tags": []
   },
   "outputs": [
    {
     "data": {
      "text/plain": [
       "       message: Optimization terminated successfully.\n",
       "       success: True\n",
       "        status: 0\n",
       "           fun: 121411.59962536352\n",
       "             x: [ 1.630e-01  8.883e-01  8.977e+01  1.000e+05  1.781e-06]\n",
       "           nit: 925\n",
       "          nfev: 1446\n",
       " final_simplex: (array([[ 1.630e-01,  8.883e-01, ...,  1.000e+05,\n",
       "                         1.781e-06],\n",
       "                       [ 1.630e-01,  8.883e-01, ...,  1.000e+05,\n",
       "                         1.814e-06],\n",
       "                       ...,\n",
       "                       [ 1.630e-01,  8.883e-01, ...,  1.000e+05,\n",
       "                         1.773e-06],\n",
       "                       [ 1.630e-01,  8.883e-01, ...,  1.000e+05,\n",
       "                         1.835e-06]]), array([ 1.214e+05,  1.214e+05,  1.214e+05,  1.214e+05,\n",
       "                        1.214e+05,  1.214e+05]))"
      ]
     },
     "execution_count": 38,
     "metadata": {},
     "output_type": "execute_result"
    }
   ],
   "source": [
    "inf_res"
   ]
  },
  {
   "cell_type": "code",
   "execution_count": null,
   "id": "b0c3f60f-efc8-45fe-aa35-a2754a700fba",
   "metadata": {},
   "outputs": [],
   "source": []
  },
  {
   "cell_type": "markdown",
   "id": "33d34cbf-8ffe-4022-8d87-ca145458b157",
   "metadata": {},
   "source": [
    "# Test likelihood"
   ]
  },
  {
   "cell_type": "markdown",
   "id": "da86d805-114e-4a01-872d-79f096d1cbf8",
   "metadata": {},
   "source": [
    "# Test on simulations"
   ]
  },
  {
   "cell_type": "code",
   "execution_count": 54,
   "id": "23b98a79-a705-4cfd-8572-3f7f5f2ca530",
   "metadata": {
    "tags": []
   },
   "outputs": [
    {
     "name": "stdout",
     "output_type": "stream",
     "text": [
      "Working on 21444 events\n",
      "# events: 21444\n",
      "# CO events: 2446\n",
      "# detected CO events: 1079\n",
      "# NCO events: 18998\n",
      "# detected NCO events: 178\n",
      "# detected NCO events from NCOs: 178\n",
      "# detected CO events from NCOs: 139\n",
      "# NCO first comp: 18823\n",
      "CPU times: user 1min 47s, sys: 7.12 s, total: 1min 54s\n",
      "Wall time: 1min 55s\n"
     ]
    }
   ],
   "source": [
    "%%time\n",
    "idf = callset_df\n",
    "\n",
    "res = inference.simulate_read_patterns_probs(\n",
    "    numba.typed.List(idf[\"read_length\"].to_numpy()),\n",
    "    numba.typed.List(idf[\"high_quality_snp_positions\"].to_numpy()),\n",
    "    numba.typed.List(idf[\"between_high_quality_snps_cM\"].to_numpy() * 1e-2),\n",
    "    numba.typed.List(idf[\"before_read_cM\"].to_numpy() * 1e-2),\n",
    "    numba.typed.List(idf[\"after_read_cM\"].to_numpy() * 1e-2),\n",
    "    q = 0.114,\n",
    "    m = 0.99,\n",
    "    GC_tract_mean = 30.5,\n",
    "    GC_tract_mean2 = 16842,\n",
    "    read_margin_in_bp = 5000,\n",
    ")\n",
    "\n",
    "# res = inference.simulate_read_patterns_probs(\n",
    "#     numba.typed.List(idf[\"read_length\"].to_numpy()),\n",
    "#     numba.typed.List(idf[\"high_quality_snp_positions\"].to_numpy()),\n",
    "#     numba.typed.List(idf[\"between_high_quality_snps_bp\"].to_numpy() * 1e-8),\n",
    "#     numba.typed.List(np.repeat(5000 * 1e-8, len(idf))),\n",
    "#     numba.typed.List(np.repeat(5000 * 1e-8, len(idf))),\n",
    "#     q = 0.128,\n",
    "#     m = 0.97,\n",
    "#     GC_tract_mean = 29.59,\n",
    "#     GC_tract_mean2 = 652,\n",
    "#     read_margin_in_bp = 5000,\n",
    "# )\n",
    "\n",
    "\n",
    "sim_idx_transitions = [np.array([], dtype=np.int64) for i in range(len(idf))]\n",
    "for i, lst in zip(res[1], res[0]):\n",
    "    sim_idx_transitions[i] = np.array(lst, dtype=np.int64)\n",
    "#sim_idx_transitions = np.array(sim_idx_transitions, dtype=object)\n",
    "sim_callset_df = (idf\n",
    "    .with_columns(high_quality_snps_idx_transitions = pl.Series(sim_idx_transitions, dtype=pl.List(pl.Int64)))\n",
    ")\n",
    "\n",
    "n_detected_COs = np.sum([1 for x in sim_idx_transitions if len(x) == 1])\n",
    "n_detected_NCOs = np.sum([1 for x in sim_idx_transitions if len(x) == 2])\n",
    "\n",
    "n_detected_NCOs_from_NCOs = np.sum([1 for idx_trans, event_type in zip(res[0], res[6]) if event_type == 0 and len(idx_trans) == 2])\n",
    "n_detected_COs_from_NCOs = np.sum([1 for idx_trans, event_type in zip(res[0], res[6]) if event_type == 0 and len(idx_trans) == 1])\n",
    "\n",
    "print(\"# events:\", len(res[0]))\n",
    "print(\"# CO events:\", res[3])\n",
    "print(\"# detected CO events:\", n_detected_COs)\n",
    "\n",
    "print(\"# NCO events:\", res[4])\n",
    "print(\"# detected NCO events:\", n_detected_NCOs)\n",
    "print(\"# detected NCO events from NCOs:\", n_detected_NCOs_from_NCOs)\n",
    "print(\"# detected CO events from NCOs:\", n_detected_COs_from_NCOs)\n",
    "\n",
    "print(\"# NCO first comp:\", res[5])\n"
   ]
  },
  {
   "cell_type": "code",
   "execution_count": 11,
   "id": "e7244fb0-e654-451f-b1f0-893be0c7edd6",
   "metadata": {
    "tags": []
   },
   "outputs": [
    {
     "name": "stdout",
     "output_type": "stream",
     "text": [
      "Frac NCO detected: 0.010772858827312682\n"
     ]
    }
   ],
   "source": [
    "print(\"Frac NCO detected:\", n_detected_NCOs/res[4])"
   ]
  },
  {
   "cell_type": "code",
   "execution_count": 95,
   "id": "886871a1-936e-4360-871a-4ab564573456",
   "metadata": {
    "tags": []
   },
   "outputs": [
    {
     "data": {
      "text/plain": [
       "0.1140645401977243"
      ]
     },
     "execution_count": 95,
     "metadata": {},
     "output_type": "execute_result"
    }
   ],
   "source": [
    "2446/21444"
   ]
  },
  {
   "cell_type": "code",
   "execution_count": null,
   "id": "7c13ec20-10fe-4319-b074-5cea8d35d3cd",
   "metadata": {},
   "outputs": [],
   "source": []
  },
  {
   "cell_type": "code",
   "execution_count": 26,
   "id": "742e796b-4f38-41b9-acf7-beb4a61a23bb",
   "metadata": {
    "tags": []
   },
   "outputs": [],
   "source": [
    "shorts = np.array([tract_length \\\n",
    "     for idx_trans, event_type, tract_type, tract_length in zip(res[0], res[6], res[7], res[8]) \\\n",
    "     if event_type == 0 and tract_type == 1])\n",
    "\n",
    "longs = np.array([tract_length \\\n",
    "     for idx_trans, event_type, tract_type, tract_length in zip(res[0], res[6], res[7], res[8]) \\\n",
    "     if event_type == 0 and tract_type == 0])\n",
    "\n",
    "shorts_frac_detected = np.array([(len(idx_trans) > 0) \\\n",
    "     for idx_trans, event_type, tract_type, tract_length in zip(res[0], res[6], res[7], res[8]) \\\n",
    "     if event_type == 0 and tract_type == 1]).mean()\n",
    "\n",
    "long_frac_detected = np.array([(len(idx_trans) > 0) \\\n",
    "     for idx_trans, event_type, tract_type, tract_length in zip(res[0], res[6], res[7], res[8]) \\\n",
    "     if event_type == 0 and tract_type == 0]).mean()\n",
    "\n",
    "shorts_n_snps_detected = np.array([len(idx_trans) \\\n",
    "     for idx_trans, event_type, tract_type, tract_length in zip(res[0], res[6], res[7], res[8]) \\\n",
    "     if event_type == 0 and tract_type == 1])\n",
    "\n",
    "long_n_snps_detected = np.array([len(idx_trans) \\\n",
    "     for idx_trans, event_type, tract_type, tract_length in zip(res[0], res[6], res[7], res[8]) \\\n",
    "     if event_type == 0 and tract_type == 0])\n",
    "\n"
   ]
  },
  {
   "cell_type": "code",
   "execution_count": 94,
   "id": "007f12aa-2da3-4765-b186-6ba42dfa4649",
   "metadata": {
    "tags": []
   },
   "outputs": [
    {
     "data": {
      "text/plain": [
       "np.float64(4.884552618658227)"
      ]
     },
     "execution_count": 94,
     "metadata": {},
     "output_type": "execute_result"
    }
   ],
   "source": [
    "longs.sum() / shorts.sum()"
   ]
  },
  {
   "cell_type": "code",
   "execution_count": 93,
   "id": "2f2ee013-8268-46f4-9c65-d3088163382b",
   "metadata": {
    "tags": []
   },
   "outputs": [
    {
     "data": {
      "text/plain": [
       "2947350"
      ]
     },
     "execution_count": 93,
     "metadata": {},
     "output_type": "execute_result"
    }
   ],
   "source": [
    "16842 * 175"
   ]
  },
  {
   "cell_type": "code",
   "execution_count": null,
   "id": "52f03df3-fd2d-4724-911a-f1503fc31d25",
   "metadata": {},
   "outputs": [],
   "source": []
  },
  {
   "cell_type": "code",
   "execution_count": 82,
   "id": "f4fc0d48-dc6d-42bc-b1aa-e47db8dad877",
   "metadata": {
    "tags": []
   },
   "outputs": [
    {
     "data": {
      "text/plain": [
       "np.int64(80)"
      ]
     },
     "execution_count": 82,
     "metadata": {},
     "output_type": "execute_result"
    }
   ],
   "source": [
    "np.array([len(idx_trans)==1 \\\n",
    "     for idx_trans, event_type, tract_type, tract_length in zip(res[0], res[6], res[7], res[8]) \\\n",
    "     if event_type == 0 and tract_type == 0]).sum()"
   ]
  },
  {
   "cell_type": "code",
   "execution_count": 83,
   "id": "8e154a69-447d-411c-9dcc-e471502d285f",
   "metadata": {
    "tags": []
   },
   "outputs": [
    {
     "data": {
      "text/plain": [
       "0.45714285714285713"
      ]
     },
     "execution_count": 83,
     "metadata": {},
     "output_type": "execute_result"
    }
   ],
   "source": [
    "80/175"
   ]
  },
  {
   "cell_type": "code",
   "execution_count": null,
   "id": "ed07ff6b-8871-4484-91b8-b46f58215dbd",
   "metadata": {},
   "outputs": [],
   "source": []
  },
  {
   "cell_type": "code",
   "execution_count": null,
   "id": "cc00ab4c-98ab-4f5d-8bc2-194c6f6e35c1",
   "metadata": {},
   "outputs": [],
   "source": []
  },
  {
   "cell_type": "code",
   "execution_count": null,
   "id": "20946899-1f8a-45e1-a386-efe5e38f620e",
   "metadata": {},
   "outputs": [],
   "source": []
  },
  {
   "cell_type": "code",
   "execution_count": 59,
   "id": "e4949e57-838a-4b25-81f3-616f8e1d372e",
   "metadata": {
    "tags": []
   },
   "outputs": [
    {
     "data": {
      "text/plain": [
       "[(np.int64(5839), [], np.int64(7217), np.int64(11999), np.int64(19216)),\n",
       " (np.int64(14564), [], np.int64(727), np.int64(17667), np.int64(18394)),\n",
       " (np.int64(73669), [], np.int64(26395), np.int64(20721), np.int64(47116)),\n",
       " (np.int64(440449), [6], np.int64(7840), np.int64(7080), np.int64(14920)),\n",
       " (np.int64(675052), [], np.int64(30492), np.int64(-1811), np.int64(28681)),\n",
       " (np.int64(749334), [], np.int64(15928), np.int64(10921), np.int64(26849)),\n",
       " (np.int64(767799), [], np.int64(4331), np.int64(-1556), np.int64(2775)),\n",
       " (np.int64(931790), [1], np.int64(3727), np.int64(3848), np.int64(7575)),\n",
       " (np.int64(1026560), [], np.int64(40639), np.int64(2071), np.int64(42710)),\n",
       " (np.int64(1045130), [], np.int64(19249), np.int64(-4122), np.int64(15127))]"
      ]
     },
     "execution_count": 59,
     "metadata": {},
     "output_type": "execute_result"
    }
   ],
   "source": [
    "[(read_index, idx_trans, tract_length, first_switch, second_switch)\n",
    "     for idx_trans, read_index, event_type, tract_type, tract_length, first_switch, second_switch in zip(res[0], res[1], res[6], res[7], res[8], res[9], res[10]) \\\n",
    "     if event_type == 0 and tract_type == 0][:10]\n"
   ]
  },
  {
   "cell_type": "code",
   "execution_count": 70,
   "id": "da6be6ee-e2be-4cfe-b2aa-fcf07d2d9529",
   "metadata": {
    "tags": []
   },
   "outputs": [
    {
     "data": {
      "text/plain": [
       "15490"
      ]
     },
     "metadata": {},
     "output_type": "display_data"
    },
    {
     "data": {
      "text/html": [
       "<div><style>\n",
       ".dataframe > thead > tr,\n",
       ".dataframe > tbody > tr {\n",
       "  text-align: right;\n",
       "  white-space: pre-wrap;\n",
       "}\n",
       "</style>\n",
       "<small>shape: (10,)</small><table border=\"1\" class=\"dataframe\"><thead><tr><th></th></tr><tr><td>i64</td></tr></thead><tbody><tr><td>3005</td></tr><tr><td>5449</td></tr><tr><td>9891</td></tr><tr><td>10951</td></tr><tr><td>11201</td></tr><tr><td>11909</td></tr><tr><td>12357</td></tr><tr><td>13245</td></tr><tr><td>13320</td></tr><tr><td>13727</td></tr></tbody></table></div>"
      ],
      "text/plain": [
       "shape: (10,)\n",
       "Series: '' [i64]\n",
       "[\n",
       "\t3005\n",
       "\t5449\n",
       "\t9891\n",
       "\t10951\n",
       "\t11201\n",
       "\t11909\n",
       "\t12357\n",
       "\t13245\n",
       "\t13320\n",
       "\t13727\n",
       "]"
      ]
     },
     "metadata": {},
     "output_type": "display_data"
    }
   ],
   "source": [
    "idx = 675052\n",
    "\n",
    "display(idf[\"read_length\"][idx])\n",
    "display(idf[\"high_quality_snp_positions\"][idx])"
   ]
  },
  {
   "cell_type": "code",
   "execution_count": null,
   "id": "c6e2ac86-cbe5-4697-8230-d5b5d37e0dc5",
   "metadata": {},
   "outputs": [],
   "source": []
  },
  {
   "cell_type": "code",
   "execution_count": 85,
   "id": "f2b5209a-13f6-4d27-8af7-e7a3022ffbc8",
   "metadata": {
    "tags": []
   },
   "outputs": [
    {
     "data": {
      "text/plain": [
       "(np.int64(87), np.int64(430))"
      ]
     },
     "execution_count": 85,
     "metadata": {},
     "output_type": "execute_result"
    }
   ],
   "source": [
    "long_n_snps_detected.sum(), shorts_n_snps_detected.sum()"
   ]
  },
  {
   "cell_type": "code",
   "execution_count": 86,
   "id": "e130d8fa-3195-463a-90f8-652b959c2151",
   "metadata": {
    "tags": []
   },
   "outputs": [
    {
     "data": {
      "text/plain": [
       "517"
      ]
     },
     "execution_count": 86,
     "metadata": {},
     "output_type": "execute_result"
    }
   ],
   "source": [
    "430+87"
   ]
  },
  {
   "cell_type": "code",
   "execution_count": 84,
   "id": "2259a1f3-1dba-4262-81d6-1fd416df36a8",
   "metadata": {
    "tags": []
   },
   "outputs": [
    {
     "name": "stdout",
     "output_type": "stream",
     "text": [
      "Fraction of converted SNPs coming from longs: 0.16827852998065765\n"
     ]
    }
   ],
   "source": [
    "print(\n",
    "    \"Fraction of converted SNPs coming from longs:\",\n",
    "    long_n_snps_detected.sum() / (long_n_snps_detected.sum() + shorts_n_snps_detected.sum())\n",
    ")"
   ]
  },
  {
   "cell_type": "code",
   "execution_count": 40,
   "id": "acb600f3-4180-4c03-ad04-8bc8592e45a2",
   "metadata": {
    "tags": []
   },
   "outputs": [
    {
     "name": "stdout",
     "output_type": "stream",
     "text": [
      "Fraction of detected NCOs coming from longs: 0.23417721518987342\n"
     ]
    }
   ],
   "source": [
    "print(\n",
    "    \"Fraction of detected NCOs coming from longs:\",\n",
    "    len(np.nonzero(long_n_snps_detected)[0]) / (len(np.nonzero(long_n_snps_detected)[0]) + len(np.nonzero(shorts_n_snps_detected)[0]))\n",
    ")"
   ]
  },
  {
   "cell_type": "code",
   "execution_count": null,
   "id": "8e4b1050-8a6c-4306-ad38-b495e4000c93",
   "metadata": {},
   "outputs": [],
   "source": []
  },
  {
   "cell_type": "code",
   "execution_count": null,
   "id": "3fa23f7d-b84e-4bd1-aa0f-1040dce1380f",
   "metadata": {},
   "outputs": [],
   "source": []
  },
  {
   "cell_type": "code",
   "execution_count": 19,
   "id": "1417bee6-1e07-4dec-ad05-d6bd55c0e0c7",
   "metadata": {
    "tags": []
   },
   "outputs": [
    {
     "data": {
      "text/plain": [
       "np.float64(30.62228231476474)"
      ]
     },
     "execution_count": 19,
     "metadata": {},
     "output_type": "execute_result"
    }
   ],
   "source": [
    "shorts.mean()"
   ]
  },
  {
   "cell_type": "code",
   "execution_count": 21,
   "id": "5ea6d4cb-316d-4853-8150-ffded3758c0e",
   "metadata": {
    "tags": []
   },
   "outputs": [
    {
     "data": {
      "text/plain": [
       "np.float64(16462.279761904763)"
      ]
     },
     "execution_count": 21,
     "metadata": {},
     "output_type": "execute_result"
    }
   ],
   "source": [
    "longs.mean()"
   ]
  },
  {
   "cell_type": "code",
   "execution_count": null,
   "id": "43b6b313-df71-43e8-9130-97a3556672d3",
   "metadata": {},
   "outputs": [],
   "source": []
  },
  {
   "cell_type": "code",
   "execution_count": 14,
   "id": "ecb7dbb5-7834-442f-b07b-ec66d8cd5c25",
   "metadata": {
    "tags": []
   },
   "outputs": [
    {
     "data": {
      "text/plain": [
       "np.float64(0.010966672016262773)"
      ]
     },
     "execution_count": 14,
     "metadata": {},
     "output_type": "execute_result"
    }
   ],
   "source": [
    "shorts_frac_detected"
   ]
  },
  {
   "cell_type": "code",
   "execution_count": 25,
   "id": "7aa4f6bb-fdfb-4e62-b8e4-64ca3c57228f",
   "metadata": {
    "tags": []
   },
   "outputs": [
    {
     "data": {
      "text/plain": [
       "np.float64(0.17261904761904762)"
      ]
     },
     "execution_count": 25,
     "metadata": {},
     "output_type": "execute_result"
    }
   ],
   "source": [
    "long_frac_detected * 6/16"
   ]
  },
  {
   "cell_type": "code",
   "execution_count": 22,
   "id": "4d498498-e495-4d0f-8cc6-f76fdca4e647",
   "metadata": {
    "tags": []
   },
   "outputs": [
    {
     "data": {
      "text/plain": [
       "189"
      ]
     },
     "execution_count": 22,
     "metadata": {},
     "output_type": "execute_result"
    }
   ],
   "source": [
    "len(longs)"
   ]
  },
  {
   "cell_type": "code",
   "execution_count": null,
   "id": "88e0efb3-5a1e-47d0-8c97-b4177c2a368e",
   "metadata": {},
   "outputs": [],
   "source": []
  },
  {
   "cell_type": "code",
   "execution_count": null,
   "id": "544e503d-7a4d-47b2-a5cc-cfcf54a32d3d",
   "metadata": {},
   "outputs": [],
   "source": [
    "# Pr(NCO is long | detected NCO as NCO) = Pr(detected NCO as NCO | NCO is long) * Pr(NCO is long) / Pr(detected NCO as NCO)\n",
    "\n",
    "# Pr(detected NCO as NCO | NCO is short) = 0.011\n",
    "\n",
    "# Pr(detected NCO | NCO is long) = 0.46\n",
    "\n",
    "# Pr(NCO is short) = 0.99\n",
    "\n",
    "# Pr(NCO is long) = 0.01\n",
    "\n",
    "# Pr(detected NCO as NCO) = 0.99 * 0.011 + 0.01 * 0.46 = 0.015\n",
    "\n",
    "# Pr(NCO is long | detected NCO) = 0.01 * 0.46 / 0.015 = 0.31"
   ]
  },
  {
   "cell_type": "code",
   "execution_count": 23,
   "id": "050d714b-788b-407f-99cc-69c8d97942e1",
   "metadata": {
    "tags": []
   },
   "outputs": [
    {
     "data": {
      "text/plain": [
       "0.015489999999999999"
      ]
     },
     "execution_count": 23,
     "metadata": {},
     "output_type": "execute_result"
    }
   ],
   "source": [
    "0.99 * 0.011 + 0.01 * 0.46 "
   ]
  },
  {
   "cell_type": "code",
   "execution_count": 27,
   "id": "bab3282f-1801-4054-92ae-c7894feeebf7",
   "metadata": {
    "tags": []
   },
   "outputs": [
    {
     "name": "stdout",
     "output_type": "stream",
     "text": [
      "0.3455528846153847\n"
     ]
    }
   ],
   "source": [
    "factor = 20/16\n",
    "print(0.01 * factor * 0.46 / (0.99 * 0.011 + 0.01 * factor * 0.46))"
   ]
  },
  {
   "cell_type": "code",
   "execution_count": null,
   "id": "92084dc7-7fef-43d0-98d1-bd0273d0ad50",
   "metadata": {},
   "outputs": [],
   "source": []
  },
  {
   "cell_type": "code",
   "execution_count": 16,
   "id": "f755bf48-6e2c-4362-933f-b38c16e56c10",
   "metadata": {
    "tags": []
   },
   "outputs": [
    {
     "name": "stdout",
     "output_type": "stream",
     "text": [
      "# of NCO detected (all) 175\n",
      "# of NCO detected (short) 161\n",
      "# of NCO detected (long) 14\n"
     ]
    }
   ],
   "source": [
    "print(\"# of NCO detected (all)\", np.sum([len(lst)==2 for n_event, lst in enumerate(res[0]) if res[6][n_event] == 0]))\n",
    "print(\"# of NCO detected (short)\", np.sum([len(lst)==2 for n_event, lst in enumerate(res[0]) if res[6][n_event] == 0 and res[7][n_event] == 1]))\n",
    "print(\"# of NCO detected (long)\", np.sum([len(lst)==2 for n_event, lst in enumerate(res[0]) if res[6][n_event] == 0 and res[7][n_event] != 1]))"
   ]
  },
  {
   "cell_type": "code",
   "execution_count": 18,
   "id": "c78c7606-8ae0-4136-bda2-7386663cfc9f",
   "metadata": {
    "tags": []
   },
   "outputs": [
    {
     "data": {
      "text/plain": [
       "0.08"
      ]
     },
     "execution_count": 18,
     "metadata": {},
     "output_type": "execute_result"
    }
   ],
   "source": [
    "14/175"
   ]
  },
  {
   "cell_type": "code",
   "execution_count": null,
   "id": "bce5552e-e0c7-45d0-b034-82d27c3f0638",
   "metadata": {},
   "outputs": [],
   "source": []
  },
  {
   "cell_type": "code",
   "execution_count": null,
   "id": "22dcccb6-4c0b-4bdf-ab41-17622205042f",
   "metadata": {},
   "outputs": [],
   "source": []
  },
  {
   "cell_type": "code",
   "execution_count": 31,
   "id": "4c180124-c0bc-47e8-88fb-58b97256999c",
   "metadata": {
    "tags": []
   },
   "outputs": [
    {
     "name": "stdout",
     "output_type": "stream",
     "text": [
      "# expected CO events: 522.5405433017486\n"
     ]
    }
   ],
   "source": [
    "print(\n",
    "    \"# expected CO events:\", \n",
    "    (callset_df\n",
    "        .select((\n",
    "            (pl.col(\"between_high_quality_snps_cM\").list.sum() + \n",
    "             pl.col(\"before_read_cM\") + \n",
    "             pl.col(\"after_read_cM\")\n",
    "            ) * 1e-2).alias(\"prob\")\n",
    "        )\n",
    "    )[\"prob\"].sum()\n",
    ")\n",
    "        "
   ]
  },
  {
   "cell_type": "code",
   "execution_count": 11,
   "id": "41ecef30-f48a-477c-b3f2-3d17c99dfce0",
   "metadata": {},
   "outputs": [
    {
     "name": "stdout",
     "output_type": "stream",
     "text": [
      "# of high quality expected 1-switches: 181.4897911193739\n"
     ]
    }
   ],
   "source": [
    "print(\n",
    "    \"# of high quality expected 1-switches:\",\n",
    "    callset_df.select(\n",
    "        (pl.col(\"between_high_quality_snps_cM\").list.slice(\n",
    "            1, \n",
    "            pl.col(\"between_high_quality_snps_cM\").list.len() - 2,\n",
    "        ).list.sum() * 1e-2).alias(\"prob\")\n",
    "    )\n",
    "    [\"prob\"].sum()\n",
    ")"
   ]
  },
  {
   "cell_type": "code",
   "execution_count": 89,
   "id": "b6a52124-2628-4676-b389-7d2487884001",
   "metadata": {
    "tags": []
   },
   "outputs": [
    {
     "data": {
      "text/html": [
       "<div><style>\n",
       ".dataframe > thead > tr,\n",
       ".dataframe > tbody > tr {\n",
       "  text-align: right;\n",
       "  white-space: pre-wrap;\n",
       "}\n",
       "</style>\n",
       "<small>shape: (3, 2)</small><table border=\"1\" class=\"dataframe\"><thead><tr><th>n_transitions</th><th>len</th></tr><tr><td>u32</td><td>u32</td></tr></thead><tbody><tr><td>0</td><td>9837574</td></tr><tr><td>1</td><td>935</td></tr><tr><td>2</td><td>244</td></tr></tbody></table></div>"
      ],
      "text/plain": [
       "shape: (3, 2)\n",
       "┌───────────────┬─────────┐\n",
       "│ n_transitions ┆ len     │\n",
       "│ ---           ┆ ---     │\n",
       "│ u32           ┆ u32     │\n",
       "╞═══════════════╪═════════╡\n",
       "│ 0             ┆ 9837574 │\n",
       "│ 1             ┆ 935     │\n",
       "│ 2             ┆ 244     │\n",
       "└───────────────┴─────────┘"
      ]
     },
     "execution_count": 89,
     "metadata": {},
     "output_type": "execute_result"
    }
   ],
   "source": [
    "(sim_callset_df\n",
    "    .select(pl.col(\"high_quality_snps_idx_transitions\").list.len().alias(\"n_transitions\"))\n",
    "    .group_by(\"n_transitions\")\n",
    "    .len()\n",
    "    .sort(\"n_transitions\")\n",
    ")"
   ]
  },
  {
   "cell_type": "code",
   "execution_count": 91,
   "id": "81a7b087-6793-4a1f-89a9-78f9b529efff",
   "metadata": {
    "tags": []
   },
   "outputs": [
    {
     "data": {
      "text/html": [
       "<div><style>\n",
       ".dataframe > thead > tr,\n",
       ".dataframe > tbody > tr {\n",
       "  text-align: right;\n",
       "  white-space: pre-wrap;\n",
       "}\n",
       "</style>\n",
       "<small>shape: (7, 2)</small><table border=\"1\" class=\"dataframe\"><thead><tr><th>n_converted</th><th>len</th></tr><tr><td>i64</td><td>u32</td></tr></thead><tbody><tr><td>1</td><td>208</td></tr><tr><td>2</td><td>21</td></tr><tr><td>3</td><td>8</td></tr><tr><td>4</td><td>2</td></tr><tr><td>5</td><td>1</td></tr><tr><td>7</td><td>1</td></tr><tr><td>9</td><td>3</td></tr></tbody></table></div>"
      ],
      "text/plain": [
       "shape: (7, 2)\n",
       "┌─────────────┬─────┐\n",
       "│ n_converted ┆ len │\n",
       "│ ---         ┆ --- │\n",
       "│ i64         ┆ u32 │\n",
       "╞═════════════╪═════╡\n",
       "│ 1           ┆ 208 │\n",
       "│ 2           ┆ 21  │\n",
       "│ 3           ┆ 8   │\n",
       "│ 4           ┆ 2   │\n",
       "│ 5           ┆ 1   │\n",
       "│ 7           ┆ 1   │\n",
       "│ 9           ┆ 3   │\n",
       "└─────────────┴─────┘"
      ]
     },
     "execution_count": 91,
     "metadata": {},
     "output_type": "execute_result"
    }
   ],
   "source": [
    "(sim_callset_df\n",
    "    .filter(pl.col(\"high_quality_snps_idx_transitions\").list.len() == 2)\n",
    "    .select(pl.col(\"high_quality_snps_idx_transitions\").list.diff(null_behavior=\"drop\").list.first().alias(\"n_converted\"))\n",
    "    .group_by(\"n_converted\")\n",
    "    .len()\n",
    "    .sort(\"n_converted\")\n",
    ")"
   ]
  },
  {
   "cell_type": "code",
   "execution_count": 92,
   "id": "7adab82a-5677-4102-a95b-5799b3b4b701",
   "metadata": {
    "tags": []
   },
   "outputs": [
    {
     "data": {
      "image/png": "[encoded data removed]",
      "text/plain": [
       "<Figure size 640x480 with 1 Axes>"
      ]
     },
     "metadata": {},
     "output_type": "display_data"
    }
   ],
   "source": [
    "plt.hist(\n",
    "    [\n",
    "        (callset_df\n",
    "            .filter(pl.col(\"high_quality_snps_idx_transitions\").list.len() == 2)\n",
    "            .select(\n",
    "                (\n",
    "                    pl.col(\"high_quality_snp_positions\").list.get(pl.col(\"high_quality_snps_idx_transitions\").list.get(1)+1) -\n",
    "                    pl.col(\"high_quality_snp_positions\").list.get(pl.col(\"high_quality_snps_idx_transitions\").list.get(0))\n",
    "                ).alias(\"upper_bound\")            \n",
    "            )\n",
    "            [\"upper_bound\"]\n",
    "        ),\n",
    "        (sim_callset_df\n",
    "            .filter(pl.col(\"high_quality_snps_idx_transitions\").list.len() == 2)\n",
    "            .select(\n",
    "                (\n",
    "                    pl.col(\"high_quality_snp_positions\").list.get(pl.col(\"high_quality_snps_idx_transitions\").list.get(1)+1) -\n",
    "                    pl.col(\"high_quality_snp_positions\").list.get(pl.col(\"high_quality_snps_idx_transitions\").list.get(0))\n",
    "                ).alias(\"upper_bound\")            \n",
    "            )\n",
    "            [\"upper_bound\"]\n",
    "        ),\n",
    "    ],\n",
    "    bins=25,\n",
    "    density=True,\n",
    ");"
   ]
  },
  {
   "cell_type": "code",
   "execution_count": null,
   "id": "82a2f780-395d-4381-8102-58f8d0784071",
   "metadata": {},
   "outputs": [],
   "source": []
  },
  {
   "cell_type": "code",
   "execution_count": null,
   "id": "8b2a69b9-bd86-4b88-b724-3fb9f2f5f183",
   "metadata": {},
   "outputs": [],
   "source": []
  },
  {
   "cell_type": "code",
   "execution_count": null,
   "id": "288f306a-44af-4714-ba1b-79ea53c494b0",
   "metadata": {},
   "outputs": [],
   "source": []
  },
  {
   "cell_type": "markdown",
   "id": "85b75cf3-dc1f-4aa9-bb8d-2d65144350fd",
   "metadata": {},
   "source": [
    "# What is the full distribution from reads"
   ]
  },
  {
   "cell_type": "markdown",
   "id": "85ad49ad-d4a1-435f-9a87-3c1e5581b684",
   "metadata": {},
   "source": [
    "## Run on many reads"
   ]
  },
  {
   "cell_type": "markdown",
   "id": "ffb7c32e-fab9-437b-bc2b-fb3183ae2d82",
   "metadata": {},
   "source": [
    "### High quality reads"
   ]
  },
  {
   "cell_type": "code",
   "execution_count": 104,
   "id": "a5b8489b-e6ab-40be-9828-d40de3136954",
   "metadata": {
    "tags": []
   },
   "outputs": [
    {
     "name": "stdout",
     "output_type": "stream",
     "text": [
      "CPU times: user 54min 11s, sys: 20.1 s, total: 54min 31s\n",
      "Wall time: 7min 10s\n"
     ]
    }
   ],
   "source": [
    "%%time\n",
    "idf = callset_df\n",
    "\n",
    "D_mix, C_mix = inference.tract_length_upper_bound_dist_from_many_reads(\n",
    "    numba.typed.List(idf[\"read_length\"].to_numpy()),\n",
    "    numba.typed.List(idf[\"high_quality_snp_positions\"].to_numpy()),\n",
    "    numba.typed.List(idf[\"between_high_quality_snps_bp\"].to_numpy() * 1e-8),\n",
    "    numba.typed.List(np.repeat(5000 * 1e-8, len(idf))),\n",
    "    numba.typed.List(np.repeat(5000 * 1e-8, len(idf))),\n",
    "    numba.typed.List(idf[\"weight\"].to_numpy()),\n",
    "    q = 0.092,\n",
    "    m = 0.995,\n",
    "    GC_tract_mean = 25.9,\n",
    "    GC_tract_mean2 = 705.7,\n",
    "    read_margin_in_bp = 5000,\n",
    "    # numba.typed.List(idf[\"read_length\"].to_numpy()),\n",
    "    # numba.typed.List(idf[\"high_quality_snp_positions\"].to_numpy()),\n",
    "    # numba.typed.List(idf[\"between_high_quality_snps_cM\"].to_numpy() * 1e-2),\n",
    "    # numba.typed.List(idf[\"before_read_cM\"].to_numpy() * 1e-2),\n",
    "    # numba.typed.List(idf[\"after_read_cM\"].to_numpy() * 1e-2),\n",
    "    # numba.typed.List(idf[\"weight\"].to_numpy()),\n",
    "    # q = 0.114,\n",
    "    # m = 0.99,\n",
    "    # GC_tract_mean = 30.5,\n",
    "    # GC_tract_mean2 = 16842,\n",
    "    # read_margin_in_bp = 5000,\n",
    ")\n",
    "\n",
    "D_one, C_one = inference.tract_length_upper_bound_dist_from_many_reads(\n",
    "    numba.typed.List(idf[\"read_length\"].to_numpy()),\n",
    "    numba.typed.List(idf[\"high_quality_snp_positions\"].to_numpy()),\n",
    "    numba.typed.List(idf[\"between_high_quality_snps_bp\"].to_numpy() * 1e-8),\n",
    "    numba.typed.List(np.repeat(5000 * 1e-8, len(idf))),\n",
    "    numba.typed.List(np.repeat(5000 * 1e-8, len(idf))),\n",
    "    numba.typed.List(idf[\"weight\"].to_numpy()),\n",
    "    q = 0.216,\n",
    "    m = 1,\n",
    "    GC_tract_mean = 82.2,\n",
    "    GC_tract_mean2 = 100,\n",
    "    read_margin_in_bp = 5000,    \n",
    "    # numba.typed.List(idf[\"read_length\"].to_numpy()),\n",
    "    # numba.typed.List(idf[\"high_quality_snp_positions\"].to_numpy()),\n",
    "    # numba.typed.List(idf[\"between_high_quality_snps_cM\"].to_numpy() * 1e-2),\n",
    "    # numba.typed.List(idf[\"before_read_cM\"].to_numpy() * 1e-2),\n",
    "    # numba.typed.List(idf[\"after_read_cM\"].to_numpy() * 1e-2),\n",
    "    # numba.typed.List(idf[\"weight\"].to_numpy()),    \n",
    "    # q = 0.238,\n",
    "    # m = 1,\n",
    "    # GC_tract_mean = 85,\n",
    "    # GC_tract_mean2 = 1000,\n",
    "    # read_margin_in_bp = 5000,\n",
    ")\n",
    "\n"
   ]
  },
  {
   "cell_type": "code",
   "execution_count": null,
   "id": "8399dd94-7ce3-49a7-b01c-fb59b738247e",
   "metadata": {},
   "outputs": [],
   "source": []
  },
  {
   "cell_type": "markdown",
   "id": "6bf2ad32-a7ed-4485-8979-e2dad8e4c43a",
   "metadata": {},
   "source": [
    "### Plot and compare"
   ]
  },
  {
   "cell_type": "code",
   "execution_count": 98,
   "id": "2d85ea47-9e3a-4a3e-a7bb-71a419e2a532",
   "metadata": {
    "tags": []
   },
   "outputs": [],
   "source": [
    "upper_bound = (callset_df\n",
    "    .filter(pl.col(\"high_quality_snps_idx_transitions\").list.len() == 2)\n",
    "    .select(\n",
    "        (\n",
    "            pl.col(\"high_quality_snp_positions\").list.get(pl.col(\"high_quality_snps_idx_transitions\").list.get(1)+1) -\n",
    "            pl.col(\"high_quality_snp_positions\").list.get(pl.col(\"high_quality_snps_idx_transitions\").list.get(0))\n",
    "        ).alias(\"upper_bound\")            \n",
    "    )\n",
    "    [\"upper_bound\"]\n",
    ")"
   ]
  },
  {
   "cell_type": "code",
   "execution_count": 99,
   "id": "93d1f357-63b5-4e1b-9f33-e225967ac6d1",
   "metadata": {
    "tags": []
   },
   "outputs": [
    {
     "data": {
      "image/png": "[encoded data removed]",
      "text/plain": [
       "<Figure size 400x400 with 1 Axes>"
      ]
     },
     "metadata": {},
     "output_type": "display_data"
    }
   ],
   "source": [
    "import scipy.ndimage\n",
    "\n",
    "\n",
    "smooth = 100\n",
    "\n",
    "fig, ax = plt.subplots(figsize=(4,4))\n",
    "\n",
    "ax.plot(\n",
    "    scipy.ndimage.uniform_filter1d(D_mix, smooth), \n",
    "    '.', ms=2, alpha=0.5, \n",
    "    label=\"Short + Long\",\n",
    "    color=\"C0\",\n",
    ");\n",
    "ax.plot(\n",
    "    scipy.ndimage.uniform_filter1d(D_one, smooth), \n",
    "    '.', ms=2, \n",
    "    alpha=0.5, \n",
    "    label=\"Singe distribution\",\n",
    "    color=\"C1\",\n",
    ");\n",
    "#plt.ylim(0, 0.00005);\n",
    "ax.set_xlim(0, 15000);\n",
    "\n",
    "\n",
    "sns.histplot(\n",
    "    upper_bound,\n",
    "    ax=ax,\n",
    "    #kde=True,\n",
    "    stat=\"density\",\n",
    "    color=\"C2\",\n",
    "    bins=50,\n",
    "    label=\"real data\",\n",
    "    alpha=0.6,\n",
    "    linewidth=0.5,\n",
    ")\n",
    "# plt.hist(\n",
    "#     upper_bound,\n",
    "#     bins=200,\n",
    "#     density=True,\n",
    "#     label=\"real\",\n",
    "# );\n",
    "\n",
    "plt.legend();\n",
    "\n",
    "sns.despine(ax=ax)\n",
    "ax.set_xlabel(\"NCO tract length upper bound\");\n",
    "\n",
    "#fig.savefig(\"/nfs/treeoflife-01/teams/tola/users/rs42/git/sperm/figures/n_tract_length.pdf\")"
   ]
  },
  {
   "cell_type": "code",
   "execution_count": 100,
   "id": "506b590b-8c5e-40df-9951-74cd1bb7e3ac",
   "metadata": {
    "tags": []
   },
   "outputs": [],
   "source": [
    "conv_df = (callset_df\n",
    "    .filter(pl.col(\"high_quality_snps_idx_transitions\").list.len() == 2)\n",
    "    .select(pl.col(\"high_quality_snps_idx_transitions\").list.diff(null_behavior=\"drop\").list.first().alias(\"n_converted\"))\n",
    "    .group_by(\"n_converted\")\n",
    "    .len()\n",
    "    .sort(\"n_converted\")\n",
    ")"
   ]
  },
  {
   "cell_type": "code",
   "execution_count": 101,
   "id": "cdf502c2-e15c-4e80-9da7-fc1cfedf4f8e",
   "metadata": {
    "tags": []
   },
   "outputs": [],
   "source": [
    "import statsmodels.stats.proportion\n",
    "\n",
    "R = np.zeros(10)\n",
    "for n, c in conv_df.rows():\n",
    "    R[n] = c\n",
    "\n",
    "mns = R / R.sum()\n",
    "cis = [statsmodels.stats.proportion.proportion_confint(c, R.sum()) for c in R]"
   ]
  },
  {
   "cell_type": "code",
   "execution_count": 102,
   "id": "95975656-0837-467d-a7a1-7b9ffeef4775",
   "metadata": {
    "tags": []
   },
   "outputs": [
    {
     "data": {
      "image/png": "[encoded data removed]",
      "text/plain": [
       "<Figure size 400x400 with 3 Axes>"
      ]
     },
     "metadata": {},
     "output_type": "display_data"
    }
   ],
   "source": [
    "fig = plt.figure(figsize=(4,4))\n",
    "\n",
    "bax = brokenaxes(xlims=[(0.4, 6.6)], ylims=[(0, 0.15), (0.85, 0.97)], hspace=.4)\n",
    "\n",
    "ci_high_mix = scipy.stats.binom.isf(0.025, conv_df[\"len\"].sum(), C_mix) / conv_df[\"len\"].sum()\n",
    "ci_low_mix = scipy.stats.binom.isf(1-0.025, conv_df[\"len\"].sum(), C_mix) / conv_df[\"len\"].sum()\n",
    "\n",
    "bax.plot(\n",
    "    np.arange(len(mns))+0.1,\n",
    "    C_mix, \n",
    "    '.', \n",
    "    color=\"C0\",\n",
    "    label=\"Short + Long\",\n",
    "    ms=10,    \n",
    ")\n",
    "bax.errorbar(\n",
    "    x = np.arange(len(mns))+0.1,\n",
    "    y = C_mix,\n",
    "    yerr = np.maximum(0, np.array([[mn-ci_low, ci_high-mn] for mn, ci_low, ci_high in zip(C_mix, ci_low_mix, ci_high_mix)]).T),\n",
    "    ls = ' ',\n",
    "    color='C0',\n",
    ")\n",
    "\n",
    "ci_high_mix = scipy.stats.binom.isf(0.025, conv_df[\"len\"].sum(), C_one) / conv_df[\"len\"].sum()\n",
    "ci_low_mix = scipy.stats.binom.isf(1-0.025, conv_df[\"len\"].sum(), C_one) / conv_df[\"len\"].sum()\n",
    "bax.plot(\n",
    "    np.arange(len(mns))-0.1,\n",
    "    C_one, \n",
    "    '.', \n",
    "    color=\"C1\",\n",
    "    label=\"Single distribution\",\n",
    "    ms=10,\n",
    ")\n",
    "bax.errorbar(\n",
    "    x = np.arange(len(mns))-0.1,\n",
    "    y = C_one,\n",
    "    yerr = np.maximum(0, np.array([[mn-ci_low, ci_high-mn] for mn, ci_low, ci_high in zip(C_one, ci_low_mix, ci_high_mix)]).T),\n",
    "    ls = ' ',\n",
    "    color='C1',\n",
    ")\n",
    "\n",
    "\n",
    "bax.bar(\n",
    "    x=np.arange(len(mns)),\n",
    "    height=mns, \n",
    "    color=NCO_color,\n",
    "    alpha=0.6,\n",
    "    label=\"NCO reads\",\n",
    "    edgecolor=\"black\",\n",
    "    linewidth=1,\n",
    ")\n",
    "\n",
    "bax.set_xlabel(\"# of converted markers\")\n",
    "bax.set_ylabel(\"Proportion\");\n",
    "bax.legend();\n",
    "\n",
    "#fig.savefig(\"/nfs/treeoflife-01/teams/tola/users/rs42/git/sperm/figures/n_converted.pdf\")"
   ]
  },
  {
   "cell_type": "code",
   "execution_count": null,
   "id": "3dbf0e46-2ed9-464e-83e8-c14ebe512bfb",
   "metadata": {},
   "outputs": [],
   "source": []
  }
 ],
 "metadata": {
  "kernelspec": {
   "display_name": "sperm",
   "language": "python",
   "name": "sperm"
  },
  "language_info": {
   "codemirror_mode": {
    "name": "ipython",
    "version": 3
   },
   "file_extension": ".py",
   "mimetype": "text/x-python",
   "name": "python",
   "nbconvert_exporter": "python",
   "pygments_lexer": "ipython3",
   "version": "3.11.10"
  }
 },
 "nbformat": 4,
 "nbformat_minor": 5
}
