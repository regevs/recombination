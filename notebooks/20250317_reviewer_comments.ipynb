{
 "cells": [
  {
   "cell_type": "code",
   "execution_count": 11,
   "id": "fd2da1d6-a1c8-4217-b0e8-23a1e7f32302",
   "metadata": {
    "tags": []
   },
   "outputs": [
    {
     "name": "stdout",
     "output_type": "stream",
     "text": [
      "The autoreload extension is already loaded. To reload it, use:\n",
      "  %reload_ext autoreload\n"
     ]
    }
   ],
   "source": [
    "%load_ext autoreload\n",
    "%autoreload 2"
   ]
  },
  {
   "cell_type": "code",
   "execution_count": 12,
   "id": "5b0a3886-4c4f-4b69-a2c9-f5acad8b4888",
   "metadata": {
    "tags": []
   },
   "outputs": [],
   "source": [
    "import numpy as np\n",
    "import pandas as pd\n",
    "import matplotlib.pyplot as plt\n",
    "plt.rcParams['pdf.use14corefonts'] = True\n",
    "\n",
    "import numba\n",
    "import numba.typed\n",
    "\n",
    "from pathlib import Path\n",
    "import tqdm\n",
    "import sys\n",
    "import seaborn as sns\n",
    "import scipy.stats\n",
    "import os\n",
    "import joblib\n",
    "import io\n",
    "import itertools\n",
    "import warnings\n",
    "\n",
    "from brokenaxes import brokenaxes\n",
    "\n",
    "\n",
    "import polars as pl\n",
    "pl.Config.set_tbl_rows(100);\n",
    "pl.Config.set_fmt_str_lengths(50);\n"
   ]
  },
  {
   "cell_type": "code",
   "execution_count": 13,
   "id": "85fc3038-299b-42eb-bcd5-8c90c3a0c05d",
   "metadata": {
    "tags": []
   },
   "outputs": [],
   "source": [
    "sys.path.append(str(Path(os.getcwd()).parent))\n",
    "from src import liftover, annotate, diagnostics, inference\n",
    "from src.IDs import *\n"
   ]
  },
  {
   "cell_type": "markdown",
   "id": "a1025524-7d3b-4d84-b333-46d01cb8ed7f",
   "metadata": {},
   "source": [
    "# Create callset to infer from"
   ]
  },
  {
   "cell_type": "code",
   "execution_count": 14,
   "id": "68c5cb56-e03a-426b-b621-5a8993bbe997",
   "metadata": {
    "tags": []
   },
   "outputs": [],
   "source": [
    "rahbari_df = pl.read_csv(\"/nfs/users/nfs_r/rs42/rs42/git/sperm/configs/Rahbari.tsv\", separator='\\t')"
   ]
  },
  {
   "cell_type": "code",
   "execution_count": 15,
   "id": "7fb821b3-a9dc-44ca-8755-43ee6b3f506d",
   "metadata": {
    "tags": []
   },
   "outputs": [],
   "source": [
    "sudmant_df = (\n",
    "    pl.read_csv(\"/nfs/users/nfs_r/rs42/rs42/git/sperm/configs/Sudmant.tsv\", separator='\\t')\n",
    "    .with_columns(\n",
    "        pl.col(\"sample_set\").cast(pl.String),\n",
    "        pl.col(\"sample_id\").cast(pl.String),\n",
    "    )\n",
    ")"
   ]
  },
  {
   "cell_type": "code",
   "execution_count": 16,
   "id": "2404f473-aac6-4650-9631-551822cbce13",
   "metadata": {
    "tags": []
   },
   "outputs": [],
   "source": [
    "ceph_df = pl.read_csv(\"/nfs/users/nfs_r/rs42/rs42/git/sperm/configs/CEPH.tsv\", separator='\\t')"
   ]
  },
  {
   "cell_type": "code",
   "execution_count": 7,
   "id": "2e80fe08-1b35-4d40-b1c8-de93b2ffb41f",
   "metadata": {
    "tags": []
   },
   "outputs": [
    {
     "name": "stderr",
     "output_type": "stream",
     "text": [
      "9it [00:00, 475.08it/s]\n",
      "6it [00:00, 2334.28it/s]\n",
      "16it [00:00, 2482.57it/s]"
     ]
    },
    {
     "name": "stdout",
     "output_type": "stream",
     "text": [
      "CPU times: user 16 ms, sys: 10 ms, total: 26 ms\n",
      "Wall time: 50 ms\n"
     ]
    },
    {
     "name": "stderr",
     "output_type": "stream",
     "text": [
      "\n"
     ]
    }
   ],
   "source": [
    "%%time\n",
    "reads_df_list = \\\n",
    "    [\n",
    "        pl.scan_parquet(\n",
    "            f\"/lustre/scratch122/tol/projects/sperm/results/Rahbari_20250212/read_analysis/{sample_set}/{sample_id}/reads/{chrom}/all_reads_structure_annotated.parquet\",\n",
    "        ) \n",
    "        for sample_id, sample_set in tqdm.tqdm(rahbari_df.select(\"sample_id\", \"sample_set\").unique().iter_rows())\n",
    "        for chrom in aut_chrom_names\n",
    "    ] + \\\n",
    "    [\n",
    "        pl.scan_parquet(\n",
    "            f\"/lustre/scratch122/tol/projects/sperm/results/Sudmant_20241121/read_analysis/{sample_set}/{sample_id}/reads/{chrom}/all_reads_structure_annotated.parquet\",\n",
    "        ) \n",
    "        for sample_id, sample_set in tqdm.tqdm(sudmant_df.select(\"sample_id\", \"sample_set\").unique().iter_rows())\n",
    "        for chrom in aut_chrom_names\n",
    "    ] + \\\n",
    "    [\n",
    "        pl.scan_parquet(\n",
    "            f\"/lustre/scratch122/tol/projects/sperm/results/CEPH_20250212/read_analysis/{sample_set}/{sample_id}/reads/{chrom}/all_reads_structure_annotated.parquet\",\n",
    "        ) \n",
    "        for sample_id, sample_set in tqdm.tqdm(ceph_df.select(\"sample_id\", \"sample_set\").unique().iter_rows())\n",
    "        for chrom in aut_chrom_names\n",
    "    ]\n"
   ]
  },
  {
   "cell_type": "code",
   "execution_count": 8,
   "id": "ec2c30a3-f64a-4084-9897-efe983e57cdf",
   "metadata": {
    "tags": []
   },
   "outputs": [
    {
     "name": "stderr",
     "output_type": "stream",
     "text": [
      "[Parallel(n_jobs=-1)]: Done   1 tasks      | elapsed:    1.7s\n",
      "[Parallel(n_jobs=-1)]: Done   4 tasks      | elapsed:    6.8s\n",
      "[Parallel(n_jobs=-1)]: Done   7 tasks      | elapsed:   12.6s\n",
      "[Parallel(n_jobs=-1)]: Done  12 tasks      | elapsed:   19.1s\n",
      "[Parallel(n_jobs=-1)]: Done  17 tasks      | elapsed:   23.6s\n",
      "[Parallel(n_jobs=-1)]: Done  24 tasks      | elapsed:   30.0s\n",
      "[Parallel(n_jobs=-1)]: Done  31 tasks      | elapsed:   41.5s\n",
      "[Parallel(n_jobs=-1)]: Done  40 tasks      | elapsed:   50.2s\n",
      "[Parallel(n_jobs=-1)]: Done  49 tasks      | elapsed:   57.6s\n",
      "[Parallel(n_jobs=-1)]: Done  60 tasks      | elapsed:  1.1min\n",
      "[Parallel(n_jobs=-1)]: Done  71 tasks      | elapsed:  1.2min\n",
      "[Parallel(n_jobs=-1)]: Done  84 tasks      | elapsed:  1.4min\n",
      "[Parallel(n_jobs=-1)]: Done  97 tasks      | elapsed:  1.6min\n",
      "[Parallel(n_jobs=-1)]: Done 112 tasks      | elapsed:  1.9min\n",
      "[Parallel(n_jobs=-1)]: Done 127 tasks      | elapsed:  2.3min\n",
      "[Parallel(n_jobs=-1)]: Done 144 tasks      | elapsed:  2.4min\n",
      "[Parallel(n_jobs=-1)]: Done 161 tasks      | elapsed:  2.5min\n",
      "[Parallel(n_jobs=-1)]: Done 180 tasks      | elapsed:  2.7min\n",
      "[Parallel(n_jobs=-1)]: Done 199 tasks      | elapsed:  3.1min\n",
      "[Parallel(n_jobs=-1)]: Done 220 tasks      | elapsed:  3.2min\n",
      "[Parallel(n_jobs=-1)]: Done 241 tasks      | elapsed:  3.4min\n",
      "[Parallel(n_jobs=-1)]: Done 264 tasks      | elapsed:  3.5min\n",
      "[Parallel(n_jobs=-1)]: Done 287 tasks      | elapsed:  3.7min\n",
      "[Parallel(n_jobs=-1)]: Done 312 tasks      | elapsed:  3.9min\n",
      "[Parallel(n_jobs=-1)]: Done 337 tasks      | elapsed:  4.1min\n",
      "[Parallel(n_jobs=-1)]: Done 364 tasks      | elapsed:  4.5min\n",
      "[Parallel(n_jobs=-1)]: Done 391 tasks      | elapsed:  4.8min\n",
      "[Parallel(n_jobs=-1)]: Done 420 tasks      | elapsed:  5.2min\n",
      "[Parallel(n_jobs=-1)]: Done 449 tasks      | elapsed:  5.6min\n",
      "[Parallel(n_jobs=-1)]: Done 480 tasks      | elapsed:  5.9min\n",
      "[Parallel(n_jobs=-1)]: Done 511 tasks      | elapsed:  6.1min\n",
      "[Parallel(n_jobs=-1)]: Done 544 tasks      | elapsed:  6.5min\n",
      "[Parallel(n_jobs=-1)]: Done 577 tasks      | elapsed:  6.9min\n",
      "[Parallel(n_jobs=-1)]: Done 612 tasks      | elapsed:  7.3min\n",
      "[Parallel(n_jobs=-1)]: Done 647 tasks      | elapsed:  7.6min\n"
     ]
    },
    {
     "name": "stdout",
     "output_type": "stream",
     "text": [
      "CPU times: user 3min 44s, sys: 55 s, total: 4min 38s\n",
      "Wall time: 7min 49s\n"
     ]
    }
   ],
   "source": [
    "%%time\n",
    "fields = [\n",
    "    'read_name',\n",
    "    'read_length',\n",
    "    'chrom',\n",
    "    'sample_id',\n",
    "    'grch37_chromosome_size_in_bp',\n",
    "    'high_quality_snp_positions',\n",
    "    \"high_quality_snp_positions_alleles\",\n",
    "    \"high_quality_snps_idx_transitions\",\n",
    "    'CO_active_interval_start',\n",
    "    'CO_active_interval_end',\n",
    "    'CO_active_interval_length_bp',\n",
    "    'NCO_active_interval_start',\n",
    "    'NCO_active_interval_end',\n",
    "    'NCO_active_interval_length_bp',\n",
    "    'grch37_reference_start',\n",
    "    'grch38_reference_start',\n",
    "    'grch37_reference_end',\n",
    "    'grch38_reference_end',\n",
    "    'T2T_reference_start',\n",
    "    'grch37_reference_start_cM',\n",
    "    'grch37_reference_end_cM',\n",
    "    'CO_active_interval_start_cM',\n",
    "    'CO_active_interval_end_cM',\n",
    "    'CO_active_interval_crossover_prob',\n",
    "    'NCO_active_interval_start_cM',\n",
    "    'NCO_active_interval_end_cM',\n",
    "    'NCO_active_interval_crossover_prob',\n",
    "    \"NCO_prob_detection_in_CO_active_interval\",\n",
    "    \"full_read_crossover_prob\",\n",
    "    'AA_motif_center_pos',\n",
    "    'AA_heat',\n",
    "    'AA_motif_strand',\n",
    "    'CL4_motif_center_pos',\n",
    "    'CL4_heat',\n",
    "    'CL4_motif_strand',\n",
    "    'is_high_quality_read', \n",
    "    \"high_quality_classification_class\",\n",
    "    \"snp_positions_on_read\", \n",
    "    \"idx_transitions\",\n",
    "    \"high_quality_classification_in_detectable_class\",\n",
    "    \"H3K4me3_signal_mean\",\n",
    "    \"CTCF_signal_mean\",  \n",
    "    \"total_mismatches\",\n",
    "    \"is_contamination\",    \n",
    "]\n",
    "\n",
    "def F(reads_df):\n",
    "    return (reads_df\n",
    "        .select(fields)           \n",
    "        .filter(pl.col(\"high_quality_classification_class\") == \"GC\")\n",
    "        .collect()\n",
    "        .filter(~pl.col(\"is_contamination\"))\n",
    "        .filter(pl.col(\"is_high_quality_read\"))\n",
    "        .filter(pl.col(\"high_quality_snp_positions\").list.len() >= 3)\n",
    "        .filter(pl.col(\"CO_active_interval_crossover_prob\") > 0)\n",
    "        .filter(pl.col(\"high_quality_snps_idx_transitions\").list.len() == 2)    \n",
    "        .select(fields)           \n",
    "    )\n",
    "\n",
    "NCO_df = pl.concat(\n",
    "    joblib.Parallel(n_jobs=-1, verbose=10)(\n",
    "        joblib.delayed(F)(reads_df) for reads_df in reads_df_list\n",
    "    )\n",
    ")\n"
   ]
  },
  {
   "cell_type": "code",
   "execution_count": 9,
   "id": "9009af77-bfcc-4399-a47d-c75974138af3",
   "metadata": {
    "tags": []
   },
   "outputs": [],
   "source": [
    "NCO_df = (NCO_df\n",
    "    .filter(pl.col(\"high_quality_classification_class\") == \"GC\")\n",
    "    .with_columns(\n",
    "        grch37_recombining_interval_start_pos = pl.col(\"grch37_reference_start\") + pl.col(\"snp_positions_on_read\").list.get(pl.col(\"idx_transitions\").list.get(0)),\n",
    "        grch37_recombining_interval_end_pos = pl.col(\"grch37_reference_start\") + pl.col(\"snp_positions_on_read\").list.get(pl.col(\"idx_transitions\").list.get(-1) + 1),\n",
    "        grch38_recombining_interval_start_pos = pl.col(\"grch38_reference_start\") + pl.col(\"snp_positions_on_read\").list.get(pl.col(\"idx_transitions\").list.get(0)),\n",
    "        grch38_recombining_interval_end_pos = pl.col(\"grch38_reference_start\") + pl.col(\"snp_positions_on_read\").list.get(pl.col(\"idx_transitions\").list.get(-1) + 1),\n",
    "        grch37_first_converted_marker_pos = pl.col(\"grch37_reference_start\") + pl.col(\"snp_positions_on_read\").list.get(pl.col(\"idx_transitions\").list.get(0)+1),\n",
    "        grch38_first_converted_marker_pos = pl.col(\"grch38_reference_start\") + pl.col(\"snp_positions_on_read\").list.get(pl.col(\"idx_transitions\").list.get(0)+1),\n",
    "    )\n",
    "    .with_columns(\n",
    "        grch37_recombining_interval_length = pl.col(\"grch37_recombining_interval_end_pos\") - pl.col(\"grch37_recombining_interval_start_pos\"),                \n",
    "        grch38_recombining_interval_length = pl.col(\"grch38_recombining_interval_end_pos\") - pl.col(\"grch38_recombining_interval_start_pos\"),                \n",
    "    )\n",
    ")\n",
    "\n",
    "dfs = []\n",
    "for [chrom], df in NCO_df.partition_by(by=[\"chrom\"], as_dict=True).items():\n",
    "    rate_map = annotate.rate_maps[chrom]\n",
    "    dfs.append(\n",
    "        df.with_columns(\n",
    "            grch37_recombining_interval_start_poses_cm = rate_map.get_cumulative_mass(df[\"grch37_recombining_interval_start_pos\"]) * 1e2,\n",
    "            grch37_recombining_interval_end_poses_cm = rate_map.get_cumulative_mass(df[\"grch37_recombining_interval_end_pos\"]) * 1e2,\n",
    "            grch37_first_converted_marker_poses_rate = rate_map.get_rate(df[\"grch37_first_converted_marker_pos\"]) * 1e2,\n",
    "        ).with_columns(\n",
    "            grch37_recombining_interval_cM = (pl.col(\"grch37_recombining_interval_end_poses_cm\") - pl.col(\"grch37_recombining_interval_start_poses_cm\")),\n",
    "            grch37_cM_per_bp_across_recombining_interval = (pl.col(\"grch37_recombining_interval_end_poses_cm\") - pl.col(\"grch37_recombining_interval_start_poses_cm\")) / pl.col(\"grch37_recombining_interval_length\"),\n",
    "        )\n",
    "    )\n",
    "    \n",
    "NCO_df = pl.concat(dfs)\n"
   ]
  },
  {
   "cell_type": "code",
   "execution_count": null,
   "id": "e3da50d1-68da-4c0f-8480-95206baf64c1",
   "metadata": {},
   "outputs": [],
   "source": []
  },
  {
   "cell_type": "code",
   "execution_count": 10,
   "id": "0405cdac-7f97-4bc7-9d66-59f869578d4a",
   "metadata": {
    "tags": []
   },
   "outputs": [
    {
     "name": "stderr",
     "output_type": "stream",
     "text": [
      "/tmp/ipykernel_397574/4087822181.py:3: DeprecationWarning: The argument `columns` for `DataFrame.pivot` is deprecated. It has been renamed to `on`.\n",
      "  .pivot(\n"
     ]
    },
    {
     "data": {
      "text/html": [
       "<div><style>\n",
       ".dataframe > thead > tr,\n",
       ".dataframe > tbody > tr {\n",
       "  text-align: right;\n",
       "  white-space: pre-wrap;\n",
       "}\n",
       "</style>\n",
       "<small>shape: (16, 2)</small><table border=\"1\" class=\"dataframe\"><thead><tr><th>sample_id</th><th>GC</th></tr><tr><td>str</td><td>u32</td></tr></thead><tbody><tr><td>&quot;200100&quot;</td><td>11</td></tr><tr><td>&quot;200101&quot;</td><td>19</td></tr><tr><td>&quot;200102&quot;</td><td>19</td></tr><tr><td>&quot;200104&quot;</td><td>7</td></tr><tr><td>&quot;200106&quot;</td><td>3</td></tr><tr><td>&quot;NA12877&quot;</td><td>44</td></tr><tr><td>&quot;NA12878&quot;</td><td>42</td></tr><tr><td>&quot;NA12879&quot;</td><td>31</td></tr><tr><td>&quot;NA12881&quot;</td><td>58</td></tr><tr><td>&quot;NA12882&quot;</td><td>37</td></tr><tr><td>&quot;NA12885&quot;</td><td>46</td></tr><tr><td>&quot;NA12886&quot;</td><td>8</td></tr><tr><td>&quot;NA12889&quot;</td><td>81</td></tr><tr><td>&quot;NA12890&quot;</td><td>208</td></tr><tr><td>&quot;NA12891&quot;</td><td>275</td></tr><tr><td>&quot;NA12892&quot;</td><td>22</td></tr></tbody></table></div>"
      ],
      "text/plain": [
       "shape: (16, 2)\n",
       "┌───────────┬─────┐\n",
       "│ sample_id ┆ GC  │\n",
       "│ ---       ┆ --- │\n",
       "│ str       ┆ u32 │\n",
       "╞═══════════╪═════╡\n",
       "│ 200100    ┆ 11  │\n",
       "│ 200101    ┆ 19  │\n",
       "│ 200102    ┆ 19  │\n",
       "│ 200104    ┆ 7   │\n",
       "│ 200106    ┆ 3   │\n",
       "│ NA12877   ┆ 44  │\n",
       "│ NA12878   ┆ 42  │\n",
       "│ NA12879   ┆ 31  │\n",
       "│ NA12881   ┆ 58  │\n",
       "│ NA12882   ┆ 37  │\n",
       "│ NA12885   ┆ 46  │\n",
       "│ NA12886   ┆ 8   │\n",
       "│ NA12889   ┆ 81  │\n",
       "│ NA12890   ┆ 208 │\n",
       "│ NA12891   ┆ 275 │\n",
       "│ NA12892   ┆ 22  │\n",
       "└───────────┴─────┘"
      ]
     },
     "execution_count": 10,
     "metadata": {},
     "output_type": "execute_result"
    }
   ],
   "source": [
    "(NCO_df\n",
    "    .filter(pl.col(\"sample_id\").is_in(ceph_sample_ids))\n",
    "    .pivot(\n",
    "        values=[\"high_quality_classification_class\"],\n",
    "        index=[\"sample_id\"],\n",
    "        columns=[\"high_quality_classification_class\"],\n",
    "        aggregate_function='len'\n",
    "    )\n",
    "    .sort(by=\"sample_id\")\n",
    "#    .select(\"sample_id\", \"CO\", \"GC\", \"ambiguous\", \"CNCO\") \n",
    ")"
   ]
  },
  {
   "cell_type": "code",
   "execution_count": null,
   "id": "07a5dee6-1ef4-4382-809e-a65300fb9e4d",
   "metadata": {},
   "outputs": [],
   "source": []
  },
  {
   "cell_type": "markdown",
   "id": "ee71daa9-82c1-4298-82a0-38bb1441310d",
   "metadata": {},
   "source": [
    "# Reviewer 1"
   ]
  },
  {
   "cell_type": "markdown",
   "id": "18df21dc-bd5f-4edf-bbfb-c4343acf31ca",
   "metadata": {},
   "source": [
    "## P1: GC bias"
   ]
  },
  {
   "cell_type": "markdown",
   "id": "ef67aed6-5ea2-4707-9ce2-add69de6ad2f",
   "metadata": {},
   "source": [
    "### Make a dataframe of positions of all converted SNPs"
   ]
  },
  {
   "cell_type": "code",
   "execution_count": 10,
   "id": "e7362b3a-bfb0-4bd8-8f7d-d4413dd6df95",
   "metadata": {
    "tags": []
   },
   "outputs": [
    {
     "name": "stdout",
     "output_type": "stream",
     "text": [
      "CPU times: user 21.2 ms, sys: 4.76 ms, total: 26 ms\n",
      "Wall time: 7.32 ms\n"
     ]
    }
   ],
   "source": [
    "%%time\n",
    "converted_snps_df = (NCO_df\n",
    "    .with_columns(\n",
    "        (pl.col(\"idx_transitions\").list.get(0)+1).alias(\"A\"),\n",
    "        (pl.col(\"idx_transitions\").list.get(1) - pl.col(\"idx_transitions\").list.get(0)).alias(\"B\"),\n",
    "    )\n",
    "    .select(\n",
    "        \"sample_id\",\n",
    "        \"chrom\",\n",
    "        \"read_name\",\n",
    "        pl.col(\"snp_positions_on_read\").list.slice(pl.col(\"A\"), pl.col(\"B\")).alias(\"start\"),\n",
    "        pl.col(\"AA_heat\").is_not_null().alias(\"has_AA_DSB\"),\n",
    "        \"snp_positions_on_read\",\n",
    "    )\n",
    "    .explode(\"start\")\n",
    ")"
   ]
  },
  {
   "cell_type": "code",
   "execution_count": 11,
   "id": "71a80ed9-b05f-47a0-8239-46e126d25a48",
   "metadata": {
    "tags": []
   },
   "outputs": [
    {
     "data": {
      "text/plain": [
       "3018"
      ]
     },
     "execution_count": 11,
     "metadata": {},
     "output_type": "execute_result"
    }
   ],
   "source": [
    "len(converted_snps_df)"
   ]
  },
  {
   "cell_type": "markdown",
   "id": "dd3cf7ce-62d0-45ec-bb22-12df2e8bc142",
   "metadata": {},
   "source": [
    "### Cross it with the sequences"
   ]
  },
  {
   "cell_type": "code",
   "execution_count": 12,
   "id": "33e3d6b2-2508-48a3-af84-36b003e22cd9",
   "metadata": {
    "tags": []
   },
   "outputs": [
    {
     "name": "stderr",
     "output_type": "stream",
     "text": [
      "[Parallel(n_jobs=-1)]: Using backend LokyBackend with 16 concurrent workers.\n",
      "[Parallel(n_jobs=-1)]: Done  18 tasks      | elapsed:    2.4s\n",
      "[Parallel(n_jobs=-1)]: Done 168 tasks      | elapsed:   10.1s\n",
      "[Parallel(n_jobs=-1)]: Done 418 tasks      | elapsed:   21.9s\n",
      "[Parallel(n_jobs=-1)]: Done 768 tasks      | elapsed:   40.3s\n",
      "[Parallel(n_jobs=-1)]: Done 1218 tasks      | elapsed:  1.0min\n",
      "[Parallel(n_jobs=-1)]: Done 1768 tasks      | elapsed:  1.6min\n",
      "[Parallel(n_jobs=-1)]: Done 2418 tasks      | elapsed:  2.0min\n",
      "[Parallel(n_jobs=-1)]: Done 2640 out of 2640 | elapsed:  2.1min finished\n"
     ]
    }
   ],
   "source": [
    "filenames = []\n",
    "for R in rahbari_df.to_pandas().itertuples():\n",
    "    for chrom in aut_chrom_names:  \n",
    "        filenames.append(        \n",
    "            str(Path(\"/lustre/scratch122/tol/projects/sperm/results/Rahbari_20250212/read_analysis\")\n",
    "                / f\"{R.sample_set}/{R.sample_id}/{R.flow_cell}/{chrom}/annotated_0.95_high_confidence_snps.parquet\")\n",
    "        )\n",
    "\n",
    "for R in sudmant_df.to_pandas().itertuples():\n",
    "    for chrom in aut_chrom_names:  \n",
    "        filenames.append(        \n",
    "            str(Path(\"/lustre/scratch122/tol/projects/sperm/results/Sudmant_20241121/read_analysis\")\n",
    "                / f\"{R.sample_set}/{R.sample_id}/{R.flow_cell}/{chrom}/annotated_0.95_high_confidence_snps.parquet\")\n",
    "        )\n",
    "\n",
    "for R in ceph_df.to_pandas().itertuples():\n",
    "    for chrom in aut_chrom_names:  \n",
    "        filenames.append(        \n",
    "            str(Path(\"/lustre/scratch122/tol/projects/sperm/results/CEPH_20250212/read_analysis\")\n",
    "                / f\"{R.sample_set}/{R.sample_id}/{R.flow_cell}/{chrom}/annotated_0.95_high_confidence_snps.parquet\")\n",
    "        )\n",
    "        \n",
    "        \n",
    "def F(filename):\n",
    "    high_conf_snps_df = pl.scan_parquet(filename)\n",
    "    \n",
    "    df = (converted_snps_df\n",
    "            .lazy()\n",
    "            .join(\n",
    "                (high_conf_snps_df\n",
    "                    .select(\n",
    "                        \"read_name\",\n",
    "                        \"start\",\n",
    "                        \"refseq_start1\",\n",
    "                        \"refseq_start2\",    \n",
    "                        \"fits1_more\",\n",
    "                    )\n",
    "                ),\n",
    "                on=[\"read_name\", \"start\"],\n",
    "            )\n",
    "        ).collect()\n",
    "    \n",
    "    return df\n",
    "\n",
    "dfs = joblib.Parallel(n_jobs=-1, verbose=1)(\n",
    "    joblib.delayed(F)(filename) for filename in filenames\n",
    ")\n",
    "        \n",
    "all_converted_snps_with_seq_df = pl.concat(dfs)\n",
    "\n",
    "converted_snps_with_seq_df = all_converted_snps_with_seq_df.filter(\n",
    "    (pl.col(\"refseq_start1\").is_in([\"G\", \"C\"]) & pl.col(\"refseq_start2\").is_in([\"A\", \"T\"])) |\n",
    "    (pl.col(\"refseq_start2\").is_in([\"G\", \"C\"]) & pl.col(\"refseq_start1\").is_in([\"A\", \"T\"]))\n",
    ")\n",
    "        "
   ]
  },
  {
   "cell_type": "code",
   "execution_count": 14,
   "id": "c98cab4e-7639-499e-be2e-d08991f1416b",
   "metadata": {
    "tags": []
   },
   "outputs": [
    {
     "data": {
      "text/plain": [
       "3018"
      ]
     },
     "execution_count": 14,
     "metadata": {},
     "output_type": "execute_result"
    }
   ],
   "source": [
    "len(all_converted_snps_with_seq_df)"
   ]
  },
  {
   "cell_type": "code",
   "execution_count": 15,
   "id": "d60e3747-e62a-403a-9474-755ab0485b49",
   "metadata": {
    "tags": []
   },
   "outputs": [
    {
     "data": {
      "text/plain": [
       "2608"
      ]
     },
     "execution_count": 15,
     "metadata": {},
     "output_type": "execute_result"
    }
   ],
   "source": [
    "len(converted_snps_with_seq_df)"
   ]
  },
  {
   "cell_type": "code",
   "execution_count": 16,
   "id": "c6132c82-beb1-475e-8ebf-c71978918155",
   "metadata": {
    "tags": []
   },
   "outputs": [
    {
     "data": {
      "text/html": [
       "<div><style>\n",
       ".dataframe > thead > tr,\n",
       ".dataframe > tbody > tr {\n",
       "  text-align: right;\n",
       "  white-space: pre-wrap;\n",
       "}\n",
       "</style>\n",
       "<small>shape: (4, 3)</small><table border=\"1\" class=\"dataframe\"><thead><tr><th>refseq_start1</th><th>refseq_start2</th><th>len</th></tr><tr><td>bool</td><td>bool</td><td>u32</td></tr></thead><tbody><tr><td>false</td><td>false</td><td>1276</td></tr><tr><td>false</td><td>true</td><td>192</td></tr><tr><td>true</td><td>true</td><td>1332</td></tr><tr><td>true</td><td>false</td><td>218</td></tr></tbody></table></div>"
      ],
      "text/plain": [
       "shape: (4, 3)\n",
       "┌───────────────┬───────────────┬──────┐\n",
       "│ refseq_start1 ┆ refseq_start2 ┆ len  │\n",
       "│ ---           ┆ ---           ┆ ---  │\n",
       "│ bool          ┆ bool          ┆ u32  │\n",
       "╞═══════════════╪═══════════════╪══════╡\n",
       "│ false         ┆ false         ┆ 1276 │\n",
       "│ false         ┆ true          ┆ 192  │\n",
       "│ true          ┆ true          ┆ 1332 │\n",
       "│ true          ┆ false         ┆ 218  │\n",
       "└───────────────┴───────────────┴──────┘"
      ]
     },
     "execution_count": 16,
     "metadata": {},
     "output_type": "execute_result"
    }
   ],
   "source": [
    "all_converted_snps_with_seq_df.group_by(\n",
    "    (pl.col(\"refseq_start1\").is_in([\"G\", \"C\"]), pl.col(\"refseq_start2\").is_in([\"A\", \"T\"]))\n",
    ").len()"
   ]
  },
  {
   "cell_type": "code",
   "execution_count": 17,
   "id": "5d18a0c9-394f-4003-9058-3e34a0ab6b64",
   "metadata": {
    "tags": []
   },
   "outputs": [],
   "source": [
    "df = (converted_snps_with_seq_df\n",
    "    .select(\"read_name\", \"start\", \"snp_positions_on_read\")\n",
    "    .explode(\"snp_positions_on_read\")\n",
    "    .with_columns(min_snp_diff = (pl.col(\"start\") - pl.col(\"snp_positions_on_read\")).abs())\n",
    "    .filter(pl.col(\"min_snp_diff\") > 0)\n",
    "    .sort(\"read_name\", \"start\", \"min_snp_diff\")\n",
    "    .group_by([\"read_name\", \"start\"], maintain_order=True)\n",
    "    .first()\n",
    "    .select(\"read_name\", \"start\", \"min_snp_diff\")\n",
    ")\n",
    "\n",
    "converted_snps_with_seq_df = converted_snps_with_seq_df.join(df, on=[\"read_name\", \"start\"])"
   ]
  },
  {
   "cell_type": "code",
   "execution_count": 18,
   "id": "4ecc5918-c033-4750-b8d3-cd98ce8ccfbe",
   "metadata": {
    "tags": []
   },
   "outputs": [
    {
     "name": "stdout",
     "output_type": "stream",
     "text": [
      "# of converted SNPs: 2608\n",
      "# of NCO reads: 2481\n"
     ]
    }
   ],
   "source": [
    "print(\"# of converted SNPs:\", len(converted_snps_with_seq_df))\n",
    "print(\"# of NCO reads:\", converted_snps_with_seq_df.n_unique([\"read_name\"]))"
   ]
  },
  {
   "cell_type": "code",
   "execution_count": 19,
   "id": "59d06826-086f-45d8-ac8e-0fb0904ca577",
   "metadata": {
    "tags": []
   },
   "outputs": [
    {
     "name": "stdout",
     "output_type": "stream",
     "text": [
      "# of converted SNPs in sperm: 1815\n",
      "# of NCO reads in sperm: 1692\n"
     ]
    }
   ],
   "source": [
    "print(\"# of converted SNPs in sperm:\", len(converted_snps_with_seq_df.filter(~pl.col(\"sample_id\").is_in(ceph_sample_ids))))\n",
    "print(\"# of NCO reads in sperm:\", converted_snps_with_seq_df.filter(~pl.col(\"sample_id\").is_in(ceph_sample_ids)).n_unique([\"read_name\"]))"
   ]
  },
  {
   "cell_type": "code",
   "execution_count": null,
   "id": "6da528ec-2d17-4150-9852-6767ced71870",
   "metadata": {},
   "outputs": [],
   "source": []
  },
  {
   "cell_type": "markdown",
   "id": "b78b9423-c5f6-44d8-bf15-ea88fe424c4c",
   "metadata": {
    "tags": []
   },
   "source": [
    "## What is the total GC bias?"
   ]
  },
  {
   "cell_type": "code",
   "execution_count": 20,
   "id": "31d4a516-275a-4557-9ce2-2dfe0b33b1d5",
   "metadata": {
    "tags": []
   },
   "outputs": [],
   "source": [
    "import statsmodels.stats.proportion\n",
    "\n",
    "def calculate_gc_stats(df, limited_sample_ids):\n",
    "    gc_stats_df = (df\n",
    "        .filter(pl.col(\"sample_id\").is_in(limited_sample_ids))\n",
    "        .select(\n",
    "            pl.when(pl.col(\"fits1_more\") == 1).then(pl.col(\"refseq_start1\")).otherwise(pl.col(\"refseq_start2\")).alias(\"base\")\n",
    "        )\n",
    "        .group_by(\"base\")\n",
    "        .len()\n",
    "    )\n",
    "                   \n",
    "    stats_D = dict(gc_stats_df.rows())\n",
    "\n",
    "    n_GC = stats_D.get(\"G\", 0) + stats_D.get(\"C\", 0)\n",
    "    n_AT = stats_D.get(\"A\", 0) + stats_D.get(\"T\", 0)\n",
    "                   \n",
    "    print(\"n_GC, n_AT:\", n_GC, n_AT)\n",
    "    print(\"GC-bias:\", n_GC / (n_GC+n_AT))\n",
    "    print(\"CI:\", statsmodels.stats.proportion.proportion_confint(n_GC, (n_GC+n_AT), method=\"binom_test\"))\n",
    "    \n",
    "    return n_GC / (n_GC+n_AT), statsmodels.stats.proportion.proportion_confint(n_GC, (n_GC+n_AT), method=\"binom_test\")"
   ]
  },
  {
   "cell_type": "code",
   "execution_count": 102,
   "id": "d2aed04e-4d6f-4b25-9c52-fc064460c074",
   "metadata": {},
   "outputs": [
    {
     "name": "stdout",
     "output_type": "stream",
     "text": [
      "n_GC, n_AT: 1103 712\n",
      "GC-bias: 0.6077134986225895\n",
      "CI: (0.5848626321232496, 0.6300484892540437)\n"
     ]
    }
   ],
   "source": [
    "calculate_gc_stats(converted_snps_with_seq_df, sample_ids);"
   ]
  },
  {
   "cell_type": "code",
   "execution_count": 103,
   "id": "9776d3d4-a379-4a79-a7c2-8f58414ba8f7",
   "metadata": {
    "tags": []
   },
   "outputs": [
    {
     "name": "stdout",
     "output_type": "stream",
     "text": [
      "n_GC, n_AT: 705 446\n",
      "GC-bias: 0.6125108601216334\n",
      "CI: (0.5838618360878662, 0.6403478237761184)\n"
     ]
    }
   ],
   "source": [
    "calculate_gc_stats(converted_snps_with_seq_df, rahbari_sample_ids);"
   ]
  },
  {
   "cell_type": "code",
   "execution_count": 104,
   "id": "ea7b81a4-d50f-4dea-b1d7-9c036769cfd6",
   "metadata": {
    "tags": []
   },
   "outputs": [
    {
     "name": "stdout",
     "output_type": "stream",
     "text": [
      "n_GC, n_AT: 510 319\n",
      "GC-bias: 0.6151990349819059\n",
      "CI: (0.5814523868163729, 0.6478191261889793)\n"
     ]
    }
   ],
   "source": [
    "calculate_gc_stats(converted_snps_with_seq_df, [x for x in rahbari_sample_ids if x != \"PD50523b\"]);"
   ]
  },
  {
   "cell_type": "code",
   "execution_count": 105,
   "id": "712ad393-7551-476d-a071-088d602a6a68",
   "metadata": {
    "tags": []
   },
   "outputs": [
    {
     "name": "stdout",
     "output_type": "stream",
     "text": [
      "n_GC, n_AT: 398 266\n",
      "GC-bias: 0.5993975903614458\n",
      "CI: (0.5610238529167411, 0.6363571634647197)\n"
     ]
    }
   ],
   "source": [
    "calculate_gc_stats(converted_snps_with_seq_df, sudmant_sample_ids);"
   ]
  },
  {
   "cell_type": "code",
   "execution_count": 106,
   "id": "89e03027-cb67-4ebf-b6c0-27e94d953c68",
   "metadata": {
    "tags": []
   },
   "outputs": [
    {
     "name": "stdout",
     "output_type": "stream",
     "text": [
      "n_GC, n_AT: 1103 712\n",
      "GC-bias: 0.6077134986225895\n",
      "CI: (0.5848626321232496, 0.6300484892540437)\n"
     ]
    }
   ],
   "source": [
    "calculate_gc_stats(converted_snps_with_seq_df, rahbari_sample_ids + sudmant_sample_ids);"
   ]
  },
  {
   "cell_type": "code",
   "execution_count": 107,
   "id": "3d0b9a88-0dbc-437e-a8d2-dc71d781e4a7",
   "metadata": {
    "tags": []
   },
   "outputs": [
    {
     "name": "stdout",
     "output_type": "stream",
     "text": [
      "n_GC, n_AT: 352 441\n",
      "GC-bias: 0.44388398486759145\n",
      "CI: (0.409169510242424, 0.47918453478720857)\n"
     ]
    }
   ],
   "source": [
    "calculate_gc_stats(converted_snps_with_seq_df, ceph_sample_ids);"
   ]
  },
  {
   "cell_type": "code",
   "execution_count": null,
   "id": "618fbdf0-3d23-44b6-a9fd-092bc8097975",
   "metadata": {},
   "outputs": [],
   "source": []
  },
  {
   "cell_type": "code",
   "execution_count": null,
   "id": "de0fcf67-766c-46db-b9d0-e333de54bd74",
   "metadata": {},
   "outputs": [],
   "source": []
  },
  {
   "cell_type": "markdown",
   "id": "a4a3a50e-846a-4754-9a81-789f83df8201",
   "metadata": {},
   "source": [
    "## Limited to AA DSBs"
   ]
  },
  {
   "cell_type": "code",
   "execution_count": 25,
   "id": "257d47b0-eff7-4d1c-9199-b302eef39bfe",
   "metadata": {
    "tags": []
   },
   "outputs": [
    {
     "name": "stdout",
     "output_type": "stream",
     "text": [
      "n_GC, n_AT: 553 288\n",
      "GC-bias: 0.6575505350772889\n",
      "CI: (0.6243048146303324, 0.6891278936778733)\n"
     ]
    },
    {
     "data": {
      "text/plain": [
       "(0.6575505350772889, (0.6243048146303324, 0.6891278936778733))"
      ]
     },
     "execution_count": 25,
     "metadata": {},
     "output_type": "execute_result"
    }
   ],
   "source": [
    "calculate_gc_stats(converted_snps_with_seq_df.filter(\"has_AA_DSB\"), sample_ids)"
   ]
  },
  {
   "cell_type": "code",
   "execution_count": 26,
   "id": "cafccf57-5ef6-45e5-ab08-96651ffbe189",
   "metadata": {
    "tags": []
   },
   "outputs": [
    {
     "name": "stdout",
     "output_type": "stream",
     "text": [
      "n_GC, n_AT: 337 175\n",
      "GC-bias: 0.658203125\n",
      "CI: (0.6153088767967824, 0.6983578327790448)\n"
     ]
    },
    {
     "data": {
      "text/plain": [
       "(0.658203125, (0.6153088767967824, 0.6983578327790448))"
      ]
     },
     "execution_count": 26,
     "metadata": {},
     "output_type": "execute_result"
    }
   ],
   "source": [
    "calculate_gc_stats(converted_snps_with_seq_df.filter(\"has_AA_DSB\"), rahbari_sample_ids)"
   ]
  },
  {
   "cell_type": "code",
   "execution_count": 27,
   "id": "394810c6-2278-41b1-993c-b56121cc0fc8",
   "metadata": {
    "tags": []
   },
   "outputs": [
    {
     "name": "stdout",
     "output_type": "stream",
     "text": [
      "n_GC, n_AT: 216 113\n",
      "GC-bias: 0.6565349544072948\n",
      "CI: (0.6034364746994044, 0.7068950725450984)\n"
     ]
    },
    {
     "data": {
      "text/plain": [
       "(0.6565349544072948, (0.6034364746994044, 0.7068950725450984))"
      ]
     },
     "execution_count": 27,
     "metadata": {},
     "output_type": "execute_result"
    }
   ],
   "source": [
    "calculate_gc_stats(converted_snps_with_seq_df.filter(\"has_AA_DSB\"), sudmant_sample_ids)"
   ]
  },
  {
   "cell_type": "code",
   "execution_count": 28,
   "id": "39421c80-5f5e-4204-a0d5-4c00ce2755f9",
   "metadata": {
    "tags": []
   },
   "outputs": [
    {
     "name": "stdout",
     "output_type": "stream",
     "text": [
      "n_GC, n_AT: 553 288\n",
      "GC-bias: 0.6575505350772889\n",
      "CI: (0.6243048146303324, 0.6891278936778733)\n"
     ]
    },
    {
     "data": {
      "text/plain": [
       "(0.6575505350772889, (0.6243048146303324, 0.6891278936778733))"
      ]
     },
     "execution_count": 28,
     "metadata": {},
     "output_type": "execute_result"
    }
   ],
   "source": [
    "calculate_gc_stats(converted_snps_with_seq_df.filter(\"has_AA_DSB\"), rahbari_sample_ids+sudmant_sample_ids)"
   ]
  },
  {
   "cell_type": "code",
   "execution_count": 29,
   "id": "31dd1af3-7515-4626-b05e-e6aceaba85fe",
   "metadata": {
    "tags": []
   },
   "outputs": [
    {
     "data": {
      "text/plain": [
       "SignificanceResult(statistic=np.float64(1.4802525252525252), pvalue=np.float64(6.222251838143426e-05))"
      ]
     },
     "execution_count": 29,
     "metadata": {},
     "output_type": "execute_result"
    }
   ],
   "source": [
    "scipy.stats.fisher_exact([[553, 288], [1103-553, 712-288]])"
   ]
  },
  {
   "cell_type": "code",
   "execution_count": 11,
   "id": "ad81afe8-075d-4be3-a001-1d102b13fcf5",
   "metadata": {},
   "outputs": [
    {
     "data": {
      "text/plain": [
       "841"
      ]
     },
     "execution_count": 11,
     "metadata": {},
     "output_type": "execute_result"
    }
   ],
   "source": [
    "553+288"
   ]
  },
  {
   "cell_type": "code",
   "execution_count": 30,
   "id": "58d03331-6324-4464-ad14-8d9e38f9f2ab",
   "metadata": {
    "tags": []
   },
   "outputs": [
    {
     "name": "stdout",
     "output_type": "stream",
     "text": [
      "n_GC, n_AT: 58 66\n",
      "GC-bias: 0.46774193548387094\n",
      "CI: (0.37865913118817307, 0.5565957649803954)\n"
     ]
    },
    {
     "data": {
      "text/plain": [
       "(0.46774193548387094, (0.37865913118817307, 0.5565957649803954))"
      ]
     },
     "execution_count": 30,
     "metadata": {},
     "output_type": "execute_result"
    }
   ],
   "source": [
    "calculate_gc_stats(converted_snps_with_seq_df.filter(\"has_AA_DSB\"), ceph_sample_ids)"
   ]
  },
  {
   "cell_type": "code",
   "execution_count": null,
   "id": "a86fa794-fec1-4fcd-942c-6ec0931a9aad",
   "metadata": {},
   "outputs": [],
   "source": []
  },
  {
   "cell_type": "markdown",
   "id": "88cdd790-53e7-4c42-a18c-1e7dd32ea9fc",
   "metadata": {},
   "source": [
    "## Only multi-SNP tracts?"
   ]
  },
  {
   "cell_type": "code",
   "execution_count": 31,
   "id": "1d4249ec-bb0b-433e-9ec9-f0a39f4be886",
   "metadata": {
    "tags": []
   },
   "outputs": [],
   "source": [
    "multi_df = (converted_snps_with_seq_df\n",
    "    .join(\n",
    "        converted_snps_with_seq_df.group_by(\"read_name\").len().filter(pl.col(\"len\") > 1).select(\"read_name\"),\n",
    "        on=\"read_name\"\n",
    "    )\n",
    ")"
   ]
  },
  {
   "cell_type": "code",
   "execution_count": 32,
   "id": "d379b98f-1f55-4b98-9400-6f4d4e0d4e19",
   "metadata": {
    "tags": []
   },
   "outputs": [
    {
     "name": "stdout",
     "output_type": "stream",
     "text": [
      "# of converted SNPs: 226\n",
      "# of NCO reads: 99\n"
     ]
    }
   ],
   "source": [
    "print(\"# of converted SNPs:\", len(multi_df))\n",
    "print(\"# of NCO reads:\", multi_df.n_unique([\"read_name\"]))"
   ]
  },
  {
   "cell_type": "code",
   "execution_count": 33,
   "id": "27b24245-f726-45c9-8528-195b7b8c5b68",
   "metadata": {
    "tags": []
   },
   "outputs": [
    {
     "name": "stdout",
     "output_type": "stream",
     "text": [
      "n_GC, n_AT: 136 82\n",
      "GC-bias: 0.6238532110091743\n",
      "CI: (0.5574189541283785, 0.6860297725629145)\n"
     ]
    },
    {
     "data": {
      "text/plain": [
       "(0.6238532110091743, (0.5574189541283785, 0.6860297725629145))"
      ]
     },
     "execution_count": 33,
     "metadata": {},
     "output_type": "execute_result"
    }
   ],
   "source": [
    "calculate_gc_stats(multi_df, rahbari_sample_ids + sudmant_sample_ids)"
   ]
  },
  {
   "cell_type": "code",
   "execution_count": 12,
   "id": "65d856ec-4ed8-4acf-82fa-e61b5e8a72af",
   "metadata": {
    "tags": []
   },
   "outputs": [
    {
     "data": {
      "text/plain": [
       "218"
      ]
     },
     "execution_count": 12,
     "metadata": {},
     "output_type": "execute_result"
    }
   ],
   "source": [
    "136+82"
   ]
  },
  {
   "cell_type": "code",
   "execution_count": 34,
   "id": "9c20e17c-dcd9-4629-94f7-51e6e4e9cbc9",
   "metadata": {},
   "outputs": [
    {
     "name": "stdout",
     "output_type": "stream",
     "text": [
      "n_GC, n_AT: 7 1\n",
      "GC-bias: 0.875\n",
      "CI: (0.499999995833031, 0.9936088490454638)\n"
     ]
    },
    {
     "data": {
      "text/plain": [
       "(0.875, (0.499999995833031, 0.9936088490454638))"
      ]
     },
     "execution_count": 34,
     "metadata": {},
     "output_type": "execute_result"
    }
   ],
   "source": [
    "calculate_gc_stats(multi_df, ceph_sample_ids)"
   ]
  },
  {
   "cell_type": "code",
   "execution_count": 35,
   "id": "a6df914b-1f47-46a2-8474-147e639b301e",
   "metadata": {
    "tags": []
   },
   "outputs": [
    {
     "name": "stdout",
     "output_type": "stream",
     "text": [
      "n_GC, n_AT: 62 48\n",
      "GC-bias: 0.5636363636363636\n",
      "CI: (0.46808327954255025, 0.6550238877831507)\n"
     ]
    },
    {
     "data": {
      "text/plain": [
       "(0.5636363636363636, (0.46808327954255025, 0.6550238877831507))"
      ]
     },
     "execution_count": 35,
     "metadata": {},
     "output_type": "execute_result"
    }
   ],
   "source": [
    "calculate_gc_stats(multi_df.filter(\"has_AA_DSB\"), rahbari_sample_ids + sudmant_sample_ids)"
   ]
  },
  {
   "cell_type": "code",
   "execution_count": null,
   "id": "36a8cba4-e974-4ba0-a8e5-8206fecf461e",
   "metadata": {},
   "outputs": [],
   "source": []
  },
  {
   "cell_type": "code",
   "execution_count": null,
   "id": "9a52a2e7-3810-444b-9d4f-acc5a01aff17",
   "metadata": {},
   "outputs": [],
   "source": []
  },
  {
   "cell_type": "markdown",
   "id": "a7ed4796-9f15-4c1e-8420-bf44acd7d5f5",
   "metadata": {},
   "source": [
    "## Stratify by distance to nearest SNP (like in Li et al. 2019)"
   ]
  },
  {
   "cell_type": "code",
   "execution_count": null,
   "id": "58d637ac-d406-48c9-bad8-cabaa8e6e3b7",
   "metadata": {
    "tags": []
   },
   "outputs": [],
   "source": []
  },
  {
   "cell_type": "code",
   "execution_count": null,
   "id": "41d3d99e-51bd-483c-a633-3b658a1d4cbf",
   "metadata": {},
   "outputs": [],
   "source": []
  },
  {
   "cell_type": "code",
   "execution_count": null,
   "id": "42163c6e-0bfc-447d-aa32-ebf7c957ae94",
   "metadata": {},
   "outputs": [],
   "source": []
  },
  {
   "cell_type": "code",
   "execution_count": 108,
   "id": "1a33ad9a-e148-4ad5-9806-22cbf3f9a8d2",
   "metadata": {
    "tags": []
   },
   "outputs": [
    {
     "data": {
      "text/html": [
       "\n",
       "<style>\n",
       "  #altair-viz-b15d4987fc7d47d999ce7cd04b91bd05.vega-embed {\n",
       "    width: 100%;\n",
       "    display: flex;\n",
       "  }\n",
       "\n",
       "  #altair-viz-b15d4987fc7d47d999ce7cd04b91bd05.vega-embed details,\n",
       "  #altair-viz-b15d4987fc7d47d999ce7cd04b91bd05.vega-embed details summary {\n",
       "    position: relative;\n",
       "  }\n",
       "</style>\n",
       "<div id=\"altair-viz-b15d4987fc7d47d999ce7cd04b91bd05\"></div>\n",
       "<script type=\"text/javascript\">\n",
       "  var VEGA_DEBUG = (typeof VEGA_DEBUG == \"undefined\") ? {} : VEGA_DEBUG;\n",
       "  (function(spec, embedOpt){\n",
       "    let outputDiv = document.currentScript.previousElementSibling;\n",
       "    if (outputDiv.id !== \"altair-viz-b15d4987fc7d47d999ce7cd04b91bd05\") {\n",
       "      outputDiv = document.getElementById(\"altair-viz-b15d4987fc7d47d999ce7cd04b91bd05\");\n",
       "    }\n",
       "\n",
       "    const paths = {\n",
       "      \"vega\": \"https://cdn.jsdelivr.net/npm/vega@5?noext\",\n",
       "      \"vega-lib\": \"https://cdn.jsdelivr.net/npm/vega-lib?noext\",\n",
       "      \"vega-lite\": \"https://cdn.jsdelivr.net/npm/vega-lite@5.20.1?noext\",\n",
       "      \"vega-embed\": \"https://cdn.jsdelivr.net/npm/vega-embed@6?noext\",\n",
       "    };\n",
       "\n",
       "    function maybeLoadScript(lib, version) {\n",
       "      var key = `${lib.replace(\"-\", \"\")}_version`;\n",
       "      return (VEGA_DEBUG[key] == version) ?\n",
       "        Promise.resolve(paths[lib]) :\n",
       "        new Promise(function(resolve, reject) {\n",
       "          var s = document.createElement('script');\n",
       "          document.getElementsByTagName(\"head\")[0].appendChild(s);\n",
       "          s.async = true;\n",
       "          s.onload = () => {\n",
       "            VEGA_DEBUG[key] = version;\n",
       "            return resolve(paths[lib]);\n",
       "          };\n",
       "          s.onerror = () => reject(`Error loading script: ${paths[lib]}`);\n",
       "          s.src = paths[lib];\n",
       "        });\n",
       "    }\n",
       "\n",
       "    function showError(err) {\n",
       "      outputDiv.innerHTML = `<div class=\"error\" style=\"color:red;\">${err}</div>`;\n",
       "      throw err;\n",
       "    }\n",
       "\n",
       "    function displayChart(vegaEmbed) {\n",
       "      vegaEmbed(outputDiv, spec, embedOpt)\n",
       "        .catch(err => showError(`Javascript Error: ${err.message}<br>This usually means there's a typo in your chart specification. See the javascript console for the full traceback.`));\n",
       "    }\n",
       "\n",
       "    if(typeof define === \"function\" && define.amd) {\n",
       "      requirejs.config({paths});\n",
       "      let deps = [\"vega-embed\"];\n",
       "      require(deps, displayChart, err => showError(`Error loading script: ${err.message}`));\n",
       "    } else {\n",
       "      maybeLoadScript(\"vega\", \"5\")\n",
       "        .then(() => maybeLoadScript(\"vega-lite\", \"5.20.1\"))\n",
       "        .then(() => maybeLoadScript(\"vega-embed\", \"6\"))\n",
       "        .catch(showError)\n",
       "        .then(() => displayChart(vegaEmbed));\n",
       "    }\n",
       "  })({\"config\": {\"view\": {\"continuousWidth\": 300, \"continuousHeight\": 300}}, \"data\": {\"name\": \"data-f41278b9e7a776d4be3eac5fc5d7ec03\"}, \"mark\": {\"type\": \"bar\", \"tooltip\": true}, \"encoding\": {\"x\": {\"bin\": true, \"field\": \"min_snp_diff\", \"type\": \"quantitative\"}, \"y\": {\"aggregate\": \"count\", \"type\": \"quantitative\"}}, \"params\": [{\"name\": \"param_2\", \"select\": {\"type\": \"interval\", \"encodings\": [\"x\", \"y\"]}, \"bind\": \"scales\"}], \"$schema\": \"https://vega.github.io/schema/vega-lite/v5.20.1.json\", \"datasets\": {\"data-f41278b9e7a776d4be3eac5fc5d7ec03\": [{\"min_snp_diff\": 1.041392685158225}, {\"min_snp_diff\": 1.9242792860618814}, {\"min_snp_diff\": 2.34439227368511}, {\"min_snp_diff\": 2.613841821876069}, {\"min_snp_diff\": 2.3096301674258983}, {\"min_snp_diff\": 2.3541084391474008}, {\"min_snp_diff\": 1.6127838567197355}, {\"min_snp_diff\": 2.622214022966295}, {\"min_snp_diff\": 3.1953460583484192}, {\"min_snp_diff\": 2.4232458739368075}, {\"min_snp_diff\": 2.110589710299249}, {\"min_snp_diff\": 2.56348108539441}, {\"min_snp_diff\": 1.6334684555795864}, {\"min_snp_diff\": 2.2741578492636796}, {\"min_snp_diff\": 2.359835482339888}, {\"min_snp_diff\": 2.984977126415493}, {\"min_snp_diff\": 2.371067862271736}, {\"min_snp_diff\": 2.469822015978163}, {\"min_snp_diff\": 2.8920946026904804}, {\"min_snp_diff\": 2.3692158574101425}, {\"min_snp_diff\": 1.8808135922807911}, {\"min_snp_diff\": 2.9642596301968487}, {\"min_snp_diff\": 1.5185139398778873}, {\"min_snp_diff\": 2.6674529528899535}, {\"min_snp_diff\": 2.021189299069938}, {\"min_snp_diff\": 3.160468531119037}, {\"min_snp_diff\": 3.271144317949078}, {\"min_snp_diff\": 2.683047038238849}, {\"min_snp_diff\": 1.5440680443502754}, {\"min_snp_diff\": 2.775246259740236}, {\"min_snp_diff\": 2.6074550232146683}, {\"min_snp_diff\": 3.4893959217271293}, {\"min_snp_diff\": 2.217483944213906}, {\"min_snp_diff\": 2.8842287696326037}, {\"min_snp_diff\": 2.4756711883244296}, {\"min_snp_diff\": 3.1458177144918276}, {\"min_snp_diff\": 2.7143297597452327}, {\"min_snp_diff\": 3.011147360775797}, {\"min_snp_diff\": 3.237543738142874}, {\"min_snp_diff\": 2.392696953259666}, {\"min_snp_diff\": 2.0606978403536114}, {\"min_snp_diff\": 2.416640507338281}, {\"min_snp_diff\": 2.580924975675619}, {\"min_snp_diff\": 2.3242824552976926}, {\"min_snp_diff\": 2.1583624920952493}, {\"min_snp_diff\": 2.5276299008713385}, {\"min_snp_diff\": 2.1139433523068365}, {\"min_snp_diff\": 3.6392872259102367}, {\"min_snp_diff\": 3.185825359612962}, {\"min_snp_diff\": 3.30984300471607}, {\"min_snp_diff\": 2.5237464668115646}, {\"min_snp_diff\": 2.5092025223311025}, {\"min_snp_diff\": 2.008600171761917}, {\"min_snp_diff\": 2.9489017609702133}, {\"min_snp_diff\": 2.981365509078544}, {\"min_snp_diff\": 1.1760912590556811}, {\"min_snp_diff\": 2.7323937598229686}, {\"min_snp_diff\": 2.107209969647868}, {\"min_snp_diff\": 3.2938043599193363}, {\"min_snp_diff\": 2.786751422145561}, {\"min_snp_diff\": 3.258637282724076}, {\"min_snp_diff\": 2.436162647040756}, {\"min_snp_diff\": 1.6720978579357173}, {\"min_snp_diff\": 2.3344537511509307}, {\"min_snp_diff\": 2.093421685162235}, {\"min_snp_diff\": 2.5575072019056577}, {\"min_snp_diff\": 2.181843587944772}, {\"min_snp_diff\": 3.678245151927042}, {\"min_snp_diff\": 2.214843848047698}, {\"min_snp_diff\": 2.8350561017201157}, {\"min_snp_diff\": 3.6146863422820124}, {\"min_snp_diff\": 2.933993163831242}, {\"min_snp_diff\": 2.3074960379132126}, {\"min_snp_diff\": 2.4345689040341987}, {\"min_snp_diff\": 1.9777236052888476}, {\"min_snp_diff\": 2.8450980400142565}, {\"min_snp_diff\": 2.450249108319361}, {\"min_snp_diff\": 2.7291647896927698}, {\"min_snp_diff\": 2.505149978319906}, {\"min_snp_diff\": 2.6730209071288957}, {\"min_snp_diff\": 1.9084850188786497}, {\"min_snp_diff\": 2.0606978403536114}, {\"min_snp_diff\": 2.3304137733491905}, {\"min_snp_diff\": 2.3579348470004535}, {\"min_snp_diff\": 2.2095150145426303}, {\"min_snp_diff\": 3.2450188707377525}, {\"min_snp_diff\": 2.6414741105040993}, {\"min_snp_diff\": 1.9956351945975497}, {\"min_snp_diff\": 3.346157302232008}, {\"min_snp_diff\": 3.2880255353883623}, {\"min_snp_diff\": 1.414973347970818}, {\"min_snp_diff\": 2.170261715394957}, {\"min_snp_diff\": 2.110589710299249}, {\"min_snp_diff\": 1.301029995663981}, {\"min_snp_diff\": 3.0909630765957314}, {\"min_snp_diff\": 1.57978359661681}, {\"min_snp_diff\": 2.9106244048892007}, {\"min_snp_diff\": 2.8182258936139553}, {\"min_snp_diff\": 1.6232492903979003}, {\"min_snp_diff\": 2.966141732739032}, {\"min_snp_diff\": 2.1613680022349744}, {\"min_snp_diff\": 1.9138138523837167}, {\"min_snp_diff\": 1.2304489213782739}, {\"min_snp_diff\": 2.7497363155690606}, {\"min_snp_diff\": 1.8573324964312683}, {\"min_snp_diff\": 2.733197265106569}, {\"min_snp_diff\": 2.012837224705172}, {\"min_snp_diff\": 2.301029995663981}, {\"min_snp_diff\": 2.290034611362518}, {\"min_snp_diff\": 1.785329835010767}, {\"min_snp_diff\": 2.1553360374650614}, {\"min_snp_diff\": 2.008600171761917}, {\"min_snp_diff\": 2.775974331129369}, {\"min_snp_diff\": 2.2355284469075487}, {\"min_snp_diff\": 3.6200318951262966}, {\"min_snp_diff\": 2.107209969647868}, {\"min_snp_diff\": 3.1189257528257763}, {\"min_snp_diff\": 1.919078092376074}, {\"min_snp_diff\": 1.6020599913279623}, {\"min_snp_diff\": 2.3521825181113623}, {\"min_snp_diff\": 2.469822015978163}, {\"min_snp_diff\": 2.0969100130080562}, {\"min_snp_diff\": 1.5682017240669948}, {\"min_snp_diff\": 1.556302500767287}, {\"min_snp_diff\": 2.4149733479708178}, {\"min_snp_diff\": 3.5953859808091413}, {\"min_snp_diff\": 2.5092025223311025}, {\"min_snp_diff\": 1.1139433523068367}, {\"min_snp_diff\": 3.3494717992143856}, {\"min_snp_diff\": 1.9395192526186182}, {\"min_snp_diff\": 2.41161970596323}, {\"min_snp_diff\": 2.86391737695786}, {\"min_snp_diff\": 1.968482948553935}, {\"min_snp_diff\": 2.885926339801431}, {\"min_snp_diff\": 2.4065401804339546}, {\"min_snp_diff\": 2.3242824552976926}, {\"min_snp_diff\": 2.4996870826184034}, {\"min_snp_diff\": 2.626340367375042}, {\"min_snp_diff\": 2.7315887651867388}, {\"min_snp_diff\": 1.7403626894942439}, {\"min_snp_diff\": 2.8830933585756897}, {\"min_snp_diff\": 1.6532125137753435}, {\"min_snp_diff\": 2.8767949762007}, {\"min_snp_diff\": 2.9355072658247123}, {\"min_snp_diff\": 2.8202014594856397}, {\"min_snp_diff\": 3.3692158574101425}, {\"min_snp_diff\": 1.4313637641589871}, {\"min_snp_diff\": 2.6794278966121188}, {\"min_snp_diff\": 2.877946951629188}, {\"min_snp_diff\": 1.0791812460476247}, {\"min_snp_diff\": 2.905256048748451}, {\"min_snp_diff\": 2.0530784434834195}, {\"min_snp_diff\": 2.0530784434834195}, {\"min_snp_diff\": 2.320146286111054}, {\"min_snp_diff\": 2.6989700043360183}, {\"min_snp_diff\": 2.187520720836463}, {\"min_snp_diff\": 1.041392685158225}, {\"min_snp_diff\": 2.7032913781186614}, {\"min_snp_diff\": 1.5185139398778873}, {\"min_snp_diff\": 1.591064607026499}, {\"min_snp_diff\": 2.487138375477186}, {\"min_snp_diff\": 3.306639441024261}, {\"min_snp_diff\": 3.0047511555910007}, {\"min_snp_diff\": 2.648360010980931}, {\"min_snp_diff\": 3.4608978427565478}, {\"min_snp_diff\": 2.894316062684438}, {\"min_snp_diff\": 1.8920946026904801}, {\"min_snp_diff\": 2.6901960800285134}, {\"min_snp_diff\": 3.408579125408667}, {\"min_snp_diff\": 2.8202014594856397}, {\"min_snp_diff\": 2.3996737214810375}, {\"min_snp_diff\": 2.8651039746411278}, {\"min_snp_diff\": 3.5690225860295635}, {\"min_snp_diff\": 2.683047038238849}, {\"min_snp_diff\": 2.363611979892144}, {\"min_snp_diff\": 2.6464037262230695}, {\"min_snp_diff\": 2.3783979009481375}, {\"min_snp_diff\": 1.6901960800285134}, {\"min_snp_diff\": 2.4712917110589383}, {\"min_snp_diff\": 2.107209969647868}, {\"min_snp_diff\": 2.9464522650130727}, {\"min_snp_diff\": 2.620136054973757}, {\"min_snp_diff\": 2.9444826721501682}, {\"min_snp_diff\": 3.185825359612962}, {\"min_snp_diff\": 2.671172842715083}, {\"min_snp_diff\": 2.5854607295085006}, {\"min_snp_diff\": 3.1395642661758494}, {\"min_snp_diff\": 3.117602691690084}, {\"min_snp_diff\": 1.9030899869919433}, {\"min_snp_diff\": 1.7923916894982537}, {\"min_snp_diff\": 2.2405492482825995}, {\"min_snp_diff\": 3.051152522447381}, {\"min_snp_diff\": 2.9190780923760733}, {\"min_snp_diff\": 3.167021795790256}, {\"min_snp_diff\": 2.021189299069938}, {\"min_snp_diff\": 3.280805928393667}, {\"min_snp_diff\": 2.677606952720493}, {\"min_snp_diff\": 1.9444826721501687}, {\"min_snp_diff\": 2.3891660843645326}, {\"min_snp_diff\": 2.850646235183066}, {\"min_snp_diff\": 2.487138375477186}, {\"min_snp_diff\": 3.1442627737619904}, {\"min_snp_diff\": 2.626340367375042}, {\"min_snp_diff\": 2.2695129442179165}, {\"min_snp_diff\": 2.811575005870593}, {\"min_snp_diff\": 2.56702636615906}, {\"min_snp_diff\": 1.9867717342662448}, {\"min_snp_diff\": 2.843855422623161}, {\"min_snp_diff\": 2.2304489213782737}, {\"min_snp_diff\": 2.792391689498254}, {\"min_snp_diff\": 2.2988530764097064}, {\"min_snp_diff\": 2.648360010980931}, {\"min_snp_diff\": 2.810232517995084}, {\"min_snp_diff\": 2.1986570869544226}, {\"min_snp_diff\": 2.4132997640812515}, {\"min_snp_diff\": 2.6981005456233897}, {\"min_snp_diff\": 2.629409599102719}, {\"min_snp_diff\": 3.5883837683787276}, {\"min_snp_diff\": 2.8488047010518036}, {\"min_snp_diff\": 3.1752218003430523}, {\"min_snp_diff\": 2.4941545940184424}, {\"min_snp_diff\": 2.951337518795917}, {\"min_snp_diff\": 2.924795995797912}, {\"min_snp_diff\": 2.252853030979893}, {\"min_snp_diff\": 2.4409090820652173}, {\"min_snp_diff\": 2.7839035792727347}, {\"min_snp_diff\": 2.900913067737669}, {\"min_snp_diff\": 2.6946051989335684}, {\"min_snp_diff\": 3.0064660422492313}, {\"min_snp_diff\": 2.1903316981702914}, {\"min_snp_diff\": 2.3673559210260184}, {\"min_snp_diff\": 3.228143607597741}, {\"min_snp_diff\": 2.5465426634781307}, {\"min_snp_diff\": 2.6674529528899535}, {\"min_snp_diff\": 2.294466226161593}, {\"min_snp_diff\": 2.1903316981702914}, {\"min_snp_diff\": 2.631443769013172}, {\"min_snp_diff\": 2.551449997972875}, {\"min_snp_diff\": 1.1461280356782377}, {\"min_snp_diff\": 3.3496659840966294}, {\"min_snp_diff\": 1.7075701760979363}, {\"min_snp_diff\": 2.795880017344075}, {\"min_snp_diff\": 1.7634279935629371}, {\"min_snp_diff\": 1.041392685158225}, {\"min_snp_diff\": 1.041392685158225}, {\"min_snp_diff\": 2.4638929889859074}, {\"min_snp_diff\": 3.1102529173534026}, {\"min_snp_diff\": 1.0791812460476247}, {\"min_snp_diff\": 2.6794278966121188}, {\"min_snp_diff\": 1.9084850188786497}, {\"min_snp_diff\": 2.320146286111054}, {\"min_snp_diff\": 2.4345689040341987}, {\"min_snp_diff\": 3.3789426986134368}, {\"min_snp_diff\": 3.533772058384718}, {\"min_snp_diff\": 1.968482948553935}, {\"min_snp_diff\": 2.5092025223311025}, {\"min_snp_diff\": 2.4313637641589874}, {\"min_snp_diff\": 1.3979400086720375}, {\"min_snp_diff\": 3.2440295890300215}, {\"min_snp_diff\": 3.2460059040760285}, {\"min_snp_diff\": 1.6812412373755872}, {\"min_snp_diff\": 1.5314789170422551}, {\"min_snp_diff\": 3.602494068807281}, {\"min_snp_diff\": 3.164947372621841}, {\"min_snp_diff\": 3.0354297381845483}, {\"min_snp_diff\": 3.2049335223541444}, {\"min_snp_diff\": 2.4440447959180758}, {\"min_snp_diff\": 2.633468455579586}, {\"min_snp_diff\": 3.3332456989619623}, {\"min_snp_diff\": 1.8195439355418683}, {\"min_snp_diff\": 2.717670503002262}, {\"min_snp_diff\": 3.4230819582972307}, {\"min_snp_diff\": 2.808885867359812}, {\"min_snp_diff\": 2.4857214264815797}, {\"min_snp_diff\": 3.143014800254095}, {\"min_snp_diff\": 2.086359830674748}, {\"min_snp_diff\": 2.7737864449811935}, {\"min_snp_diff\": 3.1373541113707324}, {\"min_snp_diff\": 2.1958996524092336}, {\"min_snp_diff\": 1.8129133566428552}, {\"min_snp_diff\": 2.296665190261531}, {\"min_snp_diff\": 2.86569605991607}, {\"min_snp_diff\": 3.2812606870550125}, {\"min_snp_diff\": 2.7193312869837265}, {\"min_snp_diff\": 1.7993405494535815}, {\"min_snp_diff\": 2.8976270912904414}, {\"min_snp_diff\": 1.6020599913279623}, {\"min_snp_diff\": 2.9542425094393248}, {\"min_snp_diff\": 2.143014800254095}, {\"min_snp_diff\": 1.462397997898956}, {\"min_snp_diff\": 2.359835482339888}, {\"min_snp_diff\": 2.107209969647868}, {\"min_snp_diff\": 1.8692317197309762}, {\"min_snp_diff\": 2.57287160220048}, {\"min_snp_diff\": 3.4399639359209044}, {\"min_snp_diff\": 3.00389116623691}, {\"min_snp_diff\": 1.6532125137753435}, {\"min_snp_diff\": 1.6532125137753435}, {\"min_snp_diff\": 2.086359830674748}, {\"min_snp_diff\": 2.2380461031287955}, {\"min_snp_diff\": 1.2787536009528289}, {\"min_snp_diff\": 1.2787536009528289}, {\"min_snp_diff\": 3.0366288953621607}, {\"min_snp_diff\": 2.7218106152125463}, {\"min_snp_diff\": 3.03462845662532}, {\"min_snp_diff\": 2.6665179805548807}, {\"min_snp_diff\": 2.8382192219076257}, {\"min_snp_diff\": 2.8825245379548803}, {\"min_snp_diff\": 2.7781512503836434}, {\"min_snp_diff\": 2.7671558660821804}, {\"min_snp_diff\": 2.4232458739368075}, {\"min_snp_diff\": 3.1801258751640535}, {\"min_snp_diff\": 2.342422680822206}, {\"min_snp_diff\": 1.6020599913279623}, {\"min_snp_diff\": 1.6020599913279623}, {\"min_snp_diff\": 2.5276299008713385}, {\"min_snp_diff\": 2.2380461031287955}, {\"min_snp_diff\": 2.4996870826184034}, {\"min_snp_diff\": 1.845098040014257}, {\"min_snp_diff\": 2.5224442335063197}, {\"min_snp_diff\": 2.4712917110589383}, {\"min_snp_diff\": 1.8920946026904801}, {\"min_snp_diff\": 1.8920946026904801}, {\"min_snp_diff\": 1.556302500767287}, {\"min_snp_diff\": 2.5563025007672873}, {\"min_snp_diff\": 2.9689496809813423}, {\"min_snp_diff\": 1.968482948553935}, {\"min_snp_diff\": 1.8388490907372552}, {\"min_snp_diff\": 1.1461280356782377}, {\"min_snp_diff\": 1.1461280356782377}, {\"min_snp_diff\": 2.917505509552546}, {\"min_snp_diff\": 3.186673867499745}, {\"min_snp_diff\": 1.8633228601204557}, {\"min_snp_diff\": 2.6095944092252195}, {\"min_snp_diff\": 2.6190933306267423}, {\"min_snp_diff\": 3.061452479087193}, {\"min_snp_diff\": 2.8382192219076257}, {\"min_snp_diff\": 2.5237464668115646}, {\"min_snp_diff\": 1.57978359661681}, {\"min_snp_diff\": 1.7481880270062005}, {\"min_snp_diff\": 1.3424226808222062}, {\"min_snp_diff\": 2.301029995663981}, {\"min_snp_diff\": 2.7767011839884104}, {\"min_snp_diff\": 2.842609239610562}, {\"min_snp_diff\": 2.0969100130080562}, {\"min_snp_diff\": 1.785329835010767}, {\"min_snp_diff\": 2.387389826338729}, {\"min_snp_diff\": 2.1958996524092336}, {\"min_snp_diff\": 2.649334858712142}, {\"min_snp_diff\": 2.580924975675619}, {\"min_snp_diff\": 1.9637878273455551}, {\"min_snp_diff\": 2.997823080745725}, {\"min_snp_diff\": 2.332438459915605}, {\"min_snp_diff\": 3.088490470182396}, {\"min_snp_diff\": 2.1492191126553797}, {\"min_snp_diff\": 2.691081492122968}, {\"min_snp_diff\": 3.190051417759206}, {\"min_snp_diff\": 2.6532125137753435}, {\"min_snp_diff\": 3.0098756337121597}, {\"min_snp_diff\": 2.7201593034059566}, {\"min_snp_diff\": 2.696356388733332}, {\"min_snp_diff\": 2.2922560713564755}, {\"min_snp_diff\": 3.3072820470333455}, {\"min_snp_diff\": 1.322219294733919}, {\"min_snp_diff\": 2.123851640967086}, {\"min_snp_diff\": 2.853698211776174}, {\"min_snp_diff\": 3.02530586526477}, {\"min_snp_diff\": 3.3686587123922265}, {\"min_snp_diff\": 2.383815365980431}, {\"min_snp_diff\": 2.726727209026572}, {\"min_snp_diff\": 1.6127838567197355}, {\"min_snp_diff\": 2.5250448070368448}, {\"min_snp_diff\": 1.6434526764861872}, {\"min_snp_diff\": 2.294466226161593}, {\"min_snp_diff\": 2.0334237554869494}, {\"min_snp_diff\": 2.705863712283919}, {\"min_snp_diff\": 2.217483944213906}, {\"min_snp_diff\": 1.6020599913279623}, {\"min_snp_diff\": 1.556302500767287}, {\"min_snp_diff\": 2.6424645202421213}, {\"min_snp_diff\": 3.1031192535457137}, {\"min_snp_diff\": 2.5024271199844326}, {\"min_snp_diff\": 2.468347330412157}, {\"min_snp_diff\": 2.0969100130080562}, {\"min_snp_diff\": 2.825426117767823}, {\"min_snp_diff\": 1.5314789170422551}, {\"min_snp_diff\": 2.2380461031287955}, {\"min_snp_diff\": 3.243286146083446}, {\"min_snp_diff\": 2.648360010980931}, {\"min_snp_diff\": 3.5789828427027905}, {\"min_snp_diff\": 3.0791812460476247}, {\"min_snp_diff\": 3.2240148113728635}, {\"min_snp_diff\": 2.294466226161593}, {\"min_snp_diff\": 2.4099331233312946}, {\"min_snp_diff\": 1.6989700043360185}, {\"min_snp_diff\": 2.1398790864012365}, {\"min_snp_diff\": 2.8561244442423}, {\"min_snp_diff\": 2.537819095073274}, {\"min_snp_diff\": 2.2479732663618064}, {\"min_snp_diff\": 2.660865478003869}, {\"min_snp_diff\": 3.045322978786657}, {\"min_snp_diff\": 2.4578818967339924}, {\"min_snp_diff\": 2.436162647040756}, {\"min_snp_diff\": 3.380211241711606}, {\"min_snp_diff\": 3.1832698436828046}, {\"min_snp_diff\": 2.4031205211758175}, {\"min_snp_diff\": 2.2041199826559246}, {\"min_snp_diff\": 3.4250448745513884}, {\"min_snp_diff\": 2.123851640967086}, {\"min_snp_diff\": 2.326335860928751}, {\"min_snp_diff\": 1.7781512503836434}, {\"min_snp_diff\": 2.9030899869919433}, {\"min_snp_diff\": 3.420120848085703}, {\"min_snp_diff\": 2.6730209071288957}, {\"min_snp_diff\": 2.710117365111816}, {\"min_snp_diff\": 1.8808135922807911}, {\"min_snp_diff\": 1.9395192526186182}, {\"min_snp_diff\": 3.0909630765957314}, {\"min_snp_diff\": 2.984977126415493}, {\"min_snp_diff\": 1.9867717342662448}, {\"min_snp_diff\": 3.4614985267830183}, {\"min_snp_diff\": 2.53655844257153}, {\"min_snp_diff\": 2.305351369446624}, {\"min_snp_diff\": 3.04099769242349}, {\"min_snp_diff\": 2.885926339801431}, {\"min_snp_diff\": 2.2253092817258624}, {\"min_snp_diff\": 3.3811150807098502}, {\"min_snp_diff\": 2.3159703454569174}, {\"min_snp_diff\": 2.7032913781186614}, {\"min_snp_diff\": 3.0445397603924107}, {\"min_snp_diff\": 2.969415912353981}, {\"min_snp_diff\": 2.4313637641589874}, {\"min_snp_diff\": 3.2612628687924934}, {\"min_snp_diff\": 2.9030899869919433}, {\"min_snp_diff\": 2.7134905430939424}, {\"min_snp_diff\": 3.133538908370217}, {\"min_snp_diff\": 2.655138434811382}, {\"min_snp_diff\": 2.6127838567197355}, {\"min_snp_diff\": 2.5428254269591797}, {\"min_snp_diff\": 2.4563660331290427}, {\"min_snp_diff\": 1.716003343634799}, {\"min_snp_diff\": 2.631443769013172}, {\"min_snp_diff\": 2.9489017609702133}, {\"min_snp_diff\": 2.0530784434834195}, {\"min_snp_diff\": 3.439490590389683}, {\"min_snp_diff\": 3.0788191830988483}, {\"min_snp_diff\": 2.926342446625655}, {\"min_snp_diff\": 2.4345689040341987}, {\"min_snp_diff\": 3.0178677189635055}, {\"min_snp_diff\": 2.4199557484897576}, {\"min_snp_diff\": 2.2278867046136734}, {\"min_snp_diff\": 2.8842287696326037}, {\"min_snp_diff\": 2.5502283530550938}, {\"min_snp_diff\": 2.5415792439465807}, {\"min_snp_diff\": 2.8959747323590643}, {\"min_snp_diff\": 2.727541257028556}, {\"min_snp_diff\": 2.866877814337499}, {\"min_snp_diff\": 3.070776462843434}, {\"min_snp_diff\": 2.296665190261531}, {\"min_snp_diff\": 3.4546924492394764}, {\"min_snp_diff\": 2.387389826338729}, {\"min_snp_diff\": 2.2430380486862944}, {\"min_snp_diff\": 2.2576785748691846}, {\"min_snp_diff\": 1.9912260756924949}, {\"min_snp_diff\": 2.4281347940287885}, {\"min_snp_diff\": 2.7909884750888154}, {\"min_snp_diff\": 2.301029995663981}, {\"min_snp_diff\": 3.075911761482777}, {\"min_snp_diff\": 2.7723217067229196}, {\"min_snp_diff\": 3.2574385668598134}, {\"min_snp_diff\": 2.2671717284030133}, {\"min_snp_diff\": 2.0530784434834195}, {\"min_snp_diff\": 3.2588766293721307}, {\"min_snp_diff\": 2.0}, {\"min_snp_diff\": 2.110589710299249}, {\"min_snp_diff\": 1.2787536009528289}, {\"min_snp_diff\": 2.7497363155690606}, {\"min_snp_diff\": 2.537819095073274}, {\"min_snp_diff\": 2.6702458530741238}, {\"min_snp_diff\": 1.3617278360175928}, {\"min_snp_diff\": 2.2671717284030133}, {\"min_snp_diff\": 2.110589710299249}, {\"min_snp_diff\": 3.4144719496293026}, {\"min_snp_diff\": 2.3617278360175926}, {\"min_snp_diff\": 2.1583624920952493}, {\"min_snp_diff\": 1.8388490907372552}, {\"min_snp_diff\": 1.6812412373755872}, {\"min_snp_diff\": 2.850646235183066}, {\"min_snp_diff\": 2.2504200023088936}, {\"min_snp_diff\": 2.746634198937578}, {\"min_snp_diff\": 1.2552725051033058}, {\"min_snp_diff\": 2.8280150642239765}, {\"min_snp_diff\": 3.2221960463017196}, {\"min_snp_diff\": 3.2095150145426303}, {\"min_snp_diff\": 2.662757831681574}, {\"min_snp_diff\": 2.4014005407815437}, {\"min_snp_diff\": 2.181843587944772}, {\"min_snp_diff\": 3.070776462843434}, {\"min_snp_diff\": 3.017450729510536}, {\"min_snp_diff\": 3.11226976841727}, {\"min_snp_diff\": 2.3074960379132126}, {\"min_snp_diff\": 2.4638929889859074}, {\"min_snp_diff\": 2.4668676203541096}, {\"min_snp_diff\": 2.320146286111054}, {\"min_snp_diff\": 3.015778756389041}, {\"min_snp_diff\": 2.4329692908744054}, {\"min_snp_diff\": 1.5185139398778873}, {\"min_snp_diff\": 3.336259552014193}, {\"min_snp_diff\": 2.917505509552546}, {\"min_snp_diff\": 2.6063813651106047}, {\"min_snp_diff\": 1.462397997898956}, {\"min_snp_diff\": 2.421603926869831}, {\"min_snp_diff\": 2.287801729930226}, {\"min_snp_diff\": 2.2405492482825995}, {\"min_snp_diff\": 3.218797998111737}, {\"min_snp_diff\": 3.016197353512439}, {\"min_snp_diff\": 2.3384564936046046}, {\"min_snp_diff\": 2.9934362304976116}, {\"min_snp_diff\": 1.4771212547196624}, {\"min_snp_diff\": 2.2380461031287955}, {\"min_snp_diff\": 2.5440680443502752}, {\"min_snp_diff\": 1.322219294733919}, {\"min_snp_diff\": 2.86569605991607}, {\"min_snp_diff\": 2.7435097647284294}, {\"min_snp_diff\": 2.442479769064448}, {\"min_snp_diff\": 2.7951845896824237}, {\"min_snp_diff\": 2.1553360374650614}, {\"min_snp_diff\": 3.0891983668051486}, {\"min_snp_diff\": 2.2329961103921536}, {\"min_snp_diff\": 2.2479732663618064}, {\"min_snp_diff\": 2.281033367247727}, {\"min_snp_diff\": 2.2624510897304293}, {\"min_snp_diff\": 1.7993405494535815}, {\"min_snp_diff\": 1.716003343634799}, {\"min_snp_diff\": 2.4345689040341987}, {\"min_snp_diff\": 3.6465997517203728}, {\"min_snp_diff\": 2.3483048630481607}, {\"min_snp_diff\": 2.8061799739838866}, {\"min_snp_diff\": 3.179551791165187}, {\"min_snp_diff\": 2.8721562727482928}, {\"min_snp_diff\": 1.8750612633916997}, {\"min_snp_diff\": 1.7781512503836434}, {\"min_snp_diff\": 2.7781512503836434}, {\"min_snp_diff\": 2.7201593034059566}, {\"min_snp_diff\": 3.7701152947871015}, {\"min_snp_diff\": 2.1986570869544226}, {\"min_snp_diff\": 2.3159703454569174}, {\"min_snp_diff\": 1.7708520116421442}, {\"min_snp_diff\": 1.041392685158225}, {\"min_snp_diff\": 2.5563025007672873}, {\"min_snp_diff\": 3.520745471519482}, {\"min_snp_diff\": 3.3604040547299383}, {\"min_snp_diff\": 3.493179120682515}, {\"min_snp_diff\": 2.0334237554869494}, {\"min_snp_diff\": 3.107209969647868}, {\"min_snp_diff\": 2.049218022670181}, {\"min_snp_diff\": 3.011570443597278}, {\"min_snp_diff\": 2.8407332346118066}, {\"min_snp_diff\": 2.608526033577194}, {\"min_snp_diff\": 1.8325089127062362}, {\"min_snp_diff\": 2.7347998295888467}, {\"min_snp_diff\": 2.967547976218862}, {\"min_snp_diff\": 2.4132997640812515}, {\"min_snp_diff\": 1.556302500767287}, {\"min_snp_diff\": 3.080626486921805}, {\"min_snp_diff\": 2.9731278535996983}, {\"min_snp_diff\": 3.6203442997544926}, {\"min_snp_diff\": 1.9637878273455551}, {\"min_snp_diff\": 2.0681858617461617}, {\"min_snp_diff\": 2.4996870826184034}, {\"min_snp_diff\": 2.748962861256161}, {\"min_snp_diff\": 2.278753600952829}, {\"min_snp_diff\": 3.1922886125681202}, {\"min_snp_diff\": 2.4623979978989556}, {\"min_snp_diff\": 2.505149978319906}, {\"min_snp_diff\": 2.986323777050765}, {\"min_snp_diff\": 2.9106244048892007}, {\"min_snp_diff\": 3.1875207208364627}, {\"min_snp_diff\": 2.2624510897304293}, {\"min_snp_diff\": 2.426511261364575}, {\"min_snp_diff\": 1.6812412373755872}, {\"min_snp_diff\": 2.741151598851785}, {\"min_snp_diff\": 1.5185139398778873}, {\"min_snp_diff\": 2.8733206018153985}, {\"min_snp_diff\": 2.1643528557844367}, {\"min_snp_diff\": 2.9916690073799486}, {\"min_snp_diff\": 2.638489256954637}, {\"min_snp_diff\": 3.514282047860377}, {\"min_snp_diff\": 2.4065401804339546}, {\"min_snp_diff\": 1.724275869600789}, {\"min_snp_diff\": 2.754348335711019}, {\"min_snp_diff\": 2.363611979892144}, {\"min_snp_diff\": 1.591064607026499}, {\"min_snp_diff\": 2.4014005407815437}, {\"min_snp_diff\": 2.8808135922807914}, {\"min_snp_diff\": 2.301029995663981}, {\"min_snp_diff\": 2.696356388733332}, {\"min_snp_diff\": 2.9036325160842376}, {\"min_snp_diff\": 2.9872192299080047}, {\"min_snp_diff\": 2.382017042574868}, {\"min_snp_diff\": 2.889861721258188}, {\"min_snp_diff\": 3.2113875529368583}, {\"min_snp_diff\": 2.3673559210260184}, {\"min_snp_diff\": 2.2648178230095364}, {\"min_snp_diff\": 2.9319661147281724}, {\"min_snp_diff\": 3.088490470182396}, {\"min_snp_diff\": 1.8325089127062362}, {\"min_snp_diff\": 1.5185139398778873}, {\"min_snp_diff\": 2.7671558660821804}, {\"min_snp_diff\": 1.716003343634799}, {\"min_snp_diff\": 2.3242824552976926}, {\"min_snp_diff\": 2.3344537511509307}, {\"min_snp_diff\": 3.407390904470731}, {\"min_snp_diff\": 3.156549151331781}, {\"min_snp_diff\": 2.9754318085092626}, {\"min_snp_diff\": 1.7558748556724912}, {\"min_snp_diff\": 3.160468531119037}, {\"min_snp_diff\": 1.2787536009528289}, {\"min_snp_diff\": 1.5440680443502754}, {\"min_snp_diff\": 2.5943925503754266}, {\"min_snp_diff\": 3.1519823954574737}, {\"min_snp_diff\": 2.655138434811382}, {\"min_snp_diff\": 2.294466226161593}, {\"min_snp_diff\": 2.760422483423212}, {\"min_snp_diff\": 2.763427993562937}, {\"min_snp_diff\": 2.7944880466591693}, {\"min_snp_diff\": 2.1461280356782377}, {\"min_snp_diff\": 2.4099331233312946}, {\"min_snp_diff\": 2.3560258571931225}, {\"min_snp_diff\": 3.0711452904510823}, {\"min_snp_diff\": 2.851869600729766}, {\"min_snp_diff\": 1.591064607026499}, {\"min_snp_diff\": 2.214843848047698}, {\"min_snp_diff\": 1.9444826721501687}, {\"min_snp_diff\": 2.478566495593843}, {\"min_snp_diff\": 2.390935107103379}, {\"min_snp_diff\": 2.281033367247727}, {\"min_snp_diff\": 2.6232492903979003}, {\"min_snp_diff\": 2.870988813760575}, {\"min_snp_diff\": 2.4727564493172123}, {\"min_snp_diff\": 2.1139433523068365}, {\"min_snp_diff\": 2.8247764624755454}, {\"min_snp_diff\": 2.0334237554869494}, {\"min_snp_diff\": 2.2068258760318495}, {\"min_snp_diff\": 3.2345172835126865}, {\"min_snp_diff\": 2.5276299008713385}, {\"min_snp_diff\": 2.110589710299249}, {\"min_snp_diff\": 1.7634279935629371}, {\"min_snp_diff\": 2.2855573090077734}, {\"min_snp_diff\": 3.1513698502474603}, {\"min_snp_diff\": 2.2329961103921536}, {\"min_snp_diff\": 2.2430380486862944}, {\"min_snp_diff\": 2.753583058892906}, {\"min_snp_diff\": 3.532881719407397}, {\"min_snp_diff\": 3.242541428298384}, {\"min_snp_diff\": 3.0595634179012676}, {\"min_snp_diff\": 3.1312977965976225}, {\"min_snp_diff\": 2.45178643552429}, {\"min_snp_diff\": 1.8808135922807911}, {\"min_snp_diff\": 2.4031205211758175}, {\"min_snp_diff\": 2.4955443375464483}, {\"min_snp_diff\": 1.5185139398778873}, {\"min_snp_diff\": 3.1914510144648953}, {\"min_snp_diff\": 2.6766936096248664}, {\"min_snp_diff\": 2.214843848047698}, {\"min_snp_diff\": 3.0182843084265305}, {\"min_snp_diff\": 1.8325089127062362}, {\"min_snp_diff\": 3.0788191830988483}, {\"min_snp_diff\": 2.7067177823367583}, {\"min_snp_diff\": 2.950851458888546}, {\"min_snp_diff\": 2.0}, {\"min_snp_diff\": 2.8926510338773}, {\"min_snp_diff\": 2.008600171761917}, {\"min_snp_diff\": 2.6702458530741238}, {\"min_snp_diff\": 2.5843312243675305}, {\"min_snp_diff\": 2.514547752660286}, {\"min_snp_diff\": 2.969415912353981}, {\"min_snp_diff\": 2.7656685547590136}, {\"min_snp_diff\": 2.2121876044039577}, {\"min_snp_diff\": 1.57978359661681}, {\"min_snp_diff\": 1.57978359661681}, {\"min_snp_diff\": 2.8948696567452523}, {\"min_snp_diff\": 2.517195897949974}, {\"min_snp_diff\": 2.786751422145561}, {\"min_snp_diff\": 1.6627578316815739}, {\"min_snp_diff\": 2.394451680826216}, {\"min_snp_diff\": 2.064457989226918}, {\"min_snp_diff\": 2.7134905430939424}, {\"min_snp_diff\": 3.1034616220947044}, {\"min_snp_diff\": 2.8909795969896885}, {\"min_snp_diff\": 3.0366288953621607}, {\"min_snp_diff\": 3.259354927308034}, {\"min_snp_diff\": 2.5843312243675305}, {\"min_snp_diff\": 2.6857417386022635}, {\"min_snp_diff\": 1.2041199826559246}, {\"min_snp_diff\": 2.7092699609758304}, {\"min_snp_diff\": 1.4771212547196624}, {\"min_snp_diff\": 1.8260748027008262}, {\"min_snp_diff\": 1.9912260756924949}, {\"min_snp_diff\": 2.91487181754005}, {\"min_snp_diff\": 2.5327543789924976}, {\"min_snp_diff\": 3.3436055081041713}, {\"min_snp_diff\": 2.8463371121298047}, {\"min_snp_diff\": 3.432327792261604}, {\"min_snp_diff\": 2.3463529744506384}, {\"min_snp_diff\": 3.3719909114649145}, {\"min_snp_diff\": 3.46716396596909}, {\"min_snp_diff\": 2.966610986681934}, {\"min_snp_diff\": 2.0374264979406234}, {\"min_snp_diff\": 1.0791812460476247}, {\"min_snp_diff\": 2.305351369446624}, {\"min_snp_diff\": 2.394451680826216}, {\"min_snp_diff\": 1.9731278535996983}, {\"min_snp_diff\": 2.655138434811382}, {\"min_snp_diff\": 2.8457180179666586}, {\"min_snp_diff\": 2.852479993636856}, {\"min_snp_diff\": 2.442479769064448}, {\"min_snp_diff\": 2.8603380065709936}, {\"min_snp_diff\": 2.6893088591236203}, {\"min_snp_diff\": 2.909020854211156}, {\"min_snp_diff\": 1.5440680443502754}, {\"min_snp_diff\": 1.6901960800285134}, {\"min_snp_diff\": 1.724275869600789}, {\"min_snp_diff\": 2.436162647040756}, {\"min_snp_diff\": 1.1139433523068367}, {\"min_snp_diff\": 1.1139433523068367}, {\"min_snp_diff\": 2.1643528557844367}, {\"min_snp_diff\": 1.785329835010767}, {\"min_snp_diff\": 2.012837224705172}, {\"min_snp_diff\": 2.4756711883244296}, {\"min_snp_diff\": 1.8920946026904801}, {\"min_snp_diff\": 2.9982593384236984}, {\"min_snp_diff\": 2.305351369446624}, {\"min_snp_diff\": 2.671172842715083}, {\"min_snp_diff\": 2.7218106152125463}, {\"min_snp_diff\": 1.845098040014257}, {\"min_snp_diff\": 2.2304489213782737}, {\"min_snp_diff\": 2.2095150145426303}, {\"min_snp_diff\": 2.514547752660286}, {\"min_snp_diff\": 2.953276336667304}, {\"min_snp_diff\": 3.1625644065230185}, {\"min_snp_diff\": 2.518513939877887}, {\"min_snp_diff\": 2.812244696800369}, {\"min_snp_diff\": 2.591064607026499}, {\"min_snp_diff\": 2.545307116465824}, {\"min_snp_diff\": 2.678518379040114}, {\"min_snp_diff\": 2.5740312677277184}, {\"min_snp_diff\": 2.3617278360175926}, {\"min_snp_diff\": 2.681241237375587}, {\"min_snp_diff\": 3.045322978786657}, {\"min_snp_diff\": 1.6127838567197355}, {\"min_snp_diff\": 2.6304278750250236}, {\"min_snp_diff\": 1.6127838567197355}, {\"min_snp_diff\": 1.5051499783199058}, {\"min_snp_diff\": 2.492760389026837}, {\"min_snp_diff\": 3.027757204690553}, {\"min_snp_diff\": 1.7993405494535815}, {\"min_snp_diff\": 2.4065401804339546}, {\"min_snp_diff\": 2.294466226161593}, {\"min_snp_diff\": 3.1354506993455136}, {\"min_snp_diff\": 2.0}, {\"min_snp_diff\": 3.096214585346405}, {\"min_snp_diff\": 2.8109042806687}, {\"min_snp_diff\": 2.6283889300503116}, {\"min_snp_diff\": 2.6283889300503116}, {\"min_snp_diff\": 2.2695129442179165}, {\"min_snp_diff\": 2.8721562727482928}, {\"min_snp_diff\": 2.8450980400142565}, {\"min_snp_diff\": 2.829303772831025}, {\"min_snp_diff\": 3.0098756337121597}, {\"min_snp_diff\": 2.214843848047698}, {\"min_snp_diff\": 1.5185139398778873}, {\"min_snp_diff\": 2.3304137733491905}, {\"min_snp_diff\": 1.851258348719075}, {\"min_snp_diff\": 2.3579348470004535}, {\"min_snp_diff\": 2.978636948384474}, {\"min_snp_diff\": 2.893761762057943}, {\"min_snp_diff\": 1.8633228601204557}, {\"min_snp_diff\": 2.7795964912578244}, {\"min_snp_diff\": 1.9138138523837167}, {\"min_snp_diff\": 2.7528164311882715}, {\"min_snp_diff\": 2.8195439355418683}, {\"min_snp_diff\": 2.4899584794248346}, {\"min_snp_diff\": 2.3783979009481375}, {\"min_snp_diff\": 2.580924975675619}, {\"min_snp_diff\": 2.726727209026572}, {\"min_snp_diff\": 2.0606978403536114}, {\"min_snp_diff\": 2.107209969647868}, {\"min_snp_diff\": 2.481442628502305}, {\"min_snp_diff\": 2.648360010980931}, {\"min_snp_diff\": 2.3483048630481607}, {\"min_snp_diff\": 3.211654400553182}, {\"min_snp_diff\": 1.785329835010767}, {\"min_snp_diff\": 1.785329835010767}, {\"min_snp_diff\": 2.0569048513364723}, {\"min_snp_diff\": 3.049992856920142}, {\"min_snp_diff\": 2.872738827472668}, {\"min_snp_diff\": 2.7092699609758304}, {\"min_snp_diff\": 3.11327469246435}, {\"min_snp_diff\": 3.2422929049829303}, {\"min_snp_diff\": 2.962369335670021}, {\"min_snp_diff\": 3.040206627574711}, {\"min_snp_diff\": 2.4727564493172123}, {\"min_snp_diff\": 2.492760389026837}, {\"min_snp_diff\": 2.738780558484369}, {\"min_snp_diff\": 2.9242792860618816}, {\"min_snp_diff\": 2.4132997640812515}, {\"min_snp_diff\": 3.00902574208691}, {\"min_snp_diff\": 1.6989700043360185}, {\"min_snp_diff\": 3.0629578340845103}, {\"min_snp_diff\": 1.8633228601204557}, {\"min_snp_diff\": 1.7075701760979363}, {\"min_snp_diff\": 1.7075701760979363}, {\"min_snp_diff\": 2.613841821876069}, {\"min_snp_diff\": 2.7972675408307164}, {\"min_snp_diff\": 2.8645110810583914}, {\"min_snp_diff\": 2.53655844257153}, {\"min_snp_diff\": 2.53655844257153}, {\"min_snp_diff\": 2.1643528557844367}, {\"min_snp_diff\": 2.5224442335063197}, {\"min_snp_diff\": 2.5276299008713385}, {\"min_snp_diff\": 2.613841821876069}, {\"min_snp_diff\": 2.762678563727436}, {\"min_snp_diff\": 2.6414741105040993}, {\"min_snp_diff\": 2.2922560713564755}, {\"min_snp_diff\": 3.2052043639481447}, {\"min_snp_diff\": 2.4440447959180758}, {\"min_snp_diff\": 1.8260748027008262}, {\"min_snp_diff\": 3.373095987078727}, {\"min_snp_diff\": 2.6106601630898796}, {\"min_snp_diff\": 2.7118072290411908}, {\"min_snp_diff\": 1.5051499783199058}, {\"min_snp_diff\": 1.5051499783199058}, {\"min_snp_diff\": 2.2741578492636796}, {\"min_snp_diff\": 2.775974331129369}, {\"min_snp_diff\": 1.6020599913279623}, {\"min_snp_diff\": 1.6020599913279623}, {\"min_snp_diff\": 1.6989700043360185}, {\"min_snp_diff\": 2.0569048513364723}, {\"min_snp_diff\": 2.9647309210536292}, {\"min_snp_diff\": 2.6665179805548807}, {\"min_snp_diff\": 3.0484418035504044}, {\"min_snp_diff\": 2.8662873390841948}, {\"min_snp_diff\": 2.3138672203691533}, {\"min_snp_diff\": 2.847572659142112}, {\"min_snp_diff\": 3.03382569395331}, {\"min_snp_diff\": 2.093421685162235}, {\"min_snp_diff\": 2.7291647896927698}, {\"min_snp_diff\": 2.81756536955978}, {\"min_snp_diff\": 3.4107772333772095}, {\"min_snp_diff\": 2.0681858617461617}, {\"min_snp_diff\": 2.948412965778601}, {\"min_snp_diff\": 2.766412847112399}, {\"min_snp_diff\": 1.9138138523837167}, {\"min_snp_diff\": 2.8135809885681917}, {\"min_snp_diff\": 2.5877109650189114}, {\"min_snp_diff\": 2.6989700043360183}, {\"min_snp_diff\": 2.839478047374198}, {\"min_snp_diff\": 2.45178643552429}, {\"min_snp_diff\": 2.4345689040341987}, {\"min_snp_diff\": 2.220108088040055}, {\"min_snp_diff\": 2.281033367247727}, {\"min_snp_diff\": 2.8182258936139553}, {\"min_snp_diff\": 2.2624510897304293}, {\"min_snp_diff\": 1.8633228601204557}, {\"min_snp_diff\": 2.296665190261531}, {\"min_snp_diff\": 2.622214022966295}, {\"min_snp_diff\": 1.556302500767287}, {\"min_snp_diff\": 1.8864907251724818}, {\"min_snp_diff\": 2.6998377258672455}, {\"min_snp_diff\": 1.591064607026499}, {\"min_snp_diff\": 2.829946695941636}, {\"min_snp_diff\": 1.9030899869919433}, {\"min_snp_diff\": 2.2430380486862944}, {\"min_snp_diff\": 2.7730546933642626}, {\"min_snp_diff\": 1.9731278535996983}, {\"min_snp_diff\": 2.1492191126553797}, {\"min_snp_diff\": 2.110589710299249}, {\"min_snp_diff\": 2.811575005870593}, {\"min_snp_diff\": 2.2253092817258624}, {\"min_snp_diff\": 1.7708520116421442}, {\"min_snp_diff\": 2.4533183400470375}, {\"min_snp_diff\": 2.2013971243204513}, {\"min_snp_diff\": 2.558708570533166}, {\"min_snp_diff\": 1.2304489213782739}, {\"min_snp_diff\": 1.8864907251724818}, {\"min_snp_diff\": 2.08278537031645}, {\"min_snp_diff\": 2.1522883443830563}, {\"min_snp_diff\": 2.9138138523837163}, {\"min_snp_diff\": 2.6283889300503116}, {\"min_snp_diff\": 1.2041199826559246}, {\"min_snp_diff\": 2.2741578492636796}, {\"min_snp_diff\": 2.5276299008713385}, {\"min_snp_diff\": 2.9439888750737717}, {\"min_snp_diff\": 2.5237464668115646}, {\"min_snp_diff\": 1.8129133566428552}, {\"min_snp_diff\": 1.6334684555795864}, {\"min_snp_diff\": 1.7993405494535815}, {\"min_snp_diff\": 2.5888317255942073}, {\"min_snp_diff\": 3.4568213480215984}, {\"min_snp_diff\": 1.8325089127062362}, {\"min_snp_diff\": 2.0755469613925306}, {\"min_snp_diff\": 1.6020599913279623}, {\"min_snp_diff\": 1.5440680443502754}, {\"min_snp_diff\": 1.5314789170422551}, {\"min_snp_diff\": 1.7634279935629371}, {\"min_snp_diff\": 1.9590413923210932}, {\"min_snp_diff\": 2.287801729930226}, {\"min_snp_diff\": 1.3617278360175928}, {\"min_snp_diff\": 2.08278537031645}, {\"min_snp_diff\": 2.514547752660286}, {\"min_snp_diff\": 3.0958664534785423}, {\"min_snp_diff\": 1.6020599913279623}, {\"min_snp_diff\": 1.6627578316815739}, {\"min_snp_diff\": 2.8750612633916997}, {\"min_snp_diff\": 2.2430380486862944}, {\"min_snp_diff\": 1.0791812460476247}, {\"min_snp_diff\": 2.2624510897304293}, {\"min_snp_diff\": 1.4913616938342726}, {\"min_snp_diff\": 2.963315511386111}, {\"min_snp_diff\": 1.7403626894942439}, {\"min_snp_diff\": 1.57978359661681}, {\"min_snp_diff\": 3.174931593528442}, {\"min_snp_diff\": 2.0569048513364723}, {\"min_snp_diff\": 2.8241258339165487}, {\"min_snp_diff\": 2.450249108319361}, {\"min_snp_diff\": 2.9283958522567137}, {\"min_snp_diff\": 2.1335389083702174}, {\"min_snp_diff\": 2.012837224705172}, {\"min_snp_diff\": 1.8808135922807911}, {\"min_snp_diff\": 1.591064607026499}, {\"min_snp_diff\": 2.383815365980431}, {\"min_snp_diff\": 2.383815365980431}, {\"min_snp_diff\": 1.556302500767287}, {\"min_snp_diff\": 2.5263392773898437}, {\"min_snp_diff\": 1.1461280356782377}, {\"min_snp_diff\": 2.383815365980431}, {\"min_snp_diff\": 2.143014800254095}, {\"min_snp_diff\": 2.2648178230095364}, {\"min_snp_diff\": 1.5440680443502754}, {\"min_snp_diff\": 3.075911761482777}, {\"min_snp_diff\": 2.5831987739686224}, {\"min_snp_diff\": 1.8808135922807911}, {\"min_snp_diff\": 2.468347330412157}, {\"min_snp_diff\": 1.9590413923210932}, {\"min_snp_diff\": 3.013679697291192}, {\"min_snp_diff\": 1.1461280356782377}, {\"min_snp_diff\": 2.6180480967120925}, {\"min_snp_diff\": 1.851258348719075}, {\"min_snp_diff\": 1.8195439355418683}, {\"min_snp_diff\": 2.841359470454855}, {\"min_snp_diff\": 1.6720978579357173}, {\"min_snp_diff\": 2.7126497016272113}, {\"min_snp_diff\": 2.468347330412157}, {\"min_snp_diff\": 1.9395192526186182}, {\"min_snp_diff\": 1.6020599913279623}, {\"min_snp_diff\": 2.691081492122968}, {\"min_snp_diff\": 2.383815365980431}, {\"min_snp_diff\": 2.636487896353365}, {\"min_snp_diff\": 2.9122220565324155}, {\"min_snp_diff\": 2.45178643552429}, {\"min_snp_diff\": 1.968482948553935}, {\"min_snp_diff\": 1.414973347970818}, {\"min_snp_diff\": 1.9731278535996983}, {\"min_snp_diff\": 2.551449997972875}, {\"min_snp_diff\": 2.332438459915605}, {\"min_snp_diff\": 2.3384564936046046}, {\"min_snp_diff\": 1.8195439355418683}, {\"min_snp_diff\": 2.649334858712142}, {\"min_snp_diff\": 2.045322978786657}, {\"min_snp_diff\": 2.6512780139981436}, {\"min_snp_diff\": 1.2552725051033058}, {\"min_snp_diff\": 2.75966784468963}, {\"min_snp_diff\": 2.383815365980431}, {\"min_snp_diff\": 2.2430380486862944}, {\"min_snp_diff\": 2.34439227368511}, {\"min_snp_diff\": 2.577491799837225}, {\"min_snp_diff\": 1.1760912590556811}, {\"min_snp_diff\": 2.3364597338485296}, {\"min_snp_diff\": 3.11327469246435}, {\"min_snp_diff\": 1.380211241711606}, {\"min_snp_diff\": 2.421603926869831}, {\"min_snp_diff\": 1.1760912590556811}, {\"min_snp_diff\": 2.999130541287371}, {\"min_snp_diff\": 2.972202838379064}, {\"min_snp_diff\": 3.247482260677054}, {\"min_snp_diff\": 2.376576957056512}, {\"min_snp_diff\": 1.414973347970818}, {\"min_snp_diff\": 2.4623979978989556}, {\"min_snp_diff\": 2.4345689040341987}, {\"min_snp_diff\": 1.1139433523068367}, {\"min_snp_diff\": 2.2278867046136734}, {\"min_snp_diff\": 3.0595634179012676}, {\"min_snp_diff\": 1.041392685158225}, {\"min_snp_diff\": 3.1616674124377355}, {\"min_snp_diff\": 1.9731278535996983}, {\"min_snp_diff\": 1.591064607026499}, {\"min_snp_diff\": 2.728353782021228}, {\"min_snp_diff\": 1.6532125137753435}, {\"min_snp_diff\": 2.555094448578319}, {\"min_snp_diff\": 2.762678563727436}, {\"min_snp_diff\": 2.5932860670204567}, {\"min_snp_diff\": 2.6095944092252195}, {\"min_snp_diff\": 3.3673559210260184}, {\"min_snp_diff\": 1.556302500767287}, {\"min_snp_diff\": 2.1583624920952493}, {\"min_snp_diff\": 1.9777236052888476}, {\"min_snp_diff\": 1.9294189257142926}, {\"min_snp_diff\": 2.2095150145426303}, {\"min_snp_diff\": 2.2988530764097064}, {\"min_snp_diff\": 1.9138138523837167}, {\"min_snp_diff\": 1.5185139398778873}, {\"min_snp_diff\": 2.980003371583746}, {\"min_snp_diff\": 2.658964842664435}, {\"min_snp_diff\": 1.919078092376074}, {\"min_snp_diff\": 2.390935107103379}, {\"min_snp_diff\": 1.2304489213782739}, {\"min_snp_diff\": 2.6646419755561253}, {\"min_snp_diff\": 2.515873843711679}, {\"min_snp_diff\": 3.139879086401236}, {\"min_snp_diff\": 2.2648178230095364}, {\"min_snp_diff\": 2.8382192219076257}, {\"min_snp_diff\": 2.103803720955957}, {\"min_snp_diff\": 2.0043213737826426}, {\"min_snp_diff\": 2.2355284469075487}, {\"min_snp_diff\": 2.276461804173244}, {\"min_snp_diff\": 3.484442207642407}, {\"min_snp_diff\": 2.4756711883244296}, {\"min_snp_diff\": 3.313656346618031}, {\"min_snp_diff\": 1.8864907251724818}, {\"min_snp_diff\": 2.374748346010104}, {\"min_snp_diff\": 2.3242824552976926}, {\"min_snp_diff\": 2.8318697742805017}, {\"min_snp_diff\": 1.9542425094393248}, {\"min_snp_diff\": 2.02530586526477}, {\"min_snp_diff\": 1.7403626894942439}, {\"min_snp_diff\": 2.2741578492636796}, {\"min_snp_diff\": 2.6512780139981436}, {\"min_snp_diff\": 2.4857214264815797}, {\"min_snp_diff\": 2.4297522800024076}, {\"min_snp_diff\": 2.281033367247727}, {\"min_snp_diff\": 1.6020599913279623}, {\"min_snp_diff\": 2.421603926869831}, {\"min_snp_diff\": 2.9334872878487053}, {\"min_snp_diff\": 2.2227164711475833}, {\"min_snp_diff\": 2.5224442335063197}, {\"min_snp_diff\": 2.4440447959180758}, {\"min_snp_diff\": 1.851258348719075}, {\"min_snp_diff\": 2.278753600952829}, {\"min_snp_diff\": 3.048053173115609}, {\"min_snp_diff\": 3.0606978403536114}, {\"min_snp_diff\": 2.387389826338729}, {\"min_snp_diff\": 3.343211590179747}, {\"min_snp_diff\": 2.7201593034059566}, {\"min_snp_diff\": 2.1903316981702914}, {\"min_snp_diff\": 2.3138672203691533}, {\"min_snp_diff\": 1.9822712330395682}, {\"min_snp_diff\": 2.3996737214810375}, {\"min_snp_diff\": 1.9444826721501687}, {\"min_snp_diff\": 2.725094521081469}, {\"min_snp_diff\": 2.0606978403536114}, {\"min_snp_diff\": 2.697229342759717}, {\"min_snp_diff\": 1.322219294733919}, {\"min_snp_diff\": 2.725094521081469}, {\"min_snp_diff\": 2.5763413502057926}, {\"min_snp_diff\": 2.045322978786657}, {\"min_snp_diff\": 1.5051499783199058}, {\"min_snp_diff\": 2.021189299069938}, {\"min_snp_diff\": 2.276461804173244}, {\"min_snp_diff\": 2.4248816366310666}, {\"min_snp_diff\": 2.0}, {\"min_snp_diff\": 2.766412847112399}, {\"min_snp_diff\": 2.577491799837225}, {\"min_snp_diff\": 2.045322978786657}, {\"min_snp_diff\": 1.8920946026904801}, {\"min_snp_diff\": 2.3617278360175926}, {\"min_snp_diff\": 3.0203612826477073}, {\"min_snp_diff\": 1.968482948553935}, {\"min_snp_diff\": 2.110589710299249}, {\"min_snp_diff\": 2.7986506454452686}, {\"min_snp_diff\": 2.737192642704737}, {\"min_snp_diff\": 3.02612451674545}, {\"min_snp_diff\": 2.603144372620182}, {\"min_snp_diff\": 2.426511261364575}, {\"min_snp_diff\": 2.1003705451175625}, {\"min_snp_diff\": 2.7015679850559273}, {\"min_snp_diff\": 2.3692158574101425}, {\"min_snp_diff\": 1.7923916894982537}, {\"min_snp_diff\": 2.9503648543761227}, {\"min_snp_diff\": 2.3384564936046046}, {\"min_snp_diff\": 2.4297522800024076}, {\"min_snp_diff\": 2.380211241711606}, {\"min_snp_diff\": 3.1752218003430523}, {\"min_snp_diff\": 3.4232458739368075}, {\"min_snp_diff\": 3.06781451116184}, {\"min_snp_diff\": 2.686636269262293}, {\"min_snp_diff\": 2.170261715394957}, {\"min_snp_diff\": 2.4563660331290427}, {\"min_snp_diff\": 2.1522883443830563}, {\"min_snp_diff\": 2.1673173347481756}, {\"min_snp_diff\": 1.9294189257142926}, {\"min_snp_diff\": 1.9867717342662448}, {\"min_snp_diff\": 1.9867717342662448}, {\"min_snp_diff\": 2.710117365111816}, {\"min_snp_diff\": 1.6232492903979003}, {\"min_snp_diff\": 1.6232492903979003}, {\"min_snp_diff\": 1.8061799739838869}, {\"min_snp_diff\": 1.1760912590556811}, {\"min_snp_diff\": 1.1760912590556811}, {\"min_snp_diff\": 2.704150516839799}, {\"min_snp_diff\": 1.9344984512435675}, {\"min_snp_diff\": 2.636487896353365}, {\"min_snp_diff\": 2.8721562727482928}, {\"min_snp_diff\": 2.600972895686748}, {\"min_snp_diff\": 2.8202014594856397}, {\"min_snp_diff\": 2.110589710299249}, {\"min_snp_diff\": 1.3617278360175928}, {\"min_snp_diff\": 1.8260748027008262}, {\"min_snp_diff\": 2.3856062735983117}, {\"min_snp_diff\": 3.0398105541483504}, {\"min_snp_diff\": 1.9493900066449126}, {\"min_snp_diff\": 1.2787536009528289}, {\"min_snp_diff\": 1.7558748556724912}, {\"min_snp_diff\": 2.103803720955957}, {\"min_snp_diff\": 1.5051499783199058}, {\"min_snp_diff\": 2.946943270697825}, {\"min_snp_diff\": 1.724275869600789}, {\"min_snp_diff\": 2.902002891350729}, {\"min_snp_diff\": 3.278753600952829}, {\"min_snp_diff\": 1.0791812460476247}, {\"min_snp_diff\": 2.7528164311882715}, {\"min_snp_diff\": 2.2013971243204513}, {\"min_snp_diff\": 2.02530586526477}, {\"min_snp_diff\": 2.6304278750250236}, {\"min_snp_diff\": 1.919078092376074}, {\"min_snp_diff\": 2.839478047374198}, {\"min_snp_diff\": 1.6532125137753435}, {\"min_snp_diff\": 2.553883026643874}, {\"min_snp_diff\": 2.387389826338729}, {\"min_snp_diff\": 2.447158031342219}, {\"min_snp_diff\": 2.56702636615906}, {\"min_snp_diff\": 3.1498346967157844}, {\"min_snp_diff\": 1.6232492903979003}, {\"min_snp_diff\": 2.4393326938302624}, {\"min_snp_diff\": 2.404833716619938}, {\"min_snp_diff\": 3.0852905782300644}, {\"min_snp_diff\": 2.6541765418779604}, {\"min_snp_diff\": 1.9912260756924949}, {\"min_snp_diff\": 1.845098040014257}, {\"min_snp_diff\": 2.9712758487381046}, {\"min_snp_diff\": 2.7323937598229686}, {\"min_snp_diff\": 2.5526682161121927}, {\"min_snp_diff\": 2.629409599102719}, {\"min_snp_diff\": 1.041392685158225}, {\"min_snp_diff\": 3.104145550554008}, {\"min_snp_diff\": 1.4771212547196624}, {\"min_snp_diff\": 2.143014800254095}, {\"min_snp_diff\": 2.4593924877592306}, {\"min_snp_diff\": 2.6839471307515117}, {\"min_snp_diff\": 2.2278867046136734}, {\"min_snp_diff\": 2.416640507338281}, {\"min_snp_diff\": 2.1583624920952493}, {\"min_snp_diff\": 2.4232458739368075}, {\"min_snp_diff\": 3.0094508957986936}, {\"min_snp_diff\": 2.716837723299524}, {\"min_snp_diff\": 2.4199557484897576}, {\"min_snp_diff\": 1.8692317197309762}, {\"min_snp_diff\": 1.2304489213782739}, {\"min_snp_diff\": 1.9731278535996983}, {\"min_snp_diff\": 2.1789769472931693}, {\"min_snp_diff\": 2.786751422145561}, {\"min_snp_diff\": 2.3283796034387376}, {\"min_snp_diff\": 2.686636269262293}, {\"min_snp_diff\": 2.4800069429571505}, {\"min_snp_diff\": 2.2405492482825995}, {\"min_snp_diff\": 1.7558748556724912}, {\"min_snp_diff\": 1.0791812460476247}, {\"min_snp_diff\": 1.0791812460476247}, {\"min_snp_diff\": 1.0791812460476247}, {\"min_snp_diff\": 3.212720154417842}, {\"min_snp_diff\": 3.363423932917176}, {\"min_snp_diff\": 2.6884198220027105}, {\"min_snp_diff\": 2.7916906490201177}, {\"min_snp_diff\": 2.3304137733491905}, {\"min_snp_diff\": 1.9344984512435675}, {\"min_snp_diff\": 2.4183012913197452}, {\"min_snp_diff\": 1.6901960800285134}, {\"min_snp_diff\": 2.0569048513364723}, {\"min_snp_diff\": 2.3344537511509307}, {\"min_snp_diff\": 2.426511261364575}, {\"min_snp_diff\": 3.1451964061141817}, {\"min_snp_diff\": 1.301029995663981}, {\"min_snp_diff\": 2.176091259055681}, {\"min_snp_diff\": 3.20194306340165}, {\"min_snp_diff\": 2.1673173347481756}, {\"min_snp_diff\": 2.3304137733491905}, {\"min_snp_diff\": 2.3304137733491905}, {\"min_snp_diff\": 2.911690158753861}, {\"min_snp_diff\": 2.57287160220048}, {\"min_snp_diff\": 2.2695129442179165}, {\"min_snp_diff\": 3.2024883170600935}, {\"min_snp_diff\": 3.382017042574868}, {\"min_snp_diff\": 2.90036712865647}, {\"min_snp_diff\": 2.1931245983544616}, {\"min_snp_diff\": 2.923244018630276}, {\"min_snp_diff\": 2.81424759573192}, {\"min_snp_diff\": 2.416640507338281}, {\"min_snp_diff\": 2.503790683057181}, {\"min_snp_diff\": 1.7323937598229684}, {\"min_snp_diff\": 2.311753861055754}, {\"min_snp_diff\": 2.447158031342219}, {\"min_snp_diff\": 2.3074960379132126}, {\"min_snp_diff\": 2.2922560713564755}, {\"min_snp_diff\": 1.8920946026904801}, {\"min_snp_diff\": 2.0}, {\"min_snp_diff\": 2.763427993562937}, {\"min_snp_diff\": 2.57978359661681}, {\"min_snp_diff\": 2.4712917110589383}, {\"min_snp_diff\": 1.3424226808222062}, {\"min_snp_diff\": 2.107209969647868}, {\"min_snp_diff\": 1.8388490907372552}, {\"min_snp_diff\": 2.7881683711411673}, {\"min_snp_diff\": 2.296665190261531}, {\"min_snp_diff\": 1.8808135922807911}, {\"min_snp_diff\": 2.597695185925512}, {\"min_snp_diff\": 1.1760912590556811}, {\"min_snp_diff\": 1.1760912590556811}, {\"min_snp_diff\": 3.106870544478654}, {\"min_snp_diff\": 1.7708520116421442}, {\"min_snp_diff\": 1.9777236052888476}, {\"min_snp_diff\": 1.7481880270062005}, {\"min_snp_diff\": 1.2041199826559246}, {\"min_snp_diff\": 1.1139433523068367}, {\"min_snp_diff\": 1.1139433523068367}, {\"min_snp_diff\": 2.874481817699466}, {\"min_snp_diff\": 2.804820678721162}, {\"min_snp_diff\": 2.2329961103921536}, {\"min_snp_diff\": 2.3364597338485296}, {\"min_snp_diff\": 3.15956719323362}, {\"min_snp_diff\": 1.9777236052888476}, {\"min_snp_diff\": 1.8195439355418683}, {\"min_snp_diff\": 2.956168430475363}, {\"min_snp_diff\": 1.9294189257142926}, {\"min_snp_diff\": 2.4199557484897576}, {\"min_snp_diff\": 2.3344537511509307}, {\"min_snp_diff\": 2.755112266395071}, {\"min_snp_diff\": 2.5390760987927767}, {\"min_snp_diff\": 2.600972895686748}, {\"min_snp_diff\": 2.722633922533812}, {\"min_snp_diff\": 3.3372595397502756}, {\"min_snp_diff\": 2.4756711883244296}, {\"min_snp_diff\": 2.380211241711606}, {\"min_snp_diff\": 1.8750612633916997}, {\"min_snp_diff\": 1.8750612633916997}, {\"min_snp_diff\": 2.956648579205203}, {\"min_snp_diff\": 2.795880017344075}, {\"min_snp_diff\": 2.290034611362518}, {\"min_snp_diff\": 2.3891660843645326}, {\"min_snp_diff\": 1.322219294733919}, {\"min_snp_diff\": 1.322219294733919}, {\"min_snp_diff\": 1.7323937598229684}, {\"min_snp_diff\": 3.457730548245998}, {\"min_snp_diff\": 1.7403626894942439}, {\"min_snp_diff\": 2.7909884750888154}, {\"min_snp_diff\": 2.6901960800285134}, {\"min_snp_diff\": 3.121887985103681}, {\"min_snp_diff\": 2.7986506454452686}, {\"min_snp_diff\": 3.1328997699444825}, {\"min_snp_diff\": 1.7481880270062005}, {\"min_snp_diff\": 2.8020892578817325}, {\"min_snp_diff\": 2.1931245983544616}, {\"min_snp_diff\": 2.8987251815894934}, {\"min_snp_diff\": 2.6674529528899535}, {\"min_snp_diff\": 2.2405492482825995}, {\"min_snp_diff\": 1.7993405494535815}, {\"min_snp_diff\": 3.111262513659065}, {\"min_snp_diff\": 2.4533183400470375}, {\"min_snp_diff\": 2.710117365111816}, {\"min_snp_diff\": 2.0569048513364723}, {\"min_snp_diff\": 2.626340367375042}, {\"min_snp_diff\": 2.2479732663618064}, {\"min_snp_diff\": 2.3502480183341623}, {\"min_snp_diff\": 2.1522883443830563}, {\"min_snp_diff\": 2.0755469613925306}, {\"min_snp_diff\": 2.7134905430939424}, {\"min_snp_diff\": 3.3390537357091388}, {\"min_snp_diff\": 2.5465426634781307}, {\"min_snp_diff\": 2.436162647040756}, {\"min_snp_diff\": 2.012837224705172}, {\"min_snp_diff\": 2.644438589467838}, {\"min_snp_diff\": 3.00902574208691}, {\"min_snp_diff\": 2.60422605308447}, {\"min_snp_diff\": 2.8549130223078554}, {\"min_snp_diff\": 2.4941545940184424}, {\"min_snp_diff\": 3.432809005033168}, {\"min_snp_diff\": 1.8976270912904412}, {\"min_snp_diff\": 2.021189299069938}, {\"min_snp_diff\": 3.3919930722597127}, {\"min_snp_diff\": 1.7323937598229684}, {\"min_snp_diff\": 2.0606978403536114}, {\"min_snp_diff\": 2.008600171761917}, {\"min_snp_diff\": 2.629409599102719}, {\"min_snp_diff\": 1.9138138523837167}, {\"min_snp_diff\": 2.214843848047698}, {\"min_snp_diff\": 2.7839035792727347}, {\"min_snp_diff\": 3.0993352776859573}, {\"min_snp_diff\": 2.8750612633916997}, {\"min_snp_diff\": 2.857332496431268}, {\"min_snp_diff\": 2.857332496431268}, {\"min_snp_diff\": 3.3364597338485296}, {\"min_snp_diff\": 2.9164539485499246}, {\"min_snp_diff\": 2.621176281775035}, {\"min_snp_diff\": 2.0043213737826426}, {\"min_snp_diff\": 2.1367205671564067}, {\"min_snp_diff\": 2.2833012287035492}, {\"min_snp_diff\": 2.926342446625655}, {\"min_snp_diff\": 2.705007959333336}, {\"min_snp_diff\": 1.9493900066449126}, {\"min_snp_diff\": 2.4668676203541096}, {\"min_snp_diff\": 2.012837224705172}, {\"min_snp_diff\": 2.674861140737811}, {\"min_snp_diff\": 2.3180633349627615}, {\"min_snp_diff\": 2.577491799837225}, {\"min_snp_diff\": 2.577491799837225}, {\"min_snp_diff\": 2.985426474083001}, {\"min_snp_diff\": 2.672097857935717}, {\"min_snp_diff\": 2.2041199826559246}, {\"min_snp_diff\": 2.649334858712142}, {\"min_snp_diff\": 1.6901960800285134}, {\"min_snp_diff\": 2.4281347940287885}, {\"min_snp_diff\": 1.8920946026904801}, {\"min_snp_diff\": 1.462397997898956}, {\"min_snp_diff\": 2.4996870826184034}, {\"min_snp_diff\": 1.9084850188786497}, {\"min_snp_diff\": 2.7339992865383866}, {\"min_snp_diff\": 1.851258348719075}, {\"min_snp_diff\": 1.301029995663981}, {\"min_snp_diff\": 2.3074960379132126}, {\"min_snp_diff\": 2.4983105537896004}, {\"min_snp_diff\": 2.518513939877887}, {\"min_snp_diff\": 2.0293837776852093}, {\"min_snp_diff\": 1.5440680443502754}, {\"min_snp_diff\": 2.2068258760318495}, {\"min_snp_diff\": 3.299507298700487}, {\"min_snp_diff\": 2.681241237375587}, {\"min_snp_diff\": 2.6232492903979003}, {\"min_snp_diff\": 3.1829849670035815}, {\"min_snp_diff\": 2.687528961214634}, {\"min_snp_diff\": 1.9444826721501687}, {\"min_snp_diff\": 2.827369273053825}, {\"min_snp_diff\": 2.9474337218870503}, {\"min_snp_diff\": 2.0293837776852093}, {\"min_snp_diff\": 2.4593924877592306}, {\"min_snp_diff\": 2.9410142437055695}, {\"min_snp_diff\": 2.9410142437055695}, {\"min_snp_diff\": 2.3541084391474008}, {\"min_snp_diff\": 2.3654879848908994}, {\"min_snp_diff\": 3.1958996524092336}, {\"min_snp_diff\": 2.1613680022349744}, {\"min_snp_diff\": 2.577491799837225}, {\"min_snp_diff\": 2.984977126415493}, {\"min_snp_diff\": 2.9434945159061026}, {\"min_snp_diff\": 3.200850498091077}, {\"min_snp_diff\": 3.230959555748569}, {\"min_snp_diff\": 2.1003705451175625}, {\"min_snp_diff\": 2.6148972160331345}, {\"min_snp_diff\": 3.211654400553182}, {\"min_snp_diff\": 3.1102529173534026}, {\"min_snp_diff\": 2.3579348470004535}, {\"min_snp_diff\": 2.80413943233535}, {\"min_snp_diff\": 2.916980047320382}, {\"min_snp_diff\": 2.513217600067939}, {\"min_snp_diff\": 2.591064607026499}, {\"min_snp_diff\": 2.342422680822206}, {\"min_snp_diff\": 3.11092624226642}, {\"min_snp_diff\": 2.890421018800914}, {\"min_snp_diff\": 2.8825245379548803}, {\"min_snp_diff\": 1.8808135922807911}, {\"min_snp_diff\": 1.7781512503836434}, {\"min_snp_diff\": 2.4065401804339546}, {\"min_snp_diff\": 2.008600171761917}, {\"min_snp_diff\": 1.9444826721501687}, {\"min_snp_diff\": 2.683047038238849}, {\"min_snp_diff\": 1.380211241711606}, {\"min_snp_diff\": 1.851258348719075}, {\"min_snp_diff\": 2.833784374656479}, {\"min_snp_diff\": 2.747411807886423}, {\"min_snp_diff\": 2.4248816366310666}, {\"min_snp_diff\": 3.319730494330224}, {\"min_snp_diff\": 2.9754318085092626}, {\"min_snp_diff\": 2.7649229846498886}, {\"min_snp_diff\": 2.553883026643874}, {\"min_snp_diff\": 2.7909884750888154}, {\"min_snp_diff\": 2.629409599102719}, {\"min_snp_diff\": 2.603144372620182}, {\"min_snp_diff\": 2.578639209968072}, {\"min_snp_diff\": 3.0374264979406234}, {\"min_snp_diff\": 2.9999999999999996}, {\"min_snp_diff\": 2.9084850188786495}, {\"min_snp_diff\": 2.771587480881255}, {\"min_snp_diff\": 2.771587480881255}, {\"min_snp_diff\": 1.7634279935629371}, {\"min_snp_diff\": 1.462397997898956}, {\"min_snp_diff\": 3.0073209529227443}, {\"min_snp_diff\": 2.8645110810583914}, {\"min_snp_diff\": 2.963315511386111}, {\"min_snp_diff\": 2.7916906490201177}, {\"min_snp_diff\": 3.2748503200166645}, {\"min_snp_diff\": 3.2748503200166645}, {\"min_snp_diff\": 1.785329835010767}, {\"min_snp_diff\": 2.5477747053878224}, {\"min_snp_diff\": 2.9334872878487053}, {\"min_snp_diff\": 2.2405492482825995}, {\"min_snp_diff\": 2.6702458530741238}, {\"min_snp_diff\": 2.4199557484897576}, {\"min_snp_diff\": 2.672097857935717}, {\"min_snp_diff\": 2.1789769472931693}, {\"min_snp_diff\": 2.3159703454569174}, {\"min_snp_diff\": 2.0899051114393976}, {\"min_snp_diff\": 2.9036325160842376}, {\"min_snp_diff\": 3.2862318540285527}, {\"min_snp_diff\": 2.7242758696007887}, {\"min_snp_diff\": 2.981365509078544}, {\"min_snp_diff\": 2.103803720955957}, {\"min_snp_diff\": 2.3364597338485296}, {\"min_snp_diff\": 1.4771212547196624}, {\"min_snp_diff\": 2.3074960379132126}, {\"min_snp_diff\": 2.4248816366310666}, {\"min_snp_diff\": 2.7888751157754164}, {\"min_snp_diff\": 1.9030899869919433}, {\"min_snp_diff\": 3.138933940256923}, {\"min_snp_diff\": 2.900913067737669}, {\"min_snp_diff\": 2.81690383937566}, {\"min_snp_diff\": 2.6148972160331345}, {\"min_snp_diff\": 2.7611758131557314}, {\"min_snp_diff\": 2.5763413502057926}, {\"min_snp_diff\": 2.2671717284030133}, {\"min_snp_diff\": 1.6901960800285134}, {\"min_snp_diff\": 2.1139433523068365}, {\"min_snp_diff\": 3.1467480136306394}, {\"min_snp_diff\": 1.7993405494535815}, {\"min_snp_diff\": 2.662757831681574}, {\"min_snp_diff\": 2.255272505103306}, {\"min_snp_diff\": 2.041392685158225}, {\"min_snp_diff\": 3.0449315461491597}, {\"min_snp_diff\": 1.0791812460476247}, {\"min_snp_diff\": 1.414973347970818}, {\"min_snp_diff\": 2.130333768495006}, {\"min_snp_diff\": 2.507855871695831}, {\"min_snp_diff\": 1.7923916894982537}, {\"min_snp_diff\": 2.2922560713564755}, {\"min_snp_diff\": 2.421603926869831}, {\"min_snp_diff\": 2.0}, {\"min_snp_diff\": 2.615950051656401}, {\"min_snp_diff\": 3.193402903062417}, {\"min_snp_diff\": 2.613841821876069}, {\"min_snp_diff\": 1.3979400086720375}, {\"min_snp_diff\": 2.02530586526477}, {\"min_snp_diff\": 2.1986570869544226}, {\"min_snp_diff\": 2.904715545278681}, {\"min_snp_diff\": 2.9982593384236984}, {\"min_snp_diff\": 2.669316880566112}, {\"min_snp_diff\": 2.3579348470004535}, {\"min_snp_diff\": 1.9822712330395682}, {\"min_snp_diff\": 1.845098040014257}, {\"min_snp_diff\": 3.328379603438737}, {\"min_snp_diff\": 3.1003705451175625}, {\"min_snp_diff\": 2.4563660331290427}, {\"min_snp_diff\": 2.0569048513364723}, {\"min_snp_diff\": 2.404833716619938}, {\"min_snp_diff\": 1.6989700043360185}, {\"min_snp_diff\": 1.6989700043360185}, {\"min_snp_diff\": 2.2695129442179165}, {\"min_snp_diff\": 2.6273658565927325}, {\"min_snp_diff\": 2.6180480967120925}, {\"min_snp_diff\": 2.769377326076138}, {\"min_snp_diff\": 2.6283889300503116}, {\"min_snp_diff\": 2.2671717284030133}, {\"min_snp_diff\": 1.9822712330395682}, {\"min_snp_diff\": 1.9731278535996983}, {\"min_snp_diff\": 2.672097857935717}, {\"min_snp_diff\": 2.08278537031645}, {\"min_snp_diff\": 1.8633228601204557}, {\"min_snp_diff\": 2.1003705451175625}, {\"min_snp_diff\": 1.9867717342662448}, {\"min_snp_diff\": 2.4983105537896004}, {\"min_snp_diff\": 2.696356388733332}, {\"min_snp_diff\": 2.851258348719075}, {\"min_snp_diff\": 2.064457989226918}, {\"min_snp_diff\": 1.9030899869919433}, {\"min_snp_diff\": 2.4742162640762553}, {\"min_snp_diff\": 2.049218022670181}, {\"min_snp_diff\": 2.4623979978989556}, {\"min_snp_diff\": 1.6127838567197355}, {\"min_snp_diff\": 3.6180480967120925}, {\"min_snp_diff\": 3.0588054866759067}, {\"min_snp_diff\": 2.57287160220048}, {\"min_snp_diff\": 2.57287160220048}, {\"min_snp_diff\": 1.8573324964312683}, {\"min_snp_diff\": 2.658964842664435}, {\"min_snp_diff\": 2.722633922533812}, {\"min_snp_diff\": 2.9712758487381046}, {\"min_snp_diff\": 2.9712758487381046}, {\"min_snp_diff\": 2.371067862271736}, {\"min_snp_diff\": 1.7993405494535815}, {\"min_snp_diff\": 3.2153731527834215}, {\"min_snp_diff\": 3.5092025223311025}, {\"min_snp_diff\": 1.9542425094393248}, {\"min_snp_diff\": 1.9138138523837167}, {\"min_snp_diff\": 2.3463529744506384}, {\"min_snp_diff\": 2.271841606536499}, {\"min_snp_diff\": 2.686636269262293}, {\"min_snp_diff\": 1.5314789170422551}, {\"min_snp_diff\": 1.8260748027008262}, {\"min_snp_diff\": 2.0899051114393976}, {\"min_snp_diff\": 2.661812685537261}, {\"min_snp_diff\": 3.4144719496293026}, {\"min_snp_diff\": 2.6821450763738315}, {\"min_snp_diff\": 2.506505032404872}, {\"min_snp_diff\": 2.6532125137753435}, {\"min_snp_diff\": 2.6106601630898796}, {\"min_snp_diff\": 2.7143297597452327}, {\"min_snp_diff\": 1.9542425094393248}, {\"min_snp_diff\": 2.394451680826216}, {\"min_snp_diff\": 3.290924559382754}, {\"min_snp_diff\": 2.8129133566428552}, {\"min_snp_diff\": 1.9590413923210932}, {\"min_snp_diff\": 2.656098202012832}, {\"min_snp_diff\": 2.296665190261531}, {\"min_snp_diff\": 1.447158031342219}, {\"min_snp_diff\": 2.4345689040341987}, {\"min_snp_diff\": 3.0207754881935576}, {\"min_snp_diff\": 3.301897717195208}, {\"min_snp_diff\": 2.143014800254095}, {\"min_snp_diff\": 2.4828735836087534}, {\"min_snp_diff\": 2.5575072019056577}, {\"min_snp_diff\": 1.8633228601204557}, {\"min_snp_diff\": 2.5502283530550938}, {\"min_snp_diff\": 2.3096301674258983}, {\"min_snp_diff\": 1.6334684555795864}, {\"min_snp_diff\": 1.322219294733919}, {\"min_snp_diff\": 1.716003343634799}, {\"min_snp_diff\": 1.9590413923210932}, {\"min_snp_diff\": 2.4969296480732144}, {\"min_snp_diff\": 1.9344984512435675}, {\"min_snp_diff\": 2.993876914941211}, {\"min_snp_diff\": 2.727541257028556}, {\"min_snp_diff\": 2.0606978403536114}, {\"min_snp_diff\": 2.342422680822206}, {\"min_snp_diff\": 2.9518230353159116}, {\"min_snp_diff\": 2.720985744153739}, {\"min_snp_diff\": 2.271841606536499}, {\"min_snp_diff\": 1.919078092376074}, {\"min_snp_diff\": 2.287801729930226}, {\"min_snp_diff\": 1.2787536009528289}, {\"min_snp_diff\": 1.2787536009528289}, {\"min_snp_diff\": 3.2317243833285163}, {\"min_snp_diff\": 2.0899051114393976}, {\"min_snp_diff\": 2.1522883443830563}, {\"min_snp_diff\": 2.753583058892906}, {\"min_snp_diff\": 2.0569048513364723}, {\"min_snp_diff\": 3.7322328802204976}, {\"min_snp_diff\": 2.0969100130080562}, {\"min_snp_diff\": 2.8603380065709936}, {\"min_snp_diff\": 1.8573324964312683}, {\"min_snp_diff\": 2.9698816437464997}, {\"min_snp_diff\": 2.707570176097936}, {\"min_snp_diff\": 1.5682017240669948}, {\"min_snp_diff\": 1.5682017240669948}, {\"min_snp_diff\": 2.5865873046717547}, {\"min_snp_diff\": 2.2304489213782737}, {\"min_snp_diff\": 3.206015876763344}, {\"min_snp_diff\": 3.2065560440990293}, {\"min_snp_diff\": 2.1958996524092336}, {\"min_snp_diff\": 1.5185139398778873}, {\"min_snp_diff\": 3.0618293072946985}, {\"min_snp_diff\": 3.0982975364946976}, {\"min_snp_diff\": 2.1673173347481756}, {\"min_snp_diff\": 3.3342526423342305}, {\"min_snp_diff\": 2.012837224705172}, {\"min_snp_diff\": 2.4955443375464483}, {\"min_snp_diff\": 3.101059354908115}, {\"min_snp_diff\": 3.1525940779274695}, {\"min_snp_diff\": 2.396199347095736}, {\"min_snp_diff\": 2.7299742856995555}, {\"min_snp_diff\": 3.4877038631637256}, {\"min_snp_diff\": 1.6627578316815739}, {\"min_snp_diff\": 2.0334237554869494}, {\"min_snp_diff\": 2.220108088040055}, {\"min_snp_diff\": 3.2819419334408244}, {\"min_snp_diff\": 3.177536499929862}, {\"min_snp_diff\": 2.8750612633916997}, {\"min_snp_diff\": 2.672097857935717}, {\"min_snp_diff\": 1.2304489213782739}, {\"min_snp_diff\": 1.7323937598229684}, {\"min_snp_diff\": 2.481442628502305}, {\"min_snp_diff\": 3.11092624226642}, {\"min_snp_diff\": 1.6989700043360185}, {\"min_snp_diff\": 1.6627578316815739}, {\"min_snp_diff\": 2.7566361082458477}, {\"min_snp_diff\": 2.0791812460476247}, {\"min_snp_diff\": 2.045322978786657}, {\"min_snp_diff\": 2.0}, {\"min_snp_diff\": 2.727541257028556}, {\"min_snp_diff\": 1.5314789170422551}, {\"min_snp_diff\": 2.0170333392987803}, {\"min_snp_diff\": 2.1522883443830563}, {\"min_snp_diff\": 3.299071260027409}, {\"min_snp_diff\": 2.716837723299524}, {\"min_snp_diff\": 2.173186268412274}, {\"min_snp_diff\": 2.4199557484897576}, {\"min_snp_diff\": 2.1335389083702174}, {\"min_snp_diff\": 2.7218106152125463}, {\"min_snp_diff\": 2.394451680826216}, {\"min_snp_diff\": 2.5575072019056577}, {\"min_snp_diff\": 1.2304489213782739}, {\"min_snp_diff\": 1.2304489213782739}, {\"min_snp_diff\": 2.5390760987927767}, {\"min_snp_diff\": 1.8129133566428552}, {\"min_snp_diff\": 2.176091259055681}, {\"min_snp_diff\": 2.376576957056512}, {\"min_snp_diff\": 2.4393326938302624}, {\"min_snp_diff\": 1.2552725051033058}, {\"min_snp_diff\": 2.6884198220027105}, {\"min_snp_diff\": 2.0}, {\"min_snp_diff\": 2.041392685158225}, {\"min_snp_diff\": 1.8260748027008262}, {\"min_snp_diff\": 2.173186268412274}, {\"min_snp_diff\": 2.90687353472207}, {\"min_snp_diff\": 2.093421685162235}, {\"min_snp_diff\": 2.746634198937578}, {\"min_snp_diff\": 1.5314789170422551}, {\"min_snp_diff\": 2.738780558484369}, {\"min_snp_diff\": 2.8796692056320534}, {\"min_snp_diff\": 2.9652017010259115}, {\"min_snp_diff\": 1.5440680443502754}, {\"min_snp_diff\": 2.176091259055681}, {\"min_snp_diff\": 2.5877109650189114}, {\"min_snp_diff\": 2.6683859166899997}, {\"min_snp_diff\": 1.380211241711606}, {\"min_snp_diff\": 1.7923916894982537}, {\"min_snp_diff\": 2.3673559210260184}, {\"min_snp_diff\": 2.887617300335736}, {\"min_snp_diff\": 2.7972675408307164}, {\"min_snp_diff\": 2.3283796034387376}, {\"min_snp_diff\": 2.08278537031645}, {\"min_snp_diff\": 2.1398790864012365}, {\"min_snp_diff\": 3.2455126678141495}, {\"min_snp_diff\": 1.8388490907372552}, {\"min_snp_diff\": 2.825426117767823}, {\"min_snp_diff\": 2.107209969647868}, {\"min_snp_diff\": 3.012837224705172}, {\"min_snp_diff\": 3.088490470182396}, {\"min_snp_diff\": 2.041392685158225}, {\"min_snp_diff\": 3.294466226161593}, {\"min_snp_diff\": 2.1335389083702174}, {\"min_snp_diff\": 3.0993352776859573}, {\"min_snp_diff\": 2.96189547366785}, {\"min_snp_diff\": 3.365300748637987}, {\"min_snp_diff\": 2.961421094066448}, {\"min_snp_diff\": 2.176091259055681}, {\"min_snp_diff\": 2.1522883443830563}, {\"min_snp_diff\": 2.5526682161121927}, {\"min_snp_diff\": 2.271841606536499}, {\"min_snp_diff\": 2.9122220565324155}, {\"min_snp_diff\": 2.980003371583746}, {\"min_snp_diff\": 2.2648178230095364}, {\"min_snp_diff\": 1.301029995663981}, {\"min_snp_diff\": 2.5888317255942073}, {\"min_snp_diff\": 2.3502480183341623}, {\"min_snp_diff\": 2.4409090820652173}, {\"min_snp_diff\": 2.75966784468963}, {\"min_snp_diff\": 2.622214022966295}, {\"min_snp_diff\": 2.1673173347481756}, {\"min_snp_diff\": 2.2855573090077734}, {\"min_snp_diff\": 2.4149733479708178}, {\"min_snp_diff\": 2.775246259740236}, {\"min_snp_diff\": 1.7634279935629371}, {\"min_snp_diff\": 1.2304489213782739}, {\"min_snp_diff\": 2.281033367247727}, {\"min_snp_diff\": 2.626340367375042}, {\"min_snp_diff\": 2.745074791582057}, {\"min_snp_diff\": 2.4456042032735974}, {\"min_snp_diff\": 3.0457140589408676}, {\"min_snp_diff\": 2.674861140737811}, {\"min_snp_diff\": 1.8633228601204557}, {\"min_snp_diff\": 2.730782275666389}, {\"min_snp_diff\": 2.6674529528899535}, {\"min_snp_diff\": 2.5740312677277184}, {\"min_snp_diff\": 3.0860037056183813}, {\"min_snp_diff\": 2.4563660331290427}, {\"min_snp_diff\": 2.4563660331290427}, {\"min_snp_diff\": 1.5440680443502754}, {\"min_snp_diff\": 2.2329961103921536}, {\"min_snp_diff\": 2.396199347095736}, {\"min_snp_diff\": 1.6127838567197355}, {\"min_snp_diff\": 2.397940008672037}, {\"min_snp_diff\": 2.3502480183341623}, {\"min_snp_diff\": 2.531478917042255}, {\"min_snp_diff\": 3.2033049161384826}, {\"min_snp_diff\": 1.8388490907372552}, {\"min_snp_diff\": 1.591064607026499}, {\"min_snp_diff\": 3.1258064581395266}, {\"min_snp_diff\": 2.815577748324267}, {\"min_snp_diff\": 2.8549130223078554}, {\"min_snp_diff\": 2.7032913781186614}, {\"min_snp_diff\": 2.6570558528571038}, {\"min_snp_diff\": 1.3979400086720375}, {\"min_snp_diff\": 2.3463529744506384}, {\"min_snp_diff\": 2.629409599102719}, {\"min_snp_diff\": 2.896526217489555}, {\"min_snp_diff\": 3.280578370368076}, {\"min_snp_diff\": 1.724275869600789}, {\"min_snp_diff\": 3.02530586526477}, {\"min_snp_diff\": 2.924795995797912}, {\"min_snp_diff\": 2.7853298350107667}, {\"min_snp_diff\": 2.02530586526477}, {\"min_snp_diff\": 1.8388490907372552}, {\"min_snp_diff\": 2.7993405494535817}, {\"min_snp_diff\": 2.551449997972875}, {\"min_snp_diff\": 3.0476641946015595}, {\"min_snp_diff\": 1.9344984512435675}, {\"min_snp_diff\": 3.4765418090274287}, {\"min_snp_diff\": 2.6766936096248664}, {\"min_snp_diff\": 2.6821450763738315}, {\"min_snp_diff\": 2.6884198220027105}, {\"min_snp_diff\": 2.53529412004277}, {\"min_snp_diff\": 2.7979596437371956}, {\"min_snp_diff\": 2.90687353472207}, {\"min_snp_diff\": 1.724275869600789}, {\"min_snp_diff\": 2.392696953259666}, {\"min_snp_diff\": 2.671172842715083}, {\"min_snp_diff\": 2.1846914308175984}, {\"min_snp_diff\": 1.6720978579357173}, {\"min_snp_diff\": 2.8457180179666586}, {\"min_snp_diff\": 2.6884198220027105}, {\"min_snp_diff\": 2.6414741105040993}, {\"min_snp_diff\": 2.789580712164425}, {\"min_snp_diff\": 1.9637878273455551}, {\"min_snp_diff\": 2.621176281775035}, {\"min_snp_diff\": 2.757396028793024}, {\"min_snp_diff\": 2.181843587944772}, {\"min_snp_diff\": 2.8847953639489807}, {\"min_snp_diff\": 1.7323937598229684}, {\"min_snp_diff\": 1.7323937598229684}, {\"min_snp_diff\": 2.1789769472931693}, {\"min_snp_diff\": 2.130333768495006}, {\"min_snp_diff\": 2.643452676486187}, {\"min_snp_diff\": 3.010723865391773}, {\"min_snp_diff\": 2.5646660642520893}, {\"min_snp_diff\": 2.103803720955957}, {\"min_snp_diff\": 2.8208579894396997}, {\"min_snp_diff\": 2.8870543780509568}, {\"min_snp_diff\": 1.8195439355418683}, {\"min_snp_diff\": 1.724275869600789}, {\"min_snp_diff\": 2.320146286111054}, {\"min_snp_diff\": 3.2499317566341945}, {\"min_snp_diff\": 2.396199347095736}, {\"min_snp_diff\": 2.396199347095736}, {\"min_snp_diff\": 3.1994809148623555}, {\"min_snp_diff\": 2.294466226161593}, {\"min_snp_diff\": 2.0170333392987803}, {\"min_snp_diff\": 2.311753861055754}, {\"min_snp_diff\": 2.3283796034387376}, {\"min_snp_diff\": 1.7708520116421442}, {\"min_snp_diff\": 1.7708520116421442}, {\"min_snp_diff\": 1.9242792860618814}, {\"min_snp_diff\": 2.974050902792877}, {\"min_snp_diff\": 1.9777236052888476}, {\"min_snp_diff\": 2.2479732663618064}, {\"min_snp_diff\": 1.9030899869919433}, {\"min_snp_diff\": 2.8195439355418683}, {\"min_snp_diff\": 2.6646419755561253}, {\"min_snp_diff\": 3.2773799746672543}, {\"min_snp_diff\": 2.6570558528571038}, {\"min_snp_diff\": 3.277609214304091}, {\"min_snp_diff\": 2.650307523131936}, {\"min_snp_diff\": 2.537819095073274}, {\"min_snp_diff\": 2.945960703577568}, {\"min_snp_diff\": 3.4833019523581665}, {\"min_snp_diff\": 2.390935107103379}, {\"min_snp_diff\": 3.058046230395281}, {\"min_snp_diff\": 2.7979596437371956}, {\"min_snp_diff\": 3.1766699326681493}, {\"min_snp_diff\": 2.421603926869831}, {\"min_snp_diff\": 2.904715545278681}, {\"min_snp_diff\": 1.7481880270062005}, {\"min_snp_diff\": 2.3180633349627615}, {\"min_snp_diff\": 3.8543667780408692}, {\"min_snp_diff\": 2.7678976160180904}, {\"min_snp_diff\": 1.7075701760979363}, {\"min_snp_diff\": 3.101059354908115}, {\"min_snp_diff\": 2.2355284469075487}, {\"min_snp_diff\": 2.8915374576725643}, {\"min_snp_diff\": 2.371067862271736}, {\"min_snp_diff\": 2.665580991017953}, {\"min_snp_diff\": 1.968482948553935}, {\"min_snp_diff\": 2.6273658565927325}, {\"min_snp_diff\": 2.91487181754005}, {\"min_snp_diff\": 3.4736329268738406}, {\"min_snp_diff\": 1.6020599913279623}, {\"min_snp_diff\": 2.278753600952829}, {\"min_snp_diff\": 2.1367205671564067}, {\"min_snp_diff\": 2.8014037100173548}, {\"min_snp_diff\": 2.3541084391474008}, {\"min_snp_diff\": 2.1986570869544226}, {\"min_snp_diff\": 2.545307116465824}, {\"min_snp_diff\": 1.2304489213782739}, {\"min_snp_diff\": 2.8007170782823847}, {\"min_snp_diff\": 2.4132997640812515}, {\"min_snp_diff\": 2.173186268412274}, {\"min_snp_diff\": 2.4329692908744054}, {\"min_snp_diff\": 2.421603926869831}, {\"min_snp_diff\": 2.281033367247727}, {\"min_snp_diff\": 2.947923619831726}, {\"min_snp_diff\": 2.3483048630481607}, {\"min_snp_diff\": 2.4983105537896004}, {\"min_snp_diff\": 1.5185139398778873}, {\"min_snp_diff\": 2.6794278966121188}, {\"min_snp_diff\": 2.7134905430939424}, {\"min_snp_diff\": 3.012837224705172}, {\"min_snp_diff\": 2.2278867046136734}, {\"min_snp_diff\": 2.1846914308175984}, {\"min_snp_diff\": 1.2304489213782739}, {\"min_snp_diff\": 1.2304489213782739}, {\"min_snp_diff\": 2.021189299069938}, {\"min_snp_diff\": 2.506505032404872}, {\"min_snp_diff\": 2.3579348470004535}, {\"min_snp_diff\": 2.9768083373380656}, {\"min_snp_diff\": 2.252853030979893}, {\"min_snp_diff\": 2.426511261364575}, {\"min_snp_diff\": 2.503790683057181}, {\"min_snp_diff\": 1.968482948553935}, {\"min_snp_diff\": 1.2787536009528289}, {\"min_snp_diff\": 1.2787536009528289}, {\"min_snp_diff\": 2.740362689494243}, {\"min_snp_diff\": 3.5386993795424067}, {\"min_snp_diff\": 3.1613680022349744}, {\"min_snp_diff\": 2.7888751157754164}, {\"min_snp_diff\": 2.0681858617461617}, {\"min_snp_diff\": 1.4913616938342726}, {\"min_snp_diff\": 3.026941627959029}, {\"min_snp_diff\": 2.0043213737826426}, {\"min_snp_diff\": 1.591064607026499}, {\"min_snp_diff\": 2.08278537031645}, {\"min_snp_diff\": 2.6665179805548807}, {\"min_snp_diff\": 2.4638929889859074}, {\"min_snp_diff\": 1.6532125137753435}, {\"min_snp_diff\": 2.4232458739368075}, {\"min_snp_diff\": 2.3096301674258983}, {\"min_snp_diff\": 1.414973347970818}, {\"min_snp_diff\": 2.049218022670181}, {\"min_snp_diff\": 2.5611013836490555}, {\"min_snp_diff\": 2.887617300335736}, {\"min_snp_diff\": 3.3481100684802376}, {\"min_snp_diff\": 2.93801909747621}, {\"min_snp_diff\": 1.9956351945975497}, {\"min_snp_diff\": 3.421110129793434}, {\"min_snp_diff\": 2.107209969647868}, {\"min_snp_diff\": 2.342422680822206}, {\"min_snp_diff\": 3.0025979807199086}, {\"min_snp_diff\": 2.110589710299249}, {\"min_snp_diff\": 2.4857214264815797}, {\"min_snp_diff\": 2.4409090820652173}, {\"min_snp_diff\": 2.885926339801431}, {\"min_snp_diff\": 1.2041199826559246}, {\"min_snp_diff\": 1.5440680443502754}, {\"min_snp_diff\": 2.08278537031645}, {\"min_snp_diff\": 3.0476641946015595}, {\"min_snp_diff\": 2.326335860928751}, {\"min_snp_diff\": 2.4996870826184034}, {\"min_snp_diff\": 3.013679697291192}, {\"min_snp_diff\": 2.812244696800369}, {\"min_snp_diff\": 1.8388490907372552}, {\"min_snp_diff\": 2.678518379040114}, {\"min_snp_diff\": 1.9084850188786497}, {\"min_snp_diff\": 1.301029995663981}, {\"min_snp_diff\": 1.6812412373755872}, {\"min_snp_diff\": 3.3558344958849355}, {\"min_snp_diff\": 3.040206627574711}, {\"min_snp_diff\": 2.7986506454452686}, {\"min_snp_diff\": 3.106870544478654}, {\"min_snp_diff\": 3.1089031276673134}, {\"min_snp_diff\": 2.176091259055681}, {\"min_snp_diff\": 1.6434526764861872}, {\"min_snp_diff\": 2.953276336667304}, {\"min_snp_diff\": 2.981365509078544}, {\"min_snp_diff\": 3.492481010128876}, {\"min_snp_diff\": 2.4533183400470375}, {\"min_snp_diff\": 2.4969296480732144}, {\"min_snp_diff\": 2.1205739312058496}, {\"min_snp_diff\": 2.1583624920952493}, {\"min_snp_diff\": 1.0791812460476247}, {\"min_snp_diff\": 1.7781512503836434}, {\"min_snp_diff\": 2.2095150145426303}, {\"min_snp_diff\": 2.521138083704036}, {\"min_snp_diff\": 2.5092025223311025}, {\"min_snp_diff\": 2.3283796034387376}, {\"min_snp_diff\": 2.3996737214810375}, {\"min_snp_diff\": 2.8864907251724814}, {\"min_snp_diff\": 2.7686381012476144}, {\"min_snp_diff\": 1.7558748556724912}, {\"min_snp_diff\": 3.23375736296551}, {\"min_snp_diff\": 1.6627578316815739}, {\"min_snp_diff\": 1.7923916894982537}, {\"min_snp_diff\": 1.6532125137753435}, {\"min_snp_diff\": 1.3424226808222062}, {\"min_snp_diff\": 1.9395192526186182}, {\"min_snp_diff\": 2.4031205211758175}, {\"min_snp_diff\": 2.8750612633916997}, {\"min_snp_diff\": 3.1778249718646814}, {\"min_snp_diff\": 2.6127838567197355}, {\"min_snp_diff\": 2.08278537031645}, {\"min_snp_diff\": 1.8864907251724818}, {\"min_snp_diff\": 2.59659709562646}, {\"min_snp_diff\": 3.3780343224573315}, {\"min_snp_diff\": 1.591064607026499}, {\"min_snp_diff\": 3.0025979807199086}, {\"min_snp_diff\": 3.529558673021163}, {\"min_snp_diff\": 2.4183012913197452}, {\"min_snp_diff\": 2.9355072658247123}, {\"min_snp_diff\": 3.4778444763387575}, {\"min_snp_diff\": 3.06781451116184}, {\"min_snp_diff\": 3.090258052931316}, {\"min_snp_diff\": 3.035829825252828}, {\"min_snp_diff\": 3.5089335260500327}, {\"min_snp_diff\": 2.7143297597452327}, {\"min_snp_diff\": 1.9777236052888476}, {\"min_snp_diff\": 2.170261715394957}, {\"min_snp_diff\": 1.6434526764861872}, {\"min_snp_diff\": 2.380211241711606}, {\"min_snp_diff\": 2.320146286111054}, {\"min_snp_diff\": 2.624282095835668}, {\"min_snp_diff\": 3.1967287226232863}, {\"min_snp_diff\": 2.518513939877887}, {\"min_snp_diff\": 3.101059354908115}, {\"min_snp_diff\": 2.278753600952829}, {\"min_snp_diff\": 1.7558748556724912}, {\"min_snp_diff\": 2.396199347095736}, {\"min_snp_diff\": 1.7558748556724912}, {\"min_snp_diff\": 2.822168079368017}, {\"min_snp_diff\": 2.649334858712142}, {\"min_snp_diff\": 2.08278537031645}, {\"min_snp_diff\": 2.843232778098009}, {\"min_snp_diff\": 1.7923916894982537}, {\"min_snp_diff\": 2.748962861256161}, {\"min_snp_diff\": 2.012837224705172}, {\"min_snp_diff\": 1.851258348719075}, {\"min_snp_diff\": 1.851258348719075}, {\"min_snp_diff\": 2.810232517995084}, {\"min_snp_diff\": 1.1461280356782377}, {\"min_snp_diff\": 1.1461280356782377}, {\"min_snp_diff\": 1.1760912590556811}, {\"min_snp_diff\": 2.8082109729242215}, {\"min_snp_diff\": 1.301029995663981}, {\"min_snp_diff\": 2.6074550232146683}, {\"min_snp_diff\": 3.1726029312098594}, {\"min_snp_diff\": 1.5051499783199058}, {\"min_snp_diff\": 2.521138083704036}, {\"min_snp_diff\": 2.0043213737826426}, {\"min_snp_diff\": 2.0043213737826426}, {\"min_snp_diff\": 2.2329961103921536}, {\"min_snp_diff\": 2.4623979978989556}, {\"min_snp_diff\": 2.3783979009481375}, {\"min_snp_diff\": 3.087781417809542}, {\"min_snp_diff\": 2.086359830674748}, {\"min_snp_diff\": 3.6015167836500095}, {\"min_snp_diff\": 1.8325089127062362}, {\"min_snp_diff\": 2.9656719712201065}, {\"min_snp_diff\": 2.2624510897304293}, {\"min_snp_diff\": 2.1003705451175625}, {\"min_snp_diff\": 1.9912260756924949}, {\"min_snp_diff\": 2.0899051114393976}, {\"min_snp_diff\": 2.0969100130080562}, {\"min_snp_diff\": 3.0986437258170567}, {\"min_snp_diff\": 1.7323937598229684}, {\"min_snp_diff\": 1.6532125137753435}, {\"min_snp_diff\": 1.8325089127062362}, {\"min_snp_diff\": 1.9395192526186182}, {\"min_snp_diff\": 1.9637878273455551}, {\"min_snp_diff\": 2.363611979892144}, {\"min_snp_diff\": 2.718501688867274}, {\"min_snp_diff\": 2.517195897949974}, {\"min_snp_diff\": 1.8061799739838869}, {\"min_snp_diff\": 2.442479769064448}, {\"min_snp_diff\": 2.2600713879850747}, {\"min_snp_diff\": 3.1922886125681202}, {\"min_snp_diff\": 1.851258348719075}, {\"min_snp_diff\": 2.6190933306267423}, {\"min_snp_diff\": 2.748962861256161}, {\"min_snp_diff\": 2.093421685162235}, {\"min_snp_diff\": 2.093421685162235}, {\"min_snp_diff\": 2.5465426634781307}, {\"min_snp_diff\": 1.414973347970818}, {\"min_snp_diff\": 2.6232492903979003}, {\"min_snp_diff\": 2.4899584794248346}, {\"min_snp_diff\": 2.705863712283919}, {\"min_snp_diff\": 2.517195897949974}, {\"min_snp_diff\": 1.4913616938342726}, {\"min_snp_diff\": 2.505149978319906}, {\"min_snp_diff\": 1.322219294733919}, {\"min_snp_diff\": 2.7817553746524686}, {\"min_snp_diff\": 3.4568213480215984}, {\"min_snp_diff\": 1.5051499783199058}, {\"min_snp_diff\": 2.9190780923760733}, {\"min_snp_diff\": 3.7621531923035945}, {\"min_snp_diff\": 1.9030899869919433}, {\"min_snp_diff\": 2.1139433523068365}, {\"min_snp_diff\": 2.3483048630481607}, {\"min_snp_diff\": 2.782472624166286}, {\"min_snp_diff\": 2.0}, {\"min_snp_diff\": 1.7708520116421442}, {\"min_snp_diff\": 3.302114376956201}, {\"min_snp_diff\": 1.4771212547196624}, {\"min_snp_diff\": 1.9912260756924949}, {\"min_snp_diff\": 3.2938043599193363}, {\"min_snp_diff\": 2.3692158574101425}, {\"min_snp_diff\": 2.1986570869544226}, {\"min_snp_diff\": 1.2041199826559246}, {\"min_snp_diff\": 1.2041199826559246}, {\"min_snp_diff\": 2.107209969647868}, {\"min_snp_diff\": 2.1553360374650614}, {\"min_snp_diff\": 2.3560258571931225}, {\"min_snp_diff\": 2.468347330412157}, {\"min_snp_diff\": 1.2552725051033058}, {\"min_snp_diff\": 3.228143607597741}, {\"min_snp_diff\": 1.5682017240669948}, {\"min_snp_diff\": 2.3729120029701067}, {\"min_snp_diff\": 3.315340476627288}, {\"min_snp_diff\": 2.9041743682841634}, {\"min_snp_diff\": 2.697229342759717}, {\"min_snp_diff\": 2.2095150145426303}, {\"min_snp_diff\": 1.6627578316815739}, {\"min_snp_diff\": 1.6627578316815739}, {\"min_snp_diff\": 3.343211590179747}, {\"min_snp_diff\": 2.064457989226918}, {\"min_snp_diff\": 2.551449997972875}, {\"min_snp_diff\": 2.514547752660286}, {\"min_snp_diff\": 3.0770043267933502}, {\"min_snp_diff\": 3.332034277027518}, {\"min_snp_diff\": 2.696356388733332}, {\"min_snp_diff\": 1.2041199826559246}, {\"min_snp_diff\": 1.2041199826559246}, {\"min_snp_diff\": 1.4313637641589871}, {\"min_snp_diff\": 1.9030899869919433}, {\"min_snp_diff\": 1.556302500767287}, {\"min_snp_diff\": 2.1846914308175984}, {\"min_snp_diff\": 2.894316062684438}, {\"min_snp_diff\": 2.923244018630276}, {\"min_snp_diff\": 2.9576072870600947}, {\"min_snp_diff\": 2.7916906490201177}, {\"min_snp_diff\": 1.7403626894942439}, {\"min_snp_diff\": 2.294466226161593}, {\"min_snp_diff\": 2.281033367247727}, {\"min_snp_diff\": 3.4358443659844413}, {\"min_snp_diff\": 2.2455126678141495}, {\"min_snp_diff\": 3.006037954997317}, {\"min_snp_diff\": 1.8129133566428552}, {\"min_snp_diff\": 2.447158031342219}, {\"min_snp_diff\": 2.3560258571931225}, {\"min_snp_diff\": 2.276461804173244}, {\"min_snp_diff\": 2.173186268412274}, {\"min_snp_diff\": 3.469232742506612}, {\"min_snp_diff\": 1.8633228601204557}, {\"min_snp_diff\": 2.5888317255942073}, {\"min_snp_diff\": 3.174931593528442}, {\"min_snp_diff\": 3.4089180208467793}, {\"min_snp_diff\": 3.153814864344529}, {\"min_snp_diff\": 2.290034611362518}, {\"min_snp_diff\": 1.3979400086720375}, {\"min_snp_diff\": 3.599883072073687}, {\"min_snp_diff\": 1.6812412373755872}, {\"min_snp_diff\": 1.6812412373755872}, {\"min_snp_diff\": 2.5899496013257073}, {\"min_snp_diff\": 2.6946051989335684}, {\"min_snp_diff\": 2.1583624920952493}, {\"min_snp_diff\": 2.278753600952829}, {\"min_snp_diff\": 2.8733206018153985}, {\"min_snp_diff\": 2.883661435153617}, {\"min_snp_diff\": 1.1461280356782377}, {\"min_snp_diff\": 2.0569048513364723}, {\"min_snp_diff\": 2.6821450763738315}, {\"min_snp_diff\": 2.6893088591236203}, {\"min_snp_diff\": 2.517195897949974}, {\"min_snp_diff\": 2.727541257028556}, {\"min_snp_diff\": 1.6232492903979003}, {\"min_snp_diff\": 1.7403626894942439}, {\"min_snp_diff\": 2.294466226161593}, {\"min_snp_diff\": 1.301029995663981}, {\"min_snp_diff\": 2.531478917042255}, {\"min_snp_diff\": 2.3096301674258983}, {\"min_snp_diff\": 1.414973347970818}, {\"min_snp_diff\": 1.5440680443502754}, {\"min_snp_diff\": 1.5440680443502754}, {\"min_snp_diff\": 2.86569605991607}, {\"min_snp_diff\": 2.65991620006985}, {\"min_snp_diff\": 2.658964842664435}, {\"min_snp_diff\": 1.9084850188786497}, {\"min_snp_diff\": 3.021602716028242}, {\"min_snp_diff\": 2.1335389083702174}, {\"min_snp_diff\": 2.3891660843645326}, {\"min_snp_diff\": 1.6020599913279623}, {\"min_snp_diff\": 2.8842287696326037}, {\"min_snp_diff\": 1.1760912590556811}, {\"min_snp_diff\": 2.624282095835668}, {\"min_snp_diff\": 2.0170333392987803}, {\"min_snp_diff\": 2.9925535178321354}, {\"min_snp_diff\": 2.187520720836463}, {\"min_snp_diff\": 1.5440680443502754}, {\"min_snp_diff\": 2.1958996524092336}, {\"min_snp_diff\": 1.9777236052888476}, {\"min_snp_diff\": 2.4668676203541096}, {\"min_snp_diff\": 1.7634279935629371}, {\"min_snp_diff\": 1.5682017240669948}, {\"min_snp_diff\": 1.301029995663981}, {\"min_snp_diff\": 1.5440680443502754}, {\"min_snp_diff\": 1.6532125137753435}, {\"min_snp_diff\": 2.7520484478194382}, {\"min_snp_diff\": 1.8976270912904412}, {\"min_snp_diff\": 2.437750562820388}, {\"min_snp_diff\": 2.7937903846908183}, {\"min_snp_diff\": 3.6421676344049447}, {\"min_snp_diff\": 2.387389826338729}, {\"min_snp_diff\": 2.857935264719429}, {\"min_snp_diff\": 2.7678976160180904}, {\"min_snp_diff\": 2.2576785748691846}, {\"min_snp_diff\": 3.3083509485867255}, {\"min_snp_diff\": 1.9493900066449126}, {\"min_snp_diff\": 3.1115985248803937}, {\"min_snp_diff\": 2.450249108319361}, {\"min_snp_diff\": 1.6627578316815739}, {\"min_snp_diff\": 1.6627578316815739}, {\"min_snp_diff\": 2.2095150145426303}, {\"min_snp_diff\": 2.326335860928751}, {\"min_snp_diff\": 1.7634279935629371}, {\"min_snp_diff\": 1.8388490907372552}, {\"min_snp_diff\": 2.8068580295188172}, {\"min_snp_diff\": 2.622214022966295}, {\"min_snp_diff\": 3.283753383332526}, {\"min_snp_diff\": 2.8481891169913984}, {\"min_snp_diff\": 3.3829171350875304}, {\"min_snp_diff\": 1.8808135922807911}, {\"min_snp_diff\": 1.6434526764861872}, {\"min_snp_diff\": 1.6434526764861872}, {\"min_snp_diff\": 1.1760912590556811}, {\"min_snp_diff\": 1.6989700043360185}, {\"min_snp_diff\": 2.2600713879850747}, {\"min_snp_diff\": 2.4712917110589383}, {\"min_snp_diff\": 1.6901960800285134}, {\"min_snp_diff\": 1.9590413923210932}, {\"min_snp_diff\": 2.755112266395071}, {\"min_snp_diff\": 1.9637878273455551}, {\"min_snp_diff\": 2.0}, {\"min_snp_diff\": 2.0}, {\"min_snp_diff\": 2.1139433523068365}, {\"min_snp_diff\": 1.5051499783199058}, {\"min_snp_diff\": 2.3463529744506384}, {\"min_snp_diff\": 3.440279213235588}, {\"min_snp_diff\": 3.09236969962912}, {\"min_snp_diff\": 2.4828735836087534}, {\"min_snp_diff\": 2.6424645202421213}, {\"min_snp_diff\": 1.6127838567197355}, {\"min_snp_diff\": 2.4899584794248346}, {\"min_snp_diff\": 2.940516484932567}, {\"min_snp_diff\": 2.2833012287035492}, {\"min_snp_diff\": 1.9294189257142926}, {\"min_snp_diff\": 2.800029359244134}, {\"min_snp_diff\": 2.7497363155690606}, {\"min_snp_diff\": 3.455301771657076}, {\"min_snp_diff\": 2.6232492903979003}, {\"min_snp_diff\": 1.5185139398778873}, {\"min_snp_diff\": 2.021189299069938}, {\"min_snp_diff\": 2.86569605991607}, {\"min_snp_diff\": 2.4638929889859074}, {\"min_snp_diff\": 2.4393326938302624}, {\"min_snp_diff\": 2.7497363155690606}, {\"min_snp_diff\": 2.5477747053878224}, {\"min_snp_diff\": 2.6570558528571038}, {\"min_snp_diff\": 1.7403626894942439}, {\"min_snp_diff\": 2.4563660331290427}, {\"min_snp_diff\": 2.1367205671564067}, {\"min_snp_diff\": 2.103803720955957}, {\"min_snp_diff\": 1.6334684555795864}, {\"min_snp_diff\": 1.716003343634799}, {\"min_snp_diff\": 1.6532125137753435}, {\"min_snp_diff\": 2.3579348470004535}, {\"min_snp_diff\": 1.041392685158225}, {\"min_snp_diff\": 1.2787536009528289}, {\"min_snp_diff\": 1.2787536009528289}, {\"min_snp_diff\": 2.130333768495006}, {\"min_snp_diff\": 2.2355284469075487}, {\"min_snp_diff\": 2.2648178230095364}, {\"min_snp_diff\": 2.2648178230095364}, {\"min_snp_diff\": 2.5658478186735176}, {\"min_snp_diff\": 2.5658478186735176}, {\"min_snp_diff\": 2.81690383937566}, {\"min_snp_diff\": 2.1846914308175984}, {\"min_snp_diff\": 2.615950051656401}, {\"min_snp_diff\": 2.57287160220048}, {\"min_snp_diff\": 2.3729120029701067}, {\"min_snp_diff\": 2.1522883443830563}, {\"min_snp_diff\": 2.1522883443830563}, {\"min_snp_diff\": 1.9912260756924949}, {\"min_snp_diff\": 2.1553360374650614}, {\"min_snp_diff\": 1.6989700043360185}, {\"min_snp_diff\": 1.6020599913279623}, {\"min_snp_diff\": 2.252853030979893}, {\"min_snp_diff\": 2.6674529528899535}, {\"min_snp_diff\": 2.9556877503135057}, {\"min_snp_diff\": 2.3138672203691533}, {\"min_snp_diff\": 2.220108088040055}, {\"min_snp_diff\": 1.9822712330395682}, {\"min_snp_diff\": 2.5327543789924976}, {\"min_snp_diff\": 2.3541084391474008}, {\"min_snp_diff\": 2.6674529528899535}, {\"min_snp_diff\": 2.8407332346118066}, {\"min_snp_diff\": 1.9344984512435675}, {\"min_snp_diff\": 3.5156089492344798}, {\"min_snp_diff\": 2.1492191126553797}, {\"min_snp_diff\": 2.2041199826559246}, {\"min_snp_diff\": 2.927370363039023}, {\"min_snp_diff\": 2.2741578492636796}, {\"min_snp_diff\": 1.2787536009528289}, {\"min_snp_diff\": 3.0906107078284064}, {\"min_snp_diff\": 2.91803033678488}, {\"min_snp_diff\": 3.174931593528442}, {\"min_snp_diff\": 2.290034611362518}, {\"min_snp_diff\": 2.717670503002262}, {\"min_snp_diff\": 3.251394850040104}, {\"min_snp_diff\": 2.252853030979893}, {\"min_snp_diff\": 2.252853030979893}, {\"min_snp_diff\": 2.1367205671564067}, {\"min_snp_diff\": 2.1903316981702914}, {\"min_snp_diff\": 2.8095597146352675}, {\"min_snp_diff\": 2.1271047983648073}, {\"min_snp_diff\": 1.8061799739838869}, {\"min_snp_diff\": 2.093421685162235}, {\"min_snp_diff\": 2.5024271199844326}, {\"min_snp_diff\": 2.6981005456233897}, {\"min_snp_diff\": 2.021189299069938}, {\"min_snp_diff\": 2.804820678721162}, {\"min_snp_diff\": 1.0791812460476247}, {\"min_snp_diff\": 1.0791812460476247}, {\"min_snp_diff\": 2.2355284469075487}, {\"min_snp_diff\": 2.899273187317603}, {\"min_snp_diff\": 2.8388490907372548}, {\"min_snp_diff\": 2.0374264979406234}, {\"min_snp_diff\": 2.3242824552976926}, {\"min_snp_diff\": 1.8195439355418683}, {\"min_snp_diff\": 2.650307523131936}, {\"min_snp_diff\": 1.851258348719075}, {\"min_snp_diff\": 1.2304489213782739}, {\"min_snp_diff\": 2.5740312677277184}, {\"min_snp_diff\": 2.2695129442179165}, {\"min_snp_diff\": 1.3617278360175928}, {\"min_snp_diff\": 2.394451680826216}, {\"min_snp_diff\": 1.7923916894982537}, {\"min_snp_diff\": 3.0569048513364723}, {\"min_snp_diff\": 2.1643528557844367}, {\"min_snp_diff\": 2.045322978786657}, {\"min_snp_diff\": 2.7109631189952754}, {\"min_snp_diff\": 2.107209969647868}, {\"min_snp_diff\": 2.3242824552976926}, {\"min_snp_diff\": 1.7558748556724912}, {\"min_snp_diff\": 3.7995473071256143}, {\"min_snp_diff\": 2.1673173347481756}, {\"min_snp_diff\": 2.2068258760318495}, {\"min_snp_diff\": 1.556302500767287}, {\"min_snp_diff\": 2.850646235183066}, {\"min_snp_diff\": 2.9299295600845876}, {\"min_snp_diff\": 2.2227164711475833}, {\"min_snp_diff\": 1.6532125137753435}, {\"min_snp_diff\": 2.810232517995084}, {\"min_snp_diff\": 2.2695129442179165}, {\"min_snp_diff\": 3.132579847659737}, {\"min_snp_diff\": 2.9929950984313414}, {\"min_snp_diff\": 2.450249108319361}, {\"min_snp_diff\": 2.3729120029701067}, {\"min_snp_diff\": 3.0068937079479}, {\"min_snp_diff\": 2.1583624920952493}, {\"min_snp_diff\": 2.1461280356782377}, {\"min_snp_diff\": 1.9242792860618814}, {\"min_snp_diff\": 3.551693915127225}, {\"min_snp_diff\": 1.0791812460476247}, {\"min_snp_diff\": 1.0791812460476247}, {\"min_snp_diff\": 3.121887985103681}, {\"min_snp_diff\": 3.319522449065454}, {\"min_snp_diff\": 2.383815365980431}, {\"min_snp_diff\": 1.7781512503836434}, {\"min_snp_diff\": 2.7109631189952754}, {\"min_snp_diff\": 2.4955443375464483}, {\"min_snp_diff\": 2.899820502427096}, {\"min_snp_diff\": 2.1613680022349744}, {\"min_snp_diff\": 2.5263392773898437}, {\"min_snp_diff\": 2.5263392773898437}, {\"min_snp_diff\": 2.107209969647868}, {\"min_snp_diff\": 3.0856472882968564}, {\"min_snp_diff\": 2.170261715394957}, {\"min_snp_diff\": 3.1846914308175984}, {\"min_snp_diff\": 1.6627578316815739}, {\"min_snp_diff\": 1.7634279935629371}, {\"min_snp_diff\": 1.8195439355418683}, {\"min_snp_diff\": 1.8195439355418683}, {\"min_snp_diff\": 2.9986951583116555}, {\"min_snp_diff\": 1.724275869600789}, {\"min_snp_diff\": 2.725094521081469}, {\"min_snp_diff\": 2.59659709562646}, {\"min_snp_diff\": 3.1601682929585118}, {\"min_snp_diff\": 2.2741578492636796}, {\"min_snp_diff\": 2.514547752660286}, {\"min_snp_diff\": 3.2164298308762507}, {\"min_snp_diff\": 2.6794278966121188}, {\"min_snp_diff\": 2.3560258571931225}, {\"min_snp_diff\": 1.5682017240669948}, {\"min_snp_diff\": 2.487138375477186}, {\"min_snp_diff\": 2.278753600952829}, {\"min_snp_diff\": 2.755112266395071}, {\"min_snp_diff\": 2.6512780139981436}, {\"min_snp_diff\": 2.5477747053878224}, {\"min_snp_diff\": 1.8808135922807911}, {\"min_snp_diff\": 3.28668096935493}, {\"min_snp_diff\": 2.836324115706751}, {\"min_snp_diff\": 1.447158031342219}, {\"min_snp_diff\": 2.997823080745725}, {\"min_snp_diff\": 2.626340367375042}, {\"min_snp_diff\": 2.416640507338281}, {\"min_snp_diff\": 1.6127838567197355}, {\"min_snp_diff\": 1.322219294733919}, {\"min_snp_diff\": 2.745855195173729}, {\"min_snp_diff\": 2.5415792439465807}, {\"min_snp_diff\": 1.6720978579357173}, {\"min_snp_diff\": 3.3096301674258983}, {\"min_snp_diff\": 3.631950826259217}, {\"min_snp_diff\": 2.276461804173244}, {\"min_snp_diff\": 3.594060901270418}, {\"min_snp_diff\": 2.8567288903828825}, {\"min_snp_diff\": 2.281033367247727}, {\"min_snp_diff\": 1.8864907251724818}, {\"min_snp_diff\": 2.0374264979406234}, {\"min_snp_diff\": 2.0374264979406234}, {\"min_snp_diff\": 2.2013971243204513}, {\"min_snp_diff\": 2.56702636615906}, {\"min_snp_diff\": 2.9429995933660402}, {\"min_snp_diff\": 2.488550716500444}, {\"min_snp_diff\": 2.2355284469075487}, {\"min_snp_diff\": 3.152899596393747}, {\"min_snp_diff\": 2.9552065375419416}, {\"min_snp_diff\": 2.396199347095736}, {\"min_snp_diff\": 1.9138138523837167}, {\"min_snp_diff\": 2.823474229170301}, {\"min_snp_diff\": 2.5563025007672873}, {\"min_snp_diff\": 3.2024883170600935}, {\"min_snp_diff\": 2.725911632295048}, {\"min_snp_diff\": 1.4913616938342726}, {\"min_snp_diff\": 1.4913616938342726}, {\"min_snp_diff\": 2.919601023784111}, {\"min_snp_diff\": 2.5526682161121927}, {\"min_snp_diff\": 1.1461280356782377}, {\"min_snp_diff\": 1.1461280356782377}, {\"min_snp_diff\": 2.1522883443830563}, {\"min_snp_diff\": 2.8182258936139553}, {\"min_snp_diff\": 1.968482948553935}, {\"min_snp_diff\": 2.5899496013257073}, {\"min_snp_diff\": 1.9493900066449126}, {\"min_snp_diff\": 2.4623979978989556}, {\"min_snp_diff\": 2.511883360978874}, {\"min_snp_diff\": 3.0034605321095063}, {\"min_snp_diff\": 1.9912260756924949}, {\"min_snp_diff\": 1.8061799739838869}, {\"min_snp_diff\": 2.6803355134145628}, {\"min_snp_diff\": 1.3424226808222062}, {\"min_snp_diff\": 1.9542425094393248}, {\"min_snp_diff\": 3.012837224705172}, {\"min_snp_diff\": 2.1643528557844367}, {\"min_snp_diff\": 1.8573324964312683}, {\"min_snp_diff\": 1.9294189257142926}, {\"min_snp_diff\": 2.738780558484369}, {\"min_snp_diff\": 1.9242792860618814}, {\"min_snp_diff\": 1.9777236052888476}, {\"min_snp_diff\": 2.718501688867274}, {\"min_snp_diff\": 2.7143297597452327}, {\"min_snp_diff\": 2.850033257689769}, {\"min_snp_diff\": 1.851258348719075}, {\"min_snp_diff\": 1.785329835010767}, {\"min_snp_diff\": 2.4183012913197452}, {\"min_snp_diff\": 2.436162647040756}, {\"min_snp_diff\": 2.877946951629188}, {\"min_snp_diff\": 3.4712917110589383}, {\"min_snp_diff\": 2.559906625036112}, {\"min_snp_diff\": 2.0}, {\"min_snp_diff\": 2.1492191126553797}, {\"min_snp_diff\": 2.631443769013172}, {\"min_snp_diff\": 2.396199347095736}, {\"min_snp_diff\": 1.1461280356782377}, {\"min_snp_diff\": 2.551449997972875}, {\"min_snp_diff\": 2.170261715394957}, {\"min_snp_diff\": 3.0692980121155293}, {\"min_snp_diff\": 2.577491799837225}, {\"min_snp_diff\": 3.1089031276673134}, {\"min_snp_diff\": 2.4065401804339546}, {\"min_snp_diff\": 2.602059991327962}, {\"min_snp_diff\": 3.1271047983648073}, {\"min_snp_diff\": 1.851258348719075}, {\"min_snp_diff\": 3.058046230395281}, {\"min_snp_diff\": 2.6170003411208986}, {\"min_snp_diff\": 1.8633228601204557}, {\"min_snp_diff\": 2.296665190261531}, {\"min_snp_diff\": 2.6522463410033232}, {\"min_snp_diff\": 2.888740960682892}, {\"min_snp_diff\": 2.107209969647868}, {\"min_snp_diff\": 2.760422483423212}, {\"min_snp_diff\": 2.740362689494243}, {\"min_snp_diff\": 1.9030899869919433}, {\"min_snp_diff\": 3.3402457615679313}, {\"min_snp_diff\": 1.851258348719075}, {\"min_snp_diff\": 1.851258348719075}, {\"min_snp_diff\": 2.5250448070368448}, {\"min_snp_diff\": 3.4753805931433606}, {\"min_snp_diff\": 1.380211241711606}, {\"min_snp_diff\": 1.2787536009528289}, {\"min_snp_diff\": 1.2787536009528289}, {\"min_snp_diff\": 2.843232778098009}, {\"min_snp_diff\": 2.8325089127062357}, {\"min_snp_diff\": 2.08278537031645}, {\"min_snp_diff\": 1.6127838567197355}, {\"min_snp_diff\": 1.380211241711606}, {\"min_snp_diff\": 1.9084850188786497}, {\"min_snp_diff\": 1.6127838567197355}, {\"min_snp_diff\": 1.301029995663981}, {\"min_snp_diff\": 1.301029995663981}, {\"min_snp_diff\": 1.6020599913279623}, {\"min_snp_diff\": 1.6020599913279623}, {\"min_snp_diff\": 2.7395723444500915}, {\"min_snp_diff\": 3.107549129744686}, {\"min_snp_diff\": 1.3617278360175928}, {\"min_snp_diff\": 1.3617278360175928}, {\"min_snp_diff\": 2.8981764834976764}, {\"min_snp_diff\": 1.2552725051033058}, {\"min_snp_diff\": 1.9637878273455551}, {\"min_snp_diff\": 1.8325089127062362}, {\"min_snp_diff\": 1.8325089127062362}, {\"min_snp_diff\": 1.6532125137753435}, {\"min_snp_diff\": 2.3729120029701067}, {\"min_snp_diff\": 1.9912260756924949}, {\"min_snp_diff\": 2.4756711883244296}, {\"min_snp_diff\": 1.5185139398778873}, {\"min_snp_diff\": 1.8633228601204557}, {\"min_snp_diff\": 2.2648178230095364}, {\"min_snp_diff\": 3.1693804953119495}, {\"min_snp_diff\": 2.3654879848908994}, {\"min_snp_diff\": 2.7126497016272113}, {\"min_snp_diff\": 2.4440447959180758}, {\"min_snp_diff\": 2.3692158574101425}, {\"min_snp_diff\": 3.7795243433247894}, {\"min_snp_diff\": 2.5943925503754266}, {\"min_snp_diff\": 1.6334684555795864}, {\"min_snp_diff\": 1.7075701760979363}, {\"min_snp_diff\": 1.322219294733919}, {\"min_snp_diff\": 1.322219294733919}, {\"min_snp_diff\": 1.9344984512435675}, {\"min_snp_diff\": 1.322219294733919}, {\"min_snp_diff\": 1.322219294733919}, {\"min_snp_diff\": 3.1309766916056168}, {\"min_snp_diff\": 1.3617278360175928}, {\"min_snp_diff\": 2.4031205211758175}, {\"min_snp_diff\": 1.7993405494535815}, {\"min_snp_diff\": 1.9956351945975497}, {\"min_snp_diff\": 2.08278537031645}, {\"min_snp_diff\": 2.8162412999917827}, {\"min_snp_diff\": 3.248708735600917}, {\"min_snp_diff\": 2.8488047010518036}, {\"min_snp_diff\": 2.916980047320382}, {\"min_snp_diff\": 2.2479732663618064}, {\"min_snp_diff\": 1.6127838567197355}, {\"min_snp_diff\": 3.473340964185935}, {\"min_snp_diff\": 2.6998377258672455}, {\"min_snp_diff\": 2.0899051114393976}, {\"min_snp_diff\": 1.7075701760979363}, {\"min_snp_diff\": 1.5440680443502754}, {\"min_snp_diff\": 2.2479732663618064}, {\"min_snp_diff\": 2.1846914308175984}, {\"min_snp_diff\": 2.1846914308175984}, {\"min_snp_diff\": 2.1335389083702174}, {\"min_snp_diff\": 1.5314789170422551}, {\"min_snp_diff\": 2.4578818967339924}, {\"min_snp_diff\": 2.2329961103921536}, {\"min_snp_diff\": 2.930949031167523}, {\"min_snp_diff\": 3.1192558892779365}, {\"min_snp_diff\": 2.1846914308175984}, {\"min_snp_diff\": 2.4955443375464483}, {\"min_snp_diff\": 1.6334684555795864}, {\"min_snp_diff\": 2.9827233876685453}, {\"min_snp_diff\": 2.107209969647868}, {\"min_snp_diff\": 3.075181854618691}, {\"min_snp_diff\": 2.1846914308175984}, {\"min_snp_diff\": 2.492760389026837}, {\"min_snp_diff\": 2.1673173347481756}, {\"min_snp_diff\": 2.4941545940184424}, {\"min_snp_diff\": 1.9590413923210932}, {\"min_snp_diff\": 3.111262513659065}, {\"min_snp_diff\": 2.933993163831242}, {\"min_snp_diff\": 1.5314789170422551}, {\"min_snp_diff\": 2.374748346010104}, {\"min_snp_diff\": 3.2812606870550125}, {\"min_snp_diff\": 2.6095944092252195}, {\"min_snp_diff\": 2.6730209071288957}, {\"min_snp_diff\": 2.9030899869919433}, {\"min_snp_diff\": 2.287801729930226}, {\"min_snp_diff\": 2.503790683057181}, {\"min_snp_diff\": 2.0530784434834195}, {\"min_snp_diff\": 1.6434526764861872}, {\"min_snp_diff\": 2.57978359661681}, {\"min_snp_diff\": 3.341632335778054}, {\"min_snp_diff\": 2.59659709562646}, {\"min_snp_diff\": 2.6739419986340875}, {\"min_snp_diff\": 2.3344537511509307}, {\"min_snp_diff\": 2.559906625036112}, {\"min_snp_diff\": 2.7528164311882715}, {\"min_snp_diff\": 2.762678563727436}, {\"min_snp_diff\": 1.2041199826559246}, {\"min_snp_diff\": 1.2041199826559246}, {\"min_snp_diff\": 2.1367205671564067}, {\"min_snp_diff\": 1.6127838567197355}, {\"min_snp_diff\": 2.4756711883244296}, {\"min_snp_diff\": 2.4756711883244296}, {\"min_snp_diff\": 2.885926339801431}, {\"min_snp_diff\": 2.4393326938302624}, {\"min_snp_diff\": 3.2588766293721307}, {\"min_snp_diff\": 1.6020599913279623}, {\"min_snp_diff\": 1.8692317197309762}, {\"min_snp_diff\": 1.4771212547196624}, {\"min_snp_diff\": 2.1643528557844367}, {\"min_snp_diff\": 3.18440748541232}, {\"min_snp_diff\": 2.8645110810583914}, {\"min_snp_diff\": 3.1034616220947044}, {\"min_snp_diff\": 1.2552725051033058}, {\"min_snp_diff\": 2.91487181754005}, {\"min_snp_diff\": 2.7151673578484576}, {\"min_snp_diff\": 2.742725131304698}, {\"min_snp_diff\": 2.130333768495006}, {\"min_snp_diff\": 2.8721562727482928}, {\"min_snp_diff\": 2.8721562727482928}, {\"min_snp_diff\": 2.7092699609758304}, {\"min_snp_diff\": 2.7092699609758304}, {\"min_snp_diff\": 2.4983105537896004}, {\"min_snp_diff\": 2.6454222693490914}, {\"min_snp_diff\": 3.045322978786657}, {\"min_snp_diff\": 2.648360010980931}, {\"min_snp_diff\": 2.683047038238849}, {\"min_snp_diff\": 2.492760389026837}, {\"min_snp_diff\": 2.2253092817258624}, {\"min_snp_diff\": 2.8129133566428552}, {\"min_snp_diff\": 1.4771212547196624}, {\"min_snp_diff\": 2.6857417386022635}, {\"min_snp_diff\": 3.040206627574711}, {\"min_snp_diff\": 1.9294189257142926}, {\"min_snp_diff\": 2.8162412999917827}, {\"min_snp_diff\": 2.4623979978989556}, {\"min_snp_diff\": 2.8280150642239765}, {\"min_snp_diff\": 2.2600713879850747}, {\"min_snp_diff\": 3.015778756389041}, {\"min_snp_diff\": 2.0606978403536114}, {\"min_snp_diff\": 2.2922560713564755}, {\"min_snp_diff\": 2.421603926869831}, {\"min_snp_diff\": 2.0}, {\"min_snp_diff\": 1.301029995663981}, {\"min_snp_diff\": 2.123851640967086}, {\"min_snp_diff\": 2.843855422623161}, {\"min_snp_diff\": 2.963787827345555}, {\"min_snp_diff\": 2.963787827345555}, {\"min_snp_diff\": 2.5276299008713385}, {\"min_snp_diff\": 3.188647295999717}, {\"min_snp_diff\": 2.107209969647868}, {\"min_snp_diff\": 2.107209969647868}, {\"min_snp_diff\": 2.8591382972945305}, {\"min_snp_diff\": 2.0293837776852093}, {\"min_snp_diff\": 2.3242824552976926}, {\"min_snp_diff\": 1.9777236052888476}, {\"min_snp_diff\": 2.9493900066449124}, {\"min_snp_diff\": 2.8662873390841948}, {\"min_snp_diff\": 2.478566495593843}, {\"min_snp_diff\": 1.9956351945975497}, {\"min_snp_diff\": 1.9956351945975497}, {\"min_snp_diff\": 2.7032913781186614}, {\"min_snp_diff\": 2.4132997640812515}, {\"min_snp_diff\": 2.716003343634799}, {\"min_snp_diff\": 1.2787536009528289}, {\"min_snp_diff\": 1.2787536009528289}, {\"min_snp_diff\": 2.0}, {\"min_snp_diff\": 1.2552725051033058}, {\"min_snp_diff\": 2.041392685158225}, {\"min_snp_diff\": 2.3729120029701067}, {\"min_snp_diff\": 1.8260748027008262}, {\"min_snp_diff\": 1.447158031342219}, {\"min_snp_diff\": 2.9604707775342987}, {\"min_snp_diff\": 2.6730209071288957}, {\"min_snp_diff\": 2.1522883443830563}, {\"min_snp_diff\": 2.4712917110589383}, {\"min_snp_diff\": 2.5575072019056577}, {\"min_snp_diff\": 1.9395192526186182}, {\"min_snp_diff\": 3.0909630765957314}, {\"min_snp_diff\": 2.3560258571931225}, {\"min_snp_diff\": 1.4913616938342726}, {\"min_snp_diff\": 2.4132997640812515}, {\"min_snp_diff\": 2.103803720955957}, {\"min_snp_diff\": 2.045322978786657}, {\"min_snp_diff\": 3.07554696139253}, {\"min_snp_diff\": 2.577491799837225}]}}, {\"mode\": \"vega-lite\"});\n",
       "</script>"
      ],
      "text/plain": [
       "alt.Chart(...)"
      ]
     },
     "execution_count": 108,
     "metadata": {},
     "output_type": "execute_result"
    }
   ],
   "source": [
    "converted_snps_with_seq_df[\"min_snp_diff\"].log(base=10).plot.hist()"
   ]
  },
  {
   "cell_type": "code",
   "execution_count": 109,
   "id": "78c1a907-af7c-4030-b088-5799f01692be",
   "metadata": {
    "tags": []
   },
   "outputs": [
    {
     "name": "stderr",
     "output_type": "stream",
     "text": [
      " 17%|█▋        | 1/6 [00:00<00:01,  3.53it/s]"
     ]
    },
    {
     "name": "stdout",
     "output_type": "stream",
     "text": [
      "n_GC, n_AT: 138 101\n",
      "GC-bias: 0.5774058577405857\n",
      "CI: (0.512570190394644, 0.6403799988436902)\n"
     ]
    },
    {
     "name": "stderr",
     "output_type": "stream",
     "text": [
      " 33%|███▎      | 2/6 [00:00<00:01,  3.95it/s]"
     ]
    },
    {
     "name": "stdout",
     "output_type": "stream",
     "text": [
      "n_GC, n_AT: 142 100\n",
      "GC-bias: 0.5867768595041323\n",
      "CI: (0.5227578707961766, 0.6489818709572032)\n",
      "n_GC, n_AT: 198 113\n",
      "GC-bias: 0.6366559485530546\n"
     ]
    },
    {
     "name": "stderr",
     "output_type": "stream",
     "text": [
      " 50%|█████     | 3/6 [00:00<00:00,  4.20it/s]"
     ]
    },
    {
     "name": "stdout",
     "output_type": "stream",
     "text": [
      "CI: (0.5804756953152165, 0.6887856440158097)\n",
      "n_GC, n_AT: 275 198\n",
      "GC-bias: 0.5813953488372093\n",
      "CI: (0.5359643154070927, 0.625879789150557)\n"
     ]
    },
    {
     "name": "stderr",
     "output_type": "stream",
     "text": [
      " 83%|████████▎ | 5/6 [00:01<00:00,  4.49it/s]"
     ]
    },
    {
     "name": "stdout",
     "output_type": "stream",
     "text": [
      "n_GC, n_AT: 202 126\n",
      "GC-bias: 0.6158536585365854\n",
      "CI: (0.5610381891059573, 0.6678484668349423)\n",
      "n_GC, n_AT: 159 85\n",
      "GC-bias: 0.6516393442622951\n",
      "CI: (0.58824285891913, 0.7092719037761044)\n"
     ]
    },
    {
     "name": "stderr",
     "output_type": "stream",
     "text": [
      "100%|██████████| 6/6 [00:01<00:00,  4.46it/s]\n"
     ]
    }
   ],
   "source": [
    "dist_bins = [[0, 50], [50, 100], [100, 200], [200, 500], [500, 1000], [1000, 10000]]\n",
    "\n",
    "biases = []\n",
    "cis = []\n",
    "for h, l in tqdm.tqdm(dist_bins):\n",
    "    b, ci = calculate_gc_stats(\n",
    "        converted_snps_with_seq_df.filter(pl.col(\"min_snp_diff\").is_between(h, l)), \n",
    "        rahbari_sample_ids + sudmant_sample_ids,\n",
    "    )\n",
    "    biases.append(b)\n",
    "    cis.append(ci)"
   ]
  },
  {
   "cell_type": "code",
   "execution_count": null,
   "id": "74209d94-a7e1-4a3c-b1fe-fa6a391276e0",
   "metadata": {},
   "outputs": [],
   "source": []
  },
  {
   "cell_type": "code",
   "execution_count": 122,
   "id": "11a3227e-c031-4386-a21e-6ad62dce0314",
   "metadata": {
    "tags": []
   },
   "outputs": [
    {
     "data": {
      "text/plain": [
       "[(0.512570190394644, 0.6403799988436902),\n",
       " (0.5227578707961766, 0.6489818709572032),\n",
       " (0.5804756953152165, 0.6887856440158097),\n",
       " (0.5359643154070927, 0.625879789150557),\n",
       " (0.5610381891059573, 0.6678484668349423),\n",
       " (0.58824285891913, 0.7092719037761044)]"
      ]
     },
     "execution_count": 122,
     "metadata": {},
     "output_type": "execute_result"
    }
   ],
   "source": [
    "cis"
   ]
  },
  {
   "cell_type": "code",
   "execution_count": 141,
   "id": "da38ec8e-b3dc-4cf1-8f9b-9a18d7e02291",
   "metadata": {
    "tags": []
   },
   "outputs": [
    {
     "data": {
      "image/png": "[encoded data removed]",
      "text/plain": [
       "<Figure size 600x400 with 1 Axes>"
      ]
     },
     "metadata": {},
     "output_type": "display_data"
    }
   ],
   "source": [
    "# Compute error bars\n",
    "yerr = np.array([[h - low, high - h] for h, (low, high) in zip(biases, cis)]).T\n",
    "\n",
    "bin_edges = np.array([0, 50, 100, 200, 500, 1000, 10000])\n",
    "\n",
    "# Create the plot\n",
    "fig, ax = plt.subplots(figsize=(6, 4))\n",
    "bar_width = 0.6  # Keeping bar width constant for visual consistency\n",
    "ax.bar(\n",
    "    #x = (bin_edges[:-1]+bin_edges[1:])/2, \n",
    "    x = np.arange(6)*2 + 1,\n",
    "    height = np.array(biases) - 0.5, \n",
    "    width = 2,\n",
    "    bottom = 0.5,\n",
    "    yerr = yerr, \n",
    "    capsize = 5, \n",
    "    alpha=0.7,\n",
    "    edgecolor='k')\n",
    "\n",
    "# Labels and title\n",
    "ax.set_xticks(\n",
    "    ticks = np.arange(6)*2+1,\n",
    "    labels = [\"0-50\", \"50-100\", \"100-200\", \"200-500\", \"500-1,000\", \"1,000-10,000\"],\n",
    "    rotation=45,\n",
    ")\n",
    "ax.yaxis.set_major_formatter(plt.FuncFormatter(lambda y, _: f'{y:.0%}'))\n",
    "plt.xlabel(\"Distance to closest SNP (bp)\");\n",
    "plt.ylabel(\"gBGC\");\n",
    "plt.axhline(0.607, c=\"black\", ls=\"--\");\n",
    "\n",
    "# Show the plot\n",
    "plt.tight_layout()\n",
    "plt.show()"
   ]
  },
  {
   "cell_type": "code",
   "execution_count": null,
   "id": "f833a65d-597a-469c-9fb0-2788a6b40a95",
   "metadata": {},
   "outputs": [],
   "source": []
  },
  {
   "cell_type": "markdown",
   "id": "f31df830-9332-400a-ac20-85d02912b131",
   "metadata": {},
   "source": [
    "## Limit to multi-tracts with <50bp; vs. just SNPs with nearby "
   ]
  },
  {
   "cell_type": "code",
   "execution_count": 39,
   "id": "358b160a-a9ca-4d69-b10e-89a8ce63f20c",
   "metadata": {
    "tags": []
   },
   "outputs": [],
   "source": [
    "multi_df_with_dist = (multi_df\n",
    "    .group_by(\"read_name\")\n",
    "    .map_groups(lambda df: pl.DataFrame({\n",
    "            \"read_name\": df[\"read_name\"],\n",
    "            \"min_converted_snp_dist\": np.diff(df[\"start\"].sort().to_numpy()).min(),\n",
    "        })\n",
    "    )\n",
    "    .unique()\n",
    ")"
   ]
  },
  {
   "cell_type": "code",
   "execution_count": null,
   "id": "0bd19d63-62c1-4032-9aa2-2fe240b4286a",
   "metadata": {},
   "outputs": [],
   "source": []
  },
  {
   "cell_type": "code",
   "execution_count": 40,
   "id": "5c99674d-6513-4cb7-9187-5609777a5dc0",
   "metadata": {},
   "outputs": [
    {
     "name": "stdout",
     "output_type": "stream",
     "text": [
      "n_GC, n_AT: 63 31\n",
      "GC-bias: 0.6702127659574468\n",
      "CI: (0.569372042947651, 0.7617899435465761)\n"
     ]
    },
    {
     "data": {
      "text/plain": [
       "(0.6702127659574468, (0.569372042947651, 0.7617899435465761))"
      ]
     },
     "execution_count": 40,
     "metadata": {},
     "output_type": "execute_result"
    }
   ],
   "source": [
    "calculate_gc_stats(\n",
    "    multi_df.join(multi_df_with_dist.filter(pl.col(\"min_converted_snp_dist\") <= 50), on=\"read_name\"), \n",
    "    rahbari_sample_ids + sudmant_sample_ids\n",
    ")"
   ]
  },
  {
   "cell_type": "code",
   "execution_count": 41,
   "id": "d52c34bd-434f-442b-a7a8-b685a61c62f9",
   "metadata": {
    "tags": []
   },
   "outputs": [
    {
     "name": "stdout",
     "output_type": "stream",
     "text": [
      "n_GC, n_AT: 138 101\n",
      "GC-bias: 0.5774058577405857\n",
      "CI: (0.512570190394644, 0.6403799988436902)\n"
     ]
    },
    {
     "data": {
      "text/plain": [
       "(0.5774058577405857, (0.512570190394644, 0.6403799988436902))"
      ]
     },
     "execution_count": 41,
     "metadata": {},
     "output_type": "execute_result"
    }
   ],
   "source": [
    "calculate_gc_stats(\n",
    "    (converted_snps_with_seq_df\n",
    "        .filter(pl.col(\"min_snp_diff\") <= 50)\n",
    "    ), \n",
    "    rahbari_sample_ids + sudmant_sample_ids,\n",
    ")"
   ]
  },
  {
   "cell_type": "code",
   "execution_count": 42,
   "id": "83385226-1ee9-49dd-95b8-b42bcdae02df",
   "metadata": {
    "tags": []
   },
   "outputs": [
    {
     "data": {
      "text/plain": [
       "SignificanceResult(statistic=np.float64(1.4873772791023843), pvalue=np.float64(0.13582626083073143))"
      ]
     },
     "execution_count": 42,
     "metadata": {},
     "output_type": "execute_result"
    }
   ],
   "source": [
    "scipy.stats.fisher_exact(\n",
    "    [[63, 31], [138, 101]]\n",
    ")"
   ]
  },
  {
   "cell_type": "code",
   "execution_count": 43,
   "id": "48dc2ff6-7c80-40b2-b784-ad2d576e2275",
   "metadata": {
    "tags": []
   },
   "outputs": [
    {
     "data": {
      "text/plain": [
       "SignificanceResult(statistic=np.float64(1.1338035336264451), pvalue=np.float64(0.39853971577383307))"
      ]
     },
     "execution_count": 43,
     "metadata": {},
     "output_type": "execute_result"
    }
   ],
   "source": [
    "scipy.stats.fisher_exact(\n",
    "    [[1103, 712], [138, 101]]\n",
    ")"
   ]
  },
  {
   "cell_type": "code",
   "execution_count": null,
   "id": "3086f3db-629c-4f08-9f55-904cadc1684c",
   "metadata": {},
   "outputs": [],
   "source": []
  },
  {
   "cell_type": "markdown",
   "id": "7147615e-56a1-4147-9e45-231b376cccb6",
   "metadata": {},
   "source": [
    "## More ranges"
   ]
  },
  {
   "cell_type": "code",
   "execution_count": 44,
   "id": "1123116e-e680-4b8e-9a46-e484f29a9a94",
   "metadata": {
    "tags": []
   },
   "outputs": [
    {
     "name": "stderr",
     "output_type": "stream",
     "text": [
      "  0%|          | 0/6 [00:00<?, ?it/s]"
     ]
    },
    {
     "name": "stdout",
     "output_type": "stream",
     "text": [
      "n_GC, n_AT: 63 31\n",
      "GC-bias: 0.6702127659574468\n",
      "CI: (0.569372042947651, 0.7617899435465761)\n"
     ]
    },
    {
     "name": "stderr",
     "output_type": "stream",
     "text": [
      " 33%|███▎      | 2/6 [00:00<00:00,  6.98it/s]"
     ]
    },
    {
     "name": "stdout",
     "output_type": "stream",
     "text": [
      "n_GC, n_AT: 15 18\n",
      "GC-bias: 0.45454545454545453\n",
      "CI: (0.2845806068291086, 0.6223920429263305)\n",
      "n_GC, n_AT: 20 6\n",
      "GC-bias: 0.7692307692307693\n",
      "CI: (0.5778270380744888, 0.8944035510724829)\n",
      "n_GC, n_AT: 11 12\n",
      "GC-bias: 0.4782608695652174\n",
      "CI: (0.27813098336659164, 0.6764575344328411)\n"
     ]
    },
    {
     "name": "stderr",
     "output_type": "stream",
     "text": [
      " 67%|██████▋   | 4/6 [00:00<00:00,  8.32it/s]"
     ]
    },
    {
     "name": "stdout",
     "output_type": "stream",
     "text": [
      "n_GC, n_AT: 14 11\n",
      "GC-bias: 0.56\n",
      "CI: (0.35744604027751015, 0.7440956754058241)\n"
     ]
    },
    {
     "name": "stderr",
     "output_type": "stream",
     "text": [
      " 83%|████████▎ | 5/6 [00:00<00:00,  7.99it/s]"
     ]
    },
    {
     "name": "stdout",
     "output_type": "stream",
     "text": [
      "n_GC, n_AT: 15 5\n",
      "GC-bias: 0.75\n",
      "CI: (0.5254305550873166, 0.8959191640898639)\n"
     ]
    },
    {
     "name": "stderr",
     "output_type": "stream",
     "text": [
      "100%|██████████| 6/6 [00:00<00:00,  8.28it/s]\n"
     ]
    }
   ],
   "source": [
    "dist_bins = [[0, 50], [50, 100], [100, 200], [200, 500], [500, 1000], [1000, 10000]]\n",
    "\n",
    "biases = []\n",
    "cis = []\n",
    "for h, l in tqdm.tqdm(dist_bins):\n",
    "    b, ci = calculate_gc_stats(\n",
    "        multi_df.join(multi_df_with_dist.filter(pl.col(\"min_converted_snp_dist\").is_between(h, l)), on=\"read_name\"),\n",
    "        rahbari_sample_ids + sudmant_sample_ids,\n",
    "    )\n",
    "    biases.append(b)\n",
    "    cis.append(ci)"
   ]
  },
  {
   "cell_type": "code",
   "execution_count": 45,
   "id": "a1a83718-f650-4a26-a78c-ac15045c19b3",
   "metadata": {
    "tags": []
   },
   "outputs": [
    {
     "data": {
      "image/png": "[encoded data removed]",
      "text/plain": [
       "<Figure size 500x200 with 1 Axes>"
      ]
     },
     "metadata": {},
     "output_type": "display_data"
    }
   ],
   "source": [
    "plt.figure(figsize=(5, 2));\n",
    "\n",
    "plt.errorbar(\n",
    "    x = [x[1] for x in dist_bins],\n",
    "    y = biases,\n",
    "    yerr = np.array([[b-ci[0], ci[1]-b] for b, ci in zip(biases, cis)]).T\n",
    ")\n",
    "\n",
    "plt.xscale(\"log\");\n",
    "plt.xticks(ticks=[x[1] for x in dist_bins], labels=[x[1] for x in dist_bins]);\n",
    "plt.xlabel(\"Distance to closest SNP (bp)\");\n",
    "plt.ylabel(\"gBGC\");\n",
    "plt.axhline(0.6, c=\"black\", ls=\"--\");"
   ]
  },
  {
   "cell_type": "code",
   "execution_count": null,
   "id": "c838c65c-8ff5-4cda-aaf5-4d06e3970483",
   "metadata": {},
   "outputs": [],
   "source": []
  },
  {
   "cell_type": "markdown",
   "id": "3dd276d8-4d8e-4f24-b451-78a41a40dab6",
   "metadata": {},
   "source": [
    "## Motif erosion"
   ]
  },
  {
   "cell_type": "code",
   "execution_count": 46,
   "id": "89b0b8a5-8d96-4a21-8fd1-57de88f2ee62",
   "metadata": {
    "tags": []
   },
   "outputs": [],
   "source": [
    "# from Bio import SeqIO\n",
    "\n",
    "# grch38_path = \"/lustre/scratch126/casm/team154pc/sl17/03.sperm/01.data/07.references/02.grch38/Homo_sapiens_assembly38.fasta\"\n",
    "# grch38_seq = SeqIO.to_dict(SeqIO.parse(grch38_path, \"fasta\"))"
   ]
  },
  {
   "cell_type": "code",
   "execution_count": 13,
   "id": "d026630d-6d8e-4e3e-8e80-86f479ae03ca",
   "metadata": {
    "tags": []
   },
   "outputs": [],
   "source": [
    "import pyreadr\n",
    "\n",
    "AA_motif = pyreadr.read_r('/lustre/scratch122/tol/projects/sperm/data/references/06.hotspots/hinch_2023_AA_motif.R')['pwm']\n",
    "AA_motif.columns = ['A', 'C', 'G', 'T']"
   ]
  },
  {
   "cell_type": "code",
   "execution_count": 14,
   "id": "a9fa3aa7-c3e8-4ee1-8917-3469ba463b7e",
   "metadata": {
    "tags": []
   },
   "outputs": [],
   "source": [
    "def score_motif(sequence, AA_motif=AA_motif):\n",
    "    x = 0\n",
    "    for i, n in enumerate(sequence):\n",
    "        x += np.log(AA_motif[n].iloc[i])\n",
    "    return x"
   ]
  },
  {
   "cell_type": "code",
   "execution_count": 15,
   "id": "e4147869-c0a3-473b-8a34-f4f002b03fa6",
   "metadata": {
    "tags": []
   },
   "outputs": [],
   "source": [
    "def reverse_complement(seq):\n",
    "    complement = str.maketrans(\"ACGTacgt\", \"TGCAtgca\")\n",
    "    return seq.translate(complement)[::-1]"
   ]
  },
  {
   "cell_type": "code",
   "execution_count": 16,
   "id": "0102d0d2-7921-4cd0-8427-dd6fc76d824c",
   "metadata": {
    "tags": []
   },
   "outputs": [
    {
     "name": "stdout",
     "output_type": "stream",
     "text": [
      "CPU times: user 9.92 s, sys: 440 ms, total: 10.4 s\n",
      "Wall time: 9.76 s\n"
     ]
    }
   ],
   "source": [
    "%%time\n",
    "AA_hotspots_df = (\n",
    "    pl.read_csv(\n",
    "        \"/lustre/scratch122/tol/projects/sperm/data/references/06.hotspots/hinch_2023_AA_hotspots.csv\",\n",
    "        infer_schema_length=10000,\n",
    "    )\n",
    "    .rename({\"Chromosome\": \"chrom\", \"Motif_Centre_Pos\": \"AA_motif_center_pos\"})\n",
    "    .select(\"chrom\", \"AA_motif_center_pos\", \"motif\", \"motif_strand\")\n",
    "    .with_columns(\n",
    "        revc_motif = pl.col(\"motif\").map_elements(reverse_complement, return_dtype=pl.String)\n",
    "    )\n",
    "    .with_columns(\n",
    "        aligned_motif = (\n",
    "            pl.when(pl.col(\"motif_strand\") == 1)\n",
    "            .then(pl.col(\"motif\").str.to_uppercase())\n",
    "            .otherwise(pl.col(\"revc_motif\").str.to_uppercase())\n",
    "        )\n",
    "    )\n",
    "    .with_columns(\n",
    "        motif_score = pl.col(\"aligned_motif\").map_elements(score_motif, return_dtype=pl.Float64),\n",
    "    )\n",
    ")"
   ]
  },
  {
   "cell_type": "code",
   "execution_count": 17,
   "id": "60a29f2e-8b5d-4b1f-996a-928d5a5e1aab",
   "metadata": {
    "tags": []
   },
   "outputs": [
    {
     "data": {
      "image/png": "[encoded data removed]",
      "text/plain": [
       "<Figure size 640x480 with 1 Axes>"
      ]
     },
     "metadata": {},
     "output_type": "display_data"
    }
   ],
   "source": [
    "plt.hist([\n",
    "    AA_hotspots_df.filter(pl.col(\"motif_strand\") == 0)[\"motif_score\"], \n",
    "    AA_hotspots_df.filter(pl.col(\"motif_strand\") == 1)[\"motif_score\"], \n",
    "],\n",
    "bins=50);"
   ]
  },
  {
   "cell_type": "code",
   "execution_count": null,
   "id": "e2786464-0865-4421-8530-5dd3d8b03ef2",
   "metadata": {},
   "outputs": [],
   "source": []
  },
  {
   "cell_type": "code",
   "execution_count": 18,
   "id": "c44db3fd-fc86-4357-ad98-c28337d8b5c1",
   "metadata": {
    "tags": []
   },
   "outputs": [],
   "source": [
    "converted_snps_with_seq_and_motifs_df = (NCO_df\n",
    "    .filter(pl.col(\"AA_motif_center_pos\").is_not_null())\n",
    "    .join(AA_hotspots_df, on=[\"chrom\", \"AA_motif_center_pos\"])\n",
    "#    .with_columns(gc_content = pl.col(\"motif\").str.slice(9, 13).str.count_matches(\"[gcGC]\"))\n",
    "    .select(\"read_name\", \"motif_score\", \"AA_motif_center_pos\", \"grch38_reference_start\")\n",
    "    .join(converted_snps_with_seq_df, on=\"read_name\")\n",
    ")"
   ]
  },
  {
   "cell_type": "code",
   "execution_count": 37,
   "id": "1accb6e4-f3e5-4152-801f-4d2b43fac6b9",
   "metadata": {
    "tags": []
   },
   "outputs": [],
   "source": [
    "all_converted_snps_with_seq_and_motifs_df = (NCO_df\n",
    "    .filter(pl.col(\"AA_motif_center_pos\").is_not_null())\n",
    "    .join(AA_hotspots_df, on=[\"chrom\", \"AA_motif_center_pos\"])\n",
    "#    .with_columns(gc_content = pl.col(\"motif\").str.slice(9, 13).str.count_matches(\"[gcGC]\"))\n",
    "    .select(\"read_name\", \"motif_score\", \"AA_motif_center_pos\", \"grch38_reference_start\", \"aligned_motif\")\n",
    "    .join(all_converted_snps_with_seq_df, on=\"read_name\")\n",
    ")"
   ]
  },
  {
   "cell_type": "code",
   "execution_count": 21,
   "id": "fe14dc91-5da9-4c40-bba9-042c2aa5f9c0",
   "metadata": {
    "tags": []
   },
   "outputs": [
    {
     "data": {
      "text/plain": [
       "1129"
      ]
     },
     "execution_count": 21,
     "metadata": {},
     "output_type": "execute_result"
    }
   ],
   "source": [
    "len(all_converted_snps_with_seq_and_motifs_df)"
   ]
  },
  {
   "cell_type": "code",
   "execution_count": null,
   "id": "a63f81ff-5723-4711-ac12-71e117dd2713",
   "metadata": {},
   "outputs": [],
   "source": []
  },
  {
   "cell_type": "code",
   "execution_count": 55,
   "id": "36c11875-ef5f-4318-af13-d50c2dc3dd66",
   "metadata": {
    "tags": []
   },
   "outputs": [
    {
     "name": "stdout",
     "output_type": "stream",
     "text": [
      "n_GC, n_AT: 553 288\n",
      "GC-bias: 0.6575505350772889\n",
      "CI: (0.6243048146303324, 0.6891278936778733)\n"
     ]
    },
    {
     "data": {
      "text/plain": [
       "(0.6575505350772889, (0.6243048146303324, 0.6891278936778733))"
      ]
     },
     "execution_count": 55,
     "metadata": {},
     "output_type": "execute_result"
    }
   ],
   "source": [
    "calculate_gc_stats(\n",
    "    converted_snps_with_seq_and_motifs_df, \n",
    "    rahbari_sample_ids + sudmant_sample_ids,\n",
    ")"
   ]
  },
  {
   "cell_type": "code",
   "execution_count": 56,
   "id": "8b7ec7cb-27e3-4f71-aacb-01fc08e44037",
   "metadata": {
    "tags": []
   },
   "outputs": [
    {
     "name": "stdout",
     "output_type": "stream",
     "text": [
      "n_GC, n_AT: 53 20\n",
      "GC-bias: 0.726027397260274\n",
      "CI: (0.6101697333873247, 0.8164603921289706)\n"
     ]
    },
    {
     "data": {
      "text/plain": [
       "(0.726027397260274, (0.6101697333873247, 0.8164603921289706))"
      ]
     },
     "execution_count": 56,
     "metadata": {},
     "output_type": "execute_result"
    }
   ],
   "source": [
    "calculate_gc_stats(\n",
    "    converted_snps_with_seq_and_motifs_df.filter(pl.col(\"motif_score\") > -30), \n",
    "    rahbari_sample_ids + sudmant_sample_ids,\n",
    ")"
   ]
  },
  {
   "cell_type": "code",
   "execution_count": 57,
   "id": "80de41d6-6f15-4623-bf2f-c8cf5db6a49c",
   "metadata": {
    "tags": []
   },
   "outputs": [
    {
     "name": "stdout",
     "output_type": "stream",
     "text": [
      "n_GC, n_AT: 45 19\n",
      "GC-bias: 0.703125\n",
      "CI: (0.5785716690938164, 0.806682185135023)\n"
     ]
    },
    {
     "data": {
      "text/plain": [
       "(0.703125, (0.5785716690938164, 0.806682185135023))"
      ]
     },
     "execution_count": 57,
     "metadata": {},
     "output_type": "execute_result"
    }
   ],
   "source": [
    "calculate_gc_stats(\n",
    "    converted_snps_with_seq_and_motifs_df.filter(pl.col(\"motif_score\") < -37), \n",
    "    rahbari_sample_ids + sudmant_sample_ids,\n",
    ")"
   ]
  },
  {
   "cell_type": "code",
   "execution_count": null,
   "id": "dcb32e7a-da0c-4b6a-9902-de42d0ea48ea",
   "metadata": {},
   "outputs": [],
   "source": []
  },
  {
   "cell_type": "code",
   "execution_count": 58,
   "id": "7674b975-9f5b-4dea-a327-eed926a1da8e",
   "metadata": {
    "tags": []
   },
   "outputs": [],
   "source": [
    "xdf = (\n",
    "    converted_snps_with_seq_and_motifs_df.select(\n",
    "        \"motif_score\",\n",
    "        pl.when(pl.col(\"fits1_more\") == 1).then(pl.col(\"refseq_start1\")).otherwise(pl.col(\"refseq_start2\")).is_in([\"G\",\"C\"]).cast(int).alias(\"is_gc_converted\")\n",
    "    )\n",
    ")"
   ]
  },
  {
   "cell_type": "code",
   "execution_count": 59,
   "id": "857187f4-d3a8-4219-b69e-3fff9869c6bc",
   "metadata": {
    "tags": []
   },
   "outputs": [
    {
     "data": {
      "image/png": "[encoded data removed]",
      "text/plain": [
       "<Figure size 640x480 with 1 Axes>"
      ]
     },
     "metadata": {},
     "output_type": "display_data"
    }
   ],
   "source": [
    "plt.hist(\n",
    "    [\n",
    "        xdf.filter(pl.col(\"is_gc_converted\")==0)[\"motif_score\"],\n",
    "        xdf.filter(pl.col(\"is_gc_converted\")==1)[\"motif_score\"],\n",
    "    ],\n",
    "    density=True,\n",
    ");\n",
    "\n",
    "plt.legend([\"converted to AT\", \"converted to GC\"]);"
   ]
  },
  {
   "cell_type": "code",
   "execution_count": 60,
   "id": "fb7f17ed-9684-4f1e-aeb6-0d0d8432e441",
   "metadata": {
    "tags": []
   },
   "outputs": [
    {
     "data": {
      "text/plain": [
       "TtestResult(statistic=np.float64(-0.8356067869844752), pvalue=np.float64(0.40358341890334737), df=np.float64(963.0))"
      ]
     },
     "execution_count": 60,
     "metadata": {},
     "output_type": "execute_result"
    }
   ],
   "source": [
    "scipy.stats.ttest_ind(\n",
    "    xdf.filter(pl.col(\"is_gc_converted\")==0)[\"motif_score\"],\n",
    "        xdf.filter(pl.col(\"is_gc_converted\")==1)[\"motif_score\"],\n",
    ")"
   ]
  },
  {
   "cell_type": "code",
   "execution_count": 61,
   "id": "7ed433a1-8b31-47e5-95fc-6c380349a2c5",
   "metadata": {
    "tags": []
   },
   "outputs": [
    {
     "data": {
      "text/plain": [
       "PearsonRResult(statistic=np.float64(0.026917295740640047), pvalue=np.float64(0.4035834189033447))"
      ]
     },
     "execution_count": 61,
     "metadata": {},
     "output_type": "execute_result"
    }
   ],
   "source": [
    "scipy.stats.pearsonr(\n",
    "    xdf[\"motif_score\"],\n",
    "    xdf[\"is_gc_converted\"],    \n",
    ")"
   ]
  },
  {
   "cell_type": "code",
   "execution_count": 62,
   "id": "192d72ed-1fbb-4285-bdc6-ece59fa293c5",
   "metadata": {
    "tags": []
   },
   "outputs": [
    {
     "data": {
      "text/plain": [
       "SignificanceResult(statistic=np.float64(0.028369917324754884), pvalue=np.float64(0.37868013811371504))"
      ]
     },
     "execution_count": 62,
     "metadata": {},
     "output_type": "execute_result"
    }
   ],
   "source": [
    "scipy.stats.spearmanr(\n",
    "    xdf[\"motif_score\"],\n",
    "    xdf[\"is_gc_converted\"],    \n",
    ")"
   ]
  },
  {
   "cell_type": "code",
   "execution_count": null,
   "id": "282fc099-5eb4-4f9a-b3ee-b4b78c8aca1a",
   "metadata": {},
   "outputs": [],
   "source": []
  },
  {
   "cell_type": "markdown",
   "id": "1f4aea3d-e68a-4f5e-9f95-55e33357436b",
   "metadata": {},
   "source": [
    "## Do any converted SNPs actually fall on motifs?"
   ]
  },
  {
   "cell_type": "code",
   "execution_count": 22,
   "id": "3b9f7a54-773a-41e9-bec8-14d63dd1d22d",
   "metadata": {
    "tags": []
   },
   "outputs": [],
   "source": [
    "conversion_in_action_df = (converted_snps_with_seq_and_motifs_df\n",
    "    .filter(\n",
    "        (pl.col(\"grch38_reference_start\") + pl.col(\"start\")).is_between(pl.col(\"AA_motif_center_pos\")-15, pl.col(\"AA_motif_center_pos\")+15)\n",
    "    )\n",
    ")"
   ]
  },
  {
   "cell_type": "code",
   "execution_count": 24,
   "id": "7e1fa6f3-0427-43cd-ba32-413b1607fbd9",
   "metadata": {},
   "outputs": [
    {
     "data": {
      "text/plain": [
       "38"
      ]
     },
     "execution_count": 24,
     "metadata": {},
     "output_type": "execute_result"
    }
   ],
   "source": [
    "len(conversion_in_action_df)"
   ]
  },
  {
   "cell_type": "code",
   "execution_count": 64,
   "id": "ad5c0eb6-b0b6-4e83-a7d7-6ba8d317c410",
   "metadata": {
    "tags": []
   },
   "outputs": [
    {
     "data": {
      "text/html": [
       "<div><style>\n",
       ".dataframe > thead > tr,\n",
       ".dataframe > tbody > tr {\n",
       "  text-align: right;\n",
       "  white-space: pre-wrap;\n",
       "}\n",
       "</style>\n",
       "<small>shape: (5, 13)</small><table border=\"1\" class=\"dataframe\"><thead><tr><th>read_name</th><th>motif_score</th><th>AA_motif_center_pos</th><th>grch38_reference_start</th><th>sample_id</th><th>chrom</th><th>start</th><th>has_AA_DSB</th><th>snp_positions_on_read</th><th>refseq_start1</th><th>refseq_start2</th><th>fits1_more</th><th>min_snp_diff</th></tr><tr><td>str</td><td>f64</td><td>i64</td><td>i64</td><td>str</td><td>str</td><td>i64</td><td>bool</td><td>list[i64]</td><td>str</td><td>str</td><td>i32</td><td>i64</td></tr></thead><tbody><tr><td>&quot;m54329U_230211_064937/113052251/ccs&quot;</td><td>-33.662848</td><td>138651311</td><td>138650830</td><td>&quot;NA12878&quot;</td><td>&quot;chr5&quot;</td><td>2495</td><td>true</td><td>[1358,&nbsp;2419,&nbsp;…&nbsp;21957]</td><td>&quot;C&quot;</td><td>&quot;T&quot;</td><td>1</td><td>76</td></tr><tr><td>&quot;m54329U_230311_094504/148244794/ccs&quot;</td><td>-35.491666</td><td>162145629</td><td>162128694</td><td>&quot;NA12889&quot;</td><td>&quot;chr6&quot;</td><td>13384</td><td>true</td><td>[1122,&nbsp;2190,&nbsp;…&nbsp;21634]</td><td>&quot;T&quot;</td><td>&quot;G&quot;</td><td>1</td><td>766</td></tr><tr><td>&quot;m54329U_230311_094504/159975706/ccs&quot;</td><td>-32.352899</td><td>19743834</td><td>19740281</td><td>&quot;NA12889&quot;</td><td>&quot;chr22&quot;</td><td>11496</td><td>true</td><td>[6013,&nbsp;9808,&nbsp;…&nbsp;12014]</td><td>&quot;G&quot;</td><td>&quot;A&quot;</td><td>1</td><td>518</td></tr><tr><td>&quot;m54329U_230311_094504/3148526/ccs&quot;</td><td>-33.925986</td><td>8736044</td><td>8716360</td><td>&quot;NA12889&quot;</td><td>&quot;chr16&quot;</td><td>11618</td><td>true</td><td>[1769,&nbsp;2444,&nbsp;…&nbsp;19713]</td><td>&quot;G&quot;</td><td>&quot;A&quot;</td><td>1</td><td>115</td></tr><tr><td>&quot;m54329U_230311_094504/65470870/ccs&quot;</td><td>-30.791903</td><td>19989902</td><td>19987059</td><td>&quot;NA12889&quot;</td><td>&quot;chr15&quot;</td><td>9093</td><td>true</td><td>[638,&nbsp;946,&nbsp;…&nbsp;17053]</td><td>&quot;A&quot;</td><td>&quot;G&quot;</td><td>0</td><td>4358</td></tr></tbody></table></div>"
      ],
      "text/plain": [
       "shape: (5, 13)\n",
       "┌───────────┬───────────┬───────────┬───────────┬───┬───────────┬───────────┬───────────┬──────────┐\n",
       "│ read_name ┆ motif_sco ┆ AA_motif_ ┆ grch38_re ┆ … ┆ refseq_st ┆ refseq_st ┆ fits1_mor ┆ min_snp_ │\n",
       "│ ---       ┆ re        ┆ center_po ┆ ference_s ┆   ┆ art1      ┆ art2      ┆ e         ┆ diff     │\n",
       "│ str       ┆ ---       ┆ s         ┆ tart      ┆   ┆ ---       ┆ ---       ┆ ---       ┆ ---      │\n",
       "│           ┆ f64       ┆ ---       ┆ ---       ┆   ┆ str       ┆ str       ┆ i32       ┆ i64      │\n",
       "│           ┆           ┆ i64       ┆ i64       ┆   ┆           ┆           ┆           ┆          │\n",
       "╞═══════════╪═══════════╪═══════════╪═══════════╪═══╪═══════════╪═══════════╪═══════════╪══════════╡\n",
       "│ m54329U_2 ┆ -33.66284 ┆ 138651311 ┆ 138650830 ┆ … ┆ C         ┆ T         ┆ 1         ┆ 76       │\n",
       "│ 30211_064 ┆ 8         ┆           ┆           ┆   ┆           ┆           ┆           ┆          │\n",
       "│ 937/11305 ┆           ┆           ┆           ┆   ┆           ┆           ┆           ┆          │\n",
       "│ 2251/ccs  ┆           ┆           ┆           ┆   ┆           ┆           ┆           ┆          │\n",
       "│ m54329U_2 ┆ -35.49166 ┆ 162145629 ┆ 162128694 ┆ … ┆ T         ┆ G         ┆ 1         ┆ 766      │\n",
       "│ 30311_094 ┆ 6         ┆           ┆           ┆   ┆           ┆           ┆           ┆          │\n",
       "│ 504/14824 ┆           ┆           ┆           ┆   ┆           ┆           ┆           ┆          │\n",
       "│ 4794/ccs  ┆           ┆           ┆           ┆   ┆           ┆           ┆           ┆          │\n",
       "│ m54329U_2 ┆ -32.35289 ┆ 19743834  ┆ 19740281  ┆ … ┆ G         ┆ A         ┆ 1         ┆ 518      │\n",
       "│ 30311_094 ┆ 9         ┆           ┆           ┆   ┆           ┆           ┆           ┆          │\n",
       "│ 504/15997 ┆           ┆           ┆           ┆   ┆           ┆           ┆           ┆          │\n",
       "│ 5706/ccs  ┆           ┆           ┆           ┆   ┆           ┆           ┆           ┆          │\n",
       "│ m54329U_2 ┆ -33.92598 ┆ 8736044   ┆ 8716360   ┆ … ┆ G         ┆ A         ┆ 1         ┆ 115      │\n",
       "│ 30311_094 ┆ 6         ┆           ┆           ┆   ┆           ┆           ┆           ┆          │\n",
       "│ 504/31485 ┆           ┆           ┆           ┆   ┆           ┆           ┆           ┆          │\n",
       "│ 26/ccs    ┆           ┆           ┆           ┆   ┆           ┆           ┆           ┆          │\n",
       "│ m54329U_2 ┆ -30.79190 ┆ 19989902  ┆ 19987059  ┆ … ┆ A         ┆ G         ┆ 0         ┆ 4358     │\n",
       "│ 30311_094 ┆ 3         ┆           ┆           ┆   ┆           ┆           ┆           ┆          │\n",
       "│ 504/65470 ┆           ┆           ┆           ┆   ┆           ┆           ┆           ┆          │\n",
       "│ 870/ccs   ┆           ┆           ┆           ┆   ┆           ┆           ┆           ┆          │\n",
       "└───────────┴───────────┴───────────┴───────────┴───┴───────────┴───────────┴───────────┴──────────┘"
      ]
     },
     "execution_count": 64,
     "metadata": {},
     "output_type": "execute_result"
    }
   ],
   "source": [
    "converted_snps_with_seq_and_motifs_df.head()"
   ]
  },
  {
   "cell_type": "code",
   "execution_count": 65,
   "id": "6097f37f-f87c-4646-ae6d-7f848761599a",
   "metadata": {
    "tags": []
   },
   "outputs": [
    {
     "name": "stderr",
     "output_type": "stream",
     "text": [
      "56it [00:00, 137921.92it/s]\n",
      "12it [00:00, 81707.22it/s]\n",
      "52it [00:00, 139541.78it/s]"
     ]
    },
    {
     "name": "stdout",
     "output_type": "stream",
     "text": [
      "CPU times: user 12.5 ms, sys: 4.97 ms, total: 17.4 ms\n",
      "Wall time: 5.43 ms\n"
     ]
    },
    {
     "name": "stderr",
     "output_type": "stream",
     "text": [
      "\n"
     ]
    }
   ],
   "source": [
    "%%time\n",
    "aln_filenames = (\n",
    "    [\n",
    "        (\n",
    "            f\"/lustre/scratch122/tol/projects/sperm/results/Rahbari_20250212/alignments/{sample_set}/{sample_id}/{flow_cell}/{chrom}/grch38_variants_on_reads_at_mid_quality_events.parquet\"\n",
    "        ) \n",
    "        for sample_id, sample_set, flow_cell in tqdm.tqdm(rahbari_df.select(\"sample_id\", \"sample_set\", \"flow_cell\").unique().iter_rows())\n",
    "        for chrom in aut_chrom_names\n",
    "    ] + \\\n",
    "    [\n",
    "        (\n",
    "            f\"/lustre/scratch122/tol/projects/sperm/results/Sudmant_20241121/alignments/{sample_set}/{sample_id}/{flow_cell}/{chrom}/grch38_variants_on_reads_at_mid_quality_events.parquet\"\n",
    "        ) \n",
    "        for sample_id, sample_set, flow_cell in tqdm.tqdm(sudmant_df.select(\"sample_id\", \"sample_set\", \"flow_cell\").unique().iter_rows())\n",
    "        for chrom in aut_chrom_names\n",
    "    ] + \\\n",
    "    [\n",
    "        (\n",
    "            f\"/lustre/scratch122/tol/projects/sperm/results/CEPH_20250212/alignments/{sample_set}/{sample_id}/{flow_cell}/{chrom}/grch38_variants_on_reads_at_mid_quality_events.parquet\"\n",
    "        ) \n",
    "        for sample_id, sample_set, flow_cell in tqdm.tqdm(ceph_df.select(\"sample_id\", \"sample_set\", \"flow_cell\").unique().iter_rows())\n",
    "        for chrom in aut_chrom_names\n",
    "    ]\n",
    ")"
   ]
  },
  {
   "cell_type": "code",
   "execution_count": 66,
   "id": "a761b956-999a-43fc-a843-661d7e99ba4d",
   "metadata": {
    "tags": []
   },
   "outputs": [
    {
     "data": {
      "text/html": [
       "<div><style>\n",
       ".dataframe > thead > tr,\n",
       ".dataframe > tbody > tr {\n",
       "  text-align: right;\n",
       "  white-space: pre-wrap;\n",
       "}\n",
       "</style>\n",
       "<small>shape: (0, 4)</small><table border=\"1\" class=\"dataframe\"><thead><tr><th>read_name</th><th>start</th><th>ref_start</th><th>ref_seq</th></tr><tr><td>str</td><td>i64</td><td>i64</td><td>str</td></tr></thead><tbody></tbody></table></div>"
      ],
      "text/plain": [
       "shape: (0, 4)\n",
       "┌───────────┬───────┬───────────┬─────────┐\n",
       "│ read_name ┆ start ┆ ref_start ┆ ref_seq │\n",
       "│ ---       ┆ ---   ┆ ---       ┆ ---     │\n",
       "│ str       ┆ i64   ┆ i64       ┆ str     │\n",
       "╞═══════════╪═══════╪═══════════╪═════════╡\n",
       "└───────────┴───────┴───────────┴─────────┘"
      ]
     },
     "execution_count": 66,
     "metadata": {},
     "output_type": "execute_result"
    }
   ],
   "source": [
    "(\n",
    "    pl.scan_parquet(\n",
    "        aln_filenames[0]\n",
    "    )\n",
    "    .join(\n",
    "        converted_snps_with_seq_and_motifs_df.select(\"read_name\", \"start\").lazy(),\n",
    "        on=[\"read_name\", \"start\"],\n",
    "    )\n",
    "    .head()\n",
    "    .collect()\n",
    ")"
   ]
  },
  {
   "cell_type": "code",
   "execution_count": null,
   "id": "abc7ed37-29c8-468b-a442-70d24aa6d1be",
   "metadata": {},
   "outputs": [],
   "source": []
  },
  {
   "cell_type": "code",
   "execution_count": null,
   "id": "90c807ab-b617-4ef0-b7d6-c8c92a9258af",
   "metadata": {},
   "outputs": [],
   "source": []
  },
  {
   "cell_type": "code",
   "execution_count": 67,
   "id": "1ce29174-c3de-4919-b774-2154dc4949fd",
   "metadata": {
    "tags": []
   },
   "outputs": [
    {
     "data": {
      "text/plain": [
       "38"
      ]
     },
     "execution_count": 67,
     "metadata": {},
     "output_type": "execute_result"
    }
   ],
   "source": [
    "len(conversion_in_action_df)"
   ]
  },
  {
   "cell_type": "code",
   "execution_count": 68,
   "id": "734a1077-2001-4c8c-aa98-4fd0c42c3123",
   "metadata": {
    "tags": []
   },
   "outputs": [
    {
     "name": "stdout",
     "output_type": "stream",
     "text": [
      "n_GC, n_AT: 24 14\n",
      "GC-bias: 0.631578947368421\n",
      "CI: (0.46529759938454796, 0.7738602284097615)\n"
     ]
    },
    {
     "data": {
      "text/plain": [
       "(0.631578947368421, (0.46529759938454796, 0.7738602284097615))"
      ]
     },
     "execution_count": 68,
     "metadata": {},
     "output_type": "execute_result"
    }
   ],
   "source": [
    "calculate_gc_stats(\n",
    "    conversion_in_action_df,\n",
    "    rahbari_sample_ids + sudmant_sample_ids,\n",
    ")"
   ]
  },
  {
   "cell_type": "code",
   "execution_count": null,
   "id": "c533881d-daad-49c4-b646-b9f33e6c8b0b",
   "metadata": {},
   "outputs": [],
   "source": []
  },
  {
   "cell_type": "code",
   "execution_count": null,
   "id": "a82e5126-6fb8-4168-a355-d5b9509d7d14",
   "metadata": {},
   "outputs": [],
   "source": []
  },
  {
   "cell_type": "code",
   "execution_count": null,
   "id": "c61b32fe-1f69-4471-a4e4-7c339d6b753f",
   "metadata": {},
   "outputs": [],
   "source": []
  },
  {
   "cell_type": "markdown",
   "id": "444bbfde-1da0-49bb-bf90-f86b637736bd",
   "metadata": {},
   "source": [
    "## Break conversion by all options"
   ]
  },
  {
   "cell_type": "code",
   "execution_count": 193,
   "id": "c6b53f10-1ff7-4c75-bdf9-ac502f4c0ecb",
   "metadata": {
    "tags": []
   },
   "outputs": [],
   "source": [
    "ydf = (all_converted_snps_with_seq_df\n",
    "    .drop_nulls()\n",
    "    .filter(pl.col(\"sample_id\").is_in(rahbari_sample_ids + sudmant_sample_ids))\n",
    "    .with_columns(\n",
    "        seq_from = pl.when(pl.col(\"fits1_more\") != 1).then(pl.col(\"refseq_start1\")).otherwise(pl.col(\"refseq_start2\")),\n",
    "        seq_to   = pl.when(pl.col(\"fits1_more\") == 1).then(pl.col(\"refseq_start1\")).otherwise(pl.col(\"refseq_start2\")),\n",
    "    )\n",
    "    .group_by(\"seq_from\", \"seq_to\")\n",
    "    .len()\n",
    "    .sort(\"seq_from\", \"seq_to\")\n",
    ")"
   ]
  },
  {
   "cell_type": "code",
   "execution_count": 194,
   "id": "0d35c2a1-2bdb-4208-a6ed-64fccca0044f",
   "metadata": {
    "tags": []
   },
   "outputs": [],
   "source": [
    "yd = {(x+y):n for x,y,n in ydf.rows()}"
   ]
  },
  {
   "cell_type": "code",
   "execution_count": 195,
   "id": "8157b6a4-4844-4840-aa84-632899c39500",
   "metadata": {
    "tags": []
   },
   "outputs": [
    {
     "data": {
      "text/plain": [
       "{'AC': 117,\n",
       " 'AG': 463,\n",
       " 'AT': 46,\n",
       " 'CA': 85,\n",
       " 'CG': 83,\n",
       " 'CT': 270,\n",
       " 'GA': 275,\n",
       " 'GC': 82,\n",
       " 'GT': 82,\n",
       " 'TA': 73,\n",
       " 'TC': 413,\n",
       " 'TG': 110}"
      ]
     },
     "execution_count": 195,
     "metadata": {},
     "output_type": "execute_result"
    }
   ],
   "source": [
    "yd"
   ]
  },
  {
   "cell_type": "markdown",
   "id": "aedd9ad5-8fd5-4b8e-986a-9a1bbee47179",
   "metadata": {},
   "source": [
    "### Same order as in Li et al"
   ]
  },
  {
   "cell_type": "code",
   "execution_count": 196,
   "id": "0dc92269-c1d2-4078-a4c4-5fcc8e732dfe",
   "metadata": {
    "tags": []
   },
   "outputs": [
    {
     "data": {
      "text/plain": [
       "[167, 545, 165, 227, 876, 119]"
      ]
     },
     "execution_count": 196,
     "metadata": {},
     "output_type": "execute_result"
    }
   ],
   "source": [
    "[\n",
    "    yd[\"CA\"]+yd[\"GT\"],\n",
    "    yd[\"GA\"]+yd[\"CT\"],\n",
    "    yd[\"GC\"]+yd[\"CG\"],\n",
    "    yd[\"AC\"]+yd[\"TG\"],\n",
    "    yd[\"AG\"]+yd[\"TC\"],\n",
    "    yd[\"TA\"]+yd[\"AT\"],\n",
    "]"
   ]
  },
  {
   "cell_type": "markdown",
   "id": "5ef952e5-7451-4e1a-96d4-6a5f2f0838f4",
   "metadata": {},
   "source": [
    "### What to normalize against?"
   ]
  },
  {
   "cell_type": "code",
   "execution_count": 149,
   "id": "54160bc8-6c3f-499e-8a5c-5efc80617de4",
   "metadata": {
    "tags": []
   },
   "outputs": [
    {
     "name": "stdout",
     "output_type": "stream",
     "text": [
      "CPU times: user 209 μs, sys: 4.5 ms, total: 4.71 ms\n",
      "Wall time: 2.32 ms\n"
     ]
    }
   ],
   "source": [
    "%%time\n",
    "all_snps_df = (NCO_df\n",
    "    .select(\n",
    "        \"sample_id\",\n",
    "        \"chrom\",\n",
    "        \"read_name\",\n",
    "        \"snp_positions_on_read\",\n",
    "    )\n",
    "    .explode(\"snp_positions_on_read\")\n",
    "    .rename({\"snp_positions_on_read\": \"start\"})\n",
    ")"
   ]
  },
  {
   "cell_type": "code",
   "execution_count": 150,
   "id": "cc1dd669-8ecb-4b6b-8805-617fdf000da5",
   "metadata": {
    "tags": []
   },
   "outputs": [
    {
     "name": "stderr",
     "output_type": "stream",
     "text": [
      "[Parallel(n_jobs=-1)]: Using backend LokyBackend with 16 concurrent workers.\n",
      "/nfs/users/nfs_r/rs42/rs42/miniforge3/envs/sperm/lib/python3.11/site-packages/joblib/externals/loky/backend/fork_exec.py:38: RuntimeWarning: Using fork() can cause Polars to deadlock in the child process.\n",
      "In addition, using fork() with Python in general is a recipe for mysterious\n",
      "deadlocks and crashes.\n",
      "\n",
      "The most likely reason you are seeing this error is because you are using the\n",
      "multiprocessing module on Linux, which uses fork() by default. This will be\n",
      "fixed in Python 3.14. Until then, you want to use the \"spawn\" context instead.\n",
      "\n",
      "See https://docs.pola.rs/user-guide/misc/multiprocessing/ for details.\n",
      "\n",
      "  pid = os.fork()\n",
      "[Parallel(n_jobs=-1)]: Done   1 out of   1 | elapsed:    6.3s finished\n",
      "[Parallel(n_jobs=-1)]: Done  19 tasks      | elapsed:    7.3s\n",
      "/nfs/users/nfs_r/rs42/rs42/miniforge3/envs/sperm/lib/python3.11/site-packages/joblib/externals/loky/process_executor.py:752: UserWarning: A worker stopped while some jobs were given to the executor. This can be caused by a too short worker timeout or by a memory leak.\n",
      "  warnings.warn(\n",
      "[Parallel(n_jobs=-1)]: Done 169 tasks      | elapsed:   17.2s\n",
      "[Parallel(n_jobs=-1)]: Done 419 tasks      | elapsed:   39.1s\n",
      "[Parallel(n_jobs=-1)]: Done 769 tasks      | elapsed:  1.2min\n",
      "[Parallel(n_jobs=-1)]: Done 1219 tasks      | elapsed:  1.7min\n",
      "[Parallel(n_jobs=-1)]: Done 1769 tasks      | elapsed:  2.7min\n",
      "[Parallel(n_jobs=-1)]: Done 2419 tasks      | elapsed:  3.4min\n",
      "[Parallel(n_jobs=-1)]: Done 2640 out of 2640 | elapsed:  3.5min finished\n"
     ]
    }
   ],
   "source": [
    "def F(filename):\n",
    "    high_conf_snps_df = pl.scan_parquet(filename)\n",
    "    \n",
    "    df = (all_snps_df\n",
    "            .lazy()\n",
    "            .join(\n",
    "                (high_conf_snps_df\n",
    "                    .select(\n",
    "                        \"read_name\",\n",
    "                        \"start\",\n",
    "                        \"refseq_start1\",\n",
    "                        \"refseq_start2\",    \n",
    "                        \"fits1_more\",\n",
    "                    )\n",
    "                ),\n",
    "                on=[\"read_name\", \"start\"],\n",
    "            )\n",
    "        ).collect()\n",
    "    \n",
    "    return df\n",
    "\n",
    "dfs = joblib.Parallel(n_jobs=-1, verbose=1)(\n",
    "    joblib.delayed(F)(filename) for filename in filenames\n",
    ")\n",
    "        "
   ]
  },
  {
   "cell_type": "code",
   "execution_count": 151,
   "id": "3c255a98-2ef5-4645-8ba0-58dde8fba431",
   "metadata": {
    "tags": []
   },
   "outputs": [],
   "source": [
    "all_snps_with_seq_df = pl.concat(dfs)"
   ]
  },
  {
   "cell_type": "code",
   "execution_count": 152,
   "id": "27ece3c5-1162-489e-a442-4539dbeca299",
   "metadata": {
    "tags": []
   },
   "outputs": [
    {
     "data": {
      "text/plain": [
       "49356"
      ]
     },
     "execution_count": 152,
     "metadata": {},
     "output_type": "execute_result"
    }
   ],
   "source": [
    "len(all_snps_with_seq_df)"
   ]
  },
  {
   "cell_type": "code",
   "execution_count": 154,
   "id": "184bcad9-9d28-4131-9c4e-34de6a92366c",
   "metadata": {
    "tags": []
   },
   "outputs": [],
   "source": [
    "closest_snp_to_converted_with_seq_df = (all_snps_with_seq_df\n",
    "    .drop_nulls()\n",
    "    .rename({\"start\": \"other_snp\"})\n",
    "    .join(all_converted_snps_with_seq_df.drop_nulls(), on=\"read_name\")\n",
    "    .with_columns(\n",
    "        diff_to_converted_snp = (pl.col(\"start\") - pl.col(\"other_snp\")).abs()\n",
    "    )\n",
    "    .filter(pl.col(\"diff_to_converted_snp\") > 0)\n",
    "    .sort(\"read_name\", \"diff_to_converted_snp\")\n",
    "    .group_by(\"read_name\", maintain_order=True)\n",
    "    .first()\n",
    ")"
   ]
  },
  {
   "cell_type": "code",
   "execution_count": 197,
   "id": "b523477e-5878-4063-971c-285324075988",
   "metadata": {
    "tags": []
   },
   "outputs": [],
   "source": [
    "zdf = (closest_snp_to_converted_with_seq_df\n",
    "    .filter(pl.col(\"sample_id\").is_in(rahbari_sample_ids + sudmant_sample_ids))\n",
    "    .drop_nulls()\n",
    "    .with_columns(\n",
    "        seq_from = pl.when(pl.col(\"fits1_more\") != 1).then(pl.col(\"refseq_start1\")).otherwise(pl.col(\"refseq_start2\")),\n",
    "        seq_to   = pl.when(pl.col(\"fits1_more\") == 1).then(pl.col(\"refseq_start1\")).otherwise(pl.col(\"refseq_start2\")),\n",
    "    )\n",
    "    .group_by(\"seq_from\", \"seq_to\")\n",
    "    .len()\n",
    "    .sort(\"seq_from\", \"seq_to\")\n",
    ")"
   ]
  },
  {
   "cell_type": "code",
   "execution_count": 198,
   "id": "ce381376-d972-4494-97ae-5b5e2ff13806",
   "metadata": {
    "tags": []
   },
   "outputs": [],
   "source": [
    "zd = {(x+y):n for x,y,n in zdf.rows()}"
   ]
  },
  {
   "cell_type": "code",
   "execution_count": null,
   "id": "86a0127c-f254-47fd-ae2d-bea6c37f0994",
   "metadata": {},
   "outputs": [],
   "source": []
  },
  {
   "cell_type": "code",
   "execution_count": 199,
   "id": "08a7d8a8-24c8-479e-8142-2e02247aeb1b",
   "metadata": {
    "tags": []
   },
   "outputs": [],
   "source": [
    "counts_at_converted_per_pair = np.array([\n",
    "    yd[\"CA\"]+yd[\"GT\"],\n",
    "    yd[\"GA\"]+yd[\"CT\"],\n",
    "    yd[\"GC\"]+yd[\"CG\"],\n",
    "    yd[\"AC\"]+yd[\"TG\"],\n",
    "    yd[\"AG\"]+yd[\"TC\"],\n",
    "    yd[\"TA\"]+yd[\"AT\"],\n",
    "])\n",
    "\n",
    "counts_near_converted_per_pair = np.array([\n",
    "    zd[\"CA\"]+zd[\"GT\"],\n",
    "    zd[\"GA\"]+zd[\"CT\"],\n",
    "    zd[\"GC\"]+zd[\"CG\"],\n",
    "    zd[\"AC\"]+zd[\"TG\"],\n",
    "    zd[\"AG\"]+zd[\"TC\"],\n",
    "    zd[\"TA\"]+zd[\"AT\"],\n",
    "])"
   ]
  },
  {
   "cell_type": "code",
   "execution_count": 200,
   "id": "e8cc8ef5-b283-475c-91ec-cf28e4320bd2",
   "metadata": {
    "tags": []
   },
   "outputs": [
    {
     "data": {
      "text/plain": [
       "array([167, 545, 165, 227, 876, 119])"
      ]
     },
     "execution_count": 200,
     "metadata": {},
     "output_type": "execute_result"
    }
   ],
   "source": [
    "counts_at_converted_per_pair"
   ]
  },
  {
   "cell_type": "code",
   "execution_count": 201,
   "id": "fe324467-f1e1-44fc-a893-e80f14af8838",
   "metadata": {
    "tags": []
   },
   "outputs": [],
   "source": [
    "counts_at_converted_per_pair_cis = np.array([\n",
    "    statsmodels.stats.proportion.proportion_confint(x, np.sum(counts_at_converted_per_pair), method=\"binom_test\")\n",
    "    for x in counts_at_converted_per_pair\n",
    "])"
   ]
  },
  {
   "cell_type": "code",
   "execution_count": 202,
   "id": "940c340b-159b-46f2-9e9e-4b38d822edba",
   "metadata": {
    "tags": []
   },
   "outputs": [
    {
     "data": {
      "text/plain": [
       "array([[0.06853899, 0.09189276],\n",
       "       [0.24127015, 0.27891127],\n",
       "       [0.06758244, 0.09093742],\n",
       "       [0.09546541, 0.122149  ],\n",
       "       [0.39636516, 0.43877145],\n",
       "       [0.04733004, 0.06768696]])"
      ]
     },
     "execution_count": 202,
     "metadata": {},
     "output_type": "execute_result"
    }
   ],
   "source": [
    "counts_at_converted_per_pair_cis"
   ]
  },
  {
   "cell_type": "code",
   "execution_count": 203,
   "id": "c5066b2e-2a02-4a25-a9b8-b0ea13239ead",
   "metadata": {
    "tags": []
   },
   "outputs": [
    {
     "data": {
      "text/plain": [
       "array([160, 641, 169, 135, 739,  94])"
      ]
     },
     "execution_count": 203,
     "metadata": {},
     "output_type": "execute_result"
    }
   ],
   "source": [
    "counts_near_converted_per_pair"
   ]
  },
  {
   "cell_type": "code",
   "execution_count": 204,
   "id": "66de822b-98ec-46ba-8f8f-2f27419f1753",
   "metadata": {
    "tags": []
   },
   "outputs": [],
   "source": [
    "counts_near_converted_per_pair_cis = np.array([\n",
    "    statsmodels.stats.proportion.proportion_confint(x, np.sum(counts_near_converted_per_pair), method=\"binom_test\")\n",
    "    for x in counts_near_converted_per_pair\n",
    "])"
   ]
  },
  {
   "cell_type": "code",
   "execution_count": 205,
   "id": "f99b0f7a-89f4-4cb0-bef5-dcbc6ea9809c",
   "metadata": {
    "tags": []
   },
   "outputs": [
    {
     "data": {
      "text/plain": [
       "array([[0.07087788, 0.09565602],\n",
       "       [0.31008546, 0.35214442],\n",
       "       [0.07526789, 0.10056026],\n",
       "       [0.05901263, 0.08207647],\n",
       "       [0.35988646, 0.40323625],\n",
       "       [0.03965876, 0.05901263]])"
      ]
     },
     "execution_count": 205,
     "metadata": {},
     "output_type": "execute_result"
    }
   ],
   "source": [
    "counts_near_converted_per_pair_cis"
   ]
  },
  {
   "cell_type": "code",
   "execution_count": 206,
   "id": "64f1c021-c69d-485b-9501-663da50a049c",
   "metadata": {
    "tags": []
   },
   "outputs": [],
   "source": [
    "total_cis = np.array([\n",
    "    [min([xl/el, xl/eh, xh/el, xh/eh]), max([xl/el, xl/eh, xh/el, xh/eh])]\n",
    "    for (xl,xh), (el,eh) in zip(counts_at_converted_per_pair_cis, counts_near_converted_per_pair_cis)\n",
    "])"
   ]
  },
  {
   "cell_type": "code",
   "execution_count": 207,
   "id": "a070180d-76b1-456d-99fa-a909daadfa3e",
   "metadata": {
    "tags": []
   },
   "outputs": [
    {
     "data": {
      "text/plain": [
       "array([[0.71651514, 1.29649409],\n",
       "       [0.68514545, 0.8994658 ],\n",
       "       [0.67205914, 1.20818342],\n",
       "       [1.16312768, 2.06987887],\n",
       "       [0.98296015, 1.21919411],\n",
       "       [0.8020324 , 1.70673389]])"
      ]
     },
     "execution_count": 207,
     "metadata": {},
     "output_type": "execute_result"
    }
   ],
   "source": [
    "total_cis"
   ]
  },
  {
   "cell_type": "code",
   "execution_count": null,
   "id": "ec171ca6-47ef-4374-8c4d-924c3abe093e",
   "metadata": {},
   "outputs": [],
   "source": []
  },
  {
   "cell_type": "code",
   "execution_count": 208,
   "id": "32749807-078a-425c-a581-189c3de2adef",
   "metadata": {
    "tags": []
   },
   "outputs": [
    {
     "data": {
      "image/png": "[encoded data removed]",
      "text/plain": [
       "<Figure size 900x400 with 1 Axes>"
      ]
     },
     "metadata": {},
     "output_type": "display_data"
    }
   ],
   "source": [
    "rel_props = np.array(counts_at_converted_per_pair) / np.array(counts_near_converted_per_pair)\n",
    "yerr = np.array([[h - low, high - h] for h, (low, high) in zip(rel_props, total_cis)]).T\n",
    "\n",
    "fig, ax = plt.subplots(figsize=(9, 4))\n",
    "ax.bar(\n",
    "    x = np.arange(6), \n",
    "    height = rel_props,\n",
    "    yerr = yerr,\n",
    ")\n",
    "\n",
    "ax.axhline(1, color=\"black\", ls=\"--\", lw=0.7);\n",
    "ax.set_xticks(\n",
    "    ticks = np.arange(6),\n",
    "    labels = [\n",
    "        \"C to A\\nor G to T\", \n",
    "        \"G to A\\nor C to T\", \n",
    "        \"G to C\\nor C to G\", \n",
    "        \"A to C\\nor T to G\", \n",
    "        \"A to G\\nor T to C\", \n",
    "        \"T to A\\nor A to T\",\n",
    "    ]\n",
    ");\n",
    "ax.set_ylabel(\"Relative proportion\");"
   ]
  },
  {
   "cell_type": "code",
   "execution_count": null,
   "id": "b0fb3848-7fd7-47ef-a53a-ee63b192e956",
   "metadata": {},
   "outputs": [],
   "source": []
  },
  {
   "cell_type": "markdown",
   "id": "79f79205-d85f-49ec-ba01-8baf3fc78934",
   "metadata": {},
   "source": [
    "## MP2: Near centromeres?"
   ]
  },
  {
   "cell_type": "code",
   "execution_count": 32,
   "id": "4f97fc2d-0dc2-460e-935c-8ba1437215ad",
   "metadata": {
    "tags": []
   },
   "outputs": [],
   "source": [
    "cyto_T2T_df = pl.read_csv(\n",
    "    \"http://t2t.gi.ucsc.edu/chm13/hub/t2t-chm13-v2.0/download/chm13v2.0_cytobands_allchrs.bed.gz\",\n",
    "    separator='\\t',\n",
    "    new_columns=[\"chrom\", \"cyto_start\", \"cyto_end\", \"cyto_name\", \"type\"],\n",
    "    has_header=False,\n",
    ")"
   ]
  },
  {
   "cell_type": "code",
   "execution_count": 33,
   "id": "80dbb8ea-fd53-4ac2-a2cf-17830a1f7389",
   "metadata": {
    "tags": []
   },
   "outputs": [],
   "source": [
    "cent_df = cyto_T2T_df.filter(pl.col(\"type\") == \"acen\")"
   ]
  },
  {
   "cell_type": "code",
   "execution_count": 37,
   "id": "a00509ba-c58f-462e-bf89-e1a336a4fc7a",
   "metadata": {
    "tags": []
   },
   "outputs": [],
   "source": [
    "dist_df = (NCO_df\n",
    "    .join(cent_df, on=\"chrom\")\n",
    "    .with_columns(\n",
    "        dist_to_cent = pl.min_horizontal(\n",
    "            (pl.col(\"T2T_reference_start\") - pl.col(\"cyto_start\")).abs(),\n",
    "            (pl.col(\"T2T_reference_start\") - pl.col(\"cyto_end\")).abs(),\n",
    "        )\n",
    "    )\n",
    "    .select(\"chrom\", \"read_name\", \"dist_to_cent\")\n",
    "    .group_by(\"chrom\", \"read_name\")\n",
    "    .agg(pl.col(\"dist_to_cent\").min())\n",
    ")"
   ]
  },
  {
   "cell_type": "code",
   "execution_count": 80,
   "id": "1865745d-aaec-4626-873b-f76156d60df9",
   "metadata": {
    "tags": []
   },
   "outputs": [
    {
     "data": {
      "text/html": [
       "<div><style>\n",
       ".dataframe > thead > tr,\n",
       ".dataframe > tbody > tr {\n",
       "  text-align: right;\n",
       "  white-space: pre-wrap;\n",
       "}\n",
       "</style>\n",
       "<small>shape: (22, 3)</small><table border=\"1\" class=\"dataframe\"><thead><tr><th>chrom</th><th>0</th><th>1</th></tr><tr><td>str</td><td>u32</td><td>u32</td></tr></thead><tbody><tr><td>&quot;chr1&quot;</td><td>8</td><td>11</td></tr><tr><td>&quot;chr10&quot;</td><td>18</td><td>12</td></tr><tr><td>&quot;chr11&quot;</td><td>13</td><td>11</td></tr><tr><td>&quot;chr12&quot;</td><td>21</td><td>26</td></tr><tr><td>&quot;chr13&quot;</td><td>17</td><td>5</td></tr><tr><td>&quot;chr14&quot;</td><td>13</td><td>11</td></tr><tr><td>&quot;chr15&quot;</td><td>10</td><td>9</td></tr><tr><td>&quot;chr16&quot;</td><td>5</td><td>20</td></tr><tr><td>&quot;chr17&quot;</td><td>16</td><td>17</td></tr><tr><td>&quot;chr18&quot;</td><td>24</td><td>20</td></tr><tr><td>&quot;chr19&quot;</td><td>16</td><td>15</td></tr><tr><td>&quot;chr2&quot;</td><td>12</td><td>24</td></tr><tr><td>&quot;chr20&quot;</td><td>15</td><td>21</td></tr><tr><td>&quot;chr21&quot;</td><td>12</td><td>7</td></tr><tr><td>&quot;chr22&quot;</td><td>11</td><td>10</td></tr><tr><td>&quot;chr3&quot;</td><td>17</td><td>18</td></tr><tr><td>&quot;chr4&quot;</td><td>13</td><td>20</td></tr><tr><td>&quot;chr5&quot;</td><td>13</td><td>21</td></tr><tr><td>&quot;chr6&quot;</td><td>19</td><td>20</td></tr><tr><td>&quot;chr7&quot;</td><td>29</td><td>22</td></tr><tr><td>&quot;chr8&quot;</td><td>12</td><td>11</td></tr><tr><td>&quot;chr9&quot;</td><td>5</td><td>9</td></tr></tbody></table></div>"
      ],
      "text/plain": [
       "shape: (22, 3)\n",
       "┌───────┬─────┬─────┐\n",
       "│ chrom ┆ 0   ┆ 1   │\n",
       "│ ---   ┆ --- ┆ --- │\n",
       "│ str   ┆ u32 ┆ u32 │\n",
       "╞═══════╪═════╪═════╡\n",
       "│ chr1  ┆ 8   ┆ 11  │\n",
       "│ chr10 ┆ 18  ┆ 12  │\n",
       "│ chr11 ┆ 13  ┆ 11  │\n",
       "│ chr12 ┆ 21  ┆ 26  │\n",
       "│ chr13 ┆ 17  ┆ 5   │\n",
       "│ chr14 ┆ 13  ┆ 11  │\n",
       "│ chr15 ┆ 10  ┆ 9   │\n",
       "│ chr16 ┆ 5   ┆ 20  │\n",
       "│ chr17 ┆ 16  ┆ 17  │\n",
       "│ chr18 ┆ 24  ┆ 20  │\n",
       "│ chr19 ┆ 16  ┆ 15  │\n",
       "│ chr2  ┆ 12  ┆ 24  │\n",
       "│ chr20 ┆ 15  ┆ 21  │\n",
       "│ chr21 ┆ 12  ┆ 7   │\n",
       "│ chr22 ┆ 11  ┆ 10  │\n",
       "│ chr3  ┆ 17  ┆ 18  │\n",
       "│ chr4  ┆ 13  ┆ 20  │\n",
       "│ chr5  ┆ 13  ┆ 21  │\n",
       "│ chr6  ┆ 19  ┆ 20  │\n",
       "│ chr7  ┆ 29  ┆ 22  │\n",
       "│ chr8  ┆ 12  ┆ 11  │\n",
       "│ chr9  ┆ 5   ┆ 9   │\n",
       "└───────┴─────┴─────┘"
      ]
     },
     "metadata": {},
     "output_type": "display_data"
    }
   ],
   "source": [
    "resolution = 1e7\n",
    "\n",
    "sdf = (dist_df\n",
    "    .filter(pl.col(\"dist_to_cent\") < 2 * resolution)\n",
    "    .with_columns(\n",
    "        rounded_dist_to_cent = (pl.col(\"dist_to_cent\") // resolution).cast(int)\n",
    "    )\n",
    "    .group_by(\"chrom\", \"rounded_dist_to_cent\")\n",
    "    .len()\n",
    "    .sort(\"chrom\", \"rounded_dist_to_cent\")\n",
    "    .pivot(\n",
    "        on=\"rounded_dist_to_cent\",\n",
    "        index=\"chrom\",\n",
    "        values=\"len\",\n",
    "    )\n",
    "    .fill_null(0)\n",
    ")\n",
    "\n",
    "display(sdf)"
   ]
  },
  {
   "cell_type": "code",
   "execution_count": 81,
   "id": "e3df0ca3-33aa-4dea-9e59-c58a8f90115a",
   "metadata": {
    "tags": []
   },
   "outputs": [
    {
     "data": {
      "text/plain": [
       "np.float64(0.09491429279763758)"
      ]
     },
     "execution_count": 81,
     "metadata": {},
     "output_type": "execute_result"
    }
   ],
   "source": [
    "scipy.stats.chi2_contingency(sdf.select('0', '1').to_numpy()).pvalue"
   ]
  },
  {
   "cell_type": "code",
   "execution_count": 82,
   "id": "948bee0d-04e1-4ff1-b7f5-da88a2d32fe7",
   "metadata": {
    "tags": []
   },
   "outputs": [],
   "source": [
    "acro_chroms = [\"chr13\", \"chr14\", \"chr15\", \"chr21\", \"chr22\"]"
   ]
  },
  {
   "cell_type": "code",
   "execution_count": 85,
   "id": "6760db88-3cc2-4a23-b336-369f30f48438",
   "metadata": {
    "tags": []
   },
   "outputs": [
    {
     "data": {
      "text/html": [
       "<div><style>\n",
       ".dataframe > thead > tr,\n",
       ".dataframe > tbody > tr {\n",
       "  text-align: right;\n",
       "  white-space: pre-wrap;\n",
       "}\n",
       "</style>\n",
       "<small>shape: (2, 4)</small><table border=\"1\" class=\"dataframe\"><thead><tr><th>acro</th><th>chrom</th><th>0</th><th>1</th></tr><tr><td>bool</td><td>str</td><td>u32</td><td>u32</td></tr></thead><tbody><tr><td>true</td><td>null</td><td>63</td><td>42</td></tr><tr><td>false</td><td>null</td><td>256</td><td>298</td></tr></tbody></table></div>"
      ],
      "text/plain": [
       "shape: (2, 4)\n",
       "┌───────┬───────┬─────┬─────┐\n",
       "│ acro  ┆ chrom ┆ 0   ┆ 1   │\n",
       "│ ---   ┆ ---   ┆ --- ┆ --- │\n",
       "│ bool  ┆ str   ┆ u32 ┆ u32 │\n",
       "╞═══════╪═══════╪═════╪═════╡\n",
       "│ true  ┆ null  ┆ 63  ┆ 42  │\n",
       "│ false ┆ null  ┆ 256 ┆ 298 │\n",
       "└───────┴───────┴─────┴─────┘"
      ]
     },
     "metadata": {},
     "output_type": "display_data"
    }
   ],
   "source": [
    "display(sdf\n",
    "    .with_columns(\n",
    "        acro = pl.col(\"chrom\").is_in(acro_chroms)\n",
    "    )\n",
    "    .group_by(\"acro\")\n",
    "    .sum()    \n",
    ")"
   ]
  },
  {
   "cell_type": "code",
   "execution_count": null,
   "id": "a2c89212-170e-4992-a6c5-75cb22a40121",
   "metadata": {},
   "outputs": [],
   "source": []
  },
  {
   "cell_type": "code",
   "execution_count": null,
   "id": "e2618a76-0a77-4b21-8ffb-516a863bfdef",
   "metadata": {},
   "outputs": [],
   "source": []
  },
  {
   "cell_type": "code",
   "execution_count": 86,
   "id": "20377b22-f12e-4e17-8689-762b7be121ba",
   "metadata": {
    "tags": []
   },
   "outputs": [
    {
     "data": {
      "text/plain": [
       "np.float64(0.012913653044685142)"
      ]
     },
     "execution_count": 86,
     "metadata": {},
     "output_type": "execute_result"
    }
   ],
   "source": [
    "scipy.stats.chi2_contingency((sdf\n",
    "    .with_columns(\n",
    "        acro = pl.col(\"chrom\").is_in(acro_chroms)\n",
    "    )\n",
    "    .group_by(\"acro\")\n",
    "    .sum()    \n",
    ").select('0', '1').to_numpy()).pvalue"
   ]
  },
  {
   "cell_type": "markdown",
   "id": "073b77f2-cea5-41b9-a198-fd8db83d0e55",
   "metadata": {},
   "source": [
    "## MP3: Hotspot erosion in action"
   ]
  },
  {
   "cell_type": "code",
   "execution_count": 38,
   "id": "578e1c47-546a-470a-b65a-157bccd76a42",
   "metadata": {
    "tags": []
   },
   "outputs": [],
   "source": [
    "all_conversion_in_action_df = (all_converted_snps_with_seq_and_motifs_df\n",
    "    .filter(\n",
    "        (pl.col(\"grch38_reference_start\") + pl.col(\"start\")).is_between(pl.col(\"AA_motif_center_pos\")-15, pl.col(\"AA_motif_center_pos\")+15)\n",
    "    )\n",
    ")"
   ]
  },
  {
   "cell_type": "code",
   "execution_count": 26,
   "id": "b280aad6-67e5-49d5-ab2e-95b469b208de",
   "metadata": {
    "tags": []
   },
   "outputs": [
    {
     "data": {
      "text/plain": [
       "42"
      ]
     },
     "execution_count": 26,
     "metadata": {},
     "output_type": "execute_result"
    }
   ],
   "source": [
    "len(all_conversion_in_action_df)"
   ]
  },
  {
   "cell_type": "code",
   "execution_count": 32,
   "id": "4cd470f4-07a8-4fb1-ac85-336f48039ae2",
   "metadata": {
    "tags": []
   },
   "outputs": [
    {
     "data": {
      "text/plain": [
       "21"
      ]
     },
     "execution_count": 32,
     "metadata": {},
     "output_type": "execute_result"
    }
   ],
   "source": [
    "len(all_converted_snps_with_seq_and_motifs_df\n",
    "    .filter(\n",
    "        (pl.col(\"grch38_reference_start\") + pl.col(\"start\")).is_between(pl.col(\"AA_motif_center_pos\")-1, pl.col(\"AA_motif_center_pos\")+15)\n",
    "    )\n",
    ")"
   ]
  },
  {
   "cell_type": "code",
   "execution_count": 42,
   "id": "c5f1dc7f-3371-4e98-a3ba-987b2f867eb5",
   "metadata": {
    "tags": []
   },
   "outputs": [
    {
     "data": {
      "text/html": [
       "<div><style>\n",
       ".dataframe > thead > tr,\n",
       ".dataframe > tbody > tr {\n",
       "  text-align: right;\n",
       "  white-space: pre-wrap;\n",
       "}\n",
       "</style>\n",
       "<small>shape: (5, 13)</small><table border=\"1\" class=\"dataframe\"><thead><tr><th>read_name</th><th>motif_score</th><th>AA_motif_center_pos</th><th>grch38_reference_start</th><th>aligned_motif</th><th>sample_id</th><th>chrom</th><th>start</th><th>has_AA_DSB</th><th>snp_positions_on_read</th><th>refseq_start1</th><th>refseq_start2</th><th>fits1_more</th></tr><tr><td>str</td><td>f64</td><td>i64</td><td>i64</td><td>str</td><td>str</td><td>str</td><td>i64</td><td>bool</td><td>list[i64]</td><td>str</td><td>str</td><td>i32</td></tr></thead><tbody><tr><td>&quot;m64229e_220912_125215/169149369/ccs&quot;</td><td>-32.248972</td><td>104010276</td><td>103990107</td><td>&quot;TATCTCTCATACTTCTTCCACCCTTTCCCCC&quot;</td><td>&quot;PD50521b&quot;</td><td>&quot;chr4&quot;</td><td>20172</td><td>true</td><td>[578,&nbsp;942,&nbsp;…&nbsp;27904]</td><td>&quot;C&quot;</td><td>&quot;T&quot;</td><td>0</td></tr><tr><td>&quot;m84093_241004_184906_s3/229314217/ccs&quot;</td><td>-35.187425</td><td>13844401</td><td>13834148</td><td>&quot;CAAACTTCCTAGAAGGATCTCCAGGACCACT&quot;</td><td>&quot;PD50521e&quot;</td><td>&quot;chr7&quot;</td><td>10266</td><td>true</td><td>[9954,&nbsp;10266,&nbsp;…&nbsp;15990]</td><td>&quot;T&quot;</td><td>&quot;C&quot;</td><td>0</td></tr><tr><td>&quot;m84093_241004_145012_s1/105385754/ccs&quot;</td><td>-33.472912</td><td>9767893</td><td>9764762</td><td>&quot;CTGCCCCGGTGTGTGGACCCTCCAGGTCCCC&quot;</td><td>&quot;PD50521e&quot;</td><td>&quot;chr2&quot;</td><td>3123</td><td>true</td><td>[2412,&nbsp;2477,&nbsp;…&nbsp;3764]</td><td>&quot;T&quot;</td><td>&quot;C&quot;</td><td>1</td></tr><tr><td>&quot;m84093_241004_145012_s1/59836210/ccs&quot;</td><td>-36.710488</td><td>18814241</td><td>18810367</td><td>&quot;ATCACATACAGATTCTGCCCCCAGCCCCACC&quot;</td><td>&quot;PD50521e&quot;</td><td>&quot;chr8&quot;</td><td>3865</td><td>true</td><td>[804,&nbsp;874,&nbsp;…&nbsp;13615]</td><td>&quot;T&quot;</td><td>&quot;C&quot;</td><td>0</td></tr><tr><td>&quot;m84098_240926_113650_s3/180161721/ccs&quot;</td><td>-30.946036</td><td>72390009</td><td>72382795</td><td>&quot;CCCCTCTCCTTTTCCTGCCCTCTTCTCCACT&quot;</td><td>&quot;PD50521e&quot;</td><td>&quot;chr4&quot;</td><td>7203</td><td>true</td><td>[1088,&nbsp;1443,&nbsp;…&nbsp;8233]</td><td>&quot;T&quot;</td><td>&quot;G&quot;</td><td>0</td></tr></tbody></table></div>"
      ],
      "text/plain": [
       "shape: (5, 13)\n",
       "┌───────────┬───────────┬───────────┬───────────┬───┬───────────┬───────────┬───────────┬──────────┐\n",
       "│ read_name ┆ motif_sco ┆ AA_motif_ ┆ grch38_re ┆ … ┆ snp_posit ┆ refseq_st ┆ refseq_st ┆ fits1_mo │\n",
       "│ ---       ┆ re        ┆ center_po ┆ ference_s ┆   ┆ ions_on_r ┆ art1      ┆ art2      ┆ re       │\n",
       "│ str       ┆ ---       ┆ s         ┆ tart      ┆   ┆ ead       ┆ ---       ┆ ---       ┆ ---      │\n",
       "│           ┆ f64       ┆ ---       ┆ ---       ┆   ┆ ---       ┆ str       ┆ str       ┆ i32      │\n",
       "│           ┆           ┆ i64       ┆ i64       ┆   ┆ list[i64] ┆           ┆           ┆          │\n",
       "╞═══════════╪═══════════╪═══════════╪═══════════╪═══╪═══════════╪═══════════╪═══════════╪══════════╡\n",
       "│ m64229e_2 ┆ -32.24897 ┆ 104010276 ┆ 103990107 ┆ … ┆ [578,     ┆ C         ┆ T         ┆ 0        │\n",
       "│ 20912_125 ┆ 2         ┆           ┆           ┆   ┆ 942, …    ┆           ┆           ┆          │\n",
       "│ 215/16914 ┆           ┆           ┆           ┆   ┆ 27904]    ┆           ┆           ┆          │\n",
       "│ 9369/ccs  ┆           ┆           ┆           ┆   ┆           ┆           ┆           ┆          │\n",
       "│ m84093_24 ┆ -35.18742 ┆ 13844401  ┆ 13834148  ┆ … ┆ [9954,    ┆ T         ┆ C         ┆ 0        │\n",
       "│ 1004_1849 ┆ 5         ┆           ┆           ┆   ┆ 10266, …  ┆           ┆           ┆          │\n",
       "│ 06_s3/229 ┆           ┆           ┆           ┆   ┆ 15990]    ┆           ┆           ┆          │\n",
       "│ 314217/cc ┆           ┆           ┆           ┆   ┆           ┆           ┆           ┆          │\n",
       "│ s         ┆           ┆           ┆           ┆   ┆           ┆           ┆           ┆          │\n",
       "│ m84093_24 ┆ -33.47291 ┆ 9767893   ┆ 9764762   ┆ … ┆ [2412,    ┆ T         ┆ C         ┆ 1        │\n",
       "│ 1004_1450 ┆ 2         ┆           ┆           ┆   ┆ 2477, …   ┆           ┆           ┆          │\n",
       "│ 12_s1/105 ┆           ┆           ┆           ┆   ┆ 3764]     ┆           ┆           ┆          │\n",
       "│ 385754/cc ┆           ┆           ┆           ┆   ┆           ┆           ┆           ┆          │\n",
       "│ s         ┆           ┆           ┆           ┆   ┆           ┆           ┆           ┆          │\n",
       "│ m84093_24 ┆ -36.71048 ┆ 18814241  ┆ 18810367  ┆ … ┆ [804,     ┆ T         ┆ C         ┆ 0        │\n",
       "│ 1004_1450 ┆ 8         ┆           ┆           ┆   ┆ 874, …    ┆           ┆           ┆          │\n",
       "│ 12_s1/598 ┆           ┆           ┆           ┆   ┆ 13615]    ┆           ┆           ┆          │\n",
       "│ 36210/ccs ┆           ┆           ┆           ┆   ┆           ┆           ┆           ┆          │\n",
       "│ m84098_24 ┆ -30.94603 ┆ 72390009  ┆ 72382795  ┆ … ┆ [1088,    ┆ T         ┆ G         ┆ 0        │\n",
       "│ 0926_1136 ┆ 6         ┆           ┆           ┆   ┆ 1443, …   ┆           ┆           ┆          │\n",
       "│ 50_s3/180 ┆           ┆           ┆           ┆   ┆ 8233]     ┆           ┆           ┆          │\n",
       "│ 161721/cc ┆           ┆           ┆           ┆   ┆           ┆           ┆           ┆          │\n",
       "│ s         ┆           ┆           ┆           ┆   ┆           ┆           ┆           ┆          │\n",
       "└───────────┴───────────┴───────────┴───────────┴───┴───────────┴───────────┴───────────┴──────────┘"
      ]
     },
     "execution_count": 42,
     "metadata": {},
     "output_type": "execute_result"
    }
   ],
   "source": [
    "all_conversion_in_action_df.head()"
   ]
  },
  {
   "cell_type": "code",
   "execution_count": 58,
   "id": "ec2551f7-0b01-40e9-b084-f90d3a694718",
   "metadata": {
    "tags": []
   },
   "outputs": [],
   "source": [
    "res = []\n",
    "for row in all_conversion_in_action_df.iter_rows(named=True):\n",
    "    position_of_snp_in_motif = (row[\"grch38_reference_start\"] + row[\"start\"]) - (row[\"AA_motif_center_pos\"] - 15)\n",
    "    \n",
    "    original_allele = (row[\"refseq_start2\"] if row[\"fits1_more\"] else row[\"refseq_start1\"])\n",
    "    original_motif = list(row[\"aligned_motif\"])\n",
    "    original_motif[position_of_snp_in_motif] = original_allele\n",
    "    original_score = score_motif(''.join(original_motif))\n",
    "    \n",
    "    other_allele    = (row[\"refseq_start1\"] if row[\"fits1_more\"] else row[\"refseq_start2\"])\n",
    "    other_motif = list(row[\"aligned_motif\"])\n",
    "    other_motif[position_of_snp_in_motif] = other_allele\n",
    "    other_score = score_motif(''.join(other_motif))\n",
    "    \n",
    "    res.append([row[\"read_name\"], original_score, other_score])\n",
    "    \n",
    "scores_df = pl.DataFrame(\n",
    "    res,\n",
    "    schema = [\"read_name\", \"original_score\", \"other_score\"],\n",
    "    orient = \"row\",\n",
    ")\n",
    "    \n"
   ]
  },
  {
   "cell_type": "code",
   "execution_count": 59,
   "id": "6aa8de38-6870-4916-bd77-595bd899df4b",
   "metadata": {},
   "outputs": [
    {
     "data": {
      "text/html": [
       "<div><style>\n",
       ".dataframe > thead > tr,\n",
       ".dataframe > tbody > tr {\n",
       "  text-align: right;\n",
       "  white-space: pre-wrap;\n",
       "}\n",
       "</style>\n",
       "<small>shape: (1, 1)</small><table border=\"1\" class=\"dataframe\"><thead><tr><th>original_score</th></tr><tr><td>u32</td></tr></thead><tbody><tr><td>22</td></tr></tbody></table></div>"
      ],
      "text/plain": [
       "shape: (1, 1)\n",
       "┌────────────────┐\n",
       "│ original_score │\n",
       "│ ---            │\n",
       "│ u32            │\n",
       "╞════════════════╡\n",
       "│ 22             │\n",
       "└────────────────┘"
      ]
     },
     "execution_count": 59,
     "metadata": {},
     "output_type": "execute_result"
    }
   ],
   "source": [
    "scores_df.select(pl.col(\"original_score\") > pl.col(\"other_score\")).sum()"
   ]
  },
  {
   "cell_type": "code",
   "execution_count": 56,
   "id": "2ce634bf-5347-4515-ab63-ec2ce4ff0467",
   "metadata": {
    "tags": []
   },
   "outputs": [
    {
     "data": {
      "text/plain": [
       "BinomTestResult(k=26, n=42, alternative='two-sided', statistic=0.6190476190476191, pvalue=0.16414940178310644)"
      ]
     },
     "execution_count": 56,
     "metadata": {},
     "output_type": "execute_result"
    }
   ],
   "source": [
    "scipy.stats.binomtest(26, 42, 0.5)"
   ]
  },
  {
   "cell_type": "markdown",
   "id": "4eb9ca9b-393f-4a17-8f7c-50927031f6a0",
   "metadata": {},
   "source": [
    "## MP5: PRDM9 motifs"
   ]
  },
  {
   "cell_type": "code",
   "execution_count": 9,
   "id": "2f3f6801-5e5f-4a9a-abe4-d3d490aa6a87",
   "metadata": {
    "tags": []
   },
   "outputs": [],
   "source": [
    "rr_df = (\n",
    "    pl.read_csv(\"/lustre/scratch122/tol/projects/sperm/analysis/prmd9_motif_analysis/randomly_sampled_reads.meme_annotated.csv\")\n",
    "    .select(\"read_name\", pl.col(\"prdm9_intervals\").is_not_null().alias(\"has_motif\"))\n",
    ")"
   ]
  },
  {
   "cell_type": "code",
   "execution_count": 27,
   "id": "099f8b74-29a0-410f-8fd4-4450621bf995",
   "metadata": {
    "tags": []
   },
   "outputs": [
    {
     "name": "stderr",
     "output_type": "stream",
     "text": [
      "[Parallel(n_jobs=-1)]: Using backend LokyBackend with 16 concurrent workers.\n",
      "[Parallel(n_jobs=-1)]: Done  18 tasks      | elapsed:   14.6s\n",
      "[Parallel(n_jobs=-1)]: Done 198 out of 198 | elapsed:  1.0min finished\n",
      "[Parallel(n_jobs=-1)]: Using backend LokyBackend with 16 concurrent workers.\n",
      "[Parallel(n_jobs=-1)]: Done  18 tasks      | elapsed:   10.2s\n",
      "[Parallel(n_jobs=-1)]: Done 132 out of 132 | elapsed:   31.1s finished\n"
     ]
    }
   ],
   "source": [
    "def F(filename):\n",
    "    return (\n",
    "        pl.scan_parquet(filename)\n",
    "        .join(rr_df.lazy(), on=\"read_name\")\n",
    "        .collect()\n",
    "    )\n",
    "\n",
    "rahbari_dfs = joblib.Parallel(n_jobs=-1, verbose=1)(\n",
    "    joblib.delayed(F)(\n",
    "        f\"/lustre/scratch122/tol/projects/sperm/results/Rahbari_20250212/read_analysis/{sample_set}/{sample_id}/reads/{chrom}/all_reads_structure_annotated.parquet\"\n",
    "    )\n",
    "    for chrom in aut_chrom_names\n",
    "    for sample_set, sample_id in rahbari_df.select(\"sample_set\", \"sample_id\").unique().iter_rows()\n",
    ")\n",
    "\n",
    "sudmant_dfs = joblib.Parallel(n_jobs=-1, verbose=1)(\n",
    "    joblib.delayed(F)(\n",
    "        f\"/lustre/scratch122/tol/projects/sperm/results/Sudmant_20241121/read_analysis/{sample_set}/{sample_id}/reads/{chrom}/all_reads_structure_annotated.parquet\"\n",
    "    )\n",
    "    for chrom in aut_chrom_names\n",
    "    for sample_set, sample_id in sudmant_df.select(\"sample_set\", \"sample_id\").unique().iter_rows()\n",
    ")"
   ]
  },
  {
   "cell_type": "code",
   "execution_count": 29,
   "id": "64fc41af-b06a-45e3-bd27-9e133a704e2c",
   "metadata": {
    "tags": []
   },
   "outputs": [
    {
     "data": {
      "text/html": [
       "<div><style>\n",
       ".dataframe > thead > tr,\n",
       ".dataframe > tbody > tr {\n",
       "  text-align: right;\n",
       "  white-space: pre-wrap;\n",
       "}\n",
       "</style>\n",
       "<small>shape: (1, 3)</small><table border=\"1\" class=\"dataframe\"><thead><tr><th>has_motif</th><th>total</th><th>len</th></tr><tr><td>f64</td><td>u32</td><td>u32</td></tr></thead><tbody><tr><td>0.249283</td><td>17293</td><td>69371</td></tr></tbody></table></div>"
      ],
      "text/plain": [
       "shape: (1, 3)\n",
       "┌───────────┬───────┬───────┐\n",
       "│ has_motif ┆ total ┆ len   │\n",
       "│ ---       ┆ ---   ┆ ---   │\n",
       "│ f64       ┆ u32   ┆ u32   │\n",
       "╞═══════════╪═══════╪═══════╡\n",
       "│ 0.249283  ┆ 17293 ┆ 69371 │\n",
       "└───────────┴───────┴───────┘"
      ]
     },
     "execution_count": 29,
     "metadata": {},
     "output_type": "execute_result"
    }
   ],
   "source": [
    "(pl.concat(rahbari_dfs + sudmant_dfs)    \n",
    "    .filter(pl.col(\"AA_motif_center_pos\").is_null())\n",
    "    .select(\n",
    "        pl.col(\"has_motif\").mean(), \n",
    "        pl.col(\"has_motif\").sum().alias(\"total\"),\n",
    "        pl.col(\"has_motif\").len().alias(\"len\"),\n",
    "    )\n",
    ")"
   ]
  },
  {
   "cell_type": "code",
   "execution_count": null,
   "id": "659fea24-93d9-4d97-a8a7-61ac7a23c790",
   "metadata": {},
   "outputs": [],
   "source": []
  },
  {
   "cell_type": "code",
   "execution_count": null,
   "id": "2558e211-62e8-4925-8b3e-0302250f81fb",
   "metadata": {},
   "outputs": [],
   "source": []
  },
  {
   "cell_type": "markdown",
   "id": "c365f6e7-e15b-4c39-9e2a-f2a2982e0a12",
   "metadata": {},
   "source": [
    "# Reviewer 2"
   ]
  },
  {
   "cell_type": "markdown",
   "id": "9ddeaff4-1d1a-4da4-934d-623dda0c7290",
   "metadata": {},
   "source": [
    "## P1: BQ of converted SNPs vs. flanking SNPs"
   ]
  },
  {
   "cell_type": "markdown",
   "id": "4e79d4a9-b68a-4c5d-a5f9-8a827c921006",
   "metadata": {},
   "source": [
    "### Rahabri"
   ]
  },
  {
   "cell_type": "code",
   "execution_count": 11,
   "id": "0cfbdd95-8d73-4e0e-bca6-83e6c71478b2",
   "metadata": {
    "tags": []
   },
   "outputs": [
    {
     "name": "stderr",
     "output_type": "stream",
     "text": [
      "[Parallel(n_jobs=-1)]: Using backend LokyBackend with 16 concurrent workers.\n",
      "[Parallel(n_jobs=-1)]: Done  18 tasks      | elapsed:  1.1min\n"
     ]
    },
    {
     "name": "stdout",
     "output_type": "stream",
     "text": [
      "CPU times: user 1.35 s, sys: 1.01 s, total: 2.36 s\n",
      "Wall time: 2min 47s\n"
     ]
    },
    {
     "name": "stderr",
     "output_type": "stream",
     "text": [
      "[Parallel(n_jobs=-1)]: Done  56 out of  56 | elapsed:  2.8min finished\n"
     ]
    }
   ],
   "source": [
    "%%time\n",
    "import glob\n",
    "\n",
    "def F(sample_set, sample_id, flow_cell, flow_cell_type, filename_glob):\n",
    "    return (\n",
    "        pl.scan_parquet(glob.glob(filename_glob))\n",
    "        .with_columns(\n",
    "            sample_id=pl.lit(sample_id), \n",
    "            flow_cell=pl.lit(flow_cell),\n",
    "            flow_cell_type=pl.lit(flow_cell_type),        \n",
    "        )\n",
    "        .join(\n",
    "            (NCO_df\n",
    "                .filter(pl.col(\"sample_id\") == sample_id)\n",
    "                .select(\"read_name\", \"sample_id\")\n",
    "                .lazy()\n",
    "            ),\n",
    "            on=[\"read_name\", \"sample_id\"],\n",
    "        )\n",
    "        .collect(streaming=True)\n",
    "    )\n",
    "\n",
    "#rahbari_nco_ann_snps_df = \n",
    "dfs = joblib.Parallel(n_jobs=-1, verbose=1)(\n",
    "    joblib.delayed(F)(\n",
    "        sample_set, \n",
    "        sample_id, \n",
    "        flow_cell,\n",
    "        flow_cell_type,\n",
    "        str(\n",
    "            Path(\"/lustre/scratch122/tol/projects/sperm/results/Rahbari_20250212\") / \\\n",
    "                f\"read_analysis/{sample_set}/{sample_id}/{flow_cell}/*/annotated_0.95_high_confidence_snps.parquet\"\n",
    "        )\n",
    "    )\n",
    "    for sample_set, sample_id, flow_cell, flow_cell_type, _ in rahbari_df.iter_rows()\n",
    ")\n",
    "\n",
    "rahbari_nco_ann_snps_df = pl.concat(dfs)"
   ]
  },
  {
   "cell_type": "code",
   "execution_count": 41,
   "id": "2c14caec-e8a1-494b-803b-9d5f8e0118f5",
   "metadata": {
    "tags": []
   },
   "outputs": [],
   "source": [
    "converted_snps_df = (rahbari_nco_ann_snps_df\n",
    "    .group_by(\"sample_id\", \"read_name\", \"op1\", \"op2\")\n",
    "    .agg(\n",
    "        qual = pl.col(\"qual_start1\").first(),\n",
    "        converted_pos = pl.col(\"start\").first(),\n",
    "        n_snps_per_side = pl.col(\"qual_start1\").len(),\n",
    "    )\n",
    "    .filter((pl.col(\"op1\") == 7) | (pl.col(\"op2\") == 7))\n",
    "    .sort(\"read_name\", \"n_snps_per_side\")\n",
    "    .unique(subset=[\"read_name\"], keep=\"first\")\n",
    "    .filter(pl.col(\"n_snps_per_side\") == 1)\n",
    ")"
   ]
  },
  {
   "cell_type": "code",
   "execution_count": 42,
   "id": "60ad3daa-4c7c-46c8-8ea0-93c728637de4",
   "metadata": {
    "tags": []
   },
   "outputs": [],
   "source": [
    "tdf = (rahbari_nco_ann_snps_df\n",
    "    .join(\n",
    "        converted_snps_df.select(\"sample_id\", \"read_name\", \"qual\", \"converted_pos\"),\n",
    "        on=[\"sample_id\", \"read_name\"],\n",
    "    )\n",
    "    .with_columns(\n",
    "        dist_from_converted_snp = pl.col(\"converted_pos\") - pl.col(\"start\")\n",
    "    )\n",
    ")"
   ]
  },
  {
   "cell_type": "code",
   "execution_count": 43,
   "id": "bf0f07f6-869c-478f-b13b-06557827854e",
   "metadata": {
    "tags": []
   },
   "outputs": [],
   "source": [
    "flanking_before_snps_df = (tdf\n",
    "    .filter(pl.col(\"dist_from_converted_snp\") < 0)\n",
    "    .sort(\"read_name\", \"dist_from_converted_snp\")\n",
    "    .group_by(\"read_name\", maintain_order=True)\n",
    "    .agg(\n",
    "        pl.col(\"qual_start1\").last().alias(\"qual_before_snp\"),\n",
    "    )\n",
    ")\n",
    "\n",
    "flanking_after_snps_df = (tdf\n",
    "    .filter(pl.col(\"dist_from_converted_snp\") > 0)\n",
    "    .sort(\"read_name\", \"dist_from_converted_snp\")\n",
    "    .group_by(\"read_name\", maintain_order=True)\n",
    "    .agg(\n",
    "        pl.col(\"qual_start1\").first().alias(\"qual_after_snp\"),\n",
    "    )\n",
    ")"
   ]
  },
  {
   "cell_type": "code",
   "execution_count": 44,
   "id": "beab8774-7bea-487d-9a7e-e12bdafb24e6",
   "metadata": {
    "tags": []
   },
   "outputs": [
    {
     "data": {
      "image/png": "[encoded data removed]",
      "text/plain": [
       "<Figure size 640x480 with 1 Axes>"
      ]
     },
     "metadata": {},
     "output_type": "display_data"
    }
   ],
   "source": [
    "plt.hist(\n",
    "    [\n",
    "        converted_snps_df[\"qual\"], \n",
    "        flanking_before_snps_df[\"qual_before_snp\"], \n",
    "        flanking_after_snps_df[\"qual_after_snp\"], \n",
    "    ],\n",
    "    bins=np.arange(94),\n",
    "    log=True,\n",
    ");\n",
    "\n",
    "plt.legend([\n",
    "    \"BQ at converted SNP\",\n",
    "    \"BQ at flanking SNP before\",\n",
    "    \"BQ at flanking SNP after\",\n",
    "]);\n",
    "\n",
    "plt.xlabel(\"BQ\");\n",
    "plt.ylabel(\"# of reads\");\n",
    "plt.title(\"TwinsUK\");"
   ]
  },
  {
   "cell_type": "code",
   "execution_count": 45,
   "id": "830d616d-6303-4a5f-aec4-bbe7a4d6f5e4",
   "metadata": {
    "tags": []
   },
   "outputs": [
    {
     "name": "stdout",
     "output_type": "stream",
     "text": [
      "86.20570866141732\n",
      "81.69094488188976\n",
      "81.70669291338582\n",
      "0.7244094488188977\n",
      "0.7303149606299213\n"
     ]
    }
   ],
   "source": [
    "print(converted_snps_df[\"qual\"].mean())\n",
    "print(flanking_before_snps_df[\"qual_before_snp\"].mean())\n",
    "print(flanking_after_snps_df[\"qual_after_snp\"].mean())\n",
    "print((converted_snps_df[\"qual\"]>=flanking_before_snps_df[\"qual_before_snp\"]).mean())\n",
    "print((converted_snps_df[\"qual\"]>=flanking_after_snps_df[\"qual_after_snp\"]).mean())"
   ]
  },
  {
   "cell_type": "code",
   "execution_count": 50,
   "id": "7a230495-b2d1-4f18-81ca-09931556e7ca",
   "metadata": {
    "tags": []
   },
   "outputs": [
    {
     "name": "stdout",
     "output_type": "stream",
     "text": [
      "% of top BQ: 0.6210629921259843\n",
      "% of top BQ before: 0.6181102362204725\n",
      "% of top BQ after: 0.6161417322834646\n"
     ]
    }
   ],
   "source": [
    "print(\"% of top BQ:\", (converted_snps_df[\"qual\"] == 93).mean())\n",
    "print(\"% of top BQ before:\", (flanking_before_snps_df[\"qual_before_snp\"] == 93).mean())\n",
    "print(\"% of top BQ after:\", (flanking_after_snps_df[\"qual_after_snp\"] == 93).mean())"
   ]
  },
  {
   "cell_type": "code",
   "execution_count": null,
   "id": "ec069e76-37b9-468d-b7fb-2c149881afee",
   "metadata": {},
   "outputs": [],
   "source": []
  },
  {
   "cell_type": "code",
   "execution_count": null,
   "id": "61a0c6e0-06c7-4c76-916c-448ca7032fd1",
   "metadata": {},
   "outputs": [],
   "source": []
  },
  {
   "cell_type": "markdown",
   "id": "1f7a3cf1-47bd-402b-8665-0cf11447fdc6",
   "metadata": {},
   "source": [
    "### SL"
   ]
  },
  {
   "cell_type": "code",
   "execution_count": 16,
   "id": "81cf931e-bcc4-461e-9f0a-816aa9a6395a",
   "metadata": {
    "tags": []
   },
   "outputs": [
    {
     "name": "stderr",
     "output_type": "stream",
     "text": [
      "[Parallel(n_jobs=-1)]: Using backend LokyBackend with 16 concurrent workers.\n",
      "[Parallel(n_jobs=-1)]: Done   7 out of  12 | elapsed:   56.9s remaining:   40.6s\n"
     ]
    },
    {
     "name": "stdout",
     "output_type": "stream",
     "text": [
      "CPU times: user 318 ms, sys: 195 ms, total: 514 ms\n",
      "Wall time: 1min 8s\n"
     ]
    },
    {
     "name": "stderr",
     "output_type": "stream",
     "text": [
      "[Parallel(n_jobs=-1)]: Done  12 out of  12 | elapsed:  1.1min finished\n"
     ]
    }
   ],
   "source": [
    "%%time\n",
    "import glob\n",
    "\n",
    "def F(sample_set, sample_id, flow_cell, flow_cell_type, filename_glob):\n",
    "    return (\n",
    "        pl.scan_parquet(glob.glob(filename_glob))\n",
    "        .with_columns(\n",
    "            sample_id=pl.lit(sample_id), \n",
    "            flow_cell=pl.lit(flow_cell),\n",
    "            flow_cell_type=pl.lit(flow_cell_type),        \n",
    "        )\n",
    "        .join(\n",
    "            (NCO_df\n",
    "                .filter(pl.col(\"sample_id\") == sample_id)\n",
    "                .select(\"read_name\", \"sample_id\")\n",
    "                .lazy()\n",
    "            ),\n",
    "            on=[\"read_name\", \"sample_id\"],\n",
    "        )\n",
    "        .collect(streaming=True)\n",
    "    )\n",
    "\n",
    "#rahbari_nco_ann_snps_df = \n",
    "dfs = joblib.Parallel(n_jobs=-1, verbose=1)(\n",
    "    joblib.delayed(F)(\n",
    "        sample_set, \n",
    "        sample_id, \n",
    "        flow_cell,\n",
    "        flow_cell_type,\n",
    "        str(\n",
    "            Path(\"/lustre/scratch122/tol/projects/sperm/results/Sudmant_20241121\") / \\\n",
    "                f\"read_analysis/{sample_set}/{sample_id}/{flow_cell}/*/annotated_0.95_high_confidence_snps.parquet\"\n",
    "        )\n",
    "    )\n",
    "    for sample_set, sample_id, flow_cell, flow_cell_type, _ in sudmant_df.iter_rows()\n",
    ")\n",
    "\n",
    "sudmant_nco_ann_snps_df = pl.concat(dfs)"
   ]
  },
  {
   "cell_type": "code",
   "execution_count": 51,
   "id": "2160c18b-fe67-433e-986f-fac9254dccde",
   "metadata": {
    "tags": []
   },
   "outputs": [],
   "source": [
    "converted_snps_df = (sudmant_nco_ann_snps_df\n",
    "    .group_by(\"sample_id\", \"read_name\", \"op1\", \"op2\")\n",
    "    .agg(\n",
    "        qual = pl.col(\"qual_start1\").first(),\n",
    "        converted_pos = pl.col(\"start\").first(),\n",
    "        n_snps_per_side = pl.col(\"qual_start1\").len(),\n",
    "    )\n",
    "    .filter((pl.col(\"op1\") == 7) | (pl.col(\"op2\") == 7))\n",
    "    .sort(\"read_name\", \"n_snps_per_side\")\n",
    "    .unique(subset=[\"read_name\"], keep=\"first\")\n",
    "    .filter(pl.col(\"n_snps_per_side\") == 1)\n",
    ")"
   ]
  },
  {
   "cell_type": "code",
   "execution_count": 52,
   "id": "c84be1b7-65be-4229-a619-b955c7e34fb6",
   "metadata": {
    "tags": []
   },
   "outputs": [],
   "source": [
    "tdf = (sudmant_nco_ann_snps_df\n",
    "    .join(\n",
    "        converted_snps_df.select(\"sample_id\", \"read_name\", \"qual\", \"converted_pos\"),\n",
    "        on=[\"sample_id\", \"read_name\"],\n",
    "    )\n",
    "    .with_columns(\n",
    "        dist_from_converted_snp = pl.col(\"converted_pos\") - pl.col(\"start\")\n",
    "    )\n",
    ")"
   ]
  },
  {
   "cell_type": "code",
   "execution_count": 53,
   "id": "bb66a886-cf68-47c0-80e3-a95cb0548b1b",
   "metadata": {
    "tags": []
   },
   "outputs": [],
   "source": [
    "flanking_before_snps_df = (tdf\n",
    "    .filter(pl.col(\"dist_from_converted_snp\") < 0)\n",
    "    .sort(\"read_name\", \"dist_from_converted_snp\")\n",
    "    .group_by(\"read_name\", maintain_order=True)\n",
    "    .agg(\n",
    "        pl.col(\"qual_start1\").last().alias(\"qual_before_snp\"),\n",
    "    )\n",
    ")\n",
    "\n",
    "flanking_after_snps_df = (tdf\n",
    "    .filter(pl.col(\"dist_from_converted_snp\") > 0)\n",
    "    .sort(\"read_name\", \"dist_from_converted_snp\")\n",
    "    .group_by(\"read_name\", maintain_order=True)\n",
    "    .agg(\n",
    "        pl.col(\"qual_start1\").first().alias(\"qual_after_snp\"),\n",
    "    )\n",
    ")"
   ]
  },
  {
   "cell_type": "code",
   "execution_count": 54,
   "id": "a0c7fb8d-860b-4b96-a105-6e99bcd1cb83",
   "metadata": {},
   "outputs": [
    {
     "data": {
      "image/png": "[encoded data removed]",
      "text/plain": [
       "<Figure size 640x480 with 1 Axes>"
      ]
     },
     "metadata": {},
     "output_type": "display_data"
    }
   ],
   "source": [
    "plt.hist(\n",
    "    [\n",
    "        converted_snps_df[\"qual\"], \n",
    "        flanking_before_snps_df[\"qual_before_snp\"], \n",
    "        flanking_after_snps_df[\"qual_after_snp\"], \n",
    "    ],\n",
    "    bins=7,\n",
    "    log=True,\n",
    ");\n",
    "\n",
    "plt.legend([\n",
    "    \"BQ at converted SNP\",\n",
    "    \"BQ at flanking SNP before\",\n",
    "    \"BQ at flanking SNP after\",\n",
    "]);\n",
    "\n",
    "plt.xlabel(\"BQ\");\n",
    "plt.ylabel(\"# of reads\");\n",
    "plt.title(\"SL\");"
   ]
  },
  {
   "cell_type": "code",
   "execution_count": 55,
   "id": "c1e9010e-582a-4334-bfc7-8031c3e19d05",
   "metadata": {},
   "outputs": [
    {
     "name": "stdout",
     "output_type": "stream",
     "text": [
      "40.0\n",
      "37.442424242424245\n",
      "36.90151515151515\n",
      "1.0\n",
      "1.0\n"
     ]
    }
   ],
   "source": [
    "print(converted_snps_df[\"qual\"].mean())\n",
    "print(flanking_before_snps_df[\"qual_before_snp\"].mean())\n",
    "print(flanking_after_snps_df[\"qual_after_snp\"].mean())\n",
    "print((converted_snps_df[\"qual\"]>=flanking_before_snps_df[\"qual_before_snp\"]).mean())\n",
    "print((converted_snps_df[\"qual\"]>=flanking_after_snps_df[\"qual_after_snp\"]).mean())"
   ]
  },
  {
   "cell_type": "code",
   "execution_count": 57,
   "id": "8cd0b136-185f-44a8-b9dc-762fe9107ae1",
   "metadata": {
    "tags": []
   },
   "outputs": [
    {
     "name": "stdout",
     "output_type": "stream",
     "text": [
      "% of top BQ: 1.0\n",
      "% of top BQ before: 0.8212121212121212\n",
      "% of top BQ after: 0.8090909090909091\n"
     ]
    }
   ],
   "source": [
    "print(\"% of top BQ:\", (converted_snps_df[\"qual\"] == 40).mean())\n",
    "print(\"% of top BQ before:\", (flanking_before_snps_df[\"qual_before_snp\"] == 40).mean())\n",
    "print(\"% of top BQ after:\", (flanking_after_snps_df[\"qual_after_snp\"] == 40).mean())"
   ]
  },
  {
   "cell_type": "code",
   "execution_count": 58,
   "id": "c685f5ca-44ae-4887-a272-be30ade18eb7",
   "metadata": {
    "tags": []
   },
   "outputs": [
    {
     "data": {
      "text/plain": [
       "0.81515151515106"
      ]
     },
     "execution_count": 58,
     "metadata": {},
     "output_type": "execute_result"
    }
   ],
   "source": [
    "(0.82121212121212+0.80909090909)/2"
   ]
  },
  {
   "cell_type": "code",
   "execution_count": null,
   "id": "a5d534b4-4611-49be-baf3-49b5117c9bd5",
   "metadata": {},
   "outputs": [],
   "source": []
  },
  {
   "cell_type": "code",
   "execution_count": null,
   "id": "e3c3c478-77c4-40d7-ade0-3df7e8c21b45",
   "metadata": {},
   "outputs": [],
   "source": []
  },
  {
   "cell_type": "code",
   "execution_count": null,
   "id": "95353d33-4f4e-4c89-a8c2-117f524678b6",
   "metadata": {},
   "outputs": [],
   "source": []
  },
  {
   "cell_type": "code",
   "execution_count": null,
   "id": "e5ac1588-6e10-4ece-91ab-0b061922d72b",
   "metadata": {},
   "outputs": [],
   "source": []
  },
  {
   "cell_type": "code",
   "execution_count": null,
   "id": "d7b8bba4-618c-4771-972b-949b2f58e8de",
   "metadata": {},
   "outputs": [],
   "source": []
  }
 ],
 "metadata": {
  "kernelspec": {
   "display_name": "sperm",
   "language": "python",
   "name": "sperm"
  },
  "language_info": {
   "codemirror_mode": {
    "name": "ipython",
    "version": 3
   },
   "file_extension": ".py",
   "mimetype": "text/x-python",
   "name": "python",
   "nbconvert_exporter": "python",
   "pygments_lexer": "ipython3",
   "version": "3.11.10"
  }
 },
 "nbformat": 4,
 "nbformat_minor": 5
}
