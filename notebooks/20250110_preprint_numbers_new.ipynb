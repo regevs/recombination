{
 "cells": [
  {
   "cell_type": "code",
   "execution_count": 1,
   "id": "32c4a297-39ee-4727-96f0-0511c0a60aa4",
   "metadata": {
    "tags": []
   },
   "outputs": [],
   "source": [
    "%load_ext autoreload\n",
    "%autoreload 2"
   ]
  },
  {
   "cell_type": "code",
   "execution_count": 2,
   "id": "2a05f37d-8818-47c4-8e08-48cfe55088a2",
   "metadata": {
    "tags": []
   },
   "outputs": [],
   "source": [
    "import numpy as np\n",
    "import pandas as pd\n",
    "import matplotlib as mpl\n",
    "import matplotlib.pyplot as plt\n",
    "import matplotlib.ticker as ticker\n",
    "import numba\n",
    "import numba.typed\n",
    "\n",
    "from pathlib import Path\n",
    "import tqdm\n",
    "import sys\n",
    "import seaborn as sns\n",
    "import scipy.stats\n",
    "import os\n",
    "import pysam\n",
    "import pprint\n",
    "import pickle\n",
    "import joblib\n",
    "import subprocess\n",
    "import polars as pl\n",
    "import io\n",
    "\n",
    "# This is needed before pybedtools to make sure bedtools is imported on sanger JupyterHub \n",
    "os.environ[\"PATH\"] += \":\" + os.path.join(sys.prefix, \"bin\")\n",
    "import pybedtools\n",
    "\n",
    "pd.set_option('display.max_rows', 1000)\n"
   ]
  },
  {
   "cell_type": "code",
   "execution_count": 3,
   "id": "d9443771-8602-42fe-98bf-56ee9f62d541",
   "metadata": {
    "tags": []
   },
   "outputs": [],
   "source": [
    "sys.path.append(str(Path(os.getcwd()).parent))\n",
    "from src import liftover, annotate, diagnostics, inference\n",
    "from src.IDs import *"
   ]
  },
  {
   "cell_type": "markdown",
   "id": "ac10dd8a-61ce-4df2-86eb-4554fd917d61",
   "metadata": {},
   "source": [
    "# Basic stats"
   ]
  },
  {
   "cell_type": "code",
   "execution_count": 4,
   "id": "326f82d0-1b73-4210-a21a-a8aa5af6ae7b",
   "metadata": {
    "tags": []
   },
   "outputs": [],
   "source": [
    "# Analysis by Sangjin here: https://github.com/regevs/sperm/issues/54#issuecomment-2587179795"
   ]
  },
  {
   "cell_type": "code",
   "execution_count": 5,
   "id": "4e318f97-334e-497c-99bc-6a4c8953fac3",
   "metadata": {
    "tags": []
   },
   "outputs": [],
   "source": [
    "flow_cell_stats_df = (\n",
    "    pl.read_csv(\n",
    "        \"/lustre/scratch122/tol/projects/sperm/analysis/sequence_throughput/sequence_throughput_per_movie.csv\"\n",
    "    )\n",
    "    .with_columns(\n",
    "        sample_id = pl.col(\"Sample\"),\n",
    "        coverage = pl.col(\"Coverage\").cast(pl.Float64),\n",
    "        count = pl.col(\"Read count\").cast(pl.Int64),\n",
    "        mean = pl.col(\"Mean length (bp)\").str.split(by=' ± ').list.first().cast(pl.Float64),\n",
    "        std = pl.col(\"Mean length (bp)\").str.split(by=' ± ').list.last().cast(pl.Float64),\n",
    "    )\n",
    ")\n"
   ]
  },
  {
   "cell_type": "markdown",
   "id": "62755846-0f45-470d-ac9e-28328cb6100b",
   "metadata": {},
   "source": [
    "## Filter for only the used samples"
   ]
  },
  {
   "cell_type": "code",
   "execution_count": 6,
   "id": "d8fecb7a-3c20-4e87-8562-4448e0e43cb5",
   "metadata": {
    "tags": []
   },
   "outputs": [],
   "source": [
    "rahbari_df = pl.read_csv(\"/nfs/users/nfs_r/rs42/rs42/git/sperm/configs/Rahbari.tsv\", separator='\\t')\n",
    "\n",
    "sudmant_df = (\n",
    "    pl.read_csv(\"/nfs/users/nfs_r/rs42/rs42/git/sperm/configs/Sudmant.tsv\", separator='\\t')\n",
    "    .with_columns(\n",
    "        pl.col(\"sample_set\").cast(pl.String),\n",
    "        pl.col(\"sample_id\").cast(pl.String),\n",
    "    )\n",
    ")\n",
    "\n",
    "CEPH_df = pl.read_csv(\"/nfs/users/nfs_r/rs42/rs42/git/sperm/configs/CEPH.tsv\", separator='\\t')\n"
   ]
  },
  {
   "cell_type": "code",
   "execution_count": 7,
   "id": "4e21b453-f843-402a-b095-f5f0458f73aa",
   "metadata": {
    "tags": []
   },
   "outputs": [],
   "source": [
    "unique_ids = pl.concat([\n",
    "    rahbari_df[\"flow_cell\"],\n",
    "    sudmant_df[\"flow_cell\"],\n",
    "    CEPH_df[\"flow_cell\"],\n",
    "    flow_cell_stats_df.filter(pl.col(\"Sample\").is_in([\"PD47269d\", \"PD48473b\"]))[\"Movie\"],   # Campbell blood samples\n",
    "]).unique()"
   ]
  },
  {
   "cell_type": "code",
   "execution_count": 8,
   "id": "f2e6b8b1-9c2f-44dc-943c-396b51847dd1",
   "metadata": {
    "tags": []
   },
   "outputs": [],
   "source": [
    "stats_df = (flow_cell_stats_df.filter(pl.col(\"Movie\").is_in(unique_ids)))"
   ]
  },
  {
   "cell_type": "code",
   "execution_count": null,
   "id": "80b2e323-dc01-4e84-9538-9383026ce460",
   "metadata": {
    "tags": []
   },
   "outputs": [],
   "source": []
  },
  {
   "cell_type": "code",
   "execution_count": 9,
   "id": "bfb07c8e-1c51-48d0-9b52-2b4787a1e020",
   "metadata": {
    "tags": []
   },
   "outputs": [],
   "source": [
    "ceph_sample_ids_no_gps = sorted([x for x in CEPH_df[\"sample_id\"].unique().to_list() if x not in [\"NA12889\", \"NA12890\", \"NA12891\", \"NA12892\"]])"
   ]
  },
  {
   "cell_type": "code",
   "execution_count": 10,
   "id": "84e29475-f4aa-49da-8f2a-e148a0393361",
   "metadata": {
    "tags": []
   },
   "outputs": [
    {
     "data": {
      "text/plain": [
       "12"
      ]
     },
     "execution_count": 10,
     "metadata": {},
     "output_type": "execute_result"
    }
   ],
   "source": [
    "len(ceph_sample_ids_no_gps)\n"
   ]
  },
  {
   "cell_type": "code",
   "execution_count": null,
   "id": "b5f1c852-4616-434a-97e1-fb78ee524b0e",
   "metadata": {},
   "outputs": [],
   "source": []
  },
  {
   "cell_type": "markdown",
   "id": "e30fd7e6-5644-4e6d-a796-1ef88e0a663d",
   "metadata": {},
   "source": [
    "## Read coverage"
   ]
  },
  {
   "cell_type": "code",
   "execution_count": 11,
   "id": "759cbd6b-c19c-4c23-b88d-43292c6b2c12",
   "metadata": {
    "tags": []
   },
   "outputs": [],
   "source": [
    "coverage_per_sample = stats_df.group_by(\"sample_id\").agg(pl.col(\"coverage\").sum())"
   ]
  },
  {
   "cell_type": "code",
   "execution_count": 13,
   "id": "d8ff28c8-0c1a-44a4-96cc-a293207a1a46",
   "metadata": {
    "tags": []
   },
   "outputs": [
    {
     "name": "stdout",
     "output_type": "stream",
     "text": [
      "Average coverage: 57.687878787878795\n"
     ]
    }
   ],
   "source": [
    "print(\"Average coverage:\", coverage_per_sample[\"coverage\"].mean())"
   ]
  },
  {
   "cell_type": "code",
   "execution_count": 14,
   "id": "97df43fb-1dc4-4b5b-8202-2609ab76e8de",
   "metadata": {
    "tags": []
   },
   "outputs": [
    {
     "name": "stdout",
     "output_type": "stream",
     "text": [
      "Range coverage: 17.25 159.14000000000001\n"
     ]
    }
   ],
   "source": [
    "print(\"Range coverage:\", coverage_per_sample[\"coverage\"].min(), coverage_per_sample[\"coverage\"].max())"
   ]
  },
  {
   "cell_type": "markdown",
   "id": "6cfc4a57-fcf3-4769-bda3-31c76bb77e7d",
   "metadata": {},
   "source": [
    "## Get read counts"
   ]
  },
  {
   "cell_type": "code",
   "execution_count": 15,
   "id": "adc9fa50-9308-4c72-9571-918b106fd928",
   "metadata": {},
   "outputs": [
    {
     "name": "stdout",
     "output_type": "stream",
     "text": [
      "Total number of reads (before any processing): 403873298\n"
     ]
    }
   ],
   "source": [
    "print(\"Total number of reads (before any processing):\", stats_df[\"count\"].sum())"
   ]
  },
  {
   "cell_type": "code",
   "execution_count": 16,
   "id": "d21c713c-9e15-4be5-9087-577debc6d926",
   "metadata": {
    "tags": []
   },
   "outputs": [
    {
     "name": "stdout",
     "output_type": "stream",
     "text": [
      "Total number of reads (before any processing), Rahbari sperm: 219381164\n"
     ]
    }
   ],
   "source": [
    "print(\"Total number of reads (before any processing), Rahbari sperm:\", stats_df.filter(pl.col(\"sample_id\").is_in(rahbari_sample_ids))[\"count\"].sum())"
   ]
  },
  {
   "cell_type": "code",
   "execution_count": 17,
   "id": "bdeeef70-cb85-44d5-97d8-e57d56feca78",
   "metadata": {
    "tags": []
   },
   "outputs": [
    {
     "name": "stdout",
     "output_type": "stream",
     "text": [
      "Total number of reads (before any processing), Sudmant sperm: 48080396\n"
     ]
    }
   ],
   "source": [
    "print(\"Total number of reads (before any processing), Sudmant sperm:\", stats_df.filter(pl.col(\"sample_id\").is_in(sudmant_sample_ids))[\"count\"].sum())\n",
    "      "
   ]
  },
  {
   "cell_type": "code",
   "execution_count": 18,
   "id": "b8492c6b-8729-4662-b8b5-c6e551ca31c8",
   "metadata": {
    "tags": []
   },
   "outputs": [
    {
     "name": "stdout",
     "output_type": "stream",
     "text": [
      "Total number of reads (before any processing), total sperm: 267461560\n"
     ]
    }
   ],
   "source": [
    "print(\"Total number of reads (before any processing), total sperm:\", \n",
    "    stats_df.filter(pl.col(\"sample_id\").is_in(rahbari_sample_ids + sudmant_sample_ids))[\"count\"].sum()\n",
    ")"
   ]
  },
  {
   "cell_type": "code",
   "execution_count": 19,
   "id": "8033f63d-9551-4456-b4f4-221e0600f7f1",
   "metadata": {
    "tags": []
   },
   "outputs": [
    {
     "name": "stdout",
     "output_type": "stream",
     "text": [
      "Total number of reads (before any processing), Campbell blood: 17609178\n"
     ]
    }
   ],
   "source": [
    "print(\"Total number of reads (before any processing), Campbell blood:\", \n",
    "    stats_df.filter(pl.col(\"sample_id\").is_in([\"PD47269d\", \"PD48473b\"]))[\"count\"].sum()\n",
    ")"
   ]
  },
  {
   "cell_type": "code",
   "execution_count": 18,
   "id": "44037d1b-e948-41b0-81a4-d2d063162fb2",
   "metadata": {
    "tags": []
   },
   "outputs": [
    {
     "name": "stdout",
     "output_type": "stream",
     "text": [
      "Total number of reads (before any processing), CEPH blood: 94043625\n"
     ]
    }
   ],
   "source": [
    "print(\"Total number of reads (before any processing), CEPH blood:\", \n",
    "    stats_df.filter(pl.col(\"sample_id\").is_in(ceph_sample_ids_no_gps))[\"count\"].sum()\n",
    ")"
   ]
  },
  {
   "cell_type": "code",
   "execution_count": null,
   "id": "7697795d-5d49-4bf4-8219-da91c15edc58",
   "metadata": {},
   "outputs": [],
   "source": []
  },
  {
   "cell_type": "code",
   "execution_count": 80,
   "id": "89d70485-5d0c-4c3a-9968-81b2fea1578b",
   "metadata": {
    "tags": []
   },
   "outputs": [
    {
     "name": "stdout",
     "output_type": "stream",
     "text": [
      "Average read length, sperm: 13160.820895532914\n"
     ]
    }
   ],
   "source": [
    "sperm_stats_df = stats_df.filter(pl.col(\"sample_id\").is_in(rahbari_sample_ids + sudmant_sample_ids))\n",
    "\n",
    "print(\"Average read length, sperm:\", (sperm_stats_df[\"mean\"] * sperm_stats_df[\"count\"]).sum() / sperm_stats_df[\"count\"].sum())"
   ]
  },
  {
   "cell_type": "code",
   "execution_count": 19,
   "id": "254af7b5-1d07-45f8-a478-f1ac2b39ada6",
   "metadata": {
    "tags": []
   },
   "outputs": [
    {
     "name": "stdout",
     "output_type": "stream",
     "text": [
      "Average read length, sperm: 14479.788050218396\n"
     ]
    }
   ],
   "source": [
    "ceph_stats_df = stats_df.filter(pl.col(\"sample_id\").is_in(ceph_sample_ids_no_gps))\n",
    "\n",
    "print(\"Average read length, sperm:\", (ceph_stats_df[\"mean\"] * ceph_stats_df[\"count\"]).sum() / ceph_stats_df[\"count\"].sum())"
   ]
  },
  {
   "cell_type": "code",
   "execution_count": null,
   "id": "1e77300f-0c6f-462f-a0f3-a03d534de76a",
   "metadata": {},
   "outputs": [],
   "source": []
  },
  {
   "cell_type": "markdown",
   "id": "71529430-e6ba-4d23-a79e-b7e1058d4771",
   "metadata": {},
   "source": [
    "## Per sample stats"
   ]
  },
  {
   "cell_type": "code",
   "execution_count": 104,
   "id": "01c4b459-db00-4e18-8e82-6b8ea57fa6fc",
   "metadata": {
    "tags": []
   },
   "outputs": [
    {
     "data": {
      "text/html": [
       "<div><style>\n",
       ".dataframe > thead > tr,\n",
       ".dataframe > tbody > tr {\n",
       "  text-align: right;\n",
       "  white-space: pre-wrap;\n",
       "}\n",
       "</style>\n",
       "<small>shape: (9, 5)</small><table border=\"1\" class=\"dataframe\"><thead><tr><th>paper_label_id</th><th>sample_id</th><th>n_reads</th><th>read_length</th><th>coverage</th></tr><tr><td>str</td><td>str</td><td>i64</td><td>str</td><td>f64</td></tr></thead><tbody><tr><td>&quot;AA1-s1&quot;</td><td>&quot;PD50508b&quot;</td><td>14,366,105</td><td>&quot;12647&nbsp;±&nbsp;4536&quot;</td><td>60.58</td></tr><tr><td>&quot;AA1-s2&quot;</td><td>&quot;PD50508f&quot;</td><td>3,040,994</td><td>&quot;17011&nbsp;±&nbsp;3308&quot;</td><td>17.25</td></tr><tr><td>&quot;AA2-t1&quot;</td><td>&quot;PD46180c&quot;</td><td>29,375,470</td><td>&quot;13929&nbsp;±&nbsp;5568&quot;</td><td>136.38</td></tr><tr><td>&quot;AA2-t2&quot;</td><td>&quot;PD50519d&quot;</td><td>33,329,411</td><td>&quot;12047&nbsp;±&nbsp;5315&quot;</td><td>133.84</td></tr><tr><td>&quot;AA3&quot;</td><td>&quot;PD50477f&quot;</td><td>38,422,720</td><td>&quot;11232&nbsp;±&nbsp;4354&quot;</td><td>143.85</td></tr><tr><td>&quot;AA4&quot;</td><td>&quot;PD50489e&quot;</td><td>25,190,427</td><td>&quot;10548&nbsp;±&nbsp;5358&quot;</td><td>88.58</td></tr><tr><td>&quot;AD&quot;</td><td>&quot;PD50523b&quot;</td><td>35,591,943</td><td>&quot;13413&nbsp;±&nbsp;4821&quot;</td><td>159.14</td></tr><tr><td>&quot;AN-s1&quot;</td><td>&quot;PD50521b&quot;</td><td>11,618,202</td><td>&quot;14522&nbsp;±&nbsp;4111&quot;</td><td>56.24</td></tr><tr><td>&quot;AN-s2&quot;</td><td>&quot;PD50521e&quot;</td><td>28,445,892</td><td>&quot;10863&nbsp;±&nbsp;4401&quot;</td><td>103.02</td></tr></tbody></table></div>"
      ],
      "text/plain": [
       "shape: (9, 5)\n",
       "┌────────────────┬───────────┬────────────┬──────────────┬──────────┐\n",
       "│ paper_label_id ┆ sample_id ┆ n_reads    ┆ read_length  ┆ coverage │\n",
       "│ ---            ┆ ---       ┆ ---        ┆ ---          ┆ ---      │\n",
       "│ str            ┆ str       ┆ i64        ┆ str          ┆ f64      │\n",
       "╞════════════════╪═══════════╪════════════╪══════════════╪══════════╡\n",
       "│ AA1-s1         ┆ PD50508b  ┆ 14,366,105 ┆ 12647 ± 4536 ┆ 60.58    │\n",
       "│ AA1-s2         ┆ PD50508f  ┆ 3,040,994  ┆ 17011 ± 3308 ┆ 17.25    │\n",
       "│ AA2-t1         ┆ PD46180c  ┆ 29,375,470 ┆ 13929 ± 5568 ┆ 136.38   │\n",
       "│ AA2-t2         ┆ PD50519d  ┆ 33,329,411 ┆ 12047 ± 5315 ┆ 133.84   │\n",
       "│ AA3            ┆ PD50477f  ┆ 38,422,720 ┆ 11232 ± 4354 ┆ 143.85   │\n",
       "│ AA4            ┆ PD50489e  ┆ 25,190,427 ┆ 10548 ± 5358 ┆ 88.58    │\n",
       "│ AD             ┆ PD50523b  ┆ 35,591,943 ┆ 13413 ± 4821 ┆ 159.14   │\n",
       "│ AN-s1          ┆ PD50521b  ┆ 11,618,202 ┆ 14522 ± 4111 ┆ 56.24    │\n",
       "│ AN-s2          ┆ PD50521e  ┆ 28,445,892 ┆ 10863 ± 4401 ┆ 103.02   │\n",
       "└────────────────┴───────────┴────────────┴──────────────┴──────────┘"
      ]
     },
     "metadata": {},
     "output_type": "display_data"
    },
    {
     "data": {
      "text/html": [
       "<div><style>\n",
       ".dataframe > thead > tr,\n",
       ".dataframe > tbody > tr {\n",
       "  text-align: right;\n",
       "  white-space: pre-wrap;\n",
       "}\n",
       "</style>\n",
       "<small>shape: (6, 5)</small><table border=\"1\" class=\"dataframe\"><thead><tr><th>paper_label_id</th><th>sample_id</th><th>n_reads</th><th>read_length</th><th>coverage</th></tr><tr><td>str</td><td>str</td><td>i64</td><td>str</td><td>f64</td></tr></thead><tbody><tr><td>&quot;AA5&quot;</td><td>&quot;1894&quot;</td><td>9,181,559</td><td>&quot;17527&nbsp;±&nbsp;4909&quot;</td><td>53.65</td></tr><tr><td>&quot;AA6&quot;</td><td>&quot;3898&quot;</td><td>8,634,738</td><td>&quot;17985&nbsp;±&nbsp;4982&quot;</td><td>51.76</td></tr><tr><td>&quot;AA7&quot;</td><td>&quot;7899&quot;</td><td>5,367,893</td><td>&quot;16846&nbsp;±&nbsp;4671&quot;</td><td>30.14</td></tr><tr><td>&quot;AA8&quot;</td><td>&quot;95619&quot;</td><td>8,876,456</td><td>&quot;16835&nbsp;±&nbsp;5001&quot;</td><td>49.82</td></tr><tr><td>&quot;AA9&quot;</td><td>&quot;115980&quot;</td><td>9,037,595</td><td>&quot;16197&nbsp;±&nbsp;4788&quot;</td><td>48.80</td></tr><tr><td>&quot;AB&quot;</td><td>&quot;2895&quot;</td><td>6,982,155</td><td>&quot;17318&nbsp;±&nbsp;4406&quot;</td><td>40.31</td></tr></tbody></table></div>"
      ],
      "text/plain": [
       "shape: (6, 5)\n",
       "┌────────────────┬───────────┬───────────┬──────────────┬──────────┐\n",
       "│ paper_label_id ┆ sample_id ┆ n_reads   ┆ read_length  ┆ coverage │\n",
       "│ ---            ┆ ---       ┆ ---       ┆ ---          ┆ ---      │\n",
       "│ str            ┆ str       ┆ i64       ┆ str          ┆ f64      │\n",
       "╞════════════════╪═══════════╪═══════════╪══════════════╪══════════╡\n",
       "│ AA5            ┆ 1894      ┆ 9,181,559 ┆ 17527 ± 4909 ┆ 53.65    │\n",
       "│ AA6            ┆ 3898      ┆ 8,634,738 ┆ 17985 ± 4982 ┆ 51.76    │\n",
       "│ AA7            ┆ 7899      ┆ 5,367,893 ┆ 16846 ± 4671 ┆ 30.14    │\n",
       "│ AA8            ┆ 95619     ┆ 8,876,456 ┆ 16835 ± 5001 ┆ 49.82    │\n",
       "│ AA9            ┆ 115980    ┆ 9,037,595 ┆ 16197 ± 4788 ┆ 48.80    │\n",
       "│ AB             ┆ 2895      ┆ 6,982,155 ┆ 17318 ± 4406 ┆ 40.31    │\n",
       "└────────────────┴───────────┴───────────┴──────────────┴──────────┘"
      ]
     },
     "metadata": {},
     "output_type": "display_data"
    },
    {
     "data": {
      "text/html": [
       "<div><style>\n",
       ".dataframe > thead > tr,\n",
       ".dataframe > tbody > tr {\n",
       "  text-align: right;\n",
       "  white-space: pre-wrap;\n",
       "}\n",
       "</style>\n",
       "<small>shape: (16, 5)</small><table border=\"1\" class=\"dataframe\"><thead><tr><th>paper_label_id</th><th>sample_id</th><th>n_reads</th><th>read_length</th><th>coverage</th></tr><tr><td>str</td><td>str</td><td>i64</td><td>str</td><td>f64</td></tr></thead><tbody><tr><td>null</td><td>&quot;200100&quot;</td><td>6,619,579</td><td>&quot;12059&nbsp;±&nbsp;4021&quot;</td><td>26.61</td></tr><tr><td>null</td><td>&quot;200101&quot;</td><td>9,188,613</td><td>&quot;10183&nbsp;±&nbsp;4541&quot;</td><td>31.20</td></tr><tr><td>null</td><td>&quot;200102&quot;</td><td>9,387,139</td><td>&quot;12443&nbsp;±&nbsp;5279&quot;</td><td>38.94</td></tr><tr><td>null</td><td>&quot;200104&quot;</td><td>5,045,933</td><td>&quot;12890&nbsp;±&nbsp;5513&quot;</td><td>21.68</td></tr><tr><td>null</td><td>&quot;200106&quot;</td><td>4,635,172</td><td>&quot;13215&nbsp;±&nbsp;4344&quot;</td><td>20.42</td></tr><tr><td>null</td><td>&quot;NA12877&quot;</td><td>11,128,682</td><td>&quot;17804&nbsp;±&nbsp;3246&quot;</td><td>66.04</td></tr><tr><td>null</td><td>&quot;NA12878&quot;</td><td>11,480,931</td><td>&quot;16119&nbsp;±&nbsp;3558&quot;</td><td>61.69</td></tr><tr><td>null</td><td>&quot;NA12879&quot;</td><td>4,933,624</td><td>&quot;17756&nbsp;±&nbsp;4595&quot;</td><td>29.21</td></tr><tr><td>null</td><td>&quot;NA12881&quot;</td><td>5,187,297</td><td>&quot;22961&nbsp;±&nbsp;4870&quot;</td><td>39.71</td></tr><tr><td>null</td><td>&quot;NA12882&quot;</td><td>9,123,387</td><td>&quot;14996&nbsp;±&nbsp;5110&quot;</td><td>45.61</td></tr><tr><td>null</td><td>&quot;NA12885&quot;</td><td>11,006,516</td><td>&quot;11331&nbsp;±&nbsp;4179&quot;</td><td>41.57</td></tr><tr><td>null</td><td>&quot;NA12886&quot;</td><td>6,306,752</td><td>&quot;14866&nbsp;±&nbsp;5469&quot;</td><td>31.25</td></tr><tr><td>null</td><td>&quot;NA12889&quot;</td><td>6,213,173</td><td>&quot;22196&nbsp;±&nbsp;4643&quot;</td><td>45.97</td></tr><tr><td>null</td><td>&quot;NA12890&quot;</td><td>6,219,361</td><td>&quot;21482&nbsp;±&nbsp;4485&quot;</td><td>44.53</td></tr><tr><td>null</td><td>&quot;NA12891&quot;</td><td>6,678,254</td><td>&quot;19497&nbsp;±&nbsp;3268&quot;</td><td>43.41</td></tr><tr><td>null</td><td>&quot;NA12892&quot;</td><td>5,648,147</td><td>&quot;22397&nbsp;±&nbsp;5360&quot;</td><td>42.17</td></tr></tbody></table></div>"
      ],
      "text/plain": [
       "shape: (16, 5)\n",
       "┌────────────────┬───────────┬────────────┬──────────────┬──────────┐\n",
       "│ paper_label_id ┆ sample_id ┆ n_reads    ┆ read_length  ┆ coverage │\n",
       "│ ---            ┆ ---       ┆ ---        ┆ ---          ┆ ---      │\n",
       "│ str            ┆ str       ┆ i64        ┆ str          ┆ f64      │\n",
       "╞════════════════╪═══════════╪════════════╪══════════════╪══════════╡\n",
       "│ null           ┆ 200100    ┆ 6,619,579  ┆ 12059 ± 4021 ┆ 26.61    │\n",
       "│ null           ┆ 200101    ┆ 9,188,613  ┆ 10183 ± 4541 ┆ 31.20    │\n",
       "│ null           ┆ 200102    ┆ 9,387,139  ┆ 12443 ± 5279 ┆ 38.94    │\n",
       "│ null           ┆ 200104    ┆ 5,045,933  ┆ 12890 ± 5513 ┆ 21.68    │\n",
       "│ null           ┆ 200106    ┆ 4,635,172  ┆ 13215 ± 4344 ┆ 20.42    │\n",
       "│ null           ┆ NA12877   ┆ 11,128,682 ┆ 17804 ± 3246 ┆ 66.04    │\n",
       "│ null           ┆ NA12878   ┆ 11,480,931 ┆ 16119 ± 3558 ┆ 61.69    │\n",
       "│ null           ┆ NA12879   ┆ 4,933,624  ┆ 17756 ± 4595 ┆ 29.21    │\n",
       "│ null           ┆ NA12881   ┆ 5,187,297  ┆ 22961 ± 4870 ┆ 39.71    │\n",
       "│ null           ┆ NA12882   ┆ 9,123,387  ┆ 14996 ± 5110 ┆ 45.61    │\n",
       "│ null           ┆ NA12885   ┆ 11,006,516 ┆ 11331 ± 4179 ┆ 41.57    │\n",
       "│ null           ┆ NA12886   ┆ 6,306,752  ┆ 14866 ± 5469 ┆ 31.25    │\n",
       "│ null           ┆ NA12889   ┆ 6,213,173  ┆ 22196 ± 4643 ┆ 45.97    │\n",
       "│ null           ┆ NA12890   ┆ 6,219,361  ┆ 21482 ± 4485 ┆ 44.53    │\n",
       "│ null           ┆ NA12891   ┆ 6,678,254  ┆ 19497 ± 3268 ┆ 43.41    │\n",
       "│ null           ┆ NA12892   ┆ 5,648,147  ┆ 22397 ± 5360 ┆ 42.17    │\n",
       "└────────────────┴───────────┴────────────┴──────────────┴──────────┘"
      ]
     },
     "metadata": {},
     "output_type": "display_data"
    }
   ],
   "source": [
    "for ids in rahbari_sample_ids, sudmant_sample_ids, ceph_sample_ids:\n",
    "    df = (\n",
    "        (stats_df\n",
    "            .filter(pl.col(\"sample_id\").is_in(ids))\n",
    "            .group_by(\"sample_id\")\n",
    "            .agg(\n",
    "                n_reads = pl.col(\"count\").sum(),\n",
    "                mean_read_length = ((pl.col(\"mean\") * pl.col(\"count\")).sum() / pl.col(\"count\").sum()),\n",
    "                std_read_length = ((pl.col(\"std\") * pl.col(\"count\")).sum() / pl.col(\"count\").sum()),\n",
    "            )\n",
    "        )\n",
    "        .join(\n",
    "            pl.DataFrame(\n",
    "                {\n",
    "                    \"sample_id\": sample_presentation_order, \n",
    "                    \"paper_label_id\": [sample_id_to_paper_label[x] for x in sample_presentation_order]\n",
    "                }\n",
    "            ),\n",
    "            on=\"sample_id\",\n",
    "            how=\"left\",\n",
    "        )\n",
    "        .join(\n",
    "            coverage_per_sample,\n",
    "            on=\"sample_id\",\n",
    "            how=\"left\",\n",
    "        )\n",
    "        .join(\n",
    "            (stats_df\n",
    "                .pivot(\n",
    "                    values=[\"Instrument\"],\n",
    "                    index=[\"sample_id\"],\n",
    "                    on=[\"Instrument\"],\n",
    "                    aggregate_function='len'\n",
    "                ) \n",
    "                .fill_null(0)\n",
    "            ),\n",
    "            on=\"sample_id\",\n",
    "            how=\"left\",\n",
    "        )\n",
    "        .sort(\"paper_label_id\", \"sample_id\")\n",
    "        .select(\n",
    "            \"paper_label_id\",\n",
    "            \"sample_id\",\n",
    "            \"n_reads\",\n",
    "            pl.format(\"{} ± {}\", pl.col(\"mean_read_length\").cast(int), pl.col(\"std_read_length\").cast(int)).alias(\"read_length\"),\n",
    "            \"coverage\",\n",
    "        )\n",
    "    )\n",
    "    with pl.Config(thousands_separator=\",\", float_precision=2, tbl_rows=40):\n",
    "        display(df)"
   ]
  },
  {
   "cell_type": "code",
   "execution_count": null,
   "id": "2484138d-911b-4f9c-8787-5c7eee50316f",
   "metadata": {},
   "outputs": [],
   "source": []
  },
  {
   "cell_type": "code",
   "execution_count": null,
   "id": "929cd134-b074-4ae5-9256-088d5b3f9dc9",
   "metadata": {},
   "outputs": [],
   "source": []
  },
  {
   "cell_type": "code",
   "execution_count": null,
   "id": "1e4464ca-2213-43b1-9266-f4bb1c61c0b9",
   "metadata": {},
   "outputs": [],
   "source": []
  },
  {
   "cell_type": "markdown",
   "id": "889e64c0-c5bf-4a82-a78b-cb1e1e721b0e",
   "metadata": {},
   "source": [
    "# Get read counts after filtering"
   ]
  },
  {
   "cell_type": "code",
   "execution_count": 3,
   "id": "c297c5e9-d809-4f25-a877-ff73628e9c86",
   "metadata": {
    "tags": []
   },
   "outputs": [
    {
     "ename": "NameError",
     "evalue": "name 'pl' is not defined",
     "output_type": "error",
     "traceback": [
      "\u001b[0;31m---------------------------------------------------------------------------\u001b[0m",
      "\u001b[0;31mNameError\u001b[0m                                 Traceback (most recent call last)",
      "File \u001b[0;32m<timed exec>:1\u001b[0m\n",
      "\u001b[0;31mNameError\u001b[0m: name 'pl' is not defined"
     ]
    }
   ],
   "source": [
    "%%time\n",
    "reads_df = pl.concat(\n",
    "    [\n",
    "        pl.scan_parquet(\n",
    "            f\"/lustre/scratch122/tol/projects/sperm/results/Rahbari_20250212/read_analysis/{sample_set}/{sample_id}/reads/{chrom}/all_reads_structure_annotated.parquet\",\n",
    "        ) \n",
    "        for sample_id, sample_set in tqdm.tqdm(rahbari_df.select(\"sample_id\", \"sample_set\").unique().iter_rows())\n",
    "        for chrom in aut_chrom_names\n",
    "    ] + \n",
    "    [\n",
    "        pl.scan_parquet(\n",
    "            f\"/lustre/scratch122/tol/projects/sperm/results/Sudmant_20241121/read_analysis/{sample_set}/{sample_id}/reads/{chrom}/all_reads_structure_annotated.parquet\",\n",
    "        ) \n",
    "        for sample_id, sample_set in tqdm.tqdm(sudmant_df.select(\"sample_id\", \"sample_set\").unique().iter_rows())\n",
    "        for chrom in aut_chrom_names\n",
    "    ]\n",
    ")"
   ]
  },
  {
   "cell_type": "code",
   "execution_count": 106,
   "id": "997192f7-2672-485c-b58b-da242685ed90",
   "metadata": {},
   "outputs": [
    {
     "name": "stdout",
     "output_type": "stream",
     "text": [
      "CPU times: user 5.47 s, sys: 3.36 s, total: 8.84 s\n",
      "Wall time: 14.2 s\n"
     ]
    },
    {
     "data": {
      "text/html": [
       "<div><style>\n",
       ".dataframe > thead > tr,\n",
       ".dataframe > tbody > tr {\n",
       "  text-align: right;\n",
       "  white-space: pre-wrap;\n",
       "}\n",
       "</style>\n",
       "<small>shape: (1, 1)</small><table border=\"1\" class=\"dataframe\"><thead><tr><th>len</th></tr><tr><td>u32</td></tr></thead><tbody><tr><td>196296004</td></tr></tbody></table></div>"
      ],
      "text/plain": [
       "shape: (1, 1)\n",
       "┌───────────┐\n",
       "│ len       │\n",
       "│ ---       │\n",
       "│ u32       │\n",
       "╞═══════════╡\n",
       "│ 196296004 │\n",
       "└───────────┘"
      ]
     },
     "execution_count": 106,
     "metadata": {},
     "output_type": "execute_result"
    }
   ],
   "source": [
    "%%time\n",
    "(reads_df\n",
    "    .filter(pl.col(\"is_high_quality_read\")  )\n",
    "    .select(pl.len())\n",
    ").collect()"
   ]
  },
  {
   "cell_type": "code",
   "execution_count": 107,
   "id": "877ff3a4-c329-4cf0-99d1-2084e5aa6b0a",
   "metadata": {
    "tags": []
   },
   "outputs": [
    {
     "name": "stderr",
     "output_type": "stream",
     "text": [
      "16it [00:00, 2304.17it/s]"
     ]
    },
    {
     "name": "stdout",
     "output_type": "stream",
     "text": [
      "CPU times: user 12.1 ms, sys: 5.22 ms, total: 17.4 ms\n",
      "Wall time: 10.2 ms\n"
     ]
    },
    {
     "name": "stderr",
     "output_type": "stream",
     "text": [
      "\n"
     ]
    }
   ],
   "source": [
    "%%time\n",
    "ceph_reads_df = pl.concat(\n",
    "    [\n",
    "        pl.scan_parquet(\n",
    "            f\"/lustre/scratch122/tol/projects/sperm/results/CEPH_20250212/read_analysis/{sample_set}/{sample_id}/reads/{chrom}/all_reads_structure_annotated.parquet\",\n",
    "        ) \n",
    "        for sample_id, sample_set in tqdm.tqdm(ceph_df.select(\"sample_id\", \"sample_set\").unique().iter_rows())\n",
    "        for chrom in aut_chrom_names\n",
    "    ] \n",
    ")"
   ]
  },
  {
   "cell_type": "code",
   "execution_count": 108,
   "id": "2d5fbfc0-f9ad-44bb-b82e-9dfc5ce015bd",
   "metadata": {
    "tags": []
   },
   "outputs": [
    {
     "name": "stdout",
     "output_type": "stream",
     "text": [
      "CPU times: user 2.71 s, sys: 725 ms, total: 3.43 s\n",
      "Wall time: 12.1 s\n"
     ]
    },
    {
     "data": {
      "text/html": [
       "<div><style>\n",
       ".dataframe > thead > tr,\n",
       ".dataframe > tbody > tr {\n",
       "  text-align: right;\n",
       "  white-space: pre-wrap;\n",
       "}\n",
       "</style>\n",
       "<small>shape: (1, 1)</small><table border=\"1\" class=\"dataframe\"><thead><tr><th>len</th></tr><tr><td>u32</td></tr></thead><tbody><tr><td>88206531</td></tr></tbody></table></div>"
      ],
      "text/plain": [
       "shape: (1, 1)\n",
       "┌──────────┐\n",
       "│ len      │\n",
       "│ ---      │\n",
       "│ u32      │\n",
       "╞══════════╡\n",
       "│ 88206531 │\n",
       "└──────────┘"
      ]
     },
     "execution_count": 108,
     "metadata": {},
     "output_type": "execute_result"
    }
   ],
   "source": [
    "%%time\n",
    "(ceph_reads_df\n",
    "    .filter(pl.col(\"is_high_quality_read\"))\n",
    "    .select(pl.len())\n",
    ").collect()"
   ]
  },
  {
   "cell_type": "code",
   "execution_count": null,
   "id": "4a569921-7b51-4a1f-96ec-0f63eb52d12a",
   "metadata": {},
   "outputs": [],
   "source": []
  },
  {
   "cell_type": "markdown",
   "id": "534838e5-f1fc-4a41-a4ff-b85b67be67aa",
   "metadata": {},
   "source": [
    "# Number of SNPs"
   ]
  },
  {
   "cell_type": "code",
   "execution_count": 6,
   "id": "4bb4bec7-14b7-44a0-a090-74317f6e96f8",
   "metadata": {
    "tags": []
   },
   "outputs": [
    {
     "name": "stderr",
     "output_type": "stream",
     "text": [
      "56it [00:00, 1369.93it/s]\n",
      "12it [00:00, 1560.77it/s]"
     ]
    },
    {
     "name": "stdout",
     "output_type": "stream",
     "text": [
      "CPU times: user 47.7 ms, sys: 11.7 ms, total: 59.4 ms\n",
      "Wall time: 58.2 ms\n"
     ]
    },
    {
     "name": "stderr",
     "output_type": "stream",
     "text": [
      "\n"
     ]
    }
   ],
   "source": [
    "%%time\n",
    "all_snps = pl.concat(\n",
    "    [\n",
    "        pl.scan_parquet(\n",
    "            f\"/lustre/scratch122/tol/projects/sperm/results/Rahbari_20250212/read_analysis/{sample_set}/{sample_id}/{flow_cell}/{chrom}/annotated_0.95_high_confidence_snps.parquet\",\n",
    "        ) \n",
    "        for sample_id, sample_set, flow_cell in tqdm.tqdm(rahbari_df.select(\"sample_id\", \"sample_set\", \"flow_cell\").iter_rows())\n",
    "        for chrom in aut_chrom_names\n",
    "    ] + \n",
    "    [\n",
    "        pl.scan_parquet(\n",
    "            f\"/lustre/scratch122/tol/projects/sperm/results/Sudmant_20241121/read_analysis/{sample_set}/{sample_id}/{flow_cell}/{chrom}/annotated_0.95_high_confidence_snps.parquet\",\n",
    "        ) \n",
    "        for sample_id, sample_set, flow_cell in tqdm.tqdm(sudmant_df.select(\"sample_id\", \"sample_set\", \"flow_cell\").iter_rows())\n",
    "        for chrom in aut_chrom_names\n",
    "    ]\n",
    ")\n"
   ]
  },
  {
   "cell_type": "code",
   "execution_count": 110,
   "id": "6712044b-f351-4c88-91d4-997b6830981f",
   "metadata": {},
   "outputs": [
    {
     "name": "stdout",
     "output_type": "stream",
     "text": [
      "CPU times: user 4.12 s, sys: 2.26 s, total: 6.39 s\n",
      "Wall time: 1min 18s\n"
     ]
    },
    {
     "data": {
      "text/html": [
       "<div><style>\n",
       ".dataframe > thead > tr,\n",
       ".dataframe > tbody > tr {\n",
       "  text-align: right;\n",
       "  white-space: pre-wrap;\n",
       "}\n",
       "</style>\n",
       "<small>shape: (1, 1)</small><table border=\"1\" class=\"dataframe\"><thead><tr><th>len</th></tr><tr><td>u32</td></tr></thead><tbody><tr><td>3021086931</td></tr></tbody></table></div>"
      ],
      "text/plain": [
       "shape: (1, 1)\n",
       "┌────────────┐\n",
       "│ len        │\n",
       "│ ---        │\n",
       "│ u32        │\n",
       "╞════════════╡\n",
       "│ 3021086931 │\n",
       "└────────────┘"
      ]
     },
     "execution_count": 110,
     "metadata": {},
     "output_type": "execute_result"
    }
   ],
   "source": [
    "%%time\n",
    "all_snps.select(pl.len()).collect()"
   ]
  },
  {
   "cell_type": "code",
   "execution_count": 111,
   "id": "f0f48ce4-541f-4b24-8de7-6024160381c4",
   "metadata": {},
   "outputs": [
    {
     "name": "stdout",
     "output_type": "stream",
     "text": [
      "CPU times: user 2min 16s, sys: 2min 11s, total: 4min 27s\n",
      "Wall time: 2min 17s\n"
     ]
    },
    {
     "data": {
      "text/html": [
       "<div><style>\n",
       ".dataframe > thead > tr,\n",
       ".dataframe > tbody > tr {\n",
       "  text-align: right;\n",
       "  white-space: pre-wrap;\n",
       "}\n",
       "</style>\n",
       "<small>shape: (1, 1)</small><table border=\"1\" class=\"dataframe\"><thead><tr><th>len</th></tr><tr><td>u32</td></tr></thead><tbody><tr><td>1163633539</td></tr></tbody></table></div>"
      ],
      "text/plain": [
       "shape: (1, 1)\n",
       "┌────────────┐\n",
       "│ len        │\n",
       "│ ---        │\n",
       "│ u32        │\n",
       "╞════════════╡\n",
       "│ 1163633539 │\n",
       "└────────────┘"
      ]
     },
     "execution_count": 111,
     "metadata": {},
     "output_type": "execute_result"
    }
   ],
   "source": [
    "%%time\n",
    "all_snps.select(\"read_name\", \"start\", \"is_high_quality_snp\").collect().filter(\"is_high_quality_snp\").select(pl.len())"
   ]
  },
  {
   "cell_type": "code",
   "execution_count": 24,
   "id": "d78426ec-58a3-4784-b2a3-da625bf1ea13",
   "metadata": {
    "tags": []
   },
   "outputs": [
    {
     "name": "stderr",
     "output_type": "stream",
     "text": [
      "52it [00:00, 3974.92it/s]"
     ]
    },
    {
     "name": "stdout",
     "output_type": "stream",
     "text": [
      "CPU times: user 18.3 ms, sys: 1.08 ms, total: 19.4 ms\n",
      "Wall time: 17.8 ms\n"
     ]
    },
    {
     "name": "stderr",
     "output_type": "stream",
     "text": [
      "\n"
     ]
    }
   ],
   "source": [
    "%%time\n",
    "all_ceph_snps = pl.concat(\n",
    "    [\n",
    "        pl.scan_parquet(\n",
    "            f\"/lustre/scratch122/tol/projects/sperm/results/CEPH_20250212/read_analysis/{sample_set}/{sample_id}/{flow_cell}/{chrom}/annotated_0.95_high_confidence_snps.parquet\",\n",
    "        )\n",
    "        for sample_id, sample_set, flow_cell in tqdm.tqdm(CEPH_df.select(\"sample_id\", \"sample_set\", \"flow_cell\").iter_rows())\n",
    "        for chrom in aut_chrom_names\n",
    "        if sample_id in ceph_sample_ids_no_gps\n",
    "    ] \n",
    ")\n"
   ]
  },
  {
   "cell_type": "code",
   "execution_count": 113,
   "id": "f11fd13e-c9bd-4048-9929-b9d1a0e822f9",
   "metadata": {
    "tags": []
   },
   "outputs": [
    {
     "name": "stdout",
     "output_type": "stream",
     "text": [
      "CPU times: user 2.4 s, sys: 1.62 s, total: 4.02 s\n",
      "Wall time: 16.8 s\n"
     ]
    },
    {
     "data": {
      "text/html": [
       "<div><style>\n",
       ".dataframe > thead > tr,\n",
       ".dataframe > tbody > tr {\n",
       "  text-align: right;\n",
       "  white-space: pre-wrap;\n",
       "}\n",
       "</style>\n",
       "<small>shape: (1, 1)</small><table border=\"1\" class=\"dataframe\"><thead><tr><th>len</th></tr><tr><td>u32</td></tr></thead><tbody><tr><td>1700583106</td></tr></tbody></table></div>"
      ],
      "text/plain": [
       "shape: (1, 1)\n",
       "┌────────────┐\n",
       "│ len        │\n",
       "│ ---        │\n",
       "│ u32        │\n",
       "╞════════════╡\n",
       "│ 1700583106 │\n",
       "└────────────┘"
      ]
     },
     "execution_count": 113,
     "metadata": {},
     "output_type": "execute_result"
    }
   ],
   "source": [
    "%%time\n",
    "all_ceph_snps.select(pl.len()).collect()"
   ]
  },
  {
   "cell_type": "code",
   "execution_count": 25,
   "id": "028c2435-62ee-4773-af4f-c8e36fd83f42",
   "metadata": {
    "tags": []
   },
   "outputs": [
    {
     "name": "stdout",
     "output_type": "stream",
     "text": [
      "CPU times: user 31.6 s, sys: 1min 6s, total: 1min 38s\n",
      "Wall time: 1min 9s\n"
     ]
    },
    {
     "data": {
      "text/html": [
       "<div><style>\n",
       ".dataframe > thead > tr,\n",
       ".dataframe > tbody > tr {\n",
       "  text-align: right;\n",
       "  white-space: pre-wrap;\n",
       "}\n",
       "</style>\n",
       "<small>shape: (1, 1)</small><table border=\"1\" class=\"dataframe\"><thead><tr><th>len</th></tr><tr><td>u32</td></tr></thead><tbody><tr><td>389685716</td></tr></tbody></table></div>"
      ],
      "text/plain": [
       "shape: (1, 1)\n",
       "┌───────────┐\n",
       "│ len       │\n",
       "│ ---       │\n",
       "│ u32       │\n",
       "╞═══════════╡\n",
       "│ 389685716 │\n",
       "└───────────┘"
      ]
     },
     "execution_count": 25,
     "metadata": {},
     "output_type": "execute_result"
    }
   ],
   "source": [
    "%%time\n",
    "(all_ceph_snps\n",
    "    .select(\"read_name\", \"start\", \"is_high_quality_snp\")\n",
    "    .collect()\n",
    "    .filter(\"is_high_quality_snp\")\n",
    "    .select(pl.len())\n",
    ")"
   ]
  },
  {
   "cell_type": "code",
   "execution_count": null,
   "id": "345d3880-3566-41d5-80c9-444483802fb6",
   "metadata": {},
   "outputs": [],
   "source": []
  },
  {
   "cell_type": "code",
   "execution_count": null,
   "id": "f1564369-1205-4ffd-b369-f339208f65f2",
   "metadata": {},
   "outputs": [],
   "source": []
  },
  {
   "cell_type": "markdown",
   "id": "2cdf20bf-dab8-4cf0-865f-3f80e695e35e",
   "metadata": {},
   "source": [
    "## High quality SNPs per read"
   ]
  },
  {
   "cell_type": "code",
   "execution_count": 115,
   "id": "1ca8ce8e-80da-4836-8009-e570f90b4f77",
   "metadata": {
    "tags": []
   },
   "outputs": [
    {
     "name": "stderr",
     "output_type": "stream",
     "text": [
      "56it [06:44,  7.23s/it]\n",
      "12it [01:32,  7.68s/it]\n"
     ]
    }
   ],
   "source": [
    "rows = []\n",
    "\n",
    "for sample_id, sample_set, flow_cell in tqdm.tqdm(rahbari_df.select(\"sample_id\", \"sample_set\", \"flow_cell\").iter_rows()):\n",
    "    for chrom in aut_chrom_names:        \n",
    "        sample_snps = \\\n",
    "            pl.scan_parquet(\n",
    "                f\"/lustre/scratch122/tol/projects/sperm/results/Rahbari_20250212/read_analysis/{sample_set}/{sample_id}/{flow_cell}/{chrom}/annotated_0.95_high_confidence_snps.parquet\",\n",
    "            ) \n",
    "\n",
    "        unique_snp_counts = (sample_snps\n",
    "            .filter(\"is_high_quality_snp\")\n",
    "            .group_by(\"read_name\")\n",
    "            .len().rename({\"len\": \"n_snps\"})\n",
    "            .group_by(\"n_snps\")\n",
    "            .len()\n",
    "            .collect(streaming=True)\n",
    "        )\n",
    "        rows.append((sample_id, sample_set, flow_cell, chrom, unique_snp_counts))\n",
    "        \n",
    "for sample_id, sample_set, flow_cell in tqdm.tqdm(sudmant_df.select(\"sample_id\", \"sample_set\", \"flow_cell\").iter_rows()):\n",
    "    for chrom in aut_chrom_names:        \n",
    "        sample_snps = \\\n",
    "            pl.scan_parquet(\n",
    "                f\"/lustre/scratch122/tol/projects/sperm/results/Sudmant_20241121/read_analysis/{sample_set}/{sample_id}/{flow_cell}/{chrom}/annotated_0.95_high_confidence_snps.parquet\",\n",
    "            ) \n",
    "\n",
    "        unique_snp_counts = (sample_snps\n",
    "            .filter(\"is_high_quality_snp\")\n",
    "            .group_by(\"read_name\")\n",
    "            .len().rename({\"len\": \"n_snps\"})\n",
    "            .group_by(\"n_snps\")\n",
    "            .len()\n",
    "            .collect(streaming=True)\n",
    "        )\n",
    "        rows.append((sample_id, sample_set, flow_cell, chrom, unique_snp_counts))        "
   ]
  },
  {
   "cell_type": "code",
   "execution_count": 122,
   "id": "316a3cdc-96bd-4485-88d3-ef79ec6fd826",
   "metadata": {
    "tags": []
   },
   "outputs": [],
   "source": [
    "total_hist = {s:np.zeros(400) for s in sample_ids + [\"All\"]}\n",
    "for row in rows:\n",
    "    for n_snps, cnt in row[-1].rows():\n",
    "        total_hist[str(row[0])][n_snps] += cnt\n",
    "        total_hist[\"All\"][n_snps] += cnt"
   ]
  },
  {
   "cell_type": "code",
   "execution_count": null,
   "id": "bf89c378-2fa0-4920-87f4-c876ed29713f",
   "metadata": {},
   "outputs": [],
   "source": []
  },
  {
   "cell_type": "code",
   "execution_count": null,
   "id": "9cd34a50-a0ca-4b64-9ce7-638c3f5c0a7d",
   "metadata": {},
   "outputs": [],
   "source": []
  },
  {
   "cell_type": "code",
   "execution_count": 123,
   "id": "b3067e23-e1c5-4d31-8a8c-fca07e317848",
   "metadata": {
    "tags": []
   },
   "outputs": [
    {
     "data": {
      "image/png": "[encoded data removed]",
      "text/plain": [
       "<Figure size 640x480 with 1 Axes>"
      ]
     },
     "metadata": {},
     "output_type": "display_data"
    }
   ],
   "source": [
    "plt.bar(x=np.arange(400), height=total_hist[\"All\"] / total_hist[\"All\"].sum())\n",
    "plt.xlim(0, 50)\n",
    "plt.xlabel(\"# of high quality SNPs on read\");\n",
    "plt.ylabel(\"Fraction\");"
   ]
  },
  {
   "cell_type": "code",
   "execution_count": 124,
   "id": "9ab56b76-e85c-4f2e-b818-020960fd49b4",
   "metadata": {
    "tags": []
   },
   "outputs": [
    {
     "name": "stdout",
     "output_type": "stream",
     "text": [
      "PD50477f 5.759972152944968\n",
      "PD50519d 5.909671306833053\n",
      "PD50508f 8.121031856311262\n",
      "PD50523b 6.292058776310657\n",
      "PD50521b 6.288746222095818\n",
      "PD50508b 6.791652024049477\n",
      "PD46180c 6.169597220184443\n",
      "PD50521e 5.157612829351835\n",
      "PD50489e 5.638578126174709\n",
      "1894 9.209768567361532\n",
      "3898 9.94499472871258\n",
      "7899 9.288745167615568\n",
      "95619 9.050880538177411\n",
      "115980 9.337350353758193\n",
      "2895 9.651255895471687\n",
      "All 6.699282020135253\n"
     ]
    }
   ],
   "source": [
    "for k,T in total_hist.items():\n",
    "    print(k, np.sum([i*h for i, h in enumerate(T)]) / np.sum(T))"
   ]
  },
  {
   "cell_type": "code",
   "execution_count": null,
   "id": "cc5f45a6-1a04-44cf-86a2-3912dad0dcaf",
   "metadata": {},
   "outputs": [],
   "source": []
  },
  {
   "cell_type": "markdown",
   "id": "5f9c1a9f-9478-40be-96e4-602f22bd150b",
   "metadata": {
    "tags": []
   },
   "source": [
    "# Candidate read classes"
   ]
  },
  {
   "cell_type": "code",
   "execution_count": 12,
   "id": "5d791035-b9b1-4aa3-bd9e-db84f4ff9a76",
   "metadata": {
    "tags": []
   },
   "outputs": [],
   "source": [
    "rahbari_df = pl.read_csv(\"/nfs/users/nfs_r/rs42/rs42/git/sperm/configs/Rahbari.tsv\", separator='\\t')"
   ]
  },
  {
   "cell_type": "code",
   "execution_count": 13,
   "id": "6f409215-3367-4912-bd2c-7dfa45637e0f",
   "metadata": {
    "tags": []
   },
   "outputs": [],
   "source": [
    "sudmant_df = pl.read_csv(\"/nfs/users/nfs_r/rs42/rs42/git/sperm/configs/Sudmant.tsv\", separator='\\t')"
   ]
  },
  {
   "cell_type": "code",
   "execution_count": 14,
   "id": "64ba06dc-f333-47f5-a18f-f00eca0d6fa3",
   "metadata": {
    "tags": []
   },
   "outputs": [],
   "source": [
    "ceph_df = pl.read_csv(\"/nfs/users/nfs_r/rs42/rs42/git/sperm/configs/CEPH.tsv\", separator='\\t')"
   ]
  },
  {
   "cell_type": "code",
   "execution_count": null,
   "id": "77cff26b-aa3b-48d5-b895-021dc4ee9b2e",
   "metadata": {},
   "outputs": [],
   "source": []
  },
  {
   "cell_type": "code",
   "execution_count": 25,
   "id": "f86ae448-b17d-4154-a3d4-6c00350d5dc4",
   "metadata": {
    "tags": []
   },
   "outputs": [
    {
     "name": "stderr",
     "output_type": "stream",
     "text": [
      "9it [00:00, 802.07it/s]\n"
     ]
    },
    {
     "name": "stdout",
     "output_type": "stream",
     "text": [
      "CPU times: user 66.4 ms, sys: 201 ms, total: 267 ms\n",
      "Wall time: 8.86 s\n"
     ]
    },
    {
     "data": {
      "text/html": [
       "<div><style>\n",
       ".dataframe > thead > tr,\n",
       ".dataframe > tbody > tr {\n",
       "  text-align: right;\n",
       "  white-space: pre-wrap;\n",
       "}\n",
       "</style>\n",
       "<small>shape: (1, 1)</small><table border=\"1\" class=\"dataframe\"><thead><tr><th>len</th></tr><tr><td>u32</td></tr></thead><tbody><tr><td>50653</td></tr></tbody></table></div>"
      ],
      "text/plain": [
       "shape: (1, 1)\n",
       "┌───────┐\n",
       "│ len   │\n",
       "│ ---   │\n",
       "│ u32   │\n",
       "╞═══════╡\n",
       "│ 50653 │\n",
       "└───────┘"
      ]
     },
     "execution_count": 25,
     "metadata": {},
     "output_type": "execute_result"
    }
   ],
   "source": [
    "%%time\n",
    "pl.concat([\n",
    "    pl.scan_parquet(\n",
    "        f\"/lustre/scratch122/tol/projects/sperm/results/Rahbari_20250212/read_analysis/{sample_set}/{sample_id}/reads/{chrom}/classified_reads.parquet\",\n",
    "    ) \n",
    "    for sample_id, sample_set in tqdm.tqdm(rahbari_df.select(\"sample_id\", \"sample_set\").unique().iter_rows())\n",
    "    for chrom in aut_chrom_names\n",
    "]).select(pl.len()).collect()"
   ]
  },
  {
   "cell_type": "code",
   "execution_count": 26,
   "id": "69b90760-c0a8-4d1d-b109-d6d98d50c4dc",
   "metadata": {
    "tags": []
   },
   "outputs": [
    {
     "name": "stderr",
     "output_type": "stream",
     "text": [
      "6it [00:00, 1517.93it/s]\n"
     ]
    },
    {
     "name": "stdout",
     "output_type": "stream",
     "text": [
      "CPU times: user 37.9 ms, sys: 133 ms, total: 171 ms\n",
      "Wall time: 6.76 s\n"
     ]
    },
    {
     "data": {
      "text/html": [
       "<div><style>\n",
       ".dataframe > thead > tr,\n",
       ".dataframe > tbody > tr {\n",
       "  text-align: right;\n",
       "  white-space: pre-wrap;\n",
       "}\n",
       "</style>\n",
       "<small>shape: (1, 1)</small><table border=\"1\" class=\"dataframe\"><thead><tr><th>len</th></tr><tr><td>u32</td></tr></thead><tbody><tr><td>14793</td></tr></tbody></table></div>"
      ],
      "text/plain": [
       "shape: (1, 1)\n",
       "┌───────┐\n",
       "│ len   │\n",
       "│ ---   │\n",
       "│ u32   │\n",
       "╞═══════╡\n",
       "│ 14793 │\n",
       "└───────┘"
      ]
     },
     "execution_count": 26,
     "metadata": {},
     "output_type": "execute_result"
    }
   ],
   "source": [
    "%%time\n",
    "pl.concat([\n",
    "    pl.scan_parquet(\n",
    "        f\"/lustre/scratch122/tol/projects/sperm/results/Sudmant_20241121/read_analysis/{sample_set}/{sample_id}/reads/{chrom}/classified_reads.parquet\",\n",
    "    ) \n",
    "    for sample_id, sample_set in tqdm.tqdm(sudmant_df.select(\"sample_id\", \"sample_set\").unique().iter_rows())\n",
    "    for chrom in aut_chrom_names\n",
    "]).select(pl.len()).collect()"
   ]
  },
  {
   "cell_type": "code",
   "execution_count": 137,
   "id": "f094654f-a1a5-46cb-ac6e-cbc5f12db400",
   "metadata": {
    "tags": []
   },
   "outputs": [
    {
     "data": {
      "text/plain": [
       "65446"
      ]
     },
     "execution_count": 137,
     "metadata": {},
     "output_type": "execute_result"
    }
   ],
   "source": [
    "50653+14793"
   ]
  },
  {
   "cell_type": "code",
   "execution_count": 125,
   "id": "eaea3ab9-116f-4ed7-b9f2-c4e53a774b5a",
   "metadata": {},
   "outputs": [
    {
     "name": "stderr",
     "output_type": "stream",
     "text": [
      "16it [00:00, 3612.86it/s]\n"
     ]
    },
    {
     "name": "stdout",
     "output_type": "stream",
     "text": [
      "CPU times: user 158 ms, sys: 246 ms, total: 404 ms\n",
      "Wall time: 4.22 s\n"
     ]
    },
    {
     "data": {
      "text/html": [
       "<div><style>\n",
       ".dataframe > thead > tr,\n",
       ".dataframe > tbody > tr {\n",
       "  text-align: right;\n",
       "  white-space: pre-wrap;\n",
       "}\n",
       "</style>\n",
       "<small>shape: (1, 1)</small><table border=\"1\" class=\"dataframe\"><thead><tr><th>len</th></tr><tr><td>u32</td></tr></thead><tbody><tr><td>22750</td></tr></tbody></table></div>"
      ],
      "text/plain": [
       "shape: (1, 1)\n",
       "┌───────┐\n",
       "│ len   │\n",
       "│ ---   │\n",
       "│ u32   │\n",
       "╞═══════╡\n",
       "│ 22750 │\n",
       "└───────┘"
      ]
     },
     "execution_count": 125,
     "metadata": {},
     "output_type": "execute_result"
    }
   ],
   "source": [
    "%%time\n",
    "pl.concat([\n",
    "    pl.scan_parquet(\n",
    "        f\"/lustre/scratch122/tol/projects/sperm/results/CEPH_20250212/read_analysis/{sample_set}/{sample_id}/reads/{chrom}/classified_reads.parquet\",\n",
    "    ) \n",
    "    for sample_id, sample_set in tqdm.tqdm(ceph_df.select(\"sample_id\", \"sample_set\").unique().iter_rows())\n",
    "    for chrom in aut_chrom_names\n",
    "]).select(pl.len()).collect()"
   ]
  },
  {
   "cell_type": "code",
   "execution_count": null,
   "id": "c4c4dfaf-6569-408b-b3bc-4a5e33ffe979",
   "metadata": {},
   "outputs": [],
   "source": []
  },
  {
   "cell_type": "code",
   "execution_count": 93,
   "id": "c8813aaf-6751-4c83-9be0-b7c9e29ac9fb",
   "metadata": {
    "tags": []
   },
   "outputs": [],
   "source": [
    "# %%time\n",
    "# (\n",
    "#     pl.concat([\n",
    "#         pl.scan_parquet(\n",
    "#             f\"/lustre/scratch122/tol/projects/sperm/results/Rahbari_20250212/read_analysis/{sample_set}/{sample_id}/reads/{chrom}/classified_reads.parquet\",\n",
    "#         ) \n",
    "#         for sample_id, sample_set in tqdm.tqdm(rahbari_df.select(\"sample_id\", \"sample_set\").unique().iter_rows())\n",
    "#         for chrom in aut_chrom_names\n",
    "#     ]).select(\"class\", \"sample_id\").collect()\n",
    "#         .pivot(\n",
    "#             values=[\"class\"],\n",
    "#             index=[\"sample_id\"],\n",
    "#             on=[\"class\"],\n",
    "#             aggregate_function='len'\n",
    "#         )\n",
    "#         .sort(by=\"sample_id\")\n",
    "#         .select(\"sample_id\", \"CO\", \"GC\", \"ambiguous\", \"CNCO\")\n",
    "# )"
   ]
  },
  {
   "cell_type": "code",
   "execution_count": null,
   "id": "07a8aff4-4f2c-45dd-93cf-91f9c23c690c",
   "metadata": {},
   "outputs": [],
   "source": []
  },
  {
   "cell_type": "code",
   "execution_count": null,
   "id": "233f2af7-8b92-4706-8d59-e1d7a784b36f",
   "metadata": {},
   "outputs": [],
   "source": []
  },
  {
   "cell_type": "code",
   "execution_count": 15,
   "id": "40dcbf8e-6c48-456e-98eb-fa302d926dfa",
   "metadata": {
    "tags": []
   },
   "outputs": [
    {
     "name": "stderr",
     "output_type": "stream",
     "text": [
      "9it [00:00, 26033.61it/s]"
     ]
    },
    {
     "name": "stdout",
     "output_type": "stream",
     "text": [
      "CPU times: user 8.5 ms, sys: 107 μs, total: 8.6 ms\n",
      "Wall time: 4.05 ms\n"
     ]
    },
    {
     "name": "stderr",
     "output_type": "stream",
     "text": [
      "\n"
     ]
    }
   ],
   "source": [
    "%%time\n",
    "rahbari_reads_filenames = [\n",
    "    (\n",
    "        f\"/lustre/scratch122/tol/projects/sperm/results/Rahbari_20250212/read_analysis/{sample_set}/{sample_id}/reads/{chrom}/all_reads_structure_annotated.parquet\",\n",
    "    ) \n",
    "    for sample_id, sample_set in tqdm.tqdm(rahbari_df.select(\"sample_id\", \"sample_set\").unique().iter_rows())\n",
    "    for chrom in aut_chrom_names\n",
    "]"
   ]
  },
  {
   "cell_type": "code",
   "execution_count": 16,
   "id": "a7ca1ced-9c33-48aa-bb28-e90c497db5db",
   "metadata": {
    "tags": []
   },
   "outputs": [
    {
     "name": "stderr",
     "output_type": "stream",
     "text": [
      "6it [00:00, 42438.15it/s]"
     ]
    },
    {
     "name": "stdout",
     "output_type": "stream",
     "text": [
      "CPU times: user 2.45 ms, sys: 4.37 ms, total: 6.81 ms\n",
      "Wall time: 3.48 ms\n"
     ]
    },
    {
     "name": "stderr",
     "output_type": "stream",
     "text": [
      "\n"
     ]
    }
   ],
   "source": [
    "%%time\n",
    "sudmant_reads_filenames = [\n",
    "    (\n",
    "        f\"/lustre/scratch122/tol/projects/sperm/results/Sudmant_20241121/read_analysis/{sample_set}/{sample_id}/reads/{chrom}/all_reads_structure_annotated.parquet\",\n",
    "    ) \n",
    "    for sample_id, sample_set in tqdm.tqdm(sudmant_df.select(\"sample_id\", \"sample_set\").unique().iter_rows())\n",
    "    for chrom in aut_chrom_names\n",
    "]"
   ]
  },
  {
   "cell_type": "code",
   "execution_count": 17,
   "id": "053d5283-379a-44af-9be0-025a42d80193",
   "metadata": {
    "tags": []
   },
   "outputs": [
    {
     "name": "stderr",
     "output_type": "stream",
     "text": [
      "16it [00:00, 87381.33it/s]"
     ]
    },
    {
     "name": "stdout",
     "output_type": "stream",
     "text": [
      "CPU times: user 5.08 ms, sys: 823 μs, total: 5.9 ms\n",
      "Wall time: 2.26 ms\n"
     ]
    },
    {
     "name": "stderr",
     "output_type": "stream",
     "text": [
      "\n"
     ]
    }
   ],
   "source": [
    "%%time\n",
    "ceph_reads_filenames = [\n",
    "    (\n",
    "        f\"/lustre/scratch122/tol/projects/sperm/results/CEPH_20250212/read_analysis/{sample_set}/{sample_id}/reads/{chrom}/all_reads_structure_annotated.parquet\",\n",
    "    ) \n",
    "    for sample_id, sample_set in tqdm.tqdm(ceph_df.select(\"sample_id\", \"sample_set\").unique().iter_rows())\n",
    "    for chrom in aut_chrom_names\n",
    "    if sample_id in ceph_sample_ids_no_gps\n",
    "]"
   ]
  },
  {
   "cell_type": "code",
   "execution_count": 18,
   "id": "8862f4e2-82f4-41c6-a332-d68de48ed315",
   "metadata": {
    "tags": []
   },
   "outputs": [],
   "source": [
    "all_filenames = rahbari_reads_filenames + sudmant_reads_filenames + ceph_reads_filenames"
   ]
  },
  {
   "cell_type": "code",
   "execution_count": 19,
   "id": "4647e281-2414-475c-9948-9659292504bf",
   "metadata": {
    "tags": []
   },
   "outputs": [],
   "source": [
    "#reads_df = pl.concat([rahbari_reads_df, sudmant_reads_df, ceph_reads_df])"
   ]
  },
  {
   "cell_type": "code",
   "execution_count": 20,
   "id": "a76c33b2-8fea-4a77-900e-03d5d2da7800",
   "metadata": {
    "tags": []
   },
   "outputs": [
    {
     "name": "stderr",
     "output_type": "stream",
     "text": [
      "/nfs/users/nfs_r/rs42/rs42/miniforge3/envs/sperm/lib/python3.11/site-packages/joblib/externals/loky/backend/fork_exec.py:38: RuntimeWarning: Using fork() can cause Polars to deadlock in the child process.\n",
      "In addition, using fork() with Python in general is a recipe for mysterious\n",
      "deadlocks and crashes.\n",
      "\n",
      "The most likely reason you are seeing this error is because you are using the\n",
      "multiprocessing module on Linux, which uses fork() by default. This will be\n",
      "fixed in Python 3.14. Until then, you want to use the \"spawn\" context instead.\n",
      "\n",
      "See https://docs.pola.rs/user-guide/misc/multiprocessing/ for details.\n",
      "\n",
      "  pid = os.fork()\n",
      "[Parallel(n_jobs=-1)]: Using backend LokyBackend with 16 concurrent workers.\n",
      "[Parallel(n_jobs=-1)]: Done  18 tasks      | elapsed:    2.3s\n",
      "/nfs/users/nfs_r/rs42/rs42/miniforge3/envs/sperm/lib/python3.11/site-packages/joblib/externals/loky/process_executor.py:752: UserWarning: A worker stopped while some jobs were given to the executor. This can be caused by a too short worker timeout or by a memory leak.\n",
      "  warnings.warn(\n",
      "[Parallel(n_jobs=-1)]: Done 168 tasks      | elapsed:   24.1s\n",
      "[Parallel(n_jobs=-1)]: Done 418 tasks      | elapsed:   38.6s\n"
     ]
    },
    {
     "name": "stdout",
     "output_type": "stream",
     "text": [
      "CPU times: user 1.43 s, sys: 595 ms, total: 2.03 s\n",
      "Wall time: 45.4 s\n"
     ]
    },
    {
     "name": "stderr",
     "output_type": "stream",
     "text": [
      "[Parallel(n_jobs=-1)]: Done 594 out of 594 | elapsed:   45.4s finished\n"
     ]
    }
   ],
   "source": [
    "%%time\n",
    "def F(filename):\n",
    "    return (\n",
    "        pl.scan_parquet(filename)\n",
    "        .select(\n",
    "            'read_name',\n",
    "            'chrom',\n",
    "            'sample_id',\n",
    "            'is_high_quality_read',\n",
    "            \"high_quality_classification_class\",\n",
    "            \"high_quality_classification_in_detectable_class\",\n",
    "            'grch37_reference_start',\n",
    "            'grch38_reference_start',\n",
    "            'T2T_reference_start',\n",
    "            \"mid_quality_snp_positions\",\n",
    "            \"mid_quality_snp_positions_alleles\",\n",
    "            \"total_mismatches\",\n",
    "            \"is_contamination\",\n",
    "            \"read_length\",\n",
    "            \"full_read_crossover_prob\",\n",
    "            'AA_motif_center_pos',\n",
    "            'AA_heat',\n",
    "            'AA_motif_strand',\n",
    "            \"idx_transitions\",\n",
    "            \"snp_positions_on_read\",\n",
    "        )\n",
    "        .filter(\"is_high_quality_read\")\n",
    "        .filter(~pl.col(\"is_contamination\"))\n",
    "        .filter(pl.col(\"high_quality_classification_class\").is_not_null())\n",
    "        .collect(streaming=True)\n",
    "    )\n",
    "\n",
    "dfs = joblib.Parallel(n_jobs=-1, verbose=1)(\n",
    "    joblib.delayed(F)(filename) for filename in all_filenames\n",
    ")\n",
    "#dfs = [F(filename) for filename in tqdm.tqdm(all_filenames)]\n",
    "\n",
    "candidates_df = pl.concat(dfs)"
   ]
  },
  {
   "cell_type": "code",
   "execution_count": 21,
   "id": "08a3ae8a-b81b-4a13-88e5-934d1e80a0fd",
   "metadata": {
    "tags": []
   },
   "outputs": [
    {
     "data": {
      "text/plain": [
       "17329"
      ]
     },
     "execution_count": 21,
     "metadata": {},
     "output_type": "execute_result"
    }
   ],
   "source": [
    "len(candidates_df.filter(pl.col(\"sample_id\").is_in(rahbari_sample_ids+sudmant_sample_ids)))"
   ]
  },
  {
   "cell_type": "code",
   "execution_count": null,
   "id": "59d07cdb-1c16-4afd-9fea-23baf6fc6295",
   "metadata": {},
   "outputs": [],
   "source": []
  },
  {
   "cell_type": "code",
   "execution_count": 20,
   "id": "29f42def-753e-4177-8e32-5e768399dc2f",
   "metadata": {
    "tags": []
   },
   "outputs": [
    {
     "data": {
      "text/html": [
       "<div><style>\n",
       ".dataframe > thead > tr,\n",
       ".dataframe > tbody > tr {\n",
       "  text-align: right;\n",
       "  white-space: pre-wrap;\n",
       "}\n",
       "</style>\n",
       "<small>shape: (15, 9)</small><table border=\"1\" class=\"dataframe\"><thead><tr><th>paper_label_id</th><th>sample_id</th><th>coverage</th><th>CO</th><th>GC</th><th>ambiguous</th><th>CNCO</th><th>Sequel_IIe</th><th>Revio</th></tr><tr><td>str</td><td>str</td><td>f64</td><td>u32</td><td>u32</td><td>u32</td><td>u32</td><td>u32</td><td>u32</td></tr></thead><tbody><tr><td>&quot;AA1-s1&quot;</td><td>&quot;PD50508b&quot;</td><td>60.6</td><td>395</td><td>105</td><td>371</td><td>6</td><td>2</td><td>2</td></tr><tr><td>&quot;AA1-s2&quot;</td><td>&quot;PD50508f&quot;</td><td>17.2</td><td>114</td><td>27</td><td>94</td><td>5</td><td>2</td><td>0</td></tr><tr><td>&quot;AA2-t1&quot;</td><td>&quot;PD46180c&quot;</td><td>136.4</td><td>740</td><td>208</td><td>756</td><td>26</td><td>3</td><td>4</td></tr><tr><td>&quot;AA2-t2&quot;</td><td>&quot;PD50519d&quot;</td><td>133.8</td><td>688</td><td>167</td><td>909</td><td>14</td><td>3</td><td>4</td></tr><tr><td>&quot;AA3&quot;</td><td>&quot;PD50477f&quot;</td><td>143.8</td><td>714</td><td>191</td><td>1174</td><td>10</td><td>3</td><td>4</td></tr><tr><td>&quot;AA4&quot;</td><td>&quot;PD50489e&quot;</td><td>88.6</td><td>499</td><td>137</td><td>522</td><td>18</td><td>4</td><td>3</td></tr><tr><td>&quot;AA5&quot;</td><td>&quot;1894&quot;</td><td>53.6</td><td>433</td><td>159</td><td>341</td><td>5</td><td>0</td><td>2</td></tr><tr><td>&quot;AA6&quot;</td><td>&quot;3898&quot;</td><td>51.8</td><td>380</td><td>161</td><td>293</td><td>5</td><td>0</td><td>2</td></tr><tr><td>&quot;AA7&quot;</td><td>&quot;7899&quot;</td><td>30.1</td><td>427</td><td>151</td><td>334</td><td>6</td><td>0</td><td>1</td></tr><tr><td>&quot;AA8&quot;</td><td>&quot;95619&quot;</td><td>49.8</td><td>395</td><td>123</td><td>319</td><td>7</td><td>0</td><td>2</td></tr><tr><td>&quot;AA9&quot;</td><td>&quot;115980&quot;</td><td>48.8</td><td>365</td><td>129</td><td>299</td><td>5</td><td>0</td><td>2</td></tr><tr><td>&quot;AB&quot;</td><td>&quot;2895&quot;</td><td>40.3</td><td>330</td><td>112</td><td>260</td><td>7</td><td>0</td><td>2</td></tr><tr><td>&quot;AD&quot;</td><td>&quot;PD50523b&quot;</td><td>159.1</td><td>798</td><td>430</td><td>1091</td><td>82</td><td>4</td><td>5</td></tr><tr><td>&quot;AN-s1&quot;</td><td>&quot;PD50521b&quot;</td><td>56.2</td><td>284</td><td>81</td><td>265</td><td>4</td><td>4</td><td>1</td></tr><tr><td>&quot;AN-s2&quot;</td><td>&quot;PD50521e&quot;</td><td>103.0</td><td>581</td><td>201</td><td>557</td><td>19</td><td>4</td><td>3</td></tr></tbody></table></div>"
      ],
      "text/plain": [
       "shape: (15, 9)\n",
       "┌────────────────┬───────────┬──────────┬─────┬───┬───────────┬──────┬────────────┬───────┐\n",
       "│ paper_label_id ┆ sample_id ┆ coverage ┆ CO  ┆ … ┆ ambiguous ┆ CNCO ┆ Sequel_IIe ┆ Revio │\n",
       "│ ---            ┆ ---       ┆ ---      ┆ --- ┆   ┆ ---       ┆ ---  ┆ ---        ┆ ---   │\n",
       "│ str            ┆ str       ┆ f64      ┆ u32 ┆   ┆ u32       ┆ u32  ┆ u32        ┆ u32   │\n",
       "╞════════════════╪═══════════╪══════════╪═════╪═══╪═══════════╪══════╪════════════╪═══════╡\n",
       "│ AA1-s1         ┆ PD50508b  ┆ 60.6     ┆ 395 ┆ … ┆ 371       ┆ 6    ┆ 2          ┆ 2     │\n",
       "│ AA1-s2         ┆ PD50508f  ┆ 17.2     ┆ 114 ┆ … ┆ 94        ┆ 5    ┆ 2          ┆ 0     │\n",
       "│ AA2-t1         ┆ PD46180c  ┆ 136.4    ┆ 740 ┆ … ┆ 756       ┆ 26   ┆ 3          ┆ 4     │\n",
       "│ AA2-t2         ┆ PD50519d  ┆ 133.8    ┆ 688 ┆ … ┆ 909       ┆ 14   ┆ 3          ┆ 4     │\n",
       "│ AA3            ┆ PD50477f  ┆ 143.8    ┆ 714 ┆ … ┆ 1174      ┆ 10   ┆ 3          ┆ 4     │\n",
       "│ AA4            ┆ PD50489e  ┆ 88.6     ┆ 499 ┆ … ┆ 522       ┆ 18   ┆ 4          ┆ 3     │\n",
       "│ AA5            ┆ 1894      ┆ 53.6     ┆ 433 ┆ … ┆ 341       ┆ 5    ┆ 0          ┆ 2     │\n",
       "│ AA6            ┆ 3898      ┆ 51.8     ┆ 380 ┆ … ┆ 293       ┆ 5    ┆ 0          ┆ 2     │\n",
       "│ AA7            ┆ 7899      ┆ 30.1     ┆ 427 ┆ … ┆ 334       ┆ 6    ┆ 0          ┆ 1     │\n",
       "│ AA8            ┆ 95619     ┆ 49.8     ┆ 395 ┆ … ┆ 319       ┆ 7    ┆ 0          ┆ 2     │\n",
       "│ AA9            ┆ 115980    ┆ 48.8     ┆ 365 ┆ … ┆ 299       ┆ 5    ┆ 0          ┆ 2     │\n",
       "│ AB             ┆ 2895      ┆ 40.3     ┆ 330 ┆ … ┆ 260       ┆ 7    ┆ 0          ┆ 2     │\n",
       "│ AD             ┆ PD50523b  ┆ 159.1    ┆ 798 ┆ … ┆ 1091      ┆ 82   ┆ 4          ┆ 5     │\n",
       "│ AN-s1          ┆ PD50521b  ┆ 56.2     ┆ 284 ┆ … ┆ 265       ┆ 4    ┆ 4          ┆ 1     │\n",
       "│ AN-s2          ┆ PD50521e  ┆ 103.0    ┆ 581 ┆ … ┆ 557       ┆ 19   ┆ 4          ┆ 3     │\n",
       "└────────────────┴───────────┴──────────┴─────┴───┴───────────┴──────┴────────────┴───────┘"
      ]
     },
     "metadata": {},
     "output_type": "display_data"
    },
    {
     "data": {
      "text/html": [
       "<div><style>\n",
       ".dataframe > thead > tr,\n",
       ".dataframe > tbody > tr {\n",
       "  text-align: right;\n",
       "  white-space: pre-wrap;\n",
       "}\n",
       "</style>\n",
       "<small>shape: (1, 9)</small><table border=\"1\" class=\"dataframe\"><thead><tr><th>paper_label_id</th><th>sample_id</th><th>coverage</th><th>CO</th><th>GC</th><th>ambiguous</th><th>CNCO</th><th>Sequel_IIe</th><th>Revio</th></tr><tr><td>str</td><td>str</td><td>f64</td><td>u32</td><td>u32</td><td>u32</td><td>u32</td><td>u32</td><td>u32</td></tr></thead><tbody><tr><td>null</td><td>null</td><td>1173.4</td><td>7143</td><td>2382</td><td>7585</td><td>219</td><td>29</td><td>37</td></tr></tbody></table></div>"
      ],
      "text/plain": [
       "shape: (1, 9)\n",
       "┌────────────────┬───────────┬──────────┬──────┬───┬───────────┬──────┬────────────┬───────┐\n",
       "│ paper_label_id ┆ sample_id ┆ coverage ┆ CO   ┆ … ┆ ambiguous ┆ CNCO ┆ Sequel_IIe ┆ Revio │\n",
       "│ ---            ┆ ---       ┆ ---      ┆ ---  ┆   ┆ ---       ┆ ---  ┆ ---        ┆ ---   │\n",
       "│ str            ┆ str       ┆ f64      ┆ u32  ┆   ┆ u32       ┆ u32  ┆ u32        ┆ u32   │\n",
       "╞════════════════╪═══════════╪══════════╪══════╪═══╪═══════════╪══════╪════════════╪═══════╡\n",
       "│ null           ┆ null      ┆ 1173.4   ┆ 7143 ┆ … ┆ 7585      ┆ 219  ┆ 29         ┆ 37    │\n",
       "└────────────────┴───────────┴──────────┴──────┴───┴───────────┴──────┴────────────┴───────┘"
      ]
     },
     "metadata": {},
     "output_type": "display_data"
    },
    {
     "data": {
      "text/html": [
       "<div><style>\n",
       ".dataframe > thead > tr,\n",
       ".dataframe > tbody > tr {\n",
       "  text-align: right;\n",
       "  white-space: pre-wrap;\n",
       "}\n",
       "</style>\n",
       "<small>shape: (12, 9)</small><table border=\"1\" class=\"dataframe\"><thead><tr><th>paper_label_id</th><th>sample_id</th><th>coverage</th><th>CO</th><th>GC</th><th>ambiguous</th><th>CNCO</th><th>Sequel_IIe</th><th>Revio</th></tr><tr><td>str</td><td>str</td><td>f64</td><td>u32</td><td>u32</td><td>u32</td><td>u32</td><td>u32</td><td>u32</td></tr></thead><tbody><tr><td>null</td><td>&quot;200100&quot;</td><td>26.6</td><td>null</td><td>11</td><td>20</td><td>null</td><td>0</td><td>1</td></tr><tr><td>null</td><td>&quot;200101&quot;</td><td>31.2</td><td>1</td><td>23</td><td>17</td><td>null</td><td>0</td><td>2</td></tr><tr><td>null</td><td>&quot;200102&quot;</td><td>38.9</td><td>null</td><td>23</td><td>19</td><td>null</td><td>0</td><td>2</td></tr><tr><td>null</td><td>&quot;200104&quot;</td><td>21.7</td><td>null</td><td>7</td><td>1</td><td>null</td><td>0</td><td>1</td></tr><tr><td>null</td><td>&quot;200106&quot;</td><td>20.4</td><td>null</td><td>3</td><td>2</td><td>null</td><td>0</td><td>1</td></tr><tr><td>null</td><td>&quot;NA12877&quot;</td><td>66.0</td><td>null</td><td>52</td><td>12</td><td>null</td><td>9</td><td>0</td></tr><tr><td>null</td><td>&quot;NA12878&quot;</td><td>61.7</td><td>3</td><td>53</td><td>7</td><td>1</td><td>8</td><td>0</td></tr><tr><td>null</td><td>&quot;NA12879&quot;</td><td>29.2</td><td>null</td><td>33</td><td>9</td><td>1</td><td>5</td><td>1</td></tr><tr><td>null</td><td>&quot;NA12881&quot;</td><td>39.7</td><td>5</td><td>67</td><td>18</td><td>2</td><td>0</td><td>4</td></tr><tr><td>null</td><td>&quot;NA12882&quot;</td><td>45.6</td><td>null</td><td>41</td><td>13</td><td>5</td><td>0</td><td>2</td></tr><tr><td>null</td><td>&quot;NA12885&quot;</td><td>41.6</td><td>2</td><td>48</td><td>21</td><td>null</td><td>0</td><td>2</td></tr><tr><td>null</td><td>&quot;NA12886&quot;</td><td>31.2</td><td>null</td><td>8</td><td>4</td><td>null</td><td>0</td><td>2</td></tr></tbody></table></div>"
      ],
      "text/plain": [
       "shape: (12, 9)\n",
       "┌────────────────┬───────────┬──────────┬──────┬───┬───────────┬──────┬────────────┬───────┐\n",
       "│ paper_label_id ┆ sample_id ┆ coverage ┆ CO   ┆ … ┆ ambiguous ┆ CNCO ┆ Sequel_IIe ┆ Revio │\n",
       "│ ---            ┆ ---       ┆ ---      ┆ ---  ┆   ┆ ---       ┆ ---  ┆ ---        ┆ ---   │\n",
       "│ str            ┆ str       ┆ f64      ┆ u32  ┆   ┆ u32       ┆ u32  ┆ u32        ┆ u32   │\n",
       "╞════════════════╪═══════════╪══════════╪══════╪═══╪═══════════╪══════╪════════════╪═══════╡\n",
       "│ null           ┆ 200100    ┆ 26.6     ┆ null ┆ … ┆ 20        ┆ null ┆ 0          ┆ 1     │\n",
       "│ null           ┆ 200101    ┆ 31.2     ┆ 1    ┆ … ┆ 17        ┆ null ┆ 0          ┆ 2     │\n",
       "│ null           ┆ 200102    ┆ 38.9     ┆ null ┆ … ┆ 19        ┆ null ┆ 0          ┆ 2     │\n",
       "│ null           ┆ 200104    ┆ 21.7     ┆ null ┆ … ┆ 1         ┆ null ┆ 0          ┆ 1     │\n",
       "│ null           ┆ 200106    ┆ 20.4     ┆ null ┆ … ┆ 2         ┆ null ┆ 0          ┆ 1     │\n",
       "│ null           ┆ NA12877   ┆ 66.0     ┆ null ┆ … ┆ 12        ┆ null ┆ 9          ┆ 0     │\n",
       "│ null           ┆ NA12878   ┆ 61.7     ┆ 3    ┆ … ┆ 7         ┆ 1    ┆ 8          ┆ 0     │\n",
       "│ null           ┆ NA12879   ┆ 29.2     ┆ null ┆ … ┆ 9         ┆ 1    ┆ 5          ┆ 1     │\n",
       "│ null           ┆ NA12881   ┆ 39.7     ┆ 5    ┆ … ┆ 18        ┆ 2    ┆ 0          ┆ 4     │\n",
       "│ null           ┆ NA12882   ┆ 45.6     ┆ null ┆ … ┆ 13        ┆ 5    ┆ 0          ┆ 2     │\n",
       "│ null           ┆ NA12885   ┆ 41.6     ┆ 2    ┆ … ┆ 21        ┆ null ┆ 0          ┆ 2     │\n",
       "│ null           ┆ NA12886   ┆ 31.2     ┆ null ┆ … ┆ 4         ┆ null ┆ 0          ┆ 2     │\n",
       "└────────────────┴───────────┴──────────┴──────┴───┴───────────┴──────┴────────────┴───────┘"
      ]
     },
     "metadata": {},
     "output_type": "display_data"
    },
    {
     "data": {
      "text/html": [
       "<div><style>\n",
       ".dataframe > thead > tr,\n",
       ".dataframe > tbody > tr {\n",
       "  text-align: right;\n",
       "  white-space: pre-wrap;\n",
       "}\n",
       "</style>\n",
       "<small>shape: (1, 9)</small><table border=\"1\" class=\"dataframe\"><thead><tr><th>paper_label_id</th><th>sample_id</th><th>coverage</th><th>CO</th><th>GC</th><th>ambiguous</th><th>CNCO</th><th>Sequel_IIe</th><th>Revio</th></tr><tr><td>str</td><td>str</td><td>f64</td><td>u32</td><td>u32</td><td>u32</td><td>u32</td><td>u32</td><td>u32</td></tr></thead><tbody><tr><td>null</td><td>null</td><td>453.9</td><td>11</td><td>369</td><td>143</td><td>9</td><td>22</td><td>18</td></tr></tbody></table></div>"
      ],
      "text/plain": [
       "shape: (1, 9)\n",
       "┌────────────────┬───────────┬──────────┬─────┬───┬───────────┬──────┬────────────┬───────┐\n",
       "│ paper_label_id ┆ sample_id ┆ coverage ┆ CO  ┆ … ┆ ambiguous ┆ CNCO ┆ Sequel_IIe ┆ Revio │\n",
       "│ ---            ┆ ---       ┆ ---      ┆ --- ┆   ┆ ---       ┆ ---  ┆ ---        ┆ ---   │\n",
       "│ str            ┆ str       ┆ f64      ┆ u32 ┆   ┆ u32       ┆ u32  ┆ u32        ┆ u32   │\n",
       "╞════════════════╪═══════════╪══════════╪═════╪═══╪═══════════╪══════╪════════════╪═══════╡\n",
       "│ null           ┆ null      ┆ 453.9    ┆ 11  ┆ … ┆ 143       ┆ 9    ┆ 22         ┆ 18    │\n",
       "└────────────────┴───────────┴──────────┴─────┴───┴───────────┴──────┴────────────┴───────┘"
      ]
     },
     "metadata": {},
     "output_type": "display_data"
    }
   ],
   "source": [
    "call_stats_df = (candidates_df    \n",
    "    .pivot(\n",
    "        values=[\"high_quality_classification_class\"],\n",
    "        index=[\"sample_id\"],\n",
    "        on=[\"high_quality_classification_class\"],\n",
    "        aggregate_function='len'\n",
    "    )\n",
    "    .select(\"sample_id\", \"CO\", \"GC\", \"ambiguous\", \"CNCO\")\n",
    "    .sort(by=\"sample_id\")\n",
    ")\n",
    "\n",
    "for ids in rahbari_sample_ids+sudmant_sample_ids, ceph_sample_ids_no_gps:\n",
    "    df = (call_stats_df\n",
    "        .filter(pl.col(\"sample_id\").is_in(ids))\n",
    "        .join(\n",
    "            pl.DataFrame(\n",
    "                {\n",
    "                    \"sample_id\": sample_presentation_order, \n",
    "                    \"paper_label_id\": [sample_id_to_paper_label[x] for x in sample_presentation_order]\n",
    "                }\n",
    "            ),\n",
    "            on=\"sample_id\",\n",
    "            how=\"left\",\n",
    "        )\n",
    "        .join(\n",
    "            coverage_per_sample,\n",
    "            on=\"sample_id\",\n",
    "            how=\"left\",\n",
    "        )\n",
    "        .join(\n",
    "            (stats_df\n",
    "                .pivot(\n",
    "                    values=[\"Instrument\"],\n",
    "                    index=[\"sample_id\"],\n",
    "                    on=[\"Instrument\"],\n",
    "                    aggregate_function='len'\n",
    "                ) \n",
    "                .fill_null(0)\n",
    "            ),\n",
    "            on=\"sample_id\",\n",
    "            how=\"left\",\n",
    "        )\n",
    "        .sort(\"paper_label_id\", \"sample_id\")\n",
    "        .select(\"paper_label_id\", \"sample_id\", \"coverage\", \"CO\", \"GC\", \"ambiguous\", \"CNCO\", \"Sequel_IIe\", \"Revio\")\n",
    "    )\n",
    "    with pl.Config(tbl_rows=40, float_precision=1):\n",
    "        display(df)\n",
    "        display(df.sum())\n",
    "\n"
   ]
  },
  {
   "cell_type": "code",
   "execution_count": null,
   "id": "8ea03150-2e22-42ce-9a0d-e4398f9acaa8",
   "metadata": {},
   "outputs": [],
   "source": []
  },
  {
   "cell_type": "code",
   "execution_count": 38,
   "id": "a01794e0-96a4-4934-be24-7081a5ec1f07",
   "metadata": {
    "tags": []
   },
   "outputs": [
    {
     "data": {
      "text/plain": [
       "0.39889621633615896"
      ]
     },
     "execution_count": 38,
     "metadata": {},
     "output_type": "execute_result"
    }
   ],
   "source": [
    "(11/453.0) / (7143/1173.4) * 100"
   ]
  },
  {
   "cell_type": "code",
   "execution_count": 39,
   "id": "2309f5d5-c31a-4fd9-9e20-c3218d8de2b3",
   "metadata": {
    "tags": []
   },
   "outputs": [
    {
     "data": {
      "text/plain": [
       "40.12661184045908"
      ]
     },
     "execution_count": 39,
     "metadata": {},
     "output_type": "execute_result"
    }
   ],
   "source": [
    "(369/453.0) / (2382/1173.4) * 100"
   ]
  },
  {
   "cell_type": "code",
   "execution_count": 40,
   "id": "ce2ef6d4-7c6f-4a6e-ac9b-f304def24fde",
   "metadata": {
    "tags": []
   },
   "outputs": [
    {
     "data": {
      "text/plain": [
       "4.883467864569464"
      ]
     },
     "execution_count": 40,
     "metadata": {},
     "output_type": "execute_result"
    }
   ],
   "source": [
    "(143/453.0) / (7585/1173.4) * 100"
   ]
  },
  {
   "cell_type": "code",
   "execution_count": 41,
   "id": "99e463ac-269a-4cb5-bea0-148c4b2a5773",
   "metadata": {
    "tags": []
   },
   "outputs": [
    {
     "data": {
      "text/plain": [
       "10.645014968701807"
      ]
     },
     "execution_count": 41,
     "metadata": {},
     "output_type": "execute_result"
    }
   ],
   "source": [
    "(9/453.0) / (219/1173.4) * 100"
   ]
  },
  {
   "cell_type": "code",
   "execution_count": null,
   "id": "55e6abbe-6eac-448b-a215-aa9f39d7dbaa",
   "metadata": {},
   "outputs": [],
   "source": []
  },
  {
   "cell_type": "code",
   "execution_count": null,
   "id": "f4c0a248-431d-43b9-a4ee-757d75eae624",
   "metadata": {},
   "outputs": [],
   "source": []
  },
  {
   "cell_type": "code",
   "execution_count": null,
   "id": "b44a2032-0a75-40a1-8468-b50508ebdb54",
   "metadata": {},
   "outputs": [],
   "source": []
  },
  {
   "cell_type": "code",
   "execution_count": 21,
   "id": "b1cf3995-a623-4b5e-b9ab-de3430aaa65f",
   "metadata": {
    "tags": []
   },
   "outputs": [],
   "source": [
    "ceph_id_to_age = {\n",
    "    '200100': 58,\n",
    "    '200101': 37,\n",
    "    '200102': 35,\n",
    "    '200104': 29,\n",
    "    '200106': 24,\n",
    "    'NA12877': 74,\n",
    "    'NA12878': 73,\n",
    "    'NA12879': 53,\n",
    "    'NA12881': 50,\n",
    "    'NA12882': 47,\n",
    "    'NA12885': 46,\n",
    "    'NA12886': 41,\n",
    "    # 'NA12889': 80,\n",
    "    # 'NA12890': 76,\n",
    "    # 'NA12891': 83,\n",
    "    # 'NA12892': 82\n",
    "}"
   ]
  },
  {
   "cell_type": "code",
   "execution_count": null,
   "id": "7bd0b0a2-3733-43c8-b335-729949486ae4",
   "metadata": {},
   "outputs": [],
   "source": []
  },
  {
   "cell_type": "code",
   "execution_count": 22,
   "id": "2af4652f-97de-4977-a701-36fd62fadbae",
   "metadata": {
    "tags": []
   },
   "outputs": [],
   "source": [
    "xdf = (call_stats_df\n",
    "    .join(\n",
    "        pl.DataFrame({\n",
    "            \"sample_id\": list(ceph_id_to_age.keys()),\n",
    "            \"sample_age\": list(ceph_id_to_age.values()),\n",
    "        }),\n",
    "        on=\"sample_id\",\n",
    "    )\n",
    "    .join(\n",
    "        coverage_per_sample,\n",
    "        on=\"sample_id\",\n",
    "        how=\"left\",\n",
    "    )\n",
    "    .fill_null(0)\n",
    "    .with_columns(\n",
    "        NCO_rate = pl.col(\"GC\") / pl.col(\"coverage\"),\n",
    "        total_rate = (pl.col(\"GC\") + pl.col(\"CO\") + pl.col(\"ambiguous\") + pl.col(\"CNCO\")) / pl.col(\"coverage\"),\n",
    "    )\n",
    ")"
   ]
  },
  {
   "cell_type": "code",
   "execution_count": 23,
   "id": "e939e725-09cb-4b80-bc1d-5830daa2e15a",
   "metadata": {
    "tags": []
   },
   "outputs": [
    {
     "data": {
      "image/png": "[encoded data removed]",
      "text/plain": [
       "<Figure size 640x480 with 1 Axes>"
      ]
     },
     "metadata": {},
     "output_type": "display_data"
    }
   ],
   "source": [
    "plt.plot(\n",
    "    xdf[\"sample_age\"],\n",
    "    xdf[\"total_rate\"],\n",
    "    '.',\n",
    ");\n",
    "plt.xlabel(\"Age\");\n",
    "plt.ylabel(\"# of total events / coverage\");"
   ]
  },
  {
   "cell_type": "code",
   "execution_count": 29,
   "id": "8ae00ebf-dc3b-4e52-a781-3479c3851ab6",
   "metadata": {
    "tags": []
   },
   "outputs": [],
   "source": [
    "import scipy.special\n",
    "\n",
    "log_factorial = lambda n: scipy.special.gammaln(n+1)"
   ]
  },
  {
   "cell_type": "code",
   "execution_count": 37,
   "id": "7eb1bc09-f2d7-47be-91be-2deb147e9f87",
   "metadata": {
    "tags": []
   },
   "outputs": [
    {
     "data": {
      "text/plain": [
       " message: Solution found.\n",
       " success: True\n",
       "  status: 0\n",
       "     fun: 73.76331124080411\n",
       "       x: 0.8128994252536008\n",
       "     nit: 27\n",
       "    nfev: 27"
      ]
     },
     "execution_count": 37,
     "metadata": {},
     "output_type": "execute_result"
    }
   ],
   "source": [
    "# No age\n",
    "\n",
    "scipy.optimize.minimize_scalar(\n",
    "    fun = lambda L: -(\n",
    "        -(L * xdf[\"coverage\"]).sum() \n",
    "        + (xdf[\"GC\"] * (np.log(L * xdf[\"coverage\"]))).sum()\n",
    "        - log_factorial(xdf[\"GC\"]).sum()        \n",
    "    ),\n",
    "    bounds = (0,10000),\n",
    ")"
   ]
  },
  {
   "cell_type": "code",
   "execution_count": 38,
   "id": "54ca1052-292b-4fca-8fe5-40622f39617d",
   "metadata": {
    "tags": []
   },
   "outputs": [
    {
     "data": {
      "text/plain": [
       " message: Solution found.\n",
       " success: True\n",
       "  status: 0\n",
       "     fun: 70.9384474054309\n",
       "       x: 0.015742107765931813\n",
       "     nit: 36\n",
       "    nfev: 36"
      ]
     },
     "execution_count": 38,
     "metadata": {},
     "output_type": "execute_result"
    }
   ],
   "source": [
    "# With age\n",
    "\n",
    "scipy.optimize.minimize_scalar(\n",
    "    fun = lambda L: -(\n",
    "        -(L * xdf[\"coverage\"] * xdf[\"sample_age\"]).sum() \n",
    "        + (xdf[\"GC\"] * (np.log(L * xdf[\"coverage\"] * xdf[\"sample_age\"]))).sum()\n",
    "        - log_factorial(xdf[\"GC\"]).sum()        \n",
    "    ),\n",
    "    bounds = (0,10000),\n",
    ")"
   ]
  },
  {
   "cell_type": "code",
   "execution_count": 41,
   "id": "8a34f3f1-3eb1-4f8e-9a18-b1e8742a480a",
   "metadata": {
    "tags": []
   },
   "outputs": [
    {
     "data": {
      "text/plain": [
       "2.8245600000000053"
      ]
     },
     "execution_count": 41,
     "metadata": {},
     "output_type": "execute_result"
    }
   ],
   "source": [
    "73.763-70.93844"
   ]
  },
  {
   "cell_type": "code",
   "execution_count": 39,
   "id": "4305f93e-0da4-483d-8ec4-19742ef6076e",
   "metadata": {
    "tags": []
   },
   "outputs": [
    {
     "data": {
      "text/plain": [
       "np.float64(16.853527802195362)"
      ]
     },
     "execution_count": 39,
     "metadata": {},
     "output_type": "execute_result"
    }
   ],
   "source": [
    "np.exp(73.763-70.93844)"
   ]
  },
  {
   "cell_type": "code",
   "execution_count": 40,
   "id": "a03d51ab-251f-45cf-89aa-bd90d176c979",
   "metadata": {
    "tags": []
   },
   "outputs": [
    {
     "data": {
      "text/plain": [
       "54.19326666666667"
      ]
     },
     "execution_count": 40,
     "metadata": {},
     "output_type": "execute_result"
    }
   ],
   "source": [
    "0.812899/0.015"
   ]
  },
  {
   "cell_type": "code",
   "execution_count": null,
   "id": "393867a8-d0bc-4362-9f4b-abb499528c6e",
   "metadata": {},
   "outputs": [],
   "source": []
  },
  {
   "cell_type": "code",
   "execution_count": null,
   "id": "b75f39d8-15a1-4e57-9b1b-27bcc269a774",
   "metadata": {},
   "outputs": [],
   "source": []
  },
  {
   "cell_type": "code",
   "execution_count": null,
   "id": "e58a7e49-c0b9-4a63-a3d1-eb97d693a5db",
   "metadata": {},
   "outputs": [],
   "source": []
  },
  {
   "cell_type": "code",
   "execution_count": null,
   "id": "25ab70d9-de31-436d-9abc-d4323d99ea3d",
   "metadata": {},
   "outputs": [],
   "source": []
  },
  {
   "cell_type": "code",
   "execution_count": 60,
   "id": "2de45469-b7d6-4ff5-b00b-e18bcb580acf",
   "metadata": {
    "tags": []
   },
   "outputs": [
    {
     "data": {
      "text/plain": [
       "LinregressResult(slope=np.float64(0.892206711657576), intercept=np.float64(-11.406767125820465), rvalue=np.float64(0.6541752668572608), pvalue=np.float64(0.021008215006468826), stderr=np.float64(0.3262046536509503), intercept_stderr=np.float64(16.172372265930374))"
      ]
     },
     "execution_count": 60,
     "metadata": {},
     "output_type": "execute_result"
    }
   ],
   "source": [
    "scipy.stats.linregress(x = xdf[\"sample_age\"], y = xdf[\"GC\"])"
   ]
  },
  {
   "cell_type": "code",
   "execution_count": 42,
   "id": "4cef1d35-e701-4d92-a340-deaa2846c2d1",
   "metadata": {
    "tags": []
   },
   "outputs": [
    {
     "data": {
      "text/plain": [
       "LinregressResult(slope=np.float64(0.010895976101628926), intercept=np.float64(9.466000042639916), rvalue=np.float64(0.7008950444473067), pvalue=np.float64(0.011109043378058526), stderr=np.float64(0.003506418223608965), intercept_stderr=np.float64(8.260745342808423))"
      ]
     },
     "execution_count": 42,
     "metadata": {},
     "output_type": "execute_result"
    }
   ],
   "source": [
    "scipy.stats.linregress(x = xdf[\"sample_age\"] * xdf[\"coverage\"], y = xdf[\"GC\"])"
   ]
  },
  {
   "cell_type": "code",
   "execution_count": null,
   "id": "87abd512-a034-47dc-9a37-66a05837bf1d",
   "metadata": {},
   "outputs": [],
   "source": []
  },
  {
   "cell_type": "code",
   "execution_count": 51,
   "id": "2237dc5f-870f-4b02-8ef2-b458deb23f34",
   "metadata": {
    "tags": []
   },
   "outputs": [
    {
     "name": "stderr",
     "output_type": "stream",
     "text": [
      "100%|██████████| 100/100 [00:00<00:00, 832.26it/s]\n"
     ]
    }
   ],
   "source": [
    "linreses = [scipy.stats.linregress(x = np.random.permutation(xdf[\"sample_age\"] * xdf[\"coverage\"]), y = xdf[\"GC\"]) for i in tqdm.trange(100)]"
   ]
  },
  {
   "cell_type": "code",
   "execution_count": 54,
   "id": "8a7d156f-68e1-4686-9441-aaaa04cd2220",
   "metadata": {
    "tags": []
   },
   "outputs": [
    {
     "data": {
      "text/plain": [
       "np.float64(1.0)"
      ]
     },
     "execution_count": 54,
     "metadata": {},
     "output_type": "execute_result"
    }
   ],
   "source": [
    "(np.array([x.slope for x in linreses]) < 0.011).mean()"
   ]
  },
  {
   "cell_type": "code",
   "execution_count": null,
   "id": "19eb6490-b487-4596-93e2-a4ccab6c74e8",
   "metadata": {},
   "outputs": [],
   "source": []
  },
  {
   "cell_type": "code",
   "execution_count": null,
   "id": "1ddb473f-6de9-4893-8795-42b3df765726",
   "metadata": {},
   "outputs": [],
   "source": []
  },
  {
   "cell_type": "markdown",
   "id": "df94e175-4300-4b6c-90ae-7325415bf5c9",
   "metadata": {},
   "source": [
    "### Make a dataframe of positions of all converted SNPs"
   ]
  },
  {
   "cell_type": "code",
   "execution_count": 22,
   "id": "d3384513-9a08-4ca1-b022-f01d7401cee6",
   "metadata": {
    "tags": []
   },
   "outputs": [],
   "source": [
    "NCO_df = candidates_df.filter(pl.col(\"high_quality_classification_class\") == \"GC\")"
   ]
  },
  {
   "cell_type": "code",
   "execution_count": 23,
   "id": "ade91757-1a93-44fd-99bf-89c805ebf6fa",
   "metadata": {
    "tags": []
   },
   "outputs": [
    {
     "name": "stdout",
     "output_type": "stream",
     "text": [
      "CPU times: user 72.9 ms, sys: 12.8 ms, total: 85.7 ms\n",
      "Wall time: 31 ms\n"
     ]
    }
   ],
   "source": [
    "%%time\n",
    "converted_snps_df = (NCO_df\n",
    "    .with_columns(\n",
    "        (pl.col(\"idx_transitions\").list.get(0)+1).alias(\"A\"),\n",
    "        (pl.col(\"idx_transitions\").list.get(1) - pl.col(\"idx_transitions\").list.get(0)).alias(\"B\"),\n",
    "    )\n",
    "    .select(\n",
    "        \"sample_id\",\n",
    "        \"chrom\",\n",
    "        \"read_name\",\n",
    "        pl.col(\"snp_positions_on_read\").list.slice(pl.col(\"A\"), pl.col(\"B\")).alias(\"start\"),\n",
    "        pl.col(\"AA_heat\").is_not_null().alias(\"has_AA_DSB\"),\n",
    "    )\n",
    "    .explode(\"start\")\n",
    ")"
   ]
  },
  {
   "cell_type": "markdown",
   "id": "f72e2402-1dbf-49db-ad00-760448f81543",
   "metadata": {},
   "source": [
    "### Cross it with the sequences"
   ]
  },
  {
   "cell_type": "code",
   "execution_count": 24,
   "id": "d396c831-39d3-40cc-af3c-c5a423d3476c",
   "metadata": {
    "tags": []
   },
   "outputs": [
    {
     "name": "stderr",
     "output_type": "stream",
     "text": [
      "[Parallel(n_jobs=-1)]: Using backend LokyBackend with 16 concurrent workers.\n",
      "[Parallel(n_jobs=-1)]: Done  18 tasks      | elapsed:    2.6s\n",
      "[Parallel(n_jobs=-1)]: Done 168 tasks      | elapsed:   11.0s\n",
      "[Parallel(n_jobs=-1)]: Done 418 tasks      | elapsed:   23.1s\n",
      "[Parallel(n_jobs=-1)]: Done 768 tasks      | elapsed:   40.1s\n",
      "[Parallel(n_jobs=-1)]: Done 1218 tasks      | elapsed:   58.2s\n",
      "[Parallel(n_jobs=-1)]: Done 1768 tasks      | elapsed:  1.5min\n",
      "[Parallel(n_jobs=-1)]: Done 2418 tasks      | elapsed:  1.9min\n",
      "[Parallel(n_jobs=-1)]: Done 2640 out of 2640 | elapsed:  2.0min finished\n"
     ]
    }
   ],
   "source": [
    "filenames = []\n",
    "for R in rahbari_df.to_pandas().itertuples():\n",
    "    for chrom in aut_chrom_names:  \n",
    "        filenames.append(        \n",
    "            str(Path(\"/lustre/scratch122/tol/projects/sperm/results/Rahbari_20250212/read_analysis\")\n",
    "                / f\"{R.sample_set}/{R.sample_id}/{R.flow_cell}/{chrom}/annotated_0.95_high_confidence_snps.parquet\")\n",
    "        )\n",
    "\n",
    "for R in sudmant_df.to_pandas().itertuples():\n",
    "    for chrom in aut_chrom_names:  \n",
    "        filenames.append(        \n",
    "            str(Path(\"/lustre/scratch122/tol/projects/sperm/results/Sudmant_20241121/read_analysis\")\n",
    "                / f\"{R.sample_set}/{R.sample_id}/{R.flow_cell}/{chrom}/annotated_0.95_high_confidence_snps.parquet\")\n",
    "        )\n",
    "\n",
    "for R in ceph_df.to_pandas().itertuples():\n",
    "    for chrom in aut_chrom_names:  \n",
    "        filenames.append(        \n",
    "            str(Path(\"/lustre/scratch122/tol/projects/sperm/results/CEPH_20250212/read_analysis\")\n",
    "                / f\"{R.sample_set}/{R.sample_id}/{R.flow_cell}/{chrom}/annotated_0.95_high_confidence_snps.parquet\")\n",
    "        )\n",
    "        \n",
    "        \n",
    "def F(filename):\n",
    "    high_conf_snps_df = pl.scan_parquet(filename)\n",
    "    \n",
    "    df = (converted_snps_df\n",
    "            .lazy()\n",
    "            .join(\n",
    "                (high_conf_snps_df\n",
    "                    .select(\n",
    "                        \"read_name\",\n",
    "                        \"start\",\n",
    "                        \"refseq_start1\",\n",
    "                        \"refseq_start2\",    \n",
    "                        \"fits1_more\",\n",
    "                    )\n",
    "                ),\n",
    "                on=[\"read_name\", \"start\"],\n",
    "            )\n",
    "        ).collect()\n",
    "    \n",
    "    return df\n",
    "\n",
    "dfs = joblib.Parallel(n_jobs=-1, verbose=1)(\n",
    "    joblib.delayed(F)(filename) for filename in filenames\n",
    ")\n",
    "        \n",
    "all_converted_snps_with_seq_df = pl.concat(dfs)\n",
    "\n",
    "converted_snps_with_seq_df = all_converted_snps_with_seq_df.filter(\n",
    "    (pl.col(\"refseq_start1\").is_in([\"G\", \"C\"]) & pl.col(\"refseq_start2\").is_in([\"A\", \"T\"])) |\n",
    "    (pl.col(\"refseq_start2\").is_in([\"G\", \"C\"]) & pl.col(\"refseq_start1\").is_in([\"A\", \"T\"]))\n",
    ")\n",
    "        "
   ]
  },
  {
   "cell_type": "code",
   "execution_count": 25,
   "id": "a2af7867-ab98-4e8d-a8a0-064de07c94c6",
   "metadata": {
    "tags": []
   },
   "outputs": [],
   "source": [
    "read_to_converted_alleles_df = (all_converted_snps_with_seq_df\n",
    "    .with_columns(\n",
    "        original_allele = pl.when(pl.col(\"fits1_more\") == 1).then(\"refseq_start2\").otherwise(\"refseq_start1\"),\n",
    "        converted_allele = pl.when(pl.col(\"fits1_more\") == 0).then(\"refseq_start2\").otherwise(\"refseq_start1\"),\n",
    "    )\n",
    "    .sort(\"read_name\", \"start\")\n",
    "    .group_by(\"read_name\", maintain_order=True)\n",
    "    .agg(    \n",
    "        \"original_allele\", \"converted_allele\",\n",
    "    ) \n",
    ")"
   ]
  },
  {
   "cell_type": "code",
   "execution_count": null,
   "id": "f1d1fa68-28ce-4b63-ae9c-c4d34be0f862",
   "metadata": {},
   "outputs": [],
   "source": []
  },
  {
   "cell_type": "markdown",
   "id": "78571d22-5908-462c-87c1-9487f09e9417",
   "metadata": {},
   "source": [
    "# Save to xls file"
   ]
  },
  {
   "cell_type": "code",
   "execution_count": 31,
   "id": "6d6c2471-6d88-4830-86b2-23c81b03a7a1",
   "metadata": {
    "tags": []
   },
   "outputs": [],
   "source": [
    "(candidates_df\n",
    "    .rename({\n",
    "        \"high_quality_classification_class\": \"event_type\",\n",
    "        \"mid_quality_snp_positions\": \"snp_positions\",\n",
    "        \"mid_quality_snp_positions_alleles\": \"snp_alleles\",\n",
    "    })\n",
    "    .join(\n",
    "        pl.DataFrame({\n",
    "            \"sample_id\": sample_id_to_paper_label.keys(),\n",
    "            \"label\": sample_id_to_paper_label.values(),\n",
    "        }),\n",
    "        on=\"sample_id\",\n",
    "    )\n",
    "    .join(\n",
    "        read_to_converted_alleles_df,\n",
    "        on=\"read_name\",\n",
    "        how=\"left\",\n",
    "    )\n",
    "    .with_columns(\n",
    "        dataset = (\n",
    "            pl.when(pl.col(\"sample_id\").is_in(rahbari_sample_ids))\n",
    "            .then(pl.lit(\"TwinsUK\"))\n",
    "            .otherwise(\n",
    "                pl.when(pl.col(\"sample_id\").is_in(sudmant_sample_ids))\n",
    "                .then(pl.lit(\"SL\"))\n",
    "                .otherwise(pl.lit(\"Platinum\"))\n",
    "            )\n",
    "        ).cast(pl.Enum([\"TwinsUK\", \"SL\", \"Platinum\"])),\n",
    "        chrom = pl.col(\"chrom\").cast(pl.Enum(aut_chrom_names)),\n",
    "        event_type = pl.col(\"event_type\").replace([\"GC\", \"CNCO\"], [\"NCO\", \"complex\"]),\n",
    "        genetic_length_in_cm = pl.col(\"full_read_crossover_prob\") * 1e2,\n",
    "        genetic_length_in_bp = pl.col(\"read_length\"),\n",
    "        gc_tract_lower_bound = (\n",
    "            pl.col(\"snp_positions_on_read\").list.get(pl.col(\"idx_transitions\").list.get(1, null_on_oob=True)) -\n",
    "            pl.col(\"snp_positions_on_read\").list.get(pl.col(\"idx_transitions\").list.get(0, null_on_oob=True)+1)\n",
    "        ),\n",
    "        gc_tract_upper_bound = (\n",
    "            pl.col(\"snp_positions_on_read\").list.get(pl.col(\"idx_transitions\").list.get(1, null_on_oob=True)+1) -\n",
    "            pl.col(\"snp_positions_on_read\").list.get(pl.col(\"idx_transitions\").list.get(0, null_on_oob=True))\n",
    "        ),\n",
    "        n_snps_converted = pl.col(\"idx_transitions\").list.diff(null_behavior=\"drop\").list.first(),     \n",
    "    )\n",
    "    .with_columns(\n",
    "        (pl.col(\"genetic_length_in_cm\")/(pl.col(\"genetic_length_in_bp\")*1e-6)).alias(\"read_recomb_rate_in_cm_bp\"),\n",
    "    ) \n",
    "    .rename(\n",
    "        {\n",
    "            'AA_motif_center_pos': 'DSB_PRDM9_motif_center_pos',\n",
    "            'AA_heat': 'DSB_PRDM9_heat',\n",
    "            'AA_motif_strand': 'DSB_PRDM9_motif_strand',\n",
    "        }\n",
    "    )\n",
    "    .sort([\"dataset\",\"label\", \"event_type\", \"chrom\"])\n",
    "    [[\n",
    "        \"dataset\",\n",
    "        \"label\", \n",
    "        \"event_type\",\n",
    "        \"chrom\",\n",
    "        \"read_length\",\n",
    "        \"genetic_length_in_cm\",\n",
    "        \"read_recomb_rate_in_cm_bp\",\n",
    "        \"n_snps_converted\",\n",
    "        \"gc_tract_lower_bound\",\n",
    "        \"gc_tract_upper_bound\",\n",
    "        'grch37_reference_start',\n",
    "        'grch38_reference_start',\n",
    "        'T2T_reference_start',\n",
    "        \"snp_positions\",\n",
    "        \"snp_alleles\",\n",
    "        \"original_allele\", \n",
    "        \"converted_allele\",\n",
    "        'DSB_PRDM9_motif_center_pos',\n",
    "        'DSB_PRDM9_heat',\n",
    "        'DSB_PRDM9_motif_strand',\n",
    "    ]]\n",
    "    #.write_excel(\"/nfs/users/nfs_r/rs42/rs42/git/sperm/recombination_events.xlsx\")\n",
    "    #.write_parquet(\"/lustre/scratch122/tol/projects/sperm/results/recombination_events_sperm_20250325.parquet\")\n",
    "    #.write_excel(\"/lustre/scratch122/tol/projects/sperm/results/recombination_events_sperm_20250417.xlsx\")\n",
    "    .write_parquet(\"/lustre/scratch122/tol/projects/sperm/results/recombination_events_sperm_20250417.parquet\")\n",
    ")"
   ]
  },
  {
   "cell_type": "code",
   "execution_count": null,
   "id": "3f565b50-4faf-4462-947d-0e423dff2bfc",
   "metadata": {},
   "outputs": [],
   "source": []
  },
  {
   "cell_type": "code",
   "execution_count": 44,
   "id": "95f64d49-6177-4ce6-840a-9a4e622a0e37",
   "metadata": {
    "tags": []
   },
   "outputs": [
    {
     "data": {
      "text/html": [
       "<div><style>\n",
       ".dataframe > thead > tr,\n",
       ".dataframe > tbody > tr {\n",
       "  text-align: right;\n",
       "  white-space: pre-wrap;\n",
       "}\n",
       "</style>\n",
       "<small>shape: (2, 5)</small><table border=\"1\" class=\"dataframe\"><thead><tr><th>sample_id</th><th>CO</th><th>NCO</th><th>Ambiguous</th><th>Complex</th></tr><tr><td>str</td><td>u32</td><td>u32</td><td>u32</td><td>u32</td></tr></thead><tbody><tr><td>&quot;PD47269d&quot;</td><td>14</td><td>15</td><td>81</td><td>22</td></tr><tr><td>&quot;PD48473b&quot;</td><td>6</td><td>15</td><td>47</td><td>3</td></tr></tbody></table></div>"
      ],
      "text/plain": [
       "shape: (2, 5)\n",
       "┌───────────┬─────┬─────┬───────────┬─────────┐\n",
       "│ sample_id ┆ CO  ┆ NCO ┆ Ambiguous ┆ Complex │\n",
       "│ ---       ┆ --- ┆ --- ┆ ---       ┆ ---     │\n",
       "│ str       ┆ u32 ┆ u32 ┆ u32       ┆ u32     │\n",
       "╞═══════════╪═════╪═════╪═══════════╪═════════╡\n",
       "│ PD47269d  ┆ 14  ┆ 15  ┆ 81        ┆ 22      │\n",
       "│ PD48473b  ┆ 6   ┆ 15  ┆ 47        ┆ 3       │\n",
       "└───────────┴─────┴─────┴───────────┴─────────┘"
      ]
     },
     "metadata": {},
     "output_type": "display_data"
    }
   ],
   "source": [
    "call_stats_df = (candidates_df\n",
    "    .with_columns(\n",
    "        combined_class = pl.when(\n",
    "            pl.col(\"high_quality_classification_class\") == \"CNCO\"\n",
    "        ).then(\n",
    "            pl.lit(\"Complex\")\n",
    "        ).when(\n",
    "            pl.col(\"high_quality_classification_in_detectable_class\").is_not_null()\n",
    "        ).then(\n",
    "            \"high_quality_classification_in_detectable_class\"\n",
    "        ).otherwise(\n",
    "            pl.lit(\"Ambiguous\")\n",
    "        )\n",
    "    )\n",
    "    .pivot(\n",
    "        values=[\"combined_class\"],\n",
    "        index=[\"sample_id\"],\n",
    "        columns=[\"combined_class\"],\n",
    "        aggregate_function='len'\n",
    "    )\n",
    "    .sort(by=\"sample_id\")\n",
    "    .select(\"sample_id\", \"CO\", \"NCO\", \"Ambiguous\", \"Complex\")\n",
    ")\n",
    "\n",
    "# call_stats_df = (\n",
    "#     pl.DataFrame(\n",
    "#         {\n",
    "#             \"sample_id\": sample_presentation_order, \n",
    "#             \"paper_label_id\": [sample_id_to_paper_label[x] for x in sample_presentation_order]\n",
    "#         }\n",
    "#     )\n",
    "#     .join(call_stats_df, on=\"sample_id\")\n",
    "# )\n",
    "with pl.Config(tbl_rows=40):\n",
    "    display(call_stats_df)"
   ]
  },
  {
   "cell_type": "code",
   "execution_count": null,
   "id": "d631a930-54f9-4505-a0cd-e506b6ababba",
   "metadata": {},
   "outputs": [],
   "source": []
  },
  {
   "cell_type": "code",
   "execution_count": null,
   "id": "d477c35d-2179-454f-b176-524513f95eb5",
   "metadata": {},
   "outputs": [],
   "source": []
  },
  {
   "cell_type": "code",
   "execution_count": null,
   "id": "ebce7297-0a30-456e-a07a-97868e9be6b3",
   "metadata": {},
   "outputs": [],
   "source": []
  },
  {
   "cell_type": "code",
   "execution_count": null,
   "id": "20200298-4f30-497a-87c1-9e7be9e503cf",
   "metadata": {},
   "outputs": [],
   "source": []
  },
  {
   "cell_type": "code",
   "execution_count": null,
   "id": "cadb0989-278f-4ef7-b3c3-8778f20e449b",
   "metadata": {},
   "outputs": [],
   "source": []
  },
  {
   "cell_type": "code",
   "execution_count": null,
   "id": "8b927ceb-c150-4c5a-8cb8-fc05cceb26c5",
   "metadata": {},
   "outputs": [],
   "source": []
  }
 ],
 "metadata": {
  "kernelspec": {
   "display_name": "sperm",
   "language": "python",
   "name": "sperm"
  },
  "language_info": {
   "codemirror_mode": {
    "name": "ipython",
    "version": 3
   },
   "file_extension": ".py",
   "mimetype": "text/x-python",
   "name": "python",
   "nbconvert_exporter": "python",
   "pygments_lexer": "ipython3",
   "version": "3.11.10"
  }
 },
 "nbformat": 4,
 "nbformat_minor": 5
}
