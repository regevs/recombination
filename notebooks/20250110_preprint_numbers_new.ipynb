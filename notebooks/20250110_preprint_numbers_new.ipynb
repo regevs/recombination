{
 "cells": [
  {
   "cell_type": "code",
   "execution_count": 1,
   "id": "32c4a297-39ee-4727-96f0-0511c0a60aa4",
   "metadata": {},
   "outputs": [],
   "source": [
    "%load_ext autoreload\n",
    "%autoreload 2"
   ]
  },
  {
   "cell_type": "code",
   "execution_count": 2,
   "id": "2a05f37d-8818-47c4-8e08-48cfe55088a2",
   "metadata": {},
   "outputs": [],
   "source": [
    "import numpy as np\n",
    "import pandas as pd\n",
    "import matplotlib as mpl\n",
    "import matplotlib.pyplot as plt\n",
    "import matplotlib.ticker as ticker\n",
    "import numba\n",
    "import numba.typed\n",
    "\n",
    "from pathlib import Path\n",
    "import tqdm\n",
    "import sys\n",
    "import seaborn as sns\n",
    "import scipy.stats\n",
    "import os\n",
    "import pysam\n",
    "import pprint\n",
    "import pickle\n",
    "import joblib\n",
    "import subprocess\n",
    "import polars as pl\n",
    "import io\n",
    "\n",
    "# This is needed before pybedtools to make sure bedtools is imported on sanger JupyterHub \n",
    "os.environ[\"PATH\"] += \":\" + os.path.join(sys.prefix, \"bin\")\n",
    "import pybedtools\n",
    "\n",
    "pd.set_option('display.max_rows', 1000)\n"
   ]
  },
  {
   "cell_type": "code",
   "execution_count": 3,
   "id": "d9443771-8602-42fe-98bf-56ee9f62d541",
   "metadata": {},
   "outputs": [],
   "source": [
    "sys.path.append(str(Path(os.getcwd()).parent))\n",
    "from src import liftover, annotate, diagnostics, inference\n",
    "from src.IDs import *"
   ]
  },
  {
   "cell_type": "markdown",
   "id": "ac10dd8a-61ce-4df2-86eb-4554fd917d61",
   "metadata": {},
   "source": [
    "# Basic stats"
   ]
  },
  {
   "cell_type": "code",
   "execution_count": 4,
   "id": "326f82d0-1b73-4210-a21a-a8aa5af6ae7b",
   "metadata": {
    "tags": []
   },
   "outputs": [],
   "source": [
    "# Analysis by Sangjin here: https://github.com/regevs/sperm/issues/54#issuecomment-2587179795"
   ]
  },
  {
   "cell_type": "code",
   "execution_count": 6,
   "id": "4e318f97-334e-497c-99bc-6a4c8953fac3",
   "metadata": {
    "tags": []
   },
   "outputs": [],
   "source": [
    "flow_cell_stats_df = (\n",
    "    pl.read_csv(\n",
    "        \"/lustre/scratch122/tol/projects/sperm/analysis/sequence_throughput/sequence_throughput_per_movie.csv\"\n",
    "    )\n",
    "    .with_columns(\n",
    "        sample_id = pl.col(\"Sample\"),\n",
    "        coverage = pl.col(\"Coverage\").cast(pl.Float64),\n",
    "        count = pl.col(\"Read count\").cast(pl.Int64),\n",
    "        mean = pl.col(\"Mean length (bp)\").str.split(by=' ± ').list.first().cast(pl.Float64),\n",
    "    )\n",
    ")\n"
   ]
  },
  {
   "cell_type": "markdown",
   "id": "62755846-0f45-470d-ac9e-28328cb6100b",
   "metadata": {},
   "source": [
    "### Filter for only the used samples"
   ]
  },
  {
   "cell_type": "code",
   "execution_count": 7,
   "id": "d8fecb7a-3c20-4e87-8562-4448e0e43cb5",
   "metadata": {
    "tags": []
   },
   "outputs": [],
   "source": [
    "rahbari_df = pl.read_csv(\"/nfs/users/nfs_r/rs42/rs42/git/sperm/configs/Rahbari.tsv\", separator='\\t')\n",
    "\n",
    "sudmant_df = (\n",
    "    pl.read_csv(\"/nfs/users/nfs_r/rs42/rs42/git/sperm/configs/Sudmant.tsv\", separator='\\t')\n",
    "    .with_columns(\n",
    "        pl.col(\"sample_set\").cast(pl.String),\n",
    "        pl.col(\"sample_id\").cast(pl.String),\n",
    "    )\n",
    ")\n",
    "\n",
    "CEPH_df = pl.read_csv(\"/nfs/users/nfs_r/rs42/rs42/git/sperm/configs/CEPH.tsv\", separator='\\t')\n"
   ]
  },
  {
   "cell_type": "code",
   "execution_count": 8,
   "id": "4e21b453-f843-402a-b095-f5f0458f73aa",
   "metadata": {
    "tags": []
   },
   "outputs": [],
   "source": [
    "unique_ids = pl.concat([\n",
    "    rahbari_df[\"flow_cell\"],\n",
    "    sudmant_df[\"flow_cell\"],\n",
    "    CEPH_df[\"flow_cell\"],\n",
    "    flow_cell_stats_df.filter(pl.col(\"Sample\").is_in([\"PD47269d\", \"PD48473b\"]))[\"Movie\"],   # Campbell blood samples\n",
    "]).unique()"
   ]
  },
  {
   "cell_type": "code",
   "execution_count": 9,
   "id": "f2e6b8b1-9c2f-44dc-943c-396b51847dd1",
   "metadata": {
    "tags": []
   },
   "outputs": [],
   "source": [
    "stats_df = (flow_cell_stats_df.filter(pl.col(\"Movie\").is_in(unique_ids)))"
   ]
  },
  {
   "cell_type": "markdown",
   "id": "e30fd7e6-5644-4e6d-a796-1ef88e0a663d",
   "metadata": {},
   "source": [
    "## Read coverage"
   ]
  },
  {
   "cell_type": "code",
   "execution_count": 23,
   "id": "759cbd6b-c19c-4c23-b88d-43292c6b2c12",
   "metadata": {
    "tags": []
   },
   "outputs": [],
   "source": [
    "coverage_per_sample = stats_df.group_by(\"sample_id\").agg(pl.col(\"coverage\").sum())"
   ]
  },
  {
   "cell_type": "code",
   "execution_count": 29,
   "id": "d8ff28c8-0c1a-44a4-96cc-a293207a1a46",
   "metadata": {
    "tags": []
   },
   "outputs": [
    {
     "name": "stdout",
     "output_type": "stream",
     "text": [
      "Average coverage: 57.687878787878766\n"
     ]
    }
   ],
   "source": [
    "print(\"Average coverage:\", coverage_per_sample[\"coverage\"].mean())"
   ]
  },
  {
   "cell_type": "code",
   "execution_count": 30,
   "id": "97df43fb-1dc4-4b5b-8202-2609ab76e8de",
   "metadata": {
    "tags": []
   },
   "outputs": [
    {
     "name": "stdout",
     "output_type": "stream",
     "text": [
      "Range coverage: 17.25 159.14000000000001\n"
     ]
    }
   ],
   "source": [
    "print(\"Range coverage:\", coverage_per_sample[\"coverage\"].min(), coverage_per_sample[\"coverage\"].max())"
   ]
  },
  {
   "cell_type": "markdown",
   "id": "6cfc4a57-fcf3-4769-bda3-31c76bb77e7d",
   "metadata": {},
   "source": [
    "## Get read counts"
   ]
  },
  {
   "cell_type": "code",
   "execution_count": 31,
   "id": "adc9fa50-9308-4c72-9571-918b106fd928",
   "metadata": {},
   "outputs": [
    {
     "name": "stdout",
     "output_type": "stream",
     "text": [
      "Total number of reads (before any processing): 403873298\n"
     ]
    }
   ],
   "source": [
    "print(\"Total number of reads (before any processing):\", stats_df[\"count\"].sum())"
   ]
  },
  {
   "cell_type": "code",
   "execution_count": 34,
   "id": "d21c713c-9e15-4be5-9087-577debc6d926",
   "metadata": {
    "tags": []
   },
   "outputs": [
    {
     "name": "stdout",
     "output_type": "stream",
     "text": [
      "Total number of reads (before any processing), Rahbari sperm: 219381164\n"
     ]
    }
   ],
   "source": [
    "print(\"Total number of reads (before any processing), Rahbari sperm:\", stats_df.filter(pl.col(\"sample_id\").is_in(rahbari_sample_ids))[\"count\"].sum())"
   ]
  },
  {
   "cell_type": "code",
   "execution_count": 36,
   "id": "bdeeef70-cb85-44d5-97d8-e57d56feca78",
   "metadata": {
    "tags": []
   },
   "outputs": [
    {
     "name": "stdout",
     "output_type": "stream",
     "text": [
      "Total number of reads (before any processing), Sudmant sperm: 48080396\n"
     ]
    }
   ],
   "source": [
    "print(\"Total number of reads (before any processing), Sudmant sperm:\", stats_df.filter(pl.col(\"sample_id\").is_in(sudmant_sample_ids))[\"count\"].sum())\n",
    "      "
   ]
  },
  {
   "cell_type": "code",
   "execution_count": 37,
   "id": "b8492c6b-8729-4662-b8b5-c6e551ca31c8",
   "metadata": {
    "tags": []
   },
   "outputs": [
    {
     "name": "stdout",
     "output_type": "stream",
     "text": [
      "Total number of reads (before any processing), total sperm: 267461560\n"
     ]
    }
   ],
   "source": [
    "print(\"Total number of reads (before any processing), total sperm:\", \n",
    "    stats_df.filter(pl.col(\"sample_id\").is_in(rahbari_sample_ids + sudmant_sample_ids))[\"count\"].sum()\n",
    ")"
   ]
  },
  {
   "cell_type": "code",
   "execution_count": 40,
   "id": "8033f63d-9551-4456-b4f4-221e0600f7f1",
   "metadata": {
    "tags": []
   },
   "outputs": [
    {
     "name": "stdout",
     "output_type": "stream",
     "text": [
      "Total number of reads (before any processing), Campbell blood: 17609178\n"
     ]
    }
   ],
   "source": [
    "print(\"Total number of reads (before any processing), Campbell blood:\", \n",
    "    stats_df.filter(pl.col(\"sample_id\").is_in([\"PD47269d\", \"PD48473b\"]))[\"count\"].sum()\n",
    ")"
   ]
  },
  {
   "cell_type": "code",
   "execution_count": 41,
   "id": "83104b53-0e02-4ef5-b9ac-00057a2a4330",
   "metadata": {
    "tags": []
   },
   "outputs": [
    {
     "data": {
      "text/html": [
       "<div><style>\n",
       ".dataframe > thead > tr,\n",
       ".dataframe > tbody > tr {\n",
       "  text-align: right;\n",
       "  white-space: pre-wrap;\n",
       "}\n",
       "</style>\n",
       "<small>shape: (132, 13)</small><table border=\"1\" class=\"dataframe\"><thead><tr><th>Sample</th><th>Movie</th><th>Instrument</th><th>Read count</th><th>Total bases (bp)</th><th>Coverage</th><th>Min length (bp)</th><th>Max length (bp)</th><th>Mean length (bp)</th><th>sample_id</th><th>coverage</th><th>count</th><th>mean</th></tr><tr><td>str</td><td>str</td><td>str</td><td>i64</td><td>i64</td><td>f64</td><td>i64</td><td>i64</td><td>str</td><td>str</td><td>f64</td><td>i64</td><td>f64</td></tr></thead><tbody><tr><td>&quot;NA12892&quot;</td><td>&quot;m64076_230314_050530&quot;</td><td>&quot;Sequel_IIe&quot;</td><td>1903236</td><td>42498218211</td><td>14.17</td><td>130</td><td>71008</td><td>&quot;22329.45&nbsp;±&nbsp;5330.30&quot;</td><td>&quot;NA12892&quot;</td><td>14.17</td><td>1903236</td><td>22329.45</td></tr><tr><td>&quot;NA12892&quot;</td><td>&quot;m64076_230312_191745&quot;</td><td>&quot;Sequel_IIe&quot;</td><td>1816654</td><td>40721362500</td><td>13.57</td><td>123</td><td>71072</td><td>&quot;22415.59&nbsp;±&nbsp;5348.91&quot;</td><td>&quot;NA12892&quot;</td><td>13.57</td><td>1816654</td><td>22415.59</td></tr><tr><td>&quot;NA12892&quot;</td><td>&quot;m64076_230311_094742&quot;</td><td>&quot;Sequel_IIe&quot;</td><td>1928257</td><td>43286410511</td><td>14.43</td><td>229</td><td>68629</td><td>&quot;22448.47&nbsp;±&nbsp;5400.85&quot;</td><td>&quot;NA12892&quot;</td><td>14.43</td><td>1928257</td><td>22448.47</td></tr><tr><td>&quot;200102&quot;</td><td>&quot;m84039_230404_000434_s2&quot;</td><td>&quot;Revio&quot;</td><td>5769906</td><td>68837455415</td><td>22.95</td><td>98</td><td>60028</td><td>&quot;11930.43&nbsp;±&nbsp;5186.63&quot;</td><td>&quot;200102&quot;</td><td>22.95</td><td>5769906</td><td>11930.43</td></tr><tr><td>&quot;200102&quot;</td><td>&quot;m84039_230401_024513_s2&quot;</td><td>&quot;Revio&quot;</td><td>3617233</td><td>47973487472</td><td>15.99</td><td>94</td><td>55331</td><td>&quot;13262.48&nbsp;±&nbsp;5428.45&quot;</td><td>&quot;200102&quot;</td><td>15.99</td><td>3617233</td><td>13262.48</td></tr><tr><td>&hellip;</td><td>&hellip;</td><td>&hellip;</td><td>&hellip;</td><td>&hellip;</td><td>&hellip;</td><td>&hellip;</td><td>&hellip;</td><td>&hellip;</td><td>&hellip;</td><td>&hellip;</td><td>&hellip;</td><td>&hellip;</td></tr><tr><td>&quot;PD47269d&quot;</td><td>&quot;m64125_201110_063134&quot;</td><td>&quot;Sequel_IIe&quot;</td><td>1281350</td><td>25051474356</td><td>8.35</td><td>48</td><td>44509</td><td>&quot;19550.84&nbsp;±&nbsp;2346.37&quot;</td><td>&quot;PD47269d&quot;</td><td>8.35</td><td>1281350</td><td>19550.84</td></tr><tr><td>&quot;PD47269d&quot;</td><td>&quot;m64089_201023_192624&quot;</td><td>&quot;Sequel_IIe&quot;</td><td>415249</td><td>8039261298</td><td>2.68</td><td>45</td><td>36075</td><td>&quot;19360.10&nbsp;±&nbsp;2283.80&quot;</td><td>&quot;PD47269d&quot;</td><td>2.68</td><td>415249</td><td>19360.1</td></tr><tr><td>&quot;PD48473b&quot;</td><td>&quot;m64125_201018_191043&quot;</td><td>&quot;Sequel_IIe&quot;</td><td>1850245</td><td>33756262973</td><td>11.25</td><td>47</td><td>41622</td><td>&quot;18244.21&nbsp;±&nbsp;1748.30&quot;</td><td>&quot;PD48473b&quot;</td><td>11.25</td><td>1850245</td><td>18244.21</td></tr><tr><td>&quot;PD48473b&quot;</td><td>&quot;m64089_201026_082315&quot;</td><td>&quot;Sequel_IIe&quot;</td><td>1564860</td><td>28608289981</td><td>9.54</td><td>47</td><td>38842</td><td>&quot;18281.69&nbsp;±&nbsp;1756.48&quot;</td><td>&quot;PD48473b&quot;</td><td>9.54</td><td>1564860</td><td>18281.69</td></tr><tr><td>&quot;PD48473b&quot;</td><td>&quot;m64089_201025_015448&quot;</td><td>&quot;Sequel_IIe&quot;</td><td>1534075</td><td>28059939144</td><td>9.35</td><td>47</td><td>42802</td><td>&quot;18291.11&nbsp;±&nbsp;1757.71&quot;</td><td>&quot;PD48473b&quot;</td><td>9.35</td><td>1534075</td><td>18291.11</td></tr></tbody></table></div>"
      ],
      "text/plain": [
       "shape: (132, 13)\n",
       "┌──────────┬─────────────┬────────────┬────────────┬───┬───────────┬──────────┬─────────┬──────────┐\n",
       "│ Sample   ┆ Movie       ┆ Instrument ┆ Read count ┆ … ┆ sample_id ┆ coverage ┆ count   ┆ mean     │\n",
       "│ ---      ┆ ---         ┆ ---        ┆ ---        ┆   ┆ ---       ┆ ---      ┆ ---     ┆ ---      │\n",
       "│ str      ┆ str         ┆ str        ┆ i64        ┆   ┆ str       ┆ f64      ┆ i64     ┆ f64      │\n",
       "╞══════════╪═════════════╪════════════╪════════════╪═══╪═══════════╪══════════╪═════════╪══════════╡\n",
       "│ NA12892  ┆ m64076_2303 ┆ Sequel_IIe ┆ 1903236    ┆ … ┆ NA12892   ┆ 14.17    ┆ 1903236 ┆ 22329.45 │\n",
       "│          ┆ 14_050530   ┆            ┆            ┆   ┆           ┆          ┆         ┆          │\n",
       "│ NA12892  ┆ m64076_2303 ┆ Sequel_IIe ┆ 1816654    ┆ … ┆ NA12892   ┆ 13.57    ┆ 1816654 ┆ 22415.59 │\n",
       "│          ┆ 12_191745   ┆            ┆            ┆   ┆           ┆          ┆         ┆          │\n",
       "│ NA12892  ┆ m64076_2303 ┆ Sequel_IIe ┆ 1928257    ┆ … ┆ NA12892   ┆ 14.43    ┆ 1928257 ┆ 22448.47 │\n",
       "│          ┆ 11_094742   ┆            ┆            ┆   ┆           ┆          ┆         ┆          │\n",
       "│ 200102   ┆ m84039_2304 ┆ Revio      ┆ 5769906    ┆ … ┆ 200102    ┆ 22.95    ┆ 5769906 ┆ 11930.43 │\n",
       "│          ┆ 04_000434_s ┆            ┆            ┆   ┆           ┆          ┆         ┆          │\n",
       "│          ┆ 2           ┆            ┆            ┆   ┆           ┆          ┆         ┆          │\n",
       "│ 200102   ┆ m84039_2304 ┆ Revio      ┆ 3617233    ┆ … ┆ 200102    ┆ 15.99    ┆ 3617233 ┆ 13262.48 │\n",
       "│          ┆ 01_024513_s ┆            ┆            ┆   ┆           ┆          ┆         ┆          │\n",
       "│          ┆ 2           ┆            ┆            ┆   ┆           ┆          ┆         ┆          │\n",
       "│ …        ┆ …           ┆ …          ┆ …          ┆ … ┆ …         ┆ …        ┆ …       ┆ …        │\n",
       "│ PD47269d ┆ m64125_2011 ┆ Sequel_IIe ┆ 1281350    ┆ … ┆ PD47269d  ┆ 8.35     ┆ 1281350 ┆ 19550.84 │\n",
       "│          ┆ 10_063134   ┆            ┆            ┆   ┆           ┆          ┆         ┆          │\n",
       "│ PD47269d ┆ m64089_2010 ┆ Sequel_IIe ┆ 415249     ┆ … ┆ PD47269d  ┆ 2.68     ┆ 415249  ┆ 19360.1  │\n",
       "│          ┆ 23_192624   ┆            ┆            ┆   ┆           ┆          ┆         ┆          │\n",
       "│ PD48473b ┆ m64125_2010 ┆ Sequel_IIe ┆ 1850245    ┆ … ┆ PD48473b  ┆ 11.25    ┆ 1850245 ┆ 18244.21 │\n",
       "│          ┆ 18_191043   ┆            ┆            ┆   ┆           ┆          ┆         ┆          │\n",
       "│ PD48473b ┆ m64089_2010 ┆ Sequel_IIe ┆ 1564860    ┆ … ┆ PD48473b  ┆ 9.54     ┆ 1564860 ┆ 18281.69 │\n",
       "│          ┆ 26_082315   ┆            ┆            ┆   ┆           ┆          ┆         ┆          │\n",
       "│ PD48473b ┆ m64089_2010 ┆ Sequel_IIe ┆ 1534075    ┆ … ┆ PD48473b  ┆ 9.35     ┆ 1534075 ┆ 18291.11 │\n",
       "│          ┆ 25_015448   ┆            ┆            ┆   ┆           ┆          ┆         ┆          │\n",
       "└──────────┴─────────────┴────────────┴────────────┴───┴───────────┴──────────┴─────────┴──────────┘"
      ]
     },
     "execution_count": 41,
     "metadata": {},
     "output_type": "execute_result"
    }
   ],
   "source": [
    "stats_df"
   ]
  },
  {
   "cell_type": "code",
   "execution_count": 43,
   "id": "44037d1b-e948-41b0-81a4-d2d063162fb2",
   "metadata": {
    "tags": []
   },
   "outputs": [
    {
     "name": "stdout",
     "output_type": "stream",
     "text": [
      "Total number of reads (before any processing), CEPH blood: 118802560\n"
     ]
    }
   ],
   "source": [
    "print(\"Total number of reads (before any processing), CEPH blood:\", \n",
    "    stats_df.filter(pl.col(\"sample_id\").is_in(CEPH_df[\"sample_id\"]))[\"count\"].sum()\n",
    ")"
   ]
  },
  {
   "cell_type": "code",
   "execution_count": null,
   "id": "840aba8e-e7f0-4aba-aa63-681da931fb40",
   "metadata": {},
   "outputs": [],
   "source": []
  },
  {
   "cell_type": "code",
   "execution_count": 47,
   "id": "89d70485-5d0c-4c3a-9968-81b2fea1578b",
   "metadata": {
    "tags": []
   },
   "outputs": [
    {
     "name": "stdout",
     "output_type": "stream",
     "text": [
      "Average read length: 14140.498300025518\n"
     ]
    }
   ],
   "source": [
    "print(\"Average read length:\", (stats_df[\"mean\"] * stats_df[\"count\"]).sum() / stats_df[\"count\"].sum())"
   ]
  },
  {
   "cell_type": "code",
   "execution_count": null,
   "id": "254af7b5-1d07-45f8-a478-f1ac2b39ada6",
   "metadata": {},
   "outputs": [],
   "source": []
  },
  {
   "cell_type": "markdown",
   "id": "889e64c0-c5bf-4a82-a78b-cb1e1e721b0e",
   "metadata": {},
   "source": [
    "# Get read counts after filtering"
   ]
  },
  {
   "cell_type": "code",
   "execution_count": 70,
   "id": "c297c5e9-d809-4f25-a877-ff73628e9c86",
   "metadata": {
    "tags": []
   },
   "outputs": [
    {
     "name": "stderr",
     "output_type": "stream",
     "text": [
      "\n",
      "9it [00:00, 1021.28it/s]\n",
      "\n",
      "6it [00:00, 2544.57it/s]"
     ]
    },
    {
     "name": "stdout",
     "output_type": "stream",
     "text": [
      "CPU times: user 24.3 ms, sys: 14.8 ms, total: 39.2 ms\n",
      "Wall time: 21.9 ms\n"
     ]
    },
    {
     "name": "stderr",
     "output_type": "stream",
     "text": [
      "\n"
     ]
    }
   ],
   "source": [
    "%%time\n",
    "reads_df = pl.concat(\n",
    "    [\n",
    "        pl.scan_parquet(\n",
    "            f\"/lustre/scratch122/tol/projects/sperm/results/Rahbari_20250212/read_analysis/{sample_set}/{sample_id}/reads/{chrom}/all_reads_structure_annotated.parquet\",\n",
    "        ) \n",
    "        for sample_id, sample_set in tqdm.tqdm(rahbari_df.select(\"sample_id\", \"sample_set\").unique().iter_rows())\n",
    "        for chrom in aut_chrom_names\n",
    "    ] + \n",
    "    [\n",
    "        pl.scan_parquet(\n",
    "            f\"/lustre/scratch122/tol/projects/sperm/results/Sudmant_20241121/read_analysis/{sample_set}/{sample_id}/reads/{chrom}/all_reads_structure_annotated.parquet\",\n",
    "        ) \n",
    "        for sample_id, sample_set in tqdm.tqdm(sudmant_df.select(\"sample_id\", \"sample_set\").unique().iter_rows())\n",
    "        for chrom in aut_chrom_names\n",
    "    ]\n",
    ")"
   ]
  },
  {
   "cell_type": "code",
   "execution_count": 71,
   "id": "997192f7-2672-485c-b58b-da242685ed90",
   "metadata": {},
   "outputs": [
    {
     "data": {
      "text/html": [
       "<div><style>\n",
       ".dataframe > thead > tr,\n",
       ".dataframe > tbody > tr {\n",
       "  text-align: right;\n",
       "  white-space: pre-wrap;\n",
       "}\n",
       "</style>\n",
       "<small>shape: (1, 1)</small><table border=\"1\" class=\"dataframe\"><thead><tr><th>len</th></tr><tr><td>u32</td></tr></thead><tbody><tr><td>196296004</td></tr></tbody></table></div>"
      ],
      "text/plain": [
       "shape: (1, 1)\n",
       "┌───────────┐\n",
       "│ len       │\n",
       "│ ---       │\n",
       "│ u32       │\n",
       "╞═══════════╡\n",
       "│ 196296004 │\n",
       "└───────────┘"
      ]
     },
     "execution_count": 71,
     "metadata": {},
     "output_type": "execute_result"
    }
   ],
   "source": [
    "(reads_df\n",
    "    .filter(pl.col(\"is_high_quality_read\"))\n",
    "    .select(pl.len())\n",
    ").collect()"
   ]
  },
  {
   "cell_type": "markdown",
   "id": "534838e5-f1fc-4a41-a4ff-b85b67be67aa",
   "metadata": {},
   "source": [
    "# Number of SNPs"
   ]
  },
  {
   "cell_type": "code",
   "execution_count": 73,
   "id": "4bb4bec7-14b7-44a0-a090-74317f6e96f8",
   "metadata": {},
   "outputs": [
    {
     "name": "stderr",
     "output_type": "stream",
     "text": [
      "56it [00:00, 3554.01it/s]\n",
      "12it [00:00, 4195.70it/s]"
     ]
    },
    {
     "name": "stdout",
     "output_type": "stream",
     "text": [
      "CPU times: user 24.7 ms, sys: 3.37 ms, total: 28 ms\n",
      "Wall time: 26.2 ms\n"
     ]
    },
    {
     "name": "stderr",
     "output_type": "stream",
     "text": [
      "\n"
     ]
    }
   ],
   "source": [
    "%%time\n",
    "all_snps = pl.concat(\n",
    "    [\n",
    "        pl.scan_parquet(\n",
    "            f\"/lustre/scratch122/tol/projects/sperm/results/Rahbari_20250212/read_analysis/{sample_set}/{sample_id}/{flow_cell}/{chrom}/annotated_0.95_high_confidence_snps.parquet\",\n",
    "        ) \n",
    "        for sample_id, sample_set, flow_cell in tqdm.tqdm(rahbari_df.select(\"sample_id\", \"sample_set\", \"flow_cell\").iter_rows())\n",
    "        for chrom in aut_chrom_names\n",
    "    ] + \n",
    "    [\n",
    "        pl.scan_parquet(\n",
    "            f\"/lustre/scratch122/tol/projects/sperm/results/Sudmant_20241121/read_analysis/{sample_set}/{sample_id}/{flow_cell}/{chrom}/annotated_0.95_high_confidence_snps.parquet\",\n",
    "        ) \n",
    "        for sample_id, sample_set, flow_cell in tqdm.tqdm(sudmant_df.select(\"sample_id\", \"sample_set\", \"flow_cell\").iter_rows())\n",
    "        for chrom in aut_chrom_names\n",
    "    ]\n",
    ")\n"
   ]
  },
  {
   "cell_type": "code",
   "execution_count": 74,
   "id": "6712044b-f351-4c88-91d4-997b6830981f",
   "metadata": {},
   "outputs": [
    {
     "name": "stdout",
     "output_type": "stream",
     "text": [
      "CPU times: user 2.95 s, sys: 2.55 s, total: 5.5 s\n",
      "Wall time: 1min 13s\n"
     ]
    },
    {
     "data": {
      "text/html": [
       "<div><style>\n",
       ".dataframe > thead > tr,\n",
       ".dataframe > tbody > tr {\n",
       "  text-align: right;\n",
       "  white-space: pre-wrap;\n",
       "}\n",
       "</style>\n",
       "<small>shape: (1, 1)</small><table border=\"1\" class=\"dataframe\"><thead><tr><th>len</th></tr><tr><td>u32</td></tr></thead><tbody><tr><td>3021086931</td></tr></tbody></table></div>"
      ],
      "text/plain": [
       "shape: (1, 1)\n",
       "┌────────────┐\n",
       "│ len        │\n",
       "│ ---        │\n",
       "│ u32        │\n",
       "╞════════════╡\n",
       "│ 3021086931 │\n",
       "└────────────┘"
      ]
     },
     "execution_count": 74,
     "metadata": {},
     "output_type": "execute_result"
    }
   ],
   "source": [
    "%%time\n",
    "all_snps.select(pl.len()).collect()"
   ]
  },
  {
   "cell_type": "code",
   "execution_count": 79,
   "id": "f0f48ce4-541f-4b24-8de7-6024160381c4",
   "metadata": {},
   "outputs": [
    {
     "name": "stdout",
     "output_type": "stream",
     "text": [
      "CPU times: user 1min 19s, sys: 38.1 s, total: 1min 57s\n",
      "Wall time: 8.45 s\n"
     ]
    },
    {
     "data": {
      "text/html": [
       "<div><style>\n",
       ".dataframe > thead > tr,\n",
       ".dataframe > tbody > tr {\n",
       "  text-align: right;\n",
       "  white-space: pre-wrap;\n",
       "}\n",
       "</style>\n",
       "<small>shape: (1, 1)</small><table border=\"1\" class=\"dataframe\"><thead><tr><th>len</th></tr><tr><td>u32</td></tr></thead><tbody><tr><td>1163633539</td></tr></tbody></table></div>"
      ],
      "text/plain": [
       "shape: (1, 1)\n",
       "┌────────────┐\n",
       "│ len        │\n",
       "│ ---        │\n",
       "│ u32        │\n",
       "╞════════════╡\n",
       "│ 1163633539 │\n",
       "└────────────┘"
      ]
     },
     "execution_count": 79,
     "metadata": {},
     "output_type": "execute_result"
    }
   ],
   "source": [
    "%%time\n",
    "all_snps.select(\"read_name\", \"start\", \"is_high_quality_snp\").collect().filter(\"is_high_quality_snp\").select(pl.len())"
   ]
  },
  {
   "cell_type": "code",
   "execution_count": null,
   "id": "f1564369-1205-4ffd-b369-f339208f65f2",
   "metadata": {},
   "outputs": [],
   "source": []
  },
  {
   "cell_type": "markdown",
   "id": "2cdf20bf-dab8-4cf0-865f-3f80e695e35e",
   "metadata": {},
   "source": [
    "## High quality SNPs per read"
   ]
  },
  {
   "cell_type": "code",
   "execution_count": 81,
   "id": "1ca8ce8e-80da-4836-8009-e570f90b4f77",
   "metadata": {
    "tags": []
   },
   "outputs": [
    {
     "name": "stderr",
     "output_type": "stream",
     "text": [
      "56it [01:49,  1.96s/it]\n",
      "12it [00:30,  2.53s/it]\n"
     ]
    }
   ],
   "source": [
    "rows = []\n",
    "\n",
    "for sample_id, sample_set, flow_cell in tqdm.tqdm(rahbari_df.select(\"sample_id\", \"sample_set\", \"flow_cell\").iter_rows()):\n",
    "    for chrom in aut_chrom_names:        \n",
    "        sample_snps = \\\n",
    "            pl.scan_parquet(\n",
    "                f\"/lustre/scratch122/tol/projects/sperm/results/Rahbari_20250212/read_analysis/{sample_set}/{sample_id}/{flow_cell}/{chrom}/annotated_0.95_high_confidence_snps.parquet\",\n",
    "            ) \n",
    "\n",
    "        unique_snp_counts = (sample_snps\n",
    "            .filter(\"is_high_quality_snp\")\n",
    "            .group_by(\"read_name\")\n",
    "            .len().rename({\"len\": \"n_snps\"})\n",
    "            .group_by(\"n_snps\")\n",
    "            .len()\n",
    "            .collect(streaming=True)\n",
    "        )\n",
    "        rows.append((sample_id, sample_set, flow_cell, chrom, unique_snp_counts))\n",
    "        \n",
    "for sample_id, sample_set, flow_cell in tqdm.tqdm(sudmant_df.select(\"sample_id\", \"sample_set\", \"flow_cell\").iter_rows()):\n",
    "    for chrom in aut_chrom_names:        \n",
    "        sample_snps = \\\n",
    "            pl.scan_parquet(\n",
    "                f\"/lustre/scratch122/tol/projects/sperm/results/Sudmant_20241121/read_analysis/{sample_set}/{sample_id}/{flow_cell}/{chrom}/annotated_0.95_high_confidence_snps.parquet\",\n",
    "            ) \n",
    "\n",
    "        unique_snp_counts = (sample_snps\n",
    "            .filter(\"is_high_quality_snp\")\n",
    "            .group_by(\"read_name\")\n",
    "            .len().rename({\"len\": \"n_snps\"})\n",
    "            .group_by(\"n_snps\")\n",
    "            .len()\n",
    "            .collect(streaming=True)\n",
    "        )\n",
    "        rows.append((sample_id, sample_set, flow_cell, chrom, unique_snp_counts))        "
   ]
  },
  {
   "cell_type": "code",
   "execution_count": 85,
   "id": "316a3cdc-96bd-4485-88d3-ef79ec6fd826",
   "metadata": {
    "tags": []
   },
   "outputs": [],
   "source": [
    "total_hist = {s:np.zeros(400) for s in sample_ids + [\"All\"]}\n",
    "for row in rows:\n",
    "    for n_snps, cnt in row[-1].rows():\n",
    "        total_hist[row[0]][n_snps] += cnt\n",
    "        total_hist[\"All\"][n_snps] += cnt"
   ]
  },
  {
   "cell_type": "code",
   "execution_count": null,
   "id": "de0f6027-dffd-401b-a994-7cf1d429c9f0",
   "metadata": {},
   "outputs": [],
   "source": []
  },
  {
   "cell_type": "code",
   "execution_count": null,
   "id": "9cd34a50-a0ca-4b64-9ce7-638c3f5c0a7d",
   "metadata": {},
   "outputs": [],
   "source": []
  },
  {
   "cell_type": "code",
   "execution_count": 86,
   "id": "b3067e23-e1c5-4d31-8a8c-fca07e317848",
   "metadata": {
    "tags": []
   },
   "outputs": [
    {
     "data": {
      "image/png": "[encoded data removed]",
      "text/plain": [
       "<Figure size 640x480 with 1 Axes>"
      ]
     },
     "metadata": {},
     "output_type": "display_data"
    }
   ],
   "source": [
    "plt.bar(x=np.arange(400), height=total_hist[\"All\"] / total_hist[\"All\"].sum())\n",
    "plt.xlim(0, 50)\n",
    "plt.xlabel(\"# of high quality SNPs on read\");\n",
    "plt.ylabel(\"Fraction\");"
   ]
  },
  {
   "cell_type": "code",
   "execution_count": 87,
   "id": "9ab56b76-e85c-4f2e-b818-020960fd49b4",
   "metadata": {
    "tags": []
   },
   "outputs": [
    {
     "name": "stdout",
     "output_type": "stream",
     "text": [
      "PD50477f 5.759972152944968\n",
      "PD50519d 5.909671306833053\n",
      "PD50508f 8.121031856311262\n",
      "PD50523b 6.292058776310657\n",
      "PD50521b 6.288746222095818\n",
      "PD50508b 6.791652024049477\n",
      "PD46180c 6.169597220184443\n",
      "PD50521e 5.157612829351835\n",
      "PD50489e 5.638578126174709\n",
      "1894 9.209768567361532\n",
      "3898 9.94499472871258\n",
      "7899 9.288745167615568\n",
      "95619 9.050880538177411\n",
      "115980 9.337350353758193\n",
      "2895 9.651255895471687\n",
      "All 6.699282020135253\n"
     ]
    }
   ],
   "source": [
    "for k,T in total_hist.items():\n",
    "    print(k, np.sum([i*h for i, h in enumerate(T)]) / np.sum(T))"
   ]
  },
  {
   "cell_type": "code",
   "execution_count": null,
   "id": "cc5f45a6-1a04-44cf-86a2-3912dad0dcaf",
   "metadata": {},
   "outputs": [],
   "source": []
  },
  {
   "cell_type": "markdown",
   "id": "5f9c1a9f-9478-40be-96e4-602f22bd150b",
   "metadata": {
    "tags": []
   },
   "source": [
    "# Candidate read classes"
   ]
  },
  {
   "cell_type": "code",
   "execution_count": 4,
   "id": "5d791035-b9b1-4aa3-bd9e-db84f4ff9a76",
   "metadata": {
    "tags": []
   },
   "outputs": [],
   "source": [
    "rahbari_df = pl.read_csv(\"/nfs/users/nfs_r/rs42/rs42/git/sperm/configs/Rahbari.tsv\", separator='\\t')"
   ]
  },
  {
   "cell_type": "code",
   "execution_count": 5,
   "id": "6f409215-3367-4912-bd2c-7dfa45637e0f",
   "metadata": {
    "tags": []
   },
   "outputs": [],
   "source": [
    "sudmant_df = pl.read_csv(\"/nfs/users/nfs_r/rs42/rs42/git/sperm/configs/Sudmant.tsv\", separator='\\t')"
   ]
  },
  {
   "cell_type": "code",
   "execution_count": null,
   "id": "77cff26b-aa3b-48d5-b895-021dc4ee9b2e",
   "metadata": {},
   "outputs": [],
   "source": []
  },
  {
   "cell_type": "code",
   "execution_count": 6,
   "id": "f86ae448-b17d-4154-a3d4-6c00350d5dc4",
   "metadata": {
    "tags": []
   },
   "outputs": [
    {
     "name": "stderr",
     "output_type": "stream",
     "text": [
      "9it [00:00, 1003.37it/s]\n"
     ]
    },
    {
     "name": "stdout",
     "output_type": "stream",
     "text": [
      "CPU times: user 52.7 ms, sys: 210 ms, total: 263 ms\n",
      "Wall time: 10.5 s\n"
     ]
    },
    {
     "data": {
      "text/html": [
       "<div><style>\n",
       ".dataframe > thead > tr,\n",
       ".dataframe > tbody > tr {\n",
       "  text-align: right;\n",
       "  white-space: pre-wrap;\n",
       "}\n",
       "</style>\n",
       "<small>shape: (1, 1)</small><table border=\"1\" class=\"dataframe\"><thead><tr><th>len</th></tr><tr><td>u32</td></tr></thead><tbody><tr><td>50653</td></tr></tbody></table></div>"
      ],
      "text/plain": [
       "shape: (1, 1)\n",
       "┌───────┐\n",
       "│ len   │\n",
       "│ ---   │\n",
       "│ u32   │\n",
       "╞═══════╡\n",
       "│ 50653 │\n",
       "└───────┘"
      ]
     },
     "execution_count": 6,
     "metadata": {},
     "output_type": "execute_result"
    }
   ],
   "source": [
    "%%time\n",
    "pl.concat([\n",
    "    pl.scan_parquet(\n",
    "        f\"/lustre/scratch122/tol/projects/sperm/results/Rahbari_20250212/read_analysis/{sample_set}/{sample_id}/reads/{chrom}/classified_reads.parquet\",\n",
    "    ) \n",
    "    for sample_id, sample_set in tqdm.tqdm(rahbari_df.select(\"sample_id\", \"sample_set\").unique().iter_rows())\n",
    "    for chrom in aut_chrom_names\n",
    "]).select(pl.len()).collect()"
   ]
  },
  {
   "cell_type": "code",
   "execution_count": 7,
   "id": "69b90760-c0a8-4d1d-b109-d6d98d50c4dc",
   "metadata": {
    "tags": []
   },
   "outputs": [
    {
     "name": "stderr",
     "output_type": "stream",
     "text": [
      "6it [00:00, 2520.87it/s]\n"
     ]
    },
    {
     "name": "stdout",
     "output_type": "stream",
     "text": [
      "CPU times: user 25.8 ms, sys: 62.9 ms, total: 88.8 ms\n",
      "Wall time: 260 ms\n"
     ]
    },
    {
     "data": {
      "text/html": [
       "<div><style>\n",
       ".dataframe > thead > tr,\n",
       ".dataframe > tbody > tr {\n",
       "  text-align: right;\n",
       "  white-space: pre-wrap;\n",
       "}\n",
       "</style>\n",
       "<small>shape: (1, 1)</small><table border=\"1\" class=\"dataframe\"><thead><tr><th>len</th></tr><tr><td>u32</td></tr></thead><tbody><tr><td>14793</td></tr></tbody></table></div>"
      ],
      "text/plain": [
       "shape: (1, 1)\n",
       "┌───────┐\n",
       "│ len   │\n",
       "│ ---   │\n",
       "│ u32   │\n",
       "╞═══════╡\n",
       "│ 14793 │\n",
       "└───────┘"
      ]
     },
     "execution_count": 7,
     "metadata": {},
     "output_type": "execute_result"
    }
   ],
   "source": [
    "%%time\n",
    "pl.concat([\n",
    "    pl.scan_parquet(\n",
    "        f\"/lustre/scratch122/tol/projects/sperm/results/Sudmant_20241121/read_analysis/{sample_set}/{sample_id}/reads/{chrom}/classified_reads.parquet\",\n",
    "    ) \n",
    "    for sample_id, sample_set in tqdm.tqdm(sudmant_df.select(\"sample_id\", \"sample_set\").unique().iter_rows())\n",
    "    for chrom in aut_chrom_names\n",
    "]).select(pl.len()).collect()"
   ]
  },
  {
   "cell_type": "code",
   "execution_count": 92,
   "id": "2122105f-9308-4aa9-882e-0b43ea12efb9",
   "metadata": {
    "tags": []
   },
   "outputs": [
    {
     "data": {
      "text/plain": [
       "65446"
      ]
     },
     "execution_count": 92,
     "metadata": {},
     "output_type": "execute_result"
    }
   ],
   "source": [
    "50653 + 14793"
   ]
  },
  {
   "cell_type": "code",
   "execution_count": null,
   "id": "eaea3ab9-116f-4ed7-b9f2-c4e53a774b5a",
   "metadata": {},
   "outputs": [],
   "source": []
  },
  {
   "cell_type": "code",
   "execution_count": null,
   "id": "c4c4dfaf-6569-408b-b3bc-4a5e33ffe979",
   "metadata": {},
   "outputs": [],
   "source": []
  },
  {
   "cell_type": "code",
   "execution_count": 93,
   "id": "c8813aaf-6751-4c83-9be0-b7c9e29ac9fb",
   "metadata": {
    "tags": []
   },
   "outputs": [],
   "source": [
    "# %%time\n",
    "# (\n",
    "#     pl.concat([\n",
    "#         pl.scan_parquet(\n",
    "#             f\"/lustre/scratch122/tol/projects/sperm/results/Rahbari_20250212/read_analysis/{sample_set}/{sample_id}/reads/{chrom}/classified_reads.parquet\",\n",
    "#         ) \n",
    "#         for sample_id, sample_set in tqdm.tqdm(rahbari_df.select(\"sample_id\", \"sample_set\").unique().iter_rows())\n",
    "#         for chrom in aut_chrom_names\n",
    "#     ]).select(\"class\", \"sample_id\").collect()\n",
    "#         .pivot(\n",
    "#             values=[\"class\"],\n",
    "#             index=[\"sample_id\"],\n",
    "#             on=[\"class\"],\n",
    "#             aggregate_function='len'\n",
    "#         )\n",
    "#         .sort(by=\"sample_id\")\n",
    "#         .select(\"sample_id\", \"CO\", \"GC\", \"ambiguous\", \"CNCO\")\n",
    "# )"
   ]
  },
  {
   "cell_type": "code",
   "execution_count": null,
   "id": "07a8aff4-4f2c-45dd-93cf-91f9c23c690c",
   "metadata": {},
   "outputs": [],
   "source": []
  },
  {
   "cell_type": "code",
   "execution_count": null,
   "id": "233f2af7-8b92-4706-8d59-e1d7a784b36f",
   "metadata": {},
   "outputs": [],
   "source": []
  },
  {
   "cell_type": "code",
   "execution_count": 8,
   "id": "40dcbf8e-6c48-456e-98eb-fa302d926dfa",
   "metadata": {
    "tags": []
   },
   "outputs": [
    {
     "name": "stderr",
     "output_type": "stream",
     "text": [
      "9it [00:00, 2735.42it/s]"
     ]
    },
    {
     "name": "stdout",
     "output_type": "stream",
     "text": [
      "CPU times: user 7.74 ms, sys: 755 μs, total: 8.5 ms\n",
      "Wall time: 6.27 ms\n"
     ]
    },
    {
     "name": "stderr",
     "output_type": "stream",
     "text": [
      "\n"
     ]
    }
   ],
   "source": [
    "%%time\n",
    "rahbari_reads_df = pl.concat([\n",
    "    pl.scan_parquet(\n",
    "        f\"/lustre/scratch122/tol/projects/sperm/results/Rahbari_20250212/read_analysis/{sample_set}/{sample_id}/reads/{chrom}/all_reads_structure_annotated.parquet\",\n",
    "    ) \n",
    "    for sample_id, sample_set in tqdm.tqdm(rahbari_df.select(\"sample_id\", \"sample_set\").unique().iter_rows())\n",
    "    for chrom in aut_chrom_names\n",
    "])"
   ]
  },
  {
   "cell_type": "code",
   "execution_count": 9,
   "id": "a7ca1ced-9c33-48aa-bb28-e90c497db5db",
   "metadata": {
    "tags": []
   },
   "outputs": [
    {
     "name": "stderr",
     "output_type": "stream",
     "text": [
      "6it [00:00, 2543.80it/s]"
     ]
    },
    {
     "name": "stdout",
     "output_type": "stream",
     "text": [
      "CPU times: user 5.52 ms, sys: 247 μs, total: 5.77 ms\n",
      "Wall time: 4.22 ms\n"
     ]
    },
    {
     "name": "stderr",
     "output_type": "stream",
     "text": [
      "\n"
     ]
    }
   ],
   "source": [
    "%%time\n",
    "sudmant_reads_df = pl.concat([\n",
    "    pl.scan_parquet(\n",
    "        f\"/lustre/scratch122/tol/projects/sperm/results/Sudmant_20241121/read_analysis/{sample_set}/{sample_id}/reads/{chrom}/all_reads_structure_annotated.parquet\",\n",
    "    ) \n",
    "    for sample_id, sample_set in tqdm.tqdm(sudmant_df.select(\"sample_id\", \"sample_set\").unique().iter_rows())\n",
    "    for chrom in aut_chrom_names\n",
    "])"
   ]
  },
  {
   "cell_type": "code",
   "execution_count": 10,
   "id": "4647e281-2414-475c-9948-9659292504bf",
   "metadata": {
    "tags": []
   },
   "outputs": [],
   "source": [
    "reads_df = pl.concat([rahbari_reads_df, sudmant_reads_df])"
   ]
  },
  {
   "cell_type": "code",
   "execution_count": null,
   "id": "a76c33b2-8fea-4a77-900e-03d5d2da7800",
   "metadata": {},
   "outputs": [],
   "source": []
  },
  {
   "cell_type": "code",
   "execution_count": 11,
   "id": "67b4b37d-1248-441d-9490-f44a017cfc57",
   "metadata": {
    "tags": []
   },
   "outputs": [
    {
     "name": "stdout",
     "output_type": "stream",
     "text": [
      "CPU times: user 4min 32s, sys: 1min, total: 5min 32s\n",
      "Wall time: 7min 13s\n"
     ]
    }
   ],
   "source": [
    "%%time\n",
    "candidates_df = (reads_df\n",
    "    .select(\n",
    "        'read_name',\n",
    "        'chrom',\n",
    "        'sample_id',\n",
    "        'is_high_quality_read',\n",
    "        \"high_quality_classification_class\",\n",
    "        \"high_quality_classification_in_detectable_class\",\n",
    "        'grch37_reference_start',\n",
    "        'grch38_reference_start',\n",
    "        'T2T_reference_start',\n",
    "        \"mid_quality_snp_positions\",\n",
    "        \"mid_quality_snp_positions_alleles\",\n",
    "        \"total_mismatches\",\n",
    "        \"is_contamination\",\n",
    "    )\n",
    "    .filter(\"is_high_quality_read\")\n",
    "    .filter(~pl.col(\"is_contamination\"))\n",
    "    .filter(pl.col(\"high_quality_classification_class\").is_not_null())\n",
    "    .collect(streaming=True)\n",
    ")"
   ]
  },
  {
   "cell_type": "code",
   "execution_count": 14,
   "id": "08a3ae8a-b81b-4a13-88e5-934d1e80a0fd",
   "metadata": {
    "tags": []
   },
   "outputs": [
    {
     "data": {
      "text/plain": [
       "17335"
      ]
     },
     "execution_count": 14,
     "metadata": {},
     "output_type": "execute_result"
    }
   ],
   "source": [
    "len(candidates_df)"
   ]
  },
  {
   "cell_type": "code",
   "execution_count": 16,
   "id": "29f42def-753e-4177-8e32-5e768399dc2f",
   "metadata": {
    "tags": []
   },
   "outputs": [
    {
     "data": {
      "text/html": [
       "<div><style>\n",
       ".dataframe > thead > tr,\n",
       ".dataframe > tbody > tr {\n",
       "  text-align: right;\n",
       "  white-space: pre-wrap;\n",
       "}\n",
       "</style>\n",
       "<small>shape: (15, 5)</small><table border=\"1\" class=\"dataframe\"><thead><tr><th>sample_id</th><th>CO</th><th>GC</th><th>ambiguous</th><th>CNCO</th></tr><tr><td>str</td><td>u32</td><td>u32</td><td>u32</td><td>u32</td></tr></thead><tbody><tr><td>&quot;115980&quot;</td><td>365</td><td>129</td><td>299</td><td>5</td></tr><tr><td>&quot;1894&quot;</td><td>433</td><td>159</td><td>341</td><td>5</td></tr><tr><td>&quot;2895&quot;</td><td>330</td><td>112</td><td>260</td><td>7</td></tr><tr><td>&quot;3898&quot;</td><td>380</td><td>161</td><td>293</td><td>5</td></tr><tr><td>&quot;7899&quot;</td><td>427</td><td>152</td><td>334</td><td>6</td></tr><tr><td>&quot;95619&quot;</td><td>395</td><td>123</td><td>319</td><td>7</td></tr><tr><td>&quot;PD46180c&quot;</td><td>740</td><td>208</td><td>756</td><td>26</td></tr><tr><td>&quot;PD50477f&quot;</td><td>714</td><td>192</td><td>1174</td><td>10</td></tr><tr><td>&quot;PD50489e&quot;</td><td>499</td><td>137</td><td>522</td><td>18</td></tr><tr><td>&quot;PD50508b&quot;</td><td>395</td><td>106</td><td>371</td><td>6</td></tr><tr><td>&quot;PD50508f&quot;</td><td>114</td><td>27</td><td>94</td><td>5</td></tr><tr><td>&quot;PD50519d&quot;</td><td>688</td><td>167</td><td>909</td><td>14</td></tr><tr><td>&quot;PD50521b&quot;</td><td>284</td><td>81</td><td>265</td><td>4</td></tr><tr><td>&quot;PD50521e&quot;</td><td>581</td><td>201</td><td>557</td><td>19</td></tr><tr><td>&quot;PD50523b&quot;</td><td>798</td><td>433</td><td>1091</td><td>82</td></tr></tbody></table></div>"
      ],
      "text/plain": [
       "shape: (15, 5)\n",
       "┌───────────┬─────┬─────┬───────────┬──────┐\n",
       "│ sample_id ┆ CO  ┆ GC  ┆ ambiguous ┆ CNCO │\n",
       "│ ---       ┆ --- ┆ --- ┆ ---       ┆ ---  │\n",
       "│ str       ┆ u32 ┆ u32 ┆ u32       ┆ u32  │\n",
       "╞═══════════╪═════╪═════╪═══════════╪══════╡\n",
       "│ 115980    ┆ 365 ┆ 129 ┆ 299       ┆ 5    │\n",
       "│ 1894      ┆ 433 ┆ 159 ┆ 341       ┆ 5    │\n",
       "│ 2895      ┆ 330 ┆ 112 ┆ 260       ┆ 7    │\n",
       "│ 3898      ┆ 380 ┆ 161 ┆ 293       ┆ 5    │\n",
       "│ 7899      ┆ 427 ┆ 152 ┆ 334       ┆ 6    │\n",
       "│ 95619     ┆ 395 ┆ 123 ┆ 319       ┆ 7    │\n",
       "│ PD46180c  ┆ 740 ┆ 208 ┆ 756       ┆ 26   │\n",
       "│ PD50477f  ┆ 714 ┆ 192 ┆ 1174      ┆ 10   │\n",
       "│ PD50489e  ┆ 499 ┆ 137 ┆ 522       ┆ 18   │\n",
       "│ PD50508b  ┆ 395 ┆ 106 ┆ 371       ┆ 6    │\n",
       "│ PD50508f  ┆ 114 ┆ 27  ┆ 94        ┆ 5    │\n",
       "│ PD50519d  ┆ 688 ┆ 167 ┆ 909       ┆ 14   │\n",
       "│ PD50521b  ┆ 284 ┆ 81  ┆ 265       ┆ 4    │\n",
       "│ PD50521e  ┆ 581 ┆ 201 ┆ 557       ┆ 19   │\n",
       "│ PD50523b  ┆ 798 ┆ 433 ┆ 1091      ┆ 82   │\n",
       "└───────────┴─────┴─────┴───────────┴──────┘"
      ]
     },
     "metadata": {},
     "output_type": "display_data"
    },
    {
     "data": {
      "text/html": [
       "<div><style>\n",
       ".dataframe > thead > tr,\n",
       ".dataframe > tbody > tr {\n",
       "  text-align: right;\n",
       "  white-space: pre-wrap;\n",
       "}\n",
       "</style>\n",
       "<small>shape: (1, 5)</small><table border=\"1\" class=\"dataframe\"><thead><tr><th>sample_id</th><th>CO</th><th>GC</th><th>ambiguous</th><th>CNCO</th></tr><tr><td>str</td><td>u32</td><td>u32</td><td>u32</td><td>u32</td></tr></thead><tbody><tr><td>null</td><td>7143</td><td>2388</td><td>7585</td><td>219</td></tr></tbody></table></div>"
      ],
      "text/plain": [
       "shape: (1, 5)\n",
       "┌───────────┬──────┬──────┬───────────┬──────┐\n",
       "│ sample_id ┆ CO   ┆ GC   ┆ ambiguous ┆ CNCO │\n",
       "│ ---       ┆ ---  ┆ ---  ┆ ---       ┆ ---  │\n",
       "│ str       ┆ u32  ┆ u32  ┆ u32       ┆ u32  │\n",
       "╞═══════════╪══════╪══════╪═══════════╪══════╡\n",
       "│ null      ┆ 7143 ┆ 2388 ┆ 7585      ┆ 219  │\n",
       "└───────────┴──────┴──────┴───────────┴──────┘"
      ]
     },
     "metadata": {},
     "output_type": "display_data"
    }
   ],
   "source": [
    "call_stats_df = (candidates_df    \n",
    "    .pivot(\n",
    "        values=[\"high_quality_classification_class\"],\n",
    "        index=[\"sample_id\"],\n",
    "        on=[\"high_quality_classification_class\"],\n",
    "        aggregate_function='len'\n",
    "    )\n",
    "    .select(\"sample_id\", \"CO\", \"GC\", \"ambiguous\", \"CNCO\")\n",
    "    .sort(by=\"sample_id\")\n",
    ")\n",
    "\n",
    "with pl.Config(tbl_rows=40):\n",
    "    display(call_stats_df)\n",
    "\n",
    "    display(call_stats_df.sum())\n",
    "# call_stats_df = (\n",
    "#     pl.DataFrame(\n",
    "#         {\n",
    "#             \"sample_id\": sample_presentation_order, \n",
    "#             \"paper_label_id\": [sample_id_to_paper_label[x] for x in sample_presentation_order]\n",
    "#         }\n",
    "#     )\n",
    "#     .join(call_stats_df, on=\"sample_id\")\n",
    "# )\n",
    "\n",
    "# with pl.Config(tbl_rows=40):\n",
    "#     display(call_stats_df.drop(\"sample_id\"))"
   ]
  },
  {
   "cell_type": "code",
   "execution_count": null,
   "id": "b1745736-b71a-44f6-ad39-d25803f14934",
   "metadata": {},
   "outputs": [],
   "source": []
  },
  {
   "cell_type": "code",
   "execution_count": null,
   "id": "0654e872-eee4-48fe-b2e1-903e2a66b887",
   "metadata": {},
   "outputs": [],
   "source": []
  },
  {
   "cell_type": "code",
   "execution_count": null,
   "id": "d61d31fe-680f-4da8-9d7e-04cddf61ef2f",
   "metadata": {},
   "outputs": [],
   "source": []
  },
  {
   "cell_type": "code",
   "execution_count": null,
   "id": "fe7d32c5-eb47-4255-87f9-e2a71820b45e",
   "metadata": {},
   "outputs": [],
   "source": []
  },
  {
   "cell_type": "code",
   "execution_count": null,
   "id": "fc860ca8-d5b7-48ff-b2c5-d60c2f7724b1",
   "metadata": {},
   "outputs": [],
   "source": []
  },
  {
   "cell_type": "code",
   "execution_count": null,
   "id": "ea7a2d8a-0c94-4e56-8fe4-da5127f2c7a1",
   "metadata": {},
   "outputs": [],
   "source": []
  },
  {
   "cell_type": "code",
   "execution_count": null,
   "id": "8ea03150-2e22-42ce-9a0d-e4398f9acaa8",
   "metadata": {},
   "outputs": [],
   "source": []
  },
  {
   "cell_type": "code",
   "execution_count": null,
   "id": "2309f5d5-c31a-4fd9-9e20-c3218d8de2b3",
   "metadata": {},
   "outputs": [],
   "source": []
  },
  {
   "cell_type": "code",
   "execution_count": null,
   "id": "ce2ef6d4-7c6f-4a6e-ac9b-f304def24fde",
   "metadata": {},
   "outputs": [],
   "source": []
  },
  {
   "cell_type": "code",
   "execution_count": null,
   "id": "99e463ac-269a-4cb5-bea0-148c4b2a5773",
   "metadata": {},
   "outputs": [],
   "source": []
  },
  {
   "cell_type": "code",
   "execution_count": null,
   "id": "b44a2032-0a75-40a1-8468-b50508ebdb54",
   "metadata": {},
   "outputs": [],
   "source": []
  },
  {
   "cell_type": "code",
   "execution_count": null,
   "id": "b1cf3995-a623-4b5e-b9ab-de3430aaa65f",
   "metadata": {},
   "outputs": [],
   "source": []
  },
  {
   "cell_type": "code",
   "execution_count": 42,
   "id": "cd59e40c-caf7-4734-8e49-6b3cdc10265a",
   "metadata": {
    "tags": []
   },
   "outputs": [],
   "source": [
    "rahbari_candidates_extended_df = (candidates_df\n",
    "    .join(rahbari_reads_flow_cells_df, on=[\"read_name\", \"sample_id\"])\n",
    "    .join(rahbari_df.select(\"sample_id\", \"flow_cell\", \"flow_cell_type\"), on=[\"sample_id\", \"flow_cell\"])\n",
    ")"
   ]
  },
  {
   "cell_type": "code",
   "execution_count": 80,
   "id": "c3797647-44c7-4b0b-a223-571b13798183",
   "metadata": {
    "tags": []
   },
   "outputs": [
    {
     "name": "stdout",
     "output_type": "stream",
     "text": [
      "PD50477f chi2 p-value: 2.2175349947744808e-41\n"
     ]
    },
    {
     "data": {
      "text/html": [
       "<div><style>\n",
       ".dataframe > thead > tr,\n",
       ".dataframe > tbody > tr {\n",
       "  text-align: right;\n",
       "  white-space: pre-wrap;\n",
       "}\n",
       "</style>\n",
       "<small>shape: (2, 5)</small><table border=\"1\" class=\"dataframe\"><thead><tr><th>flow_cell_type</th><th>ambiguous</th><th>CO</th><th>CNCO</th><th>GC</th></tr><tr><td>str</td><td>u32</td><td>u32</td><td>u32</td><td>u32</td></tr></thead><tbody><tr><td>&quot;revio_unbinned&quot;</td><td>1141</td><td>603</td><td>8</td><td>159</td></tr><tr><td>&quot;sequel_ii&quot;</td><td>79</td><td>149</td><td>22</td><td>54</td></tr></tbody></table></div>"
      ],
      "text/plain": [
       "shape: (2, 5)\n",
       "┌────────────────┬───────────┬─────┬──────┬─────┐\n",
       "│ flow_cell_type ┆ ambiguous ┆ CO  ┆ CNCO ┆ GC  │\n",
       "│ ---            ┆ ---       ┆ --- ┆ ---  ┆ --- │\n",
       "│ str            ┆ u32       ┆ u32 ┆ u32  ┆ u32 │\n",
       "╞════════════════╪═══════════╪═════╪══════╪═════╡\n",
       "│ revio_unbinned ┆ 1141      ┆ 603 ┆ 8    ┆ 159 │\n",
       "│ sequel_ii      ┆ 79        ┆ 149 ┆ 22   ┆ 54  │\n",
       "└────────────────┴───────────┴─────┴──────┴─────┘"
      ]
     },
     "metadata": {},
     "output_type": "display_data"
    },
    {
     "name": "stdout",
     "output_type": "stream",
     "text": [
      "PD50519d chi2 p-value: 6.185889304311392e-44\n"
     ]
    },
    {
     "data": {
      "text/html": [
       "<div><style>\n",
       ".dataframe > thead > tr,\n",
       ".dataframe > tbody > tr {\n",
       "  text-align: right;\n",
       "  white-space: pre-wrap;\n",
       "}\n",
       "</style>\n",
       "<small>shape: (2, 5)</small><table border=\"1\" class=\"dataframe\"><thead><tr><th>flow_cell_type</th><th>ambiguous</th><th>CNCO</th><th>CO</th><th>GC</th></tr><tr><td>str</td><td>u32</td><td>u32</td><td>u32</td><td>u32</td></tr></thead><tbody><tr><td>&quot;revio_unbinned&quot;</td><td>894</td><td>23</td><td>603</td><td>133</td></tr><tr><td>&quot;sequel_ii&quot;</td><td>71</td><td>35</td><td>131</td><td>75</td></tr></tbody></table></div>"
      ],
      "text/plain": [
       "shape: (2, 5)\n",
       "┌────────────────┬───────────┬──────┬─────┬─────┐\n",
       "│ flow_cell_type ┆ ambiguous ┆ CNCO ┆ CO  ┆ GC  │\n",
       "│ ---            ┆ ---       ┆ ---  ┆ --- ┆ --- │\n",
       "│ str            ┆ u32       ┆ u32  ┆ u32 ┆ u32 │\n",
       "╞════════════════╪═══════════╪══════╪═════╪═════╡\n",
       "│ revio_unbinned ┆ 894       ┆ 23   ┆ 603 ┆ 133 │\n",
       "│ sequel_ii      ┆ 71        ┆ 35   ┆ 131 ┆ 75  │\n",
       "└────────────────┴───────────┴──────┴─────┴─────┘"
      ]
     },
     "metadata": {},
     "output_type": "display_data"
    },
    {
     "name": "stdout",
     "output_type": "stream",
     "text": [
      "PD50508f chi2 p-value: 1.0\n"
     ]
    },
    {
     "data": {
      "text/html": [
       "<div><style>\n",
       ".dataframe > thead > tr,\n",
       ".dataframe > tbody > tr {\n",
       "  text-align: right;\n",
       "  white-space: pre-wrap;\n",
       "}\n",
       "</style>\n",
       "<small>shape: (1, 5)</small><table border=\"1\" class=\"dataframe\"><thead><tr><th>flow_cell_type</th><th>ambiguous</th><th>CO</th><th>GC</th><th>CNCO</th></tr><tr><td>str</td><td>u32</td><td>u32</td><td>u32</td><td>u32</td></tr></thead><tbody><tr><td>&quot;sequel_ii&quot;</td><td>100</td><td>122</td><td>31</td><td>7</td></tr></tbody></table></div>"
      ],
      "text/plain": [
       "shape: (1, 5)\n",
       "┌────────────────┬───────────┬─────┬─────┬──────┐\n",
       "│ flow_cell_type ┆ ambiguous ┆ CO  ┆ GC  ┆ CNCO │\n",
       "│ ---            ┆ ---       ┆ --- ┆ --- ┆ ---  │\n",
       "│ str            ┆ u32       ┆ u32 ┆ u32 ┆ u32  │\n",
       "╞════════════════╪═══════════╪═════╪═════╪══════╡\n",
       "│ sequel_ii      ┆ 100       ┆ 122 ┆ 31  ┆ 7    │\n",
       "└────────────────┴───────────┴─────┴─────┴──────┘"
      ]
     },
     "metadata": {},
     "output_type": "display_data"
    },
    {
     "name": "stdout",
     "output_type": "stream",
     "text": [
      "PD50523b chi2 p-value: 6.402129788415525e-29\n"
     ]
    },
    {
     "data": {
      "text/html": [
       "<div><style>\n",
       ".dataframe > thead > tr,\n",
       ".dataframe > tbody > tr {\n",
       "  text-align: right;\n",
       "  white-space: pre-wrap;\n",
       "}\n",
       "</style>\n",
       "<small>shape: (2, 5)</small><table border=\"1\" class=\"dataframe\"><thead><tr><th>flow_cell_type</th><th>CO</th><th>CNCO</th><th>ambiguous</th><th>GC</th></tr><tr><td>str</td><td>u32</td><td>u32</td><td>u32</td><td>u32</td></tr></thead><tbody><tr><td>&quot;revio_unbinned&quot;</td><td>830</td><td>837</td><td>1385</td><td>812</td></tr><tr><td>&quot;sequel_ii&quot;</td><td>138</td><td>11</td><td>80</td><td>47</td></tr></tbody></table></div>"
      ],
      "text/plain": [
       "shape: (2, 5)\n",
       "┌────────────────┬─────┬──────┬───────────┬─────┐\n",
       "│ flow_cell_type ┆ CO  ┆ CNCO ┆ ambiguous ┆ GC  │\n",
       "│ ---            ┆ --- ┆ ---  ┆ ---       ┆ --- │\n",
       "│ str            ┆ u32 ┆ u32  ┆ u32       ┆ u32 │\n",
       "╞════════════════╪═════╪══════╪═══════════╪═════╡\n",
       "│ revio_unbinned ┆ 830 ┆ 837  ┆ 1385      ┆ 812 │\n",
       "│ sequel_ii      ┆ 138 ┆ 11   ┆ 80        ┆ 47  │\n",
       "└────────────────┴─────┴──────┴───────────┴─────┘"
      ]
     },
     "metadata": {},
     "output_type": "display_data"
    },
    {
     "name": "stdout",
     "output_type": "stream",
     "text": [
      "PD50521b chi2 p-value: 0.12894967834472304\n"
     ]
    },
    {
     "data": {
      "text/html": [
       "<div><style>\n",
       ".dataframe > thead > tr,\n",
       ".dataframe > tbody > tr {\n",
       "  text-align: right;\n",
       "  white-space: pre-wrap;\n",
       "}\n",
       "</style>\n",
       "<small>shape: (2, 5)</small><table border=\"1\" class=\"dataframe\"><thead><tr><th>flow_cell_type</th><th>CO</th><th>GC</th><th>CNCO</th><th>ambiguous</th></tr><tr><td>str</td><td>u32</td><td>u32</td><td>u32</td><td>u32</td></tr></thead><tbody><tr><td>&quot;revio_unbinned&quot;</td><td>92</td><td>45</td><td>21</td><td>116</td></tr><tr><td>&quot;sequel_ii&quot;</td><td>202</td><td>71</td><td>50</td><td>180</td></tr></tbody></table></div>"
      ],
      "text/plain": [
       "shape: (2, 5)\n",
       "┌────────────────┬─────┬─────┬──────┬───────────┐\n",
       "│ flow_cell_type ┆ CO  ┆ GC  ┆ CNCO ┆ ambiguous │\n",
       "│ ---            ┆ --- ┆ --- ┆ ---  ┆ ---       │\n",
       "│ str            ┆ u32 ┆ u32 ┆ u32  ┆ u32       │\n",
       "╞════════════════╪═════╪═════╪══════╪═══════════╡\n",
       "│ revio_unbinned ┆ 92  ┆ 45  ┆ 21   ┆ 116       │\n",
       "│ sequel_ii      ┆ 202 ┆ 71  ┆ 50   ┆ 180       │\n",
       "└────────────────┴─────┴─────┴──────┴───────────┘"
      ]
     },
     "metadata": {},
     "output_type": "display_data"
    },
    {
     "name": "stdout",
     "output_type": "stream",
     "text": [
      "PD50508b chi2 p-value: 4.957063241185455e-07\n"
     ]
    },
    {
     "data": {
      "text/html": [
       "<div><style>\n",
       ".dataframe > thead > tr,\n",
       ".dataframe > tbody > tr {\n",
       "  text-align: right;\n",
       "  white-space: pre-wrap;\n",
       "}\n",
       "</style>\n",
       "<small>shape: (2, 5)</small><table border=\"1\" class=\"dataframe\"><thead><tr><th>flow_cell_type</th><th>GC</th><th>CNCO</th><th>ambiguous</th><th>CO</th></tr><tr><td>str</td><td>u32</td><td>u32</td><td>u32</td><td>u32</td></tr></thead><tbody><tr><td>&quot;revio_unbinned&quot;</td><td>75</td><td>6</td><td>315</td><td>268</td></tr><tr><td>&quot;sequel_ii&quot;</td><td>41</td><td>0</td><td>69</td><td>138</td></tr></tbody></table></div>"
      ],
      "text/plain": [
       "shape: (2, 5)\n",
       "┌────────────────┬─────┬──────┬───────────┬─────┐\n",
       "│ flow_cell_type ┆ GC  ┆ CNCO ┆ ambiguous ┆ CO  │\n",
       "│ ---            ┆ --- ┆ ---  ┆ ---       ┆ --- │\n",
       "│ str            ┆ u32 ┆ u32  ┆ u32       ┆ u32 │\n",
       "╞════════════════╪═════╪══════╪═══════════╪═════╡\n",
       "│ revio_unbinned ┆ 75  ┆ 6    ┆ 315       ┆ 268 │\n",
       "│ sequel_ii      ┆ 41  ┆ 0    ┆ 69        ┆ 138 │\n",
       "└────────────────┴─────┴──────┴───────────┴─────┘"
      ]
     },
     "metadata": {},
     "output_type": "display_data"
    },
    {
     "name": "stdout",
     "output_type": "stream",
     "text": [
      "PD46180c chi2 p-value: 1.3193948521082313e-07\n"
     ]
    },
    {
     "data": {
      "text/html": [
       "<div><style>\n",
       ".dataframe > thead > tr,\n",
       ".dataframe > tbody > tr {\n",
       "  text-align: right;\n",
       "  white-space: pre-wrap;\n",
       "}\n",
       "</style>\n",
       "<small>shape: (2, 5)</small><table border=\"1\" class=\"dataframe\"><thead><tr><th>flow_cell_type</th><th>ambiguous</th><th>CO</th><th>GC</th><th>CNCO</th></tr><tr><td>str</td><td>u32</td><td>u32</td><td>u32</td><td>u32</td></tr></thead><tbody><tr><td>&quot;revio_unbinned&quot;</td><td>741</td><td>604</td><td>270</td><td>215</td></tr><tr><td>&quot;sequel_ii&quot;</td><td>113</td><td>189</td><td>52</td><td>36</td></tr></tbody></table></div>"
      ],
      "text/plain": [
       "shape: (2, 5)\n",
       "┌────────────────┬───────────┬─────┬─────┬──────┐\n",
       "│ flow_cell_type ┆ ambiguous ┆ CO  ┆ GC  ┆ CNCO │\n",
       "│ ---            ┆ ---       ┆ --- ┆ --- ┆ ---  │\n",
       "│ str            ┆ u32       ┆ u32 ┆ u32 ┆ u32  │\n",
       "╞════════════════╪═══════════╪═════╪═════╪══════╡\n",
       "│ revio_unbinned ┆ 741       ┆ 604 ┆ 270 ┆ 215  │\n",
       "│ sequel_ii      ┆ 113       ┆ 189 ┆ 52  ┆ 36   │\n",
       "└────────────────┴───────────┴─────┴─────┴──────┘"
      ]
     },
     "metadata": {},
     "output_type": "display_data"
    },
    {
     "name": "stdout",
     "output_type": "stream",
     "text": [
      "PD50521e chi2 p-value: 9.639683649822777e-05\n"
     ]
    },
    {
     "data": {
      "text/html": [
       "<div><style>\n",
       ".dataframe > thead > tr,\n",
       ".dataframe > tbody > tr {\n",
       "  text-align: right;\n",
       "  white-space: pre-wrap;\n",
       "}\n",
       "</style>\n",
       "<small>shape: (2, 5)</small><table border=\"1\" class=\"dataframe\"><thead><tr><th>flow_cell_type</th><th>CO</th><th>ambiguous</th><th>GC</th><th>CNCO</th></tr><tr><td>str</td><td>u32</td><td>u32</td><td>u32</td><td>u32</td></tr></thead><tbody><tr><td>&quot;revio_unbinned&quot;</td><td>457</td><td>479</td><td>171</td><td>22</td></tr><tr><td>&quot;sequel_ii&quot;</td><td>160</td><td>120</td><td>59</td><td>21</td></tr></tbody></table></div>"
      ],
      "text/plain": [
       "shape: (2, 5)\n",
       "┌────────────────┬─────┬───────────┬─────┬──────┐\n",
       "│ flow_cell_type ┆ CO  ┆ ambiguous ┆ GC  ┆ CNCO │\n",
       "│ ---            ┆ --- ┆ ---       ┆ --- ┆ ---  │\n",
       "│ str            ┆ u32 ┆ u32       ┆ u32 ┆ u32  │\n",
       "╞════════════════╪═════╪═══════════╪═════╪══════╡\n",
       "│ revio_unbinned ┆ 457 ┆ 479       ┆ 171 ┆ 22   │\n",
       "│ sequel_ii      ┆ 160 ┆ 120       ┆ 59  ┆ 21   │\n",
       "└────────────────┴─────┴───────────┴─────┴──────┘"
      ]
     },
     "metadata": {},
     "output_type": "display_data"
    },
    {
     "name": "stdout",
     "output_type": "stream",
     "text": [
      "PD50489e chi2 p-value: 6.774959943116623e-09\n"
     ]
    },
    {
     "data": {
      "text/html": [
       "<div><style>\n",
       ".dataframe > thead > tr,\n",
       ".dataframe > tbody > tr {\n",
       "  text-align: right;\n",
       "  white-space: pre-wrap;\n",
       "}\n",
       "</style>\n",
       "<small>shape: (2, 5)</small><table border=\"1\" class=\"dataframe\"><thead><tr><th>flow_cell_type</th><th>CO</th><th>ambiguous</th><th>CNCO</th><th>GC</th></tr><tr><td>str</td><td>u32</td><td>u32</td><td>u32</td><td>u32</td></tr></thead><tbody><tr><td>&quot;revio_unbinned&quot;</td><td>386</td><td>499</td><td>34</td><td>133</td></tr><tr><td>&quot;sequel_ii&quot;</td><td>136</td><td>68</td><td>17</td><td>35</td></tr></tbody></table></div>"
      ],
      "text/plain": [
       "shape: (2, 5)\n",
       "┌────────────────┬─────┬───────────┬──────┬─────┐\n",
       "│ flow_cell_type ┆ CO  ┆ ambiguous ┆ CNCO ┆ GC  │\n",
       "│ ---            ┆ --- ┆ ---       ┆ ---  ┆ --- │\n",
       "│ str            ┆ u32 ┆ u32       ┆ u32  ┆ u32 │\n",
       "╞════════════════╪═════╪═══════════╪══════╪═════╡\n",
       "│ revio_unbinned ┆ 386 ┆ 499       ┆ 34   ┆ 133 │\n",
       "│ sequel_ii      ┆ 136 ┆ 68        ┆ 17   ┆ 35  │\n",
       "└────────────────┴─────┴───────────┴──────┴─────┘"
      ]
     },
     "metadata": {},
     "output_type": "display_data"
    }
   ],
   "source": [
    "with pl.Config(tbl_rows=100):\n",
    "    for sample_id in rahbari_sample_ids:\n",
    "        subdf = (rahbari_candidates_extended_df\n",
    "            .filter(pl.col(\"sample_id\") == sample_id)\n",
    "            .pivot(\n",
    "                values=[\"high_quality_classification_class\"],\n",
    "                index=[\"flow_cell_type\"],\n",
    "                on=[\"high_quality_classification_class\"],\n",
    "                aggregate_function='len'\n",
    "            )\n",
    "            .sort(\"flow_cell_type\")\n",
    "            .fill_null(0)    \n",
    "        )\n",
    "        print(sample_id, \"chi2 p-value:\", scipy.stats.chi2_contingency(subdf.drop(\"flow_cell_type\")).pvalue)\n",
    "        display(subdf)"
   ]
  },
  {
   "cell_type": "code",
   "execution_count": 67,
   "id": "fb5b5158-091b-43f7-9307-ba6b5e5cdeb4",
   "metadata": {
    "tags": []
   },
   "outputs": [
    {
     "data": {
      "text/plain": [
       "SignificanceResult(statistic=np.float64(0.056727388942154046), pvalue=np.float64(8.525583323071718e-22))"
      ]
     },
     "execution_count": 67,
     "metadata": {},
     "output_type": "execute_result"
    }
   ],
   "source": [
    "scipy.stats.fisher_exact([[71, 894], [35, 25]])"
   ]
  },
  {
   "cell_type": "code",
   "execution_count": null,
   "id": "2af4652f-97de-4977-a701-36fd62fadbae",
   "metadata": {},
   "outputs": [],
   "source": []
  },
  {
   "cell_type": "code",
   "execution_count": null,
   "id": "e939e725-09cb-4b80-bc1d-5830daa2e15a",
   "metadata": {},
   "outputs": [],
   "source": []
  },
  {
   "cell_type": "code",
   "execution_count": null,
   "id": "a1e428c9-cf89-4121-af9a-014f869bb7dd",
   "metadata": {},
   "outputs": [],
   "source": []
  },
  {
   "cell_type": "code",
   "execution_count": null,
   "id": "2e5a8fc5-6be9-4cee-97d6-3ccf70e19bc4",
   "metadata": {},
   "outputs": [],
   "source": []
  },
  {
   "cell_type": "code",
   "execution_count": null,
   "id": "5890e321-47c0-4c49-b44d-2b65ecc18ee9",
   "metadata": {},
   "outputs": [],
   "source": []
  },
  {
   "cell_type": "markdown",
   "id": "6a7a28e8-d000-4f56-9631-ac955d09e45c",
   "metadata": {},
   "source": [
    "### Remove bad reads from manual inspection"
   ]
  },
  {
   "cell_type": "code",
   "execution_count": 15,
   "id": "9e996d85-7fe0-4548-9246-2e19d9d753f8",
   "metadata": {
    "tags": []
   },
   "outputs": [
    {
     "data": {
      "text/html": [
       "<div><style>\n",
       ".dataframe > thead > tr,\n",
       ".dataframe > tbody > tr {\n",
       "  text-align: right;\n",
       "  white-space: pre-wrap;\n",
       "}\n",
       "</style>\n",
       "<small>shape: (2, 5)</small><table border=\"1\" class=\"dataframe\"><thead><tr><th>sample_id</th><th>CO</th><th>GC</th><th>ambiguous</th><th>CNCO</th></tr><tr><td>str</td><td>u32</td><td>u32</td><td>u32</td><td>u32</td></tr></thead><tbody><tr><td>&quot;PD47269d&quot;</td><td>2</td><td>20</td><td>7</td><td>22</td></tr><tr><td>&quot;PD48473b&quot;</td><td>2</td><td>19</td><td>3</td><td>2</td></tr></tbody></table></div>"
      ],
      "text/plain": [
       "shape: (2, 5)\n",
       "┌───────────┬─────┬─────┬───────────┬──────┐\n",
       "│ sample_id ┆ CO  ┆ GC  ┆ ambiguous ┆ CNCO │\n",
       "│ ---       ┆ --- ┆ --- ┆ ---       ┆ ---  │\n",
       "│ str       ┆ u32 ┆ u32 ┆ u32       ┆ u32  │\n",
       "╞═══════════╪═════╪═════╪═══════════╪══════╡\n",
       "│ PD47269d  ┆ 2   ┆ 20  ┆ 7         ┆ 22   │\n",
       "│ PD48473b  ┆ 2   ┆ 19  ┆ 3         ┆ 2    │\n",
       "└───────────┴─────┴─────┴───────────┴──────┘"
      ]
     },
     "metadata": {},
     "output_type": "display_data"
    }
   ],
   "source": [
    "call_stats_df = (candidates_df \n",
    "    .filter(~pl.col(\"read_name\").is_in(\n",
    "        control_CO_read_blacklist_PD47269d + control_ambiguous_read_blacklist_PD47269d + \\\n",
    "        control_CO_read_blacklist_PD48473b + control_ambiguous_read_blacklist_PD48473b + \\\n",
    "        control_NCO_read_blacklist_PD48473b + control_complex_read_blacklist_PD48473b\n",
    "    ))\n",
    "    .pivot(\n",
    "        values=[\"high_quality_classification_class\"],\n",
    "        index=[\"sample_id\"],\n",
    "        columns=[\"high_quality_classification_class\"],\n",
    "        aggregate_function='len'\n",
    "    )\n",
    "    .sort(by=\"sample_id\")\n",
    "    .select(\"sample_id\", \"CO\", \"GC\", \"ambiguous\", \"CNCO\")\n",
    ")\n",
    "\n",
    "with pl.Config(tbl_rows=40):\n",
    "    display(call_stats_df)"
   ]
  },
  {
   "cell_type": "code",
   "execution_count": null,
   "id": "8148c0ed-f370-46f6-9a0d-6218e5410d8b",
   "metadata": {},
   "outputs": [],
   "source": []
  },
  {
   "cell_type": "code",
   "execution_count": 31,
   "id": "e9b65a00-63dd-4a6f-b512-4411e7387dc6",
   "metadata": {
    "tags": []
   },
   "outputs": [
    {
     "data": {
      "text/plain": [
       "1.735436288022319"
      ]
     },
     "execution_count": 31,
     "metadata": {},
     "output_type": "execute_result"
    }
   ],
   "source": [
    "(10/(70.2+30.1))/(3019/525.5)*100"
   ]
  },
  {
   "cell_type": "code",
   "execution_count": 30,
   "id": "c51cce4b-1964-48b2-b42c-cc2cd7e0d1ca",
   "metadata": {},
   "outputs": [
    {
     "data": {
      "text/plain": [
       "11.61637316589175"
      ]
     },
     "execution_count": 30,
     "metadata": {},
     "output_type": "execute_result"
    }
   ],
   "source": [
    "(39/(70.2+30.1))/(1759/525.5)*100"
   ]
  },
  {
   "cell_type": "code",
   "execution_count": 32,
   "id": "6cbdca4a-4334-409b-9a4a-21bc9cfd4b2a",
   "metadata": {
    "tags": []
   },
   "outputs": [
    {
     "data": {
      "text/plain": [
       "35.82415147719235"
      ]
     },
     "execution_count": 32,
     "metadata": {},
     "output_type": "execute_result"
    }
   ],
   "source": [
    "(24/(70.2+30.1))/(351/525.5)*100"
   ]
  },
  {
   "cell_type": "code",
   "execution_count": null,
   "id": "c34b8244-bad7-4cb2-9094-4645669a8c9a",
   "metadata": {},
   "outputs": [],
   "source": []
  },
  {
   "cell_type": "code",
   "execution_count": null,
   "id": "a93f737e-a16f-4877-ba79-ca1795cb77cc",
   "metadata": {},
   "outputs": [],
   "source": []
  },
  {
   "cell_type": "code",
   "execution_count": null,
   "id": "60048f57-3c70-4a63-86f9-d6395f844b0e",
   "metadata": {},
   "outputs": [],
   "source": []
  },
  {
   "cell_type": "code",
   "execution_count": null,
   "id": "19eb6490-b487-4596-93e2-a4ccab6c74e8",
   "metadata": {},
   "outputs": [],
   "source": []
  },
  {
   "cell_type": "markdown",
   "id": "78571d22-5908-462c-87c1-9487f09e9417",
   "metadata": {},
   "source": [
    "# Save to xls file"
   ]
  },
  {
   "cell_type": "code",
   "execution_count": 10,
   "id": "6d6c2471-6d88-4830-86b2-23c81b03a7a1",
   "metadata": {
    "tags": []
   },
   "outputs": [
    {
     "data": {
      "text/html": [
       "<div><style>\n",
       ".dataframe > thead > tr,\n",
       ".dataframe > tbody > tr {\n",
       "  text-align: right;\n",
       "  white-space: pre-wrap;\n",
       "}\n",
       "</style>\n",
       "<small>shape: (9_679, 8)</small><table border=\"1\" class=\"dataframe\"><thead><tr><th>label</th><th>chrom</th><th>event_type</th><th>grch37_reference_start</th><th>grch38_reference_start</th><th>T2T_reference_start</th><th>snp_positions</th><th>snp_alleles</th></tr><tr><td>str</td><td>str</td><td>str</td><td>i64</td><td>i64</td><td>i64</td><td>list[i64]</td><td>list[i32]</td></tr></thead><tbody><tr><td>&quot;AA1-s1&quot;</td><td>&quot;chr1&quot;</td><td>&quot;ambiguous&quot;</td><td>null</td><td>null</td><td>2100359</td><td>[5909, 9819]</td><td>[1, 0]</td></tr><tr><td>&quot;AA1-s1&quot;</td><td>&quot;chr1&quot;</td><td>&quot;ambiguous&quot;</td><td>15683211</td><td>15356715</td><td>14801362</td><td>[3219, 3622]</td><td>[0, 1]</td></tr><tr><td>&quot;AA1-s1&quot;</td><td>&quot;chr1&quot;</td><td>&quot;ambiguous&quot;</td><td>7498222</td><td>7438162</td><td>6967580</td><td>[937, 1868, … 11555]</td><td>[1, 1, … 0]</td></tr><tr><td>&quot;AA1-s1&quot;</td><td>&quot;chr1&quot;</td><td>&quot;NCO&quot;</td><td>201103101</td><td>201133973</td><td>200390958</td><td>[1452, 1485, … 12704]</td><td>[0, 0, … 0]</td></tr><tr><td>&quot;AA1-s1&quot;</td><td>&quot;chr1&quot;</td><td>&quot;NCO&quot;</td><td>102272811</td><td>101807255</td><td>101656442</td><td>[1135, 1313, … 14413]</td><td>[0, 0, … 0]</td></tr><tr><td>&hellip;</td><td>&hellip;</td><td>&hellip;</td><td>&hellip;</td><td>&hellip;</td><td>&hellip;</td><td>&hellip;</td><td>&hellip;</td></tr><tr><td>&quot;AN-s2&quot;</td><td>&quot;chr9&quot;</td><td>&quot;CO&quot;</td><td>1071929</td><td>1071929</td><td>1073619</td><td>[1764, 2728, … 31017]</td><td>[1, 1, … 0]</td></tr><tr><td>&quot;AN-s2&quot;</td><td>&quot;chr9&quot;</td><td>&quot;NCO&quot;</td><td>514745</td><td>514745</td><td>514218</td><td>[869, 1665, … 6137]</td><td>[0, 0, … 0]</td></tr><tr><td>&quot;AN-s2&quot;</td><td>&quot;chr9&quot;</td><td>&quot;NCO&quot;</td><td>469892</td><td>469892</td><td>469385</td><td>[1574, 2699, … 11464]</td><td>[0, 0, … 0]</td></tr><tr><td>&quot;AN-s2&quot;</td><td>&quot;chr9&quot;</td><td>&quot;CO&quot;</td><td>null</td><td>89889764</td><td>102054889</td><td>[554, 968, … 6324]</td><td>[0, 0, … 1]</td></tr><tr><td>&quot;AN-s2&quot;</td><td>&quot;chr9&quot;</td><td>&quot;CO&quot;</td><td>3757772</td><td>3757772</td><td>3762121</td><td>[884, 1750, … 16905]</td><td>[1, 1, … 0]</td></tr></tbody></table></div>"
      ],
      "text/plain": [
       "shape: (9_679, 8)\n",
       "┌────────┬───────┬────────────┬─────────────┬─────────────┬─────────────┬─────────────┬────────────┐\n",
       "│ label  ┆ chrom ┆ event_type ┆ grch37_refe ┆ grch38_refe ┆ T2T_referen ┆ snp_positio ┆ snp_allele │\n",
       "│ ---    ┆ ---   ┆ ---        ┆ rence_start ┆ rence_start ┆ ce_start    ┆ ns          ┆ s          │\n",
       "│ str    ┆ str   ┆ str        ┆ ---         ┆ ---         ┆ ---         ┆ ---         ┆ ---        │\n",
       "│        ┆       ┆            ┆ i64         ┆ i64         ┆ i64         ┆ list[i64]   ┆ list[i32]  │\n",
       "╞════════╪═══════╪════════════╪═════════════╪═════════════╪═════════════╪═════════════╪════════════╡\n",
       "│ AA1-s1 ┆ chr1  ┆ ambiguous  ┆ null        ┆ null        ┆ 2100359     ┆ [5909,      ┆ [1, 0]     │\n",
       "│        ┆       ┆            ┆             ┆             ┆             ┆ 9819]       ┆            │\n",
       "│ AA1-s1 ┆ chr1  ┆ ambiguous  ┆ 15683211    ┆ 15356715    ┆ 14801362    ┆ [3219,      ┆ [0, 1]     │\n",
       "│        ┆       ┆            ┆             ┆             ┆             ┆ 3622]       ┆            │\n",
       "│ AA1-s1 ┆ chr1  ┆ ambiguous  ┆ 7498222     ┆ 7438162     ┆ 6967580     ┆ [937, 1868, ┆ [1, 1, …   │\n",
       "│        ┆       ┆            ┆             ┆             ┆             ┆ … 11555]    ┆ 0]         │\n",
       "│ AA1-s1 ┆ chr1  ┆ NCO        ┆ 201103101   ┆ 201133973   ┆ 200390958   ┆ [1452,      ┆ [0, 0, …   │\n",
       "│        ┆       ┆            ┆             ┆             ┆             ┆ 1485, …     ┆ 0]         │\n",
       "│        ┆       ┆            ┆             ┆             ┆             ┆ 12704]      ┆            │\n",
       "│ AA1-s1 ┆ chr1  ┆ NCO        ┆ 102272811   ┆ 101807255   ┆ 101656442   ┆ [1135,      ┆ [0, 0, …   │\n",
       "│        ┆       ┆            ┆             ┆             ┆             ┆ 1313, …     ┆ 0]         │\n",
       "│        ┆       ┆            ┆             ┆             ┆             ┆ 14413]      ┆            │\n",
       "│ …      ┆ …     ┆ …          ┆ …           ┆ …           ┆ …           ┆ …           ┆ …          │\n",
       "│ AN-s2  ┆ chr9  ┆ CO         ┆ 1071929     ┆ 1071929     ┆ 1073619     ┆ [1764,      ┆ [1, 1, …   │\n",
       "│        ┆       ┆            ┆             ┆             ┆             ┆ 2728, …     ┆ 0]         │\n",
       "│        ┆       ┆            ┆             ┆             ┆             ┆ 31017]      ┆            │\n",
       "│ AN-s2  ┆ chr9  ┆ NCO        ┆ 514745      ┆ 514745      ┆ 514218      ┆ [869, 1665, ┆ [0, 0, …   │\n",
       "│        ┆       ┆            ┆             ┆             ┆             ┆ … 6137]     ┆ 0]         │\n",
       "│ AN-s2  ┆ chr9  ┆ NCO        ┆ 469892      ┆ 469892      ┆ 469385      ┆ [1574,      ┆ [0, 0, …   │\n",
       "│        ┆       ┆            ┆             ┆             ┆             ┆ 2699, …     ┆ 0]         │\n",
       "│        ┆       ┆            ┆             ┆             ┆             ┆ 11464]      ┆            │\n",
       "│ AN-s2  ┆ chr9  ┆ CO         ┆ null        ┆ 89889764    ┆ 102054889   ┆ [554, 968,  ┆ [0, 0, …   │\n",
       "│        ┆       ┆            ┆             ┆             ┆             ┆ … 6324]     ┆ 1]         │\n",
       "│ AN-s2  ┆ chr9  ┆ CO         ┆ 3757772     ┆ 3757772     ┆ 3762121     ┆ [884, 1750, ┆ [1, 1, …   │\n",
       "│        ┆       ┆            ┆             ┆             ┆             ┆ … 16905]    ┆ 0]         │\n",
       "└────────┴───────┴────────────┴─────────────┴─────────────┴─────────────┴─────────────┴────────────┘"
      ]
     },
     "execution_count": 10,
     "metadata": {},
     "output_type": "execute_result"
    }
   ],
   "source": [
    "(candidates_df\n",
    "    .rename({\n",
    "        \"high_quality_classification_class\": \"event_type\",\n",
    "        \"mid_quality_snp_positions\": \"snp_positions\",\n",
    "        \"mid_quality_snp_positions_alleles\": \"snp_alleles\",\n",
    "    })\n",
    "    .join(\n",
    "        pl.DataFrame({\n",
    "            \"sample_id\": sample_id_to_paper_label.keys(),\n",
    "            \"label\": sample_id_to_paper_label.values(),\n",
    "        }),\n",
    "        on=\"sample_id\",\n",
    "    )\n",
    "    .with_columns(\n",
    "        event_type = pl.col(\"event_type\").replace([\"GC\", \"CNCO\"], [\"NCO\", \"complex\"])\n",
    "    )\n",
    "    .sort([\"label\", \"chrom\"])\n",
    "    [[\n",
    "        \"label\", \n",
    "        \"chrom\",\n",
    "        \"event_type\",\n",
    "        'grch37_reference_start',\n",
    "        'grch38_reference_start',\n",
    "        'T2T_reference_start',\n",
    "        \"snp_positions\",\n",
    "        \"snp_alleles\",\n",
    "    ]]\n",
    "    .write_excel(\"/nfs/users/nfs_r/rs42/rs42/git/sperm/recombination_events.xlsx\")\n",
    ")"
   ]
  },
  {
   "cell_type": "code",
   "execution_count": null,
   "id": "bfd93113-b971-453e-b782-53b8d6e87a2f",
   "metadata": {},
   "outputs": [],
   "source": []
  },
  {
   "cell_type": "code",
   "execution_count": null,
   "id": "3f565b50-4faf-4462-947d-0e423dff2bfc",
   "metadata": {},
   "outputs": [],
   "source": []
  },
  {
   "cell_type": "code",
   "execution_count": 44,
   "id": "95f64d49-6177-4ce6-840a-9a4e622a0e37",
   "metadata": {
    "tags": []
   },
   "outputs": [
    {
     "data": {
      "text/html": [
       "<div><style>\n",
       ".dataframe > thead > tr,\n",
       ".dataframe > tbody > tr {\n",
       "  text-align: right;\n",
       "  white-space: pre-wrap;\n",
       "}\n",
       "</style>\n",
       "<small>shape: (2, 5)</small><table border=\"1\" class=\"dataframe\"><thead><tr><th>sample_id</th><th>CO</th><th>NCO</th><th>Ambiguous</th><th>Complex</th></tr><tr><td>str</td><td>u32</td><td>u32</td><td>u32</td><td>u32</td></tr></thead><tbody><tr><td>&quot;PD47269d&quot;</td><td>14</td><td>15</td><td>81</td><td>22</td></tr><tr><td>&quot;PD48473b&quot;</td><td>6</td><td>15</td><td>47</td><td>3</td></tr></tbody></table></div>"
      ],
      "text/plain": [
       "shape: (2, 5)\n",
       "┌───────────┬─────┬─────┬───────────┬─────────┐\n",
       "│ sample_id ┆ CO  ┆ NCO ┆ Ambiguous ┆ Complex │\n",
       "│ ---       ┆ --- ┆ --- ┆ ---       ┆ ---     │\n",
       "│ str       ┆ u32 ┆ u32 ┆ u32       ┆ u32     │\n",
       "╞═══════════╪═════╪═════╪═══════════╪═════════╡\n",
       "│ PD47269d  ┆ 14  ┆ 15  ┆ 81        ┆ 22      │\n",
       "│ PD48473b  ┆ 6   ┆ 15  ┆ 47        ┆ 3       │\n",
       "└───────────┴─────┴─────┴───────────┴─────────┘"
      ]
     },
     "metadata": {},
     "output_type": "display_data"
    }
   ],
   "source": [
    "call_stats_df = (candidates_df\n",
    "    .with_columns(\n",
    "        combined_class = pl.when(\n",
    "            pl.col(\"high_quality_classification_class\") == \"CNCO\"\n",
    "        ).then(\n",
    "            pl.lit(\"Complex\")\n",
    "        ).when(\n",
    "            pl.col(\"high_quality_classification_in_detectable_class\").is_not_null()\n",
    "        ).then(\n",
    "            \"high_quality_classification_in_detectable_class\"\n",
    "        ).otherwise(\n",
    "            pl.lit(\"Ambiguous\")\n",
    "        )\n",
    "    )\n",
    "    .pivot(\n",
    "        values=[\"combined_class\"],\n",
    "        index=[\"sample_id\"],\n",
    "        columns=[\"combined_class\"],\n",
    "        aggregate_function='len'\n",
    "    )\n",
    "    .sort(by=\"sample_id\")\n",
    "    .select(\"sample_id\", \"CO\", \"NCO\", \"Ambiguous\", \"Complex\")\n",
    ")\n",
    "\n",
    "# call_stats_df = (\n",
    "#     pl.DataFrame(\n",
    "#         {\n",
    "#             \"sample_id\": sample_presentation_order, \n",
    "#             \"paper_label_id\": [sample_id_to_paper_label[x] for x in sample_presentation_order]\n",
    "#         }\n",
    "#     )\n",
    "#     .join(call_stats_df, on=\"sample_id\")\n",
    "# )\n",
    "with pl.Config(tbl_rows=40):\n",
    "    display(call_stats_df)"
   ]
  },
  {
   "cell_type": "code",
   "execution_count": null,
   "id": "d631a930-54f9-4505-a0cd-e506b6ababba",
   "metadata": {},
   "outputs": [],
   "source": []
  },
  {
   "cell_type": "code",
   "execution_count": null,
   "id": "d477c35d-2179-454f-b176-524513f95eb5",
   "metadata": {},
   "outputs": [],
   "source": []
  },
  {
   "cell_type": "code",
   "execution_count": null,
   "id": "ebce7297-0a30-456e-a07a-97868e9be6b3",
   "metadata": {},
   "outputs": [],
   "source": []
  },
  {
   "cell_type": "code",
   "execution_count": 43,
   "id": "26f11e1a-27d7-4f1a-a62b-f95adf3d7e78",
   "metadata": {
    "tags": []
   },
   "outputs": [
    {
     "data": {
      "text/html": [
       "<div><style>\n",
       ".dataframe > thead > tr,\n",
       ".dataframe > tbody > tr {\n",
       "  text-align: right;\n",
       "  white-space: pre-wrap;\n",
       "}\n",
       "</style>\n",
       "<small>shape: (9, 3)</small><table border=\"1\" class=\"dataframe\"><thead><tr><th>high_quality_classification_class</th><th>high_quality_classification_in_detectable_class</th><th>len</th></tr><tr><td>str</td><td>str</td><td>u32</td></tr></thead><tbody><tr><td>&quot;CNCO&quot;</td><td>&quot;CO&quot;</td><td>7</td></tr><tr><td>&quot;GC&quot;</td><td>&quot;CO&quot;</td><td>16</td></tr><tr><td>&quot;CNCO&quot;</td><td>&quot;NCO&quot;</td><td>39</td></tr><tr><td>&quot;CNCO&quot;</td><td>null</td><td>305</td></tr><tr><td>&quot;GC&quot;</td><td>null</td><td>674</td></tr><tr><td>&quot;CO&quot;</td><td>null</td><td>755</td></tr><tr><td>&quot;GC&quot;</td><td>&quot;NCO&quot;</td><td>1069</td></tr><tr><td>&quot;ambiguous&quot;</td><td>null</td><td>3109</td></tr><tr><td>&quot;CO&quot;</td><td>&quot;CO&quot;</td><td>3705</td></tr></tbody></table></div>"
      ],
      "text/plain": [
       "shape: (9, 3)\n",
       "┌───────────────────────────────────┬───────────────────────────────────┬──────┐\n",
       "│ high_quality_classification_clas… ┆ high_quality_classification_in_d… ┆ len  │\n",
       "│ ---                               ┆ ---                               ┆ ---  │\n",
       "│ str                               ┆ str                               ┆ u32  │\n",
       "╞═══════════════════════════════════╪═══════════════════════════════════╪══════╡\n",
       "│ CNCO                              ┆ CO                                ┆ 7    │\n",
       "│ GC                                ┆ CO                                ┆ 16   │\n",
       "│ CNCO                              ┆ NCO                               ┆ 39   │\n",
       "│ CNCO                              ┆ null                              ┆ 305  │\n",
       "│ GC                                ┆ null                              ┆ 674  │\n",
       "│ CO                                ┆ null                              ┆ 755  │\n",
       "│ GC                                ┆ NCO                               ┆ 1069 │\n",
       "│ ambiguous                         ┆ null                              ┆ 3109 │\n",
       "│ CO                                ┆ CO                                ┆ 3705 │\n",
       "└───────────────────────────────────┴───────────────────────────────────┴──────┘"
      ]
     },
     "execution_count": 43,
     "metadata": {},
     "output_type": "execute_result"
    }
   ],
   "source": [
    "(candidates_df\n",
    "    .group_by(\"high_quality_classification_class\", \"high_quality_classification_in_detectable_class\")\n",
    "    .len()\n",
    "    .sort(\"len\")\n",
    ")"
   ]
  },
  {
   "cell_type": "code",
   "execution_count": null,
   "id": "39c263f6-3b9e-4e82-9f26-9d5748c8305b",
   "metadata": {},
   "outputs": [],
   "source": []
  },
  {
   "cell_type": "code",
   "execution_count": null,
   "id": "20200298-4f30-497a-87c1-9e7be9e503cf",
   "metadata": {},
   "outputs": [],
   "source": []
  },
  {
   "cell_type": "code",
   "execution_count": 7,
   "id": "f48ef09a-ff1b-45cf-9820-9ed317c94654",
   "metadata": {},
   "outputs": [],
   "source": [
    "cls_df = pl.concat([\n",
    "    pl.read_parquet(\n",
    "        str(Path(\"/lustre/scratch126/casm/team154pc/sl17/03.sperm/02.results/01.read_alignment/01.ccs/04.hifiasm/02.hifiasm_0.19.5-r592/02.chromosome_length_scaffolds\")\n",
    "            / f\"{focal_sample_id}\" / \"reads\" / f\"{chrom}_RagTag.certainty_0.95.classified_reads.parquet\")\n",
    "    ) \\\n",
    "    for focal_sample_id in sample_ids\n",
    "    for chrom in aut_chrom_names\n",
    "])\n",
    "\n",
    "very_trusty_cls_df = cls_df.filter(pl.col(\"high_quality_classification\"))\n"
   ]
  },
  {
   "cell_type": "code",
   "execution_count": 8,
   "id": "d1f51e38-d14f-481c-a89f-3d0423e812a1",
   "metadata": {},
   "outputs": [
    {
     "data": {
      "text/html": [
       "<div><style>\n",
       ".dataframe > thead > tr,\n",
       ".dataframe > tbody > tr {\n",
       "  text-align: right;\n",
       "  white-space: pre-wrap;\n",
       "}\n",
       "</style>\n",
       "<small>shape: (9, 5)</small><table border=\"1\" class=\"dataframe\"><thead><tr><th>sample_id</th><th>CO</th><th>GC</th><th>ambiguous</th><th>CNCO</th></tr><tr><td>str</td><td>u32</td><td>u32</td><td>u32</td><td>u32</td></tr></thead><tbody><tr><td>&quot;PD46180c&quot;</td><td>261</td><td>72</td><td>131</td><td>45</td></tr><tr><td>&quot;PD50477f&quot;</td><td>202</td><td>72</td><td>128</td><td>31</td></tr><tr><td>&quot;PD50489e&quot;</td><td>180</td><td>51</td><td>80</td><td>24</td></tr><tr><td>&quot;PD50508b&quot;</td><td>161</td><td>45</td><td>93</td><td>3</td></tr><tr><td>&quot;PD50508f&quot;</td><td>130</td><td>31</td><td>78</td><td>8</td></tr><tr><td>&quot;PD50519d&quot;</td><td>177</td><td>82</td><td>110</td><td>54</td></tr><tr><td>&quot;PD50521b&quot;</td><td>233</td><td>89</td><td>160</td><td>62</td></tr><tr><td>&quot;PD50521e&quot;</td><td>199</td><td>70</td><td>119</td><td>32</td></tr><tr><td>&quot;PD50523b&quot;</td><td>208</td><td>83</td><td>119</td><td>19</td></tr></tbody></table></div>"
      ],
      "text/plain": [
       "shape: (9, 5)\n",
       "┌───────────┬─────┬─────┬───────────┬──────┐\n",
       "│ sample_id ┆ CO  ┆ GC  ┆ ambiguous ┆ CNCO │\n",
       "│ ---       ┆ --- ┆ --- ┆ ---       ┆ ---  │\n",
       "│ str       ┆ u32 ┆ u32 ┆ u32       ┆ u32  │\n",
       "╞═══════════╪═════╪═════╪═══════════╪══════╡\n",
       "│ PD46180c  ┆ 261 ┆ 72  ┆ 131       ┆ 45   │\n",
       "│ PD50477f  ┆ 202 ┆ 72  ┆ 128       ┆ 31   │\n",
       "│ PD50489e  ┆ 180 ┆ 51  ┆ 80        ┆ 24   │\n",
       "│ PD50508b  ┆ 161 ┆ 45  ┆ 93        ┆ 3    │\n",
       "│ PD50508f  ┆ 130 ┆ 31  ┆ 78        ┆ 8    │\n",
       "│ PD50519d  ┆ 177 ┆ 82  ┆ 110       ┆ 54   │\n",
       "│ PD50521b  ┆ 233 ┆ 89  ┆ 160       ┆ 62   │\n",
       "│ PD50521e  ┆ 199 ┆ 70  ┆ 119       ┆ 32   │\n",
       "│ PD50523b  ┆ 208 ┆ 83  ┆ 119       ┆ 19   │\n",
       "└───────────┴─────┴─────┴───────────┴──────┘"
      ]
     },
     "metadata": {},
     "output_type": "display_data"
    }
   ],
   "source": [
    "call_stats_df = (very_trusty_cls_df    \n",
    "    .pivot(\n",
    "        values=[\"class\"],\n",
    "        index=[\"sample_id\"],\n",
    "        columns=[\"class\"],\n",
    "        aggregate_function='len'\n",
    "    )\n",
    "    .sort(by=\"sample_id\")\n",
    "    .select(\"sample_id\", \"CO\", \"GC\", \"ambiguous\", \"CNCO\")\n",
    ")\n",
    "\n",
    "display(call_stats_df)"
   ]
  },
  {
   "cell_type": "code",
   "execution_count": 22,
   "id": "b1dabecc-4dd2-4e5a-9bce-6e0b0b9102d2",
   "metadata": {},
   "outputs": [
    {
     "data": {
      "text/html": [
       "<div><style>\n",
       ".dataframe > thead > tr,\n",
       ".dataframe > tbody > tr {\n",
       "  text-align: right;\n",
       "  white-space: pre-wrap;\n",
       "}\n",
       "</style>\n",
       "<small>shape: (1, 5)</small><table border=\"1\" class=\"dataframe\"><thead><tr><th>sample_id</th><th>CO</th><th>GC</th><th>ambiguous</th><th>CNCO</th></tr><tr><td>str</td><td>u32</td><td>u32</td><td>u32</td><td>u32</td></tr></thead><tbody><tr><td>null</td><td>1751</td><td>595</td><td>1018</td><td>278</td></tr></tbody></table></div>"
      ],
      "text/plain": [
       "shape: (1, 5)\n",
       "┌───────────┬──────┬─────┬───────────┬──────┐\n",
       "│ sample_id ┆ CO   ┆ GC  ┆ ambiguous ┆ CNCO │\n",
       "│ ---       ┆ ---  ┆ --- ┆ ---       ┆ ---  │\n",
       "│ str       ┆ u32  ┆ u32 ┆ u32       ┆ u32  │\n",
       "╞═══════════╪══════╪═════╪═══════════╪══════╡\n",
       "│ null      ┆ 1751 ┆ 595 ┆ 1018      ┆ 278  │\n",
       "└───────────┴──────┴─────┴───────────┴──────┘"
      ]
     },
     "execution_count": 22,
     "metadata": {},
     "output_type": "execute_result"
    }
   ],
   "source": [
    "call_stats_df.sum()"
   ]
  },
  {
   "cell_type": "markdown",
   "id": "4646915d-5244-4ec3-a2e4-2fea6224f327",
   "metadata": {},
   "source": [
    "# Sudmant samples stats"
   ]
  },
  {
   "cell_type": "code",
   "execution_count": 4,
   "id": "c86abc5e-31dd-4c14-adba-e51ccd16371f",
   "metadata": {},
   "outputs": [],
   "source": [
    "sudmant_path = Path(\"/lustre/scratch126/casm/team154pc/sl17/03.sperm/01.data/02.ccs/PeterSudmant/\")\n",
    "\n",
    "# sudmant_sample_ids = [\n",
    "#     \"105621\",\n",
    "#     \"1894\",\n",
    "#     \"3898\",\n",
    "#     \"7899\",\n",
    "#     \"95619\",\n",
    "#     \"115980\",\n",
    "#     \"2895\",\n",
    "#     \"6901\",\n",
    "#     \"8900\",\n",
    "# ]"
   ]
  },
  {
   "cell_type": "code",
   "execution_count": 5,
   "id": "c4ebfa92-8434-4455-ae21-0009356faff9",
   "metadata": {},
   "outputs": [],
   "source": [
    "rows = []\n",
    "for ssid in sudmant_sample_ids:\n",
    "    for stats in (sudmant_path / ssid).glob(\"*.ccs.stats.txt\"):\n",
    "        with open(stats) as F:\n",
    "            x = [int(s.replace(',', '')) for s in F.readlines()[2].split()]\n",
    "            rows.append((ssid, x[1], x[2], x[3]))\n",
    "\n",
    "ss_df = pl.DataFrame(rows, schema=[\"sample_id\", \"num_reads\", \"num_total_basepairs\", \"mean_median_length\"])"
   ]
  },
  {
   "cell_type": "code",
   "execution_count": 8,
   "id": "523cf7d7-90ab-4e71-86ad-990c4d78db5f",
   "metadata": {},
   "outputs": [
    {
     "data": {
      "text/html": [
       "<div><style>\n",
       ".dataframe > thead > tr,\n",
       ".dataframe > tbody > tr {\n",
       "  text-align: right;\n",
       "  white-space: pre-wrap;\n",
       "}\n",
       "</style>\n",
       "<small>shape: (6, 6)</small><table border=\"1\" class=\"dataframe\"><thead><tr><th>sample_id</th><th>num_cells</th><th>num_reads</th><th>num_total_basepairs</th><th>mean_median_length</th><th>coverage</th></tr><tr><td>str</td><td>u32</td><td>i64</td><td>i64</td><td>f64</td><td>f64</td></tr></thead><tbody><tr><td>&quot;115980&quot;</td><td>2</td><td>9037595</td><td>146388830583</td><td>15286.5</td><td>48.796277</td></tr><tr><td>&quot;1894&quot;</td><td>2</td><td>9181560</td><td>160932791394</td><td>16642.0</td><td>53.644264</td></tr><tr><td>&quot;2895&quot;</td><td>2</td><td>6982155</td><td>120919967150</td><td>16533.5</td><td>40.306656</td></tr><tr><td>&quot;3898&quot;</td><td>2</td><td>8634738</td><td>155298005617</td><td>17226.5</td><td>51.766002</td></tr><tr><td>&quot;7899&quot;</td><td>2</td><td>10220204</td><td>171148807471</td><td>15983.0</td><td>57.049602</td></tr><tr><td>&quot;95619&quot;</td><td>2</td><td>8876456</td><td>149439312738</td><td>16081.0</td><td>49.813104</td></tr></tbody></table></div>"
      ],
      "text/plain": [
       "shape: (6, 6)\n",
       "┌───────────┬───────────┬───────────┬─────────────────────┬────────────────────┬───────────┐\n",
       "│ sample_id ┆ num_cells ┆ num_reads ┆ num_total_basepairs ┆ mean_median_length ┆ coverage  │\n",
       "│ ---       ┆ ---       ┆ ---       ┆ ---                 ┆ ---                ┆ ---       │\n",
       "│ str       ┆ u32       ┆ i64       ┆ i64                 ┆ f64                ┆ f64       │\n",
       "╞═══════════╪═══════════╪═══════════╪═════════════════════╪════════════════════╪═══════════╡\n",
       "│ 115980    ┆ 2         ┆ 9037595   ┆ 146388830583        ┆ 15286.5            ┆ 48.796277 │\n",
       "│ 1894      ┆ 2         ┆ 9181560   ┆ 160932791394        ┆ 16642.0            ┆ 53.644264 │\n",
       "│ 2895      ┆ 2         ┆ 6982155   ┆ 120919967150        ┆ 16533.5            ┆ 40.306656 │\n",
       "│ 3898      ┆ 2         ┆ 8634738   ┆ 155298005617        ┆ 17226.5            ┆ 51.766002 │\n",
       "│ 7899      ┆ 2         ┆ 10220204  ┆ 171148807471        ┆ 15983.0            ┆ 57.049602 │\n",
       "│ 95619     ┆ 2         ┆ 8876456   ┆ 149439312738        ┆ 16081.0            ┆ 49.813104 │\n",
       "└───────────┴───────────┴───────────┴─────────────────────┴────────────────────┴───────────┘"
      ]
     },
     "metadata": {},
     "output_type": "display_data"
    }
   ],
   "source": [
    "sst_df = (ss_df\n",
    "    .group_by(\"sample_id\")\n",
    "    .agg(\n",
    "        pl.len().alias(\"num_cells\"),\n",
    "        pl.col(\"num_reads\").sum(),\n",
    "        pl.col(\"num_total_basepairs\").sum(),\n",
    "        pl.col(\"mean_median_length\").mean(),\n",
    "    )\n",
    "    .with_columns(\n",
    "        coverage = pl.col(\"num_total_basepairs\") / 3e9\n",
    "    )\n",
    "    .sort(\"sample_id\")\n",
    ")\n",
    "\n",
    "display(sst_df)"
   ]
  },
  {
   "cell_type": "code",
   "execution_count": 12,
   "id": "59c33350-98b7-46c1-b03b-d3201b05661c",
   "metadata": {},
   "outputs": [],
   "source": [
    "rahbari_coverage = np.array(\n",
    "    [15.652876, 20.623035, 22.238416, 23.319102, 24.503857, 25.114194, 25.343984, 31.714647, 33.258736]\n",
    ")\n",
    "\n",
    "sudmant_coverage = sst_df[\"coverage\"]\n",
    "both_coverages = np.concatenate([rahbari_coverage, sudmant_coverage])"
   ]
  },
  {
   "cell_type": "code",
   "execution_count": 14,
   "id": "b5892f64-a63f-4084-9172-33fe1fea004d",
   "metadata": {
    "tags": []
   },
   "outputs": [
    {
     "name": "stdout",
     "output_type": "stream",
     "text": [
      "min 15.652876\n",
      "max 57.04960249033333\n",
      "mean 34.87631679895556\n"
     ]
    }
   ],
   "source": [
    "print(\"min\", np.min(both_coverages))\n",
    "print(\"max\", np.max(both_coverages))\n",
    "print(\"mean\", np.mean(both_coverages))"
   ]
  },
  {
   "cell_type": "code",
   "execution_count": null,
   "id": "c3bf8869-d286-4593-9b12-8328c0064a9e",
   "metadata": {},
   "outputs": [],
   "source": [
    "sst_df[\"mean_median_length\"]"
   ]
  },
  {
   "cell_type": "code",
   "execution_count": null,
   "id": "cadb0989-278f-4ef7-b3c3-8778f20e449b",
   "metadata": {},
   "outputs": [],
   "source": []
  },
  {
   "cell_type": "code",
   "execution_count": null,
   "id": "8b927ceb-c150-4c5a-8cb8-fc05cceb26c5",
   "metadata": {},
   "outputs": [],
   "source": []
  }
 ],
 "metadata": {
  "kernelspec": {
   "display_name": "sperm",
   "language": "python",
   "name": "sperm"
  },
  "language_info": {
   "codemirror_mode": {
    "name": "ipython",
    "version": 3
   },
   "file_extension": ".py",
   "mimetype": "text/x-python",
   "name": "python",
   "nbconvert_exporter": "python",
   "pygments_lexer": "ipython3",
   "version": "3.11.10"
  }
 },
 "nbformat": 4,
 "nbformat_minor": 5
}
