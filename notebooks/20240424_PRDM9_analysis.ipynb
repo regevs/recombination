{
 "cells": [
  {
   "cell_type": "code",
   "execution_count": 1,
   "id": "9c85b9e9-7fa1-4eb4-a95e-a4b85e383430",
   "metadata": {},
   "outputs": [],
   "source": [
    "%load_ext autoreload\n",
    "%autoreload 2"
   ]
  },
  {
   "cell_type": "code",
   "execution_count": 2,
   "id": "d7c7f4e1-756e-4a7f-bf1d-6c7f44640e41",
   "metadata": {},
   "outputs": [],
   "source": [
    "import numpy as np\n",
    "import pandas as pd\n",
    "import matplotlib as mpl\n",
    "import matplotlib.pyplot as plt\n",
    "import matplotlib.ticker as ticker\n",
    "import numba\n",
    "import numba.typed\n",
    "\n",
    "from pathlib import Path\n",
    "import tqdm\n",
    "import sys\n",
    "import seaborn as sns\n",
    "import scipy.stats\n",
    "import os\n",
    "import pysam\n",
    "import pprint\n",
    "import pickle\n",
    "import joblib\n",
    "import subprocess\n",
    "import polars as pl\n",
    "import io\n",
    "import itertools\n",
    "import warnings\n",
    "import igv_notebook\n",
    "\n",
    "from brokenaxes import brokenaxes\n",
    "\n",
    "\n",
    "from adjustText import adjust_text\n",
    "\n",
    "\n",
    "# This is needed before pybedtools to make sure bedtools is imported on sanger JupyterHub \n",
    "os.environ[\"PATH\"] += \":\" + os.path.join(sys.prefix, \"bin\")\n",
    "import pybedtools\n",
    "\n",
    "pd.set_option('display.max_rows', 1000)\n"
   ]
  },
  {
   "cell_type": "code",
   "execution_count": 3,
   "id": "9ef40b8c-6a1c-495a-95c3-d16a47830783",
   "metadata": {},
   "outputs": [],
   "source": [
    "sys.path.append(str(Path(os.getcwd()).parent))\n",
    "from src import liftover, annotate, diagnostics, inference, dashboard"
   ]
  },
  {
   "cell_type": "code",
   "execution_count": 4,
   "id": "55b32701-da72-466e-8f2b-726786394ff5",
   "metadata": {},
   "outputs": [],
   "source": [
    "aut_chrom_names = [f\"chr{i}\" for i in list(range(1, 23))]\n",
    "chrom_names = aut_chrom_names + [\"chrX\", \"chrY\"]"
   ]
  },
  {
   "cell_type": "code",
   "execution_count": null,
   "id": "afb458b1-3c2f-41e7-b6b9-935266a67ab1",
   "metadata": {},
   "outputs": [],
   "source": []
  },
  {
   "cell_type": "code",
   "execution_count": 5,
   "id": "7abf9df8-af69-408e-84ad-c2294fe3e5b6",
   "metadata": {},
   "outputs": [],
   "source": [
    "# Samples to do\n",
    "sample_ids = [\n",
    "    \"PD50477f\",\n",
    "    # \"PD50508bf\", -- ignore; merged two sampling dates just for phasing, but should be analyzed separately\n",
    "    \"PD50519d\",\n",
    "    # \"PD47269d\", -- don't use, not there\n",
    "    \"PD50508f\",\n",
    "    # \"PD50511e\", -- don't use, likely mixture\n",
    "    \"PD50523b\",\n",
    "    # \"PD48473b\", -- don't use, not there\n",
    "    \"PD50521b\",\n",
    "    \"PD50508b\",\n",
    "    # \"PD50521be\", -- ignore; merged two sampling dates just for phasing, but should be analyzed separately\n",
    "    \"PD46180c\",\n",
    "    # \"PD50502f\", -- don't use, likely mixture\n",
    "    \"PD50521e\",\n",
    "    # \"PD50511e_SS\",  --- don't use\n",
    "    \"PD50489e\",\n",
    "]\n",
    "\n"
   ]
  },
  {
   "cell_type": "markdown",
   "id": "bc36f437-08e4-4c7c-b7d1-e5bd87f71430",
   "metadata": {},
   "source": [
    "# Prepare PRDM9 alleles fasta"
   ]
  },
  {
   "cell_type": "markdown",
   "id": "a40d8a4e-5fa3-45f6-af1d-6e6011936622",
   "metadata": {},
   "source": [
    "## Read diploids file from Alleva et al. 2021"
   ]
  },
  {
   "cell_type": "code",
   "execution_count": 6,
   "id": "8712c2f5-393c-40e8-89de-53930a6f22a2",
   "metadata": {},
   "outputs": [],
   "source": [
    "diploids_df = pl.read_csv(\n",
    "    \"/lustre/scratch126/casm/team154pc/sl17/03.sperm/01.data/07.references/07.PRDM9/GSE166483_File_S1_PRDM9_genotypes.txt\",\n",
    "    comment_prefix=\"#\",\n",
    "    separator=\"\\t\",\n",
    "    ignore_errors=True,\n",
    ")"
   ]
  },
  {
   "cell_type": "code",
   "execution_count": 7,
   "id": "6cd4c061-d169-492f-b3c4-9a8d3326c8fa",
   "metadata": {},
   "outputs": [
    {
     "data": {
      "text/html": [
       "<div><style>\n",
       ".dataframe > thead > tr,\n",
       ".dataframe > tbody > tr {\n",
       "  text-align: right;\n",
       "  white-space: pre-wrap;\n",
       "}\n",
       "</style>\n",
       "<small>shape: (786, 15)</small><table border=\"1\" class=\"dataframe\"><thead><tr><th>id</th><th>pop</th><th>diploid</th><th>homhet</th><th>allele_1</th><th>allele_2</th><th>allele_1_code</th><th>allele_2_code</th><th>size_1</th><th>size_2</th><th>seq_1</th><th>seq_2</th><th>nseqs</th><th>nzfseqs</th><th>is_child</th></tr><tr><td>str</td><td>str</td><td>str</td><td>str</td><td>str</td><td>str</td><td>str</td><td>str</td><td>i64</td><td>i64</td><td>str</td><td>str</td><td>i64</td><td>i64</td><td>bool</td></tr></thead><tbody><tr><td>&quot;AA-428&quot;</td><td>&quot;OTH&quot;</td><td>&quot;A/A&quot;</td><td>&quot;hom&quot;</td><td>&quot;A&quot;</td><td>&quot;A&quot;</td><td>&quot;:A:B:C:D:D:E:C…</td><td>&quot;:A:B:C:D:D:E:C…</td><td>13</td><td>13</td><td>&quot;TGTGGACAAGGTTT…</td><td>&quot;TGTGGACAAGGTTT…</td><td>43209</td><td>1741</td><td>false</td></tr><tr><td>&quot;AN-472&quot;</td><td>&quot;OTH&quot;</td><td>&quot;A/Av:s:0053:M1…</td><td>&quot;het&quot;</td><td>&quot;A&quot;</td><td>&quot;Av:s:0053:M1S:…</td><td>&quot;:A:B:C:D:D:E:C…</td><td>&quot;:A:B:C:D:D:E:C…</td><td>13</td><td>12</td><td>&quot;TGTGGACAAGGTTT…</td><td>&quot;TGTGGACAAGGTTT…</td><td>2048</td><td>689</td><td>false</td></tr><tr><td>&quot;HG00171&quot;</td><td>&quot;FIN&quot;</td><td>&quot;A/A&quot;</td><td>&quot;hom&quot;</td><td>&quot;A&quot;</td><td>&quot;A&quot;</td><td>&quot;:A:B:C:D:D:E:C…</td><td>&quot;:A:B:C:D:D:E:C…</td><td>13</td><td>13</td><td>&quot;TGTGGACAAGGTTT…</td><td>&quot;TGTGGACAAGGTTT…</td><td>69673</td><td>1843</td><td>false</td></tr><tr><td>&quot;HG00173&quot;</td><td>&quot;FIN&quot;</td><td>&quot;A/A&quot;</td><td>&quot;hom&quot;</td><td>&quot;A&quot;</td><td>&quot;A&quot;</td><td>&quot;:A:B:C:D:D:E:C…</td><td>&quot;:A:B:C:D:D:E:C…</td><td>13</td><td>13</td><td>&quot;TGTGGACAAGGTTT…</td><td>&quot;TGTGGACAAGGTTT…</td><td>7307</td><td>1543</td><td>false</td></tr><tr><td>&quot;HG00174&quot;</td><td>&quot;FIN&quot;</td><td>&quot;A/A&quot;</td><td>&quot;hom&quot;</td><td>&quot;A&quot;</td><td>&quot;A&quot;</td><td>&quot;:A:B:C:D:D:E:C…</td><td>&quot;:A:B:C:D:D:E:C…</td><td>13</td><td>13</td><td>&quot;TGTGGACAAGGTTT…</td><td>&quot;TGTGGACAAGGTTT…</td><td>16394</td><td>1791</td><td>false</td></tr><tr><td>&hellip;</td><td>&hellip;</td><td>&hellip;</td><td>&hellip;</td><td>&hellip;</td><td>&hellip;</td><td>&hellip;</td><td>&hellip;</td><td>&hellip;</td><td>&hellip;</td><td>&hellip;</td><td>&hellip;</td><td>&hellip;</td><td>&hellip;</td><td>&hellip;</td></tr><tr><td>&quot;NA20826&quot;</td><td>&quot;TSI&quot;</td><td>&quot;A/A&quot;</td><td>&quot;hom&quot;</td><td>&quot;A&quot;</td><td>&quot;A&quot;</td><td>&quot;:A:B:C:D:D:E:C…</td><td>&quot;:A:B:C:D:D:E:C…</td><td>13</td><td>13</td><td>&quot;TGTGGACAAGGTTT…</td><td>&quot;TGTGGACAAGGTTT…</td><td>10016</td><td>1790</td><td>false</td></tr><tr><td>&quot;NA20827&quot;</td><td>&quot;TSI&quot;</td><td>&quot;A/A&quot;</td><td>&quot;hom&quot;</td><td>&quot;A&quot;</td><td>&quot;A&quot;</td><td>&quot;:A:B:C:D:D:E:C…</td><td>&quot;:A:B:C:D:D:E:C…</td><td>13</td><td>13</td><td>&quot;TGTGGACAAGGTTT…</td><td>&quot;TGTGGACAAGGTTT…</td><td>40719</td><td>1764</td><td>false</td></tr><tr><td>&quot;NA20828&quot;</td><td>&quot;TSI&quot;</td><td>&quot;A/A&quot;</td><td>&quot;hom&quot;</td><td>&quot;A&quot;</td><td>&quot;A&quot;</td><td>&quot;:A:B:C:D:D:E:C…</td><td>&quot;:A:B:C:D:D:E:C…</td><td>13</td><td>13</td><td>&quot;TGTGGACAAGGTTT…</td><td>&quot;TGTGGACAAGGTTT…</td><td>15287</td><td>1709</td><td>false</td></tr><tr><td>&quot;NA20831&quot;</td><td>&quot;TSI&quot;</td><td>&quot;A/A&quot;</td><td>&quot;hom&quot;</td><td>&quot;A&quot;</td><td>&quot;A&quot;</td><td>&quot;:A:B:C:D:D:E:C…</td><td>&quot;:A:B:C:D:D:E:C…</td><td>13</td><td>13</td><td>&quot;TGTGGACAAGGTTT…</td><td>&quot;TGTGGACAAGGTTT…</td><td>21953</td><td>1811</td><td>false</td></tr><tr><td>&quot;NA20832&quot;</td><td>&quot;TSI&quot;</td><td>&quot;A/A&quot;</td><td>&quot;hom&quot;</td><td>&quot;A&quot;</td><td>&quot;A&quot;</td><td>&quot;:A:B:C:D:D:E:C…</td><td>&quot;:A:B:C:D:D:E:C…</td><td>13</td><td>13</td><td>&quot;TGTGGACAAGGTTT…</td><td>&quot;TGTGGACAAGGTTT…</td><td>26287</td><td>1540</td><td>false</td></tr></tbody></table></div>"
      ],
      "text/plain": [
       "shape: (786, 15)\n",
       "┌─────────┬─────┬────────────────────┬────────┬───┬───────────────────┬───────┬─────────┬──────────┐\n",
       "│ id      ┆ pop ┆ diploid            ┆ homhet ┆ … ┆ seq_2             ┆ nseqs ┆ nzfseqs ┆ is_child │\n",
       "│ ---     ┆ --- ┆ ---                ┆ ---    ┆   ┆ ---               ┆ ---   ┆ ---     ┆ ---      │\n",
       "│ str     ┆ str ┆ str                ┆ str    ┆   ┆ str               ┆ i64   ┆ i64     ┆ bool     │\n",
       "╞═════════╪═════╪════════════════════╪════════╪═══╪═══════════════════╪═══════╪═════════╪══════════╡\n",
       "│ AA-428  ┆ OTH ┆ A/A                ┆ hom    ┆ … ┆ TGTGGACAAGGTTTCAG ┆ 43209 ┆ 1741    ┆ false    │\n",
       "│         ┆     ┆                    ┆        ┆   ┆ TGTTAAATCAGATGT…  ┆       ┆         ┆          │\n",
       "│ AN-472  ┆ OTH ┆ A/Av:s:0053:M1S:A- ┆ het    ┆ … ┆ TGTGGACAAGGTTTCAG ┆ 2048  ┆ 689     ┆ false    │\n",
       "│         ┆     ┆ A                  ┆        ┆   ┆ TGTTAAATCAGATGT…  ┆       ┆         ┆          │\n",
       "│ HG00171 ┆ FIN ┆ A/A                ┆ hom    ┆ … ┆ TGTGGACAAGGTTTCAG ┆ 69673 ┆ 1843    ┆ false    │\n",
       "│         ┆     ┆                    ┆        ┆   ┆ TGTTAAATCAGATGT…  ┆       ┆         ┆          │\n",
       "│ HG00173 ┆ FIN ┆ A/A                ┆ hom    ┆ … ┆ TGTGGACAAGGTTTCAG ┆ 7307  ┆ 1543    ┆ false    │\n",
       "│         ┆     ┆                    ┆        ┆   ┆ TGTTAAATCAGATGT…  ┆       ┆         ┆          │\n",
       "│ HG00174 ┆ FIN ┆ A/A                ┆ hom    ┆ … ┆ TGTGGACAAGGTTTCAG ┆ 16394 ┆ 1791    ┆ false    │\n",
       "│         ┆     ┆                    ┆        ┆   ┆ TGTTAAATCAGATGT…  ┆       ┆         ┆          │\n",
       "│ …       ┆ …   ┆ …                  ┆ …      ┆ … ┆ …                 ┆ …     ┆ …       ┆ …        │\n",
       "│ NA20826 ┆ TSI ┆ A/A                ┆ hom    ┆ … ┆ TGTGGACAAGGTTTCAG ┆ 10016 ┆ 1790    ┆ false    │\n",
       "│         ┆     ┆                    ┆        ┆   ┆ TGTTAAATCAGATGT…  ┆       ┆         ┆          │\n",
       "│ NA20827 ┆ TSI ┆ A/A                ┆ hom    ┆ … ┆ TGTGGACAAGGTTTCAG ┆ 40719 ┆ 1764    ┆ false    │\n",
       "│         ┆     ┆                    ┆        ┆   ┆ TGTTAAATCAGATGT…  ┆       ┆         ┆          │\n",
       "│ NA20828 ┆ TSI ┆ A/A                ┆ hom    ┆ … ┆ TGTGGACAAGGTTTCAG ┆ 15287 ┆ 1709    ┆ false    │\n",
       "│         ┆     ┆                    ┆        ┆   ┆ TGTTAAATCAGATGT…  ┆       ┆         ┆          │\n",
       "│ NA20831 ┆ TSI ┆ A/A                ┆ hom    ┆ … ┆ TGTGGACAAGGTTTCAG ┆ 21953 ┆ 1811    ┆ false    │\n",
       "│         ┆     ┆                    ┆        ┆   ┆ TGTTAAATCAGATGT…  ┆       ┆         ┆          │\n",
       "│ NA20832 ┆ TSI ┆ A/A                ┆ hom    ┆ … ┆ TGTGGACAAGGTTTCAG ┆ 26287 ┆ 1540    ┆ false    │\n",
       "│         ┆     ┆                    ┆        ┆   ┆ TGTTAAATCAGATGT…  ┆       ┆         ┆          │\n",
       "└─────────┴─────┴────────────────────┴────────┴───┴───────────────────┴───────┴─────────┴──────────┘"
      ]
     },
     "execution_count": 7,
     "metadata": {},
     "output_type": "execute_result"
    }
   ],
   "source": [
    "diploids_df"
   ]
  },
  {
   "cell_type": "code",
   "execution_count": 8,
   "id": "008f6c0d-0293-424a-8a97-a7efd3bc663f",
   "metadata": {},
   "outputs": [],
   "source": [
    "allele_to_seq = dict(diploids_df.select(\"allele_1\", \"seq_1\").rows() + diploids_df.select(\"allele_2\", \"seq_2\").rows())"
   ]
  },
  {
   "cell_type": "code",
   "execution_count": 9,
   "id": "a3603c5f-e534-437b-be7c-b63d194fb784",
   "metadata": {},
   "outputs": [
    {
     "data": {
      "text/plain": [
       "74"
      ]
     },
     "execution_count": 9,
     "metadata": {},
     "output_type": "execute_result"
    }
   ],
   "source": [
    "len(allele_to_seq)"
   ]
  },
  {
   "cell_type": "markdown",
   "id": "9895c7d9-62b2-4206-adf2-47e9d32579fe",
   "metadata": {},
   "source": [
    "## Write a fasta file"
   ]
  },
  {
   "cell_type": "code",
   "execution_count": 10,
   "id": "49907c10-b7e8-46f4-90ce-3d38908120bf",
   "metadata": {},
   "outputs": [],
   "source": [
    "with open(\"/lustre/scratch126/casm/team154pc/sl17/03.sperm/01.data/07.references/07.PRDM9/GSE166483_PRDM9_genotypes.fasta\", \"w\") as F:\n",
    "    for k, v in allele_to_seq.items():\n",
    "        F.write(f\">{k}\\n\");\n",
    "        F.write(f\"{v}\\n\");\n",
    "    \n",
    "    \n",
    "    "
   ]
  },
  {
   "cell_type": "markdown",
   "id": "695dbe2f-acc4-4948-9556-371b229764fc",
   "metadata": {},
   "source": [
    "# Analyze mapping results"
   ]
  },
  {
   "cell_type": "code",
   "execution_count": 11,
   "id": "e7c2f628-7556-40f9-b1a2-1f387360ba2f",
   "metadata": {},
   "outputs": [],
   "source": [
    "def analyze_bam(focal_sample_id, haplotype):\n",
    "    filename = f\"/lustre/scratch126/casm/team154pc/sl17/03.sperm/02.results/07.prdm9/{focal_sample_id}/{focal_sample_id}.hap{haplotype}.minimap2.sorted.bam\"\n",
    "    \n",
    "    rows = []\n",
    "    for aln in pysam.AlignmentFile(filename):\n",
    "        #print(aln)\n",
    "        matching_field_index = \"MIDNSHP=X\".index(\"=\")\n",
    "        cigar_stats = aln.get_cigar_stats()[0]\n",
    "        rows.append([\n",
    "            focal_sample_id, \n",
    "            haplotype, \n",
    "            aln.query_name, \n",
    "            aln.query_length, \n",
    "            aln.reference_name,\n",
    "            aln.reference_length, \n",
    "            aln.reference_start,\n",
    "            cigar_stats[matching_field_index],\n",
    "        ])\n",
    "        \n",
    "    df = pl.DataFrame(\n",
    "        rows,\n",
    "        schema=[\"sample_id\", \"haplotype\", \"PRDM9_allele\", \"PRDM9_allele_length\", \"reference_name\", \"reference_length\", \"reference_start\", \"n_matches_bp\"],\n",
    "    )\n",
    "    \n",
    "    return df\n",
    "\n",
    "map_df = pl.concat([analyze_bam(sample_id, haplotype) for sample_id in sample_ids for haplotype in [1,2]])\n",
    "map_df = map_df.drop_nulls()"
   ]
  },
  {
   "cell_type": "markdown",
   "id": "6cf83d05-a54e-48c9-925b-ad5a6d62ac37",
   "metadata": {},
   "source": [
    "# Check if flanking sequence matches"
   ]
  },
  {
   "cell_type": "markdown",
   "id": "b9f3a1ef-3cc5-47e3-b6f4-ccb8736957ee",
   "metadata": {},
   "source": [
    "### From Alleva et al. 2021"
   ]
  },
  {
   "cell_type": "code",
   "execution_count": 12,
   "id": "456512ad-48cc-49a8-9df2-4943f5a368c2",
   "metadata": {},
   "outputs": [],
   "source": [
    "flanking_5prime = \"\"\"CACAGCCGTAATGACAAAACCAAAGGTCAAGAGATCA\n",
    "AAGAAAGGTCCAAACTCTTGAATAAAAGGACATGGCAGA\n",
    "GGGAGATTTCAAGGGCCTTTTCTAGCCCACCCAAAGGAC\n",
    "AAATGGGGAGCTGTAGAGTGGGAAAAAGAATAATGGAA\n",
    "GAAGAGTCCAGAACAGGCCAGAAAGTGAATCCAGGGAA\n",
    "CACAGGCAAATTATTTGTGGGGGTAGGAATCTCAAGAAT\n",
    "TGCAAAAGTCAAGTATGGAGAG\"\"\".replace('\\n','')\n",
    "\n",
    "flanking_3prime = \"\"\"GATGAGTAAGTCATTAGTAATAAAACCTCATCTCAATA\n",
    "GCCACAAAAAGACAAATGTGGTCACCACACACTTGCACA\n",
    "CCCCAGCTGTGAGGTGGCTTCAGCGGAAGTCTGCTGAC\n",
    "CCCTTATATTCCCCGAGAGTATAAAGAGATCGGAAATAAC\n",
    "TGATTAAACAAATCCGCCACTTTCATGACTAGAGATGAG\n",
    "GAAGAACAAGGGATAGTTCTGTAAGTGTTCGGGGGACAT\n",
    "CAGCATGTGTGGTTCTTTC\"\"\".replace('\\n','')"
   ]
  },
  {
   "cell_type": "code",
   "execution_count": 13,
   "id": "a40b83af-30ef-43ac-bbce-4e40cfd867a8",
   "metadata": {},
   "outputs": [],
   "source": [
    "def confirm_flanking(focal_sample_id, haplotype, reference_name, reference_length, reference_start):\n",
    "    ref_filename = Path(\"/lustre/scratch126/casm/team154pc/sl17/03.sperm/01.data/05.ragtag/03.haplotype_specific_scaffolds\") \\\n",
    "        / f\"{focal_sample_id}\" / f\"haplotype_{haplotype}\" / \"ragtag.scaffold.expanded.fasta\"\n",
    "    \n",
    "    with pysam.FastaFile(ref_filename) as F:\n",
    "        obs_flanking_5prime = F.fetch(\n",
    "            reference=reference_name, \n",
    "            start=reference_start-len(flanking_5prime), \n",
    "            end=reference_start\n",
    "        )\n",
    "        obs_flanking_3prime = F.fetch(\n",
    "            reference=reference_name, \n",
    "            start=reference_start+reference_length, \n",
    "            end=reference_start+reference_length+len(flanking_3prime)\n",
    "        )\n",
    "        \n",
    "        # for i in range(0, len(flanking_3prime), 20):\n",
    "        #     print(flanking_3prime[i:i+20])\n",
    "        #     print(obs_flanking_3prime[i:i+20])\n",
    "        #     print()\n",
    "        n_diffs_5prime = (np.array(list(obs_flanking_5prime)) != np.array(list(flanking_5prime))).sum()\n",
    "        n_diffs_3prime = (np.array(list(obs_flanking_3prime)) != np.array(list(flanking_3prime))).sum()\n",
    "        \n",
    "        return (n_diffs_5prime, n_diffs_3prime)"
   ]
  },
  {
   "cell_type": "code",
   "execution_count": 14,
   "id": "3654db63-27cd-407c-962f-bc79980aa5cc",
   "metadata": {},
   "outputs": [],
   "source": [
    "map_df = pl.concat(\n",
    "    [\n",
    "        map_df,\n",
    "        (map_df\n",
    "            .map_rows(lambda row: confirm_flanking(row[0], row[1], row[4], row[5], row[6]))\n",
    "            .rename({            \n",
    "                \"column_0\": \"n_diffs_5prime\",\n",
    "                \"column_1\": \"n_diffs_3prime\",\n",
    "            })\n",
    "        ),\n",
    "    ],\n",
    "    how=\"horizontal\",\n",
    ")\n"
   ]
  },
  {
   "cell_type": "code",
   "execution_count": 15,
   "id": "b98d5c03-de01-4514-9bf3-8c80046e8a35",
   "metadata": {},
   "outputs": [],
   "source": [
    "perfect_maps_df = (map_df\n",
    "    .filter(pl.col(\"PRDM9_allele_length\") == pl.col(\"reference_length\"))\n",
    "    .filter(pl.col(\"PRDM9_allele_length\") == pl.col(\"n_matches_bp\"))\n",
    ")"
   ]
  },
  {
   "cell_type": "code",
   "execution_count": 16,
   "id": "115b9aa1-54b4-4e8e-b400-ff921db76dd2",
   "metadata": {},
   "outputs": [
    {
     "data": {
      "text/html": [
       "<div><style>\n",
       ".dataframe > thead > tr,\n",
       ".dataframe > tbody > tr {\n",
       "  text-align: right;\n",
       "  white-space: pre-wrap;\n",
       "}\n",
       "</style>\n",
       "<small>shape: (16, 10)</small><table border=\"1\" class=\"dataframe\"><thead><tr><th>sample_id</th><th>haplotype</th><th>PRDM9_allele</th><th>PRDM9_allele_length</th><th>reference_name</th><th>reference_length</th><th>reference_start</th><th>n_matches_bp</th><th>n_diffs_5prime</th><th>n_diffs_3prime</th></tr><tr><td>str</td><td>i64</td><td>str</td><td>i64</td><td>str</td><td>i64</td><td>i64</td><td>i64</td><td>i64</td><td>i64</td></tr></thead><tbody><tr><td>&quot;PD50477f&quot;</td><td>1</td><td>&quot;A&quot;</td><td>1092</td><td>&quot;chr5_RagTag&quot;</td><td>1092</td><td>23776409</td><td>1092</td><td>0</td><td>1</td></tr><tr><td>&quot;PD50477f&quot;</td><td>2</td><td>&quot;A&quot;</td><td>1092</td><td>&quot;chr5_RagTag&quot;</td><td>1092</td><td>23659462</td><td>1092</td><td>0</td><td>2</td></tr><tr><td>&quot;PD50519d&quot;</td><td>1</td><td>&quot;A&quot;</td><td>1092</td><td>&quot;chr5_RagTag&quot;</td><td>1092</td><td>24562580</td><td>1092</td><td>0</td><td>1</td></tr><tr><td>&quot;PD50519d&quot;</td><td>2</td><td>&quot;A&quot;</td><td>1092</td><td>&quot;chr5_RagTag&quot;</td><td>1092</td><td>24762280</td><td>1092</td><td>0</td><td>1</td></tr><tr><td>&quot;PD50508f&quot;</td><td>1</td><td>&quot;A&quot;</td><td>1092</td><td>&quot;chr5_RagTag&quot;</td><td>1092</td><td>23633360</td><td>1092</td><td>0</td><td>1</td></tr><tr><td>&quot;PD50508f&quot;</td><td>2</td><td>&quot;A&quot;</td><td>1092</td><td>&quot;chr5_RagTag&quot;</td><td>1092</td><td>22353912</td><td>1092</td><td>0</td><td>2</td></tr><tr><td>&quot;PD50523b&quot;</td><td>1</td><td>&quot;A&quot;</td><td>1092</td><td>&quot;chr5_RagTag&quot;</td><td>1092</td><td>23778983</td><td>1092</td><td>0</td><td>1</td></tr><tr><td>&quot;PD50523b&quot;</td><td>2</td><td>&quot;D&quot;</td><td>1176</td><td>&quot;chr5_RagTag&quot;</td><td>1176</td><td>23826019</td><td>1176</td><td>0</td><td>2</td></tr><tr><td>&quot;PD50521b&quot;</td><td>2</td><td>&quot;A&quot;</td><td>1092</td><td>&quot;chr5_RagTag&quot;</td><td>1092</td><td>23661621</td><td>1092</td><td>0</td><td>2</td></tr><tr><td>&quot;PD50508b&quot;</td><td>1</td><td>&quot;A&quot;</td><td>1092</td><td>&quot;chr5_RagTag&quot;</td><td>1092</td><td>23633360</td><td>1092</td><td>0</td><td>1</td></tr><tr><td>&quot;PD50508b&quot;</td><td>2</td><td>&quot;A&quot;</td><td>1092</td><td>&quot;chr5_RagTag&quot;</td><td>1092</td><td>22353912</td><td>1092</td><td>0</td><td>2</td></tr><tr><td>&quot;PD46180c&quot;</td><td>1</td><td>&quot;A&quot;</td><td>1092</td><td>&quot;chr5_RagTag&quot;</td><td>1092</td><td>23829565</td><td>1092</td><td>0</td><td>1</td></tr><tr><td>&quot;PD46180c&quot;</td><td>2</td><td>&quot;A&quot;</td><td>1092</td><td>&quot;chr5_RagTag&quot;</td><td>1092</td><td>23851584</td><td>1092</td><td>0</td><td>1</td></tr><tr><td>&quot;PD50521e&quot;</td><td>2</td><td>&quot;A&quot;</td><td>1092</td><td>&quot;chr5_RagTag&quot;</td><td>1092</td><td>23661621</td><td>1092</td><td>0</td><td>2</td></tr><tr><td>&quot;PD50489e&quot;</td><td>1</td><td>&quot;A&quot;</td><td>1092</td><td>&quot;chr5_RagTag&quot;</td><td>1092</td><td>23980838</td><td>1092</td><td>0</td><td>2</td></tr><tr><td>&quot;PD50489e&quot;</td><td>2</td><td>&quot;A&quot;</td><td>1092</td><td>&quot;chr5_RagTag&quot;</td><td>1092</td><td>23668799</td><td>1092</td><td>0</td><td>2</td></tr></tbody></table></div>"
      ],
      "text/plain": [
       "shape: (16, 10)\n",
       "┌───────────┬───────────┬───────────┬───────────┬───┬───────────┬───────────┬───────────┬──────────┐\n",
       "│ sample_id ┆ haplotype ┆ PRDM9_all ┆ PRDM9_all ┆ … ┆ reference ┆ n_matches ┆ n_diffs_5 ┆ n_diffs_ │\n",
       "│ ---       ┆ ---       ┆ ele       ┆ ele_lengt ┆   ┆ _start    ┆ _bp       ┆ prime     ┆ 3prime   │\n",
       "│ str       ┆ i64       ┆ ---       ┆ h         ┆   ┆ ---       ┆ ---       ┆ ---       ┆ ---      │\n",
       "│           ┆           ┆ str       ┆ ---       ┆   ┆ i64       ┆ i64       ┆ i64       ┆ i64      │\n",
       "│           ┆           ┆           ┆ i64       ┆   ┆           ┆           ┆           ┆          │\n",
       "╞═══════════╪═══════════╪═══════════╪═══════════╪═══╪═══════════╪═══════════╪═══════════╪══════════╡\n",
       "│ PD50477f  ┆ 1         ┆ A         ┆ 1092      ┆ … ┆ 23776409  ┆ 1092      ┆ 0         ┆ 1        │\n",
       "│ PD50477f  ┆ 2         ┆ A         ┆ 1092      ┆ … ┆ 23659462  ┆ 1092      ┆ 0         ┆ 2        │\n",
       "│ PD50519d  ┆ 1         ┆ A         ┆ 1092      ┆ … ┆ 24562580  ┆ 1092      ┆ 0         ┆ 1        │\n",
       "│ PD50519d  ┆ 2         ┆ A         ┆ 1092      ┆ … ┆ 24762280  ┆ 1092      ┆ 0         ┆ 1        │\n",
       "│ PD50508f  ┆ 1         ┆ A         ┆ 1092      ┆ … ┆ 23633360  ┆ 1092      ┆ 0         ┆ 1        │\n",
       "│ PD50508f  ┆ 2         ┆ A         ┆ 1092      ┆ … ┆ 22353912  ┆ 1092      ┆ 0         ┆ 2        │\n",
       "│ PD50523b  ┆ 1         ┆ A         ┆ 1092      ┆ … ┆ 23778983  ┆ 1092      ┆ 0         ┆ 1        │\n",
       "│ PD50523b  ┆ 2         ┆ D         ┆ 1176      ┆ … ┆ 23826019  ┆ 1176      ┆ 0         ┆ 2        │\n",
       "│ PD50521b  ┆ 2         ┆ A         ┆ 1092      ┆ … ┆ 23661621  ┆ 1092      ┆ 0         ┆ 2        │\n",
       "│ PD50508b  ┆ 1         ┆ A         ┆ 1092      ┆ … ┆ 23633360  ┆ 1092      ┆ 0         ┆ 1        │\n",
       "│ PD50508b  ┆ 2         ┆ A         ┆ 1092      ┆ … ┆ 22353912  ┆ 1092      ┆ 0         ┆ 2        │\n",
       "│ PD46180c  ┆ 1         ┆ A         ┆ 1092      ┆ … ┆ 23829565  ┆ 1092      ┆ 0         ┆ 1        │\n",
       "│ PD46180c  ┆ 2         ┆ A         ┆ 1092      ┆ … ┆ 23851584  ┆ 1092      ┆ 0         ┆ 1        │\n",
       "│ PD50521e  ┆ 2         ┆ A         ┆ 1092      ┆ … ┆ 23661621  ┆ 1092      ┆ 0         ┆ 2        │\n",
       "│ PD50489e  ┆ 1         ┆ A         ┆ 1092      ┆ … ┆ 23980838  ┆ 1092      ┆ 0         ┆ 2        │\n",
       "│ PD50489e  ┆ 2         ┆ A         ┆ 1092      ┆ … ┆ 23668799  ┆ 1092      ┆ 0         ┆ 2        │\n",
       "└───────────┴───────────┴───────────┴───────────┴───┴───────────┴───────────┴───────────┴──────────┘"
      ]
     },
     "metadata": {},
     "output_type": "display_data"
    }
   ],
   "source": [
    "with pl.Config(tbl_rows=20) as cfg:\n",
    "    display(perfect_maps_df)"
   ]
  },
  {
   "cell_type": "markdown",
   "id": "9369d139-3215-4d24-a394-a504e00ec8b2",
   "metadata": {},
   "source": [
    "### What going on with ones without a perfect match?"
   ]
  },
  {
   "cell_type": "code",
   "execution_count": 17,
   "id": "b7655a7a-2759-48fa-aaa5-7dd2ad12f97a",
   "metadata": {},
   "outputs": [
    {
     "data": {
      "text/html": [
       "<div><style>\n",
       ".dataframe > thead > tr,\n",
       ".dataframe > tbody > tr {\n",
       "  text-align: right;\n",
       "  white-space: pre-wrap;\n",
       "}\n",
       "</style>\n",
       "<small>shape: (10, 10)</small><table border=\"1\" class=\"dataframe\"><thead><tr><th>sample_id</th><th>haplotype</th><th>PRDM9_allele</th><th>PRDM9_allele_length</th><th>reference_name</th><th>reference_length</th><th>reference_start</th><th>n_matches_bp</th><th>n_diffs_5prime</th><th>n_diffs_3prime</th></tr><tr><td>str</td><td>i64</td><td>str</td><td>i64</td><td>str</td><td>i64</td><td>i64</td><td>i64</td><td>i64</td><td>i64</td></tr></thead><tbody><tr><td>&quot;PD50521b&quot;</td><td>1</td><td>&quot;Av:s:0024:M1S:A-A&quot;</td><td>1176</td><td>&quot;chr5_RagTag&quot;</td><td>1176</td><td>23747726</td><td>1174</td><td>0</td><td>1</td></tr><tr><td>&quot;PD50521b&quot;</td><td>1</td><td>&quot;M14&quot;</td><td>1428</td><td>&quot;chr5_RagTag&quot;</td><td>1176</td><td>23747726</td><td>1174</td><td>0</td><td>1</td></tr><tr><td>&quot;PD50521b&quot;</td><td>1</td><td>&quot;Cv:s:0196:M7S:C-C&quot;</td><td>1260</td><td>&quot;chr5_RagTag&quot;</td><td>1176</td><td>23747726</td><td>1165</td><td>0</td><td>1</td></tr><tr><td>&quot;PD50521b&quot;</td><td>1</td><td>&quot;M16&quot;</td><td>1260</td><td>&quot;chr5_RagTag&quot;</td><td>1176</td><td>23747726</td><td>1165</td><td>0</td><td>1</td></tr><tr><td>&quot;PD50521b&quot;</td><td>1</td><td>&quot;L6&quot;</td><td>1260</td><td>&quot;chr5_RagTag&quot;</td><td>1176</td><td>23747726</td><td>1164</td><td>0</td><td>1</td></tr><tr><td>&quot;PD50521b&quot;</td><td>1</td><td>&quot;Cv:s:0391:M13S:C-A&quot;</td><td>1260</td><td>&quot;chr5_RagTag&quot;</td><td>1176</td><td>23747726</td><td>1164</td><td>0</td><td>1</td></tr><tr><td>&quot;PD50521b&quot;</td><td>1</td><td>&quot;M20&quot;</td><td>1260</td><td>&quot;chr5_RagTag&quot;</td><td>1176</td><td>23747726</td><td>1163</td><td>0</td><td>1</td></tr><tr><td>&quot;PD50521b&quot;</td><td>1</td><td>&quot;D&quot;</td><td>1176</td><td>&quot;chr5_RagTag&quot;</td><td>1176</td><td>23747726</td><td>1159</td><td>0</td><td>1</td></tr><tr><td>&quot;PD50521b&quot;</td><td>1</td><td>&quot;L17&quot;</td><td>1260</td><td>&quot;chr5_RagTag&quot;</td><td>1176</td><td>23747726</td><td>1158</td><td>0</td><td>1</td></tr><tr><td>&quot;PD50521b&quot;</td><td>1</td><td>&quot;L22&quot;</td><td>1176</td><td>&quot;chr5_RagTag&quot;</td><td>1176</td><td>23747726</td><td>1156</td><td>0</td><td>1</td></tr></tbody></table></div>"
      ],
      "text/plain": [
       "shape: (10, 10)\n",
       "┌───────────┬───────────┬───────────┬───────────┬───┬───────────┬───────────┬───────────┬──────────┐\n",
       "│ sample_id ┆ haplotype ┆ PRDM9_all ┆ PRDM9_all ┆ … ┆ reference ┆ n_matches ┆ n_diffs_5 ┆ n_diffs_ │\n",
       "│ ---       ┆ ---       ┆ ele       ┆ ele_lengt ┆   ┆ _start    ┆ _bp       ┆ prime     ┆ 3prime   │\n",
       "│ str       ┆ i64       ┆ ---       ┆ h         ┆   ┆ ---       ┆ ---       ┆ ---       ┆ ---      │\n",
       "│           ┆           ┆ str       ┆ ---       ┆   ┆ i64       ┆ i64       ┆ i64       ┆ i64      │\n",
       "│           ┆           ┆           ┆ i64       ┆   ┆           ┆           ┆           ┆          │\n",
       "╞═══════════╪═══════════╪═══════════╪═══════════╪═══╪═══════════╪═══════════╪═══════════╪══════════╡\n",
       "│ PD50521b  ┆ 1         ┆ Av:s:0024 ┆ 1176      ┆ … ┆ 23747726  ┆ 1174      ┆ 0         ┆ 1        │\n",
       "│           ┆           ┆ :M1S:A-A  ┆           ┆   ┆           ┆           ┆           ┆          │\n",
       "│ PD50521b  ┆ 1         ┆ M14       ┆ 1428      ┆ … ┆ 23747726  ┆ 1174      ┆ 0         ┆ 1        │\n",
       "│ PD50521b  ┆ 1         ┆ Cv:s:0196 ┆ 1260      ┆ … ┆ 23747726  ┆ 1165      ┆ 0         ┆ 1        │\n",
       "│           ┆           ┆ :M7S:C-C  ┆           ┆   ┆           ┆           ┆           ┆          │\n",
       "│ PD50521b  ┆ 1         ┆ M16       ┆ 1260      ┆ … ┆ 23747726  ┆ 1165      ┆ 0         ┆ 1        │\n",
       "│ PD50521b  ┆ 1         ┆ L6        ┆ 1260      ┆ … ┆ 23747726  ┆ 1164      ┆ 0         ┆ 1        │\n",
       "│ PD50521b  ┆ 1         ┆ Cv:s:0391 ┆ 1260      ┆ … ┆ 23747726  ┆ 1164      ┆ 0         ┆ 1        │\n",
       "│           ┆           ┆ :M13S:C-A ┆           ┆   ┆           ┆           ┆           ┆          │\n",
       "│ PD50521b  ┆ 1         ┆ M20       ┆ 1260      ┆ … ┆ 23747726  ┆ 1163      ┆ 0         ┆ 1        │\n",
       "│ PD50521b  ┆ 1         ┆ D         ┆ 1176      ┆ … ┆ 23747726  ┆ 1159      ┆ 0         ┆ 1        │\n",
       "│ PD50521b  ┆ 1         ┆ L17       ┆ 1260      ┆ … ┆ 23747726  ┆ 1158      ┆ 0         ┆ 1        │\n",
       "│ PD50521b  ┆ 1         ┆ L22       ┆ 1176      ┆ … ┆ 23747726  ┆ 1156      ┆ 0         ┆ 1        │\n",
       "└───────────┴───────────┴───────────┴───────────┴───┴───────────┴───────────┴───────────┴──────────┘"
      ]
     },
     "metadata": {},
     "output_type": "display_data"
    }
   ],
   "source": [
    "with pl.Config(tbl_rows=80, fmt_str_lengths=20) as cfg:\n",
    "    display(map_df\n",
    "        .filter((pl.col(\"sample_id\") == \"PD50521b\") & (pl.col(\"haplotype\") == 1))\n",
    "        .sort(\"n_matches_bp\", descending=True)\n",
    "        [:10]\n",
    "    )"
   ]
  },
  {
   "cell_type": "code",
   "execution_count": 18,
   "id": "c2c89a22-c009-4ef6-8cda-7ffc10cc6ff9",
   "metadata": {},
   "outputs": [
    {
     "data": {
      "text/plain": [
       "'TGTGGACAAGGTTTCAGTGTTAAATCAGATGTTATTACACACCAAAGGACACATACAGGGGAGAAGCTCTACGTCTGCAGGGAGTGTGGGCGGGGCTTTAGCTGGAAGTCACACCTCCTCATTCACCAGAGGATACACACAGGGGAGAAGCCCTATGTCTGCAGGGAGTGTGGGCGGGGCTTTAGCTGGCAGTCAGTCCTCCTCACTCACCAGAGGACACACACAGGGGAGAAGCCCTATGTCTGCAGGGAGTGTGGGCGGGGCTTTAGCCGGCAGTCAGTCCTCCTCACTCACCAGAGGAGACACACAGGGGAGAAGCCCTATGTCTGCAGGGAGTGTGGGCGGGGCTTTAGCCGGCAGTCAGTCCTCCTCACTCACCAGAGGAGACACACAGGGGAGAAGCCCTATGTCTGCAGGGAGTGTGGGCGGGGCTTTAGCCGGCAGTCAGTCCTCCTCACTCACCAGAGGAGACACACAGGGGAGAAGCCCTATGTCTGCAGGGAGTGTGGGCGGGGCTTTAGCTGGCAGTCAGTCCTCCTCAGTCACCAGAGGACACACACAGGGGAGAAGCCCTATGTCTGCAGGGAGTGTGGGCGGGGCTTTAGCTGGCAGTCAGTCCTCCTCACTCACCAGAGGACACACACAGGGGAGAAGCCCTATGTCTGCAGGGAGTGTGGGCGGGGCTTTAGCAATAAGTCACACCTCCTCAGACACCAGAGGACACACACAGGGGAGAAGCCCTATGTCTGCAGGGAGTGTGGGCGGGGCTTTCGCGATAAGTCACACCTCCTCAGACACCAGAGGACACACACAGGGGAGAAGCCCTATGTCTGCAGGGAGTGTGGGCGGGGCTTTAGAGATAAGTCAAACCTCCTCAGTCACCAGAGGACACACACAGGGGAGAAGCCCTATGTCTGCAGGGAGTGTGGGCGGGGCTTTAGCAATAAGTCACACCTCCTCAGACACCAGAGGACACACACAGGGGAGAAGCCCTATGTCTGCAGGGAGTGTGGGCGGGGCTTTCGCAATAAGTCACACCTCCTCAGACACCAGAGGACACACACAGGGGAGAAGCCCTACGTCTGCAGGGAGTGTGGGCGGGGCTTTAGCGATAGGTCAAGCCTCTGCTATCACCAGAGGACACACACAGGGGAGAAGCCCTACGTCTGCAGGGAG'"
      ]
     },
     "execution_count": 18,
     "metadata": {},
     "output_type": "execute_result"
    }
   ],
   "source": [
    "allele_to_seq[\"Av:s:0024:M1S:A-A\"]"
   ]
  },
  {
   "cell_type": "code",
   "execution_count": null,
   "id": "d1fd4765-7d8e-4040-99e0-52366fe6ed2f",
   "metadata": {},
   "outputs": [],
   "source": []
  },
  {
   "cell_type": "markdown",
   "id": "2c7d4199-21b8-4a9a-853d-730f2fa6ec44",
   "metadata": {},
   "source": [
    "# Look at assemblies to double check"
   ]
  },
  {
   "cell_type": "code",
   "execution_count": 125,
   "id": "5def61a4-1d43-4e76-bccf-c869373ff442",
   "metadata": {},
   "outputs": [],
   "source": [
    "def examine_assembly(\n",
    "    focal_sample_id,\n",
    "    haplotype,\n",
    "    reference_name,\n",
    "    reference_start,\n",
    "    reference_length,\n",
    "):\n",
    "    reference_fasta_filename = Path(\"/lustre/scratch126/casm/team154pc/sl17/03.sperm/01.data/05.ragtag/03.haplotype_specific_scaffolds\") \\\n",
    "        / f\"{focal_sample_id}\" / f\"haplotype_{haplotype}\" / \"ragtag.scaffold.expanded.fasta\"\n",
    "    \n",
    "    bam_filename = Path(\"/lustre/scratch126/casm/team154pc/sl17/03.sperm/02.results/01.read_alignment/01.ccs/04.hifiasm/02.hifiasm_0.19.5-r592/02.chromosome_length_scaffolds/\") \\\n",
    "            / f\"{focal_sample_id}\" / f\"{focal_sample_id}.hap{haplotype}.minimap2.sorted.primary_alignments.bam\"\n",
    "    \n",
    "    chrom = reference_name\n",
    "    \n",
    "    locus = f\"{chrom}:{reference_start}-{reference_start + reference_length}\"\n",
    "\n",
    "    igv_browser = igv_notebook.Browser(\n",
    "        {\n",
    "            \"reference\": {\n",
    "                \"id\": \"xxx\",\n",
    "                \"name\": \"xxx\",\n",
    "                \"fastaURL\": str(reference_fasta_filename),\n",
    "                \"indexPath\": str(reference_fasta_filename) + \".fai\",\n",
    "            },\n",
    "            \"locus\": locus,\n",
    "            \"showCenterGuide\": True,\n",
    "            \"tracks\": [\n",
    "                {\n",
    "                    \"name\": \"Local BAM\",\n",
    "                    \"url\": str(bam_filename),\n",
    "                    \"indexURL\": str(bam_filename) + \".bai\",\n",
    "                    \"format\": \"bam\",\n",
    "                    \"type\": \"alignment\",\n",
    "                    \"colorBy\": \"tag\",\n",
    "                    \"colorByTag\": \"YC\",\n",
    "                    \"maxHeight\": 700,\n",
    "                    \"autoHeight\": True,\n",
    "                    \"sort\": {\n",
    "                        \"chr\": chrom,\n",
    "                        \"position\": reference_start,\n",
    "                        \"option\": \"TAG\", \n",
    "                        \"tag\": \"YD\",\n",
    "                        \"direction\": \"DESC\",\n",
    "                    }\n",
    "                }\n",
    "            ]\n",
    "        }\n",
    "    )\n",
    "    \n",
    "    display(igv_browser);"
   ]
  },
  {
   "cell_type": "code",
   "execution_count": 133,
   "id": "464cda07-430a-40c1-9ceb-ff43e62e8507",
   "metadata": {},
   "outputs": [
    {
     "data": {
      "text/html": [
       "<div><style>\n",
       ".dataframe > thead > tr,\n",
       ".dataframe > tbody > tr {\n",
       "  text-align: right;\n",
       "  white-space: pre-wrap;\n",
       "}\n",
       "</style>\n",
       "<small>shape: (16, 10)</small><table border=\"1\" class=\"dataframe\"><thead><tr><th>sample_id</th><th>haplotype</th><th>PRDM9_allele</th><th>PRDM9_allele_length</th><th>reference_name</th><th>reference_length</th><th>reference_start</th><th>n_matches_bp</th><th>n_diffs_5prime</th><th>n_diffs_3prime</th></tr><tr><td>str</td><td>i64</td><td>str</td><td>i64</td><td>str</td><td>i64</td><td>i64</td><td>i64</td><td>i64</td><td>i64</td></tr></thead><tbody><tr><td>&quot;PD50477f&quot;</td><td>1</td><td>&quot;A&quot;</td><td>1092</td><td>&quot;chr5_RagTag&quot;</td><td>1092</td><td>23776409</td><td>1092</td><td>0</td><td>1</td></tr><tr><td>&quot;PD50477f&quot;</td><td>2</td><td>&quot;A&quot;</td><td>1092</td><td>&quot;chr5_RagTag&quot;</td><td>1092</td><td>23659462</td><td>1092</td><td>0</td><td>2</td></tr><tr><td>&quot;PD50519d&quot;</td><td>1</td><td>&quot;A&quot;</td><td>1092</td><td>&quot;chr5_RagTag&quot;</td><td>1092</td><td>24562580</td><td>1092</td><td>0</td><td>1</td></tr><tr><td>&quot;PD50519d&quot;</td><td>2</td><td>&quot;A&quot;</td><td>1092</td><td>&quot;chr5_RagTag&quot;</td><td>1092</td><td>24762280</td><td>1092</td><td>0</td><td>1</td></tr><tr><td>&quot;PD50508f&quot;</td><td>1</td><td>&quot;A&quot;</td><td>1092</td><td>&quot;chr5_RagTag&quot;</td><td>1092</td><td>23633360</td><td>1092</td><td>0</td><td>1</td></tr><tr><td>&quot;PD50508f&quot;</td><td>2</td><td>&quot;A&quot;</td><td>1092</td><td>&quot;chr5_RagTag&quot;</td><td>1092</td><td>22353912</td><td>1092</td><td>0</td><td>2</td></tr><tr><td>&quot;PD50523b&quot;</td><td>1</td><td>&quot;A&quot;</td><td>1092</td><td>&quot;chr5_RagTag&quot;</td><td>1092</td><td>23778983</td><td>1092</td><td>0</td><td>1</td></tr><tr><td>&quot;PD50523b&quot;</td><td>2</td><td>&quot;D&quot;</td><td>1176</td><td>&quot;chr5_RagTag&quot;</td><td>1176</td><td>23826019</td><td>1176</td><td>0</td><td>2</td></tr><tr><td>&quot;PD50521b&quot;</td><td>2</td><td>&quot;A&quot;</td><td>1092</td><td>&quot;chr5_RagTag&quot;</td><td>1092</td><td>23661621</td><td>1092</td><td>0</td><td>2</td></tr><tr><td>&quot;PD50508b&quot;</td><td>1</td><td>&quot;A&quot;</td><td>1092</td><td>&quot;chr5_RagTag&quot;</td><td>1092</td><td>23633360</td><td>1092</td><td>0</td><td>1</td></tr><tr><td>&quot;PD50508b&quot;</td><td>2</td><td>&quot;A&quot;</td><td>1092</td><td>&quot;chr5_RagTag&quot;</td><td>1092</td><td>22353912</td><td>1092</td><td>0</td><td>2</td></tr><tr><td>&quot;PD46180c&quot;</td><td>1</td><td>&quot;A&quot;</td><td>1092</td><td>&quot;chr5_RagTag&quot;</td><td>1092</td><td>23829565</td><td>1092</td><td>0</td><td>1</td></tr><tr><td>&quot;PD46180c&quot;</td><td>2</td><td>&quot;A&quot;</td><td>1092</td><td>&quot;chr5_RagTag&quot;</td><td>1092</td><td>23851584</td><td>1092</td><td>0</td><td>1</td></tr><tr><td>&quot;PD50521e&quot;</td><td>2</td><td>&quot;A&quot;</td><td>1092</td><td>&quot;chr5_RagTag&quot;</td><td>1092</td><td>23661621</td><td>1092</td><td>0</td><td>2</td></tr><tr><td>&quot;PD50489e&quot;</td><td>1</td><td>&quot;A&quot;</td><td>1092</td><td>&quot;chr5_RagTag&quot;</td><td>1092</td><td>23980838</td><td>1092</td><td>0</td><td>2</td></tr><tr><td>&quot;PD50489e&quot;</td><td>2</td><td>&quot;A&quot;</td><td>1092</td><td>&quot;chr5_RagTag&quot;</td><td>1092</td><td>23668799</td><td>1092</td><td>0</td><td>2</td></tr></tbody></table></div>"
      ],
      "text/plain": [
       "shape: (16, 10)\n",
       "┌───────────┬───────────┬───────────┬───────────┬───┬───────────┬───────────┬───────────┬──────────┐\n",
       "│ sample_id ┆ haplotype ┆ PRDM9_all ┆ PRDM9_all ┆ … ┆ reference ┆ n_matches ┆ n_diffs_5 ┆ n_diffs_ │\n",
       "│ ---       ┆ ---       ┆ ele       ┆ ele_lengt ┆   ┆ _start    ┆ _bp       ┆ prime     ┆ 3prime   │\n",
       "│ str       ┆ i64       ┆ ---       ┆ h         ┆   ┆ ---       ┆ ---       ┆ ---       ┆ ---      │\n",
       "│           ┆           ┆ str       ┆ ---       ┆   ┆ i64       ┆ i64       ┆ i64       ┆ i64      │\n",
       "│           ┆           ┆           ┆ i64       ┆   ┆           ┆           ┆           ┆          │\n",
       "╞═══════════╪═══════════╪═══════════╪═══════════╪═══╪═══════════╪═══════════╪═══════════╪══════════╡\n",
       "│ PD50477f  ┆ 1         ┆ A         ┆ 1092      ┆ … ┆ 23776409  ┆ 1092      ┆ 0         ┆ 1        │\n",
       "│ PD50477f  ┆ 2         ┆ A         ┆ 1092      ┆ … ┆ 23659462  ┆ 1092      ┆ 0         ┆ 2        │\n",
       "│ PD50519d  ┆ 1         ┆ A         ┆ 1092      ┆ … ┆ 24562580  ┆ 1092      ┆ 0         ┆ 1        │\n",
       "│ PD50519d  ┆ 2         ┆ A         ┆ 1092      ┆ … ┆ 24762280  ┆ 1092      ┆ 0         ┆ 1        │\n",
       "│ PD50508f  ┆ 1         ┆ A         ┆ 1092      ┆ … ┆ 23633360  ┆ 1092      ┆ 0         ┆ 1        │\n",
       "│ PD50508f  ┆ 2         ┆ A         ┆ 1092      ┆ … ┆ 22353912  ┆ 1092      ┆ 0         ┆ 2        │\n",
       "│ PD50523b  ┆ 1         ┆ A         ┆ 1092      ┆ … ┆ 23778983  ┆ 1092      ┆ 0         ┆ 1        │\n",
       "│ PD50523b  ┆ 2         ┆ D         ┆ 1176      ┆ … ┆ 23826019  ┆ 1176      ┆ 0         ┆ 2        │\n",
       "│ PD50521b  ┆ 2         ┆ A         ┆ 1092      ┆ … ┆ 23661621  ┆ 1092      ┆ 0         ┆ 2        │\n",
       "│ PD50508b  ┆ 1         ┆ A         ┆ 1092      ┆ … ┆ 23633360  ┆ 1092      ┆ 0         ┆ 1        │\n",
       "│ PD50508b  ┆ 2         ┆ A         ┆ 1092      ┆ … ┆ 22353912  ┆ 1092      ┆ 0         ┆ 2        │\n",
       "│ PD46180c  ┆ 1         ┆ A         ┆ 1092      ┆ … ┆ 23829565  ┆ 1092      ┆ 0         ┆ 1        │\n",
       "│ PD46180c  ┆ 2         ┆ A         ┆ 1092      ┆ … ┆ 23851584  ┆ 1092      ┆ 0         ┆ 1        │\n",
       "│ PD50521e  ┆ 2         ┆ A         ┆ 1092      ┆ … ┆ 23661621  ┆ 1092      ┆ 0         ┆ 2        │\n",
       "│ PD50489e  ┆ 1         ┆ A         ┆ 1092      ┆ … ┆ 23980838  ┆ 1092      ┆ 0         ┆ 2        │\n",
       "│ PD50489e  ┆ 2         ┆ A         ┆ 1092      ┆ … ┆ 23668799  ┆ 1092      ┆ 0         ┆ 2        │\n",
       "└───────────┴───────────┴───────────┴───────────┴───┴───────────┴───────────┴───────────┴──────────┘"
      ]
     },
     "metadata": {},
     "output_type": "display_data"
    }
   ],
   "source": [
    "with pl.Config(tbl_rows=20) as cfg:\n",
    "    display(perfect_maps_df)"
   ]
  },
  {
   "cell_type": "code",
   "execution_count": 137,
   "id": "6145477c-1bad-4ea6-b349-039cc22aa1ee",
   "metadata": {},
   "outputs": [
    {
     "data": {
      "text/html": [
       "<div id=\"jb_4880672\"></div>"
      ],
      "text/plain": [
       "<IPython.core.display.HTML object>"
      ]
     },
     "metadata": {},
     "output_type": "display_data"
    },
    {
     "data": {
      "application/javascript": [
       "window.igv.MessageHandler.on({\"id\": \"jb_4880672\", \"command\": \"createBrowser\", \"data\": {\"reference\": {\"id\": \"xxx\", \"name\": \"xxx\", \"fastaURL\": \"/lustre/scratch126/casm/team154pc/sl17/03.sperm/01.data/05.ragtag/03.haplotype_specific_scaffolds/PD50521b/haplotype_1/ragtag.scaffold.expanded.fasta\", \"indexPath\": \"/lustre/scratch126/casm/team154pc/sl17/03.sperm/01.data/05.ragtag/03.haplotype_specific_scaffolds/PD50521b/haplotype_1/ragtag.scaffold.expanded.fasta.fai\"}, \"locus\": \"chr5_RagTag:23747726-23748902\", \"showCenterGuide\": true, \"tracks\": [{\"name\": \"Local BAM\", \"url\": \"/lustre/scratch126/casm/team154pc/sl17/03.sperm/02.results/01.read_alignment/01.ccs/04.hifiasm/02.hifiasm_0.19.5-r592/02.chromosome_length_scaffolds/PD50521b/PD50521b.hap1.minimap2.sorted.primary_alignments.bam\", \"indexURL\": \"/lustre/scratch126/casm/team154pc/sl17/03.sperm/02.results/01.read_alignment/01.ccs/04.hifiasm/02.hifiasm_0.19.5-r592/02.chromosome_length_scaffolds/PD50521b/PD50521b.hap1.minimap2.sorted.primary_alignments.bam.bai\", \"format\": \"bam\", \"type\": \"alignment\", \"colorBy\": \"tag\", \"colorByTag\": \"YC\", \"maxHeight\": 700, \"autoHeight\": true, \"sort\": {\"chr\": \"chr5_RagTag\", \"position\": 23747726, \"option\": \"TAG\", \"tag\": \"YD\", \"direction\": \"DESC\"}}], \"id\": \"jb_4880672\"}})"
      ],
      "text/plain": [
       "<IPython.core.display.Javascript object>"
      ]
     },
     "metadata": {},
     "output_type": "display_data"
    },
    {
     "data": {
      "text/plain": [
       "<igv_notebook.browser.Browser at 0x147b00cd3d90>"
      ]
     },
     "metadata": {},
     "output_type": "display_data"
    }
   ],
   "source": [
    "examine_assembly(\"PD50521b\", 1, \"chr5_RagTag\", 23747726, 1176)"
   ]
  },
  {
   "cell_type": "code",
   "execution_count": null,
   "id": "a3b6dc32-465b-477b-82c2-f0ea49534fc8",
   "metadata": {},
   "outputs": [],
   "source": []
  },
  {
   "cell_type": "code",
   "execution_count": 141,
   "id": "3cf03dbc-c1d1-4094-9cee-96ee9dc5e8e8",
   "metadata": {},
   "outputs": [],
   "source": [
    "focal_sample_id = \"PD50521b\"\n",
    "haplotype = 1\n",
    "reference_name = \"chr5_RagTag\"\n",
    "reference_start = 23747726\n",
    "reference_length = 1176\n",
    "\n",
    "ref_filename = Path(\"/lustre/scratch126/casm/team154pc/sl17/03.sperm/01.data/05.ragtag/03.haplotype_specific_scaffolds\") \\\n",
    "    / f\"{focal_sample_id}\" / f\"haplotype_{haplotype}\" / \"ragtag.scaffold.expanded.fasta\"\n",
    "\n",
    "with pysam.FastaFile(ref_filename) as F:\n",
    "    new_allele = F.fetch(\n",
    "        reference=reference_name, \n",
    "        start=reference_start, \n",
    "        end=reference_start+reference_length,\n",
    "    )"
   ]
  },
  {
   "cell_type": "code",
   "execution_count": null,
   "id": "a2d71c7d-0391-4dc1-af0f-fd2b2d19ed95",
   "metadata": {},
   "outputs": [],
   "source": []
  },
  {
   "cell_type": "code",
   "execution_count": 146,
   "id": "7c630aa9-cd89-4b95-bc92-50bee894a7f6",
   "metadata": {},
   "outputs": [
    {
     "name": "stdout",
     "output_type": "stream",
     "text": [
      "TGTGGACAAGGTTTCAGTGTTAAATCAGATGTTATTACACACCAAAGGAC\n",
      "TGTGGACAAGGTTTCAGTGTTAAATCAGATGTTATTACACACCAAAGGAC\n",
      "\n",
      "ACATACAGGGGAGAAGCTCTACGTCTGCAGGGAGTGTGGGCGGGGCTTTA\n",
      "ACATACAGGGGAGAAGCTCTACGTCTGCAGGGAGTGTGGGCGGGGCTTTA\n",
      "\n",
      "GCTGGAAGTCACACCTCCTCATTCACCAGAGGATACACACAGGGGAGAAG\n",
      "GCTGGAAGTCACACCTCCTCATTCACCAGAGGATACACACAGGGGAGAAG\n",
      "\n",
      "CCCTATGTCTGCAGGGAGTGTGGGCGGGGCTTTAGCTGGCAGTCAGTCCT\n",
      "CCCTATGTCTGCAGGGAGTGTGGGCGGGGCTTTAGCTGGCAGTCAGTCCT\n",
      "\n",
      "CCTCACTCACCAGAGGACACACACAGGGGAGAAGCCCTATGTCTGCAGGG\n",
      "CCTCACTCACCAGAGGACACACACAGGGGAGAAGCCCTATGTCTGCAGGG\n",
      "\n",
      "AGTGTGGGCGGGGCTTTAGCCGGCAGTCAGTCCTCCTCACTCACCAGAGG\n",
      "AGTGTGGGCGGGGCTTTAGCTGGCAGTCAGTCCTCCTCACTCACCAGAGG\n",
      "\n",
      "AGACACACAGGGGAGAAGCCCTATGTCTGCAGGGAGTGTGGGCGGGGCTT\n",
      "ACACACACAGGGGAGAAGCCCTATGTCTGCAGGGAGTGTGGGCGGGGCTT\n",
      "\n",
      "TAGCCGGCAGTCAGTCCTCCTCACTCACCAGAGGAGACACACAGGGGAGA\n",
      "TAGCCGGCAGTCAGTCCTCCTCACTCACCAGAGGAGACACACAGGGGAGA\n",
      "\n",
      "AGCCCTATGTCTGCAGGGAGTGTGGGCGGGGCTTTAGCCGGCAGTCAGTC\n",
      "AGCCCTATGTCTGCAGGGAGTGTGGGCGGGGCTTTAGCCGGCAGTCAGTC\n",
      "\n",
      "CTCCTCACTCACCAGAGGAGACACACAGGGGAGAAGCCCTATGTCTGCAG\n",
      "CTCCTCACTCACCAGAGGAGACACACAGGGGAGAAGCCCTATGTCTGCAG\n",
      "\n",
      "GGAGTGTGGGCGGGGCTTTAGCTGGCAGTCAGTCCTCCTCAGTCACCAGA\n",
      "GGAGTGTGGGCGGGGCTTTAGCTGGCAGTCAGTCCTCCTCAGTCACCAGA\n",
      "\n",
      "GGACACACACAGGGGAGAAGCCCTATGTCTGCAGGGAGTGTGGGCGGGGC\n",
      "GGACACACACAGGGGAGAAGCCCTATGTCTGCAGGGAGTGTGGGCGGGGC\n",
      "\n",
      "TTTAGCTGGCAGTCAGTCCTCCTCACTCACCAGAGGACACACACAGGGGA\n",
      "TTTAGCTGGCAGTCAGTCCTCCTCACTCACCAGAGGACACACACAGGGGA\n",
      "\n",
      "GAAGCCCTATGTCTGCAGGGAGTGTGGGCGGGGCTTTAGCAATAAGTCAC\n",
      "GAAGCCCTATGTCTGCAGGGAGTGTGGGCGGGGCTTTAGCAATAAGTCAC\n",
      "\n",
      "ACCTCCTCAGACACCAGAGGACACACACAGGGGAGAAGCCCTATGTCTGC\n",
      "ACCTCCTCAGACACCAGAGGACACACACAGGGGAGAAGCCCTATGTCTGC\n",
      "\n",
      "AGGGAGTGTGGGCGGGGCTTTCGCGATAAGTCACACCTCCTCAGACACCA\n",
      "AGGGAGTGTGGGCGGGGCTTTCGCGATAAGTCACACCTCCTCAGACACCA\n",
      "\n",
      "GAGGACACACACAGGGGAGAAGCCCTATGTCTGCAGGGAGTGTGGGCGGG\n",
      "GAGGACACACACAGGGGAGAAGCCCTATGTCTGCAGGGAGTGTGGGCGGG\n",
      "\n",
      "GCTTTAGAGATAAGTCAAACCTCCTCAGTCACCAGAGGACACACACAGGG\n",
      "GCTTTAGAGATAAGTCAAACCTCCTCAGTCACCAGAGGACACACACAGGG\n",
      "\n",
      "GAGAAGCCCTATGTCTGCAGGGAGTGTGGGCGGGGCTTTAGCAATAAGTC\n",
      "GAGAAGCCCTATGTCTGCAGGGAGTGTGGGCGGGGCTTTAGCAATAAGTC\n",
      "\n",
      "ACACCTCCTCAGACACCAGAGGACACACACAGGGGAGAAGCCCTATGTCT\n",
      "ACACCTCCTCAGACACCAGAGGACACACACAGGGGAGAAGCCCTATGTCT\n",
      "\n",
      "GCAGGGAGTGTGGGCGGGGCTTTCGCAATAAGTCACACCTCCTCAGACAC\n",
      "GCAGGGAGTGTGGGCGGGGCTTTCGCAATAAGTCACACCTCCTCAGACAC\n",
      "\n",
      "CAGAGGACACACACAGGGGAGAAGCCCTACGTCTGCAGGGAGTGTGGGCG\n",
      "CAGAGGACACACACAGGGGAGAAGCCCTACGTCTGCAGGGAGTGTGGGCG\n",
      "\n",
      "GGGCTTTAGCGATAGGTCAAGCCTCTGCTATCACCAGAGGACACACACAG\n",
      "GGGCTTTAGCGATAGGTCAAGCCTCTGCTATCACCAGAGGACACACACAG\n",
      "\n",
      "GGGAGAAGCCCTACGTCTGCAGGGAG\n",
      "GGGAGAAGCCCTACGTCTGCAGGGAG\n",
      "\n"
     ]
    }
   ],
   "source": [
    "for i in range(0, len(new_allele), 50):\n",
    "    print(allele_to_seq[\"Av:s:0024:M1S:A-A\"][i:i+50])\n",
    "    print(new_allele[i:i+50])\n",
    "    print()"
   ]
  },
  {
   "cell_type": "code",
   "execution_count": 147,
   "id": "bb66cbd5-df62-45d1-b703-ca5f4be87cfb",
   "metadata": {},
   "outputs": [
    {
     "name": "stdout",
     "output_type": "stream",
     "text": [
      "TGTGGACAAGGTTTCAGTGTTAAATCAGATGTTATTACACACCAAAGGACACATACAGGGGAGAAGCTCTACGTCTGCAGGGAGTGTGGGCGGGGCTTTAGCTGGAAGTCACACCTCCTCATTCACCAGAGGATACACACAGGGGAGAAGCCCTATGTCTGCAGGGAGTGTGGGCGGGGCTTTAGCTGGCAGTCAGTCCTCCTCACTCACCAGAGGACACACACAGGGGAGAAGCCCTATGTCTGCAGGGAGTGTGGGCGGGGCTTTAGCTGGCAGTCAGTCCTCCTCACTCACCAGAGGACACACACAGGGGAGAAGCCCTATGTCTGCAGGGAGTGTGGGCGGGGCTTTAGCCGGCAGTCAGTCCTCCTCACTCACCAGAGGAGACACACAGGGGAGAAGCCCTATGTCTGCAGGGAGTGTGGGCGGGGCTTTAGCCGGCAGTCAGTCCTCCTCACTCACCAGAGGAGACACACAGGGGAGAAGCCCTATGTCTGCAGGGAGTGTGGGCGGGGCTTTAGCTGGCAGTCAGTCCTCCTCAGTCACCAGAGGACACACACAGGGGAGAAGCCCTATGTCTGCAGGGAGTGTGGGCGGGGCTTTAGCTGGCAGTCAGTCCTCCTCACTCACCAGAGGACACACACAGGGGAGAAGCCCTATGTCTGCAGGGAGTGTGGGCGGGGCTTTAGCAATAAGTCACACCTCCTCAGACACCAGAGGACACACACAGGGGAGAAGCCCTATGTCTGCAGGGAGTGTGGGCGGGGCTTTCGCGATAAGTCACACCTCCTCAGACACCAGAGGACACACACAGGGGAGAAGCCCTATGTCTGCAGGGAGTGTGGGCGGGGCTTTAGAGATAAGTCAAACCTCCTCAGTCACCAGAGGACACACACAGGGGAGAAGCCCTATGTCTGCAGGGAGTGTGGGCGGGGCTTTAGCAATAAGTCACACCTCCTCAGACACCAGAGGACACACACAGGGGAGAAGCCCTATGTCTGCAGGGAGTGTGGGCGGGGCTTTCGCAATAAGTCACACCTCCTCAGACACCAGAGGACACACACAGGGGAGAAGCCCTACGTCTGCAGGGAGTGTGGGCGGGGCTTTAGCGATAGGTCAAGCCTCTGCTATCACCAGAGGACACACACAGGGGAGAAGCCCTACGTCTGCAGGGAG\n"
     ]
    }
   ],
   "source": [
    "print(new_allele)"
   ]
  },
  {
   "cell_type": "code",
   "execution_count": null,
   "id": "91e4d82d-28ea-4367-b99b-587323b5b401",
   "metadata": {},
   "outputs": [],
   "source": []
  }
 ],
 "metadata": {
  "kernelspec": {
   "display_name": "sperm",
   "language": "python",
   "name": "sperm"
  },
  "language_info": {
   "codemirror_mode": {
    "name": "ipython",
    "version": 3
   },
   "file_extension": ".py",
   "mimetype": "text/x-python",
   "name": "python",
   "nbconvert_exporter": "python",
   "pygments_lexer": "ipython3",
   "version": "3.11.6"
  }
 },
 "nbformat": 4,
 "nbformat_minor": 5
}
