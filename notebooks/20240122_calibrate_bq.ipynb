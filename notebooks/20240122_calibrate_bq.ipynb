{
 "cells": [
  {
   "cell_type": "code",
   "execution_count": 1,
   "id": "933a95f3-b9eb-4b88-aba1-c19e4891fd0c",
   "metadata": {},
   "outputs": [],
   "source": [
    "%load_ext autoreload\n",
    "%autoreload 2"
   ]
  },
  {
   "cell_type": "code",
   "execution_count": 2,
   "id": "f0a02658-b84a-4b8c-8ebc-795b730b1fab",
   "metadata": {},
   "outputs": [],
   "source": [
    "import numpy as np\n",
    "import pandas as pd\n",
    "import matplotlib as mpl\n",
    "import matplotlib.pyplot as plt\n",
    "\n",
    "from pathlib import Path\n",
    "import tqdm\n",
    "import sys\n",
    "import seaborn as sns\n",
    "import scipy.stats\n",
    "import os\n",
    "import pysam\n",
    "import pprint\n",
    "import pickle\n",
    "import joblib\n",
    "import polars as pl\n",
    "\n",
    "# This is needed before pybedtools to make sure bedtools is imported on sanger JupyterHub \n",
    "os.environ[\"PATH\"] += \":\" + os.path.join(sys.prefix, \"bin\")\n",
    "import pybedtools\n",
    "\n",
    "pd.set_option('display.max_rows', 1000)\n"
   ]
  },
  {
   "cell_type": "code",
   "execution_count": 3,
   "id": "a53360dd-e511-45ba-aeed-a53c4b4decbd",
   "metadata": {},
   "outputs": [],
   "source": [
    "sys.path.append(str(Path(os.getcwd()).parent))\n",
    "from src import liftover, annotate, diagnostics"
   ]
  },
  {
   "cell_type": "code",
   "execution_count": 4,
   "id": "9c85d272-e900-4120-8ae3-207def061f37",
   "metadata": {},
   "outputs": [],
   "source": [
    "aut_chrom_names = [f\"chr{i}\" for i in list(range(1, 23))]\n",
    "chrom_names = aut_chrom_names + [\"chrX\", \"chrY\"]"
   ]
  },
  {
   "cell_type": "markdown",
   "id": "399708b9-2043-4ebc-a604-91db6103ad38",
   "metadata": {},
   "source": [
    "# Choose sample and chrom"
   ]
  },
  {
   "cell_type": "code",
   "execution_count": 5,
   "id": "028e4eef-81ad-443e-9910-25fe4dd0133a",
   "metadata": {},
   "outputs": [],
   "source": [
    "focal_sample_id = \"PD50489e\"\n",
    "t2t_chrom = \"chr2\"\n",
    "denovo_chrom = t2t_chrom + \"_RagTag\"\n",
    "\n"
   ]
  },
  {
   "cell_type": "markdown",
   "id": "8564bd03-7327-41d1-abc6-d929e722d588",
   "metadata": {},
   "source": [
    "# Mix high-conf SNPs and two-sided single nuc mismatches"
   ]
  },
  {
   "cell_type": "markdown",
   "id": "a2fe3616-0aff-463c-8e78-ee6e96df4c3d",
   "metadata": {},
   "source": [
    "## Get mismatches"
   ]
  },
  {
   "cell_type": "code",
   "execution_count": 147,
   "id": "89385a30-f900-4ed9-b864-58d6f212a2ad",
   "metadata": {},
   "outputs": [
    {
     "name": "stdout",
     "output_type": "stream",
     "text": [
      "CPU times: user 8 µs, sys: 0 ns, total: 8 µs\n",
      "Wall time: 10.3 µs\n"
     ]
    }
   ],
   "source": [
    "%%time\n",
    "\n",
    "def do_it_all(focal_sample_id, denovo_chrom):\n",
    "\n",
    "    #\n",
    "    # 1. Get mismatches\n",
    "    #\n",
    "    high_confidence_snp_slack = 10\n",
    "\n",
    "    events_df = pl.scan_parquet(\n",
    "        Path(\"/lustre/scratch126/casm/team154pc/sl17/03.sperm/02.results/01.read_alignment/01.ccs/04.hifiasm/02.hifiasm_0.19.5-r592/02.chromosome_length_scaffolds/\") \\\n",
    "            / f\"{focal_sample_id}\" / \"reads\" / f\"{denovo_chrom}.read_refinement.parquet\"\n",
    "    )\n",
    "\n",
    "    events_df = (events_df\n",
    "        .with_columns(\n",
    "            ((pl.col(\"op1\") != pl.col(\"op2\")) & (pl.col(\"op1\").is_in([7,8]) & pl.col(\"op2\").is_in([7,8])) & (pl.col(\"length\") == 1)).alias(\"is_snp\"),\n",
    "            ((pl.col(\"op1\") == pl.col(\"op2\")) & (pl.col(\"op1\").is_in([8]) & pl.col(\"op2\").is_in([8])) & (pl.col(\"length\") == 1)).alias(\"is_two_sided_mismatch\")\n",
    "        )\n",
    "    )\n",
    "\n",
    "    # Find high confidence SNPs\n",
    "    high_confidence_snps = (events_df\n",
    "        .filter(pl.col(\"is_snp\") | pl.col(\"is_two_sided_mismatch\"))\n",
    "        .join(\n",
    "            (events_df\n",
    "                .select([\"op1\", \"op2\", \"length\", \"read_name\", \"start\", \"end\"])\n",
    "                .filter((pl.col(\"op1\") == pl.col(\"op2\")) & (pl.col(\"op1\") == 7) & (pl.col(\"length\") >= high_confidence_snp_slack))\n",
    "            ),\n",
    "            left_on=[\"start\", \"read_name\"],\n",
    "            right_on=[\"end\", \"read_name\"],\n",
    "        )\n",
    "        .join(\n",
    "            events_df.filter(pl.col(\"length\") == 0),        \n",
    "            left_on=[\"start\", \"read_name\"],\n",
    "            right_on=[\"end\", \"read_name\"],\n",
    "            how=\"anti\",\n",
    "        )\n",
    "        .drop([\"op1_right\", \"op2_right\", \"length_right\", \"start_right\"])\n",
    "        .join(\n",
    "            (events_df\n",
    "                .select([\"op1\", \"op2\", \"length\", \"read_name\", \"start\", \"end\"])\n",
    "                .filter((pl.col(\"op1\") == pl.col(\"op2\")) & (pl.col(\"op1\") == 7) & (pl.col(\"length\") >= high_confidence_snp_slack))\n",
    "            ),\n",
    "            left_on=[\"end\", \"read_name\"],\n",
    "            right_on=[\"start\", \"read_name\"],\n",
    "        )\n",
    "        .join(\n",
    "            events_df.filter(pl.col(\"length\") == 0),        \n",
    "            left_on=[\"end\", \"read_name\"],\n",
    "            right_on=[\"start\", \"read_name\"],\n",
    "            how=\"anti\",\n",
    "        )\n",
    "        .select([\"read_name\", \"start\", \"end\"])\n",
    "        .with_columns(pl.lit(True).alias(\"is_high_conf_mismatch\"))\n",
    "    )\n",
    "\n",
    "    high_conf_mismatches_df = (events_df\n",
    "        .join(high_confidence_snps, on=[\"read_name\", \"start\", \"end\"])\n",
    "    )\n",
    "\n",
    "    high_conf_mismatches_df = high_conf_mismatches_df.collect(streaming=True)\n",
    "    \n",
    "    #\n",
    "    # 2. Filter TRs and low-complexity\n",
    "    root_path = Path(\"/lustre/scratch126/casm/team154pc/sl17/03.sperm\")\n",
    "    scaffolds_path = root_path / \"02.results/01.read_alignment/01.ccs/04.hifiasm/02.hifiasm_0.19.5-r592/02.chromosome_length_scaffolds\"\n",
    "    hap_scaffolds_path = root_path / \"01.data/05.ragtag/03.haplotype_specific_scaffolds\"\n",
    "\n",
    "    filtered_high_conf_mismatches_df = diagnostics.add_tandem_repeat_finder_annotation(\n",
    "        # add this fake field to make it work\n",
    "        high_conf_mismatches_df.with_columns(pl.lit(True).alias(\"is_high_conf_snp\")),\n",
    "        hap_scaffolds_path \\\n",
    "                / f\"{focal_sample_id}\" / \"haplotype_1\" / f\"ragtag.scaffold.expanded.fasta.{denovo_chrom}.trf.dat\",\n",
    "        hap_scaffolds_path \\\n",
    "                / f\"{focal_sample_id}\" / \"haplotype_2\" / f\"ragtag.scaffold.expanded.fasta.{denovo_chrom}.trf.dat\",\n",
    "    )\n",
    "\n",
    "    filtered_high_conf_mismatches_df = diagnostics.add_sdust_annotation(\n",
    "        filtered_high_conf_mismatches_df,\n",
    "        hap_scaffolds_path \\\n",
    "                / f\"{focal_sample_id}\" / \"haplotype_1\" / f\"ragtag.scaffold.expanded.fasta.{denovo_chrom}.sdust.tsv\",\n",
    "        hap_scaffolds_path \\\n",
    "                / f\"{focal_sample_id}\" / \"haplotype_2\" / f\"ragtag.scaffold.expanded.fasta.{denovo_chrom}.sdust.tsv\",\n",
    "    )\n",
    "\n",
    "    filtered_high_conf_mismatches_df = diagnostics.add_high_confidence_annotation(\n",
    "        filtered_high_conf_mismatches_df,\n",
    "        base_qual_min = 0, # Don't filter on this just yet\n",
    "    )\n",
    "\n",
    "    filtered_high_conf_mismatches_df = filtered_high_conf_mismatches_df.filter(\"is_high_conf_snp\")\n",
    "\n",
    "    filtered_high_conf_mismatches_df = filtered_high_conf_mismatches_df.collect()\n",
    "    \n",
    "    #\n",
    "    # 3. Find mismatches supported by flanking high conf SNPs (putative GC)\n",
    "    #\n",
    "    def F(df):\n",
    "        df = (df\n",
    "            .with_columns(\n",
    "                pl.col(\"fits1\").cum_sum().alias(\"fits1_before\"),\n",
    "                pl.col(\"fits1\").cum_sum(reverse=True).alias(\"fits1_after\"),\n",
    "                pl.col(\"fits2\").cum_sum().alias(\"fits2_before\"),\n",
    "                pl.col(\"fits2\").cum_sum(reverse=True).alias(\"fits2_after\"),\n",
    "            )\n",
    "        )\n",
    "        return df\n",
    "\n",
    "    context_df = (filtered_high_conf_mismatches_df\n",
    "        .with_columns(\n",
    "            (pl.col(\"op1\") == 7).alias(\"fits1\").cast(int),\n",
    "            (pl.col(\"op2\") == 7).alias(\"fits2\").cast(int),\n",
    "        )\n",
    "        .sort(\"start\")\n",
    "        .group_by(\"read_name\")    \n",
    "        .map_groups(F)\n",
    "    )\n",
    "    \n",
    "    #\n",
    "    # 4. Calculate stats\n",
    "    # \n",
    "    flanking = 1\n",
    "\n",
    "    putative_gc_df_hap = pl.concat(\n",
    "        [\n",
    "            (context_df\n",
    "                .filter((pl.col(\"op1\") == 8) & (pl.col(\"fits1_before\") >= flanking) & (pl.col(\"fits1_after\") >= flanking))\n",
    "            ),\n",
    "            (context_df\n",
    "                .filter((pl.col(\"op2\") == 8) & (pl.col(\"fits2_before\") >= flanking) & (pl.col(\"fits2_after\") >= flanking))\n",
    "            ),\n",
    "        ]\n",
    "    )\n",
    "\n",
    "    to_round = 1\n",
    "    putative_gc_df_hap_cnt = (putative_gc_df_hap\n",
    "        .with_columns(\n",
    "            (pl.col(\"qual_start1\") // to_round * to_round).alias(\"qual_rounded\"),\n",
    "        )\n",
    "        .group_by([\"qual_rounded\", \"op2\"])\n",
    "        .count()\n",
    "        .pivot(\n",
    "            values=['count'],\n",
    "            index=['qual_rounded'],\n",
    "            columns=['op2'],\n",
    "            aggregate_function='sum'\n",
    "        )\n",
    "        .fill_null(0)\n",
    "        .sort(\"qual_rounded\")\n",
    "        .with_columns(\n",
    "            pl.lit(focal_sample_id).alias(\"focal_sample_id\"),\n",
    "            pl.lit(denovo_chrom).alias(\"chrom\"),\n",
    "        )\n",
    "    )\n",
    "    \n",
    "    return putative_gc_df_hap_cnt"
   ]
  },
  {
   "cell_type": "markdown",
   "id": "d1fcd92e-79c6-4320-8366-571c6fffc7ef",
   "metadata": {},
   "source": [
    "# Get them all"
   ]
  },
  {
   "cell_type": "code",
   "execution_count": 149,
   "id": "d1a378b9-70f6-412c-a385-efa574834b63",
   "metadata": {},
   "outputs": [
    {
     "name": "stdout",
     "output_type": "stream",
     "text": [
      "chr1\n",
      "chr2\n",
      "chr3\n",
      "chr4\n",
      "chr5\n",
      "chr6\n",
      "chr7\n",
      "chr8\n",
      "chr9\n",
      "chr10\n",
      "chr11\n",
      "chr12\n",
      "chr13\n",
      "chr14\n",
      "chr15\n",
      "chr16\n",
      "chr17\n",
      "chr18\n",
      "chr19\n",
      "chr20\n",
      "chr21\n",
      "chr22\n",
      "CPU times: user 39min 33s, sys: 15min 6s, total: 54min 39s\n",
      "Wall time: 26min 24s\n"
     ]
    }
   ],
   "source": [
    "%%time \n",
    "dfs = []\n",
    "for chrom in aut_chrom_names:\n",
    "    print(chrom)\n",
    "    dfs.append(do_it_all(focal_sample_id, chrom + \"_RagTag\"))"
   ]
  },
  {
   "cell_type": "code",
   "execution_count": null,
   "id": "a97554c8-fc8d-4c0e-8df5-3172923bc07d",
   "metadata": {},
   "outputs": [],
   "source": []
  },
  {
   "cell_type": "markdown",
   "id": "0463a1fe-9365-48e6-9ed0-5e462bab7c64",
   "metadata": {},
   "source": [
    "# Plot it all"
   ]
  },
  {
   "cell_type": "code",
   "execution_count": 171,
   "id": "46ec78e7-3261-4930-bd7b-2d652f9ca843",
   "metadata": {},
   "outputs": [
    {
     "name": "stdout",
     "output_type": "stream",
     "text": [
      "CPU times: user 957 µs, sys: 374 µs, total: 1.33 ms\n",
      "Wall time: 729 µs\n"
     ]
    }
   ],
   "source": [
    "%%time\n",
    "putative_gc_df_hap_cnt = pl.concat(dfs[15:16]).group_by([\"qual_rounded\"]).agg(pl.col(\"7\").sum(), pl.col(\"8\").sum())"
   ]
  },
  {
   "cell_type": "code",
   "execution_count": null,
   "id": "cf988b90-8807-44ba-b0fd-d8f2c07b68ed",
   "metadata": {},
   "outputs": [],
   "source": []
  },
  {
   "cell_type": "code",
   "execution_count": 172,
   "id": "3b8e8404-2bc8-4c87-9959-26f14ad28f87",
   "metadata": {},
   "outputs": [
    {
     "data": {
      "image/png": "[encoded data removed]",
      "text/plain": [
       "<Figure size 640x480 with 1 Axes>"
      ]
     },
     "metadata": {},
     "output_type": "display_data"
    }
   ],
   "source": [
    "import statsmodels.stats.proportion\n",
    "\n",
    "p = putative_gc_df_hap_cnt[\"7\"] / (putative_gc_df_hap_cnt[\"7\"] + putative_gc_df_hap_cnt[\"8\"])\n",
    "lo, hi = statsmodels.stats.proportion.proportion_confint(putative_gc_df_hap_cnt[\"7\"], (putative_gc_df_hap_cnt[\"7\"] + putative_gc_df_hap_cnt[\"8\"]), method=\"beta\", alpha=0.05)\n",
    "\n",
    "plt.errorbar(\n",
    "    x = putative_gc_df_hap_cnt[\"qual_rounded\"],\n",
    "    y = p,\n",
    "    yerr = [p-lo, hi-p],\n",
    "    fmt = '.'\n",
    ")\n",
    "\n",
    "plt.xlabel(\"BQ\");\n",
    "plt.ylabel(\"Frac. of putative GC flipping to other allele\");\n",
    "plt.ylim(0,0.4);\n"
   ]
  },
  {
   "cell_type": "code",
   "execution_count": null,
   "id": "60c72a65-e5dc-4065-be56-eb734978c06f",
   "metadata": {},
   "outputs": [],
   "source": []
  },
  {
   "cell_type": "code",
   "execution_count": 96,
   "id": "0a756635-9464-406f-b78d-4581e9c5134d",
   "metadata": {},
   "outputs": [
    {
     "data": {
      "text/html": [
       "<div><style>\n",
       ".dataframe > thead > tr,\n",
       ".dataframe > tbody > tr {\n",
       "  text-align: right;\n",
       "  white-space: pre-wrap;\n",
       "}\n",
       "</style>\n",
       "<small>shape: (2_027, 38)</small><table border=\"1\" class=\"dataframe\"><thead><tr><th>start</th><th>end</th><th>length</th><th>op1</th><th>op2</th><th>ref1_start</th><th>ref1_end</th><th>ref1_gap</th><th>ref2_start</th><th>ref2_end</th><th>ref2_gap</th><th>cigar_ptr1</th><th>cigar_ptr2</th><th>read_name</th><th>is_forward1</th><th>is_forward2</th><th>read_length1</th><th>read_length2</th><th>mapq1</th><th>mapq2</th><th>qual_start1</th><th>qual_start2</th><th>is_snp</th><th>is_two_sided_mismatch</th><th>is_high_conf_mismatch</th><th>is_high_conf_snp</th><th>trf_repeat_length_hap1</th><th>trf_n_copies_hap1</th><th>trf_repeat_length_hap2</th><th>trf_n_copies_hap2</th><th>sdust_repeat_length_hap1</th><th>sdust_repeat_length_hap2</th><th>fits1</th><th>fits2</th><th>fits1_before</th><th>fits1_after</th><th>fits2_before</th><th>fits2_after</th></tr><tr><td>i64</td><td>i64</td><td>i64</td><td>i64</td><td>i64</td><td>i64</td><td>i64</td><td>i64</td><td>i64</td><td>i64</td><td>i64</td><td>i64</td><td>i64</td><td>str</td><td>bool</td><td>bool</td><td>i32</td><td>i32</td><td>i32</td><td>i32</td><td>u8</td><td>u8</td><td>bool</td><td>bool</td><td>bool</td><td>bool</td><td>i64</td><td>f64</td><td>i64</td><td>f64</td><td>i32</td><td>i32</td><td>i64</td><td>i64</td><td>i64</td><td>i64</td><td>i64</td><td>i64</td></tr></thead><tbody><tr><td>3084</td><td>3085</td><td>1</td><td>8</td><td>8</td><td>205316680</td><td>205316681</td><td>1</td><td>205021574</td><td>205021575</td><td>1</td><td>10</td><td>36</td><td>&quot;m64174e_220620_110709/18286182/ccs&quot;</td><td>true</td><td>true</td><td>14067</td><td>14067</td><td>60</td><td>60</td><td>93</td><td>93</td><td>false</td><td>true</td><td>true</td><td>true</td><td>0</td><td>0.0</td><td>0</td><td>0.0</td><td>0</td><td>0</td><td>0</td><td>0</td><td>13</td><td>26</td><td>0</td><td>0</td></tr><tr><td>1790</td><td>1791</td><td>1</td><td>8</td><td>8</td><td>27255682</td><td>27255683</td><td>1</td><td>26736112</td><td>26736113</td><td>1</td><td>3</td><td>5</td><td>&quot;m64174e_220620_110709/179045797/ccs&quot;</td><td>true</td><td>true</td><td>14841</td><td>14841</td><td>60</td><td>60</td><td>93</td><td>93</td><td>false</td><td>true</td><td>true</td><td>true</td><td>0</td><td>0.0</td><td>0</td><td>0.0</td><td>0</td><td>0</td><td>0</td><td>0</td><td>1</td><td>6</td><td>0</td><td>0</td></tr><tr><td>7194</td><td>7195</td><td>1</td><td>8</td><td>8</td><td>14164713</td><td>14164714</td><td>1</td><td>13651095</td><td>13651096</td><td>1</td><td>11</td><td>25</td><td>&quot;m64094e_220717_002414/51185215/ccs&quot;</td><td>true</td><td>true</td><td>10971</td><td>10971</td><td>60</td><td>60</td><td>93</td><td>93</td><td>false</td><td>true</td><td>true</td><td>true</td><td>0</td><td>0.0</td><td>0</td><td>0.0</td><td>0</td><td>0</td><td>0</td><td>0</td><td>7</td><td>5</td><td>0</td><td>0</td></tr><tr><td>849</td><td>850</td><td>1</td><td>8</td><td>8</td><td>187823914</td><td>187823915</td><td>1</td><td>187590598</td><td>187590599</td><td>1</td><td>1</td><td>3</td><td>&quot;m64094e_220715_151527/122487380/ccs&quot;</td><td>true</td><td>true</td><td>6408</td><td>6408</td><td>60</td><td>60</td><td>93</td><td>93</td><td>false</td><td>true</td><td>true</td><td>true</td><td>0</td><td>0.0</td><td>0</td><td>0.0</td><td>0</td><td>0</td><td>0</td><td>0</td><td>1</td><td>3</td><td>0</td><td>0</td></tr><tr><td>7974</td><td>7975</td><td>1</td><td>8</td><td>8</td><td>37690887</td><td>37690888</td><td>1</td><td>37138618</td><td>37138619</td><td>1</td><td>5</td><td>29</td><td>&quot;m64094e_220715_151527/24120125/ccs&quot;</td><td>true</td><td>true</td><td>17380</td><td>17380</td><td>60</td><td>60</td><td>93</td><td>93</td><td>false</td><td>true</td><td>true</td><td>true</td><td>0</td><td>0.0</td><td>0</td><td>0.0</td><td>0</td><td>0</td><td>0</td><td>0</td><td>9</td><td>4</td><td>0</td><td>0</td></tr><tr><td>12130</td><td>12131</td><td>1</td><td>8</td><td>8</td><td>81100849</td><td>81100850</td><td>1</td><td>79973513</td><td>79973514</td><td>1</td><td>7</td><td>15</td><td>&quot;m64174e_220620_110709/64424188/ccs&quot;</td><td>true</td><td>true</td><td>14038</td><td>14038</td><td>60</td><td>60</td><td>93</td><td>93</td><td>false</td><td>true</td><td>true</td><td>true</td><td>0</td><td>0.0</td><td>0</td><td>0.0</td><td>0</td><td>0</td><td>0</td><td>0</td><td>2</td><td>2</td><td>0</td><td>0</td></tr><tr><td>5248</td><td>5249</td><td>1</td><td>8</td><td>8</td><td>235512610</td><td>235512611</td><td>1</td><td>234960716</td><td>234960717</td><td>1</td><td>3</td><td>23</td><td>&quot;m64094e_220715_151527/132317198/ccs&quot;</td><td>true</td><td>true</td><td>10887</td><td>10887</td><td>60</td><td>60</td><td>93</td><td>93</td><td>false</td><td>true</td><td>true</td><td>true</td><td>0</td><td>0.0</td><td>0</td><td>0.0</td><td>0</td><td>0</td><td>0</td><td>0</td><td>1</td><td>8</td><td>0</td><td>0</td></tr><tr><td>3800</td><td>3801</td><td>1</td><td>8</td><td>8</td><td>46540554</td><td>46540555</td><td>1</td><td>45855236</td><td>45855237</td><td>1</td><td>5</td><td>13</td><td>&quot;m64094e_220717_002414/72482991/ccs&quot;</td><td>true</td><td>true</td><td>6212</td><td>6212</td><td>60</td><td>60</td><td>93</td><td>93</td><td>false</td><td>true</td><td>true</td><td>true</td><td>0</td><td>0.0</td><td>0</td><td>0.0</td><td>0</td><td>0</td><td>0</td><td>0</td><td>4</td><td>1</td><td>0</td><td>0</td></tr><tr><td>4863</td><td>4864</td><td>1</td><td>8</td><td>8</td><td>210415955</td><td>210415956</td><td>1</td><td>210143543</td><td>210143544</td><td>1</td><td>5</td><td>23</td><td>&quot;m64174e_220620_110709/46336105/ccs&quot;</td><td>true</td><td>true</td><td>19277</td><td>19277</td><td>60</td><td>60</td><td>93</td><td>93</td><td>false</td><td>true</td><td>true</td><td>true</td><td>0</td><td>0.0</td><td>0</td><td>0.0</td><td>0</td><td>0</td><td>0</td><td>0</td><td>8</td><td>12</td><td>0</td><td>0</td></tr><tr><td>762</td><td>763</td><td>1</td><td>8</td><td>8</td><td>53741117</td><td>53741118</td><td>1</td><td>52928568</td><td>52928569</td><td>1</td><td>1</td><td>3</td><td>&quot;m64094e_220715_151527/124584488/ccs&quot;</td><td>true</td><td>true</td><td>3981</td><td>3981</td><td>60</td><td>60</td><td>93</td><td>93</td><td>false</td><td>true</td><td>true</td><td>true</td><td>0</td><td>0.0</td><td>0</td><td>0.0</td><td>0</td><td>0</td><td>0</td><td>0</td><td>1</td><td>8</td><td>0</td><td>0</td></tr><tr><td>1889</td><td>1890</td><td>1</td><td>8</td><td>8</td><td>116638624</td><td>116638625</td><td>1</td><td>117336142</td><td>117336143</td><td>1</td><td>41</td><td>49</td><td>&quot;m64094e_220715_151527/130680278/ccs&quot;</td><td>true</td><td>true</td><td>4850</td><td>4850</td><td>60</td><td>60</td><td>93</td><td>93</td><td>false</td><td>true</td><td>true</td><td>true</td><td>0</td><td>0.0</td><td>0</td><td>0.0</td><td>0</td><td>0</td><td>0</td><td>0</td><td>3</td><td>3</td><td>0</td><td>0</td></tr><tr><td>2195</td><td>2196</td><td>1</td><td>8</td><td>8</td><td>181090526</td><td>181090527</td><td>1</td><td>180887447</td><td>180887448</td><td>1</td><td>1</td><td>11</td><td>&quot;m64094e_220715_151527/4851554/ccs&quot;</td><td>true</td><td>true</td><td>5240</td><td>5240</td><td>60</td><td>60</td><td>93</td><td>93</td><td>false</td><td>true</td><td>true</td><td>true</td><td>0</td><td>0.0</td><td>0</td><td>0.0</td><td>0</td><td>0</td><td>0</td><td>0</td><td>4</td><td>2</td><td>0</td><td>0</td></tr><tr><td>3138</td><td>3139</td><td>1</td><td>8</td><td>8</td><td>181091467</td><td>181091468</td><td>1</td><td>180888388</td><td>180888389</td><td>1</td><td>45</td><td>57</td><td>&quot;m64094e_220715_151527/4851554/ccs&quot;</td><td>true</td><td>true</td><td>5240</td><td>5240</td><td>60</td><td>60</td><td>93</td><td>93</td><td>false</td><td>true</td><td>true</td><td>true</td><td>0</td><td>0.0</td><td>0</td><td>0.0</td><td>0</td><td>0</td><td>0</td><td>0</td><td>5</td><td>1</td><td>0</td><td>0</td></tr><tr><td>3213</td><td>3214</td><td>1</td><td>8</td><td>8</td><td>181091539</td><td>181091540</td><td>1</td><td>180888460</td><td>180888461</td><td>1</td><td>55</td><td>67</td><td>&quot;m64094e_220715_151527/4851554/ccs&quot;</td><td>true</td><td>true</td><td>5240</td><td>5240</td><td>60</td><td>60</td><td>93</td><td>93</td><td>false</td><td>true</td><td>true</td><td>true</td><td>0</td><td>0.0</td><td>0</td><td>0.0</td><td>0</td><td>0</td><td>0</td><td>0</td><td>5</td><td>1</td><td>0</td><td>0</td></tr><tr><td>6759</td><td>6760</td><td>1</td><td>8</td><td>8</td><td>185354031</td><td>185354032</td><td>1</td><td>185121142</td><td>185121143</td><td>1</td><td>3</td><td>15</td><td>&quot;m64094e_220717_002414/87164088/ccs&quot;</td><td>true</td><td>true</td><td>15700</td><td>15700</td><td>60</td><td>60</td><td>93</td><td>93</td><td>false</td><td>true</td><td>true</td><td>true</td><td>0</td><td>0.0</td><td>0</td><td>0.0</td><td>0</td><td>0</td><td>0</td><td>0</td><td>5</td><td>21</td><td>0</td><td>0</td></tr><tr><td>2108</td><td>2109</td><td>1</td><td>8</td><td>8</td><td>55088204</td><td>55088205</td><td>1</td><td>54243980</td><td>54243981</td><td>1</td><td>7</td><td>13</td><td>&quot;m64094e_220717_002414/32114316/ccs&quot;</td><td>true</td><td>true</td><td>6157</td><td>6157</td><td>60</td><td>60</td><td>93</td><td>93</td><td>false</td><td>true</td><td>true</td><td>true</td><td>0</td><td>0.0</td><td>0</td><td>0.0</td><td>0</td><td>0</td><td>0</td><td>0</td><td>4</td><td>3</td><td>0</td><td>0</td></tr><tr><td>1174</td><td>1175</td><td>1</td><td>8</td><td>8</td><td>178928885</td><td>178928886</td><td>1</td><td>178725762</td><td>178725763</td><td>1</td><td>69</td><td>73</td><td>&quot;m64174e_220620_110709/10029403/ccs&quot;</td><td>true</td><td>true</td><td>18794</td><td>18794</td><td>60</td><td>60</td><td>93</td><td>93</td><td>false</td><td>true</td><td>true</td><td>true</td><td>0</td><td>0.0</td><td>0</td><td>0.0</td><td>0</td><td>0</td><td>0</td><td>0</td><td>1</td><td>14</td><td>0</td><td>0</td></tr><tr><td>1673</td><td>1674</td><td>1</td><td>8</td><td>8</td><td>56545205</td><td>56545206</td><td>1</td><td>55672978</td><td>55672979</td><td>1</td><td>3</td><td>13</td><td>&quot;m64094e_220717_002414/174457960/ccs&quot;</td><td>true</td><td>true</td><td>5347</td><td>5347</td><td>60</td><td>60</td><td>93</td><td>93</td><td>false</td><td>true</td><td>true</td><td>true</td><td>0</td><td>0.0</td><td>0</td><td>0.0</td><td>0</td><td>0</td><td>0</td><td>0</td><td>5</td><td>2</td><td>0</td><td>0</td></tr><tr><td>538</td><td>539</td><td>1</td><td>8</td><td>8</td><td>200074598</td><td>200074599</td><td>1</td><td>199784123</td><td>199784124</td><td>1</td><td>43</td><td>45</td><td>&quot;m64094e_220717_002414/42402447/ccs&quot;</td><td>true</td><td>true</td><td>4569</td><td>4569</td><td>60</td><td>60</td><td>93</td><td>93</td><td>false</td><td>true</td><td>true</td><td>true</td><td>0</td><td>0.0</td><td>0</td><td>0.0</td><td>0</td><td>0</td><td>0</td><td>0</td><td>1</td><td>1</td><td>0</td><td>0</td></tr><tr><td>1420</td><td>1421</td><td>1</td><td>8</td><td>8</td><td>112977865</td><td>112977866</td><td>1</td><td>113589864</td><td>113589865</td><td>1</td><td>7</td><td>13</td><td>&quot;m64094e_220715_151527/12320792/ccs&quot;</td><td>true</td><td>true</td><td>7811</td><td>7811</td><td>60</td><td>60</td><td>93</td><td>93</td><td>false</td><td>true</td><td>true</td><td>true</td><td>0</td><td>0.0</td><td>0</td><td>0.0</td><td>0</td><td>0</td><td>0</td><td>0</td><td>1</td><td>5</td><td>0</td><td>0</td></tr><tr><td>8970</td><td>8971</td><td>1</td><td>8</td><td>8</td><td>40876780</td><td>40876781</td><td>1</td><td>40239165</td><td>40239166</td><td>1</td><td>1275</td><td>1299</td><td>&quot;m64094e_220715_151527/113576011/ccs&quot;</td><td>true</td><td>true</td><td>11770</td><td>11770</td><td>60</td><td>60</td><td>93</td><td>93</td><td>false</td><td>true</td><td>true</td><td>true</td><td>0</td><td>0.0</td><td>0</td><td>0.0</td><td>0</td><td>0</td><td>0</td><td>0</td><td>2</td><td>1</td><td>0</td><td>0</td></tr><tr><td>1614</td><td>1615</td><td>1</td><td>8</td><td>7</td><td>91055863</td><td>91055864</td><td>1</td><td>90525550</td><td>90525551</td><td>1</td><td>57</td><td>2</td><td>&quot;m64094e_220715_151527/97322280/ccs&quot;</td><td>false</td><td>true</td><td>7047</td><td>7047</td><td>54</td><td>39</td><td>93</td><td>46</td><td>true</td><td>false</td><td>true</td><td>true</td><td>0</td><td>0.0</td><td>0</td><td>0.0</td><td>0</td><td>0</td><td>0</td><td>1</td><td>1</td><td>5</td><td>6</td><td>3</td></tr><tr><td>2660</td><td>2661</td><td>1</td><td>8</td><td>7</td><td>91056972</td><td>91056973</td><td>1</td><td>90526596</td><td>90526597</td><td>1</td><td>101</td><td>6</td><td>&quot;m64094e_220715_151527/97322280/ccs&quot;</td><td>false</td><td>true</td><td>7047</td><td>7047</td><td>54</td><td>39</td><td>93</td><td>93</td><td>true</td><td>false</td><td>true</td><td>true</td><td>0</td><td>0.0</td><td>0</td><td>0.0</td><td>0</td><td>0</td><td>0</td><td>1</td><td>1</td><td>5</td><td>8</td><td>1</td></tr><tr><td>852</td><td>853</td><td>1</td><td>8</td><td>8</td><td>197678758</td><td>197678759</td><td>1</td><td>197388123</td><td>197388124</td><td>1</td><td>16</td><td>26</td><td>&quot;m64174e_220620_110709/37422265/ccs&quot;</td><td>true</td><td>true</td><td>6623</td><td>6623</td><td>25</td><td>20</td><td>93</td><td>93</td><td>false</td><td>true</td><td>true</td><td>true</td><td>0</td><td>0.0</td><td>0</td><td>0.0</td><td>0</td><td>0</td><td>0</td><td>0</td><td>2</td><td>5</td><td>0</td><td>0</td></tr><tr><td>1247</td><td>1248</td><td>1</td><td>8</td><td>8</td><td>197679151</td><td>197679152</td><td>1</td><td>197388516</td><td>197388517</td><td>1</td><td>22</td><td>34</td><td>&quot;m64174e_220620_110709/37422265/ccs&quot;</td><td>true</td><td>true</td><td>6623</td><td>6623</td><td>25</td><td>20</td><td>93</td><td>93</td><td>false</td><td>true</td><td>true</td><td>true</td><td>0</td><td>0.0</td><td>0</td><td>0.0</td><td>0</td><td>0</td><td>0</td><td>0</td><td>3</td><td>4</td><td>0</td><td>0</td></tr><tr><td>1775</td><td>1776</td><td>1</td><td>8</td><td>8</td><td>197679674</td><td>197679675</td><td>1</td><td>197389039</td><td>197389040</td><td>1</td><td>34</td><td>46</td><td>&quot;m64174e_220620_110709/37422265/ccs&quot;</td><td>true</td><td>true</td><td>6623</td><td>6623</td><td>25</td><td>20</td><td>93</td><td>93</td><td>false</td><td>true</td><td>true</td><td>true</td><td>0</td><td>0.0</td><td>0</td><td>0.0</td><td>0</td><td>0</td><td>0</td><td>0</td><td>3</td><td>4</td><td>0</td><td>0</td></tr><tr><td>2095</td><td>2096</td><td>1</td><td>8</td><td>8</td><td>197679991</td><td>197679992</td><td>1</td><td>197389356</td><td>197389357</td><td>1</td><td>46</td><td>58</td><td>&quot;m64174e_220620_110709/37422265/ccs&quot;</td><td>true</td><td>true</td><td>6623</td><td>6623</td><td>25</td><td>20</td><td>93</td><td>93</td><td>false</td><td>true</td><td>true</td><td>true</td><td>0</td><td>0.0</td><td>0</td><td>0.0</td><td>0</td><td>0</td><td>0</td><td>0</td><td>3</td><td>4</td><td>0</td><td>0</td></tr><tr><td>2358</td><td>2359</td><td>1</td><td>8</td><td>8</td><td>197680253</td><td>197680254</td><td>1</td><td>197389618</td><td>197389619</td><td>1</td><td>54</td><td>66</td><td>&quot;m64174e_220620_110709/37422265/ccs&quot;</td><td>true</td><td>true</td><td>6623</td><td>6623</td><td>25</td><td>20</td><td>93</td><td>93</td><td>false</td><td>true</td><td>true</td><td>true</td><td>0</td><td>0.0</td><td>0</td><td>0.0</td><td>0</td><td>0</td><td>0</td><td>0</td><td>3</td><td>4</td><td>0</td><td>0</td></tr><tr><td>3060</td><td>3061</td><td>1</td><td>8</td><td>8</td><td>197680955</td><td>197680956</td><td>1</td><td>197390320</td><td>197390321</td><td>1</td><td>68</td><td>80</td><td>&quot;m64174e_220620_110709/37422265/ccs&quot;</td><td>true</td><td>true</td><td>6623</td><td>6623</td><td>25</td><td>20</td><td>93</td><td>93</td><td>false</td><td>true</td><td>true</td><td>true</td><td>0</td><td>0.0</td><td>0</td><td>0.0</td><td>0</td><td>0</td><td>0</td><td>0</td><td>3</td><td>4</td><td>0</td><td>0</td></tr><tr><td>3217</td><td>3218</td><td>1</td><td>8</td><td>8</td><td>197681112</td><td>197681113</td><td>1</td><td>197390477</td><td>197390478</td><td>1</td><td>74</td><td>86</td><td>&quot;m64174e_220620_110709/37422265/ccs&quot;</td><td>true</td><td>true</td><td>6623</td><td>6623</td><td>25</td><td>20</td><td>93</td><td>93</td><td>false</td><td>true</td><td>true</td><td>true</td><td>0</td><td>0.0</td><td>0</td><td>0.0</td><td>0</td><td>0</td><td>0</td><td>0</td><td>3</td><td>4</td><td>0</td><td>0</td></tr><tr><td>3287</td><td>3288</td><td>1</td><td>8</td><td>8</td><td>197681182</td><td>197681183</td><td>1</td><td>197390547</td><td>197390548</td><td>1</td><td>76</td><td>88</td><td>&quot;m64174e_220620_110709/37422265/ccs&quot;</td><td>true</td><td>true</td><td>6623</td><td>6623</td><td>25</td><td>20</td><td>93</td><td>93</td><td>false</td><td>true</td><td>true</td><td>true</td><td>0</td><td>0.0</td><td>0</td><td>0.0</td><td>0</td><td>0</td><td>0</td><td>0</td><td>3</td><td>4</td><td>0</td><td>0</td></tr><tr><td>4572</td><td>4573</td><td>1</td><td>8</td><td>8</td><td>197682463</td><td>197682464</td><td>1</td><td>197391828</td><td>197391829</td><td>1</td><td>112</td><td>126</td><td>&quot;m64174e_220620_110709/37422265/ccs&quot;</td><td>true</td><td>true</td><td>6623</td><td>6623</td><td>25</td><td>20</td><td>93</td><td>93</td><td>false</td><td>true</td><td>true</td><td>true</td><td>0</td><td>0.0</td><td>0</td><td>0.0</td><td>0</td><td>0</td><td>0</td><td>0</td><td>4</td><td>3</td><td>0</td><td>0</td></tr><tr><td>1582</td><td>1583</td><td>1</td><td>8</td><td>8</td><td>55297202</td><td>55297203</td><td>1</td><td>54454877</td><td>54454878</td><td>1</td><td>3</td><td>7</td><td>&quot;m64094e_220715_151527/21496489/ccs&quot;</td><td>true</td><td>true</td><td>8274</td><td>8274</td><td>60</td><td>60</td><td>93</td><td>93</td><td>false</td><td>true</td><td>true</td><td>true</td><td>0</td><td>0.0</td><td>0</td><td>0.0</td><td>0</td><td>0</td><td>0</td><td>0</td><td>1</td><td>2</td><td>0</td><td>0</td></tr><tr><td>17759</td><td>17760</td><td>1</td><td>8</td><td>8</td><td>156787075</td><td>156787076</td><td>1</td><td>156769441</td><td>156769442</td><td>1</td><td>13</td><td>41</td><td>&quot;m64174e_220620_110709/96208592/ccs&quot;</td><td>true</td><td>true</td><td>17910</td><td>17910</td><td>60</td><td>60</td><td>93</td><td>93</td><td>false</td><td>true</td><td>true</td><td>true</td><td>0</td><td>0.0</td><td>0</td><td>0.0</td><td>0</td><td>0</td><td>0</td><td>0</td><td>9</td><td>1</td><td>0</td><td>0</td></tr><tr><td>1165</td><td>1166</td><td>1</td><td>8</td><td>8</td><td>120079282</td><td>120079283</td><td>1</td><td>120794496</td><td>120794497</td><td>1</td><td>1</td><td>9</td><td>&quot;m64094e_220715_151527/20514950/ccs&quot;</td><td>true</td><td>true</td><td>7886</td><td>7886</td><td>60</td><td>60</td><td>93</td><td>93</td><td>false</td><td>true</td><td>true</td><td>true</td><td>0</td><td>0.0</td><td>0</td><td>0.0</td><td>0</td><td>0</td><td>0</td><td>0</td><td>4</td><td>7</td><td>0</td><td>0</td></tr><tr><td>520</td><td>521</td><td>1</td><td>8</td><td>8</td><td>113096561</td><td>113096562</td><td>1</td><td>113755718</td><td>113755719</td><td>1</td><td>35</td><td>35</td><td>&quot;m64094e_220717_002414/66257454/ccs&quot;</td><td>false</td><td>false</td><td>9714</td><td>9714</td><td>60</td><td>60</td><td>93</td><td>93</td><td>false</td><td>true</td><td>true</td><td>true</td><td>0</td><td>0.0</td><td>0</td><td>0.0</td><td>0</td><td>0</td><td>0</td><td>0</td><td>1</td><td>10</td><td>1</td><td>5</td></tr><tr><td>963</td><td>964</td><td>1</td><td>8</td><td>8</td><td>113096979</td><td>113096980</td><td>1</td><td>113756141</td><td>113756142</td><td>1</td><td>47</td><td>45</td><td>&quot;m64094e_220717_002414/66257454/ccs&quot;</td><td>false</td><td>false</td><td>9714</td><td>9714</td><td>60</td><td>60</td><td>93</td><td>93</td><td>false</td><td>true</td><td>true</td><td>true</td><td>0</td><td>0.0</td><td>0</td><td>0.0</td><td>0</td><td>0</td><td>0</td><td>0</td><td>1</td><td>10</td><td>2</td><td>4</td></tr><tr><td>1383</td><td>1384</td><td>1</td><td>8</td><td>8</td><td>113097395</td><td>113097396</td><td>1</td><td>113756555</td><td>113756556</td><td>1</td><td>68</td><td>68</td><td>&quot;m64094e_220717_002414/66257454/ccs&quot;</td><td>false</td><td>false</td><td>9714</td><td>9714</td><td>60</td><td>60</td><td>93</td><td>93</td><td>false</td><td>true</td><td>true</td><td>true</td><td>0</td><td>0.0</td><td>0</td><td>0.0</td><td>0</td><td>0</td><td>0</td><td>0</td><td>1</td><td>10</td><td>2</td><td>4</td></tr><tr><td>1399</td><td>1400</td><td>1</td><td>8</td><td>8</td><td>113097411</td><td>113097412</td><td>1</td><td>113756571</td><td>113756572</td><td>1</td><td>70</td><td>70</td><td>&quot;m64094e_220717_002414/66257454/ccs&quot;</td><td>false</td><td>false</td><td>9714</td><td>9714</td><td>60</td><td>60</td><td>93</td><td>93</td><td>false</td><td>true</td><td>true</td><td>true</td><td>0</td><td>0.0</td><td>0</td><td>0.0</td><td>0</td><td>0</td><td>0</td><td>0</td><td>1</td><td>10</td><td>2</td><td>4</td></tr><tr><td>1539</td><td>1540</td><td>1</td><td>8</td><td>8</td><td>113097547</td><td>113097548</td><td>1</td><td>113756707</td><td>113756708</td><td>1</td><td>79</td><td>79</td><td>&quot;m64094e_220717_002414/66257454/ccs&quot;</td><td>false</td><td>false</td><td>9714</td><td>9714</td><td>60</td><td>60</td><td>93</td><td>93</td><td>false</td><td>true</td><td>true</td><td>true</td><td>0</td><td>0.0</td><td>0</td><td>0.0</td><td>0</td><td>0</td><td>0</td><td>0</td><td>1</td><td>10</td><td>2</td><td>4</td></tr><tr><td>1654</td><td>1655</td><td>1</td><td>8</td><td>8</td><td>113097658</td><td>113097659</td><td>1</td><td>113756818</td><td>113756819</td><td>1</td><td>90</td><td>90</td><td>&quot;m64094e_220717_002414/66257454/ccs&quot;</td><td>false</td><td>false</td><td>9714</td><td>9714</td><td>60</td><td>60</td><td>93</td><td>93</td><td>false</td><td>true</td><td>true</td><td>true</td><td>0</td><td>0.0</td><td>0</td><td>0.0</td><td>0</td><td>0</td><td>0</td><td>0</td><td>1</td><td>10</td><td>2</td><td>4</td></tr><tr><td>1781</td><td>1782</td><td>1</td><td>8</td><td>8</td><td>113097782</td><td>113097783</td><td>1</td><td>113756942</td><td>113756943</td><td>1</td><td>98</td><td>98</td><td>&quot;m64094e_220717_002414/66257454/ccs&quot;</td><td>false</td><td>false</td><td>9714</td><td>9714</td><td>60</td><td>60</td><td>93</td><td>93</td><td>false</td><td>true</td><td>true</td><td>true</td><td>0</td><td>0.0</td><td>0</td><td>0.0</td><td>0</td><td>0</td><td>0</td><td>0</td><td>1</td><td>10</td><td>2</td><td>4</td></tr><tr><td>1804</td><td>1805</td><td>1</td><td>8</td><td>8</td><td>113097805</td><td>113097806</td><td>1</td><td>113756965</td><td>113756966</td><td>1</td><td>100</td><td>100</td><td>&quot;m64094e_220717_002414/66257454/ccs&quot;</td><td>false</td><td>false</td><td>9714</td><td>9714</td><td>60</td><td>60</td><td>93</td><td>93</td><td>false</td><td>true</td><td>true</td><td>true</td><td>0</td><td>0.0</td><td>0</td><td>0.0</td><td>0</td><td>0</td><td>0</td><td>0</td><td>1</td><td>10</td><td>2</td><td>4</td></tr><tr><td>2065</td><td>2066</td><td>1</td><td>8</td><td>7</td><td>113098064</td><td>113098065</td><td>1</td><td>113757224</td><td>113757225</td><td>1</td><td>108</td><td>109</td><td>&quot;m64094e_220717_002414/66257454/ccs&quot;</td><td>false</td><td>false</td><td>9714</td><td>9714</td><td>60</td><td>60</td><td>93</td><td>93</td><td>true</td><td>false</td><td>true</td><td>true</td><td>0</td><td>0.0</td><td>0</td><td>0.0</td><td>0</td><td>0</td><td>0</td><td>1</td><td>2</td><td>9</td><td>3</td><td>4</td></tr><tr><td>2136</td><td>2137</td><td>1</td><td>8</td><td>8</td><td>113098134</td><td>113098135</td><td>1</td><td>113757294</td><td>113757295</td><td>1</td><td>118</td><td>118</td><td>&quot;m64094e_220717_002414/66257454/ccs&quot;</td><td>false</td><td>false</td><td>9714</td><td>9714</td><td>60</td><td>60</td><td>93</td><td>93</td><td>false</td><td>true</td><td>true</td><td>true</td><td>0</td><td>0.0</td><td>0</td><td>0.0</td><td>0</td><td>0</td><td>0</td><td>0</td><td>2</td><td>9</td><td>3</td><td>3</td></tr><tr><td>2166</td><td>2167</td><td>1</td><td>8</td><td>8</td><td>113098164</td><td>113098165</td><td>1</td><td>113757324</td><td>113757325</td><td>1</td><td>120</td><td>120</td><td>&quot;m64094e_220717_002414/66257454/ccs&quot;</td><td>false</td><td>false</td><td>9714</td><td>9714</td><td>60</td><td>60</td><td>93</td><td>93</td><td>false</td><td>true</td><td>true</td><td>true</td><td>0</td><td>0.0</td><td>0</td><td>0.0</td><td>0</td><td>0</td><td>0</td><td>0</td><td>2</td><td>9</td><td>3</td><td>3</td></tr><tr><td>2300</td><td>2301</td><td>1</td><td>8</td><td>8</td><td>113098295</td><td>113098296</td><td>1</td><td>113757455</td><td>113757456</td><td>1</td><td>130</td><td>130</td><td>&quot;m64094e_220717_002414/66257454/ccs&quot;</td><td>false</td><td>false</td><td>9714</td><td>9714</td><td>60</td><td>60</td><td>93</td><td>93</td><td>false</td><td>true</td><td>true</td><td>true</td><td>0</td><td>0.0</td><td>0</td><td>0.0</td><td>0</td><td>0</td><td>0</td><td>0</td><td>2</td><td>9</td><td>3</td><td>3</td></tr><tr><td>3100</td><td>3101</td><td>1</td><td>8</td><td>8</td><td>113099083</td><td>113099084</td><td>1</td><td>113758243</td><td>113758244</td><td>1</td><td>156</td><td>162</td><td>&quot;m64094e_220717_002414/66257454/ccs&quot;</td><td>false</td><td>false</td><td>9714</td><td>9714</td><td>60</td><td>60</td><td>93</td><td>93</td><td>false</td><td>true</td><td>true</td><td>true</td><td>0</td><td>0.0</td><td>0</td><td>0.0</td><td>0</td><td>0</td><td>0</td><td>0</td><td>4</td><td>7</td><td>3</td><td>3</td></tr><tr><td>3372</td><td>3373</td><td>1</td><td>8</td><td>8</td><td>113099350</td><td>113099351</td><td>1</td><td>113758510</td><td>113758511</td><td>1</td><td>170</td><td>178</td><td>&quot;m64094e_220717_002414/66257454/ccs&quot;</td><td>false</td><td>false</td><td>9714</td><td>9714</td><td>60</td><td>60</td><td>93</td><td>93</td><td>false</td><td>true</td><td>true</td><td>true</td><td>0</td><td>0.0</td><td>0</td><td>0.0</td><td>0</td><td>0</td><td>0</td><td>0</td><td>4</td><td>7</td><td>3</td><td>3</td></tr><tr><td>3783</td><td>3784</td><td>1</td><td>8</td><td>8</td><td>113099747</td><td>113099748</td><td>1</td><td>113758910</td><td>113758911</td><td>1</td><td>202</td><td>204</td><td>&quot;m64094e_220717_002414/66257454/ccs&quot;</td><td>false</td><td>false</td><td>9714</td><td>9714</td><td>60</td><td>60</td><td>93</td><td>93</td><td>false</td><td>true</td><td>true</td><td>true</td><td>0</td><td>0.0</td><td>0</td><td>0.0</td><td>0</td><td>0</td><td>0</td><td>0</td><td>4</td><td>7</td><td>3</td><td>3</td></tr><tr><td>&hellip;</td><td>&hellip;</td><td>&hellip;</td><td>&hellip;</td><td>&hellip;</td><td>&hellip;</td><td>&hellip;</td><td>&hellip;</td><td>&hellip;</td><td>&hellip;</td><td>&hellip;</td><td>&hellip;</td><td>&hellip;</td><td>&hellip;</td><td>&hellip;</td><td>&hellip;</td><td>&hellip;</td><td>&hellip;</td><td>&hellip;</td><td>&hellip;</td><td>&hellip;</td><td>&hellip;</td><td>&hellip;</td><td>&hellip;</td><td>&hellip;</td><td>&hellip;</td><td>&hellip;</td><td>&hellip;</td><td>&hellip;</td><td>&hellip;</td><td>&hellip;</td><td>&hellip;</td><td>&hellip;</td><td>&hellip;</td><td>&hellip;</td><td>&hellip;</td><td>&hellip;</td><td>&hellip;</td></tr><tr><td>829</td><td>830</td><td>1</td><td>8</td><td>8</td><td>58272044</td><td>58272045</td><td>1</td><td>57366956</td><td>57366957</td><td>1</td><td>15</td><td>13</td><td>&quot;m64094e_220715_151527/7340124/ccs&quot;</td><td>true</td><td>true</td><td>3995</td><td>3995</td><td>60</td><td>60</td><td>93</td><td>93</td><td>false</td><td>true</td><td>true</td><td>true</td><td>0</td><td>0.0</td><td>0</td><td>0.0</td><td>0</td><td>0</td><td>0</td><td>0</td><td>0</td><td>1</td><td>1</td><td>5</td></tr><tr><td>970</td><td>971</td><td>1</td><td>8</td><td>8</td><td>58272184</td><td>58272185</td><td>1</td><td>57367096</td><td>57367097</td><td>1</td><td>23</td><td>21</td><td>&quot;m64094e_220715_151527/7340124/ccs&quot;</td><td>true</td><td>true</td><td>3995</td><td>3995</td><td>60</td><td>60</td><td>93</td><td>93</td><td>false</td><td>true</td><td>true</td><td>true</td><td>0</td><td>0.0</td><td>0</td><td>0.0</td><td>0</td><td>0</td><td>0</td><td>0</td><td>0</td><td>1</td><td>1</td><td>5</td></tr><tr><td>1031</td><td>1032</td><td>1</td><td>8</td><td>8</td><td>58272245</td><td>58272246</td><td>1</td><td>57367157</td><td>57367158</td><td>1</td><td>27</td><td>23</td><td>&quot;m64094e_220715_151527/7340124/ccs&quot;</td><td>true</td><td>true</td><td>3995</td><td>3995</td><td>60</td><td>60</td><td>93</td><td>93</td><td>false</td><td>true</td><td>true</td><td>true</td><td>0</td><td>0.0</td><td>0</td><td>0.0</td><td>0</td><td>0</td><td>0</td><td>0</td><td>0</td><td>1</td><td>2</td><td>4</td></tr><tr><td>1172</td><td>1173</td><td>1</td><td>8</td><td>8</td><td>58272385</td><td>58272386</td><td>1</td><td>57367297</td><td>57367298</td><td>1</td><td>31</td><td>27</td><td>&quot;m64094e_220715_151527/7340124/ccs&quot;</td><td>true</td><td>true</td><td>3995</td><td>3995</td><td>60</td><td>60</td><td>93</td><td>93</td><td>false</td><td>true</td><td>true</td><td>true</td><td>0</td><td>0.0</td><td>0</td><td>0.0</td><td>0</td><td>0</td><td>0</td><td>0</td><td>0</td><td>1</td><td>2</td><td>4</td></tr><tr><td>1250</td><td>1251</td><td>1</td><td>8</td><td>8</td><td>58272463</td><td>58272464</td><td>1</td><td>57367375</td><td>57367376</td><td>1</td><td>35</td><td>31</td><td>&quot;m64094e_220715_151527/7340124/ccs&quot;</td><td>true</td><td>true</td><td>3995</td><td>3995</td><td>60</td><td>60</td><td>93</td><td>93</td><td>false</td><td>true</td><td>true</td><td>true</td><td>0</td><td>0.0</td><td>0</td><td>0.0</td><td>0</td><td>0</td><td>0</td><td>0</td><td>0</td><td>1</td><td>2</td><td>4</td></tr><tr><td>1748</td><td>1749</td><td>1</td><td>8</td><td>8</td><td>58272956</td><td>58272957</td><td>1</td><td>57367868</td><td>57367869</td><td>1</td><td>61</td><td>57</td><td>&quot;m64094e_220715_151527/7340124/ccs&quot;</td><td>true</td><td>true</td><td>3995</td><td>3995</td><td>60</td><td>60</td><td>93</td><td>93</td><td>false</td><td>true</td><td>true</td><td>true</td><td>0</td><td>0.0</td><td>0</td><td>0.0</td><td>0</td><td>0</td><td>0</td><td>0</td><td>0</td><td>1</td><td>2</td><td>4</td></tr><tr><td>1912</td><td>1913</td><td>1</td><td>8</td><td>8</td><td>58273119</td><td>58273120</td><td>1</td><td>57368031</td><td>57368032</td><td>1</td><td>71</td><td>67</td><td>&quot;m64094e_220715_151527/7340124/ccs&quot;</td><td>true</td><td>true</td><td>3995</td><td>3995</td><td>60</td><td>60</td><td>93</td><td>93</td><td>false</td><td>true</td><td>true</td><td>true</td><td>0</td><td>0.0</td><td>0</td><td>0.0</td><td>0</td><td>0</td><td>0</td><td>0</td><td>0</td><td>1</td><td>2</td><td>4</td></tr><tr><td>2050</td><td>2051</td><td>1</td><td>8</td><td>8</td><td>58273258</td><td>58273259</td><td>1</td><td>57368170</td><td>57368171</td><td>1</td><td>81</td><td>75</td><td>&quot;m64094e_220715_151527/7340124/ccs&quot;</td><td>true</td><td>true</td><td>3995</td><td>3995</td><td>60</td><td>60</td><td>93</td><td>93</td><td>false</td><td>true</td><td>true</td><td>true</td><td>0</td><td>0.0</td><td>0</td><td>0.0</td><td>0</td><td>0</td><td>0</td><td>0</td><td>0</td><td>1</td><td>3</td><td>3</td></tr><tr><td>2149</td><td>2150</td><td>1</td><td>8</td><td>8</td><td>58273356</td><td>58273357</td><td>1</td><td>57368268</td><td>57368269</td><td>1</td><td>85</td><td>79</td><td>&quot;m64094e_220715_151527/7340124/ccs&quot;</td><td>true</td><td>true</td><td>3995</td><td>3995</td><td>60</td><td>60</td><td>93</td><td>93</td><td>false</td><td>true</td><td>true</td><td>true</td><td>0</td><td>0.0</td><td>0</td><td>0.0</td><td>0</td><td>0</td><td>0</td><td>0</td><td>0</td><td>1</td><td>3</td><td>3</td></tr><tr><td>2206</td><td>2207</td><td>1</td><td>8</td><td>8</td><td>58273413</td><td>58273414</td><td>1</td><td>57368325</td><td>57368326</td><td>1</td><td>87</td><td>81</td><td>&quot;m64094e_220715_151527/7340124/ccs&quot;</td><td>true</td><td>true</td><td>3995</td><td>3995</td><td>60</td><td>60</td><td>93</td><td>93</td><td>false</td><td>true</td><td>true</td><td>true</td><td>0</td><td>0.0</td><td>0</td><td>0.0</td><td>0</td><td>0</td><td>0</td><td>0</td><td>0</td><td>1</td><td>3</td><td>3</td></tr><tr><td>2368</td><td>2369</td><td>1</td><td>8</td><td>8</td><td>58273575</td><td>58273576</td><td>1</td><td>57368487</td><td>57368488</td><td>1</td><td>89</td><td>83</td><td>&quot;m64094e_220715_151527/7340124/ccs&quot;</td><td>true</td><td>true</td><td>3995</td><td>3995</td><td>60</td><td>60</td><td>93</td><td>93</td><td>false</td><td>true</td><td>true</td><td>true</td><td>0</td><td>0.0</td><td>0</td><td>0.0</td><td>0</td><td>0</td><td>0</td><td>0</td><td>0</td><td>1</td><td>3</td><td>3</td></tr><tr><td>824</td><td>825</td><td>1</td><td>7</td><td>8</td><td>206926619</td><td>206926620</td><td>1</td><td>206628781</td><td>206628782</td><td>1</td><td>21</td><td>20</td><td>&quot;m64094e_220717_002414/149947853/ccs&quot;</td><td>true</td><td>true</td><td>6330</td><td>6330</td><td>60</td><td>60</td><td>93</td><td>93</td><td>true</td><td>false</td><td>true</td><td>true</td><td>0</td><td>0.0</td><td>0</td><td>0.0</td><td>0</td><td>0</td><td>1</td><td>0</td><td>1</td><td>1</td><td>1</td><td>7</td></tr><tr><td>5688</td><td>5689</td><td>1</td><td>8</td><td>8</td><td>173458745</td><td>173458746</td><td>1</td><td>173323807</td><td>173323808</td><td>1</td><td>25</td><td>11</td><td>&quot;m64174e_220620_110709/128845330/ccs&quot;</td><td>true</td><td>true</td><td>19681</td><td>19681</td><td>60</td><td>60</td><td>93</td><td>93</td><td>false</td><td>true</td><td>true</td><td>true</td><td>0</td><td>0.0</td><td>0</td><td>0.0</td><td>0</td><td>0</td><td>0</td><td>0</td><td>0</td><td>0</td><td>5</td><td>20</td></tr><tr><td>8107</td><td>8108</td><td>1</td><td>8</td><td>8</td><td>195313138</td><td>195313139</td><td>1</td><td>195023028</td><td>195023029</td><td>1</td><td>19</td><td>3</td><td>&quot;m64094e_220717_002414/119866761/ccs&quot;</td><td>true</td><td>true</td><td>9074</td><td>9074</td><td>60</td><td>60</td><td>93</td><td>93</td><td>false</td><td>true</td><td>true</td><td>true</td><td>0</td><td>0.0</td><td>0</td><td>0.0</td><td>0</td><td>0</td><td>0</td><td>0</td><td>0</td><td>0</td><td>3</td><td>2</td></tr><tr><td>1767</td><td>1768</td><td>1</td><td>7</td><td>8</td><td>239853286</td><td>239853287</td><td>1</td><td>239294112</td><td>239294113</td><td>1</td><td>4</td><td>3</td><td>&quot;m64094e_220715_151527/128845956/ccs&quot;</td><td>true</td><td>true</td><td>7789</td><td>7789</td><td>60</td><td>60</td><td>93</td><td>93</td><td>true</td><td>false</td><td>true</td><td>true</td><td>0</td><td>0.0</td><td>0</td><td>0.0</td><td>0</td><td>0</td><td>1</td><td>0</td><td>2</td><td>1</td><td>2</td><td>2</td></tr><tr><td>1786</td><td>1787</td><td>1</td><td>8</td><td>8</td><td>239853305</td><td>239853306</td><td>1</td><td>239294131</td><td>239294132</td><td>1</td><td>5</td><td>5</td><td>&quot;m64094e_220715_151527/128845956/ccs&quot;</td><td>true</td><td>true</td><td>7789</td><td>7789</td><td>60</td><td>60</td><td>93</td><td>93</td><td>false</td><td>true</td><td>true</td><td>true</td><td>0</td><td>0.0</td><td>0</td><td>0.0</td><td>0</td><td>0</td><td>0</td><td>0</td><td>2</td><td>0</td><td>2</td><td>2</td></tr><tr><td>1820</td><td>1821</td><td>1</td><td>8</td><td>8</td><td>239853339</td><td>239853340</td><td>1</td><td>239294165</td><td>239294166</td><td>1</td><td>7</td><td>7</td><td>&quot;m64094e_220715_151527/128845956/ccs&quot;</td><td>true</td><td>true</td><td>7789</td><td>7789</td><td>60</td><td>60</td><td>93</td><td>93</td><td>false</td><td>true</td><td>true</td><td>true</td><td>0</td><td>0.0</td><td>0</td><td>0.0</td><td>0</td><td>0</td><td>0</td><td>0</td><td>2</td><td>0</td><td>2</td><td>2</td></tr><tr><td>2124</td><td>2125</td><td>1</td><td>8</td><td>8</td><td>239853643</td><td>239853644</td><td>1</td><td>239294469</td><td>239294470</td><td>1</td><td>9</td><td>9</td><td>&quot;m64094e_220715_151527/128845956/ccs&quot;</td><td>true</td><td>true</td><td>7789</td><td>7789</td><td>60</td><td>60</td><td>93</td><td>93</td><td>false</td><td>true</td><td>true</td><td>true</td><td>0</td><td>0.0</td><td>0</td><td>0.0</td><td>0</td><td>0</td><td>0</td><td>0</td><td>2</td><td>0</td><td>2</td><td>2</td></tr><tr><td>2135</td><td>2136</td><td>1</td><td>8</td><td>8</td><td>239853654</td><td>239853655</td><td>1</td><td>239294480</td><td>239294481</td><td>1</td><td>11</td><td>11</td><td>&quot;m64094e_220715_151527/128845956/ccs&quot;</td><td>true</td><td>true</td><td>7789</td><td>7789</td><td>60</td><td>60</td><td>93</td><td>93</td><td>false</td><td>true</td><td>true</td><td>true</td><td>0</td><td>0.0</td><td>0</td><td>0.0</td><td>0</td><td>0</td><td>0</td><td>0</td><td>2</td><td>0</td><td>2</td><td>2</td></tr><tr><td>2473</td><td>2474</td><td>1</td><td>8</td><td>8</td><td>239853992</td><td>239853993</td><td>1</td><td>239294818</td><td>239294819</td><td>1</td><td>13</td><td>13</td><td>&quot;m64094e_220715_151527/128845956/ccs&quot;</td><td>true</td><td>true</td><td>7789</td><td>7789</td><td>60</td><td>60</td><td>93</td><td>93</td><td>false</td><td>true</td><td>true</td><td>true</td><td>0</td><td>0.0</td><td>0</td><td>0.0</td><td>0</td><td>0</td><td>0</td><td>0</td><td>2</td><td>0</td><td>2</td><td>2</td></tr><tr><td>2724</td><td>2725</td><td>1</td><td>8</td><td>8</td><td>239854243</td><td>239854244</td><td>1</td><td>239295069</td><td>239295070</td><td>1</td><td>15</td><td>15</td><td>&quot;m64094e_220715_151527/128845956/ccs&quot;</td><td>true</td><td>true</td><td>7789</td><td>7789</td><td>60</td><td>60</td><td>93</td><td>93</td><td>false</td><td>true</td><td>true</td><td>true</td><td>0</td><td>0.0</td><td>0</td><td>0.0</td><td>0</td><td>0</td><td>0</td><td>0</td><td>2</td><td>0</td><td>2</td><td>2</td></tr><tr><td>154</td><td>155</td><td>1</td><td>8</td><td>8</td><td>78507064</td><td>78507065</td><td>1</td><td>77379623</td><td>77379624</td><td>1</td><td>6</td><td>4</td><td>&quot;m64094e_220717_002414/102893155/ccs&quot;</td><td>true</td><td>true</td><td>2794</td><td>2794</td><td>60</td><td>60</td><td>93</td><td>93</td><td>false</td><td>true</td><td>true</td><td>true</td><td>0</td><td>0.0</td><td>0</td><td>0.0</td><td>0</td><td>0</td><td>0</td><td>0</td><td>0</td><td>0</td><td>1</td><td>7</td></tr><tr><td>10619</td><td>10620</td><td>1</td><td>8</td><td>8</td><td>67058781</td><td>67058782</td><td>1</td><td>66037267</td><td>66037268</td><td>1</td><td>63</td><td>3</td><td>&quot;m64094e_220715_151527/31458984/ccs&quot;</td><td>true</td><td>true</td><td>12245</td><td>12245</td><td>60</td><td>60</td><td>93</td><td>93</td><td>false</td><td>true</td><td>true</td><td>true</td><td>0</td><td>0.0</td><td>0</td><td>0.0</td><td>0</td><td>0</td><td>0</td><td>0</td><td>0</td><td>0</td><td>22</td><td>2</td></tr><tr><td>1667</td><td>1668</td><td>1</td><td>8</td><td>8</td><td>215148305</td><td>215148306</td><td>1</td><td>214855552</td><td>214855553</td><td>1</td><td>11</td><td>3</td><td>&quot;m64094e_220717_002414/8980705/ccs&quot;</td><td>true</td><td>true</td><td>4404</td><td>4404</td><td>60</td><td>60</td><td>93</td><td>93</td><td>false</td><td>true</td><td>true</td><td>true</td><td>0</td><td>0.0</td><td>0</td><td>0.0</td><td>0</td><td>0</td><td>0</td><td>0</td><td>0</td><td>0</td><td>3</td><td>1</td></tr><tr><td>4474</td><td>4475</td><td>1</td><td>8</td><td>8</td><td>198660882</td><td>198660883</td><td>1</td><td>198370395</td><td>198370396</td><td>1</td><td>27</td><td>3</td><td>&quot;m64174e_220620_110709/81330897/ccs&quot;</td><td>true</td><td>true</td><td>5386</td><td>5386</td><td>60</td><td>60</td><td>93</td><td>93</td><td>false</td><td>true</td><td>true</td><td>true</td><td>0</td><td>0.0</td><td>0</td><td>0.0</td><td>0</td><td>0</td><td>0</td><td>0</td><td>0</td><td>0</td><td>8</td><td>3</td></tr><tr><td>4540</td><td>4541</td><td>1</td><td>8</td><td>8</td><td>152475646</td><td>152475647</td><td>1</td><td>152385599</td><td>152385600</td><td>1</td><td>19</td><td>1</td><td>&quot;m64094e_220715_151527/62719902/ccs&quot;</td><td>true</td><td>true</td><td>6452</td><td>6452</td><td>60</td><td>60</td><td>93</td><td>93</td><td>false</td><td>true</td><td>true</td><td>true</td><td>0</td><td>0.0</td><td>0</td><td>0.0</td><td>0</td><td>0</td><td>0</td><td>0</td><td>0</td><td>0</td><td>7</td><td>1</td></tr><tr><td>2021</td><td>2022</td><td>1</td><td>8</td><td>8</td><td>97899302</td><td>97899303</td><td>1</td><td>98308234</td><td>98308235</td><td>1</td><td>5</td><td>1</td><td>&quot;m64094e_220717_002414/113117577/ccs&quot;</td><td>true</td><td>true</td><td>10913</td><td>10913</td><td>60</td><td>60</td><td>93</td><td>93</td><td>false</td><td>true</td><td>true</td><td>true</td><td>0</td><td>0.0</td><td>0</td><td>0.0</td><td>0</td><td>0</td><td>0</td><td>0</td><td>0</td><td>0</td><td>2</td><td>14</td></tr><tr><td>19081</td><td>19082</td><td>1</td><td>7</td><td>8</td><td>113104906</td><td>113104907</td><td>1</td><td>113764060</td><td>113764061</td><td>1</td><td>692</td><td>695</td><td>&quot;m64094e_220715_151527/74450041/ccs&quot;</td><td>false</td><td>false</td><td>19661</td><td>19661</td><td>60</td><td>60</td><td>93</td><td>93</td><td>true</td><td>false</td><td>true</td><td>true</td><td>0</td><td>0.0</td><td>0</td><td>0.0</td><td>0</td><td>0</td><td>1</td><td>0</td><td>19</td><td>3</td><td>13</td><td>1</td></tr><tr><td>11953</td><td>11954</td><td>1</td><td>8</td><td>8</td><td>33714273</td><td>33714274</td><td>1</td><td>33035661</td><td>33035662</td><td>1</td><td>63</td><td>15</td><td>&quot;m64174e_220620_110709/139200967/ccs&quot;</td><td>true</td><td>true</td><td>13918</td><td>13918</td><td>60</td><td>60</td><td>93</td><td>93</td><td>false</td><td>true</td><td>true</td><td>true</td><td>0</td><td>0.0</td><td>0</td><td>0.0</td><td>0</td><td>0</td><td>0</td><td>0</td><td>0</td><td>0</td><td>19</td><td>9</td></tr><tr><td>2044</td><td>2045</td><td>1</td><td>8</td><td>8</td><td>241908792</td><td>241908793</td><td>1</td><td>241365780</td><td>241365781</td><td>1</td><td>7</td><td>5</td><td>&quot;m64094e_220715_151527/100467794/ccs&quot;</td><td>true</td><td>true</td><td>5737</td><td>5737</td><td>60</td><td>60</td><td>93</td><td>93</td><td>false</td><td>true</td><td>true</td><td>true</td><td>0</td><td>0.0</td><td>0</td><td>0.0</td><td>0</td><td>0</td><td>0</td><td>0</td><td>0</td><td>0</td><td>1</td><td>5</td></tr><tr><td>4039</td><td>4040</td><td>1</td><td>7</td><td>8</td><td>91636080</td><td>91636081</td><td>1</td><td>91623488</td><td>91623489</td><td>1</td><td>12</td><td>33</td><td>&quot;m64094e_220717_002414/58327204/ccs&quot;</td><td>true</td><td>false</td><td>8012</td><td>8012</td><td>60</td><td>3</td><td>93</td><td>93</td><td>true</td><td>false</td><td>true</td><td>true</td><td>0</td><td>0.0</td><td>0</td><td>0.0</td><td>0</td><td>0</td><td>1</td><td>0</td><td>10</td><td>4</td><td>1</td><td>1</td></tr><tr><td>4900</td><td>4901</td><td>1</td><td>7</td><td>8</td><td>91636941</td><td>91636942</td><td>1</td><td>91624350</td><td>91624351</td><td>1</td><td>12</td><td>37</td><td>&quot;m64094e_220717_002414/58327204/ccs&quot;</td><td>true</td><td>false</td><td>8012</td><td>8012</td><td>60</td><td>3</td><td>93</td><td>93</td><td>true</td><td>false</td><td>true</td><td>true</td><td>0</td><td>0.0</td><td>0</td><td>0.0</td><td>0</td><td>0</td><td>1</td><td>0</td><td>11</td><td>3</td><td>1</td><td>1</td></tr><tr><td>3162</td><td>3163</td><td>1</td><td>8</td><td>8</td><td>58371965</td><td>58371966</td><td>1</td><td>57466815</td><td>57466816</td><td>1</td><td>13</td><td>7</td><td>&quot;m64094e_220715_151527/41878808/ccs&quot;</td><td>true</td><td>true</td><td>4357</td><td>4357</td><td>60</td><td>60</td><td>93</td><td>93</td><td>false</td><td>true</td><td>true</td><td>true</td><td>0</td><td>0.0</td><td>0</td><td>0.0</td><td>0</td><td>0</td><td>0</td><td>0</td><td>0</td><td>0</td><td>4</td><td>1</td></tr><tr><td>14045</td><td>14046</td><td>1</td><td>8</td><td>8</td><td>43484821</td><td>43484822</td><td>1</td><td>42834143</td><td>42834144</td><td>1</td><td>23</td><td>19</td><td>&quot;m64094e_220717_002414/145230053/ccs&quot;</td><td>true</td><td>true</td><td>14918</td><td>14918</td><td>60</td><td>60</td><td>93</td><td>93</td><td>false</td><td>true</td><td>true</td><td>true</td><td>0</td><td>0.0</td><td>0</td><td>0.0</td><td>0</td><td>0</td><td>0</td><td>0</td><td>0</td><td>0</td><td>1</td><td>1</td></tr><tr><td>10983</td><td>10984</td><td>1</td><td>7</td><td>8</td><td>187116926</td><td>187116927</td><td>1</td><td>186884389</td><td>186884390</td><td>1</td><td>12</td><td>19</td><td>&quot;m64174e_220620_110709/53741178/ccs&quot;</td><td>true</td><td>true</td><td>11546</td><td>11546</td><td>60</td><td>60</td><td>93</td><td>93</td><td>true</td><td>false</td><td>true</td><td>true</td><td>0</td><td>0.0</td><td>0</td><td>0.0</td><td>0</td><td>0</td><td>1</td><td>0</td><td>1</td><td>1</td><td>2</td><td>1</td></tr><tr><td>4072</td><td>4073</td><td>1</td><td>8</td><td>8</td><td>5493235</td><td>5493236</td><td>1</td><td>4989736</td><td>4989737</td><td>1</td><td>24</td><td>18</td><td>&quot;m64094e_220715_151527/98042355/ccs&quot;</td><td>true</td><td>true</td><td>6440</td><td>6440</td><td>60</td><td>60</td><td>93</td><td>93</td><td>false</td><td>true</td><td>true</td><td>true</td><td>0</td><td>0.0</td><td>0</td><td>0.0</td><td>0</td><td>0</td><td>0</td><td>0</td><td>0</td><td>0</td><td>1</td><td>4</td></tr><tr><td>4102</td><td>4103</td><td>1</td><td>8</td><td>8</td><td>5493265</td><td>5493266</td><td>1</td><td>4989766</td><td>4989767</td><td>1</td><td>26</td><td>20</td><td>&quot;m64094e_220715_151527/98042355/ccs&quot;</td><td>true</td><td>true</td><td>6440</td><td>6440</td><td>60</td><td>60</td><td>93</td><td>93</td><td>false</td><td>true</td><td>true</td><td>true</td><td>0</td><td>0.0</td><td>0</td><td>0.0</td><td>0</td><td>0</td><td>0</td><td>0</td><td>0</td><td>0</td><td>1</td><td>4</td></tr><tr><td>4341</td><td>4342</td><td>1</td><td>8</td><td>8</td><td>5493499</td><td>5493500</td><td>1</td><td>4990000</td><td>4990001</td><td>1</td><td>62</td><td>52</td><td>&quot;m64094e_220715_151527/98042355/ccs&quot;</td><td>true</td><td>true</td><td>6440</td><td>6440</td><td>60</td><td>60</td><td>93</td><td>93</td><td>false</td><td>true</td><td>true</td><td>true</td><td>0</td><td>0.0</td><td>0</td><td>0.0</td><td>0</td><td>0</td><td>0</td><td>0</td><td>0</td><td>0</td><td>1</td><td>4</td></tr><tr><td>4390</td><td>4391</td><td>1</td><td>8</td><td>8</td><td>5493548</td><td>5493549</td><td>1</td><td>4990049</td><td>4990050</td><td>1</td><td>66</td><td>56</td><td>&quot;m64094e_220715_151527/98042355/ccs&quot;</td><td>true</td><td>true</td><td>6440</td><td>6440</td><td>60</td><td>60</td><td>93</td><td>93</td><td>false</td><td>true</td><td>true</td><td>true</td><td>0</td><td>0.0</td><td>0</td><td>0.0</td><td>0</td><td>0</td><td>0</td><td>0</td><td>0</td><td>0</td><td>1</td><td>4</td></tr><tr><td>5876</td><td>5877</td><td>1</td><td>8</td><td>8</td><td>134204394</td><td>134204395</td><td>1</td><td>134626665</td><td>134626666</td><td>1</td><td>27</td><td>13</td><td>&quot;m64094e_220715_151527/123797935/ccs&quot;</td><td>true</td><td>true</td><td>25082</td><td>25082</td><td>60</td><td>60</td><td>93</td><td>93</td><td>false</td><td>true</td><td>true</td><td>true</td><td>0</td><td>0.0</td><td>0</td><td>0.0</td><td>0</td><td>0</td><td>0</td><td>0</td><td>0</td><td>0</td><td>5</td><td>18</td></tr><tr><td>7310</td><td>7311</td><td>1</td><td>7</td><td>8</td><td>93754596</td><td>93754597</td><td>1</td><td>94048494</td><td>94048495</td><td>1</td><td>8</td><td>7</td><td>&quot;m64094e_220715_151527/86247547/ccs&quot;</td><td>true</td><td>true</td><td>17089</td><td>17089</td><td>60</td><td>8</td><td>93</td><td>93</td><td>true</td><td>false</td><td>true</td><td>true</td><td>0</td><td>0.0</td><td>0</td><td>0.0</td><td>0</td><td>0</td><td>1</td><td>0</td><td>1</td><td>3</td><td>1</td><td>5</td></tr><tr><td>8584</td><td>8585</td><td>1</td><td>7</td><td>8</td><td>93755870</td><td>93755871</td><td>1</td><td>94049768</td><td>94049769</td><td>1</td><td>8</td><td>9</td><td>&quot;m64094e_220715_151527/86247547/ccs&quot;</td><td>true</td><td>true</td><td>17089</td><td>17089</td><td>60</td><td>8</td><td>93</td><td>93</td><td>true</td><td>false</td><td>true</td><td>true</td><td>0</td><td>0.0</td><td>0</td><td>0.0</td><td>0</td><td>0</td><td>1</td><td>0</td><td>2</td><td>2</td><td>1</td><td>5</td></tr><tr><td>16442</td><td>16443</td><td>1</td><td>7</td><td>8</td><td>93763764</td><td>93763765</td><td>1</td><td>94057626</td><td>94057627</td><td>1</td><td>24</td><td>15</td><td>&quot;m64094e_220715_151527/86247547/ccs&quot;</td><td>true</td><td>true</td><td>17089</td><td>17089</td><td>60</td><td>8</td><td>93</td><td>93</td><td>true</td><td>false</td><td>true</td><td>true</td><td>0</td><td>0.0</td><td>0</td><td>0.0</td><td>0</td><td>0</td><td>1</td><td>0</td><td>3</td><td>1</td><td>4</td><td>2</td></tr><tr><td>5285</td><td>5286</td><td>1</td><td>8</td><td>8</td><td>121937674</td><td>121937675</td><td>1</td><td>122654455</td><td>122654456</td><td>1</td><td>29</td><td>3</td><td>&quot;m64094e_220717_002414/104923581/ccs&quot;</td><td>true</td><td>true</td><td>6868</td><td>6868</td><td>60</td><td>60</td><td>93</td><td>93</td><td>false</td><td>true</td><td>true</td><td>true</td><td>0</td><td>0.0</td><td>0</td><td>0.0</td><td>0</td><td>0</td><td>0</td><td>0</td><td>0</td><td>0</td><td>9</td><td>2</td></tr><tr><td>14688</td><td>14689</td><td>1</td><td>8</td><td>8</td><td>173657522</td><td>173657523</td><td>1</td><td>173522193</td><td>173522194</td><td>1</td><td>63</td><td>43</td><td>&quot;m64094e_220717_002414/130089075/ccs&quot;</td><td>true</td><td>true</td><td>20247</td><td>20247</td><td>60</td><td>60</td><td>93</td><td>93</td><td>false</td><td>true</td><td>true</td><td>true</td><td>0</td><td>0.0</td><td>0</td><td>0.0</td><td>0</td><td>0</td><td>0</td><td>0</td><td>0</td><td>0</td><td>10</td><td>6</td></tr><tr><td>9987</td><td>9988</td><td>1</td><td>7</td><td>8</td><td>93763764</td><td>93763765</td><td>1</td><td>94057626</td><td>94057627</td><td>1</td><td>16</td><td>9</td><td>&quot;m64094e_220715_151527/36963991/ccs&quot;</td><td>true</td><td>true</td><td>15658</td><td>15658</td><td>60</td><td>30</td><td>93</td><td>93</td><td>true</td><td>false</td><td>true</td><td>true</td><td>0</td><td>0.0</td><td>0</td><td>0.0</td><td>0</td><td>0</td><td>1</td><td>0</td><td>3</td><td>1</td><td>3</td><td>6</td></tr><tr><td>1714</td><td>1715</td><td>1</td><td>8</td><td>8</td><td>155440936</td><td>155440937</td><td>1</td><td>155319002</td><td>155319003</td><td>1</td><td>15</td><td>3</td><td>&quot;m64094e_220717_002414/129304910/ccs&quot;</td><td>true</td><td>true</td><td>22597</td><td>22597</td><td>60</td><td>60</td><td>93</td><td>93</td><td>false</td><td>true</td><td>true</td><td>true</td><td>0</td><td>0.0</td><td>0</td><td>0.0</td><td>0</td><td>0</td><td>0</td><td>0</td><td>0</td><td>0</td><td>6</td><td>18</td></tr><tr><td>10554</td><td>10555</td><td>1</td><td>8</td><td>8</td><td>236072979</td><td>236072980</td><td>1</td><td>235520921</td><td>235520922</td><td>1</td><td>11</td><td>1</td><td>&quot;m64094e_220715_151527/84148606/ccs&quot;</td><td>true</td><td>true</td><td>12521</td><td>12521</td><td>60</td><td>60</td><td>93</td><td>93</td><td>false</td><td>true</td><td>true</td><td>true</td><td>0</td><td>0.0</td><td>0</td><td>0.0</td><td>0</td><td>0</td><td>0</td><td>0</td><td>0</td><td>0</td><td>3</td><td>2</td></tr><tr><td>21806</td><td>21807</td><td>1</td><td>7</td><td>8</td><td>95008677</td><td>95008678</td><td>1</td><td>95261545</td><td>95261546</td><td>1</td><td>347</td><td>158</td><td>&quot;m64094e_220715_151527/31131378/ccs&quot;</td><td>false</td><td>true</td><td>23903</td><td>23903</td><td>60</td><td>60</td><td>93</td><td>10</td><td>true</td><td>false</td><td>true</td><td>true</td><td>0</td><td>0.0</td><td>0</td><td>0.0</td><td>0</td><td>0</td><td>1</td><td>0</td><td>1</td><td>2</td><td>39</td><td>16</td></tr><tr><td>11999</td><td>12000</td><td>1</td><td>8</td><td>8</td><td>221229788</td><td>221229789</td><td>1</td><td>220820055</td><td>220820056</td><td>1</td><td>43</td><td>7</td><td>&quot;m64174e_220620_110709/68813929/ccs&quot;</td><td>true</td><td>true</td><td>14506</td><td>14506</td><td>60</td><td>60</td><td>93</td><td>93</td><td>false</td><td>true</td><td>true</td><td>true</td><td>0</td><td>0.0</td><td>0</td><td>0.0</td><td>0</td><td>0</td><td>0</td><td>0</td><td>0</td><td>0</td><td>10</td><td>1</td></tr></tbody></table></div>"
      ],
      "text/plain": [
       "shape: (2_027, 38)\n",
       "┌───────┬───────┬────────┬─────┬───┬──────────────┬─────────────┬──────────────┬─────────────┐\n",
       "│ start ┆ end   ┆ length ┆ op1 ┆ … ┆ fits1_before ┆ fits1_after ┆ fits2_before ┆ fits2_after │\n",
       "│ ---   ┆ ---   ┆ ---    ┆ --- ┆   ┆ ---          ┆ ---         ┆ ---          ┆ ---         │\n",
       "│ i64   ┆ i64   ┆ i64    ┆ i64 ┆   ┆ i64          ┆ i64         ┆ i64          ┆ i64         │\n",
       "╞═══════╪═══════╪════════╪═════╪═══╪══════════════╪═════════════╪══════════════╪═════════════╡\n",
       "│ 3084  ┆ 3085  ┆ 1      ┆ 8   ┆ … ┆ 13           ┆ 26          ┆ 0            ┆ 0           │\n",
       "│ 1790  ┆ 1791  ┆ 1      ┆ 8   ┆ … ┆ 1            ┆ 6           ┆ 0            ┆ 0           │\n",
       "│ 7194  ┆ 7195  ┆ 1      ┆ 8   ┆ … ┆ 7            ┆ 5           ┆ 0            ┆ 0           │\n",
       "│ 849   ┆ 850   ┆ 1      ┆ 8   ┆ … ┆ 1            ┆ 3           ┆ 0            ┆ 0           │\n",
       "│ 7974  ┆ 7975  ┆ 1      ┆ 8   ┆ … ┆ 9            ┆ 4           ┆ 0            ┆ 0           │\n",
       "│ 12130 ┆ 12131 ┆ 1      ┆ 8   ┆ … ┆ 2            ┆ 2           ┆ 0            ┆ 0           │\n",
       "│ 5248  ┆ 5249  ┆ 1      ┆ 8   ┆ … ┆ 1            ┆ 8           ┆ 0            ┆ 0           │\n",
       "│ 3800  ┆ 3801  ┆ 1      ┆ 8   ┆ … ┆ 4            ┆ 1           ┆ 0            ┆ 0           │\n",
       "│ 4863  ┆ 4864  ┆ 1      ┆ 8   ┆ … ┆ 8            ┆ 12          ┆ 0            ┆ 0           │\n",
       "│ 762   ┆ 763   ┆ 1      ┆ 8   ┆ … ┆ 1            ┆ 8           ┆ 0            ┆ 0           │\n",
       "│ 1889  ┆ 1890  ┆ 1      ┆ 8   ┆ … ┆ 3            ┆ 3           ┆ 0            ┆ 0           │\n",
       "│ 2195  ┆ 2196  ┆ 1      ┆ 8   ┆ … ┆ 4            ┆ 2           ┆ 0            ┆ 0           │\n",
       "│ 3138  ┆ 3139  ┆ 1      ┆ 8   ┆ … ┆ 5            ┆ 1           ┆ 0            ┆ 0           │\n",
       "│ 3213  ┆ 3214  ┆ 1      ┆ 8   ┆ … ┆ 5            ┆ 1           ┆ 0            ┆ 0           │\n",
       "│ 6759  ┆ 6760  ┆ 1      ┆ 8   ┆ … ┆ 5            ┆ 21          ┆ 0            ┆ 0           │\n",
       "│ 2108  ┆ 2109  ┆ 1      ┆ 8   ┆ … ┆ 4            ┆ 3           ┆ 0            ┆ 0           │\n",
       "│ 1174  ┆ 1175  ┆ 1      ┆ 8   ┆ … ┆ 1            ┆ 14          ┆ 0            ┆ 0           │\n",
       "│ 1673  ┆ 1674  ┆ 1      ┆ 8   ┆ … ┆ 5            ┆ 2           ┆ 0            ┆ 0           │\n",
       "│ 538   ┆ 539   ┆ 1      ┆ 8   ┆ … ┆ 1            ┆ 1           ┆ 0            ┆ 0           │\n",
       "│ 1420  ┆ 1421  ┆ 1      ┆ 8   ┆ … ┆ 1            ┆ 5           ┆ 0            ┆ 0           │\n",
       "│ 8970  ┆ 8971  ┆ 1      ┆ 8   ┆ … ┆ 2            ┆ 1           ┆ 0            ┆ 0           │\n",
       "│ 1614  ┆ 1615  ┆ 1      ┆ 8   ┆ … ┆ 1            ┆ 5           ┆ 6            ┆ 3           │\n",
       "│ 2660  ┆ 2661  ┆ 1      ┆ 8   ┆ … ┆ 1            ┆ 5           ┆ 8            ┆ 1           │\n",
       "│ 852   ┆ 853   ┆ 1      ┆ 8   ┆ … ┆ 2            ┆ 5           ┆ 0            ┆ 0           │\n",
       "│ 1247  ┆ 1248  ┆ 1      ┆ 8   ┆ … ┆ 3            ┆ 4           ┆ 0            ┆ 0           │\n",
       "│ 1775  ┆ 1776  ┆ 1      ┆ 8   ┆ … ┆ 3            ┆ 4           ┆ 0            ┆ 0           │\n",
       "│ 2095  ┆ 2096  ┆ 1      ┆ 8   ┆ … ┆ 3            ┆ 4           ┆ 0            ┆ 0           │\n",
       "│ 2358  ┆ 2359  ┆ 1      ┆ 8   ┆ … ┆ 3            ┆ 4           ┆ 0            ┆ 0           │\n",
       "│ 3060  ┆ 3061  ┆ 1      ┆ 8   ┆ … ┆ 3            ┆ 4           ┆ 0            ┆ 0           │\n",
       "│ 3217  ┆ 3218  ┆ 1      ┆ 8   ┆ … ┆ 3            ┆ 4           ┆ 0            ┆ 0           │\n",
       "│ 3287  ┆ 3288  ┆ 1      ┆ 8   ┆ … ┆ 3            ┆ 4           ┆ 0            ┆ 0           │\n",
       "│ 4572  ┆ 4573  ┆ 1      ┆ 8   ┆ … ┆ 4            ┆ 3           ┆ 0            ┆ 0           │\n",
       "│ 1582  ┆ 1583  ┆ 1      ┆ 8   ┆ … ┆ 1            ┆ 2           ┆ 0            ┆ 0           │\n",
       "│ 17759 ┆ 17760 ┆ 1      ┆ 8   ┆ … ┆ 9            ┆ 1           ┆ 0            ┆ 0           │\n",
       "│ 1165  ┆ 1166  ┆ 1      ┆ 8   ┆ … ┆ 4            ┆ 7           ┆ 0            ┆ 0           │\n",
       "│ 520   ┆ 521   ┆ 1      ┆ 8   ┆ … ┆ 1            ┆ 10          ┆ 1            ┆ 5           │\n",
       "│ 963   ┆ 964   ┆ 1      ┆ 8   ┆ … ┆ 1            ┆ 10          ┆ 2            ┆ 4           │\n",
       "│ 1383  ┆ 1384  ┆ 1      ┆ 8   ┆ … ┆ 1            ┆ 10          ┆ 2            ┆ 4           │\n",
       "│ 1399  ┆ 1400  ┆ 1      ┆ 8   ┆ … ┆ 1            ┆ 10          ┆ 2            ┆ 4           │\n",
       "│ 1539  ┆ 1540  ┆ 1      ┆ 8   ┆ … ┆ 1            ┆ 10          ┆ 2            ┆ 4           │\n",
       "│ 1654  ┆ 1655  ┆ 1      ┆ 8   ┆ … ┆ 1            ┆ 10          ┆ 2            ┆ 4           │\n",
       "│ 1781  ┆ 1782  ┆ 1      ┆ 8   ┆ … ┆ 1            ┆ 10          ┆ 2            ┆ 4           │\n",
       "│ 1804  ┆ 1805  ┆ 1      ┆ 8   ┆ … ┆ 1            ┆ 10          ┆ 2            ┆ 4           │\n",
       "│ 2065  ┆ 2066  ┆ 1      ┆ 8   ┆ … ┆ 2            ┆ 9           ┆ 3            ┆ 4           │\n",
       "│ 2136  ┆ 2137  ┆ 1      ┆ 8   ┆ … ┆ 2            ┆ 9           ┆ 3            ┆ 3           │\n",
       "│ 2166  ┆ 2167  ┆ 1      ┆ 8   ┆ … ┆ 2            ┆ 9           ┆ 3            ┆ 3           │\n",
       "│ 2300  ┆ 2301  ┆ 1      ┆ 8   ┆ … ┆ 2            ┆ 9           ┆ 3            ┆ 3           │\n",
       "│ 3100  ┆ 3101  ┆ 1      ┆ 8   ┆ … ┆ 4            ┆ 7           ┆ 3            ┆ 3           │\n",
       "│ 3372  ┆ 3373  ┆ 1      ┆ 8   ┆ … ┆ 4            ┆ 7           ┆ 3            ┆ 3           │\n",
       "│ 3783  ┆ 3784  ┆ 1      ┆ 8   ┆ … ┆ 4            ┆ 7           ┆ 3            ┆ 3           │\n",
       "│ …     ┆ …     ┆ …      ┆ …   ┆ … ┆ …            ┆ …           ┆ …            ┆ …           │\n",
       "│ 829   ┆ 830   ┆ 1      ┆ 8   ┆ … ┆ 0            ┆ 1           ┆ 1            ┆ 5           │\n",
       "│ 970   ┆ 971   ┆ 1      ┆ 8   ┆ … ┆ 0            ┆ 1           ┆ 1            ┆ 5           │\n",
       "│ 1031  ┆ 1032  ┆ 1      ┆ 8   ┆ … ┆ 0            ┆ 1           ┆ 2            ┆ 4           │\n",
       "│ 1172  ┆ 1173  ┆ 1      ┆ 8   ┆ … ┆ 0            ┆ 1           ┆ 2            ┆ 4           │\n",
       "│ 1250  ┆ 1251  ┆ 1      ┆ 8   ┆ … ┆ 0            ┆ 1           ┆ 2            ┆ 4           │\n",
       "│ 1748  ┆ 1749  ┆ 1      ┆ 8   ┆ … ┆ 0            ┆ 1           ┆ 2            ┆ 4           │\n",
       "│ 1912  ┆ 1913  ┆ 1      ┆ 8   ┆ … ┆ 0            ┆ 1           ┆ 2            ┆ 4           │\n",
       "│ 2050  ┆ 2051  ┆ 1      ┆ 8   ┆ … ┆ 0            ┆ 1           ┆ 3            ┆ 3           │\n",
       "│ 2149  ┆ 2150  ┆ 1      ┆ 8   ┆ … ┆ 0            ┆ 1           ┆ 3            ┆ 3           │\n",
       "│ 2206  ┆ 2207  ┆ 1      ┆ 8   ┆ … ┆ 0            ┆ 1           ┆ 3            ┆ 3           │\n",
       "│ 2368  ┆ 2369  ┆ 1      ┆ 8   ┆ … ┆ 0            ┆ 1           ┆ 3            ┆ 3           │\n",
       "│ 824   ┆ 825   ┆ 1      ┆ 7   ┆ … ┆ 1            ┆ 1           ┆ 1            ┆ 7           │\n",
       "│ 5688  ┆ 5689  ┆ 1      ┆ 8   ┆ … ┆ 0            ┆ 0           ┆ 5            ┆ 20          │\n",
       "│ 8107  ┆ 8108  ┆ 1      ┆ 8   ┆ … ┆ 0            ┆ 0           ┆ 3            ┆ 2           │\n",
       "│ 1767  ┆ 1768  ┆ 1      ┆ 7   ┆ … ┆ 2            ┆ 1           ┆ 2            ┆ 2           │\n",
       "│ 1786  ┆ 1787  ┆ 1      ┆ 8   ┆ … ┆ 2            ┆ 0           ┆ 2            ┆ 2           │\n",
       "│ 1820  ┆ 1821  ┆ 1      ┆ 8   ┆ … ┆ 2            ┆ 0           ┆ 2            ┆ 2           │\n",
       "│ 2124  ┆ 2125  ┆ 1      ┆ 8   ┆ … ┆ 2            ┆ 0           ┆ 2            ┆ 2           │\n",
       "│ 2135  ┆ 2136  ┆ 1      ┆ 8   ┆ … ┆ 2            ┆ 0           ┆ 2            ┆ 2           │\n",
       "│ 2473  ┆ 2474  ┆ 1      ┆ 8   ┆ … ┆ 2            ┆ 0           ┆ 2            ┆ 2           │\n",
       "│ 2724  ┆ 2725  ┆ 1      ┆ 8   ┆ … ┆ 2            ┆ 0           ┆ 2            ┆ 2           │\n",
       "│ 154   ┆ 155   ┆ 1      ┆ 8   ┆ … ┆ 0            ┆ 0           ┆ 1            ┆ 7           │\n",
       "│ 10619 ┆ 10620 ┆ 1      ┆ 8   ┆ … ┆ 0            ┆ 0           ┆ 22           ┆ 2           │\n",
       "│ 1667  ┆ 1668  ┆ 1      ┆ 8   ┆ … ┆ 0            ┆ 0           ┆ 3            ┆ 1           │\n",
       "│ 4474  ┆ 4475  ┆ 1      ┆ 8   ┆ … ┆ 0            ┆ 0           ┆ 8            ┆ 3           │\n",
       "│ 4540  ┆ 4541  ┆ 1      ┆ 8   ┆ … ┆ 0            ┆ 0           ┆ 7            ┆ 1           │\n",
       "│ 2021  ┆ 2022  ┆ 1      ┆ 8   ┆ … ┆ 0            ┆ 0           ┆ 2            ┆ 14          │\n",
       "│ 19081 ┆ 19082 ┆ 1      ┆ 7   ┆ … ┆ 19           ┆ 3           ┆ 13           ┆ 1           │\n",
       "│ 11953 ┆ 11954 ┆ 1      ┆ 8   ┆ … ┆ 0            ┆ 0           ┆ 19           ┆ 9           │\n",
       "│ 2044  ┆ 2045  ┆ 1      ┆ 8   ┆ … ┆ 0            ┆ 0           ┆ 1            ┆ 5           │\n",
       "│ 4039  ┆ 4040  ┆ 1      ┆ 7   ┆ … ┆ 10           ┆ 4           ┆ 1            ┆ 1           │\n",
       "│ 4900  ┆ 4901  ┆ 1      ┆ 7   ┆ … ┆ 11           ┆ 3           ┆ 1            ┆ 1           │\n",
       "│ 3162  ┆ 3163  ┆ 1      ┆ 8   ┆ … ┆ 0            ┆ 0           ┆ 4            ┆ 1           │\n",
       "│ 14045 ┆ 14046 ┆ 1      ┆ 8   ┆ … ┆ 0            ┆ 0           ┆ 1            ┆ 1           │\n",
       "│ 10983 ┆ 10984 ┆ 1      ┆ 7   ┆ … ┆ 1            ┆ 1           ┆ 2            ┆ 1           │\n",
       "│ 4072  ┆ 4073  ┆ 1      ┆ 8   ┆ … ┆ 0            ┆ 0           ┆ 1            ┆ 4           │\n",
       "│ 4102  ┆ 4103  ┆ 1      ┆ 8   ┆ … ┆ 0            ┆ 0           ┆ 1            ┆ 4           │\n",
       "│ 4341  ┆ 4342  ┆ 1      ┆ 8   ┆ … ┆ 0            ┆ 0           ┆ 1            ┆ 4           │\n",
       "│ 4390  ┆ 4391  ┆ 1      ┆ 8   ┆ … ┆ 0            ┆ 0           ┆ 1            ┆ 4           │\n",
       "│ 5876  ┆ 5877  ┆ 1      ┆ 8   ┆ … ┆ 0            ┆ 0           ┆ 5            ┆ 18          │\n",
       "│ 7310  ┆ 7311  ┆ 1      ┆ 7   ┆ … ┆ 1            ┆ 3           ┆ 1            ┆ 5           │\n",
       "│ 8584  ┆ 8585  ┆ 1      ┆ 7   ┆ … ┆ 2            ┆ 2           ┆ 1            ┆ 5           │\n",
       "│ 16442 ┆ 16443 ┆ 1      ┆ 7   ┆ … ┆ 3            ┆ 1           ┆ 4            ┆ 2           │\n",
       "│ 5285  ┆ 5286  ┆ 1      ┆ 8   ┆ … ┆ 0            ┆ 0           ┆ 9            ┆ 2           │\n",
       "│ 14688 ┆ 14689 ┆ 1      ┆ 8   ┆ … ┆ 0            ┆ 0           ┆ 10           ┆ 6           │\n",
       "│ 9987  ┆ 9988  ┆ 1      ┆ 7   ┆ … ┆ 3            ┆ 1           ┆ 3            ┆ 6           │\n",
       "│ 1714  ┆ 1715  ┆ 1      ┆ 8   ┆ … ┆ 0            ┆ 0           ┆ 6            ┆ 18          │\n",
       "│ 10554 ┆ 10555 ┆ 1      ┆ 8   ┆ … ┆ 0            ┆ 0           ┆ 3            ┆ 2           │\n",
       "│ 21806 ┆ 21807 ┆ 1      ┆ 7   ┆ … ┆ 1            ┆ 2           ┆ 39           ┆ 16          │\n",
       "│ 11999 ┆ 12000 ┆ 1      ┆ 8   ┆ … ┆ 0            ┆ 0           ┆ 10           ┆ 1           │\n",
       "└───────┴───────┴────────┴─────┴───┴──────────────┴─────────────┴──────────────┴─────────────┘"
      ]
     },
     "metadata": {},
     "output_type": "display_data"
    }
   ],
   "source": [
    "with pl.Config(fmt_str_lengths=50, set_tbl_rows=100):\n",
    "    display(putative_gc_df_hap.filter(pl.col(\"qual_start1\") == 93))"
   ]
  },
  {
   "cell_type": "code",
   "execution_count": null,
   "id": "6272f0c6-7bff-43c5-8343-6d08c4944634",
   "metadata": {},
   "outputs": [],
   "source": []
  }
 ],
 "metadata": {
  "kernelspec": {
   "display_name": "sperm",
   "language": "python",
   "name": "sperm"
  },
  "language_info": {
   "codemirror_mode": {
    "name": "ipython",
    "version": 3
   },
   "file_extension": ".py",
   "mimetype": "text/x-python",
   "name": "python",
   "nbconvert_exporter": "python",
   "pygments_lexer": "ipython3",
   "version": "3.11.6"
  }
 },
 "nbformat": 4,
 "nbformat_minor": 5
}
