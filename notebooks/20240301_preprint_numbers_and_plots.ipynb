{
 "cells": [
  {
   "cell_type": "code",
   "execution_count": 1,
   "id": "32c4a297-39ee-4727-96f0-0511c0a60aa4",
   "metadata": {},
   "outputs": [],
   "source": [
    "%load_ext autoreload\n",
    "%autoreload 2"
   ]
  },
  {
   "cell_type": "code",
   "execution_count": 2,
   "id": "2a05f37d-8818-47c4-8e08-48cfe55088a2",
   "metadata": {},
   "outputs": [],
   "source": [
    "import numpy as np\n",
    "import pandas as pd\n",
    "import matplotlib as mpl\n",
    "import matplotlib.pyplot as plt\n",
    "import matplotlib.ticker as ticker\n",
    "import numba\n",
    "import numba.typed\n",
    "\n",
    "from pathlib import Path\n",
    "import tqdm\n",
    "import sys\n",
    "import seaborn as sns\n",
    "import scipy.stats\n",
    "import os\n",
    "import pysam\n",
    "import pprint\n",
    "import pickle\n",
    "import joblib\n",
    "import subprocess\n",
    "import polars as pl\n",
    "import io\n",
    "\n",
    "# This is needed before pybedtools to make sure bedtools is imported on sanger JupyterHub \n",
    "os.environ[\"PATH\"] += \":\" + os.path.join(sys.prefix, \"bin\")\n",
    "import pybedtools\n",
    "\n",
    "pd.set_option('display.max_rows', 1000)\n"
   ]
  },
  {
   "cell_type": "code",
   "execution_count": 3,
   "id": "d9443771-8602-42fe-98bf-56ee9f62d541",
   "metadata": {},
   "outputs": [],
   "source": [
    "sys.path.append(str(Path(os.getcwd()).parent))\n",
    "from src import liftover, annotate, diagnostics, inference"
   ]
  },
  {
   "cell_type": "code",
   "execution_count": 4,
   "id": "3bb86565-b959-4461-b206-f9e170d118e2",
   "metadata": {},
   "outputs": [],
   "source": [
    "aut_chrom_names = [f\"chr{i}\" for i in list(range(1, 23))]\n",
    "chrom_names = aut_chrom_names + [\"chrX\", \"chrY\"]"
   ]
  },
  {
   "cell_type": "markdown",
   "id": "931cb39d-bad4-4f4a-8f84-85afaab7c3ec",
   "metadata": {},
   "source": [
    "# Sample IDs"
   ]
  },
  {
   "cell_type": "code",
   "execution_count": 5,
   "id": "21b29314-0fd9-4ae3-a67f-ecfc1e99051f",
   "metadata": {},
   "outputs": [],
   "source": [
    "# Samples to do\n",
    "sample_ids = [\n",
    "    \"PD50477f\",\n",
    "    # \"PD50508bf\", -- ignore; merged two sampling dates just for phasing, but should be analyzed separately\n",
    "    \"PD50519d\",\n",
    "    # \"PD47269d\", -- don't use, not there\n",
    "    \"PD50508f\",\n",
    "    # \"PD50511e\", -- don't use, likely mixture\n",
    "    \"PD50523b\",\n",
    "    # \"PD48473b\", -- don't use, not there\n",
    "    \"PD50521b\",\n",
    "    \"PD50508b\",\n",
    "    # \"PD50521be\", -- ignore; merged two sampling dates just for phasing, but should be analyzed separately\n",
    "    \"PD46180c\",\n",
    "    # \"PD50502f\", -- don't use, likely mixture\n",
    "    \"PD50521e\",\n",
    "    # \"PD50511e_SS\",  --- don't use\n",
    "    \"PD50489e\",\n",
    "]\n",
    "\n"
   ]
  },
  {
   "cell_type": "markdown",
   "id": "ac10dd8a-61ce-4df2-86eb-4554fd917d61",
   "metadata": {},
   "source": [
    "# Basic stats"
   ]
  },
  {
   "cell_type": "markdown",
   "id": "e30fd7e6-5644-4e6d-a796-1ef88e0a663d",
   "metadata": {},
   "source": [
    "## Read coverage"
   ]
  },
  {
   "cell_type": "code",
   "execution_count": 25,
   "id": "1dde4758-0b06-400c-a09f-6597d8824f17",
   "metadata": {},
   "outputs": [],
   "source": [
    "def load_depth(sample_id, chrom, n_every = 1):\n",
    "    depth_path = f\"/lustre/scratch126/casm/team154pc/sl17/03.sperm/02.results/01.read_alignment/01.ccs/03.T2T-CHM13/{sample_id}/chm13.{sample_id}.{chrom}.depth.txt.gz\"\n",
    "\n",
    "    res = subprocess.run(f\"zcat {depth_path} | awk 'NR % {n_every} == 0'\", shell=True, capture_output=True)\n",
    "    \n",
    "    df = pl.read_csv(\n",
    "        io.BytesIO(res.stdout),\n",
    "        separator=\"\\t\",\n",
    "        new_columns=[\"chrom\", \"pos_1based\", \"depth\"],\n",
    "    )\n",
    "\n",
    "    return df"
   ]
  },
  {
   "cell_type": "code",
   "execution_count": null,
   "id": "485e6790-2d67-4ebd-812c-7498a0bc091f",
   "metadata": {},
   "outputs": [
    {
     "name": "stderr",
     "output_type": "stream",
     "text": [
      "[Parallel(n_jobs=-1)]: Using backend LokyBackend with 4 concurrent workers.\n",
      "[Parallel(n_jobs=-1)]: Done   5 tasks      | elapsed:  2.0min\n",
      "[Parallel(n_jobs=-1)]: Done  10 tasks      | elapsed:  2.8min\n",
      "[Parallel(n_jobs=-1)]: Done  17 tasks      | elapsed:  3.7min\n",
      "[Parallel(n_jobs=-1)]: Done  24 tasks      | elapsed:  5.1min\n",
      "[Parallel(n_jobs=-1)]: Done  33 tasks      | elapsed:  6.8min\n",
      "[Parallel(n_jobs=-1)]: Done  42 tasks      | elapsed:  7.7min\n",
      "[Parallel(n_jobs=-1)]: Done  53 tasks      | elapsed: 10.6min\n",
      "[Parallel(n_jobs=-1)]: Done  64 tasks      | elapsed: 11.6min\n"
     ]
    }
   ],
   "source": [
    "%%time\n",
    "stats = []\n",
    "\n",
    "def runme(sample_id, chrom, n_every):\n",
    "    df = load_depth(sample_id, chrom, n_every)\n",
    "    return [sample_id, chrom, len(df), df[\"depth\"].mean()]\n",
    "    \n",
    "stats = joblib.Parallel(n_jobs=-1, verbose=10)(\n",
    "    joblib.delayed(runme)(sample_id, chrom, 1000) for sample_id in sample_ids for chrom in aut_chrom_names\n",
    ")\n"
   ]
  },
  {
   "cell_type": "code",
   "execution_count": 95,
   "id": "40dfb72c-55fb-478f-b9b8-6be971777445",
   "metadata": {},
   "outputs": [],
   "source": [
    "stats_df = (pl.DataFrame(stats, schema=[\"sample_id\", \"chrom\", \"n_sites\", \"mean_depth\"])\n",
    "    .group_by(\"sample_id\")\n",
    "    .agg(\n",
    "        n_total = pl.col(\"n_sites\").sum(),\n",
    "        weighted_sum = (pl.col(\"n_sites\") * pl.col(\"mean_depth\")).sum(),\n",
    "    )\n",
    "    .select(\n",
    "        \"sample_id\",\n",
    "        (pl.col(\"weighted_sum\") / pl.col(\"n_total\")).alias(\"mean_depth\"),\n",
    "    )\n",
    "    .sort(\"mean_depth\")\n",
    ")"
   ]
  },
  {
   "cell_type": "code",
   "execution_count": 96,
   "id": "fcfda7ef-d502-4d3a-bef4-0e811896765c",
   "metadata": {},
   "outputs": [
    {
     "data": {
      "text/html": [
       "<div><style>\n",
       ".dataframe > thead > tr,\n",
       ".dataframe > tbody > tr {\n",
       "  text-align: right;\n",
       "  white-space: pre-wrap;\n",
       "}\n",
       "</style>\n",
       "<small>shape: (9, 2)</small><table border=\"1\" class=\"dataframe\"><thead><tr><th>sample_id</th><th>mean_depth</th></tr><tr><td>str</td><td>f64</td></tr></thead><tbody><tr><td>&quot;PD50508f&quot;</td><td>15.652876</td></tr><tr><td>&quot;PD50508b&quot;</td><td>20.623035</td></tr><tr><td>&quot;PD50489e&quot;</td><td>22.238416</td></tr><tr><td>&quot;PD50519d&quot;</td><td>23.319102</td></tr><tr><td>&quot;PD50523b&quot;</td><td>24.503857</td></tr><tr><td>&quot;PD50521e&quot;</td><td>25.114194</td></tr><tr><td>&quot;PD50477f&quot;</td><td>25.343984</td></tr><tr><td>&quot;PD46180c&quot;</td><td>31.714647</td></tr><tr><td>&quot;PD50521b&quot;</td><td>33.258736</td></tr></tbody></table></div>"
      ],
      "text/plain": [
       "shape: (9, 2)\n",
       "┌───────────┬────────────┐\n",
       "│ sample_id ┆ mean_depth │\n",
       "│ ---       ┆ ---        │\n",
       "│ str       ┆ f64        │\n",
       "╞═══════════╪════════════╡\n",
       "│ PD50508f  ┆ 15.652876  │\n",
       "│ PD50508b  ┆ 20.623035  │\n",
       "│ PD50489e  ┆ 22.238416  │\n",
       "│ PD50519d  ┆ 23.319102  │\n",
       "│ PD50523b  ┆ 24.503857  │\n",
       "│ PD50521e  ┆ 25.114194  │\n",
       "│ PD50477f  ┆ 25.343984  │\n",
       "│ PD46180c  ┆ 31.714647  │\n",
       "│ PD50521b  ┆ 33.258736  │\n",
       "└───────────┴────────────┘"
      ]
     },
     "execution_count": 96,
     "metadata": {},
     "output_type": "execute_result"
    }
   ],
   "source": [
    "stats_df"
   ]
  },
  {
   "cell_type": "code",
   "execution_count": 92,
   "id": "7b5ae9e2-6678-4c72-b05c-79aef6033296",
   "metadata": {},
   "outputs": [
    {
     "data": {
      "text/html": [
       "<div><style>\n",
       ".dataframe > thead > tr,\n",
       ".dataframe > tbody > tr {\n",
       "  text-align: right;\n",
       "  white-space: pre-wrap;\n",
       "}\n",
       "</style>\n",
       "<small>shape: (1, 2)</small><table border=\"1\" class=\"dataframe\"><thead><tr><th>sample_id</th><th>mean_depth</th></tr><tr><td>str</td><td>f64</td></tr></thead><tbody><tr><td>null</td><td>24.640983</td></tr></tbody></table></div>"
      ],
      "text/plain": [
       "shape: (1, 2)\n",
       "┌───────────┬────────────┐\n",
       "│ sample_id ┆ mean_depth │\n",
       "│ ---       ┆ ---        │\n",
       "│ str       ┆ f64        │\n",
       "╞═══════════╪════════════╡\n",
       "│ null      ┆ 24.640983  │\n",
       "└───────────┴────────────┘"
      ]
     },
     "execution_count": 92,
     "metadata": {},
     "output_type": "execute_result"
    }
   ],
   "source": [
    "stats_df.mean()"
   ]
  },
  {
   "cell_type": "code",
   "execution_count": null,
   "id": "292f731f-49d2-436f-b420-a5463c761a0d",
   "metadata": {},
   "outputs": [],
   "source": []
  },
  {
   "cell_type": "code",
   "execution_count": null,
   "id": "96bbb3bc-f121-4d90-b711-2f5194d0cdd4",
   "metadata": {},
   "outputs": [],
   "source": []
  },
  {
   "cell_type": "markdown",
   "id": "6cfc4a57-fcf3-4769-bda3-31c76bb77e7d",
   "metadata": {},
   "source": [
    "## Get read counts"
   ]
  },
  {
   "cell_type": "code",
   "execution_count": 31,
   "id": "384a1ea6-2367-4ee7-b5ef-c5483a1a415e",
   "metadata": {},
   "outputs": [],
   "source": [
    "read_length_means = {}\n",
    "read_length_stds = {}\n",
    "read_numbers = {}\n",
    "\n",
    "ccs_read_path = Path(\"/lustre/scratch126/casm/team154pc/sl17/03.sperm/01.data/02.ccs/\")\n",
    "\n",
    "for sample_id in sample_ids:\n",
    "    count_path = ccs_read_path / sample_id / (sample_id + \".ccs.filtered.fastqc\")\n",
    "    d = open(count_path).read().strip().split()\n",
    "    read_numbers[sample_id] = int(d[1])\n",
    "    read_length_means[sample_id] = float(d[3])\n",
    "    read_length_stds[sample_id] = float(d[4])"
   ]
  },
  {
   "cell_type": "code",
   "execution_count": 34,
   "id": "e57dd375-e1e2-45d4-9b72-34d13f710b0f",
   "metadata": {},
   "outputs": [
    {
     "data": {
      "text/plain": [
       "{'PD50477f': 7185241,\n",
       " 'PD50519d': 5353906,\n",
       " 'PD50508f': 3040994,\n",
       " 'PD50523b': 4741878,\n",
       " 'PD50521b': 6113622,\n",
       " 'PD50508b': 3947659,\n",
       " 'PD46180c': 5936129,\n",
       " 'PD50521e': 6168195,\n",
       " 'PD50489e': 6065965}"
      ]
     },
     "metadata": {},
     "output_type": "display_data"
    }
   ],
   "source": [
    "display(read_numbers)"
   ]
  },
  {
   "cell_type": "code",
   "execution_count": 79,
   "id": "adc9fa50-9308-4c72-9571-918b106fd928",
   "metadata": {},
   "outputs": [
    {
     "name": "stdout",
     "output_type": "stream",
     "text": [
      "Total number of reads (before any processing): 48553589\n"
     ]
    }
   ],
   "source": [
    "print(\"Total number of reads (before any processing):\", np.sum(list(read_numbers.values())))"
   ]
  },
  {
   "cell_type": "markdown",
   "id": "889e64c0-c5bf-4a82-a78b-cb1e1e721b0e",
   "metadata": {},
   "source": [
    "# Get read counts after filtering"
   ]
  },
  {
   "cell_type": "code",
   "execution_count": 29,
   "id": "04b2a4ed-833e-47fd-892e-885b9b9adb10",
   "metadata": {},
   "outputs": [
    {
     "name": "stderr",
     "output_type": "stream",
     "text": [
      "  0%|          | 0/9 [00:00<?, ?it/s]\n",
      "  0%|          | 0/22 [00:00<?, ?it/s]\u001b[A\n",
      "  5%|▍         | 1/22 [00:02<00:45,  2.19s/it]\u001b[A\n",
      "  9%|▉         | 2/22 [00:08<01:26,  4.33s/it]\u001b[A\n",
      " 14%|█▎        | 3/22 [00:11<01:13,  3.88s/it]\u001b[A\n",
      " 18%|█▊        | 4/22 [00:15<01:11,  3.97s/it]\u001b[A\n",
      " 23%|██▎       | 5/22 [00:19<01:05,  3.85s/it]\u001b[A\n",
      " 27%|██▋       | 6/22 [00:21<00:55,  3.46s/it]\u001b[A\n",
      " 32%|███▏      | 7/22 [00:24<00:45,  3.06s/it]\u001b[A\n",
      " 36%|███▋      | 8/22 [00:27<00:43,  3.10s/it]\u001b[A\n",
      " 41%|████      | 9/22 [00:30<00:41,  3.18s/it]\u001b[A\n",
      " 45%|████▌     | 10/22 [00:34<00:39,  3.30s/it]\u001b[A\n",
      " 50%|█████     | 11/22 [00:37<00:36,  3.31s/it]\u001b[A\n",
      " 55%|█████▍    | 12/22 [00:40<00:32,  3.22s/it]\u001b[A\n",
      " 59%|█████▉    | 13/22 [00:43<00:27,  3.10s/it]\u001b[A\n",
      " 64%|██████▎   | 14/22 [00:46<00:25,  3.17s/it]\u001b[A\n",
      " 68%|██████▊   | 15/22 [00:50<00:22,  3.25s/it]\u001b[A\n",
      " 73%|███████▎  | 16/22 [00:52<00:17,  2.87s/it]\u001b[A\n",
      " 77%|███████▋  | 17/22 [00:55<00:15,  3.17s/it]\u001b[A\n",
      " 82%|████████▏ | 18/22 [00:59<00:12,  3.24s/it]\u001b[A\n",
      " 86%|████████▋ | 19/22 [01:02<00:09,  3.08s/it]\u001b[A\n",
      " 91%|█████████ | 20/22 [01:05<00:06,  3.15s/it]\u001b[A\n",
      " 95%|█████████▌| 21/22 [01:07<00:02,  2.74s/it]\u001b[A\n",
      "100%|██████████| 22/22 [01:10<00:00,  3.18s/it]\u001b[A\n",
      " 11%|█         | 1/9 [01:10<09:20, 70.02s/it]\n",
      "  0%|          | 0/22 [00:00<?, ?it/s]\u001b[A\n",
      "  5%|▍         | 1/22 [00:05<01:50,  5.24s/it]\u001b[A\n",
      "  9%|▉         | 2/22 [00:09<01:34,  4.73s/it]\u001b[A\n",
      " 14%|█▎        | 3/22 [00:13<01:18,  4.14s/it]\u001b[A\n",
      " 18%|█▊        | 4/22 [00:17<01:16,  4.27s/it]\u001b[A\n",
      " 23%|██▎       | 5/22 [00:22<01:18,  4.63s/it]\u001b[A\n",
      " 27%|██▋       | 6/22 [00:26<01:10,  4.39s/it]\u001b[A\n",
      " 32%|███▏      | 7/22 [00:28<00:55,  3.67s/it]\u001b[A\n",
      " 36%|███▋      | 8/22 [00:31<00:45,  3.22s/it]\u001b[A\n",
      " 41%|████      | 9/22 [00:34<00:42,  3.28s/it]\u001b[A\n",
      " 45%|████▌     | 10/22 [00:36<00:33,  2.80s/it]\u001b[A\n",
      " 50%|█████     | 11/22 [00:38<00:30,  2.74s/it]\u001b[A\n",
      " 55%|█████▍    | 12/22 [00:40<00:22,  2.26s/it]\u001b[A\n",
      " 59%|█████▉    | 13/22 [00:43<00:24,  2.68s/it]\u001b[A\n",
      " 64%|██████▎   | 14/22 [00:52<00:30,  3.78s/it]\u001b[A\n",
      " 11%|█         | 1/9 [02:02<16:23, 122.95s/it]\n"
     ]
    },
    {
     "ename": "KeyboardInterrupt",
     "evalue": "",
     "output_type": "error",
     "traceback": [
      "\u001b[0;31m---------------------------------------------------------------------------\u001b[0m",
      "\u001b[0;31mKeyboardInterrupt\u001b[0m                         Traceback (most recent call last)",
      "Cell \u001b[0;32mIn[29], line 17\u001b[0m\n\u001b[1;32m      4\u001b[0m     \u001b[38;5;28;01mfor\u001b[39;00m chrom \u001b[38;5;129;01min\u001b[39;00m tqdm\u001b[38;5;241m.\u001b[39mtqdm(aut_chrom_names):\n\u001b[1;32m      5\u001b[0m         all_reads_df \u001b[38;5;241m=\u001b[39m pl\u001b[38;5;241m.\u001b[39mscan_parquet(\n\u001b[1;32m      6\u001b[0m             Path(\u001b[38;5;124m\"\u001b[39m\u001b[38;5;124m/lustre/scratch126/casm/team154pc/sl17/03.sperm/02.results/01.read_alignment/01.ccs/04.hifiasm/02.hifiasm_0.19.5-r592/02.chromosome_length_scaffolds/\u001b[39m\u001b[38;5;124m\"\u001b[39m) \\\n\u001b[1;32m      7\u001b[0m                 \u001b[38;5;241m/\u001b[39m \u001b[38;5;124mf\u001b[39m\u001b[38;5;124m\"\u001b[39m\u001b[38;5;132;01m{\u001b[39;00mfocal_sample_id\u001b[38;5;132;01m}\u001b[39;00m\u001b[38;5;124m\"\u001b[39m \u001b[38;5;241m/\u001b[39m \u001b[38;5;124m\"\u001b[39m\u001b[38;5;124mreads\u001b[39m\u001b[38;5;124m\"\u001b[39m \u001b[38;5;241m/\u001b[39m \u001b[38;5;124mf\u001b[39m\u001b[38;5;124m\"\u001b[39m\u001b[38;5;132;01m{\u001b[39;00mchrom\u001b[38;5;132;01m}\u001b[39;00m\u001b[38;5;124m_RagTag.high_confidence_snps.parquet\u001b[39m\u001b[38;5;124m\"\u001b[39m\n\u001b[1;32m      8\u001b[0m         )\n\u001b[1;32m     10\u001b[0m         n_reads \u001b[38;5;241m=\u001b[39m \u001b[43m(\u001b[49m\u001b[43mall_reads_df\u001b[49m\n\u001b[1;32m     11\u001b[0m \u001b[43m            \u001b[49m\u001b[38;5;241;43m.\u001b[39;49m\u001b[43mfilter\u001b[49m\u001b[43m(\u001b[49m\n\u001b[1;32m     12\u001b[0m \u001b[43m                \u001b[49m\u001b[43m(\u001b[49m\u001b[43mpl\u001b[49m\u001b[38;5;241;43m.\u001b[39;49m\u001b[43mcol\u001b[49m\u001b[43m(\u001b[49m\u001b[38;5;124;43m\"\u001b[39;49m\u001b[38;5;124;43mmapq1\u001b[39;49m\u001b[38;5;124;43m\"\u001b[39;49m\u001b[43m)\u001b[49m\u001b[43m \u001b[49m\u001b[38;5;241;43m>\u001b[39;49m\u001b[38;5;241;43m=\u001b[39;49m\u001b[43m \u001b[49m\u001b[38;5;241;43m60\u001b[39;49m\u001b[43m)\u001b[49m\u001b[43m \u001b[49m\u001b[38;5;241;43m&\u001b[39;49m\u001b[43m \u001b[49m\u001b[43m\\\u001b[49m\n\u001b[1;32m     13\u001b[0m \u001b[43m                \u001b[49m\u001b[43m(\u001b[49m\u001b[43mpl\u001b[49m\u001b[38;5;241;43m.\u001b[39;49m\u001b[43mcol\u001b[49m\u001b[43m(\u001b[49m\u001b[38;5;124;43m\"\u001b[39;49m\u001b[38;5;124;43mmapq2\u001b[39;49m\u001b[38;5;124;43m\"\u001b[39;49m\u001b[43m)\u001b[49m\u001b[43m \u001b[49m\u001b[38;5;241;43m>\u001b[39;49m\u001b[38;5;241;43m=\u001b[39;49m\u001b[43m \u001b[49m\u001b[38;5;241;43m60\u001b[39;49m\u001b[43m)\u001b[49m\u001b[43m \u001b[49m\u001b[38;5;241;43m&\u001b[39;49m\u001b[43m \u001b[49m\u001b[43m\\\u001b[49m\n\u001b[1;32m     14\u001b[0m \u001b[43m                \u001b[49m\u001b[43m(\u001b[49m\u001b[43mpl\u001b[49m\u001b[38;5;241;43m.\u001b[39;49m\u001b[43mcol\u001b[49m\u001b[43m(\u001b[49m\u001b[38;5;124;43m\"\u001b[39;49m\u001b[38;5;124;43mis_forward1\u001b[39;49m\u001b[38;5;124;43m\"\u001b[39;49m\u001b[43m)\u001b[49m\u001b[43m \u001b[49m\u001b[38;5;241;43m==\u001b[39;49m\u001b[43m \u001b[49m\u001b[43mpl\u001b[49m\u001b[38;5;241;43m.\u001b[39;49m\u001b[43mcol\u001b[49m\u001b[43m(\u001b[49m\u001b[38;5;124;43m\"\u001b[39;49m\u001b[38;5;124;43mis_forward2\u001b[39;49m\u001b[38;5;124;43m\"\u001b[39;49m\u001b[43m)\u001b[49m\u001b[43m)\u001b[49m\n\u001b[1;32m     15\u001b[0m \u001b[43m            \u001b[49m\u001b[43m)\u001b[49m\n\u001b[1;32m     16\u001b[0m \u001b[43m            \u001b[49m\u001b[38;5;241;43m.\u001b[39;49m\u001b[43munique\u001b[49m\u001b[43m(\u001b[49m\u001b[38;5;124;43m\"\u001b[39;49m\u001b[38;5;124;43mread_name\u001b[39;49m\u001b[38;5;124;43m\"\u001b[39;49m\u001b[43m)\u001b[49m\n\u001b[0;32m---> 17\u001b[0m \u001b[43m        \u001b[49m\u001b[43m)\u001b[49m\u001b[38;5;241;43m.\u001b[39;49m\u001b[43mselect\u001b[49m\u001b[43m(\u001b[49m\u001b[43mpl\u001b[49m\u001b[38;5;241;43m.\u001b[39;49m\u001b[43mlen\u001b[49m\u001b[43m(\u001b[49m\u001b[43m)\u001b[49m\u001b[43m)\u001b[49m\u001b[38;5;241;43m.\u001b[39;49m\u001b[43mcollect\u001b[49m\u001b[43m(\u001b[49m\u001b[43mstreaming\u001b[49m\u001b[38;5;241;43m=\u001b[39;49m\u001b[38;5;28;43;01mTrue\u001b[39;49;00m\u001b[43m)\u001b[49m\u001b[38;5;241m.\u001b[39mitem()\n\u001b[1;32m     19\u001b[0m         rows\u001b[38;5;241m.\u001b[39mappend([focal_sample_id, chrom, n_reads])\n\u001b[1;32m     21\u001b[0m filtered_read_counts_df \u001b[38;5;241m=\u001b[39m pl\u001b[38;5;241m.\u001b[39mDataFrame(rows, schema\u001b[38;5;241m=\u001b[39m[\u001b[38;5;124m\"\u001b[39m\u001b[38;5;124msample_id\u001b[39m\u001b[38;5;124m\"\u001b[39m, \u001b[38;5;124m\"\u001b[39m\u001b[38;5;124mchrom\u001b[39m\u001b[38;5;124m\"\u001b[39m, \u001b[38;5;124m\"\u001b[39m\u001b[38;5;124mn_reads\u001b[39m\u001b[38;5;124m\"\u001b[39m])\n",
      "File \u001b[0;32m/nfs/treeoflife-01/teams/tola/users/rs42/miniconda3/envs/sperm/lib/python3.11/site-packages/polars/lazyframe/frame.py:1939\u001b[0m, in \u001b[0;36mLazyFrame.collect\u001b[0;34m(self, type_coercion, predicate_pushdown, projection_pushdown, simplify_expression, slice_pushdown, comm_subplan_elim, comm_subexpr_elim, no_optimization, streaming, background, _eager)\u001b[0m\n\u001b[1;32m   1936\u001b[0m \u001b[38;5;28;01mif\u001b[39;00m background:\n\u001b[1;32m   1937\u001b[0m     \u001b[38;5;28;01mreturn\u001b[39;00m InProcessQuery(ldf\u001b[38;5;241m.\u001b[39mcollect_concurrently())\n\u001b[0;32m-> 1939\u001b[0m \u001b[38;5;28;01mreturn\u001b[39;00m wrap_df(ldf\u001b[38;5;241m.\u001b[39mcollect())\n",
      "\u001b[0;31mKeyboardInterrupt\u001b[0m: "
     ]
    }
   ],
   "source": [
    "rows = []\n",
    "\n",
    "# for focal_sample_id in tqdm.tqdm(sample_ids):\n",
    "#     for chrom in tqdm.tqdm(aut_chrom_names):\n",
    "def runme(focal_sample_id, chrom):\n",
    "    all_reads_df = pl.scan_parquet(\n",
    "        Path(\"/lustre/scratch126/casm/team154pc/sl17/03.sperm/02.results/01.read_alignment/01.ccs/04.hifiasm/02.hifiasm_0.19.5-r592/02.chromosome_length_scaffolds/\") \\\n",
    "            / f\"{focal_sample_id}\" / \"reads\" / f\"{chrom}_RagTag.high_confidence_snps.parquet\"\n",
    "    )\n",
    "\n",
    "    n_reads = (all_reads_df\n",
    "        .filter(\n",
    "            (pl.col(\"mapq1\") >= 60) & \\\n",
    "            (pl.col(\"mapq2\") >= 60) & \\\n",
    "            (pl.col(\"is_forward1\") == pl.col(\"is_forward2\"))\n",
    "        )\n",
    "        .unique(\"read_name\")\n",
    "    ).select(pl.len()).collect(streaming=True).item()\n",
    "\n",
    "    return [focal_sample_id, chrom, n_reads]\n",
    "\n",
    "rows = joblib.Parallel(n_jobs=-1, verbose=10)(\n",
    "    joblib.delayed(runme)(focal_sample_id, chrom) for focal_sample_id in sample_ids for chrom in aut_chrom_names\n",
    ")\n",
    "\n",
    "filtered_read_counts_df = pl.DataFrame(rows, schema=[\"sample_id\", \"chrom\", \"n_reads\"])"
   ]
  },
  {
   "cell_type": "code",
   "execution_count": null,
   "id": "c10fede5-ee0b-47b6-aea7-0ec0a1062622",
   "metadata": {},
   "outputs": [],
   "source": []
  },
  {
   "cell_type": "markdown",
   "id": "130e2d3f-e160-4e8f-bb34-96f2a6eb32d7",
   "metadata": {},
   "source": [
    "## Get read lengths"
   ]
  },
  {
   "cell_type": "markdown",
   "id": "cb606334-85f1-45be-bf7b-7cba8536cc9b",
   "metadata": {},
   "source": [
    "### This is a bit lazy because this is just for mapped reads with SNPs, but I think it shouldn't matter a lot"
   ]
  },
  {
   "cell_type": "code",
   "execution_count": 71,
   "id": "ec59543c-6335-45cd-8870-4f25b08e9aa7",
   "metadata": {},
   "outputs": [],
   "source": [
    "def get_read_lengths(focal_sample_id, chrom):\n",
    "    denovo_chrom = chrom + \"_RagTag\"\n",
    "    filtered_high_conf_mismatches_df = pl.scan_parquet(Path(\"/lustre/scratch126/casm/team154pc/sl17/03.sperm/02.results/01.read_alignment/01.ccs/04.hifiasm/02.hifiasm_0.19.5-r592/02.chromosome_length_scaffolds/\") \\\n",
    "            / f\"{focal_sample_id}\" / \"reads\" / f\"{denovo_chrom}.high_confindence_snps.parquet\")\n",
    "\n",
    "    read_lengths = filtered_high_conf_mismatches_df.unique([\"read_name\"]).select(\"read_length1\")\n",
    "\n",
    "    stats = (read_lengths\n",
    "        .with_columns(\n",
    "            one=pl.lit(1),\n",
    "        )\n",
    "        .select(\n",
    "            pl.col(\"one\").sum().alias(\"n_reads\"),\n",
    "            pl.col(\"read_length1\").mean().alias(\"mean\"),\n",
    "            pl.col(\"read_length1\").quantile(0.01).alias(\"q_0.01\"),\n",
    "            pl.col(\"read_length1\").quantile(0.05).alias(\"q_0.05\"),\n",
    "            pl.col(\"read_length1\").quantile(0.95).alias(\"q_0.95\"),\n",
    "            pl.col(\"read_length1\").quantile(0.99).alias(\"q_0.99\"),\n",
    "            pl.col(\"read_length1\").quantile(0.5).alias(\"median\"),\n",
    "        )\n",
    "        .collect(streaming=True)\n",
    "        .with_columns(\n",
    "            sample_id = pl.lit(focal_sample_id),\n",
    "            chrom = pl.lit(chrom),\n",
    "        )\n",
    "    )\n",
    "    \n",
    "    return stats\n"
   ]
  },
  {
   "cell_type": "code",
   "execution_count": 74,
   "id": "48285f27-eac2-43f1-9fc9-9f515d7e3fd5",
   "metadata": {},
   "outputs": [
    {
     "name": "stderr",
     "output_type": "stream",
     "text": [
      "100%|██████████| 9/9 [05:19<00:00, 35.52s/it]"
     ]
    },
    {
     "name": "stdout",
     "output_type": "stream",
     "text": [
      "CPU times: user 2min 26s, sys: 26.1 s, total: 2min 52s\n",
      "Wall time: 5min 19s\n"
     ]
    },
    {
     "name": "stderr",
     "output_type": "stream",
     "text": [
      "\n"
     ]
    }
   ],
   "source": [
    "%%time\n",
    "read_stast_df = pl.concat([\n",
    "    get_read_lengths(sample_id, chrom) for sample_id in tqdm(sample_ids) for chrom in aut_chrom_names\n",
    "])"
   ]
  },
  {
   "cell_type": "code",
   "execution_count": 80,
   "id": "072fcde9-7249-49ce-9b34-8178e59cde4d",
   "metadata": {},
   "outputs": [
    {
     "data": {
      "text/html": [
       "<div><style>\n",
       ".dataframe > thead > tr,\n",
       ".dataframe > tbody > tr {\n",
       "  text-align: right;\n",
       "  white-space: pre-wrap;\n",
       "}\n",
       "</style>\n",
       "<small>shape: (198, 9)</small><table border=\"1\" class=\"dataframe\"><thead><tr><th>n_reads</th><th>mean</th><th>q_0.01</th><th>q_0.05</th><th>q_0.95</th><th>q_0.99</th><th>median</th><th>sample_id</th><th>chrom</th></tr><tr><td>i32</td><td>f64</td><td>f64</td><td>f64</td><td>f64</td><td>f64</td><td>f64</td><td>str</td><td>str</td></tr></thead><tbody><tr><td>314848</td><td>13404.161186</td><td>9489.0</td><td>10253.0</td><td>18303.0</td><td>20581.0</td><td>12894.0</td><td>&quot;PD50477f&quot;</td><td>&quot;chr1&quot;</td></tr><tr><td>348598</td><td>13381.077533</td><td>9487.0</td><td>10252.0</td><td>18251.0</td><td>20569.0</td><td>12869.0</td><td>&quot;PD50477f&quot;</td><td>&quot;chr2&quot;</td></tr><tr><td>287600</td><td>13387.987789</td><td>9494.0</td><td>10251.0</td><td>18275.0</td><td>20567.0</td><td>12880.0</td><td>&quot;PD50477f&quot;</td><td>&quot;chr3&quot;</td></tr><tr><td>274577</td><td>13351.067966</td><td>9459.0</td><td>10242.0</td><td>18226.0</td><td>20540.0</td><td>12838.0</td><td>&quot;PD50477f&quot;</td><td>&quot;chr4&quot;</td></tr><tr><td>259776</td><td>13374.356411</td><td>9489.0</td><td>10247.0</td><td>18249.0</td><td>20522.0</td><td>12867.0</td><td>&quot;PD50477f&quot;</td><td>&quot;chr5&quot;</td></tr><tr><td>242835</td><td>13371.710853</td><td>9488.0</td><td>10242.0</td><td>18245.0</td><td>20507.0</td><td>12863.0</td><td>&quot;PD50477f&quot;</td><td>&quot;chr6&quot;</td></tr><tr><td>216974</td><td>13385.01638</td><td>9498.0</td><td>10263.0</td><td>18250.0</td><td>20555.0</td><td>12880.0</td><td>&quot;PD50477f&quot;</td><td>&quot;chr7&quot;</td></tr><tr><td>202229</td><td>13393.805775</td><td>9493.0</td><td>10251.0</td><td>18279.0</td><td>20524.0</td><td>12890.0</td><td>&quot;PD50477f&quot;</td><td>&quot;chr8&quot;</td></tr><tr><td>163839</td><td>13394.646763</td><td>9479.0</td><td>10249.0</td><td>18263.0</td><td>20520.0</td><td>12894.0</td><td>&quot;PD50477f&quot;</td><td>&quot;chr9&quot;</td></tr><tr><td>195565</td><td>13384.416174</td><td>9503.0</td><td>10251.0</td><td>18260.0</td><td>20533.0</td><td>12875.0</td><td>&quot;PD50477f&quot;</td><td>&quot;chr10&quot;</td></tr><tr><td>191840</td><td>13391.571528</td><td>9496.0</td><td>10254.0</td><td>18257.0</td><td>20545.0</td><td>12887.0</td><td>&quot;PD50477f&quot;</td><td>&quot;chr11&quot;</td></tr><tr><td>189454</td><td>13388.201796</td><td>9503.0</td><td>10258.0</td><td>18288.0</td><td>20598.0</td><td>12874.0</td><td>&quot;PD50477f&quot;</td><td>&quot;chr12&quot;</td></tr><tr><td>&hellip;</td><td>&hellip;</td><td>&hellip;</td><td>&hellip;</td><td>&hellip;</td><td>&hellip;</td><td>&hellip;</td><td>&hellip;</td><td>&hellip;</td></tr><tr><td>198219</td><td>11219.501143</td><td>3144.0</td><td>4191.0</td><td>22377.0</td><td>27526.0</td><td>9917.0</td><td>&quot;PD50489e&quot;</td><td>&quot;chr11&quot;</td></tr><tr><td>192380</td><td>11137.734063</td><td>3109.0</td><td>4162.0</td><td>22289.0</td><td>27509.0</td><td>9792.0</td><td>&quot;PD50489e&quot;</td><td>&quot;chr12&quot;</td></tr><tr><td>145215</td><td>11150.812375</td><td>3093.0</td><td>4116.0</td><td>22456.0</td><td>27743.0</td><td>9778.0</td><td>&quot;PD50489e&quot;</td><td>&quot;chr13&quot;</td></tr><tr><td>125960</td><td>11184.745499</td><td>3137.0</td><td>4182.0</td><td>22406.0</td><td>27616.0</td><td>9832.0</td><td>&quot;PD50489e&quot;</td><td>&quot;chr14&quot;</td></tr><tr><td>115134</td><td>11234.923246</td><td>3165.0</td><td>4211.0</td><td>22348.0</td><td>27496.0</td><td>9968.0</td><td>&quot;PD50489e&quot;</td><td>&quot;chr15&quot;</td></tr><tr><td>102129</td><td>11172.861528</td><td>3113.0</td><td>4218.0</td><td>22253.0</td><td>27473.0</td><td>9852.0</td><td>&quot;PD50489e&quot;</td><td>&quot;chr16&quot;</td></tr><tr><td>102235</td><td>11094.630078</td><td>3106.0</td><td>4206.0</td><td>22015.0</td><td>27113.0</td><td>9745.0</td><td>&quot;PD50489e&quot;</td><td>&quot;chr17&quot;</td></tr><tr><td>118187</td><td>11114.587459</td><td>3132.0</td><td>4148.0</td><td>22256.0</td><td>27364.0</td><td>9807.0</td><td>&quot;PD50489e&quot;</td><td>&quot;chr18&quot;</td></tr><tr><td>69060</td><td>10811.919128</td><td>3068.0</td><td>4189.0</td><td>21704.0</td><td>26769.0</td><td>9349.0</td><td>&quot;PD50489e&quot;</td><td>&quot;chr19&quot;</td></tr><tr><td>90234</td><td>11244.910178</td><td>3132.0</td><td>4227.0</td><td>22226.0</td><td>27346.0</td><td>9977.0</td><td>&quot;PD50489e&quot;</td><td>&quot;chr20&quot;</td></tr><tr><td>53091</td><td>11191.82918</td><td>3101.0</td><td>4134.0</td><td>22389.0</td><td>27386.0</td><td>9877.0</td><td>&quot;PD50489e&quot;</td><td>&quot;chr21&quot;</td></tr><tr><td>51171</td><td>11055.403373</td><td>3166.0</td><td>4231.0</td><td>21876.0</td><td>27053.0</td><td>9720.0</td><td>&quot;PD50489e&quot;</td><td>&quot;chr22&quot;</td></tr></tbody></table></div>"
      ],
      "text/plain": [
       "shape: (198, 9)\n",
       "┌─────────┬──────────────┬────────┬─────────┬───┬─────────┬─────────┬───────────┬───────┐\n",
       "│ n_reads ┆ mean         ┆ q_0.01 ┆ q_0.05  ┆ … ┆ q_0.99  ┆ median  ┆ sample_id ┆ chrom │\n",
       "│ ---     ┆ ---          ┆ ---    ┆ ---     ┆   ┆ ---     ┆ ---     ┆ ---       ┆ ---   │\n",
       "│ i32     ┆ f64          ┆ f64    ┆ f64     ┆   ┆ f64     ┆ f64     ┆ str       ┆ str   │\n",
       "╞═════════╪══════════════╪════════╪═════════╪═══╪═════════╪═════════╪═══════════╪═══════╡\n",
       "│ 314848  ┆ 13404.161186 ┆ 9489.0 ┆ 10253.0 ┆ … ┆ 20581.0 ┆ 12894.0 ┆ PD50477f  ┆ chr1  │\n",
       "│ 348598  ┆ 13381.077533 ┆ 9487.0 ┆ 10252.0 ┆ … ┆ 20569.0 ┆ 12869.0 ┆ PD50477f  ┆ chr2  │\n",
       "│ 287600  ┆ 13387.987789 ┆ 9494.0 ┆ 10251.0 ┆ … ┆ 20567.0 ┆ 12880.0 ┆ PD50477f  ┆ chr3  │\n",
       "│ 274577  ┆ 13351.067966 ┆ 9459.0 ┆ 10242.0 ┆ … ┆ 20540.0 ┆ 12838.0 ┆ PD50477f  ┆ chr4  │\n",
       "│ 259776  ┆ 13374.356411 ┆ 9489.0 ┆ 10247.0 ┆ … ┆ 20522.0 ┆ 12867.0 ┆ PD50477f  ┆ chr5  │\n",
       "│ …       ┆ …            ┆ …      ┆ …       ┆ … ┆ …       ┆ …       ┆ …         ┆ …     │\n",
       "│ 118187  ┆ 11114.587459 ┆ 3132.0 ┆ 4148.0  ┆ … ┆ 27364.0 ┆ 9807.0  ┆ PD50489e  ┆ chr18 │\n",
       "│ 69060   ┆ 10811.919128 ┆ 3068.0 ┆ 4189.0  ┆ … ┆ 26769.0 ┆ 9349.0  ┆ PD50489e  ┆ chr19 │\n",
       "│ 90234   ┆ 11244.910178 ┆ 3132.0 ┆ 4227.0  ┆ … ┆ 27346.0 ┆ 9977.0  ┆ PD50489e  ┆ chr20 │\n",
       "│ 53091   ┆ 11191.82918  ┆ 3101.0 ┆ 4134.0  ┆ … ┆ 27386.0 ┆ 9877.0  ┆ PD50489e  ┆ chr21 │\n",
       "│ 51171   ┆ 11055.403373 ┆ 3166.0 ┆ 4231.0  ┆ … ┆ 27053.0 ┆ 9720.0  ┆ PD50489e  ┆ chr22 │\n",
       "└─────────┴──────────────┴────────┴─────────┴───┴─────────┴─────────┴───────────┴───────┘"
      ]
     },
     "execution_count": 80,
     "metadata": {},
     "output_type": "execute_result"
    }
   ],
   "source": [
    "read_stast_df"
   ]
  },
  {
   "cell_type": "code",
   "execution_count": null,
   "id": "ea80be2c-e711-46d4-8df6-cbb3d4767506",
   "metadata": {},
   "outputs": [],
   "source": []
  },
  {
   "cell_type": "code",
   "execution_count": 73,
   "id": "201f0320-277b-4249-abcc-f4de27b5ecbf",
   "metadata": {},
   "outputs": [
    {
     "data": {
      "text/plain": [
       "{'PD50477f': 13465.900949042627,\n",
       " 'PD50519d': 14053.125118184742,\n",
       " 'PD50508f': 17011.82899703189,\n",
       " 'PD50523b': 15500.8475274986,\n",
       " 'PD50521b': 15827.801594374007,\n",
       " 'PD50508b': 15688.517728354956,\n",
       " 'PD46180c': 16380.781127903387,\n",
       " 'PD50521e': 12234.025510380265,\n",
       " 'PD50489e': 11014.38739689398}"
      ]
     },
     "metadata": {},
     "output_type": "display_data"
    }
   ],
   "source": [
    "display(read_length_means)"
   ]
  },
  {
   "cell_type": "code",
   "execution_count": 38,
   "id": "9baf52c6-f743-4393-ad94-686589e55219",
   "metadata": {},
   "outputs": [
    {
     "name": "stdout",
     "output_type": "stream",
     "text": [
      "Average read length: 14323.187104500143\n"
     ]
    }
   ],
   "source": [
    "print(\n",
    "    \"Average read length:\", \n",
    "    np.sum([read_length_means[sample_id] * read_numbers[sample_id] for sample_id in sample_ids]) / np.sum(list(read_numbers.values())),\n",
    ")"
   ]
  },
  {
   "cell_type": "markdown",
   "id": "5f9c1a9f-9478-40be-96e4-602f22bd150b",
   "metadata": {},
   "source": [
    "# Candidate read classes"
   ]
  },
  {
   "cell_type": "code",
   "execution_count": 6,
   "id": "f48ef09a-ff1b-45cf-9820-9ed317c94654",
   "metadata": {},
   "outputs": [],
   "source": [
    "cls_df = pl.concat([\n",
    "    pl.read_parquet(\n",
    "        str(Path(\"/lustre/scratch126/casm/team154pc/sl17/03.sperm/02.results/01.read_alignment/01.ccs/04.hifiasm/02.hifiasm_0.19.5-r592/02.chromosome_length_scaffolds\")\n",
    "            / f\"{focal_sample_id}\" / \"reads\" / f\"{chrom}_RagTag.certainty_0.95.classified_reads.parquet\")\n",
    "    ) \\\n",
    "    for focal_sample_id in sample_ids\n",
    "    for chrom in aut_chrom_names\n",
    "])\n",
    "\n",
    "very_trusty_cls_df = (cls_df\n",
    "    .filter(~pl.col(\"has_common_transition\"))\n",
    "    .filter(pl.col(\"min_coverage_between_transitions_hap1\") >= 3)\n",
    "    .filter(pl.col(\"min_coverage_between_transitions_hap2\") >= 3)\n",
    "    .filter(pl.col(\"mapq1\") >= 60)\n",
    "    .filter(pl.col(\"mapq2\") >= 60)\n",
    "    .filter(pl.col(\"is_forward1\") == pl.col(\"is_forward2\")) \n",
    "    .filter((pl.col(\"total_mismatches\") <= 100) & (pl.col(\"total_clipping\") <= 10))\n",
    ")"
   ]
  },
  {
   "cell_type": "code",
   "execution_count": 7,
   "id": "d1f51e38-d14f-481c-a89f-3d0423e812a1",
   "metadata": {},
   "outputs": [
    {
     "data": {
      "text/html": [
       "<div><style>\n",
       ".dataframe > thead > tr,\n",
       ".dataframe > tbody > tr {\n",
       "  text-align: right;\n",
       "  white-space: pre-wrap;\n",
       "}\n",
       "</style>\n",
       "<small>shape: (9, 5)</small><table border=\"1\" class=\"dataframe\"><thead><tr><th>sample_id</th><th>CO</th><th>GC</th><th>ambiguous</th><th>CNCO</th></tr><tr><td>str</td><td>u32</td><td>u32</td><td>u32</td><td>u32</td></tr></thead><tbody><tr><td>&quot;PD46180c&quot;</td><td>261</td><td>74</td><td>131</td><td>45</td></tr><tr><td>&quot;PD50477f&quot;</td><td>202</td><td>75</td><td>130</td><td>31</td></tr><tr><td>&quot;PD50489e&quot;</td><td>180</td><td>53</td><td>81</td><td>24</td></tr><tr><td>&quot;PD50508b&quot;</td><td>161</td><td>46</td><td>93</td><td>3</td></tr><tr><td>&quot;PD50508f&quot;</td><td>130</td><td>31</td><td>78</td><td>8</td></tr><tr><td>&quot;PD50519d&quot;</td><td>177</td><td>85</td><td>111</td><td>54</td></tr><tr><td>&quot;PD50521b&quot;</td><td>233</td><td>91</td><td>160</td><td>62</td></tr><tr><td>&quot;PD50521e&quot;</td><td>199</td><td>74</td><td>119</td><td>32</td></tr><tr><td>&quot;PD50523b&quot;</td><td>208</td><td>85</td><td>119</td><td>19</td></tr></tbody></table></div>"
      ],
      "text/plain": [
       "shape: (9, 5)\n",
       "┌───────────┬─────┬─────┬───────────┬──────┐\n",
       "│ sample_id ┆ CO  ┆ GC  ┆ ambiguous ┆ CNCO │\n",
       "│ ---       ┆ --- ┆ --- ┆ ---       ┆ ---  │\n",
       "│ str       ┆ u32 ┆ u32 ┆ u32       ┆ u32  │\n",
       "╞═══════════╪═════╪═════╪═══════════╪══════╡\n",
       "│ PD46180c  ┆ 261 ┆ 74  ┆ 131       ┆ 45   │\n",
       "│ PD50477f  ┆ 202 ┆ 75  ┆ 130       ┆ 31   │\n",
       "│ PD50489e  ┆ 180 ┆ 53  ┆ 81        ┆ 24   │\n",
       "│ PD50508b  ┆ 161 ┆ 46  ┆ 93        ┆ 3    │\n",
       "│ PD50508f  ┆ 130 ┆ 31  ┆ 78        ┆ 8    │\n",
       "│ PD50519d  ┆ 177 ┆ 85  ┆ 111       ┆ 54   │\n",
       "│ PD50521b  ┆ 233 ┆ 91  ┆ 160       ┆ 62   │\n",
       "│ PD50521e  ┆ 199 ┆ 74  ┆ 119       ┆ 32   │\n",
       "│ PD50523b  ┆ 208 ┆ 85  ┆ 119       ┆ 19   │\n",
       "└───────────┴─────┴─────┴───────────┴──────┘"
      ]
     },
     "metadata": {},
     "output_type": "display_data"
    }
   ],
   "source": [
    "call_stats_df = (very_trusty_cls_df    \n",
    "    .pivot(\n",
    "        values=[\"class\"],\n",
    "        index=[\"sample_id\"],\n",
    "        columns=[\"class\"],\n",
    "        aggregate_function='len'\n",
    "    )\n",
    "    .sort(by=\"sample_id\")\n",
    "    .select(\"sample_id\", \"CO\", \"GC\", \"ambiguous\", \"CNCO\")\n",
    ")\n",
    "\n",
    "display(call_stats_df)"
   ]
  },
  {
   "cell_type": "code",
   "execution_count": 8,
   "id": "b1dabecc-4dd2-4e5a-9bce-6e0b0b9102d2",
   "metadata": {},
   "outputs": [
    {
     "data": {
      "text/html": [
       "<div><style>\n",
       ".dataframe > thead > tr,\n",
       ".dataframe > tbody > tr {\n",
       "  text-align: right;\n",
       "  white-space: pre-wrap;\n",
       "}\n",
       "</style>\n",
       "<small>shape: (1, 5)</small><table border=\"1\" class=\"dataframe\"><thead><tr><th>sample_id</th><th>CO</th><th>GC</th><th>ambiguous</th><th>CNCO</th></tr><tr><td>str</td><td>u32</td><td>u32</td><td>u32</td><td>u32</td></tr></thead><tbody><tr><td>null</td><td>1751</td><td>614</td><td>1022</td><td>278</td></tr></tbody></table></div>"
      ],
      "text/plain": [
       "shape: (1, 5)\n",
       "┌───────────┬──────┬─────┬───────────┬──────┐\n",
       "│ sample_id ┆ CO   ┆ GC  ┆ ambiguous ┆ CNCO │\n",
       "│ ---       ┆ ---  ┆ --- ┆ ---       ┆ ---  │\n",
       "│ str       ┆ u32  ┆ u32 ┆ u32       ┆ u32  │\n",
       "╞═══════════╪══════╪═════╪═══════════╪══════╡\n",
       "│ null      ┆ 1751 ┆ 614 ┆ 1022      ┆ 278  │\n",
       "└───────────┴──────┴─────┴───────────┴──────┘"
      ]
     },
     "execution_count": 8,
     "metadata": {},
     "output_type": "execute_result"
    }
   ],
   "source": [
    "call_stats_df.sum()"
   ]
  },
  {
   "cell_type": "code",
   "execution_count": 33,
   "id": "55be4640-4fcc-4b51-b0a3-2924181370bf",
   "metadata": {},
   "outputs": [
    {
     "data": {
      "text/plain": [
       "['m64230e_220906_003948/60032580/ccs',\n",
       " 'm64178e_220829_002441/25232978/ccs',\n",
       " 'm64094e_220917_231317/155059512/ccs',\n",
       " 'm64178e_220829_002441/62392396/ccs',\n",
       " 'm64094e_220917_231317/96076942/ccs',\n",
       " 'm64094e_220917_231317/74517145/ccs',\n",
       " 'm64230e_220906_003948/52166986/ccs',\n",
       " 'm64230e_220906_003948/11666271/ccs',\n",
       " 'm64222e_220804_013319/56297546/ccs',\n",
       " 'm64222e_220804_013319/41749151/ccs',\n",
       " 'm64222e_220804_013319/45547932/ccs',\n",
       " 'm64221e_220814_084225/164430634/ccs',\n",
       " 'm64222e_220804_013319/43976808/ccs',\n",
       " 'm64222e_220804_013319/47317891/ccs',\n",
       " 'm64221e_220814_084225/86903563/ccs',\n",
       " 'm64222e_220804_013319/22283946/ccs',\n",
       " 'm64222e_220804_013319/116720068/ccs',\n",
       " 'm64221e_220811_133409/30083306/ccs',\n",
       " 'm64221e_220811_133409/86312411/ccs',\n",
       " 'm64221e_220811_133409/57606928/ccs',\n",
       " 'm64221e_220814_084225/42402180/ccs',\n",
       " 'm64221e_220811_133409/156237854/ccs',\n",
       " 'm64221e_220814_084225/135531048/ccs',\n",
       " 'm64221e_220814_084225/61933374/ccs',\n",
       " 'm64222e_220804_013319/52035891/ccs',\n",
       " 'm64222e_220804_013319/24119431/ccs',\n",
       " 'm64221e_220814_084225/130549150/ccs',\n",
       " 'm64178e_220827_132801/55773773/ccs',\n",
       " 'm64229e_220913_234845/18483464/ccs',\n",
       " 'm64229e_220911_015559/67109081/ccs',\n",
       " 'm64229e_220913_234845/165741700/ccs',\n",
       " 'm64016e_220903_004635/179570014/ccs',\n",
       " 'm64229e_220911_015559/178128607/ccs',\n",
       " 'm64229e_220911_015559/38471137/ccs',\n",
       " 'm64016e_220901_135237/110952989/ccs',\n",
       " 'm64229e_220909_150132/99681901/ccs',\n",
       " 'm64016e_220901_135237/21825066/ccs',\n",
       " 'm64016e_220905_200242/98240161/ccs',\n",
       " 'm64016e_220905_200242/149489318/ccs',\n",
       " 'm64016e_220905_200242/108399242/ccs',\n",
       " 'm64178e_220824_153720/138807483/ccs',\n",
       " 'm64178e_220824_153720/179045405/ccs',\n",
       " 'm64016e_220904_102424/137364734/ccs',\n",
       " 'm64178e_220824_153720/160629818/ccs',\n",
       " 'm64221e_220812_230038/113836394/ccs',\n",
       " 'm64221e_220812_230038/1574852/ccs',\n",
       " 'm64222e_220805_105329/39323876/ccs',\n",
       " 'm64016e_220816_095555/81068543/ccs',\n",
       " 'm64094e_220717_002414/66063090/ccs',\n",
       " 'm64174e_220620_110709/129172237/ccs',\n",
       " 'm64174e_220620_110709/60883267/ccs',\n",
       " 'm64174e_220620_110709/62392404/ccs',\n",
       " 'm64174e_220620_110709/56298290/ccs',\n",
       " 'm64094e_220717_002414/82709011/ccs',\n",
       " 'm64094e_220717_002414/129368391/ccs',\n",
       " 'm64094e_220715_151527/7865396/ccs',\n",
       " 'm64094e_220715_151527/8653118/ccs',\n",
       " 'm64094e_220715_151527/161155192/ccs',\n",
       " 'm64094e_220717_002414/110496448/ccs',\n",
       " 'm64174e_220620_110709/104661259/ccs',\n",
       " 'm64094e_220717_002414/20055042/ccs']"
      ]
     },
     "execution_count": 33,
     "metadata": {},
     "output_type": "execute_result"
    }
   ],
   "source": [
    "read_names"
   ]
  },
  {
   "cell_type": "code",
   "execution_count": null,
   "id": "523cf7d7-90ab-4e71-86ad-990c4d78db5f",
   "metadata": {},
   "outputs": [],
   "source": []
  }
 ],
 "metadata": {
  "kernelspec": {
   "display_name": "sperm",
   "language": "python",
   "name": "sperm"
  },
  "language_info": {
   "codemirror_mode": {
    "name": "ipython",
    "version": 3
   },
   "file_extension": ".py",
   "mimetype": "text/x-python",
   "name": "python",
   "nbconvert_exporter": "python",
   "pygments_lexer": "ipython3",
   "version": "3.11.6"
  }
 },
 "nbformat": 4,
 "nbformat_minor": 5
}
