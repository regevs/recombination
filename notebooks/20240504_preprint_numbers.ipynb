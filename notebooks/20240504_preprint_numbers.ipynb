{
 "cells": [
  {
   "cell_type": "code",
   "execution_count": 1,
   "id": "32c4a297-39ee-4727-96f0-0511c0a60aa4",
   "metadata": {},
   "outputs": [],
   "source": [
    "%load_ext autoreload\n",
    "%autoreload 2"
   ]
  },
  {
   "cell_type": "code",
   "execution_count": 2,
   "id": "2a05f37d-8818-47c4-8e08-48cfe55088a2",
   "metadata": {},
   "outputs": [],
   "source": [
    "import numpy as np\n",
    "import pandas as pd\n",
    "import matplotlib as mpl\n",
    "import matplotlib.pyplot as plt\n",
    "import matplotlib.ticker as ticker\n",
    "import numba\n",
    "import numba.typed\n",
    "\n",
    "from pathlib import Path\n",
    "import tqdm\n",
    "import sys\n",
    "import seaborn as sns\n",
    "import scipy.stats\n",
    "import os\n",
    "import pysam\n",
    "import pprint\n",
    "import pickle\n",
    "import joblib\n",
    "import subprocess\n",
    "import polars as pl\n",
    "import io\n",
    "\n",
    "# This is needed before pybedtools to make sure bedtools is imported on sanger JupyterHub \n",
    "os.environ[\"PATH\"] += \":\" + os.path.join(sys.prefix, \"bin\")\n",
    "import pybedtools\n",
    "\n",
    "pd.set_option('display.max_rows', 1000)\n"
   ]
  },
  {
   "cell_type": "code",
   "execution_count": 3,
   "id": "d9443771-8602-42fe-98bf-56ee9f62d541",
   "metadata": {},
   "outputs": [],
   "source": [
    "sys.path.append(str(Path(os.getcwd()).parent))\n",
    "from src import liftover, annotate, diagnostics, inference\n",
    "from src.IDs import *"
   ]
  },
  {
   "cell_type": "markdown",
   "id": "ac10dd8a-61ce-4df2-86eb-4554fd917d61",
   "metadata": {},
   "source": [
    "# Basic stats"
   ]
  },
  {
   "cell_type": "markdown",
   "id": "e30fd7e6-5644-4e6d-a796-1ef88e0a663d",
   "metadata": {},
   "source": [
    "## Read coverage"
   ]
  },
  {
   "cell_type": "code",
   "execution_count": 25,
   "id": "1dde4758-0b06-400c-a09f-6597d8824f17",
   "metadata": {},
   "outputs": [],
   "source": [
    "def load_depth(sample_id, chrom, n_every = 1):\n",
    "    depth_path = f\"/lustre/scratch126/casm/team154pc/sl17/03.sperm/02.results/01.read_alignment/01.ccs/03.T2T-CHM13/{sample_id}/chm13.{sample_id}.{chrom}.depth.txt.gz\"\n",
    "\n",
    "    res = subprocess.run(f\"zcat {depth_path} | awk 'NR % {n_every} == 0'\", shell=True, capture_output=True)\n",
    "    \n",
    "    df = pl.read_csv(\n",
    "        io.BytesIO(res.stdout),\n",
    "        separator=\"\\t\",\n",
    "        new_columns=[\"chrom\", \"pos_1based\", \"depth\"],\n",
    "    )\n",
    "\n",
    "    return df"
   ]
  },
  {
   "cell_type": "code",
   "execution_count": null,
   "id": "485e6790-2d67-4ebd-812c-7498a0bc091f",
   "metadata": {},
   "outputs": [
    {
     "name": "stderr",
     "output_type": "stream",
     "text": [
      "[Parallel(n_jobs=-1)]: Using backend LokyBackend with 4 concurrent workers.\n",
      "[Parallel(n_jobs=-1)]: Done   5 tasks      | elapsed:  2.0min\n",
      "[Parallel(n_jobs=-1)]: Done  10 tasks      | elapsed:  2.8min\n",
      "[Parallel(n_jobs=-1)]: Done  17 tasks      | elapsed:  3.7min\n",
      "[Parallel(n_jobs=-1)]: Done  24 tasks      | elapsed:  5.1min\n",
      "[Parallel(n_jobs=-1)]: Done  33 tasks      | elapsed:  6.8min\n",
      "[Parallel(n_jobs=-1)]: Done  42 tasks      | elapsed:  7.7min\n",
      "[Parallel(n_jobs=-1)]: Done  53 tasks      | elapsed: 10.6min\n",
      "[Parallel(n_jobs=-1)]: Done  64 tasks      | elapsed: 11.6min\n"
     ]
    }
   ],
   "source": [
    "%%time\n",
    "stats = []\n",
    "\n",
    "def runme(sample_id, chrom, n_every):\n",
    "    df = load_depth(sample_id, chrom, n_every)\n",
    "    return [sample_id, chrom, len(df), df[\"depth\"].mean()]\n",
    "    \n",
    "stats = joblib.Parallel(n_jobs=-1, verbose=10)(\n",
    "    joblib.delayed(runme)(sample_id, chrom, 1000) for sample_id in sample_ids for chrom in aut_chrom_names\n",
    ")\n"
   ]
  },
  {
   "cell_type": "code",
   "execution_count": 95,
   "id": "40dfb72c-55fb-478f-b9b8-6be971777445",
   "metadata": {},
   "outputs": [],
   "source": [
    "stats_df = (pl.DataFrame(stats, schema=[\"sample_id\", \"chrom\", \"n_sites\", \"mean_depth\"])\n",
    "    .group_by(\"sample_id\")\n",
    "    .agg(\n",
    "        n_total = pl.col(\"n_sites\").sum(),\n",
    "        weighted_sum = (pl.col(\"n_sites\") * pl.col(\"mean_depth\")).sum(),\n",
    "    )\n",
    "    .select(\n",
    "        \"sample_id\",\n",
    "        (pl.col(\"weighted_sum\") / pl.col(\"n_total\")).alias(\"mean_depth\"),\n",
    "    )\n",
    "    .sort(\"mean_depth\")\n",
    ")"
   ]
  },
  {
   "cell_type": "code",
   "execution_count": 96,
   "id": "fcfda7ef-d502-4d3a-bef4-0e811896765c",
   "metadata": {},
   "outputs": [
    {
     "data": {
      "text/html": [
       "<div><style>\n",
       ".dataframe > thead > tr,\n",
       ".dataframe > tbody > tr {\n",
       "  text-align: right;\n",
       "  white-space: pre-wrap;\n",
       "}\n",
       "</style>\n",
       "<small>shape: (9, 2)</small><table border=\"1\" class=\"dataframe\"><thead><tr><th>sample_id</th><th>mean_depth</th></tr><tr><td>str</td><td>f64</td></tr></thead><tbody><tr><td>&quot;PD50508f&quot;</td><td>15.652876</td></tr><tr><td>&quot;PD50508b&quot;</td><td>20.623035</td></tr><tr><td>&quot;PD50489e&quot;</td><td>22.238416</td></tr><tr><td>&quot;PD50519d&quot;</td><td>23.319102</td></tr><tr><td>&quot;PD50523b&quot;</td><td>24.503857</td></tr><tr><td>&quot;PD50521e&quot;</td><td>25.114194</td></tr><tr><td>&quot;PD50477f&quot;</td><td>25.343984</td></tr><tr><td>&quot;PD46180c&quot;</td><td>31.714647</td></tr><tr><td>&quot;PD50521b&quot;</td><td>33.258736</td></tr></tbody></table></div>"
      ],
      "text/plain": [
       "shape: (9, 2)\n",
       "┌───────────┬────────────┐\n",
       "│ sample_id ┆ mean_depth │\n",
       "│ ---       ┆ ---        │\n",
       "│ str       ┆ f64        │\n",
       "╞═══════════╪════════════╡\n",
       "│ PD50508f  ┆ 15.652876  │\n",
       "│ PD50508b  ┆ 20.623035  │\n",
       "│ PD50489e  ┆ 22.238416  │\n",
       "│ PD50519d  ┆ 23.319102  │\n",
       "│ PD50523b  ┆ 24.503857  │\n",
       "│ PD50521e  ┆ 25.114194  │\n",
       "│ PD50477f  ┆ 25.343984  │\n",
       "│ PD46180c  ┆ 31.714647  │\n",
       "│ PD50521b  ┆ 33.258736  │\n",
       "└───────────┴────────────┘"
      ]
     },
     "execution_count": 96,
     "metadata": {},
     "output_type": "execute_result"
    }
   ],
   "source": [
    "stats_df"
   ]
  },
  {
   "cell_type": "code",
   "execution_count": 92,
   "id": "7b5ae9e2-6678-4c72-b05c-79aef6033296",
   "metadata": {},
   "outputs": [
    {
     "data": {
      "text/html": [
       "<div><style>\n",
       ".dataframe > thead > tr,\n",
       ".dataframe > tbody > tr {\n",
       "  text-align: right;\n",
       "  white-space: pre-wrap;\n",
       "}\n",
       "</style>\n",
       "<small>shape: (1, 2)</small><table border=\"1\" class=\"dataframe\"><thead><tr><th>sample_id</th><th>mean_depth</th></tr><tr><td>str</td><td>f64</td></tr></thead><tbody><tr><td>null</td><td>24.640983</td></tr></tbody></table></div>"
      ],
      "text/plain": [
       "shape: (1, 2)\n",
       "┌───────────┬────────────┐\n",
       "│ sample_id ┆ mean_depth │\n",
       "│ ---       ┆ ---        │\n",
       "│ str       ┆ f64        │\n",
       "╞═══════════╪════════════╡\n",
       "│ null      ┆ 24.640983  │\n",
       "└───────────┴────────────┘"
      ]
     },
     "execution_count": 92,
     "metadata": {},
     "output_type": "execute_result"
    }
   ],
   "source": [
    "stats_df.mean()"
   ]
  },
  {
   "cell_type": "code",
   "execution_count": null,
   "id": "292f731f-49d2-436f-b420-a5463c761a0d",
   "metadata": {},
   "outputs": [],
   "source": []
  },
  {
   "cell_type": "code",
   "execution_count": null,
   "id": "96bbb3bc-f121-4d90-b711-2f5194d0cdd4",
   "metadata": {},
   "outputs": [],
   "source": []
  },
  {
   "cell_type": "markdown",
   "id": "6cfc4a57-fcf3-4769-bda3-31c76bb77e7d",
   "metadata": {},
   "source": [
    "## Get read counts"
   ]
  },
  {
   "cell_type": "code",
   "execution_count": 5,
   "id": "384a1ea6-2367-4ee7-b5ef-c5483a1a415e",
   "metadata": {},
   "outputs": [],
   "source": [
    "read_length_means = {}\n",
    "read_length_stds = {}\n",
    "read_numbers = {}\n",
    "\n",
    "ccs_read_path = Path(\"/lustre/scratch126/casm/team154pc/sl17/03.sperm/01.data/02.ccs/\")\n",
    "\n",
    "for sample_id in rahbari_sample_ids:\n",
    "    count_path = ccs_read_path / sample_id / (sample_id + \".ccs.filtered.fastqc\")\n",
    "    d = open(count_path).read().strip().split()\n",
    "    read_numbers[sample_id] = int(d[1])\n",
    "    read_length_means[sample_id] = float(d[3])\n",
    "    read_length_stds[sample_id] = float(d[4])\n",
    "    \n",
    "for sample_id in sudmant_sample_ids:\n",
    "    path = Path(\"/lustre/scratch126/casm/team154pc/sl17/03.sperm/01.data/02.ccs/PeterSudmant\") / sample_id\n",
    "    read_numbers_total = 0\n",
    "    read_length_means_total = 0\n",
    "    for filename in path.glob(\"*.ccs.stats.txt\"):\n",
    "        with open(filename) as F:\n",
    "            x = F.readlines()[2].split()\n",
    "            read_numbers_total += int(x[1].replace(\",\",\"\"))\n",
    "            read_length_means_total += int(x[3].replace(\",\",\"\"))\n",
    "    read_numbers[sample_id] = read_numbers_total\n",
    "    read_length_means[sample_id] = read_length_means_total\n",
    "    read_length_stds[sample_id] = 0\n",
    "    \n",
    "for sample_id in normal_sample_ids:\n",
    "    path = Path(\"/lustre/scratch126/casm/team154pc/sl17/01.himut/01.data/ccs/\") / sample_id / f\"{sample_id}.ccs.filtered.fastq.stat\"\n",
    "    d = dict([x.strip().split(\": \") for x in open(path).read().strip().splitlines()])\n",
    "    read_numbers[sample_id] = int(d[\"number_of_sequences\"])\n",
    "    read_length_means[sample_id] = float(d[\"mean\"])\n",
    "    read_length_stds[sample_id] = float(d[\"std\"])"
   ]
  },
  {
   "cell_type": "code",
   "execution_count": 6,
   "id": "e57dd375-e1e2-45d4-9b72-34d13f710b0f",
   "metadata": {},
   "outputs": [
    {
     "data": {
      "text/plain": [
       "{'PD50477f': 7185241,\n",
       " 'PD50519d': 5353906,\n",
       " 'PD50508f': 3040994,\n",
       " 'PD50523b': 4741878,\n",
       " 'PD50521b': 6113622,\n",
       " 'PD50508b': 3947659,\n",
       " 'PD46180c': 5936129,\n",
       " 'PD50521e': 6168195,\n",
       " 'PD50489e': 6065965,\n",
       " '1894': 9181560,\n",
       " '3898': 8634738,\n",
       " '7899': 10220204,\n",
       " '95619': 8876456,\n",
       " '115980': 9037595,\n",
       " '2895': 6982155,\n",
       " 'PD47269d': 12659998,\n",
       " 'PD48473b': 4949180}"
      ]
     },
     "metadata": {},
     "output_type": "display_data"
    }
   ],
   "source": [
    "display(read_numbers)"
   ]
  },
  {
   "cell_type": "code",
   "execution_count": 17,
   "id": "adc9fa50-9308-4c72-9571-918b106fd928",
   "metadata": {},
   "outputs": [
    {
     "name": "stdout",
     "output_type": "stream",
     "text": [
      "Total number of reads (before any processing): 101486297\n"
     ]
    }
   ],
   "source": [
    "print(\"Total number of reads (before any processing):\", np.sum(list(read_numbers.values())))"
   ]
  },
  {
   "cell_type": "code",
   "execution_count": 18,
   "id": "89d70485-5d0c-4c3a-9968-81b2fea1578b",
   "metadata": {
    "tags": []
   },
   "outputs": [
    {
     "name": "stdout",
     "output_type": "stream",
     "text": [
      "Average read length: 21778.8143966443\n"
     ]
    }
   ],
   "source": [
    "print(\"Average read length:\", np.mean(list(read_length_means.values())))"
   ]
  },
  {
   "cell_type": "code",
   "execution_count": null,
   "id": "ee28fda0-1d75-4fa7-915e-49b8a6fa1d2f",
   "metadata": {},
   "outputs": [],
   "source": []
  },
  {
   "cell_type": "code",
   "execution_count": 7,
   "id": "ad617050-7f9b-4729-bfca-ba19c413f1e0",
   "metadata": {
    "tags": []
   },
   "outputs": [
    {
     "data": {
      "text/plain": [
       "{'PD50477f': 13465.900949042627,\n",
       " 'PD50519d': 14053.125118184742,\n",
       " 'PD50508f': 17011.82899703189,\n",
       " 'PD50523b': 15500.8475274986,\n",
       " 'PD50521b': 15827.801594374007,\n",
       " 'PD50508b': 15688.517728354956,\n",
       " 'PD46180c': 16380.781127903387,\n",
       " 'PD50521e': 12234.025510380265,\n",
       " 'PD50489e': 11014.38739689398,\n",
       " '1894': 33284,\n",
       " '3898': 34453,\n",
       " '7899': 31966,\n",
       " '95619': 32162,\n",
       " '115980': 30573,\n",
       " '2895': 33067,\n",
       " 'PD47269d': 16632.168035097635,\n",
       " 'PD48473b': 18270.600806194157}"
      ]
     },
     "execution_count": 7,
     "metadata": {},
     "output_type": "execute_result"
    }
   ],
   "source": [
    "read_length_means"
   ]
  },
  {
   "cell_type": "code",
   "execution_count": 8,
   "id": "2c43dc1f-d6e5-41dd-a2a7-7e249d76f6c0",
   "metadata": {
    "tags": []
   },
   "outputs": [
    {
     "data": {
      "text/plain": [
       "{'PD50477f': 2589.3969203803667,\n",
       " 'PD50519d': 3806.4821315357935,\n",
       " 'PD50508f': 3318.579196835446,\n",
       " 'PD50523b': 3477.5704405533756,\n",
       " 'PD50521b': 3761.3441791718737,\n",
       " 'PD50508b': 3065.206519273185,\n",
       " 'PD46180c': 3713.4639503032836,\n",
       " 'PD50521e': 4412.44918173114,\n",
       " 'PD50489e': 6058.533851761193,\n",
       " '1894': 0,\n",
       " '3898': 0,\n",
       " '7899': 0,\n",
       " '95619': 0,\n",
       " '115980': 0,\n",
       " '2895': 0,\n",
       " 'PD47269d': 3743.4601507764064,\n",
       " 'PD48473b': 1753.9346608350136}"
      ]
     },
     "execution_count": 8,
     "metadata": {},
     "output_type": "execute_result"
    }
   ],
   "source": [
    "read_length_stds"
   ]
  },
  {
   "cell_type": "code",
   "execution_count": null,
   "id": "15d07564-2c13-45d6-a3e3-c06eb9ac7a0d",
   "metadata": {},
   "outputs": [],
   "source": []
  },
  {
   "cell_type": "markdown",
   "id": "dfec3691-148d-49d7-8b69-9f567cd957ca",
   "metadata": {},
   "source": [
    "## Distribution (use only first 100,000 reads for speed)"
   ]
  },
  {
   "cell_type": "code",
   "execution_count": 40,
   "id": "434329b8-f3e2-4fd5-91dd-e677831f923b",
   "metadata": {
    "tags": []
   },
   "outputs": [
    {
     "name": "stdout",
     "output_type": "stream",
     "text": [
      "[Parallel(n_jobs=-1)]: Using backend LokyBackend with 4 concurrent workers.\n",
      "[Parallel(n_jobs=-1)]: Done   1 tasks      | elapsed:  1.0min\n",
      "[Parallel(n_jobs=-1)]: Done   2 out of   6 | elapsed:  1.0min remaining:  2.1min\n",
      "[Parallel(n_jobs=-1)]: Done   3 out of   6 | elapsed:  1.1min remaining:  1.1min\n",
      "[Parallel(n_jobs=-1)]: Done   4 out of   6 | elapsed:  1.1min remaining:   33.0s\n",
      "[Parallel(n_jobs=-1)]: Done   6 out of   6 | elapsed:  1.8min finished\n",
      "CPU times: user 79.4 ms, sys: 21.9 ms, total: 101 ms\n",
      "Wall time: 1min 46s\n"
     ]
    }
   ],
   "source": [
    "%%time\n",
    "from Bio import SeqIO\n",
    "import gzip\n",
    "\n",
    "def runme(sample_id):\n",
    "    path = Path(\"/lustre/scratch126/casm/team154pc/sl17/03.sperm/01.data/02.ccs/PeterSudmant\") / sample_id\n",
    "    read_lengths = []\n",
    "    for filename in path.glob(\"*.ccs.filtered.fastq.gz\"):\n",
    "        cmd = \"gzip -cd XXX | awk 'NR%4==2 {print length($0)} NR>=400000 {exit}' | awk '{sum+=$1; sumsq+=$1*$1; count++} END {print \\\"Mean =\\\", sum/count; print \\\"STD =\\\", sqrt(sumsq/count - (sum/count)**2)}'\"\n",
    "        cmd = cmd.replace(\"XXX\", str(filename))\n",
    "        ret = subprocess.getoutput(cmd)\n",
    "\n",
    "    return (sample_id, ret)\n",
    "\n",
    "rows = joblib.Parallel(n_jobs=-1, verbose=50)(\n",
    "    joblib.delayed(runme)(sample_id) for sample_id in sudmant_sample_ids\n",
    ")\n"
   ]
  },
  {
   "cell_type": "code",
   "execution_count": 41,
   "id": "174cd63d-f396-444b-8c71-79ec03af4096",
   "metadata": {
    "tags": []
   },
   "outputs": [
    {
     "data": {
      "text/plain": [
       "[('1894', 'Mean = 17774.8\\nSTD = 4891.64'),\n",
       " ('3898', 'Mean = 18987.7\\nSTD = 5180.81'),\n",
       " ('7899', 'Mean = 16820.1\\nSTD = 4614.91'),\n",
       " ('95619', 'Mean = 16997.6\\nSTD = 4942.39'),\n",
       " ('115980', 'Mean = 16296.5\\nSTD = 4748.35'),\n",
       " ('2895', 'Mean = 17501.5\\nSTD = 4359.6')]"
      ]
     },
     "execution_count": 41,
     "metadata": {},
     "output_type": "execute_result"
    }
   ],
   "source": [
    "rows"
   ]
  },
  {
   "cell_type": "code",
   "execution_count": null,
   "id": "55e3e6f6-17b8-4d55-9002-437098c0d8cb",
   "metadata": {},
   "outputs": [],
   "source": []
  },
  {
   "cell_type": "code",
   "execution_count": null,
   "id": "3025c1e3-c5b1-456d-8cda-ecca965e22d3",
   "metadata": {},
   "outputs": [],
   "source": []
  },
  {
   "cell_type": "markdown",
   "id": "889e64c0-c5bf-4a82-a78b-cb1e1e721b0e",
   "metadata": {},
   "source": [
    "# Get read counts after filtering"
   ]
  },
  {
   "cell_type": "code",
   "execution_count": 24,
   "id": "1a0c450e-dfc3-4ec8-86a2-99ba03a890de",
   "metadata": {},
   "outputs": [
    {
     "name": "stderr",
     "output_type": "stream",
     "text": [
      "100%|██████████| 15/15 [00:08<00:00,  1.78it/s]"
     ]
    },
    {
     "name": "stdout",
     "output_type": "stream",
     "text": [
      "CPU times: user 138 ms, sys: 173 ms, total: 310 ms\n",
      "Wall time: 8.42 s\n"
     ]
    },
    {
     "name": "stderr",
     "output_type": "stream",
     "text": [
      "\n"
     ]
    }
   ],
   "source": [
    "%%time\n",
    "reads_df = pl.concat([\n",
    "    pl.scan_parquet(\n",
    "        f\"/lustre/scratch126/casm/team154pc/sl17/03.sperm/02.results/01.read_alignment/01.ccs/04.hifiasm/02.hifiasm_0.19.5-r592/02.chromosome_length_scaffolds/{focal_sample_id}/reads/{chrom}_RagTag.certainty_0.95.all_reads_structure_annotated.parquet\"\n",
    "    ) \n",
    "    for focal_sample_id in tqdm.tqdm(sample_ids)\n",
    "    for chrom in aut_chrom_names\n",
    "])"
   ]
  },
  {
   "cell_type": "code",
   "execution_count": 25,
   "id": "997192f7-2672-485c-b58b-da242685ed90",
   "metadata": {},
   "outputs": [
    {
     "data": {
      "text/html": [
       "<div><style>\n",
       ".dataframe > thead > tr,\n",
       ".dataframe > tbody > tr {\n",
       "  text-align: right;\n",
       "  white-space: pre-wrap;\n",
       "}\n",
       "</style>\n",
       "<small>shape: (1, 1)</small><table border=\"1\" class=\"dataframe\"><thead><tr><th>len</th></tr><tr><td>u32</td></tr></thead><tbody><tr><td>74380961</td></tr></tbody></table></div>"
      ],
      "text/plain": [
       "shape: (1, 1)\n",
       "┌──────────┐\n",
       "│ len      │\n",
       "│ ---      │\n",
       "│ u32      │\n",
       "╞══════════╡\n",
       "│ 74380961 │\n",
       "└──────────┘"
      ]
     },
     "execution_count": 25,
     "metadata": {},
     "output_type": "execute_result"
    }
   ],
   "source": [
    "(reads_df\n",
    "    .filter(pl.col(\"is_high_quality_read\"))\n",
    "    .select(pl.len())\n",
    ").collect()"
   ]
  },
  {
   "cell_type": "markdown",
   "id": "130e2d3f-e160-4e8f-bb34-96f2a6eb32d7",
   "metadata": {},
   "source": [
    "## Get read lengths"
   ]
  },
  {
   "cell_type": "code",
   "execution_count": 16,
   "id": "ec59543c-6335-45cd-8870-4f25b08e9aa7",
   "metadata": {},
   "outputs": [],
   "source": [
    "def get_read_lengths(focal_sample_id, chrom):\n",
    "    read_lengths = (reads_df\n",
    "        .filter(\"is_high_quality_read\")\n",
    "        .filter((pl.col(\"sample_id\") == focal_sample_id) & (pl.col(\"chrom\") == chrom))\n",
    "        .select(\"read_length\")\n",
    "    )\n",
    "\n",
    "    stats = (read_lengths\n",
    "        .with_columns(\n",
    "            one=pl.lit(1),\n",
    "        )\n",
    "        .select(\n",
    "            pl.col(\"one\").sum().alias(\"n_reads\"),\n",
    "            pl.col(\"read_length\").mean().alias(\"mean\"),\n",
    "            pl.col(\"read_length\").quantile(0.01).alias(\"q_0.01\"),\n",
    "            pl.col(\"read_length\").quantile(0.05).alias(\"q_0.05\"),\n",
    "            pl.col(\"read_length\").quantile(0.95).alias(\"q_0.95\"),\n",
    "            pl.col(\"read_length\").quantile(0.99).alias(\"q_0.99\"),\n",
    "            pl.col(\"read_length\").quantile(0.5).alias(\"median\"),\n",
    "        )\n",
    "        .collect(streaming=True)\n",
    "        .with_columns(\n",
    "            sample_id = pl.lit(focal_sample_id),\n",
    "            chrom = pl.lit(chrom),\n",
    "        )\n",
    "    )\n",
    "    \n",
    "    return stats\n"
   ]
  },
  {
   "cell_type": "code",
   "execution_count": 17,
   "id": "48285f27-eac2-43f1-9fc9-9f515d7e3fd5",
   "metadata": {},
   "outputs": [
    {
     "name": "stderr",
     "output_type": "stream",
     "text": [
      "\n",
      "\n",
      "  0%|          | 0/9 [00:00<?, ?it/s]\u001b[A\u001b[A\n",
      "\n",
      " 11%|█         | 1/9 [00:34<04:32, 34.06s/it]\u001b[A\u001b[A\n",
      "\n",
      " 22%|██▏       | 2/9 [01:07<03:54, 33.44s/it]\u001b[A\u001b[A\n",
      "\n",
      " 33%|███▎      | 3/9 [01:38<03:16, 32.75s/it]\u001b[A\u001b[A\n",
      "\n",
      " 44%|████▍     | 4/9 [02:11<02:43, 32.76s/it]\u001b[A\u001b[A\n",
      "\n",
      " 56%|█████▌    | 5/9 [02:43<02:10, 32.53s/it]\u001b[A\u001b[A\n",
      "\n",
      " 67%|██████▋   | 6/9 [03:17<01:38, 32.80s/it]\u001b[A\u001b[A\n",
      "\n",
      " 78%|███████▊  | 7/9 [03:50<01:06, 33.02s/it]\u001b[A\u001b[A\n",
      "\n",
      " 89%|████████▉ | 8/9 [04:23<00:32, 32.87s/it]\u001b[A\u001b[A\n",
      "\n",
      "100%|██████████| 9/9 [04:55<00:00, 32.79s/it]\u001b[A\u001b[A"
     ]
    },
    {
     "name": "stdout",
     "output_type": "stream",
     "text": [
      "CPU times: user 9min 50s, sys: 1min 9s, total: 10min 59s\n",
      "Wall time: 4min 55s\n"
     ]
    },
    {
     "name": "stderr",
     "output_type": "stream",
     "text": [
      "\n"
     ]
    }
   ],
   "source": [
    "%%time\n",
    "read_stats_df = pl.concat([\n",
    "    get_read_lengths(sample_id, chrom) for sample_id in tqdm.tqdm(sample_ids) for chrom in aut_chrom_names\n",
    "])"
   ]
  },
  {
   "cell_type": "code",
   "execution_count": 18,
   "id": "072fcde9-7249-49ce-9b34-8178e59cde4d",
   "metadata": {},
   "outputs": [
    {
     "data": {
      "text/html": [
       "<div><style>\n",
       ".dataframe > thead > tr,\n",
       ".dataframe > tbody > tr {\n",
       "  text-align: right;\n",
       "  white-space: pre-wrap;\n",
       "}\n",
       "</style>\n",
       "<small>shape: (198, 9)</small><table border=\"1\" class=\"dataframe\"><thead><tr><th>n_reads</th><th>mean</th><th>q_0.01</th><th>q_0.05</th><th>q_0.95</th><th>q_0.99</th><th>median</th><th>sample_id</th><th>chrom</th></tr><tr><td>i32</td><td>f64</td><td>f64</td><td>f64</td><td>f64</td><td>f64</td><td>f64</td><td>str</td><td>str</td></tr></thead><tbody><tr><td>346586</td><td>13488.539993</td><td>9533.0</td><td>10283.0</td><td>18445.0</td><td>20702.0</td><td>12975.0</td><td>&quot;PD50477f&quot;</td><td>&quot;chr1&quot;</td></tr><tr><td>376401</td><td>13459.855603</td><td>9524.0</td><td>10278.0</td><td>18390.0</td><td>20673.0</td><td>12944.0</td><td>&quot;PD50477f&quot;</td><td>&quot;chr2&quot;</td></tr><tr><td>310556</td><td>13466.844179</td><td>9527.0</td><td>10277.0</td><td>18415.0</td><td>20682.0</td><td>12949.0</td><td>&quot;PD50477f&quot;</td><td>&quot;chr3&quot;</td></tr><tr><td>294780</td><td>13427.849915</td><td>9500.0</td><td>10267.0</td><td>18354.0</td><td>20646.0</td><td>12912.0</td><td>&quot;PD50477f&quot;</td><td>&quot;chr4&quot;</td></tr><tr><td>279809</td><td>13455.127483</td><td>9524.0</td><td>10274.0</td><td>18378.0</td><td>20633.0</td><td>12946.0</td><td>&quot;PD50477f&quot;</td><td>&quot;chr5&quot;</td></tr><tr><td>&hellip;</td><td>&hellip;</td><td>&hellip;</td><td>&hellip;</td><td>&hellip;</td><td>&hellip;</td><td>&hellip;</td><td>&hellip;</td><td>&hellip;</td></tr><tr><td>125596</td><td>11556.605521</td><td>3182.0</td><td>4201.0</td><td>23059.0</td><td>28312.0</td><td>10336.0</td><td>&quot;PD50489e&quot;</td><td>&quot;chr18&quot;</td></tr><tr><td>72784</td><td>11248.589168</td><td>3118.0</td><td>4251.0</td><td>22524.0</td><td>27762.0</td><td>9840.0</td><td>&quot;PD50489e&quot;</td><td>&quot;chr19&quot;</td></tr><tr><td>97782</td><td>11707.025046</td><td>3189.0</td><td>4290.0</td><td>23066.0</td><td>28392.0</td><td>10558.0</td><td>&quot;PD50489e&quot;</td><td>&quot;chr20&quot;</td></tr><tr><td>57202</td><td>11642.920789</td><td>3142.0</td><td>4186.0</td><td>23177.0</td><td>28343.0</td><td>10439.0</td><td>&quot;PD50489e&quot;</td><td>&quot;chr21&quot;</td></tr><tr><td>58670</td><td>11574.900767</td><td>3225.0</td><td>4294.0</td><td>22767.0</td><td>28084.0</td><td>10374.0</td><td>&quot;PD50489e&quot;</td><td>&quot;chr22&quot;</td></tr></tbody></table></div>"
      ],
      "text/plain": [
       "shape: (198, 9)\n",
       "┌─────────┬──────────────┬────────┬─────────┬───┬─────────┬─────────┬───────────┬───────┐\n",
       "│ n_reads ┆ mean         ┆ q_0.01 ┆ q_0.05  ┆ … ┆ q_0.99  ┆ median  ┆ sample_id ┆ chrom │\n",
       "│ ---     ┆ ---          ┆ ---    ┆ ---     ┆   ┆ ---     ┆ ---     ┆ ---       ┆ ---   │\n",
       "│ i32     ┆ f64          ┆ f64    ┆ f64     ┆   ┆ f64     ┆ f64     ┆ str       ┆ str   │\n",
       "╞═════════╪══════════════╪════════╪═════════╪═══╪═════════╪═════════╪═══════════╪═══════╡\n",
       "│ 346586  ┆ 13488.539993 ┆ 9533.0 ┆ 10283.0 ┆ … ┆ 20702.0 ┆ 12975.0 ┆ PD50477f  ┆ chr1  │\n",
       "│ 376401  ┆ 13459.855603 ┆ 9524.0 ┆ 10278.0 ┆ … ┆ 20673.0 ┆ 12944.0 ┆ PD50477f  ┆ chr2  │\n",
       "│ 310556  ┆ 13466.844179 ┆ 9527.0 ┆ 10277.0 ┆ … ┆ 20682.0 ┆ 12949.0 ┆ PD50477f  ┆ chr3  │\n",
       "│ 294780  ┆ 13427.849915 ┆ 9500.0 ┆ 10267.0 ┆ … ┆ 20646.0 ┆ 12912.0 ┆ PD50477f  ┆ chr4  │\n",
       "│ 279809  ┆ 13455.127483 ┆ 9524.0 ┆ 10274.0 ┆ … ┆ 20633.0 ┆ 12946.0 ┆ PD50477f  ┆ chr5  │\n",
       "│ …       ┆ …            ┆ …      ┆ …       ┆ … ┆ …       ┆ …       ┆ …         ┆ …     │\n",
       "│ 125596  ┆ 11556.605521 ┆ 3182.0 ┆ 4201.0  ┆ … ┆ 28312.0 ┆ 10336.0 ┆ PD50489e  ┆ chr18 │\n",
       "│ 72784   ┆ 11248.589168 ┆ 3118.0 ┆ 4251.0  ┆ … ┆ 27762.0 ┆ 9840.0  ┆ PD50489e  ┆ chr19 │\n",
       "│ 97782   ┆ 11707.025046 ┆ 3189.0 ┆ 4290.0  ┆ … ┆ 28392.0 ┆ 10558.0 ┆ PD50489e  ┆ chr20 │\n",
       "│ 57202   ┆ 11642.920789 ┆ 3142.0 ┆ 4186.0  ┆ … ┆ 28343.0 ┆ 10439.0 ┆ PD50489e  ┆ chr21 │\n",
       "│ 58670   ┆ 11574.900767 ┆ 3225.0 ┆ 4294.0  ┆ … ┆ 28084.0 ┆ 10374.0 ┆ PD50489e  ┆ chr22 │\n",
       "└─────────┴──────────────┴────────┴─────────┴───┴─────────┴─────────┴───────────┴───────┘"
      ]
     },
     "execution_count": 18,
     "metadata": {},
     "output_type": "execute_result"
    }
   ],
   "source": [
    "read_stats_df"
   ]
  },
  {
   "cell_type": "code",
   "execution_count": null,
   "id": "ea80be2c-e711-46d4-8df6-cbb3d4767506",
   "metadata": {},
   "outputs": [],
   "source": []
  },
  {
   "cell_type": "code",
   "execution_count": 19,
   "id": "201f0320-277b-4249-abcc-f4de27b5ecbf",
   "metadata": {},
   "outputs": [
    {
     "name": "stderr",
     "output_type": "stream",
     "text": [
      "  0%|          | 0/9 [05:58<?, ?it/s]\n"
     ]
    },
    {
     "ename": "NameError",
     "evalue": "name 'read_length_means' is not defined",
     "output_type": "error",
     "traceback": [
      "\u001b[0;31m---------------------------------------------------------------------------\u001b[0m",
      "\u001b[0;31mNameError\u001b[0m                                 Traceback (most recent call last)",
      "Cell \u001b[0;32mIn[19], line 1\u001b[0m\n\u001b[0;32m----> 1\u001b[0m display(\u001b[43mread_length_means\u001b[49m)\n",
      "\u001b[0;31mNameError\u001b[0m: name 'read_length_means' is not defined"
     ]
    }
   ],
   "source": [
    "display(read_length_means)"
   ]
  },
  {
   "cell_type": "code",
   "execution_count": 38,
   "id": "9baf52c6-f743-4393-ad94-686589e55219",
   "metadata": {},
   "outputs": [
    {
     "name": "stdout",
     "output_type": "stream",
     "text": [
      "Average read length: 14323.187104500143\n"
     ]
    }
   ],
   "source": [
    "print(\n",
    "    \"Average read length:\", \n",
    "    np.sum([read_length_means[sample_id] * read_numbers[sample_id] for sample_id in sample_ids]) / np.sum(list(read_numbers.values())),\n",
    ")"
   ]
  },
  {
   "cell_type": "markdown",
   "id": "534838e5-f1fc-4a41-a4ff-b85b67be67aa",
   "metadata": {},
   "source": [
    "# Number of SNPs"
   ]
  },
  {
   "cell_type": "code",
   "execution_count": 16,
   "id": "4bb4bec7-14b7-44a0-a090-74317f6e96f8",
   "metadata": {},
   "outputs": [],
   "source": [
    "all_snps = pl.concat(\n",
    "    [pl.scan_parquet(\n",
    "        Path(\"/lustre/scratch126/casm/team154pc/sl17/03.sperm/02.results/01.read_alignment/01.ccs/04.hifiasm/02.hifiasm_0.19.5-r592/02.chromosome_length_scaffolds/\") \\\n",
    "                / f\"{focal_sample_id}\" / \"reads\" / f\"{chrom}_RagTag.certainty_0.95.snps.parquet\"\n",
    "    ).with_columns(sample_id=pl.lit(focal_sample_id))\n",
    "        for focal_sample_id in sample_ids\n",
    "        for chrom in aut_chrom_names\n",
    "    ]\n",
    ")"
   ]
  },
  {
   "cell_type": "code",
   "execution_count": 27,
   "id": "6712044b-f351-4c88-91d4-997b6830981f",
   "metadata": {},
   "outputs": [
    {
     "name": "stdout",
     "output_type": "stream",
     "text": [
      "CPU times: user 193 ms, sys: 65 ms, total: 258 ms\n",
      "Wall time: 365 ms\n"
     ]
    },
    {
     "data": {
      "text/html": [
       "<div><style>\n",
       ".dataframe > thead > tr,\n",
       ".dataframe > tbody > tr {\n",
       "  text-align: right;\n",
       "  white-space: pre-wrap;\n",
       "}\n",
       "</style>\n",
       "<small>shape: (1, 1)</small><table border=\"1\" class=\"dataframe\"><thead><tr><th>len</th></tr><tr><td>u32</td></tr></thead><tbody><tr><td>1350558687</td></tr></tbody></table></div>"
      ],
      "text/plain": [
       "shape: (1, 1)\n",
       "┌────────────┐\n",
       "│ len        │\n",
       "│ ---        │\n",
       "│ u32        │\n",
       "╞════════════╡\n",
       "│ 1350558687 │\n",
       "└────────────┘"
      ]
     },
     "execution_count": 27,
     "metadata": {},
     "output_type": "execute_result"
    }
   ],
   "source": [
    "%%time\n",
    "all_snps.select(pl.len()).collect()"
   ]
  },
  {
   "cell_type": "code",
   "execution_count": 28,
   "id": "f0f48ce4-541f-4b24-8de7-6024160381c4",
   "metadata": {},
   "outputs": [
    {
     "name": "stdout",
     "output_type": "stream",
     "text": [
      "CPU times: user 48.8 s, sys: 27.3 s, total: 1min 16s\n",
      "Wall time: 1min 32s\n"
     ]
    },
    {
     "data": {
      "text/html": [
       "<div><style>\n",
       ".dataframe > thead > tr,\n",
       ".dataframe > tbody > tr {\n",
       "  text-align: right;\n",
       "  white-space: pre-wrap;\n",
       "}\n",
       "</style>\n",
       "<small>shape: (1, 1)</small><table border=\"1\" class=\"dataframe\"><thead><tr><th>len</th></tr><tr><td>u32</td></tr></thead><tbody><tr><td>688870303</td></tr></tbody></table></div>"
      ],
      "text/plain": [
       "shape: (1, 1)\n",
       "┌───────────┐\n",
       "│ len       │\n",
       "│ ---       │\n",
       "│ u32       │\n",
       "╞═══════════╡\n",
       "│ 688870303 │\n",
       "└───────────┘"
      ]
     },
     "execution_count": 28,
     "metadata": {},
     "output_type": "execute_result"
    }
   ],
   "source": [
    "%%time\n",
    "all_snps.filter(\"is_high_quality_snp\").select(pl.len()).collect()"
   ]
  },
  {
   "cell_type": "code",
   "execution_count": null,
   "id": "ae87f064-1568-4aff-84b9-463fa32b6c28",
   "metadata": {},
   "outputs": [],
   "source": []
  },
  {
   "cell_type": "code",
   "execution_count": null,
   "id": "f1564369-1205-4ffd-b369-f339208f65f2",
   "metadata": {},
   "outputs": [],
   "source": []
  },
  {
   "cell_type": "markdown",
   "id": "45d4a963-8836-46fa-80ad-d3fe84bce479",
   "metadata": {},
   "source": [
    "## High quality SNPs per individual"
   ]
  },
  {
   "cell_type": "code",
   "execution_count": 7,
   "id": "cbb2e857-5641-4c42-9737-a8d2c2d59085",
   "metadata": {},
   "outputs": [
    {
     "name": "stderr",
     "output_type": "stream",
     "text": [
      "  0%|          | 0/15 [00:00<?, ?it/s]"
     ]
    },
    {
     "name": "stdout",
     "output_type": "stream",
     "text": [
      "sample_id PD50477f\n"
     ]
    },
    {
     "name": "stderr",
     "output_type": "stream",
     "text": [
      "  7%|▋         | 1/15 [00:08<01:55,  8.25s/it]"
     ]
    },
    {
     "name": "stdout",
     "output_type": "stream",
     "text": [
      "1863231\n",
      "sample_id PD50519d\n"
     ]
    },
    {
     "name": "stderr",
     "output_type": "stream",
     "text": [
      " 13%|█▎        | 2/15 [00:52<06:22, 29.43s/it]"
     ]
    },
    {
     "name": "stdout",
     "output_type": "stream",
     "text": [
      "1770307\n",
      "sample_id PD50508f\n"
     ]
    },
    {
     "name": "stderr",
     "output_type": "stream",
     "text": [
      " 20%|██        | 3/15 [01:37<07:17, 36.50s/it]"
     ]
    },
    {
     "name": "stdout",
     "output_type": "stream",
     "text": [
      "1711665\n",
      "sample_id PD50523b\n"
     ]
    },
    {
     "name": "stderr",
     "output_type": "stream",
     "text": [
      " 27%|██▋       | 4/15 [02:20<07:11, 39.21s/it]"
     ]
    },
    {
     "name": "stdout",
     "output_type": "stream",
     "text": [
      "1840848\n",
      "sample_id PD50521b\n"
     ]
    },
    {
     "name": "stderr",
     "output_type": "stream",
     "text": [
      " 33%|███▎      | 5/15 [03:09<07:07, 42.80s/it]"
     ]
    },
    {
     "name": "stdout",
     "output_type": "stream",
     "text": [
      "1857469\n",
      "sample_id PD50508b\n"
     ]
    },
    {
     "name": "stderr",
     "output_type": "stream",
     "text": [
      " 40%|████      | 6/15 [03:53<06:29, 43.23s/it]"
     ]
    },
    {
     "name": "stdout",
     "output_type": "stream",
     "text": [
      "1822784\n",
      "sample_id PD46180c\n"
     ]
    },
    {
     "name": "stderr",
     "output_type": "stream",
     "text": [
      " 47%|████▋     | 7/15 [04:41<05:55, 44.48s/it]"
     ]
    },
    {
     "name": "stdout",
     "output_type": "stream",
     "text": [
      "1845095\n",
      "sample_id PD50521e\n"
     ]
    },
    {
     "name": "stderr",
     "output_type": "stream",
     "text": [
      " 53%|█████▎    | 8/15 [05:21<05:02, 43.23s/it]"
     ]
    },
    {
     "name": "stdout",
     "output_type": "stream",
     "text": [
      "1832813\n",
      "sample_id PD50489e\n"
     ]
    },
    {
     "name": "stderr",
     "output_type": "stream",
     "text": [
      " 60%|██████    | 9/15 [06:08<04:25, 44.31s/it]"
     ]
    },
    {
     "name": "stdout",
     "output_type": "stream",
     "text": [
      "1814361\n",
      "sample_id 1894\n"
     ]
    },
    {
     "name": "stderr",
     "output_type": "stream",
     "text": [
      " 67%|██████▋   | 10/15 [07:23<04:28, 53.73s/it]"
     ]
    },
    {
     "name": "stdout",
     "output_type": "stream",
     "text": [
      "1890167\n",
      "sample_id 3898\n"
     ]
    },
    {
     "name": "stderr",
     "output_type": "stream",
     "text": [
      " 73%|███████▎  | 11/15 [08:34<03:56, 59.09s/it]"
     ]
    },
    {
     "name": "stdout",
     "output_type": "stream",
     "text": [
      "1851566\n",
      "sample_id 7899\n"
     ]
    },
    {
     "name": "stderr",
     "output_type": "stream",
     "text": [
      " 80%|████████  | 12/15 [09:58<03:19, 66.59s/it]"
     ]
    },
    {
     "name": "stdout",
     "output_type": "stream",
     "text": [
      "1883003\n",
      "sample_id 95619\n"
     ]
    },
    {
     "name": "stderr",
     "output_type": "stream",
     "text": [
      " 87%|████████▋ | 13/15 [11:16<02:20, 70.32s/it]"
     ]
    },
    {
     "name": "stdout",
     "output_type": "stream",
     "text": [
      "1880505\n",
      "sample_id 115980\n"
     ]
    },
    {
     "name": "stderr",
     "output_type": "stream",
     "text": [
      " 93%|█████████▎| 14/15 [12:32<01:11, 71.77s/it]"
     ]
    },
    {
     "name": "stdout",
     "output_type": "stream",
     "text": [
      "1917897\n",
      "sample_id 2895\n"
     ]
    },
    {
     "name": "stderr",
     "output_type": "stream",
     "text": [
      "100%|██████████| 15/15 [13:33<00:00, 54.24s/it]"
     ]
    },
    {
     "name": "stdout",
     "output_type": "stream",
     "text": [
      "1825149\n"
     ]
    },
    {
     "name": "stderr",
     "output_type": "stream",
     "text": [
      "\n"
     ]
    }
   ],
   "source": [
    "rows = []\n",
    "for focal_sample_id in tqdm.tqdm(sample_ids):\n",
    "    print(\"sample_id\", focal_sample_id)\n",
    "    sample_snps = pl.concat(\n",
    "        [pl.scan_parquet(\n",
    "            Path(\"/lustre/scratch126/casm/team154pc/sl17/03.sperm/02.results/01.read_alignment/01.ccs/04.hifiasm/02.hifiasm_0.19.5-r592/02.chromosome_length_scaffolds/\") \\\n",
    "                    / f\"{focal_sample_id}\" / \"reads\" / f\"{chrom}_RagTag.certainty_0.95.snps.parquet\"\n",
    "        ).with_columns(sample_id=pl.lit(focal_sample_id))\n",
    "            for chrom in aut_chrom_names\n",
    "        ]\n",
    "    )\n",
    "    unique_snp_counts = (sample_snps\n",
    "        .filter(\"is_high_quality_snp\")\n",
    "        .unique(subset=[\"ref1_name\", \"ref1_start\", \"ref2_name\", \"ref2_start\"])\n",
    "        .select(pl.len())\n",
    "        .collect(streaming=True)\n",
    "    )\n",
    "    print(unique_snp_counts.item())\n",
    "    rows.append((focal_sample_id, unique_snp_counts.item()))"
   ]
  },
  {
   "cell_type": "code",
   "execution_count": 8,
   "id": "23dc3953-9d98-446d-86ad-0404f2062ad9",
   "metadata": {},
   "outputs": [
    {
     "data": {
      "text/plain": [
       "[('PD50477f', 1863231),\n",
       " ('PD50519d', 1770307),\n",
       " ('PD50508f', 1711665),\n",
       " ('PD50523b', 1840848),\n",
       " ('PD50521b', 1857469),\n",
       " ('PD50508b', 1822784),\n",
       " ('PD46180c', 1845095),\n",
       " ('PD50521e', 1832813),\n",
       " ('PD50489e', 1814361),\n",
       " ('1894', 1890167),\n",
       " ('3898', 1851566),\n",
       " ('7899', 1883003),\n",
       " ('95619', 1880505),\n",
       " ('115980', 1917897),\n",
       " ('2895', 1825149)]"
      ]
     },
     "execution_count": 8,
     "metadata": {},
     "output_type": "execute_result"
    }
   ],
   "source": [
    "rows"
   ]
  },
  {
   "cell_type": "code",
   "execution_count": 11,
   "id": "c2682bde-3396-4bde-90bf-5d20b0a2c922",
   "metadata": {},
   "outputs": [
    {
     "data": {
      "text/plain": [
       "1917897"
      ]
     },
     "execution_count": 11,
     "metadata": {},
     "output_type": "execute_result"
    }
   ],
   "source": [
    "np.max([x[1] for x in rows])"
   ]
  },
  {
   "cell_type": "markdown",
   "id": "2cdf20bf-dab8-4cf0-865f-3f80e695e35e",
   "metadata": {},
   "source": [
    "## High quality SNPs per read"
   ]
  },
  {
   "cell_type": "code",
   "execution_count": 22,
   "id": "1ca8ce8e-80da-4836-8009-e570f90b4f77",
   "metadata": {
    "tags": []
   },
   "outputs": [
    {
     "name": "stderr",
     "output_type": "stream",
     "text": [
      "100%|██████████| 15/15 [03:55<00:00, 15.72s/it]\n"
     ]
    }
   ],
   "source": [
    "rows = []\n",
    "for focal_sample_id in tqdm.tqdm(sample_ids):\n",
    "    for chrom in aut_chrom_names:        \n",
    "        sample_snps = \\\n",
    "            pl.scan_parquet(\n",
    "                Path(\"/lustre/scratch126/casm/team154pc/sl17/03.sperm/02.results/01.read_alignment/01.ccs/04.hifiasm/02.hifiasm_0.19.5-r592/02.chromosome_length_scaffolds/\") \\\n",
    "                        / f\"{focal_sample_id}\" / \"reads\" / f\"{chrom}_RagTag.certainty_0.95.snps.parquet\"\n",
    "            )\n",
    "        unique_snp_counts = (sample_snps\n",
    "            .filter(\"is_high_quality_snp\")\n",
    "            .group_by(\"read_name\")\n",
    "            .len().rename({\"len\": \"n_snps\"})\n",
    "            .group_by(\"n_snps\")\n",
    "            .len()\n",
    "            .collect(streaming=True)\n",
    "        )\n",
    "        rows.append((focal_sample_id, chrom, unique_snp_counts))"
   ]
  },
  {
   "cell_type": "code",
   "execution_count": 42,
   "id": "316a3cdc-96bd-4485-88d3-ef79ec6fd826",
   "metadata": {
    "tags": []
   },
   "outputs": [],
   "source": [
    "total_hist = {s:np.zeros(400) for s in sample_ids + [\"All\"]}\n",
    "for row in rows:\n",
    "    for n_snps, cnt in row[2].rows():\n",
    "        total_hist[row[0]][n_snps] += cnt\n",
    "        total_hist[\"All\"][n_snps] += cnt"
   ]
  },
  {
   "cell_type": "code",
   "execution_count": null,
   "id": "de0f6027-dffd-401b-a994-7cf1d429c9f0",
   "metadata": {},
   "outputs": [],
   "source": []
  },
  {
   "cell_type": "code",
   "execution_count": null,
   "id": "9cd34a50-a0ca-4b64-9ce7-638c3f5c0a7d",
   "metadata": {},
   "outputs": [],
   "source": []
  },
  {
   "cell_type": "code",
   "execution_count": 46,
   "id": "b3067e23-e1c5-4d31-8a8c-fca07e317848",
   "metadata": {
    "tags": []
   },
   "outputs": [
    {
     "data": {
      "image/png": "[encoded data removed]",
      "text/plain": [
       "<Figure size 640x480 with 1 Axes>"
      ]
     },
     "metadata": {},
     "output_type": "display_data"
    }
   ],
   "source": [
    "plt.bar(x=np.arange(400), height=total_hist[\"All\"] / total_hist[\"All\"].sum())\n",
    "plt.xlim(0, 50)\n",
    "plt.xlabel(\"# of high quality SNPs on read\");\n",
    "plt.ylabel(\"Fraction\");"
   ]
  },
  {
   "cell_type": "code",
   "execution_count": 44,
   "id": "9ab56b76-e85c-4f2e-b818-020960fd49b4",
   "metadata": {
    "tags": []
   },
   "outputs": [
    {
     "name": "stdout",
     "output_type": "stream",
     "text": [
      "PD50477f 8.067355863710592\n",
      "PD50519d 8.326307860459947\n",
      "PD50508f 9.659240710993522\n",
      "PD50523b 9.466129268755628\n",
      "PD50521b 9.445819305885285\n",
      "PD50508b 9.431233787988079\n",
      "PD46180c 9.79204995505488\n",
      "PD50521e 7.447384504719029\n",
      "PD50489e 6.977364792036926\n",
      "1894 11.145338635018577\n",
      "3898 11.356889436410553\n",
      "7899 10.701007338568408\n",
      "95619 10.347811468022131\n",
      "115980 10.599756130435736\n",
      "2895 10.643898307058194\n",
      "All 9.854277759162226\n"
     ]
    }
   ],
   "source": [
    "for k,T in total_hist.items():\n",
    "    print(k, np.sum([i*h for i, h in enumerate(T)]) / np.sum(T))"
   ]
  },
  {
   "cell_type": "code",
   "execution_count": null,
   "id": "e223e637-20f3-4e73-84cb-395dd38cca0d",
   "metadata": {},
   "outputs": [],
   "source": []
  },
  {
   "cell_type": "code",
   "execution_count": null,
   "id": "ddab02cb-e2bb-4d5f-91dc-ce8418d29149",
   "metadata": {},
   "outputs": [],
   "source": []
  },
  {
   "cell_type": "code",
   "execution_count": null,
   "id": "cc5f45a6-1a04-44cf-86a2-3912dad0dcaf",
   "metadata": {},
   "outputs": [],
   "source": []
  },
  {
   "cell_type": "markdown",
   "id": "5f9c1a9f-9478-40be-96e4-602f22bd150b",
   "metadata": {
    "tags": []
   },
   "source": [
    "# Candidate read classes"
   ]
  },
  {
   "cell_type": "code",
   "execution_count": 12,
   "id": "f86ae448-b17d-4154-a3d4-6c00350d5dc4",
   "metadata": {
    "tags": []
   },
   "outputs": [
    {
     "name": "stderr",
     "output_type": "stream",
     "text": [
      "100%|██████████| 15/15 [00:00<00:00, 92.50it/s]"
     ]
    },
    {
     "name": "stdout",
     "output_type": "stream",
     "text": [
      "CPU times: user 84.8 ms, sys: 68 ms, total: 153 ms\n",
      "Wall time: 195 ms\n"
     ]
    },
    {
     "name": "stderr",
     "output_type": "stream",
     "text": [
      "\n"
     ]
    },
    {
     "data": {
      "text/html": [
       "<div><style>\n",
       ".dataframe > thead > tr,\n",
       ".dataframe > tbody > tr {\n",
       "  text-align: right;\n",
       "  white-space: pre-wrap;\n",
       "}\n",
       "</style>\n",
       "<small>shape: (1, 1)</small><table border=\"1\" class=\"dataframe\"><thead><tr><th>len</th></tr><tr><td>u32</td></tr></thead><tbody><tr><td>26551</td></tr></tbody></table></div>"
      ],
      "text/plain": [
       "shape: (1, 1)\n",
       "┌───────┐\n",
       "│ len   │\n",
       "│ ---   │\n",
       "│ u32   │\n",
       "╞═══════╡\n",
       "│ 26551 │\n",
       "└───────┘"
      ]
     },
     "execution_count": 12,
     "metadata": {},
     "output_type": "execute_result"
    }
   ],
   "source": [
    "%%time\n",
    "pl.concat([\n",
    "    pl.scan_parquet(\n",
    "        f\"/lustre/scratch126/casm/team154pc/sl17/03.sperm/02.results/01.read_alignment/01.ccs/04.hifiasm/02.hifiasm_0.19.5-r592/02.chromosome_length_scaffolds/{focal_sample_id}/reads/{chrom}_RagTag.certainty_0.95.classified_reads.parquet\"\n",
    "    ) \n",
    "    for focal_sample_id in tqdm.tqdm(sample_ids)\n",
    "    for chrom in aut_chrom_names\n",
    "]).select(pl.len()).collect()"
   ]
  },
  {
   "cell_type": "code",
   "execution_count": null,
   "id": "09111f80-9086-4783-b872-f83697dcbadb",
   "metadata": {},
   "outputs": [],
   "source": []
  },
  {
   "cell_type": "code",
   "execution_count": null,
   "id": "4bce93ae-4547-465a-9084-661f01aca307",
   "metadata": {},
   "outputs": [],
   "source": []
  },
  {
   "cell_type": "code",
   "execution_count": null,
   "id": "07a8aff4-4f2c-45dd-93cf-91f9c23c690c",
   "metadata": {},
   "outputs": [],
   "source": []
  },
  {
   "cell_type": "code",
   "execution_count": null,
   "id": "233f2af7-8b92-4706-8d59-e1d7a784b36f",
   "metadata": {},
   "outputs": [],
   "source": []
  },
  {
   "cell_type": "code",
   "execution_count": 4,
   "id": "40dcbf8e-6c48-456e-98eb-fa302d926dfa",
   "metadata": {
    "tags": []
   },
   "outputs": [
    {
     "name": "stderr",
     "output_type": "stream",
     "text": [
      "100%|██████████| 15/15 [00:00<00:00, 46.38it/s]"
     ]
    },
    {
     "name": "stdout",
     "output_type": "stream",
     "text": [
      "CPU times: user 104 ms, sys: 107 ms, total: 211 ms\n",
      "Wall time: 330 ms\n"
     ]
    },
    {
     "name": "stderr",
     "output_type": "stream",
     "text": [
      "\n"
     ]
    }
   ],
   "source": [
    "%%time\n",
    "reads_df = pl.concat([\n",
    "    pl.scan_parquet(\n",
    "        f\"/lustre/scratch126/casm/team154pc/sl17/03.sperm/02.results/01.read_alignment/01.ccs/04.hifiasm/02.hifiasm_0.19.5-r592/02.chromosome_length_scaffolds/{focal_sample_id}/reads/{chrom}_RagTag.certainty_0.95.all_reads_structure_annotated.parquet\"\n",
    "    ) \n",
    "    for focal_sample_id in tqdm.tqdm(rahbari_sample_ids + sudmant_sample_ids)\n",
    "    for chrom in aut_chrom_names\n",
    "])"
   ]
  },
  {
   "cell_type": "code",
   "execution_count": null,
   "id": "67b4b37d-1248-441d-9490-f44a017cfc57",
   "metadata": {
    "tags": []
   },
   "outputs": [],
   "source": [
    "%%time\n",
    "candidates_df = (reads_df\n",
    "    .select(\n",
    "        'read_name',\n",
    "        'chrom',\n",
    "        'sample_id',\n",
    "        'is_high_quality_read',\n",
    "        \"high_quality_classification_class\",\n",
    "        \"high_quality_classification_in_detectable_class\",\n",
    "        'grch37_reference_start',\n",
    "        'grch38_reference_start',\n",
    "        'T2T_reference_start',\n",
    "        \"mid_quality_snp_positions\",\n",
    "        \"mid_quality_snp_positions_alleles\",        \n",
    "    )\n",
    "    .filter(\"is_high_quality_read\")\n",
    "    .filter(pl.col(\"high_quality_classification_class\").is_not_null())\n",
    "    .collect(streaming=True)\n",
    ")"
   ]
  },
  {
   "cell_type": "code",
   "execution_count": 8,
   "id": "08a3ae8a-b81b-4a13-88e5-934d1e80a0fd",
   "metadata": {
    "tags": []
   },
   "outputs": [
    {
     "data": {
      "text/plain": [
       "9679"
      ]
     },
     "execution_count": 8,
     "metadata": {},
     "output_type": "execute_result"
    }
   ],
   "source": [
    "len(candidates_df)"
   ]
  },
  {
   "cell_type": "code",
   "execution_count": null,
   "id": "62b8b3c3-05bb-44d8-9420-7815ca04a8ef",
   "metadata": {},
   "outputs": [],
   "source": []
  },
  {
   "cell_type": "code",
   "execution_count": 9,
   "id": "29f42def-753e-4177-8e32-5e768399dc2f",
   "metadata": {
    "tags": []
   },
   "outputs": [
    {
     "data": {
      "text/html": [
       "<div><style>\n",
       ".dataframe > thead > tr,\n",
       ".dataframe > tbody > tr {\n",
       "  text-align: right;\n",
       "  white-space: pre-wrap;\n",
       "}\n",
       "</style>\n",
       "<small>shape: (15, 5)</small><table border=\"1\" class=\"dataframe\"><thead><tr><th>sample_id</th><th>CO</th><th>GC</th><th>ambiguous</th><th>CNCO</th></tr><tr><td>str</td><td>u32</td><td>u32</td><td>u32</td><td>u32</td></tr></thead><tbody><tr><td>&quot;115980&quot;</td><td>425</td><td>181</td><td>346</td><td>9</td></tr><tr><td>&quot;1894&quot;</td><td>520</td><td>233</td><td>419</td><td>13</td></tr><tr><td>&quot;2895&quot;</td><td>363</td><td>149</td><td>304</td><td>9</td></tr><tr><td>&quot;3898&quot;</td><td>447</td><td>212</td><td>326</td><td>11</td></tr><tr><td>&quot;7899&quot;</td><td>501</td><td>212</td><td>346</td><td>18</td></tr><tr><td>&quot;95619&quot;</td><td>442</td><td>171</td><td>346</td><td>12</td></tr><tr><td>&quot;PD46180c&quot;</td><td>262</td><td>72</td><td>135</td><td>45</td></tr><tr><td>&quot;PD50477f&quot;</td><td>205</td><td>73</td><td>126</td><td>31</td></tr><tr><td>&quot;PD50489e&quot;</td><td>180</td><td>51</td><td>80</td><td>24</td></tr><tr><td>&quot;PD50508b&quot;</td><td>161</td><td>45</td><td>95</td><td>3</td></tr><tr><td>&quot;PD50508f&quot;</td><td>130</td><td>31</td><td>78</td><td>8</td></tr><tr><td>&quot;PD50519d&quot;</td><td>179</td><td>82</td><td>110</td><td>54</td></tr><tr><td>&quot;PD50521b&quot;</td><td>233</td><td>91</td><td>161</td><td>62</td></tr><tr><td>&quot;PD50521e&quot;</td><td>202</td><td>71</td><td>118</td><td>33</td></tr><tr><td>&quot;PD50523b&quot;</td><td>210</td><td>85</td><td>119</td><td>19</td></tr></tbody></table></div>"
      ],
      "text/plain": [
       "shape: (15, 5)\n",
       "┌───────────┬─────┬─────┬───────────┬──────┐\n",
       "│ sample_id ┆ CO  ┆ GC  ┆ ambiguous ┆ CNCO │\n",
       "│ ---       ┆ --- ┆ --- ┆ ---       ┆ ---  │\n",
       "│ str       ┆ u32 ┆ u32 ┆ u32       ┆ u32  │\n",
       "╞═══════════╪═════╪═════╪═══════════╪══════╡\n",
       "│ 115980    ┆ 425 ┆ 181 ┆ 346       ┆ 9    │\n",
       "│ 1894      ┆ 520 ┆ 233 ┆ 419       ┆ 13   │\n",
       "│ 2895      ┆ 363 ┆ 149 ┆ 304       ┆ 9    │\n",
       "│ 3898      ┆ 447 ┆ 212 ┆ 326       ┆ 11   │\n",
       "│ 7899      ┆ 501 ┆ 212 ┆ 346       ┆ 18   │\n",
       "│ 95619     ┆ 442 ┆ 171 ┆ 346       ┆ 12   │\n",
       "│ PD46180c  ┆ 262 ┆ 72  ┆ 135       ┆ 45   │\n",
       "│ PD50477f  ┆ 205 ┆ 73  ┆ 126       ┆ 31   │\n",
       "│ PD50489e  ┆ 180 ┆ 51  ┆ 80        ┆ 24   │\n",
       "│ PD50508b  ┆ 161 ┆ 45  ┆ 95        ┆ 3    │\n",
       "│ PD50508f  ┆ 130 ┆ 31  ┆ 78        ┆ 8    │\n",
       "│ PD50519d  ┆ 179 ┆ 82  ┆ 110       ┆ 54   │\n",
       "│ PD50521b  ┆ 233 ┆ 91  ┆ 161       ┆ 62   │\n",
       "│ PD50521e  ┆ 202 ┆ 71  ┆ 118       ┆ 33   │\n",
       "│ PD50523b  ┆ 210 ┆ 85  ┆ 119       ┆ 19   │\n",
       "└───────────┴─────┴─────┴───────────┴──────┘"
      ]
     },
     "metadata": {},
     "output_type": "display_data"
    }
   ],
   "source": [
    "call_stats_df = (candidates_df    \n",
    "    .pivot(\n",
    "        values=[\"high_quality_classification_class\"],\n",
    "        index=[\"sample_id\"],\n",
    "        columns=[\"high_quality_classification_class\"],\n",
    "        aggregate_function='len'\n",
    "    )\n",
    "    .sort(by=\"sample_id\")\n",
    "    .select(\"sample_id\", \"CO\", \"GC\", \"ambiguous\", \"CNCO\")\n",
    ")\n",
    "\n",
    "with pl.Config(tbl_rows=40):\n",
    "    display(call_stats_df)\n",
    "\n",
    "# call_stats_df = (\n",
    "#     pl.DataFrame(\n",
    "#         {\n",
    "#             \"sample_id\": sample_presentation_order, \n",
    "#             \"paper_label_id\": [sample_id_to_paper_label[x] for x in sample_presentation_order]\n",
    "#         }\n",
    "#     )\n",
    "#     .join(call_stats_df, on=\"sample_id\")\n",
    "# )\n",
    "\n",
    "# with pl.Config(tbl_rows=40):\n",
    "#     display(call_stats_df.drop(\"sample_id\"))"
   ]
  },
  {
   "cell_type": "code",
   "execution_count": 9,
   "id": "fa2dc06b-c6ee-45ef-8073-b24e76df229a",
   "metadata": {},
   "outputs": [
    {
     "data": {
      "text/html": [
       "<div><style>\n",
       ".dataframe > thead > tr,\n",
       ".dataframe > tbody > tr {\n",
       "  text-align: right;\n",
       "  white-space: pre-wrap;\n",
       "}\n",
       "</style>\n",
       "<small>shape: (1, 5)</small><table border=\"1\" class=\"dataframe\"><thead><tr><th>sample_id</th><th>CO</th><th>GC</th><th>ambiguous</th><th>CNCO</th></tr><tr><td>str</td><td>u32</td><td>u32</td><td>u32</td><td>u32</td></tr></thead><tbody><tr><td>null</td><td>40</td><td>40</td><td>98</td><td>25</td></tr></tbody></table></div>"
      ],
      "text/plain": [
       "shape: (1, 5)\n",
       "┌───────────┬─────┬─────┬───────────┬──────┐\n",
       "│ sample_id ┆ CO  ┆ GC  ┆ ambiguous ┆ CNCO │\n",
       "│ ---       ┆ --- ┆ --- ┆ ---       ┆ ---  │\n",
       "│ str       ┆ u32 ┆ u32 ┆ u32       ┆ u32  │\n",
       "╞═══════════╪═════╪═════╪═══════════╪══════╡\n",
       "│ null      ┆ 40  ┆ 40  ┆ 98        ┆ 25   │\n",
       "└───────────┴─────┴─────┴───────────┴──────┘"
      ]
     },
     "execution_count": 9,
     "metadata": {},
     "output_type": "execute_result"
    }
   ],
   "source": [
    "call_stats_df.sum()"
   ]
  },
  {
   "cell_type": "markdown",
   "id": "6a7a28e8-d000-4f56-9631-ac955d09e45c",
   "metadata": {},
   "source": [
    "### Remove bad reads from manual inspection"
   ]
  },
  {
   "cell_type": "code",
   "execution_count": 15,
   "id": "9e996d85-7fe0-4548-9246-2e19d9d753f8",
   "metadata": {
    "tags": []
   },
   "outputs": [
    {
     "data": {
      "text/html": [
       "<div><style>\n",
       ".dataframe > thead > tr,\n",
       ".dataframe > tbody > tr {\n",
       "  text-align: right;\n",
       "  white-space: pre-wrap;\n",
       "}\n",
       "</style>\n",
       "<small>shape: (2, 5)</small><table border=\"1\" class=\"dataframe\"><thead><tr><th>sample_id</th><th>CO</th><th>GC</th><th>ambiguous</th><th>CNCO</th></tr><tr><td>str</td><td>u32</td><td>u32</td><td>u32</td><td>u32</td></tr></thead><tbody><tr><td>&quot;PD47269d&quot;</td><td>2</td><td>20</td><td>7</td><td>22</td></tr><tr><td>&quot;PD48473b&quot;</td><td>2</td><td>19</td><td>3</td><td>2</td></tr></tbody></table></div>"
      ],
      "text/plain": [
       "shape: (2, 5)\n",
       "┌───────────┬─────┬─────┬───────────┬──────┐\n",
       "│ sample_id ┆ CO  ┆ GC  ┆ ambiguous ┆ CNCO │\n",
       "│ ---       ┆ --- ┆ --- ┆ ---       ┆ ---  │\n",
       "│ str       ┆ u32 ┆ u32 ┆ u32       ┆ u32  │\n",
       "╞═══════════╪═════╪═════╪═══════════╪══════╡\n",
       "│ PD47269d  ┆ 2   ┆ 20  ┆ 7         ┆ 22   │\n",
       "│ PD48473b  ┆ 2   ┆ 19  ┆ 3         ┆ 2    │\n",
       "└───────────┴─────┴─────┴───────────┴──────┘"
      ]
     },
     "metadata": {},
     "output_type": "display_data"
    }
   ],
   "source": [
    "call_stats_df = (candidates_df \n",
    "    .filter(~pl.col(\"read_name\").is_in(\n",
    "        control_CO_read_blacklist_PD47269d + control_ambiguous_read_blacklist_PD47269d + \\\n",
    "        control_CO_read_blacklist_PD48473b + control_ambiguous_read_blacklist_PD48473b + \\\n",
    "        control_NCO_read_blacklist_PD48473b + control_complex_read_blacklist_PD48473b\n",
    "    ))\n",
    "    .pivot(\n",
    "        values=[\"high_quality_classification_class\"],\n",
    "        index=[\"sample_id\"],\n",
    "        columns=[\"high_quality_classification_class\"],\n",
    "        aggregate_function='len'\n",
    "    )\n",
    "    .sort(by=\"sample_id\")\n",
    "    .select(\"sample_id\", \"CO\", \"GC\", \"ambiguous\", \"CNCO\")\n",
    ")\n",
    "\n",
    "with pl.Config(tbl_rows=40):\n",
    "    display(call_stats_df)"
   ]
  },
  {
   "cell_type": "code",
   "execution_count": null,
   "id": "8148c0ed-f370-46f6-9a0d-6218e5410d8b",
   "metadata": {},
   "outputs": [],
   "source": []
  },
  {
   "cell_type": "code",
   "execution_count": 31,
   "id": "e9b65a00-63dd-4a6f-b512-4411e7387dc6",
   "metadata": {
    "tags": []
   },
   "outputs": [
    {
     "data": {
      "text/plain": [
       "1.735436288022319"
      ]
     },
     "execution_count": 31,
     "metadata": {},
     "output_type": "execute_result"
    }
   ],
   "source": [
    "(10/(70.2+30.1))/(3019/525.5)*100"
   ]
  },
  {
   "cell_type": "code",
   "execution_count": 30,
   "id": "c51cce4b-1964-48b2-b42c-cc2cd7e0d1ca",
   "metadata": {},
   "outputs": [
    {
     "data": {
      "text/plain": [
       "11.61637316589175"
      ]
     },
     "execution_count": 30,
     "metadata": {},
     "output_type": "execute_result"
    }
   ],
   "source": [
    "(39/(70.2+30.1))/(1759/525.5)*100"
   ]
  },
  {
   "cell_type": "code",
   "execution_count": 32,
   "id": "6cbdca4a-4334-409b-9a4a-21bc9cfd4b2a",
   "metadata": {
    "tags": []
   },
   "outputs": [
    {
     "data": {
      "text/plain": [
       "35.82415147719235"
      ]
     },
     "execution_count": 32,
     "metadata": {},
     "output_type": "execute_result"
    }
   ],
   "source": [
    "(24/(70.2+30.1))/(351/525.5)*100"
   ]
  },
  {
   "cell_type": "code",
   "execution_count": null,
   "id": "c34b8244-bad7-4cb2-9094-4645669a8c9a",
   "metadata": {},
   "outputs": [],
   "source": []
  },
  {
   "cell_type": "code",
   "execution_count": null,
   "id": "a93f737e-a16f-4877-ba79-ca1795cb77cc",
   "metadata": {},
   "outputs": [],
   "source": []
  },
  {
   "cell_type": "code",
   "execution_count": null,
   "id": "60048f57-3c70-4a63-86f9-d6395f844b0e",
   "metadata": {},
   "outputs": [],
   "source": []
  },
  {
   "cell_type": "code",
   "execution_count": null,
   "id": "19eb6490-b487-4596-93e2-a4ccab6c74e8",
   "metadata": {},
   "outputs": [],
   "source": []
  },
  {
   "cell_type": "markdown",
   "id": "78571d22-5908-462c-87c1-9487f09e9417",
   "metadata": {},
   "source": [
    "# Save to xls file"
   ]
  },
  {
   "cell_type": "code",
   "execution_count": null,
   "id": "6d6c2471-6d88-4830-86b2-23c81b03a7a1",
   "metadata": {
    "tags": []
   },
   "outputs": [],
   "source": [
    "(candidates_df\n",
    "    .rename({\n",
    "        \"high_quality_classification_class\": \"event_type\",\n",
    "        \"mid_quality_snp_positions\": \"snp_positions\",\n",
    "        \"mid_quality_snp_positions_alleles\": \"snp_alleles\",\n",
    "    })\n",
    "    .join(\n",
    "        pl.DataFrame({\n",
    "            \"sample_id\": sample_id_to_paper_label.keys(),\n",
    "            \"label\": sample_id_to_paper_label.values(),\n",
    "        }),\n",
    "        on=\"sample_id\",\n",
    "    )\n",
    "    .sort([\"label\", \"chrom\"])\n",
    "    [[\n",
    "        \"label\", \n",
    "        \"chrom\", \n",
    "        'grch37_reference_start',\n",
    "        'grch38_reference_start',\n",
    "        'T2T_reference_start',\n",
    "        \"snp_positions\",\n",
    "        \"snp_alleles\",\n",
    "    ]]\n",
    "    .write_excel(\"/nfs/users/nfs_r/rs42/rs42/git/sperm/recombination_events.xlsx\")\n",
    ")"
   ]
  },
  {
   "cell_type": "code",
   "execution_count": null,
   "id": "bfd93113-b971-453e-b782-53b8d6e87a2f",
   "metadata": {},
   "outputs": [],
   "source": []
  },
  {
   "cell_type": "code",
   "execution_count": null,
   "id": "3f565b50-4faf-4462-947d-0e423dff2bfc",
   "metadata": {},
   "outputs": [],
   "source": []
  },
  {
   "cell_type": "code",
   "execution_count": 44,
   "id": "95f64d49-6177-4ce6-840a-9a4e622a0e37",
   "metadata": {
    "tags": []
   },
   "outputs": [
    {
     "data": {
      "text/html": [
       "<div><style>\n",
       ".dataframe > thead > tr,\n",
       ".dataframe > tbody > tr {\n",
       "  text-align: right;\n",
       "  white-space: pre-wrap;\n",
       "}\n",
       "</style>\n",
       "<small>shape: (2, 5)</small><table border=\"1\" class=\"dataframe\"><thead><tr><th>sample_id</th><th>CO</th><th>NCO</th><th>Ambiguous</th><th>Complex</th></tr><tr><td>str</td><td>u32</td><td>u32</td><td>u32</td><td>u32</td></tr></thead><tbody><tr><td>&quot;PD47269d&quot;</td><td>14</td><td>15</td><td>81</td><td>22</td></tr><tr><td>&quot;PD48473b&quot;</td><td>6</td><td>15</td><td>47</td><td>3</td></tr></tbody></table></div>"
      ],
      "text/plain": [
       "shape: (2, 5)\n",
       "┌───────────┬─────┬─────┬───────────┬─────────┐\n",
       "│ sample_id ┆ CO  ┆ NCO ┆ Ambiguous ┆ Complex │\n",
       "│ ---       ┆ --- ┆ --- ┆ ---       ┆ ---     │\n",
       "│ str       ┆ u32 ┆ u32 ┆ u32       ┆ u32     │\n",
       "╞═══════════╪═════╪═════╪═══════════╪═════════╡\n",
       "│ PD47269d  ┆ 14  ┆ 15  ┆ 81        ┆ 22      │\n",
       "│ PD48473b  ┆ 6   ┆ 15  ┆ 47        ┆ 3       │\n",
       "└───────────┴─────┴─────┴───────────┴─────────┘"
      ]
     },
     "metadata": {},
     "output_type": "display_data"
    }
   ],
   "source": [
    "call_stats_df = (candidates_df\n",
    "    .with_columns(\n",
    "        combined_class = pl.when(\n",
    "            pl.col(\"high_quality_classification_class\") == \"CNCO\"\n",
    "        ).then(\n",
    "            pl.lit(\"Complex\")\n",
    "        ).when(\n",
    "            pl.col(\"high_quality_classification_in_detectable_class\").is_not_null()\n",
    "        ).then(\n",
    "            \"high_quality_classification_in_detectable_class\"\n",
    "        ).otherwise(\n",
    "            pl.lit(\"Ambiguous\")\n",
    "        )\n",
    "    )\n",
    "    .pivot(\n",
    "        values=[\"combined_class\"],\n",
    "        index=[\"sample_id\"],\n",
    "        columns=[\"combined_class\"],\n",
    "        aggregate_function='len'\n",
    "    )\n",
    "    .sort(by=\"sample_id\")\n",
    "    .select(\"sample_id\", \"CO\", \"NCO\", \"Ambiguous\", \"Complex\")\n",
    ")\n",
    "\n",
    "# call_stats_df = (\n",
    "#     pl.DataFrame(\n",
    "#         {\n",
    "#             \"sample_id\": sample_presentation_order, \n",
    "#             \"paper_label_id\": [sample_id_to_paper_label[x] for x in sample_presentation_order]\n",
    "#         }\n",
    "#     )\n",
    "#     .join(call_stats_df, on=\"sample_id\")\n",
    "# )\n",
    "with pl.Config(tbl_rows=40):\n",
    "    display(call_stats_df)"
   ]
  },
  {
   "cell_type": "code",
   "execution_count": null,
   "id": "d631a930-54f9-4505-a0cd-e506b6ababba",
   "metadata": {},
   "outputs": [],
   "source": []
  },
  {
   "cell_type": "code",
   "execution_count": null,
   "id": "d477c35d-2179-454f-b176-524513f95eb5",
   "metadata": {},
   "outputs": [],
   "source": []
  },
  {
   "cell_type": "code",
   "execution_count": null,
   "id": "ebce7297-0a30-456e-a07a-97868e9be6b3",
   "metadata": {},
   "outputs": [],
   "source": []
  },
  {
   "cell_type": "code",
   "execution_count": 43,
   "id": "26f11e1a-27d7-4f1a-a62b-f95adf3d7e78",
   "metadata": {
    "tags": []
   },
   "outputs": [
    {
     "data": {
      "text/html": [
       "<div><style>\n",
       ".dataframe > thead > tr,\n",
       ".dataframe > tbody > tr {\n",
       "  text-align: right;\n",
       "  white-space: pre-wrap;\n",
       "}\n",
       "</style>\n",
       "<small>shape: (9, 3)</small><table border=\"1\" class=\"dataframe\"><thead><tr><th>high_quality_classification_class</th><th>high_quality_classification_in_detectable_class</th><th>len</th></tr><tr><td>str</td><td>str</td><td>u32</td></tr></thead><tbody><tr><td>&quot;CNCO&quot;</td><td>&quot;CO&quot;</td><td>7</td></tr><tr><td>&quot;GC&quot;</td><td>&quot;CO&quot;</td><td>16</td></tr><tr><td>&quot;CNCO&quot;</td><td>&quot;NCO&quot;</td><td>39</td></tr><tr><td>&quot;CNCO&quot;</td><td>null</td><td>305</td></tr><tr><td>&quot;GC&quot;</td><td>null</td><td>674</td></tr><tr><td>&quot;CO&quot;</td><td>null</td><td>755</td></tr><tr><td>&quot;GC&quot;</td><td>&quot;NCO&quot;</td><td>1069</td></tr><tr><td>&quot;ambiguous&quot;</td><td>null</td><td>3109</td></tr><tr><td>&quot;CO&quot;</td><td>&quot;CO&quot;</td><td>3705</td></tr></tbody></table></div>"
      ],
      "text/plain": [
       "shape: (9, 3)\n",
       "┌───────────────────────────────────┬───────────────────────────────────┬──────┐\n",
       "│ high_quality_classification_clas… ┆ high_quality_classification_in_d… ┆ len  │\n",
       "│ ---                               ┆ ---                               ┆ ---  │\n",
       "│ str                               ┆ str                               ┆ u32  │\n",
       "╞═══════════════════════════════════╪═══════════════════════════════════╪══════╡\n",
       "│ CNCO                              ┆ CO                                ┆ 7    │\n",
       "│ GC                                ┆ CO                                ┆ 16   │\n",
       "│ CNCO                              ┆ NCO                               ┆ 39   │\n",
       "│ CNCO                              ┆ null                              ┆ 305  │\n",
       "│ GC                                ┆ null                              ┆ 674  │\n",
       "│ CO                                ┆ null                              ┆ 755  │\n",
       "│ GC                                ┆ NCO                               ┆ 1069 │\n",
       "│ ambiguous                         ┆ null                              ┆ 3109 │\n",
       "│ CO                                ┆ CO                                ┆ 3705 │\n",
       "└───────────────────────────────────┴───────────────────────────────────┴──────┘"
      ]
     },
     "execution_count": 43,
     "metadata": {},
     "output_type": "execute_result"
    }
   ],
   "source": [
    "(candidates_df\n",
    "    .group_by(\"high_quality_classification_class\", \"high_quality_classification_in_detectable_class\")\n",
    "    .len()\n",
    "    .sort(\"len\")\n",
    ")"
   ]
  },
  {
   "cell_type": "code",
   "execution_count": null,
   "id": "39c263f6-3b9e-4e82-9f26-9d5748c8305b",
   "metadata": {},
   "outputs": [],
   "source": []
  },
  {
   "cell_type": "code",
   "execution_count": null,
   "id": "20200298-4f30-497a-87c1-9e7be9e503cf",
   "metadata": {},
   "outputs": [],
   "source": []
  },
  {
   "cell_type": "code",
   "execution_count": 7,
   "id": "f48ef09a-ff1b-45cf-9820-9ed317c94654",
   "metadata": {},
   "outputs": [],
   "source": [
    "cls_df = pl.concat([\n",
    "    pl.read_parquet(\n",
    "        str(Path(\"/lustre/scratch126/casm/team154pc/sl17/03.sperm/02.results/01.read_alignment/01.ccs/04.hifiasm/02.hifiasm_0.19.5-r592/02.chromosome_length_scaffolds\")\n",
    "            / f\"{focal_sample_id}\" / \"reads\" / f\"{chrom}_RagTag.certainty_0.95.classified_reads.parquet\")\n",
    "    ) \\\n",
    "    for focal_sample_id in sample_ids\n",
    "    for chrom in aut_chrom_names\n",
    "])\n",
    "\n",
    "very_trusty_cls_df = cls_df.filter(pl.col(\"high_quality_classification\"))\n"
   ]
  },
  {
   "cell_type": "code",
   "execution_count": 8,
   "id": "d1f51e38-d14f-481c-a89f-3d0423e812a1",
   "metadata": {},
   "outputs": [
    {
     "data": {
      "text/html": [
       "<div><style>\n",
       ".dataframe > thead > tr,\n",
       ".dataframe > tbody > tr {\n",
       "  text-align: right;\n",
       "  white-space: pre-wrap;\n",
       "}\n",
       "</style>\n",
       "<small>shape: (9, 5)</small><table border=\"1\" class=\"dataframe\"><thead><tr><th>sample_id</th><th>CO</th><th>GC</th><th>ambiguous</th><th>CNCO</th></tr><tr><td>str</td><td>u32</td><td>u32</td><td>u32</td><td>u32</td></tr></thead><tbody><tr><td>&quot;PD46180c&quot;</td><td>261</td><td>72</td><td>131</td><td>45</td></tr><tr><td>&quot;PD50477f&quot;</td><td>202</td><td>72</td><td>128</td><td>31</td></tr><tr><td>&quot;PD50489e&quot;</td><td>180</td><td>51</td><td>80</td><td>24</td></tr><tr><td>&quot;PD50508b&quot;</td><td>161</td><td>45</td><td>93</td><td>3</td></tr><tr><td>&quot;PD50508f&quot;</td><td>130</td><td>31</td><td>78</td><td>8</td></tr><tr><td>&quot;PD50519d&quot;</td><td>177</td><td>82</td><td>110</td><td>54</td></tr><tr><td>&quot;PD50521b&quot;</td><td>233</td><td>89</td><td>160</td><td>62</td></tr><tr><td>&quot;PD50521e&quot;</td><td>199</td><td>70</td><td>119</td><td>32</td></tr><tr><td>&quot;PD50523b&quot;</td><td>208</td><td>83</td><td>119</td><td>19</td></tr></tbody></table></div>"
      ],
      "text/plain": [
       "shape: (9, 5)\n",
       "┌───────────┬─────┬─────┬───────────┬──────┐\n",
       "│ sample_id ┆ CO  ┆ GC  ┆ ambiguous ┆ CNCO │\n",
       "│ ---       ┆ --- ┆ --- ┆ ---       ┆ ---  │\n",
       "│ str       ┆ u32 ┆ u32 ┆ u32       ┆ u32  │\n",
       "╞═══════════╪═════╪═════╪═══════════╪══════╡\n",
       "│ PD46180c  ┆ 261 ┆ 72  ┆ 131       ┆ 45   │\n",
       "│ PD50477f  ┆ 202 ┆ 72  ┆ 128       ┆ 31   │\n",
       "│ PD50489e  ┆ 180 ┆ 51  ┆ 80        ┆ 24   │\n",
       "│ PD50508b  ┆ 161 ┆ 45  ┆ 93        ┆ 3    │\n",
       "│ PD50508f  ┆ 130 ┆ 31  ┆ 78        ┆ 8    │\n",
       "│ PD50519d  ┆ 177 ┆ 82  ┆ 110       ┆ 54   │\n",
       "│ PD50521b  ┆ 233 ┆ 89  ┆ 160       ┆ 62   │\n",
       "│ PD50521e  ┆ 199 ┆ 70  ┆ 119       ┆ 32   │\n",
       "│ PD50523b  ┆ 208 ┆ 83  ┆ 119       ┆ 19   │\n",
       "└───────────┴─────┴─────┴───────────┴──────┘"
      ]
     },
     "metadata": {},
     "output_type": "display_data"
    }
   ],
   "source": [
    "call_stats_df = (very_trusty_cls_df    \n",
    "    .pivot(\n",
    "        values=[\"class\"],\n",
    "        index=[\"sample_id\"],\n",
    "        columns=[\"class\"],\n",
    "        aggregate_function='len'\n",
    "    )\n",
    "    .sort(by=\"sample_id\")\n",
    "    .select(\"sample_id\", \"CO\", \"GC\", \"ambiguous\", \"CNCO\")\n",
    ")\n",
    "\n",
    "display(call_stats_df)"
   ]
  },
  {
   "cell_type": "code",
   "execution_count": 22,
   "id": "b1dabecc-4dd2-4e5a-9bce-6e0b0b9102d2",
   "metadata": {},
   "outputs": [
    {
     "data": {
      "text/html": [
       "<div><style>\n",
       ".dataframe > thead > tr,\n",
       ".dataframe > tbody > tr {\n",
       "  text-align: right;\n",
       "  white-space: pre-wrap;\n",
       "}\n",
       "</style>\n",
       "<small>shape: (1, 5)</small><table border=\"1\" class=\"dataframe\"><thead><tr><th>sample_id</th><th>CO</th><th>GC</th><th>ambiguous</th><th>CNCO</th></tr><tr><td>str</td><td>u32</td><td>u32</td><td>u32</td><td>u32</td></tr></thead><tbody><tr><td>null</td><td>1751</td><td>595</td><td>1018</td><td>278</td></tr></tbody></table></div>"
      ],
      "text/plain": [
       "shape: (1, 5)\n",
       "┌───────────┬──────┬─────┬───────────┬──────┐\n",
       "│ sample_id ┆ CO   ┆ GC  ┆ ambiguous ┆ CNCO │\n",
       "│ ---       ┆ ---  ┆ --- ┆ ---       ┆ ---  │\n",
       "│ str       ┆ u32  ┆ u32 ┆ u32       ┆ u32  │\n",
       "╞═══════════╪══════╪═════╪═══════════╪══════╡\n",
       "│ null      ┆ 1751 ┆ 595 ┆ 1018      ┆ 278  │\n",
       "└───────────┴──────┴─────┴───────────┴──────┘"
      ]
     },
     "execution_count": 22,
     "metadata": {},
     "output_type": "execute_result"
    }
   ],
   "source": [
    "call_stats_df.sum()"
   ]
  },
  {
   "cell_type": "markdown",
   "id": "4646915d-5244-4ec3-a2e4-2fea6224f327",
   "metadata": {},
   "source": [
    "# Sudmant samples stats"
   ]
  },
  {
   "cell_type": "code",
   "execution_count": 4,
   "id": "c86abc5e-31dd-4c14-adba-e51ccd16371f",
   "metadata": {},
   "outputs": [],
   "source": [
    "sudmant_path = Path(\"/lustre/scratch126/casm/team154pc/sl17/03.sperm/01.data/02.ccs/PeterSudmant/\")\n",
    "\n",
    "# sudmant_sample_ids = [\n",
    "#     \"105621\",\n",
    "#     \"1894\",\n",
    "#     \"3898\",\n",
    "#     \"7899\",\n",
    "#     \"95619\",\n",
    "#     \"115980\",\n",
    "#     \"2895\",\n",
    "#     \"6901\",\n",
    "#     \"8900\",\n",
    "# ]"
   ]
  },
  {
   "cell_type": "code",
   "execution_count": 5,
   "id": "c4ebfa92-8434-4455-ae21-0009356faff9",
   "metadata": {},
   "outputs": [],
   "source": [
    "rows = []\n",
    "for ssid in sudmant_sample_ids:\n",
    "    for stats in (sudmant_path / ssid).glob(\"*.ccs.stats.txt\"):\n",
    "        with open(stats) as F:\n",
    "            x = [int(s.replace(',', '')) for s in F.readlines()[2].split()]\n",
    "            rows.append((ssid, x[1], x[2], x[3]))\n",
    "\n",
    "ss_df = pl.DataFrame(rows, schema=[\"sample_id\", \"num_reads\", \"num_total_basepairs\", \"mean_median_length\"])"
   ]
  },
  {
   "cell_type": "code",
   "execution_count": 8,
   "id": "523cf7d7-90ab-4e71-86ad-990c4d78db5f",
   "metadata": {},
   "outputs": [
    {
     "data": {
      "text/html": [
       "<div><style>\n",
       ".dataframe > thead > tr,\n",
       ".dataframe > tbody > tr {\n",
       "  text-align: right;\n",
       "  white-space: pre-wrap;\n",
       "}\n",
       "</style>\n",
       "<small>shape: (6, 6)</small><table border=\"1\" class=\"dataframe\"><thead><tr><th>sample_id</th><th>num_cells</th><th>num_reads</th><th>num_total_basepairs</th><th>mean_median_length</th><th>coverage</th></tr><tr><td>str</td><td>u32</td><td>i64</td><td>i64</td><td>f64</td><td>f64</td></tr></thead><tbody><tr><td>&quot;115980&quot;</td><td>2</td><td>9037595</td><td>146388830583</td><td>15286.5</td><td>48.796277</td></tr><tr><td>&quot;1894&quot;</td><td>2</td><td>9181560</td><td>160932791394</td><td>16642.0</td><td>53.644264</td></tr><tr><td>&quot;2895&quot;</td><td>2</td><td>6982155</td><td>120919967150</td><td>16533.5</td><td>40.306656</td></tr><tr><td>&quot;3898&quot;</td><td>2</td><td>8634738</td><td>155298005617</td><td>17226.5</td><td>51.766002</td></tr><tr><td>&quot;7899&quot;</td><td>2</td><td>10220204</td><td>171148807471</td><td>15983.0</td><td>57.049602</td></tr><tr><td>&quot;95619&quot;</td><td>2</td><td>8876456</td><td>149439312738</td><td>16081.0</td><td>49.813104</td></tr></tbody></table></div>"
      ],
      "text/plain": [
       "shape: (6, 6)\n",
       "┌───────────┬───────────┬───────────┬─────────────────────┬────────────────────┬───────────┐\n",
       "│ sample_id ┆ num_cells ┆ num_reads ┆ num_total_basepairs ┆ mean_median_length ┆ coverage  │\n",
       "│ ---       ┆ ---       ┆ ---       ┆ ---                 ┆ ---                ┆ ---       │\n",
       "│ str       ┆ u32       ┆ i64       ┆ i64                 ┆ f64                ┆ f64       │\n",
       "╞═══════════╪═══════════╪═══════════╪═════════════════════╪════════════════════╪═══════════╡\n",
       "│ 115980    ┆ 2         ┆ 9037595   ┆ 146388830583        ┆ 15286.5            ┆ 48.796277 │\n",
       "│ 1894      ┆ 2         ┆ 9181560   ┆ 160932791394        ┆ 16642.0            ┆ 53.644264 │\n",
       "│ 2895      ┆ 2         ┆ 6982155   ┆ 120919967150        ┆ 16533.5            ┆ 40.306656 │\n",
       "│ 3898      ┆ 2         ┆ 8634738   ┆ 155298005617        ┆ 17226.5            ┆ 51.766002 │\n",
       "│ 7899      ┆ 2         ┆ 10220204  ┆ 171148807471        ┆ 15983.0            ┆ 57.049602 │\n",
       "│ 95619     ┆ 2         ┆ 8876456   ┆ 149439312738        ┆ 16081.0            ┆ 49.813104 │\n",
       "└───────────┴───────────┴───────────┴─────────────────────┴────────────────────┴───────────┘"
      ]
     },
     "metadata": {},
     "output_type": "display_data"
    }
   ],
   "source": [
    "sst_df = (ss_df\n",
    "    .group_by(\"sample_id\")\n",
    "    .agg(\n",
    "        pl.len().alias(\"num_cells\"),\n",
    "        pl.col(\"num_reads\").sum(),\n",
    "        pl.col(\"num_total_basepairs\").sum(),\n",
    "        pl.col(\"mean_median_length\").mean(),\n",
    "    )\n",
    "    .with_columns(\n",
    "        coverage = pl.col(\"num_total_basepairs\") / 3e9\n",
    "    )\n",
    "    .sort(\"sample_id\")\n",
    ")\n",
    "\n",
    "display(sst_df)"
   ]
  },
  {
   "cell_type": "code",
   "execution_count": 12,
   "id": "59c33350-98b7-46c1-b03b-d3201b05661c",
   "metadata": {},
   "outputs": [],
   "source": [
    "rahbari_coverage = np.array(\n",
    "    [15.652876, 20.623035, 22.238416, 23.319102, 24.503857, 25.114194, 25.343984, 31.714647, 33.258736]\n",
    ")\n",
    "\n",
    "sudmant_coverage = sst_df[\"coverage\"]\n",
    "both_coverages = np.concatenate([rahbari_coverage, sudmant_coverage])"
   ]
  },
  {
   "cell_type": "code",
   "execution_count": 14,
   "id": "b5892f64-a63f-4084-9172-33fe1fea004d",
   "metadata": {
    "tags": []
   },
   "outputs": [
    {
     "name": "stdout",
     "output_type": "stream",
     "text": [
      "min 15.652876\n",
      "max 57.04960249033333\n",
      "mean 34.87631679895556\n"
     ]
    }
   ],
   "source": [
    "print(\"min\", np.min(both_coverages))\n",
    "print(\"max\", np.max(both_coverages))\n",
    "print(\"mean\", np.mean(both_coverages))"
   ]
  },
  {
   "cell_type": "code",
   "execution_count": null,
   "id": "c3bf8869-d286-4593-9b12-8328c0064a9e",
   "metadata": {},
   "outputs": [],
   "source": [
    "sst_df[\"mean_median_length\"]"
   ]
  },
  {
   "cell_type": "code",
   "execution_count": null,
   "id": "cadb0989-278f-4ef7-b3c3-8778f20e449b",
   "metadata": {},
   "outputs": [],
   "source": []
  },
  {
   "cell_type": "code",
   "execution_count": null,
   "id": "8b927ceb-c150-4c5a-8cb8-fc05cceb26c5",
   "metadata": {},
   "outputs": [],
   "source": []
  }
 ],
 "metadata": {
  "kernelspec": {
   "display_name": "sperm",
   "language": "python",
   "name": "sperm"
  },
  "language_info": {
   "codemirror_mode": {
    "name": "ipython",
    "version": 3
   },
   "file_extension": ".py",
   "mimetype": "text/x-python",
   "name": "python",
   "nbconvert_exporter": "python",
   "pygments_lexer": "ipython3",
   "version": "3.11.6"
  }
 },
 "nbformat": 4,
 "nbformat_minor": 5
}
