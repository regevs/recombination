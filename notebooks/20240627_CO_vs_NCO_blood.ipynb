{
 "cells": [
  {
   "cell_type": "code",
   "execution_count": 1,
   "id": "7fde62c4-0ebf-4d5c-84ea-b6c4b7eb3aaa",
   "metadata": {},
   "outputs": [],
   "source": [
    "%load_ext autoreload\n",
    "%autoreload 2"
   ]
  },
  {
   "cell_type": "code",
   "execution_count": null,
   "id": "1f80c551-5793-41dd-aad2-1db69405bf66",
   "metadata": {},
   "outputs": [],
   "source": []
  },
  {
   "cell_type": "code",
   "execution_count": 2,
   "id": "5ad3beed-f9c7-4c5f-9334-4cd0abbd3bab",
   "metadata": {},
   "outputs": [],
   "source": [
    "import numpy as np\n",
    "import pandas as pd\n",
    "import matplotlib as mpl\n",
    "import matplotlib.pyplot as plt\n",
    "plt.rcParams['pdf.use14corefonts'] = True\n",
    "\n",
    "import matplotlib.ticker as ticker\n",
    "import numba\n",
    "import numba.typed\n",
    "\n",
    "from pathlib import Path\n",
    "import tqdm\n",
    "import sys\n",
    "import seaborn as sns\n",
    "import scipy.stats\n",
    "import os\n",
    "import pysam\n",
    "import pprint\n",
    "import pickle\n",
    "import joblib\n",
    "import subprocess\n",
    "import io\n",
    "import itertools\n",
    "import warnings\n",
    "import statsmodels.stats.proportion\n",
    "\n",
    "import polars as pl\n",
    "pl.Config.set_tbl_rows(-1)\n",
    "pl.Config.set_fmt_str_lengths(50)\n",
    "\n",
    "\n",
    "from brokenaxes import brokenaxes\n",
    "\n",
    "\n",
    "from adjustText import adjust_text\n",
    "\n",
    "\n",
    "# This is needed before pybedtools to make sure bedtools is imported on sanger JupyterHub \n",
    "os.environ[\"PATH\"] += \":\" + os.path.join(sys.prefix, \"bin\")\n",
    "import pybedtools\n",
    "\n",
    "pd.set_option('display.max_rows', 1000)\n"
   ]
  },
  {
   "cell_type": "code",
   "execution_count": 3,
   "id": "48b8f51a-21eb-49b2-8f64-1124f953ff14",
   "metadata": {},
   "outputs": [],
   "source": [
    "sys.path.append(str(Path(os.getcwd()).parent))\n",
    "from src import liftover, annotate, diagnostics, inference\n",
    "from src.IDs import *"
   ]
  },
  {
   "cell_type": "markdown",
   "id": "acb16ddf-481b-4ea4-a7e7-350bb972a6b4",
   "metadata": {},
   "source": [
    "# Add relevant fields to the dataframe of all reads"
   ]
  },
  {
   "cell_type": "markdown",
   "id": "59213e6a-b717-44de-8f98-7f496db6fd66",
   "metadata": {},
   "source": [
    "## Create reads dataframe"
   ]
  },
  {
   "cell_type": "code",
   "execution_count": 4,
   "id": "8bcd1f65-a065-4fab-b21e-ba5a4c0fdd3d",
   "metadata": {},
   "outputs": [
    {
     "name": "stderr",
     "output_type": "stream",
     "text": [
      "100%|██████████| 2/2 [00:02<00:00,  1.27s/it]"
     ]
    },
    {
     "name": "stdout",
     "output_type": "stream",
     "text": [
      "CPU times: user 43.4 ms, sys: 43.9 ms, total: 87.3 ms\n",
      "Wall time: 2.55 s\n"
     ]
    },
    {
     "name": "stderr",
     "output_type": "stream",
     "text": [
      "\n"
     ]
    }
   ],
   "source": [
    "%%time\n",
    "reads_df = pl.concat([\n",
    "    pl.scan_parquet(\n",
    "        f\"/lustre/scratch126/casm/team154pc/sl17/03.sperm/02.results/01.read_alignment/01.ccs/04.hifiasm/02.hifiasm_0.19.5-r592/02.chromosome_length_scaffolds/{focal_sample_id}/reads/{chrom}_RagTag.certainty_0.95.all_reads_structure_annotated.parquet\"\n",
    "    ) \n",
    "    for focal_sample_id in tqdm.tqdm(normal_sample_ids)\n",
    "    for chrom in aut_chrom_names\n",
    "])"
   ]
  },
  {
   "cell_type": "markdown",
   "id": "143279b4-48fe-4434-b122-136f62ad048a",
   "metadata": {},
   "source": [
    "## Subset of reads with at least 3 SNPs "
   ]
  },
  {
   "cell_type": "code",
   "execution_count": 5,
   "id": "6a17d420-b683-4b58-b07f-31f5e5bca335",
   "metadata": {},
   "outputs": [
    {
     "name": "stdout",
     "output_type": "stream",
     "text": [
      "CPU times: user 44.8 s, sys: 21.7 s, total: 1min 6s\n",
      "Wall time: 29.4 s\n"
     ]
    }
   ],
   "source": [
    "%%time\n",
    "dense_reads_with_detection_df = (reads_df\n",
    "    .select(\n",
    "        'read_name',\n",
    "        'read_length',\n",
    "        'chrom',\n",
    "        'sample_id',\n",
    "        'grch37_chromosome_size_in_bp',\n",
    "        'high_quality_snp_positions',\n",
    "        \"high_quality_snp_positions_alleles\",\n",
    "        'CO_active_interval_start',\n",
    "        'CO_active_interval_end',\n",
    "        'CO_active_interval_length_bp',\n",
    "        'NCO_active_interval_start',\n",
    "        'NCO_active_interval_end',\n",
    "        'NCO_active_interval_length_bp',\n",
    "        'grch37_reference_start',\n",
    "        'grch38_reference_start',\n",
    "        'grch37_reference_end',\n",
    "        'grch38_reference_end',\n",
    "        'T2T_reference_start',\n",
    "        'grch37_reference_start_cM',\n",
    "        'grch37_reference_end_cM',\n",
    "        'CO_active_interval_start_cM',\n",
    "        'CO_active_interval_end_cM',\n",
    "        'CO_active_interval_crossover_prob',\n",
    "        'NCO_active_interval_start_cM',\n",
    "        'NCO_active_interval_end_cM',\n",
    "        'NCO_active_interval_crossover_prob',\n",
    "        \"NCO_prob_detection_in_CO_active_interval\",\n",
    "        \"full_read_crossover_prob\",\n",
    "        'AA_motif_center_pos',\n",
    "        'AA_heat',\n",
    "        'AA_motif_strand',\n",
    "        'CL4_motif_center_pos',\n",
    "        'CL4_heat',\n",
    "        'CL4_motif_strand',\n",
    "        'is_high_quality_read', \n",
    "        \"high_quality_classification_class\",\n",
    "        \"snp_positions_on_read\", \n",
    "        \"idx_transitions\",\n",
    "        \"high_quality_classification_in_detectable_class\",\n",
    "        \"H3K4me3_signal_mean\",\n",
    "        \"CTCF_signal_mean\",                \n",
    "    )                  \n",
    "    .filter(pl.col(\"high_quality_snp_positions\").list.len() >= 3)\n",
    "    .filter(\"is_high_quality_read\")\n",
    "    .filter(pl.col(\"CO_active_interval_crossover_prob\") > 0)\n",
    "    .collect()\n",
    ")"
   ]
  },
  {
   "cell_type": "markdown",
   "id": "178e01bc-011e-4577-ba5e-95320b6062a0",
   "metadata": {},
   "source": [
    "## Add annotation for CO and NCO reads only"
   ]
  },
  {
   "cell_type": "code",
   "execution_count": 6,
   "id": "330a65d1-55c0-43b5-80ac-8d5a66f670e7",
   "metadata": {},
   "outputs": [],
   "source": [
    "CO_NCO_df = (dense_reads_with_detection_df\n",
    "    .filter(pl.col(\"high_quality_classification_class\").is_in([\"CO\", \"GC\"]))\n",
    "    .with_columns(\n",
    "        grch37_recombining_interval_start_pos = pl.col(\"grch37_reference_start\") + pl.col(\"snp_positions_on_read\").list.get(pl.col(\"idx_transitions\").list.get(0)),\n",
    "        grch37_recombining_interval_end_pos = pl.col(\"grch37_reference_start\") + pl.col(\"snp_positions_on_read\").list.get(pl.col(\"idx_transitions\").list.get(-1) + 1),\n",
    "        grch38_recombining_interval_start_pos = pl.col(\"grch38_reference_start\") + pl.col(\"snp_positions_on_read\").list.get(pl.col(\"idx_transitions\").list.get(0)),\n",
    "        grch38_recombining_interval_end_pos = pl.col(\"grch38_reference_start\") + pl.col(\"snp_positions_on_read\").list.get(pl.col(\"idx_transitions\").list.get(-1) + 1),\n",
    "    )\n",
    "    .with_columns(\n",
    "        grch37_recombining_interval_length = pl.col(\"grch37_recombining_interval_end_pos\") - pl.col(\"grch37_recombining_interval_start_pos\"),                \n",
    "        grch38_recombining_interval_length = pl.col(\"grch38_recombining_interval_end_pos\") - pl.col(\"grch38_recombining_interval_start_pos\"),                \n",
    "    )\n",
    ")\n",
    "\n",
    "dfs = []\n",
    "for [chrom], df in CO_NCO_df.partition_by(by=[\"chrom\"], as_dict=True).items():\n",
    "    rate_map = annotate.rate_maps[chrom]\n",
    "    dfs.append(\n",
    "        df.with_columns(\n",
    "            grch37_recombining_interval_start_poses_cm = rate_map.get_cumulative_mass(df[\"grch37_recombining_interval_start_pos\"]) * 1e2,\n",
    "            grch37_recombining_interval_end_poses_cm = rate_map.get_cumulative_mass(df[\"grch37_recombining_interval_end_pos\"]) * 1e2,\n",
    "        ).with_columns(\n",
    "            grch37_recombining_interval_cM = (pl.col(\"grch37_recombining_interval_end_poses_cm\") - pl.col(\"grch37_recombining_interval_start_poses_cm\")),\n",
    "            grch37_cM_per_bp_across_recombining_interval = (pl.col(\"grch37_recombining_interval_end_poses_cm\") - pl.col(\"grch37_recombining_interval_start_poses_cm\")) / pl.col(\"grch37_recombining_interval_length\"),\n",
    "        )\n",
    "    )\n",
    "    \n",
    "CO_NCO_df = pl.concat(dfs)"
   ]
  },
  {
   "cell_type": "code",
   "execution_count": null,
   "id": "94d8cb1c-6cd5-4cb9-af65-6a1041816b0f",
   "metadata": {},
   "outputs": [],
   "source": []
  },
  {
   "cell_type": "markdown",
   "id": "a39994d1-48d9-4b66-8dea-8fc6762011ee",
   "metadata": {},
   "source": [
    "# Numbers"
   ]
  },
  {
   "cell_type": "code",
   "execution_count": null,
   "id": "0b653a7f-4992-42d9-93ab-1f1fc01ffbc6",
   "metadata": {},
   "outputs": [],
   "source": []
  },
  {
   "cell_type": "code",
   "execution_count": null,
   "id": "708f80ce-c764-48fa-be89-9e028fae1359",
   "metadata": {},
   "outputs": [],
   "source": []
  },
  {
   "cell_type": "markdown",
   "id": "3ff12f30-b2af-4845-83e5-6036237dbbd5",
   "metadata": {},
   "source": [
    "# Differences in genetic lengths"
   ]
  },
  {
   "cell_type": "markdown",
   "id": "cc061de4-8e21-405f-ba17-0aed9ebc4f56",
   "metadata": {},
   "source": [
    "## Different chromosomes and samples?"
   ]
  },
  {
   "cell_type": "code",
   "execution_count": 8,
   "id": "11d97033-1f75-4f89-b667-2cd324f8b220",
   "metadata": {},
   "outputs": [],
   "source": [
    "def test_condition(condition):\n",
    "    df = (dense_reads_with_detection_df\n",
    "        .filter(pl.col(\"high_quality_snp_positions\").list.len() >= 5)\n",
    "        .filter(condition)\n",
    "        .filter(pl.col(\"high_quality_classification_in_detectable_class\").is_not_null())\n",
    "        .select(\n",
    "            \"CO_active_interval_crossover_prob\",\n",
    "            \"high_quality_classification_in_detectable_class\",\n",
    "        )\n",
    "    )\n",
    "\n",
    "    CO_lens = df.filter(pl.col(\"high_quality_classification_in_detectable_class\") == \"CO\")[\"CO_active_interval_crossover_prob\"] * 1e2\n",
    "    NCO_lens = df.filter(pl.col(\"high_quality_classification_in_detectable_class\") == \"NCO\")[\"CO_active_interval_crossover_prob\"] * 1e2\n",
    "    \n",
    "    return len(CO_lens), len(NCO_lens), scipy.stats.ks_2samp(CO_lens, NCO_lens).pvalue, inference.permutation_testing([[CO_lens, NCO_lens]], 1000)"
   ]
  },
  {
   "cell_type": "code",
   "execution_count": 10,
   "id": "f9b43be8-d9ec-406f-b218-45258bcbbf69",
   "metadata": {},
   "outputs": [
    {
     "name": "stderr",
     "output_type": "stream",
     "text": [
      "\n",
      "  0%|          | 0/2 [00:00<?, ?it/s]\u001b[A\n",
      " 50%|█████     | 1/2 [00:02<00:02,  2.33s/it]\u001b[A\n",
      "100%|██████████| 2/2 [00:04<00:00,  2.18s/it]\u001b[A\n"
     ]
    },
    {
     "data": {
      "text/html": [
       "<div><style>\n",
       ".dataframe > thead > tr,\n",
       ".dataframe > tbody > tr {\n",
       "  text-align: right;\n",
       "  white-space: pre-wrap;\n",
       "}\n",
       "</style>\n",
       "<small>shape: (2, 5)</small><table border=\"1\" class=\"dataframe\"><thead><tr><th>sample_id</th><th>n_events_CO</th><th>n_events_NCO</th><th>KS_pvalue</th><th>AD_perm_pvalue</th></tr><tr><td>str</td><td>i64</td><td>i64</td><td>f64</td><td>f64</td></tr></thead><tbody><tr><td>&quot;PD47269d&quot;</td><td>9</td><td>15</td><td>0.265275</td><td>0.153</td></tr><tr><td>&quot;PD48473b&quot;</td><td>4</td><td>15</td><td>0.024252</td><td>0.007</td></tr></tbody></table></div>"
      ],
      "text/plain": [
       "shape: (2, 5)\n",
       "┌───────────┬─────────────┬──────────────┬───────────┬────────────────┐\n",
       "│ sample_id ┆ n_events_CO ┆ n_events_NCO ┆ KS_pvalue ┆ AD_perm_pvalue │\n",
       "│ ---       ┆ ---         ┆ ---          ┆ ---       ┆ ---            │\n",
       "│ str       ┆ i64         ┆ i64          ┆ f64       ┆ f64            │\n",
       "╞═══════════╪═════════════╪══════════════╪═══════════╪════════════════╡\n",
       "│ PD47269d  ┆ 9           ┆ 15           ┆ 0.265275  ┆ 0.153          │\n",
       "│ PD48473b  ┆ 4           ┆ 15           ┆ 0.024252  ┆ 0.007          │\n",
       "└───────────┴─────────────┴──────────────┴───────────┴────────────────┘"
      ]
     },
     "metadata": {},
     "output_type": "display_data"
    }
   ],
   "source": [
    "rows = []\n",
    "for sample_id in tqdm.tqdm(sorted(normal_sample_ids)):\n",
    "    rows.append([sample_id] + list(test_condition(pl.col(\"sample_id\") == sample_id)))\n",
    "    \n",
    "with pl.Config(tbl_rows=100) as cfg:\n",
    "    display(pl.DataFrame(rows, schema=[\"sample_id\", \"n_events_CO\", \"n_events_NCO\", \"KS_pvalue\", \"AD_perm_pvalue\"]))    "
   ]
  },
  {
   "cell_type": "markdown",
   "id": "b2434e21-fb1e-4c0d-b383-d144fec05f24",
   "metadata": {},
   "source": [
    "### See visually"
   ]
  },
  {
   "cell_type": "code",
   "execution_count": 11,
   "id": "cd6a559b-d4a4-472d-baf0-a286ea5e558c",
   "metadata": {},
   "outputs": [
    {
     "data": {
      "image/png": "[encoded data removed]",
      "text/plain": [
       "<Figure size 600x300 with 1 Axes>"
      ]
     },
     "metadata": {},
     "output_type": "display_data"
    }
   ],
   "source": [
    "fig, ax = plt.subplots(figsize=(6, 3))\n",
    "\n",
    "df = (dense_reads_with_detection_df\n",
    "    .filter(pl.col(\"high_quality_snp_positions\").list.len() >= 5)\n",
    "    .filter(pl.col(\"high_quality_classification_in_detectable_class\").is_not_null())\n",
    "    .select(\n",
    "        \"CO_active_interval_crossover_prob\",\n",
    "        \"high_quality_classification_in_detectable_class\",\n",
    "    )\n",
    ")\n",
    "CO_lens = df.filter(pl.col(\"high_quality_classification_in_detectable_class\") == \"CO\")[\"CO_active_interval_crossover_prob\"] * 1e2\n",
    "NCO_lens = df.filter(pl.col(\"high_quality_classification_in_detectable_class\") == \"NCO\")[\"CO_active_interval_crossover_prob\"] * 1e2\n",
    "all_lens = dense_reads_with_detection_df.sample(fraction=1e-4)[\"CO_active_interval_crossover_prob\"] * 1e2\n",
    "\n",
    "sns.histplot(\n",
    "    [\n",
    "        pd.Series(np.log10(CO_lens), name=\"CO\"),\n",
    "        pd.Series(np.log10(NCO_lens), name=\"NCO\"),\n",
    "        pd.Series(np.log10(all_lens), name=\"All reads\"),\n",
    "    ], \n",
    "    bins=np.linspace(-5.5, 0.2, 50), \n",
    "    #multiple=\"dodge\",\n",
    "    #shrink=0.8,\n",
    "    stat=\"proportion\",\n",
    "    common_norm=False,\n",
    "    element=\"step\",\n",
    "    #kde=True,\n",
    "    palette=[CO_color, NCO_color, background_color],\n",
    "    #fill=False,\n",
    "    alpha=0.1,\n",
    "    ax=ax,\n",
    "    lw=0.5,\n",
    ")\n",
    "\n",
    "ax.set_xlabel(\"Genetic length (cM)\");\n",
    "ax.set_xticks(\n",
    "    np.arange(-5, 1),\n",
    "    [f\"$10^{{{x}}}$\" for x in np.arange(-5, 1)],\n",
    ");\n",
    "ax.legend(\n",
    "    ax.get_legend().legend_handles, \n",
    "    [\"CO reads\", \"NCO reads\", \"All reads\"], \n",
    "    loc=\"upper left\",\n",
    ");\n",
    "\n",
    "ax.spines[['right', 'top']].set_visible(False)\n"
   ]
  },
  {
   "cell_type": "code",
   "execution_count": null,
   "id": "9710b70c-0fc9-4ea6-99b9-e489d2bfc230",
   "metadata": {},
   "outputs": [],
   "source": []
  },
  {
   "cell_type": "code",
   "execution_count": null,
   "id": "4baccb5b-e2bf-4118-9f81-716cc69a45d0",
   "metadata": {},
   "outputs": [],
   "source": []
  },
  {
   "cell_type": "code",
   "execution_count": null,
   "id": "74725f13-6594-40d2-b417-a76b8dcc7c56",
   "metadata": {},
   "outputs": [],
   "source": []
  },
  {
   "cell_type": "code",
   "execution_count": null,
   "id": "ccf3f532-2ae7-4ac8-8721-4249072d63bb",
   "metadata": {},
   "outputs": [],
   "source": []
  },
  {
   "cell_type": "markdown",
   "id": "88c4a049-1cc4-468e-9846-cc0f03e75190",
   "metadata": {
    "tags": []
   },
   "source": [
    "# Compare DSB signal strengths between CO and NCO"
   ]
  },
  {
   "cell_type": "markdown",
   "id": "c5b3c109-2b23-40a0-b320-ab511b2183c7",
   "metadata": {},
   "source": [
    "## Overall"
   ]
  },
  {
   "cell_type": "code",
   "execution_count": 15,
   "id": "8ebff473-893f-419c-9708-e34d3d507fc7",
   "metadata": {},
   "outputs": [],
   "source": [
    "heats_CO = (CO_NCO_df\n",
    "    .filter(pl.col(\"grch38_reference_start\").is_not_null())            \n",
    "    .filter(pl.col(\"high_quality_classification_in_detectable_class\") == \"CO\")\n",
    ")[\"AA_heat\"].fill_null(0).to_numpy()\n",
    "\n",
    "heats_NCO = (CO_NCO_df\n",
    "    .filter(pl.col(\"grch38_reference_start\").is_not_null())             \n",
    "    .filter(pl.col(\"high_quality_classification_in_detectable_class\") == \"NCO\")\n",
    ")[\"AA_heat\"].fill_null(0).to_numpy()"
   ]
  },
  {
   "cell_type": "code",
   "execution_count": 16,
   "id": "1840d92b-8ecf-41b4-a490-d83d546f71d4",
   "metadata": {},
   "outputs": [
    {
     "name": "stdout",
     "output_type": "stream",
     "text": [
      "0.7971603816834222 0.241 0.103 0.41162067070463687\n"
     ]
    },
    {
     "data": {
      "image/png": "[encoded data removed]",
      "text/plain": [
       "<Figure size 1000x500 with 1 Axes>"
      ]
     },
     "metadata": {},
     "output_type": "display_data"
    }
   ],
   "source": [
    "fig, ax = plt.subplots(figsize=(10,5))\n",
    "\n",
    "sns.histplot(\n",
    "    [\n",
    "        pd.Series(heats_CO, name=\"All CO\"),\n",
    "        pd.Series(heats_NCO, name=\"All NCO\"),\n",
    "    ], \n",
    "    bins=50, #np.linspace(0, 2, 25),\n",
    "    multiple=\"dodge\",\n",
    "    shrink=0.8,\n",
    "    stat=\"proportion\",\n",
    "    common_norm=False,\n",
    "    ax=ax,\n",
    ")\n",
    "\n",
    "#plt.yscale(\"log\");\n",
    "#plt.ylim(0,0.05);\n",
    "plt.xlabel(\"AA heat\");\n",
    "#plt.title(f\"AD perm pval = {pval}\");\n",
    "\n",
    "print(\n",
    "    scipy.stats.ks_2samp(heats_CO, heats_NCO).pvalue,\n",
    "    inference.permutation_testing([[heats_CO, heats_NCO]], 1000),\n",
    "    inference.permutation_testing([[heats_CO[heats_CO>0], heats_NCO[heats_NCO>0]]], 1000),\n",
    "    scipy.stats.fisher_exact(\n",
    "        [[(heats_CO==0).sum(), (heats_CO!=0).sum()],\n",
    "         [(heats_NCO==0).sum(), (heats_NCO!=0).sum()]],\n",
    "    ).pvalue,\n",
    ")"
   ]
  },
  {
   "cell_type": "markdown",
   "id": "cc972023-a347-42ff-8c32-d8962fd6e4a5",
   "metadata": {},
   "source": [
    "## Per sample"
   ]
  },
  {
   "cell_type": "code",
   "execution_count": 17,
   "id": "6098cad0-3cff-4e7b-bf1f-843040c3caba",
   "metadata": {},
   "outputs": [
    {
     "name": "stderr",
     "output_type": "stream",
     "text": [
      "100%|██████████| 2/2 [00:00<00:00,  3.61it/s]\n"
     ]
    }
   ],
   "source": [
    "rows = []\n",
    "for sample_id in tqdm.tqdm(normal_sample_ids):\n",
    "    heats_CO = (CO_NCO_df\n",
    "        .filter(pl.col(\"grch38_reference_start\").is_not_null())                \n",
    "        #.filter(pl.col(\"high_quality_classification_in_detectable_class\") == \"CO\")\n",
    "        .filter(pl.col(\"high_quality_classification_class\") == \"CO\")\n",
    "        .filter((pl.col(\"sample_id\") == sample_id))\n",
    "    )[\"AA_heat\"].fill_null(0).to_numpy()\n",
    "\n",
    "    heats_NCO = (CO_NCO_df\n",
    "        .filter(pl.col(\"grch38_reference_start\").is_not_null())                 \n",
    "        #.filter(pl.col(\"high_quality_classification_in_detectable_class\") == \"NCO\")\n",
    "        .filter(pl.col(\"high_quality_classification_class\") == \"GC\")\n",
    "        .filter((pl.col(\"sample_id\") == sample_id))\n",
    "    )[\"AA_heat\"].fill_null(0).to_numpy()\n",
    "    \n",
    "    rows.append(\n",
    "        [\n",
    "            sample_id, \n",
    "            len(heats_CO), \n",
    "            len(heats_NCO),\n",
    "            (heats_CO == 0).sum(),\n",
    "            (heats_NCO == 0).sum(),\n",
    "            scipy.stats.ks_2samp(heats_CO, heats_NCO).pvalue,\n",
    "            inference.permutation_testing([[heats_CO, heats_NCO]], 1000),\n",
    "            inference.permutation_testing([[heats_CO[heats_CO>0], heats_NCO[heats_NCO>0]]], 1000),\n",
    "            scipy.stats.fisher_exact(\n",
    "                [[(heats_CO==0).sum(), (heats_CO!=0).sum()],\n",
    "                 [(heats_NCO==0).sum(), (heats_NCO!=0).sum()]],\n",
    "            ).pvalue,\n",
    "        ]\n",
    "    )\n",
    "    \n",
    "AA_heats_co_vs_nco_df = pl.DataFrame(\n",
    "    rows,\n",
    "    schema=[\"sample_id\", \"n_CO\", \"n_NCO\", \"n_CO_zeros\", \"n_NCO_zeros\",\n",
    "            \"heats_ks_pvalue\", \n",
    "            \"heats_AD_perm_pvalue\", \n",
    "            \"heats_AD_perm_no_zeros_pvalue\",\n",
    "            \"heats_fisher_pvalue\",\n",
    "           ],\n",
    ")    "
   ]
  },
  {
   "cell_type": "code",
   "execution_count": 18,
   "id": "4b4a02ba-04b7-422d-9ada-3754c3ed483a",
   "metadata": {},
   "outputs": [
    {
     "data": {
      "text/html": [
       "<div><style>\n",
       ".dataframe > thead > tr,\n",
       ".dataframe > tbody > tr {\n",
       "  text-align: right;\n",
       "  white-space: pre-wrap;\n",
       "}\n",
       "</style>\n",
       "<small>shape: (2, 9)</small><table border=\"1\" class=\"dataframe\"><thead><tr><th>sample_id</th><th>n_CO</th><th>n_NCO</th><th>n_CO_zeros</th><th>n_NCO_zeros</th><th>heats_ks_pvalue</th><th>heats_AD_perm_pvalue</th><th>heats_AD_perm_no_zeros_pvalue</th><th>heats_fisher_pvalue</th></tr><tr><td>str</td><td>i64</td><td>i64</td><td>i64</td><td>i64</td><td>f64</td><td>f64</td><td>f64</td><td>f64</td></tr></thead><tbody><tr><td>&quot;PD48473b&quot;</td><td>7</td><td>19</td><td>4</td><td>15</td><td>0.222022</td><td>0.117</td><td>0.055</td><td>0.340055</td></tr><tr><td>&quot;PD47269d&quot;</td><td>21</td><td>17</td><td>19</td><td>15</td><td>0.999784</td><td>0.726</td><td>1.0</td><td>1.0</td></tr></tbody></table></div>"
      ],
      "text/plain": [
       "shape: (2, 9)\n",
       "┌───────────┬──────┬───────┬────────────┬───┬─────────────┬─────────────┬─────────────┬────────────┐\n",
       "│ sample_id ┆ n_CO ┆ n_NCO ┆ n_CO_zeros ┆ … ┆ heats_ks_pv ┆ heats_AD_pe ┆ heats_AD_pe ┆ heats_fish │\n",
       "│ ---       ┆ ---  ┆ ---   ┆ ---        ┆   ┆ alue        ┆ rm_pvalue   ┆ rm_no_zeros ┆ er_pvalue  │\n",
       "│ str       ┆ i64  ┆ i64   ┆ i64        ┆   ┆ ---         ┆ ---         ┆ _pvalue     ┆ ---        │\n",
       "│           ┆      ┆       ┆            ┆   ┆ f64         ┆ f64         ┆ ---         ┆ f64        │\n",
       "│           ┆      ┆       ┆            ┆   ┆             ┆             ┆ f64         ┆            │\n",
       "╞═══════════╪══════╪═══════╪════════════╪═══╪═════════════╪═════════════╪═════════════╪════════════╡\n",
       "│ PD48473b  ┆ 7    ┆ 19    ┆ 4          ┆ … ┆ 0.222022    ┆ 0.117       ┆ 0.055       ┆ 0.340055   │\n",
       "│ PD47269d  ┆ 21   ┆ 17    ┆ 19         ┆ … ┆ 0.999784    ┆ 0.726       ┆ 1.0         ┆ 1.0        │\n",
       "└───────────┴──────┴───────┴────────────┴───┴─────────────┴─────────────┴─────────────┴────────────┘"
      ]
     },
     "execution_count": 18,
     "metadata": {},
     "output_type": "execute_result"
    }
   ],
   "source": [
    "AA_heats_co_vs_nco_df.sort(\"heats_AD_perm_pvalue\")"
   ]
  },
  {
   "cell_type": "code",
   "execution_count": 27,
   "id": "65de82e5-4995-4de0-84e1-1f28f689428a",
   "metadata": {
    "tags": []
   },
   "outputs": [
    {
     "data": {
      "image/png": "[encoded data removed]",
      "text/plain": [
       "<Figure size 400x300 with 1 Axes>"
      ]
     },
     "metadata": {},
     "output_type": "display_data"
    }
   ],
   "source": [
    "fig, ax = plt.subplots(figsize=(4,3))\n",
    "\n",
    "rows = AA_heats_co_vs_nco_df.rows(named=True)\n",
    "Drows = {}\n",
    "for row in rows:\n",
    "    Drows[row[\"sample_id\"]] = row\n",
    "\n",
    "# COs\n",
    "mns_co = [(1 - Drows[s][\"n_CO_zeros\"]/Drows[s][\"n_CO\"]) \\\n",
    "       for s in normal_sample_ids]\n",
    "cis_co = [statsmodels.stats.proportion.proportion_confint(\n",
    "    Drows[s][\"n_CO\"] - Drows[s][\"n_CO_zeros\"],\n",
    "    Drows[s][\"n_CO\"],\n",
    "    method=\"beta\",\n",
    ") for s in normal_sample_ids]\n",
    "    \n",
    "ax.errorbar(\n",
    "    y = 2*np.arange(len(normal_sample_ids)),\n",
    "    x = mns_co,\n",
    "    xerr = [\n",
    "        [mn-low_ci for ((low_ci, high_ci), mn) in zip(cis_co, mns_co)],\n",
    "        [high_ci-mn for ((low_ci, high_ci), mn) in zip(cis_co, mns_co)],\n",
    "    ],\n",
    "    fmt=\".\",\n",
    "    ms=20,\n",
    "    color=CO_color,\n",
    "    \n",
    ");\n",
    "\n",
    "# COs\n",
    "mns_nco = [(1 - Drows[s][\"n_NCO_zeros\"]/Drows[s][\"n_NCO\"]) \\\n",
    "       for s in normal_sample_ids]\n",
    "cis_nco = [statsmodels.stats.proportion.proportion_confint(\n",
    "    Drows[s][\"n_NCO\"] - Drows[s][\"n_NCO_zeros\"],\n",
    "    Drows[s][\"n_NCO\"],\n",
    "    method=\"beta\",\n",
    ") for s in normal_sample_ids]\n",
    "    \n",
    "ax.errorbar(\n",
    "    y = 2*np.arange(len(normal_sample_ids))+0.5,\n",
    "    x = mns_nco,\n",
    "    xerr = [\n",
    "        [mn-low_ci for ((low_ci, high_ci), mn) in zip(cis_nco, mns_nco)],\n",
    "        [high_ci-mn for ((low_ci, high_ci), mn) in zip(cis_nco, mns_nco)],\n",
    "    ],\n",
    "    fmt=\".\",\n",
    "    ms=20,\n",
    "    color=NCO_color,\n",
    "    \n",
    ");\n",
    "\n",
    "ax.set_yticks(\n",
    "    ticks = 2*np.arange(len(normal_sample_ids)), \n",
    "    labels=normal_sample_ids, \n",
    ");\n",
    "ax.invert_yaxis()\n",
    "ax.set_xlabel(\"Fraction of reads with DSB\");\n",
    "\n",
    "ax.spines[['top', 'right']].set_visible(False)"
   ]
  },
  {
   "cell_type": "code",
   "execution_count": 23,
   "id": "0ddf48db-d20b-471a-84da-00b3b87e12fa",
   "metadata": {},
   "outputs": [
    {
     "data": {
      "text/html": [
       "<div><style>\n",
       ".dataframe > thead > tr,\n",
       ".dataframe > tbody > tr {\n",
       "  text-align: right;\n",
       "  white-space: pre-wrap;\n",
       "}\n",
       "</style>\n",
       "<small>shape: (15, 9)</small><table border=\"1\" class=\"dataframe\"><thead><tr><th>sample_id</th><th>n_CO</th><th>n_NCO</th><th>n_CO_zeros</th><th>n_NCO_zeros</th><th>heats_ks_pvalue</th><th>heats_AD_perm_pvalue</th><th>heats_AD_perm_no_zeros_pvalue</th><th>heats_fisher_pvalue</th></tr><tr><td>str</td><td>i64</td><td>i64</td><td>i64</td><td>i64</td><td>f64</td><td>f64</td><td>f64</td><td>f64</td></tr></thead><tbody><tr><td>&quot;PD50508b&quot;</td><td>152</td><td>43</td><td>28</td><td>19</td><td>0.018632</td><td>0.004</td><td>0.229</td><td>0.001016</td></tr><tr><td>&quot;PD50508f&quot;</td><td>117</td><td>29</td><td>32</td><td>10</td><td>0.486841</td><td>0.527</td><td>0.552</td><td>0.494368</td></tr><tr><td>&quot;PD46180c&quot;</td><td>251</td><td>61</td><td>56</td><td>25</td><td>0.023962</td><td>0.016</td><td>0.465</td><td>0.005177</td></tr><tr><td>&quot;PD50519d&quot;</td><td>163</td><td>75</td><td>44</td><td>40</td><td>0.001084</td><td>0.0</td><td>0.64</td><td>0.000129</td></tr><tr><td>&quot;PD50477f&quot;</td><td>189</td><td>63</td><td>50</td><td>30</td><td>0.006614</td><td>0.004</td><td>0.864</td><td>0.002792</td></tr><tr><td>&quot;PD50489e&quot;</td><td>163</td><td>39</td><td>58</td><td>20</td><td>0.37458</td><td>0.116</td><td>0.643</td><td>0.098519</td></tr><tr><td>&quot;1894&quot;</td><td>488</td><td>218</td><td>150</td><td>152</td><td>1.4432e-22</td><td>0.0</td><td>0.062</td><td>4.4009e-22</td></tr><tr><td>&quot;3898&quot;</td><td>420</td><td>195</td><td>123</td><td>99</td><td>0.000005</td><td>0.0</td><td>0.539</td><td>3.7807e-7</td></tr><tr><td>&quot;7899&quot;</td><td>469</td><td>201</td><td>132</td><td>104</td><td>5.4071e-9</td><td>0.0</td><td>0.486</td><td>7.8135e-9</td></tr><tr><td>&quot;95619&quot;</td><td>418</td><td>158</td><td>131</td><td>84</td><td>0.000028</td><td>0.0</td><td>0.742</td><td>0.000002</td></tr><tr><td>&quot;115980&quot;</td><td>399</td><td>170</td><td>107</td><td>90</td><td>5.5101e-9</td><td>0.0</td><td>0.484</td><td>5.1805e-9</td></tr><tr><td>&quot;PD50521b&quot;</td><td>224</td><td>76</td><td>71</td><td>30</td><td>0.308852</td><td>0.286</td><td>0.319</td><td>0.261014</td></tr><tr><td>&quot;PD50521e&quot;</td><td>185</td><td>56</td><td>66</td><td>28</td><td>0.305541</td><td>0.122</td><td>0.636</td><td>0.061523</td></tr><tr><td>&quot;2895&quot;</td><td>346</td><td>146</td><td>113</td><td>83</td><td>0.000009</td><td>0.0</td><td>0.831</td><td>7.1600e-7</td></tr><tr><td>&quot;PD50523b&quot;</td><td>191</td><td>79</td><td>106</td><td>38</td><td>0.26347</td><td>0.229</td><td>0.404</td><td>0.285661</td></tr></tbody></table></div>"
      ],
      "text/plain": [
       "shape: (15, 9)\n",
       "┌───────────┬──────┬───────┬────────────┬───┬─────────────┬─────────────┬─────────────┬────────────┐\n",
       "│ sample_id ┆ n_CO ┆ n_NCO ┆ n_CO_zeros ┆ … ┆ heats_ks_pv ┆ heats_AD_pe ┆ heats_AD_pe ┆ heats_fish │\n",
       "│ ---       ┆ ---  ┆ ---   ┆ ---        ┆   ┆ alue        ┆ rm_pvalue   ┆ rm_no_zeros ┆ er_pvalue  │\n",
       "│ str       ┆ i64  ┆ i64   ┆ i64        ┆   ┆ ---         ┆ ---         ┆ _pvalue     ┆ ---        │\n",
       "│           ┆      ┆       ┆            ┆   ┆ f64         ┆ f64         ┆ ---         ┆ f64        │\n",
       "│           ┆      ┆       ┆            ┆   ┆             ┆             ┆ f64         ┆            │\n",
       "╞═══════════╪══════╪═══════╪════════════╪═══╪═════════════╪═════════════╪═════════════╪════════════╡\n",
       "│ PD50508b  ┆ 152  ┆ 43    ┆ 28         ┆ … ┆ 0.018632    ┆ 0.004       ┆ 0.229       ┆ 0.001016   │\n",
       "│ PD50508f  ┆ 117  ┆ 29    ┆ 32         ┆ … ┆ 0.486841    ┆ 0.527       ┆ 0.552       ┆ 0.494368   │\n",
       "│ PD46180c  ┆ 251  ┆ 61    ┆ 56         ┆ … ┆ 0.023962    ┆ 0.016       ┆ 0.465       ┆ 0.005177   │\n",
       "│ PD50519d  ┆ 163  ┆ 75    ┆ 44         ┆ … ┆ 0.001084    ┆ 0.0         ┆ 0.64        ┆ 0.000129   │\n",
       "│ PD50477f  ┆ 189  ┆ 63    ┆ 50         ┆ … ┆ 0.006614    ┆ 0.004       ┆ 0.864       ┆ 0.002792   │\n",
       "│ PD50489e  ┆ 163  ┆ 39    ┆ 58         ┆ … ┆ 0.37458     ┆ 0.116       ┆ 0.643       ┆ 0.098519   │\n",
       "│ 1894      ┆ 488  ┆ 218   ┆ 150        ┆ … ┆ 1.4432e-22  ┆ 0.0         ┆ 0.062       ┆ 4.4009e-22 │\n",
       "│ 3898      ┆ 420  ┆ 195   ┆ 123        ┆ … ┆ 0.000005    ┆ 0.0         ┆ 0.539       ┆ 3.7807e-7  │\n",
       "│ 7899      ┆ 469  ┆ 201   ┆ 132        ┆ … ┆ 5.4071e-9   ┆ 0.0         ┆ 0.486       ┆ 7.8135e-9  │\n",
       "│ 95619     ┆ 418  ┆ 158   ┆ 131        ┆ … ┆ 0.000028    ┆ 0.0         ┆ 0.742       ┆ 0.000002   │\n",
       "│ 115980    ┆ 399  ┆ 170   ┆ 107        ┆ … ┆ 5.5101e-9   ┆ 0.0         ┆ 0.484       ┆ 5.1805e-9  │\n",
       "│ PD50521b  ┆ 224  ┆ 76    ┆ 71         ┆ … ┆ 0.308852    ┆ 0.286       ┆ 0.319       ┆ 0.261014   │\n",
       "│ PD50521e  ┆ 185  ┆ 56    ┆ 66         ┆ … ┆ 0.305541    ┆ 0.122       ┆ 0.636       ┆ 0.061523   │\n",
       "│ 2895      ┆ 346  ┆ 146   ┆ 113        ┆ … ┆ 0.000009    ┆ 0.0         ┆ 0.831       ┆ 7.1600e-7  │\n",
       "│ PD50523b  ┆ 191  ┆ 79    ┆ 106        ┆ … ┆ 0.26347     ┆ 0.229       ┆ 0.404       ┆ 0.285661   │\n",
       "└───────────┴──────┴───────┴────────────┴───┴─────────────┴─────────────┴─────────────┴────────────┘"
      ]
     },
     "execution_count": 23,
     "metadata": {},
     "output_type": "execute_result"
    }
   ],
   "source": [
    "AA_heats_co_vs_nco_df"
   ]
  },
  {
   "cell_type": "code",
   "execution_count": null,
   "id": "82257c27-5915-4ce3-87c3-905993181fee",
   "metadata": {},
   "outputs": [],
   "source": []
  },
  {
   "cell_type": "markdown",
   "id": "dce3eb95-b143-4e54-82db-66506709e41d",
   "metadata": {},
   "source": [
    "# Telomere distances"
   ]
  },
  {
   "cell_type": "code",
   "execution_count": 28,
   "id": "48743acb-8c1c-4bb5-81b0-c163f52962d2",
   "metadata": {},
   "outputs": [
    {
     "data": {
      "image/png": "[encoded data removed]",
      "text/plain": [
       "<Figure size 600x300 with 1 Axes>"
      ]
     },
     "metadata": {},
     "output_type": "display_data"
    },
    {
     "data": {
      "image/png": "[encoded data removed]",
      "text/plain": [
       "<Figure size 600x300 with 1 Axes>"
      ]
     },
     "metadata": {},
     "output_type": "display_data"
    }
   ],
   "source": [
    "telomere_cutoff = 20e6 \n",
    "telomere_step = telomere_cutoff/20\n",
    "\n",
    "min_snps = 5\n",
    "\n",
    "for sample_id in normal_sample_ids:\n",
    "    # Look at p and q arm separately\n",
    "    # p arm, exclude acrocentric chroms\n",
    "    acrocentric_chroms = [\"chr13\", \"chr14\", \"chr15\", \"chr21\", \"chr22\"]\n",
    "    p_arm_distances = (CO_NCO_df\n",
    "        .filter(pl.col(\"high_quality_snp_positions\").list.len() >= min_snps)\n",
    "        .filter(pl.col(\"sample_id\") == sample_id)\n",
    "        .select(\n",
    "            \"read_name\",\n",
    "            dist_from_p_telomere = pl.when(\n",
    "                ~pl.col(\"chrom\").is_in(acrocentric_chroms)  \n",
    "            ).then(\n",
    "               pl.col(\"T2T_reference_start\") + pl.col(\"read_length\")//2\n",
    "            )\n",
    "        )\n",
    "    )\n",
    "\n",
    "    # q arm, all chroms\n",
    "    q_arm_distances = (CO_NCO_df\n",
    "        .filter(pl.col(\"sample_id\") == sample_id)\n",
    "        .filter(pl.col(\"high_quality_snp_positions\").list.len() >= min_snps)\n",
    "        .join(\n",
    "            pl.DataFrame(list(liftover.T2T_chromosome_sizes_in_bp.items()), schema=[\"chrom\", \"T2T_chrom_length\"]),\n",
    "            on=\"chrom\",\n",
    "        )\n",
    "        .select(\n",
    "            \"read_name\",\n",
    "            dist_from_q_telomere = pl.col(\"T2T_chrom_length\") - (pl.col(\"T2T_reference_start\") + pl.col(\"read_length\")//2),\n",
    "        )\n",
    "    )\n",
    "\n",
    "    close_to_telomeres_df = (CO_NCO_df\n",
    "        .filter(pl.col(\"sample_id\") == sample_id)\n",
    "        .filter(pl.col(\"high_quality_snp_positions\").list.len() >= min_snps)\n",
    "        .join(p_arm_distances, on=\"read_name\")\n",
    "        .join(q_arm_distances, on=\"read_name\")\n",
    "        .with_columns(\n",
    "            distance_to_telomere = pl.min_horizontal(\"dist_from_p_telomere\", \"dist_from_q_telomere\")\n",
    "        )\n",
    "        .filter(pl.col(\"distance_to_telomere\") < telomere_cutoff)\n",
    "    )\n",
    "\n",
    "    high_qual_CO_telomere_exp_probs = (close_to_telomeres_df\n",
    "        .group_by(\n",
    "            pl.col(\"distance_to_telomere\") // telomere_step\n",
    "        )\n",
    "        .agg(\n",
    "            pl.col(\"CO_active_interval_crossover_prob\").mean().alias(\"prob\")\n",
    "        )\n",
    "        .sort(\"distance_to_telomere\")\n",
    "    )[\"prob\"]\n",
    "\n",
    "    high_qual_CO_telomere_exp_freqs = high_qual_CO_telomere_exp_probs / high_qual_CO_telomere_exp_probs.sum()\n",
    "\n",
    "\n",
    "    high_qual_NCO_telomere_exp_probs = (close_to_telomeres_df\n",
    "        .group_by(\n",
    "            pl.col(\"distance_to_telomere\") // telomere_step\n",
    "        )\n",
    "        .agg(\n",
    "            (pl.col(\"NCO_active_interval_crossover_prob\") * pl.col(\"NCO_prob_detection_in_CO_active_interval\")).mean().alias(\"prob\")\n",
    "        )\n",
    "        .sort(\"distance_to_telomere\")\n",
    "    )[\"prob\"]\n",
    "\n",
    "    high_qual_NCO_telomere_exp_freqs = high_qual_NCO_telomere_exp_probs / high_qual_NCO_telomere_exp_probs.sum()\n",
    "\n",
    "    bins = np.arange(0, telomere_cutoff + telomere_step, telomere_step)\n",
    "\n",
    "    high_qual_CO_telomere_counts = np.histogram(\n",
    "        close_to_telomeres_df.filter(pl.col(\"high_quality_classification_in_detectable_class\") == \"CO\")[\"distance_to_telomere\"],\n",
    "        bins=bins,\n",
    "    )[0]\n",
    "\n",
    "    high_qual_CO_telomere_freqs = high_qual_CO_telomere_counts / high_qual_CO_telomere_counts.sum()\n",
    "\n",
    "\n",
    "    high_qual_NCO_telomere_counts = np.histogram(\n",
    "        close_to_telomeres_df.filter(pl.col(\"high_quality_classification_in_detectable_class\") == \"NCO\")[\"distance_to_telomere\"],\n",
    "        bins=bins,\n",
    "    )[0]\n",
    "\n",
    "    high_qual_NCO_telomere_freqs = high_qual_NCO_telomere_counts / high_qual_NCO_telomere_counts.sum()\n",
    "\n",
    "    fig, ax = plt.subplots(figsize=(6, 3))\n",
    "\n",
    "    ax.plot(bins[:-1], high_qual_CO_telomere_freqs, '.-', label=\"COs\", ms=10, color=CO_color)\n",
    "    #ax.plot(bins[:-1], high_qual_CO_telomere_exp_freqs, '.--', label=\"COs (expected)\", ms=5, color=\"C0\", alpha=0.5)\n",
    "\n",
    "    ax.plot(bins[:-1], high_qual_NCO_telomere_freqs, '.-', label=\"NCOs\", ms=10, color=NCO_color)\n",
    "    #ax.plot(bins[:-1], high_qual_NCO_telomere_exp_freqs, '.--', label=\"NCOs (expected)\", ms=5, color=\"C1\", alpha=0.5)\n",
    "    ax.legend();\n",
    "\n",
    "    ax.set_xticks(\n",
    "        bins[:-1],\n",
    "        labels = [f\"{int(x/1e6)}\" for x in bins[:-1]],\n",
    "    );\n",
    "\n",
    "    ax.set_xlabel(\"Distance to telomere (Mb)\");\n",
    "    ax.set_ylabel(\"Proportion\");\n",
    "    ax.spines[['right', 'top']].set_visible(False)\n",
    "    ax.set_title(sample_id)"
   ]
  },
  {
   "cell_type": "code",
   "execution_count": null,
   "id": "27ada9e4-4090-45d4-80a9-9a877170370f",
   "metadata": {},
   "outputs": [],
   "source": []
  },
  {
   "cell_type": "code",
   "execution_count": null,
   "id": "1f178907-b9f1-45c3-b0cc-beea9a7882ad",
   "metadata": {},
   "outputs": [],
   "source": []
  },
  {
   "cell_type": "code",
   "execution_count": null,
   "id": "6d6eb0a6-f598-4b15-9f69-9d3036db1fee",
   "metadata": {},
   "outputs": [],
   "source": []
  },
  {
   "cell_type": "code",
   "execution_count": null,
   "id": "ac9f9f90-947f-4d2d-b8df-62eb53460459",
   "metadata": {},
   "outputs": [],
   "source": []
  },
  {
   "cell_type": "code",
   "execution_count": null,
   "id": "b5e5ad96-783e-450a-bea2-535634b07a12",
   "metadata": {},
   "outputs": [],
   "source": []
  },
  {
   "cell_type": "code",
   "execution_count": null,
   "id": "23e23ad3-cfca-4d38-928c-36ef4aa4f687",
   "metadata": {},
   "outputs": [],
   "source": []
  },
  {
   "cell_type": "markdown",
   "id": "64da23d0-96c5-426f-b69e-706a1c5b282b",
   "metadata": {},
   "source": [
    "# ENCODE H3K4me3"
   ]
  },
  {
   "cell_type": "code",
   "execution_count": 29,
   "id": "015151dd-7f46-43d4-a5e0-f0875d3c56e8",
   "metadata": {
    "tags": []
   },
   "outputs": [
    {
     "name": "stderr",
     "output_type": "stream",
     "text": [
      "100%|██████████| 2/2 [00:00<00:00,  2.87it/s]\n"
     ]
    },
    {
     "data": {
      "text/html": [
       "<div><style>\n",
       ".dataframe > thead > tr,\n",
       ".dataframe > tbody > tr {\n",
       "  text-align: right;\n",
       "  white-space: pre-wrap;\n",
       "}\n",
       "</style>\n",
       "<small>shape: (2, 9)</small><table border=\"1\" class=\"dataframe\"><thead><tr><th>sample_id</th><th>n_CO</th><th>n_NCO</th><th>n_CO_zeros</th><th>n_NCO_zeros</th><th>heats_ks_pvalue</th><th>heats_AD_perm_pvalue</th><th>heats_AD_perm_no_zeros_pvalue</th><th>heats_fisher_pvalue</th></tr><tr><td>str</td><td>i64</td><td>i64</td><td>i64</td><td>i64</td><td>f64</td><td>f64</td><td>f64</td><td>f64</td></tr></thead><tbody><tr><td>&quot;PD48473b&quot;</td><td>5</td><td>15</td><td>0</td><td>1</td><td>0.205366</td><td>0.212</td><td>0.083</td><td>1.0</td></tr><tr><td>&quot;PD47269d&quot;</td><td>14</td><td>15</td><td>0</td><td>0</td><td>0.424146</td><td>0.4</td><td>0.4</td><td>1.0</td></tr></tbody></table></div>"
      ],
      "text/plain": [
       "shape: (2, 9)\n",
       "┌───────────┬──────┬───────┬────────────┬───┬─────────────┬─────────────┬─────────────┬────────────┐\n",
       "│ sample_id ┆ n_CO ┆ n_NCO ┆ n_CO_zeros ┆ … ┆ heats_ks_pv ┆ heats_AD_pe ┆ heats_AD_pe ┆ heats_fish │\n",
       "│ ---       ┆ ---  ┆ ---   ┆ ---        ┆   ┆ alue        ┆ rm_pvalue   ┆ rm_no_zeros ┆ er_pvalue  │\n",
       "│ str       ┆ i64  ┆ i64   ┆ i64        ┆   ┆ ---         ┆ ---         ┆ _pvalue     ┆ ---        │\n",
       "│           ┆      ┆       ┆            ┆   ┆ f64         ┆ f64         ┆ ---         ┆ f64        │\n",
       "│           ┆      ┆       ┆            ┆   ┆             ┆             ┆ f64         ┆            │\n",
       "╞═══════════╪══════╪═══════╪════════════╪═══╪═════════════╪═════════════╪═════════════╪════════════╡\n",
       "│ PD48473b  ┆ 5    ┆ 15    ┆ 0          ┆ … ┆ 0.205366    ┆ 0.212       ┆ 0.083       ┆ 1.0        │\n",
       "│ PD47269d  ┆ 14   ┆ 15    ┆ 0          ┆ … ┆ 0.424146    ┆ 0.4         ┆ 0.4         ┆ 1.0        │\n",
       "└───────────┴──────┴───────┴────────────┴───┴─────────────┴─────────────┴─────────────┴────────────┘"
      ]
     },
     "execution_count": 29,
     "metadata": {},
     "output_type": "execute_result"
    }
   ],
   "source": [
    "rows = []\n",
    "for sample_id in tqdm.tqdm(normal_sample_ids):\n",
    "    heats_CO = (CO_NCO_df\n",
    "        .filter(pl.col(\"grch37_reference_start\").is_not_null())                \n",
    "        .filter(pl.col(\"high_quality_classification_in_detectable_class\") == \"CO\")\n",
    "        .filter((pl.col(\"sample_id\") == sample_id))\n",
    "    )[\"H3K4me3_signal_mean\"].fill_null(0).to_numpy()\n",
    "\n",
    "    heats_NCO = (CO_NCO_df\n",
    "        .filter(pl.col(\"grch37_reference_start\").is_not_null())                 \n",
    "        .filter(pl.col(\"high_quality_classification_in_detectable_class\") == \"NCO\")\n",
    "        .filter((pl.col(\"sample_id\") == sample_id))\n",
    "    )[\"H3K4me3_signal_mean\"].fill_null(0).to_numpy()\n",
    "    \n",
    "    rows.append(\n",
    "        [\n",
    "            sample_id, \n",
    "            len(heats_CO), \n",
    "            len(heats_NCO),\n",
    "            (heats_CO == 0).sum(),\n",
    "            (heats_NCO == 0).sum(),\n",
    "            scipy.stats.ks_2samp(heats_CO, heats_NCO).pvalue,\n",
    "            inference.permutation_testing([[heats_CO, heats_NCO]], 1000),\n",
    "            inference.permutation_testing([[heats_CO[heats_CO>0], heats_NCO[heats_NCO>0]]], 1000),\n",
    "            scipy.stats.fisher_exact(\n",
    "                [[(heats_CO==0).sum(), (heats_CO!=0).sum()],\n",
    "                 [(heats_NCO==0).sum(), (heats_NCO!=0).sum()]],\n",
    "            ).pvalue,\n",
    "        ]\n",
    "    )\n",
    "    \n",
    "H3K4me3_heats_co_vs_nco_df = pl.DataFrame(\n",
    "    rows,\n",
    "    schema=[\"sample_id\", \"n_CO\", \"n_NCO\", \"n_CO_zeros\", \"n_NCO_zeros\",\n",
    "            \"heats_ks_pvalue\", \n",
    "            \"heats_AD_perm_pvalue\", \n",
    "            \"heats_AD_perm_no_zeros_pvalue\",\n",
    "            \"heats_fisher_pvalue\",\n",
    "           ],\n",
    ")    \n",
    "\n",
    "H3K4me3_heats_co_vs_nco_df.sort(\"heats_AD_perm_pvalue\")"
   ]
  },
  {
   "cell_type": "code",
   "execution_count": null,
   "id": "16449127-5cf7-4268-983b-a78f75e1e134",
   "metadata": {},
   "outputs": [],
   "source": []
  },
  {
   "cell_type": "code",
   "execution_count": 42,
   "id": "94450883-44f5-4231-aa88-eafc9f65267a",
   "metadata": {
    "tags": []
   },
   "outputs": [
    {
     "name": "stderr",
     "output_type": "stream",
     "text": [
      "/tmp/ipykernel_960294/3906849803.py:15: UserWarning: The palette list has more values (3) than needed (2), which may not be intended.\n",
      "  sns.histplot(\n"
     ]
    },
    {
     "data": {
      "image/png": "[encoded data removed]",
      "text/plain": [
       "<Figure size 600x300 with 1 Axes>"
      ]
     },
     "metadata": {},
     "output_type": "display_data"
    }
   ],
   "source": [
    "fig, ax = plt.subplots(figsize=(6, 3))\n",
    "\n",
    "df = (dense_reads_with_detection_df\n",
    "#    .filter(pl.col(\"sample_id\") == sample_id)\n",
    "    .filter(pl.col(\"high_quality_classification_in_detectable_class\").is_not_null())\n",
    "    .select(\n",
    "        \"H3K4me3_signal_mean\",\n",
    "        \"high_quality_classification_in_detectable_class\",\n",
    "    )\n",
    ")\n",
    "CO_lens = df.filter(pl.col(\"high_quality_classification_in_detectable_class\") == \"CO\")[\"H3K4me3_signal_mean\"]\n",
    "NCO_lens = df.filter(pl.col(\"high_quality_classification_in_detectable_class\") == \"NCO\")[\"H3K4me3_signal_mean\"]\n",
    "all_lens = dense_reads_with_detection_df.sample(fraction=1e-4)[\"H3K4me3_signal_mean\"]\n",
    "\n",
    "sns.histplot(\n",
    "    [\n",
    "        pd.Series((CO_lens), name=\"CO\"),\n",
    "        pd.Series((NCO_lens), name=\"NCO\"),\n",
    "        #pd.Series((all_lens), name=\"All reads\"),\n",
    "    ], \n",
    "    #bins=np.linspace(-1, 0, 50),\n",
    "    bins=np.linspace(0, 1, 50),\n",
    "    #multiple=\"dodge\",\n",
    "    #shrink=0.8,\n",
    "    stat=\"proportion\",\n",
    "    common_norm=False,\n",
    "    element=\"step\",\n",
    "    #kde=True,\n",
    "    palette=[CO_color, NCO_color, background_color],\n",
    "    #fill=False,\n",
    "    alpha=0.1,\n",
    "    ax=ax,\n",
    ")\n",
    "\n",
    "ax.set_xlabel(\"H3K4me3_signal_mean\");\n",
    "# ax.set_xticks(\n",
    "#     np.arange(-5, 1),\n",
    "#     [f\"$10^{{{x}}}$\" for x in np.arange(-5, 1)],\n",
    "# );\n",
    "ax.legend(\n",
    "    ax.get_legend().legend_handles, \n",
    "    [\"CO reads\", \"NCO reads\", \"All reads\"], \n",
    "    loc=\"upper left\",\n",
    ");\n",
    "\n",
    "ax.spines[['right', 'top']].set_visible(False)"
   ]
  },
  {
   "cell_type": "code",
   "execution_count": null,
   "id": "9ff5bd57-2033-4f81-ad8e-6a5041754d9e",
   "metadata": {},
   "outputs": [],
   "source": []
  },
  {
   "cell_type": "markdown",
   "id": "78e19bfd-3932-4170-80e0-e00ad3cf7b0b",
   "metadata": {},
   "source": [
    "# Paper figure"
   ]
  },
  {
   "cell_type": "code",
   "execution_count": 30,
   "id": "e33311a6-dde9-4908-b23b-cd5f3e9e715d",
   "metadata": {
    "tags": []
   },
   "outputs": [
    {
     "ename": "KeyError",
     "evalue": "'PD50508b'",
     "output_type": "error",
     "traceback": [
      "\u001b[0;31m---------------------------------------------------------------------------\u001b[0m",
      "\u001b[0;31mKeyError\u001b[0m                                  Traceback (most recent call last)",
      "Cell \u001b[0;32mIn[30], line 92\u001b[0m\n\u001b[1;32m     71\u001b[0m inference\u001b[38;5;241m.\u001b[39mplot_boxplots_samples(\n\u001b[1;32m     72\u001b[0m     test_df \u001b[38;5;241m=\u001b[39m (CO_NCO_df\n\u001b[1;32m     73\u001b[0m         \u001b[38;5;241m.\u001b[39mfilter(pl\u001b[38;5;241m.\u001b[39mcol(\u001b[38;5;124m\"\u001b[39m\u001b[38;5;124mhigh_quality_classification_class\u001b[39m\u001b[38;5;124m\"\u001b[39m) \u001b[38;5;241m==\u001b[39m \u001b[38;5;124m\"\u001b[39m\u001b[38;5;124mGC\u001b[39m\u001b[38;5;124m\"\u001b[39m)\n\u001b[0;32m   (...)\u001b[0m\n\u001b[1;32m     85\u001b[0m     ax \u001b[38;5;241m=\u001b[39m axs[\u001b[38;5;241m3\u001b[39m]\n\u001b[1;32m     86\u001b[0m );\n\u001b[1;32m     91\u001b[0m \u001b[38;5;66;03m# NCOs\u001b[39;00m\n\u001b[0;32m---> 92\u001b[0m mns_nco \u001b[38;5;241m=\u001b[39m \u001b[43m[\u001b[49m\u001b[43m(\u001b[49m\u001b[38;5;241;43m1\u001b[39;49m\u001b[43m \u001b[49m\u001b[38;5;241;43m-\u001b[39;49m\u001b[43m \u001b[49m\u001b[43mDrows\u001b[49m\u001b[43m[\u001b[49m\u001b[43ms\u001b[49m\u001b[43m]\u001b[49m\u001b[43m[\u001b[49m\u001b[38;5;124;43m\"\u001b[39;49m\u001b[38;5;124;43mn_NCO_zeros\u001b[39;49m\u001b[38;5;124;43m\"\u001b[39;49m\u001b[43m]\u001b[49m\u001b[38;5;241;43m/\u001b[39;49m\u001b[43mDrows\u001b[49m\u001b[43m[\u001b[49m\u001b[43ms\u001b[49m\u001b[43m]\u001b[49m\u001b[43m[\u001b[49m\u001b[38;5;124;43m\"\u001b[39;49m\u001b[38;5;124;43mn_NCO\u001b[39;49m\u001b[38;5;124;43m\"\u001b[39;49m\u001b[43m]\u001b[49m\u001b[43m)\u001b[49m\u001b[43m \u001b[49m\u001b[43m\\\u001b[49m\n\u001b[1;32m     93\u001b[0m \u001b[43m       \u001b[49m\u001b[38;5;28;43;01mfor\u001b[39;49;00m\u001b[43m \u001b[49m\u001b[43ms\u001b[49m\u001b[43m \u001b[49m\u001b[38;5;129;43;01min\u001b[39;49;00m\u001b[43m \u001b[49m\u001b[43msample_presentation_order\u001b[49m\u001b[43m[\u001b[49m\u001b[43m:\u001b[49m\u001b[38;5;241;43m-\u001b[39;49m\u001b[38;5;241;43m1\u001b[39;49m\u001b[43m]\u001b[49m\u001b[43m]\u001b[49m\n\u001b[1;32m     94\u001b[0m cis_nco \u001b[38;5;241m=\u001b[39m [statsmodels\u001b[38;5;241m.\u001b[39mstats\u001b[38;5;241m.\u001b[39mproportion\u001b[38;5;241m.\u001b[39mproportion_confint(\n\u001b[1;32m     95\u001b[0m     Drows[s][\u001b[38;5;124m\"\u001b[39m\u001b[38;5;124mn_NCO\u001b[39m\u001b[38;5;124m\"\u001b[39m] \u001b[38;5;241m-\u001b[39m Drows[s][\u001b[38;5;124m\"\u001b[39m\u001b[38;5;124mn_NCO_zeros\u001b[39m\u001b[38;5;124m\"\u001b[39m],\n\u001b[1;32m     96\u001b[0m     Drows[s][\u001b[38;5;124m\"\u001b[39m\u001b[38;5;124mn_NCO\u001b[39m\u001b[38;5;124m\"\u001b[39m],\n\u001b[1;32m     97\u001b[0m     method\u001b[38;5;241m=\u001b[39m\u001b[38;5;124m\"\u001b[39m\u001b[38;5;124mbeta\u001b[39m\u001b[38;5;124m\"\u001b[39m,\n\u001b[1;32m     98\u001b[0m ) \u001b[38;5;28;01mfor\u001b[39;00m s \u001b[38;5;129;01min\u001b[39;00m sample_presentation_order[:\u001b[38;5;241m-\u001b[39m\u001b[38;5;241m1\u001b[39m]]\n\u001b[1;32m    100\u001b[0m ax \u001b[38;5;241m=\u001b[39m axs[\u001b[38;5;241m4\u001b[39m]\n",
      "Cell \u001b[0;32mIn[30], line 92\u001b[0m, in \u001b[0;36m<listcomp>\u001b[0;34m(.0)\u001b[0m\n\u001b[1;32m     71\u001b[0m inference\u001b[38;5;241m.\u001b[39mplot_boxplots_samples(\n\u001b[1;32m     72\u001b[0m     test_df \u001b[38;5;241m=\u001b[39m (CO_NCO_df\n\u001b[1;32m     73\u001b[0m         \u001b[38;5;241m.\u001b[39mfilter(pl\u001b[38;5;241m.\u001b[39mcol(\u001b[38;5;124m\"\u001b[39m\u001b[38;5;124mhigh_quality_classification_class\u001b[39m\u001b[38;5;124m\"\u001b[39m) \u001b[38;5;241m==\u001b[39m \u001b[38;5;124m\"\u001b[39m\u001b[38;5;124mGC\u001b[39m\u001b[38;5;124m\"\u001b[39m)\n\u001b[0;32m   (...)\u001b[0m\n\u001b[1;32m     85\u001b[0m     ax \u001b[38;5;241m=\u001b[39m axs[\u001b[38;5;241m3\u001b[39m]\n\u001b[1;32m     86\u001b[0m );\n\u001b[1;32m     91\u001b[0m \u001b[38;5;66;03m# NCOs\u001b[39;00m\n\u001b[0;32m---> 92\u001b[0m mns_nco \u001b[38;5;241m=\u001b[39m [(\u001b[38;5;241m1\u001b[39m \u001b[38;5;241m-\u001b[39m \u001b[43mDrows\u001b[49m\u001b[43m[\u001b[49m\u001b[43ms\u001b[49m\u001b[43m]\u001b[49m[\u001b[38;5;124m\"\u001b[39m\u001b[38;5;124mn_NCO_zeros\u001b[39m\u001b[38;5;124m\"\u001b[39m]\u001b[38;5;241m/\u001b[39mDrows[s][\u001b[38;5;124m\"\u001b[39m\u001b[38;5;124mn_NCO\u001b[39m\u001b[38;5;124m\"\u001b[39m]) \\\n\u001b[1;32m     93\u001b[0m        \u001b[38;5;28;01mfor\u001b[39;00m s \u001b[38;5;129;01min\u001b[39;00m sample_presentation_order[:\u001b[38;5;241m-\u001b[39m\u001b[38;5;241m1\u001b[39m]]\n\u001b[1;32m     94\u001b[0m cis_nco \u001b[38;5;241m=\u001b[39m [statsmodels\u001b[38;5;241m.\u001b[39mstats\u001b[38;5;241m.\u001b[39mproportion\u001b[38;5;241m.\u001b[39mproportion_confint(\n\u001b[1;32m     95\u001b[0m     Drows[s][\u001b[38;5;124m\"\u001b[39m\u001b[38;5;124mn_NCO\u001b[39m\u001b[38;5;124m\"\u001b[39m] \u001b[38;5;241m-\u001b[39m Drows[s][\u001b[38;5;124m\"\u001b[39m\u001b[38;5;124mn_NCO_zeros\u001b[39m\u001b[38;5;124m\"\u001b[39m],\n\u001b[1;32m     96\u001b[0m     Drows[s][\u001b[38;5;124m\"\u001b[39m\u001b[38;5;124mn_NCO\u001b[39m\u001b[38;5;124m\"\u001b[39m],\n\u001b[1;32m     97\u001b[0m     method\u001b[38;5;241m=\u001b[39m\u001b[38;5;124m\"\u001b[39m\u001b[38;5;124mbeta\u001b[39m\u001b[38;5;124m\"\u001b[39m,\n\u001b[1;32m     98\u001b[0m ) \u001b[38;5;28;01mfor\u001b[39;00m s \u001b[38;5;129;01min\u001b[39;00m sample_presentation_order[:\u001b[38;5;241m-\u001b[39m\u001b[38;5;241m1\u001b[39m]]\n\u001b[1;32m    100\u001b[0m ax \u001b[38;5;241m=\u001b[39m axs[\u001b[38;5;241m4\u001b[39m]\n",
      "\u001b[0;31mKeyError\u001b[0m: 'PD50508b'"
     ]
    },
    {
     "data": {
      "image/png": "[encoded data removed]",
      "text/plain": [
       "<Figure size 1400x600 with 6 Axes>"
      ]
     },
     "metadata": {},
     "output_type": "display_data"
    }
   ],
   "source": [
    "fig, axs = plt.subplots(\n",
    "    nrows=1,\n",
    "    ncols=6,\n",
    "    figsize=(14, 6),\n",
    "    width_ratios=[25, 25, 25, 25, 25, 25],\n",
    ")\n",
    "\n",
    "\n",
    "inference.plot_boxplots_samples(\n",
    "    test_df = (CO_NCO_df\n",
    "        .filter(pl.col(\"high_quality_classification_class\") == \"CO\")\n",
    "        .with_columns(cM=pl.col(\"CO_active_interval_crossover_prob\")*1e2)\n",
    "    ),\n",
    "    test_column = \"cM\",\n",
    "    xlabel = \"Genetic length (cM)\",\n",
    "    take_log10=True,\n",
    "    ticks = np.arange(-4, 1),\n",
    "    label_to_color={\n",
    "        \"AN-s1\": CO_color,\n",
    "        \"AN-s2\": CO_color,\n",
    "        \"AB\": CO_color,\n",
    "        \"AD\": CO_color,\n",
    "        \"AA1-s1\": CO_color,\n",
    "        \"AA1-s2\": CO_color,\n",
    "    },\n",
    "    ax = axs[0],\n",
    ");\n",
    "\n",
    "ax = axs[1] \n",
    "for i in range(len(mns_co)):\n",
    "    color = \"grey\"\n",
    "    if sample_id_to_paper_label[sample_presentation_order[i]] in [\"AD\", \"AA1-s1\", \"AA2-t1\"]:\n",
    "        color = CO_color\n",
    "        \n",
    "        \n",
    "    ax.errorbar(\n",
    "        y = i,\n",
    "        x = mns_co[i],\n",
    "        xerr = [[mns_co[i] - cis_co[i][0]], [cis_co[i][1] - mns_co[i]]],\n",
    "        color=color,\n",
    "        marker='o', \n",
    "        mfc='w',\n",
    "        ms=10,\n",
    "    )\n",
    "ax.invert_yaxis()\n",
    "ax.set_yticks([], [])\n",
    "ax.set_xlabel(\"Fraction of reads\");\n",
    "ax.spines[['top', 'right', 'left']].set_visible(False)\n",
    "    \n",
    "\n",
    "\n",
    "inference.plot_boxplots_samples(\n",
    "    test_df = (CO_NCO_df\n",
    "        .filter(pl.col(\"high_quality_classification_class\") == \"CO\")\n",
    "    ),\n",
    "    test_column = \"H3K4me3_signal_mean\",\n",
    "    xlabel = \"H3K4me3 signal average\",\n",
    "    take_log10 = True,\n",
    "    ticks = np.arange(-1, 1),\n",
    "    label_to_color={\n",
    "        \"AA2-t2\": CO_color,\n",
    "        \"AA8\": CO_color,\n",
    "    },\n",
    "    show_labels = False,\n",
    "    ax = axs[2]\n",
    ");\n",
    "\n",
    "\n",
    "\n",
    "\n",
    "inference.plot_boxplots_samples(\n",
    "    test_df = (CO_NCO_df\n",
    "        .filter(pl.col(\"high_quality_classification_class\") == \"GC\")\n",
    "        .with_columns(cM=pl.col(\"CO_active_interval_crossover_prob\")*1e2)\n",
    "    ),\n",
    "    test_column = \"cM\",\n",
    "    xlabel = \"Genetic length (cM)\",\n",
    "    take_log10 = True,\n",
    "    ticks = np.arange(-4, 1),\n",
    "    label_to_color={\n",
    "        \"AA5\": NCO_color,\n",
    "        \"AA2-t2\": NCO_color,\n",
    "    },\n",
    "    show_labels = False,\n",
    "    ax = axs[3]\n",
    ");\n",
    "\n",
    "\n",
    "\n",
    "\n",
    "# NCOs\n",
    "mns_nco = [(1 - Drows[s][\"n_NCO_zeros\"]/Drows[s][\"n_NCO\"]) \\\n",
    "       for s in sample_presentation_order[:-1]]\n",
    "cis_nco = [statsmodels.stats.proportion.proportion_confint(\n",
    "    Drows[s][\"n_NCO\"] - Drows[s][\"n_NCO_zeros\"],\n",
    "    Drows[s][\"n_NCO\"],\n",
    "    method=\"beta\",\n",
    ") for s in sample_presentation_order[:-1]]\n",
    "\n",
    "ax = axs[4]\n",
    "for i in range(len(mns_co)):\n",
    "    color = \"grey\"\n",
    "    if sample_id_to_paper_label[sample_presentation_order[i]] in [\"AA5\", \"AN-s1\", \"AA1-s2\", \"AA2-t1\", \"AB\"]:\n",
    "        color = NCO_color\n",
    "        \n",
    "        \n",
    "    ax.errorbar(\n",
    "        y = i,\n",
    "        x = mns_nco[i],\n",
    "        xerr = [[mns_nco[i] - cis_nco[i][0]], [cis_nco[i][1] - mns_nco[i]]],\n",
    "        color=color,\n",
    "        marker='o', \n",
    "        mfc='w',\n",
    "        ms=10,\n",
    "    )\n",
    "ax.invert_yaxis()\n",
    "ax.set_yticks([], [])\n",
    "ax.set_xlabel(\"Fraction of reads\");\n",
    "ax.spines[['top', 'right', 'left']].set_visible(False)\n",
    "\n",
    "\n",
    "\n",
    "inference.plot_boxplots_samples(\n",
    "    test_df = (CO_NCO_df\n",
    "        .filter(pl.col(\"high_quality_classification_class\") == \"GC\")\n",
    "    ),\n",
    "    test_column = \"H3K4me3_signal_mean\",\n",
    "    xlabel = \"H3K4me3 signal average\",\n",
    "    take_log10 = True,\n",
    "    ticks = np.arange(-1, 1),\n",
    "    label_to_color={\n",
    "        \"AA3\": NCO_color,\n",
    "        \"AA4\": NCO_color,\n",
    "        \"AA6\": NCO_color,\n",
    "        \"AA2-t1\": NCO_color,\n",
    "    },\n",
    "    show_labels = False,\n",
    "    ax = axs[5]\n",
    ");\n",
    "\n",
    "\n",
    "\n",
    "\n",
    "fig.tight_layout();\n",
    "\n",
    "#fig.savefig(\"/nfs/treeoflife-01/teams/tola/users/rs42/git/sperm/figures/ind_var.pdf\")"
   ]
  },
  {
   "cell_type": "code",
   "execution_count": null,
   "id": "0a2c05b1-e434-4d2e-97bb-6f155474fbdd",
   "metadata": {},
   "outputs": [],
   "source": []
  }
 ],
 "metadata": {
  "kernelspec": {
   "display_name": "sperm",
   "language": "python",
   "name": "sperm"
  },
  "language_info": {
   "codemirror_mode": {
    "name": "ipython",
    "version": 3
   },
   "file_extension": ".py",
   "mimetype": "text/x-python",
   "name": "python",
   "nbconvert_exporter": "python",
   "pygments_lexer": "ipython3",
   "version": "3.11.6"
  }
 },
 "nbformat": 4,
 "nbformat_minor": 5
}
