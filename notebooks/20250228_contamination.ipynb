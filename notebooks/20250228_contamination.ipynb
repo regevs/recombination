{
 "cells": [
  {
   "cell_type": "code",
   "execution_count": 27,
   "id": "172a649b-1ee9-4e58-a7be-2faed9849dbb",
   "metadata": {},
   "outputs": [
    {
     "name": "stdout",
     "output_type": "stream",
     "text": [
      "The autoreload extension is already loaded. To reload it, use:\n",
      "  %reload_ext autoreload\n"
     ]
    }
   ],
   "source": [
    "%load_ext autoreload\n",
    "%autoreload 2"
   ]
  },
  {
   "cell_type": "code",
   "execution_count": 2,
   "id": "685455cb-a9d9-47cf-bba4-dc91f964bb94",
   "metadata": {},
   "outputs": [],
   "source": [
    "import numpy as np\n",
    "import pandas as pd\n",
    "import matplotlib as mpl\n",
    "import matplotlib.pyplot as plt\n",
    "import matplotlib.ticker as ticker\n",
    "import numba\n",
    "import numba.typed\n",
    "\n",
    "from pathlib import Path\n",
    "import glob\n",
    "import tqdm\n",
    "import sys\n",
    "import seaborn as sns\n",
    "import scipy.stats\n",
    "import os\n",
    "import pysam\n",
    "import pprint\n",
    "import pickle\n",
    "import joblib\n",
    "import subprocess\n",
    "import io\n",
    "import itertools\n",
    "import warnings\n",
    "import statsmodels.stats.proportion\n",
    "\n",
    "import polars as pl\n",
    "pl.Config.set_tbl_rows(-1)\n",
    "pl.Config.set_fmt_str_lengths(50)\n",
    "\n",
    "\n",
    "from brokenaxes import brokenaxes\n",
    "from adjustText import adjust_text\n",
    "\n",
    "\n",
    "# This is needed before pybedtools to make sure bedtools is imported on sanger JupyterHub \n",
    "os.environ[\"PATH\"] += \":\" + os.path.join(sys.prefix, \"bin\")\n",
    "import pybedtools\n",
    "\n",
    "pd.set_option('display.max_rows', 1000)\n"
   ]
  },
  {
   "cell_type": "code",
   "execution_count": 3,
   "id": "0ed56794-b782-4825-aa76-367151d5e4c8",
   "metadata": {},
   "outputs": [],
   "source": [
    "sys.path.append(str(Path(os.getcwd()).parent))\n",
    "from src import liftover, annotate, diagnostics, inference, contamination\n",
    "from src.IDs import *\n"
   ]
  },
  {
   "cell_type": "markdown",
   "id": "849aef3b-f5ef-4d4e-ad72-b7823dba2ac6",
   "metadata": {},
   "source": [
    "# Add relevant fields to the dataframe of all reads"
   ]
  },
  {
   "cell_type": "markdown",
   "id": "e9534719-ddd4-410b-a3fa-9a31908875fe",
   "metadata": {},
   "source": [
    "## Create reads dataframe"
   ]
  },
  {
   "cell_type": "code",
   "execution_count": 4,
   "id": "1cc93077-f93f-40ae-b8c4-a8e48ac9654f",
   "metadata": {
    "tags": []
   },
   "outputs": [],
   "source": [
    "rahbari_df = pl.read_csv(\"/nfs/users/nfs_r/rs42/rs42/git/sperm/configs/Rahbari.tsv\", separator='\\t')"
   ]
  },
  {
   "cell_type": "code",
   "execution_count": 5,
   "id": "74a91e0d-bc57-4d3f-aeda-e0e1d43467c1",
   "metadata": {
    "tags": []
   },
   "outputs": [],
   "source": [
    "sudmant_df = pl.read_csv(\"/nfs/users/nfs_r/rs42/rs42/git/sperm/configs/Sudmant.tsv\", separator='\\t')"
   ]
  },
  {
   "cell_type": "code",
   "execution_count": 6,
   "id": "93063e79-d59f-4062-b9e5-9a0eeef48d57",
   "metadata": {
    "tags": []
   },
   "outputs": [],
   "source": [
    "ceph_df = pl.read_csv(\"/nfs/users/nfs_r/rs42/rs42/git/sperm/configs/CEPH.tsv\", separator='\\t')"
   ]
  },
  {
   "cell_type": "code",
   "execution_count": 6,
   "id": "1acd26fd-162d-4200-972c-23d7e8e8f9b9",
   "metadata": {
    "tags": []
   },
   "outputs": [
    {
     "name": "stderr",
     "output_type": "stream",
     "text": [
      "9it [00:00, 2808.89it/s]"
     ]
    },
    {
     "name": "stdout",
     "output_type": "stream",
     "text": [
      "CPU times: user 9.72 ms, sys: 192 μs, total: 9.92 ms\n",
      "Wall time: 7.71 ms\n"
     ]
    },
    {
     "name": "stderr",
     "output_type": "stream",
     "text": [
      "\n"
     ]
    }
   ],
   "source": [
    "%%time\n",
    "rahbari_reads_df = pl.concat([\n",
    "    pl.scan_parquet(\n",
    "        f\"/lustre/scratch122/tol/projects/sperm/results/Rahbari_20250212/read_analysis/{sample_set}/{sample_id}/reads/{chrom}/all_reads_structure_annotated.parquet\",\n",
    "    ) \n",
    "    for sample_id, sample_set in tqdm.tqdm(rahbari_df.select(\"sample_id\", \"sample_set\").unique().iter_rows())\n",
    "    for chrom in aut_chrom_names\n",
    "])"
   ]
  },
  {
   "cell_type": "code",
   "execution_count": 7,
   "id": "046ee819-8c57-4496-8fce-57456cd430a8",
   "metadata": {
    "tags": []
   },
   "outputs": [
    {
     "name": "stderr",
     "output_type": "stream",
     "text": [
      "6it [00:00, 3009.91it/s]"
     ]
    },
    {
     "name": "stdout",
     "output_type": "stream",
     "text": [
      "CPU times: user 4.72 ms, sys: 80 μs, total: 4.8 ms\n",
      "Wall time: 3.48 ms\n"
     ]
    },
    {
     "name": "stderr",
     "output_type": "stream",
     "text": [
      "\n"
     ]
    }
   ],
   "source": [
    "%%time\n",
    "sudmant_reads_df = pl.concat([\n",
    "    pl.scan_parquet(\n",
    "        f\"/lustre/scratch122/tol/projects/sperm/results/Sudmant_20241121/read_analysis/{sample_set}/{sample_id}/reads/{chrom}/all_reads_structure_annotated.parquet\",\n",
    "    ) \n",
    "    for sample_id, sample_set in tqdm.tqdm(sudmant_df.select(\"sample_id\", \"sample_set\").unique().iter_rows())\n",
    "    for chrom in aut_chrom_names\n",
    "])"
   ]
  },
  {
   "cell_type": "code",
   "execution_count": 8,
   "id": "44aad9c0-1fa5-457d-a714-a91ed27c73db",
   "metadata": {
    "tags": []
   },
   "outputs": [],
   "source": [
    "reads_df = pl.concat([rahbari_reads_df, sudmant_reads_df])"
   ]
  },
  {
   "cell_type": "code",
   "execution_count": null,
   "id": "3eb3cbbd-0525-4f2a-aaea-d9d9550ba16b",
   "metadata": {},
   "outputs": [],
   "source": []
  },
  {
   "cell_type": "markdown",
   "id": "0e488f49-8651-436e-925d-51b2aa78c351",
   "metadata": {},
   "source": [
    "# Basic stats"
   ]
  },
  {
   "cell_type": "code",
   "execution_count": 22,
   "id": "685f70b0-cc37-4c6b-aa9d-158a4901a97b",
   "metadata": {
    "tags": []
   },
   "outputs": [
    {
     "name": "stderr",
     "output_type": "stream",
     "text": [
      "100%|██████████| 1/1 [00:13<00:00, 13.61s/it]\n"
     ]
    }
   ],
   "source": [
    "output_path = Path(\"/lustre/scratch122/tol/projects/sperm/results/Rahbari_20250212\")\n",
    "\n",
    "panel_snps_df = pl.concat([\n",
    "    (\n",
    "        pl.scan_parquet(glob.glob(str(\n",
    "            output_path / f\"alignments/{sample_set}/{sample_id}/{flow_cell}/*/alignment_to_reference_panel.parquet\"\n",
    "        ))).with_columns(\n",
    "            sample_id=pl.lit(sample_id), \n",
    "            flow_cell=pl.lit(flow_cell),\n",
    "            flow_cell_type=pl.lit(flow_cell_type),        \n",
    "        )\n",
    "        .collect(streaming=True)\n",
    "    )\n",
    "    for sample_set, sample_id, flow_cell, flow_cell_type, _ in tqdm.tqdm(list(rahbari_df.iter_rows())[:1])\n",
    "])\n"
   ]
  },
  {
   "cell_type": "code",
   "execution_count": 23,
   "id": "690f5cdf-f743-4311-8eb1-dee8d15ac47c",
   "metadata": {
    "tags": []
   },
   "outputs": [
    {
     "name": "stderr",
     "output_type": "stream",
     "text": [
      "100%|██████████| 56/56 [00:02<00:00, 25.59it/s]"
     ]
    },
    {
     "name": "stdout",
     "output_type": "stream",
     "text": [
      "CPU times: user 5.69 s, sys: 2.27 s, total: 7.96 s\n",
      "Wall time: 2.19 s\n"
     ]
    },
    {
     "name": "stderr",
     "output_type": "stream",
     "text": [
      "\n"
     ]
    }
   ],
   "source": [
    "%%time\n",
    "ann_snps_with_panel_df = pl.concat([\n",
    "    (\n",
    "        pl.scan_parquet(glob.glob(str(\n",
    "            output_path / f\"alignments/{sample_set}/{sample_id}/{flow_cell}/chr22/alignment_to_reference_panel.parquet\"\n",
    "        ))).join(\n",
    "            pl.scan_parquet(glob.glob(str(\n",
    "                output_path / f\"read_analysis/{sample_set}/{sample_id}/{flow_cell}/chr22/annotated_0.95_high_confidence_snps.parquet\"\n",
    "            ))),\n",
    "            on=[\"read_name\", \"start\"],\n",
    "            how=\"full\",\n",
    "        )\n",
    "        .collect(streaming=False)\n",
    "    )\n",
    "    for sample_set, sample_id, flow_cell, flow_cell_type, _ in tqdm.tqdm(list(rahbari_df.iter_rows()))\n",
    "        if sample_id in [\"PD50523b\"] and flow_cell in [\"m84047_240928_151025_s3\"]\n",
    "])"
   ]
  },
  {
   "cell_type": "code",
   "execution_count": null,
   "id": "d2ecf88a-ef7f-43e5-a2e6-8bd1059a161e",
   "metadata": {},
   "outputs": [],
   "source": []
  },
  {
   "cell_type": "code",
   "execution_count": 27,
   "id": "d3c8e8d9-43b9-4a45-9b53-0c1c8d0cfda2",
   "metadata": {
    "tags": []
   },
   "outputs": [
    {
     "data": {
      "text/html": [
       "<div><style>\n",
       ".dataframe > thead > tr,\n",
       ".dataframe > tbody > tr {\n",
       "  text-align: right;\n",
       "  white-space: pre-wrap;\n",
       "}\n",
       "</style>\n",
       "<small>shape: (5, 9)</small><table border=\"1\" class=\"dataframe\"><thead><tr><th>read_name</th><th>start</th><th>ref_start</th><th>ref_seq</th><th>op</th><th>allele_freq</th><th>sample_id</th><th>flow_cell</th><th>flow_cell_type</th></tr><tr><td>str</td><td>i64</td><td>i64</td><td>str</td><td>i64</td><td>f64</td><td>str</td><td>str</td><td>str</td></tr></thead><tbody><tr><td>&quot;m84047_240924_113521_s4/142478522/ccs&quot;</td><td>3856</td><td>11874</td><td>&quot;g&quot;</td><td>8</td><td>0.05</td><td>&quot;PD50521b&quot;</td><td>&quot;m84047_240924_113521_s4&quot;</td><td>&quot;revio_unbinned&quot;</td></tr><tr><td>&quot;m84047_240924_113521_s4/142478522/ccs&quot;</td><td>3939</td><td>11955</td><td>&quot;G&quot;</td><td>7</td><td>0.03</td><td>&quot;PD50521b&quot;</td><td>&quot;m84047_240924_113521_s4&quot;</td><td>&quot;revio_unbinned&quot;</td></tr><tr><td>&quot;m84047_240924_113521_s4/142478522/ccs&quot;</td><td>3965</td><td>11981</td><td>&quot;G&quot;</td><td>7</td><td>0.03</td><td>&quot;PD50521b&quot;</td><td>&quot;m84047_240924_113521_s4&quot;</td><td>&quot;revio_unbinned&quot;</td></tr><tr><td>&quot;m84047_240924_113521_s4/142478522/ccs&quot;</td><td>4024</td><td>12040</td><td>&quot;a&quot;</td><td>8</td><td>0.79</td><td>&quot;PD50521b&quot;</td><td>&quot;m84047_240924_113521_s4&quot;</td><td>&quot;revio_unbinned&quot;</td></tr><tr><td>&quot;m84047_240924_113521_s4/142478522/ccs&quot;</td><td>4092</td><td>12108</td><td>&quot;G&quot;</td><td>7</td><td>0.06</td><td>&quot;PD50521b&quot;</td><td>&quot;m84047_240924_113521_s4&quot;</td><td>&quot;revio_unbinned&quot;</td></tr></tbody></table></div>"
      ],
      "text/plain": [
       "shape: (5, 9)\n",
       "┌─────────────┬───────┬───────────┬─────────┬───┬────────────┬───────────┬────────────┬────────────┐\n",
       "│ read_name   ┆ start ┆ ref_start ┆ ref_seq ┆ … ┆ allele_fre ┆ sample_id ┆ flow_cell  ┆ flow_cell_ │\n",
       "│ ---         ┆ ---   ┆ ---       ┆ ---     ┆   ┆ q          ┆ ---       ┆ ---        ┆ type       │\n",
       "│ str         ┆ i64   ┆ i64       ┆ str     ┆   ┆ ---        ┆ str       ┆ str        ┆ ---        │\n",
       "│             ┆       ┆           ┆         ┆   ┆ f64        ┆           ┆            ┆ str        │\n",
       "╞═════════════╪═══════╪═══════════╪═════════╪═══╪════════════╪═══════════╪════════════╪════════════╡\n",
       "│ m84047_2409 ┆ 3856  ┆ 11874     ┆ g       ┆ … ┆ 0.05       ┆ PD50521b  ┆ m84047_240 ┆ revio_unbi │\n",
       "│ 24_113521_s ┆       ┆           ┆         ┆   ┆            ┆           ┆ 924_113521 ┆ nned       │\n",
       "│ 4/142478522 ┆       ┆           ┆         ┆   ┆            ┆           ┆ _s4        ┆            │\n",
       "│ /ccs        ┆       ┆           ┆         ┆   ┆            ┆           ┆            ┆            │\n",
       "│ m84047_2409 ┆ 3939  ┆ 11955     ┆ G       ┆ … ┆ 0.03       ┆ PD50521b  ┆ m84047_240 ┆ revio_unbi │\n",
       "│ 24_113521_s ┆       ┆           ┆         ┆   ┆            ┆           ┆ 924_113521 ┆ nned       │\n",
       "│ 4/142478522 ┆       ┆           ┆         ┆   ┆            ┆           ┆ _s4        ┆            │\n",
       "│ /ccs        ┆       ┆           ┆         ┆   ┆            ┆           ┆            ┆            │\n",
       "│ m84047_2409 ┆ 3965  ┆ 11981     ┆ G       ┆ … ┆ 0.03       ┆ PD50521b  ┆ m84047_240 ┆ revio_unbi │\n",
       "│ 24_113521_s ┆       ┆           ┆         ┆   ┆            ┆           ┆ 924_113521 ┆ nned       │\n",
       "│ 4/142478522 ┆       ┆           ┆         ┆   ┆            ┆           ┆ _s4        ┆            │\n",
       "│ /ccs        ┆       ┆           ┆         ┆   ┆            ┆           ┆            ┆            │\n",
       "│ m84047_2409 ┆ 4024  ┆ 12040     ┆ a       ┆ … ┆ 0.79       ┆ PD50521b  ┆ m84047_240 ┆ revio_unbi │\n",
       "│ 24_113521_s ┆       ┆           ┆         ┆   ┆            ┆           ┆ 924_113521 ┆ nned       │\n",
       "│ 4/142478522 ┆       ┆           ┆         ┆   ┆            ┆           ┆ _s4        ┆            │\n",
       "│ /ccs        ┆       ┆           ┆         ┆   ┆            ┆           ┆            ┆            │\n",
       "│ m84047_2409 ┆ 4092  ┆ 12108     ┆ G       ┆ … ┆ 0.06       ┆ PD50521b  ┆ m84047_240 ┆ revio_unbi │\n",
       "│ 24_113521_s ┆       ┆           ┆         ┆   ┆            ┆           ┆ 924_113521 ┆ nned       │\n",
       "│ 4/142478522 ┆       ┆           ┆         ┆   ┆            ┆           ┆ _s4        ┆            │\n",
       "│ /ccs        ┆       ┆           ┆         ┆   ┆            ┆           ┆            ┆            │\n",
       "└─────────────┴───────┴───────────┴─────────┴───┴────────────┴───────────┴────────────┴────────────┘"
      ]
     },
     "execution_count": 27,
     "metadata": {},
     "output_type": "execute_result"
    }
   ],
   "source": [
    "panel_snps_df.head()"
   ]
  },
  {
   "cell_type": "code",
   "execution_count": 28,
   "id": "053029a8-dc15-4fed-aab9-790856564688",
   "metadata": {
    "tags": []
   },
   "outputs": [
    {
     "data": {
      "text/html": [
       "<div><style>\n",
       ".dataframe > thead > tr,\n",
       ".dataframe > tbody > tr {\n",
       "  text-align: right;\n",
       "  white-space: pre-wrap;\n",
       "}\n",
       "</style>\n",
       "<small>shape: (5, 65)</small><table border=\"1\" class=\"dataframe\"><thead><tr><th>read_name</th><th>start</th><th>ref_start</th><th>ref_seq</th><th>op</th><th>allele_freq</th><th>start_right</th><th>end</th><th>length</th><th>op1</th><th>op2</th><th>ref1_start</th><th>ref1_end</th><th>ref1_gap</th><th>ref2_start</th><th>ref2_end</th><th>ref2_gap</th><th>cigar_ptr1</th><th>cigar_ptr2</th><th>read_name_right</th><th>read_length1</th><th>read_length2</th><th>is_forward1</th><th>mapq1</th><th>ref1_name</th><th>qual_start1</th><th>refseq_start1</th><th>is_forward2</th><th>mapq2</th><th>ref2_name</th><th>qual_start2</th><th>refseq_start2</th><th>total_mismatches</th><th>total_common_insertions</th><th>num_common_insertions</th><th>num_common_deletions</th><th>total_clipping</th><th>num_clipping</th><th>is_snp</th><th>is_two_sided_mismatch</th><th>is_interesting_event</th><th>is_flanked_event</th><th>fits1_more</th><th>trf_repeat_length_hap1</th><th>trf_n_copies_hap1</th><th>trf_repeat_length_hap2</th><th>trf_n_copies_hap2</th><th>sdust_repeat_length_hap1</th><th>sdust_repeat_length_hap2</th><th>is_high_conf_event</th><th>is_high_conf_snp</th><th>is_mid_conf_event</th><th>is_mid_conf_snp</th><th>hap1_certainty_0.95_coverage</th><th>hap2_certainty_0.95_coverage</th><th>hap1_total_coverage</th><th>hap2_total_coverage</th><th>allele_coverage_hap1</th><th>allele_coverage_hap2</th><th>hap_certainty_0.95_coverage_balance_p</th><th>allele_coverage_balance_p</th><th>is_high_quality_event</th><th>is_high_quality_snp</th><th>is_mid_quality_event</th><th>is_mid_quality_snp</th></tr><tr><td>str</td><td>i64</td><td>i64</td><td>str</td><td>i64</td><td>f64</td><td>i64</td><td>i64</td><td>i64</td><td>i64</td><td>i64</td><td>i64</td><td>i64</td><td>i64</td><td>i64</td><td>i64</td><td>i64</td><td>i64</td><td>i64</td><td>str</td><td>i32</td><td>i32</td><td>bool</td><td>i32</td><td>str</td><td>u8</td><td>str</td><td>bool</td><td>i32</td><td>str</td><td>u8</td><td>str</td><td>i64</td><td>i64</td><td>u32</td><td>u32</td><td>i64</td><td>u32</td><td>bool</td><td>bool</td><td>bool</td><td>bool</td><td>i32</td><td>i64</td><td>f64</td><td>i64</td><td>f64</td><td>i32</td><td>i32</td><td>bool</td><td>bool</td><td>bool</td><td>bool</td><td>i64</td><td>i64</td><td>i64</td><td>i64</td><td>u32</td><td>u32</td><td>f64</td><td>f64</td><td>bool</td><td>bool</td><td>bool</td><td>bool</td></tr></thead><tbody><tr><td>null</td><td>null</td><td>null</td><td>null</td><td>null</td><td>null</td><td>301</td><td>302</td><td>1</td><td>8</td><td>8</td><td>7359026</td><td>7359027</td><td>1</td><td>10796865</td><td>10796866</td><td>1</td><td>6</td><td>10</td><td>&quot;m84047_240928_151025_s3/172626301/ccs&quot;</td><td>5343</td><td>5343</td><td>false</td><td>1</td><td>&quot;chr22_RagTag&quot;</td><td>93</td><td>&quot;A&quot;</td><td>false</td><td>1</td><td>&quot;chr22_RagTag&quot;</td><td>93</td><td>&quot;A&quot;</td><td>52</td><td>0</td><td>0</td><td>0</td><td>6</td><td>2</td><td>false</td><td>true</td><td>true</td><td>true</td><td>0</td><td>0</td><td>0.0</td><td>0</td><td>0.0</td><td>0</td><td>0</td><td>false</td><td>false</td><td>true</td><td>false</td><td>77</td><td>61</td><td>133</td><td>104</td><td>0</td><td>0</td><td>0.201473</td><td>0.0</td><td>false</td><td>false</td><td>false</td><td>false</td></tr><tr><td>null</td><td>null</td><td>null</td><td>null</td><td>null</td><td>null</td><td>7381</td><td>7382</td><td>1</td><td>8</td><td>8</td><td>6793705</td><td>6793706</td><td>1</td><td>10274526</td><td>10274527</td><td>1</td><td>42</td><td>30</td><td>&quot;m84047_240928_151025_s3/260442400/ccs&quot;</td><td>25669</td><td>25669</td><td>false</td><td>4</td><td>&quot;chr22_RagTag&quot;</td><td>74</td><td>&quot;A&quot;</td><td>false</td><td>1</td><td>&quot;chr22_RagTag&quot;</td><td>74</td><td>&quot;A&quot;</td><td>22</td><td>1</td><td>1</td><td>8</td><td>26</td><td>2</td><td>false</td><td>true</td><td>true</td><td>true</td><td>0</td><td>171</td><td>620.9</td><td>171</td><td>536.5</td><td>0</td><td>0</td><td>false</td><td>false</td><td>false</td><td>false</td><td>0</td><td>0</td><td>0</td><td>0</td><td>0</td><td>0</td><td>1.0</td><td>0.0</td><td>false</td><td>false</td><td>false</td><td>false</td></tr><tr><td>null</td><td>null</td><td>null</td><td>null</td><td>null</td><td>null</td><td>5021</td><td>5022</td><td>1</td><td>8</td><td>8</td><td>41590148</td><td>41590149</td><td>1</td><td>46203019</td><td>46203020</td><td>1</td><td>74</td><td>111</td><td>&quot;m84047_240928_151025_s3/155977361/ccs&quot;</td><td>22097</td><td>22097</td><td>false</td><td>60</td><td>&quot;chr22_RagTag&quot;</td><td>23</td><td>&quot;C&quot;</td><td>false</td><td>60</td><td>&quot;chr22_RagTag&quot;</td><td>23</td><td>&quot;C&quot;</td><td>51</td><td>59</td><td>58</td><td>146</td><td>0</td><td>0</td><td>false</td><td>true</td><td>true</td><td>true</td><td>0</td><td>0</td><td>0.0</td><td>0</td><td>0.0</td><td>0</td><td>0</td><td>false</td><td>false</td><td>false</td><td>false</td><td>68</td><td>71</td><td>139</td><td>139</td><td>0</td><td>0</td><td>0.865374</td><td>0.0</td><td>false</td><td>false</td><td>false</td><td>false</td></tr><tr><td>null</td><td>null</td><td>null</td><td>null</td><td>null</td><td>null</td><td>6976</td><td>6977</td><td>1</td><td>8</td><td>8</td><td>24715887</td><td>24715888</td><td>1</td><td>29362151</td><td>29362152</td><td>1</td><td>131</td><td>147</td><td>&quot;m84047_240928_151025_s3/97062707/ccs&quot;</td><td>18261</td><td>18261</td><td>true</td><td>60</td><td>&quot;chr22_RagTag&quot;</td><td>7</td><td>&quot;A&quot;</td><td>true</td><td>60</td><td>&quot;chr22_RagTag&quot;</td><td>7</td><td>&quot;A&quot;</td><td>25</td><td>40</td><td>40</td><td>82</td><td>28</td><td>1</td><td>false</td><td>true</td><td>true</td><td>true</td><td>0</td><td>0</td><td>0.0</td><td>0</td><td>0.0</td><td>0</td><td>0</td><td>false</td><td>false</td><td>false</td><td>false</td><td>80</td><td>72</td><td>152</td><td>152</td><td>0</td><td>0</td><td>0.570333</td><td>0.0</td><td>false</td><td>false</td><td>false</td><td>false</td></tr><tr><td>null</td><td>null</td><td>null</td><td>null</td><td>null</td><td>null</td><td>8651</td><td>8652</td><td>1</td><td>8</td><td>8</td><td>19070222</td><td>19070223</td><td>1</td><td>23724820</td><td>23724821</td><td>1</td><td>140</td><td>142</td><td>&quot;m84047_240928_151025_s3/123405590/ccs&quot;</td><td>14236</td><td>14236</td><td>true</td><td>60</td><td>&quot;chr22_RagTag&quot;</td><td>5</td><td>&quot;A&quot;</td><td>true</td><td>60</td><td>&quot;chr22_RagTag&quot;</td><td>5</td><td>&quot;A&quot;</td><td>24</td><td>38</td><td>36</td><td>74</td><td>8</td><td>1</td><td>false</td><td>true</td><td>true</td><td>true</td><td>0</td><td>0</td><td>0.0</td><td>0</td><td>0.0</td><td>0</td><td>0</td><td>false</td><td>false</td><td>false</td><td>false</td><td>2</td><td>1</td><td>3</td><td>3</td><td>0</td><td>0</td><td>1.0</td><td>0.0</td><td>false</td><td>false</td><td>false</td><td>false</td></tr></tbody></table></div>"
      ],
      "text/plain": [
       "shape: (5, 65)\n",
       "┌───────────┬───────┬───────────┬─────────┬───┬─────────────┬────────────┬────────────┬────────────┐\n",
       "│ read_name ┆ start ┆ ref_start ┆ ref_seq ┆ … ┆ is_high_qua ┆ is_high_qu ┆ is_mid_qua ┆ is_mid_qua │\n",
       "│ ---       ┆ ---   ┆ ---       ┆ ---     ┆   ┆ lity_event  ┆ ality_snp  ┆ lity_event ┆ lity_snp   │\n",
       "│ str       ┆ i64   ┆ i64       ┆ str     ┆   ┆ ---         ┆ ---        ┆ ---        ┆ ---        │\n",
       "│           ┆       ┆           ┆         ┆   ┆ bool        ┆ bool       ┆ bool       ┆ bool       │\n",
       "╞═══════════╪═══════╪═══════════╪═════════╪═══╪═════════════╪════════════╪════════════╪════════════╡\n",
       "│ null      ┆ null  ┆ null      ┆ null    ┆ … ┆ false       ┆ false      ┆ false      ┆ false      │\n",
       "│ null      ┆ null  ┆ null      ┆ null    ┆ … ┆ false       ┆ false      ┆ false      ┆ false      │\n",
       "│ null      ┆ null  ┆ null      ┆ null    ┆ … ┆ false       ┆ false      ┆ false      ┆ false      │\n",
       "│ null      ┆ null  ┆ null      ┆ null    ┆ … ┆ false       ┆ false      ┆ false      ┆ false      │\n",
       "│ null      ┆ null  ┆ null      ┆ null    ┆ … ┆ false       ┆ false      ┆ false      ┆ false      │\n",
       "└───────────┴───────┴───────────┴─────────┴───┴─────────────┴────────────┴────────────┴────────────┘"
      ]
     },
     "execution_count": 28,
     "metadata": {},
     "output_type": "execute_result"
    }
   ],
   "source": [
    "(ann_snps_with_panel_df\n",
    "    .filter(\n",
    "        (pl.col(\"op1\") == 8) & \n",
    "        (pl.col(\"op2\") == 8)\n",
    "    )\n",
    "    .filter(pl.col(\"ref_seq\").is_null())\n",
    "    .head()\n",
    ")"
   ]
  },
  {
   "cell_type": "code",
   "execution_count": 35,
   "id": "182b2832-8763-446f-9c92-7aa0a36d5d62",
   "metadata": {
    "tags": []
   },
   "outputs": [
    {
     "data": {
      "text/html": [
       "<div><style>\n",
       ".dataframe > thead > tr,\n",
       ".dataframe > tbody > tr {\n",
       "  text-align: right;\n",
       "  white-space: pre-wrap;\n",
       "}\n",
       "</style>\n",
       "<small>shape: (21, 2)</small><table border=\"1\" class=\"dataframe\"><thead><tr><th>n_double_mismatches_at_panel_snps</th><th>len</th></tr><tr><td>u32</td><td>u32</td></tr></thead><tbody><tr><td>0</td><td>43160</td></tr><tr><td>1</td><td>56</td></tr><tr><td>2</td><td>17</td></tr><tr><td>3</td><td>16</td></tr><tr><td>4</td><td>16</td></tr><tr><td>5</td><td>8</td></tr><tr><td>6</td><td>6</td></tr><tr><td>7</td><td>9</td></tr><tr><td>8</td><td>4</td></tr><tr><td>9</td><td>6</td></tr><tr><td>10</td><td>7</td></tr><tr><td>12</td><td>6</td></tr><tr><td>13</td><td>2</td></tr><tr><td>14</td><td>2</td></tr><tr><td>15</td><td>4</td></tr><tr><td>16</td><td>4</td></tr><tr><td>17</td><td>2</td></tr><tr><td>18</td><td>1</td></tr><tr><td>29</td><td>1</td></tr><tr><td>32</td><td>1</td></tr><tr><td>39</td><td>1</td></tr></tbody></table></div>"
      ],
      "text/plain": [
       "shape: (21, 2)\n",
       "┌───────────────────────────────────┬───────┐\n",
       "│ n_double_mismatches_at_panel_snps ┆ len   │\n",
       "│ ---                               ┆ ---   │\n",
       "│ u32                               ┆ u32   │\n",
       "╞═══════════════════════════════════╪═══════╡\n",
       "│ 0                                 ┆ 43160 │\n",
       "│ 1                                 ┆ 56    │\n",
       "│ 2                                 ┆ 17    │\n",
       "│ 3                                 ┆ 16    │\n",
       "│ 4                                 ┆ 16    │\n",
       "│ 5                                 ┆ 8     │\n",
       "│ 6                                 ┆ 6     │\n",
       "│ 7                                 ┆ 9     │\n",
       "│ 8                                 ┆ 4     │\n",
       "│ 9                                 ┆ 6     │\n",
       "│ 10                                ┆ 7     │\n",
       "│ 12                                ┆ 6     │\n",
       "│ 13                                ┆ 2     │\n",
       "│ 14                                ┆ 2     │\n",
       "│ 15                                ┆ 4     │\n",
       "│ 16                                ┆ 4     │\n",
       "│ 17                                ┆ 2     │\n",
       "│ 18                                ┆ 1     │\n",
       "│ 29                                ┆ 1     │\n",
       "│ 32                                ┆ 1     │\n",
       "│ 39                                ┆ 1     │\n",
       "└───────────────────────────────────┴───────┘"
      ]
     },
     "execution_count": 35,
     "metadata": {},
     "output_type": "execute_result"
    }
   ],
   "source": [
    "(ann_snps_with_panel_df\n",
    "    .filter(pl.col(\"is_high_conf_event\"))\n",
    "    .group_by(\"read_name\")\n",
    "    .agg(\n",
    "        (\n",
    "            (pl.col(\"op1\") == 8) & \n",
    "            (pl.col(\"op2\") == 8) & \n",
    "            pl.col(\"allele_freq\").is_not_null()\n",
    "        ).sum().alias(\"n_double_mismatches_at_panel_snps\")\n",
    "    )\n",
    "    .group_by(\"n_double_mismatches_at_panel_snps\")\n",
    "    .len()\n",
    "    .sort(\"n_double_mismatches_at_panel_snps\")\n",
    ")"
   ]
  },
  {
   "cell_type": "code",
   "execution_count": 9,
   "id": "6f8cdb1e-cd4f-47e0-b549-d4852bc064a1",
   "metadata": {
    "tags": []
   },
   "outputs": [],
   "source": [
    "Adf = (ann_snps_with_panel_df\n",
    "    .group_by(\"read_name\")\n",
    "    .agg(\n",
    "        (\n",
    "            pl.col(\"op1\").is_null() & \n",
    "            pl.col(\"allele_freq\").is_not_null()\n",
    "        ).sum().alias(\"n_panel_snps_not_in_read\"),\n",
    "        (            \n",
    "            pl.col(\"allele_freq\") * pl.col(\"op1\").is_null()\n",
    "        ).sum().alias(\"exp_panel_snps_not_in_read\"),\n",
    "        (            \n",
    "            (1-pl.col(\"allele_freq\")) * pl.col(\"op1\").is_null()\n",
    "        ).product().alias(\"prob_panel_snps_not_in_read\"),\n",
    "    )\n",
    ")\n",
    "\n",
    "Bdf = (ann_snps_with_panel_df\n",
    "    .filter(pl.col(\"is_high_conf_event\"))\n",
    "    .group_by(\"read_name\")\n",
    "    .agg(\n",
    "        (\n",
    "            (pl.col(\"op1\") == 8) & \n",
    "            (pl.col(\"op2\") == 8) & \n",
    "            pl.col(\"allele_freq\").is_not_null()\n",
    "        ).sum().alias(\"n_double_mismatches_at_panel_snps\")\n",
    "    )\n",
    ")"
   ]
  },
  {
   "cell_type": "code",
   "execution_count": 10,
   "id": "0d417fff-706e-44ed-b5b0-e5d1b604c01c",
   "metadata": {},
   "outputs": [],
   "source": [
    "exp_df = (Adf\n",
    "    .join(Bdf, on=\"read_name\")\n",
    "#    .filter(pl.col(\"n_double_mismatches_at_panel_snps\") == 0)\n",
    "#    .filter(pl.col(\"n_panel_snps_not_in_read\") == 100).head()\n",
    "    # .group_by(\"n_panel_snps_not_in_read\")\n",
    "    # .len()\n",
    "    # .sort(\"n_panel_snps_not_in_read\")\n",
    ")\n",
    "    "
   ]
  },
  {
   "cell_type": "code",
   "execution_count": 20,
   "id": "f8b0c4b2-a7a7-41f5-9ca6-f173d50001bb",
   "metadata": {
    "tags": []
   },
   "outputs": [
    {
     "data": {
      "text/html": [
       "<div><style>\n",
       ".dataframe > thead > tr,\n",
       ".dataframe > tbody > tr {\n",
       "  text-align: right;\n",
       "  white-space: pre-wrap;\n",
       "}\n",
       "</style>\n",
       "<small>shape: (1, 1)</small><table border=\"1\" class=\"dataframe\"><thead><tr><th>prob_panel_snps_not_in_read</th></tr><tr><td>f64</td></tr></thead><tbody><tr><td>0.309572</td></tr></tbody></table></div>"
      ],
      "text/plain": [
       "shape: (1, 1)\n",
       "┌─────────────────────────────┐\n",
       "│ prob_panel_snps_not_in_read │\n",
       "│ ---                         │\n",
       "│ f64                         │\n",
       "╞═════════════════════════════╡\n",
       "│ 0.309572                    │\n",
       "└─────────────────────────────┘"
      ]
     },
     "execution_count": 20,
     "metadata": {},
     "output_type": "execute_result"
    }
   ],
   "source": [
    "(ann_snps_with_panel_df\n",
    "    .group_by(\"read_name\")\n",
    "    .agg(\n",
    "        (\n",
    "            pl.col(\"op1\").is_null() & \n",
    "            pl.col(\"allele_freq\").is_not_null()\n",
    "        ).sum().alias(\"n_panel_snps_not_in_read\"),\n",
    "        (\n",
    "            (1-pl.col(\"allele_freq\")) ** pl.col(\"op1\").is_not_null().cast(pl.Int64)\n",
    "        ).product().alias(\"prob_panel_snps_not_in_read\"),\n",
    "        \n",
    "    )\n",
    "#    .select(pl.col(\"n_panel_snps_not_in_read\") >= 10).mean()\n",
    "    .filter(pl.col(\"n_panel_snps_not_in_read\") >= 50)\n",
    "    .select(pl.col(\"prob_panel_snps_not_in_read\")).mean()\n",
    ")"
   ]
  },
  {
   "cell_type": "code",
   "execution_count": 22,
   "id": "54af4ee2-597e-40b9-90a1-988174aff317",
   "metadata": {
    "tags": []
   },
   "outputs": [
    {
     "data": {
      "text/html": [
       "<div><style>\n",
       ".dataframe > thead > tr,\n",
       ".dataframe > tbody > tr {\n",
       "  text-align: right;\n",
       "  white-space: pre-wrap;\n",
       "}\n",
       "</style>\n",
       "<small>shape: (1, 1)</small><table border=\"1\" class=\"dataframe\"><thead><tr><th>prob_panel_snps_not_in_read</th></tr><tr><td>f64</td></tr></thead><tbody><tr><td>0.359005</td></tr></tbody></table></div>"
      ],
      "text/plain": [
       "shape: (1, 1)\n",
       "┌─────────────────────────────┐\n",
       "│ prob_panel_snps_not_in_read │\n",
       "│ ---                         │\n",
       "│ f64                         │\n",
       "╞═════════════════════════════╡\n",
       "│ 0.359005                    │\n",
       "└─────────────────────────────┘"
      ]
     },
     "execution_count": 22,
     "metadata": {},
     "output_type": "execute_result"
    }
   ],
   "source": [
    "(ann_snps_with_panel_df\n",
    "    .filter(pl.col(\"allele_freq\").is_null() | (pl.col(\"allele_freq\") >= 0.1))\n",
    "    .group_by(\"read_name\")\n",
    "    .agg(\n",
    "        (\n",
    "            pl.col(\"op1\").is_null() & \n",
    "            pl.col(\"allele_freq\").is_not_null()\n",
    "        ).sum().alias(\"n_panel_snps_not_in_read\"),\n",
    "        (\n",
    "            (1-pl.col(\"allele_freq\")) ** pl.col(\"op1\").is_not_null().cast(pl.Int64)\n",
    "        ).product().alias(\"prob_panel_snps_not_in_read\"),\n",
    "        \n",
    "    )\n",
    "#    .select(pl.col(\"n_panel_snps_not_in_read\") >= 10).mean()\n",
    "    .filter(pl.col(\"n_panel_snps_not_in_read\") >= 10)\n",
    "    .select(pl.col(\"prob_panel_snps_not_in_read\")).mean()\n",
    ")"
   ]
  },
  {
   "cell_type": "code",
   "execution_count": 49,
   "id": "35e16f61-66e4-4110-b989-5f704a7703be",
   "metadata": {
    "tags": []
   },
   "outputs": [
    {
     "data": {
      "text/html": [
       "<div><style>\n",
       ".dataframe > thead > tr,\n",
       ".dataframe > tbody > tr {\n",
       "  text-align: right;\n",
       "  white-space: pre-wrap;\n",
       "}\n",
       "</style>\n",
       "<small>shape: (1, 1)</small><table border=\"1\" class=\"dataframe\"><thead><tr><th>prob_detected</th></tr><tr><td>f64</td></tr></thead><tbody><tr><td>0.999834</td></tr></tbody></table></div>"
      ],
      "text/plain": [
       "shape: (1, 1)\n",
       "┌───────────────┐\n",
       "│ prob_detected │\n",
       "│ ---           │\n",
       "│ f64           │\n",
       "╞═══════════════╡\n",
       "│ 0.999834      │\n",
       "└───────────────┘"
      ]
     },
     "execution_count": 49,
     "metadata": {},
     "output_type": "execute_result"
    }
   ],
   "source": [
    "(ann_snps_with_panel_df\n",
    "    .filter(pl.col(\"read_name\").is_not_null())\n",
    "    .filter(pl.col(\"allele_freq\") >= 0.1)\n",
    "    .group_by(\"read_name\")\n",
    "    .agg(\n",
    "        (\n",
    "            pl.col(\"op1\").is_null() & \n",
    "            pl.col(\"allele_freq\").is_not_null()\n",
    "        ).sum().alias(\"n_panel_snps_not_in_read\"),        \n",
    "        (1 - pl.col(\"allele_freq\")).product().alias(\"prob_not_detected\")\n",
    "    )\n",
    "    .filter(pl.col(\"n_panel_snps_not_in_read\") >= 20) \n",
    "    .select(\n",
    "        (1 - pl.col(\"prob_not_detected\")).alias(\"prob_detected\").mean(),        \n",
    "    )\n",
    ")"
   ]
  },
  {
   "cell_type": "code",
   "execution_count": 50,
   "id": "79422e29-7a8b-402d-ad22-e5f5bff5a5be",
   "metadata": {
    "tags": []
   },
   "outputs": [
    {
     "data": {
      "text/html": [
       "<div><style>\n",
       ".dataframe > thead > tr,\n",
       ".dataframe > tbody > tr {\n",
       "  text-align: right;\n",
       "  white-space: pre-wrap;\n",
       "}\n",
       "</style>\n",
       "<small>shape: (1, 1)</small><table border=\"1\" class=\"dataframe\"><thead><tr><th>n_panel_snps_not_in_read</th></tr><tr><td>f64</td></tr></thead><tbody><tr><td>0.386087</td></tr></tbody></table></div>"
      ],
      "text/plain": [
       "shape: (1, 1)\n",
       "┌──────────────────────────┐\n",
       "│ n_panel_snps_not_in_read │\n",
       "│ ---                      │\n",
       "│ f64                      │\n",
       "╞══════════════════════════╡\n",
       "│ 0.386087                 │\n",
       "└──────────────────────────┘"
      ]
     },
     "execution_count": 50,
     "metadata": {},
     "output_type": "execute_result"
    }
   ],
   "source": [
    "(ann_snps_with_panel_df\n",
    "    .filter(pl.col(\"read_name\").is_not_null())\n",
    "    .filter(pl.col(\"allele_freq\") >= 0.1)\n",
    "    .group_by(\"read_name\")\n",
    "    .agg(\n",
    "        (\n",
    "            pl.col(\"op1\").is_null() & \n",
    "            pl.col(\"allele_freq\").is_not_null()\n",
    "        ).sum().alias(\"n_panel_snps_not_in_read\"),        \n",
    "        (1 - pl.col(\"allele_freq\")).product().alias(\"prob_not_detected\")\n",
    "    )\n",
    "    .select((pl.col(\"n_panel_snps_not_in_read\") >= 20).mean())\n",
    ")"
   ]
  },
  {
   "cell_type": "code",
   "execution_count": null,
   "id": "4aafb255-4352-4137-b4ba-cbf516d2eaf0",
   "metadata": {},
   "outputs": [],
   "source": []
  },
  {
   "cell_type": "code",
   "execution_count": null,
   "id": "34c9d9f2-4d3e-4d18-b86c-39412b6aa53e",
   "metadata": {},
   "outputs": [],
   "source": []
  },
  {
   "cell_type": "code",
   "execution_count": null,
   "id": "0404a0fa-fe11-4955-bab8-f5a8767e17bd",
   "metadata": {},
   "outputs": [],
   "source": []
  },
  {
   "cell_type": "code",
   "execution_count": 43,
   "id": "7b4eba56-3bcb-4329-b54f-7c7a5ae71ab7",
   "metadata": {
    "tags": []
   },
   "outputs": [],
   "source": [
    "Adf = (ann_snps_with_panel_df\n",
    "    .filter(pl.col(\"op1\").is_null())\n",
    "    .group_by(\"read_name\")\n",
    "    .agg(\n",
    "        (            \n",
    "            (1-pl.col(\"allele_freq\"))\n",
    "        ).product().alias(\"prob_panel_snps_not_in_read\"),\n",
    "    )\n",
    ")"
   ]
  },
  {
   "cell_type": "code",
   "execution_count": 44,
   "id": "df93a3b0-9ca3-4d5d-81fe-5bda8329eb6f",
   "metadata": {},
   "outputs": [],
   "source": [
    "prob_detection = (1-Adf[\"prob_panel_snps_not_in_read\"])"
   ]
  },
  {
   "cell_type": "code",
   "execution_count": 45,
   "id": "376ea195-ea2e-4f24-9254-8946e56969cb",
   "metadata": {},
   "outputs": [
    {
     "data": {
      "text/html": [
       "<div><style>\n",
       ".dataframe > thead > tr,\n",
       ".dataframe > tbody > tr {\n",
       "  text-align: right;\n",
       "  white-space: pre-wrap;\n",
       "}\n",
       "</style>\n",
       "<small>shape: (10,)</small><table border=\"1\" class=\"dataframe\"><thead><tr><th>prob_panel_snps_not_in_read</th></tr><tr><td>f64</td></tr></thead><tbody><tr><td>1.0</td></tr><tr><td>1.0</td></tr><tr><td>0.920854</td></tr><tr><td>0.999994</td></tr><tr><td>1.0</td></tr><tr><td>0.999909</td></tr><tr><td>1.0</td></tr><tr><td>1.0</td></tr><tr><td>1.0</td></tr><tr><td>1.0</td></tr></tbody></table></div>"
      ],
      "text/plain": [
       "shape: (10,)\n",
       "Series: 'prob_panel_snps_not_in_read' [f64]\n",
       "[\n",
       "\t1.0\n",
       "\t1.0\n",
       "\t0.920854\n",
       "\t0.999994\n",
       "\t1.0\n",
       "\t0.999909\n",
       "\t1.0\n",
       "\t1.0\n",
       "\t1.0\n",
       "\t1.0\n",
       "]"
      ]
     },
     "execution_count": 45,
     "metadata": {},
     "output_type": "execute_result"
    }
   ],
   "source": [
    "prob_detection.head()"
   ]
  },
  {
   "cell_type": "code",
   "execution_count": 46,
   "id": "6a3ff931-be6d-408c-9c32-9ae7c8fe4bbe",
   "metadata": {
    "tags": []
   },
   "outputs": [
    {
     "data": {
      "text/plain": [
       "0.9263688541994867"
      ]
     },
     "execution_count": 46,
     "metadata": {},
     "output_type": "execute_result"
    }
   ],
   "source": [
    "prob_detection.mean()"
   ]
  },
  {
   "cell_type": "code",
   "execution_count": null,
   "id": "e9f513a3-3662-42e2-8040-369c15db9773",
   "metadata": {},
   "outputs": [],
   "source": []
  },
  {
   "cell_type": "code",
   "execution_count": 26,
   "id": "aa5755c1-2a7d-4da6-8c26-1a4afaece0ac",
   "metadata": {
    "tags": []
   },
   "outputs": [
    {
     "data": {
      "image/png": "[encoded data removed]",
      "text/plain": [
       "<Figure size 640x480 with 1 Axes>"
      ]
     },
     "metadata": {},
     "output_type": "display_data"
    }
   ],
   "source": [
    "sns.histplot(prob_detection, bins=50);"
   ]
  },
  {
   "cell_type": "code",
   "execution_count": 30,
   "id": "b3737e3d-6533-42e1-944a-2e76ec92f0b8",
   "metadata": {
    "tags": []
   },
   "outputs": [
    {
     "data": {
      "text/plain": [
       "0.657403988183161"
      ]
     },
     "execution_count": 30,
     "metadata": {},
     "output_type": "execute_result"
    }
   ],
   "source": [
    "(prob_detection>0.999).mean()"
   ]
  },
  {
   "cell_type": "code",
   "execution_count": 31,
   "id": "82e02f03-3da7-4b3e-bfc5-6cd51c134e57",
   "metadata": {
    "tags": []
   },
   "outputs": [
    {
     "name": "stdout",
     "output_type": "stream",
     "text": [
      "CPU times: user 33.8 s, sys: 17.6 s, total: 51.4 s\n",
      "Wall time: 1min 4s\n"
     ]
    }
   ],
   "source": [
    "%%time\n",
    "read_name_to_prob_contamination_detection_df = \\\n",
    "    pl.read_parquet(\n",
    "        f\"/lustre/scratch122/tol/projects/sperm/results/Rahbari_20250212/read_analysis/*/*/*/*/prob_contamination_detection_per_read.parquet\"\n",
    "    )\n",
    "    "
   ]
  },
  {
   "cell_type": "code",
   "execution_count": 32,
   "id": "5931085b-5526-4115-8a3f-af22feddd859",
   "metadata": {
    "tags": []
   },
   "outputs": [
    {
     "data": {
      "text/html": [
       "<div><style>\n",
       ".dataframe > thead > tr,\n",
       ".dataframe > tbody > tr {\n",
       "  text-align: right;\n",
       "  white-space: pre-wrap;\n",
       "}\n",
       "</style>\n",
       "<small>shape: (5, 2)</small><table border=\"1\" class=\"dataframe\"><thead><tr><th>read_name</th><th>log2_prob_panel_snps_not_in_read</th></tr><tr><td>str</td><td>f64</td></tr></thead><tbody><tr><td>&quot;m64016e_220904_102424/39127528/ccs&quot;</td><td>-inf</td></tr><tr><td>&quot;m64016e_220904_102424/721994/ccs&quot;</td><td>-0.37707</td></tr><tr><td>&quot;m64016e_220904_102424/55312874/ccs&quot;</td><td>-17.487104</td></tr><tr><td>&quot;m64016e_220904_102424/171510464/ccs&quot;</td><td>-5.886672</td></tr><tr><td>&quot;m64016e_220904_102424/147589175/ccs&quot;</td><td>-inf</td></tr></tbody></table></div>"
      ],
      "text/plain": [
       "shape: (5, 2)\n",
       "┌─────────────────────────────────────┬──────────────────────────────────┐\n",
       "│ read_name                           ┆ log2_prob_panel_snps_not_in_read │\n",
       "│ ---                                 ┆ ---                              │\n",
       "│ str                                 ┆ f64                              │\n",
       "╞═════════════════════════════════════╪══════════════════════════════════╡\n",
       "│ m64016e_220904_102424/39127528/ccs  ┆ -inf                             │\n",
       "│ m64016e_220904_102424/721994/ccs    ┆ -0.37707                         │\n",
       "│ m64016e_220904_102424/55312874/ccs  ┆ -17.487104                       │\n",
       "│ m64016e_220904_102424/171510464/ccs ┆ -5.886672                        │\n",
       "│ m64016e_220904_102424/147589175/ccs ┆ -inf                             │\n",
       "└─────────────────────────────────────┴──────────────────────────────────┘"
      ]
     },
     "execution_count": 32,
     "metadata": {},
     "output_type": "execute_result"
    }
   ],
   "source": [
    "read_name_to_prob_contamination_detection_df.head()"
   ]
  },
  {
   "cell_type": "code",
   "execution_count": 33,
   "id": "75d2aa62-b3d3-47f6-aacf-bd91d58755bc",
   "metadata": {
    "tags": []
   },
   "outputs": [],
   "source": [
    "prob_detection = (1-2**read_name_to_prob_contamination_detection_df[\"log2_prob_panel_snps_not_in_read\"])"
   ]
  },
  {
   "cell_type": "code",
   "execution_count": 34,
   "id": "45ff91df-6c0b-4d21-a1ea-370e08bac28e",
   "metadata": {
    "tags": []
   },
   "outputs": [
    {
     "data": {
      "text/plain": [
       "0.9467535565572087"
      ]
     },
     "execution_count": 34,
     "metadata": {},
     "output_type": "execute_result"
    }
   ],
   "source": [
    "prob_detection.filter(prob_detection.is_not_nan()).mean()"
   ]
  },
  {
   "cell_type": "code",
   "execution_count": 36,
   "id": "870f312b-334b-4c44-94aa-3fe852f34d9e",
   "metadata": {
    "tags": []
   },
   "outputs": [
    {
     "data": {
      "text/plain": [
       "0.15706930811885456"
      ]
     },
     "execution_count": 36,
     "metadata": {},
     "output_type": "execute_result"
    }
   ],
   "source": [
    "read_name_to_prob_contamination_detection_df[\"log2_prob_panel_snps_not_in_read\"].is_infinite().mean()"
   ]
  },
  {
   "cell_type": "code",
   "execution_count": null,
   "id": "20501310-52f7-4f3f-845f-db9286a08920",
   "metadata": {},
   "outputs": [],
   "source": []
  },
  {
   "cell_type": "code",
   "execution_count": null,
   "id": "78868fab-2bc1-4788-a9a3-b16b4d99500e",
   "metadata": {},
   "outputs": [],
   "source": []
  },
  {
   "cell_type": "code",
   "execution_count": 7,
   "id": "f1b91d49-d3b5-485b-b22e-f258dc0ad533",
   "metadata": {
    "tags": []
   },
   "outputs": [
    {
     "name": "stderr",
     "output_type": "stream",
     "text": [
      "100%|██████████| 56/56 [00:48<00:00,  1.17it/s]\n"
     ]
    }
   ],
   "source": [
    "sdfs = {}\n",
    "for sample_set, sample_id, flow_cell, flow_cell_type, _ in tqdm.tqdm(list(rahbari_df.iter_rows())):\n",
    "    df = pl.read_parquet(\n",
    "        f\"/lustre/scratch122/tol/projects/sperm/results/Rahbari_20250212/read_analysis/{sample_set}/{sample_id}/{flow_cell}/*/double_mismatches_per_read.parquet\"\n",
    "    )\n",
    "    sdf = (df\n",
    "        .group_by(\"n_double_mismatches_at_panel_snps\").len()\n",
    "        .sort(\"n_double_mismatches_at_panel_snps\")\n",
    "    )\n",
    "    sdf = (sdf.with_columns(frac = pl.col(\"len\") / sdf[\"len\"].sum()))\n",
    "    sdfs[(sample_id, flow_cell, flow_cell_type)] = sdf"
   ]
  },
  {
   "cell_type": "code",
   "execution_count": 8,
   "id": "45ce4e53-868c-4de0-932d-67cf2966a0e8",
   "metadata": {
    "tags": []
   },
   "outputs": [
    {
     "data": {
      "text/html": [
       "<div><style>\n",
       ".dataframe > thead > tr,\n",
       ".dataframe > tbody > tr {\n",
       "  text-align: right;\n",
       "  white-space: pre-wrap;\n",
       "}\n",
       "</style>\n",
       "<small>shape: (56, 4)</small><table border=\"1\" class=\"dataframe\"><thead><tr><th>sample_id</th><th>flow_cell</th><th>flow_cell_type</th><th>percent_contaminating</th></tr><tr><td>str</td><td>str</td><td>str</td><td>str</td></tr></thead><tbody><tr><td>&quot;PD50521b&quot;</td><td>&quot;m84047_240924_113521_s4&quot;</td><td>&quot;revio_unbinned&quot;</td><td>&quot;0.10%&quot;</td></tr><tr><td>&quot;PD50521b&quot;</td><td>&quot;m64178e_240721_224443&quot;</td><td>&quot;sequel_ii&quot;</td><td>&quot;0.10%&quot;</td></tr><tr><td>&quot;PD50521b&quot;</td><td>&quot;m64229e_220912_125215&quot;</td><td>&quot;sequel_ii&quot;</td><td>&quot;0.11%&quot;</td></tr><tr><td>&quot;PD50521b&quot;</td><td>&quot;m64016e_220901_135237&quot;</td><td>&quot;sequel_ii&quot;</td><td>&quot;0.11%&quot;</td></tr><tr><td>&quot;PD50521b&quot;</td><td>&quot;m64229e_220909_150132&quot;</td><td>&quot;sequel_ii&quot;</td><td>&quot;0.11%&quot;</td></tr><tr><td>&quot;PD50521e&quot;</td><td>&quot;m84093_241004_184906_s3&quot;</td><td>&quot;revio_unbinned&quot;</td><td>&quot;0.09%&quot;</td></tr><tr><td>&quot;PD50521e&quot;</td><td>&quot;m84093_241004_145012_s1&quot;</td><td>&quot;revio_unbinned&quot;</td><td>&quot;0.10%&quot;</td></tr><tr><td>&quot;PD50521e&quot;</td><td>&quot;m84098_240926_113650_s3&quot;</td><td>&quot;revio_unbinned&quot;</td><td>&quot;0.09%&quot;</td></tr><tr><td>&quot;PD50521e&quot;</td><td>&quot;m84093_241004_164937_s2&quot;</td><td>&quot;revio_unbinned&quot;</td><td>&quot;0.09%&quot;</td></tr><tr><td>&quot;PD50521e&quot;</td><td>&quot;m64178e_240723_014734&quot;</td><td>&quot;sequel_ii&quot;</td><td>&quot;0.09%&quot;</td></tr><tr><td>&quot;PD50521e&quot;</td><td>&quot;m64221e_220812_230038&quot;</td><td>&quot;sequel_ii&quot;</td><td>&quot;0.10%&quot;</td></tr><tr><td>&quot;PD50521e&quot;</td><td>&quot;m64222e_220805_105329&quot;</td><td>&quot;sequel_ii&quot;</td><td>&quot;0.09%&quot;</td></tr><tr><td>&quot;PD50521e&quot;</td><td>&quot;m64016e_220816_095555&quot;</td><td>&quot;sequel_ii&quot;</td><td>&quot;0.10%&quot;</td></tr><tr><td>&quot;PD50477f&quot;</td><td>&quot;m84047_241008_103735_s2&quot;</td><td>&quot;revio_unbinned&quot;</td><td>&quot;0.08%&quot;</td></tr><tr><td>&quot;PD50477f&quot;</td><td>&quot;m84047_240927_152506_s4&quot;</td><td>&quot;revio_unbinned&quot;</td><td>&quot;0.10%&quot;</td></tr><tr><td>&quot;PD50477f&quot;</td><td>&quot;m84093_241008_113314_s4&quot;</td><td>&quot;revio_unbinned&quot;</td><td>&quot;0.08%&quot;</td></tr><tr><td>&quot;PD50477f&quot;</td><td>&quot;m84047_241008_100605_s1&quot;</td><td>&quot;revio_unbinned&quot;</td><td>&quot;0.08%&quot;</td></tr><tr><td>&quot;PD50477f&quot;</td><td>&quot;m64178e_220829_002441&quot;</td><td>&quot;sequel_ii&quot;</td><td>&quot;0.06%&quot;</td></tr><tr><td>&quot;PD50477f&quot;</td><td>&quot;m64094e_220917_231317&quot;</td><td>&quot;sequel_ii&quot;</td><td>&quot;0.06%&quot;</td></tr><tr><td>&quot;PD50477f&quot;</td><td>&quot;m64230e_220906_003948&quot;</td><td>&quot;sequel_ii&quot;</td><td>&quot;0.06%&quot;</td></tr><tr><td>&quot;PD50508b&quot;</td><td>&quot;m84047_240927_145249_s3&quot;</td><td>&quot;revio_unbinned&quot;</td><td>&quot;0.04%&quot;</td></tr><tr><td>&quot;PD50508b&quot;</td><td>&quot;m84047_240924_110304_s3&quot;</td><td>&quot;revio_unbinned&quot;</td><td>&quot;0.04%&quot;</td></tr><tr><td>&quot;PD50508b&quot;</td><td>&quot;m64016e_220905_200242&quot;</td><td>&quot;sequel_ii&quot;</td><td>&quot;0.04%&quot;</td></tr><tr><td>&quot;PD50508b&quot;</td><td>&quot;m64178e_220826_023135&quot;</td><td>&quot;sequel_ii&quot;</td><td>&quot;0.04%&quot;</td></tr><tr><td>&quot;PD50523b&quot;</td><td>&quot;m84093_241009_101414_s1&quot;</td><td>&quot;revio_unbinned&quot;</td><td>&quot;0.13%&quot;</td></tr><tr><td>&quot;PD50523b&quot;</td><td>&quot;m84098_240926_103217_s1&quot;</td><td>&quot;revio_unbinned&quot;</td><td>&quot;0.13%&quot;</td></tr><tr><td>&quot;PD50523b&quot;</td><td>&quot;m84098_241009_111452_s3&quot;</td><td>&quot;revio_unbinned&quot;</td><td>&quot;0.12%&quot;</td></tr><tr><td>&quot;PD50523b&quot;</td><td>&quot;m84098_241009_114708_s4&quot;</td><td>&quot;revio_unbinned&quot;</td><td>&quot;0.12%&quot;</td></tr><tr><td>&quot;PD50523b&quot;</td><td>&quot;m84047_240928_151025_s3&quot;</td><td>&quot;revio_unbinned&quot;</td><td>&quot;0.18%&quot;</td></tr><tr><td>&quot;PD50523b&quot;</td><td>&quot;m64229e_220911_015559&quot;</td><td>&quot;sequel_ii&quot;</td><td>&quot;0.09%&quot;</td></tr><tr><td>&quot;PD50523b&quot;</td><td>&quot;m64016e_220903_004635&quot;</td><td>&quot;sequel_ii&quot;</td><td>&quot;0.09%&quot;</td></tr><tr><td>&quot;PD50523b&quot;</td><td>&quot;m64125e_240809_132206&quot;</td><td>&quot;sequel_ii&quot;</td><td>&quot;0.14%&quot;</td></tr><tr><td>&quot;PD50523b&quot;</td><td>&quot;m64229e_220913_234845&quot;</td><td>&quot;sequel_ii&quot;</td><td>&quot;0.08%&quot;</td></tr><tr><td>&quot;PD50489e&quot;</td><td>&quot;m84047_240927_134858_s1&quot;</td><td>&quot;revio_unbinned&quot;</td><td>&quot;0.21%&quot;</td></tr><tr><td>&quot;PD50489e&quot;</td><td>&quot;m84047_240927_142032_s2&quot;</td><td>&quot;revio_unbinned&quot;</td><td>&quot;0.20%&quot;</td></tr><tr><td>&quot;PD50489e&quot;</td><td>&quot;m84047_240924_095830_s1&quot;</td><td>&quot;revio_unbinned&quot;</td><td>&quot;0.21%&quot;</td></tr><tr><td>&quot;PD50489e&quot;</td><td>&quot;m64174e_220620_110709&quot;</td><td>&quot;sequel_ii&quot;</td><td>&quot;0.10%&quot;</td></tr><tr><td>&quot;PD50489e&quot;</td><td>&quot;m64094e_220715_151527&quot;</td><td>&quot;sequel_ii&quot;</td><td>&quot;0.10%&quot;</td></tr><tr><td>&quot;PD50489e&quot;</td><td>&quot;m64094e_220717_002414&quot;</td><td>&quot;sequel_ii&quot;</td><td>&quot;0.10%&quot;</td></tr><tr><td>&quot;PD50489e&quot;</td><td>&quot;m64178e_240720_182655&quot;</td><td>&quot;sequel_ii&quot;</td><td>&quot;0.18%&quot;</td></tr><tr><td>&quot;PD50519d&quot;</td><td>&quot;m84098_240926_110433_s2&quot;</td><td>&quot;revio_unbinned&quot;</td><td>&quot;0.37%&quot;</td></tr><tr><td>&quot;PD50519d&quot;</td><td>&quot;m84047_240928_143808_s2&quot;</td><td>&quot;revio_unbinned&quot;</td><td>&quot;0.36%&quot;</td></tr><tr><td>&quot;PD50519d&quot;</td><td>&quot;m84098_241009_104235_s2&quot;</td><td>&quot;revio_unbinned&quot;</td><td>&quot;0.35%&quot;</td></tr><tr><td>&quot;PD50519d&quot;</td><td>&quot;m84098_241009_101018_s1&quot;</td><td>&quot;revio_unbinned&quot;</td><td>&quot;0.38%&quot;</td></tr><tr><td>&quot;PD50519d&quot;</td><td>&quot;m64221e_220811_133409&quot;</td><td>&quot;sequel_ii&quot;</td><td>&quot;0.21%&quot;</td></tr><tr><td>&quot;PD50519d&quot;</td><td>&quot;m64222e_220804_013319&quot;</td><td>&quot;sequel_ii&quot;</td><td>&quot;0.22%&quot;</td></tr><tr><td>&quot;PD50519d&quot;</td><td>&quot;m64221e_220814_084225&quot;</td><td>&quot;sequel_ii&quot;</td><td>&quot;0.20%&quot;</td></tr><tr><td>&quot;PD46180c&quot;</td><td>&quot;m84047_241008_114208_s4&quot;</td><td>&quot;revio_unbinned&quot;</td><td>&quot;0.14%&quot;</td></tr><tr><td>&quot;PD46180c&quot;</td><td>&quot;m84047_240924_103047_s2&quot;</td><td>&quot;revio_unbinned&quot;</td><td>&quot;0.17%&quot;</td></tr><tr><td>&quot;PD46180c&quot;</td><td>&quot;m84047_241008_110952_s3&quot;</td><td>&quot;revio_unbinned&quot;</td><td>&quot;0.14%&quot;</td></tr><tr><td>&quot;PD46180c&quot;</td><td>&quot;m84047_240928_140551_s1&quot;</td><td>&quot;revio_unbinned&quot;</td><td>&quot;0.17%&quot;</td></tr><tr><td>&quot;PD46180c&quot;</td><td>&quot;m64178e_220824_153720&quot;</td><td>&quot;sequel_ii&quot;</td><td>&quot;0.15%&quot;</td></tr><tr><td>&quot;PD46180c&quot;</td><td>&quot;m64016e_220904_102424&quot;</td><td>&quot;sequel_ii&quot;</td><td>&quot;0.14%&quot;</td></tr><tr><td>&quot;PD46180c&quot;</td><td>&quot;m64094e_220916_121850&quot;</td><td>&quot;sequel_ii&quot;</td><td>&quot;0.14%&quot;</td></tr><tr><td>&quot;PD50508f&quot;</td><td>&quot;m64178e_220827_132801&quot;</td><td>&quot;sequel_ii&quot;</td><td>&quot;0.04%&quot;</td></tr><tr><td>&quot;PD50508f&quot;</td><td>&quot;m64230e_220901_155033&quot;</td><td>&quot;sequel_ii&quot;</td><td>&quot;0.05%&quot;</td></tr></tbody></table></div>"
      ],
      "text/plain": [
       "shape: (56, 4)\n",
       "┌───────────┬─────────────────────────┬────────────────┬───────────────────────┐\n",
       "│ sample_id ┆ flow_cell               ┆ flow_cell_type ┆ percent_contaminating │\n",
       "│ ---       ┆ ---                     ┆ ---            ┆ ---                   │\n",
       "│ str       ┆ str                     ┆ str            ┆ str                   │\n",
       "╞═══════════╪═════════════════════════╪════════════════╪═══════════════════════╡\n",
       "│ PD50521b  ┆ m84047_240924_113521_s4 ┆ revio_unbinned ┆ 0.10%                 │\n",
       "│ PD50521b  ┆ m64178e_240721_224443   ┆ sequel_ii      ┆ 0.10%                 │\n",
       "│ PD50521b  ┆ m64229e_220912_125215   ┆ sequel_ii      ┆ 0.11%                 │\n",
       "│ PD50521b  ┆ m64016e_220901_135237   ┆ sequel_ii      ┆ 0.11%                 │\n",
       "│ PD50521b  ┆ m64229e_220909_150132   ┆ sequel_ii      ┆ 0.11%                 │\n",
       "│ PD50521e  ┆ m84093_241004_184906_s3 ┆ revio_unbinned ┆ 0.09%                 │\n",
       "│ PD50521e  ┆ m84093_241004_145012_s1 ┆ revio_unbinned ┆ 0.10%                 │\n",
       "│ PD50521e  ┆ m84098_240926_113650_s3 ┆ revio_unbinned ┆ 0.09%                 │\n",
       "│ PD50521e  ┆ m84093_241004_164937_s2 ┆ revio_unbinned ┆ 0.09%                 │\n",
       "│ PD50521e  ┆ m64178e_240723_014734   ┆ sequel_ii      ┆ 0.09%                 │\n",
       "│ PD50521e  ┆ m64221e_220812_230038   ┆ sequel_ii      ┆ 0.10%                 │\n",
       "│ PD50521e  ┆ m64222e_220805_105329   ┆ sequel_ii      ┆ 0.09%                 │\n",
       "│ PD50521e  ┆ m64016e_220816_095555   ┆ sequel_ii      ┆ 0.10%                 │\n",
       "│ PD50477f  ┆ m84047_241008_103735_s2 ┆ revio_unbinned ┆ 0.08%                 │\n",
       "│ PD50477f  ┆ m84047_240927_152506_s4 ┆ revio_unbinned ┆ 0.10%                 │\n",
       "│ PD50477f  ┆ m84093_241008_113314_s4 ┆ revio_unbinned ┆ 0.08%                 │\n",
       "│ PD50477f  ┆ m84047_241008_100605_s1 ┆ revio_unbinned ┆ 0.08%                 │\n",
       "│ PD50477f  ┆ m64178e_220829_002441   ┆ sequel_ii      ┆ 0.06%                 │\n",
       "│ PD50477f  ┆ m64094e_220917_231317   ┆ sequel_ii      ┆ 0.06%                 │\n",
       "│ PD50477f  ┆ m64230e_220906_003948   ┆ sequel_ii      ┆ 0.06%                 │\n",
       "│ PD50508b  ┆ m84047_240927_145249_s3 ┆ revio_unbinned ┆ 0.04%                 │\n",
       "│ PD50508b  ┆ m84047_240924_110304_s3 ┆ revio_unbinned ┆ 0.04%                 │\n",
       "│ PD50508b  ┆ m64016e_220905_200242   ┆ sequel_ii      ┆ 0.04%                 │\n",
       "│ PD50508b  ┆ m64178e_220826_023135   ┆ sequel_ii      ┆ 0.04%                 │\n",
       "│ PD50523b  ┆ m84093_241009_101414_s1 ┆ revio_unbinned ┆ 0.13%                 │\n",
       "│ PD50523b  ┆ m84098_240926_103217_s1 ┆ revio_unbinned ┆ 0.13%                 │\n",
       "│ PD50523b  ┆ m84098_241009_111452_s3 ┆ revio_unbinned ┆ 0.12%                 │\n",
       "│ PD50523b  ┆ m84098_241009_114708_s4 ┆ revio_unbinned ┆ 0.12%                 │\n",
       "│ PD50523b  ┆ m84047_240928_151025_s3 ┆ revio_unbinned ┆ 0.18%                 │\n",
       "│ PD50523b  ┆ m64229e_220911_015559   ┆ sequel_ii      ┆ 0.09%                 │\n",
       "│ PD50523b  ┆ m64016e_220903_004635   ┆ sequel_ii      ┆ 0.09%                 │\n",
       "│ PD50523b  ┆ m64125e_240809_132206   ┆ sequel_ii      ┆ 0.14%                 │\n",
       "│ PD50523b  ┆ m64229e_220913_234845   ┆ sequel_ii      ┆ 0.08%                 │\n",
       "│ PD50489e  ┆ m84047_240927_134858_s1 ┆ revio_unbinned ┆ 0.21%                 │\n",
       "│ PD50489e  ┆ m84047_240927_142032_s2 ┆ revio_unbinned ┆ 0.20%                 │\n",
       "│ PD50489e  ┆ m84047_240924_095830_s1 ┆ revio_unbinned ┆ 0.21%                 │\n",
       "│ PD50489e  ┆ m64174e_220620_110709   ┆ sequel_ii      ┆ 0.10%                 │\n",
       "│ PD50489e  ┆ m64094e_220715_151527   ┆ sequel_ii      ┆ 0.10%                 │\n",
       "│ PD50489e  ┆ m64094e_220717_002414   ┆ sequel_ii      ┆ 0.10%                 │\n",
       "│ PD50489e  ┆ m64178e_240720_182655   ┆ sequel_ii      ┆ 0.18%                 │\n",
       "│ PD50519d  ┆ m84098_240926_110433_s2 ┆ revio_unbinned ┆ 0.37%                 │\n",
       "│ PD50519d  ┆ m84047_240928_143808_s2 ┆ revio_unbinned ┆ 0.36%                 │\n",
       "│ PD50519d  ┆ m84098_241009_104235_s2 ┆ revio_unbinned ┆ 0.35%                 │\n",
       "│ PD50519d  ┆ m84098_241009_101018_s1 ┆ revio_unbinned ┆ 0.38%                 │\n",
       "│ PD50519d  ┆ m64221e_220811_133409   ┆ sequel_ii      ┆ 0.21%                 │\n",
       "│ PD50519d  ┆ m64222e_220804_013319   ┆ sequel_ii      ┆ 0.22%                 │\n",
       "│ PD50519d  ┆ m64221e_220814_084225   ┆ sequel_ii      ┆ 0.20%                 │\n",
       "│ PD46180c  ┆ m84047_241008_114208_s4 ┆ revio_unbinned ┆ 0.14%                 │\n",
       "│ PD46180c  ┆ m84047_240924_103047_s2 ┆ revio_unbinned ┆ 0.17%                 │\n",
       "│ PD46180c  ┆ m84047_241008_110952_s3 ┆ revio_unbinned ┆ 0.14%                 │\n",
       "│ PD46180c  ┆ m84047_240928_140551_s1 ┆ revio_unbinned ┆ 0.17%                 │\n",
       "│ PD46180c  ┆ m64178e_220824_153720   ┆ sequel_ii      ┆ 0.15%                 │\n",
       "│ PD46180c  ┆ m64016e_220904_102424   ┆ sequel_ii      ┆ 0.14%                 │\n",
       "│ PD46180c  ┆ m64094e_220916_121850   ┆ sequel_ii      ┆ 0.14%                 │\n",
       "│ PD50508f  ┆ m64178e_220827_132801   ┆ sequel_ii      ┆ 0.04%                 │\n",
       "│ PD50508f  ┆ m64230e_220901_155033   ┆ sequel_ii      ┆ 0.05%                 │\n",
       "└───────────┴─────────────────────────┴────────────────┴───────────────────────┘"
      ]
     },
     "metadata": {},
     "output_type": "display_data"
    }
   ],
   "source": [
    "rows = []\n",
    "for k in sdfs.keys():\n",
    "    sample_id, flow_cell, flow_cell_type = k\n",
    "    x = 100*(1-sdfs[k][\"frac\"][0])\n",
    "    rows.append([sample_id, flow_cell, flow_cell_type, f'{x:1.2f}%'])\n",
    "\n",
    "display(\n",
    "    pl.DataFrame(\n",
    "        rows,\n",
    "        schema=[\"sample_id\", \"flow_cell\", \"flow_cell_type\", \"percent_contaminating\"],\n",
    "        orient=\"row\",\n",
    "    )\n",
    ")"
   ]
  },
  {
   "cell_type": "code",
   "execution_count": 12,
   "id": "aaccd9b7-96b5-4ed8-b5f4-48ef705bb30d",
   "metadata": {},
   "outputs": [
    {
     "name": "stderr",
     "output_type": "stream",
     "text": [
      "100%|██████████| 52/52 [00:07<00:00,  7.13it/s]\n"
     ]
    }
   ],
   "source": [
    "sdfs = {}\n",
    "for sample_set, sample_id, flow_cell, flow_cell_type, _ in tqdm.tqdm(list(ceph_df.iter_rows())):\n",
    "    df = pl.read_parquet(\n",
    "        f\"/lustre/scratch122/tol/projects/sperm/results/CEPH_20250212/read_analysis/{sample_set}/{sample_id}/{flow_cell}/*/double_mismatches_per_read.parquet\"\n",
    "    )\n",
    "    sdf = (df\n",
    "        .group_by(\"n_double_mismatches_at_panel_snps\").len()\n",
    "        .sort(\"n_double_mismatches_at_panel_snps\")\n",
    "    )\n",
    "    sdf = (sdf.with_columns(frac = pl.col(\"len\") / sdf[\"len\"].sum()))\n",
    "    sdfs[(sample_id, flow_cell, flow_cell_type)] = sdf"
   ]
  },
  {
   "cell_type": "code",
   "execution_count": 14,
   "id": "221eee1d-d4b4-4789-ab7a-2d56e5dda9bc",
   "metadata": {},
   "outputs": [
    {
     "data": {
      "text/html": [
       "<div><style>\n",
       ".dataframe > thead > tr,\n",
       ".dataframe > tbody > tr {\n",
       "  text-align: right;\n",
       "  white-space: pre-wrap;\n",
       "}\n",
       "</style>\n",
       "<small>shape: (52, 4)</small><table border=\"1\" class=\"dataframe\"><thead><tr><th>sample_id</th><th>flow_cell</th><th>flow_cell_type</th><th>percent_contaminating</th></tr><tr><td>str</td><td>str</td><td>str</td><td>str</td></tr></thead><tbody><tr><td>&quot;200100&quot;</td><td>&quot;m84039_230317_185953_s3&quot;</td><td>&quot;revio_50&quot;</td><td>&quot;0.11%&quot;</td></tr><tr><td>&quot;200101&quot;</td><td>&quot;m84039_230401_021407_s1&quot;</td><td>&quot;revio_50&quot;</td><td>&quot;0.04%&quot;</td></tr><tr><td>&quot;200101&quot;</td><td>&quot;m84039_230403_233415_s1&quot;</td><td>&quot;revio_50&quot;</td><td>&quot;0.04%&quot;</td></tr><tr><td>&quot;200102&quot;</td><td>&quot;m84039_230401_024513_s2&quot;</td><td>&quot;revio_50&quot;</td><td>&quot;0.08%&quot;</td></tr><tr><td>&quot;200102&quot;</td><td>&quot;m84039_230404_000434_s2&quot;</td><td>&quot;revio_50&quot;</td><td>&quot;0.07%&quot;</td></tr><tr><td>&quot;200104&quot;</td><td>&quot;m84039_230317_200114_s1&quot;</td><td>&quot;revio_50&quot;</td><td>&quot;0.04%&quot;</td></tr><tr><td>&quot;200106&quot;</td><td>&quot;m84039_230320_213709_s3&quot;</td><td>&quot;revio_50&quot;</td><td>&quot;0.05%&quot;</td></tr><tr><td>&quot;NA12877&quot;</td><td>&quot;m54329U_230131_182014&quot;</td><td>&quot;sequel_ii&quot;</td><td>&quot;0.08%&quot;</td></tr><tr><td>&quot;NA12877&quot;</td><td>&quot;m54329U_230202_033258&quot;</td><td>&quot;sequel_ii&quot;</td><td>&quot;0.07%&quot;</td></tr><tr><td>&quot;NA12877&quot;</td><td>&quot;m54329U_230203_125016&quot;</td><td>&quot;sequel_ii&quot;</td><td>&quot;0.07%&quot;</td></tr><tr><td>&quot;NA12877&quot;</td><td>&quot;m54329U_230204_220457&quot;</td><td>&quot;sequel_ii&quot;</td><td>&quot;0.08%&quot;</td></tr><tr><td>&quot;NA12877&quot;</td><td>&quot;m64076_230125_193523&quot;</td><td>&quot;sequel_ii&quot;</td><td>&quot;0.07%&quot;</td></tr><tr><td>&quot;NA12877&quot;</td><td>&quot;m64076_230329_031008&quot;</td><td>&quot;sequel_ii&quot;</td><td>&quot;0.08%&quot;</td></tr><tr><td>&quot;NA12877&quot;</td><td>&quot;m64076_230405_190254&quot;</td><td>&quot;sequel_ii&quot;</td><td>&quot;0.08%&quot;</td></tr><tr><td>&quot;NA12877&quot;</td><td>&quot;m64076_230407_182249&quot;</td><td>&quot;sequel_ii&quot;</td><td>&quot;0.08%&quot;</td></tr><tr><td>&quot;NA12877&quot;</td><td>&quot;m64076_230409_033653&quot;</td><td>&quot;sequel_ii&quot;</td><td>&quot;0.08%&quot;</td></tr><tr><td>&quot;NA12878&quot;</td><td>&quot;m54329U_230211_064937&quot;</td><td>&quot;sequel_ii&quot;</td><td>&quot;0.08%&quot;</td></tr><tr><td>&quot;NA12878&quot;</td><td>&quot;m54329U_230212_161302&quot;</td><td>&quot;sequel_ii&quot;</td><td>&quot;0.08%&quot;</td></tr><tr><td>&quot;NA12878&quot;</td><td>&quot;m54329U_230214_013859&quot;</td><td>&quot;sequel_ii&quot;</td><td>&quot;0.08%&quot;</td></tr><tr><td>&quot;NA12878&quot;</td><td>&quot;m54329U_230327_190242&quot;</td><td>&quot;sequel_ii&quot;</td><td>&quot;0.08%&quot;</td></tr><tr><td>&quot;NA12878&quot;</td><td>&quot;m54329U_230329_041509&quot;</td><td>&quot;sequel_ii&quot;</td><td>&quot;0.08%&quot;</td></tr><tr><td>&quot;NA12878&quot;</td><td>&quot;m54329U_230330_133121&quot;</td><td>&quot;sequel_ii&quot;</td><td>&quot;0.07%&quot;</td></tr><tr><td>&quot;NA12878&quot;</td><td>&quot;m64076_230211_120629&quot;</td><td>&quot;sequel_ii&quot;</td><td>&quot;0.07%&quot;</td></tr><tr><td>&quot;NA12878&quot;</td><td>&quot;m64076_230330_235351&quot;</td><td>&quot;sequel_ii&quot;</td><td>&quot;0.08%&quot;</td></tr><tr><td>&quot;NA12879&quot;</td><td>&quot;m64076_230221_200319&quot;</td><td>&quot;sequel_ii&quot;</td><td>&quot;0.11%&quot;</td></tr><tr><td>&quot;NA12879&quot;</td><td>&quot;m64076_230302_195823&quot;</td><td>&quot;sequel_ii&quot;</td><td>&quot;0.12%&quot;</td></tr><tr><td>&quot;NA12879&quot;</td><td>&quot;m64076_230304_051937&quot;</td><td>&quot;sequel_ii&quot;</td><td>&quot;0.12%&quot;</td></tr><tr><td>&quot;NA12879&quot;</td><td>&quot;m64076_230501_214310&quot;</td><td>&quot;sequel_ii&quot;</td><td>&quot;0.10%&quot;</td></tr><tr><td>&quot;NA12879&quot;</td><td>&quot;m64076_230503_071720&quot;</td><td>&quot;sequel_ii&quot;</td><td>&quot;0.10%&quot;</td></tr><tr><td>&quot;NA12879&quot;</td><td>&quot;m84046_230515_221837_s1&quot;</td><td>&quot;revio_40&quot;</td><td>&quot;0.14%&quot;</td></tr><tr><td>&quot;NA12881&quot;</td><td>&quot;m84046_230329_185756_s1&quot;</td><td>&quot;revio_40&quot;</td><td>&quot;0.10%&quot;</td></tr><tr><td>&quot;NA12881&quot;</td><td>&quot;m84046_230401_040731_s4&quot;</td><td>&quot;revio_40&quot;</td><td>&quot;0.11%&quot;</td></tr><tr><td>&quot;NA12881&quot;</td><td>&quot;m84046_230401_043753_s1&quot;</td><td>&quot;revio_40&quot;</td><td>&quot;0.10%&quot;</td></tr><tr><td>&quot;NA12881&quot;</td><td>&quot;m84046_230403_202554_s4&quot;</td><td>&quot;revio_40&quot;</td><td>&quot;0.10%&quot;</td></tr><tr><td>&quot;NA12882&quot;</td><td>&quot;m84039_230304_020711_s3&quot;</td><td>&quot;revio_50&quot;</td><td>&quot;0.04%&quot;</td></tr><tr><td>&quot;NA12882&quot;</td><td>&quot;m84046_230515_211624_s3&quot;</td><td>&quot;revio_40&quot;</td><td>&quot;0.12%&quot;</td></tr><tr><td>&quot;NA12885&quot;</td><td>&quot;m84039_230320_220725_s4&quot;</td><td>&quot;revio_50&quot;</td><td>&quot;0.05%&quot;</td></tr><tr><td>&quot;NA12885&quot;</td><td>&quot;m84046_230522_231536_s1&quot;</td><td>&quot;revio_40&quot;</td><td>&quot;0.12%&quot;</td></tr><tr><td>&quot;NA12886&quot;</td><td>&quot;m84039_230305_012045_s2&quot;</td><td>&quot;revio_50&quot;</td><td>&quot;0.06%&quot;</td></tr><tr><td>&quot;NA12886&quot;</td><td>&quot;m84046_230512_221707_s2&quot;</td><td>&quot;revio_40&quot;</td><td>&quot;0.18%&quot;</td></tr><tr><td>&quot;NA12889&quot;</td><td>&quot;m54329U_230311_094504&quot;</td><td>&quot;sequel_ii&quot;</td><td>&quot;0.06%&quot;</td></tr><tr><td>&quot;NA12889&quot;</td><td>&quot;m54329U_230312_191124&quot;</td><td>&quot;sequel_ii&quot;</td><td>&quot;0.06%&quot;</td></tr><tr><td>&quot;NA12889&quot;</td><td>&quot;m54329U_230314_044350&quot;</td><td>&quot;sequel_ii&quot;</td><td>&quot;0.05%&quot;</td></tr><tr><td>&quot;NA12890&quot;</td><td>&quot;m54329U_230413_155849&quot;</td><td>&quot;sequel_ii&quot;</td><td>&quot;0.05%&quot;</td></tr><tr><td>&quot;NA12890&quot;</td><td>&quot;m54329U_230415_010656&quot;</td><td>&quot;sequel_ii&quot;</td><td>&quot;0.05%&quot;</td></tr><tr><td>&quot;NA12890&quot;</td><td>&quot;m54329U_230416_101505&quot;</td><td>&quot;sequel_ii&quot;</td><td>&quot;0.06%&quot;</td></tr><tr><td>&quot;NA12891&quot;</td><td>&quot;m64076_230324_223402&quot;</td><td>&quot;sequel_ii&quot;</td><td>&quot;0.08%&quot;</td></tr><tr><td>&quot;NA12891&quot;</td><td>&quot;m64076_230326_080926&quot;</td><td>&quot;sequel_ii&quot;</td><td>&quot;0.08%&quot;</td></tr><tr><td>&quot;NA12891&quot;</td><td>&quot;m64076_230327_174311&quot;</td><td>&quot;sequel_ii&quot;</td><td>&quot;0.09%&quot;</td></tr><tr><td>&quot;NA12892&quot;</td><td>&quot;m64076_230311_094742&quot;</td><td>&quot;sequel_ii&quot;</td><td>&quot;0.06%&quot;</td></tr><tr><td>&quot;NA12892&quot;</td><td>&quot;m64076_230312_191745&quot;</td><td>&quot;sequel_ii&quot;</td><td>&quot;0.06%&quot;</td></tr><tr><td>&quot;NA12892&quot;</td><td>&quot;m64076_230314_050530&quot;</td><td>&quot;sequel_ii&quot;</td><td>&quot;0.06%&quot;</td></tr></tbody></table></div>"
      ],
      "text/plain": [
       "shape: (52, 4)\n",
       "┌───────────┬─────────────────────────┬────────────────┬───────────────────────┐\n",
       "│ sample_id ┆ flow_cell               ┆ flow_cell_type ┆ percent_contaminating │\n",
       "│ ---       ┆ ---                     ┆ ---            ┆ ---                   │\n",
       "│ str       ┆ str                     ┆ str            ┆ str                   │\n",
       "╞═══════════╪═════════════════════════╪════════════════╪═══════════════════════╡\n",
       "│ 200100    ┆ m84039_230317_185953_s3 ┆ revio_50       ┆ 0.11%                 │\n",
       "│ 200101    ┆ m84039_230401_021407_s1 ┆ revio_50       ┆ 0.04%                 │\n",
       "│ 200101    ┆ m84039_230403_233415_s1 ┆ revio_50       ┆ 0.04%                 │\n",
       "│ 200102    ┆ m84039_230401_024513_s2 ┆ revio_50       ┆ 0.08%                 │\n",
       "│ 200102    ┆ m84039_230404_000434_s2 ┆ revio_50       ┆ 0.07%                 │\n",
       "│ 200104    ┆ m84039_230317_200114_s1 ┆ revio_50       ┆ 0.04%                 │\n",
       "│ 200106    ┆ m84039_230320_213709_s3 ┆ revio_50       ┆ 0.05%                 │\n",
       "│ NA12877   ┆ m54329U_230131_182014   ┆ sequel_ii      ┆ 0.08%                 │\n",
       "│ NA12877   ┆ m54329U_230202_033258   ┆ sequel_ii      ┆ 0.07%                 │\n",
       "│ NA12877   ┆ m54329U_230203_125016   ┆ sequel_ii      ┆ 0.07%                 │\n",
       "│ NA12877   ┆ m54329U_230204_220457   ┆ sequel_ii      ┆ 0.08%                 │\n",
       "│ NA12877   ┆ m64076_230125_193523    ┆ sequel_ii      ┆ 0.07%                 │\n",
       "│ NA12877   ┆ m64076_230329_031008    ┆ sequel_ii      ┆ 0.08%                 │\n",
       "│ NA12877   ┆ m64076_230405_190254    ┆ sequel_ii      ┆ 0.08%                 │\n",
       "│ NA12877   ┆ m64076_230407_182249    ┆ sequel_ii      ┆ 0.08%                 │\n",
       "│ NA12877   ┆ m64076_230409_033653    ┆ sequel_ii      ┆ 0.08%                 │\n",
       "│ NA12878   ┆ m54329U_230211_064937   ┆ sequel_ii      ┆ 0.08%                 │\n",
       "│ NA12878   ┆ m54329U_230212_161302   ┆ sequel_ii      ┆ 0.08%                 │\n",
       "│ NA12878   ┆ m54329U_230214_013859   ┆ sequel_ii      ┆ 0.08%                 │\n",
       "│ NA12878   ┆ m54329U_230327_190242   ┆ sequel_ii      ┆ 0.08%                 │\n",
       "│ NA12878   ┆ m54329U_230329_041509   ┆ sequel_ii      ┆ 0.08%                 │\n",
       "│ NA12878   ┆ m54329U_230330_133121   ┆ sequel_ii      ┆ 0.07%                 │\n",
       "│ NA12878   ┆ m64076_230211_120629    ┆ sequel_ii      ┆ 0.07%                 │\n",
       "│ NA12878   ┆ m64076_230330_235351    ┆ sequel_ii      ┆ 0.08%                 │\n",
       "│ NA12879   ┆ m64076_230221_200319    ┆ sequel_ii      ┆ 0.11%                 │\n",
       "│ NA12879   ┆ m64076_230302_195823    ┆ sequel_ii      ┆ 0.12%                 │\n",
       "│ NA12879   ┆ m64076_230304_051937    ┆ sequel_ii      ┆ 0.12%                 │\n",
       "│ NA12879   ┆ m64076_230501_214310    ┆ sequel_ii      ┆ 0.10%                 │\n",
       "│ NA12879   ┆ m64076_230503_071720    ┆ sequel_ii      ┆ 0.10%                 │\n",
       "│ NA12879   ┆ m84046_230515_221837_s1 ┆ revio_40       ┆ 0.14%                 │\n",
       "│ NA12881   ┆ m84046_230329_185756_s1 ┆ revio_40       ┆ 0.10%                 │\n",
       "│ NA12881   ┆ m84046_230401_040731_s4 ┆ revio_40       ┆ 0.11%                 │\n",
       "│ NA12881   ┆ m84046_230401_043753_s1 ┆ revio_40       ┆ 0.10%                 │\n",
       "│ NA12881   ┆ m84046_230403_202554_s4 ┆ revio_40       ┆ 0.10%                 │\n",
       "│ NA12882   ┆ m84039_230304_020711_s3 ┆ revio_50       ┆ 0.04%                 │\n",
       "│ NA12882   ┆ m84046_230515_211624_s3 ┆ revio_40       ┆ 0.12%                 │\n",
       "│ NA12885   ┆ m84039_230320_220725_s4 ┆ revio_50       ┆ 0.05%                 │\n",
       "│ NA12885   ┆ m84046_230522_231536_s1 ┆ revio_40       ┆ 0.12%                 │\n",
       "│ NA12886   ┆ m84039_230305_012045_s2 ┆ revio_50       ┆ 0.06%                 │\n",
       "│ NA12886   ┆ m84046_230512_221707_s2 ┆ revio_40       ┆ 0.18%                 │\n",
       "│ NA12889   ┆ m54329U_230311_094504   ┆ sequel_ii      ┆ 0.06%                 │\n",
       "│ NA12889   ┆ m54329U_230312_191124   ┆ sequel_ii      ┆ 0.06%                 │\n",
       "│ NA12889   ┆ m54329U_230314_044350   ┆ sequel_ii      ┆ 0.05%                 │\n",
       "│ NA12890   ┆ m54329U_230413_155849   ┆ sequel_ii      ┆ 0.05%                 │\n",
       "│ NA12890   ┆ m54329U_230415_010656   ┆ sequel_ii      ┆ 0.05%                 │\n",
       "│ NA12890   ┆ m54329U_230416_101505   ┆ sequel_ii      ┆ 0.06%                 │\n",
       "│ NA12891   ┆ m64076_230324_223402    ┆ sequel_ii      ┆ 0.08%                 │\n",
       "│ NA12891   ┆ m64076_230326_080926    ┆ sequel_ii      ┆ 0.08%                 │\n",
       "│ NA12891   ┆ m64076_230327_174311    ┆ sequel_ii      ┆ 0.09%                 │\n",
       "│ NA12892   ┆ m64076_230311_094742    ┆ sequel_ii      ┆ 0.06%                 │\n",
       "│ NA12892   ┆ m64076_230312_191745    ┆ sequel_ii      ┆ 0.06%                 │\n",
       "│ NA12892   ┆ m64076_230314_050530    ┆ sequel_ii      ┆ 0.06%                 │\n",
       "└───────────┴─────────────────────────┴────────────────┴───────────────────────┘"
      ]
     },
     "metadata": {},
     "output_type": "display_data"
    }
   ],
   "source": [
    "rows = []\n",
    "for k in sdfs.keys():\n",
    "    sample_id, flow_cell, flow_cell_type = k\n",
    "    x = 100*(1-sdfs[k][\"frac\"][0])\n",
    "    rows.append([sample_id, flow_cell, flow_cell_type, f'{x:1.2f}%'])\n",
    "\n",
    "display(\n",
    "    pl.DataFrame(\n",
    "        rows,\n",
    "        schema=[\"sample_id\", \"flow_cell\", \"flow_cell_type\", \"percent_contaminating\"],\n",
    "        orient=\"row\",\n",
    "    )\n",
    "    .sort(\"sample_id\", \"flow_cell\")\n",
    ")"
   ]
  },
  {
   "cell_type": "code",
   "execution_count": null,
   "id": "1363be3b-f3b9-4a01-99e3-51cea941bbe4",
   "metadata": {},
   "outputs": [],
   "source": []
  },
  {
   "cell_type": "markdown",
   "id": "05d47baa-337c-477e-bc17-f72f10f8812f",
   "metadata": {},
   "source": [
    "# Test"
   ]
  },
  {
   "cell_type": "code",
   "execution_count": 57,
   "id": "449e3ed5-bc42-4b7f-973c-3188a18c4d69",
   "metadata": {
    "tags": []
   },
   "outputs": [
    {
     "name": "stdout",
     "output_type": "stream",
     "text": [
      "[Parallel(n_jobs=16)]: Using backend LokyBackend with 16 concurrent workers.\n",
      "[Parallel(n_jobs=16)]: Done   1 out of   1 | elapsed:   16.3s finished\n",
      "[Parallel(n_jobs=16)]: Done   2 tasks      | elapsed:  1.8min\n",
      "[Parallel(n_jobs=16)]: Done   3 out of   6 | elapsed: 13.3min remaining: 13.3min\n",
      "[Parallel(n_jobs=16)]: Done   4 out of   6 | elapsed: 17.4min remaining:  8.7min\n",
      "[Parallel(n_jobs=16)]: Done   6 out of   6 | elapsed: 17.8min finished\n"
     ]
    }
   ],
   "source": [
    "alignment_bam_filename = \"/lustre/scratch122/tol/projects/sperm/results/Rahbari_20250212/alignments/PD50523b/PD50523b/m84047_240928_151025_s3/grch38_reference/minimap2.sorted.primary_alignments.bam\"\n",
    "reference_panel_vcf_filename = \"/lustre/scratch122/tol/projects/sperm/data/references/02.grch38/ALL.wgs.shapeit2_integrated_v1a.GRCh38.20181129.sites.decomposed.normalised.common_snps.vcf.bgz\"\n",
    "\n",
    "# df = contamination.compare_read_to_reference(\n",
    "#     filename,\n",
    "#     pop_ref_panel_vcf,\n",
    "#     \"chr22\",\n",
    "#     0, \n",
    "#     11000000,\n",
    "# )\n",
    "df = contamination.compare_read_to_reference_chrom(\n",
    "    alignment_bam_filename,\n",
    "    reference_panel_vcf_filename,\n",
    "    \"chr22\",\n",
    "    chunk_size = 10_000_000,\n",
    "    n_threads = 16,\n",
    ")"
   ]
  },
  {
   "cell_type": "code",
   "execution_count": 58,
   "id": "50ddfe0f-0c89-4e1c-b4ff-5b7e11aea7a7",
   "metadata": {
    "tags": []
   },
   "outputs": [
    {
     "data": {
      "text/plain": [
       "3666843"
      ]
     },
     "execution_count": 58,
     "metadata": {},
     "output_type": "execute_result"
    }
   ],
   "source": [
    "len(df)"
   ]
  },
  {
   "cell_type": "code",
   "execution_count": null,
   "id": "506a4a43-689e-4f21-b5cc-7cd383d5e39d",
   "metadata": {},
   "outputs": [],
   "source": []
  },
  {
   "cell_type": "code",
   "execution_count": null,
   "id": "348e4874-8e1d-4206-9420-9f7c3ee06719",
   "metadata": {},
   "outputs": [],
   "source": []
  },
  {
   "cell_type": "code",
   "execution_count": null,
   "id": "551efe1d-bd89-4c4c-a22e-d8ead43e148c",
   "metadata": {},
   "outputs": [],
   "source": []
  },
  {
   "cell_type": "code",
   "execution_count": 38,
   "id": "0c2d163b-8c59-4a7d-9f3d-78a1182ae606",
   "metadata": {
    "tags": []
   },
   "outputs": [
    {
     "name": "stderr",
     "output_type": "stream",
     "text": [
      "\n",
      "\n",
      "  0%|          | 0/56 [00:00<?, ?it/s]\u001b[A\u001b[A\n",
      "\n",
      " 52%|█████▏    | 29/56 [01:08<01:03,  2.35s/it]\u001b[A\u001b[A\n",
      "\n",
      " 54%|█████▎    | 30/56 [01:08<00:58,  2.25s/it]\u001b[A\u001b[A\n",
      "\n",
      " 55%|█████▌    | 31/56 [01:09<00:53,  2.12s/it]\u001b[A\u001b[A\n",
      "\n",
      " 57%|█████▋    | 32/56 [01:09<00:48,  2.03s/it]\u001b[A\u001b[A\n",
      "\n",
      " 59%|█████▉    | 33/56 [01:09<00:42,  1.83s/it]\u001b[A\u001b[A\n",
      "\n",
      " 61%|██████    | 34/56 [01:10<00:35,  1.62s/it]\u001b[A\u001b[A\n",
      "\n",
      " 62%|██████▎   | 35/56 [01:11<00:31,  1.51s/it]\u001b[A\u001b[A\n",
      "\n",
      "100%|██████████| 56/56 [01:12<00:00,  1.29s/it]\u001b[A\u001b[A\n"
     ]
    }
   ],
   "source": [
    "output_path = Path(\"/lustre/scratch122/tol/projects/sperm/results/Rahbari_20250212\")\n",
    "\n",
    "ann_snps_df = pl.concat([\n",
    "    (\n",
    "        pl.scan_parquet(glob.glob(str(\n",
    "            output_path / f\"read_analysis/{sample_set}/{sample_id}/{flow_cell}/*/annotated_0.95_high_confidence_snps.parquet\"\n",
    "        ))).with_columns(\n",
    "            sample_id=pl.lit(sample_id), \n",
    "            flow_cell=pl.lit(flow_cell),\n",
    "            flow_cell_type=pl.lit(flow_cell_type),        \n",
    "        )\n",
    "        .collect(streaming=True)\n",
    "    )\n",
    "    for sample_set, sample_id, flow_cell, flow_cell_type, _ in tqdm.tqdm(list(rahbari_df.iter_rows()))\n",
    "        if sample_id in [\"PD50523b\"] and flow_cell in [\"m84047_240928_151025_s3\"]\n",
    "])\n"
   ]
  },
  {
   "cell_type": "code",
   "execution_count": 39,
   "id": "88d19d05-b9c0-4349-a661-916d3fab3cad",
   "metadata": {
    "tags": []
   },
   "outputs": [
    {
     "data": {
      "text/plain": [
       "69057225"
      ]
     },
     "execution_count": 39,
     "metadata": {},
     "output_type": "execute_result"
    }
   ],
   "source": [
    "len(ann_snps_df)"
   ]
  },
  {
   "cell_type": "code",
   "execution_count": 62,
   "id": "2b73dd9e-5542-4d49-aab3-64483ff5ac37",
   "metadata": {
    "tags": []
   },
   "outputs": [
    {
     "name": "stdout",
     "output_type": "stream",
     "text": [
      "CPU times: user 1min 9s, sys: 56.5 s, total: 2min 6s\n",
      "Wall time: 22.7 s\n"
     ]
    }
   ],
   "source": [
    "%%time\n",
    "sdf = (ann_snps_df\n",
    "    .join(\n",
    "        df.select(\"read_name\", \"start\", pl.col(\"op\").alias(\"ref_panel_op\"), \"allele_freq\"),\n",
    "        on=[\"read_name\", \"start\"],\n",
    "        how=\"full\",\n",
    "    )\n",
    "    .with_columns(\n",
    "        is_in_ref_panel = pl.col(\"allele_freq\").is_not_null(),\n",
    "        is_in_read = pl.col(\"op1\").is_not_null(),\n",
    "    )\n",
    "    .group_by(\"read_name\")\n",
    "    .agg(\n",
    "        (pl.col(\"is_in_read\") & (pl.col(\"op1\") == pl.col(\"op2\")) & pl.col(\"is_in_ref_panel\")).sum().alias(\"n_double_mismatches_in_ref_panel\"),\n",
    "        (pl.col(\"is_in_read\") & (pl.col(\"op1\") == pl.col(\"op2\")) & ~pl.col(\"is_in_ref_panel\")).sum().alias(\"n_double_mismatches_not_in_ref_panel\"),\n",
    "        (~pl.col(\"is_in_read\") & pl.col(\"is_in_ref_panel\")).sum().alias(\"n_\n",
    ")"
   ]
  },
  {
   "cell_type": "code",
   "execution_count": 67,
   "id": "ee89cd30-ae48-475e-bdf7-58eaf6c3a017",
   "metadata": {
    "tags": []
   },
   "outputs": [
    {
     "data": {
      "text/html": [
       "<div><style>\n",
       ".dataframe > thead > tr,\n",
       ".dataframe > tbody > tr {\n",
       "  text-align: right;\n",
       "  white-space: pre-wrap;\n",
       "}\n",
       "</style>\n",
       "<small>shape: (31, 2)</small><table border=\"1\" class=\"dataframe\"><thead><tr><th>n_double_mismatches_in_ref_panel</th><th>len</th></tr><tr><td>u32</td><td>u32</td></tr></thead><tbody><tr><td>0</td><td>4845516</td></tr><tr><td>1</td><td>269</td></tr><tr><td>2</td><td>24</td></tr><tr><td>3</td><td>10</td></tr><tr><td>4</td><td>17</td></tr><tr><td>5</td><td>14</td></tr><tr><td>6</td><td>10</td></tr><tr><td>7</td><td>12</td></tr><tr><td>8</td><td>7</td></tr><tr><td>9</td><td>4</td></tr><tr><td>10</td><td>5</td></tr><tr><td>11</td><td>7</td></tr><tr><td>12</td><td>5</td></tr><tr><td>13</td><td>3</td></tr><tr><td>14</td><td>2</td></tr><tr><td>15</td><td>4</td></tr><tr><td>16</td><td>3</td></tr><tr><td>17</td><td>1</td></tr><tr><td>18</td><td>4</td></tr><tr><td>19</td><td>3</td></tr><tr><td>20</td><td>3</td></tr><tr><td>21</td><td>4</td></tr><tr><td>22</td><td>2</td></tr><tr><td>23</td><td>1</td></tr><tr><td>24</td><td>1</td></tr><tr><td>27</td><td>1</td></tr><tr><td>33</td><td>1</td></tr><tr><td>35</td><td>1</td></tr><tr><td>37</td><td>1</td></tr><tr><td>42</td><td>1</td></tr><tr><td>46</td><td>1</td></tr></tbody></table></div>"
      ],
      "text/plain": [
       "shape: (31, 2)\n",
       "┌──────────────────────────────────┬─────────┐\n",
       "│ n_double_mismatches_in_ref_panel ┆ len     │\n",
       "│ ---                              ┆ ---     │\n",
       "│ u32                              ┆ u32     │\n",
       "╞══════════════════════════════════╪═════════╡\n",
       "│ 0                                ┆ 4845516 │\n",
       "│ 1                                ┆ 269     │\n",
       "│ 2                                ┆ 24      │\n",
       "│ 3                                ┆ 10      │\n",
       "│ 4                                ┆ 17      │\n",
       "│ 5                                ┆ 14      │\n",
       "│ 6                                ┆ 10      │\n",
       "│ 7                                ┆ 12      │\n",
       "│ 8                                ┆ 7       │\n",
       "│ 9                                ┆ 4       │\n",
       "│ 10                               ┆ 5       │\n",
       "│ 11                               ┆ 7       │\n",
       "│ 12                               ┆ 5       │\n",
       "│ 13                               ┆ 3       │\n",
       "│ 14                               ┆ 2       │\n",
       "│ 15                               ┆ 4       │\n",
       "│ 16                               ┆ 3       │\n",
       "│ 17                               ┆ 1       │\n",
       "│ 18                               ┆ 4       │\n",
       "│ 19                               ┆ 3       │\n",
       "│ 20                               ┆ 3       │\n",
       "│ 21                               ┆ 4       │\n",
       "│ 22                               ┆ 2       │\n",
       "│ 23                               ┆ 1       │\n",
       "│ 24                               ┆ 1       │\n",
       "│ 27                               ┆ 1       │\n",
       "│ 33                               ┆ 1       │\n",
       "│ 35                               ┆ 1       │\n",
       "│ 37                               ┆ 1       │\n",
       "│ 42                               ┆ 1       │\n",
       "│ 46                               ┆ 1       │\n",
       "└──────────────────────────────────┴─────────┘"
      ]
     },
     "execution_count": 67,
     "metadata": {},
     "output_type": "execute_result"
    }
   ],
   "source": [
    "(sdf\n",
    "    .group_by(\"n_double_mismatches_in_ref_panel\").len()\n",
    "    .sort(\"n_double_mismatches_in_ref_panel\")\n",
    ")"
   ]
  },
  {
   "cell_type": "code",
   "execution_count": 66,
   "id": "46a321b8-e686-4b06-a038-0e05ba73f60f",
   "metadata": {
    "tags": []
   },
   "outputs": [
    {
     "data": {
      "text/html": [
       "<div><style>\n",
       ".dataframe > thead > tr,\n",
       ".dataframe > tbody > tr {\n",
       "  text-align: right;\n",
       "  white-space: pre-wrap;\n",
       "}\n",
       "</style>\n",
       "<small>shape: (108, 2)</small><table border=\"1\" class=\"dataframe\"><thead><tr><th>n_double_mismatches_hot_in_ref_panel</th><th>len</th></tr><tr><td>u32</td><td>u32</td></tr></thead><tbody><tr><td>42</td><td>23</td></tr><tr><td>0</td><td>3905549</td></tr><tr><td>3</td><td>104728</td></tr><tr><td>15</td><td>1441</td></tr><tr><td>21</td><td>271</td></tr><tr><td>45</td><td>9</td></tr><tr><td>39</td><td>35</td></tr><tr><td>6</td><td>29259</td></tr><tr><td>30</td><td>51</td></tr><tr><td>9</td><td>10429</td></tr><tr><td>33</td><td>40</td></tr><tr><td>24</td><td>139</td></tr><tr><td>12</td><td>3881</td></tr><tr><td>18</td><td>582</td></tr><tr><td>27</td><td>76</td></tr><tr><td>36</td><td>31</td></tr><tr><td>48</td><td>11</td></tr><tr><td>84</td><td>1</td></tr><tr><td>63</td><td>1</td></tr><tr><td>51</td><td>11</td></tr><tr><td>81</td><td>2</td></tr><tr><td>93</td><td>1</td></tr><tr><td>69</td><td>3</td></tr><tr><td>96</td><td>1</td></tr><tr><td>197</td><td>1</td></tr><tr><td>87</td><td>3</td></tr><tr><td>78</td><td>2</td></tr><tr><td>57</td><td>3</td></tr><tr><td>54</td><td>5</td></tr><tr><td>60</td><td>7</td></tr><tr><td>66</td><td>1</td></tr><tr><td>75</td><td>1</td></tr><tr><td>105</td><td>1</td></tr><tr><td>1</td><td>438368</td></tr><tr><td>13</td><td>2718</td></tr><tr><td>4</td><td>65357</td></tr><tr><td>141</td><td>1</td></tr><tr><td>7</td><td>20553</td></tr><tr><td>10</td><td>7522</td></tr><tr><td>16</td><td>1134</td></tr><tr><td>153</td><td>2</td></tr><tr><td>52</td><td>6</td></tr><tr><td>22</td><td>220</td></tr><tr><td>43</td><td>12</td></tr><tr><td>31</td><td>60</td></tr><tr><td>58</td><td>6</td></tr><tr><td>61</td><td>2</td></tr><tr><td>19</td><td>472</td></tr><tr><td>49</td><td>11</td></tr><tr><td>28</td><td>70</td></tr><tr><td>195</td><td>1</td></tr><tr><td>34</td><td>31</td></tr><tr><td>171</td><td>1</td></tr><tr><td>55</td><td>3</td></tr><tr><td>46</td><td>9</td></tr><tr><td>37</td><td>29</td></tr><tr><td>40</td><td>22</td></tr><tr><td>25</td><td>120</td></tr><tr><td>91</td><td>1</td></tr><tr><td>79</td><td>1</td></tr><tr><td>88</td><td>2</td></tr><tr><td>67</td><td>2</td></tr><tr><td>97</td><td>2</td></tr><tr><td>73</td><td>2</td></tr><tr><td>85</td><td>1</td></tr><tr><td>100</td><td>1</td></tr><tr><td>82</td><td>1</td></tr><tr><td>76</td><td>1</td></tr><tr><td>94</td><td>1</td></tr><tr><td>20</td><td>340</td></tr><tr><td>29</td><td>63</td></tr><tr><td>32</td><td>39</td></tr><tr><td>23</td><td>185</td></tr><tr><td>124</td><td>1</td></tr><tr><td>160</td><td>1</td></tr><tr><td>154</td><td>1</td></tr><tr><td>17</td><td>819</td></tr><tr><td>14</td><td>2137</td></tr><tr><td>2</td><td>185925</td></tr><tr><td>11</td><td>5285</td></tr><tr><td>26</td><td>101</td></tr><tr><td>8</td><td>14460</td></tr><tr><td>5</td><td>43096</td></tr><tr><td>184</td><td>1</td></tr><tr><td>56</td><td>4</td></tr><tr><td>50</td><td>5</td></tr><tr><td>59</td><td>4</td></tr><tr><td>65</td><td>1</td></tr><tr><td>41</td><td>20</td></tr><tr><td>172</td><td>2</td></tr><tr><td>71</td><td>2</td></tr><tr><td>53</td><td>7</td></tr><tr><td>35</td><td>30</td></tr><tr><td>44</td><td>14</td></tr><tr><td>199</td><td>1</td></tr><tr><td>38</td><td>22</td></tr><tr><td>47</td><td>10</td></tr><tr><td>62</td><td>5</td></tr><tr><td>80</td><td>1</td></tr><tr><td>193</td><td>1</td></tr><tr><td>74</td><td>2</td></tr><tr><td>110</td><td>1</td></tr><tr><td>101</td><td>1</td></tr><tr><td>89</td><td>2</td></tr><tr><td>104</td><td>1</td></tr><tr><td>98</td><td>1</td></tr><tr><td>116</td><td>1</td></tr><tr><td>122</td><td>1</td></tr></tbody></table></div>"
      ],
      "text/plain": [
       "shape: (108, 2)\n",
       "┌──────────────────────────────────────┬─────────┐\n",
       "│ n_double_mismatches_hot_in_ref_panel ┆ len     │\n",
       "│ ---                                  ┆ ---     │\n",
       "│ u32                                  ┆ u32     │\n",
       "╞══════════════════════════════════════╪═════════╡\n",
       "│ 42                                   ┆ 23      │\n",
       "│ 0                                    ┆ 3905549 │\n",
       "│ 3                                    ┆ 104728  │\n",
       "│ 15                                   ┆ 1441    │\n",
       "│ 21                                   ┆ 271     │\n",
       "│ 45                                   ┆ 9       │\n",
       "│ 39                                   ┆ 35      │\n",
       "│ 6                                    ┆ 29259   │\n",
       "│ 30                                   ┆ 51      │\n",
       "│ 9                                    ┆ 10429   │\n",
       "│ 33                                   ┆ 40      │\n",
       "│ 24                                   ┆ 139     │\n",
       "│ 12                                   ┆ 3881    │\n",
       "│ 18                                   ┆ 582     │\n",
       "│ 27                                   ┆ 76      │\n",
       "│ 36                                   ┆ 31      │\n",
       "│ 48                                   ┆ 11      │\n",
       "│ 84                                   ┆ 1       │\n",
       "│ 63                                   ┆ 1       │\n",
       "│ 51                                   ┆ 11      │\n",
       "│ 81                                   ┆ 2       │\n",
       "│ 93                                   ┆ 1       │\n",
       "│ 69                                   ┆ 3       │\n",
       "│ 96                                   ┆ 1       │\n",
       "│ 197                                  ┆ 1       │\n",
       "│ 87                                   ┆ 3       │\n",
       "│ 78                                   ┆ 2       │\n",
       "│ 57                                   ┆ 3       │\n",
       "│ 54                                   ┆ 5       │\n",
       "│ 60                                   ┆ 7       │\n",
       "│ 66                                   ┆ 1       │\n",
       "│ 75                                   ┆ 1       │\n",
       "│ 105                                  ┆ 1       │\n",
       "│ 1                                    ┆ 438368  │\n",
       "│ 13                                   ┆ 2718    │\n",
       "│ 4                                    ┆ 65357   │\n",
       "│ 141                                  ┆ 1       │\n",
       "│ 7                                    ┆ 20553   │\n",
       "│ 10                                   ┆ 7522    │\n",
       "│ 16                                   ┆ 1134    │\n",
       "│ 153                                  ┆ 2       │\n",
       "│ 52                                   ┆ 6       │\n",
       "│ 22                                   ┆ 220     │\n",
       "│ 43                                   ┆ 12      │\n",
       "│ 31                                   ┆ 60      │\n",
       "│ 58                                   ┆ 6       │\n",
       "│ 61                                   ┆ 2       │\n",
       "│ 19                                   ┆ 472     │\n",
       "│ 49                                   ┆ 11      │\n",
       "│ 28                                   ┆ 70      │\n",
       "│ 195                                  ┆ 1       │\n",
       "│ 34                                   ┆ 31      │\n",
       "│ 171                                  ┆ 1       │\n",
       "│ 55                                   ┆ 3       │\n",
       "│ 46                                   ┆ 9       │\n",
       "│ 37                                   ┆ 29      │\n",
       "│ 40                                   ┆ 22      │\n",
       "│ 25                                   ┆ 120     │\n",
       "│ 91                                   ┆ 1       │\n",
       "│ 79                                   ┆ 1       │\n",
       "│ 88                                   ┆ 2       │\n",
       "│ 67                                   ┆ 2       │\n",
       "│ 97                                   ┆ 2       │\n",
       "│ 73                                   ┆ 2       │\n",
       "│ 85                                   ┆ 1       │\n",
       "│ 100                                  ┆ 1       │\n",
       "│ 82                                   ┆ 1       │\n",
       "│ 76                                   ┆ 1       │\n",
       "│ 94                                   ┆ 1       │\n",
       "│ 20                                   ┆ 340     │\n",
       "│ 29                                   ┆ 63      │\n",
       "│ 32                                   ┆ 39      │\n",
       "│ 23                                   ┆ 185     │\n",
       "│ 124                                  ┆ 1       │\n",
       "│ 160                                  ┆ 1       │\n",
       "│ 154                                  ┆ 1       │\n",
       "│ 17                                   ┆ 819     │\n",
       "│ 14                                   ┆ 2137    │\n",
       "│ 2                                    ┆ 185925  │\n",
       "│ 11                                   ┆ 5285    │\n",
       "│ 26                                   ┆ 101     │\n",
       "│ 8                                    ┆ 14460   │\n",
       "│ 5                                    ┆ 43096   │\n",
       "│ 184                                  ┆ 1       │\n",
       "│ 56                                   ┆ 4       │\n",
       "│ 50                                   ┆ 5       │\n",
       "│ 59                                   ┆ 4       │\n",
       "│ 65                                   ┆ 1       │\n",
       "│ 41                                   ┆ 20      │\n",
       "│ 172                                  ┆ 2       │\n",
       "│ 71                                   ┆ 2       │\n",
       "│ 53                                   ┆ 7       │\n",
       "│ 35                                   ┆ 30      │\n",
       "│ 44                                   ┆ 14      │\n",
       "│ 199                                  ┆ 1       │\n",
       "│ 38                                   ┆ 22      │\n",
       "│ 47                                   ┆ 10      │\n",
       "│ 62                                   ┆ 5       │\n",
       "│ 80                                   ┆ 1       │\n",
       "│ 193                                  ┆ 1       │\n",
       "│ 74                                   ┆ 2       │\n",
       "│ 110                                  ┆ 1       │\n",
       "│ 101                                  ┆ 1       │\n",
       "│ 89                                   ┆ 2       │\n",
       "│ 104                                  ┆ 1       │\n",
       "│ 98                                   ┆ 1       │\n",
       "│ 116                                  ┆ 1       │\n",
       "│ 122                                  ┆ 1       │\n",
       "└──────────────────────────────────────┴─────────┘"
      ]
     },
     "execution_count": 66,
     "metadata": {},
     "output_type": "execute_result"
    }
   ],
   "source": [
    "(sdf\n",
    "    .group_by(\"n_double_mismatches_hot_in_ref_panel\").len()\n",
    ")"
   ]
  },
  {
   "cell_type": "code",
   "execution_count": null,
   "id": "9c28db41-f16a-4fe1-8e73-c8759fdaefd0",
   "metadata": {},
   "outputs": [],
   "source": []
  },
  {
   "cell_type": "code",
   "execution_count": 64,
   "id": "5b5df71d-804a-4f63-b15b-1aca85d93664",
   "metadata": {
    "tags": []
   },
   "outputs": [
    {
     "data": {
      "text/plain": [
       "4845937"
      ]
     },
     "execution_count": 64,
     "metadata": {},
     "output_type": "execute_result"
    }
   ],
   "source": [
    "len(sdf)"
   ]
  },
  {
   "cell_type": "code",
   "execution_count": null,
   "id": "85ffe5c1-0197-48df-b093-507a85fee309",
   "metadata": {},
   "outputs": [],
   "source": []
  },
  {
   "cell_type": "code",
   "execution_count": 40,
   "id": "56998414-6d0b-4077-acc8-82debb3a919c",
   "metadata": {
    "tags": []
   },
   "outputs": [
    {
     "data": {
      "text/html": [
       "<div><style>\n",
       ".dataframe > thead > tr,\n",
       ".dataframe > tbody > tr {\n",
       "  text-align: right;\n",
       "  white-space: pre-wrap;\n",
       "}\n",
       "</style>\n",
       "<small>shape: (5, 62)</small><table border=\"1\" class=\"dataframe\"><thead><tr><th>start</th><th>end</th><th>length</th><th>op1</th><th>op2</th><th>ref1_start</th><th>ref1_end</th><th>ref1_gap</th><th>ref2_start</th><th>ref2_end</th><th>ref2_gap</th><th>cigar_ptr1</th><th>cigar_ptr2</th><th>read_name</th><th>read_length1</th><th>read_length2</th><th>is_forward1</th><th>mapq1</th><th>ref1_name</th><th>qual_start1</th><th>refseq_start1</th><th>is_forward2</th><th>mapq2</th><th>ref2_name</th><th>qual_start2</th><th>refseq_start2</th><th>total_mismatches</th><th>total_common_insertions</th><th>num_common_insertions</th><th>num_common_deletions</th><th>total_clipping</th><th>num_clipping</th><th>is_snp</th><th>is_two_sided_mismatch</th><th>is_interesting_event</th><th>is_flanked_event</th><th>fits1_more</th><th>trf_repeat_length_hap1</th><th>trf_n_copies_hap1</th><th>trf_repeat_length_hap2</th><th>trf_n_copies_hap2</th><th>sdust_repeat_length_hap1</th><th>sdust_repeat_length_hap2</th><th>is_high_conf_event</th><th>is_high_conf_snp</th><th>is_mid_conf_event</th><th>is_mid_conf_snp</th><th>hap1_certainty_0.95_coverage</th><th>hap2_certainty_0.95_coverage</th><th>hap1_total_coverage</th><th>hap2_total_coverage</th><th>allele_coverage_hap1</th><th>allele_coverage_hap2</th><th>hap_certainty_0.95_coverage_balance_p</th><th>allele_coverage_balance_p</th><th>is_high_quality_event</th><th>is_high_quality_snp</th><th>is_mid_quality_event</th><th>is_mid_quality_snp</th><th>sample_id</th><th>flow_cell</th><th>flow_cell_type</th></tr><tr><td>i64</td><td>i64</td><td>i64</td><td>i64</td><td>i64</td><td>i64</td><td>i64</td><td>i64</td><td>i64</td><td>i64</td><td>i64</td><td>i64</td><td>i64</td><td>str</td><td>i32</td><td>i32</td><td>bool</td><td>i32</td><td>str</td><td>u8</td><td>str</td><td>bool</td><td>i32</td><td>str</td><td>u8</td><td>str</td><td>i64</td><td>i64</td><td>u32</td><td>u32</td><td>i64</td><td>u32</td><td>bool</td><td>bool</td><td>bool</td><td>bool</td><td>i32</td><td>i64</td><td>f64</td><td>i64</td><td>f64</td><td>i32</td><td>i32</td><td>bool</td><td>bool</td><td>bool</td><td>bool</td><td>i64</td><td>i64</td><td>i64</td><td>i64</td><td>u32</td><td>u32</td><td>f64</td><td>f64</td><td>bool</td><td>bool</td><td>bool</td><td>bool</td><td>str</td><td>str</td><td>str</td></tr></thead><tbody><tr><td>2043</td><td>2044</td><td>1</td><td>7</td><td>8</td><td>114538532</td><td>114538533</td><td>1</td><td>114820850</td><td>114820851</td><td>1</td><td>0</td><td>3</td><td>&quot;m84047_240928_151025_s3/89981482/ccs&quot;</td><td>16700</td><td>16700</td><td>true</td><td>60</td><td>&quot;chr5_RagTag&quot;</td><td>74</td><td>&quot;C&quot;</td><td>true</td><td>60</td><td>&quot;chr5_RagTag&quot;</td><td>74</td><td>&quot;T&quot;</td><td>0</td><td>3</td><td>3</td><td>4</td><td>2</td><td>1</td><td>true</td><td>false</td><td>true</td><td>true</td><td>1</td><td>0</td><td>0.0</td><td>0</td><td>0.0</td><td>0</td><td>0</td><td>true</td><td>true</td><td>true</td><td>true</td><td>85</td><td>87</td><td>173</td><td>172</td><td>76</td><td>75</td><td>0.93925</td><td>1.0</td><td>false</td><td>false</td><td>false</td><td>false</td><td>&quot;PD50523b&quot;</td><td>&quot;m84047_240928_151025_s3&quot;</td><td>&quot;revio_unbinned&quot;</td></tr><tr><td>2371</td><td>2372</td><td>1</td><td>7</td><td>8</td><td>114538860</td><td>114538861</td><td>1</td><td>114821178</td><td>114821179</td><td>1</td><td>0</td><td>5</td><td>&quot;m84047_240928_151025_s3/89981482/ccs&quot;</td><td>16700</td><td>16700</td><td>true</td><td>60</td><td>&quot;chr5_RagTag&quot;</td><td>65</td><td>&quot;C&quot;</td><td>true</td><td>60</td><td>&quot;chr5_RagTag&quot;</td><td>65</td><td>&quot;T&quot;</td><td>0</td><td>3</td><td>3</td><td>4</td><td>2</td><td>1</td><td>true</td><td>false</td><td>true</td><td>true</td><td>1</td><td>0</td><td>0.0</td><td>0</td><td>0.0</td><td>0</td><td>0</td><td>true</td><td>true</td><td>true</td><td>true</td><td>86</td><td>86</td><td>172</td><td>173</td><td>87</td><td>81</td><td>1.0</td><td>0.699797</td><td>false</td><td>false</td><td>false</td><td>false</td><td>&quot;PD50523b&quot;</td><td>&quot;m84047_240928_151025_s3&quot;</td><td>&quot;revio_unbinned&quot;</td></tr><tr><td>3513</td><td>3514</td><td>1</td><td>7</td><td>8</td><td>114540003</td><td>114540004</td><td>1</td><td>114822321</td><td>114822322</td><td>1</td><td>2</td><td>9</td><td>&quot;m84047_240928_151025_s3/89981482/ccs&quot;</td><td>16700</td><td>16700</td><td>true</td><td>60</td><td>&quot;chr5_RagTag&quot;</td><td>93</td><td>&quot;C&quot;</td><td>true</td><td>60</td><td>&quot;chr5_RagTag&quot;</td><td>93</td><td>&quot;T&quot;</td><td>0</td><td>3</td><td>3</td><td>4</td><td>2</td><td>1</td><td>true</td><td>false</td><td>true</td><td>true</td><td>1</td><td>0</td><td>0.0</td><td>0</td><td>0.0</td><td>0</td><td>0</td><td>true</td><td>true</td><td>true</td><td>true</td><td>88</td><td>83</td><td>172</td><td>172</td><td>89</td><td>79</td><td>0.759794</td><td>0.487567</td><td>true</td><td>true</td><td>true</td><td>true</td><td>&quot;PD50523b&quot;</td><td>&quot;m84047_240928_151025_s3&quot;</td><td>&quot;revio_unbinned&quot;</td></tr><tr><td>3656</td><td>3657</td><td>1</td><td>7</td><td>8</td><td>114540147</td><td>114540148</td><td>1</td><td>114822465</td><td>114822466</td><td>1</td><td>4</td><td>13</td><td>&quot;m84047_240928_151025_s3/89981482/ccs&quot;</td><td>16700</td><td>16700</td><td>true</td><td>60</td><td>&quot;chr5_RagTag&quot;</td><td>60</td><td>&quot;C&quot;</td><td>true</td><td>60</td><td>&quot;chr5_RagTag&quot;</td><td>60</td><td>&quot;A&quot;</td><td>0</td><td>3</td><td>3</td><td>4</td><td>2</td><td>1</td><td>true</td><td>false</td><td>true</td><td>true</td><td>1</td><td>0</td><td>0.0</td><td>0</td><td>0.0</td><td>0</td><td>0</td><td>true</td><td>true</td><td>true</td><td>true</td><td>89</td><td>83</td><td>173</td><td>173</td><td>84</td><td>77</td><td>0.703139</td><td>0.636446</td><td>true</td><td>true</td><td>true</td><td>true</td><td>&quot;PD50523b&quot;</td><td>&quot;m84047_240928_151025_s3&quot;</td><td>&quot;revio_unbinned&quot;</td></tr><tr><td>3913</td><td>3914</td><td>1</td><td>7</td><td>8</td><td>114540404</td><td>114540405</td><td>1</td><td>114822722</td><td>114822723</td><td>1</td><td>4</td><td>15</td><td>&quot;m84047_240928_151025_s3/89981482/ccs&quot;</td><td>16700</td><td>16700</td><td>true</td><td>60</td><td>&quot;chr5_RagTag&quot;</td><td>34</td><td>&quot;C&quot;</td><td>true</td><td>60</td><td>&quot;chr5_RagTag&quot;</td><td>34</td><td>&quot;A&quot;</td><td>0</td><td>3</td><td>3</td><td>4</td><td>2</td><td>1</td><td>true</td><td>false</td><td>true</td><td>true</td><td>1</td><td>0</td><td>0.0</td><td>0</td><td>0.0</td><td>0</td><td>0</td><td>false</td><td>false</td><td>true</td><td>true</td><td>86</td><td>82</td><td>169</td><td>168</td><td>86</td><td>76</td><td>0.817046</td><td>0.479615</td><td>false</td><td>false</td><td>false</td><td>false</td><td>&quot;PD50523b&quot;</td><td>&quot;m84047_240928_151025_s3&quot;</td><td>&quot;revio_unbinned&quot;</td></tr></tbody></table></div>"
      ],
      "text/plain": [
       "shape: (5, 62)\n",
       "┌───────┬──────┬────────┬─────┬───┬─────────────────┬───────────┬─────────────────┬────────────────┐\n",
       "│ start ┆ end  ┆ length ┆ op1 ┆ … ┆ is_mid_quality_ ┆ sample_id ┆ flow_cell       ┆ flow_cell_type │\n",
       "│ ---   ┆ ---  ┆ ---    ┆ --- ┆   ┆ snp             ┆ ---       ┆ ---             ┆ ---            │\n",
       "│ i64   ┆ i64  ┆ i64    ┆ i64 ┆   ┆ ---             ┆ str       ┆ str             ┆ str            │\n",
       "│       ┆      ┆        ┆     ┆   ┆ bool            ┆           ┆                 ┆                │\n",
       "╞═══════╪══════╪════════╪═════╪═══╪═════════════════╪═══════════╪═════════════════╪════════════════╡\n",
       "│ 2043  ┆ 2044 ┆ 1      ┆ 7   ┆ … ┆ false           ┆ PD50523b  ┆ m84047_240928_1 ┆ revio_unbinned │\n",
       "│       ┆      ┆        ┆     ┆   ┆                 ┆           ┆ 51025_s3        ┆                │\n",
       "│ 2371  ┆ 2372 ┆ 1      ┆ 7   ┆ … ┆ false           ┆ PD50523b  ┆ m84047_240928_1 ┆ revio_unbinned │\n",
       "│       ┆      ┆        ┆     ┆   ┆                 ┆           ┆ 51025_s3        ┆                │\n",
       "│ 3513  ┆ 3514 ┆ 1      ┆ 7   ┆ … ┆ true            ┆ PD50523b  ┆ m84047_240928_1 ┆ revio_unbinned │\n",
       "│       ┆      ┆        ┆     ┆   ┆                 ┆           ┆ 51025_s3        ┆                │\n",
       "│ 3656  ┆ 3657 ┆ 1      ┆ 7   ┆ … ┆ true            ┆ PD50523b  ┆ m84047_240928_1 ┆ revio_unbinned │\n",
       "│       ┆      ┆        ┆     ┆   ┆                 ┆           ┆ 51025_s3        ┆                │\n",
       "│ 3913  ┆ 3914 ┆ 1      ┆ 7   ┆ … ┆ false           ┆ PD50523b  ┆ m84047_240928_1 ┆ revio_unbinned │\n",
       "│       ┆      ┆        ┆     ┆   ┆                 ┆           ┆ 51025_s3        ┆                │\n",
       "└───────┴──────┴────────┴─────┴───┴─────────────────┴───────────┴─────────────────┴────────────────┘"
      ]
     },
     "execution_count": 40,
     "metadata": {},
     "output_type": "execute_result"
    }
   ],
   "source": [
    "ann_snps_df.head()"
   ]
  },
  {
   "cell_type": "code",
   "execution_count": 51,
   "id": "03e1fdb1-f515-498a-8379-f4fc0f03b4c1",
   "metadata": {
    "tags": []
   },
   "outputs": [
    {
     "data": {
      "text/html": [
       "<div><style>\n",
       ".dataframe > thead > tr,\n",
       ".dataframe > tbody > tr {\n",
       "  text-align: right;\n",
       "  white-space: pre-wrap;\n",
       "}\n",
       "</style>\n",
       "<small>shape: (7, 62)</small><table border=\"1\" class=\"dataframe\"><thead><tr><th>start</th><th>end</th><th>length</th><th>op1</th><th>op2</th><th>ref1_start</th><th>ref1_end</th><th>ref1_gap</th><th>ref2_start</th><th>ref2_end</th><th>ref2_gap</th><th>cigar_ptr1</th><th>cigar_ptr2</th><th>read_name</th><th>read_length1</th><th>read_length2</th><th>is_forward1</th><th>mapq1</th><th>ref1_name</th><th>qual_start1</th><th>refseq_start1</th><th>is_forward2</th><th>mapq2</th><th>ref2_name</th><th>qual_start2</th><th>refseq_start2</th><th>total_mismatches</th><th>total_common_insertions</th><th>num_common_insertions</th><th>num_common_deletions</th><th>total_clipping</th><th>num_clipping</th><th>is_snp</th><th>is_two_sided_mismatch</th><th>is_interesting_event</th><th>is_flanked_event</th><th>fits1_more</th><th>trf_repeat_length_hap1</th><th>trf_n_copies_hap1</th><th>trf_repeat_length_hap2</th><th>trf_n_copies_hap2</th><th>sdust_repeat_length_hap1</th><th>sdust_repeat_length_hap2</th><th>is_high_conf_event</th><th>is_high_conf_snp</th><th>is_mid_conf_event</th><th>is_mid_conf_snp</th><th>hap1_certainty_0.95_coverage</th><th>hap2_certainty_0.95_coverage</th><th>hap1_total_coverage</th><th>hap2_total_coverage</th><th>allele_coverage_hap1</th><th>allele_coverage_hap2</th><th>hap_certainty_0.95_coverage_balance_p</th><th>allele_coverage_balance_p</th><th>is_high_quality_event</th><th>is_high_quality_snp</th><th>is_mid_quality_event</th><th>is_mid_quality_snp</th><th>sample_id</th><th>flow_cell</th><th>flow_cell_type</th></tr><tr><td>i64</td><td>i64</td><td>i64</td><td>i64</td><td>i64</td><td>i64</td><td>i64</td><td>i64</td><td>i64</td><td>i64</td><td>i64</td><td>i64</td><td>i64</td><td>str</td><td>i32</td><td>i32</td><td>bool</td><td>i32</td><td>str</td><td>u8</td><td>str</td><td>bool</td><td>i32</td><td>str</td><td>u8</td><td>str</td><td>i64</td><td>i64</td><td>u32</td><td>u32</td><td>i64</td><td>u32</td><td>bool</td><td>bool</td><td>bool</td><td>bool</td><td>i32</td><td>i64</td><td>f64</td><td>i64</td><td>f64</td><td>i32</td><td>i32</td><td>bool</td><td>bool</td><td>bool</td><td>bool</td><td>i64</td><td>i64</td><td>i64</td><td>i64</td><td>u32</td><td>u32</td><td>f64</td><td>f64</td><td>bool</td><td>bool</td><td>bool</td><td>bool</td><td>str</td><td>str</td><td>str</td></tr></thead><tbody><tr><td>434</td><td>435</td><td>1</td><td>7</td><td>8</td><td>22985234</td><td>22985235</td><td>1</td><td>27631588</td><td>27631589</td><td>1</td><td>0</td><td>3</td><td>&quot;m84047_240928_151025_s3/143659111/ccs&quot;</td><td>5695</td><td>5695</td><td>false</td><td>60</td><td>&quot;chr22_RagTag&quot;</td><td>60</td><td>&quot;T&quot;</td><td>false</td><td>60</td><td>&quot;chr22_RagTag&quot;</td><td>60</td><td>&quot;C&quot;</td><td>0</td><td>1</td><td>1</td><td>14</td><td>0</td><td>0</td><td>true</td><td>false</td><td>true</td><td>true</td><td>1</td><td>0</td><td>0.0</td><td>0</td><td>0.0</td><td>0</td><td>0</td><td>true</td><td>true</td><td>true</td><td>true</td><td>59</td><td>55</td><td>114</td><td>114</td><td>58</td><td>50</td><td>0.778876</td><td>0.500766</td><td>true</td><td>true</td><td>true</td><td>true</td><td>&quot;PD50523b&quot;</td><td>&quot;m84047_240928_151025_s3&quot;</td><td>&quot;revio_unbinned&quot;</td></tr><tr><td>1027</td><td>1028</td><td>1</td><td>7</td><td>8</td><td>22985833</td><td>22985834</td><td>1</td><td>27632187</td><td>27632188</td><td>1</td><td>12</td><td>17</td><td>&quot;m84047_240928_151025_s3/143659111/ccs&quot;</td><td>5695</td><td>5695</td><td>false</td><td>60</td><td>&quot;chr22_RagTag&quot;</td><td>50</td><td>&quot;T&quot;</td><td>false</td><td>60</td><td>&quot;chr22_RagTag&quot;</td><td>50</td><td>&quot;C&quot;</td><td>0</td><td>1</td><td>1</td><td>14</td><td>0</td><td>0</td><td>true</td><td>false</td><td>true</td><td>true</td><td>1</td><td>0</td><td>0.0</td><td>0</td><td>0.0</td><td>0</td><td>0</td><td>false</td><td>false</td><td>true</td><td>true</td><td>62</td><td>56</td><td>118</td><td>118</td><td>61</td><td>53</td><td>0.645497</td><td>0.512255</td><td>false</td><td>false</td><td>true</td><td>true</td><td>&quot;PD50523b&quot;</td><td>&quot;m84047_240928_151025_s3&quot;</td><td>&quot;revio_unbinned&quot;</td></tr><tr><td>1947</td><td>1948</td><td>1</td><td>7</td><td>8</td><td>22986756</td><td>22986757</td><td>1</td><td>27633108</td><td>27633109</td><td>1</td><td>18</td><td>25</td><td>&quot;m84047_240928_151025_s3/143659111/ccs&quot;</td><td>5695</td><td>5695</td><td>false</td><td>60</td><td>&quot;chr22_RagTag&quot;</td><td>77</td><td>&quot;T&quot;</td><td>false</td><td>60</td><td>&quot;chr22_RagTag&quot;</td><td>77</td><td>&quot;C&quot;</td><td>0</td><td>1</td><td>1</td><td>14</td><td>0</td><td>0</td><td>true</td><td>false</td><td>true</td><td>true</td><td>1</td><td>0</td><td>0.0</td><td>0</td><td>0.0</td><td>0</td><td>0</td><td>true</td><td>true</td><td>true</td><td>true</td><td>61</td><td>61</td><td>122</td><td>122</td><td>58</td><td>55</td><td>1.0</td><td>0.85087</td><td>true</td><td>true</td><td>true</td><td>true</td><td>&quot;PD50523b&quot;</td><td>&quot;m84047_240928_151025_s3&quot;</td><td>&quot;revio_unbinned&quot;</td></tr><tr><td>2184</td><td>2185</td><td>1</td><td>7</td><td>8</td><td>22986993</td><td>22986994</td><td>1</td><td>27633344</td><td>27633345</td><td>1</td><td>22</td><td>31</td><td>&quot;m84047_240928_151025_s3/143659111/ccs&quot;</td><td>5695</td><td>5695</td><td>false</td><td>60</td><td>&quot;chr22_RagTag&quot;</td><td>36</td><td>&quot;G&quot;</td><td>false</td><td>60</td><td>&quot;chr22_RagTag&quot;</td><td>36</td><td>&quot;A&quot;</td><td>0</td><td>1</td><td>1</td><td>14</td><td>0</td><td>0</td><td>true</td><td>false</td><td>true</td><td>true</td><td>1</td><td>0</td><td>0.0</td><td>0</td><td>0.0</td><td>0</td><td>0</td><td>false</td><td>false</td><td>true</td><td>true</td><td>63</td><td>62</td><td>125</td><td>125</td><td>64</td><td>59</td><td>1.0</td><td>0.718509</td><td>false</td><td>false</td><td>true</td><td>true</td><td>&quot;PD50523b&quot;</td><td>&quot;m84047_240928_151025_s3&quot;</td><td>&quot;revio_unbinned&quot;</td></tr><tr><td>3063</td><td>3064</td><td>1</td><td>7</td><td>8</td><td>22987874</td><td>22987875</td><td>1</td><td>27634222</td><td>27634223</td><td>1</td><td>26</td><td>37</td><td>&quot;m84047_240928_151025_s3/143659111/ccs&quot;</td><td>5695</td><td>5695</td><td>false</td><td>60</td><td>&quot;chr22_RagTag&quot;</td><td>38</td><td>&quot;T&quot;</td><td>false</td><td>60</td><td>&quot;chr22_RagTag&quot;</td><td>38</td><td>&quot;C&quot;</td><td>0</td><td>1</td><td>1</td><td>14</td><td>0</td><td>0</td><td>true</td><td>false</td><td>true</td><td>true</td><td>1</td><td>0</td><td>0.0</td><td>0</td><td>0.0</td><td>0</td><td>1</td><td>false</td><td>false</td><td>false</td><td>false</td><td>62</td><td>60</td><td>122</td><td>121</td><td>61</td><td>58</td><td>0.927911</td><td>0.85463</td><td>false</td><td>false</td><td>false</td><td>false</td><td>&quot;PD50523b&quot;</td><td>&quot;m84047_240928_151025_s3&quot;</td><td>&quot;revio_unbinned&quot;</td></tr><tr><td>4472</td><td>4473</td><td>1</td><td>7</td><td>8</td><td>22989286</td><td>22989287</td><td>1</td><td>27635643</td><td>27635644</td><td>1</td><td>34</td><td>49</td><td>&quot;m84047_240928_151025_s3/143659111/ccs&quot;</td><td>5695</td><td>5695</td><td>false</td><td>60</td><td>&quot;chr22_RagTag&quot;</td><td>63</td><td>&quot;A&quot;</td><td>false</td><td>60</td><td>&quot;chr22_RagTag&quot;</td><td>63</td><td>&quot;G&quot;</td><td>0</td><td>1</td><td>1</td><td>14</td><td>0</td><td>0</td><td>true</td><td>false</td><td>true</td><td>true</td><td>1</td><td>0</td><td>0.0</td><td>0</td><td>0.0</td><td>0</td><td>0</td><td>true</td><td>true</td><td>true</td><td>true</td><td>57</td><td>59</td><td>116</td><td>116</td><td>57</td><td>58</td><td>0.926078</td><td>1.0</td><td>true</td><td>true</td><td>true</td><td>true</td><td>&quot;PD50523b&quot;</td><td>&quot;m84047_240928_151025_s3&quot;</td><td>&quot;revio_unbinned&quot;</td></tr><tr><td>4824</td><td>4825</td><td>1</td><td>7</td><td>8</td><td>22989638</td><td>22989639</td><td>1</td><td>27635995</td><td>27635996</td><td>1</td><td>34</td><td>51</td><td>&quot;m84047_240928_151025_s3/143659111/ccs&quot;</td><td>5695</td><td>5695</td><td>false</td><td>60</td><td>&quot;chr22_RagTag&quot;</td><td>35</td><td>&quot;G&quot;</td><td>false</td><td>60</td><td>&quot;chr22_RagTag&quot;</td><td>35</td><td>&quot;C&quot;</td><td>0</td><td>1</td><td>1</td><td>14</td><td>0</td><td>0</td><td>true</td><td>false</td><td>true</td><td>true</td><td>1</td><td>0</td><td>0.0</td><td>0</td><td>0.0</td><td>0</td><td>0</td><td>false</td><td>false</td><td>true</td><td>true</td><td>60</td><td>57</td><td>116</td><td>116</td><td>57</td><td>55</td><td>0.853408</td><td>0.924775</td><td>false</td><td>false</td><td>true</td><td>true</td><td>&quot;PD50523b&quot;</td><td>&quot;m84047_240928_151025_s3&quot;</td><td>&quot;revio_unbinned&quot;</td></tr></tbody></table></div>"
      ],
      "text/plain": [
       "shape: (7, 62)\n",
       "┌───────┬──────┬────────┬─────┬───┬─────────────────┬───────────┬─────────────────┬────────────────┐\n",
       "│ start ┆ end  ┆ length ┆ op1 ┆ … ┆ is_mid_quality_ ┆ sample_id ┆ flow_cell       ┆ flow_cell_type │\n",
       "│ ---   ┆ ---  ┆ ---    ┆ --- ┆   ┆ snp             ┆ ---       ┆ ---             ┆ ---            │\n",
       "│ i64   ┆ i64  ┆ i64    ┆ i64 ┆   ┆ ---             ┆ str       ┆ str             ┆ str            │\n",
       "│       ┆      ┆        ┆     ┆   ┆ bool            ┆           ┆                 ┆                │\n",
       "╞═══════╪══════╪════════╪═════╪═══╪═════════════════╪═══════════╪═════════════════╪════════════════╡\n",
       "│ 434   ┆ 435  ┆ 1      ┆ 7   ┆ … ┆ true            ┆ PD50523b  ┆ m84047_240928_1 ┆ revio_unbinned │\n",
       "│       ┆      ┆        ┆     ┆   ┆                 ┆           ┆ 51025_s3        ┆                │\n",
       "│ 1027  ┆ 1028 ┆ 1      ┆ 7   ┆ … ┆ true            ┆ PD50523b  ┆ m84047_240928_1 ┆ revio_unbinned │\n",
       "│       ┆      ┆        ┆     ┆   ┆                 ┆           ┆ 51025_s3        ┆                │\n",
       "│ 1947  ┆ 1948 ┆ 1      ┆ 7   ┆ … ┆ true            ┆ PD50523b  ┆ m84047_240928_1 ┆ revio_unbinned │\n",
       "│       ┆      ┆        ┆     ┆   ┆                 ┆           ┆ 51025_s3        ┆                │\n",
       "│ 2184  ┆ 2185 ┆ 1      ┆ 7   ┆ … ┆ true            ┆ PD50523b  ┆ m84047_240928_1 ┆ revio_unbinned │\n",
       "│       ┆      ┆        ┆     ┆   ┆                 ┆           ┆ 51025_s3        ┆                │\n",
       "│ 3063  ┆ 3064 ┆ 1      ┆ 7   ┆ … ┆ false           ┆ PD50523b  ┆ m84047_240928_1 ┆ revio_unbinned │\n",
       "│       ┆      ┆        ┆     ┆   ┆                 ┆           ┆ 51025_s3        ┆                │\n",
       "│ 4472  ┆ 4473 ┆ 1      ┆ 7   ┆ … ┆ true            ┆ PD50523b  ┆ m84047_240928_1 ┆ revio_unbinned │\n",
       "│       ┆      ┆        ┆     ┆   ┆                 ┆           ┆ 51025_s3        ┆                │\n",
       "│ 4824  ┆ 4825 ┆ 1      ┆ 7   ┆ … ┆ true            ┆ PD50523b  ┆ m84047_240928_1 ┆ revio_unbinned │\n",
       "│       ┆      ┆        ┆     ┆   ┆                 ┆           ┆ 51025_s3        ┆                │\n",
       "└───────┴──────┴────────┴─────┴───┴─────────────────┴───────────┴─────────────────┴────────────────┘"
      ]
     },
     "execution_count": 51,
     "metadata": {},
     "output_type": "execute_result"
    }
   ],
   "source": [
    "(ann_snps_df\n",
    "    .filter(pl.col(\"read_name\") == \"m84047_240928_151025_s3/143659111/ccs\")\n",
    ")"
   ]
  },
  {
   "cell_type": "code",
   "execution_count": 59,
   "id": "ba1387aa-3edb-4a47-8464-75c4298da42e",
   "metadata": {
    "tags": []
   },
   "outputs": [
    {
     "data": {
      "text/html": [
       "<div><style>\n",
       ".dataframe > thead > tr,\n",
       ".dataframe > tbody > tr {\n",
       "  text-align: right;\n",
       "  white-space: pre-wrap;\n",
       "}\n",
       "</style>\n",
       "<small>shape: (24, 6)</small><table border=\"1\" class=\"dataframe\"><thead><tr><th>read_name</th><th>start</th><th>ref_start</th><th>ref_seq</th><th>op</th><th>allele_freq</th></tr><tr><td>str</td><td>i64</td><td>i64</td><td>str</td><td>i64</td><td>f64</td></tr></thead><tbody><tr><td>&quot;m84047_240928_151025_s3/143659111/ccs&quot;</td><td>97</td><td>29494076</td><td>&quot;T&quot;</td><td>7</td><td>0.07</td></tr><tr><td>&quot;m84047_240928_151025_s3/143659111/ccs&quot;</td><td>230</td><td>29494209</td><td>&quot;G&quot;</td><td>7</td><td>0.02</td></tr><tr><td>&quot;m84047_240928_151025_s3/143659111/ccs&quot;</td><td>368</td><td>29494347</td><td>&quot;C&quot;</td><td>7</td><td>0.09</td></tr><tr><td>&quot;m84047_240928_151025_s3/143659111/ccs&quot;</td><td>371</td><td>29494350</td><td>&quot;G&quot;</td><td>7</td><td>0.09</td></tr><tr><td>&quot;m84047_240928_151025_s3/143659111/ccs&quot;</td><td>434</td><td>29494413</td><td>&quot;T&quot;</td><td>7</td><td>0.85</td></tr><tr><td>&quot;m84047_240928_151025_s3/143659111/ccs&quot;</td><td>1027</td><td>29495012</td><td>&quot;T&quot;</td><td>7</td><td>0.85</td></tr><tr><td>&quot;m84047_240928_151025_s3/143659111/ccs&quot;</td><td>1208</td><td>29495193</td><td>&quot;G&quot;</td><td>7</td><td>0.01</td></tr><tr><td>&quot;m84047_240928_151025_s3/143659111/ccs&quot;</td><td>1299</td><td>29495284</td><td>&quot;C&quot;</td><td>7</td><td>0.09</td></tr><tr><td>&quot;m84047_240928_151025_s3/143659111/ccs&quot;</td><td>1574</td><td>29495560</td><td>&quot;T&quot;</td><td>7</td><td>0.07</td></tr><tr><td>&quot;m84047_240928_151025_s3/143659111/ccs&quot;</td><td>1662</td><td>29495648</td><td>&quot;C&quot;</td><td>7</td><td>0.07</td></tr><tr><td>&quot;m84047_240928_151025_s3/143659111/ccs&quot;</td><td>1947</td><td>29495935</td><td>&quot;c&quot;</td><td>8</td><td>0.29</td></tr><tr><td>&quot;m84047_240928_151025_s3/143659111/ccs&quot;</td><td>2055</td><td>29496042</td><td>&quot;A&quot;</td><td>7</td><td>0.26</td></tr><tr><td>&quot;m84047_240928_151025_s3/143659111/ccs&quot;</td><td>2184</td><td>29496172</td><td>&quot;a&quot;</td><td>8</td><td>0.29</td></tr><tr><td>&quot;m84047_240928_151025_s3/143659111/ccs&quot;</td><td>2801</td><td>29496789</td><td>&quot;C&quot;</td><td>7</td><td>0.1</td></tr><tr><td>&quot;m84047_240928_151025_s3/143659111/ccs&quot;</td><td>3056</td><td>29497043</td><td>&quot;A&quot;</td><td>7</td><td>0.1</td></tr><tr><td>&quot;m84047_240928_151025_s3/143659111/ccs&quot;</td><td>3063</td><td>29497050</td><td>&quot;T&quot;</td><td>7</td><td>0.08</td></tr><tr><td>&quot;m84047_240928_151025_s3/143659111/ccs&quot;</td><td>3359</td><td>29497347</td><td>&quot;G&quot;</td><td>7</td><td>0.02</td></tr><tr><td>&quot;m84047_240928_151025_s3/143659111/ccs&quot;</td><td>4232</td><td>29498220</td><td>&quot;A&quot;</td><td>7</td><td>0.1</td></tr><tr><td>&quot;m84047_240928_151025_s3/143659111/ccs&quot;</td><td>4383</td><td>29498372</td><td>&quot;C&quot;</td><td>7</td><td>0.08</td></tr><tr><td>&quot;m84047_240928_151025_s3/143659111/ccs&quot;</td><td>4472</td><td>29498463</td><td>&quot;A&quot;</td><td>7</td><td>0.75</td></tr><tr><td>&quot;m84047_240928_151025_s3/143659111/ccs&quot;</td><td>4824</td><td>29498815</td><td>&quot;G&quot;</td><td>7</td><td>0.75</td></tr><tr><td>&quot;m84047_240928_151025_s3/143659111/ccs&quot;</td><td>5467</td><td>29499459</td><td>&quot;C&quot;</td><td>7</td><td>0.1</td></tr><tr><td>&quot;m84047_240928_151025_s3/143659111/ccs&quot;</td><td>5528</td><td>29499520</td><td>&quot;G&quot;</td><td>7</td><td>0.1</td></tr><tr><td>&quot;m84047_240928_151025_s3/143659111/ccs&quot;</td><td>5650</td><td>29499642</td><td>&quot;t&quot;</td><td>8</td><td>1.0</td></tr></tbody></table></div>"
      ],
      "text/plain": [
       "shape: (24, 6)\n",
       "┌───────────────────────────────────────┬───────┬───────────┬─────────┬─────┬─────────────┐\n",
       "│ read_name                             ┆ start ┆ ref_start ┆ ref_seq ┆ op  ┆ allele_freq │\n",
       "│ ---                                   ┆ ---   ┆ ---       ┆ ---     ┆ --- ┆ ---         │\n",
       "│ str                                   ┆ i64   ┆ i64       ┆ str     ┆ i64 ┆ f64         │\n",
       "╞═══════════════════════════════════════╪═══════╪═══════════╪═════════╪═════╪═════════════╡\n",
       "│ m84047_240928_151025_s3/143659111/ccs ┆ 97    ┆ 29494076  ┆ T       ┆ 7   ┆ 0.07        │\n",
       "│ m84047_240928_151025_s3/143659111/ccs ┆ 230   ┆ 29494209  ┆ G       ┆ 7   ┆ 0.02        │\n",
       "│ m84047_240928_151025_s3/143659111/ccs ┆ 368   ┆ 29494347  ┆ C       ┆ 7   ┆ 0.09        │\n",
       "│ m84047_240928_151025_s3/143659111/ccs ┆ 371   ┆ 29494350  ┆ G       ┆ 7   ┆ 0.09        │\n",
       "│ m84047_240928_151025_s3/143659111/ccs ┆ 434   ┆ 29494413  ┆ T       ┆ 7   ┆ 0.85        │\n",
       "│ m84047_240928_151025_s3/143659111/ccs ┆ 1027  ┆ 29495012  ┆ T       ┆ 7   ┆ 0.85        │\n",
       "│ m84047_240928_151025_s3/143659111/ccs ┆ 1208  ┆ 29495193  ┆ G       ┆ 7   ┆ 0.01        │\n",
       "│ m84047_240928_151025_s3/143659111/ccs ┆ 1299  ┆ 29495284  ┆ C       ┆ 7   ┆ 0.09        │\n",
       "│ m84047_240928_151025_s3/143659111/ccs ┆ 1574  ┆ 29495560  ┆ T       ┆ 7   ┆ 0.07        │\n",
       "│ m84047_240928_151025_s3/143659111/ccs ┆ 1662  ┆ 29495648  ┆ C       ┆ 7   ┆ 0.07        │\n",
       "│ m84047_240928_151025_s3/143659111/ccs ┆ 1947  ┆ 29495935  ┆ c       ┆ 8   ┆ 0.29        │\n",
       "│ m84047_240928_151025_s3/143659111/ccs ┆ 2055  ┆ 29496042  ┆ A       ┆ 7   ┆ 0.26        │\n",
       "│ m84047_240928_151025_s3/143659111/ccs ┆ 2184  ┆ 29496172  ┆ a       ┆ 8   ┆ 0.29        │\n",
       "│ m84047_240928_151025_s3/143659111/ccs ┆ 2801  ┆ 29496789  ┆ C       ┆ 7   ┆ 0.1         │\n",
       "│ m84047_240928_151025_s3/143659111/ccs ┆ 3056  ┆ 29497043  ┆ A       ┆ 7   ┆ 0.1         │\n",
       "│ m84047_240928_151025_s3/143659111/ccs ┆ 3063  ┆ 29497050  ┆ T       ┆ 7   ┆ 0.08        │\n",
       "│ m84047_240928_151025_s3/143659111/ccs ┆ 3359  ┆ 29497347  ┆ G       ┆ 7   ┆ 0.02        │\n",
       "│ m84047_240928_151025_s3/143659111/ccs ┆ 4232  ┆ 29498220  ┆ A       ┆ 7   ┆ 0.1         │\n",
       "│ m84047_240928_151025_s3/143659111/ccs ┆ 4383  ┆ 29498372  ┆ C       ┆ 7   ┆ 0.08        │\n",
       "│ m84047_240928_151025_s3/143659111/ccs ┆ 4472  ┆ 29498463  ┆ A       ┆ 7   ┆ 0.75        │\n",
       "│ m84047_240928_151025_s3/143659111/ccs ┆ 4824  ┆ 29498815  ┆ G       ┆ 7   ┆ 0.75        │\n",
       "│ m84047_240928_151025_s3/143659111/ccs ┆ 5467  ┆ 29499459  ┆ C       ┆ 7   ┆ 0.1         │\n",
       "│ m84047_240928_151025_s3/143659111/ccs ┆ 5528  ┆ 29499520  ┆ G       ┆ 7   ┆ 0.1         │\n",
       "│ m84047_240928_151025_s3/143659111/ccs ┆ 5650  ┆ 29499642  ┆ t       ┆ 8   ┆ 1.0         │\n",
       "└───────────────────────────────────────┴───────┴───────────┴─────────┴─────┴─────────────┘"
      ]
     },
     "execution_count": 59,
     "metadata": {},
     "output_type": "execute_result"
    }
   ],
   "source": [
    "(df\n",
    "    .filter(pl.col(\"read_name\") == \"m84047_240928_151025_s3/143659111/ccs\")\n",
    ")"
   ]
  },
  {
   "cell_type": "code",
   "execution_count": null,
   "id": "49c6b977-595e-40fb-9e6c-498d54bde509",
   "metadata": {},
   "outputs": [],
   "source": []
  },
  {
   "cell_type": "code",
   "execution_count": null,
   "id": "97b35822-9848-4a92-9378-3d2666c357ba",
   "metadata": {},
   "outputs": [],
   "source": []
  },
  {
   "cell_type": "code",
   "execution_count": 46,
   "id": "8f034547-0c11-4e34-8ecc-277677ee3ccd",
   "metadata": {
    "tags": []
   },
   "outputs": [
    {
     "data": {
      "text/html": [
       "<div><style>\n",
       ".dataframe > thead > tr,\n",
       ".dataframe > tbody > tr {\n",
       "  text-align: right;\n",
       "  white-space: pre-wrap;\n",
       "}\n",
       "</style>\n",
       "<small>shape: (5, 6)</small><table border=\"1\" class=\"dataframe\"><thead><tr><th>read_name</th><th>start</th><th>ref_start</th><th>ref_seq</th><th>op</th><th>allele_freq</th></tr><tr><td>str</td><td>i64</td><td>i64</td><td>str</td><td>i64</td><td>f64</td></tr></thead><tbody><tr><td>&quot;m84047_240928_151025_s3/198706180/ccs&quot;</td><td>270</td><td>32951338</td><td>&quot;G&quot;</td><td>7</td><td>0.02</td></tr><tr><td>&quot;m84047_240928_151025_s3/50009431/ccs&quot;</td><td>79</td><td>31771027</td><td>&quot;C&quot;</td><td>7</td><td>0.01</td></tr><tr><td>&quot;m84047_240928_151025_s3/213127919/ccs&quot;</td><td>105</td><td>17519777</td><td>&quot;G&quot;</td><td>7</td><td>0.11</td></tr><tr><td>&quot;m84047_240928_151025_s3/168955871/ccs&quot;</td><td>797</td><td>28245146</td><td>&quot;A&quot;</td><td>7</td><td>0.26</td></tr><tr><td>&quot;m84047_240928_151025_s3/143659111/ccs&quot;</td><td>98</td><td>29494077</td><td>&quot;G&quot;</td><td>7</td><td>0.07</td></tr></tbody></table></div>"
      ],
      "text/plain": [
       "shape: (5, 6)\n",
       "┌───────────────────────────────────────┬───────┬───────────┬─────────┬─────┬─────────────┐\n",
       "│ read_name                             ┆ start ┆ ref_start ┆ ref_seq ┆ op  ┆ allele_freq │\n",
       "│ ---                                   ┆ ---   ┆ ---       ┆ ---     ┆ --- ┆ ---         │\n",
       "│ str                                   ┆ i64   ┆ i64       ┆ str     ┆ i64 ┆ f64         │\n",
       "╞═══════════════════════════════════════╪═══════╪═══════════╪═════════╪═════╪═════════════╡\n",
       "│ m84047_240928_151025_s3/198706180/ccs ┆ 270   ┆ 32951338  ┆ G       ┆ 7   ┆ 0.02        │\n",
       "│ m84047_240928_151025_s3/50009431/ccs  ┆ 79    ┆ 31771027  ┆ C       ┆ 7   ┆ 0.01        │\n",
       "│ m84047_240928_151025_s3/213127919/ccs ┆ 105   ┆ 17519777  ┆ G       ┆ 7   ┆ 0.11        │\n",
       "│ m84047_240928_151025_s3/168955871/ccs ┆ 797   ┆ 28245146  ┆ A       ┆ 7   ┆ 0.26        │\n",
       "│ m84047_240928_151025_s3/143659111/ccs ┆ 98    ┆ 29494077  ┆ G       ┆ 7   ┆ 0.07        │\n",
       "└───────────────────────────────────────┴───────┴───────────┴─────────┴─────┴─────────────┘"
      ]
     },
     "execution_count": 46,
     "metadata": {},
     "output_type": "execute_result"
    }
   ],
   "source": [
    "(df\n",
    "    .unique(subset=[\"read_name\"]).head()\n",
    ")"
   ]
  },
  {
   "cell_type": "code",
   "execution_count": 53,
   "id": "17fff6a5-2d54-4b10-815a-f99ab3c3f0e4",
   "metadata": {
    "tags": []
   },
   "outputs": [],
   "source": [
    "bam = pysam.AlignmentFile(alignment_bam_filename)"
   ]
  },
  {
   "cell_type": "code",
   "execution_count": 55,
   "id": "433ad172-cedc-4340-8479-415e98691551",
   "metadata": {
    "tags": []
   },
   "outputs": [
    {
     "name": "stderr",
     "output_type": "stream",
     "text": [
      "\n",
      "\n",
      "0it [00:00, ?it/s]\u001b[A\u001b[A\n",
      "\n",
      "21it [00:00, 29.44it/s] \u001b[A\u001b[A\n"
     ]
    }
   ],
   "source": [
    "for aln in tqdm.tqdm(bam.fetch(\"chr22\", 29494077, 29494077+50000)):\n",
    "    if aln.query_name == \"m84047_240928_151025_s3/143659111/ccs\":\n",
    "        break"
   ]
  },
  {
   "cell_type": "code",
   "execution_count": 56,
   "id": "5075914c-ae8b-41d5-84fe-89b9aac0299c",
   "metadata": {
    "tags": []
   },
   "outputs": [
    {
     "data": {
      "text/plain": [
       "<AlignedSegment('m84047_240928_151025_s3/143659111/ccs', flags=16=0x10, ref='chr22', zpos=29493979, mapq=60, cigar='569=1D199=1D95=1D117=1D11=1D7=1D385=1D301=1D142=1D121=1X94=1I1=1X60=1D79=1X646=2I202=1D208=1D1135=1D45=2D577=1D650=1X21=1X22=', ...)>"
      ]
     },
     "execution_count": 56,
     "metadata": {},
     "output_type": "execute_result"
    }
   ],
   "source": [
    "aln"
   ]
  },
  {
   "cell_type": "code",
   "execution_count": null,
   "id": "bd3722ad-1ba3-4edd-a4d2-bec7bd85adbd",
   "metadata": {},
   "outputs": [],
   "source": []
  },
  {
   "cell_type": "markdown",
   "id": "51139d2a-ee98-459e-94fb-b66d483eeb5e",
   "metadata": {},
   "source": [
    "# Sample variants"
   ]
  },
  {
   "cell_type": "code",
   "execution_count": 19,
   "id": "8a002594-3cab-4b5a-985b-6e78237ffa63",
   "metadata": {
    "tags": []
   },
   "outputs": [],
   "source": [
    "output_path = Path(\"/lustre/scratch122/tol/projects/sperm/results/CEPH_20250212\")\n",
    "\n",
    "all_sample_variants_df = pl.read_parquet([\n",
    "    str(output_path / f\"alignments/{chrom}/grch38_variants_on_chrom_at_mid_quality_events.parquet\") \\\n",
    "        for chrom in aut_chrom_names\n",
    "])"
   ]
  },
  {
   "cell_type": "code",
   "execution_count": 20,
   "id": "a9161ffe-90e5-42b4-95ee-0f71113a55b3",
   "metadata": {
    "tags": []
   },
   "outputs": [],
   "source": [
    "sdf = (all_sample_variants_df\n",
    "    .group_by(\"n_times\")\n",
    "    .len()\n",
    "    .sort(\"n_times\")\n",
    ")"
   ]
  },
  {
   "cell_type": "code",
   "execution_count": 23,
   "id": "058a2b17-2b92-4a94-9e40-1edaa246f995",
   "metadata": {
    "tags": []
   },
   "outputs": [
    {
     "data": {
      "image/png": "[encoded data removed]",
      "text/plain": [
       "<Figure size 640x480 with 1 Axes>"
      ]
     },
     "metadata": {},
     "output_type": "display_data"
    }
   ],
   "source": [
    "plt.plot(\n",
    "    sdf[\"n_times\"],\n",
    "    sdf[\"len\"],\n",
    "    '.',\n",
    ");\n",
    "plt.xlabel(\"# of reads supporting variant\");\n",
    "plt.ylabel(\"# of variants\");\n",
    "plt.xlim(0,100);"
   ]
  },
  {
   "cell_type": "code",
   "execution_count": 24,
   "id": "d3e1096a-bb37-4020-91d1-ff0a255a960a",
   "metadata": {
    "tags": []
   },
   "outputs": [
    {
     "data": {
      "text/plain": [
       "4961887"
      ]
     },
     "execution_count": 24,
     "metadata": {},
     "output_type": "execute_result"
    }
   ],
   "source": [
    "len(all_sample_variants_df)"
   ]
  },
  {
   "cell_type": "code",
   "execution_count": 25,
   "id": "9c0da852-23e7-4219-9ee1-402b7d42a1dd",
   "metadata": {},
   "outputs": [
    {
     "data": {
      "text/html": [
       "<div><style>\n",
       ".dataframe > thead > tr,\n",
       ".dataframe > tbody > tr {\n",
       "  text-align: right;\n",
       "  white-space: pre-wrap;\n",
       "}\n",
       "</style>\n",
       "<small>shape: (5, 2)</small><table border=\"1\" class=\"dataframe\"><thead><tr><th>n_times</th><th>len</th></tr><tr><td>u32</td><td>u32</td></tr></thead><tbody><tr><td>1</td><td>14743</td></tr><tr><td>2</td><td>5572</td></tr><tr><td>3</td><td>5146</td></tr><tr><td>4</td><td>6045</td></tr><tr><td>5</td><td>7559</td></tr></tbody></table></div>"
      ],
      "text/plain": [
       "shape: (5, 2)\n",
       "┌─────────┬───────┐\n",
       "│ n_times ┆ len   │\n",
       "│ ---     ┆ ---   │\n",
       "│ u32     ┆ u32   │\n",
       "╞═════════╪═══════╡\n",
       "│ 1       ┆ 14743 │\n",
       "│ 2       ┆ 5572  │\n",
       "│ 3       ┆ 5146  │\n",
       "│ 4       ┆ 6045  │\n",
       "│ 5       ┆ 7559  │\n",
       "└─────────┴───────┘"
      ]
     },
     "execution_count": 25,
     "metadata": {},
     "output_type": "execute_result"
    }
   ],
   "source": [
    "sdf.head()"
   ]
  },
  {
   "cell_type": "code",
   "execution_count": 60,
   "id": "cbe5cf45-b7df-466a-b447-5b683a99d17e",
   "metadata": {
    "tags": []
   },
   "outputs": [
    {
     "name": "stdout",
     "output_type": "stream",
     "text": [
      "CPU times: user 14.1 s, sys: 6.22 s, total: 20.3 s\n",
      "Wall time: 42.7 s\n"
     ]
    }
   ],
   "source": [
    "%%time\n",
    "cdf = pl.read_parquet(\n",
    "    \"/lustre/scratch122/tol/projects/sperm/results/CEPH_20250212/read_analysis/*/*/*/*/double_mismatches_per_read_sample_panel.parquet\"\n",
    ")"
   ]
  },
  {
   "cell_type": "code",
   "execution_count": 61,
   "id": "b840bc3b-4144-419c-beda-52813ad8abb3",
   "metadata": {
    "tags": []
   },
   "outputs": [
    {
     "name": "stdout",
     "output_type": "stream",
     "text": [
      "CPU times: user 15.4 s, sys: 7.09 s, total: 22.5 s\n",
      "Wall time: 51.7 s\n"
     ]
    }
   ],
   "source": [
    "%%time\n",
    "tdf = pl.read_parquet(\n",
    "    \"/lustre/scratch122/tol/projects/sperm/results/CEPH_20250212/read_analysis/*/*/*/*/double_mismatches_per_read.parquet\"\n",
    ")"
   ]
  },
  {
   "cell_type": "code",
   "execution_count": 62,
   "id": "9250e06f-8c9d-4e63-955a-e1017510fb0c",
   "metadata": {
    "tags": []
   },
   "outputs": [
    {
     "name": "stdout",
     "output_type": "stream",
     "text": [
      "CPU times: user 1min 10s, sys: 24.7 s, total: 1min 35s\n",
      "Wall time: 50.6 s\n"
     ]
    }
   ],
   "source": [
    "%%time\n",
    "jdf = (cdf\n",
    "    .join(\n",
    "        tdf,\n",
    "        on=\"read_name\",\n",
    "        how=\"full\",\n",
    "    )\n",
    "    .fill_null(0)\n",
    ")"
   ]
  },
  {
   "cell_type": "code",
   "execution_count": 63,
   "id": "66fdf88f-71ef-4cee-8e75-330e98bab7f9",
   "metadata": {
    "tags": []
   },
   "outputs": [
    {
     "data": {
      "text/plain": [
       "108474165"
      ]
     },
     "execution_count": 63,
     "metadata": {},
     "output_type": "execute_result"
    }
   ],
   "source": [
    "len(jdf)"
   ]
  },
  {
   "cell_type": "code",
   "execution_count": 1,
   "id": "c099d3c0-0449-4712-85f5-8880d8202cc6",
   "metadata": {
    "tags": []
   },
   "outputs": [
    {
     "ename": "NameError",
     "evalue": "name 'cdf' is not defined",
     "output_type": "error",
     "traceback": [
      "\u001b[0;31m---------------------------------------------------------------------------\u001b[0m",
      "\u001b[0;31mNameError\u001b[0m                                 Traceback (most recent call last)",
      "Cell \u001b[0;32mIn[1], line 1\u001b[0m\n\u001b[0;32m----> 1\u001b[0m \u001b[43mcdf\u001b[49m\u001b[38;5;241m.\u001b[39mhead()\n",
      "\u001b[0;31mNameError\u001b[0m: name 'cdf' is not defined"
     ]
    }
   ],
   "source": [
    "cdf.head()"
   ]
  },
  {
   "cell_type": "code",
   "execution_count": 64,
   "id": "a1688955-9485-488e-94e8-b3809c07fc72",
   "metadata": {
    "tags": []
   },
   "outputs": [
    {
     "data": {
      "text/html": [
       "<div><style>\n",
       ".dataframe > thead > tr,\n",
       ".dataframe > tbody > tr {\n",
       "  text-align: right;\n",
       "  white-space: pre-wrap;\n",
       "}\n",
       "</style>\n",
       "<small>shape: (1, 2)</small><table border=\"1\" class=\"dataframe\"><thead><tr><th>percent</th><th>sum</th></tr><tr><td>f64</td><td>u32</td></tr></thead><tbody><tr><td>0.659945</td><td>715870</td></tr></tbody></table></div>"
      ],
      "text/plain": [
       "shape: (1, 2)\n",
       "┌──────────┬────────┐\n",
       "│ percent  ┆ sum    │\n",
       "│ ---      ┆ ---    │\n",
       "│ f64      ┆ u32    │\n",
       "╞══════════╪════════╡\n",
       "│ 0.659945 ┆ 715870 │\n",
       "└──────────┴────────┘"
      ]
     },
     "execution_count": 64,
     "metadata": {},
     "output_type": "execute_result"
    }
   ],
   "source": [
    "jdf.select(\n",
    "    ((pl.col(\"n_double_mismatches_at_panel_snps\") >= 1).mean()*100).alias(\"percent\"),\n",
    "    (pl.col(\"n_double_mismatches_at_panel_snps\") >= 1).sum().alias(\"sum\"),\n",
    ")"
   ]
  },
  {
   "cell_type": "code",
   "execution_count": 65,
   "id": "2f5e445f-50c3-49b7-ad01-1fe708fb5952",
   "metadata": {},
   "outputs": [
    {
     "data": {
      "text/html": [
       "<div><style>\n",
       ".dataframe > thead > tr,\n",
       ".dataframe > tbody > tr {\n",
       "  text-align: right;\n",
       "  white-space: pre-wrap;\n",
       "}\n",
       "</style>\n",
       "<small>shape: (1, 2)</small><table border=\"1\" class=\"dataframe\"><thead><tr><th>percent</th><th>sum</th></tr><tr><td>f64</td><td>u32</td></tr></thead><tbody><tr><td>0.220037</td><td>238683</td></tr></tbody></table></div>"
      ],
      "text/plain": [
       "shape: (1, 2)\n",
       "┌──────────┬────────┐\n",
       "│ percent  ┆ sum    │\n",
       "│ ---      ┆ ---    │\n",
       "│ f64      ┆ u32    │\n",
       "╞══════════╪════════╡\n",
       "│ 0.220037 ┆ 238683 │\n",
       "└──────────┴────────┘"
      ]
     },
     "execution_count": 65,
     "metadata": {},
     "output_type": "execute_result"
    }
   ],
   "source": [
    "jdf.select(\n",
    "    ((pl.col(\"n_double_mismatches_at_sample_panel_snps\") >= 1).mean()*100).alias(\"percent\"),\n",
    "    (pl.col(\"n_double_mismatches_at_sample_panel_snps\") >= 1).sum().alias(\"sum\"),\n",
    ")\n"
   ]
  },
  {
   "cell_type": "code",
   "execution_count": 66,
   "id": "2ff5d6ff-cf28-4992-8c8b-3a2f53e9d088",
   "metadata": {},
   "outputs": [
    {
     "data": {
      "text/html": [
       "<div><style>\n",
       ".dataframe > thead > tr,\n",
       ".dataframe > tbody > tr {\n",
       "  text-align: right;\n",
       "  white-space: pre-wrap;\n",
       "}\n",
       "</style>\n",
       "<small>shape: (1, 2)</small><table border=\"1\" class=\"dataframe\"><thead><tr><th>percent</th><th>sum</th></tr><tr><td>f64</td><td>u32</td></tr></thead><tbody><tr><td>0.715432</td><td>776059</td></tr></tbody></table></div>"
      ],
      "text/plain": [
       "shape: (1, 2)\n",
       "┌──────────┬────────┐\n",
       "│ percent  ┆ sum    │\n",
       "│ ---      ┆ ---    │\n",
       "│ f64      ┆ u32    │\n",
       "╞══════════╪════════╡\n",
       "│ 0.715432 ┆ 776059 │\n",
       "└──────────┴────────┘"
      ]
     },
     "execution_count": 66,
     "metadata": {},
     "output_type": "execute_result"
    }
   ],
   "source": [
    "jdf.select(\n",
    "    (((pl.col(\"n_double_mismatches_at_sample_panel_snps\") >= 1) | (pl.col(\"n_double_mismatches_at_panel_snps\") >= 1)).mean()*100).alias(\"percent\"),\n",
    "    ((pl.col(\"n_double_mismatches_at_sample_panel_snps\") >= 1) | (pl.col(\"n_double_mismatches_at_panel_snps\") >= 1)).sum().alias(\"sum\"),\n",
    ")\n",
    "\n"
   ]
  },
  {
   "cell_type": "code",
   "execution_count": null,
   "id": "cb1cdd0b-0643-4cbe-9703-20609839c97a",
   "metadata": {},
   "outputs": [],
   "source": []
  },
  {
   "cell_type": "code",
   "execution_count": null,
   "id": "8f32a65a-3a06-41ba-872d-6cce2cb1da08",
   "metadata": {},
   "outputs": [],
   "source": []
  }
 ],
 "metadata": {
  "kernelspec": {
   "display_name": "sperm",
   "language": "python",
   "name": "sperm"
  },
  "language_info": {
   "codemirror_mode": {
    "name": "ipython",
    "version": 3
   },
   "file_extension": ".py",
   "mimetype": "text/x-python",
   "name": "python",
   "nbconvert_exporter": "python",
   "pygments_lexer": "ipython3",
   "version": "3.11.10"
  }
 },
 "nbformat": 4,
 "nbformat_minor": 5
}
