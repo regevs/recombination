{
 "cells": [
  {
   "cell_type": "code",
   "execution_count": 1,
   "id": "2818f4e6-f7a6-4821-9588-14da57f25131",
   "metadata": {
    "tags": []
   },
   "outputs": [],
   "source": [
    "%load_ext autoreload\n",
    "%autoreload 2"
   ]
  },
  {
   "cell_type": "code",
   "execution_count": 2,
   "id": "5c514c9d-cfe3-4abf-ae78-1c4d6ae5e65a",
   "metadata": {
    "tags": []
   },
   "outputs": [],
   "source": [
    "import numpy as np\n",
    "import pandas as pd\n",
    "import matplotlib.pyplot as plt\n",
    "plt.rcParams['pdf.use14corefonts'] = True\n",
    "\n",
    "import numba\n",
    "import numba.typed\n",
    "\n",
    "from pathlib import Path\n",
    "import tqdm\n",
    "import sys\n",
    "import seaborn as sns\n",
    "import scipy.stats\n",
    "import os\n",
    "import joblib\n",
    "import io\n",
    "import itertools\n",
    "import warnings\n",
    "\n",
    "from brokenaxes import brokenaxes\n",
    "\n",
    "\n",
    "import polars as pl\n",
    "pl.Config.set_tbl_rows(100);\n",
    "pl.Config.set_fmt_str_lengths(50);\n"
   ]
  },
  {
   "cell_type": "code",
   "execution_count": 3,
   "id": "db2473c0-8a09-4d69-9b8c-88c5e77b8692",
   "metadata": {
    "tags": []
   },
   "outputs": [],
   "source": [
    "sys.path.append(str(Path(os.getcwd()).parent))\n",
    "from src import liftover, annotate, diagnostics, inference\n",
    "from src.IDs import *\n"
   ]
  },
  {
   "cell_type": "markdown",
   "id": "4ec30230-6ca1-46f2-95a6-fddfd3cc33bd",
   "metadata": {},
   "source": [
    "# Create callset to infer from"
   ]
  },
  {
   "cell_type": "code",
   "execution_count": 4,
   "id": "16acf1ed-9456-467c-a0cf-1b71f33f9513",
   "metadata": {
    "tags": []
   },
   "outputs": [],
   "source": [
    "rahbari_df = pl.read_csv(\"/nfs/users/nfs_r/rs42/rs42/git/sperm/configs/Rahbari.tsv\", separator='\\t')"
   ]
  },
  {
   "cell_type": "code",
   "execution_count": 5,
   "id": "53e7d656-ba86-48f2-bd99-29f97bf9a482",
   "metadata": {
    "tags": []
   },
   "outputs": [],
   "source": [
    "sudmant_df = (\n",
    "    pl.read_csv(\"/nfs/users/nfs_r/rs42/rs42/git/sperm/configs/Sudmant.tsv\", separator='\\t')\n",
    "    .with_columns(\n",
    "        pl.col(\"sample_set\").cast(pl.String),\n",
    "        pl.col(\"sample_id\").cast(pl.String),\n",
    "    )\n",
    ")"
   ]
  },
  {
   "cell_type": "code",
   "execution_count": 6,
   "id": "36c3ed85-ccfc-4085-937c-01fa1d637566",
   "metadata": {
    "tags": []
   },
   "outputs": [
    {
     "name": "stderr",
     "output_type": "stream",
     "text": [
      "9it [00:00, 41436.59it/s]\n",
      "6it [00:00, 41943.04it/s]\n"
     ]
    }
   ],
   "source": [
    "reads_filenames = (\n",
    "    [\n",
    "        (\n",
    "            f\"/lustre/scratch122/tol/projects/sperm/results/Rahbari_20250212/read_analysis/{sample_set}/{sample_id}/reads/{chrom}/all_reads_structure_annotated.parquet\"\n",
    "        ) \n",
    "        for sample_id, sample_set in tqdm.tqdm(rahbari_df.select(\"sample_id\", \"sample_set\").unique().iter_rows())\n",
    "        for chrom in aut_chrom_names\n",
    "    ] + \n",
    "    [\n",
    "        (\n",
    "            f\"/lustre/scratch122/tol/projects/sperm/results/Sudmant_20241121/read_analysis/{sample_set}/{sample_id}/reads/{chrom}/all_reads_structure_annotated.parquet\"\n",
    "        ) \n",
    "        for sample_id, sample_set in tqdm.tqdm(sudmant_df.select(\"sample_id\", \"sample_set\").unique().iter_rows())\n",
    "        for chrom in aut_chrom_names\n",
    "    ]\n",
    ")"
   ]
  },
  {
   "cell_type": "code",
   "execution_count": 7,
   "id": "eb55fb29-b490-47f7-aa35-6c73c2f439d2",
   "metadata": {
    "tags": []
   },
   "outputs": [],
   "source": [
    "reads_df_list = [pl.scan_parquet(filename) for filename in reads_filenames]\n"
   ]
  },
  {
   "cell_type": "markdown",
   "id": "d4a5d9cb-a0e0-4050-82df-3a7eeeb70836",
   "metadata": {},
   "source": [
    "## NCO reads to compare against"
   ]
  },
  {
   "cell_type": "code",
   "execution_count": 8,
   "id": "e0200897-44f1-4872-b4f1-38c6bcb90721",
   "metadata": {
    "tags": []
   },
   "outputs": [
    {
     "name": "stderr",
     "output_type": "stream",
     "text": [
      "[Parallel(n_jobs=-1)]: Done  49 tasks      | elapsed:  1.7min\n",
      "[Parallel(n_jobs=-1)]: Done 199 tasks      | elapsed:  6.0min\n"
     ]
    },
    {
     "name": "stdout",
     "output_type": "stream",
     "text": [
      "CPU times: user 5min 2s, sys: 35.4 s, total: 5min 38s\n",
      "Wall time: 7min 58s\n"
     ]
    }
   ],
   "source": [
    "%%time\n",
    "def F(filename):\n",
    "    return (\n",
    "        pl.scan_parquet(filename)\n",
    "        .select(\n",
    "            'read_name',\n",
    "            'read_length',\n",
    "            'chrom',\n",
    "            'sample_id',\n",
    "            'grch37_chromosome_size_in_bp',\n",
    "            'high_quality_snp_positions',\n",
    "            \"high_quality_snp_positions_alleles\",\n",
    "            \"high_quality_snps_idx_transitions\",\n",
    "            'CO_active_interval_start',\n",
    "            'CO_active_interval_end',\n",
    "            \"CO_active_interval_length_bp\",\n",
    "            \"CO_active_interval_start_cM\",\n",
    "            \"CO_active_interval_end_cM\",\n",
    "            'NCO_active_interval_start',\n",
    "            'NCO_active_interval_end',\n",
    "            'NCO_active_interval_length_bp',\n",
    "            'grch37_reference_start',\n",
    "            'grch38_reference_start',\n",
    "            'grch37_reference_end',\n",
    "            'grch38_reference_end',\n",
    "            'grch37_reference_start_cM',\n",
    "            'grch37_reference_end_cM',\n",
    "            'NCO_active_interval_start_cM',\n",
    "            'NCO_active_interval_end_cM',\n",
    "            'CO_active_interval_crossover_prob',\n",
    "            \"full_read_crossover_prob\",\n",
    "            \"mid_CO_active_interval_crossover_prob\",\n",
    "            'NCO_active_interval_crossover_prob',\n",
    "            \"NCO_prob_detection_in_CO_active_interval\",\n",
    "            'AA_motif_center_pos',\n",
    "            'AA_heat',\n",
    "            'AA_motif_strand',\n",
    "            'CL4_motif_center_pos',\n",
    "            'CL4_heat',\n",
    "            'CL4_motif_strand',\n",
    "            'is_high_quality_read',\n",
    "            \"min_coverage_hap1\",\n",
    "            \"min_coverage_hap2\",\n",
    "            \"high_quality_classification_class\",\n",
    "            \"snp_positions_on_read\", \n",
    "            \"idx_transitions\",\n",
    "            \"high_quality_classification_in_detectable_class\",\n",
    "            \"H3K4me3_signal_mean\",\n",
    "            \"CTCF_signal_mean\",\n",
    "            \"total_mismatches\",\n",
    "            \"is_contamination\",\n",
    "        )                  \n",
    "        .collect()\n",
    "        .filter(pl.col(\"high_quality_snp_positions\").list.len() >= 3)\n",
    "        .filter(pl.col(\"high_quality_classification_class\") == \"GC\")     # REMOVE if you need all        \n",
    "        .filter(\"is_high_quality_read\")\n",
    "        .filter(~pl.col(\"is_contamination\"))\n",
    "        .filter(pl.col(\"CO_active_interval_crossover_prob\") > 0)\n",
    "    )\n",
    "    \n",
    "dense_reads_with_detection_df = pl.concat(\n",
    "    joblib.Parallel(n_jobs=-1, verbose=1)(\n",
    "        joblib.delayed(F)(filename) for filename in reads_filenames\n",
    "    )\n",
    ")"
   ]
  },
  {
   "cell_type": "code",
   "execution_count": 9,
   "id": "31a25540-5d44-446d-bb96-4463abf34848",
   "metadata": {
    "tags": []
   },
   "outputs": [],
   "source": [
    "NCO_df = (dense_reads_with_detection_df\n",
    "    #.filter(pl.col(\"high_quality_classification_in_detectable_class\") == \"NCO\")\n",
    "    .filter(pl.col(\"high_quality_classification_class\") == \"GC\")\n",
    "    .with_columns(\n",
    "        grch37_recombining_interval_start_pos = pl.col(\"grch37_reference_start\") + pl.col(\"snp_positions_on_read\").list.get(pl.col(\"idx_transitions\").list.get(0)),\n",
    "        grch37_recombining_interval_end_pos = pl.col(\"grch37_reference_start\") + pl.col(\"snp_positions_on_read\").list.get(pl.col(\"idx_transitions\").list.get(-1) + 1),\n",
    "        grch38_recombining_interval_start_pos = pl.col(\"grch38_reference_start\") + pl.col(\"snp_positions_on_read\").list.get(pl.col(\"idx_transitions\").list.get(0)),\n",
    "        grch38_recombining_interval_end_pos = pl.col(\"grch38_reference_start\") + pl.col(\"snp_positions_on_read\").list.get(pl.col(\"idx_transitions\").list.get(-1) + 1),\n",
    "        grch37_first_converted_marker_pos = pl.col(\"grch37_reference_start\") + pl.col(\"snp_positions_on_read\").list.get(pl.col(\"idx_transitions\").list.get(0)+1),\n",
    "        grch38_first_converted_marker_pos = pl.col(\"grch38_reference_start\") + pl.col(\"snp_positions_on_read\").list.get(pl.col(\"idx_transitions\").list.get(0)+1),\n",
    "    )\n",
    "    .with_columns(\n",
    "        grch37_recombining_interval_length = pl.col(\"grch37_recombining_interval_end_pos\") - pl.col(\"grch37_recombining_interval_start_pos\"),                \n",
    "        grch38_recombining_interval_length = pl.col(\"grch38_recombining_interval_end_pos\") - pl.col(\"grch38_recombining_interval_start_pos\"),                \n",
    "    )\n",
    ")\n",
    "\n",
    "dfs = []\n",
    "for [chrom], df in NCO_df.partition_by(by=[\"chrom\"], as_dict=True).items():\n",
    "    rate_map = annotate.rate_maps[chrom]\n",
    "    dfs.append(\n",
    "        df.with_columns(\n",
    "            grch37_recombining_interval_start_poses_cm = rate_map.get_cumulative_mass(df[\"grch37_recombining_interval_start_pos\"]) * 1e2,\n",
    "            grch37_recombining_interval_end_poses_cm = rate_map.get_cumulative_mass(df[\"grch37_recombining_interval_end_pos\"]) * 1e2,\n",
    "            grch37_first_converted_marker_poses_rate = rate_map.get_rate(df[\"grch37_first_converted_marker_pos\"]) * 1e2,\n",
    "        ).with_columns(\n",
    "            grch37_recombining_interval_cM = (pl.col(\"grch37_recombining_interval_end_poses_cm\") - pl.col(\"grch37_recombining_interval_start_poses_cm\")),\n",
    "            grch37_cM_per_bp_across_recombining_interval = (pl.col(\"grch37_recombining_interval_end_poses_cm\") - pl.col(\"grch37_recombining_interval_start_poses_cm\")) / pl.col(\"grch37_recombining_interval_length\"),\n",
    "        )\n",
    "    )\n",
    "    \n",
    "NCO_df = pl.concat(dfs)\n",
    "\n",
    "NCO_df = (NCO_df\n",
    "    .select(\n",
    "        \"read_name\",\n",
    "        (pl.col(\"full_read_crossover_prob\") * 1e2).alias(\"genetic_length_in_cm\"),\n",
    "        (pl.col(\"read_length\")).alias(\"genetic_length_in_bp\"),\n",
    "        (\n",
    "            pl.col(\"snp_positions_on_read\").list.get(pl.col(\"idx_transitions\").list.get(1)) -\n",
    "            pl.col(\"snp_positions_on_read\").list.get(pl.col(\"idx_transitions\").list.get(0)+1)\n",
    "        ).alias(\"lower_bound\"),\n",
    "        (\n",
    "            pl.col(\"snp_positions_on_read\").list.get(pl.col(\"idx_transitions\").list.get(1)+1) -\n",
    "            pl.col(\"snp_positions_on_read\").list.get(pl.col(\"idx_transitions\").list.get(0))\n",
    "        ).alias(\"upper_bound\"),\n",
    "        pl.col(\"idx_transitions\").list.diff(null_behavior=\"drop\").list.first().alias(\"n_converted\"),     \n",
    "    )\n",
    "    .with_columns(\n",
    "        (pl.col(\"genetic_length_in_cm\")/(pl.col(\"genetic_length_in_bp\")*1e-6)).alias(\"read_recomb_rate_in_cm_bp\"),\n",
    "    )\n",
    ")"
   ]
  },
  {
   "cell_type": "code",
   "execution_count": null,
   "id": "5215fe07-3d5f-4520-830f-4d392eb82b43",
   "metadata": {
    "tags": []
   },
   "outputs": [],
   "source": []
  },
  {
   "cell_type": "code",
   "execution_count": null,
   "id": "1fb999bb-9f07-46aa-ab33-da7958ba7e36",
   "metadata": {},
   "outputs": [],
   "source": []
  },
  {
   "cell_type": "code",
   "execution_count": null,
   "id": "8d63d9a2-2248-449d-9f98-1c8ea4d4114f",
   "metadata": {},
   "outputs": [],
   "source": []
  },
  {
   "cell_type": "code",
   "execution_count": 10,
   "id": "ec38c27e-6967-462a-af0d-73511419c8bd",
   "metadata": {
    "tags": []
   },
   "outputs": [],
   "source": [
    "#sperm_sample_ids_except_AD = [x for x in rahbari_sample_ids + sudmant_sample_ids if x != 'PD50523b']"
   ]
  },
  {
   "cell_type": "code",
   "execution_count": 11,
   "id": "7b914428-3a0c-43d2-9788-05982dd4f5fd",
   "metadata": {
    "tags": []
   },
   "outputs": [
    {
     "name": "stderr",
     "output_type": "stream",
     "text": [
      "[Parallel(n_jobs=-1)]: Done  49 tasks      | elapsed: 11.1min\n",
      "[Parallel(n_jobs=-1)]: Done 199 tasks      | elapsed: 39.1min\n"
     ]
    },
    {
     "name": "stdout",
     "output_type": "stream",
     "text": [
      "CPU times: user 32min 20s, sys: 5min 9s, total: 37min 29s\n",
      "Wall time: 52min 19s\n"
     ]
    }
   ],
   "source": [
    "%%time\n",
    "dfs = joblib.Parallel(n_jobs=-1, verbose=1)(\n",
    "    joblib.delayed(inference.generate_call_set)(\n",
    "        reads_df, rahbari_sample_ids + sudmant_sample_ids, 10, False, 3, 1\n",
    "    )\n",
    "    for reads_df in reads_df_list\n",
    ")\n",
    "\n",
    "callset_df = pl.concat([df for df in dfs if len(df)])"
   ]
  },
  {
   "cell_type": "code",
   "execution_count": 12,
   "id": "703da324-da71-4bf4-95e8-4b710f41e62c",
   "metadata": {
    "tags": []
   },
   "outputs": [
    {
     "data": {
      "text/plain": [
       "10697874"
      ]
     },
     "execution_count": 12,
     "metadata": {},
     "output_type": "execute_result"
    }
   ],
   "source": [
    "len(callset_df)"
   ]
  },
  {
   "cell_type": "markdown",
   "id": "dea53716-86b4-4fcb-83f3-abb3f7a3f6e8",
   "metadata": {},
   "source": [
    "# Test simulation "
   ]
  },
  {
   "cell_type": "code",
   "execution_count": 22,
   "id": "405df029-2e23-4d28-a1a3-13798dbd917c",
   "metadata": {
    "tags": []
   },
   "outputs": [
    {
     "name": "stdout",
     "output_type": "stream",
     "text": [
      "CPU times: user 2min 14s, sys: 9.29 s, total: 2min 24s\n",
      "Wall time: 2min 25s\n"
     ]
    }
   ],
   "source": [
    "%%time\n",
    "# 0.994, 28.0, 1250.0\n",
    "# 0.993, 31.0, 1220.0\n",
    "#[   1.           71.50300601 1000.        ]\n",
    "\n",
    "# m = 0.993\n",
    "# GC_tract_mean = 31\n",
    "# GC_tract_mean2 = 1220\n",
    "m = 1\n",
    "GC_tract_mean = 71\n",
    "GC_tract_mean2 = 1220\n",
    "\n",
    "\n",
    "idf = callset_df[::1]\n",
    "\n",
    "# res = inference.simulate_read_patterns_probs(\n",
    "#     numba.typed.List(idf[\"read_length\"].to_numpy()),\n",
    "#     numba.typed.List(idf[\"high_quality_snp_positions\"].to_numpy()),\n",
    "#     numba.typed.List(idf[\"between_high_quality_snps_cM\"].to_numpy() * 1e-2),\n",
    "#     numba.typed.List(idf[\"before_read_cM\"].to_numpy() * 1e-2),\n",
    "#     numba.typed.List(idf[\"after_read_cM\"].to_numpy() * 1e-2),\n",
    "#     q = 0.114,\n",
    "#     m = 0.99,\n",
    "#     GC_tract_mean = 30.5,\n",
    "#     GC_tract_mean2 = 16842,\n",
    "#     read_margin_in_bp = 5000,\n",
    "# )\n",
    "\n",
    "recomb_rate_for_sim = 1\n",
    "\n",
    "res = inference.simulate_read_patterns_probs(\n",
    "    numba.typed.List(idf[\"read_length\"].to_numpy()),\n",
    "    numba.typed.List(idf[\"high_quality_snp_positions\"].to_numpy()),\n",
    "    numba.typed.List(idf[\"between_high_quality_snps_bp\"].to_numpy() * recomb_rate_for_sim),\n",
    "    numba.typed.List(np.repeat(5000 * recomb_rate_for_sim, len(idf))),\n",
    "    numba.typed.List(np.repeat(5000 * recomb_rate_for_sim, len(idf))),\n",
    "    q = 0,\n",
    "    m = m,\n",
    "    GC_tract_mean = GC_tract_mean,\n",
    "    GC_tract_mean2 = GC_tract_mean2,\n",
    "    read_margin_in_bp = 5000,\n",
    "    allow_flip = False,\n",
    ")\n",
    "\n",
    "xxx = idf[\"high_quality_snp_positions\"].to_numpy()\n",
    "\n",
    "sim_stats_df = pl.DataFrame(\n",
    "    [(\n",
    "        # xxx[event_index], \n",
    "        # idx_trans,\n",
    "        idx_trans[1] - idx_trans[0],\n",
    "        xxx[event_index][idx_trans[1]] - xxx[event_index][idx_trans[0]+1],\n",
    "        xxx[event_index][idx_trans[1]+1] - xxx[event_index][idx_trans[0]],\n",
    "    ) \n",
    "         for idx_trans, event_index, event_type, tract_type, tract_length in zip(res[0], res[1], res[6], res[7], res[8]) \\\n",
    "         if event_type == 0 and len(idx_trans) == 2],\n",
    "    orient=\"row\",\n",
    "    schema=[\"n_converted\", \"lower_bound\", \"upper_bound\"],\n",
    ")"
   ]
  },
  {
   "cell_type": "code",
   "execution_count": 66,
   "id": "c99db705-29fd-47b7-8f02-f1a65155375c",
   "metadata": {
    "tags": []
   },
   "outputs": [
    {
     "name": "stdout",
     "output_type": "stream",
     "text": [
      "# events: 1069788\n",
      "# CO events: 0\n",
      "# detected CO events: 3735\n",
      "# NCO events: 1069788\n",
      "# detected NCO events: 10645\n",
      "# detected NCO events from NCOs: 10645\n",
      "# detected CO events from NCOs: 3735\n",
      "# NCO first comp: 1062212\n",
      "estimated percent of obs NCO: 0.9950569645574636\n"
     ]
    }
   ],
   "source": [
    "sim_idx_transitions = [np.array([], dtype=np.int64) for i in range(len(idf))]\n",
    "for i, lst in zip(res[1], res[0]):\n",
    "    sim_idx_transitions[i] = np.array(lst, dtype=np.int64)\n",
    "\n",
    "n_detected_COs = np.sum([1 for x in sim_idx_transitions if len(x) == 1])\n",
    "n_detected_NCOs = np.sum([1 for x in sim_idx_transitions if len(x) == 2])\n",
    "\n",
    "n_detected_NCOs_from_NCOs = np.sum([1 for idx_trans, event_type in zip(res[0], res[6]) if event_type == 0 and len(idx_trans) == 2])\n",
    "n_detected_COs_from_NCOs = np.sum([1 for idx_trans, event_type in zip(res[0], res[6]) if event_type == 0 and len(idx_trans) == 1])\n",
    "\n",
    "print(\"# events:\", len(res[0]))\n",
    "print(\"# CO events:\", res[3])\n",
    "print(\"# detected CO events:\", n_detected_COs)\n",
    "\n",
    "print(\"# NCO events:\", res[4])\n",
    "print(\"# detected NCO events:\", n_detected_NCOs)\n",
    "print(\"# detected NCO events from NCOs:\", n_detected_NCOs_from_NCOs)\n",
    "print(\"# detected CO events from NCOs:\", n_detected_COs_from_NCOs)\n",
    "\n",
    "print(\"# NCO first comp:\", res[5])\n"
   ]
  },
  {
   "cell_type": "code",
   "execution_count": 67,
   "id": "5a584621-a0ea-4385-93e2-9163ad04c543",
   "metadata": {
    "tags": []
   },
   "outputs": [
    {
     "name": "stdout",
     "output_type": "stream",
     "text": [
      "Frac NCO detected: 0.009950569645574637\n"
     ]
    }
   ],
   "source": [
    "print(\"Frac NCO detected:\", n_detected_NCOs/res[4])"
   ]
  },
  {
   "cell_type": "code",
   "execution_count": 68,
   "id": "dbf3fbde-0c55-4061-bd54-ca501a27a6af",
   "metadata": {
    "tags": []
   },
   "outputs": [],
   "source": [
    "shorts = np.array([tract_length \\\n",
    "     for idx_trans, event_type, tract_type, tract_length in zip(res[0], res[6], res[7], res[8]) \\\n",
    "     if event_type == 0 and tract_type == 1])\n",
    "\n",
    "longs = np.array([tract_length \\\n",
    "     for idx_trans, event_type, tract_type, tract_length in zip(res[0], res[6], res[7], res[8]) \\\n",
    "     if event_type == 0 and tract_type == 0])\n",
    "\n",
    "shorts_frac_detected = np.array([(len(idx_trans) > 0) \\\n",
    "     for idx_trans, event_type, tract_type, tract_length in zip(res[0], res[6], res[7], res[8]) \\\n",
    "     if event_type == 0 and tract_type == 1]).mean()\n",
    "\n",
    "long_frac_detected = np.array([(len(idx_trans) > 0) \\\n",
    "     for idx_trans, event_type, tract_type, tract_length in zip(res[0], res[6], res[7], res[8]) \\\n",
    "     if event_type == 0 and tract_type == 0]).mean()\n",
    "\n",
    "shorts_n_snps_detected = np.array([len(idx_trans) \\\n",
    "     for idx_trans, event_type, tract_type, tract_length in zip(res[0], res[6], res[7], res[8]) \\\n",
    "     if event_type == 0 and tract_type == 1])\n",
    "\n",
    "long_n_snps_detected = np.array([len(idx_trans) \\\n",
    "     for idx_trans, event_type, tract_type, tract_length in zip(res[0], res[6], res[7], res[8]) \\\n",
    "     if event_type == 0 and tract_type == 0])\n",
    "\n"
   ]
  },
  {
   "cell_type": "code",
   "execution_count": 69,
   "id": "169e3470-b263-4ecb-a8da-54af45ce4cf5",
   "metadata": {
    "tags": []
   },
   "outputs": [
    {
     "name": "stdout",
     "output_type": "stream",
     "text": [
      "Fraction of detected NCOs coming from longs: 0.11974965229485396\n"
     ]
    }
   ],
   "source": [
    "print(\n",
    "    \"Fraction of detected NCOs coming from longs:\",\n",
    "    len(np.nonzero(long_n_snps_detected)[0]) / (len(np.nonzero(long_n_snps_detected)[0]) + len(np.nonzero(shorts_n_snps_detected)[0]))\n",
    ")"
   ]
  },
  {
   "cell_type": "code",
   "execution_count": 73,
   "id": "7a06ee75-3bca-4de5-9037-822e30b0c105",
   "metadata": {
    "tags": []
   },
   "outputs": [
    {
     "data": {
      "text/plain": [
       "(0.11448568782416484, 0.12516799595317618)"
      ]
     },
     "execution_count": 73,
     "metadata": {},
     "output_type": "execute_result"
    }
   ],
   "source": [
    "import statsmodels.stats.proportion\n",
    "\n",
    "statsmodels.stats.proportion.proportion_confint(\n",
    "    len(np.nonzero(long_n_snps_detected)[0]) ,\n",
    "    (len(np.nonzero(long_n_snps_detected)[0]) + len(np.nonzero(shorts_n_snps_detected)[0])),\n",
    "    method=\"beta\",\n",
    ")"
   ]
  },
  {
   "cell_type": "code",
   "execution_count": null,
   "id": "60446c82-8b00-4b2f-bdae-c7350faddfd6",
   "metadata": {},
   "outputs": [],
   "source": []
  },
  {
   "cell_type": "code",
   "execution_count": 21,
   "id": "dce3be98-a6ef-4a9e-bff1-4de91db4ad87",
   "metadata": {
    "tags": []
   },
   "outputs": [],
   "source": [
    "sim_stats_2comp_df = sim_stats_df"
   ]
  },
  {
   "cell_type": "code",
   "execution_count": null,
   "id": "c00adba5-8938-4ace-b5f4-02b8c9c79e24",
   "metadata": {},
   "outputs": [],
   "source": []
  },
  {
   "cell_type": "markdown",
   "id": "a76d673e-c328-4c6c-a9a8-9baaa148f7e3",
   "metadata": {},
   "source": [
    "# Paper plot"
   ]
  },
  {
   "cell_type": "markdown",
   "id": "3b81dd28-62a7-44de-82df-b94661ec9097",
   "metadata": {},
   "source": [
    "## Generate simulated data for plotting"
   ]
  },
  {
   "cell_type": "code",
   "execution_count": 13,
   "id": "d20279fe-0c8e-449e-9922-13e4d6f079e9",
   "metadata": {
    "tags": []
   },
   "outputs": [
    {
     "name": "stdout",
     "output_type": "stream",
     "text": [
      "CPU times: user 3min 46s, sys: 15.9 s, total: 4min 2s\n",
      "Wall time: 5min 50s\n"
     ]
    }
   ],
   "source": [
    "%%time\n",
    "# 0.994, 28.0, 1250.0\n",
    "# 0.993, 31.0, 1220.0\n",
    "#[   1.           71.50300601 1000.        ]\n",
    "\n",
    "# m = 0.993\n",
    "# GC_tract_mean = 31\n",
    "# GC_tract_mean2 = 1220\n",
    "m = 1\n",
    "GC_tract_mean = 71\n",
    "GC_tract_mean2 = 1220\n",
    "\n",
    "\n",
    "idf = callset_df[::1]\n",
    "\n",
    "# res = inference.simulate_read_patterns_probs(\n",
    "#     numba.typed.List(idf[\"read_length\"].to_numpy()),\n",
    "#     numba.typed.List(idf[\"high_quality_snp_positions\"].to_numpy()),\n",
    "#     numba.typed.List(idf[\"between_high_quality_snps_cM\"].to_numpy() * 1e-2),\n",
    "#     numba.typed.List(idf[\"before_read_cM\"].to_numpy() * 1e-2),\n",
    "#     numba.typed.List(idf[\"after_read_cM\"].to_numpy() * 1e-2),\n",
    "#     q = 0.114,\n",
    "#     m = 0.99,\n",
    "#     GC_tract_mean = 30.5,\n",
    "#     GC_tract_mean2 = 16842,\n",
    "#     read_margin_in_bp = 5000,\n",
    "# )\n",
    "\n",
    "recomb_rate_for_sim = 1\n",
    "\n",
    "res = inference.simulate_read_patterns_probs(\n",
    "    numba.typed.List(idf[\"read_length\"].to_numpy()),\n",
    "    numba.typed.List(idf[\"high_quality_snp_positions\"].to_numpy()),\n",
    "    numba.typed.List(idf[\"between_high_quality_snps_bp\"].to_numpy() * recomb_rate_for_sim),\n",
    "    numba.typed.List(np.repeat(5000 * recomb_rate_for_sim, len(idf))),\n",
    "    numba.typed.List(np.repeat(5000 * recomb_rate_for_sim, len(idf))),\n",
    "    q = 0,\n",
    "    m = m,\n",
    "    GC_tract_mean = GC_tract_mean,\n",
    "    GC_tract_mean2 = GC_tract_mean2,\n",
    "    read_margin_in_bp = 5000,\n",
    "    allow_flip = False,\n",
    ")\n",
    "\n",
    "xxx = idf[\"high_quality_snp_positions\"].to_numpy()\n",
    "\n",
    "sim_stats_1comp_df = pl.DataFrame(\n",
    "    [(\n",
    "        # xxx[event_index], \n",
    "        # idx_trans,\n",
    "        idx_trans[1] - idx_trans[0],\n",
    "        xxx[event_index][idx_trans[1]] - xxx[event_index][idx_trans[0]+1],\n",
    "        xxx[event_index][idx_trans[1]+1] - xxx[event_index][idx_trans[0]],\n",
    "    ) \n",
    "         for idx_trans, event_index, event_type, tract_type, tract_length in zip(res[0], res[1], res[6], res[7], res[8]) \\\n",
    "         if event_type == 0 and len(idx_trans) == 2],\n",
    "    orient=\"row\",\n",
    "    schema=[\"n_converted\", \"lower_bound\", \"upper_bound\"],\n",
    ")"
   ]
  },
  {
   "cell_type": "code",
   "execution_count": 14,
   "id": "c19f4ac4-1795-4273-a052-a6be5a91654b",
   "metadata": {
    "tags": []
   },
   "outputs": [
    {
     "name": "stdout",
     "output_type": "stream",
     "text": [
      "CPU times: user 4min, sys: 18.5 s, total: 4min 18s\n",
      "Wall time: 6min 18s\n"
     ]
    }
   ],
   "source": [
    "%%time\n",
    "# 0.994, 28.0, 1250.0\n",
    "# 0.993, 31.0, 1220.0\n",
    "#[   1.           71.50300601 1000.        ]\n",
    "\n",
    "m = 0.993\n",
    "GC_tract_mean = 31\n",
    "GC_tract_mean2 = 1220\n",
    "\n",
    "idf = callset_df[::1]\n",
    "\n",
    "# res = inference.simulate_read_patterns_probs(\n",
    "#     numba.typed.List(idf[\"read_length\"].to_numpy()),\n",
    "#     numba.typed.List(idf[\"high_quality_snp_positions\"].to_numpy()),\n",
    "#     numba.typed.List(idf[\"between_high_quality_snps_cM\"].to_numpy() * 1e-2),\n",
    "#     numba.typed.List(idf[\"before_read_cM\"].to_numpy() * 1e-2),\n",
    "#     numba.typed.List(idf[\"after_read_cM\"].to_numpy() * 1e-2),\n",
    "#     q = 0.114,\n",
    "#     m = 0.99,\n",
    "#     GC_tract_mean = 30.5,\n",
    "#     GC_tract_mean2 = 16842,\n",
    "#     read_margin_in_bp = 5000,\n",
    "# )\n",
    "\n",
    "recomb_rate_for_sim = 1\n",
    "\n",
    "res = inference.simulate_read_patterns_probs(\n",
    "    numba.typed.List(idf[\"read_length\"].to_numpy()),\n",
    "    numba.typed.List(idf[\"high_quality_snp_positions\"].to_numpy()),\n",
    "    numba.typed.List(idf[\"between_high_quality_snps_bp\"].to_numpy() * recomb_rate_for_sim),\n",
    "    numba.typed.List(np.repeat(5000 * recomb_rate_for_sim, len(idf))),\n",
    "    numba.typed.List(np.repeat(5000 * recomb_rate_for_sim, len(idf))),\n",
    "    q = 0,\n",
    "    m = m,\n",
    "    GC_tract_mean = GC_tract_mean,\n",
    "    GC_tract_mean2 = GC_tract_mean2,\n",
    "    read_margin_in_bp = 5000,\n",
    "    allow_flip = False,\n",
    ")\n",
    "\n",
    "xxx = idf[\"high_quality_snp_positions\"].to_numpy()\n",
    "\n",
    "sim_stats_2comp_df = pl.DataFrame(\n",
    "    [(\n",
    "        # xxx[event_index], \n",
    "        # idx_trans,\n",
    "        idx_trans[1] - idx_trans[0],\n",
    "        xxx[event_index][idx_trans[1]] - xxx[event_index][idx_trans[0]+1],\n",
    "        xxx[event_index][idx_trans[1]+1] - xxx[event_index][idx_trans[0]],\n",
    "    ) \n",
    "         for idx_trans, event_index, event_type, tract_type, tract_length in zip(res[0], res[1], res[6], res[7], res[8]) \\\n",
    "         if event_type == 0 and len(idx_trans) == 2],\n",
    "    orient=\"row\",\n",
    "    schema=[\"n_converted\", \"lower_bound\", \"upper_bound\"],\n",
    ")"
   ]
  },
  {
   "cell_type": "code",
   "execution_count": null,
   "id": "7c99ebd9-8e3c-45f6-ab78-6dbd3d04e823",
   "metadata": {},
   "outputs": [],
   "source": []
  },
  {
   "cell_type": "markdown",
   "id": "81d7e8b8-c564-42a8-b168-c90ef3a8d83f",
   "metadata": {},
   "source": [
    "## Do the plot"
   ]
  },
  {
   "cell_type": "markdown",
   "id": "8df09ba0-ac1f-4d66-a268-343bfd5acb14",
   "metadata": {},
   "source": [
    "### Num converted"
   ]
  },
  {
   "cell_type": "code",
   "execution_count": 15,
   "id": "16be6cd6-dea1-40e5-bbce-e3aa321fe471",
   "metadata": {
    "tags": []
   },
   "outputs": [],
   "source": [
    "total_n_converted = len(NCO_df[\"n_converted\"])\n",
    "mns = np.histogram(NCO_df[\"n_converted\"], bins=np.arange(1, 6)-1e-4)[0] / total_n_converted"
   ]
  },
  {
   "cell_type": "code",
   "execution_count": 16,
   "id": "f793946d-1dc2-4689-981e-8ad8af41ae7f",
   "metadata": {
    "tags": []
   },
   "outputs": [],
   "source": [
    "total_conv_2comp = len(sim_stats_2comp_df[\"n_converted\"])\n",
    "n_conv_mns_2comp = np.histogram(sim_stats_2comp_df[\"n_converted\"], bins=np.arange(1, 6))[0] / total_conv_2comp\n",
    "\n",
    "total_conv_1comp = len(sim_stats_1comp_df[\"n_converted\"])\n",
    "n_conv_mns_1comp = np.histogram(sim_stats_1comp_df[\"n_converted\"], bins=np.arange(1, 6))[0] / total_conv_1comp\n"
   ]
  },
  {
   "cell_type": "code",
   "execution_count": 19,
   "id": "2b63a471-027f-497a-b9f2-ecf75b651033",
   "metadata": {
    "tags": []
   },
   "outputs": [
    {
     "data": {
      "image/png": "[encoded data removed]",
      "text/plain": [
       "<Figure size 450x400 with 3 Axes>"
      ]
     },
     "metadata": {},
     "output_type": "display_data"
    }
   ],
   "source": [
    "fig = plt.figure(figsize=(4.5,4))\n",
    "\n",
    "bax = brokenaxes(xlims=[(0.4, 4.6)], ylims=[(0, 0.15), (0.85, 0.95)], hspace=.4)\n",
    "\n",
    "ci_high_mix = scipy.stats.binom.isf(0.025, total_conv_2comp, n_conv_mns_2comp) / total_conv_2comp\n",
    "ci_low_mix = scipy.stats.binom.isf(1-0.025, total_conv_2comp, n_conv_mns_2comp) / total_conv_2comp\n",
    "\n",
    "bax.plot(\n",
    "    np.arange(len(n_conv_mns_2comp))+1,\n",
    "    n_conv_mns_2comp, \n",
    "    '.', \n",
    "    color=\"C0\",\n",
    "    label=\"Short + Long components\",\n",
    "    ms=10,    \n",
    ");\n",
    "# bax.errorbar(\n",
    "#     x = np.arange(len(n_conv_mns_2comp))+1.1,\n",
    "#     y = n_conv_mns_2comp,\n",
    "#     yerr = np.maximum(0, np.array([[mn-ci_low, ci_high-mn] for mn, ci_low, ci_high in zip(n_conv_mns_2comp, ci_low_mix, ci_high_mix)]).T),\n",
    "#     ls = ' ',\n",
    "#     color='C0',\n",
    "# );\n",
    "\n",
    "ci_high_mix = scipy.stats.binom.isf(0.025, total_conv_1comp, n_conv_mns_1comp) / total_conv_1comp\n",
    "ci_low_mix = scipy.stats.binom.isf(1-0.025, total_conv_1comp, n_conv_mns_1comp) / total_conv_1comp\n",
    "bax.plot(\n",
    "    np.arange(len(n_conv_mns_1comp))+1,\n",
    "    n_conv_mns_1comp, \n",
    "    '.', \n",
    "    color=\"C1\",\n",
    "    label=\"Single component\",\n",
    "    ms=10,\n",
    ")\n",
    "# bax.errorbar(\n",
    "#     x = np.arange(len(n_conv_mns_1comp))+1.1,\n",
    "#     y = n_conv_mns_1comp,\n",
    "#     yerr = np.maximum(0, np.array([[mn-ci_low, ci_high-mn] for mn, ci_low, ci_high in zip(n_conv_mns_1comp, ci_low_mix, ci_high_mix)]).T),\n",
    "#     ls = ' ',\n",
    "#     color='C1',\n",
    "# )\n",
    "\n",
    "ci_high_mix = scipy.stats.binom.isf(0.025, total_n_converted, mns) / total_n_converted\n",
    "ci_low_mix = scipy.stats.binom.isf(1-0.025, total_n_converted, mns) / total_n_converted\n",
    "\n",
    "bax.bar(\n",
    "    x=np.arange(len(mns))+1,\n",
    "    height=mns, \n",
    "    yerr = np.maximum(0, np.array([[mn-ci_low, ci_high-mn] for mn, ci_low, ci_high in zip(mns, ci_low_mix, ci_high_mix)]).T),\n",
    "    color=NCO_color,\n",
    "    alpha=0.6,\n",
    "    label=\"NCO reads\",\n",
    "    edgecolor=\"black\",\n",
    "    linewidth=1,\n",
    "    capsize=5,\n",
    "    ecolor=\"gray\",\n",
    ")\n",
    "\n",
    "bax.set_xlabel(\"# of converted markers\")\n",
    "bax.set_ylabel(\"Proportion\");\n",
    "bax.legend();\n",
    "\n",
    "fig.savefig(\"/nfs/treeoflife-01/teams/tola/users/rs42/git/sperm/figures/revision/n_converted.pdf\")"
   ]
  },
  {
   "cell_type": "code",
   "execution_count": 20,
   "id": "dc4faf3e-27b9-43f7-b53e-fad30423bcd0",
   "metadata": {
    "tags": []
   },
   "outputs": [
    {
     "data": {
      "image/png": "[encoded data removed]",
      "text/plain": [
       "<Figure size 450x400 with 1 Axes>"
      ]
     },
     "metadata": {},
     "output_type": "display_data"
    }
   ],
   "source": [
    "fig, ax = plt.subplots(figsize=(4.5,4))\n",
    "\n",
    "observed_sorted = (\n",
    "    (NCO_df\n",
    "        .filter(pl.col(\"lower_bound\") > 0)\n",
    "        [\"lower_bound\"].sort()\n",
    "    )\n",
    ")\n",
    "\n",
    "single_sorted = (\n",
    "    (sim_stats_1comp_df\n",
    "        .filter(pl.col(\"lower_bound\") > 0)\n",
    "        [\"lower_bound\"].sort()\n",
    "    )\n",
    ")\n",
    "\n",
    "mixture_sorted = (\n",
    "    (sim_stats_2comp_df\n",
    "        .filter(pl.col(\"lower_bound\") > 0)\n",
    "        [\"lower_bound\"].sort()\n",
    "    )\n",
    ")\n",
    "\n",
    "\n",
    "# Compute ECDF values\n",
    "observed_ecdf = np.arange(1, len(observed_sorted)+1) / len(observed_sorted)\n",
    "single_ecdf = np.arange(1, len(single_sorted)+1) / len(single_sorted)\n",
    "mixture_ecdf = np.arange(1, len(mixture_sorted)+1) / len(mixture_sorted)\n",
    "\n",
    "# Plot\n",
    "\n",
    "ax.plot(mixture_sorted, mixture_ecdf, color='C0', linestyle='-', label='Short + Long components', linewidth=1)\n",
    "ax.plot(single_sorted, single_ecdf, color=\"C1\", linestyle='-', label=\"Single component\", linewidth=1)\n",
    "ax.plot(observed_sorted, observed_ecdf, color=NCO_color, label='NCO reads', linewidth=2)\n",
    "\n",
    "ax.set_xscale(\"log\");\n",
    "ax.set_xlim(10**0.8, 1e4);\n",
    "ax.set_xlabel('Distance between converted SNPs (bp)')\n",
    "ax.set_ylabel('Cumulative proportion')\n",
    "ax.legend()\n",
    "plt.grid(True, which=\"both\", ls=\"--\", linewidth=0.5)\n",
    "plt.tight_layout()\n",
    "\n",
    "fig.savefig(\"/nfs/treeoflife-01/teams/tola/users/rs42/git/sperm/figures/revision/lower_bound.pdf\")"
   ]
  },
  {
   "cell_type": "code",
   "execution_count": null,
   "id": "95baa584-447d-4c35-81ed-9074a60b09fb",
   "metadata": {},
   "outputs": [],
   "source": []
  },
  {
   "cell_type": "code",
   "execution_count": null,
   "id": "5353512e-3fea-4014-ad72-cf10fafcbe6f",
   "metadata": {},
   "outputs": [],
   "source": []
  },
  {
   "cell_type": "code",
   "execution_count": 76,
   "id": "73c87d5f-8d28-4f0d-a9de-fa6a0e3d5394",
   "metadata": {
    "tags": []
   },
   "outputs": [],
   "source": [
    "sim_stats_df = sim_stats_2comp_df"
   ]
  },
  {
   "cell_type": "code",
   "execution_count": 77,
   "id": "8b98ad87-6321-4dee-a85e-6464c88179a9",
   "metadata": {
    "tags": []
   },
   "outputs": [
    {
     "data": {
      "image/png": "[encoded data removed]",
      "text/plain": [
       "<Figure size 1600x400 with 3 Axes>"
      ]
     },
     "metadata": {},
     "output_type": "display_data"
    }
   ],
   "source": [
    "fig, axs = plt.subplots(1, 3, figsize=(16, 4))\n",
    "\n",
    "sns.histplot(\n",
    "    [\n",
    "        NCO_df[\"n_converted\"].alias(\"Real\"),\n",
    "        sim_stats_df[\"n_converted\"].alias(\"Sim\"),\n",
    "    ],\n",
    "    ax = axs[0],\n",
    "    stat=\"probability\",\n",
    "    common_norm=False,\n",
    "    multiple = \"dodge\",\n",
    "    shrink = 0.8,\n",
    "    bins = np.arange(1, 10),\n",
    ");\n",
    "\n",
    "st = scipy.stats.ks_2samp(NCO_df[\"n_converted\"], sim_stats_df[\"n_converted\"]).statistic\n",
    "ksp = scipy.stats.ks_2samp(NCO_df[\"n_converted\"], sim_stats_df[\"n_converted\"]).pvalue\n",
    "axs[0].set_title(f\"# SNPs converted (ks = {st:1.3f}) p={ksp:1.3f})\");\n",
    "axs[0].set_xlabel(\"# of converted SNPs\");\n",
    "axs[0].set_yscale(\"log\");\n",
    "\n",
    "lb = (\n",
    "    (NCO_df\n",
    "        .filter(pl.col(\"lower_bound\") > 0)\n",
    "        [\"lower_bound\"].sort()\n",
    "    )\n",
    ")\n",
    "\n",
    "axs[1].plot(\n",
    "    np.arange(len(lb)) / len(lb),\n",
    "    lb,\n",
    "    label=\"Real\"\n",
    ")\n",
    "\n",
    "slb = (\n",
    "    (sim_stats_df\n",
    "        .filter(pl.col(\"lower_bound\") > 0)\n",
    "        [\"lower_bound\"].sort()\n",
    "    )\n",
    ")\n",
    "\n",
    "axs[1].plot(\n",
    "    np.arange(len(slb)) / len(slb),\n",
    "    slb,\n",
    "    label=\"Sim\"\n",
    ")\n",
    "\n",
    "\n",
    "st = scipy.stats.ks_2samp(NCO_df[\"lower_bound\"], sim_stats_df[\"lower_bound\"]).statistic\n",
    "ksp = scipy.stats.ks_2samp(NCO_df[\"lower_bound\"], sim_stats_df[\"lower_bound\"]).pvalue\n",
    "axs[1].set_title(f\"Lower bound CDF (ks = {st:1.3f} p={ksp:1.3f})\");\n",
    "axs[1].set_xlabel(\"Cum. fraction\");\n",
    "axs[1].set_ylabel(\"Interval in bp\");\n",
    "axs[1].set_yscale(\"log\");\n",
    "axs[1].legend();\n",
    "\n",
    "ub = (\n",
    "    (NCO_df\n",
    "        .filter(pl.col(\"upper_bound\") > 0)\n",
    "        [\"upper_bound\"].sort()\n",
    "    )\n",
    ")\n",
    "\n",
    "axs[2].plot(\n",
    "    np.arange(len(ub)) / len(ub),\n",
    "    ub,\n",
    "    label=\"Real\"\n",
    ")\n",
    "\n",
    "sub = (\n",
    "    (sim_stats_df\n",
    "        .filter(pl.col(\"upper_bound\") > 0)\n",
    "        [\"upper_bound\"].sort()\n",
    "    )\n",
    ")\n",
    "\n",
    "axs[2].plot(\n",
    "    np.arange(len(sub)) / len(sub),\n",
    "    sub,\n",
    "    label=\"Sim\"\n",
    ")\n",
    "\n",
    "st = scipy.stats.ks_2samp(NCO_df[\"upper_bound\"], sim_stats_df[\"upper_bound\"]).statistic\n",
    "ksp = scipy.stats.ks_2samp(NCO_df[\"upper_bound\"], sim_stats_df[\"upper_bound\"]).pvalue\n",
    "axs[2].set_title(f\"Upper bound CDF (ks = {st:1.3f}) p={ksp:1.3f})\");\n",
    "axs[2].set_xlabel(\"Cum. fraction\");\n",
    "axs[2].set_ylabel(\"Interval in bp\");\n",
    "axs[2].set_yscale(\"log\");\n",
    "axs[2].legend();\n",
    "\n",
    "fig.suptitle(f\"m={m}, L1={GC_tract_mean}, L2={GC_tract_mean2}\", y=1.03);"
   ]
  },
  {
   "cell_type": "code",
   "execution_count": 78,
   "id": "86fab095-131b-4020-a215-fd5c62b8be33",
   "metadata": {},
   "outputs": [
    {
     "data": {
      "image/png": "[encoded data removed]",
      "text/plain": [
       "<Figure size 1200x400 with 2 Axes>"
      ]
     },
     "metadata": {},
     "output_type": "display_data"
    }
   ],
   "source": [
    "fig, axs = plt.subplots(1, 2, figsize=(12, 4))\n",
    "\n",
    "sns.histplot(\n",
    "    [\n",
    "        NCO_df[\"n_converted\"].alias(\"Real\"),\n",
    "        sim_stats_df[\"n_converted\"].alias(\"Sim\"),\n",
    "    ],\n",
    "    ax = axs[0],\n",
    "    stat=\"probability\",\n",
    "    common_norm=False,\n",
    "    multiple = \"dodge\",\n",
    "    shrink = 0.8,\n",
    "    bins = np.arange(1, 6),\n",
    ");\n",
    "\n",
    "st = scipy.stats.ks_2samp(NCO_df[\"n_converted\"], sim_stats_df[\"n_converted\"]).statistic\n",
    "ksp = scipy.stats.ks_2samp(NCO_df[\"n_converted\"], sim_stats_df[\"n_converted\"]).pvalue\n",
    "axs[0].set_title(f\"# SNPs converted (ks = {st:1.3f} p={ksp:1.3f})\");\n",
    "axs[0].set_xlabel(\"# of converted SNPs\");\n",
    "\n",
    "lb = (\n",
    "    (NCO_df\n",
    "        .filter(pl.col(\"lower_bound\") > 0)\n",
    "        [\"lower_bound\"].sort()\n",
    "    )\n",
    ")\n",
    "\n",
    "\n",
    "slb = (\n",
    "    (sim_stats_df\n",
    "        .filter(pl.col(\"lower_bound\") > 0)\n",
    "        [\"lower_bound\"].sort()\n",
    "    )\n",
    ")\n",
    "\n",
    "sns.histplot(\n",
    "    [\n",
    "        lb.log(base=10).alias(\"Real\"),\n",
    "        slb.log(base=10).alias(\"Sim\"),\n",
    "    ],\n",
    "    ax = axs[1],\n",
    "    stat=\"probability\",\n",
    "    common_norm=False,\n",
    "    multiple = \"dodge\",\n",
    "    shrink = 0.8,\n",
    "    bins = np.linspace(1, 4, 25), #np.arange(1, 10),\n",
    ");\n",
    "\n",
    "#axs[1].set_yscale(\"log\");\n",
    "\n",
    "\n",
    "fig.suptitle(f\"m={m}, L1={GC_tract_mean}, L2={GC_tract_mean2}\", y=1.03);"
   ]
  },
  {
   "cell_type": "code",
   "execution_count": null,
   "id": "10ba73ba-5c72-4c2d-ab4b-6e0671be8afe",
   "metadata": {},
   "outputs": [],
   "source": []
  },
  {
   "cell_type": "markdown",
   "id": "0ab0d06d-f691-4dd4-8eaa-21e9af97e27d",
   "metadata": {},
   "source": [
    "# ABC"
   ]
  },
  {
   "cell_type": "code",
   "execution_count": 322,
   "id": "4511ef74-e7c3-4b16-8d49-4daae8d245f4",
   "metadata": {
    "tags": []
   },
   "outputs": [],
   "source": [
    "def simulate_and_stats(\n",
    "    idf,\n",
    "    m,\n",
    "    GC_tract_mean,\n",
    "    GC_tract_mean2,\n",
    "):  \n",
    "    recomb_rate_for_sim = 1\n",
    "    \n",
    "    # bounds = np.linspace(0, len(idf), 32, dtype=int)\n",
    "    # L = bounds[:-1]\n",
    "    # U = bounds[1:]\n",
    "\n",
    "    res = inference.simulate_read_patterns_probs(\n",
    "            numba.typed.List(idf[\"read_length\"].to_numpy()),\n",
    "            numba.typed.List(idf[\"high_quality_snp_positions\"].to_numpy()),\n",
    "            numba.typed.List(idf[\"between_high_quality_snps_bp\"].to_numpy() * recomb_rate_for_sim),\n",
    "            numba.typed.List(np.repeat(5000 * recomb_rate_for_sim, len(idf))),\n",
    "            numba.typed.List(np.repeat(5000 * recomb_rate_for_sim, len(idf))),\n",
    "            q = 0,\n",
    "            m = m,\n",
    "            GC_tract_mean = GC_tract_mean,\n",
    "            GC_tract_mean2 = GC_tract_mean2,\n",
    "            read_margin_in_bp = 5000,\n",
    "            allow_flip = False,\n",
    "        )\n",
    "    \n",
    "    # all_res = joblib.Parallel(n_jobs=-1, verbose=1)(\n",
    "    #     joblib.delayed(F)(idf[l:u]) for l,u in zip(L, U)\n",
    "    # )\n",
    "        \n",
    "\n",
    "    xxx = idf[\"high_quality_snp_positions\"].to_numpy()\n",
    "\n",
    "    sim_stats_df = pl.DataFrame(\n",
    "        [(\n",
    "            # xxx[event_index], \n",
    "            # idx_trans,\n",
    "            idx_trans[1] - idx_trans[0],\n",
    "            xxx[event_index][idx_trans[1]] - xxx[event_index][idx_trans[0]+1],\n",
    "            xxx[event_index][idx_trans[1]+1] - xxx[event_index][idx_trans[0]],\n",
    "        )\n",
    "             for idx_trans, event_index, event_type, tract_type, tract_length in zip(res[0], res[1], res[6], res[7], res[8]) \\\n",
    "             if event_type == 0 and len(idx_trans) == 2],\n",
    "        orient=\"row\",\n",
    "        schema=[\"n_converted\", \"lower_bound\", \"upper_bound\"],\n",
    "    )\n",
    "    \n",
    "    return sim_stats_df\n",
    "    "
   ]
  },
  {
   "cell_type": "code",
   "execution_count": null,
   "id": "f6fb31d2-dcfe-4768-9e69-8a8935819806",
   "metadata": {},
   "outputs": [],
   "source": []
  },
  {
   "cell_type": "code",
   "execution_count": 146,
   "id": "191094b4-8708-4216-9458-43f527f69f69",
   "metadata": {
    "tags": []
   },
   "outputs": [],
   "source": []
  },
  {
   "cell_type": "code",
   "execution_count": 277,
   "id": "1818cb43-0099-4dc4-ba1d-e35e812ad0a5",
   "metadata": {
    "tags": []
   },
   "outputs": [],
   "source": [
    "import scipy.stats\n",
    "\n",
    "original_stats = NCO_df.select(\"n_converted\", \"lower_bound\", \"upper_bound\")\n",
    "\n",
    "def ABC(\n",
    "    df,\n",
    "    original_stats,\n",
    "    prob_GC_component_range,\n",
    "    GC_tract_mean_range,\n",
    "    GC_tract_mean2_range,\n",
    "    basinhopping_iters = 50,\n",
    "    x0 = None,\n",
    "):    \n",
    "    def compare_stats(original_stats, current_stats):\n",
    "        S1 = scipy.stats.ks_2samp(original_stats[\"n_converted\"], current_stats[\"n_converted\"]).statistic\n",
    "        S2 = scipy.stats.ks_2samp(original_stats[\"lower_bound\"], current_stats[\"lower_bound\"]).statistic\n",
    "        S3 = scipy.stats.ks_2samp(original_stats[\"upper_bound\"], current_stats[\"upper_bound\"]).statistic\n",
    "        \n",
    "        S = S1 + S2 + S3\n",
    "\n",
    "        return S\n",
    "\n",
    "\n",
    "    def minimizeme(x, df, original_stats):\n",
    "        current_stats = simulate_and_stats(\n",
    "            df,\n",
    "            x[0],\n",
    "            x[1],\n",
    "            x[2],\n",
    "        )\n",
    "\n",
    "        S = compare_stats(original_stats, current_stats)\n",
    "\n",
    "        with np.printoptions(precision=3, suppress=True):\n",
    "            print(x, S)\n",
    "            \n",
    "        return S\n",
    "\n",
    "        \n",
    "    bounds = [prob_GC_component_range, GC_tract_mean_range, GC_tract_mean2_range]\n",
    "    lower_bounds = np.array([x[0] for x in bounds])\n",
    "    upper_bounds = np.array([x[1] for x in bounds])\n",
    "    stepsize = np.diff(np.array(bounds), axis=1).ravel() / 20\n",
    "    \n",
    "    if x0 is None:\n",
    "        x0 = [\n",
    "            np.mean(prob_GC_component_range), \n",
    "            np.mean(GC_tract_mean_range), \n",
    "            np.mean(GC_tract_mean2_range), \n",
    "        ]\n",
    "        \n",
    "    resbrute = scipy.optimize.brute(\n",
    "        func = minimizeme, \n",
    "        ranges = bounds, \n",
    "        args=(df, original_stats), \n",
    "        Ns=10, \n",
    "        full_output=True, \n",
    "        finish=None, \n",
    "        disp=False, \n",
    "        workers=1,\n",
    "    )\n",
    "    \n",
    "    return resbrute\n",
    "    \n",
    "#     def take_step(x):\n",
    "#         min_step = np.maximum(lower_bounds - x, -stepsize)\n",
    "#         max_step = np.minimum(upper_bounds - x, stepsize)\n",
    "\n",
    "#         random_step = np.random.uniform(low=min_step, high=max_step, size=x.shape)\n",
    "#         xnew = x + random_step\n",
    "#         print(\"hopped to\", xnew)\n",
    "        \n",
    "#         return xnew\n",
    "    \n",
    "#     res = scipy.optimize.basinhopping(\n",
    "#         func = minimizeme,\n",
    "#         x0 = x0,      \n",
    "#         take_step=take_step,\n",
    "#         minimizer_kwargs={\n",
    "#             \"method\": \"Nelder-Mead\", \n",
    "#             \"bounds\": bounds,\n",
    "#             \"options\": {\"maxiter\": 10000, \"xatol\": 1e-3},            \n",
    "#             \"args\": (df, original_stats),\n",
    "#         },\n",
    "#         niter=basinhopping_iters,\n",
    "#         niter_success=5,\n",
    "#         disp=True,\n",
    "#     )\n",
    "    \n",
    "    # res = scipy.optimize.minimize(\n",
    "    #     fun = minimizeme,\n",
    "    #     x0 = x0,\n",
    "    #     method = \"Nelder-Mead\",\n",
    "    #     args = (df, original_stats),\n",
    "    #     bounds = bounds,\n",
    "    #     options={'xatol': 1e-3},\n",
    "    # )\n",
    "    \n",
    "    return res\n"
   ]
  },
  {
   "cell_type": "code",
   "execution_count": null,
   "id": "73c0b0b2-8d00-4a24-a5db-d09da028adda",
   "metadata": {
    "tags": []
   },
   "outputs": [],
   "source": [
    "abc_res = ABC(\n",
    "    callset_df[::100],\n",
    "    original_stats,\n",
    "    [0.97, 1],\n",
    "    [20, 50],\n",
    "    [500, 1500],\n",
    "    x0 = [0.99, 30, 1000],\n",
    ")"
   ]
  },
  {
   "cell_type": "code",
   "execution_count": 306,
   "id": "040e8969-28cd-48ef-93a0-fe3e8e2664a9",
   "metadata": {
    "tags": []
   },
   "outputs": [
    {
     "data": {
      "text/plain": [
       "array([  0.99333333,  40.        , 944.44444444])"
      ]
     },
     "execution_count": 306,
     "metadata": {},
     "output_type": "execute_result"
    }
   ],
   "source": [
    "abc_res[0]"
   ]
  },
  {
   "cell_type": "code",
   "execution_count": null,
   "id": "9d37300a-285a-48c0-9b06-9aca803dda98",
   "metadata": {},
   "outputs": [],
   "source": []
  },
  {
   "cell_type": "code",
   "execution_count": 304,
   "id": "ec5ba08e-b448-47d9-b471-32f88cce1ae7",
   "metadata": {
    "tags": []
   },
   "outputs": [
    {
     "data": {
      "image/png": "[encoded data removed]",
      "text/plain": [
       "<Figure size 640x480 with 2 Axes>"
      ]
     },
     "metadata": {},
     "output_type": "display_data"
    }
   ],
   "source": [
    "sns.heatmap(\n",
    "    abc_res[3][6,:,:],\n",
    "    vmin=0, \n",
    "    vmax=0.2,\n",
    ");"
   ]
  },
  {
   "cell_type": "code",
   "execution_count": null,
   "id": "c889cbce-2e3c-48bf-b866-b49e400240c6",
   "metadata": {},
   "outputs": [],
   "source": []
  },
  {
   "cell_type": "markdown",
   "id": "59e48e4a-8dfb-4df7-8897-3db69547ef08",
   "metadata": {},
   "source": [
    "# Read snakemake data"
   ]
  },
  {
   "cell_type": "code",
   "execution_count": 10,
   "id": "b09096fd-9253-4d23-8517-072c68ba513e",
   "metadata": {
    "tags": []
   },
   "outputs": [
    {
     "name": "stderr",
     "output_type": "stream",
     "text": [
      "[Parallel(n_jobs=-1)]: Using backend LokyBackend with 16 concurrent workers.\n",
      "[Parallel(n_jobs=-1)]: Done  18 tasks      | elapsed:    0.2s\n",
      "[Parallel(n_jobs=-1)]: Done 304 tasks      | elapsed:    1.9s\n",
      "[Parallel(n_jobs=-1)]: Done 804 tasks      | elapsed:    6.5s\n",
      "[Parallel(n_jobs=-1)]: Done 1504 tasks      | elapsed:   11.7s\n",
      "[Parallel(n_jobs=-1)]: Done 2404 tasks      | elapsed:   18.4s\n",
      "[Parallel(n_jobs=-1)]: Done 3504 tasks      | elapsed:   26.4s\n",
      "[Parallel(n_jobs=-1)]: Done 4804 tasks      | elapsed:   36.4s\n",
      "[Parallel(n_jobs=-1)]: Done 6304 tasks      | elapsed:   45.9s\n",
      "[Parallel(n_jobs=-1)]: Done 6696 out of 6727 | elapsed:   49.2s remaining:    0.2s\n",
      "[Parallel(n_jobs=-1)]: Done 6727 out of 6727 | elapsed:   49.5s finished\n"
     ]
    }
   ],
   "source": [
    "def F(m, L1, L2):\n",
    "    return (\n",
    "        (m, L1, L2), \n",
    "        pl.read_parquet(\n",
    "            f\"/lustre/scratch122/tol/projects/sperm/results/tract_length_inference_sperm_20250407/tract_stats_m={m:1.3f}_L1={L1:1.3f}_L2={L2:1.3f}.parquet\"\n",
    "        )\n",
    "    )\n",
    "\n",
    "ddd = joblib.Parallel(n_jobs=-1, verbose=1)(\n",
    "    joblib.delayed(F)(m, L1, L2) \\\n",
    "\n",
    "    # for m in np.linspace(0.97, 1, 11)\n",
    "    # for L1 in np.linspace(10, 100, 11)\n",
    "    # for L2 in np.linspace(500, 2000, 21)\n",
    "    for m in np.linspace(0.988, 0.994, 7)\n",
    "    for L1 in np.linspace(20, 50, 31)\n",
    "    for L2 in np.linspace(650, 1550, 31)    \n",
    ")\n",
    "           \n",
    "opt_res = dict(ddd)"
   ]
  },
  {
   "cell_type": "code",
   "execution_count": 21,
   "id": "74bfbbac-610d-42b8-bb2f-ed78ac09a2ff",
   "metadata": {
    "tags": []
   },
   "outputs": [
    {
     "name": "stderr",
     "output_type": "stream",
     "text": [
      "[Parallel(n_jobs=32)]: Using backend LokyBackend with 32 concurrent workers.\n",
      "[Parallel(n_jobs=32)]: Done 136 tasks      | elapsed:   15.0s\n",
      "[Parallel(n_jobs=32)]: Done 386 tasks      | elapsed:   33.6s\n",
      "[Parallel(n_jobs=32)]: Done 500 out of 500 | elapsed:   44.3s finished\n"
     ]
    }
   ],
   "source": [
    "def F(m, L1, L2):\n",
    "    return (\n",
    "        (m, L1, L2), \n",
    "        pl.read_parquet(\n",
    "            f\"/lustre/scratch122/tol/projects/sperm/results/tract_length_inference_sperm_20250407/tract_stats_m={m:1.3f}_L1={L1:1.3f}_L2={L2:1.3f}.parquet\"\n",
    "        )\n",
    "    )\n",
    "\n",
    "ddd = joblib.Parallel(n_jobs=-1, verbose=1)(\n",
    "    joblib.delayed(F)(m, L1, L2) \\\n",
    "\n",
    "    # for m in np.linspace(0.97, 1, 11)\n",
    "    # for L1 in np.linspace(10, 100, 11)\n",
    "    # for L2 in np.linspace(500, 2000, 21)\n",
    "    for m in [1.0]\n",
    "    for L1 in np.linspace(10, 1000, 500)\n",
    "    for L2 in [1000]\n",
    ")\n",
    "           \n",
    "opt_res_single = dict(ddd)"
   ]
  },
  {
   "cell_type": "code",
   "execution_count": 11,
   "id": "cb251b4e-a288-4350-b919-9985d3f0695e",
   "metadata": {
    "tags": []
   },
   "outputs": [],
   "source": [
    "def compare_stats(original_stats, current_stats):\n",
    "    S1 = scipy.stats.ks_2samp(original_stats[\"n_converted\"], current_stats[\"n_converted\"]).statistic\n",
    "    S2 = scipy.stats.ks_2samp(original_stats[\"lower_bound\"], current_stats[\"lower_bound\"]).statistic\n",
    "    S3 = scipy.stats.ks_2samp(original_stats[\"upper_bound\"], current_stats[\"upper_bound\"]).statistic\n",
    "\n",
    "    S = S1 + S2 + S3\n",
    "\n",
    "    return S"
   ]
  },
  {
   "cell_type": "code",
   "execution_count": 12,
   "id": "c386d365-31d6-4699-a9ea-547ec69fb7de",
   "metadata": {
    "tags": []
   },
   "outputs": [],
   "source": [
    "original_stats = NCO_df.select(\"n_converted\", \"lower_bound\", \"upper_bound\")\n"
   ]
  },
  {
   "cell_type": "code",
   "execution_count": 13,
   "id": "3b78926f-1ab2-4493-b096-67ff62f9af61",
   "metadata": {
    "tags": []
   },
   "outputs": [],
   "source": [
    "def fit_stats(original_stats, opt_res, parallelize=True):\n",
    "    if parallelize:\n",
    "        opt_scores = joblib.Parallel(n_jobs=16, verbose=0)(\n",
    "            joblib.delayed(compare_stats)(original_stats, v) for k,v in opt_res.items()\n",
    "        )\n",
    "    else:\n",
    "        opt_scores = [compare_stats(original_stats, v) for k,v in opt_res.items()]\n",
    "    \n",
    "    opt_df = pl.DataFrame(\n",
    "        list(zip([list(np.array(k)) for k in opt_res.keys()], opt_scores)),\n",
    "        # opt_scores,\n",
    "        orient=\"row\",\n",
    "        schema=[\"params\", \"score\"],\n",
    "        strict=False,\n",
    "    )\n",
    "    \n",
    "    return opt_df.sort(\"score\", descending=False).head(10)"
   ]
  },
  {
   "cell_type": "code",
   "execution_count": 14,
   "id": "f7d7be7b-0bbf-4cf5-9c9f-670b294581aa",
   "metadata": {
    "tags": []
   },
   "outputs": [
    {
     "name": "stdout",
     "output_type": "stream",
     "text": [
      "CPU times: user 30.5 s, sys: 33.9 s, total: 1min 4s\n",
      "Wall time: 1min 15s\n"
     ]
    },
    {
     "data": {
      "text/html": [
       "<div><style>\n",
       ".dataframe > thead > tr,\n",
       ".dataframe > tbody > tr {\n",
       "  text-align: right;\n",
       "  white-space: pre-wrap;\n",
       "}\n",
       "</style>\n",
       "<small>shape: (10, 2)</small><table border=\"1\" class=\"dataframe\"><thead><tr><th>params</th><th>score</th></tr><tr><td>list[f64]</td><td>f64</td></tr></thead><tbody><tr><td>[0.993,&nbsp;31.0,&nbsp;1220.0]</td><td>0.039671</td></tr><tr><td>[0.991,&nbsp;32.0,&nbsp;890.0]</td><td>0.039714</td></tr><tr><td>[0.992,&nbsp;35.0,&nbsp;1040.0]</td><td>0.039785</td></tr><tr><td>[0.993,&nbsp;35.0,&nbsp;1070.0]</td><td>0.039941</td></tr><tr><td>[0.993,&nbsp;38.0,&nbsp;1160.0]</td><td>0.03997</td></tr><tr><td>[0.991,&nbsp;28.0,&nbsp;890.0]</td><td>0.040128</td></tr><tr><td>[0.989,&nbsp;32.0,&nbsp;770.0]</td><td>0.040232</td></tr><tr><td>[0.992,&nbsp;33.0,&nbsp;980.0]</td><td>0.040256</td></tr><tr><td>[0.991,&nbsp;33.0,&nbsp;890.0]</td><td>0.04028</td></tr><tr><td>[0.993,&nbsp;37.0,&nbsp;1130.0]</td><td>0.040457</td></tr></tbody></table></div>"
      ],
      "text/plain": [
       "shape: (10, 2)\n",
       "┌───────────────────────┬──────────┐\n",
       "│ params                ┆ score    │\n",
       "│ ---                   ┆ ---      │\n",
       "│ list[f64]             ┆ f64      │\n",
       "╞═══════════════════════╪══════════╡\n",
       "│ [0.993, 31.0, 1220.0] ┆ 0.039671 │\n",
       "│ [0.991, 32.0, 890.0]  ┆ 0.039714 │\n",
       "│ [0.992, 35.0, 1040.0] ┆ 0.039785 │\n",
       "│ [0.993, 35.0, 1070.0] ┆ 0.039941 │\n",
       "│ [0.993, 38.0, 1160.0] ┆ 0.03997  │\n",
       "│ [0.991, 28.0, 890.0]  ┆ 0.040128 │\n",
       "│ [0.989, 32.0, 770.0]  ┆ 0.040232 │\n",
       "│ [0.992, 33.0, 980.0]  ┆ 0.040256 │\n",
       "│ [0.991, 33.0, 890.0]  ┆ 0.04028  │\n",
       "│ [0.993, 37.0, 1130.0] ┆ 0.040457 │\n",
       "└───────────────────────┴──────────┘"
      ]
     },
     "execution_count": 14,
     "metadata": {},
     "output_type": "execute_result"
    }
   ],
   "source": [
    "%%time\n",
    "fit_stats(original_stats, opt_res)"
   ]
  },
  {
   "cell_type": "code",
   "execution_count": null,
   "id": "db51172f-aee5-4a8c-9141-6b1917abf150",
   "metadata": {},
   "outputs": [],
   "source": []
  },
  {
   "cell_type": "code",
   "execution_count": null,
   "id": "8924432b-a77b-4319-9699-445d52c0cf71",
   "metadata": {},
   "outputs": [],
   "source": []
  },
  {
   "cell_type": "code",
   "execution_count": 55,
   "id": "e9d2d76a-0a0d-4445-a85b-1eef3d131187",
   "metadata": {
    "tags": []
   },
   "outputs": [
    {
     "data": {
      "text/html": [
       "<div><style>\n",
       ".dataframe > thead > tr,\n",
       ".dataframe > tbody > tr {\n",
       "  text-align: right;\n",
       "  white-space: pre-wrap;\n",
       "}\n",
       "</style>\n",
       "<small>shape: (10, 2)</small><table border=\"1\" class=\"dataframe\"><thead><tr><th>params</th><th>score</th></tr><tr><td>list[f64]</td><td>f64</td></tr></thead><tbody><tr><td>[1.0,&nbsp;71.503006,&nbsp;1000.0]</td><td>0.074125</td></tr><tr><td>[1.0,&nbsp;73.486974,&nbsp;1000.0]</td><td>0.074804</td></tr><tr><td>[1.0,&nbsp;69.519038,&nbsp;1000.0]</td><td>0.075211</td></tr><tr><td>[1.0,&nbsp;77.45491,&nbsp;1000.0]</td><td>0.076807</td></tr><tr><td>[1.0,&nbsp;75.470942,&nbsp;1000.0]</td><td>0.077208</td></tr><tr><td>[1.0,&nbsp;79.438878,&nbsp;1000.0]</td><td>0.07802</td></tr><tr><td>[1.0,&nbsp;65.551102,&nbsp;1000.0]</td><td>0.078638</td></tr><tr><td>[1.0,&nbsp;67.53507,&nbsp;1000.0]</td><td>0.078774</td></tr><tr><td>[1.0,&nbsp;81.422846,&nbsp;1000.0]</td><td>0.07987</td></tr><tr><td>[1.0,&nbsp;63.567134,&nbsp;1000.0]</td><td>0.082736</td></tr></tbody></table></div>"
      ],
      "text/plain": [
       "shape: (10, 2)\n",
       "┌──────────────────────────┬──────────┐\n",
       "│ params                   ┆ score    │\n",
       "│ ---                      ┆ ---      │\n",
       "│ list[f64]                ┆ f64      │\n",
       "╞══════════════════════════╪══════════╡\n",
       "│ [1.0, 71.503006, 1000.0] ┆ 0.074125 │\n",
       "│ [1.0, 73.486974, 1000.0] ┆ 0.074804 │\n",
       "│ [1.0, 69.519038, 1000.0] ┆ 0.075211 │\n",
       "│ [1.0, 77.45491, 1000.0]  ┆ 0.076807 │\n",
       "│ [1.0, 75.470942, 1000.0] ┆ 0.077208 │\n",
       "│ [1.0, 79.438878, 1000.0] ┆ 0.07802  │\n",
       "│ [1.0, 65.551102, 1000.0] ┆ 0.078638 │\n",
       "│ [1.0, 67.53507, 1000.0]  ┆ 0.078774 │\n",
       "│ [1.0, 81.422846, 1000.0] ┆ 0.07987  │\n",
       "│ [1.0, 63.567134, 1000.0] ┆ 0.082736 │\n",
       "└──────────────────────────┴──────────┘"
      ]
     },
     "execution_count": 55,
     "metadata": {},
     "output_type": "execute_result"
    }
   ],
   "source": [
    "fit_stats(original_stats, opt_res_single)"
   ]
  },
  {
   "cell_type": "code",
   "execution_count": null,
   "id": "c7a1d9e4-364a-43c0-8ecc-f4db0b6fa9f6",
   "metadata": {},
   "outputs": [],
   "source": [
    "# %%time\n",
    "# def F():\n",
    "#     opt_df = fit_stats(\n",
    "#         NCO_df.select(\"n_converted\", \"lower_bound\", \"upper_bound\").sample(fraction=1, with_replacement=True), \n",
    "#         opt_res,\n",
    "#         parallelize=False,\n",
    "#     )\n",
    "    \n",
    "#     return opt_df\n",
    "\n",
    "# bootstraps = joblib.Parallel(n_jobs=-1, verbose=1, backend=\"threading\")(\n",
    "#     joblib.delayed(F)() for i in range(32)\n",
    "# )\n",
    "# bootstraps = pl.concat([r[0] for r in bootstraps])\n",
    "\n",
    "# #bootstraps.write_parquet(\"/lustre/scratch122/tol/projects/sperm/results/tract_length_inference_sperm_20250407/bootstrap_opts.parquet\")"
   ]
  },
  {
   "cell_type": "code",
   "execution_count": 15,
   "id": "deff857a-b007-418a-b058-5535e0252578",
   "metadata": {
    "tags": []
   },
   "outputs": [
    {
     "name": "stderr",
     "output_type": "stream",
     "text": [
      "100%|██████████| 100/100 [1:41:12<00:00, 60.73s/it]\n"
     ]
    }
   ],
   "source": [
    "def F():\n",
    "    opt_df = fit_stats(\n",
    "        NCO_df.select(\"n_converted\", \"lower_bound\", \"upper_bound\").sample(fraction=1, with_replacement=True), \n",
    "        opt_res,\n",
    "    )\n",
    "    \n",
    "    return opt_df\n",
    "\n",
    "bootstraps = pl.concat([F()[0] for i in tqdm.trange(100)])\n",
    "\n",
    "bootstraps.write_parquet(\"/lustre/scratch122/tol/projects/sperm/results/tract_length_inference_sperm_20250407/bootstrap_opts.parquet\")"
   ]
  },
  {
   "cell_type": "code",
   "execution_count": null,
   "id": "28204afe-a886-47c0-84a4-7b18dbbfc808",
   "metadata": {},
   "outputs": [],
   "source": []
  },
  {
   "cell_type": "code",
   "execution_count": 11,
   "id": "3b9c1149-eb64-4c20-95c2-860cd99a7c17",
   "metadata": {
    "tags": []
   },
   "outputs": [],
   "source": [
    "bootstraps = pd.read_parquet(\"/lustre/scratch122/tol/projects/sperm/results/tract_length_inference_sperm_20250407/bootstrap_opts.parquet\")"
   ]
  },
  {
   "cell_type": "code",
   "execution_count": null,
   "id": "706f6006-dd2d-4fc7-a33c-06a1e2599a0e",
   "metadata": {},
   "outputs": [],
   "source": []
  },
  {
   "cell_type": "code",
   "execution_count": 14,
   "id": "644e77b2-b571-4b43-bcb8-86653fe4f45a",
   "metadata": {
    "tags": []
   },
   "outputs": [
    {
     "data": {
      "text/plain": [
       "array([[9.8800e-01, 2.2000e+01, 6.8000e+02],\n",
       "       [9.9400e-01, 4.1525e+01, 1.5200e+03]])"
      ]
     },
     "execution_count": 14,
     "metadata": {},
     "output_type": "execute_result"
    }
   ],
   "source": [
    "np.quantile(np.vstack(bootstraps[\"params\"].to_numpy()), q=[0.025, 0.975], axis=0)"
   ]
  },
  {
   "cell_type": "code",
   "execution_count": null,
   "id": "883db557-ee2f-48b8-87db-80ab51d1f64f",
   "metadata": {},
   "outputs": [],
   "source": []
  },
  {
   "cell_type": "code",
   "execution_count": null,
   "id": "11780c61-ab6c-4f99-a4a4-68942ef8a46c",
   "metadata": {},
   "outputs": [],
   "source": []
  },
  {
   "cell_type": "code",
   "execution_count": null,
   "id": "02cb2ff0-da45-46d2-888e-7a59441c620d",
   "metadata": {},
   "outputs": [],
   "source": []
  },
  {
   "cell_type": "code",
   "execution_count": 89,
   "id": "cc295b72-def2-4549-8ad4-73b707b1965c",
   "metadata": {
    "tags": []
   },
   "outputs": [
    {
     "data": {
      "text/html": [
       "<div>\n",
       "<style scoped>\n",
       "    .dataframe tbody tr th:only-of-type {\n",
       "        vertical-align: middle;\n",
       "    }\n",
       "\n",
       "    .dataframe tbody tr th {\n",
       "        vertical-align: top;\n",
       "    }\n",
       "\n",
       "    .dataframe thead th {\n",
       "        text-align: right;\n",
       "    }\n",
       "</style>\n",
       "<table border=\"1\" class=\"dataframe\">\n",
       "  <thead>\n",
       "    <tr style=\"text-align: right;\">\n",
       "      <th></th>\n",
       "      <th>params</th>\n",
       "      <th>score</th>\n",
       "    </tr>\n",
       "  </thead>\n",
       "  <tbody>\n",
       "    <tr>\n",
       "      <th>0</th>\n",
       "      <td>[0.991, 32.0, 950.0]</td>\n",
       "      <td>0.042560</td>\n",
       "    </tr>\n",
       "    <tr>\n",
       "      <th>1</th>\n",
       "      <td>[0.994, 34.0, 1070.0]</td>\n",
       "      <td>0.048917</td>\n",
       "    </tr>\n",
       "    <tr>\n",
       "      <th>2</th>\n",
       "      <td>[0.993, 35.0, 1070.0]</td>\n",
       "      <td>0.037956</td>\n",
       "    </tr>\n",
       "    <tr>\n",
       "      <th>3</th>\n",
       "      <td>[0.993, 37.0, 1130.0]</td>\n",
       "      <td>0.045126</td>\n",
       "    </tr>\n",
       "    <tr>\n",
       "      <th>4</th>\n",
       "      <td>[0.992, 30.0, 890.0]</td>\n",
       "      <td>0.048682</td>\n",
       "    </tr>\n",
       "    <tr>\n",
       "      <th>...</th>\n",
       "      <td>...</td>\n",
       "      <td>...</td>\n",
       "    </tr>\n",
       "    <tr>\n",
       "      <th>95</th>\n",
       "      <td>[0.994, 31.0, 1070.0]</td>\n",
       "      <td>0.036228</td>\n",
       "    </tr>\n",
       "    <tr>\n",
       "      <th>96</th>\n",
       "      <td>[0.989, 31.0, 830.0]</td>\n",
       "      <td>0.042100</td>\n",
       "    </tr>\n",
       "    <tr>\n",
       "      <th>97</th>\n",
       "      <td>[0.993, 27.0, 980.0]</td>\n",
       "      <td>0.058434</td>\n",
       "    </tr>\n",
       "    <tr>\n",
       "      <th>98</th>\n",
       "      <td>[0.994, 28.0, 1100.0]</td>\n",
       "      <td>0.036052</td>\n",
       "    </tr>\n",
       "    <tr>\n",
       "      <th>99</th>\n",
       "      <td>[0.993, 35.0, 1070.0]</td>\n",
       "      <td>0.037808</td>\n",
       "    </tr>\n",
       "  </tbody>\n",
       "</table>\n",
       "<p>100 rows × 2 columns</p>\n",
       "</div>"
      ],
      "text/plain": [
       "                   params     score\n",
       "0    [0.991, 32.0, 950.0]  0.042560\n",
       "1   [0.994, 34.0, 1070.0]  0.048917\n",
       "2   [0.993, 35.0, 1070.0]  0.037956\n",
       "3   [0.993, 37.0, 1130.0]  0.045126\n",
       "4    [0.992, 30.0, 890.0]  0.048682\n",
       "..                    ...       ...\n",
       "95  [0.994, 31.0, 1070.0]  0.036228\n",
       "96   [0.989, 31.0, 830.0]  0.042100\n",
       "97   [0.993, 27.0, 980.0]  0.058434\n",
       "98  [0.994, 28.0, 1100.0]  0.036052\n",
       "99  [0.993, 35.0, 1070.0]  0.037808\n",
       "\n",
       "[100 rows x 2 columns]"
      ]
     },
     "execution_count": 89,
     "metadata": {},
     "output_type": "execute_result"
    }
   ],
   "source": [
    "bootstraps"
   ]
  },
  {
   "cell_type": "code",
   "execution_count": null,
   "id": "90354bd2-1663-4ba0-8c30-88c93213262b",
   "metadata": {},
   "outputs": [],
   "source": []
  },
  {
   "cell_type": "code",
   "execution_count": null,
   "id": "e6409618-1dde-44f2-a2f6-10cbdb6a6e46",
   "metadata": {},
   "outputs": [],
   "source": []
  },
  {
   "cell_type": "code",
   "execution_count": 38,
   "id": "158109f5-d77d-4ea7-b488-f87f4ec23683",
   "metadata": {
    "tags": []
   },
   "outputs": [
    {
     "name": "stderr",
     "output_type": "stream",
     "text": [
      "\n",
      "  0%|          | 0/100 [00:00<?, ?it/s]\u001b[A\n",
      "  1%|          | 1/100 [01:09<1:54:00, 69.09s/it]\u001b[A\n",
      "  2%|▏         | 2/100 [02:19<1:53:41, 69.61s/it]\u001b[A\n",
      "  3%|▎         | 3/100 [03:28<1:52:28, 69.57s/it]\u001b[A\n",
      "  4%|▍         | 4/100 [04:38<1:51:27, 69.66s/it]\u001b[A\n",
      "  5%|▌         | 5/100 [05:48<1:50:23, 69.72s/it]\u001b[A\n",
      "  6%|▌         | 6/100 [06:57<1:48:59, 69.57s/it]\u001b[A\n",
      "  7%|▋         | 7/100 [08:07<1:47:57, 69.65s/it]\u001b[A\n",
      "  8%|▊         | 8/100 [09:17<1:46:58, 69.76s/it]\u001b[A\n",
      "  9%|▉         | 9/100 [10:26<1:45:26, 69.52s/it]\u001b[A\n",
      " 10%|█         | 10/100 [11:35<1:44:07, 69.42s/it]\u001b[A\n",
      " 11%|█         | 11/100 [12:45<1:43:20, 69.67s/it]\u001b[A\n",
      " 12%|█▏        | 12/100 [13:54<1:41:56, 69.51s/it]\u001b[A\n",
      " 13%|█▎        | 13/100 [15:04<1:40:45, 69.49s/it]\u001b[A\n",
      " 14%|█▍        | 14/100 [16:13<1:39:37, 69.50s/it]\u001b[A\n",
      " 15%|█▌        | 15/100 [17:23<1:38:41, 69.66s/it]\u001b[A\n",
      " 16%|█▌        | 16/100 [18:33<1:37:37, 69.73s/it]\u001b[A\n",
      " 17%|█▋        | 17/100 [19:41<1:35:28, 69.02s/it]\u001b[A\n",
      " 18%|█▊        | 18/100 [20:48<1:33:37, 68.51s/it]\u001b[A\n",
      " 19%|█▉        | 19/100 [21:56<1:32:11, 68.29s/it]\u001b[A\n",
      " 20%|██        | 20/100 [23:03<1:30:45, 68.07s/it]\u001b[A\n",
      " 21%|██        | 21/100 [24:11<1:29:19, 67.85s/it]\u001b[A\n",
      " 22%|██▏       | 22/100 [25:19<1:28:16, 67.91s/it]\u001b[A\n",
      " 23%|██▎       | 23/100 [26:25<1:26:28, 67.39s/it]\u001b[A\n",
      " 24%|██▍       | 24/100 [27:31<1:24:50, 66.98s/it]\u001b[A\n",
      " 25%|██▌       | 25/100 [28:38<1:23:53, 67.11s/it]\u001b[A\n",
      " 26%|██▌       | 26/100 [29:45<1:22:47, 67.13s/it]\u001b[A\n",
      " 27%|██▋       | 27/100 [30:54<1:22:18, 67.65s/it]\u001b[A\n",
      " 28%|██▊       | 28/100 [32:03<1:21:28, 67.90s/it]\u001b[A\n",
      " 29%|██▉       | 29/100 [33:12<1:20:48, 68.28s/it]\u001b[A\n",
      " 30%|███       | 30/100 [34:21<1:19:47, 68.40s/it]\u001b[A\n",
      " 31%|███       | 31/100 [35:30<1:18:56, 68.64s/it]\u001b[A\n",
      " 32%|███▏      | 32/100 [36:40<1:18:14, 69.04s/it]\u001b[A\n",
      " 33%|███▎      | 33/100 [37:48<1:16:57, 68.92s/it]\u001b[A\n",
      " 34%|███▍      | 34/100 [38:56<1:15:28, 68.62s/it]\u001b[A\n",
      " 35%|███▌      | 35/100 [40:03<1:13:42, 68.04s/it]\u001b[A\n",
      " 36%|███▌      | 36/100 [41:09<1:11:56, 67.44s/it]\u001b[A\n",
      " 37%|███▋      | 37/100 [42:16<1:10:39, 67.30s/it]\u001b[A\n",
      " 38%|███▊      | 38/100 [43:23<1:09:22, 67.14s/it]\u001b[A\n",
      " 39%|███▉      | 39/100 [44:29<1:08:05, 66.98s/it]\u001b[A\n",
      " 40%|████      | 40/100 [45:37<1:07:00, 67.01s/it]\u001b[A\n",
      " 41%|████      | 41/100 [46:43<1:05:44, 66.86s/it]\u001b[A\n",
      " 42%|████▏     | 42/100 [47:50<1:04:32, 66.77s/it]\u001b[A\n",
      " 43%|████▎     | 43/100 [48:57<1:03:29, 66.83s/it]\u001b[A\n",
      " 44%|████▍     | 44/100 [50:03<1:02:17, 66.74s/it]\u001b[A\n",
      " 45%|████▌     | 45/100 [51:10<1:01:07, 66.69s/it]\u001b[A\n",
      " 46%|████▌     | 46/100 [52:18<1:00:24, 67.12s/it]\u001b[A\n",
      " 47%|████▋     | 47/100 [53:26<59:29, 67.36s/it]  \u001b[A\n",
      " 48%|████▊     | 48/100 [54:32<58:11, 67.15s/it]\u001b[A\n",
      " 49%|████▉     | 49/100 [55:39<56:54, 66.96s/it]\u001b[A\n",
      " 50%|█████     | 50/100 [56:45<55:41, 66.83s/it]\u001b[A\n",
      " 51%|█████     | 51/100 [57:54<55:04, 67.43s/it]\u001b[A\n",
      " 52%|█████▏    | 52/100 [59:03<54:17, 67.86s/it]\u001b[A\n",
      " 53%|█████▎    | 53/100 [1:00:12<53:27, 68.24s/it]\u001b[A\n",
      " 54%|█████▍    | 54/100 [1:01:21<52:27, 68.43s/it]\u001b[A\n",
      " 55%|█████▌    | 55/100 [1:02:30<51:30, 68.68s/it]\u001b[A\n",
      " 56%|█████▌    | 56/100 [1:03:39<50:27, 68.81s/it]\u001b[A\n",
      " 57%|█████▋    | 57/100 [1:04:48<49:20, 68.84s/it]\u001b[A\n",
      " 58%|█████▊    | 58/100 [1:05:58<48:14, 68.93s/it]\u001b[A\n",
      " 59%|█████▉    | 59/100 [1:07:06<47:03, 68.87s/it]\u001b[A\n",
      " 60%|██████    | 60/100 [1:08:15<45:57, 68.94s/it]\u001b[A\n",
      " 61%|██████    | 61/100 [1:09:25<44:57, 69.17s/it]\u001b[A\n",
      " 62%|██████▏   | 62/100 [1:10:34<43:49, 69.21s/it]\u001b[A\n",
      " 63%|██████▎   | 63/100 [1:11:43<42:38, 69.14s/it]\u001b[A\n",
      " 64%|██████▍   | 64/100 [1:12:53<41:31, 69.22s/it]\u001b[A\n",
      " 65%|██████▌   | 65/100 [1:14:02<40:21, 69.18s/it]\u001b[A\n",
      " 66%|██████▌   | 66/100 [1:15:11<39:09, 69.11s/it]\u001b[A\n",
      " 67%|██████▋   | 67/100 [1:16:20<37:58, 69.05s/it]\u001b[A\n",
      " 68%|██████▊   | 68/100 [1:17:29<36:47, 68.99s/it]\u001b[A\n",
      " 69%|██████▉   | 69/100 [1:18:38<35:39, 69.03s/it]\u001b[A\n",
      " 70%|███████   | 70/100 [1:19:47<34:29, 68.99s/it]\u001b[A\n",
      " 71%|███████   | 71/100 [1:20:56<33:20, 68.98s/it]\u001b[A\n",
      " 72%|███████▏  | 72/100 [1:22:05<32:14, 69.08s/it]\u001b[A\n",
      " 73%|███████▎  | 73/100 [1:23:14<31:04, 69.05s/it]\u001b[A\n",
      " 74%|███████▍  | 74/100 [1:24:23<29:53, 68.98s/it]\u001b[A\n",
      " 75%|███████▌  | 75/100 [1:25:31<28:42, 68.89s/it]\u001b[A\n",
      " 76%|███████▌  | 76/100 [1:26:40<27:29, 68.72s/it]\u001b[A\n",
      " 77%|███████▋  | 77/100 [1:27:49<26:22, 68.79s/it]\u001b[A\n",
      " 78%|███████▊  | 78/100 [1:28:58<25:15, 68.91s/it]\u001b[A\n",
      " 79%|███████▉  | 79/100 [1:30:07<24:06, 68.90s/it]\u001b[A\n",
      " 80%|████████  | 80/100 [1:31:16<22:58, 68.92s/it]\u001b[A\n",
      " 81%|████████  | 81/100 [1:32:25<21:50, 68.99s/it]\u001b[A\n",
      " 82%|████████▏ | 82/100 [1:33:34<20:43, 69.10s/it]\u001b[A\n",
      " 83%|████████▎ | 83/100 [1:34:43<19:33, 69.01s/it]\u001b[A\n",
      " 84%|████████▍ | 84/100 [1:35:51<18:20, 68.76s/it]\u001b[A\n",
      " 85%|████████▌ | 85/100 [1:37:00<17:11, 68.79s/it]\u001b[A\n",
      " 86%|████████▌ | 86/100 [1:38:09<16:03, 68.82s/it]\u001b[A\n",
      " 87%|████████▋ | 87/100 [1:39:18<14:54, 68.82s/it]\u001b[A\n",
      " 88%|████████▊ | 88/100 [1:40:27<13:46, 68.85s/it]\u001b[A\n",
      " 89%|████████▉ | 89/100 [1:41:35<12:36, 68.81s/it]\u001b[A\n",
      " 90%|█████████ | 90/100 [1:42:45<11:29, 68.99s/it]\u001b[A\n",
      " 91%|█████████ | 91/100 [1:43:54<10:20, 68.99s/it]\u001b[A\n",
      " 92%|█████████▏| 92/100 [1:45:02<09:11, 68.92s/it]\u001b[A\n",
      " 93%|█████████▎| 93/100 [1:46:11<08:01, 68.85s/it]\u001b[A\n",
      " 94%|█████████▍| 94/100 [1:47:20<06:52, 68.82s/it]\u001b[A\n",
      " 95%|█████████▌| 95/100 [1:48:29<05:44, 68.93s/it]\u001b[A\n",
      " 96%|█████████▌| 96/100 [1:49:38<04:35, 68.90s/it]\u001b[A\n",
      " 97%|█████████▋| 97/100 [1:50:46<03:25, 68.64s/it]\u001b[A\n",
      " 98%|█████████▊| 98/100 [1:51:55<02:17, 68.66s/it]\u001b[A\n",
      " 99%|█████████▉| 99/100 [1:53:03<01:08, 68.69s/it]\u001b[A\n",
      "100%|██████████| 100/100 [1:54:12<00:00, 68.52s/it]\u001b[A\n"
     ]
    },
    {
     "ename": "ComputeError",
     "evalue": "cannot write 'Object' datatype to parquet",
     "output_type": "error",
     "traceback": [
      "\u001b[0;31m---------------------------------------------------------------------------\u001b[0m",
      "\u001b[0;31mComputeError\u001b[0m                              Traceback (most recent call last)",
      "\u001b[0;32m/tmp/ipykernel_2441714/3620940594.py\u001b[0m in \u001b[0;36m?\u001b[0;34m()\u001b[0m\n\u001b[1;32m      7\u001b[0m     \u001b[0;32mreturn\u001b[0m \u001b[0mopt_df\u001b[0m\u001b[0;34m\u001b[0m\u001b[0;34m\u001b[0m\u001b[0m\n\u001b[1;32m      8\u001b[0m \u001b[0;34m\u001b[0m\u001b[0m\n\u001b[1;32m      9\u001b[0m \u001b[0mbootstraps_singles\u001b[0m \u001b[0;34m=\u001b[0m \u001b[0mpl\u001b[0m\u001b[0;34m.\u001b[0m\u001b[0mconcat\u001b[0m\u001b[0;34m(\u001b[0m\u001b[0;34m[\u001b[0m\u001b[0mF\u001b[0m\u001b[0;34m(\u001b[0m\u001b[0;34m)\u001b[0m\u001b[0;34m[\u001b[0m\u001b[0;36m0\u001b[0m\u001b[0;34m]\u001b[0m \u001b[0;32mfor\u001b[0m \u001b[0mi\u001b[0m \u001b[0;32min\u001b[0m \u001b[0mtqdm\u001b[0m\u001b[0;34m.\u001b[0m\u001b[0mtrange\u001b[0m\u001b[0;34m(\u001b[0m\u001b[0;36m100\u001b[0m\u001b[0;34m)\u001b[0m\u001b[0;34m]\u001b[0m\u001b[0;34m)\u001b[0m\u001b[0;34m\u001b[0m\u001b[0;34m\u001b[0m\u001b[0m\n\u001b[1;32m     10\u001b[0m \u001b[0;34m\u001b[0m\u001b[0m\n\u001b[0;32m---> 11\u001b[0;31m \u001b[0mbootstraps_singles\u001b[0m\u001b[0;34m.\u001b[0m\u001b[0mwrite_parquet\u001b[0m\u001b[0;34m(\u001b[0m\u001b[0;34m\"/lustre/scratch122/tol/projects/sperm/results/tract_length_inference_sperm_20250407/bootstrap_opts_single.parquet\"\u001b[0m\u001b[0;34m)\u001b[0m\u001b[0;34m\u001b[0m\u001b[0;34m\u001b[0m\u001b[0m\n\u001b[0m",
      "\u001b[0;32m~/rs42/miniforge3/envs/sperm/lib/python3.11/site-packages/polars/dataframe/frame.py\u001b[0m in \u001b[0;36m?\u001b[0;34m(self, file, compression, compression_level, statistics, row_group_size, data_page_size, use_pyarrow, pyarrow_options, partition_by, partition_chunk_size_bytes)\u001b[0m\n\u001b[1;32m   3849\u001b[0m \u001b[0;34m\u001b[0m\u001b[0m\n\u001b[1;32m   3850\u001b[0m             \u001b[0;32mif\u001b[0m \u001b[0misinstance\u001b[0m\u001b[0;34m(\u001b[0m\u001b[0mpartition_by\u001b[0m\u001b[0;34m,\u001b[0m \u001b[0mstr\u001b[0m\u001b[0;34m)\u001b[0m\u001b[0;34m:\u001b[0m\u001b[0;34m\u001b[0m\u001b[0;34m\u001b[0m\u001b[0m\n\u001b[1;32m   3851\u001b[0m                 \u001b[0mpartition_by\u001b[0m \u001b[0;34m=\u001b[0m \u001b[0;34m[\u001b[0m\u001b[0mpartition_by\u001b[0m\u001b[0;34m]\u001b[0m\u001b[0;34m\u001b[0m\u001b[0;34m\u001b[0m\u001b[0m\n\u001b[1;32m   3852\u001b[0m \u001b[0;34m\u001b[0m\u001b[0m\n\u001b[0;32m-> 3853\u001b[0;31m             self._df.write_parquet(\n\u001b[0m\u001b[1;32m   3854\u001b[0m                 \u001b[0mfile\u001b[0m\u001b[0;34m,\u001b[0m\u001b[0;34m\u001b[0m\u001b[0;34m\u001b[0m\u001b[0m\n\u001b[1;32m   3855\u001b[0m                 \u001b[0mcompression\u001b[0m\u001b[0;34m,\u001b[0m\u001b[0;34m\u001b[0m\u001b[0;34m\u001b[0m\u001b[0m\n\u001b[1;32m   3856\u001b[0m                 \u001b[0mcompression_level\u001b[0m\u001b[0;34m,\u001b[0m\u001b[0;34m\u001b[0m\u001b[0;34m\u001b[0m\u001b[0m\n",
      "\u001b[0;31mComputeError\u001b[0m: cannot write 'Object' datatype to parquet"
     ]
    }
   ],
   "source": [
    "def F():\n",
    "    opt_df = fit_stats(\n",
    "        NCO_df.select(\"n_converted\", \"lower_bound\", \"upper_bound\").sample(fraction=1, with_replacement=True), \n",
    "        opt_res_single,\n",
    "    )\n",
    "    \n",
    "    return opt_df\n",
    "\n",
    "bootstraps_singles = pl.concat([F()[0] for i in tqdm.trange(100)])\n",
    "\n",
    "bootstraps_singles.write_parquet(\"/lustre/scratch122/tol/projects/sperm/results/tract_length_inference_sperm_20250407/bootstrap_opts_single.parquet\")\n"
   ]
  },
  {
   "cell_type": "code",
   "execution_count": 49,
   "id": "c616d2c3-4186-487e-9607-8cdc852e7654",
   "metadata": {},
   "outputs": [
    {
     "ename": "TypeError",
     "evalue": "not yet implemented: Nested object types\n\nHint: Try setting `strict=False` to allow passing data with mixed types.",
     "output_type": "error",
     "traceback": [
      "\u001b[0;31m---------------------------------------------------------------------------\u001b[0m",
      "\u001b[0;31mTypeError\u001b[0m                                 Traceback (most recent call last)",
      "Cell \u001b[0;32mIn[49], line 1\u001b[0m\n\u001b[0;32m----> 1\u001b[0m bootstraps_singles \u001b[38;5;241m=\u001b[39m bootstraps_singles\u001b[38;5;241m.\u001b[39mwith_columns(params \u001b[38;5;241m=\u001b[39m \u001b[43mpl\u001b[49m\u001b[38;5;241;43m.\u001b[39;49m\u001b[43mSeries\u001b[49m\u001b[43m(\u001b[49m\u001b[38;5;28;43mlist\u001b[39;49m\u001b[43m(\u001b[49m\u001b[38;5;28;43mmap\u001b[39;49m\u001b[43m(\u001b[49m\u001b[38;5;28;43mlist\u001b[39;49m\u001b[43m,\u001b[49m\u001b[43m \u001b[49m\u001b[43mbootstraps_singles\u001b[49m\u001b[43m[\u001b[49m\u001b[38;5;124;43m\"\u001b[39;49m\u001b[38;5;124;43mparams\u001b[39;49m\u001b[38;5;124;43m\"\u001b[39;49m\u001b[43m]\u001b[49m\u001b[43m)\u001b[49m\u001b[43m)\u001b[49m\u001b[43m)\u001b[49m)\n",
      "File \u001b[0;32m~/rs42/miniforge3/envs/sperm/lib/python3.11/site-packages/polars/series/series.py:289\u001b[0m, in \u001b[0;36mSeries.__init__\u001b[0;34m(self, name, values, dtype, strict, nan_to_null)\u001b[0m\n\u001b[1;32m    286\u001b[0m         \u001b[38;5;28;01mraise\u001b[39;00m \u001b[38;5;167;01mTypeError\u001b[39;00m(msg)\n\u001b[1;32m    288\u001b[0m \u001b[38;5;28;01mif\u001b[39;00m \u001b[38;5;28misinstance\u001b[39m(values, Sequence):\n\u001b[0;32m--> 289\u001b[0m     \u001b[38;5;28mself\u001b[39m\u001b[38;5;241m.\u001b[39m_s \u001b[38;5;241m=\u001b[39m \u001b[43msequence_to_pyseries\u001b[49m\u001b[43m(\u001b[49m\n\u001b[1;32m    290\u001b[0m \u001b[43m        \u001b[49m\u001b[43mname\u001b[49m\u001b[43m,\u001b[49m\n\u001b[1;32m    291\u001b[0m \u001b[43m        \u001b[49m\u001b[43mvalues\u001b[49m\u001b[43m,\u001b[49m\n\u001b[1;32m    292\u001b[0m \u001b[43m        \u001b[49m\u001b[43mdtype\u001b[49m\u001b[38;5;241;43m=\u001b[39;49m\u001b[43mdtype\u001b[49m\u001b[43m,\u001b[49m\n\u001b[1;32m    293\u001b[0m \u001b[43m        \u001b[49m\u001b[43mstrict\u001b[49m\u001b[38;5;241;43m=\u001b[39;49m\u001b[43mstrict\u001b[49m\u001b[43m,\u001b[49m\n\u001b[1;32m    294\u001b[0m \u001b[43m        \u001b[49m\u001b[43mnan_to_null\u001b[49m\u001b[38;5;241;43m=\u001b[39;49m\u001b[43mnan_to_null\u001b[49m\u001b[43m,\u001b[49m\n\u001b[1;32m    295\u001b[0m \u001b[43m    \u001b[49m\u001b[43m)\u001b[49m\n\u001b[1;32m    297\u001b[0m \u001b[38;5;28;01melif\u001b[39;00m values \u001b[38;5;129;01mis\u001b[39;00m \u001b[38;5;28;01mNone\u001b[39;00m:\n\u001b[1;32m    298\u001b[0m     \u001b[38;5;28mself\u001b[39m\u001b[38;5;241m.\u001b[39m_s \u001b[38;5;241m=\u001b[39m sequence_to_pyseries(name, [], dtype\u001b[38;5;241m=\u001b[39mdtype)\n",
      "File \u001b[0;32m~/rs42/miniforge3/envs/sperm/lib/python3.11/site-packages/polars/_utils/construction/series.py:248\u001b[0m, in \u001b[0;36msequence_to_pyseries\u001b[0;34m(name, values, dtype, strict, nan_to_null)\u001b[0m\n\u001b[1;32m    246\u001b[0m \u001b[38;5;28;01melif\u001b[39;00m python_dtype \u001b[38;5;129;01min\u001b[39;00m (\u001b[38;5;28mlist\u001b[39m, \u001b[38;5;28mtuple\u001b[39m):\n\u001b[1;32m    247\u001b[0m     \u001b[38;5;28;01mif\u001b[39;00m dtype \u001b[38;5;129;01mis\u001b[39;00m \u001b[38;5;28;01mNone\u001b[39;00m:\n\u001b[0;32m--> 248\u001b[0m         \u001b[38;5;28;01mreturn\u001b[39;00m \u001b[43mPySeries\u001b[49m\u001b[38;5;241;43m.\u001b[39;49m\u001b[43mnew_from_any_values\u001b[49m\u001b[43m(\u001b[49m\u001b[43mname\u001b[49m\u001b[43m,\u001b[49m\u001b[43m \u001b[49m\u001b[43mvalues\u001b[49m\u001b[43m,\u001b[49m\u001b[43m \u001b[49m\u001b[43mstrict\u001b[49m\u001b[38;5;241;43m=\u001b[39;49m\u001b[43mstrict\u001b[49m\u001b[43m)\u001b[49m\n\u001b[1;32m    249\u001b[0m     \u001b[38;5;28;01melif\u001b[39;00m dtype \u001b[38;5;241m==\u001b[39m Object:\n\u001b[1;32m    250\u001b[0m         \u001b[38;5;28;01mreturn\u001b[39;00m PySeries\u001b[38;5;241m.\u001b[39mnew_object(name, values, strict)\n",
      "\u001b[0;31mTypeError\u001b[0m: not yet implemented: Nested object types\n\nHint: Try setting `strict=False` to allow passing data with mixed types."
     ]
    }
   ],
   "source": [
    "bootstraps_singles = bootstraps_singles.with_columns(params = pl.Series(list(map(list, bootstraps_singles[\"params\"]))))"
   ]
  },
  {
   "cell_type": "code",
   "execution_count": 46,
   "id": "856dbc5c-9ebf-41af-aabb-29bf3efbf26e",
   "metadata": {},
   "outputs": [],
   "source": [
    "bootstraps_singles.write_parquet(\"/lustre/scratch122/tol/projects/sperm/results/tract_length_inference_sperm_20250407/bootstrap_opts_single.parquet\")\n"
   ]
  },
  {
   "cell_type": "code",
   "execution_count": 53,
   "id": "dc1e3e21-cbe7-42c1-8763-6aa82b829886",
   "metadata": {
    "tags": []
   },
   "outputs": [
    {
     "data": {
      "text/plain": [
       "array([[   1.        ,   60.54158317, 1000.        ],\n",
       "       [   1.        ,   89.35871743, 1000.        ]])"
      ]
     },
     "execution_count": 53,
     "metadata": {},
     "output_type": "execute_result"
    }
   ],
   "source": [
    "np.quantile(np.vstack(bootstraps_singles[\"params\"][0].to_numpy()), q=[0.025, 0.975], axis=0)"
   ]
  },
  {
   "cell_type": "code",
   "execution_count": null,
   "id": "f024ad95-f89b-4165-8a52-cf59a621fa94",
   "metadata": {},
   "outputs": [],
   "source": []
  }
 ],
 "metadata": {
  "kernelspec": {
   "display_name": "sperm",
   "language": "python",
   "name": "sperm"
  },
  "language_info": {
   "codemirror_mode": {
    "name": "ipython",
    "version": 3
   },
   "file_extension": ".py",
   "mimetype": "text/x-python",
   "name": "python",
   "nbconvert_exporter": "python",
   "pygments_lexer": "ipython3",
   "version": "3.11.10"
  }
 },
 "nbformat": 4,
 "nbformat_minor": 5
}
