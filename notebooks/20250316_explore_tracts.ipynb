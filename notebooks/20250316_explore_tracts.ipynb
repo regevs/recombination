{
 "cells": [
  {
   "cell_type": "code",
   "execution_count": 1,
   "id": "563132a2-b3b4-473b-a54a-8ffd1d39dbd9",
   "metadata": {},
   "outputs": [],
   "source": [
    "%load_ext autoreload\n",
    "%autoreload 2"
   ]
  },
  {
   "cell_type": "code",
   "execution_count": 2,
   "id": "c06f871c-d43d-461a-92d1-61a8e97e5081",
   "metadata": {},
   "outputs": [],
   "source": [
    "import numpy as np\n",
    "import pandas as pd\n",
    "import matplotlib as mpl\n",
    "import matplotlib.pyplot as plt\n",
    "plt.rcParams['pdf.use14corefonts'] = True\n",
    "\n",
    "import matplotlib.ticker as ticker\n",
    "import numba\n",
    "import numba.typed\n",
    "\n",
    "from pathlib import Path\n",
    "import tqdm\n",
    "import sys\n",
    "import seaborn as sns\n",
    "import scipy.stats\n",
    "import os\n",
    "import pysam\n",
    "import pprint\n",
    "import pickle\n",
    "import joblib\n",
    "import subprocess\n",
    "import io\n",
    "import itertools\n",
    "import warnings\n",
    "import statsmodels.stats.proportion\n",
    "\n",
    "import polars as pl\n",
    "pl.Config.set_tbl_rows(-1)\n",
    "pl.Config.set_fmt_str_lengths(50)\n",
    "\n",
    "\n",
    "from brokenaxes import brokenaxes\n",
    "\n",
    "\n",
    "from adjustText import adjust_text\n",
    "\n",
    "\n",
    "# This is needed before pybedtools to make sure bedtools is imported on sanger JupyterHub \n",
    "os.environ[\"PATH\"] += \":\" + os.path.join(sys.prefix, \"bin\")\n",
    "import pybedtools\n",
    "\n",
    "pd.set_option('display.max_rows', 1000)\n"
   ]
  },
  {
   "cell_type": "code",
   "execution_count": 3,
   "id": "ba68cee4-eeb6-4246-a71e-149b2d2b07f3",
   "metadata": {},
   "outputs": [],
   "source": [
    "sys.path.append(str(Path(os.getcwd()).parent))\n",
    "from src import liftover, annotate, diagnostics, inference\n",
    "from src.IDs import *"
   ]
  },
  {
   "cell_type": "markdown",
   "id": "a857cc40-42c7-4d45-9131-f7a706d1104d",
   "metadata": {},
   "source": [
    "# Add relevant fields to the dataframe of all reads"
   ]
  },
  {
   "cell_type": "markdown",
   "id": "f8131747-8fb7-4602-9a0e-28a460e10156",
   "metadata": {},
   "source": [
    "## Create reads dataframe"
   ]
  },
  {
   "cell_type": "code",
   "execution_count": 4,
   "id": "80c32478-7686-4082-ac2e-60257b52bf99",
   "metadata": {
    "tags": []
   },
   "outputs": [],
   "source": [
    "rahbari_df = pl.read_csv(\"/nfs/users/nfs_r/rs42/rs42/git/sperm/configs/Rahbari.tsv\", separator='\\t')"
   ]
  },
  {
   "cell_type": "code",
   "execution_count": 5,
   "id": "504c511b-4bf0-4c30-b876-0f20d43fad18",
   "metadata": {
    "tags": []
   },
   "outputs": [],
   "source": [
    "sudmant_df = (\n",
    "    pl.read_csv(\"/nfs/users/nfs_r/rs42/rs42/git/sperm/configs/Sudmant.tsv\", separator='\\t')\n",
    "    .with_columns(\n",
    "        pl.col(\"sample_set\").cast(pl.String),\n",
    "        pl.col(\"sample_id\").cast(pl.String),\n",
    "    )\n",
    ")"
   ]
  },
  {
   "cell_type": "code",
   "execution_count": 6,
   "id": "4d0688c2-fb1c-4b85-a2a3-121c079e586d",
   "metadata": {
    "tags": []
   },
   "outputs": [],
   "source": [
    "ceph_df = pl.read_csv(\"/nfs/users/nfs_r/rs42/rs42/git/sperm/configs/CEPH.tsv\", separator='\\t')"
   ]
  },
  {
   "cell_type": "code",
   "execution_count": null,
   "id": "d5986766-275a-4c47-8fa2-68223636a829",
   "metadata": {},
   "outputs": [],
   "source": []
  },
  {
   "cell_type": "code",
   "execution_count": 7,
   "id": "944ddab3-3622-4576-ac7f-e2138d38f776",
   "metadata": {},
   "outputs": [
    {
     "name": "stderr",
     "output_type": "stream",
     "text": [
      "9it [00:00, 2778.71it/s]\n",
      "6it [00:00, 3709.58it/s]\n",
      "16it [00:00, 2855.70it/s]"
     ]
    },
    {
     "name": "stdout",
     "output_type": "stream",
     "text": [
      "CPU times: user 27 ms, sys: 6.45 ms, total: 33.5 ms\n",
      "Wall time: 18.3 ms\n"
     ]
    },
    {
     "name": "stderr",
     "output_type": "stream",
     "text": [
      "\n"
     ]
    }
   ],
   "source": [
    "%%time\n",
    "reads_df_list = \\\n",
    "    [\n",
    "        pl.scan_parquet(\n",
    "            f\"/lustre/scratch122/tol/projects/sperm/results/Rahbari_20250212/read_analysis/{sample_set}/{sample_id}/reads/{chrom}/all_reads_structure_annotated.parquet\",\n",
    "        ) \n",
    "        for sample_id, sample_set in tqdm.tqdm(rahbari_df.select(\"sample_id\", \"sample_set\").unique().iter_rows())\n",
    "        for chrom in aut_chrom_names\n",
    "    ] + \\\n",
    "    [\n",
    "        pl.scan_parquet(\n",
    "            f\"/lustre/scratch122/tol/projects/sperm/results/Sudmant_20241121/read_analysis/{sample_set}/{sample_id}/reads/{chrom}/all_reads_structure_annotated.parquet\",\n",
    "        ) \n",
    "        for sample_id, sample_set in tqdm.tqdm(sudmant_df.select(\"sample_id\", \"sample_set\").unique().iter_rows())\n",
    "        for chrom in aut_chrom_names\n",
    "    ] + \\\n",
    "    [\n",
    "        pl.scan_parquet(\n",
    "            f\"/lustre/scratch122/tol/projects/sperm/results/CEPH_20250212/read_analysis/{sample_set}/{sample_id}/reads/{chrom}/all_reads_structure_annotated.parquet\",\n",
    "        ) \n",
    "        for sample_id, sample_set in tqdm.tqdm(ceph_df.select(\"sample_id\", \"sample_set\").unique().iter_rows())\n",
    "        for chrom in aut_chrom_names\n",
    "    ]\n"
   ]
  },
  {
   "cell_type": "markdown",
   "id": "99f1a4da-c15f-4f35-bc71-608c5031a7d9",
   "metadata": {},
   "source": [
    "## Subset of reads with at least 3 SNPs and a GC"
   ]
  },
  {
   "cell_type": "code",
   "execution_count": 8,
   "id": "7d50ddca-b028-430a-8068-cf4e75753745",
   "metadata": {
    "tags": []
   },
   "outputs": [
    {
     "name": "stderr",
     "output_type": "stream",
     "text": [
      "/nfs/users/nfs_r/rs42/rs42/miniforge3/envs/sperm/lib/python3.11/site-packages/joblib/externals/loky/backend/fork_exec.py:38: RuntimeWarning: Using fork() can cause Polars to deadlock in the child process.\n",
      "In addition, using fork() with Python in general is a recipe for mysterious\n",
      "deadlocks and crashes.\n",
      "\n",
      "The most likely reason you are seeing this error is because you are using the\n",
      "multiprocessing module on Linux, which uses fork() by default. This will be\n",
      "fixed in Python 3.14. Until then, you want to use the \"spawn\" context instead.\n",
      "\n",
      "See https://docs.pola.rs/user-guide/misc/multiprocessing/ for details.\n",
      "\n",
      "  pid = os.fork()\n",
      "[Parallel(n_jobs=-1)]: Using backend LokyBackend with 16 concurrent workers.\n",
      "[Parallel(n_jobs=-1)]: Done   9 tasks      | elapsed:    4.7s\n",
      "[Parallel(n_jobs=-1)]: Done  18 tasks      | elapsed:    6.6s\n",
      "[Parallel(n_jobs=-1)]: Done  29 tasks      | elapsed:    8.0s\n",
      "[Parallel(n_jobs=-1)]: Done  40 tasks      | elapsed:    8.4s\n",
      "[Parallel(n_jobs=-1)]: Done  53 tasks      | elapsed:   12.2s\n",
      "[Parallel(n_jobs=-1)]: Done  66 tasks      | elapsed:   16.0s\n",
      "/nfs/users/nfs_r/rs42/rs42/miniforge3/envs/sperm/lib/python3.11/site-packages/joblib/externals/loky/process_executor.py:752: UserWarning: A worker stopped while some jobs were given to the executor. This can be caused by a too short worker timeout or by a memory leak.\n",
      "  warnings.warn(\n",
      "[Parallel(n_jobs=-1)]: Done  81 tasks      | elapsed:   18.6s\n",
      "[Parallel(n_jobs=-1)]: Done  96 tasks      | elapsed:   23.5s\n",
      "[Parallel(n_jobs=-1)]: Done 113 tasks      | elapsed:   27.6s\n",
      "[Parallel(n_jobs=-1)]: Done 130 tasks      | elapsed:   29.6s\n",
      "[Parallel(n_jobs=-1)]: Done 149 tasks      | elapsed:   31.2s\n",
      "[Parallel(n_jobs=-1)]: Done 168 tasks      | elapsed:   35.7s\n",
      "[Parallel(n_jobs=-1)]: Done 189 tasks      | elapsed:   36.5s\n",
      "[Parallel(n_jobs=-1)]: Done 210 tasks      | elapsed:   38.5s\n",
      "[Parallel(n_jobs=-1)]: Done 233 tasks      | elapsed:   40.4s\n",
      "[Parallel(n_jobs=-1)]: Done 256 tasks      | elapsed:   42.5s\n",
      "[Parallel(n_jobs=-1)]: Done 281 tasks      | elapsed:   44.6s\n",
      "[Parallel(n_jobs=-1)]: Done 306 tasks      | elapsed:   46.8s\n",
      "[Parallel(n_jobs=-1)]: Done 333 tasks      | elapsed:   49.0s\n",
      "[Parallel(n_jobs=-1)]: Done 360 tasks      | elapsed:   50.5s\n",
      "[Parallel(n_jobs=-1)]: Done 389 tasks      | elapsed:   52.5s\n",
      "[Parallel(n_jobs=-1)]: Done 418 tasks      | elapsed:   54.2s\n",
      "[Parallel(n_jobs=-1)]: Done 449 tasks      | elapsed:   57.5s\n",
      "[Parallel(n_jobs=-1)]: Done 480 tasks      | elapsed:   59.2s\n",
      "[Parallel(n_jobs=-1)]: Done 513 tasks      | elapsed:  1.1min\n",
      "[Parallel(n_jobs=-1)]: Done 546 tasks      | elapsed:  1.1min\n",
      "[Parallel(n_jobs=-1)]: Done 581 tasks      | elapsed:  1.1min\n",
      "[Parallel(n_jobs=-1)]: Done 616 tasks      | elapsed:  1.2min\n"
     ]
    },
    {
     "name": "stdout",
     "output_type": "stream",
     "text": [
      "CPU times: user 1.97 s, sys: 1.32 s, total: 3.28 s\n",
      "Wall time: 1min 13s\n"
     ]
    },
    {
     "name": "stderr",
     "output_type": "stream",
     "text": [
      "[Parallel(n_jobs=-1)]: Done 682 out of 682 | elapsed:  1.2min finished\n"
     ]
    }
   ],
   "source": [
    "%%time\n",
    "\n",
    "fields = [\n",
    "    'read_name',\n",
    "    'read_length',\n",
    "    'chrom',\n",
    "    'sample_id',\n",
    "    'grch37_chromosome_size_in_bp',\n",
    "    'high_quality_snp_positions',\n",
    "    \"high_quality_snp_positions_alleles\",\n",
    "    \"high_quality_snps_idx_transitions\",\n",
    "    'CO_active_interval_start',\n",
    "    'CO_active_interval_end',\n",
    "    'CO_active_interval_length_bp',\n",
    "    'NCO_active_interval_start',\n",
    "    'NCO_active_interval_end',\n",
    "    'NCO_active_interval_length_bp',\n",
    "    'grch37_reference_start',\n",
    "    'grch38_reference_start',\n",
    "    'grch37_reference_end',\n",
    "    'grch38_reference_end',\n",
    "    'T2T_reference_start',\n",
    "    'grch37_reference_start_cM',\n",
    "    'grch37_reference_end_cM',\n",
    "    'CO_active_interval_start_cM',\n",
    "    'CO_active_interval_end_cM',\n",
    "    'CO_active_interval_crossover_prob',\n",
    "    'NCO_active_interval_start_cM',\n",
    "    'NCO_active_interval_end_cM',\n",
    "    'NCO_active_interval_crossover_prob',\n",
    "    \"NCO_prob_detection_in_CO_active_interval\",\n",
    "    \"full_read_crossover_prob\",\n",
    "    'AA_motif_center_pos',\n",
    "    'AA_heat',\n",
    "    'AA_motif_strand',\n",
    "    'CL4_motif_center_pos',\n",
    "    'CL4_heat',\n",
    "    'CL4_motif_strand',\n",
    "    'is_high_quality_read', \n",
    "    \"high_quality_classification_class\",\n",
    "    \"snp_positions_on_read\", \n",
    "    \"idx_transitions\",\n",
    "    \"high_quality_classification_in_detectable_class\",\n",
    "    \"H3K4me3_signal_mean\",\n",
    "    \"CTCF_signal_mean\",  \n",
    "    \"total_mismatches\",\n",
    "    \"is_contamination\",\n",
    "]\n",
    "\n",
    "def F(reads_df):\n",
    "    return (reads_df\n",
    "        .select(fields)           \n",
    "        .filter(pl.col(\"high_quality_classification_class\") == \"GC\")\n",
    "        .collect()\n",
    "        .filter(~pl.col(\"is_contamination\"))\n",
    "        .filter(pl.col(\"is_high_quality_read\"))\n",
    "        .filter(pl.col(\"high_quality_snp_positions\").list.len() >= 3)\n",
    "        .filter(pl.col(\"CO_active_interval_crossover_prob\") > 0)\n",
    "        .filter(pl.col(\"high_quality_snps_idx_transitions\").list.len() == 2)    \n",
    "        .select(fields)\n",
    "    )\n",
    "\n",
    "dense_reads_with_detection_df = pl.concat(\n",
    "    joblib.Parallel(n_jobs=-1, verbose=10)(\n",
    "        joblib.delayed(F)(reads_df) for reads_df in reads_df_list\n",
    "    )\n",
    ")"
   ]
  },
  {
   "cell_type": "code",
   "execution_count": null,
   "id": "3f0ef373-207b-4171-aa50-0debe88633fb",
   "metadata": {},
   "outputs": [],
   "source": []
  },
  {
   "cell_type": "code",
   "execution_count": 9,
   "id": "08962c67-1d1a-404d-8a3a-66548827caa3",
   "metadata": {},
   "outputs": [],
   "source": [
    "NCO_df = (dense_reads_with_detection_df\n",
    "    .filter(pl.col(\"high_quality_classification_class\") == \"GC\")\n",
    "    .with_columns(\n",
    "        grch37_recombining_interval_start_pos = pl.col(\"grch37_reference_start\") + pl.col(\"snp_positions_on_read\").list.get(pl.col(\"idx_transitions\").list.get(0)),\n",
    "        grch37_recombining_interval_end_pos = pl.col(\"grch37_reference_start\") + pl.col(\"snp_positions_on_read\").list.get(pl.col(\"idx_transitions\").list.get(-1) + 1),\n",
    "        grch38_recombining_interval_start_pos = pl.col(\"grch38_reference_start\") + pl.col(\"snp_positions_on_read\").list.get(pl.col(\"idx_transitions\").list.get(0)),\n",
    "        grch38_recombining_interval_end_pos = pl.col(\"grch38_reference_start\") + pl.col(\"snp_positions_on_read\").list.get(pl.col(\"idx_transitions\").list.get(-1) + 1),\n",
    "        grch37_first_converted_marker_pos = pl.col(\"grch37_reference_start\") + pl.col(\"snp_positions_on_read\").list.get(pl.col(\"idx_transitions\").list.get(0)+1),\n",
    "        grch38_first_converted_marker_pos = pl.col(\"grch38_reference_start\") + pl.col(\"snp_positions_on_read\").list.get(pl.col(\"idx_transitions\").list.get(0)+1),\n",
    "    )\n",
    "    .with_columns(\n",
    "        grch37_recombining_interval_length = pl.col(\"grch37_recombining_interval_end_pos\") - pl.col(\"grch37_recombining_interval_start_pos\"),                \n",
    "        grch38_recombining_interval_length = pl.col(\"grch38_recombining_interval_end_pos\") - pl.col(\"grch38_recombining_interval_start_pos\"),                \n",
    "        grch37_genetic_length_cM = pl.col(\"grch37_reference_end_cM\") - pl.col(\"grch37_reference_start_cM\"),\n",
    "    )\n",
    "    .with_columns(\n",
    "        n_converted = pl.col(\"high_quality_snps_idx_transitions\").list.diff(null_behavior=\"drop\").list.first(),\n",
    "        upper_bound = (\n",
    "            pl.col(\"snp_positions_on_read\").list.get(pl.col(\"idx_transitions\").list.get(1)+1) -\n",
    "            pl.col(\"snp_positions_on_read\").list.get(pl.col(\"idx_transitions\").list.get(0))\n",
    "        ),\n",
    "        high_quality_upper_bound = (\n",
    "            pl.col(\"high_quality_snp_positions\").list.get(pl.col(\"high_quality_snps_idx_transitions\").list.get(1)+1) -\n",
    "            pl.col(\"high_quality_snp_positions\").list.get(pl.col(\"high_quality_snps_idx_transitions\").list.get(0))\n",
    "        ),\n",
    "        dataset = (\n",
    "            pl.when(pl.col(\"sample_id\").is_in(rahbari_sample_ids))\n",
    "            .then(pl.lit(\"TwinsUK\"))\n",
    "            .otherwise(\n",
    "                pl.when(pl.col(\"sample_id\").is_in(sudmant_sample_ids))\n",
    "                .then(pl.lit(\"SL\"))\n",
    "                .otherwise(pl.lit(\"CEPH\"))\n",
    "            )\n",
    "        )\n",
    "    )\n",
    ")\n",
    "\n",
    "dfs = []\n",
    "for [chrom], df in NCO_df.partition_by(by=[\"chrom\"], as_dict=True).items():\n",
    "    rate_map = annotate.rate_maps[chrom]\n",
    "    dfs.append(\n",
    "        df.with_columns(\n",
    "            grch37_recombining_interval_start_poses_cm = rate_map.get_cumulative_mass(df[\"grch37_recombining_interval_start_pos\"]) * 1e2,\n",
    "            grch37_recombining_interval_end_poses_cm = rate_map.get_cumulative_mass(df[\"grch37_recombining_interval_end_pos\"]) * 1e2,\n",
    "            grch37_first_converted_marker_poses_rate = rate_map.get_rate(df[\"grch37_first_converted_marker_pos\"]) * 1e2,\n",
    "        ).with_columns(\n",
    "            grch37_recombining_interval_cM = (pl.col(\"grch37_recombining_interval_end_poses_cm\") - pl.col(\"grch37_recombining_interval_start_poses_cm\")),\n",
    "            grch37_cM_per_bp_across_recombining_interval = (pl.col(\"grch37_recombining_interval_end_poses_cm\") - pl.col(\"grch37_recombining_interval_start_poses_cm\")) / pl.col(\"grch37_recombining_interval_length\"),\n",
    "            grch37_cM_per_bp_across_read = pl.col(\"grch37_genetic_length_cM\") / pl.col(\"read_length\"),\n",
    "        )\n",
    "    )\n",
    "    \n",
    "NCO_df = pl.concat(dfs)\n"
   ]
  },
  {
   "cell_type": "code",
   "execution_count": 10,
   "id": "9d289848-ebcf-4dea-be55-b999e8e08dfd",
   "metadata": {
    "tags": []
   },
   "outputs": [
    {
     "data": {
      "text/html": [
       "<div><style>\n",
       ".dataframe > thead > tr,\n",
       ".dataframe > tbody > tr {\n",
       "  text-align: right;\n",
       "  white-space: pre-wrap;\n",
       "}\n",
       "</style>\n",
       "<small>shape: (3, 2)</small><table border=\"1\" class=\"dataframe\"><thead><tr><th>dataset</th><th>len</th></tr><tr><td>str</td><td>u32</td></tr></thead><tbody><tr><td>&quot;CEPH&quot;</td><td>911</td></tr><tr><td>&quot;TwinsUK&quot;</td><td>1200</td></tr><tr><td>&quot;SL&quot;</td><td>738</td></tr></tbody></table></div>"
      ],
      "text/plain": [
       "shape: (3, 2)\n",
       "┌─────────┬──────┐\n",
       "│ dataset ┆ len  │\n",
       "│ ---     ┆ ---  │\n",
       "│ str     ┆ u32  │\n",
       "╞═════════╪══════╡\n",
       "│ CEPH    ┆ 911  │\n",
       "│ TwinsUK ┆ 1200 │\n",
       "│ SL      ┆ 738  │\n",
       "└─────────┴──────┘"
      ]
     },
     "execution_count": 10,
     "metadata": {},
     "output_type": "execute_result"
    }
   ],
   "source": [
    "NCO_df.group_by(\"dataset\").len()"
   ]
  },
  {
   "cell_type": "code",
   "execution_count": 11,
   "id": "45705749-c3a3-4858-9a97-afad90e35d89",
   "metadata": {
    "tags": []
   },
   "outputs": [],
   "source": [
    "x1 = (NCO_df\n",
    "    .filter(pl.col(\"dataset\") != \"CEPH\")\n",
    "    .filter(pl.col(\"n_converted\") == 1)\n",
    "    [\"CO_active_interval_crossover_prob\"]*1e2\n",
    ").log(base=10)"
   ]
  },
  {
   "cell_type": "code",
   "execution_count": 12,
   "id": "739408fb-b6b9-4cec-832a-cab90187cbd1",
   "metadata": {
    "tags": []
   },
   "outputs": [],
   "source": [
    "xg1 = (NCO_df\n",
    "    .filter(pl.col(\"dataset\") != \"CEPH\")       \n",
    "    .filter(pl.col(\"n_converted\") > 1)\n",
    "    [\"CO_active_interval_crossover_prob\"]*1e2\n",
    ").log(base=10)"
   ]
  },
  {
   "cell_type": "code",
   "execution_count": 13,
   "id": "0d3eb00e-f6d0-4563-89e5-fc06bc6f75ca",
   "metadata": {
    "tags": []
   },
   "outputs": [
    {
     "data": {
      "image/png": "[encoded data removed]",
      "text/plain": [
       "<Figure size 640x480 with 1 Axes>"
      ]
     },
     "metadata": {},
     "output_type": "display_data"
    }
   ],
   "source": [
    "plt.hist(\n",
    "    [x1, xg1],\n",
    "    bins=50,\n",
    "    density=True,\n",
    ");"
   ]
  },
  {
   "cell_type": "code",
   "execution_count": 14,
   "id": "d3d1b8d6-3a36-4296-bc09-855cf351899e",
   "metadata": {
    "tags": []
   },
   "outputs": [
    {
     "data": {
      "text/plain": [
       "KstestResult(statistic=np.float64(0.0830301685891748), pvalue=np.float64(0.5146220233439168), statistic_location=np.float64(-1.9489743814979181), statistic_sign=np.int8(1))"
      ]
     },
     "execution_count": 14,
     "metadata": {},
     "output_type": "execute_result"
    }
   ],
   "source": [
    "scipy.stats.ks_2samp(x1, xg1)"
   ]
  },
  {
   "cell_type": "code",
   "execution_count": 15,
   "id": "17c2ab4d-919f-41d0-ab3b-b1152d0101d8",
   "metadata": {
    "tags": []
   },
   "outputs": [
    {
     "data": {
      "text/plain": [
       "TtestResult(statistic=np.float64(-0.2514191941048721), pvalue=np.float64(0.8015167126114566), df=np.float64(1936.0))"
      ]
     },
     "execution_count": 15,
     "metadata": {},
     "output_type": "execute_result"
    }
   ],
   "source": [
    "scipy.stats.ttest_ind(x1, xg1)"
   ]
  },
  {
   "cell_type": "code",
   "execution_count": null,
   "id": "e1cad3ac-eb46-4e98-8eb4-6fe3d737ea74",
   "metadata": {},
   "outputs": [],
   "source": []
  },
  {
   "cell_type": "code",
   "execution_count": 16,
   "id": "d890149a-72a9-4c97-8c70-7b559b2b070e",
   "metadata": {
    "tags": []
   },
   "outputs": [
    {
     "data": {
      "image/png": "[encoded data removed]",
      "text/plain": [
       "<Figure size 640x480 with 1 Axes>"
      ]
     },
     "metadata": {},
     "output_type": "display_data"
    }
   ],
   "source": [
    "sns.histplot(\n",
    "    data = NCO_df.to_pandas(),\n",
    "    x = \"upper_bound\",\n",
    "    hue = \"dataset\",\n",
    "    stat = \"probability\",\n",
    "    multiple = \"dodge\",\n",
    "    common_norm = False,\n",
    "    shrink = 0.6,\n",
    "    bins = np.linspace(0, 50000, 50),\n",
    ")\n",
    "\n",
    "plt.xlim(0, 11000);"
   ]
  },
  {
   "cell_type": "code",
   "execution_count": 17,
   "id": "8242d18e-691d-43c2-9d8e-3f7a485bf2da",
   "metadata": {
    "tags": []
   },
   "outputs": [
    {
     "data": {
      "text/html": [
       "<div><style>\n",
       ".dataframe > thead > tr,\n",
       ".dataframe > tbody > tr {\n",
       "  text-align: right;\n",
       "  white-space: pre-wrap;\n",
       "}\n",
       "</style>\n",
       "<small>shape: (11, 3)</small><table border=\"1\" class=\"dataframe\"><thead><tr><th>dataset</th><th>n_converted</th><th>len</th></tr><tr><td>str</td><td>i64</td><td>u32</td></tr></thead><tbody><tr><td>&quot;CEPH&quot;</td><td>1</td><td>907</td></tr><tr><td>&quot;CEPH&quot;</td><td>2</td><td>4</td></tr><tr><td>&quot;SL&quot;</td><td>1</td><td>709</td></tr><tr><td>&quot;SL&quot;</td><td>2</td><td>24</td></tr><tr><td>&quot;SL&quot;</td><td>3</td><td>3</td></tr><tr><td>&quot;SL&quot;</td><td>4</td><td>2</td></tr><tr><td>&quot;TwinsUK&quot;</td><td>1</td><td>1131</td></tr><tr><td>&quot;TwinsUK&quot;</td><td>2</td><td>55</td></tr><tr><td>&quot;TwinsUK&quot;</td><td>3</td><td>9</td></tr><tr><td>&quot;TwinsUK&quot;</td><td>4</td><td>4</td></tr><tr><td>&quot;TwinsUK&quot;</td><td>5</td><td>1</td></tr></tbody></table></div>"
      ],
      "text/plain": [
       "shape: (11, 3)\n",
       "┌─────────┬─────────────┬──────┐\n",
       "│ dataset ┆ n_converted ┆ len  │\n",
       "│ ---     ┆ ---         ┆ ---  │\n",
       "│ str     ┆ i64         ┆ u32  │\n",
       "╞═════════╪═════════════╪══════╡\n",
       "│ CEPH    ┆ 1           ┆ 907  │\n",
       "│ CEPH    ┆ 2           ┆ 4    │\n",
       "│ SL      ┆ 1           ┆ 709  │\n",
       "│ SL      ┆ 2           ┆ 24   │\n",
       "│ SL      ┆ 3           ┆ 3    │\n",
       "│ SL      ┆ 4           ┆ 2    │\n",
       "│ TwinsUK ┆ 1           ┆ 1131 │\n",
       "│ TwinsUK ┆ 2           ┆ 55   │\n",
       "│ TwinsUK ┆ 3           ┆ 9    │\n",
       "│ TwinsUK ┆ 4           ┆ 4    │\n",
       "│ TwinsUK ┆ 5           ┆ 1    │\n",
       "└─────────┴─────────────┴──────┘"
      ]
     },
     "execution_count": 17,
     "metadata": {},
     "output_type": "execute_result"
    }
   ],
   "source": [
    "NCO_df.group_by(\"dataset\", \"n_converted\").len().sort(\"dataset\", \"n_converted\")"
   ]
  },
  {
   "cell_type": "code",
   "execution_count": null,
   "id": "57c3ff62-0e80-4ca8-98cf-d891c11baf2a",
   "metadata": {},
   "outputs": [],
   "source": []
  },
  {
   "cell_type": "code",
   "execution_count": 18,
   "id": "4780ac60-b467-449f-b320-71062ed7a29f",
   "metadata": {
    "tags": []
   },
   "outputs": [
    {
     "data": {
      "text/html": [
       "<div><style>\n",
       ".dataframe > thead > tr,\n",
       ".dataframe > tbody > tr {\n",
       "  text-align: right;\n",
       "  white-space: pre-wrap;\n",
       "}\n",
       "</style>\n",
       "<small>shape: (3, 2)</small><table border=\"1\" class=\"dataframe\"><thead><tr><th>dataset</th><th>mean</th></tr><tr><td>str</td><td>f64</td></tr></thead><tbody><tr><td>&quot;CEPH&quot;</td><td>1.004391</td></tr><tr><td>&quot;SL&quot;</td><td>1.04878</td></tr><tr><td>&quot;TwinsUK&quot;</td><td>1.074167</td></tr></tbody></table></div>"
      ],
      "text/plain": [
       "shape: (3, 2)\n",
       "┌─────────┬──────────┐\n",
       "│ dataset ┆ mean     │\n",
       "│ ---     ┆ ---      │\n",
       "│ str     ┆ f64      │\n",
       "╞═════════╪══════════╡\n",
       "│ CEPH    ┆ 1.004391 │\n",
       "│ SL      ┆ 1.04878  │\n",
       "│ TwinsUK ┆ 1.074167 │\n",
       "└─────────┴──────────┘"
      ]
     },
     "execution_count": 18,
     "metadata": {},
     "output_type": "execute_result"
    }
   ],
   "source": [
    "NCO_df.group_by(\"dataset\").agg(pl.col(\"n_converted\").mean().alias(\"mean\")).sort(\"dataset\")"
   ]
  },
  {
   "cell_type": "code",
   "execution_count": 19,
   "id": "d0bd8f22-9818-41be-96bd-925409378780",
   "metadata": {
    "tags": []
   },
   "outputs": [
    {
     "data": {
      "text/html": [
       "<div><style>\n",
       ".dataframe > thead > tr,\n",
       ".dataframe > tbody > tr {\n",
       "  text-align: right;\n",
       "  white-space: pre-wrap;\n",
       "}\n",
       "</style>\n",
       "<small>shape: (3, 2)</small><table border=\"1\" class=\"dataframe\"><thead><tr><th>dataset</th><th>mean</th></tr><tr><td>str</td><td>f64</td></tr></thead><tbody><tr><td>&quot;CEPH&quot;</td><td>2509.453348</td></tr><tr><td>&quot;SL&quot;</td><td>2363.822493</td></tr><tr><td>&quot;TwinsUK&quot;</td><td>2298.75</td></tr></tbody></table></div>"
      ],
      "text/plain": [
       "shape: (3, 2)\n",
       "┌─────────┬─────────────┐\n",
       "│ dataset ┆ mean        │\n",
       "│ ---     ┆ ---         │\n",
       "│ str     ┆ f64         │\n",
       "╞═════════╪═════════════╡\n",
       "│ CEPH    ┆ 2509.453348 │\n",
       "│ SL      ┆ 2363.822493 │\n",
       "│ TwinsUK ┆ 2298.75     │\n",
       "└─────────┴─────────────┘"
      ]
     },
     "execution_count": 19,
     "metadata": {},
     "output_type": "execute_result"
    }
   ],
   "source": [
    "NCO_df.group_by(\"dataset\").agg(pl.col(\"upper_bound\").mean().alias(\"mean\")).sort(\"dataset\")"
   ]
  },
  {
   "cell_type": "code",
   "execution_count": 20,
   "id": "899147c0-5ea9-47a3-9a0f-e6bde96626b8",
   "metadata": {
    "tags": []
   },
   "outputs": [
    {
     "data": {
      "text/plain": [
       "KstestResult(statistic=np.float64(0.0492557991478988), pvalue=np.float64(0.09484411026999809), statistic_location=np.int64(2270), statistic_sign=np.int8(1))"
      ]
     },
     "execution_count": 20,
     "metadata": {},
     "output_type": "execute_result"
    }
   ],
   "source": [
    "scipy.stats.ks_2samp(\n",
    "    NCO_df.filter(pl.col(\"dataset\") != \"CEPH\")[\"upper_bound\"],\n",
    "    NCO_df.filter(pl.col(\"dataset\") == \"CEPH\")[\"upper_bound\"]    \n",
    ")"
   ]
  },
  {
   "cell_type": "code",
   "execution_count": 21,
   "id": "ed1afcf0-d218-409a-a385-5d8e969e39e5",
   "metadata": {
    "tags": []
   },
   "outputs": [
    {
     "data": {
      "text/plain": [
       "TtestResult(statistic=np.float64(-1.9264796174448369), pvalue=np.float64(0.05414395056338729), df=np.float64(2847.0))"
      ]
     },
     "execution_count": 21,
     "metadata": {},
     "output_type": "execute_result"
    }
   ],
   "source": [
    "scipy.stats.ttest_ind(\n",
    "    NCO_df.filter(pl.col(\"dataset\") != \"CEPH\")[\"upper_bound\"],\n",
    "    NCO_df.filter(pl.col(\"dataset\") == \"CEPH\")[\"upper_bound\"]    \n",
    ")"
   ]
  },
  {
   "cell_type": "code",
   "execution_count": 22,
   "id": "a4146933-01fa-4ce3-84c6-1d61410ec60b",
   "metadata": {
    "tags": []
   },
   "outputs": [
    {
     "data": {
      "text/plain": [
       "TtestResult(statistic=np.float64(-2.0140074571546407), pvalue=np.float64(0.04413551498624525), df=np.float64(2109.0))"
      ]
     },
     "execution_count": 22,
     "metadata": {},
     "output_type": "execute_result"
    }
   ],
   "source": [
    "scipy.stats.ttest_ind(\n",
    "    NCO_df.filter(pl.col(\"dataset\") == \"TwinsUK\")[\"upper_bound\"],\n",
    "    NCO_df.filter(pl.col(\"dataset\") == \"CEPH\")[\"upper_bound\"]    \n",
    ")"
   ]
  },
  {
   "cell_type": "code",
   "execution_count": 23,
   "id": "c1295d7b-04ab-4885-b317-f4163f7bdbf4",
   "metadata": {
    "tags": []
   },
   "outputs": [
    {
     "data": {
      "text/plain": [
       "KstestResult(statistic=np.float64(0.04617681609589933), pvalue=np.float64(0.136848703173717), statistic_location=np.int64(1), statistic_sign=np.int8(-1))"
      ]
     },
     "execution_count": 23,
     "metadata": {},
     "output_type": "execute_result"
    }
   ],
   "source": [
    "scipy.stats.ks_2samp(\n",
    "    NCO_df.filter(pl.col(\"dataset\") != \"CEPH\")[\"n_converted\"],\n",
    "    NCO_df.filter(pl.col(\"dataset\") == \"CEPH\")[\"n_converted\"]    \n",
    ")"
   ]
  },
  {
   "cell_type": "code",
   "execution_count": 24,
   "id": "e64e5073-9a37-457c-b677-8335d04c23aa",
   "metadata": {
    "tags": []
   },
   "outputs": [
    {
     "data": {
      "text/plain": [
       "TtestResult(statistic=np.float64(5.748206011269795), pvalue=np.float64(9.976433436222115e-09), df=np.float64(2847.0))"
      ]
     },
     "execution_count": 24,
     "metadata": {},
     "output_type": "execute_result"
    }
   ],
   "source": [
    "scipy.stats.ttest_ind(\n",
    "    NCO_df.filter(pl.col(\"dataset\") != \"CEPH\")[\"n_converted\"],\n",
    "    NCO_df.filter(pl.col(\"dataset\") == \"CEPH\")[\"n_converted\"]    \n",
    ")"
   ]
  },
  {
   "cell_type": "code",
   "execution_count": null,
   "id": "cd989799-a898-4536-b9ed-7a878b043b08",
   "metadata": {},
   "outputs": [],
   "source": []
  },
  {
   "cell_type": "code",
   "execution_count": 25,
   "id": "fbcdb0e4-d61a-4c3c-a4d8-c622657d638c",
   "metadata": {
    "tags": []
   },
   "outputs": [
    {
     "name": "stdout",
     "output_type": "stream",
     "text": [
      "PearsonRResult(statistic=np.float64(0.01770213021020072), pvalue=np.float64(0.34489954478529117))\n"
     ]
    }
   ],
   "source": [
    "print(scipy.stats.pearsonr(\n",
    "        NCO_df[\"grch37_cM_per_bp_across_read\"],\n",
    "        NCO_df[\"upper_bound\"],\n",
    "    ))"
   ]
  },
  {
   "cell_type": "code",
   "execution_count": 26,
   "id": "db00c51f-5958-4db8-a3b7-217633110763",
   "metadata": {
    "tags": []
   },
   "outputs": [
    {
     "name": "stdout",
     "output_type": "stream",
     "text": [
      "PearsonRResult(statistic=np.float64(-0.06565443428479656), pvalue=np.float64(0.000453839242122837))\n"
     ]
    }
   ],
   "source": [
    "print(scipy.stats.pearsonr(\n",
    "    NCO_df[\"grch37_cM_per_bp_across_recombining_interval\"],\n",
    "    NCO_df[\"upper_bound\"],\n",
    "))"
   ]
  },
  {
   "cell_type": "code",
   "execution_count": null,
   "id": "c5dba68f-9454-4265-915d-699eee7d30d7",
   "metadata": {},
   "outputs": [],
   "source": []
  },
  {
   "cell_type": "code",
   "execution_count": 27,
   "id": "ea6157e3-de0a-4bc0-a3ec-5ecef3ea2691",
   "metadata": {
    "tags": []
   },
   "outputs": [
    {
     "name": "stdout",
     "output_type": "stream",
     "text": [
      "TwinsUK\n",
      "PearsonRResult(statistic=np.float64(0.032244781738437964), pvalue=np.float64(0.2643715699791134))\n",
      "SignificanceResult(statistic=np.float64(0.05226526023564271), pvalue=np.float64(0.07031565170616831))\n",
      "SL\n",
      "PearsonRResult(statistic=np.float64(0.027957488180423665), pvalue=np.float64(0.4482365197300917))\n",
      "SignificanceResult(statistic=np.float64(0.09361591214159765), pvalue=np.float64(0.010944580368862651))\n",
      "CEPH\n",
      "PearsonRResult(statistic=np.float64(0.022205736509266223), pvalue=np.float64(0.5032447494976573))\n",
      "SignificanceResult(statistic=np.float64(-0.0015539227190233392), pvalue=np.float64(0.96264287255526))\n"
     ]
    }
   ],
   "source": [
    "for dataset in [\"TwinsUK\", \"SL\", \"CEPH\"]:\n",
    "    print(dataset)\n",
    "    print(scipy.stats.pearsonr(\n",
    "        NCO_df.filter(pl.col(\"dataset\") == dataset)[\"grch37_cM_per_bp_across_read\"],\n",
    "        NCO_df.filter(pl.col(\"dataset\") == dataset)[\"upper_bound\"],\n",
    "    ))\n",
    "    print(scipy.stats.spearmanr(\n",
    "        NCO_df.filter(pl.col(\"dataset\") == dataset)[\"grch37_cM_per_bp_across_read\"],\n",
    "        NCO_df.filter(pl.col(\"dataset\") == dataset)[\"upper_bound\"],\n",
    "    ))"
   ]
  },
  {
   "cell_type": "code",
   "execution_count": 28,
   "id": "8a10d97e-73eb-4d13-8371-f5fe2f4044b5",
   "metadata": {
    "tags": []
   },
   "outputs": [
    {
     "name": "stdout",
     "output_type": "stream",
     "text": [
      "TwinsUK\n",
      "PearsonRResult(statistic=np.float64(-0.07659463376517209), pvalue=np.float64(0.007943758871622748))\n",
      "SignificanceResult(statistic=np.float64(0.04294025097539004), pvalue=np.float64(0.13711271465005562))\n",
      "SL\n",
      "PearsonRResult(statistic=np.float64(-0.07630824051866883), pvalue=np.float64(0.03821789418752581))\n",
      "SignificanceResult(statistic=np.float64(0.05009499924602415), pvalue=np.float64(0.17400868871360292))\n",
      "CEPH\n",
      "PearsonRResult(statistic=np.float64(0.0017364408979776745), pvalue=np.float64(0.9582588269351359))\n",
      "SignificanceResult(statistic=np.float64(0.02145703572597845), pvalue=np.float64(0.5177496181074879))\n"
     ]
    }
   ],
   "source": [
    "for dataset in [\"TwinsUK\", \"SL\", \"CEPH\"]:\n",
    "    print(dataset)\n",
    "    print(scipy.stats.pearsonr(\n",
    "        NCO_df.filter(pl.col(\"dataset\") == dataset)[\"grch37_cM_per_bp_across_recombining_interval\"],\n",
    "        NCO_df.filter(pl.col(\"dataset\") == dataset)[\"upper_bound\"],\n",
    "    ))\n",
    "    print(scipy.stats.spearmanr(\n",
    "        NCO_df.filter(pl.col(\"dataset\") == dataset)[\"grch37_cM_per_bp_across_recombining_interval\"],\n",
    "        NCO_df.filter(pl.col(\"dataset\") == dataset)[\"upper_bound\"],\n",
    "    ))"
   ]
  },
  {
   "cell_type": "code",
   "execution_count": null,
   "id": "4ffacdb6-f439-4874-b5a8-d0622dc1f504",
   "metadata": {
    "tags": []
   },
   "outputs": [],
   "source": []
  },
  {
   "cell_type": "code",
   "execution_count": 29,
   "id": "fd77a8bb-e6f8-43c0-a9b3-178cdb781011",
   "metadata": {
    "tags": []
   },
   "outputs": [
    {
     "data": {
      "image/png": "[encoded data removed]",
      "text/plain": [
       "<Figure size 500x500 with 1 Axes>"
      ]
     },
     "metadata": {},
     "output_type": "display_data"
    },
    {
     "data": {
      "image/png": "[encoded data removed]",
      "text/plain": [
       "<Figure size 500x500 with 1 Axes>"
      ]
     },
     "metadata": {},
     "output_type": "display_data"
    }
   ],
   "source": [
    "df = (NCO_df\n",
    "    .filter(pl.col(\"dataset\") != \"CEPH\")\n",
    "    .filter(pl.col(\"grch37_cM_per_bp_across_recombining_interval\").is_not_nan())\n",
    "    .filter(pl.col(\"grch37_cM_per_bp_across_recombining_interval\") > 0)\n",
    ")\n",
    "\n",
    "sns.displot(\n",
    "    x=df[\"grch37_cM_per_bp_across_recombining_interval\"].log(base=10),\n",
    "    y=df[\"upper_bound\"].log(base=10),\n",
    "    bins=25,\n",
    ");\n",
    "\n",
    "plt.xlabel(\"log10(Upper bound tract in cM/bp)\");\n",
    "plt.ylabel(\"log10(Upper bound tract in bp)\");\n",
    "\n",
    "sns.displot(\n",
    "    x=df[\"grch37_cM_per_bp_across_recombining_interval\"],\n",
    "    y=df[\"upper_bound\"],\n",
    "    bins=[np.linspace(0, 1e-7, 25), np.linspace(0, 4000, 25)],\n",
    ");\n",
    "\n",
    "plt.xlabel(\"Upper bound tract in cM/bp\");\n",
    "plt.ylabel(\"Upper bound tract in bp\");\n",
    "\n",
    "\n"
   ]
  },
  {
   "cell_type": "code",
   "execution_count": null,
   "id": "c0f0c766-8e15-4f32-a271-984ecfb9f899",
   "metadata": {},
   "outputs": [],
   "source": []
  },
  {
   "cell_type": "markdown",
   "id": "94cd0a7f-e817-48bf-b108-77c0b5e2de7f",
   "metadata": {},
   "source": [
    "# Reviewer 1 Major point 1"
   ]
  },
  {
   "cell_type": "code",
   "execution_count": 33,
   "id": "cb78e60b-08dd-479e-8753-9dd8e6677351",
   "metadata": {
    "tags": []
   },
   "outputs": [],
   "source": [
    "tdf = (NCO_df\n",
    "    .filter(pl.col(\"sample_id\").is_in(rahbari_sample_ids + sudmant_sample_ids))\n",
    "    .with_columns(multi_tract = pl.col(\"n_converted\") > 1)\n",
    ")"
   ]
  },
  {
   "cell_type": "code",
   "execution_count": 43,
   "id": "ade6fbec-0428-4351-98fe-f0008e603316",
   "metadata": {
    "tags": []
   },
   "outputs": [
    {
     "data": {
      "image/png": "[encoded data removed]",
      "text/plain": [
       "<Figure size 500x300 with 1 Axes>"
      ]
     },
     "metadata": {},
     "output_type": "display_data"
    }
   ],
   "source": [
    "plt.figure(figsize=(5,3));\n",
    "\n",
    "sns.histplot(\n",
    "    data = tdf.to_pandas(),\n",
    "    x = \"upper_bound\",\n",
    "    hue = \"multi_tract\",\n",
    "    stat = \"probability\",\n",
    "    multiple = \"dodge\",\n",
    "    common_norm = False,\n",
    "    shrink = 0.6,\n",
    "    bins = np.linspace(0, 50000, 50),\n",
    ")\n",
    "\n",
    "plt.xlim(0, 21000);\n",
    "plt.xlabel(\"Length of flanking interval (bp)\");\n",
    "plt.ylabel(\"Fraction\");\n",
    "plt.legend([\"Single-SNP tract\",\"Multi-SNP tract\"]);\n",
    "plt.xticks([0,5000,10000,15000,20000],[\"0\" ,\"5,000\", \"10,000\", \"15,000\", \"20,000\"]);"
   ]
  },
  {
   "cell_type": "code",
   "execution_count": 44,
   "id": "faf0795b-54c3-4c8d-8124-474bd25e1320",
   "metadata": {
    "tags": []
   },
   "outputs": [
    {
     "name": "stdout",
     "output_type": "stream",
     "text": [
      "2265.5070652173913\n",
      "3412.938775510204\n"
     ]
    }
   ],
   "source": [
    "print(tdf.filter(pl.col(\"n_converted\") == 1)[\"upper_bound\"].mean())\n",
    "print(tdf.filter(pl.col(\"n_converted\") > 1)[\"upper_bound\"].mean())"
   ]
  },
  {
   "cell_type": "code",
   "execution_count": 32,
   "id": "9652237d-2fa0-42d2-88dc-8fd16162f1a9",
   "metadata": {
    "tags": []
   },
   "outputs": [
    {
     "data": {
      "text/plain": [
       "KstestResult(statistic=np.float64(0.23104349129531682), pvalue=np.float64(4.245806447491921e-05), statistic_location=np.int64(2090), statistic_sign=np.int8(1))"
      ]
     },
     "execution_count": 32,
     "metadata": {},
     "output_type": "execute_result"
    }
   ],
   "source": [
    "scipy.stats.ks_2samp(\n",
    "    NCO_df.filter(pl.col(\"n_converted\") == 1)[\"upper_bound\"],\n",
    "    NCO_df.filter(pl.col(\"n_converted\") > 1)[\"upper_bound\"],\n",
    ")"
   ]
  },
  {
   "cell_type": "code",
   "execution_count": null,
   "id": "4245881a-22a1-4138-9a66-61f26c9c4e67",
   "metadata": {},
   "outputs": [],
   "source": []
  },
  {
   "cell_type": "code",
   "execution_count": null,
   "id": "67e1e0fa-8e95-48aa-a3ac-ec673006a69d",
   "metadata": {},
   "outputs": [],
   "source": []
  },
  {
   "cell_type": "code",
   "execution_count": null,
   "id": "417e86e7-cf3b-45c2-9d77-fda1ea716f7b",
   "metadata": {},
   "outputs": [],
   "source": []
  },
  {
   "cell_type": "code",
   "execution_count": null,
   "id": "f712f674-8c69-4e14-9c64-38df7cc642cd",
   "metadata": {},
   "outputs": [],
   "source": []
  },
  {
   "cell_type": "code",
   "execution_count": null,
   "id": "2b98d180-ef2f-4cdf-a584-af3144206103",
   "metadata": {},
   "outputs": [],
   "source": []
  },
  {
   "cell_type": "code",
   "execution_count": null,
   "id": "24ce3441-2e3f-41ca-a9fc-9e94502fc64f",
   "metadata": {},
   "outputs": [],
   "source": []
  },
  {
   "cell_type": "code",
   "execution_count": null,
   "id": "6ff6d264-eb7c-4879-aa00-4a49fd1b9075",
   "metadata": {},
   "outputs": [],
   "source": []
  },
  {
   "cell_type": "code",
   "execution_count": null,
   "id": "8410d487-e607-49e1-b6a8-02db9d0182dc",
   "metadata": {},
   "outputs": [],
   "source": []
  },
  {
   "cell_type": "code",
   "execution_count": null,
   "id": "00ad428f-3aaa-4826-9883-eccc78e420b2",
   "metadata": {},
   "outputs": [],
   "source": []
  }
 ],
 "metadata": {
  "kernelspec": {
   "display_name": "sperm",
   "language": "python",
   "name": "sperm"
  },
  "language_info": {
   "codemirror_mode": {
    "name": "ipython",
    "version": 3
   },
   "file_extension": ".py",
   "mimetype": "text/x-python",
   "name": "python",
   "nbconvert_exporter": "python",
   "pygments_lexer": "ipython3",
   "version": "3.11.10"
  }
 },
 "nbformat": 4,
 "nbformat_minor": 5
}
