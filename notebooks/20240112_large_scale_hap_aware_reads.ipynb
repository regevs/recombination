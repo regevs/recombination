{
 "cells": [
  {
   "cell_type": "code",
   "execution_count": 1,
   "id": "cba203b3-f25e-4307-a3c9-f8a9def655cc",
   "metadata": {},
   "outputs": [],
   "source": [
    "%load_ext autoreload\n",
    "%autoreload 2"
   ]
  },
  {
   "cell_type": "code",
   "execution_count": 2,
   "id": "05f061fe-2688-430d-9d8e-eb41002be5e4",
   "metadata": {},
   "outputs": [],
   "source": [
    "import numpy as np\n",
    "import pandas as pd\n",
    "import matplotlib as mpl\n",
    "import matplotlib.pyplot as plt\n",
    "\n",
    "from pathlib import Path\n",
    "import tqdm\n",
    "import sys\n",
    "import seaborn as sns\n",
    "import scipy.stats\n",
    "import os\n",
    "import pysam\n",
    "import pprint\n",
    "import pickle\n",
    "import joblib\n",
    "import polars as pl\n",
    "\n",
    "# This is needed before pybedtools to make sure bedtools is imported on sanger JupyterHub \n",
    "os.environ[\"PATH\"] += \":\" + os.path.join(sys.prefix, \"bin\")\n",
    "import pybedtools\n",
    "\n",
    "pd.set_option('display.max_rows', 1000)\n"
   ]
  },
  {
   "cell_type": "code",
   "execution_count": 3,
   "id": "36a7d5a1-70de-46c5-b3fd-e7d74cff39d8",
   "metadata": {},
   "outputs": [],
   "source": [
    "sys.path.append(str(Path(os.getcwd()).parent))\n",
    "from src import liftover, annotate, diagnostics"
   ]
  },
  {
   "cell_type": "code",
   "execution_count": 4,
   "id": "09ea46c6-ba80-4dea-a450-45ddd15a984e",
   "metadata": {},
   "outputs": [],
   "source": [
    "aut_chrom_names = [f\"chr{i}\" for i in list(range(1, 23))]\n",
    "chrom_names = aut_chrom_names + [\"chrX\", \"chrY\"]"
   ]
  },
  {
   "cell_type": "markdown",
   "id": "093c9c9e-d2d5-4fe1-8a27-0674937de19d",
   "metadata": {},
   "source": [
    "# Choose sample and chrom"
   ]
  },
  {
   "cell_type": "code",
   "execution_count": 5,
   "id": "10184b8a-e59e-4e6c-9ffb-a92eb1065931",
   "metadata": {},
   "outputs": [],
   "source": [
    "focal_sample_id = \"PD50489e\"\n",
    "t2t_chrom = \"chr2\"\n",
    "denovo_chrom = t2t_chrom + \"_RagTag\"\n",
    "\n"
   ]
  },
  {
   "cell_type": "markdown",
   "id": "1c56afe7-6985-456d-a9e4-036e70cc35a0",
   "metadata": {},
   "source": [
    "# Test pipeline manually"
   ]
  },
  {
   "cell_type": "code",
   "execution_count": 6,
   "id": "a4131a24-00b9-463c-9eb8-3ffb590f62ad",
   "metadata": {},
   "outputs": [],
   "source": [
    "# %%time\n",
    "# events_df = pl.scan_parquet(\n",
    "#     f\"/lustre/scratch126/casm/team154pc/sl17/03.sperm/02.results/01.read_alignment/01.ccs/04.hifiasm/02.hifiasm_0.19.5-r592/02.chromosome_length_scaffolds/{focal_sample_id}/reads/{denovo_chrom}.read_refinement.parquet\",\n",
    "# )\n",
    "\n",
    "# events_df = diagnostics.filter_read_refinements(events_df)\n",
    "# snps_df = diagnostics.extract_snps(events_df)\n",
    "\n",
    "# snps_df = snps_df.collect(streaming=True)"
   ]
  },
  {
   "cell_type": "code",
   "execution_count": 7,
   "id": "56b1425f-d573-4de7-996a-44aaeb0cc369",
   "metadata": {},
   "outputs": [],
   "source": [
    "# %%time\n",
    "# #\n",
    "# # Phasing coverage\n",
    "# #\n",
    "# hap_and_certainty_to_bedgraph = {}\n",
    "# for hap in [1,2]:\n",
    "#     for certainty in [0.95]: \n",
    "#         hap_and_certainty_to_bedgraph[(hap, certainty)] = \\\n",
    "#             str(Path(\"/lustre/scratch126/casm/team154pc/sl17/03.sperm/02.results/01.read_alignment/01.ccs/04.hifiasm/02.hifiasm_0.19.5-r592/02.chromosome_length_scaffolds\") \\\n",
    "#                 / f\"{focal_sample_id}\" / f\"{focal_sample_id}.{denovo_chrom}.hap{hap}.minimap2.sorted.primary_alignments.hifiasm_haplotagged_{certainty}.coverage.bedgraph\")\n",
    "\n",
    "# annotated_snps_df = diagnostics.add_phasing_coverage_annotation(\n",
    "#     snps_df,\n",
    "#     hap_and_certainty_to_bedgraph\n",
    "# )\n",
    "\n",
    "# #\n",
    "# # TRF\n",
    "# #\n",
    "# annotated_snps_df = diagnostics.add_tandem_repeat_finder_annotation(\n",
    "#     annotated_snps_df,\n",
    "#     f\"/lustre/scratch126/casm/team154pc/sl17/03.sperm/01.data/05.ragtag/03.haplotype_specific_scaffolds/{focal_sample_id}/haplotype_1/ragtag.scaffold.fasta.{denovo_chrom}.trf.dat\",\n",
    "#     f\"/lustre/scratch126/casm/team154pc/sl17/03.sperm/01.data/05.ragtag/03.haplotype_specific_scaffolds/{focal_sample_id}/haplotype_2/ragtag.scaffold.fasta.{denovo_chrom}.trf.dat\",\n",
    "# )\n",
    "\n",
    "# #\n",
    "# # sdust\n",
    "# #\n",
    "# annotated_snps_df = diagnostics.add_sdust_annotation(\n",
    "#     annotated_snps_df,\n",
    "#     f\"/lustre/scratch126/casm/team154pc/sl17/03.sperm/01.data/05.ragtag/03.haplotype_specific_scaffolds/{focal_sample_id}/haplotype_1/ragtag.scaffold.fasta.{denovo_chrom}.sdust.tsv\",\n",
    "#     f\"/lustre/scratch126/casm/team154pc/sl17/03.sperm/01.data/05.ragtag/03.haplotype_specific_scaffolds/{focal_sample_id}/haplotype_2/ragtag.scaffold.fasta.{denovo_chrom}.sdust.tsv\",\n",
    "# )\n",
    "\n",
    "\n",
    "# annotated_snps_df = annotated_snps_df.collect(streaming=True)"
   ]
  },
  {
   "cell_type": "markdown",
   "id": "55e0e793-6b3d-445f-8f9a-ea80e82b5aef",
   "metadata": {},
   "source": [
    "## Some summary stats"
   ]
  },
  {
   "cell_type": "code",
   "execution_count": 8,
   "id": "b68d9bc6-5cc8-42db-95bb-716230e88345",
   "metadata": {},
   "outputs": [],
   "source": [
    "# (annotated_snps_df\n",
    "#     .filter(pl.col(\"is_high_conf_snp\") == 1)\n",
    "#     .select(\n",
    "#         ((pl.col(\"hap1_certainty_0.95_coverage\") >= 3) & (pl.col(\"hap2_certainty_0.95_coverage\") >= 3)).alias(\"is_phased_covered\"),\n",
    "#         ((pl.col(\"trf_repeat_length_hap1\") == 0) & (pl.col(\"trf_repeat_length_hap2\") == 0)).alias(\"is_not_trf\"),\n",
    "#         ((pl.col(\"sdust_repeat_length_hap1\") == 0) & (pl.col(\"sdust_repeat_length_hap2\") == 0)).alias(\"is_not_sdust\"),\n",
    "#         ((pl.col(\"qual_start1\") == 93) & (pl.col(\"qual_start2\") == 93)).alias(\"good_bq\"),\n",
    "#     )\n",
    "#     .group_by([\"is_phased_covered\", \"is_not_trf\", \"is_not_sdust\", \"good_bq\"])\n",
    "#     .count()\n",
    "#     .sort(by=\"count\", descending=True)\n",
    "# )"
   ]
  },
  {
   "cell_type": "code",
   "execution_count": 9,
   "id": "232aadb7-ec7f-4093-82ae-ccc1421f5163",
   "metadata": {},
   "outputs": [],
   "source": [
    "# hap_stats_df = diagnostics.snps_to_read_stats(\n",
    "#     annotated_snps_df,\n",
    "#     (\n",
    "#             pl.col(\"is_high_conf_snp\") & \\\n",
    "#             ((pl.col(\"hap1_certainty_0.95_coverage\") >= 3) & (pl.col(\"hap2_certainty_0.95_coverage\") >= 3)) & \\\n",
    "#             ((pl.col(\"trf_repeat_length_hap1\") == 0) & (pl.col(\"trf_repeat_length_hap2\") == 0)) & \\\n",
    "#             ((pl.col(\"sdust_repeat_length_hap1\") == 0) & (pl.col(\"sdust_repeat_length_hap2\") == 0)) & \n",
    "#             ((pl.col(\"qual_start1\") == 93) & (pl.col(\"qual_start2\") == 93))\n",
    "#     ),\n",
    "#     \"frac_fits1_super_conf\",    \n",
    "# )"
   ]
  },
  {
   "cell_type": "code",
   "execution_count": 10,
   "id": "611975d2-66ee-4c87-a2b3-3c0d08c6ea57",
   "metadata": {},
   "outputs": [],
   "source": [
    "# with pl.Config(fmt_str_lengths=50, set_tbl_rows=-1):\n",
    "#     display(\n",
    "#         hap_stats_df.filter(~((pl.col(\"frac_fits1_super_conf\") == 0) | (pl.col(\"frac_fits1_super_conf\") == 1)))\n",
    "#         [:10]\n",
    "#     )\n",
    "    \n",
    "\n"
   ]
  },
  {
   "cell_type": "code",
   "execution_count": null,
   "id": "34e08094-7651-40e9-a68d-7e43a0bda08a",
   "metadata": {},
   "outputs": [],
   "source": []
  },
  {
   "cell_type": "markdown",
   "id": "77eb8318-0961-406e-92fa-86123487a6a2",
   "metadata": {},
   "source": [
    "# Analyze read"
   ]
  },
  {
   "cell_type": "code",
   "execution_count": 11,
   "id": "bed6a852-78e1-4434-bce0-fb679b75de55",
   "metadata": {},
   "outputs": [],
   "source": [
    "# focal_read = \"m64094e_220715_151527/70976535/ccs\""
   ]
  },
  {
   "cell_type": "code",
   "execution_count": 12,
   "id": "05bb1abb-d254-42d3-8364-247b6c3d9b23",
   "metadata": {},
   "outputs": [],
   "source": [
    "# with pl.Config(fmt_str_lengths=50, set_tbl_rows=-1):\n",
    "#     display(annotated_snps_df\n",
    "#         .drop([\"is_forward1\", \"is_forward2\", \"read_length1\", \"read_length2\", \"mapq1\", \"mapq2\"])\n",
    "#         .filter(pl.col(\"read_name\") == focal_read)\n",
    "#         .filter(pl.col(\"op1\").ne_missing(pl.col(\"op2\")))\n",
    "#         .filter(pl.col(\"is_high_conf_snp\") == 1)\n",
    "#     )\n",
    "    "
   ]
  },
  {
   "cell_type": "code",
   "execution_count": null,
   "id": "656df55c-d2da-4e88-8914-ffa827ac6a7c",
   "metadata": {},
   "outputs": [],
   "source": []
  },
  {
   "cell_type": "markdown",
   "id": "585e0329-fbb2-4e66-8e1e-e06b3e300229",
   "metadata": {},
   "source": [
    "# SNP analysis"
   ]
  },
  {
   "cell_type": "code",
   "execution_count": 13,
   "id": "da7a109b-97dc-4c8f-a6b0-01ab891b29c9",
   "metadata": {},
   "outputs": [
    {
     "name": "stdout",
     "output_type": "stream",
     "text": [
      "CPU times: user 1.75 s, sys: 1.34 s, total: 3.09 s\n",
      "Wall time: 6.85 s\n"
     ]
    }
   ],
   "source": [
    "%%time\n",
    "events_df = pl.scan_parquet(\n",
    "    Path(\"/lustre/scratch126/casm/team154pc/sl17/03.sperm/02.results/01.read_alignment/01.ccs/04.hifiasm/02.hifiasm_0.19.5-r592/02.chromosome_length_scaffolds/\") \\\n",
    "        / f\"{focal_sample_id}\" / \"reads\" / f\"{denovo_chrom}.read_refinement.parquet\"\n",
    ")\n",
    "\n",
    "candidates_df = pl.read_parquet(\n",
    "    Path(\"/lustre/scratch126/casm/team154pc/sl17/03.sperm/02.results/01.read_alignment/01.ccs/04.hifiasm/02.hifiasm_0.19.5-r592/02.chromosome_length_scaffolds/\") \\\n",
    "        / f\"{focal_sample_id}\" / \"reads\" / f\"{denovo_chrom}.certainty_0.95.candidate_reads.parquet\"\n",
    ")\n",
    "\n",
    "high_conf_snps_df = pl.read_parquet(\n",
    "    Path(\"/lustre/scratch126/casm/team154pc/sl17/03.sperm/02.results/01.read_alignment/01.ccs/04.hifiasm/02.hifiasm_0.19.5-r592/02.chromosome_length_scaffolds/\") \\\n",
    "        / f\"{focal_sample_id}\" / \"reads\" / f\"{denovo_chrom}.certainty_0.95.snps.parquet\"\n",
    ")"
   ]
  },
  {
   "cell_type": "markdown",
   "id": "d95ae888-926d-41da-afe3-aa08617bc390",
   "metadata": {},
   "source": [
    "## BQ"
   ]
  },
  {
   "cell_type": "markdown",
   "id": "766a4d79-f4d1-4318-b55d-dbf10fcd5b2b",
   "metadata": {},
   "source": [
    "### General distribution (the first bp of all events)"
   ]
  },
  {
   "cell_type": "code",
   "execution_count": 14,
   "id": "5dda0c2a-2205-491f-a579-64eb0d8779b9",
   "metadata": {},
   "outputs": [
    {
     "data": {
      "image/png": "[encoded data removed]",
      "text/plain": [
       "<Figure size 640x480 with 1 Axes>"
      ]
     },
     "metadata": {},
     "output_type": "display_data"
    }
   ],
   "source": [
    "plt.hist(\n",
    "    (events_df\n",
    "        .select(pl.col(\"qual_start1\"))\n",
    "        .collect()\n",
    "    ), \n",
    "    bins=np.arange(1,94)\n",
    ");"
   ]
  },
  {
   "cell_type": "markdown",
   "id": "78150b6f-054d-41a3-a939-bad06fabb511",
   "metadata": {},
   "source": [
    "### Distribution of high conf SNPs"
   ]
  },
  {
   "cell_type": "code",
   "execution_count": 15,
   "id": "dad41d2d-b2b0-4875-a56e-781814b8b368",
   "metadata": {},
   "outputs": [
    {
     "data": {
      "image/png": "[encoded data removed]",
      "text/plain": [
       "<Figure size 640x480 with 1 Axes>"
      ]
     },
     "metadata": {},
     "output_type": "display_data"
    }
   ],
   "source": [
    "plt.hist(\n",
    "    (high_conf_snps_df\n",
    "        .select(pl.col(\"qual_start1\"))\n",
    "    ), \n",
    "    bins=np.arange(1,94),\n",
    "    log=True\n",
    ");\n",
    "plt.title(\"All high conf SNPs\");"
   ]
  },
  {
   "cell_type": "code",
   "execution_count": 16,
   "id": "3a8935b1-19db-4707-8957-ca5fb1b2975a",
   "metadata": {},
   "outputs": [
    {
     "data": {
      "text/plain": [
       "(3525011, 35)"
      ]
     },
     "execution_count": 16,
     "metadata": {},
     "output_type": "execute_result"
    }
   ],
   "source": [
    "high_conf_snps_df.shape"
   ]
  },
  {
   "cell_type": "code",
   "execution_count": 17,
   "id": "f0170e22-f256-4344-bacc-6331f4871b29",
   "metadata": {},
   "outputs": [
    {
     "data": {
      "text/html": [
       "<div><style>\n",
       ".dataframe > thead > tr,\n",
       ".dataframe > tbody > tr {\n",
       "  text-align: right;\n",
       "  white-space: pre-wrap;\n",
       "}\n",
       "</style>\n",
       "<small>shape: (5, 35)</small><table border=\"1\" class=\"dataframe\"><thead><tr><th>start</th><th>end</th><th>length</th><th>op1</th><th>op2</th><th>ref1_start</th><th>ref1_end</th><th>ref1_gap</th><th>ref2_start</th><th>ref2_end</th><th>ref2_gap</th><th>cigar_ptr1</th><th>cigar_ptr2</th><th>read_name</th><th>is_forward1</th><th>is_forward2</th><th>read_length1</th><th>read_length2</th><th>mapq1</th><th>mapq2</th><th>qual_start1</th><th>qual_start2</th><th>total_mismatches</th><th>is_snp</th><th>is_high_conf_snp</th><th>fits1_more</th><th>trf_repeat_length_hap1</th><th>trf_n_copies_hap1</th><th>trf_repeat_length_hap2</th><th>trf_n_copies_hap2</th><th>sdust_repeat_length_hap1</th><th>sdust_repeat_length_hap2</th><th>hap1_certainty_0.95_coverage</th><th>hap2_certainty_0.95_coverage</th><th>is_high_quality_snp</th></tr><tr><td>i64</td><td>i64</td><td>i64</td><td>i64</td><td>i64</td><td>i64</td><td>i64</td><td>i64</td><td>i64</td><td>i64</td><td>i64</td><td>i64</td><td>i64</td><td>str</td><td>bool</td><td>bool</td><td>i32</td><td>i32</td><td>i32</td><td>i32</td><td>u8</td><td>u8</td><td>i64</td><td>bool</td><td>bool</td><td>i32</td><td>i64</td><td>f64</td><td>i64</td><td>f64</td><td>i32</td><td>i32</td><td>i64</td><td>i64</td><td>bool</td></tr></thead><tbody><tr><td>6472</td><td>6473</td><td>1</td><td>8</td><td>7</td><td>17059415</td><td>17059416</td><td>1</td><td>16572032</td><td>16572033</td><td>1</td><td>53</td><td>50</td><td>&quot;m64094e_220717…</td><td>true</td><td>true</td><td>19493</td><td>19493</td><td>60</td><td>60</td><td>63</td><td>63</td><td>6</td><td>true</td><td>true</td><td>0</td><td>0</td><td>0.0</td><td>0</td><td>0.0</td><td>0</td><td>0</td><td>17</td><td>13</td><td>true</td></tr><tr><td>7461</td><td>7462</td><td>1</td><td>8</td><td>7</td><td>17060417</td><td>17060418</td><td>1</td><td>16573023</td><td>16573024</td><td>1</td><td>69</td><td>62</td><td>&quot;m64094e_220717…</td><td>true</td><td>true</td><td>19493</td><td>19493</td><td>60</td><td>60</td><td>63</td><td>63</td><td>6</td><td>true</td><td>true</td><td>0</td><td>0</td><td>0.0</td><td>0</td><td>0.0</td><td>0</td><td>0</td><td>20</td><td>12</td><td>true</td></tr><tr><td>7914</td><td>7915</td><td>1</td><td>8</td><td>7</td><td>17060871</td><td>17060872</td><td>1</td><td>16573477</td><td>16573478</td><td>1</td><td>79</td><td>68</td><td>&quot;m64094e_220717…</td><td>true</td><td>true</td><td>19493</td><td>19493</td><td>60</td><td>60</td><td>54</td><td>54</td><td>6</td><td>true</td><td>false</td><td>0</td><td>0</td><td>0.0</td><td>0</td><td>0.0</td><td>0</td><td>0</td><td>0</td><td>0</td><td>false</td></tr><tr><td>8735</td><td>8736</td><td>1</td><td>8</td><td>7</td><td>17061696</td><td>17061697</td><td>1</td><td>16574301</td><td>16574302</td><td>1</td><td>93</td><td>78</td><td>&quot;m64094e_220717…</td><td>true</td><td>true</td><td>19493</td><td>19493</td><td>60</td><td>60</td><td>45</td><td>45</td><td>6</td><td>true</td><td>false</td><td>0</td><td>0</td><td>0.0</td><td>0</td><td>0.0</td><td>0</td><td>0</td><td>0</td><td>0</td><td>false</td></tr><tr><td>8918</td><td>8919</td><td>1</td><td>8</td><td>7</td><td>17061879</td><td>17061880</td><td>1</td><td>16574484</td><td>16574485</td><td>1</td><td>95</td><td>78</td><td>&quot;m64094e_220717…</td><td>true</td><td>true</td><td>19493</td><td>19493</td><td>60</td><td>60</td><td>63</td><td>63</td><td>6</td><td>true</td><td>true</td><td>0</td><td>0</td><td>0.0</td><td>0</td><td>0.0</td><td>0</td><td>0</td><td>21</td><td>12</td><td>true</td></tr></tbody></table></div>"
      ],
      "text/plain": [
       "shape: (5, 35)\n",
       "┌───────┬──────┬────────┬─────┬───┬────────────────┬───────────────┬───────────────┬───────────────┐\n",
       "│ start ┆ end  ┆ length ┆ op1 ┆ … ┆ sdust_repeat_l ┆ hap1_certaint ┆ hap2_certaint ┆ is_high_quali │\n",
       "│ ---   ┆ ---  ┆ ---    ┆ --- ┆   ┆ ength_hap2     ┆ y_0.95_covera ┆ y_0.95_covera ┆ ty_snp        │\n",
       "│ i64   ┆ i64  ┆ i64    ┆ i64 ┆   ┆ ---            ┆ ge            ┆ ge            ┆ ---           │\n",
       "│       ┆      ┆        ┆     ┆   ┆ i32            ┆ ---           ┆ ---           ┆ bool          │\n",
       "│       ┆      ┆        ┆     ┆   ┆                ┆ i64           ┆ i64           ┆               │\n",
       "╞═══════╪══════╪════════╪═════╪═══╪════════════════╪═══════════════╪═══════════════╪═══════════════╡\n",
       "│ 6472  ┆ 6473 ┆ 1      ┆ 8   ┆ … ┆ 0              ┆ 17            ┆ 13            ┆ true          │\n",
       "│ 7461  ┆ 7462 ┆ 1      ┆ 8   ┆ … ┆ 0              ┆ 20            ┆ 12            ┆ true          │\n",
       "│ 7914  ┆ 7915 ┆ 1      ┆ 8   ┆ … ┆ 0              ┆ 0             ┆ 0             ┆ false         │\n",
       "│ 8735  ┆ 8736 ┆ 1      ┆ 8   ┆ … ┆ 0              ┆ 0             ┆ 0             ┆ false         │\n",
       "│ 8918  ┆ 8919 ┆ 1      ┆ 8   ┆ … ┆ 0              ┆ 21            ┆ 12            ┆ true          │\n",
       "└───────┴──────┴────────┴─────┴───┴────────────────┴───────────────┴───────────────┴───────────────┘"
      ]
     },
     "execution_count": 17,
     "metadata": {},
     "output_type": "execute_result"
    }
   ],
   "source": [
    "high_conf_snps_df.head()"
   ]
  },
  {
   "cell_type": "code",
   "execution_count": 18,
   "id": "59f0f242-4275-4b4d-8250-c028272f3e6e",
   "metadata": {},
   "outputs": [
    {
     "data": {
      "image/png": "[encoded data removed]",
      "text/plain": [
       "<Figure size 640x480 with 1 Axes>"
      ]
     },
     "metadata": {},
     "output_type": "display_data"
    }
   ],
   "source": [
    "plt.hist(\n",
    "    [\n",
    "        (high_conf_snps_df\n",
    "            .filter((pl.col(\"trf_repeat_length_hap1\") == 0) & (pl.col(\"trf_repeat_length_hap2\") == 0))\n",
    "            .select(pl.col(\"qual_start1\"))\n",
    "        )[\"qual_start1\"],\n",
    "        (high_conf_snps_df\n",
    "            .filter((pl.col(\"trf_repeat_length_hap1\") > 0) | (pl.col(\"trf_repeat_length_hap2\") > 0))\n",
    "            .select(pl.col(\"qual_start1\"))\n",
    "        )[\"qual_start1\"], \n",
    "    ],\n",
    "    bins=np.arange(1,94),\n",
    "    log=True,\n",
    "    density=True,\n",
    ");\n",
    "plt.title(\"High conf SNPs - TRF repeats\");\n",
    "plt.legend([\"In\", \"Out\"]);"
   ]
  },
  {
   "cell_type": "code",
   "execution_count": 19,
   "id": "c524338e-f82a-4f56-883b-5e0c4127a996",
   "metadata": {},
   "outputs": [
    {
     "data": {
      "image/png": "[encoded data removed]",
      "text/plain": [
       "<Figure size 640x480 with 1 Axes>"
      ]
     },
     "metadata": {},
     "output_type": "display_data"
    }
   ],
   "source": [
    "plt.hist(\n",
    "    [\n",
    "        (high_conf_snps_df\n",
    "            .filter((pl.col(\"sdust_repeat_length_hap1\") == 0) & (pl.col(\"sdust_repeat_length_hap2\") == 0))\n",
    "            .select(pl.col(\"qual_start1\"))\n",
    "        )[\"qual_start1\"],\n",
    "        (high_conf_snps_df\n",
    "            .filter((pl.col(\"sdust_repeat_length_hap1\") > 0) | (pl.col(\"sdust_repeat_length_hap2\") > 0))\n",
    "            .select(pl.col(\"qual_start1\"))\n",
    "        )[\"qual_start1\"], \n",
    "    ],\n",
    "    bins=np.arange(1,94),\n",
    "    log=True,\n",
    "    density=True,\n",
    ");\n",
    "plt.title(\"High conf SNPs - sdust repeats\");\n",
    "plt.legend([\"In\", \"Out\"]);"
   ]
  },
  {
   "cell_type": "markdown",
   "id": "40801b01-b413-4a26-83cb-aa5abe8a0b95",
   "metadata": {},
   "source": [
    "### Look at some examples to decide a threshold (select read and SNP here, check on dashboard)"
   ]
  },
  {
   "cell_type": "code",
   "execution_count": 20,
   "id": "804ef126-a9b3-4597-8ca1-914d791ef397",
   "metadata": {},
   "outputs": [],
   "source": [
    "# plt.hist(\n",
    "#     (cand_snps_df\n",
    "#         .select(pl.col(\"qual_start1\"))\n",
    "#     ), \n",
    "#     bins=np.arange(1,94),\n",
    "#     log=True\n",
    "# );\n"
   ]
  },
  {
   "cell_type": "code",
   "execution_count": 21,
   "id": "c9355972-c1c4-41f6-9e0a-bedfd1925a0c",
   "metadata": {},
   "outputs": [],
   "source": [
    "# with pl.Config(fmt_str_lengths=50, set_tbl_rows=-1):\n",
    "#     display(cand_snps_df\n",
    "#         .filter(pl.col(\"qual_start1\") < 20)\n",
    "#     )"
   ]
  },
  {
   "cell_type": "markdown",
   "id": "79e4d256-6b96-49a2-a5d2-5ead3faf7182",
   "metadata": {},
   "source": [
    "## Calibrate BQ based on alleles"
   ]
  },
  {
   "cell_type": "code",
   "execution_count": null,
   "id": "39bf1fd4-77f3-4d3e-9e7c-21144fbeaaf1",
   "metadata": {},
   "outputs": [],
   "source": []
  },
  {
   "cell_type": "code",
   "execution_count": null,
   "id": "5093ecf8-ff4a-46db-9d59-976c535d111e",
   "metadata": {},
   "outputs": [],
   "source": []
  },
  {
   "cell_type": "code",
   "execution_count": null,
   "id": "4c678588-ce9b-4b27-980c-1bff8f574bff",
   "metadata": {},
   "outputs": [],
   "source": []
  },
  {
   "cell_type": "markdown",
   "id": "06b8bf36-4f25-4be6-a769-d89029ce0b32",
   "metadata": {},
   "source": [
    "## Repeats"
   ]
  },
  {
   "cell_type": "code",
   "execution_count": 22,
   "id": "9ad4acb0-1bb8-4b59-b210-7b92be83dc69",
   "metadata": {},
   "outputs": [
    {
     "data": {
      "text/html": [
       "<div><style>\n",
       ".dataframe > thead > tr,\n",
       ".dataframe > tbody > tr {\n",
       "  text-align: right;\n",
       "  white-space: pre-wrap;\n",
       "}\n",
       "</style>\n",
       "<small>shape: (2, 5)</small><table border=\"1\" class=\"dataframe\"><thead><tr><th>is_phased_covered</th><th>is_not_trf</th><th>is_not_sdust</th><th>good_bq</th><th>count</th></tr><tr><td>bool</td><td>bool</td><td>bool</td><td>bool</td><td>u32</td></tr></thead><tbody><tr><td>true</td><td>true</td><td>true</td><td>true</td><td>2834461</td></tr><tr><td>false</td><td>true</td><td>true</td><td>true</td><td>7162</td></tr></tbody></table></div>"
      ],
      "text/plain": [
       "shape: (2, 5)\n",
       "┌───────────────────┬────────────┬──────────────┬─────────┬─────────┐\n",
       "│ is_phased_covered ┆ is_not_trf ┆ is_not_sdust ┆ good_bq ┆ count   │\n",
       "│ ---               ┆ ---        ┆ ---          ┆ ---     ┆ ---     │\n",
       "│ bool              ┆ bool       ┆ bool         ┆ bool    ┆ u32     │\n",
       "╞═══════════════════╪════════════╪══════════════╪═════════╪═════════╡\n",
       "│ true              ┆ true       ┆ true         ┆ true    ┆ 2834461 │\n",
       "│ false             ┆ true       ┆ true         ┆ true    ┆ 7162    │\n",
       "└───────────────────┴────────────┴──────────────┴─────────┴─────────┘"
      ]
     },
     "metadata": {},
     "output_type": "display_data"
    }
   ],
   "source": [
    "snp_stats_df = (high_conf_snps_df\n",
    "    .filter(pl.col(\"is_high_conf_snp\") == 1)\n",
    "    .select(\n",
    "        ((pl.col(\"hap1_certainty_0.95_coverage\") >= 3) & (pl.col(\"hap2_certainty_0.95_coverage\") >= 3)).alias(\"is_phased_covered\"),\n",
    "        ((pl.col(\"trf_repeat_length_hap1\") == 0) & (pl.col(\"trf_repeat_length_hap2\") == 0)).alias(\"is_not_trf\"),\n",
    "        ((pl.col(\"sdust_repeat_length_hap1\") == 0) & (pl.col(\"sdust_repeat_length_hap2\") == 0)).alias(\"is_not_sdust\"),\n",
    "        ((pl.col(\"qual_start1\") >= 60) & (pl.col(\"qual_start2\") >= 60)).alias(\"good_bq\"),\n",
    "    )\n",
    "    .group_by([\"is_phased_covered\", \"is_not_trf\", \"is_not_sdust\", \"good_bq\"])\n",
    "    .count()\n",
    "    .sort(by=\"count\", descending=True)\n",
    ")\n",
    "\n",
    "display(snp_stats_df)"
   ]
  },
  {
   "cell_type": "code",
   "execution_count": 23,
   "id": "461819bf-6e52-4a2a-95c2-4a9663c8a34e",
   "metadata": {},
   "outputs": [
    {
     "data": {
      "text/html": [
       "<div><style>\n",
       ".dataframe > thead > tr,\n",
       ".dataframe > tbody > tr {\n",
       "  text-align: right;\n",
       "  white-space: pre-wrap;\n",
       "}\n",
       "</style>\n",
       "<small>shape: (2, 3)</small><table border=\"1\" class=\"dataframe\"><thead><tr><th>is_phased_covered</th><th>count</th><th>frac</th></tr><tr><td>bool</td><td>u32</td><td>f64</td></tr></thead><tbody><tr><td>true</td><td>2834461</td><td>0.99748</td></tr><tr><td>false</td><td>7162</td><td>0.00252</td></tr></tbody></table></div>"
      ],
      "text/plain": [
       "shape: (2, 3)\n",
       "┌───────────────────┬─────────┬─────────┐\n",
       "│ is_phased_covered ┆ count   ┆ frac    │\n",
       "│ ---               ┆ ---     ┆ ---     │\n",
       "│ bool              ┆ u32     ┆ f64     │\n",
       "╞═══════════════════╪═════════╪═════════╡\n",
       "│ true              ┆ 2834461 ┆ 0.99748 │\n",
       "│ false             ┆ 7162    ┆ 0.00252 │\n",
       "└───────────────────┴─────────┴─────────┘"
      ]
     },
     "metadata": {},
     "output_type": "display_data"
    }
   ],
   "source": [
    "cols = [\"is_phased_covered\"]\n",
    "df = snp_stats_df.select(cols + [\"count\"]).group_by(cols).sum().sort(by=\"count\", descending=True)\n",
    "df = df.with_columns((df[\"count\"] / df[\"count\"].sum()).alias(\"frac\"))\n",
    "display(df)\n"
   ]
  },
  {
   "cell_type": "markdown",
   "id": "6ef21cea-b4ae-4bb5-9555-ce90c12842f3",
   "metadata": {},
   "source": [
    "# Noisy reads"
   ]
  },
  {
   "cell_type": "code",
   "execution_count": 24,
   "id": "3f281795-66cf-471c-88db-0298c3b29c9e",
   "metadata": {},
   "outputs": [],
   "source": [
    "noise_df = (events_df\n",
    "    .filter((pl.col(\"op1\") == 8) & (pl.col(\"op2\") == 8) & (pl.col(\"length\") == 1))\n",
    "    .group_by(\"read_name\")\n",
    "    .agg(\n",
    "        pl.col(\"length\").sum(),\n",
    "        pl.col(\"read_length1\").mean(),\n",
    "    )\n",
    ").collect()"
   ]
  },
  {
   "cell_type": "code",
   "execution_count": 25,
   "id": "3ba70daf-a916-48b8-acf1-346a4f698f89",
   "metadata": {},
   "outputs": [
    {
     "data": {
      "image/png": "[encoded data removed]",
      "text/plain": [
       "<Figure size 640x480 with 1 Axes>"
      ]
     },
     "metadata": {},
     "output_type": "display_data"
    }
   ],
   "source": [
    "plt.hist(noise_df[\"length\"], bins=np.arange(200), log=True, density=False);\n",
    "plt.title(\"# of SNP double mismatches\");"
   ]
  },
  {
   "cell_type": "code",
   "execution_count": 26,
   "id": "59b334a4-3ba8-4a63-b266-f129e99d3998",
   "metadata": {},
   "outputs": [
    {
     "data": {
      "text/plain": [
       "(493460, 22)"
      ]
     },
     "execution_count": 26,
     "metadata": {},
     "output_type": "execute_result"
    }
   ],
   "source": [
    "events_df.unique(\"read_name\").collect().shape"
   ]
  },
  {
   "cell_type": "code",
   "execution_count": 27,
   "id": "37a6f435-43d5-45ee-a1fe-37b893bc5bb7",
   "metadata": {},
   "outputs": [
    {
     "data": {
      "text/plain": [
       "(125341, 3)"
      ]
     },
     "execution_count": 27,
     "metadata": {},
     "output_type": "execute_result"
    }
   ],
   "source": [
    "noise_df.shape"
   ]
  },
  {
   "cell_type": "code",
   "execution_count": 28,
   "id": "41436ae2-d9c9-474b-9ca0-743a0169c8d3",
   "metadata": {},
   "outputs": [
    {
     "data": {
      "text/plain": [
       "0.7472955500703218"
      ]
     },
     "execution_count": 28,
     "metadata": {},
     "output_type": "execute_result"
    }
   ],
   "source": [
    "(493446 - 124696) / 493446"
   ]
  },
  {
   "cell_type": "code",
   "execution_count": 29,
   "id": "5196156f-e8f1-424b-b408-fd07fbd6f724",
   "metadata": {},
   "outputs": [
    {
     "data": {
      "text/plain": [
       "(10945, 3)"
      ]
     },
     "execution_count": 29,
     "metadata": {},
     "output_type": "execute_result"
    }
   ],
   "source": [
    "(noise_df.filter(pl.col(\"length\") > 10)).shape"
   ]
  },
  {
   "cell_type": "code",
   "execution_count": 30,
   "id": "b6dd30b9-0dca-4aed-836e-88f19c984569",
   "metadata": {},
   "outputs": [
    {
     "data": {
      "text/plain": [
       "0.9777949360213681"
      ]
     },
     "execution_count": 30,
     "metadata": {},
     "output_type": "execute_result"
    }
   ],
   "source": [
    "(493446 - 10957) / 493446"
   ]
  },
  {
   "cell_type": "code",
   "execution_count": 31,
   "id": "02110c46-ce69-4493-9c53-4a01b66413a5",
   "metadata": {},
   "outputs": [
    {
     "data": {
      "text/plain": [
       "(809, 3)"
      ]
     },
     "execution_count": 31,
     "metadata": {},
     "output_type": "execute_result"
    }
   ],
   "source": [
    "(noise_df.filter(pl.col(\"length\") > 30)).shape"
   ]
  },
  {
   "cell_type": "code",
   "execution_count": 32,
   "id": "ba2b96a6-29d6-495c-b5e8-16f442f125b8",
   "metadata": {},
   "outputs": [
    {
     "data": {
      "text/plain": [
       "0.9983544298666926"
      ]
     },
     "execution_count": 32,
     "metadata": {},
     "output_type": "execute_result"
    }
   ],
   "source": [
    "(493446 - 812) / 493446"
   ]
  },
  {
   "cell_type": "code",
   "execution_count": null,
   "id": "321b15be-49c8-450a-9510-6b9a2daa9d91",
   "metadata": {},
   "outputs": [],
   "source": []
  },
  {
   "cell_type": "code",
   "execution_count": 33,
   "id": "d7cc2aee-3903-48e1-aaac-6db330f8f063",
   "metadata": {},
   "outputs": [
    {
     "data": {
      "image/png": "[encoded data removed]",
      "text/plain": [
       "<Figure size 640x480 with 1 Axes>"
      ]
     },
     "metadata": {},
     "output_type": "display_data"
    }
   ],
   "source": [
    "plt.hist(\n",
    "    [\n",
    "        (high_conf_snps_df.select(pl.col(\"qual_start1\")))[\"qual_start1\"],\n",
    "        (events_df\n",
    "            .filter((pl.col(\"op1\") == 8) & (pl.col(\"op2\") == 8) & (pl.col(\"length\") == 1))\n",
    "            .select(\"qual_start1\")\n",
    "        ).collect()[\"qual_start1\"]\n",
    "    ], \n",
    "    bins=np.arange(1,94),\n",
    "    log=True, \n",
    "    density=True,\n",
    ");\n",
    "\n",
    "plt.legend([\"all high confidence SNPs\", \"Double mismatch SNPs\"])\n",
    "plt.ylabel(\"BQ\");\n"
   ]
  },
  {
   "cell_type": "code",
   "execution_count": 34,
   "id": "e485f59d-5a8b-493f-9f3c-de25e1776c3b",
   "metadata": {},
   "outputs": [
    {
     "data": {
      "image/png": "[encoded data removed]",
      "text/plain": [
       "<Figure size 640x480 with 1 Axes>"
      ]
     },
     "metadata": {},
     "output_type": "display_data"
    }
   ],
   "source": [
    "plt.hist(\n",
    "    [\n",
    "        (high_conf_snps_df\n",
    "            .group_by(\"read_name\")\n",
    "            .agg(pl.col(\"qual_start1\").mean())            \n",
    "        )[\"qual_start1\"],\n",
    "        (events_df\n",
    "            .filter((pl.col(\"op1\") == 8) & (pl.col(\"op2\") == 8) & (pl.col(\"length\") == 1))\n",
    "            .group_by(\"read_name\")\n",
    "            .agg(pl.col(\"qual_start1\").mean())\n",
    "        ).collect()[\"qual_start1\"]\n",
    "    ], \n",
    "    bins=np.arange(1,94),\n",
    "    log=False, \n",
    "    density=True,\n",
    ");\n",
    "\n",
    "plt.legend([\"all high confidence SNPs\", \"Double mismatch SNPs\"])\n",
    "plt.ylabel(\"Average SNP BQ along read\");\n",
    "plt.ylim(0,0.07);"
   ]
  },
  {
   "cell_type": "code",
   "execution_count": null,
   "id": "363c534d-40f3-4595-8857-dc0647048034",
   "metadata": {},
   "outputs": [],
   "source": []
  },
  {
   "cell_type": "code",
   "execution_count": 35,
   "id": "d71adb71-4e33-4b20-9459-23082145605f",
   "metadata": {},
   "outputs": [
    {
     "data": {
      "text/html": [
       "<div><style>\n",
       ".dataframe > thead > tr,\n",
       ".dataframe > tbody > tr {\n",
       "  text-align: right;\n",
       "  white-space: pre-wrap;\n",
       "}\n",
       "</style>\n",
       "<small>shape: (125_341, 3)</small><table border=\"1\" class=\"dataframe\"><thead><tr><th>read_name</th><th>length</th><th>read_length1</th></tr><tr><td>str</td><td>i64</td><td>f64</td></tr></thead><tbody><tr><td>&quot;m64174e_220620…</td><td>1</td><td>3536.0</td></tr><tr><td>&quot;m64094e_220715…</td><td>1</td><td>11148.0</td></tr><tr><td>&quot;m64094e_220715…</td><td>6</td><td>18377.0</td></tr><tr><td>&quot;m64174e_220620…</td><td>5</td><td>4651.0</td></tr><tr><td>&quot;m64174e_220620…</td><td>1</td><td>14735.0</td></tr><tr><td>&quot;m64094e_220715…</td><td>1</td><td>17961.0</td></tr><tr><td>&quot;m64094e_220717…</td><td>1</td><td>10953.0</td></tr><tr><td>&quot;m64174e_220620…</td><td>1</td><td>11141.0</td></tr><tr><td>&quot;m64174e_220620…</td><td>3</td><td>12026.0</td></tr><tr><td>&quot;m64094e_220717…</td><td>7</td><td>11167.0</td></tr><tr><td>&quot;m64094e_220715…</td><td>4</td><td>11779.0</td></tr><tr><td>&quot;m64174e_220620…</td><td>5</td><td>15638.0</td></tr><tr><td>&hellip;</td><td>&hellip;</td><td>&hellip;</td></tr><tr><td>&quot;m64174e_220620…</td><td>1</td><td>6805.0</td></tr><tr><td>&quot;m64094e_220715…</td><td>1</td><td>3942.0</td></tr><tr><td>&quot;m64094e_220715…</td><td>11</td><td>6070.0</td></tr><tr><td>&quot;m64094e_220715…</td><td>4</td><td>18678.0</td></tr><tr><td>&quot;m64094e_220717…</td><td>2</td><td>16417.0</td></tr><tr><td>&quot;m64174e_220620…</td><td>6</td><td>5287.0</td></tr><tr><td>&quot;m64174e_220620…</td><td>1</td><td>7113.0</td></tr><tr><td>&quot;m64094e_220715…</td><td>2</td><td>9931.0</td></tr><tr><td>&quot;m64094e_220715…</td><td>1</td><td>11610.0</td></tr><tr><td>&quot;m64094e_220717…</td><td>7</td><td>16544.0</td></tr><tr><td>&quot;m64094e_220715…</td><td>1</td><td>7999.0</td></tr><tr><td>&quot;m64094e_220717…</td><td>8</td><td>9488.0</td></tr></tbody></table></div>"
      ],
      "text/plain": [
       "shape: (125_341, 3)\n",
       "┌───────────────────────────────────┬────────┬──────────────┐\n",
       "│ read_name                         ┆ length ┆ read_length1 │\n",
       "│ ---                               ┆ ---    ┆ ---          │\n",
       "│ str                               ┆ i64    ┆ f64          │\n",
       "╞═══════════════════════════════════╪════════╪══════════════╡\n",
       "│ m64174e_220620_110709/138349011/… ┆ 1      ┆ 3536.0       │\n",
       "│ m64094e_220715_151527/124586162/… ┆ 1      ┆ 11148.0      │\n",
       "│ m64094e_220715_151527/51315213/c… ┆ 6      ┆ 18377.0      │\n",
       "│ m64174e_220620_110709/40633767/c… ┆ 5      ┆ 4651.0       │\n",
       "│ …                                 ┆ …      ┆ …            │\n",
       "│ m64094e_220715_151527/151652625/… ┆ 1      ┆ 11610.0      │\n",
       "│ m64094e_220717_002414/123143962/… ┆ 7      ┆ 16544.0      │\n",
       "│ m64094e_220715_151527/128844244/… ┆ 1      ┆ 7999.0       │\n",
       "│ m64094e_220717_002414/154732654/… ┆ 8      ┆ 9488.0       │\n",
       "└───────────────────────────────────┴────────┴──────────────┘"
      ]
     },
     "execution_count": 35,
     "metadata": {},
     "output_type": "execute_result"
    }
   ],
   "source": [
    "noise_df"
   ]
  },
  {
   "cell_type": "code",
   "execution_count": 36,
   "id": "54844d7a-7cf6-4b3f-93ed-ed444c5e318c",
   "metadata": {},
   "outputs": [],
   "source": [
    "events_df_with_mismatches = (events_df\n",
    "    .join(\n",
    "        (events_df\n",
    "            .filter((pl.col(\"op1\") == 8) & (pl.col(\"op2\") == 8) & (pl.col(\"length\") == 1))\n",
    "            .group_by(\"read_name\")\n",
    "            .agg(\n",
    "                pl.col(\"length\").sum().alias(\"total_mismatches\"),\n",
    "            )\n",
    "        ),\n",
    "        on=\"read_name\",\n",
    "        how=\"left\",\n",
    "    )\n",
    "    .fill_null(0)\n",
    ").collect()"
   ]
  },
  {
   "cell_type": "code",
   "execution_count": 37,
   "id": "1092b7ea-f49c-4716-9ca3-76ef72c75ad1",
   "metadata": {},
   "outputs": [
    {
     "data": {
      "image/png": "[encoded data removed]",
      "text/plain": [
       "<Figure size 640x480 with 1 Axes>"
      ]
     },
     "metadata": {},
     "output_type": "display_data"
    }
   ],
   "source": [
    "plt.hist(events_df_with_mismatches[\"total_mismatches\"], bins=np.arange(0,50), log=True);"
   ]
  },
  {
   "cell_type": "code",
   "execution_count": null,
   "id": "9f813002-a091-4e66-93fa-8cfe9422c4b5",
   "metadata": {},
   "outputs": [],
   "source": []
  },
  {
   "cell_type": "code",
   "execution_count": null,
   "id": "40a71373-7954-428e-9972-c77764715e2b",
   "metadata": {},
   "outputs": [],
   "source": []
  },
  {
   "cell_type": "markdown",
   "id": "e81b696c-d294-4f61-93e9-2c0e75d4be40",
   "metadata": {
    "tags": []
   },
   "source": [
    "# Analyze common transitions"
   ]
  },
  {
   "cell_type": "code",
   "execution_count": 38,
   "id": "22457164-bdd3-461b-ad8c-9b7158df82b1",
   "metadata": {},
   "outputs": [],
   "source": [
    "cand_snps_df = (high_conf_snps_df\n",
    "    .join(candidates_df, on=\"read_name\")\n",
    "    .filter(\"is_high_quality_snp\")\n",
    "    .sort(by=[\"read_name\", \"start\"])\n",
    ")\n",
    "\n",
    "nzi = np.nonzero((np.diff(cand_snps_df[\"fits1_more\"])!=0) & (cand_snps_df[\"read_name\"][:-1] == cand_snps_df[\"read_name\"][1:]).to_numpy())[0]"
   ]
  },
  {
   "cell_type": "code",
   "execution_count": 39,
   "id": "efd63170-7d80-434b-9ed2-04b037a640a1",
   "metadata": {},
   "outputs": [
    {
     "data": {
      "text/html": [
       "<div><style>\n",
       ".dataframe > thead > tr,\n",
       ".dataframe > tbody > tr {\n",
       "  text-align: right;\n",
       "  white-space: pre-wrap;\n",
       "}\n",
       "</style>\n",
       "<small>shape: (14, 5)</small><table border=\"1\" class=\"dataframe\"><thead><tr><th>first_hap1</th><th>second_hap1</th><th>first_hap2</th><th>second_hap2</th><th>count</th></tr><tr><td>i64</td><td>i64</td><td>i64</td><td>i64</td><td>u32</td></tr></thead><tbody><tr><td>97315334</td><td>97321892</td><td>97724090</td><td>97730648</td><td>6</td></tr><tr><td>89089998</td><td>89098810</td><td>87901425</td><td>87910227</td><td>4</td></tr><tr><td>111681699</td><td>111689770</td><td>112327207</td><td>112335262</td><td>3</td></tr><tr><td>219921960</td><td>219924090</td><td>219514105</td><td>219516234</td><td>3</td></tr><tr><td>182529501</td><td>182538333</td><td>182326072</td><td>182334836</td><td>3</td></tr><tr><td>136902451</td><td>136910266</td><td>136810067</td><td>136817879</td><td>3</td></tr><tr><td>233205286</td><td>233213123</td><td>232617205</td><td>232625060</td><td>3</td></tr><tr><td>125522005</td><td>125530068</td><td>126166336</td><td>126174399</td><td>3</td></tr><tr><td>130255093</td><td>130271408</td><td>130686690</td><td>130703005</td><td>2</td></tr><tr><td>194944068</td><td>194952709</td><td>194648831</td><td>194657472</td><td>2</td></tr><tr><td>95613484</td><td>95622814</td><td>96153968</td><td>96163299</td><td>2</td></tr><tr><td>221448905</td><td>221449976</td><td>221038225</td><td>221039296</td><td>2</td></tr><tr><td>221449976</td><td>221450270</td><td>221039296</td><td>221039590</td><td>2</td></tr><tr><td>58992587</td><td>59006431</td><td>58087540</td><td>58101384</td><td>2</td></tr></tbody></table></div>"
      ],
      "text/plain": [
       "shape: (14, 5)\n",
       "┌────────────┬─────────────┬────────────┬─────────────┬───────┐\n",
       "│ first_hap1 ┆ second_hap1 ┆ first_hap2 ┆ second_hap2 ┆ count │\n",
       "│ ---        ┆ ---         ┆ ---        ┆ ---         ┆ ---   │\n",
       "│ i64        ┆ i64         ┆ i64        ┆ i64         ┆ u32   │\n",
       "╞════════════╪═════════════╪════════════╪═════════════╪═══════╡\n",
       "│ 97315334   ┆ 97321892    ┆ 97724090   ┆ 97730648    ┆ 6     │\n",
       "│ 89089998   ┆ 89098810    ┆ 87901425   ┆ 87910227    ┆ 4     │\n",
       "│ 111681699  ┆ 111689770   ┆ 112327207  ┆ 112335262   ┆ 3     │\n",
       "│ 219921960  ┆ 219924090   ┆ 219514105  ┆ 219516234   ┆ 3     │\n",
       "│ …          ┆ …           ┆ …          ┆ …           ┆ …     │\n",
       "│ 95613484   ┆ 95622814    ┆ 96153968   ┆ 96163299    ┆ 2     │\n",
       "│ 221448905  ┆ 221449976   ┆ 221038225  ┆ 221039296   ┆ 2     │\n",
       "│ 221449976  ┆ 221450270   ┆ 221039296  ┆ 221039590   ┆ 2     │\n",
       "│ 58992587   ┆ 59006431    ┆ 58087540   ┆ 58101384    ┆ 2     │\n",
       "└────────────┴─────────────┴────────────┴─────────────┴───────┘"
      ]
     },
     "execution_count": 39,
     "metadata": {},
     "output_type": "execute_result"
    }
   ],
   "source": [
    "common_trans_df = (\n",
    "    pl.DataFrame({\n",
    "        \"first_hap1\": cand_snps_df[nzi][\"ref1_start\"], \n",
    "        \"second_hap1\": cand_snps_df[nzi+1][\"ref1_start\"],\n",
    "        \"first_hap2\": cand_snps_df[nzi][\"ref2_start\"], \n",
    "        \"second_hap2\": cand_snps_df[nzi+1][\"ref2_start\"],\n",
    "    })\n",
    "    .group_by([\"first_hap1\", \"second_hap1\", \"first_hap2\", \"second_hap2\"])\n",
    "    .count()\n",
    "    .sort(by=\"count\", descending=True)\n",
    "    .filter(pl.col(\"count\") > 1)\n",
    ")\n",
    "\n",
    "common_trans_df"
   ]
  },
  {
   "cell_type": "code",
   "execution_count": 40,
   "id": "87b61a4c-2bab-408d-8f46-e1c6b55675bb",
   "metadata": {},
   "outputs": [
    {
     "data": {
      "text/html": [
       "<div><style>\n",
       ".dataframe > thead > tr,\n",
       ".dataframe > tbody > tr {\n",
       "  text-align: right;\n",
       "  white-space: pre-wrap;\n",
       "}\n",
       "</style>\n",
       "<small>shape: (0,)</small><table border=\"1\" class=\"dataframe\"><thead><tr><th>read_name</th></tr><tr><td>str</td></tr></thead><tbody></tbody></table></div>"
      ],
      "text/plain": [
       "shape: (0,)\n",
       "Series: 'read_name' [str]\n",
       "[\n",
       "]"
      ]
     },
     "metadata": {},
     "output_type": "display_data"
    }
   ],
   "source": [
    "with pl.Config(fmt_str_lengths=50, set_tbl_rows=-1):\n",
    "    display(\n",
    "        (cand_snps_df\n",
    "            .filter(pl.col(\"ref1_start\") == 99105669)\n",
    "        )[\"read_name\"]\n",
    "    )"
   ]
  },
  {
   "cell_type": "markdown",
   "id": "998613f1-c2a9-4387-9491-c199552191bd",
   "metadata": {},
   "source": [
    "# Compare COs with Sangjin's results?"
   ]
  },
  {
   "cell_type": "markdown",
   "id": "9376aa35-c2b1-45c1-ab4b-c407c8cb7cd3",
   "metadata": {},
   "source": [
    "## Loading files using T2T as reference"
   ]
  },
  {
   "cell_type": "code",
   "execution_count": 41,
   "id": "7071187b-edec-4389-bc0f-d7747521ec20",
   "metadata": {},
   "outputs": [],
   "source": [
    "t2t_hapfusion_output_path = Path(\"/lustre/scratch126/casm/team154pc/sl17/03.sperm/02.results/01.read_alignment/01.ccs/03.T2T-CHM13\")\n",
    "\n",
    "def t2t_load_files(sample_id):\n",
    "    data_path = t2t_hapfusion_output_path / sample_id\n",
    "\n",
    "    reads_df = pd.read_csv(\n",
    "        str(data_path / f\"chm13.{sample_id}.hapfusion.txt\"),\n",
    "        comment=\"#\",\n",
    "        delim_whitespace=True,\n",
    "        header=None,\n",
    "    )\n",
    "\n",
    "    log_df = pd.read_csv(\n",
    "        str(data_path / \"hapfusion.log\"),\n",
    "        delim_whitespace=True,\n",
    "        index_col=0,\n",
    "    )\n",
    "\n",
    "    candidates_df = pd.read_csv(\n",
    "        str(data_path / \"hapfusion_candidates.txt\"),\n",
    "        delim_whitespace=True,\n",
    "    )\n",
    "\n",
    "    return {\"reads\": reads_df, \"summary\": log_df, \"candidates\": candidates_df}\n",
    "\n"
   ]
  },
  {
   "cell_type": "markdown",
   "id": "649a6387-dea8-4d79-aedb-2e72ff1a524f",
   "metadata": {},
   "source": [
    "## Loading files using de-novo assembly as reference"
   ]
  },
  {
   "cell_type": "code",
   "execution_count": 42,
   "id": "7fb7ddd7-3b2a-498b-b2f0-d514c4781f11",
   "metadata": {},
   "outputs": [],
   "source": [
    "denovo_hapfusion_output_path = Path(\"/lustre/scratch126/casm/team154pc/sl17/03.sperm/02.results/01.read_alignment/01.ccs/04.hifiasm/02.hifiasm_0.19.5-r592/02.chromosome_length_scaffolds\")\n",
    "\n",
    "def denovo_load_files(sample_id):\n",
    "    data_path = denovo_hapfusion_output_path / sample_id\n",
    "    if not (data_path / f\"{sample_id}.hapfusion.txt\").exists():\n",
    "        data_path = denovo_hapfusion_output_path / sample_id / sample_id\n",
    "\n",
    "    reads_df = pd.read_csv(\n",
    "        str(data_path / f\"{sample_id}.hapfusion.txt\"),\n",
    "        comment=\"#\",\n",
    "        delim_whitespace=True,\n",
    "        header=None,\n",
    "    )\n",
    "\n",
    "    log_df = pd.read_csv(\n",
    "        str(data_path / \"hapfusion.log\"),\n",
    "        delim_whitespace=True,\n",
    "        index_col=0,\n",
    "    )\n",
    "\n",
    "    candidates_df = pd.read_csv(\n",
    "        str(data_path / \"hapfusion_candidates.txt\"),\n",
    "        delim_whitespace=True,\n",
    "    )\n",
    "\n",
    "    return {\"reads\": reads_df, \"summary\": log_df, \"candidates\": candidates_df}\n",
    "\n",
    "\n",
    "\n"
   ]
  },
  {
   "cell_type": "markdown",
   "id": "9f2f3f2f-fb10-4083-946e-2449ac839d37",
   "metadata": {},
   "source": [
    "# What is the intersection and difference between references?"
   ]
  },
  {
   "cell_type": "code",
   "execution_count": 43,
   "id": "be9b5aac-40ad-4848-a604-1c65aa7da517",
   "metadata": {},
   "outputs": [
    {
     "name": "stdout",
     "output_type": "stream",
     "text": [
      "PD50489e\n",
      "CPU times: user 15.3 s, sys: 1.48 s, total: 16.7 s\n",
      "Wall time: 23.5 s\n"
     ]
    }
   ],
   "source": [
    "%%time\n",
    "\n",
    "t2t_true_reads_dfs = {}\n",
    "\n",
    "for sample_id in [focal_sample_id]:\n",
    "    print(sample_id)\n",
    "\n",
    "    F = t2t_load_files(sample_id)\n",
    "    reads_df = F[\"reads\"]\n",
    "    \n",
    "    reads_df[\"read_chrom\"] = reads_df[0].str.split(':').str[0]\n",
    "    reads_df[\"read_start_pos_0based\"] = reads_df[0].str.split(':').str[1].str.split('-').str[0].astype(int)\n",
    "    reads_df[\"read_end_pos_0based\"] = reads_df[0].str.split(':').str[1].str.split('-').str[1].astype(int)\n",
    "\n",
    "    reads_df = reads_df[(reads_df[4] == \"CO\")]\n",
    "\n",
    "    reads_df = annotate.annonate_with_mappability_mask(reads_df)\n",
    "    reads_df = annotate.annotate_with_cm_ranges(reads_df) \n",
    "    reads_df = annotate.annotate_with_crossover_detection_prob(\n",
    "        reads_df,\n",
    "        annotate.get_all_hets(sample_id)\n",
    "    )\n",
    "\n",
    "    t2t_true_reads_dfs[sample_id] = reads_df   "
   ]
  },
  {
   "cell_type": "code",
   "execution_count": 44,
   "id": "f2629a1d-ca9a-4239-b4e1-9ad6d0490fc9",
   "metadata": {},
   "outputs": [
    {
     "name": "stdout",
     "output_type": "stream",
     "text": [
      "PD50489e\n",
      "CPU times: user 296 ms, sys: 33.2 ms, total: 329 ms\n",
      "Wall time: 426 ms\n"
     ]
    }
   ],
   "source": [
    "%%time\n",
    "\n",
    "denovo_true_reads_dfs = {}\n",
    "\n",
    "for sample_id in [focal_sample_id]:\n",
    "    print(sample_id)\n",
    "\n",
    "    F = denovo_load_files(sample_id)\n",
    "    reads_df = F[\"reads\"]\n",
    "    \n",
    "    reads_df[\"read_chrom\"] = reads_df[0].str.split(':').str[0].str.replace(\"_RagTag\", \"\")\n",
    "    reads_df[\"read_start_pos_0based\"] = reads_df[0].str.split(':').str[1].str.split('-').str[0].astype(int)\n",
    "    reads_df[\"read_end_pos_0based\"] = reads_df[0].str.split(':').str[1].str.split('-').str[1].astype(int)\n",
    "\n",
    "    reads_df = reads_df[(reads_df[4] == \"CO\")]\n",
    "\n",
    "    denovo_true_reads_dfs[sample_id] = reads_df   "
   ]
  },
  {
   "cell_type": "code",
   "execution_count": 45,
   "id": "9ce8b86f-e367-49b9-b008-ac424c5cce61",
   "metadata": {},
   "outputs": [
    {
     "data": {
      "text/html": [
       "<div>\n",
       "<style scoped>\n",
       "    .dataframe tbody tr th:only-of-type {\n",
       "        vertical-align: middle;\n",
       "    }\n",
       "\n",
       "    .dataframe tbody tr th {\n",
       "        vertical-align: top;\n",
       "    }\n",
       "\n",
       "    .dataframe thead th {\n",
       "        text-align: right;\n",
       "    }\n",
       "</style>\n",
       "<table border=\"1\" class=\"dataframe\">\n",
       "  <thead>\n",
       "    <tr style=\"text-align: right;\">\n",
       "      <th></th>\n",
       "      <th>0</th>\n",
       "      <th>1</th>\n",
       "      <th>2</th>\n",
       "      <th>3</th>\n",
       "      <th>4</th>\n",
       "      <th>5</th>\n",
       "      <th>6</th>\n",
       "      <th>7</th>\n",
       "      <th>8</th>\n",
       "      <th>9</th>\n",
       "      <th>10</th>\n",
       "      <th>11</th>\n",
       "      <th>12</th>\n",
       "      <th>read_chrom</th>\n",
       "      <th>read_start_pos_0based</th>\n",
       "      <th>read_end_pos_0based</th>\n",
       "    </tr>\n",
       "  </thead>\n",
       "  <tbody>\n",
       "    <tr>\n",
       "      <th>1763</th>\n",
       "      <td>chr2_RagTag:78723144-78727622</td>\n",
       "      <td>m64174e_220620_110709/27656998/ccs</td>\n",
       "      <td>78725747</td>\n",
       "      <td>PASS</td>\n",
       "      <td>CO</td>\n",
       "      <td>0'</td>\n",
       "      <td>2.9841510670730145</td>\n",
       "      <td>1443</td>\n",
       "      <td>-0000111</td>\n",
       "      <td>00000000</td>\n",
       "      <td>11111111</td>\n",
       "      <td>chr2_RagTag:78725747_G/T,chr2_RagTag:78725758_...</td>\n",
       "      <td>.</td>\n",
       "      <td>chr2</td>\n",
       "      <td>78723144</td>\n",
       "      <td>78727622</td>\n",
       "    </tr>\n",
       "    <tr>\n",
       "      <th>1865</th>\n",
       "      <td>chr2_RagTag:107928358-107936285</td>\n",
       "      <td>m64174e_220620_110709/28901817/ccs</td>\n",
       "      <td>107930501</td>\n",
       "      <td>PASS</td>\n",
       "      <td>CO</td>\n",
       "      <td>0'</td>\n",
       "      <td>2.9999999984964383</td>\n",
       "      <td>809</td>\n",
       "      <td>00000000111</td>\n",
       "      <td>00000000000</td>\n",
       "      <td>11111111111</td>\n",
       "      <td>chr2_RagTag:107930501_A/G,chr2_RagTag:10793060...</td>\n",
       "      <td>.</td>\n",
       "      <td>chr2</td>\n",
       "      <td>107928358</td>\n",
       "      <td>107936285</td>\n",
       "    </tr>\n",
       "    <tr>\n",
       "      <th>1898</th>\n",
       "      <td>chr2_RagTag:113476698-113485455</td>\n",
       "      <td>m64174e_220620_110709/178127291/ccs</td>\n",
       "      <td>113476798</td>\n",
       "      <td>PASS</td>\n",
       "      <td>CO</td>\n",
       "      <td>0'</td>\n",
       "      <td>4.999999997494064</td>\n",
       "      <td>2100</td>\n",
       "      <td>00000000000--11111</td>\n",
       "      <td>000000000000000000</td>\n",
       "      <td>111111111111111111</td>\n",
       "      <td>chr2_RagTag:113476798_G/C,chr2_RagTag:11347683...</td>\n",
       "      <td>.</td>\n",
       "      <td>chr2</td>\n",
       "      <td>113476698</td>\n",
       "      <td>113485455</td>\n",
       "    </tr>\n",
       "    <tr>\n",
       "      <th>1991</th>\n",
       "      <td>chr2_RagTag:130739077-130747199</td>\n",
       "      <td>m64174e_220620_110709/2425357/ccs</td>\n",
       "      <td>130732330</td>\n",
       "      <td>PASS</td>\n",
       "      <td>CO</td>\n",
       "      <td>0'</td>\n",
       "      <td>3.999999997995251</td>\n",
       "      <td>5020</td>\n",
       "      <td>1111--0000000</td>\n",
       "      <td>0000000000000</td>\n",
       "      <td>1111111111111</td>\n",
       "      <td>chr2_RagTag:130740895_T/A,chr2_RagTag:13074211...</td>\n",
       "      <td>.</td>\n",
       "      <td>chr2</td>\n",
       "      <td>130739077</td>\n",
       "      <td>130747199</td>\n",
       "    </tr>\n",
       "    <tr>\n",
       "      <th>1992</th>\n",
       "      <td>chr2_RagTag:130740065-130747199</td>\n",
       "      <td>m64174e_220620_110709/45877758/ccs</td>\n",
       "      <td>130732330</td>\n",
       "      <td>PASS</td>\n",
       "      <td>CO</td>\n",
       "      <td>0'</td>\n",
       "      <td>3.999999997995251</td>\n",
       "      <td>5020</td>\n",
       "      <td>1111--0000000</td>\n",
       "      <td>0000000000000</td>\n",
       "      <td>1111111111111</td>\n",
       "      <td>chr2_RagTag:130740895_T/A,chr2_RagTag:13074211...</td>\n",
       "      <td>.</td>\n",
       "      <td>chr2</td>\n",
       "      <td>130740065</td>\n",
       "      <td>130747199</td>\n",
       "    </tr>\n",
       "    <tr>\n",
       "      <th>1993</th>\n",
       "      <td>chr2_RagTag:130741639-130747169</td>\n",
       "      <td>m64174e_220620_110709/109641835/ccs</td>\n",
       "      <td>130732330</td>\n",
       "      <td>PASS</td>\n",
       "      <td>CO</td>\n",
       "      <td>0'</td>\n",
       "      <td>2.9999999984964383</td>\n",
       "      <td>3798</td>\n",
       "      <td>111--000000</td>\n",
       "      <td>00000000000</td>\n",
       "      <td>11111111111</td>\n",
       "      <td>chr2_RagTag:130742117_T/C,chr2_RagTag:13074572...</td>\n",
       "      <td>.</td>\n",
       "      <td>chr2</td>\n",
       "      <td>130741639</td>\n",
       "      <td>130747169</td>\n",
       "    </tr>\n",
       "    <tr>\n",
       "      <th>2247</th>\n",
       "      <td>chr2_RagTag:175981895-175993330</td>\n",
       "      <td>m64174e_220620_110709/130024432/ccs</td>\n",
       "      <td>175974986</td>\n",
       "      <td>PASS</td>\n",
       "      <td>CO</td>\n",
       "      <td>0'</td>\n",
       "      <td>8.67856812346725</td>\n",
       "      <td>4002</td>\n",
       "      <td>11111111100000000000000000</td>\n",
       "      <td>00000000000000000000000000</td>\n",
       "      <td>11111111111111111111111111</td>\n",
       "      <td>chr2_RagTag:175982016_G/A,chr2_RagTag:17598307...</td>\n",
       "      <td>.</td>\n",
       "      <td>chr2</td>\n",
       "      <td>175981895</td>\n",
       "      <td>175993330</td>\n",
       "    </tr>\n",
       "  </tbody>\n",
       "</table>\n",
       "</div>"
      ],
      "text/plain": [
       "                                    0                                    1  \\\n",
       "1763    chr2_RagTag:78723144-78727622   m64174e_220620_110709/27656998/ccs   \n",
       "1865  chr2_RagTag:107928358-107936285   m64174e_220620_110709/28901817/ccs   \n",
       "1898  chr2_RagTag:113476698-113485455  m64174e_220620_110709/178127291/ccs   \n",
       "1991  chr2_RagTag:130739077-130747199    m64174e_220620_110709/2425357/ccs   \n",
       "1992  chr2_RagTag:130740065-130747199   m64174e_220620_110709/45877758/ccs   \n",
       "1993  chr2_RagTag:130741639-130747169  m64174e_220620_110709/109641835/ccs   \n",
       "2247  chr2_RagTag:175981895-175993330  m64174e_220620_110709/130024432/ccs   \n",
       "\n",
       "              2     3   4   5                   6     7  \\\n",
       "1763   78725747  PASS  CO  0'  2.9841510670730145  1443   \n",
       "1865  107930501  PASS  CO  0'  2.9999999984964383   809   \n",
       "1898  113476798  PASS  CO  0'   4.999999997494064  2100   \n",
       "1991  130732330  PASS  CO  0'   3.999999997995251  5020   \n",
       "1992  130732330  PASS  CO  0'   3.999999997995251  5020   \n",
       "1993  130732330  PASS  CO  0'  2.9999999984964383  3798   \n",
       "2247  175974986  PASS  CO  0'    8.67856812346725  4002   \n",
       "\n",
       "                               8                           9  \\\n",
       "1763                    -0000111                    00000000   \n",
       "1865                 00000000111                 00000000000   \n",
       "1898          00000000000--11111          000000000000000000   \n",
       "1991               1111--0000000               0000000000000   \n",
       "1992               1111--0000000               0000000000000   \n",
       "1993                 111--000000                 00000000000   \n",
       "2247  11111111100000000000000000  00000000000000000000000000   \n",
       "\n",
       "                              10  \\\n",
       "1763                    11111111   \n",
       "1865                 11111111111   \n",
       "1898          111111111111111111   \n",
       "1991               1111111111111   \n",
       "1992               1111111111111   \n",
       "1993                 11111111111   \n",
       "2247  11111111111111111111111111   \n",
       "\n",
       "                                                     11 12 read_chrom  \\\n",
       "1763  chr2_RagTag:78725747_G/T,chr2_RagTag:78725758_...  .       chr2   \n",
       "1865  chr2_RagTag:107930501_A/G,chr2_RagTag:10793060...  .       chr2   \n",
       "1898  chr2_RagTag:113476798_G/C,chr2_RagTag:11347683...  .       chr2   \n",
       "1991  chr2_RagTag:130740895_T/A,chr2_RagTag:13074211...  .       chr2   \n",
       "1992  chr2_RagTag:130740895_T/A,chr2_RagTag:13074211...  .       chr2   \n",
       "1993  chr2_RagTag:130742117_T/C,chr2_RagTag:13074572...  .       chr2   \n",
       "2247  chr2_RagTag:175982016_G/A,chr2_RagTag:17598307...  .       chr2   \n",
       "\n",
       "      read_start_pos_0based  read_end_pos_0based  \n",
       "1763               78723144             78727622  \n",
       "1865              107928358            107936285  \n",
       "1898              113476698            113485455  \n",
       "1991              130739077            130747199  \n",
       "1992              130740065            130747199  \n",
       "1993              130741639            130747169  \n",
       "2247              175981895            175993330  "
      ]
     },
     "execution_count": 45,
     "metadata": {},
     "output_type": "execute_result"
    }
   ],
   "source": [
    "denovo_true_reads_dfs[focal_sample_id].query(\"read_chrom == 'chr2'\")"
   ]
  },
  {
   "cell_type": "code",
   "execution_count": 46,
   "id": "8cf89d5f-1ae8-409d-bb83-5113caba0ff8",
   "metadata": {},
   "outputs": [
    {
     "data": {
      "text/html": [
       "<div><style>\n",
       ".dataframe > thead > tr,\n",
       ".dataframe > tbody > tr {\n",
       "  text-align: right;\n",
       "  white-space: pre-wrap;\n",
       "}\n",
       "</style>\n",
       "<small>shape: (1,)</small><table border=\"1\" class=\"dataframe\"><thead><tr><th>8</th></tr><tr><td>str</td></tr></thead><tbody><tr><td>&quot;000000100100000000000000000000000000010&quot;</td></tr></tbody></table></div>"
      ],
      "text/plain": [
       "shape: (1,)\n",
       "Series: '8' [str]\n",
       "[\n",
       "\t\"000000100100000000000000000000000000010\"\n",
       "]"
      ]
     },
     "metadata": {},
     "output_type": "display_data"
    }
   ],
   "source": [
    "with pl.Config(fmt_str_lengths=50, set_tbl_rows=-1):\n",
    "    display(\n",
    "        pl.from_pandas(t2t_true_reads_dfs[focal_sample_id]).filter(pl.col(\"1\") == \"m64094e_220717_002414/151453760/ccs\")[0][\"8\"]\n",
    "    )"
   ]
  },
  {
   "cell_type": "code",
   "execution_count": null,
   "id": "8b907c2d-4771-4ec3-b906-91b0642b7179",
   "metadata": {},
   "outputs": [],
   "source": []
  },
  {
   "cell_type": "code",
   "execution_count": null,
   "id": "c6120be0-412a-4d14-9792-c57a7c43a986",
   "metadata": {},
   "outputs": [],
   "source": []
  },
  {
   "cell_type": "code",
   "execution_count": 47,
   "id": "356d6d40-2288-4aa3-976c-8f95c68b26e1",
   "metadata": {},
   "outputs": [
    {
     "data": {
      "text/html": [
       "<div>\n",
       "<style scoped>\n",
       "    .dataframe tbody tr th:only-of-type {\n",
       "        vertical-align: middle;\n",
       "    }\n",
       "\n",
       "    .dataframe tbody tr th {\n",
       "        vertical-align: top;\n",
       "    }\n",
       "\n",
       "    .dataframe thead th {\n",
       "        text-align: right;\n",
       "    }\n",
       "</style>\n",
       "<table border=\"1\" class=\"dataframe\">\n",
       "  <thead>\n",
       "    <tr style=\"text-align: right;\">\n",
       "      <th></th>\n",
       "      <th>1</th>\n",
       "    </tr>\n",
       "  </thead>\n",
       "  <tbody>\n",
       "    <tr>\n",
       "      <th>17</th>\n",
       "      <td>m64094e_220715_151527/102828298/ccs</td>\n",
       "    </tr>\n",
       "    <tr>\n",
       "      <th>18</th>\n",
       "      <td>m64174e_220620_110709/132777640/ccs</td>\n",
       "    </tr>\n",
       "    <tr>\n",
       "      <th>19</th>\n",
       "      <td>m64174e_220620_110709/85134000/ccs</td>\n",
       "    </tr>\n",
       "    <tr>\n",
       "      <th>20</th>\n",
       "      <td>m64174e_220620_110709/28901817/ccs</td>\n",
       "    </tr>\n",
       "    <tr>\n",
       "      <th>21</th>\n",
       "      <td>m64174e_220620_110709/130024432/ccs</td>\n",
       "    </tr>\n",
       "    <tr>\n",
       "      <th>22</th>\n",
       "      <td>m64174e_220620_110709/81462762/ccs</td>\n",
       "    </tr>\n",
       "    <tr>\n",
       "      <th>23</th>\n",
       "      <td>m64094e_220717_002414/151453760/ccs</td>\n",
       "    </tr>\n",
       "    <tr>\n",
       "      <th>24</th>\n",
       "      <td>m64094e_220717_002414/52888901/ccs</td>\n",
       "    </tr>\n",
       "  </tbody>\n",
       "</table>\n",
       "</div>"
      ],
      "text/plain": [
       "                                      1\n",
       "17  m64094e_220715_151527/102828298/ccs\n",
       "18  m64174e_220620_110709/132777640/ccs\n",
       "19   m64174e_220620_110709/85134000/ccs\n",
       "20   m64174e_220620_110709/28901817/ccs\n",
       "21  m64174e_220620_110709/130024432/ccs\n",
       "22   m64174e_220620_110709/81462762/ccs\n",
       "23  m64094e_220717_002414/151453760/ccs\n",
       "24   m64094e_220717_002414/52888901/ccs"
      ]
     },
     "execution_count": 47,
     "metadata": {},
     "output_type": "execute_result"
    }
   ],
   "source": [
    "t2t_true_reads_dfs[focal_sample_id].query(\"read_chrom == 'chr2'\")[[1]]"
   ]
  },
  {
   "cell_type": "markdown",
   "id": "5ab8de99-8c5c-4221-9b8e-33a88bee514c",
   "metadata": {},
   "source": [
    "# Are transition SNPs near the ends of reads?"
   ]
  },
  {
   "cell_type": "code",
   "execution_count": 48,
   "id": "63f9387d-4fd7-43e1-9f0e-45aae6ea2d08",
   "metadata": {},
   "outputs": [],
   "source": [
    "cand_snps_df = (high_conf_snps_df\n",
    "    .join(candidates_df, on=\"read_name\")\n",
    "    .filter(\"is_high_quality_snp\")\n",
    "    .sort(by=[\"read_name\", \"start\"])\n",
    ")\n",
    "\n",
    "nzi = np.nonzero((np.diff(cand_snps_df[\"fits1_more\"])!=0) & (cand_snps_df[\"read_name\"][:-1] == cand_snps_df[\"read_name\"][1:]).to_numpy())[0]"
   ]
  },
  {
   "cell_type": "code",
   "execution_count": 49,
   "id": "d3a62436-3a72-48c0-908a-f7934a03a98f",
   "metadata": {},
   "outputs": [
    {
     "data": {
      "image/png": "[encoded data removed]",
      "text/plain": [
       "<Figure size 640x480 with 1 Axes>"
      ]
     },
     "metadata": {},
     "output_type": "display_data"
    }
   ],
   "source": [
    "plt.hist(\n",
    "    [\n",
    "        (cand_snps_df[nzi]\n",
    "            .select((pl.col(\"start\") / pl.col(\"read_length1\")).alias(\"relative_start\"))\n",
    "        )[\"relative_start\"],\n",
    "        (high_conf_snps_df\n",
    "            .filter(\"is_high_quality_snp\")\n",
    "            .select((pl.col(\"start\") / pl.col(\"read_length1\")).alias(\"relative_start\"))\n",
    "        )[\"relative_start\"],\n",
    "    ],\n",
    "    bins=np.linspace(0,1,21),\n",
    "    density=True,\n",
    ");\n",
    "\n",
    "plt.legend([\"SNP transition (first of two)\", \"All high quality SNPs\"]);"
   ]
  },
  {
   "cell_type": "code",
   "execution_count": 50,
   "id": "c6ff6455-ffc9-4066-981b-b7245682b956",
   "metadata": {},
   "outputs": [
    {
     "data": {
      "image/png": "[encoded data removed]",
      "text/plain": [
       "<Figure size 640x480 with 1 Axes>"
      ]
     },
     "metadata": {},
     "output_type": "display_data"
    }
   ],
   "source": [
    "plt.hist(\n",
    "    [\n",
    "        (cand_snps_df[nzi+1]\n",
    "            .select((pl.col(\"end\") / pl.col(\"read_length1\")).alias(\"relative_end\"))\n",
    "        )[\"relative_end\"],\n",
    "        (high_conf_snps_df\n",
    "            .filter(\"is_high_quality_snp\")\n",
    "            .select((pl.col(\"end\") / pl.col(\"read_length1\")).alias(\"relative_end\"))\n",
    "        )[\"relative_end\"],\n",
    "    ],\n",
    "    bins=np.linspace(0,1,21),\n",
    "    density=True,\n",
    ");\n",
    "\n",
    "plt.legend([\"SNP transition (second of two)\", \"All high quality SNPs\"]);"
   ]
  },
  {
   "cell_type": "code",
   "execution_count": 51,
   "id": "af5e8cde-ed9b-4a45-beb5-fbe7fe337fbc",
   "metadata": {},
   "outputs": [
    {
     "data": {
      "image/png": "[encoded data removed]",
      "text/plain": [
       "<Figure size 640x480 with 1 Axes>"
      ]
     },
     "metadata": {},
     "output_type": "display_data"
    }
   ],
   "source": [
    "plt.hist(\n",
    "    [\n",
    "        cand_snps_df[nzi][\"start\"],\n",
    "        high_conf_snps_df.filter(\"is_high_quality_snp\")[\"start\"],\n",
    "    ],\n",
    "    bins=np.arange(0, 10000, 100), #np.linspace(0,1,21),\n",
    "    density=True,\n",
    ");\n",
    "\n",
    "plt.legend([\"SNP transition (first of two)\", \"All high quality SNPs\"]);"
   ]
  },
  {
   "cell_type": "code",
   "execution_count": null,
   "id": "a967af38-87a4-4ad7-9f58-5ad20b6c240a",
   "metadata": {},
   "outputs": [],
   "source": []
  },
  {
   "cell_type": "code",
   "execution_count": null,
   "id": "c7e6fae0-7c9c-4e4b-ac41-4c1c42b1e2ad",
   "metadata": {},
   "outputs": [],
   "source": []
  },
  {
   "cell_type": "code",
   "execution_count": null,
   "id": "b27069a9-5b05-428c-9252-df68c5500097",
   "metadata": {},
   "outputs": [],
   "source": []
  },
  {
   "cell_type": "markdown",
   "id": "a0fe0c13-7680-413d-8023-e8862177be3a",
   "metadata": {},
   "source": [
    "# Check phasing blocks?"
   ]
  },
  {
   "cell_type": "code",
   "execution_count": 52,
   "id": "c5a7607a-e2c4-4744-a1d4-cecef524a08e",
   "metadata": {},
   "outputs": [],
   "source": [
    "backbam1 = pysam.AlignmentFile(\n",
    "    \"/lustre/scratch126/casm/team154pc/sl17/03.sperm/02.results/01.read_alignment/01.ccs/04.hifiasm/02.hifiasm_0.19.5-r592/02.chromosome_length_scaffolds/PD50489e/PD50489e.hap1.minimap2_back_contigs.sorted.bam\",\n",
    ")\n",
    "\n",
    "backbam2 = pysam.AlignmentFile(\n",
    "    \"/lustre/scratch126/casm/team154pc/sl17/03.sperm/02.results/01.read_alignment/01.ccs/04.hifiasm/02.hifiasm_0.19.5-r592/02.chromosome_length_scaffolds/PD50489e/PD50489e.hap2.minimap2_back_contigs.sorted.bam\",\n",
    ")"
   ]
  },
  {
   "cell_type": "code",
   "execution_count": 53,
   "id": "da2f0533-9808-4ae2-8cfb-b59518486bf9",
   "metadata": {},
   "outputs": [
    {
     "name": "stderr",
     "output_type": "stream",
     "text": [
      "14286it [00:13, 1097.85it/s]\n",
      "20344it [00:13, 1483.13it/s]\n"
     ]
    }
   ],
   "source": [
    "contigs = set()\n",
    "contig_to_cigar_stats1 = {}\n",
    "contig_to_cigar_stats2 = {}\n",
    "\n",
    "for aln1 in tqdm.tqdm(backbam1.fetch()):\n",
    "    if not aln1.is_secondary or aln1.is_supplementary:\n",
    "        contigs.add(aln1.query_name)\n",
    "        contig_to_cigar_stats1[aln1.query_name] = aln1.query_alignment_length - aln1.get_cigar_stats()[0][0]  \n",
    "        \n",
    "for aln2 in tqdm.tqdm(backbam2.fetch()):\n",
    "    if not aln2.is_secondary or aln2.is_supplementary:\n",
    "        contigs.add(aln2.query_name)\n",
    "        contig_to_cigar_stats2[aln2.query_name] = aln2.query_alignment_length - aln2.get_cigar_stats()[0][0] \n"
   ]
  },
  {
   "cell_type": "code",
   "execution_count": 54,
   "id": "ecceefbc-7e61-4b93-8dd4-d9e5af44e0fd",
   "metadata": {},
   "outputs": [
    {
     "data": {
      "image/png": "[encoded data removed]",
      "text/plain": [
       "<Figure size 640x480 with 1 Axes>"
      ]
     },
     "metadata": {},
     "output_type": "display_data"
    }
   ],
   "source": [
    "plt.scatter(\n",
    "    [contig_to_cigar_stats1.get(contig, -1) for contig in contigs],\n",
    "    [contig_to_cigar_stats2.get(contig, -1) for contig in contigs],\n",
    "    s=5,\n",
    ");\n",
    "plt.xlabel(\"# of non-aligned bps, to hap1\");\n",
    "plt.ylabel(\"# of non-aligned bps, to hap2\");\n",
    "plt.xlim(-100,10000);\n",
    "plt.ylim(-100,10000);"
   ]
  },
  {
   "cell_type": "code",
   "execution_count": 55,
   "id": "fd8d9f0d-82ec-4d14-8638-75698ff27e55",
   "metadata": {},
   "outputs": [
    {
     "data": {
      "image/png": "[encoded data removed]",
      "text/plain": [
       "<Figure size 640x480 with 1 Axes>"
      ]
     },
     "metadata": {},
     "output_type": "display_data"
    }
   ],
   "source": [
    "plt.hist(\n",
    "    [contig_to_cigar_stats1.get(contig, -1)-contig_to_cigar_stats2.get(contig, -1) for contig in contigs],\n",
    "    bins=np.linspace(-1e4,1e4,100),\n",
    ");"
   ]
  },
  {
   "cell_type": "code",
   "execution_count": 56,
   "id": "3a965bd6-b494-4c81-a44f-c2f2b51df033",
   "metadata": {},
   "outputs": [],
   "source": [
    "xxx = [(1-contig_to_cigar_stats1.get(contig, -1), 1-contig_to_cigar_stats2.get(contig, -1)) for contig in contigs]\n"
   ]
  },
  {
   "cell_type": "code",
   "execution_count": 57,
   "id": "193ad973-7bc4-4abc-9766-9c38b3e5d0cb",
   "metadata": {},
   "outputs": [
    {
     "name": "stdout",
     "output_type": "stream",
     "text": [
      "851\n",
      "70\n",
      "1\n"
     ]
    }
   ],
   "source": [
    "print(len(xxx))\n",
    "print(len([x for x in xxx if x[0] == 0 or x[1] == 0]))\n",
    "print(len([x for x in xxx if x[0] == 0 and x[1] == 0]))"
   ]
  },
  {
   "cell_type": "code",
   "execution_count": 58,
   "id": "5985479b-4137-4be3-b018-6251a03e641c",
   "metadata": {},
   "outputs": [
    {
     "data": {
      "text/plain": [
       "0.10928319623971798"
      ]
     },
     "execution_count": 58,
     "metadata": {},
     "output_type": "execute_result"
    }
   ],
   "source": [
    "(93)/851"
   ]
  },
  {
   "cell_type": "markdown",
   "id": "e6c8a181-6eb4-45ed-9cf4-4445c6d69402",
   "metadata": {},
   "source": [
    "# Do reads overlap gaps in scaffolding?"
   ]
  },
  {
   "cell_type": "code",
   "execution_count": 59,
   "id": "f0ba5364-377f-4d74-a704-a8e73ff25110",
   "metadata": {},
   "outputs": [],
   "source": [
    "denovo_hap1_fasta_file = Path(\"/lustre/scratch126/casm/team154pc/sl17/03.sperm/01.data/05.ragtag/03.haplotype_specific_scaffolds\") \\\n",
    "            / f\"{focal_sample_id}\" / \"haplotype_1\" / \"ragtag.scaffold.fasta\"\n",
    "denovo_hap2_fasta_file = Path(\"/lustre/scratch126/casm/team154pc/sl17/03.sperm/01.data/05.ragtag/03.haplotype_specific_scaffolds\") \\\n",
    "            / f\"{focal_sample_id}\" / \"haplotype_2\" / \"ragtag.scaffold.fasta\"\n",
    "\n",
    "denovo_hap1_alignment_bam_file = Path(\"/lustre/scratch126/casm/team154pc/sl17/03.sperm/02.results/01.read_alignment/01.ccs/04.hifiasm/02.hifiasm_0.19.5-r592/02.chromosome_length_scaffolds/\") \\\n",
    "            / f\"{focal_sample_id}\" / f\"{focal_sample_id}.hap1.minimap2.sorted.primary_alignments.bam\"\n",
    "denovo_hap2_alignment_bam_file = Path(\"/lustre/scratch126/casm/team154pc/sl17/03.sperm/02.results/01.read_alignment/01.ccs/04.hifiasm/02.hifiasm_0.19.5-r592/02.chromosome_length_scaffolds/\") \\\n",
    "            / f\"{focal_sample_id}\" / f\"{focal_sample_id}.hap2.minimap2.sorted.primary_alignments.bam\"\n",
    "\n",
    "denovo_hap1_bam = pysam.AlignmentFile(denovo_hap1_alignment_bam_file)\n",
    "denovo_hap2_bam = pysam.AlignmentFile(denovo_hap2_alignment_bam_file)\n"
   ]
  },
  {
   "cell_type": "code",
   "execution_count": 60,
   "id": "95df626c-8886-413d-b3de-cd4297cb8532",
   "metadata": {},
   "outputs": [],
   "source": [
    "focal_sample_id = \"PD50489e\"\n",
    "t2t_chrom = \"chr2\"\n",
    "denovo_chrom = t2t_chrom + \"_RagTag\"\n",
    "\n",
    "from Bio import SeqIO\n",
    "for record1 in SeqIO.parse(denovo_hap1_fasta_file, format=\"fasta\"):\n",
    "    if denovo_chrom in record1.id:\n",
    "        break\n",
    "        \n",
    "for record2 in SeqIO.parse(denovo_hap2_fasta_file, format=\"fasta\"):\n",
    "    if denovo_chrom in record2.id:\n",
    "        break        "
   ]
  },
  {
   "cell_type": "code",
   "execution_count": 61,
   "id": "f81b8451-8b7c-4f92-8c6c-440b24ce55d4",
   "metadata": {},
   "outputs": [],
   "source": [
    "test_read = \"m64094e_220715_151527/83298762/ccs\""
   ]
  },
  {
   "cell_type": "code",
   "execution_count": 62,
   "id": "304c1ccf-51b4-45bf-bef1-8a88f78b9048",
   "metadata": {},
   "outputs": [
    {
     "name": "stdout",
     "output_type": "stream",
     "text": [
      "found it\n",
      "found it\n",
      "CPU times: user 12.4 s, sys: 640 ms, total: 13.1 s\n",
      "Wall time: 13.1 s\n"
     ]
    }
   ],
   "source": [
    "%%time\n",
    "for denovo_hap1_read_aln in denovo_hap1_bam.fetch(denovo_chrom, multiple_iterators=True):\n",
    "    if denovo_hap1_read_aln.query_name == test_read:\n",
    "        print(\"found it\")\n",
    "        break\n",
    "\n",
    "for denovo_hap2_read_aln in denovo_hap2_bam.fetch(denovo_chrom, multiple_iterators=True):\n",
    "    if denovo_hap2_read_aln.query_name == test_read:\n",
    "        print(\"found it\")\n",
    "        break\n",
    "        "
   ]
  },
  {
   "cell_type": "code",
   "execution_count": 63,
   "id": "a0e3c543-965c-4c26-937e-5645c8817b65",
   "metadata": {},
   "outputs": [
    {
     "data": {
      "text/plain": [
       "False"
      ]
     },
     "execution_count": 63,
     "metadata": {},
     "output_type": "execute_result"
    }
   ],
   "source": [
    "'N' in record1.seq[denovo_hap1_read_aln.reference_start:denovo_hap1_read_aln.reference_end]"
   ]
  },
  {
   "cell_type": "code",
   "execution_count": 64,
   "id": "533a7769-94cb-46fa-95c9-b140305bb10f",
   "metadata": {},
   "outputs": [
    {
     "data": {
      "text/plain": [
       "10468"
      ]
     },
     "execution_count": 64,
     "metadata": {},
     "output_type": "execute_result"
    }
   ],
   "source": [
    "denovo_hap1_read_aln.reference_length"
   ]
  },
  {
   "cell_type": "code",
   "execution_count": 65,
   "id": "4b14de24-1119-4963-9c76-70fb14078d0f",
   "metadata": {},
   "outputs": [
    {
     "data": {
      "text/plain": [
       "-1"
      ]
     },
     "execution_count": 65,
     "metadata": {},
     "output_type": "execute_result"
    }
   ],
   "source": [
    "record1.seq[denovo_hap1_read_aln.reference_start:denovo_hap1_read_aln.reference_end].find('N')"
   ]
  },
  {
   "cell_type": "code",
   "execution_count": 66,
   "id": "463e11ef-6324-4123-8a55-3267c1cd3ca3",
   "metadata": {},
   "outputs": [
    {
     "data": {
      "text/plain": [
       "False"
      ]
     },
     "execution_count": 66,
     "metadata": {},
     "output_type": "execute_result"
    }
   ],
   "source": [
    "'N' in record2.seq[denovo_hap2_read_aln.reference_start:denovo_hap2_read_aln.reference_end]"
   ]
  },
  {
   "cell_type": "code",
   "execution_count": null,
   "id": "eb7eeabf-236c-4ebb-a1b4-80ee1546aef2",
   "metadata": {},
   "outputs": [],
   "source": []
  },
  {
   "cell_type": "code",
   "execution_count": null,
   "id": "e3a9e2ad-dbd3-4506-97d2-2c55bda97b92",
   "metadata": {},
   "outputs": [],
   "source": []
  },
  {
   "cell_type": "code",
   "execution_count": 67,
   "id": "eace2c4b-dd01-4845-b748-8bc550e6749f",
   "metadata": {},
   "outputs": [
    {
     "name": "stdout",
     "output_type": "stream",
     "text": [
      "found something m64094e_220717_002414/102762061/ccs 18356 21085\n"
     ]
    }
   ],
   "source": [
    "for denovo_hap1_read_aln in denovo_hap1_bam.fetch(denovo_chrom, multiple_iterators=True):\n",
    "    ref = record1.seq[denovo_hap1_read_aln.reference_start:denovo_hap1_read_aln.reference_end]\n",
    "    if 'N' in ref:\n",
    "        print(\"found something\", denovo_hap1_read_aln.query_name, ref.find('N'), len(ref))\n",
    "        break"
   ]
  },
  {
   "cell_type": "code",
   "execution_count": null,
   "id": "32c32ad9-c652-4e56-8e11-a31371d58d4e",
   "metadata": {},
   "outputs": [],
   "source": []
  },
  {
   "cell_type": "markdown",
   "id": "652a660b-c921-41bc-bf98-459fe2225794",
   "metadata": {},
   "source": [
    "# Classify SNPs - test code"
   ]
  },
  {
   "cell_type": "code",
   "execution_count": 68,
   "id": "91ff7d73-6c52-4aff-bfaf-c3a6696da4fe",
   "metadata": {},
   "outputs": [
    {
     "name": "stderr",
     "output_type": "stream",
     "text": [
      "[Parallel(n_jobs=-1)]: Using backend LokyBackend with 4 concurrent workers.\n",
      "[Parallel(n_jobs=-1)]: Done   5 tasks      | elapsed:   12.7s\n",
      "[Parallel(n_jobs=-1)]: Done  10 tasks      | elapsed:   22.2s\n",
      "[Parallel(n_jobs=-1)]: Done  17 tasks      | elapsed:   31.9s\n",
      "[Parallel(n_jobs=-1)]: Done  24 tasks      | elapsed:   43.3s\n",
      "[Parallel(n_jobs=-1)]: Done  33 tasks      | elapsed:   57.2s\n",
      "[Parallel(n_jobs=-1)]: Done  42 tasks      | elapsed:  1.1min\n",
      "[Parallel(n_jobs=-1)]: Done  53 tasks      | elapsed:  1.4min\n",
      "[Parallel(n_jobs=-1)]: Done  64 tasks      | elapsed:  1.6min\n",
      "[Parallel(n_jobs=-1)]: Done  77 tasks      | elapsed:  1.8min\n",
      "[Parallel(n_jobs=-1)]: Done  90 tasks      | elapsed:  2.0min\n",
      "[Parallel(n_jobs=-1)]: Done 105 tasks      | elapsed:  2.3min\n",
      "[Parallel(n_jobs=-1)]: Done 120 tasks      | elapsed:  2.5min\n",
      "[Parallel(n_jobs=-1)]: Done 137 tasks      | elapsed:  2.7min\n",
      "[Parallel(n_jobs=-1)]: Done 154 tasks      | elapsed:  2.8min\n",
      "[Parallel(n_jobs=-1)]: Done 173 tasks      | elapsed:  2.9min\n"
     ]
    },
    {
     "name": "stdout",
     "output_type": "stream",
     "text": [
      "CPU times: user 707 ms, sys: 1.06 s, total: 1.77 s\n",
      "Wall time: 3min 3s\n"
     ]
    },
    {
     "name": "stderr",
     "output_type": "stream",
     "text": [
      "[Parallel(n_jobs=-1)]: Done 198 out of 198 | elapsed:  3.1min finished\n"
     ]
    }
   ],
   "source": [
    "%%time\n",
    "sample_ids = [\n",
    "    \"PD50477f\",\n",
    "    # \"PD50508bf\", -- ignore; merged two sampling dates just for phasing, but should be analyzed separately\n",
    "    \"PD50519d\",\n",
    "    # \"PD47269d\", -- don't use, not there\n",
    "    \"PD50508f\",\n",
    "    # \"PD50511e\", -- don't use, likely mixture\n",
    "    \"PD50523b\",\n",
    "    # \"PD48473b\", -- don't use, not there\n",
    "    \"PD50521b\",\n",
    "    \"PD50508b\",\n",
    "    # \"PD50521be\", -- ignore; merged two sampling dates just for phasing, but should be analyzed separately\n",
    "    \"PD46180c\",\n",
    "    # \"PD50502f\", -- don't use, likely mixture\n",
    "    \"PD50521e\",\n",
    "    # \"PD50511e_SS\",  --- don't use\n",
    "    \"PD50489e\",\n",
    "]\n",
    "\n",
    "\n",
    "all_res = []\n",
    "\n",
    "def dome(focal_sample_id, denovo_chrom):\n",
    "    candidates_df = pl.read_parquet(\n",
    "        Path(\"/lustre/scratch126/casm/team154pc/sl17/03.sperm/02.results/01.read_alignment/01.ccs/04.hifiasm/02.hifiasm_0.19.5-r592/02.chromosome_length_scaffolds/\") \\\n",
    "            / f\"{focal_sample_id}\" / \"reads\" / f\"{denovo_chrom}.certainty_0.95.candidate_reads.parquet\"\n",
    "    )\n",
    "\n",
    "    snps_df = pl.read_parquet(\n",
    "        Path(\"/lustre/scratch126/casm/team154pc/sl17/03.sperm/02.results/01.read_alignment/01.ccs/04.hifiasm/02.hifiasm_0.19.5-r592/02.chromosome_length_scaffolds/\") \\\n",
    "            / f\"{focal_sample_id}\" / \"reads\" / f\"{denovo_chrom}.certainty_0.95.snps.parquet\"\n",
    "    )\n",
    "    \n",
    "    res_df = diagnostics.classify_all_reads(\n",
    "        snps_df,\n",
    "        candidates_df,\n",
    "    )\n",
    "    \n",
    "    res_df = res_df.with_columns(pl.lit(denovo_chrom).alias(\"chrom\"), pl.lit(focal_sample_id).alias(\"sample_id\"))\n",
    "    return res_df\n",
    "    \n",
    "all_res = joblib.Parallel(n_jobs=-1, verbose=10)(\n",
    "    joblib.delayed(dome)(focal_sample_id, chrom + \"_RagTag\") \\\n",
    "        for chrom in aut_chrom_names \\\n",
    "        for focal_sample_id in sample_ids\n",
    ")\n",
    "        \n",
    "all_res_df = pl.concat(all_res)"
   ]
  },
  {
   "cell_type": "code",
   "execution_count": null,
   "id": "4d0b8bf4-19e9-457e-81a7-5268b534be70",
   "metadata": {},
   "outputs": [],
   "source": []
  },
  {
   "cell_type": "code",
   "execution_count": 69,
   "id": "b7e2cf53-17e8-4aa4-bd9e-b6fdf6295956",
   "metadata": {},
   "outputs": [
    {
     "data": {
      "text/html": [
       "<div><style>\n",
       ".dataframe > thead > tr,\n",
       ".dataframe > tbody > tr {\n",
       "  text-align: right;\n",
       "  white-space: pre-wrap;\n",
       "}\n",
       "</style>\n",
       "<small>shape: (4, 2)</small><table border=\"1\" class=\"dataframe\"><thead><tr><th>class</th><th>counts</th></tr><tr><td>str</td><td>u32</td></tr></thead><tbody><tr><td>&quot;ambiguous&quot;</td><td>4075</td></tr><tr><td>&quot;CNCO&quot;</td><td>565</td></tr><tr><td>&quot;GC&quot;</td><td>1650</td></tr><tr><td>&quot;CO&quot;</td><td>6945</td></tr></tbody></table></div>"
      ],
      "text/plain": [
       "shape: (4, 2)\n",
       "┌───────────┬────────┐\n",
       "│ class     ┆ counts │\n",
       "│ ---       ┆ ---    │\n",
       "│ str       ┆ u32    │\n",
       "╞═══════════╪════════╡\n",
       "│ ambiguous ┆ 4075   │\n",
       "│ CNCO      ┆ 565    │\n",
       "│ GC        ┆ 1650   │\n",
       "│ CO        ┆ 6945   │\n",
       "└───────────┴────────┘"
      ]
     },
     "execution_count": 69,
     "metadata": {},
     "output_type": "execute_result"
    }
   ],
   "source": [
    "all_res_df[\"class\"].value_counts()"
   ]
  },
  {
   "cell_type": "code",
   "execution_count": 70,
   "id": "46fe5a48-b5ab-4096-8cb4-1cebf0c73cf1",
   "metadata": {},
   "outputs": [
    {
     "data": {
      "text/html": [
       "<div><style>\n",
       ".dataframe > thead > tr,\n",
       ".dataframe > tbody > tr {\n",
       "  text-align: right;\n",
       "  white-space: pre-wrap;\n",
       "}\n",
       "</style>\n",
       "<small>shape: (4, 2)</small><table border=\"1\" class=\"dataframe\"><thead><tr><th>class</th><th>counts</th></tr><tr><td>str</td><td>u32</td></tr></thead><tbody><tr><td>&quot;CO&quot;</td><td>3183</td></tr><tr><td>&quot;GC&quot;</td><td>829</td></tr><tr><td>&quot;CNCO&quot;</td><td>261</td></tr><tr><td>&quot;ambiguous&quot;</td><td>1530</td></tr></tbody></table></div>"
      ],
      "text/plain": [
       "shape: (4, 2)\n",
       "┌───────────┬────────┐\n",
       "│ class     ┆ counts │\n",
       "│ ---       ┆ ---    │\n",
       "│ str       ┆ u32    │\n",
       "╞═══════════╪════════╡\n",
       "│ CO        ┆ 3183   │\n",
       "│ GC        ┆ 829    │\n",
       "│ CNCO      ┆ 261    │\n",
       "│ ambiguous ┆ 1530   │\n",
       "└───────────┴────────┘"
      ]
     },
     "execution_count": 70,
     "metadata": {},
     "output_type": "execute_result"
    }
   ],
   "source": [
    "all_res_df.filter(~pl.col(\"has_common_transition\"))[\"class\"].value_counts()"
   ]
  },
  {
   "cell_type": "code",
   "execution_count": 71,
   "id": "34d0ba66-8112-403a-aa68-68b5b838e671",
   "metadata": {},
   "outputs": [
    {
     "data": {
      "text/html": [
       "<div><style>\n",
       ".dataframe > thead > tr,\n",
       ".dataframe > tbody > tr {\n",
       "  text-align: right;\n",
       "  white-space: pre-wrap;\n",
       "}\n",
       "</style>\n",
       "<small>shape: (261, 6)</small><table border=\"1\" class=\"dataframe\"><thead><tr><th>read_name</th><th>n_transitions</th><th>class</th><th>has_common_transition</th><th>chrom</th><th>sample_id</th></tr><tr><td>str</td><td>i64</td><td>str</td><td>bool</td><td>str</td><td>str</td></tr></thead><tbody><tr><td>&quot;m64094e_220917_231317/13764395/ccs&quot;</td><td>5</td><td>&quot;CNCO&quot;</td><td>false</td><td>&quot;chr1_RagTag&quot;</td><td>&quot;PD50477f&quot;</td></tr><tr><td>&quot;m64230e_220906_003948/134744140/ccs&quot;</td><td>4</td><td>&quot;CNCO&quot;</td><td>false</td><td>&quot;chr1_RagTag&quot;</td><td>&quot;PD50477f&quot;</td></tr><tr><td>&quot;m64178e_220829_002441/6554636/ccs&quot;</td><td>7</td><td>&quot;CNCO&quot;</td><td>false</td><td>&quot;chr1_RagTag&quot;</td><td>&quot;PD50477f&quot;</td></tr><tr><td>&quot;m64222e_220804_013319/31917386/ccs&quot;</td><td>7</td><td>&quot;CNCO&quot;</td><td>false</td><td>&quot;chr1_RagTag&quot;</td><td>&quot;PD50519d&quot;</td></tr><tr><td>&quot;m64221e_220814_084225/89721435/ccs&quot;</td><td>7</td><td>&quot;CNCO&quot;</td><td>false</td><td>&quot;chr1_RagTag&quot;</td><td>&quot;PD50519d&quot;</td></tr><tr><td>&quot;m64221e_220811_133409/56033730/ccs&quot;</td><td>4</td><td>&quot;CNCO&quot;</td><td>false</td><td>&quot;chr1_RagTag&quot;</td><td>&quot;PD50519d&quot;</td></tr><tr><td>&quot;m64221e_220811_133409/5636632/ccs&quot;</td><td>3</td><td>&quot;CNCO&quot;</td><td>false</td><td>&quot;chr1_RagTag&quot;</td><td>&quot;PD50519d&quot;</td></tr><tr><td>&quot;m64222e_220804_013319/119603965/ccs&quot;</td><td>4</td><td>&quot;CNCO&quot;</td><td>false</td><td>&quot;chr1_RagTag&quot;</td><td>&quot;PD50519d&quot;</td></tr><tr><td>&quot;m64016e_220903_004635/42666207/ccs&quot;</td><td>3</td><td>&quot;CNCO&quot;</td><td>false</td><td>&quot;chr1_RagTag&quot;</td><td>&quot;PD50523b&quot;</td></tr><tr><td>&quot;m64016e_220903_004635/83036905/ccs&quot;</td><td>4</td><td>&quot;CNCO&quot;</td><td>false</td><td>&quot;chr1_RagTag&quot;</td><td>&quot;PD50523b&quot;</td></tr><tr><td>&quot;m64016e_220901_135237/91096005/ccs&quot;</td><td>4</td><td>&quot;CNCO&quot;</td><td>false</td><td>&quot;chr1_RagTag&quot;</td><td>&quot;PD50521b&quot;</td></tr><tr><td>&quot;m64229e_220912_125215/42665250/ccs&quot;</td><td>4</td><td>&quot;CNCO&quot;</td><td>false</td><td>&quot;chr1_RagTag&quot;</td><td>&quot;PD50521b&quot;</td></tr><tr><td>&quot;m64229e_220912_125215/88671015/ccs&quot;</td><td>8</td><td>&quot;CNCO&quot;</td><td>false</td><td>&quot;chr1_RagTag&quot;</td><td>&quot;PD50521b&quot;</td></tr><tr><td>&quot;m64229e_220909_150132/125174727/ccs&quot;</td><td>3</td><td>&quot;CNCO&quot;</td><td>false</td><td>&quot;chr1_RagTag&quot;</td><td>&quot;PD50521b&quot;</td></tr><tr><td>&quot;m64229e_220912_125215/88869561/ccs&quot;</td><td>4</td><td>&quot;CNCO&quot;</td><td>false</td><td>&quot;chr1_RagTag&quot;</td><td>&quot;PD50521b&quot;</td></tr><tr><td>&quot;m64229e_220909_150132/33360677/ccs&quot;</td><td>8</td><td>&quot;CNCO&quot;</td><td>false</td><td>&quot;chr1_RagTag&quot;</td><td>&quot;PD50521b&quot;</td></tr><tr><td>&quot;m64229e_220912_125215/139461465/ccs&quot;</td><td>4</td><td>&quot;CNCO&quot;</td><td>false</td><td>&quot;chr1_RagTag&quot;</td><td>&quot;PD50521b&quot;</td></tr><tr><td>&quot;m64016e_220901_135237/65274865/ccs&quot;</td><td>7</td><td>&quot;CNCO&quot;</td><td>false</td><td>&quot;chr1_RagTag&quot;</td><td>&quot;PD50521b&quot;</td></tr><tr><td>&quot;m64016e_220904_102424/111739639/ccs&quot;</td><td>11</td><td>&quot;CNCO&quot;</td><td>false</td><td>&quot;chr1_RagTag&quot;</td><td>&quot;PD46180c&quot;</td></tr><tr><td>&quot;m64222e_220805_105329/145688229/ccs&quot;</td><td>3</td><td>&quot;CNCO&quot;</td><td>false</td><td>&quot;chr1_RagTag&quot;</td><td>&quot;PD50521e&quot;</td></tr><tr><td>&quot;m64222e_220805_105329/98239860/ccs&quot;</td><td>4</td><td>&quot;CNCO&quot;</td><td>false</td><td>&quot;chr1_RagTag&quot;</td><td>&quot;PD50521e&quot;</td></tr><tr><td>&quot;m64221e_220812_230038/125241023/ccs&quot;</td><td>3</td><td>&quot;CNCO&quot;</td><td>false</td><td>&quot;chr1_RagTag&quot;</td><td>&quot;PD50521e&quot;</td></tr><tr><td>&quot;m64222e_220805_105329/90769601/ccs&quot;</td><td>3</td><td>&quot;CNCO&quot;</td><td>false</td><td>&quot;chr1_RagTag&quot;</td><td>&quot;PD50521e&quot;</td></tr><tr><td>&quot;m64178e_220829_002441/87425106/ccs&quot;</td><td>13</td><td>&quot;CNCO&quot;</td><td>false</td><td>&quot;chr2_RagTag&quot;</td><td>&quot;PD50477f&quot;</td></tr><tr><td>&quot;m64094e_220917_231317/47385200/ccs&quot;</td><td>3</td><td>&quot;CNCO&quot;</td><td>false</td><td>&quot;chr2_RagTag&quot;</td><td>&quot;PD50477f&quot;</td></tr><tr><td>&quot;m64230e_220906_003948/11534702/ccs&quot;</td><td>4</td><td>&quot;CNCO&quot;</td><td>false</td><td>&quot;chr2_RagTag&quot;</td><td>&quot;PD50477f&quot;</td></tr><tr><td>&quot;m64094e_220917_231317/93260587/ccs&quot;</td><td>6</td><td>&quot;CNCO&quot;</td><td>false</td><td>&quot;chr2_RagTag&quot;</td><td>&quot;PD50477f&quot;</td></tr><tr><td>&quot;m64221e_220814_084225/170131831/ccs&quot;</td><td>3</td><td>&quot;CNCO&quot;</td><td>false</td><td>&quot;chr2_RagTag&quot;</td><td>&quot;PD50519d&quot;</td></tr><tr><td>&quot;m64221e_220814_084225/178913403/ccs&quot;</td><td>4</td><td>&quot;CNCO&quot;</td><td>false</td><td>&quot;chr2_RagTag&quot;</td><td>&quot;PD50519d&quot;</td></tr><tr><td>&quot;m64222e_220804_013319/52363900/ccs&quot;</td><td>3</td><td>&quot;CNCO&quot;</td><td>false</td><td>&quot;chr2_RagTag&quot;</td><td>&quot;PD50519d&quot;</td></tr><tr><td>&quot;m64221e_220811_133409/137298817/ccs&quot;</td><td>3</td><td>&quot;CNCO&quot;</td><td>false</td><td>&quot;chr2_RagTag&quot;</td><td>&quot;PD50519d&quot;</td></tr><tr><td>&quot;m64222e_220804_013319/52101322/ccs&quot;</td><td>3</td><td>&quot;CNCO&quot;</td><td>false</td><td>&quot;chr2_RagTag&quot;</td><td>&quot;PD50519d&quot;</td></tr><tr><td>&quot;m64221e_220811_133409/122160675/ccs&quot;</td><td>5</td><td>&quot;CNCO&quot;</td><td>false</td><td>&quot;chr2_RagTag&quot;</td><td>&quot;PD50519d&quot;</td></tr><tr><td>&quot;m64222e_220804_013319/18613557/ccs&quot;</td><td>11</td><td>&quot;CNCO&quot;</td><td>false</td><td>&quot;chr2_RagTag&quot;</td><td>&quot;PD50519d&quot;</td></tr><tr><td>&quot;m64229e_220911_015559/59966437/ccs&quot;</td><td>4</td><td>&quot;CNCO&quot;</td><td>false</td><td>&quot;chr2_RagTag&quot;</td><td>&quot;PD50523b&quot;</td></tr><tr><td>&quot;m64229e_220911_015559/54657522/ccs&quot;</td><td>4</td><td>&quot;CNCO&quot;</td><td>false</td><td>&quot;chr2_RagTag&quot;</td><td>&quot;PD50523b&quot;</td></tr><tr><td>&quot;m64016e_220901_135237/169083528/ccs&quot;</td><td>3</td><td>&quot;CNCO&quot;</td><td>false</td><td>&quot;chr2_RagTag&quot;</td><td>&quot;PD50521b&quot;</td></tr><tr><td>&quot;m64229e_220912_125215/38993949/ccs&quot;</td><td>3</td><td>&quot;CNCO&quot;</td><td>false</td><td>&quot;chr2_RagTag&quot;</td><td>&quot;PD50521b&quot;</td></tr><tr><td>&quot;m64229e_220912_125215/141099061/ccs&quot;</td><td>6</td><td>&quot;CNCO&quot;</td><td>false</td><td>&quot;chr2_RagTag&quot;</td><td>&quot;PD50521b&quot;</td></tr><tr><td>&quot;m64016e_220901_135237/78318196/ccs&quot;</td><td>4</td><td>&quot;CNCO&quot;</td><td>false</td><td>&quot;chr2_RagTag&quot;</td><td>&quot;PD50521b&quot;</td></tr><tr><td>&quot;m64229e_220909_150132/158008100/ccs&quot;</td><td>4</td><td>&quot;CNCO&quot;</td><td>false</td><td>&quot;chr2_RagTag&quot;</td><td>&quot;PD50521b&quot;</td></tr><tr><td>&quot;m64229e_220912_125215/176096958/ccs&quot;</td><td>3</td><td>&quot;CNCO&quot;</td><td>false</td><td>&quot;chr2_RagTag&quot;</td><td>&quot;PD50521b&quot;</td></tr><tr><td>&quot;m64016e_220905_200242/55707953/ccs&quot;</td><td>3</td><td>&quot;CNCO&quot;</td><td>false</td><td>&quot;chr2_RagTag&quot;</td><td>&quot;PD50508b&quot;</td></tr><tr><td>&quot;m64094e_220916_121850/77332663/ccs&quot;</td><td>3</td><td>&quot;CNCO&quot;</td><td>false</td><td>&quot;chr2_RagTag&quot;</td><td>&quot;PD46180c&quot;</td></tr><tr><td>&quot;m64178e_220824_153720/121244365/ccs&quot;</td><td>6</td><td>&quot;CNCO&quot;</td><td>false</td><td>&quot;chr2_RagTag&quot;</td><td>&quot;PD46180c&quot;</td></tr><tr><td>&quot;m64094e_220916_121850/71239505/ccs&quot;</td><td>6</td><td>&quot;CNCO&quot;</td><td>false</td><td>&quot;chr2_RagTag&quot;</td><td>&quot;PD46180c&quot;</td></tr><tr><td>&quot;m64016e_220904_102424/128057825/ccs&quot;</td><td>7</td><td>&quot;CNCO&quot;</td><td>false</td><td>&quot;chr2_RagTag&quot;</td><td>&quot;PD46180c&quot;</td></tr><tr><td>&quot;m64016e_220904_102424/83888456/ccs&quot;</td><td>5</td><td>&quot;CNCO&quot;</td><td>false</td><td>&quot;chr2_RagTag&quot;</td><td>&quot;PD46180c&quot;</td></tr><tr><td>&quot;m64016e_220904_102424/95551706/ccs&quot;</td><td>5</td><td>&quot;CNCO&quot;</td><td>false</td><td>&quot;chr2_RagTag&quot;</td><td>&quot;PD46180c&quot;</td></tr><tr><td>&quot;m64222e_220805_105329/110693106/ccs&quot;</td><td>3</td><td>&quot;CNCO&quot;</td><td>false</td><td>&quot;chr2_RagTag&quot;</td><td>&quot;PD50521e&quot;</td></tr><tr><td>&quot;m64221e_220812_230038/138873420/ccs&quot;</td><td>4</td><td>&quot;CNCO&quot;</td><td>false</td><td>&quot;chr2_RagTag&quot;</td><td>&quot;PD50521e&quot;</td></tr><tr><td>&quot;m64221e_220812_230038/17827513/ccs&quot;</td><td>12</td><td>&quot;CNCO&quot;</td><td>false</td><td>&quot;chr2_RagTag&quot;</td><td>&quot;PD50521e&quot;</td></tr><tr><td>&quot;m64016e_220816_095555/28508260/ccs&quot;</td><td>9</td><td>&quot;CNCO&quot;</td><td>false</td><td>&quot;chr2_RagTag&quot;</td><td>&quot;PD50521e&quot;</td></tr><tr><td>&quot;m64221e_220812_230038/102498649/ccs&quot;</td><td>3</td><td>&quot;CNCO&quot;</td><td>false</td><td>&quot;chr2_RagTag&quot;</td><td>&quot;PD50521e&quot;</td></tr><tr><td>&quot;m64094e_220715_151527/128845956/ccs&quot;</td><td>3</td><td>&quot;CNCO&quot;</td><td>false</td><td>&quot;chr2_RagTag&quot;</td><td>&quot;PD50489e&quot;</td></tr><tr><td>&quot;m64178e_220829_002441/15075825/ccs&quot;</td><td>3</td><td>&quot;CNCO&quot;</td><td>false</td><td>&quot;chr3_RagTag&quot;</td><td>&quot;PD50477f&quot;</td></tr><tr><td>&quot;m64230e_220906_003948/151717598/ccs&quot;</td><td>7</td><td>&quot;CNCO&quot;</td><td>false</td><td>&quot;chr3_RagTag&quot;</td><td>&quot;PD50477f&quot;</td></tr><tr><td>&quot;m64221e_220811_133409/101451364/ccs&quot;</td><td>7</td><td>&quot;CNCO&quot;</td><td>false</td><td>&quot;chr3_RagTag&quot;</td><td>&quot;PD50519d&quot;</td></tr><tr><td>&quot;m64178e_220827_132801/62720217/ccs&quot;</td><td>4</td><td>&quot;CNCO&quot;</td><td>false</td><td>&quot;chr3_RagTag&quot;</td><td>&quot;PD50508f&quot;</td></tr><tr><td>&quot;m64229e_220911_015559/135070875/ccs&quot;</td><td>4</td><td>&quot;CNCO&quot;</td><td>false</td><td>&quot;chr3_RagTag&quot;</td><td>&quot;PD50523b&quot;</td></tr><tr><td>&quot;m64016e_220901_135237/30998920/ccs&quot;</td><td>11</td><td>&quot;CNCO&quot;</td><td>false</td><td>&quot;chr3_RagTag&quot;</td><td>&quot;PD50521b&quot;</td></tr><tr><td>&quot;m64229e_220912_125215/74319531/ccs&quot;</td><td>7</td><td>&quot;CNCO&quot;</td><td>false</td><td>&quot;chr3_RagTag&quot;</td><td>&quot;PD50521b&quot;</td></tr><tr><td>&quot;m64016e_220901_135237/84346723/ccs&quot;</td><td>3</td><td>&quot;CNCO&quot;</td><td>false</td><td>&quot;chr3_RagTag&quot;</td><td>&quot;PD50521b&quot;</td></tr><tr><td>&quot;m64229e_220909_150132/12977941/ccs&quot;</td><td>14</td><td>&quot;CNCO&quot;</td><td>false</td><td>&quot;chr3_RagTag&quot;</td><td>&quot;PD50521b&quot;</td></tr><tr><td>&quot;m64016e_220904_102424/18416959/ccs&quot;</td><td>4</td><td>&quot;CNCO&quot;</td><td>false</td><td>&quot;chr3_RagTag&quot;</td><td>&quot;PD46180c&quot;</td></tr><tr><td>&quot;m64221e_220812_230038/134089495/ccs&quot;</td><td>8</td><td>&quot;CNCO&quot;</td><td>false</td><td>&quot;chr3_RagTag&quot;</td><td>&quot;PD50521e&quot;</td></tr><tr><td>&quot;m64221e_220812_230038/127730292/ccs&quot;</td><td>5</td><td>&quot;CNCO&quot;</td><td>false</td><td>&quot;chr3_RagTag&quot;</td><td>&quot;PD50521e&quot;</td></tr><tr><td>&quot;m64221e_220812_230038/71237761/ccs&quot;</td><td>4</td><td>&quot;CNCO&quot;</td><td>false</td><td>&quot;chr3_RagTag&quot;</td><td>&quot;PD50521e&quot;</td></tr><tr><td>&quot;m64174e_220620_110709/130156548/ccs&quot;</td><td>3</td><td>&quot;CNCO&quot;</td><td>false</td><td>&quot;chr3_RagTag&quot;</td><td>&quot;PD50489e&quot;</td></tr><tr><td>&quot;m64174e_220620_110709/158532646/ccs&quot;</td><td>3</td><td>&quot;CNCO&quot;</td><td>false</td><td>&quot;chr3_RagTag&quot;</td><td>&quot;PD50489e&quot;</td></tr><tr><td>&quot;m64174e_220620_110709/66456335/ccs&quot;</td><td>4</td><td>&quot;CNCO&quot;</td><td>false</td><td>&quot;chr3_RagTag&quot;</td><td>&quot;PD50489e&quot;</td></tr><tr><td>&quot;m64094e_220715_151527/166658372/ccs&quot;</td><td>3</td><td>&quot;CNCO&quot;</td><td>false</td><td>&quot;chr3_RagTag&quot;</td><td>&quot;PD50489e&quot;</td></tr><tr><td>&quot;m64094e_220715_151527/122424120/ccs&quot;</td><td>3</td><td>&quot;CNCO&quot;</td><td>false</td><td>&quot;chr3_RagTag&quot;</td><td>&quot;PD50489e&quot;</td></tr><tr><td>&quot;m64178e_220829_002441/38209523/ccs&quot;</td><td>7</td><td>&quot;CNCO&quot;</td><td>false</td><td>&quot;chr4_RagTag&quot;</td><td>&quot;PD50477f&quot;</td></tr><tr><td>&quot;m64221e_220814_084225/70910346/ccs&quot;</td><td>4</td><td>&quot;CNCO&quot;</td><td>false</td><td>&quot;chr4_RagTag&quot;</td><td>&quot;PD50519d&quot;</td></tr><tr><td>&quot;m64221e_220811_133409/127862966/ccs&quot;</td><td>4</td><td>&quot;CNCO&quot;</td><td>false</td><td>&quot;chr4_RagTag&quot;</td><td>&quot;PD50519d&quot;</td></tr><tr><td>&quot;m64222e_220804_013319/94438531/ccs&quot;</td><td>4</td><td>&quot;CNCO&quot;</td><td>false</td><td>&quot;chr4_RagTag&quot;</td><td>&quot;PD50519d&quot;</td></tr><tr><td>&quot;m64221e_220814_084225/77136252/ccs&quot;</td><td>3</td><td>&quot;CNCO&quot;</td><td>false</td><td>&quot;chr4_RagTag&quot;</td><td>&quot;PD50519d&quot;</td></tr><tr><td>&quot;m64222e_220804_013319/34801852/ccs&quot;</td><td>4</td><td>&quot;CNCO&quot;</td><td>false</td><td>&quot;chr4_RagTag&quot;</td><td>&quot;PD50519d&quot;</td></tr><tr><td>&quot;m64016e_220901_135237/82512095/ccs&quot;</td><td>4</td><td>&quot;CNCO&quot;</td><td>false</td><td>&quot;chr4_RagTag&quot;</td><td>&quot;PD50521b&quot;</td></tr><tr><td>&quot;m64229e_220909_150132/126421230/ccs&quot;</td><td>4</td><td>&quot;CNCO&quot;</td><td>false</td><td>&quot;chr4_RagTag&quot;</td><td>&quot;PD50521b&quot;</td></tr><tr><td>&quot;m64016e_220901_135237/3672424/ccs&quot;</td><td>9</td><td>&quot;CNCO&quot;</td><td>false</td><td>&quot;chr4_RagTag&quot;</td><td>&quot;PD50521b&quot;</td></tr><tr><td>&quot;m64016e_220901_135237/91163056/ccs&quot;</td><td>3</td><td>&quot;CNCO&quot;</td><td>false</td><td>&quot;chr4_RagTag&quot;</td><td>&quot;PD50521b&quot;</td></tr><tr><td>&quot;m64016e_220901_135237/82968814/ccs&quot;</td><td>12</td><td>&quot;CNCO&quot;</td><td>false</td><td>&quot;chr4_RagTag&quot;</td><td>&quot;PD50521b&quot;</td></tr><tr><td>&quot;m64016e_220904_102424/118489519/ccs&quot;</td><td>3</td><td>&quot;CNCO&quot;</td><td>false</td><td>&quot;chr4_RagTag&quot;</td><td>&quot;PD46180c&quot;</td></tr><tr><td>&quot;m64178e_220824_153720/78317504/ccs&quot;</td><td>4</td><td>&quot;CNCO&quot;</td><td>false</td><td>&quot;chr4_RagTag&quot;</td><td>&quot;PD46180c&quot;</td></tr><tr><td>&quot;m64221e_220812_230038/2098142/ccs&quot;</td><td>7</td><td>&quot;CNCO&quot;</td><td>false</td><td>&quot;chr4_RagTag&quot;</td><td>&quot;PD50521e&quot;</td></tr><tr><td>&quot;m64221e_220812_230038/173999175/ccs&quot;</td><td>3</td><td>&quot;CNCO&quot;</td><td>false</td><td>&quot;chr4_RagTag&quot;</td><td>&quot;PD50521e&quot;</td></tr><tr><td>&quot;m64174e_220620_110709/54265674/ccs&quot;</td><td>3</td><td>&quot;CNCO&quot;</td><td>false</td><td>&quot;chr4_RagTag&quot;</td><td>&quot;PD50489e&quot;</td></tr><tr><td>&quot;m64230e_220906_003948/42927344/ccs&quot;</td><td>3</td><td>&quot;CNCO&quot;</td><td>false</td><td>&quot;chr5_RagTag&quot;</td><td>&quot;PD50477f&quot;</td></tr><tr><td>&quot;m64178e_220829_002441/106039300/ccs&quot;</td><td>7</td><td>&quot;CNCO&quot;</td><td>false</td><td>&quot;chr5_RagTag&quot;</td><td>&quot;PD50477f&quot;</td></tr><tr><td>&quot;m64178e_220829_002441/92080034/ccs&quot;</td><td>8</td><td>&quot;CNCO&quot;</td><td>false</td><td>&quot;chr5_RagTag&quot;</td><td>&quot;PD50477f&quot;</td></tr><tr><td>&quot;m64221e_220811_133409/34144702/ccs&quot;</td><td>4</td><td>&quot;CNCO&quot;</td><td>false</td><td>&quot;chr5_RagTag&quot;</td><td>&quot;PD50519d&quot;</td></tr><tr><td>&quot;m64221e_220814_084225/115868018/ccs&quot;</td><td>8</td><td>&quot;CNCO&quot;</td><td>false</td><td>&quot;chr5_RagTag&quot;</td><td>&quot;PD50519d&quot;</td></tr><tr><td>&quot;m64229e_220911_015559/21365314/ccs&quot;</td><td>4</td><td>&quot;CNCO&quot;</td><td>false</td><td>&quot;chr5_RagTag&quot;</td><td>&quot;PD50523b&quot;</td></tr><tr><td>&quot;m64229e_220911_015559/19267763/ccs&quot;</td><td>3</td><td>&quot;CNCO&quot;</td><td>false</td><td>&quot;chr5_RagTag&quot;</td><td>&quot;PD50523b&quot;</td></tr><tr><td>&quot;m64229e_220912_125215/104793097/ccs&quot;</td><td>8</td><td>&quot;CNCO&quot;</td><td>false</td><td>&quot;chr5_RagTag&quot;</td><td>&quot;PD50521b&quot;</td></tr><tr><td>&quot;m64016e_220901_135237/160107246/ccs&quot;</td><td>7</td><td>&quot;CNCO&quot;</td><td>false</td><td>&quot;chr5_RagTag&quot;</td><td>&quot;PD50521b&quot;</td></tr><tr><td>&quot;m64229e_220912_125215/108200397/ccs&quot;</td><td>5</td><td>&quot;CNCO&quot;</td><td>false</td><td>&quot;chr5_RagTag&quot;</td><td>&quot;PD50521b&quot;</td></tr><tr><td>&quot;m64016e_220901_135237/84740588/ccs&quot;</td><td>4</td><td>&quot;CNCO&quot;</td><td>false</td><td>&quot;chr5_RagTag&quot;</td><td>&quot;PD50521b&quot;</td></tr><tr><td>&quot;m64229e_220912_125215/137628020/ccs&quot;</td><td>4</td><td>&quot;CNCO&quot;</td><td>false</td><td>&quot;chr5_RagTag&quot;</td><td>&quot;PD50521b&quot;</td></tr><tr><td>&quot;m64229e_220909_150132/76939964/ccs&quot;</td><td>3</td><td>&quot;CNCO&quot;</td><td>false</td><td>&quot;chr5_RagTag&quot;</td><td>&quot;PD50521b&quot;</td></tr><tr><td>&quot;m64229e_220912_125215/120587248/ccs&quot;</td><td>4</td><td>&quot;CNCO&quot;</td><td>false</td><td>&quot;chr5_RagTag&quot;</td><td>&quot;PD50521b&quot;</td></tr><tr><td>&quot;m64221e_220812_230038/150798608/ccs&quot;</td><td>4</td><td>&quot;CNCO&quot;</td><td>false</td><td>&quot;chr5_RagTag&quot;</td><td>&quot;PD50521e&quot;</td></tr><tr><td>&quot;m64221e_220812_230038/115606686/ccs&quot;</td><td>6</td><td>&quot;CNCO&quot;</td><td>false</td><td>&quot;chr5_RagTag&quot;</td><td>&quot;PD50521e&quot;</td></tr><tr><td>&quot;m64094e_220717_002414/130419535/ccs&quot;</td><td>4</td><td>&quot;CNCO&quot;</td><td>false</td><td>&quot;chr5_RagTag&quot;</td><td>&quot;PD50489e&quot;</td></tr><tr><td>&quot;m64222e_220804_013319/90638283/ccs&quot;</td><td>6</td><td>&quot;CNCO&quot;</td><td>false</td><td>&quot;chr6_RagTag&quot;</td><td>&quot;PD50519d&quot;</td></tr><tr><td>&quot;m64221e_220811_133409/156893652/ccs&quot;</td><td>3</td><td>&quot;CNCO&quot;</td><td>false</td><td>&quot;chr6_RagTag&quot;</td><td>&quot;PD50519d&quot;</td></tr><tr><td>&quot;m64222e_220804_013319/130221407/ccs&quot;</td><td>3</td><td>&quot;CNCO&quot;</td><td>false</td><td>&quot;chr6_RagTag&quot;</td><td>&quot;PD50519d&quot;</td></tr><tr><td>&quot;m64229e_220911_015559/131269934/ccs&quot;</td><td>7</td><td>&quot;CNCO&quot;</td><td>false</td><td>&quot;chr6_RagTag&quot;</td><td>&quot;PD50523b&quot;</td></tr><tr><td>&quot;m64016e_220903_004635/30868112/ccs&quot;</td><td>3</td><td>&quot;CNCO&quot;</td><td>false</td><td>&quot;chr6_RagTag&quot;</td><td>&quot;PD50523b&quot;</td></tr><tr><td>&quot;m64229e_220913_234845/53480029/ccs&quot;</td><td>5</td><td>&quot;CNCO&quot;</td><td>false</td><td>&quot;chr6_RagTag&quot;</td><td>&quot;PD50523b&quot;</td></tr><tr><td>&quot;m64016e_220901_135237/123338808/ccs&quot;</td><td>6</td><td>&quot;CNCO&quot;</td><td>false</td><td>&quot;chr6_RagTag&quot;</td><td>&quot;PD50521b&quot;</td></tr><tr><td>&quot;m64229e_220909_150132/133302940/ccs&quot;</td><td>5</td><td>&quot;CNCO&quot;</td><td>false</td><td>&quot;chr6_RagTag&quot;</td><td>&quot;PD50521b&quot;</td></tr><tr><td>&quot;m64016e_220901_135237/160106810/ccs&quot;</td><td>4</td><td>&quot;CNCO&quot;</td><td>false</td><td>&quot;chr6_RagTag&quot;</td><td>&quot;PD50521b&quot;</td></tr><tr><td>&quot;m64178e_220826_023135/46467159/ccs&quot;</td><td>3</td><td>&quot;CNCO&quot;</td><td>false</td><td>&quot;chr6_RagTag&quot;</td><td>&quot;PD50508b&quot;</td></tr><tr><td>&quot;m64016e_220904_102424/77728288/ccs&quot;</td><td>8</td><td>&quot;CNCO&quot;</td><td>false</td><td>&quot;chr6_RagTag&quot;</td><td>&quot;PD46180c&quot;</td></tr><tr><td>&quot;m64016e_220904_102424/22415576/ccs&quot;</td><td>18</td><td>&quot;CNCO&quot;</td><td>false</td><td>&quot;chr6_RagTag&quot;</td><td>&quot;PD46180c&quot;</td></tr><tr><td>&quot;m64178e_220824_153720/176751905/ccs&quot;</td><td>8</td><td>&quot;CNCO&quot;</td><td>false</td><td>&quot;chr6_RagTag&quot;</td><td>&quot;PD46180c&quot;</td></tr><tr><td>&quot;m64016e_220904_102424/158270118/ccs&quot;</td><td>6</td><td>&quot;CNCO&quot;</td><td>false</td><td>&quot;chr6_RagTag&quot;</td><td>&quot;PD46180c&quot;</td></tr><tr><td>&quot;m64178e_220824_153720/29754511/ccs&quot;</td><td>3</td><td>&quot;CNCO&quot;</td><td>false</td><td>&quot;chr6_RagTag&quot;</td><td>&quot;PD46180c&quot;</td></tr><tr><td>&quot;m64222e_220805_105329/92342659/ccs&quot;</td><td>5</td><td>&quot;CNCO&quot;</td><td>false</td><td>&quot;chr6_RagTag&quot;</td><td>&quot;PD50521e&quot;</td></tr><tr><td>&quot;m64016e_220816_095555/148441754/ccs&quot;</td><td>3</td><td>&quot;CNCO&quot;</td><td>false</td><td>&quot;chr6_RagTag&quot;</td><td>&quot;PD50521e&quot;</td></tr><tr><td>&quot;m64221e_220812_230038/162990852/ccs&quot;</td><td>9</td><td>&quot;CNCO&quot;</td><td>false</td><td>&quot;chr6_RagTag&quot;</td><td>&quot;PD50521e&quot;</td></tr><tr><td>&quot;m64174e_220620_110709/103023375/ccs&quot;</td><td>3</td><td>&quot;CNCO&quot;</td><td>false</td><td>&quot;chr6_RagTag&quot;</td><td>&quot;PD50489e&quot;</td></tr><tr><td>&quot;m64230e_220906_003948/112461342/ccs&quot;</td><td>3</td><td>&quot;CNCO&quot;</td><td>false</td><td>&quot;chr7_RagTag&quot;</td><td>&quot;PD50477f&quot;</td></tr><tr><td>&quot;m64178e_220829_002441/159056842/ccs&quot;</td><td>3</td><td>&quot;CNCO&quot;</td><td>false</td><td>&quot;chr7_RagTag&quot;</td><td>&quot;PD50477f&quot;</td></tr><tr><td>&quot;m64094e_220917_231317/29558968/ccs&quot;</td><td>8</td><td>&quot;CNCO&quot;</td><td>false</td><td>&quot;chr7_RagTag&quot;</td><td>&quot;PD50477f&quot;</td></tr><tr><td>&quot;m64178e_220829_002441/102631285/ccs&quot;</td><td>6</td><td>&quot;CNCO&quot;</td><td>false</td><td>&quot;chr7_RagTag&quot;</td><td>&quot;PD50477f&quot;</td></tr><tr><td>&quot;m64178e_220829_002441/135136692/ccs&quot;</td><td>5</td><td>&quot;CNCO&quot;</td><td>false</td><td>&quot;chr7_RagTag&quot;</td><td>&quot;PD50477f&quot;</td></tr><tr><td>&quot;m64221e_220811_133409/58133230/ccs&quot;</td><td>10</td><td>&quot;CNCO&quot;</td><td>false</td><td>&quot;chr7_RagTag&quot;</td><td>&quot;PD50519d&quot;</td></tr><tr><td>&quot;m64221e_220811_133409/165544823/ccs&quot;</td><td>5</td><td>&quot;CNCO&quot;</td><td>false</td><td>&quot;chr7_RagTag&quot;</td><td>&quot;PD50519d&quot;</td></tr><tr><td>&quot;m64016e_220903_004635/132252150/ccs&quot;</td><td>3</td><td>&quot;CNCO&quot;</td><td>false</td><td>&quot;chr7_RagTag&quot;</td><td>&quot;PD50523b&quot;</td></tr><tr><td>&quot;m64016e_220901_135237/154731780/ccs&quot;</td><td>10</td><td>&quot;CNCO&quot;</td><td>false</td><td>&quot;chr7_RagTag&quot;</td><td>&quot;PD50521b&quot;</td></tr><tr><td>&quot;m64229e_220912_125215/68026878/ccs&quot;</td><td>5</td><td>&quot;CNCO&quot;</td><td>false</td><td>&quot;chr7_RagTag&quot;</td><td>&quot;PD50521b&quot;</td></tr><tr><td>&quot;m64229e_220912_125215/162204315/ccs&quot;</td><td>3</td><td>&quot;CNCO&quot;</td><td>false</td><td>&quot;chr7_RagTag&quot;</td><td>&quot;PD50521b&quot;</td></tr><tr><td>&quot;m64229e_220909_150132/126092820/ccs&quot;</td><td>5</td><td>&quot;CNCO&quot;</td><td>false</td><td>&quot;chr7_RagTag&quot;</td><td>&quot;PD50521b&quot;</td></tr><tr><td>&quot;m64229e_220912_125215/180487845/ccs&quot;</td><td>10</td><td>&quot;CNCO&quot;</td><td>false</td><td>&quot;chr7_RagTag&quot;</td><td>&quot;PD50521b&quot;</td></tr><tr><td>&quot;m64016e_220904_102424/146148146/ccs&quot;</td><td>8</td><td>&quot;CNCO&quot;</td><td>false</td><td>&quot;chr7_RagTag&quot;</td><td>&quot;PD46180c&quot;</td></tr><tr><td>&quot;m64094e_220916_121850/110823223/ccs&quot;</td><td>8</td><td>&quot;CNCO&quot;</td><td>false</td><td>&quot;chr7_RagTag&quot;</td><td>&quot;PD46180c&quot;</td></tr><tr><td>&quot;m64178e_220824_153720/154667786/ccs&quot;</td><td>5</td><td>&quot;CNCO&quot;</td><td>false</td><td>&quot;chr7_RagTag&quot;</td><td>&quot;PD46180c&quot;</td></tr><tr><td>&quot;m64016e_220904_102424/7930618/ccs&quot;</td><td>7</td><td>&quot;CNCO&quot;</td><td>false</td><td>&quot;chr7_RagTag&quot;</td><td>&quot;PD46180c&quot;</td></tr><tr><td>&quot;m64094e_220916_121850/178323538/ccs&quot;</td><td>4</td><td>&quot;CNCO&quot;</td><td>false</td><td>&quot;chr7_RagTag&quot;</td><td>&quot;PD46180c&quot;</td></tr><tr><td>&quot;m64178e_220824_153720/122881776/ccs&quot;</td><td>8</td><td>&quot;CNCO&quot;</td><td>false</td><td>&quot;chr7_RagTag&quot;</td><td>&quot;PD46180c&quot;</td></tr><tr><td>&quot;m64221e_220812_230038/1574852/ccs&quot;</td><td>3</td><td>&quot;CNCO&quot;</td><td>false</td><td>&quot;chr7_RagTag&quot;</td><td>&quot;PD50521e&quot;</td></tr><tr><td>&quot;m64094e_220715_151527/24117905/ccs&quot;</td><td>4</td><td>&quot;CNCO&quot;</td><td>false</td><td>&quot;chr7_RagTag&quot;</td><td>&quot;PD50489e&quot;</td></tr><tr><td>&quot;m64094e_220917_231317/113902710/ccs&quot;</td><td>7</td><td>&quot;CNCO&quot;</td><td>false</td><td>&quot;chr8_RagTag&quot;</td><td>&quot;PD50477f&quot;</td></tr><tr><td>&quot;m64222e_220804_013319/32179740/ccs&quot;</td><td>4</td><td>&quot;CNCO&quot;</td><td>false</td><td>&quot;chr8_RagTag&quot;</td><td>&quot;PD50519d&quot;</td></tr><tr><td>&quot;m64221e_220811_133409/178653117/ccs&quot;</td><td>4</td><td>&quot;CNCO&quot;</td><td>false</td><td>&quot;chr8_RagTag&quot;</td><td>&quot;PD50519d&quot;</td></tr><tr><td>&quot;m64221e_220811_133409/105972180/ccs&quot;</td><td>10</td><td>&quot;CNCO&quot;</td><td>false</td><td>&quot;chr8_RagTag&quot;</td><td>&quot;PD50519d&quot;</td></tr><tr><td>&quot;m64016e_220901_135237/98436805/ccs&quot;</td><td>3</td><td>&quot;CNCO&quot;</td><td>false</td><td>&quot;chr8_RagTag&quot;</td><td>&quot;PD50521b&quot;</td></tr><tr><td>&quot;m64229e_220912_125215/121440246/ccs&quot;</td><td>3</td><td>&quot;CNCO&quot;</td><td>false</td><td>&quot;chr8_RagTag&quot;</td><td>&quot;PD50521b&quot;</td></tr><tr><td>&quot;m64229e_220912_125215/158402240/ccs&quot;</td><td>3</td><td>&quot;CNCO&quot;</td><td>false</td><td>&quot;chr8_RagTag&quot;</td><td>&quot;PD50521b&quot;</td></tr><tr><td>&quot;m64016e_220904_102424/40371985/ccs&quot;</td><td>3</td><td>&quot;CNCO&quot;</td><td>false</td><td>&quot;chr8_RagTag&quot;</td><td>&quot;PD46180c&quot;</td></tr><tr><td>&quot;m64222e_220805_105329/118423897/ccs&quot;</td><td>11</td><td>&quot;CNCO&quot;</td><td>false</td><td>&quot;chr8_RagTag&quot;</td><td>&quot;PD50521e&quot;</td></tr><tr><td>&quot;m64222e_220804_013319/150668519/ccs&quot;</td><td>3</td><td>&quot;CNCO&quot;</td><td>false</td><td>&quot;chr9_RagTag&quot;</td><td>&quot;PD50519d&quot;</td></tr><tr><td>&quot;m64229e_220913_234845/51775067/ccs&quot;</td><td>3</td><td>&quot;CNCO&quot;</td><td>false</td><td>&quot;chr9_RagTag&quot;</td><td>&quot;PD50523b&quot;</td></tr><tr><td>&quot;m64016e_220901_135237/41550121/ccs&quot;</td><td>7</td><td>&quot;CNCO&quot;</td><td>false</td><td>&quot;chr9_RagTag&quot;</td><td>&quot;PD50521b&quot;</td></tr><tr><td>&quot;m64229e_220909_150132/112921403/ccs&quot;</td><td>3</td><td>&quot;CNCO&quot;</td><td>false</td><td>&quot;chr9_RagTag&quot;</td><td>&quot;PD50521b&quot;</td></tr><tr><td>&quot;m64094e_220916_121850/146146942/ccs&quot;</td><td>4</td><td>&quot;CNCO&quot;</td><td>false</td><td>&quot;chr9_RagTag&quot;</td><td>&quot;PD46180c&quot;</td></tr><tr><td>&quot;m64016e_220904_102424/90440115/ccs&quot;</td><td>4</td><td>&quot;CNCO&quot;</td><td>false</td><td>&quot;chr9_RagTag&quot;</td><td>&quot;PD46180c&quot;</td></tr><tr><td>&quot;m64178e_220824_153720/136448369/ccs&quot;</td><td>8</td><td>&quot;CNCO&quot;</td><td>false</td><td>&quot;chr9_RagTag&quot;</td><td>&quot;PD46180c&quot;</td></tr><tr><td>&quot;m64222e_220805_105329/126158237/ccs&quot;</td><td>4</td><td>&quot;CNCO&quot;</td><td>false</td><td>&quot;chr9_RagTag&quot;</td><td>&quot;PD50521e&quot;</td></tr><tr><td>&quot;m64016e_220816_095555/155650468/ccs&quot;</td><td>4</td><td>&quot;CNCO&quot;</td><td>false</td><td>&quot;chr9_RagTag&quot;</td><td>&quot;PD50521e&quot;</td></tr><tr><td>&quot;m64221e_220812_230038/138674281/ccs&quot;</td><td>7</td><td>&quot;CNCO&quot;</td><td>false</td><td>&quot;chr9_RagTag&quot;</td><td>&quot;PD50521e&quot;</td></tr><tr><td>&quot;m64174e_220620_110709/147259404/ccs&quot;</td><td>5</td><td>&quot;CNCO&quot;</td><td>false</td><td>&quot;chr9_RagTag&quot;</td><td>&quot;PD50489e&quot;</td></tr><tr><td>&quot;m64094e_220717_002414/29294882/ccs&quot;</td><td>4</td><td>&quot;CNCO&quot;</td><td>false</td><td>&quot;chr9_RagTag&quot;</td><td>&quot;PD50489e&quot;</td></tr><tr><td>&quot;m64094e_220717_002414/29428428/ccs&quot;</td><td>4</td><td>&quot;CNCO&quot;</td><td>false</td><td>&quot;chr9_RagTag&quot;</td><td>&quot;PD50489e&quot;</td></tr><tr><td>&quot;m64178e_220829_002441/40305431/ccs&quot;</td><td>10</td><td>&quot;CNCO&quot;</td><td>false</td><td>&quot;chr10_RagTag&quot;</td><td>&quot;PD50477f&quot;</td></tr><tr><td>&quot;m64230e_220906_003948/56297101/ccs&quot;</td><td>4</td><td>&quot;CNCO&quot;</td><td>false</td><td>&quot;chr10_RagTag&quot;</td><td>&quot;PD50477f&quot;</td></tr><tr><td>&quot;m64094e_220917_231317/73599018/ccs&quot;</td><td>3</td><td>&quot;CNCO&quot;</td><td>false</td><td>&quot;chr10_RagTag&quot;</td><td>&quot;PD50477f&quot;</td></tr><tr><td>&quot;m64221e_220811_133409/117115679/ccs&quot;</td><td>8</td><td>&quot;CNCO&quot;</td><td>false</td><td>&quot;chr10_RagTag&quot;</td><td>&quot;PD50519d&quot;</td></tr><tr><td>&quot;m64221e_220811_133409/139397863/ccs&quot;</td><td>7</td><td>&quot;CNCO&quot;</td><td>false</td><td>&quot;chr10_RagTag&quot;</td><td>&quot;PD50519d&quot;</td></tr><tr><td>&quot;m64221e_220814_084225/106103921/ccs&quot;</td><td>3</td><td>&quot;CNCO&quot;</td><td>false</td><td>&quot;chr10_RagTag&quot;</td><td>&quot;PD50519d&quot;</td></tr><tr><td>&quot;m64221e_220811_133409/134417022/ccs&quot;</td><td>4</td><td>&quot;CNCO&quot;</td><td>false</td><td>&quot;chr10_RagTag&quot;</td><td>&quot;PD50519d&quot;</td></tr><tr><td>&quot;m64016e_220901_135237/177079606/ccs&quot;</td><td>6</td><td>&quot;CNCO&quot;</td><td>false</td><td>&quot;chr10_RagTag&quot;</td><td>&quot;PD50521b&quot;</td></tr><tr><td>&quot;m64229e_220909_150132/56426878/ccs&quot;</td><td>3</td><td>&quot;CNCO&quot;</td><td>false</td><td>&quot;chr10_RagTag&quot;</td><td>&quot;PD50521b&quot;</td></tr><tr><td>&quot;m64094e_220916_121850/75762467/ccs&quot;</td><td>7</td><td>&quot;CNCO&quot;</td><td>false</td><td>&quot;chr10_RagTag&quot;</td><td>&quot;PD46180c&quot;</td></tr><tr><td>&quot;m64221e_220812_230038/84281878/ccs&quot;</td><td>6</td><td>&quot;CNCO&quot;</td><td>false</td><td>&quot;chr10_RagTag&quot;</td><td>&quot;PD50521e&quot;</td></tr><tr><td>&quot;m64230e_220906_003948/918964/ccs&quot;</td><td>7</td><td>&quot;CNCO&quot;</td><td>false</td><td>&quot;chr11_RagTag&quot;</td><td>&quot;PD50477f&quot;</td></tr><tr><td>&quot;m64221e_220814_084225/89981845/ccs&quot;</td><td>4</td><td>&quot;CNCO&quot;</td><td>false</td><td>&quot;chr11_RagTag&quot;</td><td>&quot;PD50519d&quot;</td></tr><tr><td>&quot;m64221e_220814_084225/162661816/ccs&quot;</td><td>12</td><td>&quot;CNCO&quot;</td><td>false</td><td>&quot;chr11_RagTag&quot;</td><td>&quot;PD50519d&quot;</td></tr><tr><td>&quot;m64221e_220811_133409/157221614/ccs&quot;</td><td>9</td><td>&quot;CNCO&quot;</td><td>false</td><td>&quot;chr11_RagTag&quot;</td><td>&quot;PD50519d&quot;</td></tr><tr><td>&quot;m64221e_220811_133409/82904935/ccs&quot;</td><td>5</td><td>&quot;CNCO&quot;</td><td>false</td><td>&quot;chr11_RagTag&quot;</td><td>&quot;PD50519d&quot;</td></tr><tr><td>&quot;m64221e_220811_133409/101452532/ccs&quot;</td><td>9</td><td>&quot;CNCO&quot;</td><td>false</td><td>&quot;chr11_RagTag&quot;</td><td>&quot;PD50519d&quot;</td></tr><tr><td>&quot;m64221e_220811_133409/129631347/ccs&quot;</td><td>3</td><td>&quot;CNCO&quot;</td><td>false</td><td>&quot;chr11_RagTag&quot;</td><td>&quot;PD50519d&quot;</td></tr><tr><td>&quot;m64222e_220804_013319/33424673/ccs&quot;</td><td>6</td><td>&quot;CNCO&quot;</td><td>false</td><td>&quot;chr11_RagTag&quot;</td><td>&quot;PD50519d&quot;</td></tr><tr><td>&quot;m64221e_220814_084225/150603428/ccs&quot;</td><td>3</td><td>&quot;CNCO&quot;</td><td>false</td><td>&quot;chr11_RagTag&quot;</td><td>&quot;PD50519d&quot;</td></tr><tr><td>&quot;m64178e_220827_132801/124912162/ccs&quot;</td><td>3</td><td>&quot;CNCO&quot;</td><td>false</td><td>&quot;chr11_RagTag&quot;</td><td>&quot;PD50508f&quot;</td></tr><tr><td>&quot;m64229e_220913_234845/167577106/ccs&quot;</td><td>3</td><td>&quot;CNCO&quot;</td><td>false</td><td>&quot;chr11_RagTag&quot;</td><td>&quot;PD50523b&quot;</td></tr><tr><td>&quot;m64229e_220912_125215/44042976/ccs&quot;</td><td>3</td><td>&quot;CNCO&quot;</td><td>false</td><td>&quot;chr11_RagTag&quot;</td><td>&quot;PD50521b&quot;</td></tr><tr><td>&quot;m64016e_220901_135237/86050924/ccs&quot;</td><td>9</td><td>&quot;CNCO&quot;</td><td>false</td><td>&quot;chr11_RagTag&quot;</td><td>&quot;PD50521b&quot;</td></tr><tr><td>&quot;m64229e_220909_150132/16320394/ccs&quot;</td><td>6</td><td>&quot;CNCO&quot;</td><td>false</td><td>&quot;chr11_RagTag&quot;</td><td>&quot;PD50521b&quot;</td></tr><tr><td>&quot;m64229e_220909_150132/65930919/ccs&quot;</td><td>7</td><td>&quot;CNCO&quot;</td><td>false</td><td>&quot;chr11_RagTag&quot;</td><td>&quot;PD50521b&quot;</td></tr><tr><td>&quot;m64229e_220909_150132/53937448/ccs&quot;</td><td>3</td><td>&quot;CNCO&quot;</td><td>false</td><td>&quot;chr11_RagTag&quot;</td><td>&quot;PD50521b&quot;</td></tr><tr><td>&quot;m64016e_220904_102424/111544725/ccs&quot;</td><td>8</td><td>&quot;CNCO&quot;</td><td>false</td><td>&quot;chr11_RagTag&quot;</td><td>&quot;PD46180c&quot;</td></tr><tr><td>&quot;m64016e_220904_102424/143657123/ccs&quot;</td><td>4</td><td>&quot;CNCO&quot;</td><td>false</td><td>&quot;chr11_RagTag&quot;</td><td>&quot;PD46180c&quot;</td></tr><tr><td>&quot;m64221e_220811_133409/75171665/ccs&quot;</td><td>4</td><td>&quot;CNCO&quot;</td><td>false</td><td>&quot;chr12_RagTag&quot;</td><td>&quot;PD50519d&quot;</td></tr><tr><td>&quot;m64221e_220811_133409/110037503/ccs&quot;</td><td>3</td><td>&quot;CNCO&quot;</td><td>false</td><td>&quot;chr12_RagTag&quot;</td><td>&quot;PD50519d&quot;</td></tr><tr><td>&quot;m64221e_220814_084225/43321681/ccs&quot;</td><td>6</td><td>&quot;CNCO&quot;</td><td>false</td><td>&quot;chr12_RagTag&quot;</td><td>&quot;PD50519d&quot;</td></tr><tr><td>&quot;m64222e_220804_013319/165415166/ccs&quot;</td><td>4</td><td>&quot;CNCO&quot;</td><td>false</td><td>&quot;chr12_RagTag&quot;</td><td>&quot;PD50519d&quot;</td></tr><tr><td>&quot;m64229e_220911_015559/14158196/ccs&quot;</td><td>13</td><td>&quot;CNCO&quot;</td><td>false</td><td>&quot;chr12_RagTag&quot;</td><td>&quot;PD50523b&quot;</td></tr><tr><td>&quot;m64229e_220909_150132/168166044/ccs&quot;</td><td>4</td><td>&quot;CNCO&quot;</td><td>false</td><td>&quot;chr12_RagTag&quot;</td><td>&quot;PD50521b&quot;</td></tr><tr><td>&quot;m64016e_220904_102424/154011359/ccs&quot;</td><td>3</td><td>&quot;CNCO&quot;</td><td>false</td><td>&quot;chr12_RagTag&quot;</td><td>&quot;PD46180c&quot;</td></tr><tr><td>&quot;m64178e_220824_153720/104137894/ccs&quot;</td><td>4</td><td>&quot;CNCO&quot;</td><td>false</td><td>&quot;chr12_RagTag&quot;</td><td>&quot;PD46180c&quot;</td></tr><tr><td>&quot;m64222e_220805_105329/112722111/ccs&quot;</td><td>4</td><td>&quot;CNCO&quot;</td><td>false</td><td>&quot;chr12_RagTag&quot;</td><td>&quot;PD50521e&quot;</td></tr><tr><td>&quot;m64016e_220816_095555/95880406/ccs&quot;</td><td>4</td><td>&quot;CNCO&quot;</td><td>false</td><td>&quot;chr12_RagTag&quot;</td><td>&quot;PD50521e&quot;</td></tr><tr><td>&quot;m64094e_220917_231317/29557299/ccs&quot;</td><td>3</td><td>&quot;CNCO&quot;</td><td>false</td><td>&quot;chr13_RagTag&quot;</td><td>&quot;PD50477f&quot;</td></tr><tr><td>&quot;m64094e_220917_231317/117965035/ccs&quot;</td><td>4</td><td>&quot;CNCO&quot;</td><td>false</td><td>&quot;chr13_RagTag&quot;</td><td>&quot;PD50477f&quot;</td></tr><tr><td>&quot;m64222e_220804_013319/53347425/ccs&quot;</td><td>3</td><td>&quot;CNCO&quot;</td><td>false</td><td>&quot;chr13_RagTag&quot;</td><td>&quot;PD50519d&quot;</td></tr><tr><td>&quot;m64016e_220903_004635/98698555/ccs&quot;</td><td>5</td><td>&quot;CNCO&quot;</td><td>false</td><td>&quot;chr13_RagTag&quot;</td><td>&quot;PD50523b&quot;</td></tr><tr><td>&quot;m64016e_220901_135237/123797966/ccs&quot;</td><td>4</td><td>&quot;CNCO&quot;</td><td>false</td><td>&quot;chr13_RagTag&quot;</td><td>&quot;PD50521b&quot;</td></tr><tr><td>&quot;m64016e_220901_135237/96142805/ccs&quot;</td><td>9</td><td>&quot;CNCO&quot;</td><td>false</td><td>&quot;chr13_RagTag&quot;</td><td>&quot;PD50521b&quot;</td></tr><tr><td>&quot;m64178e_220826_023135/22806918/ccs&quot;</td><td>4</td><td>&quot;CNCO&quot;</td><td>false</td><td>&quot;chr13_RagTag&quot;</td><td>&quot;PD50508b&quot;</td></tr><tr><td>&quot;m64094e_220916_121850/114426176/ccs&quot;</td><td>3</td><td>&quot;CNCO&quot;</td><td>false</td><td>&quot;chr13_RagTag&quot;</td><td>&quot;PD46180c&quot;</td></tr><tr><td>&quot;m64178e_220824_153720/160301458/ccs&quot;</td><td>5</td><td>&quot;CNCO&quot;</td><td>false</td><td>&quot;chr13_RagTag&quot;</td><td>&quot;PD46180c&quot;</td></tr><tr><td>&quot;m64016e_220816_095555/81068543/ccs&quot;</td><td>3</td><td>&quot;CNCO&quot;</td><td>false</td><td>&quot;chr13_RagTag&quot;</td><td>&quot;PD50521e&quot;</td></tr><tr><td>&quot;m64094e_220717_002414/172754142/ccs&quot;</td><td>4</td><td>&quot;CNCO&quot;</td><td>false</td><td>&quot;chr13_RagTag&quot;</td><td>&quot;PD50489e&quot;</td></tr><tr><td>&quot;m64178e_220829_002441/58262429/ccs&quot;</td><td>3</td><td>&quot;CNCO&quot;</td><td>false</td><td>&quot;chr14_RagTag&quot;</td><td>&quot;PD50477f&quot;</td></tr><tr><td>&quot;m64222e_220804_013319/77136842/ccs&quot;</td><td>14</td><td>&quot;CNCO&quot;</td><td>false</td><td>&quot;chr14_RagTag&quot;</td><td>&quot;PD50519d&quot;</td></tr><tr><td>&quot;m64221e_220811_133409/91555737/ccs&quot;</td><td>3</td><td>&quot;CNCO&quot;</td><td>false</td><td>&quot;chr14_RagTag&quot;</td><td>&quot;PD50519d&quot;</td></tr><tr><td>&quot;m64016e_220901_135237/91553848/ccs&quot;</td><td>7</td><td>&quot;CNCO&quot;</td><td>false</td><td>&quot;chr14_RagTag&quot;</td><td>&quot;PD50521b&quot;</td></tr><tr><td>&quot;m64016e_220904_102424/37422524/ccs&quot;</td><td>3</td><td>&quot;CNCO&quot;</td><td>false</td><td>&quot;chr14_RagTag&quot;</td><td>&quot;PD46180c&quot;</td></tr><tr><td>&quot;m64221e_220812_230038/60361074/ccs&quot;</td><td>9</td><td>&quot;CNCO&quot;</td><td>false</td><td>&quot;chr14_RagTag&quot;</td><td>&quot;PD50521e&quot;</td></tr><tr><td>&quot;m64222e_220805_105329/63767123/ccs&quot;</td><td>9</td><td>&quot;CNCO&quot;</td><td>false</td><td>&quot;chr14_RagTag&quot;</td><td>&quot;PD50521e&quot;</td></tr><tr><td>&quot;m64229e_220913_234845/149292247/ccs&quot;</td><td>4</td><td>&quot;CNCO&quot;</td><td>false</td><td>&quot;chr15_RagTag&quot;</td><td>&quot;PD50523b&quot;</td></tr><tr><td>&quot;m64094e_220916_121850/38537368/ccs&quot;</td><td>4</td><td>&quot;CNCO&quot;</td><td>false</td><td>&quot;chr15_RagTag&quot;</td><td>&quot;PD46180c&quot;</td></tr><tr><td>&quot;m64221e_220812_230038/154273188/ccs&quot;</td><td>3</td><td>&quot;CNCO&quot;</td><td>false</td><td>&quot;chr15_RagTag&quot;</td><td>&quot;PD50521e&quot;</td></tr><tr><td>&quot;m64094e_220717_002414/30280492/ccs&quot;</td><td>3</td><td>&quot;CNCO&quot;</td><td>false</td><td>&quot;chr15_RagTag&quot;</td><td>&quot;PD50489e&quot;</td></tr><tr><td>&quot;m64094e_220715_151527/150209149/ccs&quot;</td><td>5</td><td>&quot;CNCO&quot;</td><td>false</td><td>&quot;chr15_RagTag&quot;</td><td>&quot;PD50489e&quot;</td></tr><tr><td>&quot;m64221e_220814_084225/6488827/ccs&quot;</td><td>7</td><td>&quot;CNCO&quot;</td><td>false</td><td>&quot;chr16_RagTag&quot;</td><td>&quot;PD50519d&quot;</td></tr><tr><td>&quot;m64229e_220912_125215/73926640/ccs&quot;</td><td>3</td><td>&quot;CNCO&quot;</td><td>false</td><td>&quot;chr16_RagTag&quot;</td><td>&quot;PD50521b&quot;</td></tr><tr><td>&quot;m64178e_220826_023135/58721691/ccs&quot;</td><td>3</td><td>&quot;CNCO&quot;</td><td>false</td><td>&quot;chr16_RagTag&quot;</td><td>&quot;PD50508b&quot;</td></tr><tr><td>&quot;m64094e_220717_002414/91291954/ccs&quot;</td><td>4</td><td>&quot;CNCO&quot;</td><td>false</td><td>&quot;chr16_RagTag&quot;</td><td>&quot;PD50489e&quot;</td></tr><tr><td>&quot;m64178e_220829_002441/168888553/ccs&quot;</td><td>4</td><td>&quot;CNCO&quot;</td><td>false</td><td>&quot;chr17_RagTag&quot;</td><td>&quot;PD50477f&quot;</td></tr><tr><td>&quot;m64221e_220814_084225/165216710/ccs&quot;</td><td>3</td><td>&quot;CNCO&quot;</td><td>false</td><td>&quot;chr17_RagTag&quot;</td><td>&quot;PD50519d&quot;</td></tr><tr><td>&quot;m64221e_220811_133409/51971280/ccs&quot;</td><td>3</td><td>&quot;CNCO&quot;</td><td>false</td><td>&quot;chr17_RagTag&quot;</td><td>&quot;PD50519d&quot;</td></tr><tr><td>&quot;m64229e_220909_150132/164891410/ccs&quot;</td><td>4</td><td>&quot;CNCO&quot;</td><td>false</td><td>&quot;chr17_RagTag&quot;</td><td>&quot;PD50521b&quot;</td></tr><tr><td>&quot;m64229e_220912_125215/41027552/ccs&quot;</td><td>4</td><td>&quot;CNCO&quot;</td><td>false</td><td>&quot;chr17_RagTag&quot;</td><td>&quot;PD50521b&quot;</td></tr><tr><td>&quot;m64178e_220824_153720/73007753/ccs&quot;</td><td>4</td><td>&quot;CNCO&quot;</td><td>false</td><td>&quot;chr17_RagTag&quot;</td><td>&quot;PD46180c&quot;</td></tr><tr><td>&quot;m64174e_220620_110709/127796270/ccs&quot;</td><td>5</td><td>&quot;CNCO&quot;</td><td>false</td><td>&quot;chr17_RagTag&quot;</td><td>&quot;PD50489e&quot;</td></tr><tr><td>&quot;m64094e_220717_002414/68485538/ccs&quot;</td><td>5</td><td>&quot;CNCO&quot;</td><td>false</td><td>&quot;chr17_RagTag&quot;</td><td>&quot;PD50489e&quot;</td></tr><tr><td>&quot;m64229e_220912_125215/23137103/ccs&quot;</td><td>6</td><td>&quot;CNCO&quot;</td><td>false</td><td>&quot;chr18_RagTag&quot;</td><td>&quot;PD50521b&quot;</td></tr><tr><td>&quot;m64016e_220904_102424/1115690/ccs&quot;</td><td>6</td><td>&quot;CNCO&quot;</td><td>false</td><td>&quot;chr18_RagTag&quot;</td><td>&quot;PD46180c&quot;</td></tr><tr><td>&quot;m64222e_220805_105329/52429735/ccs&quot;</td><td>5</td><td>&quot;CNCO&quot;</td><td>false</td><td>&quot;chr18_RagTag&quot;</td><td>&quot;PD50521e&quot;</td></tr><tr><td>&quot;m64178e_220829_002441/154992777/ccs&quot;</td><td>3</td><td>&quot;CNCO&quot;</td><td>false</td><td>&quot;chr19_RagTag&quot;</td><td>&quot;PD50477f&quot;</td></tr><tr><td>&quot;m64178e_220829_002441/179766263/ccs&quot;</td><td>5</td><td>&quot;CNCO&quot;</td><td>false</td><td>&quot;chr19_RagTag&quot;</td><td>&quot;PD50477f&quot;</td></tr><tr><td>&quot;m64221e_220811_133409/101976780/ccs&quot;</td><td>7</td><td>&quot;CNCO&quot;</td><td>false</td><td>&quot;chr20_RagTag&quot;</td><td>&quot;PD50519d&quot;</td></tr><tr><td>&quot;m64221e_220811_133409/60230481/ccs&quot;</td><td>3</td><td>&quot;CNCO&quot;</td><td>false</td><td>&quot;chr20_RagTag&quot;</td><td>&quot;PD50519d&quot;</td></tr><tr><td>&quot;m64178e_220824_153720/63045798/ccs&quot;</td><td>14</td><td>&quot;CNCO&quot;</td><td>false</td><td>&quot;chr20_RagTag&quot;</td><td>&quot;PD46180c&quot;</td></tr><tr><td>&quot;m64222e_220804_013319/150276354/ccs&quot;</td><td>5</td><td>&quot;CNCO&quot;</td><td>false</td><td>&quot;chr21_RagTag&quot;</td><td>&quot;PD50519d&quot;</td></tr><tr><td>&quot;m64222e_220804_013319/101713237/ccs&quot;</td><td>6</td><td>&quot;CNCO&quot;</td><td>false</td><td>&quot;chr21_RagTag&quot;</td><td>&quot;PD50519d&quot;</td></tr><tr><td>&quot;m64094e_220916_121850/40501496/ccs&quot;</td><td>3</td><td>&quot;CNCO&quot;</td><td>false</td><td>&quot;chr21_RagTag&quot;</td><td>&quot;PD46180c&quot;</td></tr><tr><td>&quot;m64094e_220917_231317/71303656/ccs&quot;</td><td>9</td><td>&quot;CNCO&quot;</td><td>false</td><td>&quot;chr22_RagTag&quot;</td><td>&quot;PD50477f&quot;</td></tr><tr><td>&quot;m64222e_220804_013319/104270027/ccs&quot;</td><td>4</td><td>&quot;CNCO&quot;</td><td>false</td><td>&quot;chr22_RagTag&quot;</td><td>&quot;PD50519d&quot;</td></tr><tr><td>&quot;m64229e_220912_125215/143130982/ccs&quot;</td><td>9</td><td>&quot;CNCO&quot;</td><td>false</td><td>&quot;chr22_RagTag&quot;</td><td>&quot;PD50521b&quot;</td></tr><tr><td>&quot;m64016e_220901_135237/79495460/ccs&quot;</td><td>5</td><td>&quot;CNCO&quot;</td><td>false</td><td>&quot;chr22_RagTag&quot;</td><td>&quot;PD50521b&quot;</td></tr><tr><td>&quot;m64178e_220824_153720/96535162/ccs&quot;</td><td>5</td><td>&quot;CNCO&quot;</td><td>false</td><td>&quot;chr22_RagTag&quot;</td><td>&quot;PD46180c&quot;</td></tr><tr><td>&quot;m64178e_220824_153720/172884010/ccs&quot;</td><td>3</td><td>&quot;CNCO&quot;</td><td>false</td><td>&quot;chr22_RagTag&quot;</td><td>&quot;PD46180c&quot;</td></tr><tr><td>&quot;m64221e_220812_230038/159449414/ccs&quot;</td><td>3</td><td>&quot;CNCO&quot;</td><td>false</td><td>&quot;chr22_RagTag&quot;</td><td>&quot;PD50521e&quot;</td></tr><tr><td>&quot;m64221e_220812_230038/157353213/ccs&quot;</td><td>3</td><td>&quot;CNCO&quot;</td><td>false</td><td>&quot;chr22_RagTag&quot;</td><td>&quot;PD50521e&quot;</td></tr></tbody></table></div>"
      ],
      "text/plain": [
       "shape: (261, 6)\n",
       "┌───────────────────────┬───────────────┬───────┬───────────────────────┬──────────────┬───────────┐\n",
       "│ read_name             ┆ n_transitions ┆ class ┆ has_common_transition ┆ chrom        ┆ sample_id │\n",
       "│ ---                   ┆ ---           ┆ ---   ┆ ---                   ┆ ---          ┆ ---       │\n",
       "│ str                   ┆ i64           ┆ str   ┆ bool                  ┆ str          ┆ str       │\n",
       "╞═══════════════════════╪═══════════════╪═══════╪═══════════════════════╪══════════════╪═══════════╡\n",
       "│ m64094e_220917_231317 ┆ 5             ┆ CNCO  ┆ false                 ┆ chr1_RagTag  ┆ PD50477f  │\n",
       "│ /13764395/ccs         ┆               ┆       ┆                       ┆              ┆           │\n",
       "│ m64230e_220906_003948 ┆ 4             ┆ CNCO  ┆ false                 ┆ chr1_RagTag  ┆ PD50477f  │\n",
       "│ /134744140/ccs        ┆               ┆       ┆                       ┆              ┆           │\n",
       "│ m64178e_220829_002441 ┆ 7             ┆ CNCO  ┆ false                 ┆ chr1_RagTag  ┆ PD50477f  │\n",
       "│ /6554636/ccs          ┆               ┆       ┆                       ┆              ┆           │\n",
       "│ m64222e_220804_013319 ┆ 7             ┆ CNCO  ┆ false                 ┆ chr1_RagTag  ┆ PD50519d  │\n",
       "│ /31917386/ccs         ┆               ┆       ┆                       ┆              ┆           │\n",
       "│ m64221e_220814_084225 ┆ 7             ┆ CNCO  ┆ false                 ┆ chr1_RagTag  ┆ PD50519d  │\n",
       "│ /89721435/ccs         ┆               ┆       ┆                       ┆              ┆           │\n",
       "│ m64221e_220811_133409 ┆ 4             ┆ CNCO  ┆ false                 ┆ chr1_RagTag  ┆ PD50519d  │\n",
       "│ /56033730/ccs         ┆               ┆       ┆                       ┆              ┆           │\n",
       "│ m64221e_220811_133409 ┆ 3             ┆ CNCO  ┆ false                 ┆ chr1_RagTag  ┆ PD50519d  │\n",
       "│ /5636632/ccs          ┆               ┆       ┆                       ┆              ┆           │\n",
       "│ m64222e_220804_013319 ┆ 4             ┆ CNCO  ┆ false                 ┆ chr1_RagTag  ┆ PD50519d  │\n",
       "│ /119603965/ccs        ┆               ┆       ┆                       ┆              ┆           │\n",
       "│ m64016e_220903_004635 ┆ 3             ┆ CNCO  ┆ false                 ┆ chr1_RagTag  ┆ PD50523b  │\n",
       "│ /42666207/ccs         ┆               ┆       ┆                       ┆              ┆           │\n",
       "│ m64016e_220903_004635 ┆ 4             ┆ CNCO  ┆ false                 ┆ chr1_RagTag  ┆ PD50523b  │\n",
       "│ /83036905/ccs         ┆               ┆       ┆                       ┆              ┆           │\n",
       "│ m64016e_220901_135237 ┆ 4             ┆ CNCO  ┆ false                 ┆ chr1_RagTag  ┆ PD50521b  │\n",
       "│ /91096005/ccs         ┆               ┆       ┆                       ┆              ┆           │\n",
       "│ m64229e_220912_125215 ┆ 4             ┆ CNCO  ┆ false                 ┆ chr1_RagTag  ┆ PD50521b  │\n",
       "│ /42665250/ccs         ┆               ┆       ┆                       ┆              ┆           │\n",
       "│ m64229e_220912_125215 ┆ 8             ┆ CNCO  ┆ false                 ┆ chr1_RagTag  ┆ PD50521b  │\n",
       "│ /88671015/ccs         ┆               ┆       ┆                       ┆              ┆           │\n",
       "│ m64229e_220909_150132 ┆ 3             ┆ CNCO  ┆ false                 ┆ chr1_RagTag  ┆ PD50521b  │\n",
       "│ /125174727/ccs        ┆               ┆       ┆                       ┆              ┆           │\n",
       "│ m64229e_220912_125215 ┆ 4             ┆ CNCO  ┆ false                 ┆ chr1_RagTag  ┆ PD50521b  │\n",
       "│ /88869561/ccs         ┆               ┆       ┆                       ┆              ┆           │\n",
       "│ m64229e_220909_150132 ┆ 8             ┆ CNCO  ┆ false                 ┆ chr1_RagTag  ┆ PD50521b  │\n",
       "│ /33360677/ccs         ┆               ┆       ┆                       ┆              ┆           │\n",
       "│ m64229e_220912_125215 ┆ 4             ┆ CNCO  ┆ false                 ┆ chr1_RagTag  ┆ PD50521b  │\n",
       "│ /139461465/ccs        ┆               ┆       ┆                       ┆              ┆           │\n",
       "│ m64016e_220901_135237 ┆ 7             ┆ CNCO  ┆ false                 ┆ chr1_RagTag  ┆ PD50521b  │\n",
       "│ /65274865/ccs         ┆               ┆       ┆                       ┆              ┆           │\n",
       "│ m64016e_220904_102424 ┆ 11            ┆ CNCO  ┆ false                 ┆ chr1_RagTag  ┆ PD46180c  │\n",
       "│ /111739639/ccs        ┆               ┆       ┆                       ┆              ┆           │\n",
       "│ m64222e_220805_105329 ┆ 3             ┆ CNCO  ┆ false                 ┆ chr1_RagTag  ┆ PD50521e  │\n",
       "│ /145688229/ccs        ┆               ┆       ┆                       ┆              ┆           │\n",
       "│ m64222e_220805_105329 ┆ 4             ┆ CNCO  ┆ false                 ┆ chr1_RagTag  ┆ PD50521e  │\n",
       "│ /98239860/ccs         ┆               ┆       ┆                       ┆              ┆           │\n",
       "│ m64221e_220812_230038 ┆ 3             ┆ CNCO  ┆ false                 ┆ chr1_RagTag  ┆ PD50521e  │\n",
       "│ /125241023/ccs        ┆               ┆       ┆                       ┆              ┆           │\n",
       "│ m64222e_220805_105329 ┆ 3             ┆ CNCO  ┆ false                 ┆ chr1_RagTag  ┆ PD50521e  │\n",
       "│ /90769601/ccs         ┆               ┆       ┆                       ┆              ┆           │\n",
       "│ m64178e_220829_002441 ┆ 13            ┆ CNCO  ┆ false                 ┆ chr2_RagTag  ┆ PD50477f  │\n",
       "│ /87425106/ccs         ┆               ┆       ┆                       ┆              ┆           │\n",
       "│ m64094e_220917_231317 ┆ 3             ┆ CNCO  ┆ false                 ┆ chr2_RagTag  ┆ PD50477f  │\n",
       "│ /47385200/ccs         ┆               ┆       ┆                       ┆              ┆           │\n",
       "│ m64230e_220906_003948 ┆ 4             ┆ CNCO  ┆ false                 ┆ chr2_RagTag  ┆ PD50477f  │\n",
       "│ /11534702/ccs         ┆               ┆       ┆                       ┆              ┆           │\n",
       "│ m64094e_220917_231317 ┆ 6             ┆ CNCO  ┆ false                 ┆ chr2_RagTag  ┆ PD50477f  │\n",
       "│ /93260587/ccs         ┆               ┆       ┆                       ┆              ┆           │\n",
       "│ m64221e_220814_084225 ┆ 3             ┆ CNCO  ┆ false                 ┆ chr2_RagTag  ┆ PD50519d  │\n",
       "│ /170131831/ccs        ┆               ┆       ┆                       ┆              ┆           │\n",
       "│ m64221e_220814_084225 ┆ 4             ┆ CNCO  ┆ false                 ┆ chr2_RagTag  ┆ PD50519d  │\n",
       "│ /178913403/ccs        ┆               ┆       ┆                       ┆              ┆           │\n",
       "│ m64222e_220804_013319 ┆ 3             ┆ CNCO  ┆ false                 ┆ chr2_RagTag  ┆ PD50519d  │\n",
       "│ /52363900/ccs         ┆               ┆       ┆                       ┆              ┆           │\n",
       "│ m64221e_220811_133409 ┆ 3             ┆ CNCO  ┆ false                 ┆ chr2_RagTag  ┆ PD50519d  │\n",
       "│ /137298817/ccs        ┆               ┆       ┆                       ┆              ┆           │\n",
       "│ m64222e_220804_013319 ┆ 3             ┆ CNCO  ┆ false                 ┆ chr2_RagTag  ┆ PD50519d  │\n",
       "│ /52101322/ccs         ┆               ┆       ┆                       ┆              ┆           │\n",
       "│ m64221e_220811_133409 ┆ 5             ┆ CNCO  ┆ false                 ┆ chr2_RagTag  ┆ PD50519d  │\n",
       "│ /122160675/ccs        ┆               ┆       ┆                       ┆              ┆           │\n",
       "│ m64222e_220804_013319 ┆ 11            ┆ CNCO  ┆ false                 ┆ chr2_RagTag  ┆ PD50519d  │\n",
       "│ /18613557/ccs         ┆               ┆       ┆                       ┆              ┆           │\n",
       "│ m64229e_220911_015559 ┆ 4             ┆ CNCO  ┆ false                 ┆ chr2_RagTag  ┆ PD50523b  │\n",
       "│ /59966437/ccs         ┆               ┆       ┆                       ┆              ┆           │\n",
       "│ m64229e_220911_015559 ┆ 4             ┆ CNCO  ┆ false                 ┆ chr2_RagTag  ┆ PD50523b  │\n",
       "│ /54657522/ccs         ┆               ┆       ┆                       ┆              ┆           │\n",
       "│ m64016e_220901_135237 ┆ 3             ┆ CNCO  ┆ false                 ┆ chr2_RagTag  ┆ PD50521b  │\n",
       "│ /169083528/ccs        ┆               ┆       ┆                       ┆              ┆           │\n",
       "│ m64229e_220912_125215 ┆ 3             ┆ CNCO  ┆ false                 ┆ chr2_RagTag  ┆ PD50521b  │\n",
       "│ /38993949/ccs         ┆               ┆       ┆                       ┆              ┆           │\n",
       "│ m64229e_220912_125215 ┆ 6             ┆ CNCO  ┆ false                 ┆ chr2_RagTag  ┆ PD50521b  │\n",
       "│ /141099061/ccs        ┆               ┆       ┆                       ┆              ┆           │\n",
       "│ m64016e_220901_135237 ┆ 4             ┆ CNCO  ┆ false                 ┆ chr2_RagTag  ┆ PD50521b  │\n",
       "│ /78318196/ccs         ┆               ┆       ┆                       ┆              ┆           │\n",
       "│ m64229e_220909_150132 ┆ 4             ┆ CNCO  ┆ false                 ┆ chr2_RagTag  ┆ PD50521b  │\n",
       "│ /158008100/ccs        ┆               ┆       ┆                       ┆              ┆           │\n",
       "│ m64229e_220912_125215 ┆ 3             ┆ CNCO  ┆ false                 ┆ chr2_RagTag  ┆ PD50521b  │\n",
       "│ /176096958/ccs        ┆               ┆       ┆                       ┆              ┆           │\n",
       "│ m64016e_220905_200242 ┆ 3             ┆ CNCO  ┆ false                 ┆ chr2_RagTag  ┆ PD50508b  │\n",
       "│ /55707953/ccs         ┆               ┆       ┆                       ┆              ┆           │\n",
       "│ m64094e_220916_121850 ┆ 3             ┆ CNCO  ┆ false                 ┆ chr2_RagTag  ┆ PD46180c  │\n",
       "│ /77332663/ccs         ┆               ┆       ┆                       ┆              ┆           │\n",
       "│ m64178e_220824_153720 ┆ 6             ┆ CNCO  ┆ false                 ┆ chr2_RagTag  ┆ PD46180c  │\n",
       "│ /121244365/ccs        ┆               ┆       ┆                       ┆              ┆           │\n",
       "│ m64094e_220916_121850 ┆ 6             ┆ CNCO  ┆ false                 ┆ chr2_RagTag  ┆ PD46180c  │\n",
       "│ /71239505/ccs         ┆               ┆       ┆                       ┆              ┆           │\n",
       "│ m64016e_220904_102424 ┆ 7             ┆ CNCO  ┆ false                 ┆ chr2_RagTag  ┆ PD46180c  │\n",
       "│ /128057825/ccs        ┆               ┆       ┆                       ┆              ┆           │\n",
       "│ m64016e_220904_102424 ┆ 5             ┆ CNCO  ┆ false                 ┆ chr2_RagTag  ┆ PD46180c  │\n",
       "│ /83888456/ccs         ┆               ┆       ┆                       ┆              ┆           │\n",
       "│ m64016e_220904_102424 ┆ 5             ┆ CNCO  ┆ false                 ┆ chr2_RagTag  ┆ PD46180c  │\n",
       "│ /95551706/ccs         ┆               ┆       ┆                       ┆              ┆           │\n",
       "│ m64222e_220805_105329 ┆ 3             ┆ CNCO  ┆ false                 ┆ chr2_RagTag  ┆ PD50521e  │\n",
       "│ /110693106/ccs        ┆               ┆       ┆                       ┆              ┆           │\n",
       "│ m64221e_220812_230038 ┆ 4             ┆ CNCO  ┆ false                 ┆ chr2_RagTag  ┆ PD50521e  │\n",
       "│ /138873420/ccs        ┆               ┆       ┆                       ┆              ┆           │\n",
       "│ m64221e_220812_230038 ┆ 12            ┆ CNCO  ┆ false                 ┆ chr2_RagTag  ┆ PD50521e  │\n",
       "│ /17827513/ccs         ┆               ┆       ┆                       ┆              ┆           │\n",
       "│ m64016e_220816_095555 ┆ 9             ┆ CNCO  ┆ false                 ┆ chr2_RagTag  ┆ PD50521e  │\n",
       "│ /28508260/ccs         ┆               ┆       ┆                       ┆              ┆           │\n",
       "│ m64221e_220812_230038 ┆ 3             ┆ CNCO  ┆ false                 ┆ chr2_RagTag  ┆ PD50521e  │\n",
       "│ /102498649/ccs        ┆               ┆       ┆                       ┆              ┆           │\n",
       "│ m64094e_220715_151527 ┆ 3             ┆ CNCO  ┆ false                 ┆ chr2_RagTag  ┆ PD50489e  │\n",
       "│ /128845956/ccs        ┆               ┆       ┆                       ┆              ┆           │\n",
       "│ m64178e_220829_002441 ┆ 3             ┆ CNCO  ┆ false                 ┆ chr3_RagTag  ┆ PD50477f  │\n",
       "│ /15075825/ccs         ┆               ┆       ┆                       ┆              ┆           │\n",
       "│ m64230e_220906_003948 ┆ 7             ┆ CNCO  ┆ false                 ┆ chr3_RagTag  ┆ PD50477f  │\n",
       "│ /151717598/ccs        ┆               ┆       ┆                       ┆              ┆           │\n",
       "│ m64221e_220811_133409 ┆ 7             ┆ CNCO  ┆ false                 ┆ chr3_RagTag  ┆ PD50519d  │\n",
       "│ /101451364/ccs        ┆               ┆       ┆                       ┆              ┆           │\n",
       "│ m64178e_220827_132801 ┆ 4             ┆ CNCO  ┆ false                 ┆ chr3_RagTag  ┆ PD50508f  │\n",
       "│ /62720217/ccs         ┆               ┆       ┆                       ┆              ┆           │\n",
       "│ m64229e_220911_015559 ┆ 4             ┆ CNCO  ┆ false                 ┆ chr3_RagTag  ┆ PD50523b  │\n",
       "│ /135070875/ccs        ┆               ┆       ┆                       ┆              ┆           │\n",
       "│ m64016e_220901_135237 ┆ 11            ┆ CNCO  ┆ false                 ┆ chr3_RagTag  ┆ PD50521b  │\n",
       "│ /30998920/ccs         ┆               ┆       ┆                       ┆              ┆           │\n",
       "│ m64229e_220912_125215 ┆ 7             ┆ CNCO  ┆ false                 ┆ chr3_RagTag  ┆ PD50521b  │\n",
       "│ /74319531/ccs         ┆               ┆       ┆                       ┆              ┆           │\n",
       "│ m64016e_220901_135237 ┆ 3             ┆ CNCO  ┆ false                 ┆ chr3_RagTag  ┆ PD50521b  │\n",
       "│ /84346723/ccs         ┆               ┆       ┆                       ┆              ┆           │\n",
       "│ m64229e_220909_150132 ┆ 14            ┆ CNCO  ┆ false                 ┆ chr3_RagTag  ┆ PD50521b  │\n",
       "│ /12977941/ccs         ┆               ┆       ┆                       ┆              ┆           │\n",
       "│ m64016e_220904_102424 ┆ 4             ┆ CNCO  ┆ false                 ┆ chr3_RagTag  ┆ PD46180c  │\n",
       "│ /18416959/ccs         ┆               ┆       ┆                       ┆              ┆           │\n",
       "│ m64221e_220812_230038 ┆ 8             ┆ CNCO  ┆ false                 ┆ chr3_RagTag  ┆ PD50521e  │\n",
       "│ /134089495/ccs        ┆               ┆       ┆                       ┆              ┆           │\n",
       "│ m64221e_220812_230038 ┆ 5             ┆ CNCO  ┆ false                 ┆ chr3_RagTag  ┆ PD50521e  │\n",
       "│ /127730292/ccs        ┆               ┆       ┆                       ┆              ┆           │\n",
       "│ m64221e_220812_230038 ┆ 4             ┆ CNCO  ┆ false                 ┆ chr3_RagTag  ┆ PD50521e  │\n",
       "│ /71237761/ccs         ┆               ┆       ┆                       ┆              ┆           │\n",
       "│ m64174e_220620_110709 ┆ 3             ┆ CNCO  ┆ false                 ┆ chr3_RagTag  ┆ PD50489e  │\n",
       "│ /130156548/ccs        ┆               ┆       ┆                       ┆              ┆           │\n",
       "│ m64174e_220620_110709 ┆ 3             ┆ CNCO  ┆ false                 ┆ chr3_RagTag  ┆ PD50489e  │\n",
       "│ /158532646/ccs        ┆               ┆       ┆                       ┆              ┆           │\n",
       "│ m64174e_220620_110709 ┆ 4             ┆ CNCO  ┆ false                 ┆ chr3_RagTag  ┆ PD50489e  │\n",
       "│ /66456335/ccs         ┆               ┆       ┆                       ┆              ┆           │\n",
       "│ m64094e_220715_151527 ┆ 3             ┆ CNCO  ┆ false                 ┆ chr3_RagTag  ┆ PD50489e  │\n",
       "│ /166658372/ccs        ┆               ┆       ┆                       ┆              ┆           │\n",
       "│ m64094e_220715_151527 ┆ 3             ┆ CNCO  ┆ false                 ┆ chr3_RagTag  ┆ PD50489e  │\n",
       "│ /122424120/ccs        ┆               ┆       ┆                       ┆              ┆           │\n",
       "│ m64178e_220829_002441 ┆ 7             ┆ CNCO  ┆ false                 ┆ chr4_RagTag  ┆ PD50477f  │\n",
       "│ /38209523/ccs         ┆               ┆       ┆                       ┆              ┆           │\n",
       "│ m64221e_220814_084225 ┆ 4             ┆ CNCO  ┆ false                 ┆ chr4_RagTag  ┆ PD50519d  │\n",
       "│ /70910346/ccs         ┆               ┆       ┆                       ┆              ┆           │\n",
       "│ m64221e_220811_133409 ┆ 4             ┆ CNCO  ┆ false                 ┆ chr4_RagTag  ┆ PD50519d  │\n",
       "│ /127862966/ccs        ┆               ┆       ┆                       ┆              ┆           │\n",
       "│ m64222e_220804_013319 ┆ 4             ┆ CNCO  ┆ false                 ┆ chr4_RagTag  ┆ PD50519d  │\n",
       "│ /94438531/ccs         ┆               ┆       ┆                       ┆              ┆           │\n",
       "│ m64221e_220814_084225 ┆ 3             ┆ CNCO  ┆ false                 ┆ chr4_RagTag  ┆ PD50519d  │\n",
       "│ /77136252/ccs         ┆               ┆       ┆                       ┆              ┆           │\n",
       "│ m64222e_220804_013319 ┆ 4             ┆ CNCO  ┆ false                 ┆ chr4_RagTag  ┆ PD50519d  │\n",
       "│ /34801852/ccs         ┆               ┆       ┆                       ┆              ┆           │\n",
       "│ m64016e_220901_135237 ┆ 4             ┆ CNCO  ┆ false                 ┆ chr4_RagTag  ┆ PD50521b  │\n",
       "│ /82512095/ccs         ┆               ┆       ┆                       ┆              ┆           │\n",
       "│ m64229e_220909_150132 ┆ 4             ┆ CNCO  ┆ false                 ┆ chr4_RagTag  ┆ PD50521b  │\n",
       "│ /126421230/ccs        ┆               ┆       ┆                       ┆              ┆           │\n",
       "│ m64016e_220901_135237 ┆ 9             ┆ CNCO  ┆ false                 ┆ chr4_RagTag  ┆ PD50521b  │\n",
       "│ /3672424/ccs          ┆               ┆       ┆                       ┆              ┆           │\n",
       "│ m64016e_220901_135237 ┆ 3             ┆ CNCO  ┆ false                 ┆ chr4_RagTag  ┆ PD50521b  │\n",
       "│ /91163056/ccs         ┆               ┆       ┆                       ┆              ┆           │\n",
       "│ m64016e_220901_135237 ┆ 12            ┆ CNCO  ┆ false                 ┆ chr4_RagTag  ┆ PD50521b  │\n",
       "│ /82968814/ccs         ┆               ┆       ┆                       ┆              ┆           │\n",
       "│ m64016e_220904_102424 ┆ 3             ┆ CNCO  ┆ false                 ┆ chr4_RagTag  ┆ PD46180c  │\n",
       "│ /118489519/ccs        ┆               ┆       ┆                       ┆              ┆           │\n",
       "│ m64178e_220824_153720 ┆ 4             ┆ CNCO  ┆ false                 ┆ chr4_RagTag  ┆ PD46180c  │\n",
       "│ /78317504/ccs         ┆               ┆       ┆                       ┆              ┆           │\n",
       "│ m64221e_220812_230038 ┆ 7             ┆ CNCO  ┆ false                 ┆ chr4_RagTag  ┆ PD50521e  │\n",
       "│ /2098142/ccs          ┆               ┆       ┆                       ┆              ┆           │\n",
       "│ m64221e_220812_230038 ┆ 3             ┆ CNCO  ┆ false                 ┆ chr4_RagTag  ┆ PD50521e  │\n",
       "│ /173999175/ccs        ┆               ┆       ┆                       ┆              ┆           │\n",
       "│ m64174e_220620_110709 ┆ 3             ┆ CNCO  ┆ false                 ┆ chr4_RagTag  ┆ PD50489e  │\n",
       "│ /54265674/ccs         ┆               ┆       ┆                       ┆              ┆           │\n",
       "│ m64230e_220906_003948 ┆ 3             ┆ CNCO  ┆ false                 ┆ chr5_RagTag  ┆ PD50477f  │\n",
       "│ /42927344/ccs         ┆               ┆       ┆                       ┆              ┆           │\n",
       "│ m64178e_220829_002441 ┆ 7             ┆ CNCO  ┆ false                 ┆ chr5_RagTag  ┆ PD50477f  │\n",
       "│ /106039300/ccs        ┆               ┆       ┆                       ┆              ┆           │\n",
       "│ m64178e_220829_002441 ┆ 8             ┆ CNCO  ┆ false                 ┆ chr5_RagTag  ┆ PD50477f  │\n",
       "│ /92080034/ccs         ┆               ┆       ┆                       ┆              ┆           │\n",
       "│ m64221e_220811_133409 ┆ 4             ┆ CNCO  ┆ false                 ┆ chr5_RagTag  ┆ PD50519d  │\n",
       "│ /34144702/ccs         ┆               ┆       ┆                       ┆              ┆           │\n",
       "│ m64221e_220814_084225 ┆ 8             ┆ CNCO  ┆ false                 ┆ chr5_RagTag  ┆ PD50519d  │\n",
       "│ /115868018/ccs        ┆               ┆       ┆                       ┆              ┆           │\n",
       "│ m64229e_220911_015559 ┆ 4             ┆ CNCO  ┆ false                 ┆ chr5_RagTag  ┆ PD50523b  │\n",
       "│ /21365314/ccs         ┆               ┆       ┆                       ┆              ┆           │\n",
       "│ m64229e_220911_015559 ┆ 3             ┆ CNCO  ┆ false                 ┆ chr5_RagTag  ┆ PD50523b  │\n",
       "│ /19267763/ccs         ┆               ┆       ┆                       ┆              ┆           │\n",
       "│ m64229e_220912_125215 ┆ 8             ┆ CNCO  ┆ false                 ┆ chr5_RagTag  ┆ PD50521b  │\n",
       "│ /104793097/ccs        ┆               ┆       ┆                       ┆              ┆           │\n",
       "│ m64016e_220901_135237 ┆ 7             ┆ CNCO  ┆ false                 ┆ chr5_RagTag  ┆ PD50521b  │\n",
       "│ /160107246/ccs        ┆               ┆       ┆                       ┆              ┆           │\n",
       "│ m64229e_220912_125215 ┆ 5             ┆ CNCO  ┆ false                 ┆ chr5_RagTag  ┆ PD50521b  │\n",
       "│ /108200397/ccs        ┆               ┆       ┆                       ┆              ┆           │\n",
       "│ m64016e_220901_135237 ┆ 4             ┆ CNCO  ┆ false                 ┆ chr5_RagTag  ┆ PD50521b  │\n",
       "│ /84740588/ccs         ┆               ┆       ┆                       ┆              ┆           │\n",
       "│ m64229e_220912_125215 ┆ 4             ┆ CNCO  ┆ false                 ┆ chr5_RagTag  ┆ PD50521b  │\n",
       "│ /137628020/ccs        ┆               ┆       ┆                       ┆              ┆           │\n",
       "│ m64229e_220909_150132 ┆ 3             ┆ CNCO  ┆ false                 ┆ chr5_RagTag  ┆ PD50521b  │\n",
       "│ /76939964/ccs         ┆               ┆       ┆                       ┆              ┆           │\n",
       "│ m64229e_220912_125215 ┆ 4             ┆ CNCO  ┆ false                 ┆ chr5_RagTag  ┆ PD50521b  │\n",
       "│ /120587248/ccs        ┆               ┆       ┆                       ┆              ┆           │\n",
       "│ m64221e_220812_230038 ┆ 4             ┆ CNCO  ┆ false                 ┆ chr5_RagTag  ┆ PD50521e  │\n",
       "│ /150798608/ccs        ┆               ┆       ┆                       ┆              ┆           │\n",
       "│ m64221e_220812_230038 ┆ 6             ┆ CNCO  ┆ false                 ┆ chr5_RagTag  ┆ PD50521e  │\n",
       "│ /115606686/ccs        ┆               ┆       ┆                       ┆              ┆           │\n",
       "│ m64094e_220717_002414 ┆ 4             ┆ CNCO  ┆ false                 ┆ chr5_RagTag  ┆ PD50489e  │\n",
       "│ /130419535/ccs        ┆               ┆       ┆                       ┆              ┆           │\n",
       "│ m64222e_220804_013319 ┆ 6             ┆ CNCO  ┆ false                 ┆ chr6_RagTag  ┆ PD50519d  │\n",
       "│ /90638283/ccs         ┆               ┆       ┆                       ┆              ┆           │\n",
       "│ m64221e_220811_133409 ┆ 3             ┆ CNCO  ┆ false                 ┆ chr6_RagTag  ┆ PD50519d  │\n",
       "│ /156893652/ccs        ┆               ┆       ┆                       ┆              ┆           │\n",
       "│ m64222e_220804_013319 ┆ 3             ┆ CNCO  ┆ false                 ┆ chr6_RagTag  ┆ PD50519d  │\n",
       "│ /130221407/ccs        ┆               ┆       ┆                       ┆              ┆           │\n",
       "│ m64229e_220911_015559 ┆ 7             ┆ CNCO  ┆ false                 ┆ chr6_RagTag  ┆ PD50523b  │\n",
       "│ /131269934/ccs        ┆               ┆       ┆                       ┆              ┆           │\n",
       "│ m64016e_220903_004635 ┆ 3             ┆ CNCO  ┆ false                 ┆ chr6_RagTag  ┆ PD50523b  │\n",
       "│ /30868112/ccs         ┆               ┆       ┆                       ┆              ┆           │\n",
       "│ m64229e_220913_234845 ┆ 5             ┆ CNCO  ┆ false                 ┆ chr6_RagTag  ┆ PD50523b  │\n",
       "│ /53480029/ccs         ┆               ┆       ┆                       ┆              ┆           │\n",
       "│ m64016e_220901_135237 ┆ 6             ┆ CNCO  ┆ false                 ┆ chr6_RagTag  ┆ PD50521b  │\n",
       "│ /123338808/ccs        ┆               ┆       ┆                       ┆              ┆           │\n",
       "│ m64229e_220909_150132 ┆ 5             ┆ CNCO  ┆ false                 ┆ chr6_RagTag  ┆ PD50521b  │\n",
       "│ /133302940/ccs        ┆               ┆       ┆                       ┆              ┆           │\n",
       "│ m64016e_220901_135237 ┆ 4             ┆ CNCO  ┆ false                 ┆ chr6_RagTag  ┆ PD50521b  │\n",
       "│ /160106810/ccs        ┆               ┆       ┆                       ┆              ┆           │\n",
       "│ m64178e_220826_023135 ┆ 3             ┆ CNCO  ┆ false                 ┆ chr6_RagTag  ┆ PD50508b  │\n",
       "│ /46467159/ccs         ┆               ┆       ┆                       ┆              ┆           │\n",
       "│ m64016e_220904_102424 ┆ 8             ┆ CNCO  ┆ false                 ┆ chr6_RagTag  ┆ PD46180c  │\n",
       "│ /77728288/ccs         ┆               ┆       ┆                       ┆              ┆           │\n",
       "│ m64016e_220904_102424 ┆ 18            ┆ CNCO  ┆ false                 ┆ chr6_RagTag  ┆ PD46180c  │\n",
       "│ /22415576/ccs         ┆               ┆       ┆                       ┆              ┆           │\n",
       "│ m64178e_220824_153720 ┆ 8             ┆ CNCO  ┆ false                 ┆ chr6_RagTag  ┆ PD46180c  │\n",
       "│ /176751905/ccs        ┆               ┆       ┆                       ┆              ┆           │\n",
       "│ m64016e_220904_102424 ┆ 6             ┆ CNCO  ┆ false                 ┆ chr6_RagTag  ┆ PD46180c  │\n",
       "│ /158270118/ccs        ┆               ┆       ┆                       ┆              ┆           │\n",
       "│ m64178e_220824_153720 ┆ 3             ┆ CNCO  ┆ false                 ┆ chr6_RagTag  ┆ PD46180c  │\n",
       "│ /29754511/ccs         ┆               ┆       ┆                       ┆              ┆           │\n",
       "│ m64222e_220805_105329 ┆ 5             ┆ CNCO  ┆ false                 ┆ chr6_RagTag  ┆ PD50521e  │\n",
       "│ /92342659/ccs         ┆               ┆       ┆                       ┆              ┆           │\n",
       "│ m64016e_220816_095555 ┆ 3             ┆ CNCO  ┆ false                 ┆ chr6_RagTag  ┆ PD50521e  │\n",
       "│ /148441754/ccs        ┆               ┆       ┆                       ┆              ┆           │\n",
       "│ m64221e_220812_230038 ┆ 9             ┆ CNCO  ┆ false                 ┆ chr6_RagTag  ┆ PD50521e  │\n",
       "│ /162990852/ccs        ┆               ┆       ┆                       ┆              ┆           │\n",
       "│ m64174e_220620_110709 ┆ 3             ┆ CNCO  ┆ false                 ┆ chr6_RagTag  ┆ PD50489e  │\n",
       "│ /103023375/ccs        ┆               ┆       ┆                       ┆              ┆           │\n",
       "│ m64230e_220906_003948 ┆ 3             ┆ CNCO  ┆ false                 ┆ chr7_RagTag  ┆ PD50477f  │\n",
       "│ /112461342/ccs        ┆               ┆       ┆                       ┆              ┆           │\n",
       "│ m64178e_220829_002441 ┆ 3             ┆ CNCO  ┆ false                 ┆ chr7_RagTag  ┆ PD50477f  │\n",
       "│ /159056842/ccs        ┆               ┆       ┆                       ┆              ┆           │\n",
       "│ m64094e_220917_231317 ┆ 8             ┆ CNCO  ┆ false                 ┆ chr7_RagTag  ┆ PD50477f  │\n",
       "│ /29558968/ccs         ┆               ┆       ┆                       ┆              ┆           │\n",
       "│ m64178e_220829_002441 ┆ 6             ┆ CNCO  ┆ false                 ┆ chr7_RagTag  ┆ PD50477f  │\n",
       "│ /102631285/ccs        ┆               ┆       ┆                       ┆              ┆           │\n",
       "│ m64178e_220829_002441 ┆ 5             ┆ CNCO  ┆ false                 ┆ chr7_RagTag  ┆ PD50477f  │\n",
       "│ /135136692/ccs        ┆               ┆       ┆                       ┆              ┆           │\n",
       "│ m64221e_220811_133409 ┆ 10            ┆ CNCO  ┆ false                 ┆ chr7_RagTag  ┆ PD50519d  │\n",
       "│ /58133230/ccs         ┆               ┆       ┆                       ┆              ┆           │\n",
       "│ m64221e_220811_133409 ┆ 5             ┆ CNCO  ┆ false                 ┆ chr7_RagTag  ┆ PD50519d  │\n",
       "│ /165544823/ccs        ┆               ┆       ┆                       ┆              ┆           │\n",
       "│ m64016e_220903_004635 ┆ 3             ┆ CNCO  ┆ false                 ┆ chr7_RagTag  ┆ PD50523b  │\n",
       "│ /132252150/ccs        ┆               ┆       ┆                       ┆              ┆           │\n",
       "│ m64016e_220901_135237 ┆ 10            ┆ CNCO  ┆ false                 ┆ chr7_RagTag  ┆ PD50521b  │\n",
       "│ /154731780/ccs        ┆               ┆       ┆                       ┆              ┆           │\n",
       "│ m64229e_220912_125215 ┆ 5             ┆ CNCO  ┆ false                 ┆ chr7_RagTag  ┆ PD50521b  │\n",
       "│ /68026878/ccs         ┆               ┆       ┆                       ┆              ┆           │\n",
       "│ m64229e_220912_125215 ┆ 3             ┆ CNCO  ┆ false                 ┆ chr7_RagTag  ┆ PD50521b  │\n",
       "│ /162204315/ccs        ┆               ┆       ┆                       ┆              ┆           │\n",
       "│ m64229e_220909_150132 ┆ 5             ┆ CNCO  ┆ false                 ┆ chr7_RagTag  ┆ PD50521b  │\n",
       "│ /126092820/ccs        ┆               ┆       ┆                       ┆              ┆           │\n",
       "│ m64229e_220912_125215 ┆ 10            ┆ CNCO  ┆ false                 ┆ chr7_RagTag  ┆ PD50521b  │\n",
       "│ /180487845/ccs        ┆               ┆       ┆                       ┆              ┆           │\n",
       "│ m64016e_220904_102424 ┆ 8             ┆ CNCO  ┆ false                 ┆ chr7_RagTag  ┆ PD46180c  │\n",
       "│ /146148146/ccs        ┆               ┆       ┆                       ┆              ┆           │\n",
       "│ m64094e_220916_121850 ┆ 8             ┆ CNCO  ┆ false                 ┆ chr7_RagTag  ┆ PD46180c  │\n",
       "│ /110823223/ccs        ┆               ┆       ┆                       ┆              ┆           │\n",
       "│ m64178e_220824_153720 ┆ 5             ┆ CNCO  ┆ false                 ┆ chr7_RagTag  ┆ PD46180c  │\n",
       "│ /154667786/ccs        ┆               ┆       ┆                       ┆              ┆           │\n",
       "│ m64016e_220904_102424 ┆ 7             ┆ CNCO  ┆ false                 ┆ chr7_RagTag  ┆ PD46180c  │\n",
       "│ /7930618/ccs          ┆               ┆       ┆                       ┆              ┆           │\n",
       "│ m64094e_220916_121850 ┆ 4             ┆ CNCO  ┆ false                 ┆ chr7_RagTag  ┆ PD46180c  │\n",
       "│ /178323538/ccs        ┆               ┆       ┆                       ┆              ┆           │\n",
       "│ m64178e_220824_153720 ┆ 8             ┆ CNCO  ┆ false                 ┆ chr7_RagTag  ┆ PD46180c  │\n",
       "│ /122881776/ccs        ┆               ┆       ┆                       ┆              ┆           │\n",
       "│ m64221e_220812_230038 ┆ 3             ┆ CNCO  ┆ false                 ┆ chr7_RagTag  ┆ PD50521e  │\n",
       "│ /1574852/ccs          ┆               ┆       ┆                       ┆              ┆           │\n",
       "│ m64094e_220715_151527 ┆ 4             ┆ CNCO  ┆ false                 ┆ chr7_RagTag  ┆ PD50489e  │\n",
       "│ /24117905/ccs         ┆               ┆       ┆                       ┆              ┆           │\n",
       "│ m64094e_220917_231317 ┆ 7             ┆ CNCO  ┆ false                 ┆ chr8_RagTag  ┆ PD50477f  │\n",
       "│ /113902710/ccs        ┆               ┆       ┆                       ┆              ┆           │\n",
       "│ m64222e_220804_013319 ┆ 4             ┆ CNCO  ┆ false                 ┆ chr8_RagTag  ┆ PD50519d  │\n",
       "│ /32179740/ccs         ┆               ┆       ┆                       ┆              ┆           │\n",
       "│ m64221e_220811_133409 ┆ 4             ┆ CNCO  ┆ false                 ┆ chr8_RagTag  ┆ PD50519d  │\n",
       "│ /178653117/ccs        ┆               ┆       ┆                       ┆              ┆           │\n",
       "│ m64221e_220811_133409 ┆ 10            ┆ CNCO  ┆ false                 ┆ chr8_RagTag  ┆ PD50519d  │\n",
       "│ /105972180/ccs        ┆               ┆       ┆                       ┆              ┆           │\n",
       "│ m64016e_220901_135237 ┆ 3             ┆ CNCO  ┆ false                 ┆ chr8_RagTag  ┆ PD50521b  │\n",
       "│ /98436805/ccs         ┆               ┆       ┆                       ┆              ┆           │\n",
       "│ m64229e_220912_125215 ┆ 3             ┆ CNCO  ┆ false                 ┆ chr8_RagTag  ┆ PD50521b  │\n",
       "│ /121440246/ccs        ┆               ┆       ┆                       ┆              ┆           │\n",
       "│ m64229e_220912_125215 ┆ 3             ┆ CNCO  ┆ false                 ┆ chr8_RagTag  ┆ PD50521b  │\n",
       "│ /158402240/ccs        ┆               ┆       ┆                       ┆              ┆           │\n",
       "│ m64016e_220904_102424 ┆ 3             ┆ CNCO  ┆ false                 ┆ chr8_RagTag  ┆ PD46180c  │\n",
       "│ /40371985/ccs         ┆               ┆       ┆                       ┆              ┆           │\n",
       "│ m64222e_220805_105329 ┆ 11            ┆ CNCO  ┆ false                 ┆ chr8_RagTag  ┆ PD50521e  │\n",
       "│ /118423897/ccs        ┆               ┆       ┆                       ┆              ┆           │\n",
       "│ m64222e_220804_013319 ┆ 3             ┆ CNCO  ┆ false                 ┆ chr9_RagTag  ┆ PD50519d  │\n",
       "│ /150668519/ccs        ┆               ┆       ┆                       ┆              ┆           │\n",
       "│ m64229e_220913_234845 ┆ 3             ┆ CNCO  ┆ false                 ┆ chr9_RagTag  ┆ PD50523b  │\n",
       "│ /51775067/ccs         ┆               ┆       ┆                       ┆              ┆           │\n",
       "│ m64016e_220901_135237 ┆ 7             ┆ CNCO  ┆ false                 ┆ chr9_RagTag  ┆ PD50521b  │\n",
       "│ /41550121/ccs         ┆               ┆       ┆                       ┆              ┆           │\n",
       "│ m64229e_220909_150132 ┆ 3             ┆ CNCO  ┆ false                 ┆ chr9_RagTag  ┆ PD50521b  │\n",
       "│ /112921403/ccs        ┆               ┆       ┆                       ┆              ┆           │\n",
       "│ m64094e_220916_121850 ┆ 4             ┆ CNCO  ┆ false                 ┆ chr9_RagTag  ┆ PD46180c  │\n",
       "│ /146146942/ccs        ┆               ┆       ┆                       ┆              ┆           │\n",
       "│ m64016e_220904_102424 ┆ 4             ┆ CNCO  ┆ false                 ┆ chr9_RagTag  ┆ PD46180c  │\n",
       "│ /90440115/ccs         ┆               ┆       ┆                       ┆              ┆           │\n",
       "│ m64178e_220824_153720 ┆ 8             ┆ CNCO  ┆ false                 ┆ chr9_RagTag  ┆ PD46180c  │\n",
       "│ /136448369/ccs        ┆               ┆       ┆                       ┆              ┆           │\n",
       "│ m64222e_220805_105329 ┆ 4             ┆ CNCO  ┆ false                 ┆ chr9_RagTag  ┆ PD50521e  │\n",
       "│ /126158237/ccs        ┆               ┆       ┆                       ┆              ┆           │\n",
       "│ m64016e_220816_095555 ┆ 4             ┆ CNCO  ┆ false                 ┆ chr9_RagTag  ┆ PD50521e  │\n",
       "│ /155650468/ccs        ┆               ┆       ┆                       ┆              ┆           │\n",
       "│ m64221e_220812_230038 ┆ 7             ┆ CNCO  ┆ false                 ┆ chr9_RagTag  ┆ PD50521e  │\n",
       "│ /138674281/ccs        ┆               ┆       ┆                       ┆              ┆           │\n",
       "│ m64174e_220620_110709 ┆ 5             ┆ CNCO  ┆ false                 ┆ chr9_RagTag  ┆ PD50489e  │\n",
       "│ /147259404/ccs        ┆               ┆       ┆                       ┆              ┆           │\n",
       "│ m64094e_220717_002414 ┆ 4             ┆ CNCO  ┆ false                 ┆ chr9_RagTag  ┆ PD50489e  │\n",
       "│ /29294882/ccs         ┆               ┆       ┆                       ┆              ┆           │\n",
       "│ m64094e_220717_002414 ┆ 4             ┆ CNCO  ┆ false                 ┆ chr9_RagTag  ┆ PD50489e  │\n",
       "│ /29428428/ccs         ┆               ┆       ┆                       ┆              ┆           │\n",
       "│ m64178e_220829_002441 ┆ 10            ┆ CNCO  ┆ false                 ┆ chr10_RagTag ┆ PD50477f  │\n",
       "│ /40305431/ccs         ┆               ┆       ┆                       ┆              ┆           │\n",
       "│ m64230e_220906_003948 ┆ 4             ┆ CNCO  ┆ false                 ┆ chr10_RagTag ┆ PD50477f  │\n",
       "│ /56297101/ccs         ┆               ┆       ┆                       ┆              ┆           │\n",
       "│ m64094e_220917_231317 ┆ 3             ┆ CNCO  ┆ false                 ┆ chr10_RagTag ┆ PD50477f  │\n",
       "│ /73599018/ccs         ┆               ┆       ┆                       ┆              ┆           │\n",
       "│ m64221e_220811_133409 ┆ 8             ┆ CNCO  ┆ false                 ┆ chr10_RagTag ┆ PD50519d  │\n",
       "│ /117115679/ccs        ┆               ┆       ┆                       ┆              ┆           │\n",
       "│ m64221e_220811_133409 ┆ 7             ┆ CNCO  ┆ false                 ┆ chr10_RagTag ┆ PD50519d  │\n",
       "│ /139397863/ccs        ┆               ┆       ┆                       ┆              ┆           │\n",
       "│ m64221e_220814_084225 ┆ 3             ┆ CNCO  ┆ false                 ┆ chr10_RagTag ┆ PD50519d  │\n",
       "│ /106103921/ccs        ┆               ┆       ┆                       ┆              ┆           │\n",
       "│ m64221e_220811_133409 ┆ 4             ┆ CNCO  ┆ false                 ┆ chr10_RagTag ┆ PD50519d  │\n",
       "│ /134417022/ccs        ┆               ┆       ┆                       ┆              ┆           │\n",
       "│ m64016e_220901_135237 ┆ 6             ┆ CNCO  ┆ false                 ┆ chr10_RagTag ┆ PD50521b  │\n",
       "│ /177079606/ccs        ┆               ┆       ┆                       ┆              ┆           │\n",
       "│ m64229e_220909_150132 ┆ 3             ┆ CNCO  ┆ false                 ┆ chr10_RagTag ┆ PD50521b  │\n",
       "│ /56426878/ccs         ┆               ┆       ┆                       ┆              ┆           │\n",
       "│ m64094e_220916_121850 ┆ 7             ┆ CNCO  ┆ false                 ┆ chr10_RagTag ┆ PD46180c  │\n",
       "│ /75762467/ccs         ┆               ┆       ┆                       ┆              ┆           │\n",
       "│ m64221e_220812_230038 ┆ 6             ┆ CNCO  ┆ false                 ┆ chr10_RagTag ┆ PD50521e  │\n",
       "│ /84281878/ccs         ┆               ┆       ┆                       ┆              ┆           │\n",
       "│ m64230e_220906_003948 ┆ 7             ┆ CNCO  ┆ false                 ┆ chr11_RagTag ┆ PD50477f  │\n",
       "│ /918964/ccs           ┆               ┆       ┆                       ┆              ┆           │\n",
       "│ m64221e_220814_084225 ┆ 4             ┆ CNCO  ┆ false                 ┆ chr11_RagTag ┆ PD50519d  │\n",
       "│ /89981845/ccs         ┆               ┆       ┆                       ┆              ┆           │\n",
       "│ m64221e_220814_084225 ┆ 12            ┆ CNCO  ┆ false                 ┆ chr11_RagTag ┆ PD50519d  │\n",
       "│ /162661816/ccs        ┆               ┆       ┆                       ┆              ┆           │\n",
       "│ m64221e_220811_133409 ┆ 9             ┆ CNCO  ┆ false                 ┆ chr11_RagTag ┆ PD50519d  │\n",
       "│ /157221614/ccs        ┆               ┆       ┆                       ┆              ┆           │\n",
       "│ m64221e_220811_133409 ┆ 5             ┆ CNCO  ┆ false                 ┆ chr11_RagTag ┆ PD50519d  │\n",
       "│ /82904935/ccs         ┆               ┆       ┆                       ┆              ┆           │\n",
       "│ m64221e_220811_133409 ┆ 9             ┆ CNCO  ┆ false                 ┆ chr11_RagTag ┆ PD50519d  │\n",
       "│ /101452532/ccs        ┆               ┆       ┆                       ┆              ┆           │\n",
       "│ m64221e_220811_133409 ┆ 3             ┆ CNCO  ┆ false                 ┆ chr11_RagTag ┆ PD50519d  │\n",
       "│ /129631347/ccs        ┆               ┆       ┆                       ┆              ┆           │\n",
       "│ m64222e_220804_013319 ┆ 6             ┆ CNCO  ┆ false                 ┆ chr11_RagTag ┆ PD50519d  │\n",
       "│ /33424673/ccs         ┆               ┆       ┆                       ┆              ┆           │\n",
       "│ m64221e_220814_084225 ┆ 3             ┆ CNCO  ┆ false                 ┆ chr11_RagTag ┆ PD50519d  │\n",
       "│ /150603428/ccs        ┆               ┆       ┆                       ┆              ┆           │\n",
       "│ m64178e_220827_132801 ┆ 3             ┆ CNCO  ┆ false                 ┆ chr11_RagTag ┆ PD50508f  │\n",
       "│ /124912162/ccs        ┆               ┆       ┆                       ┆              ┆           │\n",
       "│ m64229e_220913_234845 ┆ 3             ┆ CNCO  ┆ false                 ┆ chr11_RagTag ┆ PD50523b  │\n",
       "│ /167577106/ccs        ┆               ┆       ┆                       ┆              ┆           │\n",
       "│ m64229e_220912_125215 ┆ 3             ┆ CNCO  ┆ false                 ┆ chr11_RagTag ┆ PD50521b  │\n",
       "│ /44042976/ccs         ┆               ┆       ┆                       ┆              ┆           │\n",
       "│ m64016e_220901_135237 ┆ 9             ┆ CNCO  ┆ false                 ┆ chr11_RagTag ┆ PD50521b  │\n",
       "│ /86050924/ccs         ┆               ┆       ┆                       ┆              ┆           │\n",
       "│ m64229e_220909_150132 ┆ 6             ┆ CNCO  ┆ false                 ┆ chr11_RagTag ┆ PD50521b  │\n",
       "│ /16320394/ccs         ┆               ┆       ┆                       ┆              ┆           │\n",
       "│ m64229e_220909_150132 ┆ 7             ┆ CNCO  ┆ false                 ┆ chr11_RagTag ┆ PD50521b  │\n",
       "│ /65930919/ccs         ┆               ┆       ┆                       ┆              ┆           │\n",
       "│ m64229e_220909_150132 ┆ 3             ┆ CNCO  ┆ false                 ┆ chr11_RagTag ┆ PD50521b  │\n",
       "│ /53937448/ccs         ┆               ┆       ┆                       ┆              ┆           │\n",
       "│ m64016e_220904_102424 ┆ 8             ┆ CNCO  ┆ false                 ┆ chr11_RagTag ┆ PD46180c  │\n",
       "│ /111544725/ccs        ┆               ┆       ┆                       ┆              ┆           │\n",
       "│ m64016e_220904_102424 ┆ 4             ┆ CNCO  ┆ false                 ┆ chr11_RagTag ┆ PD46180c  │\n",
       "│ /143657123/ccs        ┆               ┆       ┆                       ┆              ┆           │\n",
       "│ m64221e_220811_133409 ┆ 4             ┆ CNCO  ┆ false                 ┆ chr12_RagTag ┆ PD50519d  │\n",
       "│ /75171665/ccs         ┆               ┆       ┆                       ┆              ┆           │\n",
       "│ m64221e_220811_133409 ┆ 3             ┆ CNCO  ┆ false                 ┆ chr12_RagTag ┆ PD50519d  │\n",
       "│ /110037503/ccs        ┆               ┆       ┆                       ┆              ┆           │\n",
       "│ m64221e_220814_084225 ┆ 6             ┆ CNCO  ┆ false                 ┆ chr12_RagTag ┆ PD50519d  │\n",
       "│ /43321681/ccs         ┆               ┆       ┆                       ┆              ┆           │\n",
       "│ m64222e_220804_013319 ┆ 4             ┆ CNCO  ┆ false                 ┆ chr12_RagTag ┆ PD50519d  │\n",
       "│ /165415166/ccs        ┆               ┆       ┆                       ┆              ┆           │\n",
       "│ m64229e_220911_015559 ┆ 13            ┆ CNCO  ┆ false                 ┆ chr12_RagTag ┆ PD50523b  │\n",
       "│ /14158196/ccs         ┆               ┆       ┆                       ┆              ┆           │\n",
       "│ m64229e_220909_150132 ┆ 4             ┆ CNCO  ┆ false                 ┆ chr12_RagTag ┆ PD50521b  │\n",
       "│ /168166044/ccs        ┆               ┆       ┆                       ┆              ┆           │\n",
       "│ m64016e_220904_102424 ┆ 3             ┆ CNCO  ┆ false                 ┆ chr12_RagTag ┆ PD46180c  │\n",
       "│ /154011359/ccs        ┆               ┆       ┆                       ┆              ┆           │\n",
       "│ m64178e_220824_153720 ┆ 4             ┆ CNCO  ┆ false                 ┆ chr12_RagTag ┆ PD46180c  │\n",
       "│ /104137894/ccs        ┆               ┆       ┆                       ┆              ┆           │\n",
       "│ m64222e_220805_105329 ┆ 4             ┆ CNCO  ┆ false                 ┆ chr12_RagTag ┆ PD50521e  │\n",
       "│ /112722111/ccs        ┆               ┆       ┆                       ┆              ┆           │\n",
       "│ m64016e_220816_095555 ┆ 4             ┆ CNCO  ┆ false                 ┆ chr12_RagTag ┆ PD50521e  │\n",
       "│ /95880406/ccs         ┆               ┆       ┆                       ┆              ┆           │\n",
       "│ m64094e_220917_231317 ┆ 3             ┆ CNCO  ┆ false                 ┆ chr13_RagTag ┆ PD50477f  │\n",
       "│ /29557299/ccs         ┆               ┆       ┆                       ┆              ┆           │\n",
       "│ m64094e_220917_231317 ┆ 4             ┆ CNCO  ┆ false                 ┆ chr13_RagTag ┆ PD50477f  │\n",
       "│ /117965035/ccs        ┆               ┆       ┆                       ┆              ┆           │\n",
       "│ m64222e_220804_013319 ┆ 3             ┆ CNCO  ┆ false                 ┆ chr13_RagTag ┆ PD50519d  │\n",
       "│ /53347425/ccs         ┆               ┆       ┆                       ┆              ┆           │\n",
       "│ m64016e_220903_004635 ┆ 5             ┆ CNCO  ┆ false                 ┆ chr13_RagTag ┆ PD50523b  │\n",
       "│ /98698555/ccs         ┆               ┆       ┆                       ┆              ┆           │\n",
       "│ m64016e_220901_135237 ┆ 4             ┆ CNCO  ┆ false                 ┆ chr13_RagTag ┆ PD50521b  │\n",
       "│ /123797966/ccs        ┆               ┆       ┆                       ┆              ┆           │\n",
       "│ m64016e_220901_135237 ┆ 9             ┆ CNCO  ┆ false                 ┆ chr13_RagTag ┆ PD50521b  │\n",
       "│ /96142805/ccs         ┆               ┆       ┆                       ┆              ┆           │\n",
       "│ m64178e_220826_023135 ┆ 4             ┆ CNCO  ┆ false                 ┆ chr13_RagTag ┆ PD50508b  │\n",
       "│ /22806918/ccs         ┆               ┆       ┆                       ┆              ┆           │\n",
       "│ m64094e_220916_121850 ┆ 3             ┆ CNCO  ┆ false                 ┆ chr13_RagTag ┆ PD46180c  │\n",
       "│ /114426176/ccs        ┆               ┆       ┆                       ┆              ┆           │\n",
       "│ m64178e_220824_153720 ┆ 5             ┆ CNCO  ┆ false                 ┆ chr13_RagTag ┆ PD46180c  │\n",
       "│ /160301458/ccs        ┆               ┆       ┆                       ┆              ┆           │\n",
       "│ m64016e_220816_095555 ┆ 3             ┆ CNCO  ┆ false                 ┆ chr13_RagTag ┆ PD50521e  │\n",
       "│ /81068543/ccs         ┆               ┆       ┆                       ┆              ┆           │\n",
       "│ m64094e_220717_002414 ┆ 4             ┆ CNCO  ┆ false                 ┆ chr13_RagTag ┆ PD50489e  │\n",
       "│ /172754142/ccs        ┆               ┆       ┆                       ┆              ┆           │\n",
       "│ m64178e_220829_002441 ┆ 3             ┆ CNCO  ┆ false                 ┆ chr14_RagTag ┆ PD50477f  │\n",
       "│ /58262429/ccs         ┆               ┆       ┆                       ┆              ┆           │\n",
       "│ m64222e_220804_013319 ┆ 14            ┆ CNCO  ┆ false                 ┆ chr14_RagTag ┆ PD50519d  │\n",
       "│ /77136842/ccs         ┆               ┆       ┆                       ┆              ┆           │\n",
       "│ m64221e_220811_133409 ┆ 3             ┆ CNCO  ┆ false                 ┆ chr14_RagTag ┆ PD50519d  │\n",
       "│ /91555737/ccs         ┆               ┆       ┆                       ┆              ┆           │\n",
       "│ m64016e_220901_135237 ┆ 7             ┆ CNCO  ┆ false                 ┆ chr14_RagTag ┆ PD50521b  │\n",
       "│ /91553848/ccs         ┆               ┆       ┆                       ┆              ┆           │\n",
       "│ m64016e_220904_102424 ┆ 3             ┆ CNCO  ┆ false                 ┆ chr14_RagTag ┆ PD46180c  │\n",
       "│ /37422524/ccs         ┆               ┆       ┆                       ┆              ┆           │\n",
       "│ m64221e_220812_230038 ┆ 9             ┆ CNCO  ┆ false                 ┆ chr14_RagTag ┆ PD50521e  │\n",
       "│ /60361074/ccs         ┆               ┆       ┆                       ┆              ┆           │\n",
       "│ m64222e_220805_105329 ┆ 9             ┆ CNCO  ┆ false                 ┆ chr14_RagTag ┆ PD50521e  │\n",
       "│ /63767123/ccs         ┆               ┆       ┆                       ┆              ┆           │\n",
       "│ m64229e_220913_234845 ┆ 4             ┆ CNCO  ┆ false                 ┆ chr15_RagTag ┆ PD50523b  │\n",
       "│ /149292247/ccs        ┆               ┆       ┆                       ┆              ┆           │\n",
       "│ m64094e_220916_121850 ┆ 4             ┆ CNCO  ┆ false                 ┆ chr15_RagTag ┆ PD46180c  │\n",
       "│ /38537368/ccs         ┆               ┆       ┆                       ┆              ┆           │\n",
       "│ m64221e_220812_230038 ┆ 3             ┆ CNCO  ┆ false                 ┆ chr15_RagTag ┆ PD50521e  │\n",
       "│ /154273188/ccs        ┆               ┆       ┆                       ┆              ┆           │\n",
       "│ m64094e_220717_002414 ┆ 3             ┆ CNCO  ┆ false                 ┆ chr15_RagTag ┆ PD50489e  │\n",
       "│ /30280492/ccs         ┆               ┆       ┆                       ┆              ┆           │\n",
       "│ m64094e_220715_151527 ┆ 5             ┆ CNCO  ┆ false                 ┆ chr15_RagTag ┆ PD50489e  │\n",
       "│ /150209149/ccs        ┆               ┆       ┆                       ┆              ┆           │\n",
       "│ m64221e_220814_084225 ┆ 7             ┆ CNCO  ┆ false                 ┆ chr16_RagTag ┆ PD50519d  │\n",
       "│ /6488827/ccs          ┆               ┆       ┆                       ┆              ┆           │\n",
       "│ m64229e_220912_125215 ┆ 3             ┆ CNCO  ┆ false                 ┆ chr16_RagTag ┆ PD50521b  │\n",
       "│ /73926640/ccs         ┆               ┆       ┆                       ┆              ┆           │\n",
       "│ m64178e_220826_023135 ┆ 3             ┆ CNCO  ┆ false                 ┆ chr16_RagTag ┆ PD50508b  │\n",
       "│ /58721691/ccs         ┆               ┆       ┆                       ┆              ┆           │\n",
       "│ m64094e_220717_002414 ┆ 4             ┆ CNCO  ┆ false                 ┆ chr16_RagTag ┆ PD50489e  │\n",
       "│ /91291954/ccs         ┆               ┆       ┆                       ┆              ┆           │\n",
       "│ m64178e_220829_002441 ┆ 4             ┆ CNCO  ┆ false                 ┆ chr17_RagTag ┆ PD50477f  │\n",
       "│ /168888553/ccs        ┆               ┆       ┆                       ┆              ┆           │\n",
       "│ m64221e_220814_084225 ┆ 3             ┆ CNCO  ┆ false                 ┆ chr17_RagTag ┆ PD50519d  │\n",
       "│ /165216710/ccs        ┆               ┆       ┆                       ┆              ┆           │\n",
       "│ m64221e_220811_133409 ┆ 3             ┆ CNCO  ┆ false                 ┆ chr17_RagTag ┆ PD50519d  │\n",
       "│ /51971280/ccs         ┆               ┆       ┆                       ┆              ┆           │\n",
       "│ m64229e_220909_150132 ┆ 4             ┆ CNCO  ┆ false                 ┆ chr17_RagTag ┆ PD50521b  │\n",
       "│ /164891410/ccs        ┆               ┆       ┆                       ┆              ┆           │\n",
       "│ m64229e_220912_125215 ┆ 4             ┆ CNCO  ┆ false                 ┆ chr17_RagTag ┆ PD50521b  │\n",
       "│ /41027552/ccs         ┆               ┆       ┆                       ┆              ┆           │\n",
       "│ m64178e_220824_153720 ┆ 4             ┆ CNCO  ┆ false                 ┆ chr17_RagTag ┆ PD46180c  │\n",
       "│ /73007753/ccs         ┆               ┆       ┆                       ┆              ┆           │\n",
       "│ m64174e_220620_110709 ┆ 5             ┆ CNCO  ┆ false                 ┆ chr17_RagTag ┆ PD50489e  │\n",
       "│ /127796270/ccs        ┆               ┆       ┆                       ┆              ┆           │\n",
       "│ m64094e_220717_002414 ┆ 5             ┆ CNCO  ┆ false                 ┆ chr17_RagTag ┆ PD50489e  │\n",
       "│ /68485538/ccs         ┆               ┆       ┆                       ┆              ┆           │\n",
       "│ m64229e_220912_125215 ┆ 6             ┆ CNCO  ┆ false                 ┆ chr18_RagTag ┆ PD50521b  │\n",
       "│ /23137103/ccs         ┆               ┆       ┆                       ┆              ┆           │\n",
       "│ m64016e_220904_102424 ┆ 6             ┆ CNCO  ┆ false                 ┆ chr18_RagTag ┆ PD46180c  │\n",
       "│ /1115690/ccs          ┆               ┆       ┆                       ┆              ┆           │\n",
       "│ m64222e_220805_105329 ┆ 5             ┆ CNCO  ┆ false                 ┆ chr18_RagTag ┆ PD50521e  │\n",
       "│ /52429735/ccs         ┆               ┆       ┆                       ┆              ┆           │\n",
       "│ m64178e_220829_002441 ┆ 3             ┆ CNCO  ┆ false                 ┆ chr19_RagTag ┆ PD50477f  │\n",
       "│ /154992777/ccs        ┆               ┆       ┆                       ┆              ┆           │\n",
       "│ m64178e_220829_002441 ┆ 5             ┆ CNCO  ┆ false                 ┆ chr19_RagTag ┆ PD50477f  │\n",
       "│ /179766263/ccs        ┆               ┆       ┆                       ┆              ┆           │\n",
       "│ m64221e_220811_133409 ┆ 7             ┆ CNCO  ┆ false                 ┆ chr20_RagTag ┆ PD50519d  │\n",
       "│ /101976780/ccs        ┆               ┆       ┆                       ┆              ┆           │\n",
       "│ m64221e_220811_133409 ┆ 3             ┆ CNCO  ┆ false                 ┆ chr20_RagTag ┆ PD50519d  │\n",
       "│ /60230481/ccs         ┆               ┆       ┆                       ┆              ┆           │\n",
       "│ m64178e_220824_153720 ┆ 14            ┆ CNCO  ┆ false                 ┆ chr20_RagTag ┆ PD46180c  │\n",
       "│ /63045798/ccs         ┆               ┆       ┆                       ┆              ┆           │\n",
       "│ m64222e_220804_013319 ┆ 5             ┆ CNCO  ┆ false                 ┆ chr21_RagTag ┆ PD50519d  │\n",
       "│ /150276354/ccs        ┆               ┆       ┆                       ┆              ┆           │\n",
       "│ m64222e_220804_013319 ┆ 6             ┆ CNCO  ┆ false                 ┆ chr21_RagTag ┆ PD50519d  │\n",
       "│ /101713237/ccs        ┆               ┆       ┆                       ┆              ┆           │\n",
       "│ m64094e_220916_121850 ┆ 3             ┆ CNCO  ┆ false                 ┆ chr21_RagTag ┆ PD46180c  │\n",
       "│ /40501496/ccs         ┆               ┆       ┆                       ┆              ┆           │\n",
       "│ m64094e_220917_231317 ┆ 9             ┆ CNCO  ┆ false                 ┆ chr22_RagTag ┆ PD50477f  │\n",
       "│ /71303656/ccs         ┆               ┆       ┆                       ┆              ┆           │\n",
       "│ m64222e_220804_013319 ┆ 4             ┆ CNCO  ┆ false                 ┆ chr22_RagTag ┆ PD50519d  │\n",
       "│ /104270027/ccs        ┆               ┆       ┆                       ┆              ┆           │\n",
       "│ m64229e_220912_125215 ┆ 9             ┆ CNCO  ┆ false                 ┆ chr22_RagTag ┆ PD50521b  │\n",
       "│ /143130982/ccs        ┆               ┆       ┆                       ┆              ┆           │\n",
       "│ m64016e_220901_135237 ┆ 5             ┆ CNCO  ┆ false                 ┆ chr22_RagTag ┆ PD50521b  │\n",
       "│ /79495460/ccs         ┆               ┆       ┆                       ┆              ┆           │\n",
       "│ m64178e_220824_153720 ┆ 5             ┆ CNCO  ┆ false                 ┆ chr22_RagTag ┆ PD46180c  │\n",
       "│ /96535162/ccs         ┆               ┆       ┆                       ┆              ┆           │\n",
       "│ m64178e_220824_153720 ┆ 3             ┆ CNCO  ┆ false                 ┆ chr22_RagTag ┆ PD46180c  │\n",
       "│ /172884010/ccs        ┆               ┆       ┆                       ┆              ┆           │\n",
       "│ m64221e_220812_230038 ┆ 3             ┆ CNCO  ┆ false                 ┆ chr22_RagTag ┆ PD50521e  │\n",
       "│ /159449414/ccs        ┆               ┆       ┆                       ┆              ┆           │\n",
       "│ m64221e_220812_230038 ┆ 3             ┆ CNCO  ┆ false                 ┆ chr22_RagTag ┆ PD50521e  │\n",
       "│ /157353213/ccs        ┆               ┆       ┆                       ┆              ┆           │\n",
       "└───────────────────────┴───────────────┴───────┴───────────────────────┴──────────────┴───────────┘"
      ]
     },
     "metadata": {},
     "output_type": "display_data"
    }
   ],
   "source": [
    "with pl.Config(fmt_str_lengths=50, set_tbl_rows=-1):\n",
    "    #display(res_df)\n",
    "    #display(all_res_df.filter(~pl.col(\"has_common_transition\")))\n",
    "    display(all_res_df.filter(~pl.col(\"has_common_transition\")).filter(pl.col(\"class\") == \"CNCO\"))\n",
    "    #display(res_df.filter(pl.col(\"read_name\") == \"m64174e_220620_110709/58458841/ccs\"))"
   ]
  },
  {
   "cell_type": "code",
   "execution_count": null,
   "id": "8d4293a7-0531-4720-81fb-602ecdf7bc4e",
   "metadata": {},
   "outputs": [],
   "source": []
  },
  {
   "cell_type": "code",
   "execution_count": null,
   "id": "371e7dc2-aaaf-4abb-9e6b-20bc80773fd6",
   "metadata": {},
   "outputs": [],
   "source": []
  },
  {
   "cell_type": "code",
   "execution_count": null,
   "id": "ebb3899b-ea8c-4ab5-a13e-28e02e22632d",
   "metadata": {},
   "outputs": [],
   "source": []
  },
  {
   "cell_type": "code",
   "execution_count": null,
   "id": "4b89ac8f-2f59-4385-9d8d-71d08c89f84b",
   "metadata": {},
   "outputs": [],
   "source": []
  }
 ],
 "metadata": {
  "kernelspec": {
   "display_name": "sperm",
   "language": "python",
   "name": "sperm"
  },
  "language_info": {
   "codemirror_mode": {
    "name": "ipython",
    "version": 3
   },
   "file_extension": ".py",
   "mimetype": "text/x-python",
   "name": "python",
   "nbconvert_exporter": "python",
   "pygments_lexer": "ipython3",
   "version": "3.11.6"
  }
 },
 "nbformat": 4,
 "nbformat_minor": 5
}
