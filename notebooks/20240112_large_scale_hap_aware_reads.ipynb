{
 "cells": [
  {
   "cell_type": "code",
   "execution_count": 1,
   "id": "cba203b3-f25e-4307-a3c9-f8a9def655cc",
   "metadata": {},
   "outputs": [],
   "source": [
    "%load_ext autoreload\n",
    "%autoreload 2"
   ]
  },
  {
   "cell_type": "code",
   "execution_count": 2,
   "id": "05f061fe-2688-430d-9d8e-eb41002be5e4",
   "metadata": {},
   "outputs": [],
   "source": [
    "import numpy as np\n",
    "import pandas as pd\n",
    "import matplotlib as mpl\n",
    "import matplotlib.pyplot as plt\n",
    "\n",
    "from pathlib import Path\n",
    "import tqdm\n",
    "import sys\n",
    "import seaborn as sns\n",
    "import scipy.stats\n",
    "import os\n",
    "import pysam\n",
    "import pprint\n",
    "import pickle\n",
    "import joblib\n",
    "import polars as pl\n",
    "\n",
    "# This is needed before pybedtools to make sure bedtools is imported on sanger JupyterHub \n",
    "os.environ[\"PATH\"] += \":\" + os.path.join(sys.prefix, \"bin\")\n",
    "import pybedtools\n",
    "\n",
    "pd.set_option('display.max_rows', 1000)\n"
   ]
  },
  {
   "cell_type": "code",
   "execution_count": 3,
   "id": "36a7d5a1-70de-46c5-b3fd-e7d74cff39d8",
   "metadata": {},
   "outputs": [],
   "source": [
    "sys.path.append(str(Path(os.getcwd()).parent))\n",
    "from src import liftover, annotate, diagnostics"
   ]
  },
  {
   "cell_type": "code",
   "execution_count": 4,
   "id": "09ea46c6-ba80-4dea-a450-45ddd15a984e",
   "metadata": {},
   "outputs": [],
   "source": [
    "aut_chrom_names = [f\"chr{i}\" for i in list(range(1, 23))]\n",
    "chrom_names = aut_chrom_names + [\"chrX\", \"chrY\"]"
   ]
  },
  {
   "cell_type": "markdown",
   "id": "093c9c9e-d2d5-4fe1-8a27-0674937de19d",
   "metadata": {},
   "source": [
    "# Choose sample and chrom"
   ]
  },
  {
   "cell_type": "code",
   "execution_count": 5,
   "id": "10184b8a-e59e-4e6c-9ffb-a92eb1065931",
   "metadata": {},
   "outputs": [],
   "source": [
    "focal_sample_id = \"PD50489e\"\n",
    "t2t_chrom = \"chr2\"\n",
    "denovo_chrom = t2t_chrom + \"_RagTag\"\n",
    "\n"
   ]
  },
  {
   "cell_type": "markdown",
   "id": "1c56afe7-6985-456d-a9e4-036e70cc35a0",
   "metadata": {},
   "source": [
    "# Test pipeline manually"
   ]
  },
  {
   "cell_type": "code",
   "execution_count": 6,
   "id": "a4131a24-00b9-463c-9eb8-3ffb590f62ad",
   "metadata": {},
   "outputs": [],
   "source": [
    "# %%time\n",
    "# events_df = pl.scan_parquet(\n",
    "#     f\"/lustre/scratch126/casm/team154pc/sl17/03.sperm/02.results/01.read_alignment/01.ccs/04.hifiasm/02.hifiasm_0.19.5-r592/02.chromosome_length_scaffolds/{focal_sample_id}/reads/{denovo_chrom}.read_refinement.parquet\",\n",
    "# )\n",
    "\n",
    "# events_df = diagnostics.filter_read_refinements(events_df)\n",
    "# snps_df = diagnostics.extract_snps(events_df)\n",
    "\n",
    "# snps_df = snps_df.collect(streaming=True)"
   ]
  },
  {
   "cell_type": "code",
   "execution_count": 7,
   "id": "56b1425f-d573-4de7-996a-44aaeb0cc369",
   "metadata": {},
   "outputs": [],
   "source": [
    "# %%time\n",
    "# #\n",
    "# # Phasing coverage\n",
    "# #\n",
    "# hap_and_certainty_to_bedgraph = {}\n",
    "# for hap in [1,2]:\n",
    "#     for certainty in [0.95]: \n",
    "#         hap_and_certainty_to_bedgraph[(hap, certainty)] = \\\n",
    "#             str(Path(\"/lustre/scratch126/casm/team154pc/sl17/03.sperm/02.results/01.read_alignment/01.ccs/04.hifiasm/02.hifiasm_0.19.5-r592/02.chromosome_length_scaffolds\") \\\n",
    "#                 / f\"{focal_sample_id}\" / f\"{focal_sample_id}.{denovo_chrom}.hap{hap}.minimap2.sorted.primary_alignments.hifiasm_haplotagged_{certainty}.coverage.bedgraph\")\n",
    "\n",
    "# annotated_snps_df = diagnostics.add_phasing_coverage_annotation(\n",
    "#     snps_df,\n",
    "#     hap_and_certainty_to_bedgraph\n",
    "# )\n",
    "\n",
    "# #\n",
    "# # TRF\n",
    "# #\n",
    "# annotated_snps_df = diagnostics.add_tandem_repeat_finder_annotation(\n",
    "#     annotated_snps_df,\n",
    "#     f\"/lustre/scratch126/casm/team154pc/sl17/03.sperm/01.data/05.ragtag/03.haplotype_specific_scaffolds/{focal_sample_id}/haplotype_1/ragtag.scaffold.fasta.{denovo_chrom}.trf.dat\",\n",
    "#     f\"/lustre/scratch126/casm/team154pc/sl17/03.sperm/01.data/05.ragtag/03.haplotype_specific_scaffolds/{focal_sample_id}/haplotype_2/ragtag.scaffold.fasta.{denovo_chrom}.trf.dat\",\n",
    "# )\n",
    "\n",
    "# #\n",
    "# # sdust\n",
    "# #\n",
    "# annotated_snps_df = diagnostics.add_sdust_annotation(\n",
    "#     annotated_snps_df,\n",
    "#     f\"/lustre/scratch126/casm/team154pc/sl17/03.sperm/01.data/05.ragtag/03.haplotype_specific_scaffolds/{focal_sample_id}/haplotype_1/ragtag.scaffold.fasta.{denovo_chrom}.sdust.tsv\",\n",
    "#     f\"/lustre/scratch126/casm/team154pc/sl17/03.sperm/01.data/05.ragtag/03.haplotype_specific_scaffolds/{focal_sample_id}/haplotype_2/ragtag.scaffold.fasta.{denovo_chrom}.sdust.tsv\",\n",
    "# )\n",
    "\n",
    "\n",
    "# annotated_snps_df = annotated_snps_df.collect(streaming=True)"
   ]
  },
  {
   "cell_type": "markdown",
   "id": "55e0e793-6b3d-445f-8f9a-ea80e82b5aef",
   "metadata": {},
   "source": [
    "## Some summary stats"
   ]
  },
  {
   "cell_type": "code",
   "execution_count": 8,
   "id": "b68d9bc6-5cc8-42db-95bb-716230e88345",
   "metadata": {},
   "outputs": [],
   "source": [
    "# (annotated_snps_df\n",
    "#     .filter(pl.col(\"is_high_conf_snp\") == 1)\n",
    "#     .select(\n",
    "#         ((pl.col(\"hap1_certainty_0.95_coverage\") >= 3) & (pl.col(\"hap2_certainty_0.95_coverage\") >= 3)).alias(\"is_phased_covered\"),\n",
    "#         ((pl.col(\"trf_repeat_length_hap1\") == 0) & (pl.col(\"trf_repeat_length_hap2\") == 0)).alias(\"is_not_trf\"),\n",
    "#         ((pl.col(\"sdust_repeat_length_hap1\") == 0) & (pl.col(\"sdust_repeat_length_hap2\") == 0)).alias(\"is_not_sdust\"),\n",
    "#         ((pl.col(\"qual_start1\") == 93) & (pl.col(\"qual_start2\") == 93)).alias(\"good_bq\"),\n",
    "#     )\n",
    "#     .group_by([\"is_phased_covered\", \"is_not_trf\", \"is_not_sdust\", \"good_bq\"])\n",
    "#     .count()\n",
    "#     .sort(by=\"count\", descending=True)\n",
    "# )"
   ]
  },
  {
   "cell_type": "code",
   "execution_count": 9,
   "id": "232aadb7-ec7f-4093-82ae-ccc1421f5163",
   "metadata": {},
   "outputs": [],
   "source": [
    "# hap_stats_df = diagnostics.snps_to_read_stats(\n",
    "#     annotated_snps_df,\n",
    "#     (\n",
    "#             pl.col(\"is_high_conf_snp\") & \\\n",
    "#             ((pl.col(\"hap1_certainty_0.95_coverage\") >= 3) & (pl.col(\"hap2_certainty_0.95_coverage\") >= 3)) & \\\n",
    "#             ((pl.col(\"trf_repeat_length_hap1\") == 0) & (pl.col(\"trf_repeat_length_hap2\") == 0)) & \\\n",
    "#             ((pl.col(\"sdust_repeat_length_hap1\") == 0) & (pl.col(\"sdust_repeat_length_hap2\") == 0)) & \n",
    "#             ((pl.col(\"qual_start1\") == 93) & (pl.col(\"qual_start2\") == 93))\n",
    "#     ),\n",
    "#     \"frac_fits1_super_conf\",    \n",
    "# )"
   ]
  },
  {
   "cell_type": "code",
   "execution_count": 10,
   "id": "611975d2-66ee-4c87-a2b3-3c0d08c6ea57",
   "metadata": {},
   "outputs": [],
   "source": [
    "# with pl.Config(fmt_str_lengths=50, set_tbl_rows=-1):\n",
    "#     display(\n",
    "#         hap_stats_df.filter(~((pl.col(\"frac_fits1_super_conf\") == 0) | (pl.col(\"frac_fits1_super_conf\") == 1)))\n",
    "#         [:10]\n",
    "#     )\n",
    "    \n",
    "\n"
   ]
  },
  {
   "cell_type": "code",
   "execution_count": null,
   "id": "34e08094-7651-40e9-a68d-7e43a0bda08a",
   "metadata": {},
   "outputs": [],
   "source": []
  },
  {
   "cell_type": "markdown",
   "id": "77eb8318-0961-406e-92fa-86123487a6a2",
   "metadata": {},
   "source": [
    "# Analyze read"
   ]
  },
  {
   "cell_type": "code",
   "execution_count": 11,
   "id": "bed6a852-78e1-4434-bce0-fb679b75de55",
   "metadata": {},
   "outputs": [],
   "source": [
    "# focal_read = \"m64094e_220715_151527/70976535/ccs\""
   ]
  },
  {
   "cell_type": "code",
   "execution_count": 12,
   "id": "05bb1abb-d254-42d3-8364-247b6c3d9b23",
   "metadata": {},
   "outputs": [],
   "source": [
    "# with pl.Config(fmt_str_lengths=50, set_tbl_rows=-1):\n",
    "#     display(annotated_snps_df\n",
    "#         .drop([\"is_forward1\", \"is_forward2\", \"read_length1\", \"read_length2\", \"mapq1\", \"mapq2\"])\n",
    "#         .filter(pl.col(\"read_name\") == focal_read)\n",
    "#         .filter(pl.col(\"op1\").ne_missing(pl.col(\"op2\")))\n",
    "#         .filter(pl.col(\"is_high_conf_snp\") == 1)\n",
    "#     )\n",
    "    "
   ]
  },
  {
   "cell_type": "code",
   "execution_count": null,
   "id": "656df55c-d2da-4e88-8914-ffa827ac6a7c",
   "metadata": {},
   "outputs": [],
   "source": []
  },
  {
   "cell_type": "markdown",
   "id": "585e0329-fbb2-4e66-8e1e-e06b3e300229",
   "metadata": {},
   "source": [
    "# SNP analysis"
   ]
  },
  {
   "cell_type": "code",
   "execution_count": 12,
   "id": "da7a109b-97dc-4c8f-a6b0-01ab891b29c9",
   "metadata": {},
   "outputs": [
    {
     "name": "stdout",
     "output_type": "stream",
     "text": [
      "CPU times: user 2.51 s, sys: 978 ms, total: 3.49 s\n",
      "Wall time: 1.53 s\n"
     ]
    }
   ],
   "source": [
    "%%time\n",
    "events_df = pl.scan_parquet(\n",
    "    Path(\"/lustre/scratch126/casm/team154pc/sl17/03.sperm/02.results/01.read_alignment/01.ccs/04.hifiasm/02.hifiasm_0.19.5-r592/02.chromosome_length_scaffolds/\") \\\n",
    "        / f\"{focal_sample_id}\" / \"reads\" / f\"{denovo_chrom}.read_refinement.parquet\"\n",
    ")\n",
    "\n",
    "candidates_df = pl.read_parquet(\n",
    "    Path(\"/lustre/scratch126/casm/team154pc/sl17/03.sperm/02.results/01.read_alignment/01.ccs/04.hifiasm/02.hifiasm_0.19.5-r592/02.chromosome_length_scaffolds/\") \\\n",
    "        / f\"{focal_sample_id}\" / \"reads\" / f\"{denovo_chrom}.certainty_0.95.candidate_reads.parquet\"\n",
    ")\n",
    "\n",
    "high_conf_snps_df = pl.read_parquet(\n",
    "    Path(\"/lustre/scratch126/casm/team154pc/sl17/03.sperm/02.results/01.read_alignment/01.ccs/04.hifiasm/02.hifiasm_0.19.5-r592/02.chromosome_length_scaffolds/\") \\\n",
    "        / f\"{focal_sample_id}\" / \"reads\" / f\"{denovo_chrom}.certainty_0.95.snps.parquet\"\n",
    ")"
   ]
  },
  {
   "cell_type": "markdown",
   "id": "d95ae888-926d-41da-afe3-aa08617bc390",
   "metadata": {},
   "source": [
    "## BQ"
   ]
  },
  {
   "cell_type": "markdown",
   "id": "766a4d79-f4d1-4318-b55d-dbf10fcd5b2b",
   "metadata": {},
   "source": [
    "### General distribution (the first bp of all events)"
   ]
  },
  {
   "cell_type": "code",
   "execution_count": 14,
   "id": "5dda0c2a-2205-491f-a579-64eb0d8779b9",
   "metadata": {},
   "outputs": [
    {
     "data": {
      "image/png": "[encoded data removed]",
      "text/plain": [
       "<Figure size 640x480 with 1 Axes>"
      ]
     },
     "metadata": {},
     "output_type": "display_data"
    }
   ],
   "source": [
    "plt.hist(\n",
    "    (events_df\n",
    "        .select(pl.col(\"qual_start1\"))\n",
    "        .collect()\n",
    "    ), \n",
    "    bins=np.arange(1,94)\n",
    ");"
   ]
  },
  {
   "cell_type": "markdown",
   "id": "78150b6f-054d-41a3-a939-bad06fabb511",
   "metadata": {},
   "source": [
    "### Distribution of high conf SNPs"
   ]
  },
  {
   "cell_type": "code",
   "execution_count": 15,
   "id": "dad41d2d-b2b0-4875-a56e-781814b8b368",
   "metadata": {},
   "outputs": [
    {
     "data": {
      "image/png": "[encoded data removed]",
      "text/plain": [
       "<Figure size 640x480 with 1 Axes>"
      ]
     },
     "metadata": {},
     "output_type": "display_data"
    }
   ],
   "source": [
    "plt.hist(\n",
    "    (high_conf_snps_df\n",
    "        .select(pl.col(\"qual_start1\"))\n",
    "    ), \n",
    "    bins=np.arange(1,94),\n",
    "    log=True\n",
    ");\n",
    "plt.title(\"All high conf SNPs\");"
   ]
  },
  {
   "cell_type": "code",
   "execution_count": 16,
   "id": "3a8935b1-19db-4707-8957-ca5fb1b2975a",
   "metadata": {},
   "outputs": [
    {
     "data": {
      "text/plain": [
       "(3293781, 44)"
      ]
     },
     "execution_count": 16,
     "metadata": {},
     "output_type": "execute_result"
    }
   ],
   "source": [
    "high_conf_snps_df.shape"
   ]
  },
  {
   "cell_type": "code",
   "execution_count": 17,
   "id": "f0170e22-f256-4344-bacc-6331f4871b29",
   "metadata": {},
   "outputs": [
    {
     "data": {
      "text/html": [
       "<div><style>\n",
       ".dataframe > thead > tr,\n",
       ".dataframe > tbody > tr {\n",
       "  text-align: right;\n",
       "  white-space: pre-wrap;\n",
       "}\n",
       "</style>\n",
       "<small>shape: (5, 44)</small><table border=\"1\" class=\"dataframe\"><thead><tr><th>start</th><th>end</th><th>length</th><th>op1</th><th>op2</th><th>ref1_start</th><th>ref1_end</th><th>ref1_gap</th><th>ref2_start</th><th>ref2_end</th><th>ref2_gap</th><th>cigar_ptr1</th><th>cigar_ptr2</th><th>read_name</th><th>read_length1</th><th>read_length2</th><th>is_forward1</th><th>mapq1</th><th>ref1_name</th><th>qual_start1</th><th>refseq_start1</th><th>is_forward2</th><th>mapq2</th><th>ref2_name</th><th>qual_start2</th><th>refseq_start2</th><th>total_mismatches</th><th>is_snp</th><th>is_two_sided_mismatch</th><th>is_interesting_event</th><th>is_flanked_event</th><th>fits1_more</th><th>trf_repeat_length_hap1</th><th>trf_n_copies_hap1</th><th>trf_repeat_length_hap2</th><th>trf_n_copies_hap2</th><th>sdust_repeat_length_hap1</th><th>sdust_repeat_length_hap2</th><th>is_high_conf_event</th><th>is_high_conf_snp</th><th>hap1_certainty_0.95_coverage</th><th>hap2_certainty_0.95_coverage</th><th>is_high_quality_event</th><th>is_high_quality_snp</th></tr><tr><td>i64</td><td>i64</td><td>i64</td><td>i64</td><td>i64</td><td>i64</td><td>i64</td><td>i64</td><td>i64</td><td>i64</td><td>i64</td><td>i64</td><td>i64</td><td>str</td><td>i32</td><td>i32</td><td>bool</td><td>i32</td><td>str</td><td>u8</td><td>str</td><td>bool</td><td>i32</td><td>str</td><td>u8</td><td>str</td><td>i64</td><td>bool</td><td>bool</td><td>bool</td><td>bool</td><td>i32</td><td>i64</td><td>f64</td><td>i64</td><td>f64</td><td>i32</td><td>i32</td><td>bool</td><td>bool</td><td>i64</td><td>i64</td><td>bool</td><td>bool</td></tr></thead><tbody><tr><td>326</td><td>327</td><td>1</td><td>8</td><td>7</td><td>173527049</td><td>173527050</td><td>1</td><td>173392094</td><td>173392095</td><td>1</td><td>1</td><td>0</td><td>&quot;m64094e_220717…</td><td>15307</td><td>15307</td><td>true</td><td>60</td><td>&quot;chr2_RagTag&quot;</td><td>64</td><td>&quot;T&quot;</td><td>true</td><td>60</td><td>&quot;chr2_RagTag&quot;</td><td>64</td><td>&quot;C&quot;</td><td>0</td><td>true</td><td>false</td><td>true</td><td>true</td><td>0</td><td>0</td><td>0.0</td><td>0</td><td>0.0</td><td>0</td><td>0</td><td>false</td><td>false</td><td>7</td><td>11</td><td>false</td><td>false</td></tr><tr><td>866</td><td>867</td><td>1</td><td>8</td><td>7</td><td>173527589</td><td>173527590</td><td>1</td><td>173392634</td><td>173392635</td><td>1</td><td>3</td><td>0</td><td>&quot;m64094e_220717…</td><td>15307</td><td>15307</td><td>true</td><td>60</td><td>&quot;chr2_RagTag&quot;</td><td>93</td><td>&quot;G&quot;</td><td>true</td><td>60</td><td>&quot;chr2_RagTag&quot;</td><td>93</td><td>&quot;T&quot;</td><td>0</td><td>true</td><td>false</td><td>true</td><td>true</td><td>0</td><td>0</td><td>0.0</td><td>0</td><td>0.0</td><td>0</td><td>0</td><td>false</td><td>false</td><td>7</td><td>12</td><td>false</td><td>false</td></tr><tr><td>2603</td><td>2604</td><td>1</td><td>8</td><td>7</td><td>173529327</td><td>173529328</td><td>1</td><td>173394372</td><td>173394373</td><td>1</td><td>7</td><td>2</td><td>&quot;m64094e_220717…</td><td>15307</td><td>15307</td><td>true</td><td>60</td><td>&quot;chr2_RagTag&quot;</td><td>93</td><td>&quot;T&quot;</td><td>true</td><td>60</td><td>&quot;chr2_RagTag&quot;</td><td>93</td><td>&quot;C&quot;</td><td>0</td><td>true</td><td>false</td><td>true</td><td>true</td><td>0</td><td>0</td><td>0.0</td><td>0</td><td>0.0</td><td>0</td><td>0</td><td>true</td><td>true</td><td>6</td><td>11</td><td>true</td><td>true</td></tr><tr><td>3206</td><td>3207</td><td>1</td><td>8</td><td>7</td><td>173529930</td><td>173529931</td><td>1</td><td>173394975</td><td>173394976</td><td>1</td><td>9</td><td>2</td><td>&quot;m64094e_220717…</td><td>15307</td><td>15307</td><td>true</td><td>60</td><td>&quot;chr2_RagTag&quot;</td><td>31</td><td>&quot;A&quot;</td><td>true</td><td>60</td><td>&quot;chr2_RagTag&quot;</td><td>31</td><td>&quot;G&quot;</td><td>0</td><td>true</td><td>false</td><td>true</td><td>true</td><td>0</td><td>0</td><td>0.0</td><td>0</td><td>0.0</td><td>0</td><td>0</td><td>false</td><td>false</td><td>7</td><td>11</td><td>false</td><td>false</td></tr><tr><td>3725</td><td>3726</td><td>1</td><td>8</td><td>7</td><td>173530449</td><td>173530450</td><td>1</td><td>173395494</td><td>173395495</td><td>1</td><td>11</td><td>2</td><td>&quot;m64094e_220717…</td><td>15307</td><td>15307</td><td>true</td><td>60</td><td>&quot;chr2_RagTag&quot;</td><td>93</td><td>&quot;G&quot;</td><td>true</td><td>60</td><td>&quot;chr2_RagTag&quot;</td><td>93</td><td>&quot;A&quot;</td><td>0</td><td>true</td><td>false</td><td>true</td><td>true</td><td>0</td><td>0</td><td>0.0</td><td>0</td><td>0.0</td><td>0</td><td>0</td><td>true</td><td>true</td><td>7</td><td>12</td><td>true</td><td>true</td></tr></tbody></table></div>"
      ],
      "text/plain": [
       "shape: (5, 44)\n",
       "┌───────┬──────┬────────┬─────┬───┬────────────────┬───────────────┬───────────────┬───────────────┐\n",
       "│ start ┆ end  ┆ length ┆ op1 ┆ … ┆ hap1_certainty ┆ hap2_certaint ┆ is_high_quali ┆ is_high_quali │\n",
       "│ ---   ┆ ---  ┆ ---    ┆ --- ┆   ┆ _0.95_coverage ┆ y_0.95_covera ┆ ty_event      ┆ ty_snp        │\n",
       "│ i64   ┆ i64  ┆ i64    ┆ i64 ┆   ┆ ---            ┆ ge            ┆ ---           ┆ ---           │\n",
       "│       ┆      ┆        ┆     ┆   ┆ i64            ┆ ---           ┆ bool          ┆ bool          │\n",
       "│       ┆      ┆        ┆     ┆   ┆                ┆ i64           ┆               ┆               │\n",
       "╞═══════╪══════╪════════╪═════╪═══╪════════════════╪═══════════════╪═══════════════╪═══════════════╡\n",
       "│ 326   ┆ 327  ┆ 1      ┆ 8   ┆ … ┆ 7              ┆ 11            ┆ false         ┆ false         │\n",
       "│ 866   ┆ 867  ┆ 1      ┆ 8   ┆ … ┆ 7              ┆ 12            ┆ false         ┆ false         │\n",
       "│ 2603  ┆ 2604 ┆ 1      ┆ 8   ┆ … ┆ 6              ┆ 11            ┆ true          ┆ true          │\n",
       "│ 3206  ┆ 3207 ┆ 1      ┆ 8   ┆ … ┆ 7              ┆ 11            ┆ false         ┆ false         │\n",
       "│ 3725  ┆ 3726 ┆ 1      ┆ 8   ┆ … ┆ 7              ┆ 12            ┆ true          ┆ true          │\n",
       "└───────┴──────┴────────┴─────┴───┴────────────────┴───────────────┴───────────────┴───────────────┘"
      ]
     },
     "execution_count": 17,
     "metadata": {},
     "output_type": "execute_result"
    }
   ],
   "source": [
    "high_conf_snps_df.head()"
   ]
  },
  {
   "cell_type": "code",
   "execution_count": 18,
   "id": "59f0f242-4275-4b4d-8250-c028272f3e6e",
   "metadata": {},
   "outputs": [
    {
     "data": {
      "image/png": "[encoded data removed]",
      "text/plain": [
       "<Figure size 640x480 with 1 Axes>"
      ]
     },
     "metadata": {},
     "output_type": "display_data"
    }
   ],
   "source": [
    "plt.hist(\n",
    "    [\n",
    "        (high_conf_snps_df\n",
    "            .filter((pl.col(\"trf_repeat_length_hap1\") == 0) & (pl.col(\"trf_repeat_length_hap2\") == 0))\n",
    "            .select(pl.col(\"qual_start1\"))\n",
    "        )[\"qual_start1\"],\n",
    "        (high_conf_snps_df\n",
    "            .filter((pl.col(\"trf_repeat_length_hap1\") > 0) | (pl.col(\"trf_repeat_length_hap2\") > 0))\n",
    "            .select(pl.col(\"qual_start1\"))\n",
    "        )[\"qual_start1\"], \n",
    "    ],\n",
    "    bins=np.arange(1,94),\n",
    "    log=True,\n",
    "    density=True,\n",
    ");\n",
    "plt.title(\"High conf SNPs - TRF repeats\");\n",
    "plt.legend([\"In\", \"Out\"]);"
   ]
  },
  {
   "cell_type": "code",
   "execution_count": 19,
   "id": "c524338e-f82a-4f56-883b-5e0c4127a996",
   "metadata": {},
   "outputs": [
    {
     "data": {
      "image/png": "[encoded data removed]",
      "text/plain": [
       "<Figure size 640x480 with 1 Axes>"
      ]
     },
     "metadata": {},
     "output_type": "display_data"
    }
   ],
   "source": [
    "plt.hist(\n",
    "    [\n",
    "        (high_conf_snps_df\n",
    "            .filter((pl.col(\"sdust_repeat_length_hap1\") == 0) & (pl.col(\"sdust_repeat_length_hap2\") == 0))\n",
    "            .select(pl.col(\"qual_start1\"))\n",
    "        )[\"qual_start1\"],\n",
    "        (high_conf_snps_df\n",
    "            .filter((pl.col(\"sdust_repeat_length_hap1\") > 0) | (pl.col(\"sdust_repeat_length_hap2\") > 0))\n",
    "            .select(pl.col(\"qual_start1\"))\n",
    "        )[\"qual_start1\"], \n",
    "    ],\n",
    "    bins=np.arange(1,94),\n",
    "    log=True,\n",
    "    density=True,\n",
    ");\n",
    "plt.title(\"High conf SNPs - sdust repeats\");\n",
    "plt.legend([\"In\", \"Out\"]);"
   ]
  },
  {
   "cell_type": "markdown",
   "id": "40801b01-b413-4a26-83cb-aa5abe8a0b95",
   "metadata": {},
   "source": [
    "### Look at some examples to decide a threshold (select read and SNP here, check on dashboard)"
   ]
  },
  {
   "cell_type": "code",
   "execution_count": 20,
   "id": "804ef126-a9b3-4597-8ca1-914d791ef397",
   "metadata": {},
   "outputs": [],
   "source": [
    "# plt.hist(\n",
    "#     (cand_snps_df\n",
    "#         .select(pl.col(\"qual_start1\"))\n",
    "#     ), \n",
    "#     bins=np.arange(1,94),\n",
    "#     log=True\n",
    "# );\n"
   ]
  },
  {
   "cell_type": "code",
   "execution_count": 21,
   "id": "c9355972-c1c4-41f6-9e0a-bedfd1925a0c",
   "metadata": {},
   "outputs": [],
   "source": [
    "# with pl.Config(fmt_str_lengths=50, set_tbl_rows=-1):\n",
    "#     display(cand_snps_df\n",
    "#         .filter(pl.col(\"qual_start1\") < 20)\n",
    "#     )"
   ]
  },
  {
   "cell_type": "markdown",
   "id": "79e4d256-6b96-49a2-a5d2-5ead3faf7182",
   "metadata": {},
   "source": [
    "## Calibrate BQ based on alleles"
   ]
  },
  {
   "cell_type": "code",
   "execution_count": null,
   "id": "39bf1fd4-77f3-4d3e-9e7c-21144fbeaaf1",
   "metadata": {},
   "outputs": [],
   "source": []
  },
  {
   "cell_type": "code",
   "execution_count": null,
   "id": "5093ecf8-ff4a-46db-9d59-976c535d111e",
   "metadata": {},
   "outputs": [],
   "source": []
  },
  {
   "cell_type": "code",
   "execution_count": null,
   "id": "4c678588-ce9b-4b27-980c-1bff8f574bff",
   "metadata": {},
   "outputs": [],
   "source": []
  },
  {
   "cell_type": "markdown",
   "id": "06b8bf36-4f25-4be6-a769-d89029ce0b32",
   "metadata": {},
   "source": [
    "## Repeats"
   ]
  },
  {
   "cell_type": "code",
   "execution_count": 22,
   "id": "9ad4acb0-1bb8-4b59-b210-7b92be83dc69",
   "metadata": {},
   "outputs": [
    {
     "data": {
      "text/html": [
       "<div><style>\n",
       ".dataframe > thead > tr,\n",
       ".dataframe > tbody > tr {\n",
       "  text-align: right;\n",
       "  white-space: pre-wrap;\n",
       "}\n",
       "</style>\n",
       "<small>shape: (2, 5)</small><table border=\"1\" class=\"dataframe\"><thead><tr><th>is_phased_covered</th><th>is_not_trf</th><th>is_not_sdust</th><th>good_bq</th><th>count</th></tr><tr><td>bool</td><td>bool</td><td>bool</td><td>bool</td><td>u32</td></tr></thead><tbody><tr><td>true</td><td>true</td><td>true</td><td>true</td><td>1937902</td></tr><tr><td>false</td><td>true</td><td>true</td><td>true</td><td>11936</td></tr></tbody></table></div>"
      ],
      "text/plain": [
       "shape: (2, 5)\n",
       "┌───────────────────┬────────────┬──────────────┬─────────┬─────────┐\n",
       "│ is_phased_covered ┆ is_not_trf ┆ is_not_sdust ┆ good_bq ┆ count   │\n",
       "│ ---               ┆ ---        ┆ ---          ┆ ---     ┆ ---     │\n",
       "│ bool              ┆ bool       ┆ bool         ┆ bool    ┆ u32     │\n",
       "╞═══════════════════╪════════════╪══════════════╪═════════╪═════════╡\n",
       "│ true              ┆ true       ┆ true         ┆ true    ┆ 1937902 │\n",
       "│ false             ┆ true       ┆ true         ┆ true    ┆ 11936   │\n",
       "└───────────────────┴────────────┴──────────────┴─────────┴─────────┘"
      ]
     },
     "metadata": {},
     "output_type": "display_data"
    }
   ],
   "source": [
    "snp_stats_df = (high_conf_snps_df\n",
    "    .filter(pl.col(\"is_high_conf_snp\") == 1)\n",
    "    .select(\n",
    "        ((pl.col(\"hap1_certainty_0.95_coverage\") >= 3) & (pl.col(\"hap2_certainty_0.95_coverage\") >= 3)).alias(\"is_phased_covered\"),\n",
    "        ((pl.col(\"trf_repeat_length_hap1\") == 0) & (pl.col(\"trf_repeat_length_hap2\") == 0)).alias(\"is_not_trf\"),\n",
    "        ((pl.col(\"sdust_repeat_length_hap1\") == 0) & (pl.col(\"sdust_repeat_length_hap2\") == 0)).alias(\"is_not_sdust\"),\n",
    "        ((pl.col(\"qual_start1\") >= 60) & (pl.col(\"qual_start2\") >= 60)).alias(\"good_bq\"),\n",
    "    )\n",
    "    .group_by([\"is_phased_covered\", \"is_not_trf\", \"is_not_sdust\", \"good_bq\"])\n",
    "    .count()\n",
    "    .sort(by=\"count\", descending=True)\n",
    ")\n",
    "\n",
    "display(snp_stats_df)"
   ]
  },
  {
   "cell_type": "code",
   "execution_count": 23,
   "id": "461819bf-6e52-4a2a-95c2-4a9663c8a34e",
   "metadata": {},
   "outputs": [
    {
     "data": {
      "text/html": [
       "<div><style>\n",
       ".dataframe > thead > tr,\n",
       ".dataframe > tbody > tr {\n",
       "  text-align: right;\n",
       "  white-space: pre-wrap;\n",
       "}\n",
       "</style>\n",
       "<small>shape: (2, 3)</small><table border=\"1\" class=\"dataframe\"><thead><tr><th>is_phased_covered</th><th>count</th><th>frac</th></tr><tr><td>bool</td><td>u32</td><td>f64</td></tr></thead><tbody><tr><td>true</td><td>1937902</td><td>0.993878</td></tr><tr><td>false</td><td>11936</td><td>0.006122</td></tr></tbody></table></div>"
      ],
      "text/plain": [
       "shape: (2, 3)\n",
       "┌───────────────────┬─────────┬──────────┐\n",
       "│ is_phased_covered ┆ count   ┆ frac     │\n",
       "│ ---               ┆ ---     ┆ ---      │\n",
       "│ bool              ┆ u32     ┆ f64      │\n",
       "╞═══════════════════╪═════════╪══════════╡\n",
       "│ true              ┆ 1937902 ┆ 0.993878 │\n",
       "│ false             ┆ 11936   ┆ 0.006122 │\n",
       "└───────────────────┴─────────┴──────────┘"
      ]
     },
     "metadata": {},
     "output_type": "display_data"
    }
   ],
   "source": [
    "cols = [\"is_phased_covered\"]\n",
    "df = snp_stats_df.select(cols + [\"count\"]).group_by(cols).sum().sort(by=\"count\", descending=True)\n",
    "df = df.with_columns((df[\"count\"] / df[\"count\"].sum()).alias(\"frac\"))\n",
    "display(df)\n"
   ]
  },
  {
   "cell_type": "markdown",
   "id": "6ef21cea-b4ae-4bb5-9555-ce90c12842f3",
   "metadata": {},
   "source": [
    "# Noisy reads"
   ]
  },
  {
   "cell_type": "code",
   "execution_count": 24,
   "id": "3f281795-66cf-471c-88db-0298c3b29c9e",
   "metadata": {},
   "outputs": [],
   "source": [
    "noise_df = (events_df\n",
    "    .filter((pl.col(\"op1\") == 8) & (pl.col(\"op2\") == 8) & (pl.col(\"length\") == 1))\n",
    "    .group_by(\"read_name\")\n",
    "    .agg(\n",
    "        pl.col(\"length\").sum(),\n",
    "        pl.col(\"read_length1\").mean(),\n",
    "    )\n",
    ").collect()"
   ]
  },
  {
   "cell_type": "code",
   "execution_count": 25,
   "id": "3ba70daf-a916-48b8-acf1-346a4f698f89",
   "metadata": {},
   "outputs": [
    {
     "data": {
      "image/png": "[encoded data removed]",
      "text/plain": [
       "<Figure size 640x480 with 1 Axes>"
      ]
     },
     "metadata": {},
     "output_type": "display_data"
    }
   ],
   "source": [
    "plt.hist(noise_df[\"length\"], bins=np.arange(200), log=True, density=False);\n",
    "plt.title(\"# of SNP double mismatches\");"
   ]
  },
  {
   "cell_type": "code",
   "execution_count": 26,
   "id": "59b334a4-3ba8-4a63-b266-f129e99d3998",
   "metadata": {},
   "outputs": [
    {
     "data": {
      "text/plain": [
       "(493460, 26)"
      ]
     },
     "execution_count": 26,
     "metadata": {},
     "output_type": "execute_result"
    }
   ],
   "source": [
    "events_df.unique(\"read_name\").collect().shape"
   ]
  },
  {
   "cell_type": "code",
   "execution_count": 27,
   "id": "37a6f435-43d5-45ee-a1fe-37b893bc5bb7",
   "metadata": {},
   "outputs": [
    {
     "data": {
      "text/plain": [
       "(125341, 3)"
      ]
     },
     "execution_count": 27,
     "metadata": {},
     "output_type": "execute_result"
    }
   ],
   "source": [
    "noise_df.shape"
   ]
  },
  {
   "cell_type": "code",
   "execution_count": 28,
   "id": "41436ae2-d9c9-474b-9ca0-743a0169c8d3",
   "metadata": {},
   "outputs": [
    {
     "data": {
      "text/plain": [
       "0.7472955500703218"
      ]
     },
     "execution_count": 28,
     "metadata": {},
     "output_type": "execute_result"
    }
   ],
   "source": [
    "(493446 - 124696) / 493446"
   ]
  },
  {
   "cell_type": "code",
   "execution_count": 29,
   "id": "5196156f-e8f1-424b-b408-fd07fbd6f724",
   "metadata": {},
   "outputs": [
    {
     "data": {
      "text/plain": [
       "(10945, 3)"
      ]
     },
     "execution_count": 29,
     "metadata": {},
     "output_type": "execute_result"
    }
   ],
   "source": [
    "(noise_df.filter(pl.col(\"length\") > 10)).shape"
   ]
  },
  {
   "cell_type": "code",
   "execution_count": 30,
   "id": "b6dd30b9-0dca-4aed-836e-88f19c984569",
   "metadata": {},
   "outputs": [
    {
     "data": {
      "text/plain": [
       "0.9777949360213681"
      ]
     },
     "execution_count": 30,
     "metadata": {},
     "output_type": "execute_result"
    }
   ],
   "source": [
    "(493446 - 10957) / 493446"
   ]
  },
  {
   "cell_type": "code",
   "execution_count": 31,
   "id": "02110c46-ce69-4493-9c53-4a01b66413a5",
   "metadata": {},
   "outputs": [
    {
     "data": {
      "text/plain": [
       "(809, 3)"
      ]
     },
     "execution_count": 31,
     "metadata": {},
     "output_type": "execute_result"
    }
   ],
   "source": [
    "(noise_df.filter(pl.col(\"length\") > 30)).shape"
   ]
  },
  {
   "cell_type": "code",
   "execution_count": 32,
   "id": "ba2b96a6-29d6-495c-b5e8-16f442f125b8",
   "metadata": {},
   "outputs": [
    {
     "data": {
      "text/plain": [
       "0.9983544298666926"
      ]
     },
     "execution_count": 32,
     "metadata": {},
     "output_type": "execute_result"
    }
   ],
   "source": [
    "(493446 - 812) / 493446"
   ]
  },
  {
   "cell_type": "code",
   "execution_count": null,
   "id": "321b15be-49c8-450a-9510-6b9a2daa9d91",
   "metadata": {},
   "outputs": [],
   "source": []
  },
  {
   "cell_type": "code",
   "execution_count": 33,
   "id": "d7cc2aee-3903-48e1-aaac-6db330f8f063",
   "metadata": {},
   "outputs": [
    {
     "data": {
      "image/png": "[encoded data removed]",
      "text/plain": [
       "<Figure size 640x480 with 1 Axes>"
      ]
     },
     "metadata": {},
     "output_type": "display_data"
    }
   ],
   "source": [
    "plt.hist(\n",
    "    [\n",
    "        (high_conf_snps_df.select(pl.col(\"qual_start1\")))[\"qual_start1\"],\n",
    "        (events_df\n",
    "            .filter((pl.col(\"op1\") == 8) & (pl.col(\"op2\") == 8) & (pl.col(\"length\") == 1))\n",
    "            .select(\"qual_start1\")\n",
    "        ).collect()[\"qual_start1\"]\n",
    "    ], \n",
    "    bins=np.arange(1,94),\n",
    "    log=True, \n",
    "    density=True,\n",
    ");\n",
    "\n",
    "plt.legend([\"all high confidence SNPs\", \"Double mismatch SNPs\"])\n",
    "plt.ylabel(\"BQ\");\n"
   ]
  },
  {
   "cell_type": "code",
   "execution_count": 34,
   "id": "e485f59d-5a8b-493f-9f3c-de25e1776c3b",
   "metadata": {},
   "outputs": [
    {
     "data": {
      "image/png": "[encoded data removed]",
      "text/plain": [
       "<Figure size 640x480 with 1 Axes>"
      ]
     },
     "metadata": {},
     "output_type": "display_data"
    }
   ],
   "source": [
    "plt.hist(\n",
    "    [\n",
    "        (high_conf_snps_df\n",
    "            .group_by(\"read_name\")\n",
    "            .agg(pl.col(\"qual_start1\").mean())            \n",
    "        )[\"qual_start1\"],\n",
    "        (events_df\n",
    "            .filter((pl.col(\"op1\") == 8) & (pl.col(\"op2\") == 8) & (pl.col(\"length\") == 1))\n",
    "            .group_by(\"read_name\")\n",
    "            .agg(pl.col(\"qual_start1\").mean())\n",
    "        ).collect()[\"qual_start1\"]\n",
    "    ], \n",
    "    bins=np.arange(1,94),\n",
    "    log=False, \n",
    "    density=True,\n",
    ");\n",
    "\n",
    "plt.legend([\"all high confidence SNPs\", \"Double mismatch SNPs\"])\n",
    "plt.ylabel(\"Average SNP BQ along read\");\n",
    "plt.ylim(0,0.07);"
   ]
  },
  {
   "cell_type": "code",
   "execution_count": null,
   "id": "363c534d-40f3-4595-8857-dc0647048034",
   "metadata": {},
   "outputs": [],
   "source": []
  },
  {
   "cell_type": "code",
   "execution_count": 35,
   "id": "d71adb71-4e33-4b20-9459-23082145605f",
   "metadata": {},
   "outputs": [
    {
     "data": {
      "text/html": [
       "<div><style>\n",
       ".dataframe > thead > tr,\n",
       ".dataframe > tbody > tr {\n",
       "  text-align: right;\n",
       "  white-space: pre-wrap;\n",
       "}\n",
       "</style>\n",
       "<small>shape: (125_341, 3)</small><table border=\"1\" class=\"dataframe\"><thead><tr><th>read_name</th><th>length</th><th>read_length1</th></tr><tr><td>str</td><td>i64</td><td>f64</td></tr></thead><tbody><tr><td>&quot;m64094e_220715…</td><td>2</td><td>9060.0</td></tr><tr><td>&quot;m64174e_220620…</td><td>1</td><td>7624.0</td></tr><tr><td>&quot;m64094e_220717…</td><td>7</td><td>13120.0</td></tr><tr><td>&quot;m64174e_220620…</td><td>4</td><td>6881.0</td></tr><tr><td>&quot;m64174e_220620…</td><td>5</td><td>26740.0</td></tr><tr><td>&quot;m64174e_220620…</td><td>1</td><td>15175.0</td></tr><tr><td>&quot;m64094e_220717…</td><td>3</td><td>7948.0</td></tr><tr><td>&quot;m64094e_220715…</td><td>6</td><td>17706.0</td></tr><tr><td>&quot;m64094e_220717…</td><td>3</td><td>23937.0</td></tr><tr><td>&quot;m64094e_220715…</td><td>1</td><td>12801.0</td></tr><tr><td>&quot;m64094e_220717…</td><td>6</td><td>10672.0</td></tr><tr><td>&quot;m64094e_220717…</td><td>2</td><td>17387.0</td></tr><tr><td>&hellip;</td><td>&hellip;</td><td>&hellip;</td></tr><tr><td>&quot;m64174e_220620…</td><td>6</td><td>9965.0</td></tr><tr><td>&quot;m64094e_220717…</td><td>12</td><td>22112.0</td></tr><tr><td>&quot;m64094e_220717…</td><td>1</td><td>5104.0</td></tr><tr><td>&quot;m64094e_220715…</td><td>1</td><td>26080.0</td></tr><tr><td>&quot;m64094e_220717…</td><td>3</td><td>19169.0</td></tr><tr><td>&quot;m64174e_220620…</td><td>8</td><td>12948.0</td></tr><tr><td>&quot;m64094e_220717…</td><td>8</td><td>8535.0</td></tr><tr><td>&quot;m64174e_220620…</td><td>1</td><td>20912.0</td></tr><tr><td>&quot;m64094e_220717…</td><td>1</td><td>14337.0</td></tr><tr><td>&quot;m64094e_220715…</td><td>1</td><td>6090.0</td></tr><tr><td>&quot;m64174e_220620…</td><td>6</td><td>17512.0</td></tr><tr><td>&quot;m64174e_220620…</td><td>20</td><td>18680.0</td></tr></tbody></table></div>"
      ],
      "text/plain": [
       "shape: (125_341, 3)\n",
       "┌───────────────────────────────────┬────────┬──────────────┐\n",
       "│ read_name                         ┆ length ┆ read_length1 │\n",
       "│ ---                               ┆ ---    ┆ ---          │\n",
       "│ str                               ┆ i64    ┆ f64          │\n",
       "╞═══════════════════════════════════╪════════╪══════════════╡\n",
       "│ m64094e_220715_151527/159451889/… ┆ 2      ┆ 9060.0       │\n",
       "│ m64174e_220620_110709/57542566/c… ┆ 1      ┆ 7624.0       │\n",
       "│ m64094e_220717_002414/18745485/c… ┆ 7      ┆ 13120.0      │\n",
       "│ m64174e_220620_110709/127468834/… ┆ 4      ┆ 6881.0       │\n",
       "│ …                                 ┆ …      ┆ …            │\n",
       "│ m64094e_220717_002414/130091423/… ┆ 1      ┆ 14337.0      │\n",
       "│ m64094e_220715_151527/57608109/c… ┆ 1      ┆ 6090.0       │\n",
       "│ m64174e_220620_110709/10682435/c… ┆ 6      ┆ 17512.0      │\n",
       "│ m64174e_220620_110709/175704597/… ┆ 20     ┆ 18680.0      │\n",
       "└───────────────────────────────────┴────────┴──────────────┘"
      ]
     },
     "execution_count": 35,
     "metadata": {},
     "output_type": "execute_result"
    }
   ],
   "source": [
    "noise_df"
   ]
  },
  {
   "cell_type": "code",
   "execution_count": 36,
   "id": "54844d7a-7cf6-4b3f-93ed-ed444c5e318c",
   "metadata": {},
   "outputs": [],
   "source": [
    "events_df_with_mismatches = (events_df\n",
    "    .join(\n",
    "        (events_df\n",
    "            .filter((pl.col(\"op1\") == 8) & (pl.col(\"op2\") == 8) & (pl.col(\"length\") == 1))\n",
    "            .group_by(\"read_name\")\n",
    "            .agg(\n",
    "                pl.col(\"length\").sum().alias(\"total_mismatches\"),\n",
    "            )\n",
    "        ),\n",
    "        on=\"read_name\",\n",
    "        how=\"left\",\n",
    "    )\n",
    "    .fill_null(0)\n",
    ").collect()"
   ]
  },
  {
   "cell_type": "code",
   "execution_count": 37,
   "id": "1092b7ea-f49c-4716-9ca3-76ef72c75ad1",
   "metadata": {},
   "outputs": [
    {
     "data": {
      "image/png": "[encoded data removed]",
      "text/plain": [
       "<Figure size 640x480 with 1 Axes>"
      ]
     },
     "metadata": {},
     "output_type": "display_data"
    }
   ],
   "source": [
    "plt.hist(events_df_with_mismatches[\"total_mismatches\"], bins=np.arange(0,50), log=True);"
   ]
  },
  {
   "cell_type": "code",
   "execution_count": null,
   "id": "c649bc46-4c4e-4c37-8085-7262a8142720",
   "metadata": {},
   "outputs": [],
   "source": []
  },
  {
   "cell_type": "markdown",
   "id": "e81b696c-d294-4f61-93e9-2c0e75d4be40",
   "metadata": {
    "tags": []
   },
   "source": [
    "# Analyze common transitions"
   ]
  },
  {
   "cell_type": "code",
   "execution_count": 38,
   "id": "22457164-bdd3-461b-ad8c-9b7158df82b1",
   "metadata": {},
   "outputs": [],
   "source": [
    "cand_snps_df = (high_conf_snps_df\n",
    "    .join(candidates_df, on=\"read_name\")\n",
    "    .filter(\"is_high_quality_snp\")\n",
    "    .sort(by=[\"read_name\", \"start\"])\n",
    ")\n",
    "\n",
    "nzi = np.nonzero((np.diff(cand_snps_df[\"fits1_more\"])!=0) & (cand_snps_df[\"read_name\"][:-1] == cand_snps_df[\"read_name\"][1:]).to_numpy())[0]"
   ]
  },
  {
   "cell_type": "code",
   "execution_count": 39,
   "id": "efd63170-7d80-434b-9ed2-04b037a640a1",
   "metadata": {},
   "outputs": [
    {
     "data": {
      "text/html": [
       "<div><style>\n",
       ".dataframe > thead > tr,\n",
       ".dataframe > tbody > tr {\n",
       "  text-align: right;\n",
       "  white-space: pre-wrap;\n",
       "}\n",
       "</style>\n",
       "<small>shape: (6, 5)</small><table border=\"1\" class=\"dataframe\"><thead><tr><th>first_hap1</th><th>second_hap1</th><th>first_hap2</th><th>second_hap2</th><th>count</th></tr><tr><td>i64</td><td>i64</td><td>i64</td><td>i64</td><td>u32</td></tr></thead><tbody><tr><td>130255093</td><td>130271408</td><td>130686690</td><td>130703005</td><td>2</td></tr><tr><td>221448905</td><td>221449976</td><td>221038225</td><td>221039296</td><td>2</td></tr><tr><td>97315334</td><td>97321892</td><td>97724090</td><td>97730648</td><td>2</td></tr><tr><td>233208301</td><td>233216667</td><td>232620237</td><td>232628586</td><td>2</td></tr><tr><td>58992587</td><td>59006431</td><td>58087540</td><td>58101384</td><td>2</td></tr><tr><td>182532538</td><td>182535131</td><td>182329127</td><td>182331721</td><td>2</td></tr></tbody></table></div>"
      ],
      "text/plain": [
       "shape: (6, 5)\n",
       "┌────────────┬─────────────┬────────────┬─────────────┬───────┐\n",
       "│ first_hap1 ┆ second_hap1 ┆ first_hap2 ┆ second_hap2 ┆ count │\n",
       "│ ---        ┆ ---         ┆ ---        ┆ ---         ┆ ---   │\n",
       "│ i64        ┆ i64         ┆ i64        ┆ i64         ┆ u32   │\n",
       "╞════════════╪═════════════╪════════════╪═════════════╪═══════╡\n",
       "│ 130255093  ┆ 130271408   ┆ 130686690  ┆ 130703005   ┆ 2     │\n",
       "│ 221448905  ┆ 221449976   ┆ 221038225  ┆ 221039296   ┆ 2     │\n",
       "│ 97315334   ┆ 97321892    ┆ 97724090   ┆ 97730648    ┆ 2     │\n",
       "│ 233208301  ┆ 233216667   ┆ 232620237  ┆ 232628586   ┆ 2     │\n",
       "│ 58992587   ┆ 59006431    ┆ 58087540   ┆ 58101384    ┆ 2     │\n",
       "│ 182532538  ┆ 182535131   ┆ 182329127  ┆ 182331721   ┆ 2     │\n",
       "└────────────┴─────────────┴────────────┴─────────────┴───────┘"
      ]
     },
     "execution_count": 39,
     "metadata": {},
     "output_type": "execute_result"
    }
   ],
   "source": [
    "common_trans_df = (\n",
    "    pl.DataFrame({\n",
    "        \"first_hap1\": cand_snps_df[nzi][\"ref1_start\"], \n",
    "        \"second_hap1\": cand_snps_df[nzi+1][\"ref1_start\"],\n",
    "        \"first_hap2\": cand_snps_df[nzi][\"ref2_start\"], \n",
    "        \"second_hap2\": cand_snps_df[nzi+1][\"ref2_start\"],\n",
    "    })\n",
    "    .group_by([\"first_hap1\", \"second_hap1\", \"first_hap2\", \"second_hap2\"])\n",
    "    .count()\n",
    "    .sort(by=\"count\", descending=True)\n",
    "    .filter(pl.col(\"count\") > 1)\n",
    ")\n",
    "\n",
    "common_trans_df"
   ]
  },
  {
   "cell_type": "code",
   "execution_count": 40,
   "id": "87b61a4c-2bab-408d-8f46-e1c6b55675bb",
   "metadata": {},
   "outputs": [
    {
     "data": {
      "text/html": [
       "<div><style>\n",
       ".dataframe > thead > tr,\n",
       ".dataframe > tbody > tr {\n",
       "  text-align: right;\n",
       "  white-space: pre-wrap;\n",
       "}\n",
       "</style>\n",
       "<small>shape: (0,)</small><table border=\"1\" class=\"dataframe\"><thead><tr><th>read_name</th></tr><tr><td>str</td></tr></thead><tbody></tbody></table></div>"
      ],
      "text/plain": [
       "shape: (0,)\n",
       "Series: 'read_name' [str]\n",
       "[\n",
       "]"
      ]
     },
     "metadata": {},
     "output_type": "display_data"
    }
   ],
   "source": [
    "with pl.Config(fmt_str_lengths=50, set_tbl_rows=-1):\n",
    "    display(\n",
    "        (cand_snps_df\n",
    "            .filter(pl.col(\"ref1_start\") == 233205286)\n",
    "        )[\"read_name\"]\n",
    "    )"
   ]
  },
  {
   "cell_type": "markdown",
   "id": "998613f1-c2a9-4387-9491-c199552191bd",
   "metadata": {},
   "source": [
    "# Compare COs with Sangjin's results?"
   ]
  },
  {
   "cell_type": "markdown",
   "id": "9376aa35-c2b1-45c1-ab4b-c407c8cb7cd3",
   "metadata": {},
   "source": [
    "## Loading files using T2T as reference"
   ]
  },
  {
   "cell_type": "code",
   "execution_count": 41,
   "id": "7071187b-edec-4389-bc0f-d7747521ec20",
   "metadata": {},
   "outputs": [],
   "source": [
    "t2t_hapfusion_output_path = Path(\"/lustre/scratch126/casm/team154pc/sl17/03.sperm/02.results/01.read_alignment/01.ccs/03.T2T-CHM13\")\n",
    "\n",
    "def t2t_load_files(sample_id):\n",
    "    data_path = t2t_hapfusion_output_path / sample_id\n",
    "\n",
    "    reads_df = pd.read_csv(\n",
    "        str(data_path / f\"chm13.{sample_id}.hapfusion.txt\"),\n",
    "        comment=\"#\",\n",
    "        delim_whitespace=True,\n",
    "        header=None,\n",
    "    )\n",
    "\n",
    "    log_df = pd.read_csv(\n",
    "        str(data_path / \"hapfusion.log\"),\n",
    "        delim_whitespace=True,\n",
    "        index_col=0,\n",
    "    )\n",
    "\n",
    "    candidates_df = pd.read_csv(\n",
    "        str(data_path / \"hapfusion_candidates.txt\"),\n",
    "        delim_whitespace=True,\n",
    "    )\n",
    "\n",
    "    return {\"reads\": reads_df, \"summary\": log_df, \"candidates\": candidates_df}\n",
    "\n"
   ]
  },
  {
   "cell_type": "markdown",
   "id": "649a6387-dea8-4d79-aedb-2e72ff1a524f",
   "metadata": {},
   "source": [
    "## Loading files using de-novo assembly as reference"
   ]
  },
  {
   "cell_type": "code",
   "execution_count": 42,
   "id": "7fb7ddd7-3b2a-498b-b2f0-d514c4781f11",
   "metadata": {},
   "outputs": [],
   "source": [
    "denovo_hapfusion_output_path = Path(\"/lustre/scratch126/casm/team154pc/sl17/03.sperm/02.results/01.read_alignment/01.ccs/04.hifiasm/02.hifiasm_0.19.5-r592/02.chromosome_length_scaffolds\")\n",
    "\n",
    "def denovo_load_files(sample_id):\n",
    "    data_path = denovo_hapfusion_output_path / sample_id\n",
    "    if not (data_path / f\"{sample_id}.hapfusion.txt\").exists():\n",
    "        data_path = denovo_hapfusion_output_path / sample_id / sample_id\n",
    "\n",
    "    reads_df = pd.read_csv(\n",
    "        str(data_path / f\"{sample_id}.hapfusion.txt\"),\n",
    "        comment=\"#\",\n",
    "        delim_whitespace=True,\n",
    "        header=None,\n",
    "    )\n",
    "\n",
    "    log_df = pd.read_csv(\n",
    "        str(data_path / \"hapfusion.log\"),\n",
    "        delim_whitespace=True,\n",
    "        index_col=0,\n",
    "    )\n",
    "\n",
    "    candidates_df = pd.read_csv(\n",
    "        str(data_path / \"hapfusion_candidates.txt\"),\n",
    "        delim_whitespace=True,\n",
    "    )\n",
    "\n",
    "    return {\"reads\": reads_df, \"summary\": log_df, \"candidates\": candidates_df}\n",
    "\n",
    "\n",
    "\n"
   ]
  },
  {
   "cell_type": "markdown",
   "id": "9f2f3f2f-fb10-4083-946e-2449ac839d37",
   "metadata": {},
   "source": [
    "# What is the intersection and difference between references?"
   ]
  },
  {
   "cell_type": "code",
   "execution_count": 43,
   "id": "be9b5aac-40ad-4848-a604-1c65aa7da517",
   "metadata": {},
   "outputs": [
    {
     "name": "stdout",
     "output_type": "stream",
     "text": [
      "PD50489e\n",
      "CPU times: user 25.1 s, sys: 4.34 s, total: 29.4 s\n",
      "Wall time: 1min 34s\n"
     ]
    }
   ],
   "source": [
    "%%time\n",
    "\n",
    "t2t_true_reads_dfs = {}\n",
    "\n",
    "for sample_id in [focal_sample_id]:\n",
    "    print(sample_id)\n",
    "\n",
    "    F = t2t_load_files(sample_id)\n",
    "    reads_df = F[\"reads\"]\n",
    "    \n",
    "    reads_df[\"read_chrom\"] = reads_df[0].str.split(':').str[0]\n",
    "    reads_df[\"read_start_pos_0based\"] = reads_df[0].str.split(':').str[1].str.split('-').str[0].astype(int)\n",
    "    reads_df[\"read_end_pos_0based\"] = reads_df[0].str.split(':').str[1].str.split('-').str[1].astype(int)\n",
    "\n",
    "    reads_df = reads_df[(reads_df[4] == \"CO\")]\n",
    "\n",
    "    reads_df = annotate.annonate_with_mappability_mask(reads_df)\n",
    "    reads_df = annotate.annotate_with_cm_ranges(reads_df) \n",
    "    reads_df = annotate.annotate_with_crossover_detection_prob(\n",
    "        reads_df,\n",
    "        annotate.get_all_hets(sample_id)\n",
    "    )\n",
    "\n",
    "    t2t_true_reads_dfs[sample_id] = reads_df   "
   ]
  },
  {
   "cell_type": "code",
   "execution_count": 44,
   "id": "f2629a1d-ca9a-4239-b4e1-9ad6d0490fc9",
   "metadata": {},
   "outputs": [
    {
     "name": "stdout",
     "output_type": "stream",
     "text": [
      "PD50489e\n",
      "CPU times: user 429 ms, sys: 40.8 ms, total: 470 ms\n",
      "Wall time: 988 ms\n"
     ]
    }
   ],
   "source": [
    "%%time\n",
    "\n",
    "denovo_true_reads_dfs = {}\n",
    "\n",
    "for sample_id in [focal_sample_id]:\n",
    "    print(sample_id)\n",
    "\n",
    "    F = denovo_load_files(sample_id)\n",
    "    reads_df = F[\"reads\"]\n",
    "    \n",
    "    reads_df[\"read_chrom\"] = reads_df[0].str.split(':').str[0].str.replace(\"_RagTag\", \"\")\n",
    "    reads_df[\"read_start_pos_0based\"] = reads_df[0].str.split(':').str[1].str.split('-').str[0].astype(int)\n",
    "    reads_df[\"read_end_pos_0based\"] = reads_df[0].str.split(':').str[1].str.split('-').str[1].astype(int)\n",
    "\n",
    "    reads_df = reads_df[(reads_df[4] == \"CO\")]\n",
    "\n",
    "    denovo_true_reads_dfs[sample_id] = reads_df   "
   ]
  },
  {
   "cell_type": "code",
   "execution_count": 45,
   "id": "9ce8b86f-e367-49b9-b008-ac424c5cce61",
   "metadata": {},
   "outputs": [
    {
     "data": {
      "text/html": [
       "<div>\n",
       "<style scoped>\n",
       "    .dataframe tbody tr th:only-of-type {\n",
       "        vertical-align: middle;\n",
       "    }\n",
       "\n",
       "    .dataframe tbody tr th {\n",
       "        vertical-align: top;\n",
       "    }\n",
       "\n",
       "    .dataframe thead th {\n",
       "        text-align: right;\n",
       "    }\n",
       "</style>\n",
       "<table border=\"1\" class=\"dataframe\">\n",
       "  <thead>\n",
       "    <tr style=\"text-align: right;\">\n",
       "      <th></th>\n",
       "      <th>0</th>\n",
       "      <th>1</th>\n",
       "      <th>2</th>\n",
       "      <th>3</th>\n",
       "      <th>4</th>\n",
       "      <th>5</th>\n",
       "      <th>6</th>\n",
       "      <th>7</th>\n",
       "      <th>8</th>\n",
       "      <th>9</th>\n",
       "      <th>10</th>\n",
       "      <th>11</th>\n",
       "      <th>12</th>\n",
       "      <th>read_chrom</th>\n",
       "      <th>read_start_pos_0based</th>\n",
       "      <th>read_end_pos_0based</th>\n",
       "    </tr>\n",
       "  </thead>\n",
       "  <tbody>\n",
       "    <tr>\n",
       "      <th>1763</th>\n",
       "      <td>chr2_RagTag:78723144-78727622</td>\n",
       "      <td>m64174e_220620_110709/27656998/ccs</td>\n",
       "      <td>78725747</td>\n",
       "      <td>PASS</td>\n",
       "      <td>CO</td>\n",
       "      <td>0'</td>\n",
       "      <td>2.9841510670730145</td>\n",
       "      <td>1443</td>\n",
       "      <td>-0000111</td>\n",
       "      <td>00000000</td>\n",
       "      <td>11111111</td>\n",
       "      <td>chr2_RagTag:78725747_G/T,chr2_RagTag:78725758_...</td>\n",
       "      <td>.</td>\n",
       "      <td>chr2</td>\n",
       "      <td>78723144</td>\n",
       "      <td>78727622</td>\n",
       "    </tr>\n",
       "    <tr>\n",
       "      <th>1865</th>\n",
       "      <td>chr2_RagTag:107928358-107936285</td>\n",
       "      <td>m64174e_220620_110709/28901817/ccs</td>\n",
       "      <td>107930501</td>\n",
       "      <td>PASS</td>\n",
       "      <td>CO</td>\n",
       "      <td>0'</td>\n",
       "      <td>2.9999999984964383</td>\n",
       "      <td>809</td>\n",
       "      <td>00000000111</td>\n",
       "      <td>00000000000</td>\n",
       "      <td>11111111111</td>\n",
       "      <td>chr2_RagTag:107930501_A/G,chr2_RagTag:10793060...</td>\n",
       "      <td>.</td>\n",
       "      <td>chr2</td>\n",
       "      <td>107928358</td>\n",
       "      <td>107936285</td>\n",
       "    </tr>\n",
       "    <tr>\n",
       "      <th>1898</th>\n",
       "      <td>chr2_RagTag:113476698-113485455</td>\n",
       "      <td>m64174e_220620_110709/178127291/ccs</td>\n",
       "      <td>113476798</td>\n",
       "      <td>PASS</td>\n",
       "      <td>CO</td>\n",
       "      <td>0'</td>\n",
       "      <td>4.999999997494064</td>\n",
       "      <td>2100</td>\n",
       "      <td>00000000000--11111</td>\n",
       "      <td>000000000000000000</td>\n",
       "      <td>111111111111111111</td>\n",
       "      <td>chr2_RagTag:113476798_G/C,chr2_RagTag:11347683...</td>\n",
       "      <td>.</td>\n",
       "      <td>chr2</td>\n",
       "      <td>113476698</td>\n",
       "      <td>113485455</td>\n",
       "    </tr>\n",
       "    <tr>\n",
       "      <th>1991</th>\n",
       "      <td>chr2_RagTag:130739077-130747199</td>\n",
       "      <td>m64174e_220620_110709/2425357/ccs</td>\n",
       "      <td>130732330</td>\n",
       "      <td>PASS</td>\n",
       "      <td>CO</td>\n",
       "      <td>0'</td>\n",
       "      <td>3.999999997995251</td>\n",
       "      <td>5020</td>\n",
       "      <td>1111--0000000</td>\n",
       "      <td>0000000000000</td>\n",
       "      <td>1111111111111</td>\n",
       "      <td>chr2_RagTag:130740895_T/A,chr2_RagTag:13074211...</td>\n",
       "      <td>.</td>\n",
       "      <td>chr2</td>\n",
       "      <td>130739077</td>\n",
       "      <td>130747199</td>\n",
       "    </tr>\n",
       "    <tr>\n",
       "      <th>1992</th>\n",
       "      <td>chr2_RagTag:130740065-130747199</td>\n",
       "      <td>m64174e_220620_110709/45877758/ccs</td>\n",
       "      <td>130732330</td>\n",
       "      <td>PASS</td>\n",
       "      <td>CO</td>\n",
       "      <td>0'</td>\n",
       "      <td>3.999999997995251</td>\n",
       "      <td>5020</td>\n",
       "      <td>1111--0000000</td>\n",
       "      <td>0000000000000</td>\n",
       "      <td>1111111111111</td>\n",
       "      <td>chr2_RagTag:130740895_T/A,chr2_RagTag:13074211...</td>\n",
       "      <td>.</td>\n",
       "      <td>chr2</td>\n",
       "      <td>130740065</td>\n",
       "      <td>130747199</td>\n",
       "    </tr>\n",
       "    <tr>\n",
       "      <th>1993</th>\n",
       "      <td>chr2_RagTag:130741639-130747169</td>\n",
       "      <td>m64174e_220620_110709/109641835/ccs</td>\n",
       "      <td>130732330</td>\n",
       "      <td>PASS</td>\n",
       "      <td>CO</td>\n",
       "      <td>0'</td>\n",
       "      <td>2.9999999984964383</td>\n",
       "      <td>3798</td>\n",
       "      <td>111--000000</td>\n",
       "      <td>00000000000</td>\n",
       "      <td>11111111111</td>\n",
       "      <td>chr2_RagTag:130742117_T/C,chr2_RagTag:13074572...</td>\n",
       "      <td>.</td>\n",
       "      <td>chr2</td>\n",
       "      <td>130741639</td>\n",
       "      <td>130747169</td>\n",
       "    </tr>\n",
       "    <tr>\n",
       "      <th>2247</th>\n",
       "      <td>chr2_RagTag:175981895-175993330</td>\n",
       "      <td>m64174e_220620_110709/130024432/ccs</td>\n",
       "      <td>175974986</td>\n",
       "      <td>PASS</td>\n",
       "      <td>CO</td>\n",
       "      <td>0'</td>\n",
       "      <td>8.67856812346725</td>\n",
       "      <td>4002</td>\n",
       "      <td>11111111100000000000000000</td>\n",
       "      <td>00000000000000000000000000</td>\n",
       "      <td>11111111111111111111111111</td>\n",
       "      <td>chr2_RagTag:175982016_G/A,chr2_RagTag:17598307...</td>\n",
       "      <td>.</td>\n",
       "      <td>chr2</td>\n",
       "      <td>175981895</td>\n",
       "      <td>175993330</td>\n",
       "    </tr>\n",
       "  </tbody>\n",
       "</table>\n",
       "</div>"
      ],
      "text/plain": [
       "                                    0                                    1  \\\n",
       "1763    chr2_RagTag:78723144-78727622   m64174e_220620_110709/27656998/ccs   \n",
       "1865  chr2_RagTag:107928358-107936285   m64174e_220620_110709/28901817/ccs   \n",
       "1898  chr2_RagTag:113476698-113485455  m64174e_220620_110709/178127291/ccs   \n",
       "1991  chr2_RagTag:130739077-130747199    m64174e_220620_110709/2425357/ccs   \n",
       "1992  chr2_RagTag:130740065-130747199   m64174e_220620_110709/45877758/ccs   \n",
       "1993  chr2_RagTag:130741639-130747169  m64174e_220620_110709/109641835/ccs   \n",
       "2247  chr2_RagTag:175981895-175993330  m64174e_220620_110709/130024432/ccs   \n",
       "\n",
       "              2     3   4   5                   6     7  \\\n",
       "1763   78725747  PASS  CO  0'  2.9841510670730145  1443   \n",
       "1865  107930501  PASS  CO  0'  2.9999999984964383   809   \n",
       "1898  113476798  PASS  CO  0'   4.999999997494064  2100   \n",
       "1991  130732330  PASS  CO  0'   3.999999997995251  5020   \n",
       "1992  130732330  PASS  CO  0'   3.999999997995251  5020   \n",
       "1993  130732330  PASS  CO  0'  2.9999999984964383  3798   \n",
       "2247  175974986  PASS  CO  0'    8.67856812346725  4002   \n",
       "\n",
       "                               8                           9  \\\n",
       "1763                    -0000111                    00000000   \n",
       "1865                 00000000111                 00000000000   \n",
       "1898          00000000000--11111          000000000000000000   \n",
       "1991               1111--0000000               0000000000000   \n",
       "1992               1111--0000000               0000000000000   \n",
       "1993                 111--000000                 00000000000   \n",
       "2247  11111111100000000000000000  00000000000000000000000000   \n",
       "\n",
       "                              10  \\\n",
       "1763                    11111111   \n",
       "1865                 11111111111   \n",
       "1898          111111111111111111   \n",
       "1991               1111111111111   \n",
       "1992               1111111111111   \n",
       "1993                 11111111111   \n",
       "2247  11111111111111111111111111   \n",
       "\n",
       "                                                     11 12 read_chrom  \\\n",
       "1763  chr2_RagTag:78725747_G/T,chr2_RagTag:78725758_...  .       chr2   \n",
       "1865  chr2_RagTag:107930501_A/G,chr2_RagTag:10793060...  .       chr2   \n",
       "1898  chr2_RagTag:113476798_G/C,chr2_RagTag:11347683...  .       chr2   \n",
       "1991  chr2_RagTag:130740895_T/A,chr2_RagTag:13074211...  .       chr2   \n",
       "1992  chr2_RagTag:130740895_T/A,chr2_RagTag:13074211...  .       chr2   \n",
       "1993  chr2_RagTag:130742117_T/C,chr2_RagTag:13074572...  .       chr2   \n",
       "2247  chr2_RagTag:175982016_G/A,chr2_RagTag:17598307...  .       chr2   \n",
       "\n",
       "      read_start_pos_0based  read_end_pos_0based  \n",
       "1763               78723144             78727622  \n",
       "1865              107928358            107936285  \n",
       "1898              113476698            113485455  \n",
       "1991              130739077            130747199  \n",
       "1992              130740065            130747199  \n",
       "1993              130741639            130747169  \n",
       "2247              175981895            175993330  "
      ]
     },
     "execution_count": 45,
     "metadata": {},
     "output_type": "execute_result"
    }
   ],
   "source": [
    "denovo_true_reads_dfs[focal_sample_id].query(\"read_chrom == 'chr2'\")"
   ]
  },
  {
   "cell_type": "code",
   "execution_count": 46,
   "id": "8cf89d5f-1ae8-409d-bb83-5113caba0ff8",
   "metadata": {},
   "outputs": [
    {
     "data": {
      "text/html": [
       "<div><style>\n",
       ".dataframe > thead > tr,\n",
       ".dataframe > tbody > tr {\n",
       "  text-align: right;\n",
       "  white-space: pre-wrap;\n",
       "}\n",
       "</style>\n",
       "<small>shape: (1,)</small><table border=\"1\" class=\"dataframe\"><thead><tr><th>8</th></tr><tr><td>str</td></tr></thead><tbody><tr><td>&quot;000000100100000000000000000000000000010&quot;</td></tr></tbody></table></div>"
      ],
      "text/plain": [
       "shape: (1,)\n",
       "Series: '8' [str]\n",
       "[\n",
       "\t\"000000100100000000000000000000000000010\"\n",
       "]"
      ]
     },
     "metadata": {},
     "output_type": "display_data"
    }
   ],
   "source": [
    "with pl.Config(fmt_str_lengths=50, set_tbl_rows=-1):\n",
    "    display(\n",
    "        pl.from_pandas(t2t_true_reads_dfs[focal_sample_id]).filter(pl.col(\"1\") == \"m64094e_220717_002414/151453760/ccs\")[0][\"8\"]\n",
    "    )"
   ]
  },
  {
   "cell_type": "code",
   "execution_count": null,
   "id": "8b907c2d-4771-4ec3-b906-91b0642b7179",
   "metadata": {},
   "outputs": [],
   "source": []
  },
  {
   "cell_type": "code",
   "execution_count": null,
   "id": "c6120be0-412a-4d14-9792-c57a7c43a986",
   "metadata": {},
   "outputs": [],
   "source": []
  },
  {
   "cell_type": "code",
   "execution_count": 47,
   "id": "356d6d40-2288-4aa3-976c-8f95c68b26e1",
   "metadata": {},
   "outputs": [
    {
     "data": {
      "text/html": [
       "<div>\n",
       "<style scoped>\n",
       "    .dataframe tbody tr th:only-of-type {\n",
       "        vertical-align: middle;\n",
       "    }\n",
       "\n",
       "    .dataframe tbody tr th {\n",
       "        vertical-align: top;\n",
       "    }\n",
       "\n",
       "    .dataframe thead th {\n",
       "        text-align: right;\n",
       "    }\n",
       "</style>\n",
       "<table border=\"1\" class=\"dataframe\">\n",
       "  <thead>\n",
       "    <tr style=\"text-align: right;\">\n",
       "      <th></th>\n",
       "      <th>1</th>\n",
       "    </tr>\n",
       "  </thead>\n",
       "  <tbody>\n",
       "    <tr>\n",
       "      <th>17</th>\n",
       "      <td>m64094e_220715_151527/102828298/ccs</td>\n",
       "    </tr>\n",
       "    <tr>\n",
       "      <th>18</th>\n",
       "      <td>m64174e_220620_110709/132777640/ccs</td>\n",
       "    </tr>\n",
       "    <tr>\n",
       "      <th>19</th>\n",
       "      <td>m64174e_220620_110709/85134000/ccs</td>\n",
       "    </tr>\n",
       "    <tr>\n",
       "      <th>20</th>\n",
       "      <td>m64174e_220620_110709/28901817/ccs</td>\n",
       "    </tr>\n",
       "    <tr>\n",
       "      <th>21</th>\n",
       "      <td>m64174e_220620_110709/130024432/ccs</td>\n",
       "    </tr>\n",
       "    <tr>\n",
       "      <th>22</th>\n",
       "      <td>m64174e_220620_110709/81462762/ccs</td>\n",
       "    </tr>\n",
       "    <tr>\n",
       "      <th>23</th>\n",
       "      <td>m64094e_220717_002414/151453760/ccs</td>\n",
       "    </tr>\n",
       "    <tr>\n",
       "      <th>24</th>\n",
       "      <td>m64094e_220717_002414/52888901/ccs</td>\n",
       "    </tr>\n",
       "  </tbody>\n",
       "</table>\n",
       "</div>"
      ],
      "text/plain": [
       "                                      1\n",
       "17  m64094e_220715_151527/102828298/ccs\n",
       "18  m64174e_220620_110709/132777640/ccs\n",
       "19   m64174e_220620_110709/85134000/ccs\n",
       "20   m64174e_220620_110709/28901817/ccs\n",
       "21  m64174e_220620_110709/130024432/ccs\n",
       "22   m64174e_220620_110709/81462762/ccs\n",
       "23  m64094e_220717_002414/151453760/ccs\n",
       "24   m64094e_220717_002414/52888901/ccs"
      ]
     },
     "execution_count": 47,
     "metadata": {},
     "output_type": "execute_result"
    }
   ],
   "source": [
    "t2t_true_reads_dfs[focal_sample_id].query(\"read_chrom == 'chr2'\")[[1]]"
   ]
  },
  {
   "cell_type": "markdown",
   "id": "5ab8de99-8c5c-4221-9b8e-33a88bee514c",
   "metadata": {},
   "source": [
    "# Are transition SNPs near the ends of reads?"
   ]
  },
  {
   "cell_type": "code",
   "execution_count": 48,
   "id": "63f9387d-4fd7-43e1-9f0e-45aae6ea2d08",
   "metadata": {},
   "outputs": [],
   "source": [
    "cand_snps_df = (high_conf_snps_df\n",
    "    .join(candidates_df, on=\"read_name\")\n",
    "    .filter(\"is_high_quality_snp\")\n",
    "    .sort(by=[\"read_name\", \"start\"])\n",
    ")\n",
    "\n",
    "nzi = np.nonzero((np.diff(cand_snps_df[\"fits1_more\"])!=0) & (cand_snps_df[\"read_name\"][:-1] == cand_snps_df[\"read_name\"][1:]).to_numpy())[0]"
   ]
  },
  {
   "cell_type": "code",
   "execution_count": 49,
   "id": "d3a62436-3a72-48c0-908a-f7934a03a98f",
   "metadata": {},
   "outputs": [
    {
     "data": {
      "image/png": "[encoded data removed]",
      "text/plain": [
       "<Figure size 640x480 with 1 Axes>"
      ]
     },
     "metadata": {},
     "output_type": "display_data"
    }
   ],
   "source": [
    "plt.hist(\n",
    "    [\n",
    "        (cand_snps_df[nzi]\n",
    "            .select((pl.col(\"start\") / pl.col(\"read_length1\")).alias(\"relative_start\"))\n",
    "        )[\"relative_start\"],\n",
    "        (high_conf_snps_df\n",
    "            .filter(\"is_high_quality_snp\")\n",
    "            .select((pl.col(\"start\") / pl.col(\"read_length1\")).alias(\"relative_start\"))\n",
    "        )[\"relative_start\"],\n",
    "    ],\n",
    "    bins=np.linspace(0,1,21),\n",
    "    density=True,\n",
    ");\n",
    "\n",
    "plt.legend([\"SNP transition (first of two)\", \"All high quality SNPs\"]);"
   ]
  },
  {
   "cell_type": "code",
   "execution_count": 50,
   "id": "c6ff6455-ffc9-4066-981b-b7245682b956",
   "metadata": {},
   "outputs": [
    {
     "data": {
      "image/png": "[encoded data removed]",
      "text/plain": [
       "<Figure size 640x480 with 1 Axes>"
      ]
     },
     "metadata": {},
     "output_type": "display_data"
    }
   ],
   "source": [
    "plt.hist(\n",
    "    [\n",
    "        (cand_snps_df[nzi+1]\n",
    "            .select((pl.col(\"end\") / pl.col(\"read_length1\")).alias(\"relative_end\"))\n",
    "        )[\"relative_end\"],\n",
    "        (high_conf_snps_df\n",
    "            .filter(\"is_high_quality_snp\")\n",
    "            .select((pl.col(\"end\") / pl.col(\"read_length1\")).alias(\"relative_end\"))\n",
    "        )[\"relative_end\"],\n",
    "    ],\n",
    "    bins=np.linspace(0,1,21),\n",
    "    density=True,\n",
    ");\n",
    "\n",
    "plt.legend([\"SNP transition (second of two)\", \"All high quality SNPs\"]);"
   ]
  },
  {
   "cell_type": "code",
   "execution_count": 51,
   "id": "af5e8cde-ed9b-4a45-beb5-fbe7fe337fbc",
   "metadata": {},
   "outputs": [
    {
     "data": {
      "image/png": "[encoded data removed]",
      "text/plain": [
       "<Figure size 640x480 with 1 Axes>"
      ]
     },
     "metadata": {},
     "output_type": "display_data"
    }
   ],
   "source": [
    "plt.hist(\n",
    "    [\n",
    "        cand_snps_df[nzi][\"start\"],\n",
    "        high_conf_snps_df.filter(\"is_high_quality_snp\")[\"start\"],\n",
    "    ],\n",
    "    bins=np.arange(0, 10000, 100), #np.linspace(0,1,21),\n",
    "    density=True,\n",
    ");\n",
    "\n",
    "plt.legend([\"SNP transition (first of two)\", \"All high quality SNPs\"]);"
   ]
  },
  {
   "cell_type": "code",
   "execution_count": null,
   "id": "a967af38-87a4-4ad7-9f58-5ad20b6c240a",
   "metadata": {},
   "outputs": [],
   "source": []
  },
  {
   "cell_type": "code",
   "execution_count": null,
   "id": "c7e6fae0-7c9c-4e4b-ac41-4c1c42b1e2ad",
   "metadata": {},
   "outputs": [],
   "source": []
  },
  {
   "cell_type": "code",
   "execution_count": null,
   "id": "b27069a9-5b05-428c-9252-df68c5500097",
   "metadata": {},
   "outputs": [],
   "source": []
  },
  {
   "cell_type": "markdown",
   "id": "a0fe0c13-7680-413d-8023-e8862177be3a",
   "metadata": {},
   "source": [
    "# Check phasing blocks?"
   ]
  },
  {
   "cell_type": "code",
   "execution_count": 52,
   "id": "c5a7607a-e2c4-4744-a1d4-cecef524a08e",
   "metadata": {},
   "outputs": [],
   "source": [
    "backbam1 = pysam.AlignmentFile(\n",
    "    \"/lustre/scratch126/casm/team154pc/sl17/03.sperm/02.results/01.read_alignment/01.ccs/04.hifiasm/02.hifiasm_0.19.5-r592/02.chromosome_length_scaffolds/PD50489e/PD50489e.hap1.minimap2_back_contigs.sorted.bam\",\n",
    ")\n",
    "\n",
    "backbam2 = pysam.AlignmentFile(\n",
    "    \"/lustre/scratch126/casm/team154pc/sl17/03.sperm/02.results/01.read_alignment/01.ccs/04.hifiasm/02.hifiasm_0.19.5-r592/02.chromosome_length_scaffolds/PD50489e/PD50489e.hap2.minimap2_back_contigs.sorted.bam\",\n",
    ")"
   ]
  },
  {
   "cell_type": "code",
   "execution_count": 53,
   "id": "da2f0533-9808-4ae2-8cfb-b59518486bf9",
   "metadata": {},
   "outputs": [
    {
     "name": "stderr",
     "output_type": "stream",
     "text": [
      "14286it [00:26, 534.12it/s] \n",
      "20344it [00:46, 434.95it/s]  \n"
     ]
    }
   ],
   "source": [
    "contigs = set()\n",
    "contig_to_cigar_stats1 = {}\n",
    "contig_to_cigar_stats2 = {}\n",
    "\n",
    "for aln1 in tqdm.tqdm(backbam1.fetch()):\n",
    "    if not aln1.is_secondary or aln1.is_supplementary:\n",
    "        contigs.add(aln1.query_name)\n",
    "        contig_to_cigar_stats1[aln1.query_name] = aln1.query_alignment_length - aln1.get_cigar_stats()[0][0]  \n",
    "        \n",
    "for aln2 in tqdm.tqdm(backbam2.fetch()):\n",
    "    if not aln2.is_secondary or aln2.is_supplementary:\n",
    "        contigs.add(aln2.query_name)\n",
    "        contig_to_cigar_stats2[aln2.query_name] = aln2.query_alignment_length - aln2.get_cigar_stats()[0][0] \n"
   ]
  },
  {
   "cell_type": "code",
   "execution_count": 54,
   "id": "ecceefbc-7e61-4b93-8dd4-d9e5af44e0fd",
   "metadata": {},
   "outputs": [
    {
     "data": {
      "image/png": "[encoded data removed]",
      "text/plain": [
       "<Figure size 640x480 with 1 Axes>"
      ]
     },
     "metadata": {},
     "output_type": "display_data"
    }
   ],
   "source": [
    "plt.scatter(\n",
    "    [contig_to_cigar_stats1.get(contig, -1) for contig in contigs],\n",
    "    [contig_to_cigar_stats2.get(contig, -1) for contig in contigs],\n",
    "    s=5,\n",
    ");\n",
    "plt.xlabel(\"# of non-aligned bps, to hap1\");\n",
    "plt.ylabel(\"# of non-aligned bps, to hap2\");\n",
    "plt.xlim(-100,10000);\n",
    "plt.ylim(-100,10000);"
   ]
  },
  {
   "cell_type": "code",
   "execution_count": 55,
   "id": "fd8d9f0d-82ec-4d14-8638-75698ff27e55",
   "metadata": {},
   "outputs": [
    {
     "data": {
      "image/png": "[encoded data removed]",
      "text/plain": [
       "<Figure size 640x480 with 1 Axes>"
      ]
     },
     "metadata": {},
     "output_type": "display_data"
    }
   ],
   "source": [
    "plt.hist(\n",
    "    [contig_to_cigar_stats1.get(contig, -1)-contig_to_cigar_stats2.get(contig, -1) for contig in contigs],\n",
    "    bins=np.linspace(-1e4,1e4,100),\n",
    ");"
   ]
  },
  {
   "cell_type": "code",
   "execution_count": 56,
   "id": "3a965bd6-b494-4c81-a44f-c2f2b51df033",
   "metadata": {},
   "outputs": [],
   "source": [
    "xxx = [(1-contig_to_cigar_stats1.get(contig, -1), 1-contig_to_cigar_stats2.get(contig, -1)) for contig in contigs]\n"
   ]
  },
  {
   "cell_type": "code",
   "execution_count": 57,
   "id": "193ad973-7bc4-4abc-9766-9c38b3e5d0cb",
   "metadata": {},
   "outputs": [
    {
     "name": "stdout",
     "output_type": "stream",
     "text": [
      "851\n",
      "70\n",
      "1\n"
     ]
    }
   ],
   "source": [
    "print(len(xxx))\n",
    "print(len([x for x in xxx if x[0] == 0 or x[1] == 0]))\n",
    "print(len([x for x in xxx if x[0] == 0 and x[1] == 0]))"
   ]
  },
  {
   "cell_type": "code",
   "execution_count": 58,
   "id": "5985479b-4137-4be3-b018-6251a03e641c",
   "metadata": {},
   "outputs": [
    {
     "data": {
      "text/plain": [
       "0.10928319623971798"
      ]
     },
     "execution_count": 58,
     "metadata": {},
     "output_type": "execute_result"
    }
   ],
   "source": [
    "(93)/851"
   ]
  },
  {
   "cell_type": "markdown",
   "id": "e6c8a181-6eb4-45ed-9cf4-4445c6d69402",
   "metadata": {},
   "source": [
    "# Do reads overlap gaps in scaffolding?"
   ]
  },
  {
   "cell_type": "code",
   "execution_count": 59,
   "id": "f0ba5364-377f-4d74-a704-a8e73ff25110",
   "metadata": {},
   "outputs": [],
   "source": [
    "denovo_hap1_fasta_file = Path(\"/lustre/scratch126/casm/team154pc/sl17/03.sperm/01.data/05.ragtag/03.haplotype_specific_scaffolds\") \\\n",
    "            / f\"{focal_sample_id}\" / \"haplotype_1\" / \"ragtag.scaffold.fasta\"\n",
    "denovo_hap2_fasta_file = Path(\"/lustre/scratch126/casm/team154pc/sl17/03.sperm/01.data/05.ragtag/03.haplotype_specific_scaffolds\") \\\n",
    "            / f\"{focal_sample_id}\" / \"haplotype_2\" / \"ragtag.scaffold.fasta\"\n",
    "\n",
    "denovo_hap1_alignment_bam_file = Path(\"/lustre/scratch126/casm/team154pc/sl17/03.sperm/02.results/01.read_alignment/01.ccs/04.hifiasm/02.hifiasm_0.19.5-r592/02.chromosome_length_scaffolds/\") \\\n",
    "            / f\"{focal_sample_id}\" / f\"{focal_sample_id}.hap1.minimap2.sorted.primary_alignments.bam\"\n",
    "denovo_hap2_alignment_bam_file = Path(\"/lustre/scratch126/casm/team154pc/sl17/03.sperm/02.results/01.read_alignment/01.ccs/04.hifiasm/02.hifiasm_0.19.5-r592/02.chromosome_length_scaffolds/\") \\\n",
    "            / f\"{focal_sample_id}\" / f\"{focal_sample_id}.hap2.minimap2.sorted.primary_alignments.bam\"\n",
    "\n",
    "denovo_hap1_bam = pysam.AlignmentFile(denovo_hap1_alignment_bam_file)\n",
    "denovo_hap2_bam = pysam.AlignmentFile(denovo_hap2_alignment_bam_file)\n"
   ]
  },
  {
   "cell_type": "code",
   "execution_count": 60,
   "id": "95df626c-8886-413d-b3de-cd4297cb8532",
   "metadata": {},
   "outputs": [],
   "source": [
    "focal_sample_id = \"PD50489e\"\n",
    "t2t_chrom = \"chr2\"\n",
    "denovo_chrom = t2t_chrom + \"_RagTag\"\n",
    "\n",
    "from Bio import SeqIO\n",
    "for record1 in SeqIO.parse(denovo_hap1_fasta_file, format=\"fasta\"):\n",
    "    if denovo_chrom in record1.id:\n",
    "        break\n",
    "        \n",
    "for record2 in SeqIO.parse(denovo_hap2_fasta_file, format=\"fasta\"):\n",
    "    if denovo_chrom in record2.id:\n",
    "        break        "
   ]
  },
  {
   "cell_type": "code",
   "execution_count": 61,
   "id": "f81b8451-8b7c-4f92-8c6c-440b24ce55d4",
   "metadata": {},
   "outputs": [],
   "source": [
    "test_read = \"m64094e_220715_151527/83298762/ccs\""
   ]
  },
  {
   "cell_type": "code",
   "execution_count": 62,
   "id": "304c1ccf-51b4-45bf-bef1-8a88f78b9048",
   "metadata": {},
   "outputs": [
    {
     "name": "stdout",
     "output_type": "stream",
     "text": [
      "found it\n",
      "found it\n",
      "CPU times: user 18.7 s, sys: 1.13 s, total: 19.8 s\n",
      "Wall time: 43.4 s\n"
     ]
    }
   ],
   "source": [
    "%%time\n",
    "for denovo_hap1_read_aln in denovo_hap1_bam.fetch(denovo_chrom, multiple_iterators=True):\n",
    "    if denovo_hap1_read_aln.query_name == test_read:\n",
    "        print(\"found it\")\n",
    "        break\n",
    "\n",
    "for denovo_hap2_read_aln in denovo_hap2_bam.fetch(denovo_chrom, multiple_iterators=True):\n",
    "    if denovo_hap2_read_aln.query_name == test_read:\n",
    "        print(\"found it\")\n",
    "        break\n",
    "        "
   ]
  },
  {
   "cell_type": "code",
   "execution_count": 63,
   "id": "a0e3c543-965c-4c26-937e-5645c8817b65",
   "metadata": {},
   "outputs": [
    {
     "data": {
      "text/plain": [
       "False"
      ]
     },
     "execution_count": 63,
     "metadata": {},
     "output_type": "execute_result"
    }
   ],
   "source": [
    "'N' in record1.seq[denovo_hap1_read_aln.reference_start:denovo_hap1_read_aln.reference_end]"
   ]
  },
  {
   "cell_type": "code",
   "execution_count": 64,
   "id": "533a7769-94cb-46fa-95c9-b140305bb10f",
   "metadata": {},
   "outputs": [
    {
     "data": {
      "text/plain": [
       "10468"
      ]
     },
     "execution_count": 64,
     "metadata": {},
     "output_type": "execute_result"
    }
   ],
   "source": [
    "denovo_hap1_read_aln.reference_length"
   ]
  },
  {
   "cell_type": "code",
   "execution_count": 65,
   "id": "4b14de24-1119-4963-9c76-70fb14078d0f",
   "metadata": {},
   "outputs": [
    {
     "data": {
      "text/plain": [
       "-1"
      ]
     },
     "execution_count": 65,
     "metadata": {},
     "output_type": "execute_result"
    }
   ],
   "source": [
    "record1.seq[denovo_hap1_read_aln.reference_start:denovo_hap1_read_aln.reference_end].find('N')"
   ]
  },
  {
   "cell_type": "code",
   "execution_count": 66,
   "id": "463e11ef-6324-4123-8a55-3267c1cd3ca3",
   "metadata": {},
   "outputs": [
    {
     "data": {
      "text/plain": [
       "False"
      ]
     },
     "execution_count": 66,
     "metadata": {},
     "output_type": "execute_result"
    }
   ],
   "source": [
    "'N' in record2.seq[denovo_hap2_read_aln.reference_start:denovo_hap2_read_aln.reference_end]"
   ]
  },
  {
   "cell_type": "code",
   "execution_count": null,
   "id": "eb7eeabf-236c-4ebb-a1b4-80ee1546aef2",
   "metadata": {},
   "outputs": [],
   "source": []
  },
  {
   "cell_type": "code",
   "execution_count": null,
   "id": "e3a9e2ad-dbd3-4506-97d2-2c55bda97b92",
   "metadata": {},
   "outputs": [],
   "source": []
  },
  {
   "cell_type": "code",
   "execution_count": 67,
   "id": "eace2c4b-dd01-4845-b748-8bc550e6749f",
   "metadata": {},
   "outputs": [
    {
     "name": "stdout",
     "output_type": "stream",
     "text": [
      "found something m64094e_220717_002414/102762061/ccs 18356 21085\n"
     ]
    }
   ],
   "source": [
    "for denovo_hap1_read_aln in denovo_hap1_bam.fetch(denovo_chrom, multiple_iterators=True):\n",
    "    ref = record1.seq[denovo_hap1_read_aln.reference_start:denovo_hap1_read_aln.reference_end]\n",
    "    if 'N' in ref:\n",
    "        print(\"found something\", denovo_hap1_read_aln.query_name, ref.find('N'), len(ref))\n",
    "        break"
   ]
  },
  {
   "cell_type": "code",
   "execution_count": null,
   "id": "32c32ad9-c652-4e56-8e11-a31371d58d4e",
   "metadata": {},
   "outputs": [],
   "source": []
  },
  {
   "cell_type": "markdown",
   "id": "652a660b-c921-41bc-bf98-459fe2225794",
   "metadata": {},
   "source": [
    "# Classify SNPs - test code"
   ]
  },
  {
   "cell_type": "code",
   "execution_count": 68,
   "id": "91ff7d73-6c52-4aff-bfaf-c3a6696da4fe",
   "metadata": {},
   "outputs": [
    {
     "name": "stdout",
     "output_type": "stream",
     "text": [
      "CPU times: user 2.77 s, sys: 1.58 s, total: 4.35 s\n",
      "Wall time: 5.18 s\n"
     ]
    }
   ],
   "source": [
    "%%time\n",
    "sample_ids = [\n",
    "    \"PD50477f\",\n",
    "    # \"PD50508bf\", -- ignore; merged two sampling dates just for phasing, but should be analyzed separately\n",
    "    \"PD50519d\",\n",
    "    # \"PD47269d\", -- don't use, not there\n",
    "    \"PD50508f\",\n",
    "    # \"PD50511e\", -- don't use, likely mixture\n",
    "    \"PD50523b\",\n",
    "    # \"PD48473b\", -- don't use, not there\n",
    "    \"PD50521b\",\n",
    "    \"PD50508b\",\n",
    "    # \"PD50521be\", -- ignore; merged two sampling dates just for phasing, but should be analyzed separately\n",
    "    \"PD46180c\",\n",
    "    # \"PD50502f\", -- don't use, likely mixture\n",
    "    \"PD50521e\",\n",
    "    # \"PD50511e_SS\",  --- don't use\n",
    "    \"PD50489e\",\n",
    "]\n",
    "\n",
    "\n",
    "all_res = []\n",
    "\n",
    "def dome(focal_sample_id, denovo_chrom):\n",
    "    candidates_df = pl.read_parquet(\n",
    "        Path(\"/lustre/scratch126/casm/team154pc/sl17/03.sperm/02.results/01.read_alignment/01.ccs/04.hifiasm/02.hifiasm_0.19.5-r592/02.chromosome_length_scaffolds/\") \\\n",
    "            / f\"{focal_sample_id}\" / \"reads\" / f\"{denovo_chrom}.certainty_0.95.candidate_reads.parquet\"\n",
    "    )\n",
    "\n",
    "    snps_df = pl.read_parquet(\n",
    "        Path(\"/lustre/scratch126/casm/team154pc/sl17/03.sperm/02.results/01.read_alignment/01.ccs/04.hifiasm/02.hifiasm_0.19.5-r592/02.chromosome_length_scaffolds/\") \\\n",
    "            / f\"{focal_sample_id}\" / \"reads\" / f\"{denovo_chrom}.certainty_0.95.snps.parquet\"\n",
    "    )\n",
    "    \n",
    "    cov1_df = pl.read_parquet(\n",
    "        Path(\"/lustre/scratch126/casm/team154pc/sl17/03.sperm/02.results/01.read_alignment/01.ccs/04.hifiasm/02.hifiasm_0.19.5-r592/02.chromosome_length_scaffolds/\") \\\n",
    "            / f\"{focal_sample_id}\" / \"reads\" / f\"{denovo_chrom}.certainty_0.95.candidate_reads.hap1.coverage_refinement.parquet\"\n",
    "    )\n",
    "\n",
    "    cov2_df = pl.read_parquet(\n",
    "        Path(\"/lustre/scratch126/casm/team154pc/sl17/03.sperm/02.results/01.read_alignment/01.ccs/04.hifiasm/02.hifiasm_0.19.5-r592/02.chromosome_length_scaffolds/\") \\\n",
    "            / f\"{focal_sample_id}\" / \"reads\" / f\"{denovo_chrom}.certainty_0.95.candidate_reads.hap2.coverage_refinement.parquet\"\n",
    "    )\n",
    "    \n",
    "    res_df = diagnostics.classify_all_reads(\n",
    "        snps_df,\n",
    "        candidates_df,\n",
    "        cov1_df,\n",
    "        cov2_df,\n",
    "    )\n",
    "    \n",
    "    res_df = res_df.with_columns(pl.lit(denovo_chrom).alias(\"chrom\"), pl.lit(focal_sample_id).alias(\"sample_id\"))\n",
    "\n",
    "    # res_df = diagnostics.classify_read(snps_df\n",
    "    #     .filter(pl.col(\"read_name\") == \"m64174e_220620_110709/24904780/ccs\")\n",
    "    #     .join(cov1_df, on=[\"read_name\", \"start\", \"end\"], how=\"outer\")\n",
    "    #     .join(cov2_df, on=[\"read_name\", \"start\", \"end\"], how=\"outer\")\n",
    "    # )  \n",
    "    \n",
    "    \n",
    "    return res_df\n",
    "    \n",
    "all_res_df = dome(\"PD50489e\", \"chr2_RagTag\")\n",
    "# all_res = joblib.Parallel(n_jobs=-1, verbose=10)(\n",
    "#     joblib.delayed(dome)(focal_sample_id, chrom + \"_RagTag\") \\\n",
    "#         for chrom in [\"chr2\"] #aut_chrom_names \n",
    "#         for focal_sample_id in [\"PD50489e\"] #sample_ids\n",
    "# )\n",
    "        \n",
    "# all_res_df = pl.concat(all_res)"
   ]
  },
  {
   "cell_type": "code",
   "execution_count": null,
   "id": "5c656c21-4e2d-4e96-95dd-f4538d2ec8cc",
   "metadata": {},
   "outputs": [],
   "source": []
  },
  {
   "cell_type": "code",
   "execution_count": 69,
   "id": "4d0b8bf4-19e9-457e-81a7-5268b534be70",
   "metadata": {},
   "outputs": [
    {
     "data": {
      "text/html": [
       "<div><style>\n",
       ".dataframe > thead > tr,\n",
       ".dataframe > tbody > tr {\n",
       "  text-align: right;\n",
       "  white-space: pre-wrap;\n",
       "}\n",
       "</style>\n",
       "<small>shape: (36, 11)</small><table border=\"1\" class=\"dataframe\"><thead><tr><th>read_name</th><th>read_length</th><th>n_transitions</th><th>idx_transitions</th><th>snp_positions_on_read</th><th>class</th><th>min_coverage_between_transitions_hap1</th><th>min_coverage_between_transitions_hap2</th><th>has_common_transition</th><th>chrom</th><th>sample_id</th></tr><tr><td>str</td><td>i64</td><td>i64</td><td>list[i64]</td><td>list[i64]</td><td>str</td><td>i64</td><td>i64</td><td>bool</td><td>str</td><td>str</td></tr></thead><tbody><tr><td>&quot;m64174e_220620_110709/114033682/ccs&quot;</td><td>19373</td><td>1</td><td>[0]</td><td>[4940, 14173, 16968]</td><td>&quot;ambiguous&quot;</td><td>1</td><td>4</td><td>false</td><td>&quot;chr2_RagTag&quot;</td><td>&quot;PD50489e&quot;</td></tr><tr><td>&quot;m64094e_220715_151527/153551949/ccs&quot;</td><td>16692</td><td>1</td><td>[0]</td><td>[2661, 10723]</td><td>&quot;ambiguous&quot;</td><td>5</td><td>4</td><td>false</td><td>&quot;chr2_RagTag&quot;</td><td>&quot;PD50489e&quot;</td></tr><tr><td>&quot;m64094e_220717_002414/70780745/ccs&quot;</td><td>13226</td><td>1</td><td>[2]</td><td>[2130, 2343, … 11510]</td><td>&quot;ambiguous&quot;</td><td>2</td><td>4</td><td>false</td><td>&quot;chr2_RagTag&quot;</td><td>&quot;PD50489e&quot;</td></tr><tr><td>&quot;m64174e_220620_110709/26609769/ccs&quot;</td><td>23910</td><td>1</td><td>[3]</td><td>[1891, 2970, … 21030]</td><td>&quot;CO&quot;</td><td>1</td><td>3</td><td>false</td><td>&quot;chr2_RagTag&quot;</td><td>&quot;PD50489e&quot;</td></tr><tr><td>&quot;m64174e_220620_110709/119145114/ccs&quot;</td><td>24195</td><td>1</td><td>[0]</td><td>[5677, 21990]</td><td>&quot;ambiguous&quot;</td><td>0</td><td>1</td><td>true</td><td>&quot;chr2_RagTag&quot;</td><td>&quot;PD50489e&quot;</td></tr><tr><td>&quot;m64174e_220620_110709/130024432/ccs&quot;</td><td>11481</td><td>1</td><td>[0]</td><td>[2040, 5947, … 9613]</td><td>&quot;ambiguous&quot;</td><td>17</td><td>8</td><td>false</td><td>&quot;chr2_RagTag&quot;</td><td>&quot;PD50489e&quot;</td></tr><tr><td>&quot;m64094e_220715_151527/21168853/ccs&quot;</td><td>26205</td><td>1</td><td>[0]</td><td>[3025, 20448]</td><td>&quot;ambiguous&quot;</td><td>3</td><td>3</td><td>false</td><td>&quot;chr2_RagTag&quot;</td><td>&quot;PD50489e&quot;</td></tr><tr><td>&quot;m64094e_220715_151527/26741085/ccs&quot;</td><td>25647</td><td>1</td><td>[5]</td><td>[2151, 2632, … 23645]</td><td>&quot;CO&quot;</td><td>8</td><td>3</td><td>false</td><td>&quot;chr2_RagTag&quot;</td><td>&quot;PD50489e&quot;</td></tr><tr><td>&quot;m64094e_220717_002414/148310378/ccs&quot;</td><td>18537</td><td>1</td><td>[4]</td><td>[3167, 4301, … 16391]</td><td>&quot;CO&quot;</td><td>11</td><td>7</td><td>false</td><td>&quot;chr2_RagTag&quot;</td><td>&quot;PD50489e&quot;</td></tr><tr><td>&quot;m64094e_220717_002414/21496008/ccs&quot;</td><td>30679</td><td>1</td><td>[1]</td><td>[6181, 8876, … 26616]</td><td>&quot;CO&quot;</td><td>2</td><td>4</td><td>false</td><td>&quot;chr2_RagTag&quot;</td><td>&quot;PD50489e&quot;</td></tr><tr><td>&quot;m64174e_220620_110709/148833082/ccs&quot;</td><td>7594</td><td>1</td><td>[0]</td><td>[1621, 2898]</td><td>&quot;ambiguous&quot;</td><td>13</td><td>6</td><td>false</td><td>&quot;chr2_RagTag&quot;</td><td>&quot;PD50489e&quot;</td></tr><tr><td>&quot;m64174e_220620_110709/50987745/ccs&quot;</td><td>14446</td><td>1</td><td>[5]</td><td>[2058, 4215, … 11340]</td><td>&quot;CO&quot;</td><td>1</td><td>3</td><td>true</td><td>&quot;chr2_RagTag&quot;</td><td>&quot;PD50489e&quot;</td></tr><tr><td>&quot;m64094e_220715_151527/74646136/ccs&quot;</td><td>21601</td><td>1</td><td>[7]</td><td>[1849, 2190, … 20058]</td><td>&quot;CO&quot;</td><td>1</td><td>3</td><td>false</td><td>&quot;chr2_RagTag&quot;</td><td>&quot;PD50489e&quot;</td></tr><tr><td>&quot;m64094e_220715_151527/70976535/ccs&quot;</td><td>23321</td><td>1</td><td>[0]</td><td>[4168, 20476]</td><td>&quot;ambiguous&quot;</td><td>0</td><td>1</td><td>true</td><td>&quot;chr2_RagTag&quot;</td><td>&quot;PD50489e&quot;</td></tr><tr><td>&quot;m64174e_220620_110709/8258601/ccs&quot;</td><td>24437</td><td>1</td><td>[4]</td><td>[1944, 2010, … 22410]</td><td>&quot;CO&quot;</td><td>2</td><td>1</td><td>true</td><td>&quot;chr2_RagTag&quot;</td><td>&quot;PD50489e&quot;</td></tr><tr><td>&quot;m64174e_220620_110709/75367551/ccs&quot;</td><td>8859</td><td>1</td><td>[0]</td><td>[3915, 6505]</td><td>&quot;ambiguous&quot;</td><td>1</td><td>3</td><td>true</td><td>&quot;chr2_RagTag&quot;</td><td>&quot;PD50489e&quot;</td></tr><tr><td>&quot;m64174e_220620_110709/152307770/ccs&quot;</td><td>25766</td><td>1</td><td>[20]</td><td>[3639, 3875, … 23830]</td><td>&quot;CO&quot;</td><td>9</td><td>14</td><td>false</td><td>&quot;chr2_RagTag&quot;</td><td>&quot;PD50489e&quot;</td></tr><tr><td>&quot;m64094e_220717_002414/52888901/ccs&quot;</td><td>18130</td><td>1</td><td>[10]</td><td>[4784, 6355, … 15413]</td><td>&quot;CO&quot;</td><td>8</td><td>12</td><td>false</td><td>&quot;chr2_RagTag&quot;</td><td>&quot;PD50489e&quot;</td></tr><tr><td>&quot;m64174e_220620_110709/50792114/ccs&quot;</td><td>25019</td><td>1</td><td>[0]</td><td>[3875, 17716]</td><td>&quot;ambiguous&quot;</td><td>2</td><td>1</td><td>true</td><td>&quot;chr2_RagTag&quot;</td><td>&quot;PD50489e&quot;</td></tr><tr><td>&quot;m64174e_220620_110709/145230119/ccs&quot;</td><td>19182</td><td>1</td><td>[1]</td><td>[2297, 3141, … 12558]</td><td>&quot;CO&quot;</td><td>5</td><td>3</td><td>true</td><td>&quot;chr2_RagTag&quot;</td><td>&quot;PD50489e&quot;</td></tr><tr><td>&quot;m64094e_220717_002414/155911258/ccs&quot;</td><td>14513</td><td>1</td><td>[7]</td><td>[1730, 2109, … 12904]</td><td>&quot;ambiguous&quot;</td><td>2</td><td>4</td><td>false</td><td>&quot;chr2_RagTag&quot;</td><td>&quot;PD50489e&quot;</td></tr><tr><td>&quot;m64174e_220620_110709/24904780/ccs&quot;</td><td>20996</td><td>1</td><td>[0]</td><td>[4825, 18671]</td><td>&quot;ambiguous&quot;</td><td>2</td><td>1</td><td>true</td><td>&quot;chr2_RagTag&quot;</td><td>&quot;PD50489e&quot;</td></tr><tr><td>&quot;m64174e_220620_110709/80742143/ccs&quot;</td><td>19087</td><td>1</td><td>[0]</td><td>[1752, 8311, 11166]</td><td>&quot;ambiguous&quot;</td><td>4</td><td>3</td><td>true</td><td>&quot;chr2_RagTag&quot;</td><td>&quot;PD50489e&quot;</td></tr><tr><td>&quot;m64174e_220620_110709/119145969/ccs&quot;</td><td>15118</td><td>1</td><td>[21]</td><td>[2430, 5507, … 13388]</td><td>&quot;ambiguous&quot;</td><td>11</td><td>3</td><td>true</td><td>&quot;chr2_RagTag&quot;</td><td>&quot;PD50489e&quot;</td></tr><tr><td>&quot;m64174e_220620_110709/19597317/ccs&quot;</td><td>23641</td><td>1</td><td>[2]</td><td>[2222, 2665, … 21247]</td><td>&quot;CO&quot;</td><td>2</td><td>1</td><td>true</td><td>&quot;chr2_RagTag&quot;</td><td>&quot;PD50489e&quot;</td></tr><tr><td>&quot;m64094e_220717_002414/52429717/ccs&quot;</td><td>10130</td><td>2</td><td>[22, 23]</td><td>[1781, 2117, … 8539]</td><td>&quot;GC&quot;</td><td>9</td><td>2</td><td>true</td><td>&quot;chr2_RagTag&quot;</td><td>&quot;PD50489e&quot;</td></tr><tr><td>&quot;m64094e_220717_002414/149357657/ccs&quot;</td><td>12768</td><td>2</td><td>[3, 5]</td><td>[2113, 3057, … 10907]</td><td>&quot;GC&quot;</td><td>8</td><td>5</td><td>false</td><td>&quot;chr2_RagTag&quot;</td><td>&quot;PD50489e&quot;</td></tr><tr><td>&quot;m64174e_220620_110709/75826184/ccs&quot;</td><td>16234</td><td>1</td><td>[2]</td><td>[2013, 4067, … 12966]</td><td>&quot;ambiguous&quot;</td><td>5</td><td>3</td><td>false</td><td>&quot;chr2_RagTag&quot;</td><td>&quot;PD50489e&quot;</td></tr><tr><td>&quot;m64094e_220717_002414/132972733/ccs&quot;</td><td>26737</td><td>1</td><td>[26]</td><td>[1618, 2026, … 20655]</td><td>&quot;CO&quot;</td><td>11</td><td>15</td><td>false</td><td>&quot;chr2_RagTag&quot;</td><td>&quot;PD50489e&quot;</td></tr><tr><td>&quot;m64094e_220715_151527/169018107/ccs&quot;</td><td>17473</td><td>1</td><td>[0]</td><td>[7940, 12110, … 15848]</td><td>&quot;ambiguous&quot;</td><td>14</td><td>7</td><td>false</td><td>&quot;chr2_RagTag&quot;</td><td>&quot;PD50489e&quot;</td></tr><tr><td>&quot;m64174e_220620_110709/17171144/ccs&quot;</td><td>4852</td><td>1</td><td>[0]</td><td>[1507, 2153]</td><td>&quot;ambiguous&quot;</td><td>7</td><td>4</td><td>false</td><td>&quot;chr2_RagTag&quot;</td><td>&quot;PD50489e&quot;</td></tr><tr><td>&quot;m64094e_220717_002414/139002920/ccs&quot;</td><td>15599</td><td>1</td><td>[0]</td><td>[1648, 11067, … 13921]</td><td>&quot;ambiguous&quot;</td><td>2</td><td>4</td><td>false</td><td>&quot;chr2_RagTag&quot;</td><td>&quot;PD50489e&quot;</td></tr><tr><td>&quot;m64094e_220715_151527/29100700/ccs&quot;</td><td>7399</td><td>1</td><td>[0]</td><td>[1679, 2912, … 5810]</td><td>&quot;ambiguous&quot;</td><td>8</td><td>13</td><td>false</td><td>&quot;chr2_RagTag&quot;</td><td>&quot;PD50489e&quot;</td></tr><tr><td>&quot;m64094e_220715_151527/135727649/ccs&quot;</td><td>15038</td><td>1</td><td>[5]</td><td>[1615, 1734, … 12908]</td><td>&quot;CO&quot;</td><td>5</td><td>3</td><td>false</td><td>&quot;chr2_RagTag&quot;</td><td>&quot;PD50489e&quot;</td></tr><tr><td>&quot;m64094e_220717_002414/165152290/ccs&quot;</td><td>21774</td><td>1</td><td>[0]</td><td>[2653, 16519, 20002]</td><td>&quot;ambiguous&quot;</td><td>2</td><td>1</td><td>false</td><td>&quot;chr2_RagTag&quot;</td><td>&quot;PD50489e&quot;</td></tr><tr><td>&quot;m64094e_220715_151527/79760056/ccs&quot;</td><td>27080</td><td>1</td><td>[6]</td><td>[1882, 2634, … 25204]</td><td>&quot;CO&quot;</td><td>5</td><td>11</td><td>false</td><td>&quot;chr2_RagTag&quot;</td><td>&quot;PD50489e&quot;</td></tr></tbody></table></div>"
      ],
      "text/plain": [
       "shape: (36, 11)\n",
       "┌───────────┬───────────┬───────────┬───────────┬───┬───────────┬───────────┬───────────┬──────────┐\n",
       "│ read_name ┆ read_leng ┆ n_transit ┆ idx_trans ┆ … ┆ min_cover ┆ has_commo ┆ chrom     ┆ sample_i │\n",
       "│ ---       ┆ th        ┆ ions      ┆ itions    ┆   ┆ age_betwe ┆ n_transit ┆ ---       ┆ d        │\n",
       "│ str       ┆ ---       ┆ ---       ┆ ---       ┆   ┆ en_transi ┆ ion       ┆ str       ┆ ---      │\n",
       "│           ┆ i64       ┆ i64       ┆ list[i64] ┆   ┆ tions_hap ┆ ---       ┆           ┆ str      │\n",
       "│           ┆           ┆           ┆           ┆   ┆ 2         ┆ bool      ┆           ┆          │\n",
       "│           ┆           ┆           ┆           ┆   ┆ ---       ┆           ┆           ┆          │\n",
       "│           ┆           ┆           ┆           ┆   ┆ i64       ┆           ┆           ┆          │\n",
       "╞═══════════╪═══════════╪═══════════╪═══════════╪═══╪═══════════╪═══════════╪═══════════╪══════════╡\n",
       "│ m64174e_2 ┆ 19373     ┆ 1         ┆ [0]       ┆ … ┆ 4         ┆ false     ┆ chr2_RagT ┆ PD50489e │\n",
       "│ 20620_110 ┆           ┆           ┆           ┆   ┆           ┆           ┆ ag        ┆          │\n",
       "│ 709/11403 ┆           ┆           ┆           ┆   ┆           ┆           ┆           ┆          │\n",
       "│ 3682/ccs  ┆           ┆           ┆           ┆   ┆           ┆           ┆           ┆          │\n",
       "│ m64094e_2 ┆ 16692     ┆ 1         ┆ [0]       ┆ … ┆ 4         ┆ false     ┆ chr2_RagT ┆ PD50489e │\n",
       "│ 20715_151 ┆           ┆           ┆           ┆   ┆           ┆           ┆ ag        ┆          │\n",
       "│ 527/15355 ┆           ┆           ┆           ┆   ┆           ┆           ┆           ┆          │\n",
       "│ 1949/ccs  ┆           ┆           ┆           ┆   ┆           ┆           ┆           ┆          │\n",
       "│ m64094e_2 ┆ 13226     ┆ 1         ┆ [2]       ┆ … ┆ 4         ┆ false     ┆ chr2_RagT ┆ PD50489e │\n",
       "│ 20717_002 ┆           ┆           ┆           ┆   ┆           ┆           ┆ ag        ┆          │\n",
       "│ 414/70780 ┆           ┆           ┆           ┆   ┆           ┆           ┆           ┆          │\n",
       "│ 745/ccs   ┆           ┆           ┆           ┆   ┆           ┆           ┆           ┆          │\n",
       "│ m64174e_2 ┆ 23910     ┆ 1         ┆ [3]       ┆ … ┆ 3         ┆ false     ┆ chr2_RagT ┆ PD50489e │\n",
       "│ 20620_110 ┆           ┆           ┆           ┆   ┆           ┆           ┆ ag        ┆          │\n",
       "│ 709/26609 ┆           ┆           ┆           ┆   ┆           ┆           ┆           ┆          │\n",
       "│ 769/ccs   ┆           ┆           ┆           ┆   ┆           ┆           ┆           ┆          │\n",
       "│ m64174e_2 ┆ 24195     ┆ 1         ┆ [0]       ┆ … ┆ 1         ┆ true      ┆ chr2_RagT ┆ PD50489e │\n",
       "│ 20620_110 ┆           ┆           ┆           ┆   ┆           ┆           ┆ ag        ┆          │\n",
       "│ 709/11914 ┆           ┆           ┆           ┆   ┆           ┆           ┆           ┆          │\n",
       "│ 5114/ccs  ┆           ┆           ┆           ┆   ┆           ┆           ┆           ┆          │\n",
       "│ m64174e_2 ┆ 11481     ┆ 1         ┆ [0]       ┆ … ┆ 8         ┆ false     ┆ chr2_RagT ┆ PD50489e │\n",
       "│ 20620_110 ┆           ┆           ┆           ┆   ┆           ┆           ┆ ag        ┆          │\n",
       "│ 709/13002 ┆           ┆           ┆           ┆   ┆           ┆           ┆           ┆          │\n",
       "│ 4432/ccs  ┆           ┆           ┆           ┆   ┆           ┆           ┆           ┆          │\n",
       "│ m64094e_2 ┆ 26205     ┆ 1         ┆ [0]       ┆ … ┆ 3         ┆ false     ┆ chr2_RagT ┆ PD50489e │\n",
       "│ 20715_151 ┆           ┆           ┆           ┆   ┆           ┆           ┆ ag        ┆          │\n",
       "│ 527/21168 ┆           ┆           ┆           ┆   ┆           ┆           ┆           ┆          │\n",
       "│ 853/ccs   ┆           ┆           ┆           ┆   ┆           ┆           ┆           ┆          │\n",
       "│ m64094e_2 ┆ 25647     ┆ 1         ┆ [5]       ┆ … ┆ 3         ┆ false     ┆ chr2_RagT ┆ PD50489e │\n",
       "│ 20715_151 ┆           ┆           ┆           ┆   ┆           ┆           ┆ ag        ┆          │\n",
       "│ 527/26741 ┆           ┆           ┆           ┆   ┆           ┆           ┆           ┆          │\n",
       "│ 085/ccs   ┆           ┆           ┆           ┆   ┆           ┆           ┆           ┆          │\n",
       "│ m64094e_2 ┆ 18537     ┆ 1         ┆ [4]       ┆ … ┆ 7         ┆ false     ┆ chr2_RagT ┆ PD50489e │\n",
       "│ 20717_002 ┆           ┆           ┆           ┆   ┆           ┆           ┆ ag        ┆          │\n",
       "│ 414/14831 ┆           ┆           ┆           ┆   ┆           ┆           ┆           ┆          │\n",
       "│ 0378/ccs  ┆           ┆           ┆           ┆   ┆           ┆           ┆           ┆          │\n",
       "│ m64094e_2 ┆ 30679     ┆ 1         ┆ [1]       ┆ … ┆ 4         ┆ false     ┆ chr2_RagT ┆ PD50489e │\n",
       "│ 20717_002 ┆           ┆           ┆           ┆   ┆           ┆           ┆ ag        ┆          │\n",
       "│ 414/21496 ┆           ┆           ┆           ┆   ┆           ┆           ┆           ┆          │\n",
       "│ 008/ccs   ┆           ┆           ┆           ┆   ┆           ┆           ┆           ┆          │\n",
       "│ m64174e_2 ┆ 7594      ┆ 1         ┆ [0]       ┆ … ┆ 6         ┆ false     ┆ chr2_RagT ┆ PD50489e │\n",
       "│ 20620_110 ┆           ┆           ┆           ┆   ┆           ┆           ┆ ag        ┆          │\n",
       "│ 709/14883 ┆           ┆           ┆           ┆   ┆           ┆           ┆           ┆          │\n",
       "│ 3082/ccs  ┆           ┆           ┆           ┆   ┆           ┆           ┆           ┆          │\n",
       "│ m64174e_2 ┆ 14446     ┆ 1         ┆ [5]       ┆ … ┆ 3         ┆ true      ┆ chr2_RagT ┆ PD50489e │\n",
       "│ 20620_110 ┆           ┆           ┆           ┆   ┆           ┆           ┆ ag        ┆          │\n",
       "│ 709/50987 ┆           ┆           ┆           ┆   ┆           ┆           ┆           ┆          │\n",
       "│ 745/ccs   ┆           ┆           ┆           ┆   ┆           ┆           ┆           ┆          │\n",
       "│ m64094e_2 ┆ 21601     ┆ 1         ┆ [7]       ┆ … ┆ 3         ┆ false     ┆ chr2_RagT ┆ PD50489e │\n",
       "│ 20715_151 ┆           ┆           ┆           ┆   ┆           ┆           ┆ ag        ┆          │\n",
       "│ 527/74646 ┆           ┆           ┆           ┆   ┆           ┆           ┆           ┆          │\n",
       "│ 136/ccs   ┆           ┆           ┆           ┆   ┆           ┆           ┆           ┆          │\n",
       "│ m64094e_2 ┆ 23321     ┆ 1         ┆ [0]       ┆ … ┆ 1         ┆ true      ┆ chr2_RagT ┆ PD50489e │\n",
       "│ 20715_151 ┆           ┆           ┆           ┆   ┆           ┆           ┆ ag        ┆          │\n",
       "│ 527/70976 ┆           ┆           ┆           ┆   ┆           ┆           ┆           ┆          │\n",
       "│ 535/ccs   ┆           ┆           ┆           ┆   ┆           ┆           ┆           ┆          │\n",
       "│ m64174e_2 ┆ 24437     ┆ 1         ┆ [4]       ┆ … ┆ 1         ┆ true      ┆ chr2_RagT ┆ PD50489e │\n",
       "│ 20620_110 ┆           ┆           ┆           ┆   ┆           ┆           ┆ ag        ┆          │\n",
       "│ 709/82586 ┆           ┆           ┆           ┆   ┆           ┆           ┆           ┆          │\n",
       "│ 01/ccs    ┆           ┆           ┆           ┆   ┆           ┆           ┆           ┆          │\n",
       "│ m64174e_2 ┆ 8859      ┆ 1         ┆ [0]       ┆ … ┆ 3         ┆ true      ┆ chr2_RagT ┆ PD50489e │\n",
       "│ 20620_110 ┆           ┆           ┆           ┆   ┆           ┆           ┆ ag        ┆          │\n",
       "│ 709/75367 ┆           ┆           ┆           ┆   ┆           ┆           ┆           ┆          │\n",
       "│ 551/ccs   ┆           ┆           ┆           ┆   ┆           ┆           ┆           ┆          │\n",
       "│ m64174e_2 ┆ 25766     ┆ 1         ┆ [20]      ┆ … ┆ 14        ┆ false     ┆ chr2_RagT ┆ PD50489e │\n",
       "│ 20620_110 ┆           ┆           ┆           ┆   ┆           ┆           ┆ ag        ┆          │\n",
       "│ 709/15230 ┆           ┆           ┆           ┆   ┆           ┆           ┆           ┆          │\n",
       "│ 7770/ccs  ┆           ┆           ┆           ┆   ┆           ┆           ┆           ┆          │\n",
       "│ m64094e_2 ┆ 18130     ┆ 1         ┆ [10]      ┆ … ┆ 12        ┆ false     ┆ chr2_RagT ┆ PD50489e │\n",
       "│ 20717_002 ┆           ┆           ┆           ┆   ┆           ┆           ┆ ag        ┆          │\n",
       "│ 414/52888 ┆           ┆           ┆           ┆   ┆           ┆           ┆           ┆          │\n",
       "│ 901/ccs   ┆           ┆           ┆           ┆   ┆           ┆           ┆           ┆          │\n",
       "│ m64174e_2 ┆ 25019     ┆ 1         ┆ [0]       ┆ … ┆ 1         ┆ true      ┆ chr2_RagT ┆ PD50489e │\n",
       "│ 20620_110 ┆           ┆           ┆           ┆   ┆           ┆           ┆ ag        ┆          │\n",
       "│ 709/50792 ┆           ┆           ┆           ┆   ┆           ┆           ┆           ┆          │\n",
       "│ 114/ccs   ┆           ┆           ┆           ┆   ┆           ┆           ┆           ┆          │\n",
       "│ m64174e_2 ┆ 19182     ┆ 1         ┆ [1]       ┆ … ┆ 3         ┆ true      ┆ chr2_RagT ┆ PD50489e │\n",
       "│ 20620_110 ┆           ┆           ┆           ┆   ┆           ┆           ┆ ag        ┆          │\n",
       "│ 709/14523 ┆           ┆           ┆           ┆   ┆           ┆           ┆           ┆          │\n",
       "│ 0119/ccs  ┆           ┆           ┆           ┆   ┆           ┆           ┆           ┆          │\n",
       "│ m64094e_2 ┆ 14513     ┆ 1         ┆ [7]       ┆ … ┆ 4         ┆ false     ┆ chr2_RagT ┆ PD50489e │\n",
       "│ 20717_002 ┆           ┆           ┆           ┆   ┆           ┆           ┆ ag        ┆          │\n",
       "│ 414/15591 ┆           ┆           ┆           ┆   ┆           ┆           ┆           ┆          │\n",
       "│ 1258/ccs  ┆           ┆           ┆           ┆   ┆           ┆           ┆           ┆          │\n",
       "│ m64174e_2 ┆ 20996     ┆ 1         ┆ [0]       ┆ … ┆ 1         ┆ true      ┆ chr2_RagT ┆ PD50489e │\n",
       "│ 20620_110 ┆           ┆           ┆           ┆   ┆           ┆           ┆ ag        ┆          │\n",
       "│ 709/24904 ┆           ┆           ┆           ┆   ┆           ┆           ┆           ┆          │\n",
       "│ 780/ccs   ┆           ┆           ┆           ┆   ┆           ┆           ┆           ┆          │\n",
       "│ m64174e_2 ┆ 19087     ┆ 1         ┆ [0]       ┆ … ┆ 3         ┆ true      ┆ chr2_RagT ┆ PD50489e │\n",
       "│ 20620_110 ┆           ┆           ┆           ┆   ┆           ┆           ┆ ag        ┆          │\n",
       "│ 709/80742 ┆           ┆           ┆           ┆   ┆           ┆           ┆           ┆          │\n",
       "│ 143/ccs   ┆           ┆           ┆           ┆   ┆           ┆           ┆           ┆          │\n",
       "│ m64174e_2 ┆ 15118     ┆ 1         ┆ [21]      ┆ … ┆ 3         ┆ true      ┆ chr2_RagT ┆ PD50489e │\n",
       "│ 20620_110 ┆           ┆           ┆           ┆   ┆           ┆           ┆ ag        ┆          │\n",
       "│ 709/11914 ┆           ┆           ┆           ┆   ┆           ┆           ┆           ┆          │\n",
       "│ 5969/ccs  ┆           ┆           ┆           ┆   ┆           ┆           ┆           ┆          │\n",
       "│ m64174e_2 ┆ 23641     ┆ 1         ┆ [2]       ┆ … ┆ 1         ┆ true      ┆ chr2_RagT ┆ PD50489e │\n",
       "│ 20620_110 ┆           ┆           ┆           ┆   ┆           ┆           ┆ ag        ┆          │\n",
       "│ 709/19597 ┆           ┆           ┆           ┆   ┆           ┆           ┆           ┆          │\n",
       "│ 317/ccs   ┆           ┆           ┆           ┆   ┆           ┆           ┆           ┆          │\n",
       "│ m64094e_2 ┆ 10130     ┆ 2         ┆ [22, 23]  ┆ … ┆ 2         ┆ true      ┆ chr2_RagT ┆ PD50489e │\n",
       "│ 20717_002 ┆           ┆           ┆           ┆   ┆           ┆           ┆ ag        ┆          │\n",
       "│ 414/52429 ┆           ┆           ┆           ┆   ┆           ┆           ┆           ┆          │\n",
       "│ 717/ccs   ┆           ┆           ┆           ┆   ┆           ┆           ┆           ┆          │\n",
       "│ m64094e_2 ┆ 12768     ┆ 2         ┆ [3, 5]    ┆ … ┆ 5         ┆ false     ┆ chr2_RagT ┆ PD50489e │\n",
       "│ 20717_002 ┆           ┆           ┆           ┆   ┆           ┆           ┆ ag        ┆          │\n",
       "│ 414/14935 ┆           ┆           ┆           ┆   ┆           ┆           ┆           ┆          │\n",
       "│ 7657/ccs  ┆           ┆           ┆           ┆   ┆           ┆           ┆           ┆          │\n",
       "│ m64174e_2 ┆ 16234     ┆ 1         ┆ [2]       ┆ … ┆ 3         ┆ false     ┆ chr2_RagT ┆ PD50489e │\n",
       "│ 20620_110 ┆           ┆           ┆           ┆   ┆           ┆           ┆ ag        ┆          │\n",
       "│ 709/75826 ┆           ┆           ┆           ┆   ┆           ┆           ┆           ┆          │\n",
       "│ 184/ccs   ┆           ┆           ┆           ┆   ┆           ┆           ┆           ┆          │\n",
       "│ m64094e_2 ┆ 26737     ┆ 1         ┆ [26]      ┆ … ┆ 15        ┆ false     ┆ chr2_RagT ┆ PD50489e │\n",
       "│ 20717_002 ┆           ┆           ┆           ┆   ┆           ┆           ┆ ag        ┆          │\n",
       "│ 414/13297 ┆           ┆           ┆           ┆   ┆           ┆           ┆           ┆          │\n",
       "│ 2733/ccs  ┆           ┆           ┆           ┆   ┆           ┆           ┆           ┆          │\n",
       "│ m64094e_2 ┆ 17473     ┆ 1         ┆ [0]       ┆ … ┆ 7         ┆ false     ┆ chr2_RagT ┆ PD50489e │\n",
       "│ 20715_151 ┆           ┆           ┆           ┆   ┆           ┆           ┆ ag        ┆          │\n",
       "│ 527/16901 ┆           ┆           ┆           ┆   ┆           ┆           ┆           ┆          │\n",
       "│ 8107/ccs  ┆           ┆           ┆           ┆   ┆           ┆           ┆           ┆          │\n",
       "│ m64174e_2 ┆ 4852      ┆ 1         ┆ [0]       ┆ … ┆ 4         ┆ false     ┆ chr2_RagT ┆ PD50489e │\n",
       "│ 20620_110 ┆           ┆           ┆           ┆   ┆           ┆           ┆ ag        ┆          │\n",
       "│ 709/17171 ┆           ┆           ┆           ┆   ┆           ┆           ┆           ┆          │\n",
       "│ 144/ccs   ┆           ┆           ┆           ┆   ┆           ┆           ┆           ┆          │\n",
       "│ m64094e_2 ┆ 15599     ┆ 1         ┆ [0]       ┆ … ┆ 4         ┆ false     ┆ chr2_RagT ┆ PD50489e │\n",
       "│ 20717_002 ┆           ┆           ┆           ┆   ┆           ┆           ┆ ag        ┆          │\n",
       "│ 414/13900 ┆           ┆           ┆           ┆   ┆           ┆           ┆           ┆          │\n",
       "│ 2920/ccs  ┆           ┆           ┆           ┆   ┆           ┆           ┆           ┆          │\n",
       "│ m64094e_2 ┆ 7399      ┆ 1         ┆ [0]       ┆ … ┆ 13        ┆ false     ┆ chr2_RagT ┆ PD50489e │\n",
       "│ 20715_151 ┆           ┆           ┆           ┆   ┆           ┆           ┆ ag        ┆          │\n",
       "│ 527/29100 ┆           ┆           ┆           ┆   ┆           ┆           ┆           ┆          │\n",
       "│ 700/ccs   ┆           ┆           ┆           ┆   ┆           ┆           ┆           ┆          │\n",
       "│ m64094e_2 ┆ 15038     ┆ 1         ┆ [5]       ┆ … ┆ 3         ┆ false     ┆ chr2_RagT ┆ PD50489e │\n",
       "│ 20715_151 ┆           ┆           ┆           ┆   ┆           ┆           ┆ ag        ┆          │\n",
       "│ 527/13572 ┆           ┆           ┆           ┆   ┆           ┆           ┆           ┆          │\n",
       "│ 7649/ccs  ┆           ┆           ┆           ┆   ┆           ┆           ┆           ┆          │\n",
       "│ m64094e_2 ┆ 21774     ┆ 1         ┆ [0]       ┆ … ┆ 1         ┆ false     ┆ chr2_RagT ┆ PD50489e │\n",
       "│ 20717_002 ┆           ┆           ┆           ┆   ┆           ┆           ┆ ag        ┆          │\n",
       "│ 414/16515 ┆           ┆           ┆           ┆   ┆           ┆           ┆           ┆          │\n",
       "│ 2290/ccs  ┆           ┆           ┆           ┆   ┆           ┆           ┆           ┆          │\n",
       "│ m64094e_2 ┆ 27080     ┆ 1         ┆ [6]       ┆ … ┆ 11        ┆ false     ┆ chr2_RagT ┆ PD50489e │\n",
       "│ 20715_151 ┆           ┆           ┆           ┆   ┆           ┆           ┆ ag        ┆          │\n",
       "│ 527/79760 ┆           ┆           ┆           ┆   ┆           ┆           ┆           ┆          │\n",
       "│ 056/ccs   ┆           ┆           ┆           ┆   ┆           ┆           ┆           ┆          │\n",
       "└───────────┴───────────┴───────────┴───────────┴───┴───────────┴───────────┴───────────┴──────────┘"
      ]
     },
     "metadata": {},
     "output_type": "display_data"
    }
   ],
   "source": [
    "with pl.Config(fmt_str_lengths=50, set_tbl_rows=-1):\n",
    "    display(all_res_df)"
   ]
  },
  {
   "cell_type": "code",
   "execution_count": 70,
   "id": "b7e2cf53-17e8-4aa4-bd9e-b6fdf6295956",
   "metadata": {},
   "outputs": [
    {
     "data": {
      "text/html": [
       "<div><style>\n",
       ".dataframe > thead > tr,\n",
       ".dataframe > tbody > tr {\n",
       "  text-align: right;\n",
       "  white-space: pre-wrap;\n",
       "}\n",
       "</style>\n",
       "<small>shape: (3, 2)</small><table border=\"1\" class=\"dataframe\"><thead><tr><th>class</th><th>counts</th></tr><tr><td>str</td><td>u32</td></tr></thead><tbody><tr><td>&quot;ambiguous&quot;</td><td>20</td></tr><tr><td>&quot;GC&quot;</td><td>2</td></tr><tr><td>&quot;CO&quot;</td><td>14</td></tr></tbody></table></div>"
      ],
      "text/plain": [
       "shape: (3, 2)\n",
       "┌───────────┬────────┐\n",
       "│ class     ┆ counts │\n",
       "│ ---       ┆ ---    │\n",
       "│ str       ┆ u32    │\n",
       "╞═══════════╪════════╡\n",
       "│ ambiguous ┆ 20     │\n",
       "│ GC        ┆ 2      │\n",
       "│ CO        ┆ 14     │\n",
       "└───────────┴────────┘"
      ]
     },
     "execution_count": 70,
     "metadata": {},
     "output_type": "execute_result"
    }
   ],
   "source": [
    "all_res_df[\"class\"].value_counts()"
   ]
  },
  {
   "cell_type": "code",
   "execution_count": 71,
   "id": "46fe5a48-b5ab-4096-8cb4-1cebf0c73cf1",
   "metadata": {},
   "outputs": [
    {
     "data": {
      "text/html": [
       "<div><style>\n",
       ".dataframe > thead > tr,\n",
       ".dataframe > tbody > tr {\n",
       "  text-align: right;\n",
       "  white-space: pre-wrap;\n",
       "}\n",
       "</style>\n",
       "<small>shape: (3, 2)</small><table border=\"1\" class=\"dataframe\"><thead><tr><th>class</th><th>counts</th></tr><tr><td>str</td><td>u32</td></tr></thead><tbody><tr><td>&quot;CO&quot;</td><td>10</td></tr><tr><td>&quot;ambiguous&quot;</td><td>13</td></tr><tr><td>&quot;GC&quot;</td><td>1</td></tr></tbody></table></div>"
      ],
      "text/plain": [
       "shape: (3, 2)\n",
       "┌───────────┬────────┐\n",
       "│ class     ┆ counts │\n",
       "│ ---       ┆ ---    │\n",
       "│ str       ┆ u32    │\n",
       "╞═══════════╪════════╡\n",
       "│ CO        ┆ 10     │\n",
       "│ ambiguous ┆ 13     │\n",
       "│ GC        ┆ 1      │\n",
       "└───────────┴────────┘"
      ]
     },
     "execution_count": 71,
     "metadata": {},
     "output_type": "execute_result"
    }
   ],
   "source": [
    "all_res_df.filter(~pl.col(\"has_common_transition\"))[\"class\"].value_counts()"
   ]
  },
  {
   "cell_type": "code",
   "execution_count": 72,
   "id": "43897c58-e366-490d-b52a-2b3a7275507e",
   "metadata": {},
   "outputs": [
    {
     "ename": "ColumnNotFoundError",
     "evalue": "unable to find column \"min_coverage_1\"; valid columns: [\"read_name\", \"read_length\", \"n_transitions\", \"idx_transitions\", \"snp_positions_on_read\", \"class\", \"min_coverage_between_transitions_hap1\", \"min_coverage_between_transitions_hap2\", \"has_common_transition\", \"chrom\", \"sample_id\"]\n\nError originated just after this operation:\nDF [\"read_name\", \"read_length\", \"n_transitions\", \"idx_transitions\"]; PROJECT */11 COLUMNS; SELECTION: \"None\"",
     "output_type": "error",
     "traceback": [
      "\u001b[0;31m---------------------------------------------------------------------------\u001b[0m",
      "\u001b[0;31mColumnNotFoundError\u001b[0m                       Traceback (most recent call last)",
      "Cell \u001b[0;32mIn[72], line 1\u001b[0m\n\u001b[0;32m----> 1\u001b[0m \u001b[43mall_res_df\u001b[49m\u001b[38;5;241;43m.\u001b[39;49m\u001b[43mfilter\u001b[49m\u001b[43m(\u001b[49m\u001b[38;5;241;43m~\u001b[39;49m\u001b[43mpl\u001b[49m\u001b[38;5;241;43m.\u001b[39;49m\u001b[43mcol\u001b[49m\u001b[43m(\u001b[49m\u001b[38;5;124;43m\"\u001b[39;49m\u001b[38;5;124;43mhas_common_transition\u001b[39;49m\u001b[38;5;124;43m\"\u001b[39;49m\u001b[43m)\u001b[49m\u001b[43m \u001b[49m\u001b[38;5;241;43m&\u001b[39;49m\u001b[43m \u001b[49m\u001b[43m(\u001b[49m\u001b[43mpl\u001b[49m\u001b[38;5;241;43m.\u001b[39;49m\u001b[43mcol\u001b[49m\u001b[43m(\u001b[49m\u001b[38;5;124;43m\"\u001b[39;49m\u001b[38;5;124;43mmin_coverage_1\u001b[39;49m\u001b[38;5;124;43m\"\u001b[39;49m\u001b[43m)\u001b[49m\u001b[43m \u001b[49m\u001b[38;5;241;43m>\u001b[39;49m\u001b[38;5;241;43m=\u001b[39;49m\u001b[43m \u001b[49m\u001b[38;5;241;43m3\u001b[39;49m\u001b[43m)\u001b[49m\u001b[43m \u001b[49m\u001b[38;5;241;43m&\u001b[39;49m\u001b[43m \u001b[49m\u001b[43m(\u001b[49m\u001b[43mpl\u001b[49m\u001b[38;5;241;43m.\u001b[39;49m\u001b[43mcol\u001b[49m\u001b[43m(\u001b[49m\u001b[38;5;124;43m\"\u001b[39;49m\u001b[38;5;124;43mmin_coverage_2\u001b[39;49m\u001b[38;5;124;43m\"\u001b[39;49m\u001b[43m)\u001b[49m\u001b[43m \u001b[49m\u001b[38;5;241;43m>\u001b[39;49m\u001b[38;5;241;43m=\u001b[39;49m\u001b[43m \u001b[49m\u001b[38;5;241;43m3\u001b[39;49m\u001b[43m)\u001b[49m\u001b[43m)\u001b[49m[\u001b[38;5;124m\"\u001b[39m\u001b[38;5;124mclass\u001b[39m\u001b[38;5;124m\"\u001b[39m]\u001b[38;5;241m.\u001b[39mvalue_counts()\n",
      "File \u001b[0;32m/nfs/treeoflife-01/teams/tola/users/rs42/miniconda3/envs/sperm/lib/python3.11/site-packages/polars/dataframe/frame.py:4092\u001b[0m, in \u001b[0;36mDataFrame.filter\u001b[0;34m(self, *predicates, **constraints)\u001b[0m\n\u001b[1;32m   3995\u001b[0m \u001b[38;5;28;01mdef\u001b[39;00m \u001b[38;5;21mfilter\u001b[39m(\n\u001b[1;32m   3996\u001b[0m     \u001b[38;5;28mself\u001b[39m,\n\u001b[1;32m   3997\u001b[0m     \u001b[38;5;241m*\u001b[39mpredicates: (\n\u001b[0;32m   (...)\u001b[0m\n\u001b[1;32m   4004\u001b[0m     \u001b[38;5;241m*\u001b[39m\u001b[38;5;241m*\u001b[39mconstraints: Any,\n\u001b[1;32m   4005\u001b[0m ) \u001b[38;5;241m-\u001b[39m\u001b[38;5;241m>\u001b[39m DataFrame:\n\u001b[1;32m   4006\u001b[0m \u001b[38;5;250m    \u001b[39m\u001b[38;5;124;03m\"\"\"\u001b[39;00m\n\u001b[1;32m   4007\u001b[0m \u001b[38;5;124;03m    Filter the rows in the DataFrame based on a predicate expression.\u001b[39;00m\n\u001b[1;32m   4008\u001b[0m \n\u001b[0;32m   (...)\u001b[0m\n\u001b[1;32m   4090\u001b[0m \n\u001b[1;32m   4091\u001b[0m \u001b[38;5;124;03m    \"\"\"\u001b[39;00m\n\u001b[0;32m-> 4092\u001b[0m     \u001b[38;5;28;01mreturn\u001b[39;00m \u001b[38;5;28;43mself\u001b[39;49m\u001b[38;5;241;43m.\u001b[39;49m\u001b[43mlazy\u001b[49m\u001b[43m(\u001b[49m\u001b[43m)\u001b[49m\u001b[38;5;241;43m.\u001b[39;49m\u001b[43mfilter\u001b[49m\u001b[43m(\u001b[49m\u001b[38;5;241;43m*\u001b[39;49m\u001b[43mpredicates\u001b[49m\u001b[43m,\u001b[49m\u001b[43m \u001b[49m\u001b[38;5;241;43m*\u001b[39;49m\u001b[38;5;241;43m*\u001b[39;49m\u001b[43mconstraints\u001b[49m\u001b[43m)\u001b[49m\u001b[38;5;241;43m.\u001b[39;49m\u001b[43mcollect\u001b[49m\u001b[43m(\u001b[49m\u001b[43m_eager\u001b[49m\u001b[38;5;241;43m=\u001b[39;49m\u001b[38;5;28;43;01mTrue\u001b[39;49;00m\u001b[43m)\u001b[49m\n",
      "File \u001b[0;32m/nfs/treeoflife-01/teams/tola/users/rs42/miniconda3/envs/sperm/lib/python3.11/site-packages/polars/utils/deprecation.py:100\u001b[0m, in \u001b[0;36mdeprecate_renamed_parameter.<locals>.decorate.<locals>.wrapper\u001b[0;34m(*args, **kwargs)\u001b[0m\n\u001b[1;32m     95\u001b[0m \u001b[38;5;129m@wraps\u001b[39m(function)\n\u001b[1;32m     96\u001b[0m \u001b[38;5;28;01mdef\u001b[39;00m \u001b[38;5;21mwrapper\u001b[39m(\u001b[38;5;241m*\u001b[39margs: P\u001b[38;5;241m.\u001b[39margs, \u001b[38;5;241m*\u001b[39m\u001b[38;5;241m*\u001b[39mkwargs: P\u001b[38;5;241m.\u001b[39mkwargs) \u001b[38;5;241m-\u001b[39m\u001b[38;5;241m>\u001b[39m T:\n\u001b[1;32m     97\u001b[0m     _rename_keyword_argument(\n\u001b[1;32m     98\u001b[0m         old_name, new_name, kwargs, function\u001b[38;5;241m.\u001b[39m\u001b[38;5;18m__name__\u001b[39m, version\n\u001b[1;32m     99\u001b[0m     )\n\u001b[0;32m--> 100\u001b[0m     \u001b[38;5;28;01mreturn\u001b[39;00m \u001b[43mfunction\u001b[49m\u001b[43m(\u001b[49m\u001b[38;5;241;43m*\u001b[39;49m\u001b[43margs\u001b[49m\u001b[43m,\u001b[49m\u001b[43m \u001b[49m\u001b[38;5;241;43m*\u001b[39;49m\u001b[38;5;241;43m*\u001b[39;49m\u001b[43mkwargs\u001b[49m\u001b[43m)\u001b[49m\n",
      "File \u001b[0;32m/nfs/treeoflife-01/teams/tola/users/rs42/miniconda3/envs/sperm/lib/python3.11/site-packages/polars/lazyframe/frame.py:1788\u001b[0m, in \u001b[0;36mLazyFrame.collect\u001b[0;34m(self, type_coercion, predicate_pushdown, projection_pushdown, simplify_expression, slice_pushdown, comm_subplan_elim, comm_subexpr_elim, no_optimization, streaming, _eager)\u001b[0m\n\u001b[1;32m   1775\u001b[0m     comm_subplan_elim \u001b[38;5;241m=\u001b[39m \u001b[38;5;28;01mFalse\u001b[39;00m\n\u001b[1;32m   1777\u001b[0m ldf \u001b[38;5;241m=\u001b[39m \u001b[38;5;28mself\u001b[39m\u001b[38;5;241m.\u001b[39m_ldf\u001b[38;5;241m.\u001b[39moptimization_toggle(\n\u001b[1;32m   1778\u001b[0m     type_coercion,\n\u001b[1;32m   1779\u001b[0m     predicate_pushdown,\n\u001b[0;32m   (...)\u001b[0m\n\u001b[1;32m   1786\u001b[0m     _eager,\n\u001b[1;32m   1787\u001b[0m )\n\u001b[0;32m-> 1788\u001b[0m \u001b[38;5;28;01mreturn\u001b[39;00m wrap_df(ldf\u001b[38;5;241m.\u001b[39mcollect())\n",
      "\u001b[0;31mColumnNotFoundError\u001b[0m: unable to find column \"min_coverage_1\"; valid columns: [\"read_name\", \"read_length\", \"n_transitions\", \"idx_transitions\", \"snp_positions_on_read\", \"class\", \"min_coverage_between_transitions_hap1\", \"min_coverage_between_transitions_hap2\", \"has_common_transition\", \"chrom\", \"sample_id\"]\n\nError originated just after this operation:\nDF [\"read_name\", \"read_length\", \"n_transitions\", \"idx_transitions\"]; PROJECT */11 COLUMNS; SELECTION: \"None\""
     ]
    }
   ],
   "source": [
    "all_res_df.filter(~pl.col(\"has_common_transition\") & (pl.col(\"min_coverage_1\") >= 3) & (pl.col(\"min_coverage_2\") >= 3))[\"class\"].value_counts()\n"
   ]
  },
  {
   "cell_type": "code",
   "execution_count": null,
   "id": "41e3ae86-fbe9-4404-b3f5-39de5c56df9b",
   "metadata": {},
   "outputs": [],
   "source": []
  },
  {
   "cell_type": "code",
   "execution_count": null,
   "id": "949f2859-021c-4773-98ab-028de00b51f1",
   "metadata": {},
   "outputs": [],
   "source": []
  },
  {
   "cell_type": "code",
   "execution_count": null,
   "id": "34d0ba66-8112-403a-aa68-68b5b838e671",
   "metadata": {},
   "outputs": [],
   "source": [
    "with pl.Config(fmt_str_lengths=50, set_tbl_rows=-1):\n",
    "    #display(res_df)\n",
    "    #display(all_res_df.filter(~pl.col(\"has_common_transition\")))\n",
    "    display(all_res_df.filter(pl.col(\"has_common_transition\") & (pl.col(\"min_coverage_1\") >= 3) & (pl.col(\"min_coverage_2\") >= 3)))\n",
    "    #display(res_df.filter(pl.col(\"read_name\") == \"m64174e_220620_110709/58458841/ccs\"))"
   ]
  },
  {
   "cell_type": "code",
   "execution_count": null,
   "id": "8d4293a7-0531-4720-81fb-602ecdf7bc4e",
   "metadata": {},
   "outputs": [],
   "source": []
  },
  {
   "cell_type": "code",
   "execution_count": null,
   "id": "371e7dc2-aaaf-4abb-9e6b-20bc80773fd6",
   "metadata": {},
   "outputs": [],
   "source": []
  },
  {
   "cell_type": "code",
   "execution_count": null,
   "id": "94258b92-2e65-4aea-9558-ee536ee2b3e8",
   "metadata": {},
   "outputs": [],
   "source": []
  },
  {
   "cell_type": "code",
   "execution_count": null,
   "id": "f3b5e5de-1b70-46ce-8d4b-47eb5f9e0f7c",
   "metadata": {},
   "outputs": [],
   "source": []
  },
  {
   "cell_type": "code",
   "execution_count": null,
   "id": "629f4179-8b48-4c7a-85e9-cef07c38d198",
   "metadata": {},
   "outputs": [],
   "source": []
  },
  {
   "cell_type": "code",
   "execution_count": null,
   "id": "0783cf4c-90da-49f0-a152-d0df12ab06b5",
   "metadata": {},
   "outputs": [],
   "source": []
  },
  {
   "cell_type": "code",
   "execution_count": null,
   "id": "c85ca812-15f1-4d57-9ab2-386f5b58aaab",
   "metadata": {},
   "outputs": [],
   "source": []
  },
  {
   "cell_type": "markdown",
   "id": "4e3cf885-d24c-4260-b15c-2a4720842933",
   "metadata": {},
   "source": [
    "# NAHR?"
   ]
  },
  {
   "cell_type": "code",
   "execution_count": null,
   "id": "448a6dc5-4401-4172-a091-c282b6438a1f",
   "metadata": {},
   "outputs": [],
   "source": [
    "alns = {}\n",
    "for aln in pysam.AlignmentFile(\"/lustre/scratch126/casm/team154pc/sl17/03.sperm/02.results/01.read_alignment/01.ccs/04.hifiasm/02.hifiasm_0.19.5-r592/02.chromosome_length_scaffolds/PD50489e/PD50489e.hap1.minimap2.sorted.multiple_alignments.bam\"):\n",
    "    alns[aln.query_name] = alns.get(aln.query_name, []) + [aln]\n"
   ]
  },
  {
   "cell_type": "code",
   "execution_count": null,
   "id": "6e417114-9de5-47e9-8a9f-d192ea072b75",
   "metadata": {},
   "outputs": [],
   "source": [
    "chrcounts = pd.Series([(v[0].reference_name, v[1].reference_name) for v in alns.values() if len(v) == 2 and v[0].query_length > 5000]).value_counts().to_dict()\n",
    "\n",
    "M = np.array([[chrcounts.get((ci+\"_RagTag\", cj+\"_RagTag\"), 0) for ci in aut_chrom_names] for cj in aut_chrom_names])\n",
    "A = M.T.copy()\n",
    "np.fill_diagonal(A, 0)\n",
    "M += A\n",
    "\n",
    "sns.heatmap(\n",
    "    M,\n",
    "    xticklabels=aut_chrom_names,\n",
    "    yticklabels=aut_chrom_names,\n",
    ")\n",
    "\n",
    "plt.title(\"Pairs of chroms, for reads of length >5kbp\");"
   ]
  },
  {
   "cell_type": "code",
   "execution_count": null,
   "id": "994e0e98-47b0-4924-b3b9-1b52bc6d7b91",
   "metadata": {},
   "outputs": [],
   "source": [
    "plt.hist([v[0].query_length for v in alns.values()], bins=np.linspace(0,10000,100));\n",
    "plt.xlabel(\"length of chimeric reads\");"
   ]
  },
  {
   "cell_type": "code",
   "execution_count": null,
   "id": "89940105-e95b-43e4-aa5c-a5b627b06996",
   "metadata": {},
   "outputs": [],
   "source": [
    "plt.hist(\n",
    "    [np.abs(v[0].reference_start - v[1].reference_start) for v in alns.values() if len(v) == 2 and v[0].reference_name == v[1].reference_name],\n",
    "    bins=100,\n",
    "    log=True,\n",
    ");\n",
    "\n",
    "plt.xlabel(\"Gap between alignments on the same chrom\");"
   ]
  },
  {
   "cell_type": "code",
   "execution_count": null,
   "id": "23d65c9e-0e8a-48d1-8302-2de11fea3938",
   "metadata": {},
   "outputs": [],
   "source": [
    "plt.hist(\n",
    "    [np.abs(v[0].reference_start - v[1].reference_start) for v in alns.values() if len(v) == 2 and v[0].reference_name == v[1].reference_name],\n",
    "    bins=np.linspace(0, 1e5, 100),\n",
    "    log=False,\n",
    ");\n",
    "\n",
    "plt.xlabel(\"Gap between alignments on the same chrom\");"
   ]
  },
  {
   "cell_type": "code",
   "execution_count": null,
   "id": "69dcd4e8-aaad-44b8-8e8d-1e3bf53b06ba",
   "metadata": {},
   "outputs": [],
   "source": [
    "chrcounts = pd.Series([(v[0].reference_name, v[1].reference_name) for v in alns.values() \\\n",
    "    if len(v) == 2 and v[0].query_length > 5000 and ((v[0].reference_name != v[1].reference_name) or (np.abs(v[0].reference_start - v[1].reference_start) > 1e5))\n",
    "] ).value_counts().to_dict()\n",
    "\n",
    "M = np.array([[chrcounts.get((ci+\"_RagTag\", cj+\"_RagTag\"), 0) for ci in aut_chrom_names] for cj in aut_chrom_names])\n",
    "A = M.T.copy()\n",
    "np.fill_diagonal(A, 0)\n",
    "M += A\n",
    "\n",
    "sns.heatmap(\n",
    "    M,\n",
    "    xticklabels=aut_chrom_names,\n",
    "    yticklabels=aut_chrom_names,\n",
    ")\n",
    "\n",
    "plt.title(\"Pairs of chroms, for reads of length >5kbp, same-chr gap > 1e5bp\");"
   ]
  },
  {
   "cell_type": "code",
   "execution_count": null,
   "id": "69e03118-1427-4566-9c09-ca516fc5aa13",
   "metadata": {},
   "outputs": [],
   "source": [
    "plt.hist(\n",
    "    np.array([np.abs(v[0].reference_start - v[1].reference_start) for v in alns.values() \\\n",
    "              if len(v) == 2 and v[0].reference_name == v[1].reference_name and v[0].query_length > 5000]),\n",
    "    bins=np.linspace(1e5, 1e7, 100),\n",
    "    log=True,\n",
    ");\n",
    "\n",
    "plt.xlabel(\"Gap between alignments on the same chrom\");"
   ]
  },
  {
   "cell_type": "code",
   "execution_count": null,
   "id": "5055ff23-8ded-4022-ad7c-bdeaa1d4979b",
   "metadata": {},
   "outputs": [],
   "source": []
  },
  {
   "cell_type": "code",
   "execution_count": null,
   "id": "6642eb3d-c00f-45d8-9151-555b97e89504",
   "metadata": {},
   "outputs": [],
   "source": [
    "seg_df = pd.read_csv(\n",
    "    \"/lustre/scratch126/casm/team154pc/sl17/03.sperm/02.results/01.read_alignment/01.ccs/04.hifiasm/02.hifiasm_0.19.5-r592/02.chromosome_length_scaffolds/PD50489e/PD50489e.hap1.minimap2.sorted.multiple_alignments.read_names.T2T_mapped.bed\",\n",
    "    delim_whitespace=True,\n",
    "    header=None,\n",
    "    names=[\n",
    "        \"reference_name\", \"reference_start_pos_1based\", \"reference_end_pos_1based\", \"read_name\", \"mapq\", \"strand\", \n",
    "        6,7,8,9,10,11,\n",
    "        \"segdup_chrom\", \"segdup_chrom_start_pos_1based\", \"segdup_chrom_end_pos_1based\", \"other_dup\", \n",
    "        16, 17, 18, 19, 20, \n",
    "        \"overlap\",\n",
    "    ],\n",
    ")"
   ]
  },
  {
   "cell_type": "code",
   "execution_count": null,
   "id": "072a3298-3793-444e-8cfe-c1ab4093bf97",
   "metadata": {},
   "outputs": [],
   "source": [
    "seg_df"
   ]
  },
  {
   "cell_type": "code",
   "execution_count": null,
   "id": "eb38f2ad-d32a-4451-8fcb-0480606449f9",
   "metadata": {},
   "outputs": [],
   "source": [
    "import functools\n",
    "import operator\n",
    "\n"
   ]
  },
  {
   "cell_type": "code",
   "execution_count": null,
   "id": "3a8c0a88-5c18-494a-a783-200fae9877fd",
   "metadata": {},
   "outputs": [],
   "source": []
  },
  {
   "cell_type": "code",
   "execution_count": null,
   "id": "449373cc-c66b-458e-8bc6-3a59a5cc09b4",
   "metadata": {},
   "outputs": [],
   "source": [
    "overlaps = (seg_df\n",
    "    .loc[lambda df: (df[\"mapq\"] >= 60)]\n",
    "    .groupby(\"read_name\")\n",
    "    .agg({\"overlap\": \"max\"})\n",
    "    [\"overlap\"]\n",
    ")"
   ]
  },
  {
   "cell_type": "code",
   "execution_count": null,
   "id": "26feb33c-e9a6-4abe-9eca-152dd58a16b6",
   "metadata": {},
   "outputs": [],
   "source": [
    "(overlaps > 0).mean()"
   ]
  },
  {
   "cell_type": "code",
   "execution_count": null,
   "id": "9535e8ed-56ea-495a-b91a-8af947e76e3d",
   "metadata": {},
   "outputs": [],
   "source": [
    "plt.hist(overlaps[(overlaps > 0)], bins=50);"
   ]
  },
  {
   "cell_type": "code",
   "execution_count": null,
   "id": "15f1449b-3592-41ff-b7f9-7bc21120453f",
   "metadata": {},
   "outputs": [],
   "source": [
    "v = list(alns.values())[0]"
   ]
  },
  {
   "cell_type": "code",
   "execution_count": null,
   "id": "a4fa5aeb-ad19-46bf-9774-a38914d8d039",
   "metadata": {},
   "outputs": [],
   "source": []
  },
  {
   "cell_type": "markdown",
   "id": "2aceaea7-1a76-4309-b844-e3993e885d3d",
   "metadata": {},
   "source": [
    "# Debug coverage"
   ]
  },
  {
   "cell_type": "code",
   "execution_count": null,
   "id": "39ca771d-1ba7-44b5-9c8e-736d1a6e0a70",
   "metadata": {},
   "outputs": [],
   "source": [
    "%%time\n",
    "events_df = pl.scan_parquet(\n",
    "    Path(\"/lustre/scratch126/casm/team154pc/sl17/03.sperm/02.results/01.read_alignment/01.ccs/04.hifiasm/02.hifiasm_0.19.5-r592/02.chromosome_length_scaffolds/\") \\\n",
    "        / f\"{focal_sample_id}\" / \"reads\" / f\"{denovo_chrom}.read_refinement.parquet\"\n",
    ")\n",
    "\n",
    "candidates_df = pl.read_parquet(\n",
    "    Path(\"/lustre/scratch126/casm/team154pc/sl17/03.sperm/02.results/01.read_alignment/01.ccs/04.hifiasm/02.hifiasm_0.19.5-r592/02.chromosome_length_scaffolds/\") \\\n",
    "        / f\"{focal_sample_id}\" / \"reads\" / f\"{denovo_chrom}.certainty_0.95.candidate_reads.parquet\"\n",
    ")\n",
    "\n",
    "high_conf_snps_df = pl.read_parquet(\n",
    "    Path(\"/lustre/scratch126/casm/team154pc/sl17/03.sperm/02.results/01.read_alignment/01.ccs/04.hifiasm/02.hifiasm_0.19.5-r592/02.chromosome_length_scaffolds/\") \\\n",
    "        / f\"{focal_sample_id}\" / \"reads\" / f\"{denovo_chrom}.certainty_0.95.snps.parquet\"\n",
    ")"
   ]
  },
  {
   "cell_type": "code",
   "execution_count": null,
   "id": "0ea4449e-1657-4074-a905-9615e51095c3",
   "metadata": {},
   "outputs": [],
   "source": [
    "cov1_df = pl.read_parquet(\n",
    "    Path(\"/lustre/scratch126/casm/team154pc/sl17/03.sperm/02.results/01.read_alignment/01.ccs/04.hifiasm/02.hifiasm_0.19.5-r592/02.chromosome_length_scaffolds/\") \\\n",
    "        / f\"{focal_sample_id}\" / \"reads\" / f\"{denovo_chrom}.certainty_0.95.candidate_reads.hap1.coverage_refinement.parquet\"\n",
    ")\n",
    "\n",
    "cov2_df = pl.read_parquet(\n",
    "    Path(\"/lustre/scratch126/casm/team154pc/sl17/03.sperm/02.results/01.read_alignment/01.ccs/04.hifiasm/02.hifiasm_0.19.5-r592/02.chromosome_length_scaffolds/\") \\\n",
    "        / f\"{focal_sample_id}\" / \"reads\" / f\"{denovo_chrom}.certainty_0.95.candidate_reads.hap2.coverage_refinement.parquet\"\n",
    ")"
   ]
  },
  {
   "cell_type": "code",
   "execution_count": null,
   "id": "a4a0cb9d-8784-4259-9d9b-2e96cfef5267",
   "metadata": {},
   "outputs": [],
   "source": [
    "test_read = \"m64094e_220715_151527/153551949/ccs\"\n",
    "xdf1 = cov1_df.filter(pl.col(\"read_name\") == test_read).filter(pl.col(\"min_coverage_hap1\").is_not_null())\n",
    "xdf2 = cov2_df.filter(pl.col(\"read_name\") == test_read).filter(pl.col(\"min_coverage_hap2\").is_not_null())\n",
    "plt.step(\n",
    "    xdf1[\"start\"],\n",
    "    xdf1[\"min_coverage_hap1\"],\n",
    "    where=\"post\",\n",
    ")\n",
    "plt.step(\n",
    "    xdf2[\"start\"],\n",
    "    xdf2[\"min_coverage_hap2\"],\n",
    "    where=\"post\",\n",
    ")\n",
    "#plt.xlim(0,200);"
   ]
  },
  {
   "cell_type": "code",
   "execution_count": null,
   "id": "149845a6-4b72-4086-b222-76d7bf4bb022",
   "metadata": {},
   "outputs": [],
   "source": []
  },
  {
   "cell_type": "code",
   "execution_count": null,
   "id": "6bb959d5-e74d-4a88-a65e-6d24972ac65f",
   "metadata": {},
   "outputs": [],
   "source": [
    "with pl.Config(fmt_str_lengths=50, set_tbl_rows=-1):\n",
    "    display(\n",
    "        \n",
    "    )"
   ]
  },
  {
   "cell_type": "code",
   "execution_count": null,
   "id": "e52d91ab-761a-42f1-ae8a-8aecb33cf390",
   "metadata": {},
   "outputs": [],
   "source": [
    "# with pl.Config(fmt_str_lengths=50, set_tbl_rows=-1):\n",
    "#     display(\n",
    "#         events_df.filter(pl.col(\"read_name\") == \"m64094e_220715_151527/21168853/ccs\").collect()\n",
    "#     )"
   ]
  },
  {
   "cell_type": "code",
   "execution_count": null,
   "id": "0aab5519-a7e4-4d8b-9d7d-bdbfd07bc4e6",
   "metadata": {},
   "outputs": [],
   "source": []
  },
  {
   "cell_type": "code",
   "execution_count": null,
   "id": "93f2e5b5-6adf-4ec3-a2bc-28abb49f2dc9",
   "metadata": {},
   "outputs": [],
   "source": []
  },
  {
   "cell_type": "code",
   "execution_count": null,
   "id": "1062cdb3-5ada-4988-b347-b7ea0fd68a07",
   "metadata": {},
   "outputs": [],
   "source": [
    "\"m64094e_220715_151527/21168853/ccs\", 15764"
   ]
  },
  {
   "cell_type": "code",
   "execution_count": null,
   "id": "97bea87c-f431-4cdd-ae2e-95a9ff76d5f5",
   "metadata": {},
   "outputs": [],
   "source": [
    "with pl.Config(fmt_str_lengths=50, set_tbl_rows=-1):\n",
    "    display(cov_df\n",
    "        .filter(pl.col(\"min_coverage_hap1\").is_not_null())\n",
    "        .group_by(\"read_name\")\n",
    "        .min()\n",
    "    )"
   ]
  },
  {
   "cell_type": "code",
   "execution_count": null,
   "id": "7c8ee156-d08b-4db7-878f-209e9129714e",
   "metadata": {},
   "outputs": [],
   "source": []
  },
  {
   "cell_type": "code",
   "execution_count": null,
   "id": "e53a4427-c3b9-4290-a71a-f6d719db2c7f",
   "metadata": {},
   "outputs": [],
   "source": []
  },
  {
   "cell_type": "markdown",
   "id": "3a117b81-bbea-42c0-a772-3ef105715bc8",
   "metadata": {},
   "source": [
    "# Check classified events"
   ]
  },
  {
   "cell_type": "code",
   "execution_count": null,
   "id": "edefff9e-d1eb-4229-84b4-f969e3db7dc3",
   "metadata": {},
   "outputs": [],
   "source": [
    "# Samples to do\n",
    "sample_ids = [\n",
    "    \"PD50477f\",\n",
    "    # \"PD50508bf\", -- ignore; merged two sampling dates just for phasing, but should be analyzed separately\n",
    "    \"PD50519d\",\n",
    "    # \"PD47269d\", -- don't use, not there\n",
    "    \"PD50508f\",\n",
    "    # \"PD50511e\", -- don't use, likely mixture\n",
    "    \"PD50523b\",\n",
    "    # \"PD48473b\", -- don't use, not there\n",
    "    \"PD50521b\",\n",
    "    \"PD50508b\",\n",
    "    # \"PD50521be\", -- ignore; merged two sampling dates just for phasing, but should be analyzed separately\n",
    "    \"PD46180c\",\n",
    "    # \"PD50502f\", -- don't use, likely mixture\n",
    "    \"PD50521e\",\n",
    "    # \"PD50511e_SS\",  --- don't use\n",
    "    \"PD50489e\",\n",
    "]\n",
    "\n",
    "cls_df = pl.concat([\n",
    "    pl.read_parquet(\n",
    "        str(Path(\"/lustre/scratch126/casm/team154pc/sl17/03.sperm/02.results/01.read_alignment/01.ccs/04.hifiasm/02.hifiasm_0.19.5-r592/02.chromosome_length_scaffolds\")\n",
    "            / f\"{focal_sample_id}\" / \"reads\" / f\"{chrom}_RagTag.certainty_0.95.classified_reads.parquet\")\n",
    "    ) \\\n",
    "    for focal_sample_id in sample_ids\n",
    "    for chrom in aut_chrom_names\n",
    "])"
   ]
  },
  {
   "cell_type": "code",
   "execution_count": null,
   "id": "c8c6759f-d1b8-4255-9afb-24f5195163a8",
   "metadata": {},
   "outputs": [],
   "source": []
  },
  {
   "cell_type": "code",
   "execution_count": null,
   "id": "a0346422-c240-4cf7-9537-a694d7a98e45",
   "metadata": {},
   "outputs": [],
   "source": [
    "events_df = pl.scan_parquet(Path(\"/lustre/scratch126/casm/team154pc/sl17/03.sperm/02.results/01.read_alignment/01.ccs/04.hifiasm/02.hifiasm_0.19.5-r592/02.chromosome_length_scaffolds/\") \\\n",
    "    / f\"{focal_sample_id}\" / \"reads\" / f\"{denovo_chrom}.certainty_0.95.snps.parquet\")"
   ]
  },
  {
   "cell_type": "code",
   "execution_count": null,
   "id": "733e260e-4f6d-405c-8274-3c4cfb3bc13e",
   "metadata": {},
   "outputs": [],
   "source": [
    "sample_of_first_snps = (events_df\n",
    "    .join(\n",
    "        (events_df\n",
    "            .filter(\"is_high_quality_snp\")\n",
    "            .group_by(\"read_name\").count()\n",
    "            .filter(pl.col(\"count\") >= 7)\n",
    "            .select(\"read_name\")\n",
    "        ),\n",
    "        on=\"read_name\",\n",
    "    )\n",
    "    .sort([\"read_name\", \"start\"])\n",
    "    .group_by(\"read_name\").head()\n",
    "    .select(pl.col(\"start\").alias(\"dist_from_end\"))\n",
    ").collect()"
   ]
  },
  {
   "cell_type": "code",
   "execution_count": null,
   "id": "95dce5b4-54f6-4551-ada5-636c4f496559",
   "metadata": {},
   "outputs": [],
   "source": [
    "xx = (cls_df\n",
    "    .filter(pl.col(\"class\") == \"ambiguous\")\n",
    "    .filter((pl.col(\"idx_transitions\").list.get(0) == 0) & (pl.col(\"snp_positions_on_read\").list.len() >= 7))\n",
    "    .select(pl.col(\"snp_positions_on_read\").list.get(0).alias(\"dist_from_end\"))\n",
    ")\n",
    "\n",
    "plt.hist(\n",
    "    [sample_of_first_snps[\"dist_from_end\"], xx[\"dist_from_end\"]], \n",
    "    bins=np.linspace(0,20000,200), \n",
    "    density=True\n",
    ");\n",
    "plt.xlim(0, 7000);\n",
    "plt.xlabel(\"First SNP position\")\n",
    "plt.legend([\"In all reads with >=7 SNPs\", \"Transition at first SNP, at reads with >=7 SNPs\"]);"
   ]
  },
  {
   "cell_type": "code",
   "execution_count": null,
   "id": "51948dda-9831-4448-a1da-c3ed8a34a190",
   "metadata": {},
   "outputs": [],
   "source": [
    "yy = (cls_df\n",
    "    .filter(pl.col(\"class\") == \"ambiguous\")\n",
    "    .filter((pl.col(\"idx_transitions\").list.get(-1) == (pl.col(\"snp_positions_on_read\").list.len()-2)) & (pl.col(\"snp_positions_on_read\").list.len() >= 7))\n",
    "    .select((pl.col(\"read_length\") - pl.col(\"snp_positions_on_read\").list.get(-1)).alias(\"dist_from_end\"))\n",
    ")\n",
    "\n",
    "plt.hist(yy, bins=np.linspace(0,7000,100));\n",
    "plt.xlabel(\"Distance of last SNP to read end\")"
   ]
  },
  {
   "cell_type": "code",
   "execution_count": null,
   "id": "7788fece-1137-4fb8-91e8-67338d2c9eb7",
   "metadata": {},
   "outputs": [],
   "source": [
    "plt.hist(pl.concat([xx, yy]), bins=np.linspace(0,7000,100));\n",
    "plt.xlabel(\"Both\")"
   ]
  },
  {
   "cell_type": "markdown",
   "id": "6fd2ec87-9eff-4a02-bf81-18075cb113e3",
   "metadata": {},
   "source": [
    "## How much would we lose shaving these off?"
   ]
  },
  {
   "cell_type": "markdown",
   "id": "c7e5a254-c1a8-4596-89fa-473e3b5fe58a",
   "metadata": {
    "tags": []
   },
   "source": [
    "### Before read trimming"
   ]
  },
  {
   "cell_type": "code",
   "execution_count": null,
   "id": "0b4b03de-b4cc-451d-b50b-0e1bc8fbe4c0",
   "metadata": {},
   "outputs": [],
   "source": [
    "(cls_df.filter(~pl.col(\"has_common_transition\")))[\"class\"].value_counts()"
   ]
  },
  {
   "cell_type": "markdown",
   "id": "f433fd77-e831-467f-9481-450ba97e3bdd",
   "metadata": {},
   "source": [
    "### After read trimming"
   ]
  },
  {
   "cell_type": "code",
   "execution_count": null,
   "id": "72467474-706b-44b8-a2d9-f2e0c3b7a4b1",
   "metadata": {},
   "outputs": [],
   "source": [
    "# (cls_df\n",
    "#     .filter(~pl.col(\"has_common_transition\"))\n",
    "#     .filter(\n",
    "#         (pl.col(\"n_transitions\") > 1) |\n",
    "#         (~pl.col(\"idx_transitions\").list.contains(0) | (pl.col(\"snp_positions_on_read\").list.get(0) > 2000)) | \n",
    "#         (~pl.col(\"idx_transitions\").list.contains(pl.col(\"snp_positions_on_read\").list.len()-2) |\n",
    "#           ((pl.col(\"read_length\") - pl.col(\"snp_positions_on_read\").list.get(-1)) > 2000))\n",
    "#     )\n",
    "# )[\"class\"].value_counts()"
   ]
  },
  {
   "cell_type": "markdown",
   "id": "1f0c9fa3-abb8-4476-8007-fa9011a53326",
   "metadata": {},
   "source": [
    "### After coverage"
   ]
  },
  {
   "cell_type": "code",
   "execution_count": null,
   "id": "ba3a6759-fa85-41e5-aa8d-6813c071a4f4",
   "metadata": {},
   "outputs": [],
   "source": [
    "with pl.Config(fmt_str_lengths=50, set_tbl_rows=50):\n",
    "    display(cls_df\n",
    "        .filter(~pl.col(\"has_common_transition\"))\n",
    "        .filter(\n",
    "            (pl.col(\"min_coverage_between_transitions_hap1\") >= 3) &\n",
    "            (pl.col(\"min_coverage_between_transitions_hap2\") >= 3)\n",
    "        )\n",
    "        .filter(pl.col(\"class\") == \"CNCO\")\n",
    "        #.filter(pl.col(\"sample_id\") == \"PD50489e\")\n",
    "        #.filter(pl.col(\"chrom\") == \"chr2_RagTag\")\n",
    "        # .filter(\n",
    "        #     (pl.col(\"n_transitions\") > 1) |        \n",
    "        #     (~pl.col(\"idx_transitions\").list.contains(0) | (pl.col(\"snp_positions_on_read\").list.get(0) > 2000)) | \n",
    "        #     (~pl.col(\"idx_transitions\").list.contains(pl.col(\"snp_positions_on_read\").list.len()-2) |\n",
    "        #       ((pl.col(\"read_length\") - pl.col(\"snp_positions_on_read\").list.get(-1)) > 2000))\n",
    "        # )\n",
    "    )#[\"class\"].value_counts()"
   ]
  },
  {
   "cell_type": "code",
   "execution_count": null,
   "id": "565df8f3-3d3e-47dd-b63b-1786ce514166",
   "metadata": {},
   "outputs": [],
   "source": []
  },
  {
   "cell_type": "code",
   "execution_count": null,
   "id": "25a65e3a-341b-4417-90fe-f3f98371d770",
   "metadata": {},
   "outputs": [],
   "source": [
    "xs = np.arange(1, 20)\n",
    "ys = []\n",
    "for x in xs:\n",
    "    vc = (cls_df\n",
    "        .filter(~pl.col(\"has_common_transition\"))\n",
    "        .filter(\n",
    "            (pl.col(\"min_coverage_between_transitions_hap1\") >= 3) &\n",
    "            (pl.col(\"min_coverage_between_transitions_hap2\") >= 3)\n",
    "        )\n",
    "        .filter(pl.col(\"snp_positions_on_read\").list.len() >= x)\n",
    "    )[\"class\"].value_counts().rows_by_key(key=[\"class\"], named=True, unique=True)\n",
    "    ys.append([vc[\"CO\"][\"counts\"], vc[\"ambiguous\"][\"counts\"]])"
   ]
  },
  {
   "cell_type": "code",
   "execution_count": null,
   "id": "0ca5e1f5-1899-4886-a6a2-824934a3de21",
   "metadata": {},
   "outputs": [],
   "source": [
    "plt.plot(xs, np.array(ys).T[0])\n",
    "plt.plot(xs, np.array(ys).T[1])\n",
    "plt.legend([\"CO\", \"amb\"]);"
   ]
  },
  {
   "cell_type": "code",
   "execution_count": null,
   "id": "0254c66e-f6f6-4b80-b276-b7998a2f3dc1",
   "metadata": {},
   "outputs": [],
   "source": []
  }
 ],
 "metadata": {
  "kernelspec": {
   "display_name": "sperm",
   "language": "python",
   "name": "sperm"
  },
  "language_info": {
   "codemirror_mode": {
    "name": "ipython",
    "version": 3
   },
   "file_extension": ".py",
   "mimetype": "text/x-python",
   "name": "python",
   "nbconvert_exporter": "python",
   "pygments_lexer": "ipython3",
   "version": "3.11.6"
  }
 },
 "nbformat": 4,
 "nbformat_minor": 5
}
