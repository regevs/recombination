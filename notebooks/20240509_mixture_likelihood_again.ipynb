{
 "cells": [
  {
   "cell_type": "code",
   "execution_count": 1,
   "id": "250c2dfd-5d39-44ae-86dc-4c8295b45388",
   "metadata": {},
   "outputs": [],
   "source": [
    "%load_ext autoreload\n",
    "%autoreload 2"
   ]
  },
  {
   "cell_type": "code",
   "execution_count": 2,
   "id": "8a25c75b-fb14-46da-ba84-00b35e68ffc2",
   "metadata": {},
   "outputs": [],
   "source": [
    "import numpy as np\n",
    "import pandas as pd\n",
    "import matplotlib.pyplot as plt\n",
    "plt.rcParams['pdf.use14corefonts'] = True\n",
    "\n",
    "import numba\n",
    "import numba.typed\n",
    "\n",
    "from pathlib import Path\n",
    "import tqdm\n",
    "import sys\n",
    "import seaborn as sns\n",
    "import scipy.stats\n",
    "import os\n",
    "import joblib\n",
    "import io\n",
    "import itertools\n",
    "import warnings\n",
    "\n",
    "from brokenaxes import brokenaxes\n",
    "\n",
    "\n",
    "import polars as pl\n",
    "pl.Config.set_tbl_rows(100);\n",
    "pl.Config.set_fmt_str_lengths(50);\n"
   ]
  },
  {
   "cell_type": "code",
   "execution_count": 3,
   "id": "05a65a95-e51a-49b7-9a8f-5ea35c523595",
   "metadata": {},
   "outputs": [],
   "source": [
    "sys.path.append(str(Path(os.getcwd()).parent))\n",
    "from src import liftover, annotate, diagnostics, inference\n",
    "from src.IDs import *\n"
   ]
  },
  {
   "cell_type": "markdown",
   "id": "40286606-1d91-41e0-b88e-55a7abfb5843",
   "metadata": {},
   "source": [
    "# Create callset to infer from"
   ]
  },
  {
   "cell_type": "code",
   "execution_count": 4,
   "id": "046736fb-df76-4701-9c9c-a6e4236d22d7",
   "metadata": {},
   "outputs": [
    {
     "name": "stderr",
     "output_type": "stream",
     "text": [
      "100%|██████████| 9/9 [00:08<00:00,  1.05it/s]"
     ]
    },
    {
     "name": "stdout",
     "output_type": "stream",
     "text": [
      "CPU times: user 122 ms, sys: 232 ms, total: 354 ms\n",
      "Wall time: 8.57 s\n"
     ]
    },
    {
     "name": "stderr",
     "output_type": "stream",
     "text": [
      "\n"
     ]
    }
   ],
   "source": [
    "%%time\n",
    "reads_df = pl.concat([\n",
    "    pl.scan_parquet(\n",
    "        f\"/lustre/scratch126/casm/team154pc/sl17/03.sperm/02.results/01.read_alignment/01.ccs/04.hifiasm/02.hifiasm_0.19.5-r592/02.chromosome_length_scaffolds/{focal_sample_id}/reads/{chrom}_RagTag.certainty_0.95.all_reads_structure_annotated.parquet\"\n",
    "    ) \n",
    "    for focal_sample_id in tqdm.tqdm(rahbari_sample_ids)\n",
    "    for chrom in aut_chrom_names\n",
    "])"
   ]
  },
  {
   "cell_type": "code",
   "execution_count": 5,
   "id": "8036c2cc-3045-440c-8575-d43def77e1a4",
   "metadata": {
    "tags": []
   },
   "outputs": [
    {
     "name": "stdout",
     "output_type": "stream",
     "text": [
      "CPU times: user 10min 11s, sys: 3min 51s, total: 14min 2s\n",
      "Wall time: 4min 24s\n"
     ]
    }
   ],
   "source": [
    "%%time\n",
    "callset_df = inference.generate_call_set(reads_df, rahbari_sample_ids, take_every=1, min_snps=3, sample_every=1)"
   ]
  },
  {
   "cell_type": "code",
   "execution_count": 6,
   "id": "b8bb6993-eb3d-46ee-8a47-36d899d99037",
   "metadata": {
    "tags": []
   },
   "outputs": [
    {
     "data": {
      "text/plain": [
       "(19677505, 19)"
      ]
     },
     "execution_count": 6,
     "metadata": {},
     "output_type": "execute_result"
    }
   ],
   "source": [
    "callset_df.shape"
   ]
  },
  {
   "cell_type": "code",
   "execution_count": null,
   "id": "00f805bb-38e0-4c43-b157-98bb319f2cd0",
   "metadata": {},
   "outputs": [],
   "source": []
  },
  {
   "cell_type": "code",
   "execution_count": 20,
   "id": "35ca7a1b-aa72-488a-9e0e-b5758b303ee6",
   "metadata": {
    "tags": []
   },
   "outputs": [
    {
     "name": "stdout",
     "output_type": "stream",
     "text": [
      "CPU times: user 7min 32s, sys: 1min 47s, total: 9min 20s\n",
      "Wall time: 1min 31s\n"
     ]
    },
    {
     "data": {
      "text/plain": [
       "(1619577, 18)"
      ]
     },
     "execution_count": 20,
     "metadata": {},
     "output_type": "execute_result"
    }
   ],
   "source": [
    "%%time\n",
    "fast_callset_df = inference.generate_call_set(reads_df, rahbari_sample_ids, take_every=10, min_snps=5)\n",
    "fast_callset_df.shape"
   ]
  },
  {
   "cell_type": "code",
   "execution_count": null,
   "id": "2d08e1bd-9596-4420-b5d2-7412c05760a4",
   "metadata": {},
   "outputs": [],
   "source": []
  },
  {
   "cell_type": "code",
   "execution_count": null,
   "id": "efed4576-287f-489d-92ac-1d5e29971e56",
   "metadata": {},
   "outputs": [],
   "source": []
  },
  {
   "cell_type": "code",
   "execution_count": null,
   "id": "6a1f731f-3577-45bd-87aa-6761663ef6d0",
   "metadata": {},
   "outputs": [],
   "source": []
  },
  {
   "cell_type": "markdown",
   "id": "5b7d1201-d737-4d75-9b59-14ae75cd467b",
   "metadata": {},
   "source": [
    "# Confirm number of COs makes sense?"
   ]
  },
  {
   "cell_type": "markdown",
   "id": "d583860b-ccf6-48fc-96c5-a858d558f038",
   "metadata": {},
   "source": [
    "## x..y, high snps"
   ]
  },
  {
   "cell_type": "code",
   "execution_count": 10,
   "id": "12e863e7-d793-4407-8523-d07b69dc24b0",
   "metadata": {
    "tags": []
   },
   "outputs": [
    {
     "name": "stdout",
     "output_type": "stream",
     "text": [
      "# of observed 1-switches: 1998\n"
     ]
    }
   ],
   "source": [
    "print(\n",
    "    \"# of observed 1-switches:\",\n",
    "    (callset_df\n",
    "        .filter(pl.col(\"high_quality_snps_idx_transitions\").list.len() == 1)\n",
    "        .select(pl.len()).item()\n",
    "    ),\n",
    ")"
   ]
  },
  {
   "cell_type": "code",
   "execution_count": 11,
   "id": "b4b7ea3c-6ff0-4c59-89ef-222b933438bc",
   "metadata": {
    "tags": []
   },
   "outputs": [
    {
     "name": "stdout",
     "output_type": "stream",
     "text": [
      "# of high quality expected 1-switches: 1820.2637378677725\n"
     ]
    }
   ],
   "source": [
    "print(\n",
    "    \"# of high quality expected 1-switches:\",\n",
    "    callset_df.select(\n",
    "        (pl.col(\"between_high_quality_snps_cM\").list.slice(\n",
    "            1, \n",
    "            pl.col(\"between_high_quality_snps_cM\").list.len() - 2,\n",
    "        ).list.sum() * 1e-2).alias(\"prob\")\n",
    "    )\n",
    "    [\"prob\"].sum()\n",
    ")"
   ]
  },
  {
   "cell_type": "code",
   "execution_count": null,
   "id": "6beae1bb-63a2-42c0-8c9f-4d8948f348e3",
   "metadata": {},
   "outputs": [],
   "source": []
  },
  {
   "cell_type": "markdown",
   "id": "7186d0f3-645b-4c30-8e76-73e449923170",
   "metadata": {
    "tags": []
   },
   "source": [
    "# See summary stats"
   ]
  },
  {
   "cell_type": "code",
   "execution_count": 14,
   "id": "5d9ea976-cf03-4e40-8b6e-c2e339b6fe51",
   "metadata": {
    "tags": []
   },
   "outputs": [
    {
     "data": {
      "text/html": [
       "<div><style>\n",
       ".dataframe > thead > tr,\n",
       ".dataframe > tbody > tr {\n",
       "  text-align: right;\n",
       "  white-space: pre-wrap;\n",
       "}\n",
       "</style>\n",
       "<small>shape: (3, 2)</small><table border=\"1\" class=\"dataframe\"><thead><tr><th>n_transitions</th><th>len</th></tr><tr><td>u32</td><td>u32</td></tr></thead><tbody><tr><td>0</td><td>19675083</td></tr><tr><td>1</td><td>1998</td></tr><tr><td>2</td><td>424</td></tr></tbody></table></div>"
      ],
      "text/plain": [
       "shape: (3, 2)\n",
       "┌───────────────┬──────────┐\n",
       "│ n_transitions ┆ len      │\n",
       "│ ---           ┆ ---      │\n",
       "│ u32           ┆ u32      │\n",
       "╞═══════════════╪══════════╡\n",
       "│ 0             ┆ 19675083 │\n",
       "│ 1             ┆ 1998     │\n",
       "│ 2             ┆ 424      │\n",
       "└───────────────┴──────────┘"
      ]
     },
     "execution_count": 14,
     "metadata": {},
     "output_type": "execute_result"
    }
   ],
   "source": [
    "(callset_df\n",
    "    .select(pl.col(\"high_quality_snps_idx_transitions\").list.len().alias(\"n_transitions\"))\n",
    "    .group_by(\"n_transitions\")\n",
    "    .len()\n",
    "    .sort(\"n_transitions\")\n",
    ")"
   ]
  },
  {
   "cell_type": "code",
   "execution_count": 15,
   "id": "fcb7b03d-80bd-4d8e-a79b-85a7264ecb08",
   "metadata": {
    "tags": []
   },
   "outputs": [
    {
     "data": {
      "text/html": [
       "<div><style>\n",
       ".dataframe > thead > tr,\n",
       ".dataframe > tbody > tr {\n",
       "  text-align: right;\n",
       "  white-space: pre-wrap;\n",
       "}\n",
       "</style>\n",
       "<small>shape: (5, 2)</small><table border=\"1\" class=\"dataframe\"><thead><tr><th>n_converted</th><th>len</th></tr><tr><td>i64</td><td>u32</td></tr></thead><tbody><tr><td>1</td><td>387</td></tr><tr><td>2</td><td>27</td></tr><tr><td>3</td><td>6</td></tr><tr><td>4</td><td>1</td></tr><tr><td>5</td><td>3</td></tr></tbody></table></div>"
      ],
      "text/plain": [
       "shape: (5, 2)\n",
       "┌─────────────┬─────┐\n",
       "│ n_converted ┆ len │\n",
       "│ ---         ┆ --- │\n",
       "│ i64         ┆ u32 │\n",
       "╞═════════════╪═════╡\n",
       "│ 1           ┆ 387 │\n",
       "│ 2           ┆ 27  │\n",
       "│ 3           ┆ 6   │\n",
       "│ 4           ┆ 1   │\n",
       "│ 5           ┆ 3   │\n",
       "└─────────────┴─────┘"
      ]
     },
     "execution_count": 15,
     "metadata": {},
     "output_type": "execute_result"
    }
   ],
   "source": [
    "(callset_df\n",
    "    .filter(pl.col(\"high_quality_snps_idx_transitions\").list.len() == 2)\n",
    "    .select(pl.col(\"high_quality_snps_idx_transitions\").list.diff(null_behavior=\"drop\").list.first().alias(\"n_converted\"))\n",
    "    .group_by(\"n_converted\")\n",
    "    .len()\n",
    "    .sort(\"n_converted\")\n",
    ")"
   ]
  },
  {
   "cell_type": "code",
   "execution_count": 10,
   "id": "afb1412a-d51d-4650-858d-240478557a40",
   "metadata": {
    "tags": []
   },
   "outputs": [
    {
     "data": {
      "application/javascript": [
       "(function(root) {\n",
       "  function now() {\n",
       "    return new Date();\n",
       "  }\n",
       "\n",
       "  var force = true;\n",
       "  var py_version = '3.4.1'.replace('rc', '-rc.').replace('.dev', '-dev.');\n",
       "  var reloading = false;\n",
       "  var Bokeh = root.Bokeh;\n",
       "\n",
       "  if (typeof (root._bokeh_timeout) === \"undefined\" || force) {\n",
       "    root._bokeh_timeout = Date.now() + 5000;\n",
       "    root._bokeh_failed_load = false;\n",
       "  }\n",
       "\n",
       "  function run_callbacks() {\n",
       "    try {\n",
       "      root._bokeh_onload_callbacks.forEach(function(callback) {\n",
       "        if (callback != null)\n",
       "          callback();\n",
       "      });\n",
       "    } finally {\n",
       "      delete root._bokeh_onload_callbacks;\n",
       "    }\n",
       "    console.debug(\"Bokeh: all callbacks have finished\");\n",
       "  }\n",
       "\n",
       "  function load_libs(css_urls, js_urls, js_modules, js_exports, callback) {\n",
       "    if (css_urls == null) css_urls = [];\n",
       "    if (js_urls == null) js_urls = [];\n",
       "    if (js_modules == null) js_modules = [];\n",
       "    if (js_exports == null) js_exports = {};\n",
       "\n",
       "    root._bokeh_onload_callbacks.push(callback);\n",
       "\n",
       "    if (root._bokeh_is_loading > 0) {\n",
       "      console.debug(\"Bokeh: BokehJS is being loaded, scheduling callback at\", now());\n",
       "      return null;\n",
       "    }\n",
       "    if (js_urls.length === 0 && js_modules.length === 0 && Object.keys(js_exports).length === 0) {\n",
       "      run_callbacks();\n",
       "      return null;\n",
       "    }\n",
       "    if (!reloading) {\n",
       "      console.debug(\"Bokeh: BokehJS not loaded, scheduling load and callback at\", now());\n",
       "    }\n",
       "\n",
       "    function on_load() {\n",
       "      root._bokeh_is_loading--;\n",
       "      if (root._bokeh_is_loading === 0) {\n",
       "        console.debug(\"Bokeh: all BokehJS libraries/stylesheets loaded\");\n",
       "        run_callbacks()\n",
       "      }\n",
       "    }\n",
       "    window._bokeh_on_load = on_load\n",
       "\n",
       "    function on_error() {\n",
       "      console.error(\"failed to load \" + url);\n",
       "    }\n",
       "\n",
       "    var skip = [];\n",
       "    if (window.requirejs) {\n",
       "      window.requirejs.config({'packages': {}, 'paths': {}, 'shim': {}});\n",
       "      root._bokeh_is_loading = css_urls.length + 0;\n",
       "    } else {\n",
       "      root._bokeh_is_loading = css_urls.length + js_urls.length + js_modules.length + Object.keys(js_exports).length;\n",
       "    }\n",
       "\n",
       "    var existing_stylesheets = []\n",
       "    var links = document.getElementsByTagName('link')\n",
       "    for (var i = 0; i < links.length; i++) {\n",
       "      var link = links[i]\n",
       "      if (link.href != null) {\n",
       "\texisting_stylesheets.push(link.href)\n",
       "      }\n",
       "    }\n",
       "    for (var i = 0; i < css_urls.length; i++) {\n",
       "      var url = css_urls[i];\n",
       "      if (existing_stylesheets.indexOf(url) !== -1) {\n",
       "\ton_load()\n",
       "\tcontinue;\n",
       "      }\n",
       "      const element = document.createElement(\"link\");\n",
       "      element.onload = on_load;\n",
       "      element.onerror = on_error;\n",
       "      element.rel = \"stylesheet\";\n",
       "      element.type = \"text/css\";\n",
       "      element.href = url;\n",
       "      console.debug(\"Bokeh: injecting link tag for BokehJS stylesheet: \", url);\n",
       "      document.body.appendChild(element);\n",
       "    }    var existing_scripts = []\n",
       "    var scripts = document.getElementsByTagName('script')\n",
       "    for (var i = 0; i < scripts.length; i++) {\n",
       "      var script = scripts[i]\n",
       "      if (script.src != null) {\n",
       "\texisting_scripts.push(script.src)\n",
       "      }\n",
       "    }\n",
       "    for (var i = 0; i < js_urls.length; i++) {\n",
       "      var url = js_urls[i];\n",
       "      if (skip.indexOf(url) !== -1 || existing_scripts.indexOf(url) !== -1) {\n",
       "\tif (!window.requirejs) {\n",
       "\t  on_load();\n",
       "\t}\n",
       "\tcontinue;\n",
       "      }\n",
       "      var element = document.createElement('script');\n",
       "      element.onload = on_load;\n",
       "      element.onerror = on_error;\n",
       "      element.async = false;\n",
       "      element.src = url;\n",
       "      console.debug(\"Bokeh: injecting script tag for BokehJS library: \", url);\n",
       "      document.head.appendChild(element);\n",
       "    }\n",
       "    for (var i = 0; i < js_modules.length; i++) {\n",
       "      var url = js_modules[i];\n",
       "      if (skip.indexOf(url) !== -1 || existing_scripts.indexOf(url) !== -1) {\n",
       "\tif (!window.requirejs) {\n",
       "\t  on_load();\n",
       "\t}\n",
       "\tcontinue;\n",
       "      }\n",
       "      var element = document.createElement('script');\n",
       "      element.onload = on_load;\n",
       "      element.onerror = on_error;\n",
       "      element.async = false;\n",
       "      element.src = url;\n",
       "      element.type = \"module\";\n",
       "      console.debug(\"Bokeh: injecting script tag for BokehJS library: \", url);\n",
       "      document.head.appendChild(element);\n",
       "    }\n",
       "    for (const name in js_exports) {\n",
       "      var url = js_exports[name];\n",
       "      if (skip.indexOf(url) >= 0 || root[name] != null) {\n",
       "\tif (!window.requirejs) {\n",
       "\t  on_load();\n",
       "\t}\n",
       "\tcontinue;\n",
       "      }\n",
       "      var element = document.createElement('script');\n",
       "      element.onerror = on_error;\n",
       "      element.async = false;\n",
       "      element.type = \"module\";\n",
       "      console.debug(\"Bokeh: injecting script tag for BokehJS library: \", url);\n",
       "      element.textContent = `\n",
       "      import ${name} from \"${url}\"\n",
       "      window.${name} = ${name}\n",
       "      window._bokeh_on_load()\n",
       "      `\n",
       "      document.head.appendChild(element);\n",
       "    }\n",
       "    if (!js_urls.length && !js_modules.length) {\n",
       "      on_load()\n",
       "    }\n",
       "  };\n",
       "\n",
       "  function inject_raw_css(css) {\n",
       "    const element = document.createElement(\"style\");\n",
       "    element.appendChild(document.createTextNode(css));\n",
       "    document.body.appendChild(element);\n",
       "  }\n",
       "\n",
       "  var js_urls = [\"https://cdn.bokeh.org/bokeh/release/bokeh-3.4.1.min.js\", \"https://cdn.bokeh.org/bokeh/release/bokeh-gl-3.4.1.min.js\", \"https://cdn.bokeh.org/bokeh/release/bokeh-widgets-3.4.1.min.js\", \"https://cdn.bokeh.org/bokeh/release/bokeh-tables-3.4.1.min.js\", \"https://cdn.holoviz.org/panel/1.4.1/dist/panel.min.js\"];\n",
       "  var js_modules = [];\n",
       "  var js_exports = {};\n",
       "  var css_urls = [];\n",
       "  var inline_js = [    function(Bokeh) {\n",
       "      Bokeh.set_log_level(\"info\");\n",
       "    },\n",
       "function(Bokeh) {} // ensure no trailing comma for IE\n",
       "  ];\n",
       "\n",
       "  function run_inline_js() {\n",
       "    if ((root.Bokeh !== undefined) || (force === true)) {\n",
       "      for (var i = 0; i < inline_js.length; i++) {\n",
       "\ttry {\n",
       "          inline_js[i].call(root, root.Bokeh);\n",
       "\t} catch(e) {\n",
       "\t  if (!reloading) {\n",
       "\t    throw e;\n",
       "\t  }\n",
       "\t}\n",
       "      }\n",
       "      // Cache old bokeh versions\n",
       "      if (Bokeh != undefined && !reloading) {\n",
       "\tvar NewBokeh = root.Bokeh;\n",
       "\tif (Bokeh.versions === undefined) {\n",
       "\t  Bokeh.versions = new Map();\n",
       "\t}\n",
       "\tif (NewBokeh.version !== Bokeh.version) {\n",
       "\t  Bokeh.versions.set(NewBokeh.version, NewBokeh)\n",
       "\t}\n",
       "\troot.Bokeh = Bokeh;\n",
       "      }} else if (Date.now() < root._bokeh_timeout) {\n",
       "      setTimeout(run_inline_js, 100);\n",
       "    } else if (!root._bokeh_failed_load) {\n",
       "      console.log(\"Bokeh: BokehJS failed to load within specified timeout.\");\n",
       "      root._bokeh_failed_load = true;\n",
       "    }\n",
       "    root._bokeh_is_initializing = false\n",
       "  }\n",
       "\n",
       "  function load_or_wait() {\n",
       "    // Implement a backoff loop that tries to ensure we do not load multiple\n",
       "    // versions of Bokeh and its dependencies at the same time.\n",
       "    // In recent versions we use the root._bokeh_is_initializing flag\n",
       "    // to determine whether there is an ongoing attempt to initialize\n",
       "    // bokeh, however for backward compatibility we also try to ensure\n",
       "    // that we do not start loading a newer (Panel>=1.0 and Bokeh>3) version\n",
       "    // before older versions are fully initialized.\n",
       "    if (root._bokeh_is_initializing && Date.now() > root._bokeh_timeout) {\n",
       "      root._bokeh_is_initializing = false;\n",
       "      root._bokeh_onload_callbacks = undefined;\n",
       "      console.log(\"Bokeh: BokehJS was loaded multiple times but one version failed to initialize.\");\n",
       "      load_or_wait();\n",
       "    } else if (root._bokeh_is_initializing || (typeof root._bokeh_is_initializing === \"undefined\" && root._bokeh_onload_callbacks !== undefined)) {\n",
       "      setTimeout(load_or_wait, 100);\n",
       "    } else {\n",
       "      root._bokeh_is_initializing = true\n",
       "      root._bokeh_onload_callbacks = []\n",
       "      var bokeh_loaded = Bokeh != null && (Bokeh.version === py_version || (Bokeh.versions !== undefined && Bokeh.versions.has(py_version)));\n",
       "      if (!reloading && !bokeh_loaded) {\n",
       "\troot.Bokeh = undefined;\n",
       "      }\n",
       "      load_libs(css_urls, js_urls, js_modules, js_exports, function() {\n",
       "\tconsole.debug(\"Bokeh: BokehJS plotting callback run at\", now());\n",
       "\trun_inline_js();\n",
       "      });\n",
       "    }\n",
       "  }\n",
       "  // Give older versions of the autoload script a head-start to ensure\n",
       "  // they initialize before we start loading newer version.\n",
       "  setTimeout(load_or_wait, 100)\n",
       "}(window));"
      ],
      "application/vnd.holoviews_load.v0+json": "(function(root) {\n  function now() {\n    return new Date();\n  }\n\n  var force = true;\n  var py_version = '3.4.1'.replace('rc', '-rc.').replace('.dev', '-dev.');\n  var reloading = false;\n  var Bokeh = root.Bokeh;\n\n  if (typeof (root._bokeh_timeout) === \"undefined\" || force) {\n    root._bokeh_timeout = Date.now() + 5000;\n    root._bokeh_failed_load = false;\n  }\n\n  function run_callbacks() {\n    try {\n      root._bokeh_onload_callbacks.forEach(function(callback) {\n        if (callback != null)\n          callback();\n      });\n    } finally {\n      delete root._bokeh_onload_callbacks;\n    }\n    console.debug(\"Bokeh: all callbacks have finished\");\n  }\n\n  function load_libs(css_urls, js_urls, js_modules, js_exports, callback) {\n    if (css_urls == null) css_urls = [];\n    if (js_urls == null) js_urls = [];\n    if (js_modules == null) js_modules = [];\n    if (js_exports == null) js_exports = {};\n\n    root._bokeh_onload_callbacks.push(callback);\n\n    if (root._bokeh_is_loading > 0) {\n      console.debug(\"Bokeh: BokehJS is being loaded, scheduling callback at\", now());\n      return null;\n    }\n    if (js_urls.length === 0 && js_modules.length === 0 && Object.keys(js_exports).length === 0) {\n      run_callbacks();\n      return null;\n    }\n    if (!reloading) {\n      console.debug(\"Bokeh: BokehJS not loaded, scheduling load and callback at\", now());\n    }\n\n    function on_load() {\n      root._bokeh_is_loading--;\n      if (root._bokeh_is_loading === 0) {\n        console.debug(\"Bokeh: all BokehJS libraries/stylesheets loaded\");\n        run_callbacks()\n      }\n    }\n    window._bokeh_on_load = on_load\n\n    function on_error() {\n      console.error(\"failed to load \" + url);\n    }\n\n    var skip = [];\n    if (window.requirejs) {\n      window.requirejs.config({'packages': {}, 'paths': {}, 'shim': {}});\n      root._bokeh_is_loading = css_urls.length + 0;\n    } else {\n      root._bokeh_is_loading = css_urls.length + js_urls.length + js_modules.length + Object.keys(js_exports).length;\n    }\n\n    var existing_stylesheets = []\n    var links = document.getElementsByTagName('link')\n    for (var i = 0; i < links.length; i++) {\n      var link = links[i]\n      if (link.href != null) {\n\texisting_stylesheets.push(link.href)\n      }\n    }\n    for (var i = 0; i < css_urls.length; i++) {\n      var url = css_urls[i];\n      if (existing_stylesheets.indexOf(url) !== -1) {\n\ton_load()\n\tcontinue;\n      }\n      const element = document.createElement(\"link\");\n      element.onload = on_load;\n      element.onerror = on_error;\n      element.rel = \"stylesheet\";\n      element.type = \"text/css\";\n      element.href = url;\n      console.debug(\"Bokeh: injecting link tag for BokehJS stylesheet: \", url);\n      document.body.appendChild(element);\n    }    var existing_scripts = []\n    var scripts = document.getElementsByTagName('script')\n    for (var i = 0; i < scripts.length; i++) {\n      var script = scripts[i]\n      if (script.src != null) {\n\texisting_scripts.push(script.src)\n      }\n    }\n    for (var i = 0; i < js_urls.length; i++) {\n      var url = js_urls[i];\n      if (skip.indexOf(url) !== -1 || existing_scripts.indexOf(url) !== -1) {\n\tif (!window.requirejs) {\n\t  on_load();\n\t}\n\tcontinue;\n      }\n      var element = document.createElement('script');\n      element.onload = on_load;\n      element.onerror = on_error;\n      element.async = false;\n      element.src = url;\n      console.debug(\"Bokeh: injecting script tag for BokehJS library: \", url);\n      document.head.appendChild(element);\n    }\n    for (var i = 0; i < js_modules.length; i++) {\n      var url = js_modules[i];\n      if (skip.indexOf(url) !== -1 || existing_scripts.indexOf(url) !== -1) {\n\tif (!window.requirejs) {\n\t  on_load();\n\t}\n\tcontinue;\n      }\n      var element = document.createElement('script');\n      element.onload = on_load;\n      element.onerror = on_error;\n      element.async = false;\n      element.src = url;\n      element.type = \"module\";\n      console.debug(\"Bokeh: injecting script tag for BokehJS library: \", url);\n      document.head.appendChild(element);\n    }\n    for (const name in js_exports) {\n      var url = js_exports[name];\n      if (skip.indexOf(url) >= 0 || root[name] != null) {\n\tif (!window.requirejs) {\n\t  on_load();\n\t}\n\tcontinue;\n      }\n      var element = document.createElement('script');\n      element.onerror = on_error;\n      element.async = false;\n      element.type = \"module\";\n      console.debug(\"Bokeh: injecting script tag for BokehJS library: \", url);\n      element.textContent = `\n      import ${name} from \"${url}\"\n      window.${name} = ${name}\n      window._bokeh_on_load()\n      `\n      document.head.appendChild(element);\n    }\n    if (!js_urls.length && !js_modules.length) {\n      on_load()\n    }\n  };\n\n  function inject_raw_css(css) {\n    const element = document.createElement(\"style\");\n    element.appendChild(document.createTextNode(css));\n    document.body.appendChild(element);\n  }\n\n  var js_urls = [\"https://cdn.bokeh.org/bokeh/release/bokeh-3.4.1.min.js\", \"https://cdn.bokeh.org/bokeh/release/bokeh-gl-3.4.1.min.js\", \"https://cdn.bokeh.org/bokeh/release/bokeh-widgets-3.4.1.min.js\", \"https://cdn.bokeh.org/bokeh/release/bokeh-tables-3.4.1.min.js\", \"https://cdn.holoviz.org/panel/1.4.1/dist/panel.min.js\"];\n  var js_modules = [];\n  var js_exports = {};\n  var css_urls = [];\n  var inline_js = [    function(Bokeh) {\n      Bokeh.set_log_level(\"info\");\n    },\nfunction(Bokeh) {} // ensure no trailing comma for IE\n  ];\n\n  function run_inline_js() {\n    if ((root.Bokeh !== undefined) || (force === true)) {\n      for (var i = 0; i < inline_js.length; i++) {\n\ttry {\n          inline_js[i].call(root, root.Bokeh);\n\t} catch(e) {\n\t  if (!reloading) {\n\t    throw e;\n\t  }\n\t}\n      }\n      // Cache old bokeh versions\n      if (Bokeh != undefined && !reloading) {\n\tvar NewBokeh = root.Bokeh;\n\tif (Bokeh.versions === undefined) {\n\t  Bokeh.versions = new Map();\n\t}\n\tif (NewBokeh.version !== Bokeh.version) {\n\t  Bokeh.versions.set(NewBokeh.version, NewBokeh)\n\t}\n\troot.Bokeh = Bokeh;\n      }} else if (Date.now() < root._bokeh_timeout) {\n      setTimeout(run_inline_js, 100);\n    } else if (!root._bokeh_failed_load) {\n      console.log(\"Bokeh: BokehJS failed to load within specified timeout.\");\n      root._bokeh_failed_load = true;\n    }\n    root._bokeh_is_initializing = false\n  }\n\n  function load_or_wait() {\n    // Implement a backoff loop that tries to ensure we do not load multiple\n    // versions of Bokeh and its dependencies at the same time.\n    // In recent versions we use the root._bokeh_is_initializing flag\n    // to determine whether there is an ongoing attempt to initialize\n    // bokeh, however for backward compatibility we also try to ensure\n    // that we do not start loading a newer (Panel>=1.0 and Bokeh>3) version\n    // before older versions are fully initialized.\n    if (root._bokeh_is_initializing && Date.now() > root._bokeh_timeout) {\n      root._bokeh_is_initializing = false;\n      root._bokeh_onload_callbacks = undefined;\n      console.log(\"Bokeh: BokehJS was loaded multiple times but one version failed to initialize.\");\n      load_or_wait();\n    } else if (root._bokeh_is_initializing || (typeof root._bokeh_is_initializing === \"undefined\" && root._bokeh_onload_callbacks !== undefined)) {\n      setTimeout(load_or_wait, 100);\n    } else {\n      root._bokeh_is_initializing = true\n      root._bokeh_onload_callbacks = []\n      var bokeh_loaded = Bokeh != null && (Bokeh.version === py_version || (Bokeh.versions !== undefined && Bokeh.versions.has(py_version)));\n      if (!reloading && !bokeh_loaded) {\n\troot.Bokeh = undefined;\n      }\n      load_libs(css_urls, js_urls, js_modules, js_exports, function() {\n\tconsole.debug(\"Bokeh: BokehJS plotting callback run at\", now());\n\trun_inline_js();\n      });\n    }\n  }\n  // Give older versions of the autoload script a head-start to ensure\n  // they initialize before we start loading newer version.\n  setTimeout(load_or_wait, 100)\n}(window));"
     },
     "metadata": {},
     "output_type": "display_data"
    },
    {
     "data": {
      "application/javascript": [
       "\n",
       "if ((window.PyViz === undefined) || (window.PyViz instanceof HTMLElement)) {\n",
       "  window.PyViz = {comms: {}, comm_status:{}, kernels:{}, receivers: {}, plot_index: []}\n",
       "}\n",
       "\n",
       "\n",
       "    function JupyterCommManager() {\n",
       "    }\n",
       "\n",
       "    JupyterCommManager.prototype.register_target = function(plot_id, comm_id, msg_handler) {\n",
       "      if (window.comm_manager || ((window.Jupyter !== undefined) && (Jupyter.notebook.kernel != null))) {\n",
       "        var comm_manager = window.comm_manager || Jupyter.notebook.kernel.comm_manager;\n",
       "        comm_manager.register_target(comm_id, function(comm) {\n",
       "          comm.on_msg(msg_handler);\n",
       "        });\n",
       "      } else if ((plot_id in window.PyViz.kernels) && (window.PyViz.kernels[plot_id])) {\n",
       "        window.PyViz.kernels[plot_id].registerCommTarget(comm_id, function(comm) {\n",
       "          comm.onMsg = msg_handler;\n",
       "        });\n",
       "      } else if (typeof google != 'undefined' && google.colab.kernel != null) {\n",
       "        google.colab.kernel.comms.registerTarget(comm_id, (comm) => {\n",
       "          var messages = comm.messages[Symbol.asyncIterator]();\n",
       "          function processIteratorResult(result) {\n",
       "            var message = result.value;\n",
       "            console.log(message)\n",
       "            var content = {data: message.data, comm_id};\n",
       "            var buffers = []\n",
       "            for (var buffer of message.buffers || []) {\n",
       "              buffers.push(new DataView(buffer))\n",
       "            }\n",
       "            var metadata = message.metadata || {};\n",
       "            var msg = {content, buffers, metadata}\n",
       "            msg_handler(msg);\n",
       "            return messages.next().then(processIteratorResult);\n",
       "          }\n",
       "          return messages.next().then(processIteratorResult);\n",
       "        })\n",
       "      }\n",
       "    }\n",
       "\n",
       "    JupyterCommManager.prototype.get_client_comm = function(plot_id, comm_id, msg_handler) {\n",
       "      if (comm_id in window.PyViz.comms) {\n",
       "        return window.PyViz.comms[comm_id];\n",
       "      } else if (window.comm_manager || ((window.Jupyter !== undefined) && (Jupyter.notebook.kernel != null))) {\n",
       "        var comm_manager = window.comm_manager || Jupyter.notebook.kernel.comm_manager;\n",
       "        var comm = comm_manager.new_comm(comm_id, {}, {}, {}, comm_id);\n",
       "        if (msg_handler) {\n",
       "          comm.on_msg(msg_handler);\n",
       "        }\n",
       "      } else if ((plot_id in window.PyViz.kernels) && (window.PyViz.kernels[plot_id])) {\n",
       "        var comm = window.PyViz.kernels[plot_id].connectToComm(comm_id);\n",
       "        comm.open();\n",
       "        if (msg_handler) {\n",
       "          comm.onMsg = msg_handler;\n",
       "        }\n",
       "      } else if (typeof google != 'undefined' && google.colab.kernel != null) {\n",
       "        var comm_promise = google.colab.kernel.comms.open(comm_id)\n",
       "        comm_promise.then((comm) => {\n",
       "          window.PyViz.comms[comm_id] = comm;\n",
       "          if (msg_handler) {\n",
       "            var messages = comm.messages[Symbol.asyncIterator]();\n",
       "            function processIteratorResult(result) {\n",
       "              var message = result.value;\n",
       "              var content = {data: message.data};\n",
       "              var metadata = message.metadata || {comm_id};\n",
       "              var msg = {content, metadata}\n",
       "              msg_handler(msg);\n",
       "              return messages.next().then(processIteratorResult);\n",
       "            }\n",
       "            return messages.next().then(processIteratorResult);\n",
       "          }\n",
       "        }) \n",
       "        var sendClosure = (data, metadata, buffers, disposeOnDone) => {\n",
       "          return comm_promise.then((comm) => {\n",
       "            comm.send(data, metadata, buffers, disposeOnDone);\n",
       "          });\n",
       "        };\n",
       "        var comm = {\n",
       "          send: sendClosure\n",
       "        };\n",
       "      }\n",
       "      window.PyViz.comms[comm_id] = comm;\n",
       "      return comm;\n",
       "    }\n",
       "    window.PyViz.comm_manager = new JupyterCommManager();\n",
       "    \n",
       "\n",
       "\n",
       "var JS_MIME_TYPE = 'application/javascript';\n",
       "var HTML_MIME_TYPE = 'text/html';\n",
       "var EXEC_MIME_TYPE = 'application/vnd.holoviews_exec.v0+json';\n",
       "var CLASS_NAME = 'output';\n",
       "\n",
       "/**\n",
       " * Render data to the DOM node\n",
       " */\n",
       "function render(props, node) {\n",
       "  var div = document.createElement(\"div\");\n",
       "  var script = document.createElement(\"script\");\n",
       "  node.appendChild(div);\n",
       "  node.appendChild(script);\n",
       "}\n",
       "\n",
       "/**\n",
       " * Handle when a new output is added\n",
       " */\n",
       "function handle_add_output(event, handle) {\n",
       "  var output_area = handle.output_area;\n",
       "  var output = handle.output;\n",
       "  if ((output.data == undefined) || (!output.data.hasOwnProperty(EXEC_MIME_TYPE))) {\n",
       "    return\n",
       "  }\n",
       "  var id = output.metadata[EXEC_MIME_TYPE][\"id\"];\n",
       "  var toinsert = output_area.element.find(\".\" + CLASS_NAME.split(' ')[0]);\n",
       "  if (id !== undefined) {\n",
       "    var nchildren = toinsert.length;\n",
       "    var html_node = toinsert[nchildren-1].children[0];\n",
       "    html_node.innerHTML = output.data[HTML_MIME_TYPE];\n",
       "    var scripts = [];\n",
       "    var nodelist = html_node.querySelectorAll(\"script\");\n",
       "    for (var i in nodelist) {\n",
       "      if (nodelist.hasOwnProperty(i)) {\n",
       "        scripts.push(nodelist[i])\n",
       "      }\n",
       "    }\n",
       "\n",
       "    scripts.forEach( function (oldScript) {\n",
       "      var newScript = document.createElement(\"script\");\n",
       "      var attrs = [];\n",
       "      var nodemap = oldScript.attributes;\n",
       "      for (var j in nodemap) {\n",
       "        if (nodemap.hasOwnProperty(j)) {\n",
       "          attrs.push(nodemap[j])\n",
       "        }\n",
       "      }\n",
       "      attrs.forEach(function(attr) { newScript.setAttribute(attr.name, attr.value) });\n",
       "      newScript.appendChild(document.createTextNode(oldScript.innerHTML));\n",
       "      oldScript.parentNode.replaceChild(newScript, oldScript);\n",
       "    });\n",
       "    if (JS_MIME_TYPE in output.data) {\n",
       "      toinsert[nchildren-1].children[1].textContent = output.data[JS_MIME_TYPE];\n",
       "    }\n",
       "    output_area._hv_plot_id = id;\n",
       "    if ((window.Bokeh !== undefined) && (id in Bokeh.index)) {\n",
       "      window.PyViz.plot_index[id] = Bokeh.index[id];\n",
       "    } else {\n",
       "      window.PyViz.plot_index[id] = null;\n",
       "    }\n",
       "  } else if (output.metadata[EXEC_MIME_TYPE][\"server_id\"] !== undefined) {\n",
       "    var bk_div = document.createElement(\"div\");\n",
       "    bk_div.innerHTML = output.data[HTML_MIME_TYPE];\n",
       "    var script_attrs = bk_div.children[0].attributes;\n",
       "    for (var i = 0; i < script_attrs.length; i++) {\n",
       "      toinsert[toinsert.length - 1].childNodes[1].setAttribute(script_attrs[i].name, script_attrs[i].value);\n",
       "    }\n",
       "    // store reference to server id on output_area\n",
       "    output_area._bokeh_server_id = output.metadata[EXEC_MIME_TYPE][\"server_id\"];\n",
       "  }\n",
       "}\n",
       "\n",
       "/**\n",
       " * Handle when an output is cleared or removed\n",
       " */\n",
       "function handle_clear_output(event, handle) {\n",
       "  var id = handle.cell.output_area._hv_plot_id;\n",
       "  var server_id = handle.cell.output_area._bokeh_server_id;\n",
       "  if (((id === undefined) || !(id in PyViz.plot_index)) && (server_id !== undefined)) { return; }\n",
       "  var comm = window.PyViz.comm_manager.get_client_comm(\"hv-extension-comm\", \"hv-extension-comm\", function () {});\n",
       "  if (server_id !== null) {\n",
       "    comm.send({event_type: 'server_delete', 'id': server_id});\n",
       "    return;\n",
       "  } else if (comm !== null) {\n",
       "    comm.send({event_type: 'delete', 'id': id});\n",
       "  }\n",
       "  delete PyViz.plot_index[id];\n",
       "  if ((window.Bokeh !== undefined) & (id in window.Bokeh.index)) {\n",
       "    var doc = window.Bokeh.index[id].model.document\n",
       "    doc.clear();\n",
       "    const i = window.Bokeh.documents.indexOf(doc);\n",
       "    if (i > -1) {\n",
       "      window.Bokeh.documents.splice(i, 1);\n",
       "    }\n",
       "  }\n",
       "}\n",
       "\n",
       "/**\n",
       " * Handle kernel restart event\n",
       " */\n",
       "function handle_kernel_cleanup(event, handle) {\n",
       "  delete PyViz.comms[\"hv-extension-comm\"];\n",
       "  window.PyViz.plot_index = {}\n",
       "}\n",
       "\n",
       "/**\n",
       " * Handle update_display_data messages\n",
       " */\n",
       "function handle_update_output(event, handle) {\n",
       "  handle_clear_output(event, {cell: {output_area: handle.output_area}})\n",
       "  handle_add_output(event, handle)\n",
       "}\n",
       "\n",
       "function register_renderer(events, OutputArea) {\n",
       "  function append_mime(data, metadata, element) {\n",
       "    // create a DOM node to render to\n",
       "    var toinsert = this.create_output_subarea(\n",
       "    metadata,\n",
       "    CLASS_NAME,\n",
       "    EXEC_MIME_TYPE\n",
       "    );\n",
       "    this.keyboard_manager.register_events(toinsert);\n",
       "    // Render to node\n",
       "    var props = {data: data, metadata: metadata[EXEC_MIME_TYPE]};\n",
       "    render(props, toinsert[0]);\n",
       "    element.append(toinsert);\n",
       "    return toinsert\n",
       "  }\n",
       "\n",
       "  events.on('output_added.OutputArea', handle_add_output);\n",
       "  events.on('output_updated.OutputArea', handle_update_output);\n",
       "  events.on('clear_output.CodeCell', handle_clear_output);\n",
       "  events.on('delete.Cell', handle_clear_output);\n",
       "  events.on('kernel_ready.Kernel', handle_kernel_cleanup);\n",
       "\n",
       "  OutputArea.prototype.register_mime_type(EXEC_MIME_TYPE, append_mime, {\n",
       "    safe: true,\n",
       "    index: 0\n",
       "  });\n",
       "}\n",
       "\n",
       "if (window.Jupyter !== undefined) {\n",
       "  try {\n",
       "    var events = require('base/js/events');\n",
       "    var OutputArea = require('notebook/js/outputarea').OutputArea;\n",
       "    if (OutputArea.prototype.mime_types().indexOf(EXEC_MIME_TYPE) == -1) {\n",
       "      register_renderer(events, OutputArea);\n",
       "    }\n",
       "  } catch(err) {\n",
       "  }\n",
       "}\n"
      ],
      "application/vnd.holoviews_load.v0+json": "\nif ((window.PyViz === undefined) || (window.PyViz instanceof HTMLElement)) {\n  window.PyViz = {comms: {}, comm_status:{}, kernels:{}, receivers: {}, plot_index: []}\n}\n\n\n    function JupyterCommManager() {\n    }\n\n    JupyterCommManager.prototype.register_target = function(plot_id, comm_id, msg_handler) {\n      if (window.comm_manager || ((window.Jupyter !== undefined) && (Jupyter.notebook.kernel != null))) {\n        var comm_manager = window.comm_manager || Jupyter.notebook.kernel.comm_manager;\n        comm_manager.register_target(comm_id, function(comm) {\n          comm.on_msg(msg_handler);\n        });\n      } else if ((plot_id in window.PyViz.kernels) && (window.PyViz.kernels[plot_id])) {\n        window.PyViz.kernels[plot_id].registerCommTarget(comm_id, function(comm) {\n          comm.onMsg = msg_handler;\n        });\n      } else if (typeof google != 'undefined' && google.colab.kernel != null) {\n        google.colab.kernel.comms.registerTarget(comm_id, (comm) => {\n          var messages = comm.messages[Symbol.asyncIterator]();\n          function processIteratorResult(result) {\n            var message = result.value;\n            console.log(message)\n            var content = {data: message.data, comm_id};\n            var buffers = []\n            for (var buffer of message.buffers || []) {\n              buffers.push(new DataView(buffer))\n            }\n            var metadata = message.metadata || {};\n            var msg = {content, buffers, metadata}\n            msg_handler(msg);\n            return messages.next().then(processIteratorResult);\n          }\n          return messages.next().then(processIteratorResult);\n        })\n      }\n    }\n\n    JupyterCommManager.prototype.get_client_comm = function(plot_id, comm_id, msg_handler) {\n      if (comm_id in window.PyViz.comms) {\n        return window.PyViz.comms[comm_id];\n      } else if (window.comm_manager || ((window.Jupyter !== undefined) && (Jupyter.notebook.kernel != null))) {\n        var comm_manager = window.comm_manager || Jupyter.notebook.kernel.comm_manager;\n        var comm = comm_manager.new_comm(comm_id, {}, {}, {}, comm_id);\n        if (msg_handler) {\n          comm.on_msg(msg_handler);\n        }\n      } else if ((plot_id in window.PyViz.kernels) && (window.PyViz.kernels[plot_id])) {\n        var comm = window.PyViz.kernels[plot_id].connectToComm(comm_id);\n        comm.open();\n        if (msg_handler) {\n          comm.onMsg = msg_handler;\n        }\n      } else if (typeof google != 'undefined' && google.colab.kernel != null) {\n        var comm_promise = google.colab.kernel.comms.open(comm_id)\n        comm_promise.then((comm) => {\n          window.PyViz.comms[comm_id] = comm;\n          if (msg_handler) {\n            var messages = comm.messages[Symbol.asyncIterator]();\n            function processIteratorResult(result) {\n              var message = result.value;\n              var content = {data: message.data};\n              var metadata = message.metadata || {comm_id};\n              var msg = {content, metadata}\n              msg_handler(msg);\n              return messages.next().then(processIteratorResult);\n            }\n            return messages.next().then(processIteratorResult);\n          }\n        }) \n        var sendClosure = (data, metadata, buffers, disposeOnDone) => {\n          return comm_promise.then((comm) => {\n            comm.send(data, metadata, buffers, disposeOnDone);\n          });\n        };\n        var comm = {\n          send: sendClosure\n        };\n      }\n      window.PyViz.comms[comm_id] = comm;\n      return comm;\n    }\n    window.PyViz.comm_manager = new JupyterCommManager();\n    \n\n\nvar JS_MIME_TYPE = 'application/javascript';\nvar HTML_MIME_TYPE = 'text/html';\nvar EXEC_MIME_TYPE = 'application/vnd.holoviews_exec.v0+json';\nvar CLASS_NAME = 'output';\n\n/**\n * Render data to the DOM node\n */\nfunction render(props, node) {\n  var div = document.createElement(\"div\");\n  var script = document.createElement(\"script\");\n  node.appendChild(div);\n  node.appendChild(script);\n}\n\n/**\n * Handle when a new output is added\n */\nfunction handle_add_output(event, handle) {\n  var output_area = handle.output_area;\n  var output = handle.output;\n  if ((output.data == undefined) || (!output.data.hasOwnProperty(EXEC_MIME_TYPE))) {\n    return\n  }\n  var id = output.metadata[EXEC_MIME_TYPE][\"id\"];\n  var toinsert = output_area.element.find(\".\" + CLASS_NAME.split(' ')[0]);\n  if (id !== undefined) {\n    var nchildren = toinsert.length;\n    var html_node = toinsert[nchildren-1].children[0];\n    html_node.innerHTML = output.data[HTML_MIME_TYPE];\n    var scripts = [];\n    var nodelist = html_node.querySelectorAll(\"script\");\n    for (var i in nodelist) {\n      if (nodelist.hasOwnProperty(i)) {\n        scripts.push(nodelist[i])\n      }\n    }\n\n    scripts.forEach( function (oldScript) {\n      var newScript = document.createElement(\"script\");\n      var attrs = [];\n      var nodemap = oldScript.attributes;\n      for (var j in nodemap) {\n        if (nodemap.hasOwnProperty(j)) {\n          attrs.push(nodemap[j])\n        }\n      }\n      attrs.forEach(function(attr) { newScript.setAttribute(attr.name, attr.value) });\n      newScript.appendChild(document.createTextNode(oldScript.innerHTML));\n      oldScript.parentNode.replaceChild(newScript, oldScript);\n    });\n    if (JS_MIME_TYPE in output.data) {\n      toinsert[nchildren-1].children[1].textContent = output.data[JS_MIME_TYPE];\n    }\n    output_area._hv_plot_id = id;\n    if ((window.Bokeh !== undefined) && (id in Bokeh.index)) {\n      window.PyViz.plot_index[id] = Bokeh.index[id];\n    } else {\n      window.PyViz.plot_index[id] = null;\n    }\n  } else if (output.metadata[EXEC_MIME_TYPE][\"server_id\"] !== undefined) {\n    var bk_div = document.createElement(\"div\");\n    bk_div.innerHTML = output.data[HTML_MIME_TYPE];\n    var script_attrs = bk_div.children[0].attributes;\n    for (var i = 0; i < script_attrs.length; i++) {\n      toinsert[toinsert.length - 1].childNodes[1].setAttribute(script_attrs[i].name, script_attrs[i].value);\n    }\n    // store reference to server id on output_area\n    output_area._bokeh_server_id = output.metadata[EXEC_MIME_TYPE][\"server_id\"];\n  }\n}\n\n/**\n * Handle when an output is cleared or removed\n */\nfunction handle_clear_output(event, handle) {\n  var id = handle.cell.output_area._hv_plot_id;\n  var server_id = handle.cell.output_area._bokeh_server_id;\n  if (((id === undefined) || !(id in PyViz.plot_index)) && (server_id !== undefined)) { return; }\n  var comm = window.PyViz.comm_manager.get_client_comm(\"hv-extension-comm\", \"hv-extension-comm\", function () {});\n  if (server_id !== null) {\n    comm.send({event_type: 'server_delete', 'id': server_id});\n    return;\n  } else if (comm !== null) {\n    comm.send({event_type: 'delete', 'id': id});\n  }\n  delete PyViz.plot_index[id];\n  if ((window.Bokeh !== undefined) & (id in window.Bokeh.index)) {\n    var doc = window.Bokeh.index[id].model.document\n    doc.clear();\n    const i = window.Bokeh.documents.indexOf(doc);\n    if (i > -1) {\n      window.Bokeh.documents.splice(i, 1);\n    }\n  }\n}\n\n/**\n * Handle kernel restart event\n */\nfunction handle_kernel_cleanup(event, handle) {\n  delete PyViz.comms[\"hv-extension-comm\"];\n  window.PyViz.plot_index = {}\n}\n\n/**\n * Handle update_display_data messages\n */\nfunction handle_update_output(event, handle) {\n  handle_clear_output(event, {cell: {output_area: handle.output_area}})\n  handle_add_output(event, handle)\n}\n\nfunction register_renderer(events, OutputArea) {\n  function append_mime(data, metadata, element) {\n    // create a DOM node to render to\n    var toinsert = this.create_output_subarea(\n    metadata,\n    CLASS_NAME,\n    EXEC_MIME_TYPE\n    );\n    this.keyboard_manager.register_events(toinsert);\n    // Render to node\n    var props = {data: data, metadata: metadata[EXEC_MIME_TYPE]};\n    render(props, toinsert[0]);\n    element.append(toinsert);\n    return toinsert\n  }\n\n  events.on('output_added.OutputArea', handle_add_output);\n  events.on('output_updated.OutputArea', handle_update_output);\n  events.on('clear_output.CodeCell', handle_clear_output);\n  events.on('delete.Cell', handle_clear_output);\n  events.on('kernel_ready.Kernel', handle_kernel_cleanup);\n\n  OutputArea.prototype.register_mime_type(EXEC_MIME_TYPE, append_mime, {\n    safe: true,\n    index: 0\n  });\n}\n\nif (window.Jupyter !== undefined) {\n  try {\n    var events = require('base/js/events');\n    var OutputArea = require('notebook/js/outputarea').OutputArea;\n    if (OutputArea.prototype.mime_types().indexOf(EXEC_MIME_TYPE) == -1) {\n      register_renderer(events, OutputArea);\n    }\n  } catch(err) {\n  }\n}\n"
     },
     "metadata": {},
     "output_type": "display_data"
    },
    {
     "data": {
      "text/html": [
       "<style>*[data-root-id],\n",
       "*[data-root-id] > * {\n",
       "  box-sizing: border-box;\n",
       "  font-family: var(--jp-ui-font-family);\n",
       "  font-size: var(--jp-ui-font-size1);\n",
       "  color: var(--vscode-editor-foreground, var(--jp-ui-font-color1));\n",
       "}\n",
       "\n",
       "/* Override VSCode background color */\n",
       ".cell-output-ipywidget-background:has(\n",
       "    > .cell-output-ipywidget-background > .lm-Widget > *[data-root-id]\n",
       "  ),\n",
       ".cell-output-ipywidget-background:has(> .lm-Widget > *[data-root-id]) {\n",
       "  background-color: transparent !important;\n",
       "}\n",
       "</style>"
      ]
     },
     "metadata": {},
     "output_type": "display_data"
    },
    {
     "data": {
      "application/vnd.holoviews_exec.v0+json": "",
      "text/html": [
       "<div id='p1002'>\n",
       "  <div id=\"a5e09782-3831-4bb8-acab-8f9aa83b5670\" data-root-id=\"p1002\" style=\"display: contents;\"></div>\n",
       "</div>\n",
       "<script type=\"application/javascript\">(function(root) {\n",
       "  var docs_json = {\"b405abda-6977-4536-8a79-fbd17406360e\":{\"version\":\"3.4.1\",\"title\":\"Bokeh Application\",\"roots\":[{\"type\":\"object\",\"name\":\"panel.models.browser.BrowserInfo\",\"id\":\"p1002\"},{\"type\":\"object\",\"name\":\"panel.models.comm_manager.CommManager\",\"id\":\"p1003\",\"attributes\":{\"plot_id\":\"p1002\",\"comm_id\":\"7c4090d8fceb464cbfa4d654b4b9871f\",\"client_comm_id\":\"a225fffa5c074d4e80de2ccdd9c622d2\"}}],\"defs\":[{\"type\":\"model\",\"name\":\"ReactiveHTML1\"},{\"type\":\"model\",\"name\":\"FlexBox1\",\"properties\":[{\"name\":\"align_content\",\"kind\":\"Any\",\"default\":\"flex-start\"},{\"name\":\"align_items\",\"kind\":\"Any\",\"default\":\"flex-start\"},{\"name\":\"flex_direction\",\"kind\":\"Any\",\"default\":\"row\"},{\"name\":\"flex_wrap\",\"kind\":\"Any\",\"default\":\"wrap\"},{\"name\":\"gap\",\"kind\":\"Any\",\"default\":\"\"},{\"name\":\"justify_content\",\"kind\":\"Any\",\"default\":\"flex-start\"}]},{\"type\":\"model\",\"name\":\"FloatPanel1\",\"properties\":[{\"name\":\"config\",\"kind\":\"Any\",\"default\":{\"type\":\"map\"}},{\"name\":\"contained\",\"kind\":\"Any\",\"default\":true},{\"name\":\"position\",\"kind\":\"Any\",\"default\":\"right-top\"},{\"name\":\"offsetx\",\"kind\":\"Any\",\"default\":null},{\"name\":\"offsety\",\"kind\":\"Any\",\"default\":null},{\"name\":\"theme\",\"kind\":\"Any\",\"default\":\"primary\"},{\"name\":\"status\",\"kind\":\"Any\",\"default\":\"normalized\"}]},{\"type\":\"model\",\"name\":\"GridStack1\",\"properties\":[{\"name\":\"mode\",\"kind\":\"Any\",\"default\":\"warn\"},{\"name\":\"ncols\",\"kind\":\"Any\",\"default\":null},{\"name\":\"nrows\",\"kind\":\"Any\",\"default\":null},{\"name\":\"allow_resize\",\"kind\":\"Any\",\"default\":true},{\"name\":\"allow_drag\",\"kind\":\"Any\",\"default\":true},{\"name\":\"state\",\"kind\":\"Any\",\"default\":[]}]},{\"type\":\"model\",\"name\":\"drag1\",\"properties\":[{\"name\":\"slider_width\",\"kind\":\"Any\",\"default\":5},{\"name\":\"slider_color\",\"kind\":\"Any\",\"default\":\"black\"},{\"name\":\"value\",\"kind\":\"Any\",\"default\":50}]},{\"type\":\"model\",\"name\":\"click1\",\"properties\":[{\"name\":\"terminal_output\",\"kind\":\"Any\",\"default\":\"\"},{\"name\":\"debug_name\",\"kind\":\"Any\",\"default\":\"\"},{\"name\":\"clears\",\"kind\":\"Any\",\"default\":0}]},{\"type\":\"model\",\"name\":\"FastWrapper1\",\"properties\":[{\"name\":\"object\",\"kind\":\"Any\",\"default\":null},{\"name\":\"style\",\"kind\":\"Any\",\"default\":null}]},{\"type\":\"model\",\"name\":\"NotificationAreaBase1\",\"properties\":[{\"name\":\"js_events\",\"kind\":\"Any\",\"default\":{\"type\":\"map\"}},{\"name\":\"position\",\"kind\":\"Any\",\"default\":\"bottom-right\"},{\"name\":\"_clear\",\"kind\":\"Any\",\"default\":0}]},{\"type\":\"model\",\"name\":\"NotificationArea1\",\"properties\":[{\"name\":\"js_events\",\"kind\":\"Any\",\"default\":{\"type\":\"map\"}},{\"name\":\"notifications\",\"kind\":\"Any\",\"default\":[]},{\"name\":\"position\",\"kind\":\"Any\",\"default\":\"bottom-right\"},{\"name\":\"_clear\",\"kind\":\"Any\",\"default\":0},{\"name\":\"types\",\"kind\":\"Any\",\"default\":[{\"type\":\"map\",\"entries\":[[\"type\",\"warning\"],[\"background\",\"#ffc107\"],[\"icon\",{\"type\":\"map\",\"entries\":[[\"className\",\"fas fa-exclamation-triangle\"],[\"tagName\",\"i\"],[\"color\",\"white\"]]}]]},{\"type\":\"map\",\"entries\":[[\"type\",\"info\"],[\"background\",\"#007bff\"],[\"icon\",{\"type\":\"map\",\"entries\":[[\"className\",\"fas fa-info-circle\"],[\"tagName\",\"i\"],[\"color\",\"white\"]]}]]}]}]},{\"type\":\"model\",\"name\":\"Notification\",\"properties\":[{\"name\":\"background\",\"kind\":\"Any\",\"default\":null},{\"name\":\"duration\",\"kind\":\"Any\",\"default\":3000},{\"name\":\"icon\",\"kind\":\"Any\",\"default\":null},{\"name\":\"message\",\"kind\":\"Any\",\"default\":\"\"},{\"name\":\"notification_type\",\"kind\":\"Any\",\"default\":null},{\"name\":\"_destroyed\",\"kind\":\"Any\",\"default\":false}]},{\"type\":\"model\",\"name\":\"TemplateActions1\",\"properties\":[{\"name\":\"open_modal\",\"kind\":\"Any\",\"default\":0},{\"name\":\"close_modal\",\"kind\":\"Any\",\"default\":0}]},{\"type\":\"model\",\"name\":\"BootstrapTemplateActions1\",\"properties\":[{\"name\":\"open_modal\",\"kind\":\"Any\",\"default\":0},{\"name\":\"close_modal\",\"kind\":\"Any\",\"default\":0}]},{\"type\":\"model\",\"name\":\"TemplateEditor1\",\"properties\":[{\"name\":\"layout\",\"kind\":\"Any\",\"default\":[]}]},{\"type\":\"model\",\"name\":\"MaterialTemplateActions1\",\"properties\":[{\"name\":\"open_modal\",\"kind\":\"Any\",\"default\":0},{\"name\":\"close_modal\",\"kind\":\"Any\",\"default\":0}]},{\"type\":\"model\",\"name\":\"copy_to_clipboard1\",\"properties\":[{\"name\":\"fill\",\"kind\":\"Any\",\"default\":\"none\"},{\"name\":\"value\",\"kind\":\"Any\",\"default\":null}]}]}};\n",
       "  var render_items = [{\"docid\":\"b405abda-6977-4536-8a79-fbd17406360e\",\"roots\":{\"p1002\":\"a5e09782-3831-4bb8-acab-8f9aa83b5670\"},\"root_ids\":[\"p1002\"]}];\n",
       "  var docs = Object.values(docs_json)\n",
       "  if (!docs) {\n",
       "    return\n",
       "  }\n",
       "  const py_version = docs[0].version.replace('rc', '-rc.').replace('.dev', '-dev.')\n",
       "  function embed_document(root) {\n",
       "    var Bokeh = get_bokeh(root)\n",
       "    Bokeh.embed.embed_items_notebook(docs_json, render_items);\n",
       "    for (const render_item of render_items) {\n",
       "      for (const root_id of render_item.root_ids) {\n",
       "\tconst id_el = document.getElementById(root_id)\n",
       "\tif (id_el.children.length && (id_el.children[0].className === 'bk-root')) {\n",
       "\t  const root_el = id_el.children[0]\n",
       "\t  root_el.id = root_el.id + '-rendered'\n",
       "\t}\n",
       "      }\n",
       "    }\n",
       "  }\n",
       "  function get_bokeh(root) {\n",
       "    if (root.Bokeh === undefined) {\n",
       "      return null\n",
       "    } else if (root.Bokeh.version !== py_version) {\n",
       "      if (root.Bokeh.versions === undefined || !root.Bokeh.versions.has(py_version)) {\n",
       "\treturn null\n",
       "      }\n",
       "      return root.Bokeh.versions.get(py_version);\n",
       "    } else if (root.Bokeh.version === py_version) {\n",
       "      return root.Bokeh\n",
       "    }\n",
       "    return null\n",
       "  }\n",
       "  function is_loaded(root) {\n",
       "    var Bokeh = get_bokeh(root)\n",
       "    return (Bokeh != null && Bokeh.Panel !== undefined)\n",
       "  }\n",
       "  if (is_loaded(root)) {\n",
       "    embed_document(root);\n",
       "  } else {\n",
       "    var attempts = 0;\n",
       "    var timer = setInterval(function(root) {\n",
       "      if (is_loaded(root)) {\n",
       "        clearInterval(timer);\n",
       "        embed_document(root);\n",
       "      } else if (document.readyState == \"complete\") {\n",
       "        attempts++;\n",
       "        if (attempts > 200) {\n",
       "          clearInterval(timer);\n",
       "\t  var Bokeh = get_bokeh(root)\n",
       "\t  if (Bokeh == null || Bokeh.Panel == null) {\n",
       "            console.warn(\"Panel: ERROR: Unable to run Panel code because Bokeh or Panel library is missing\");\n",
       "\t  } else {\n",
       "\t    console.warn(\"Panel: WARNING: Attempting to render but not all required libraries could be resolved.\")\n",
       "\t    embed_document(root)\n",
       "\t  }\n",
       "        }\n",
       "      }\n",
       "    }, 25, root)\n",
       "  }\n",
       "})(window);</script>"
      ]
     },
     "metadata": {
      "application/vnd.holoviews_exec.v0+json": {
       "id": "p1002"
      }
     },
     "output_type": "display_data"
    },
    {
     "data": {},
     "metadata": {},
     "output_type": "display_data"
    },
    {
     "data": {
      "application/vnd.holoviews_exec.v0+json": "",
      "text/html": [
       "<div id='p1004'>\n",
       "  <div id=\"c6a399d7-8d92-4957-a13f-7c048dea48d7\" data-root-id=\"p1004\" style=\"display: contents;\"></div>\n",
       "</div>\n",
       "<script type=\"application/javascript\">(function(root) {\n",
       "  var docs_json = {\"d4fe7e7d-d3ff-44e8-b02f-aa787c35c25a\":{\"version\":\"3.4.1\",\"title\":\"Bokeh Application\",\"roots\":[{\"type\":\"object\",\"name\":\"Row\",\"id\":\"p1004\",\"attributes\":{\"name\":\"Row00937\",\"tags\":[\"embedded\"],\"stylesheets\":[\"\\n:host(.pn-loading):before, .pn-loading:before {\\n  background-color: #c3c3c3;\\n  mask-size: auto calc(min(50%, 400px));\\n  -webkit-mask-size: auto calc(min(50%, 400px));\\n}\",{\"type\":\"object\",\"name\":\"ImportedStyleSheet\",\"id\":\"p1007\",\"attributes\":{\"url\":\"https://cdn.holoviz.org/panel/1.4.1/dist/css/loading.css\"}},{\"type\":\"object\",\"name\":\"ImportedStyleSheet\",\"id\":\"p1063\",\"attributes\":{\"url\":\"https://cdn.holoviz.org/panel/1.4.1/dist/css/listpanel.css\"}},{\"type\":\"object\",\"name\":\"ImportedStyleSheet\",\"id\":\"p1005\",\"attributes\":{\"url\":\"https://cdn.holoviz.org/panel/1.4.1/dist/bundled/theme/default.css\"}},{\"type\":\"object\",\"name\":\"ImportedStyleSheet\",\"id\":\"p1006\",\"attributes\":{\"url\":\"https://cdn.holoviz.org/panel/1.4.1/dist/bundled/theme/native.css\"}}],\"min_width\":700,\"margin\":0,\"sizing_mode\":\"stretch_width\",\"align\":\"start\",\"children\":[{\"type\":\"object\",\"name\":\"Spacer\",\"id\":\"p1008\",\"attributes\":{\"name\":\"HSpacer00944\",\"stylesheets\":[\"\\n:host(.pn-loading):before, .pn-loading:before {\\n  background-color: #c3c3c3;\\n  mask-size: auto calc(min(50%, 400px));\\n  -webkit-mask-size: auto calc(min(50%, 400px));\\n}\",{\"id\":\"p1007\"},{\"id\":\"p1005\"},{\"id\":\"p1006\"}],\"margin\":0,\"sizing_mode\":\"stretch_width\",\"align\":\"start\"}},{\"type\":\"object\",\"name\":\"Figure\",\"id\":\"p1016\",\"attributes\":{\"width\":700,\"height\":300,\"margin\":[5,10],\"sizing_mode\":\"fixed\",\"align\":\"start\",\"x_range\":{\"type\":\"object\",\"name\":\"Range1d\",\"id\":\"p1009\",\"attributes\":{\"tags\":[[[\"upper_bound\",\"upper_bound\",null]],[]],\"start\":-586.1571428571428,\"end\":15251.157142857142,\"reset_start\":-586.1571428571428,\"reset_end\":15251.157142857142}},\"y_range\":{\"type\":\"object\",\"name\":\"Range1d\",\"id\":\"p1010\",\"attributes\":{\"tags\":[[[\"upper_bound_count\",\"Count\",null]],{\"type\":\"map\",\"entries\":[[\"invert_yaxis\",false],[\"autorange\",false]]}],\"end\":47.3,\"reset_start\":0.0,\"reset_end\":47.3}},\"x_scale\":{\"type\":\"object\",\"name\":\"LinearScale\",\"id\":\"p1026\"},\"y_scale\":{\"type\":\"object\",\"name\":\"LinearScale\",\"id\":\"p1027\"},\"title\":{\"type\":\"object\",\"name\":\"Title\",\"id\":\"p1019\",\"attributes\":{\"text_color\":\"black\",\"text_font_size\":\"12pt\"}},\"renderers\":[{\"type\":\"object\",\"name\":\"GlyphRenderer\",\"id\":\"p1056\",\"attributes\":{\"data_source\":{\"type\":\"object\",\"name\":\"ColumnDataSource\",\"id\":\"p1047\",\"attributes\":{\"selected\":{\"type\":\"object\",\"name\":\"Selection\",\"id\":\"p1048\",\"attributes\":{\"indices\":[],\"line_indices\":[]}},\"selection_policy\":{\"type\":\"object\",\"name\":\"UnionRenderers\",\"id\":\"p1049\"},\"data\":{\"type\":\"map\",\"entries\":[[\"top\",{\"type\":\"ndarray\",\"array\":{\"type\":\"bytes\",\"data\":\"HgAAACsAAAArAAAAJwAAACkAAAAdAAAAFwAAACAAAAAQAAAADAAAABUAAAALAAAABwAAAA4AAAAKAAAABgAAAAQAAAAEAAAABQAAAAMAAAADAAAAAQAAAAQAAAABAAAAAAAAAAQAAAACAAAAAgAAAAEAAAAAAAAAAwAAAAAAAAAAAAAAAAAAAAAAAAACAAAAAgAAAAIAAAABAAAAAAAAAAAAAAAAAAAAAAAAAAAAAAABAAAAAAAAAAEAAAAAAAAAAAAAAAEAAAA=\"},\"shape\":[50],\"dtype\":\"int32\",\"order\":\"little\"}],[\"left\",{\"type\":\"ndarray\",\"array\":{\"type\":\"bytes\",\"data\":\"AAAAAACAQ0CkcD0K16t0QKRwPQrXc4NA9ihcj8KRjECkcD0K19eSQM3MzMzMZpdA9ihcj8L1m0CQwvUoXEKgQKRwPQrXiaJAuB6F61HRpEDNzMzMzBinQOJ6FK5HYKlA9ihcj8Knq0AK16NwPe+tQJDC9ShcG7BAmpmZmRk/sUCkcD0K12KyQK5H4XqUhrNAuB6F61GqtEDD9ShcD861QM3MzMzM8bZA16NwPYoVuEDiehSuRzm5QOxRuB4FXbpA9ihcj8KAu0AAAAAAgKS8QArXo3A9yL1AFa5H4frrvkCQwvUo3AfAQBWuR+G6mcBAmpmZmZkrwUAfhetReL3BQKRwPQpXT8JAKVyPwjXhwkCuR+F6FHPDQDMzMzPzBMRAuB6F69GWxEA+CtejsCjFQMP1KFyPusVASOF6FG5MxkDNzMzMTN7GQFK4HoUrcMdA16NwPQoCyEBcj8L16JPIQOJ6FK7HJclAZ2ZmZqa3yUDsUbgehUnKQHE9Ctdj28pA9ihcj0Jty0B7FK5HIf/LQA==\"},\"shape\":[50],\"dtype\":\"float64\",\"order\":\"little\"}],[\"right\",{\"type\":\"ndarray\",\"array\":{\"type\":\"bytes\",\"data\":\"pHA9CterdECkcD0K13ODQPYoXI/CkYxApHA9CtfXkkDNzMzMzGaXQPYoXI/C9ZtAkML1KFxCoECkcD0K14miQLgehetR0aRAzczMzMwYp0DiehSuR2CpQPYoXI/Cp6tACtejcD3vrUCQwvUoXBuwQJqZmZkZP7FApHA9CtdiskCuR+F6lIazQLgehetRqrRAw/UoXA/OtUDNzMzMzPG2QNejcD2KFbhA4noUrkc5uUDsUbgeBV26QPYoXI/CgLtAAAAAAICkvEAK16NwPci9QBWuR+H6675AkML1KNwHwEAVrkfhupnAQJqZmZmZK8FAH4XrUXi9wUCkcD0KV0/CQClcj8I14cJArkfhehRzw0AzMzMz8wTEQLgehevRlsRAPgrXo7AoxUDD9Shcj7rFQEjhehRuTMZAzczMzEzexkBSuB6FK3DHQNejcD0KAshAXI/C9eiTyEDiehSuxyXJQGdmZmamt8lA7FG4HoVJykBxPQrXY9vKQPYoXI9CbctAexSuRyH/y0AAAAAAAJHMQA==\"},\"shape\":[50],\"dtype\":\"float64\",\"order\":\"little\"}],[\"upper_bound\",{\"type\":\"ndarray\",\"array\":{\"type\":\"bytes\",\"data\":\"pHA9CtcbZ0D2KFyPwsl9QM3MzMzMAohAkML1KFyQkEC4HoXrUR+VQOJ6FK5HrplAC9ejcD09nkCamZmZGWahQK5H4XqUraNAwvUoXA/1pUDYo3A9ijyoQOxRuB4FhKpAAAAAAIDLrEAVrkfh+hKvQBWuR+E6rbBAH4XrUfjQsUApXI/CtfSyQDMzMzNzGLRAPgrXozA8tUBI4XoU7l+2QFK4HoWrg7dAXI/C9WinuEBnZmZmJsu5QHE9Ctfj7rpAexSuR6ESvECF61G4Xja9QJDC9SgcWr5AmpmZmdl9v0BSuB6Fy1DAQNijcD2q4sBAXI/C9Yh0wUDiehSuZwbCQGZmZmZGmMJA7FG4HiUqw0BwPQrXA7zDQPYoXI/iTcRAexSuR8HfxEAAAAAAoHHFQIbrUbh+A8ZACtejcF2VxkCQwvUoPCfHQBSuR+EaucdAmpmZmflKyEAfhetR2NzIQKRwPQq3bslAKlyPwpUAykCuR+F6dJLKQDQzMzNTJMtAuB6F6zG2y0A+CtejEEjMQA==\"},\"shape\":[50],\"dtype\":\"float64\",\"order\":\"little\"}],[\"upper_bound_count\",{\"type\":\"ndarray\",\"array\":{\"type\":\"bytes\",\"data\":\"HgAAACsAAAArAAAAJwAAACkAAAAdAAAAFwAAACAAAAAQAAAADAAAABUAAAALAAAABwAAAA4AAAAKAAAABgAAAAQAAAAEAAAABQAAAAMAAAADAAAAAQAAAAQAAAABAAAAAAAAAAQAAAACAAAAAgAAAAEAAAAAAAAAAwAAAAAAAAAAAAAAAAAAAAAAAAACAAAAAgAAAAIAAAABAAAAAAAAAAAAAAAAAAAAAAAAAAAAAAABAAAAAAAAAAEAAAAAAAAAAAAAAAEAAAA=\"},\"shape\":[50],\"dtype\":\"int32\",\"order\":\"little\"}]]}}},\"view\":{\"type\":\"object\",\"name\":\"CDSView\",\"id\":\"p1057\",\"attributes\":{\"filter\":{\"type\":\"object\",\"name\":\"AllIndices\",\"id\":\"p1058\"}}},\"glyph\":{\"type\":\"object\",\"name\":\"Quad\",\"id\":\"p1053\",\"attributes\":{\"tags\":[\"apply_ranges\"],\"left\":{\"type\":\"field\",\"field\":\"left\"},\"right\":{\"type\":\"field\",\"field\":\"right\"},\"bottom\":{\"type\":\"value\",\"value\":0},\"top\":{\"type\":\"field\",\"field\":\"top\"},\"fill_color\":{\"type\":\"value\",\"value\":\"#30a2da\"},\"hatch_color\":{\"type\":\"value\",\"value\":\"#30a2da\"}}},\"selection_glyph\":{\"type\":\"object\",\"name\":\"Quad\",\"id\":\"p1059\",\"attributes\":{\"tags\":[\"apply_ranges\"],\"left\":{\"type\":\"field\",\"field\":\"left\"},\"right\":{\"type\":\"field\",\"field\":\"right\"},\"bottom\":{\"type\":\"value\",\"value\":0},\"top\":{\"type\":\"field\",\"field\":\"top\"},\"line_color\":{\"type\":\"value\",\"value\":\"black\"},\"line_alpha\":{\"type\":\"value\",\"value\":1.0},\"line_width\":{\"type\":\"value\",\"value\":1},\"line_join\":{\"type\":\"value\",\"value\":\"bevel\"},\"line_cap\":{\"type\":\"value\",\"value\":\"butt\"},\"line_dash\":{\"type\":\"value\",\"value\":[]},\"line_dash_offset\":{\"type\":\"value\",\"value\":0},\"fill_color\":{\"type\":\"value\",\"value\":\"#30a2da\"},\"fill_alpha\":{\"type\":\"value\",\"value\":1.0},\"hatch_color\":{\"type\":\"value\",\"value\":\"#30a2da\"},\"hatch_alpha\":{\"type\":\"value\",\"value\":1.0},\"hatch_scale\":{\"type\":\"value\",\"value\":12.0},\"hatch_pattern\":{\"type\":\"value\",\"value\":null},\"hatch_weight\":{\"type\":\"value\",\"value\":1.0}}},\"nonselection_glyph\":{\"type\":\"object\",\"name\":\"Quad\",\"id\":\"p1054\",\"attributes\":{\"tags\":[\"apply_ranges\"],\"left\":{\"type\":\"field\",\"field\":\"left\"},\"right\":{\"type\":\"field\",\"field\":\"right\"},\"bottom\":{\"type\":\"value\",\"value\":0},\"top\":{\"type\":\"field\",\"field\":\"top\"},\"line_alpha\":{\"type\":\"value\",\"value\":0.1},\"fill_color\":{\"type\":\"value\",\"value\":\"#30a2da\"},\"fill_alpha\":{\"type\":\"value\",\"value\":0.1},\"hatch_color\":{\"type\":\"value\",\"value\":\"#30a2da\"},\"hatch_alpha\":{\"type\":\"value\",\"value\":0.1}}},\"muted_glyph\":{\"type\":\"object\",\"name\":\"Quad\",\"id\":\"p1055\",\"attributes\":{\"tags\":[\"apply_ranges\"],\"left\":{\"type\":\"field\",\"field\":\"left\"},\"right\":{\"type\":\"field\",\"field\":\"right\"},\"bottom\":{\"type\":\"value\",\"value\":0},\"top\":{\"type\":\"field\",\"field\":\"top\"},\"line_alpha\":{\"type\":\"value\",\"value\":0.2},\"fill_color\":{\"type\":\"value\",\"value\":\"#30a2da\"},\"fill_alpha\":{\"type\":\"value\",\"value\":0.2},\"hatch_color\":{\"type\":\"value\",\"value\":\"#30a2da\"},\"hatch_alpha\":{\"type\":\"value\",\"value\":0.2}}}}}],\"toolbar\":{\"type\":\"object\",\"name\":\"Toolbar\",\"id\":\"p1025\",\"attributes\":{\"tools\":[{\"type\":\"object\",\"name\":\"WheelZoomTool\",\"id\":\"p1014\",\"attributes\":{\"tags\":[\"hv_created\"],\"renderers\":\"auto\",\"zoom_together\":\"none\"}},{\"type\":\"object\",\"name\":\"HoverTool\",\"id\":\"p1015\",\"attributes\":{\"tags\":[\"hv_created\"],\"renderers\":[{\"id\":\"p1056\"}],\"tooltips\":[[\"upper_bound\",\"@{upper_bound}\"],[\"Count\",\"@{upper_bound_count}\"]]}},{\"type\":\"object\",\"name\":\"SaveTool\",\"id\":\"p1038\"},{\"type\":\"object\",\"name\":\"PanTool\",\"id\":\"p1039\"},{\"type\":\"object\",\"name\":\"BoxZoomTool\",\"id\":\"p1040\",\"attributes\":{\"overlay\":{\"type\":\"object\",\"name\":\"BoxAnnotation\",\"id\":\"p1041\",\"attributes\":{\"syncable\":false,\"level\":\"overlay\",\"visible\":false,\"left\":{\"type\":\"number\",\"value\":\"nan\"},\"right\":{\"type\":\"number\",\"value\":\"nan\"},\"top\":{\"type\":\"number\",\"value\":\"nan\"},\"bottom\":{\"type\":\"number\",\"value\":\"nan\"},\"left_units\":\"canvas\",\"right_units\":\"canvas\",\"top_units\":\"canvas\",\"bottom_units\":\"canvas\",\"line_color\":\"black\",\"line_alpha\":1.0,\"line_width\":2,\"line_dash\":[4,4],\"fill_color\":\"lightgrey\",\"fill_alpha\":0.5}}}},{\"type\":\"object\",\"name\":\"ResetTool\",\"id\":\"p1046\"}],\"active_drag\":{\"id\":\"p1039\"},\"active_scroll\":{\"id\":\"p1014\"}}},\"left\":[{\"type\":\"object\",\"name\":\"LinearAxis\",\"id\":\"p1033\",\"attributes\":{\"ticker\":{\"type\":\"object\",\"name\":\"BasicTicker\",\"id\":\"p1034\",\"attributes\":{\"mantissas\":[1,2,5]}},\"formatter\":{\"type\":\"object\",\"name\":\"BasicTickFormatter\",\"id\":\"p1035\"},\"axis_label\":\"\",\"major_label_policy\":{\"type\":\"object\",\"name\":\"AllLabels\",\"id\":\"p1036\"}}}],\"below\":[{\"type\":\"object\",\"name\":\"LinearAxis\",\"id\":\"p1028\",\"attributes\":{\"ticker\":{\"type\":\"object\",\"name\":\"BasicTicker\",\"id\":\"p1029\",\"attributes\":{\"mantissas\":[1,2,5]}},\"formatter\":{\"type\":\"object\",\"name\":\"BasicTickFormatter\",\"id\":\"p1030\"},\"axis_label\":\"upper_bound\",\"major_label_policy\":{\"type\":\"object\",\"name\":\"AllLabels\",\"id\":\"p1031\"}}}],\"center\":[{\"type\":\"object\",\"name\":\"Grid\",\"id\":\"p1032\",\"attributes\":{\"axis\":{\"id\":\"p1028\"},\"grid_line_color\":null}},{\"type\":\"object\",\"name\":\"Grid\",\"id\":\"p1037\",\"attributes\":{\"dimension\":1,\"axis\":{\"id\":\"p1033\"},\"grid_line_color\":null}}],\"min_border_top\":10,\"min_border_bottom\":10,\"min_border_left\":10,\"min_border_right\":10,\"output_backend\":\"webgl\"}},{\"type\":\"object\",\"name\":\"Spacer\",\"id\":\"p1061\",\"attributes\":{\"name\":\"HSpacer00945\",\"stylesheets\":[\"\\n:host(.pn-loading):before, .pn-loading:before {\\n  background-color: #c3c3c3;\\n  mask-size: auto calc(min(50%, 400px));\\n  -webkit-mask-size: auto calc(min(50%, 400px));\\n}\",{\"id\":\"p1007\"},{\"id\":\"p1005\"},{\"id\":\"p1006\"}],\"margin\":0,\"sizing_mode\":\"stretch_width\",\"align\":\"start\"}}]}}],\"defs\":[{\"type\":\"model\",\"name\":\"ReactiveHTML1\"},{\"type\":\"model\",\"name\":\"FlexBox1\",\"properties\":[{\"name\":\"align_content\",\"kind\":\"Any\",\"default\":\"flex-start\"},{\"name\":\"align_items\",\"kind\":\"Any\",\"default\":\"flex-start\"},{\"name\":\"flex_direction\",\"kind\":\"Any\",\"default\":\"row\"},{\"name\":\"flex_wrap\",\"kind\":\"Any\",\"default\":\"wrap\"},{\"name\":\"gap\",\"kind\":\"Any\",\"default\":\"\"},{\"name\":\"justify_content\",\"kind\":\"Any\",\"default\":\"flex-start\"}]},{\"type\":\"model\",\"name\":\"FloatPanel1\",\"properties\":[{\"name\":\"config\",\"kind\":\"Any\",\"default\":{\"type\":\"map\"}},{\"name\":\"contained\",\"kind\":\"Any\",\"default\":true},{\"name\":\"position\",\"kind\":\"Any\",\"default\":\"right-top\"},{\"name\":\"offsetx\",\"kind\":\"Any\",\"default\":null},{\"name\":\"offsety\",\"kind\":\"Any\",\"default\":null},{\"name\":\"theme\",\"kind\":\"Any\",\"default\":\"primary\"},{\"name\":\"status\",\"kind\":\"Any\",\"default\":\"normalized\"}]},{\"type\":\"model\",\"name\":\"GridStack1\",\"properties\":[{\"name\":\"mode\",\"kind\":\"Any\",\"default\":\"warn\"},{\"name\":\"ncols\",\"kind\":\"Any\",\"default\":null},{\"name\":\"nrows\",\"kind\":\"Any\",\"default\":null},{\"name\":\"allow_resize\",\"kind\":\"Any\",\"default\":true},{\"name\":\"allow_drag\",\"kind\":\"Any\",\"default\":true},{\"name\":\"state\",\"kind\":\"Any\",\"default\":[]}]},{\"type\":\"model\",\"name\":\"drag1\",\"properties\":[{\"name\":\"slider_width\",\"kind\":\"Any\",\"default\":5},{\"name\":\"slider_color\",\"kind\":\"Any\",\"default\":\"black\"},{\"name\":\"value\",\"kind\":\"Any\",\"default\":50}]},{\"type\":\"model\",\"name\":\"click1\",\"properties\":[{\"name\":\"terminal_output\",\"kind\":\"Any\",\"default\":\"\"},{\"name\":\"debug_name\",\"kind\":\"Any\",\"default\":\"\"},{\"name\":\"clears\",\"kind\":\"Any\",\"default\":0}]},{\"type\":\"model\",\"name\":\"FastWrapper1\",\"properties\":[{\"name\":\"object\",\"kind\":\"Any\",\"default\":null},{\"name\":\"style\",\"kind\":\"Any\",\"default\":null}]},{\"type\":\"model\",\"name\":\"NotificationAreaBase1\",\"properties\":[{\"name\":\"js_events\",\"kind\":\"Any\",\"default\":{\"type\":\"map\"}},{\"name\":\"position\",\"kind\":\"Any\",\"default\":\"bottom-right\"},{\"name\":\"_clear\",\"kind\":\"Any\",\"default\":0}]},{\"type\":\"model\",\"name\":\"NotificationArea1\",\"properties\":[{\"name\":\"js_events\",\"kind\":\"Any\",\"default\":{\"type\":\"map\"}},{\"name\":\"notifications\",\"kind\":\"Any\",\"default\":[]},{\"name\":\"position\",\"kind\":\"Any\",\"default\":\"bottom-right\"},{\"name\":\"_clear\",\"kind\":\"Any\",\"default\":0},{\"name\":\"types\",\"kind\":\"Any\",\"default\":[{\"type\":\"map\",\"entries\":[[\"type\",\"warning\"],[\"background\",\"#ffc107\"],[\"icon\",{\"type\":\"map\",\"entries\":[[\"className\",\"fas fa-exclamation-triangle\"],[\"tagName\",\"i\"],[\"color\",\"white\"]]}]]},{\"type\":\"map\",\"entries\":[[\"type\",\"info\"],[\"background\",\"#007bff\"],[\"icon\",{\"type\":\"map\",\"entries\":[[\"className\",\"fas fa-info-circle\"],[\"tagName\",\"i\"],[\"color\",\"white\"]]}]]}]}]},{\"type\":\"model\",\"name\":\"Notification\",\"properties\":[{\"name\":\"background\",\"kind\":\"Any\",\"default\":null},{\"name\":\"duration\",\"kind\":\"Any\",\"default\":3000},{\"name\":\"icon\",\"kind\":\"Any\",\"default\":null},{\"name\":\"message\",\"kind\":\"Any\",\"default\":\"\"},{\"name\":\"notification_type\",\"kind\":\"Any\",\"default\":null},{\"name\":\"_destroyed\",\"kind\":\"Any\",\"default\":false}]},{\"type\":\"model\",\"name\":\"TemplateActions1\",\"properties\":[{\"name\":\"open_modal\",\"kind\":\"Any\",\"default\":0},{\"name\":\"close_modal\",\"kind\":\"Any\",\"default\":0}]},{\"type\":\"model\",\"name\":\"BootstrapTemplateActions1\",\"properties\":[{\"name\":\"open_modal\",\"kind\":\"Any\",\"default\":0},{\"name\":\"close_modal\",\"kind\":\"Any\",\"default\":0}]},{\"type\":\"model\",\"name\":\"TemplateEditor1\",\"properties\":[{\"name\":\"layout\",\"kind\":\"Any\",\"default\":[]}]},{\"type\":\"model\",\"name\":\"MaterialTemplateActions1\",\"properties\":[{\"name\":\"open_modal\",\"kind\":\"Any\",\"default\":0},{\"name\":\"close_modal\",\"kind\":\"Any\",\"default\":0}]},{\"type\":\"model\",\"name\":\"copy_to_clipboard1\",\"properties\":[{\"name\":\"fill\",\"kind\":\"Any\",\"default\":\"none\"},{\"name\":\"value\",\"kind\":\"Any\",\"default\":null}]}]}};\n",
       "  var render_items = [{\"docid\":\"d4fe7e7d-d3ff-44e8-b02f-aa787c35c25a\",\"roots\":{\"p1004\":\"c6a399d7-8d92-4957-a13f-7c048dea48d7\"},\"root_ids\":[\"p1004\"]}];\n",
       "  var docs = Object.values(docs_json)\n",
       "  if (!docs) {\n",
       "    return\n",
       "  }\n",
       "  const py_version = docs[0].version.replace('rc', '-rc.').replace('.dev', '-dev.')\n",
       "  function embed_document(root) {\n",
       "    var Bokeh = get_bokeh(root)\n",
       "    Bokeh.embed.embed_items_notebook(docs_json, render_items);\n",
       "    for (const render_item of render_items) {\n",
       "      for (const root_id of render_item.root_ids) {\n",
       "\tconst id_el = document.getElementById(root_id)\n",
       "\tif (id_el.children.length && (id_el.children[0].className === 'bk-root')) {\n",
       "\t  const root_el = id_el.children[0]\n",
       "\t  root_el.id = root_el.id + '-rendered'\n",
       "\t}\n",
       "      }\n",
       "    }\n",
       "  }\n",
       "  function get_bokeh(root) {\n",
       "    if (root.Bokeh === undefined) {\n",
       "      return null\n",
       "    } else if (root.Bokeh.version !== py_version) {\n",
       "      if (root.Bokeh.versions === undefined || !root.Bokeh.versions.has(py_version)) {\n",
       "\treturn null\n",
       "      }\n",
       "      return root.Bokeh.versions.get(py_version);\n",
       "    } else if (root.Bokeh.version === py_version) {\n",
       "      return root.Bokeh\n",
       "    }\n",
       "    return null\n",
       "  }\n",
       "  function is_loaded(root) {\n",
       "    var Bokeh = get_bokeh(root)\n",
       "    return (Bokeh != null && Bokeh.Panel !== undefined)\n",
       "  }\n",
       "  if (is_loaded(root)) {\n",
       "    embed_document(root);\n",
       "  } else {\n",
       "    var attempts = 0;\n",
       "    var timer = setInterval(function(root) {\n",
       "      if (is_loaded(root)) {\n",
       "        clearInterval(timer);\n",
       "        embed_document(root);\n",
       "      } else if (document.readyState == \"complete\") {\n",
       "        attempts++;\n",
       "        if (attempts > 200) {\n",
       "          clearInterval(timer);\n",
       "\t  var Bokeh = get_bokeh(root)\n",
       "\t  if (Bokeh == null || Bokeh.Panel == null) {\n",
       "            console.warn(\"Panel: ERROR: Unable to run Panel code because Bokeh or Panel library is missing\");\n",
       "\t  } else {\n",
       "\t    console.warn(\"Panel: WARNING: Attempting to render but not all required libraries could be resolved.\")\n",
       "\t    embed_document(root)\n",
       "\t  }\n",
       "        }\n",
       "      }\n",
       "    }, 25, root)\n",
       "  }\n",
       "})(window);</script>"
      ],
      "text/plain": [
       ":Histogram   [upper_bound]   (upper_bound_count)"
      ]
     },
     "execution_count": 10,
     "metadata": {
      "application/vnd.holoviews_exec.v0+json": {
       "id": "p1004"
      }
     },
     "output_type": "execute_result"
    }
   ],
   "source": [
    "(callset_df\n",
    "    .filter(pl.col(\"high_quality_snps_idx_transitions\").list.len() == 2)\n",
    "    .select(\n",
    "        (\n",
    "            pl.col(\"high_quality_snp_positions\").list.get(pl.col(\"high_quality_snps_idx_transitions\").list.get(1)+1) -\n",
    "            pl.col(\"high_quality_snp_positions\").list.get(pl.col(\"high_quality_snps_idx_transitions\").list.get(0))\n",
    "        ).alias(\"upper_bound\")            \n",
    "    )\n",
    "    [\"upper_bound\"].plot.hist(bins=50)\n",
    ")"
   ]
  },
  {
   "cell_type": "code",
   "execution_count": null,
   "id": "fbdbb13a-cde0-4bfa-88cf-391353fa450d",
   "metadata": {},
   "outputs": [],
   "source": []
  },
  {
   "cell_type": "code",
   "execution_count": null,
   "id": "c40e6a2a-28c2-49a1-8a41-225827f1d508",
   "metadata": {},
   "outputs": [],
   "source": []
  },
  {
   "cell_type": "markdown",
   "id": "33d34cbf-8ffe-4022-8d87-ca145458b157",
   "metadata": {},
   "source": [
    "# Test likelihood"
   ]
  },
  {
   "cell_type": "markdown",
   "id": "2af798f0-61c1-459f-bcf3-b00fb586ce56",
   "metadata": {},
   "source": [
    "## Focus on one read"
   ]
  },
  {
   "cell_type": "code",
   "execution_count": 113,
   "id": "6aa6bffe-a764-4e37-a5c6-e044aeaf2dd8",
   "metadata": {
    "tags": []
   },
   "outputs": [],
   "source": [
    "row = {\n",
    "    \"read_length\": 10000,\n",
    "    \"mid_quality_snp_positions\": [4000, 5000, 6000],\n",
    "    \"between_mid_quality_snps_cM\": [1e-2, 2e-2, 3e-2, 1e-2],\n",
    "    \"before_read_cM\": 1e-3,\n",
    "    \"after_read_cM\": 1e-3,\n",
    "}\n"
   ]
  },
  {
   "cell_type": "markdown",
   "id": "daa03c62-b603-418f-8e43-ec71d761afc5",
   "metadata": {},
   "source": [
    "## Simulate from the model many times with this read pattern"
   ]
  },
  {
   "cell_type": "code",
   "execution_count": 109,
   "id": "83591c6d-ffaa-4071-b25c-68b052d91478",
   "metadata": {
    "tags": []
   },
   "outputs": [
    {
     "name": "stdout",
     "output_type": "stream",
     "text": [
      "# events: 3189\n",
      "# CO events: 330\n",
      "# detected CO events: 135\n",
      "# NCO events: 2859\n",
      "# detected NCO events: 0.0\n",
      "# NCO first comp: 2859\n"
     ]
    }
   ],
   "source": [
    "n_reps = 1000000\n",
    "\n",
    "res = inference.simulate_read_patterns_probs(\n",
    "    numba.typed.List(np.repeat(row[\"read_length\"], n_reps)),\n",
    "    numba.typed.List([np.array(row[\"mid_quality_snp_positions\"]) for x in range(n_reps)]),\n",
    "    numba.typed.List([np.array(row[\"between_mid_quality_snps_cM\"]) * 1e-2 for x in range(n_reps)]),\n",
    "    numba.typed.List(np.repeat(row[\"before_read_cM\"] * 1e-2, n_reps)),\n",
    "    numba.typed.List(np.repeat(row[\"after_read_cM\"] * 1e-2, n_reps)),\n",
    "    q = 0.0,\n",
    "    m = 1,\n",
    "    GC_tract_mean = 30,\n",
    "    GC_tract_mean2 = 1000,\n",
    "    read_margin_in_bp = 5000,\n",
    "    allow_flip = False,\n",
    ")\n",
    "\n",
    "\n",
    "\n",
    "sim_idx_transitions = [np.array([], dtype=np.int64) for i in range(n_reps)]\n",
    "for i, lst in zip(res[1], res[0]):\n",
    "    sim_idx_transitions[i] = np.array(lst, dtype=np.int64)\n",
    "sim_idx_transitions = np.array(sim_idx_transitions, dtype=object)\n",
    "\n",
    "n_detected_COs = np.sum([1 for x in sim_idx_transitions if len(x) == 1])\n",
    "n_detected_NCOs = np.sum([1 for x in sim_idx_transitions if len(x) == 2])\n",
    "\n",
    "print(\"# events:\", len(res[0]))\n",
    "print(\"# CO events:\", res[3])\n",
    "print(\"# detected CO events:\", n_detected_COs)\n",
    "\n",
    "print(\"# NCO events:\", res[4])\n",
    "print(\"# detected NCO events:\", n_detected_NCOs)\n",
    "\n",
    "print(\"# NCO first comp:\", res[5])"
   ]
  },
  {
   "cell_type": "code",
   "execution_count": null,
   "id": "adfacf37-83e1-429f-bfb6-4d428dd01c7f",
   "metadata": {},
   "outputs": [],
   "source": []
  },
  {
   "cell_type": "code",
   "execution_count": null,
   "id": "ed1c239e-9fe5-4ae4-acdc-276b47f28204",
   "metadata": {},
   "outputs": [],
   "source": []
  },
  {
   "cell_type": "code",
   "execution_count": 119,
   "id": "9ac9195c-81e3-4d74-8037-d3d4192b4c67",
   "metadata": {
    "tags": []
   },
   "outputs": [
    {
     "data": {
      "text/plain": [
       "5.39999999999998e-05"
      ]
     },
     "execution_count": 119,
     "metadata": {},
     "output_type": "execute_result"
    }
   ],
   "source": [
    "idx_transitions = [0,1]\n",
    "\n",
    "inference.likelihood_of_read_one_direction(\n",
    "    row[\"read_length\"],\n",
    "    row[\"mid_quality_snp_positions\"],\n",
    "    numba.typed.List([999] + idx_transitions)[1:],  # hack for typing the list\n",
    "    np.array(row[\"between_mid_quality_snps_cM\"]) * 1e-2,\n",
    "    row[\"before_read_cM\"] * 1e-2,\n",
    "    row[\"after_read_cM\"] * 1e-2,\n",
    "    q = 0.1,\n",
    "    m = 1,\n",
    "    GC_tract_mean = 30,\n",
    "    GC_tract_mean2 = 1000,\n",
    "    read_margin_in_bp = 5000,\n",
    ")\n"
   ]
  },
  {
   "cell_type": "code",
   "execution_count": 121,
   "id": "c210ddc6-c557-44fc-8925-491b3eb5c904",
   "metadata": {
    "tags": []
   },
   "outputs": [
    {
     "data": {
      "text/plain": [
       "1.0"
      ]
     },
     "execution_count": 121,
     "metadata": {},
     "output_type": "execute_result"
    }
   ],
   "source": [
    "0.99935825 + 0.00020675000000000012 + 0.00038099999999999983 + 5.39999999999998e-05"
   ]
  },
  {
   "cell_type": "code",
   "execution_count": null,
   "id": "e9afa3a3-e972-431e-ad65-7d9c516c88d5",
   "metadata": {},
   "outputs": [],
   "source": []
  },
  {
   "cell_type": "code",
   "execution_count": null,
   "id": "79de067f-d3d4-420a-b276-2da40d604b44",
   "metadata": {},
   "outputs": [],
   "source": []
  },
  {
   "cell_type": "markdown",
   "id": "da86d805-114e-4a01-872d-79f096d1cbf8",
   "metadata": {},
   "source": [
    "# Test on simulations"
   ]
  },
  {
   "cell_type": "code",
   "execution_count": 14,
   "id": "23b98a79-a705-4cfd-8572-3f7f5f2ca530",
   "metadata": {
    "tags": []
   },
   "outputs": [
    {
     "name": "stdout",
     "output_type": "stream",
     "text": [
      "Working on 36970 events\n",
      "# events: 36970\n",
      "# CO events: 5235\n",
      "# detected CO events: 2124\n",
      "# NCO events: 31735\n",
      "# detected NCO events: 435\n",
      "# detected NCO events from NCOs: 435\n",
      "# detected CO events from NCOs: 278\n",
      "# NCO first comp: 31206\n",
      "CPU times: user 3min 49s, sys: 32.2 s, total: 4min 22s\n",
      "Wall time: 4min 22s\n"
     ]
    }
   ],
   "source": [
    "%%time\n",
    "idf = callset_df\n",
    "\n",
    "res = inference.simulate_read_patterns_probs(\n",
    "    numba.typed.List(idf[\"read_length\"].to_numpy()),\n",
    "    numba.typed.List(idf[\"high_quality_snp_positions\"].to_numpy()),\n",
    "    numba.typed.List(idf[\"between_high_quality_snps_cM\"].to_numpy() * 1e-2),\n",
    "    numba.typed.List(idf[\"before_read_cM\"].to_numpy() * 1e-2),\n",
    "    numba.typed.List(idf[\"after_read_cM\"].to_numpy() * 1e-2),\n",
    "    q = 0.142,\n",
    "    m = 0.982,\n",
    "    GC_tract_mean = 34.6,\n",
    "    GC_tract_mean2 = 7216,\n",
    "    read_margin_in_bp = 5000,\n",
    ")\n",
    "\n",
    "# res = inference.simulate_read_patterns_probs(\n",
    "#     numba.typed.List(idf[\"read_length\"].to_numpy()),\n",
    "#     numba.typed.List(idf[\"high_quality_snp_positions\"].to_numpy()),\n",
    "#     numba.typed.List(idf[\"between_high_quality_snps_bp\"].to_numpy() * 1e-8),\n",
    "#     numba.typed.List(np.repeat(5000 * 1e-8, len(idf))),\n",
    "#     numba.typed.List(np.repeat(5000 * 1e-8, len(idf))),\n",
    "#     q = 0.128,\n",
    "#     m = 0.97,\n",
    "#     GC_tract_mean = 29.59,\n",
    "#     GC_tract_mean2 = 652,\n",
    "#     read_margin_in_bp = 5000,\n",
    "# )\n",
    "\n",
    "\n",
    "sim_idx_transitions = [np.array([], dtype=np.int64) for i in range(len(idf))]\n",
    "for i, lst in zip(res[1], res[0]):\n",
    "    sim_idx_transitions[i] = np.array(lst, dtype=np.int64)\n",
    "#sim_idx_transitions = np.array(sim_idx_transitions, dtype=object)\n",
    "sim_callset_df = (idf\n",
    "    .with_columns(high_quality_snps_idx_transitions = pl.Series(sim_idx_transitions, dtype=pl.List(pl.Int64)))\n",
    ")\n",
    "\n",
    "n_detected_COs = np.sum([1 for x in sim_idx_transitions if len(x) == 1])\n",
    "n_detected_NCOs = np.sum([1 for x in sim_idx_transitions if len(x) == 2])\n",
    "\n",
    "n_detected_NCOs_from_NCOs = np.sum([1 for idx_trans, event_type in zip(res[0], res[6]) if event_type == 0 and len(idx_trans) == 2])\n",
    "n_detected_COs_from_NCOs = np.sum([1 for idx_trans, event_type in zip(res[0], res[6]) if event_type == 0 and len(idx_trans) == 1])\n",
    "\n",
    "print(\"# events:\", len(res[0]))\n",
    "print(\"# CO events:\", res[3])\n",
    "print(\"# detected CO events:\", n_detected_COs)\n",
    "\n",
    "print(\"# NCO events:\", res[4])\n",
    "print(\"# detected NCO events:\", n_detected_NCOs)\n",
    "print(\"# detected NCO events from NCOs:\", n_detected_NCOs_from_NCOs)\n",
    "print(\"# detected CO events from NCOs:\", n_detected_COs_from_NCOs)\n",
    "\n",
    "print(\"# NCO first comp:\", res[5])\n"
   ]
  },
  {
   "cell_type": "code",
   "execution_count": null,
   "id": "e7244fb0-e654-451f-b1f0-893be0c7edd6",
   "metadata": {},
   "outputs": [],
   "source": []
  },
  {
   "cell_type": "code",
   "execution_count": null,
   "id": "92b4df7b-68ab-4365-a409-8856aef1af06",
   "metadata": {},
   "outputs": [],
   "source": []
  },
  {
   "cell_type": "code",
   "execution_count": 27,
   "id": "742e796b-4f38-41b9-acf7-beb4a61a23bb",
   "metadata": {
    "tags": []
   },
   "outputs": [],
   "source": [
    "shorts = np.array([tract_length \\\n",
    "     for idx_trans, event_type, tract_type, tract_length in zip(res[0], res[6], res[7], res[8]) \\\n",
    "     if event_type == 0 and tract_type == 1])\n",
    "\n",
    "longs = np.array([tract_length \\\n",
    "     for idx_trans, event_type, tract_type, tract_length in zip(res[0], res[6], res[7], res[8]) \\\n",
    "     if event_type == 0 and tract_type == 0])\n",
    "\n",
    "shorts_frac_detected = np.array([(len(idx_trans) > 0) \\\n",
    "     for idx_trans, event_type, tract_type, tract_length in zip(res[0], res[6], res[7], res[8]) \\\n",
    "     if event_type == 0 and tract_type == 1]).mean()\n",
    "\n",
    "long_frac_detected = np.array([(len(idx_trans) > 0) \\\n",
    "     for idx_trans, event_type, tract_type, tract_length in zip(res[0], res[6], res[7], res[8]) \\\n",
    "     if event_type == 0 and tract_type == 0]).mean()\n"
   ]
  },
  {
   "cell_type": "code",
   "execution_count": 46,
   "id": "b9051ceb-e2ac-42ff-beb6-9a42e6a46b7e",
   "metadata": {
    "tags": []
   },
   "outputs": [
    {
     "data": {
      "text/plain": [
       "0.40831758034026466"
      ]
     },
     "execution_count": 46,
     "metadata": {},
     "output_type": "execute_result"
    }
   ],
   "source": [
    "np.array([(len(idx_trans) > 0) \\\n",
    "     for idx_trans, event_type, tract_type, tract_length in zip(res[0], res[6], res[7], res[8]) \\\n",
    "     if event_type == 0 and tract_type == 0]).mean()\n"
   ]
  },
  {
   "cell_type": "code",
   "execution_count": 47,
   "id": "f46aa7b3-272f-4c4d-9261-f3267c4ea235",
   "metadata": {
    "tags": []
   },
   "outputs": [
    {
     "data": {
      "text/plain": [
       "0.7685185185185185"
      ]
     },
     "execution_count": 47,
     "metadata": {},
     "output_type": "execute_result"
    }
   ],
   "source": [
    "0.31379962192816635 / 0.40831758034026466"
   ]
  },
  {
   "cell_type": "code",
   "execution_count": 28,
   "id": "58e374c7-dcec-429d-b3a3-6a2508516b8f",
   "metadata": {
    "tags": []
   },
   "outputs": [
    {
     "data": {
      "text/plain": [
       "0.40831758034026466"
      ]
     },
     "execution_count": 28,
     "metadata": {},
     "output_type": "execute_result"
    }
   ],
   "source": [
    "long_frac_detected"
   ]
  },
  {
   "cell_type": "code",
   "execution_count": null,
   "id": "88e0efb3-5a1e-47d0-8c97-b4177c2a368e",
   "metadata": {},
   "outputs": [],
   "source": []
  },
  {
   "cell_type": "markdown",
   "id": "3b44eefb-c227-484d-b698-4f344a65e350",
   "metadata": {},
   "source": [
    "Pr(NCO is long | detected NCO) = Pr(detected NCO | NCO is long) * Pr(NCO is long) / Pr(detected NCO)\n",
    "\n",
    "Pr(detected NCO | NCO is short) = 0.016\n",
    "\n",
    "Pr(detected NCO | NCO is long) = 0.4\n",
    "\n",
    "Pr(NCO is short) = 0.982\n",
    "\n",
    "Pr(NCO is long) = 0.018\n",
    "\n",
    "Pr(detected NCO) = 0.982 * 0.016 + 0.4 * 0.018 = 0.023\n",
    "\n",
    "Pr(NCO is long | detected NCO) = 0.4 * 0.018 / 0.023 = 0.31"
   ]
  },
  {
   "cell_type": "code",
   "execution_count": null,
   "id": "544e503d-7a4d-47b2-a5cc-cfcf54a32d3d",
   "metadata": {},
   "outputs": [],
   "source": [
    "Pr(NCO is long | detected NCO as NCO) = Pr(detected NCO as NCO | NCO is long) * Pr(NCO is long) / Pr(detected NCO as NCO)\n",
    "\n",
    "Pr(detected NCO as NCO | NCO is short) = 0.015 * 0.78 = 0.0117\n",
    "\n",
    "Pr(detected NCO | NCO is long) = 0.4 * 0.23 = 0.092\n",
    "\n",
    "Pr(NCO is short) = 0.98\n",
    "\n",
    "Pr(NCO is long) = 0.02\n",
    "\n",
    "Pr(detected NCO as NCO) = 0.98 * 0.0117 + 0.02 * 0.092 = 0.0133\n",
    "\n",
    "Pr(NCO is long | detected NCO) = 0.02 * 0.092 / 0.0133 = 0.138"
   ]
  },
  {
   "cell_type": "code",
   "execution_count": 51,
   "id": "050d714b-788b-407f-99cc-69c8d97942e1",
   "metadata": {
    "tags": []
   },
   "outputs": [
    {
     "data": {
      "text/plain": [
       "0.13834586466165413"
      ]
     },
     "execution_count": 51,
     "metadata": {},
     "output_type": "execute_result"
    }
   ],
   "source": [
    "0.02 * 0.092 / 0.0133"
   ]
  },
  {
   "cell_type": "code",
   "execution_count": null,
   "id": "bab3282f-1801-4054-92ae-c7894feeebf7",
   "metadata": {},
   "outputs": [],
   "source": []
  },
  {
   "cell_type": "code",
   "execution_count": 21,
   "id": "f755bf48-6e2c-4362-933f-b38c16e56c10",
   "metadata": {
    "tags": []
   },
   "outputs": [
    {
     "name": "stdout",
     "output_type": "stream",
     "text": [
      "# of NCO detected (all) 435\n",
      "# of NCO detected (short) 385\n",
      "# of NCO detected (long) 50\n"
     ]
    }
   ],
   "source": [
    "print(\"# of NCO detected (all)\", np.sum([len(lst)==2 for n_event, lst in enumerate(res[0]) if res[6][n_event] == 0]))\n",
    "print(\"# of NCO detected (short)\", np.sum([len(lst)==2 for n_event, lst in enumerate(res[0]) if res[6][n_event] == 0 and res[7][n_event] == 1]))\n",
    "print(\"# of NCO detected (long)\", np.sum([len(lst)==2 for n_event, lst in enumerate(res[0]) if res[6][n_event] == 0 and res[7][n_event] != 1]))"
   ]
  },
  {
   "cell_type": "code",
   "execution_count": null,
   "id": "c78c7606-8ae0-4136-bda2-7386663cfc9f",
   "metadata": {},
   "outputs": [],
   "source": []
  },
  {
   "cell_type": "code",
   "execution_count": null,
   "id": "bce5552e-e0c7-45d0-b034-82d27c3f0638",
   "metadata": {},
   "outputs": [],
   "source": []
  },
  {
   "cell_type": "code",
   "execution_count": null,
   "id": "22dcccb6-4c0b-4bdf-ab41-17622205042f",
   "metadata": {},
   "outputs": [],
   "source": []
  },
  {
   "cell_type": "code",
   "execution_count": 31,
   "id": "4c180124-c0bc-47e8-88fb-58b97256999c",
   "metadata": {
    "tags": []
   },
   "outputs": [
    {
     "name": "stdout",
     "output_type": "stream",
     "text": [
      "# expected CO events: 522.5405433017486\n"
     ]
    }
   ],
   "source": [
    "print(\n",
    "    \"# expected CO events:\", \n",
    "    (callset_df\n",
    "        .select((\n",
    "            (pl.col(\"between_high_quality_snps_cM\").list.sum() + \n",
    "             pl.col(\"before_read_cM\") + \n",
    "             pl.col(\"after_read_cM\")\n",
    "            ) * 1e-2).alias(\"prob\")\n",
    "        )\n",
    "    )[\"prob\"].sum()\n",
    ")\n",
    "        "
   ]
  },
  {
   "cell_type": "code",
   "execution_count": 11,
   "id": "41ecef30-f48a-477c-b3f2-3d17c99dfce0",
   "metadata": {},
   "outputs": [
    {
     "name": "stdout",
     "output_type": "stream",
     "text": [
      "# of high quality expected 1-switches: 181.4897911193739\n"
     ]
    }
   ],
   "source": [
    "print(\n",
    "    \"# of high quality expected 1-switches:\",\n",
    "    callset_df.select(\n",
    "        (pl.col(\"between_high_quality_snps_cM\").list.slice(\n",
    "            1, \n",
    "            pl.col(\"between_high_quality_snps_cM\").list.len() - 2,\n",
    "        ).list.sum() * 1e-2).alias(\"prob\")\n",
    "    )\n",
    "    [\"prob\"].sum()\n",
    ")"
   ]
  },
  {
   "cell_type": "code",
   "execution_count": 89,
   "id": "b6a52124-2628-4676-b389-7d2487884001",
   "metadata": {
    "tags": []
   },
   "outputs": [
    {
     "data": {
      "text/html": [
       "<div><style>\n",
       ".dataframe > thead > tr,\n",
       ".dataframe > tbody > tr {\n",
       "  text-align: right;\n",
       "  white-space: pre-wrap;\n",
       "}\n",
       "</style>\n",
       "<small>shape: (3, 2)</small><table border=\"1\" class=\"dataframe\"><thead><tr><th>n_transitions</th><th>len</th></tr><tr><td>u32</td><td>u32</td></tr></thead><tbody><tr><td>0</td><td>9837574</td></tr><tr><td>1</td><td>935</td></tr><tr><td>2</td><td>244</td></tr></tbody></table></div>"
      ],
      "text/plain": [
       "shape: (3, 2)\n",
       "┌───────────────┬─────────┐\n",
       "│ n_transitions ┆ len     │\n",
       "│ ---           ┆ ---     │\n",
       "│ u32           ┆ u32     │\n",
       "╞═══════════════╪═════════╡\n",
       "│ 0             ┆ 9837574 │\n",
       "│ 1             ┆ 935     │\n",
       "│ 2             ┆ 244     │\n",
       "└───────────────┴─────────┘"
      ]
     },
     "execution_count": 89,
     "metadata": {},
     "output_type": "execute_result"
    }
   ],
   "source": [
    "(sim_callset_df\n",
    "    .select(pl.col(\"high_quality_snps_idx_transitions\").list.len().alias(\"n_transitions\"))\n",
    "    .group_by(\"n_transitions\")\n",
    "    .len()\n",
    "    .sort(\"n_transitions\")\n",
    ")"
   ]
  },
  {
   "cell_type": "code",
   "execution_count": 91,
   "id": "81a7b087-6793-4a1f-89a9-78f9b529efff",
   "metadata": {
    "tags": []
   },
   "outputs": [
    {
     "data": {
      "text/html": [
       "<div><style>\n",
       ".dataframe > thead > tr,\n",
       ".dataframe > tbody > tr {\n",
       "  text-align: right;\n",
       "  white-space: pre-wrap;\n",
       "}\n",
       "</style>\n",
       "<small>shape: (7, 2)</small><table border=\"1\" class=\"dataframe\"><thead><tr><th>n_converted</th><th>len</th></tr><tr><td>i64</td><td>u32</td></tr></thead><tbody><tr><td>1</td><td>208</td></tr><tr><td>2</td><td>21</td></tr><tr><td>3</td><td>8</td></tr><tr><td>4</td><td>2</td></tr><tr><td>5</td><td>1</td></tr><tr><td>7</td><td>1</td></tr><tr><td>9</td><td>3</td></tr></tbody></table></div>"
      ],
      "text/plain": [
       "shape: (7, 2)\n",
       "┌─────────────┬─────┐\n",
       "│ n_converted ┆ len │\n",
       "│ ---         ┆ --- │\n",
       "│ i64         ┆ u32 │\n",
       "╞═════════════╪═════╡\n",
       "│ 1           ┆ 208 │\n",
       "│ 2           ┆ 21  │\n",
       "│ 3           ┆ 8   │\n",
       "│ 4           ┆ 2   │\n",
       "│ 5           ┆ 1   │\n",
       "│ 7           ┆ 1   │\n",
       "│ 9           ┆ 3   │\n",
       "└─────────────┴─────┘"
      ]
     },
     "execution_count": 91,
     "metadata": {},
     "output_type": "execute_result"
    }
   ],
   "source": [
    "(sim_callset_df\n",
    "    .filter(pl.col(\"high_quality_snps_idx_transitions\").list.len() == 2)\n",
    "    .select(pl.col(\"high_quality_snps_idx_transitions\").list.diff(null_behavior=\"drop\").list.first().alias(\"n_converted\"))\n",
    "    .group_by(\"n_converted\")\n",
    "    .len()\n",
    "    .sort(\"n_converted\")\n",
    ")"
   ]
  },
  {
   "cell_type": "code",
   "execution_count": 92,
   "id": "7adab82a-5677-4102-a95b-5799b3b4b701",
   "metadata": {
    "tags": []
   },
   "outputs": [
    {
     "data": {
      "image/png": "[encoded data removed]",
      "text/plain": [
       "<Figure size 640x480 with 1 Axes>"
      ]
     },
     "metadata": {},
     "output_type": "display_data"
    }
   ],
   "source": [
    "plt.hist(\n",
    "    [\n",
    "        (callset_df\n",
    "            .filter(pl.col(\"high_quality_snps_idx_transitions\").list.len() == 2)\n",
    "            .select(\n",
    "                (\n",
    "                    pl.col(\"high_quality_snp_positions\").list.get(pl.col(\"high_quality_snps_idx_transitions\").list.get(1)+1) -\n",
    "                    pl.col(\"high_quality_snp_positions\").list.get(pl.col(\"high_quality_snps_idx_transitions\").list.get(0))\n",
    "                ).alias(\"upper_bound\")            \n",
    "            )\n",
    "            [\"upper_bound\"]\n",
    "        ),\n",
    "        (sim_callset_df\n",
    "            .filter(pl.col(\"high_quality_snps_idx_transitions\").list.len() == 2)\n",
    "            .select(\n",
    "                (\n",
    "                    pl.col(\"high_quality_snp_positions\").list.get(pl.col(\"high_quality_snps_idx_transitions\").list.get(1)+1) -\n",
    "                    pl.col(\"high_quality_snp_positions\").list.get(pl.col(\"high_quality_snps_idx_transitions\").list.get(0))\n",
    "                ).alias(\"upper_bound\")            \n",
    "            )\n",
    "            [\"upper_bound\"]\n",
    "        ),\n",
    "    ],\n",
    "    bins=25,\n",
    "    density=True,\n",
    ");"
   ]
  },
  {
   "cell_type": "code",
   "execution_count": null,
   "id": "82a2f780-395d-4381-8102-58f8d0784071",
   "metadata": {},
   "outputs": [],
   "source": []
  },
  {
   "cell_type": "code",
   "execution_count": null,
   "id": "8b2a69b9-bd86-4b88-b724-3fb9f2f5f183",
   "metadata": {},
   "outputs": [],
   "source": []
  },
  {
   "cell_type": "code",
   "execution_count": null,
   "id": "288f306a-44af-4714-ba1b-79ea53c494b0",
   "metadata": {},
   "outputs": [],
   "source": []
  },
  {
   "cell_type": "code",
   "execution_count": 162,
   "id": "b30d976a-5623-4194-bf8e-847e97e6d484",
   "metadata": {
    "tags": []
   },
   "outputs": [
    {
     "ename": "KeyboardInterrupt",
     "evalue": "",
     "output_type": "error",
     "traceback": [
      "\u001b[0;31m---------------------------------------------------------------------------\u001b[0m",
      "\u001b[0;31mKeyboardInterrupt\u001b[0m                         Traceback (most recent call last)",
      "File \u001b[0;32m<timed eval>:1\u001b[0m\n",
      "File \u001b[0;32m/nfs/treeoflife-01/teams/tola/users/rs42/git/sperm/src/inference.py:1062\u001b[0m, in \u001b[0;36mmaximum_likelihood_all_reads\u001b[0;34m(read_length_list, snp_positions_on_read_list, idx_transitions_list, prob_CO_between_snps_list, prob_CO_before_read_list, prob_CO_after_read_list, weights_list, q_range, m_range, GC_tract_mean_range, GC_tract_mean2_range, read_margin_in_bp)\u001b[0m\n\u001b[1;32m   1060\u001b[0m read_length_list \u001b[38;5;241m=\u001b[39m numba\u001b[38;5;241m.\u001b[39mtyped\u001b[38;5;241m.\u001b[39mList(read_length_list)\n\u001b[1;32m   1061\u001b[0m snp_positions_on_read_list \u001b[38;5;241m=\u001b[39m numba\u001b[38;5;241m.\u001b[39mtyped\u001b[38;5;241m.\u001b[39mList(snp_positions_on_read_list)\n\u001b[0;32m-> 1062\u001b[0m idx_transitions_list \u001b[38;5;241m=\u001b[39m \u001b[43mnumba\u001b[49m\u001b[38;5;241;43m.\u001b[39;49m\u001b[43mtyped\u001b[49m\u001b[38;5;241;43m.\u001b[39;49m\u001b[43mList\u001b[49m\u001b[43m(\u001b[49m\u001b[43m[\u001b[49m\u001b[43mnp\u001b[49m\u001b[38;5;241;43m.\u001b[39;49m\u001b[43marray\u001b[49m\u001b[43m(\u001b[49m\u001b[43mx\u001b[49m\u001b[43m)\u001b[49m\u001b[38;5;241;43m.\u001b[39;49m\u001b[43mastype\u001b[49m\u001b[43m(\u001b[49m\u001b[43mnp\u001b[49m\u001b[38;5;241;43m.\u001b[39;49m\u001b[43mint32\u001b[49m\u001b[43m)\u001b[49m\u001b[43m \u001b[49m\u001b[38;5;28;43;01mfor\u001b[39;49;00m\u001b[43m \u001b[49m\u001b[43mx\u001b[49m\u001b[43m \u001b[49m\u001b[38;5;129;43;01min\u001b[39;49;00m\u001b[43m \u001b[49m\u001b[43midx_transitions_list\u001b[49m\u001b[43m]\u001b[49m\u001b[43m)\u001b[49m    \n\u001b[1;32m   1063\u001b[0m prob_CO_between_snps_list \u001b[38;5;241m=\u001b[39m numba\u001b[38;5;241m.\u001b[39mtyped\u001b[38;5;241m.\u001b[39mList(prob_CO_between_snps_list)\n\u001b[1;32m   1064\u001b[0m prob_CO_before_read_list \u001b[38;5;241m=\u001b[39m numba\u001b[38;5;241m.\u001b[39mtyped\u001b[38;5;241m.\u001b[39mList(prob_CO_before_read_list)\n",
      "File \u001b[0;32m/nfs/treeoflife-01/teams/tola/users/rs42/miniconda3/envs/sperm/lib/python3.11/site-packages/numba/typed/typedlist.py:268\u001b[0m, in \u001b[0;36mList.__init__\u001b[0;34m(self, *args, **kwargs)\u001b[0m\n\u001b[1;32m    266\u001b[0m     \u001b[38;5;28;01mraise\u001b[39;00m \u001b[38;5;167;01mTypeError\u001b[39;00m(\u001b[38;5;124m\"\u001b[39m\u001b[38;5;124mList() argument must be iterable\u001b[39m\u001b[38;5;124m\"\u001b[39m)\n\u001b[1;32m    267\u001b[0m \u001b[38;5;28;01mfor\u001b[39;00m i \u001b[38;5;129;01min\u001b[39;00m args[\u001b[38;5;241m0\u001b[39m]:\n\u001b[0;32m--> 268\u001b[0m     \u001b[38;5;28;43mself\u001b[39;49m\u001b[38;5;241;43m.\u001b[39;49m\u001b[43mappend\u001b[49m\u001b[43m(\u001b[49m\u001b[43mi\u001b[49m\u001b[43m)\u001b[49m\n",
      "File \u001b[0;32m/nfs/treeoflife-01/teams/tola/users/rs42/miniconda3/envs/sperm/lib/python3.11/site-packages/numba/typed/typedlist.py:344\u001b[0m, in \u001b[0;36mList.append\u001b[0;34m(self, item)\u001b[0m\n\u001b[1;32m    342\u001b[0m \u001b[38;5;28;01mif\u001b[39;00m \u001b[38;5;129;01mnot\u001b[39;00m \u001b[38;5;28mself\u001b[39m\u001b[38;5;241m.\u001b[39m_typed:\n\u001b[1;32m    343\u001b[0m     \u001b[38;5;28mself\u001b[39m\u001b[38;5;241m.\u001b[39m_initialise_list(item)\n\u001b[0;32m--> 344\u001b[0m \u001b[43m_append\u001b[49m\u001b[43m(\u001b[49m\u001b[38;5;28;43mself\u001b[39;49m\u001b[43m,\u001b[49m\u001b[43m \u001b[49m\u001b[43mitem\u001b[49m\u001b[43m)\u001b[49m\n",
      "\u001b[0;31mKeyboardInterrupt\u001b[0m: "
     ]
    }
   ],
   "source": [
    "%%time\n",
    "inference.maximum_likelihood_all_reads(\n",
    "    sampled_callset_df[\"read_length\"].to_numpy(),\n",
    "    sampled_callset_df[\"mid_quality_snp_positions\"].to_numpy(),\n",
    "    sim_idx_transitions,\n",
    "    sampled_callset_df[\"between_mid_quality_snps_cM\"].to_numpy() * 1e-2,\n",
    "    sampled_callset_df[\"before_read_cM\"].to_numpy() * 1e-2,\n",
    "    sampled_callset_df[\"after_read_cM\"].to_numpy() * 1e-2,\n",
    "    sampled_callset_df[\"weight\"].to_numpy(),\n",
    "    q_range = (0.03, 1-1e-2),   # Lower end of 0.03 chosen according to observed cMs\n",
    "    m_range = (0.5, 1),\n",
    "    GC_tract_mean_range = (1, 100),\n",
    "    GC_tract_mean2_range = (100, 5000),\n",
    "    read_margin_in_bp = 5000,\n",
    ")\n"
   ]
  },
  {
   "cell_type": "code",
   "execution_count": null,
   "id": "c3cdf141-c95b-4be3-9b67-8cd0c9f5ec7e",
   "metadata": {},
   "outputs": [],
   "source": [
    "# Current:\t[   0.144    0.98    60.629 2660.276]\t"
   ]
  },
  {
   "cell_type": "code",
   "execution_count": null,
   "id": "8a1c75a7-00f8-4fd5-babd-4eeb3631d60b",
   "metadata": {},
   "outputs": [],
   "source": []
  },
  {
   "cell_type": "markdown",
   "id": "85b75cf3-dc1f-4aa9-bb8d-2d65144350fd",
   "metadata": {},
   "source": [
    "# What is the full distribution from reads"
   ]
  },
  {
   "cell_type": "markdown",
   "id": "e593a6cd-96d1-43b2-bccf-58527b69bdc1",
   "metadata": {},
   "source": [
    "## Test one"
   ]
  },
  {
   "cell_type": "code",
   "execution_count": 34,
   "id": "5c1c9779-a70a-4902-b4c4-9577ecaa6c1c",
   "metadata": {
    "tags": []
   },
   "outputs": [],
   "source": [
    "row = {\n",
    "    \"read_length\": 10000,\n",
    "    \"high_quality_snp_positions\": [4000, 5001, 6010, 6500],\n",
    "    \"between_high_quality_snps_cM\": [1e-2, 2e-2, 3e-2, 1e-2, 1e-2],\n",
    "    \"before_read_cM\": 1e-3,\n",
    "    \"after_read_cM\": 1e-3,\n",
    "}\n"
   ]
  },
  {
   "cell_type": "code",
   "execution_count": 35,
   "id": "687e293b-7a43-4351-941f-3623545dc114",
   "metadata": {
    "tags": []
   },
   "outputs": [
    {
     "name": "stdout",
     "output_type": "stream",
     "text": [
      "CPU times: user 257 µs, sys: 79 µs, total: 336 µs\n",
      "Wall time: 348 µs\n"
     ]
    }
   ],
   "source": [
    "%%time\n",
    "D = inference.tract_length_upper_bound_dist_from_read(\n",
    "    row[\"read_length\"],\n",
    "    row[\"high_quality_snp_positions\"],\n",
    "    np.array(row[\"between_high_quality_snps_cM\"]) * 1e-2,\n",
    "    row[\"before_read_cM\"],\n",
    "    row[\"after_read_cM\"],\n",
    "    0.15,\n",
    "    0.98,\n",
    "    30,\n",
    "    1000,\n",
    "    read_margin_in_bp = 5000,\n",
    "    max_dist_bin = 30000,\n",
    ")"
   ]
  },
  {
   "cell_type": "code",
   "execution_count": 38,
   "id": "e9cf4c34-509d-4ed7-b253-2745aae31f90",
   "metadata": {
    "tags": []
   },
   "outputs": [
    {
     "data": {
      "text/plain": [
       "(array([1499, 2010, 2500]), array([0.56561641, 0.4145981 , 0.01978549]))"
      ]
     },
     "execution_count": 38,
     "metadata": {},
     "output_type": "execute_result"
    }
   ],
   "source": [
    "np.where(D)[0], D[np.where(D)]"
   ]
  },
  {
   "cell_type": "markdown",
   "id": "85ad49ad-d4a1-435f-9a87-3c1e5581b684",
   "metadata": {},
   "source": [
    "## Run on many reads"
   ]
  },
  {
   "cell_type": "markdown",
   "id": "ffb7c32e-fab9-437b-bc2b-fb3183ae2d82",
   "metadata": {},
   "source": [
    "### High quality reads"
   ]
  },
  {
   "cell_type": "code",
   "execution_count": 7,
   "id": "a5b8489b-e6ab-40be-9828-d40de3136954",
   "metadata": {
    "tags": []
   },
   "outputs": [
    {
     "name": "stderr",
     "output_type": "stream",
     "text": [
      "/nfs/treeoflife-01/teams/tola/users/rs42/git/sperm/src/inference.py:1189: NumbaTypeSafetyWarning: \u001b[1m\u001b[1m\u001b[1munsafe cast from uint64 to int64. Precision may be lost.\u001b[0m\u001b[0m\u001b[0m\n",
      "  read_length_list[i],\n"
     ]
    },
    {
     "name": "stdout",
     "output_type": "stream",
     "text": [
      "CPU times: user 1h 56min 12s, sys: 27.4 s, total: 1h 56min 39s\n",
      "Wall time: 14min 19s\n"
     ]
    }
   ],
   "source": [
    "%%time\n",
    "idf = callset_df\n",
    "\n",
    "D_mix, C_mix = inference.tract_length_upper_bound_dist_from_many_reads(\n",
    "    # numba.typed.List(idf[\"read_length\"].to_numpy()),\n",
    "    # numba.typed.List(idf[\"high_quality_snp_positions\"].to_numpy()),\n",
    "    # numba.typed.List(idf[\"between_high_quality_snps_bp\"].to_numpy() * 1e-8),\n",
    "    # numba.typed.List(np.repeat(5000 * 1e-8, len(idf))),\n",
    "    # numba.typed.List(np.repeat(5000 * 1e-8, len(idf))),\n",
    "    # numba.typed.List(idf[\"weight\"].to_numpy()),\n",
    "    numba.typed.List(idf[\"read_length\"].to_numpy()),\n",
    "    numba.typed.List(idf[\"high_quality_snp_positions\"].to_numpy()),\n",
    "    numba.typed.List(idf[\"between_high_quality_snps_cM\"].to_numpy() * 1e-2),\n",
    "    numba.typed.List(idf[\"before_read_cM\"].to_numpy() * 1e-2),\n",
    "    numba.typed.List(idf[\"after_read_cM\"].to_numpy() * 1e-2),\n",
    "    numba.typed.List(idf[\"weight\"].to_numpy()),\n",
    "    q = 0.142,\n",
    "    m = 0.982,\n",
    "    GC_tract_mean = 34.6,\n",
    "    GC_tract_mean2 = 7214.145,\n",
    "    read_margin_in_bp = 5000,\n",
    ")\n",
    "\n",
    "D_one, C_one = inference.tract_length_upper_bound_dist_from_many_reads(\n",
    "    # numba.typed.List(idf[\"read_length\"].to_numpy()),\n",
    "    # numba.typed.List(idf[\"high_quality_snp_positions\"].to_numpy()),\n",
    "    # numba.typed.List(idf[\"between_high_quality_snps_bp\"].to_numpy() * 1e-8),\n",
    "    # numba.typed.List(np.repeat(5000 * 1e-8, len(idf))),\n",
    "    # numba.typed.List(np.repeat(5000 * 1e-8, len(idf))),\n",
    "    # numba.typed.List(idf[\"weight\"].to_numpy()),\n",
    "    numba.typed.List(idf[\"read_length\"].to_numpy()),\n",
    "    numba.typed.List(idf[\"high_quality_snp_positions\"].to_numpy()),\n",
    "    numba.typed.List(idf[\"between_high_quality_snps_cM\"].to_numpy() * 1e-2),\n",
    "    numba.typed.List(idf[\"before_read_cM\"].to_numpy() * 1e-2),\n",
    "    numba.typed.List(idf[\"after_read_cM\"].to_numpy() * 1e-2),\n",
    "    numba.typed.List(idf[\"weight\"].to_numpy()),    \n",
    "    q = 0.409,\n",
    "    m = 1,\n",
    "    GC_tract_mean = 217.168,\n",
    "    GC_tract_mean2 = 1000,\n",
    "    read_margin_in_bp = 5000,\n",
    ")\n",
    "\n"
   ]
  },
  {
   "cell_type": "code",
   "execution_count": null,
   "id": "8399dd94-7ce3-49a7-b01c-fb59b738247e",
   "metadata": {},
   "outputs": [],
   "source": []
  },
  {
   "cell_type": "markdown",
   "id": "6bf2ad32-a7ed-4485-8979-e2dad8e4c43a",
   "metadata": {},
   "source": [
    "### Plot and compare"
   ]
  },
  {
   "cell_type": "code",
   "execution_count": 9,
   "id": "2d85ea47-9e3a-4a3e-a7bb-71a419e2a532",
   "metadata": {
    "tags": []
   },
   "outputs": [],
   "source": [
    "upper_bound = (callset_df\n",
    "    .filter(pl.col(\"high_quality_snps_idx_transitions\").list.len() == 2)\n",
    "    .select(\n",
    "        (\n",
    "            pl.col(\"high_quality_snp_positions\").list.get(pl.col(\"high_quality_snps_idx_transitions\").list.get(1)+1) -\n",
    "            pl.col(\"high_quality_snp_positions\").list.get(pl.col(\"high_quality_snps_idx_transitions\").list.get(0))\n",
    "        ).alias(\"upper_bound\")            \n",
    "    )\n",
    "    [\"upper_bound\"]\n",
    ")"
   ]
  },
  {
   "cell_type": "code",
   "execution_count": 171,
   "id": "93d1f357-63b5-4e1b-9f33-e225967ac6d1",
   "metadata": {
    "tags": []
   },
   "outputs": [
    {
     "data": {
      "image/png": "[encoded data removed]",
      "text/plain": [
       "<Figure size 400x400 with 1 Axes>"
      ]
     },
     "metadata": {},
     "output_type": "display_data"
    }
   ],
   "source": [
    "import scipy.ndimage\n",
    "\n",
    "\n",
    "smooth = 100\n",
    "\n",
    "fig, ax = plt.subplots(figsize=(4,4))\n",
    "\n",
    "ax.plot(\n",
    "    scipy.ndimage.uniform_filter1d(D_mix, smooth), \n",
    "    '.', ms=2, alpha=0.5, \n",
    "    label=\"Short + Long\",\n",
    "    color=\"C0\",\n",
    ");\n",
    "ax.plot(\n",
    "    scipy.ndimage.uniform_filter1d(D_one, smooth), \n",
    "    '.', ms=2, \n",
    "    alpha=0.5, \n",
    "    label=\"Singe distribution\",\n",
    "    color=\"C1\",\n",
    ");\n",
    "#plt.ylim(0, 0.00005);\n",
    "ax.set_xlim(0, 15000);\n",
    "\n",
    "\n",
    "sns.histplot(\n",
    "    upper_bound,\n",
    "    ax=ax,\n",
    "    #kde=True,\n",
    "    stat=\"density\",\n",
    "    color=\"C2\",\n",
    "    bins=50,\n",
    "    label=\"real data\",\n",
    "    alpha=0.6,\n",
    "    linewidth=0.5,\n",
    ")\n",
    "# plt.hist(\n",
    "#     upper_bound,\n",
    "#     bins=200,\n",
    "#     density=True,\n",
    "#     label=\"real\",\n",
    "# );\n",
    "\n",
    "plt.legend();\n",
    "\n",
    "sns.despine(ax=ax)\n",
    "ax.set_xlabel(\"NCO tract length upper bound\");\n",
    "\n",
    "#fig.savefig(\"/nfs/treeoflife-01/teams/tola/users/rs42/git/sperm/figures/n_tract_length.pdf\")"
   ]
  },
  {
   "cell_type": "code",
   "execution_count": 8,
   "id": "506b590b-8c5e-40df-9951-74cd1bb7e3ac",
   "metadata": {},
   "outputs": [],
   "source": [
    "conv_df = (callset_df\n",
    "    .filter(pl.col(\"high_quality_snps_idx_transitions\").list.len() == 2)\n",
    "    .select(pl.col(\"high_quality_snps_idx_transitions\").list.diff(null_behavior=\"drop\").list.first().alias(\"n_converted\"))\n",
    "    .group_by(\"n_converted\")\n",
    "    .len()\n",
    "    .sort(\"n_converted\")\n",
    ")"
   ]
  },
  {
   "cell_type": "code",
   "execution_count": 44,
   "id": "cdf502c2-e15c-4e80-9da7-fc1cfedf4f8e",
   "metadata": {
    "tags": []
   },
   "outputs": [],
   "source": [
    "import statsmodels.stats.proportion\n",
    "\n",
    "R = np.zeros(10)\n",
    "for n, c in conv_df.rows():\n",
    "    R[n] = c\n",
    "\n",
    "mns = R / R.sum()\n",
    "cis = [statsmodels.stats.proportion.proportion_confint(c, R.sum()) for c in R]"
   ]
  },
  {
   "cell_type": "code",
   "execution_count": 157,
   "id": "95975656-0837-467d-a7a1-7b9ffeef4775",
   "metadata": {
    "tags": []
   },
   "outputs": [
    {
     "data": {
      "image/png": "[encoded data removed]",
      "text/plain": [
       "<Figure size 400x400 with 3 Axes>"
      ]
     },
     "metadata": {},
     "output_type": "display_data"
    }
   ],
   "source": [
    "fig = plt.figure(figsize=(4,4))\n",
    "\n",
    "bax = brokenaxes(xlims=[(0.4, 6.6)], ylims=[(0, 0.15), (0.75, 0.92)], hspace=.4)\n",
    "\n",
    "ci_high_mix = scipy.stats.binom.isf(0.025, conv_df[\"len\"].sum(), C_mix) / conv_df[\"len\"].sum()\n",
    "ci_low_mix = scipy.stats.binom.isf(1-0.025, conv_df[\"len\"].sum(), C_mix) / conv_df[\"len\"].sum()\n",
    "\n",
    "bax.plot(\n",
    "    np.arange(len(mns))+0.1,\n",
    "    C_mix, \n",
    "    '.', \n",
    "    color=\"C0\",\n",
    "    label=\"Short + Long\",\n",
    "    ms=10,    \n",
    ")\n",
    "bax.errorbar(\n",
    "    x = np.arange(len(mns))+0.1,\n",
    "    y = C_mix,\n",
    "    yerr = np.array([[mn-ci_low, ci_high-mn] for mn, ci_low, ci_high in zip(C_mix, ci_low_mix, ci_high_mix)]).T,\n",
    "    ls = ' ',\n",
    "    color='C0',\n",
    ")\n",
    "\n",
    "ci_high_mix = scipy.stats.binom.isf(0.025, conv_df[\"len\"].sum(), C_one) / conv_df[\"len\"].sum()\n",
    "ci_low_mix = scipy.stats.binom.isf(1-0.025, conv_df[\"len\"].sum(), C_one) / conv_df[\"len\"].sum()\n",
    "bax.plot(\n",
    "    np.arange(len(mns))-0.1,\n",
    "    C_one, \n",
    "    '.', \n",
    "    color=\"C1\",\n",
    "    label=\"Single distribution\",\n",
    "    ms=10,\n",
    ")\n",
    "bax.errorbar(\n",
    "    x = np.arange(len(mns))-0.1,\n",
    "    y = C_one,\n",
    "    yerr = np.array([[mn-ci_low, ci_high-mn] for mn, ci_low, ci_high in zip(C_one, ci_low_mix, ci_high_mix)]).T,\n",
    "    ls = ' ',\n",
    "    color='C1',\n",
    ")\n",
    "\n",
    "\n",
    "bax.bar(\n",
    "    x=np.arange(len(mns)),\n",
    "    height=mns, \n",
    "    color=NCO_color,\n",
    "    alpha=0.6,\n",
    "    label=\"NCO reads\",\n",
    "    edgecolor=\"black\",\n",
    "    linewidth=1,\n",
    ")\n",
    "\n",
    "bax.set_xlabel(\"# of converted markers\")\n",
    "bax.set_ylabel(\"Proportion\");\n",
    "bax.legend();\n",
    "\n",
    "#fig.savefig(\"/nfs/treeoflife-01/teams/tola/users/rs42/git/sperm/figures/n_converted.pdf\")"
   ]
  },
  {
   "cell_type": "markdown",
   "id": "71793f39-8abd-475b-b256-3615362eedde",
   "metadata": {},
   "source": [
    "### Mid quality"
   ]
  },
  {
   "cell_type": "code",
   "execution_count": 10,
   "id": "9909da00-dd4c-4a24-aafa-95ea261cefc9",
   "metadata": {
    "tags": []
   },
   "outputs": [
    {
     "name": "stdout",
     "output_type": "stream",
     "text": [
      "CPU times: user 2h 4min 26s, sys: 27.5 s, total: 2h 4min 53s\n",
      "Wall time: 14min 38s\n"
     ]
    }
   ],
   "source": [
    "%%time\n",
    "idf = callset_df\n",
    "\n",
    "D_mix_mid, C_mix_mid = inference.tract_length_upper_bound_dist_from_many_reads(\n",
    "    # numba.typed.List(idf[\"read_length\"].to_numpy()),\n",
    "    # numba.typed.List(idf[\"high_quality_snp_positions\"].to_numpy()),\n",
    "    # numba.typed.List(idf[\"between_high_quality_snps_bp\"].to_numpy() * 1e-8),\n",
    "    # numba.typed.List(np.repeat(5000 * 1e-8, len(idf))),\n",
    "    # numba.typed.List(np.repeat(5000 * 1e-8, len(idf))),\n",
    "    # numba.typed.List(idf[\"weight\"].to_numpy()),\n",
    "    numba.typed.List(idf[\"read_length\"].to_numpy()),\n",
    "    numba.typed.List(idf[\"mid_quality_snp_positions\"].to_numpy()),\n",
    "    numba.typed.List(idf[\"between_mid_quality_snps_cM\"].to_numpy() * 1e-2),\n",
    "    numba.typed.List(idf[\"before_read_cM\"].to_numpy() * 1e-2),\n",
    "    numba.typed.List(idf[\"after_read_cM\"].to_numpy() * 1e-2),\n",
    "    numba.typed.List(idf[\"weight\"].to_numpy()),\n",
    "    q = 0.142,\n",
    "    m = 0.982,\n",
    "    GC_tract_mean = 34.6,\n",
    "    GC_tract_mean2 = 7214.145,\n",
    "    read_margin_in_bp = 5000,\n",
    ")\n",
    "\n",
    "D_one_mid, C_one_mid = inference.tract_length_upper_bound_dist_from_many_reads(\n",
    "    # numba.typed.List(idf[\"read_length\"].to_numpy()),\n",
    "    # numba.typed.List(idf[\"high_quality_snp_positions\"].to_numpy()),\n",
    "    # numba.typed.List(idf[\"between_high_quality_snps_bp\"].to_numpy() * 1e-8),\n",
    "    # numba.typed.List(np.repeat(5000 * 1e-8, len(idf))),\n",
    "    # numba.typed.List(np.repeat(5000 * 1e-8, len(idf))),\n",
    "    # numba.typed.List(idf[\"weight\"].to_numpy()),\n",
    "    numba.typed.List(idf[\"read_length\"].to_numpy()),\n",
    "    numba.typed.List(idf[\"mid_quality_snp_positions\"].to_numpy()),\n",
    "    numba.typed.List(idf[\"between_mid_quality_snps_cM\"].to_numpy() * 1e-2),\n",
    "    numba.typed.List(idf[\"before_read_cM\"].to_numpy() * 1e-2),\n",
    "    numba.typed.List(idf[\"after_read_cM\"].to_numpy() * 1e-2),\n",
    "    numba.typed.List(idf[\"weight\"].to_numpy()),    \n",
    "    q = 0.409,\n",
    "    m = 1,\n",
    "    GC_tract_mean = 217.168,\n",
    "    GC_tract_mean2 = 1000,\n",
    "    read_margin_in_bp = 5000,\n",
    ")\n",
    "\n"
   ]
  },
  {
   "cell_type": "code",
   "execution_count": null,
   "id": "0edecd1c-fd9a-4567-bba9-75f8d4f147ef",
   "metadata": {},
   "outputs": [],
   "source": []
  },
  {
   "cell_type": "code",
   "execution_count": 71,
   "id": "44586083-225a-462e-aa81-9f3a168c161b",
   "metadata": {
    "tags": []
   },
   "outputs": [],
   "source": [
    "upper_bound_mid = (callset_df\n",
    "    .filter(pl.col(\"idx_transitions\").list.len() == 2)\n",
    "    .select(\n",
    "        (\n",
    "            pl.col(\"mid_quality_snp_positions\").list.get(pl.col(\"idx_transitions\").list.get(1)+1) -\n",
    "            pl.col(\"mid_quality_snp_positions\").list.get(pl.col(\"idx_transitions\").list.get(0))\n",
    "        ).alias(\"upper_bound\")            \n",
    "    )\n",
    "    [\"upper_bound\"]\n",
    ")"
   ]
  },
  {
   "cell_type": "code",
   "execution_count": 187,
   "id": "92ab6588-055e-4206-900d-5bd923bb7873",
   "metadata": {},
   "outputs": [
    {
     "data": {
      "image/png": "[encoded data removed]",
      "text/plain": [
       "<Figure size 400x400 with 1 Axes>"
      ]
     },
     "metadata": {},
     "output_type": "display_data"
    }
   ],
   "source": [
    "import scipy.ndimage\n",
    "\n",
    "\n",
    "smooth = 100\n",
    "\n",
    "fig, ax = plt.subplots(figsize=(4,4))\n",
    "\n",
    "ax.plot(\n",
    "    scipy.ndimage.uniform_filter1d(D_mix_mid, smooth), \n",
    "    '.', ms=2, alpha=0.5, \n",
    "    label=\"Short + Long\",\n",
    "    color=\"C0\",\n",
    ");\n",
    "ax.plot(\n",
    "    scipy.ndimage.uniform_filter1d(D_one_mid, smooth), \n",
    "    '.', ms=2, \n",
    "    alpha=0.5, \n",
    "    label=\"Singe distribution\",\n",
    "    color=\"C1\",\n",
    ");\n",
    "#plt.ylim(0, 0.00005);\n",
    "ax.set_xlim(0, 15000);\n",
    "\n",
    "\n",
    "sns.histplot(\n",
    "    upper_bound,\n",
    "    ax=ax,\n",
    "    #kde=True,\n",
    "    stat=\"density\",\n",
    "    color=\"C2\",\n",
    "    bins=50,\n",
    "    label=\"real data\",\n",
    "    alpha=0.6,\n",
    "    linewidth=0.5,\n",
    ")\n",
    "# plt.hist(\n",
    "#     upper_bound,\n",
    "#     bins=200,\n",
    "#     density=True,\n",
    "#     label=\"real\",\n",
    "# );\n",
    "\n",
    "plt.legend();\n",
    "\n",
    "sns.despine(ax=ax)\n",
    "ax.set_xlabel(\"NCO tract length upper bound\");\n",
    "\n",
    "fig.savefig(\"/nfs/treeoflife-01/teams/tola/users/rs42/git/sperm/figures/n_tract_length.pdf\")"
   ]
  },
  {
   "cell_type": "code",
   "execution_count": null,
   "id": "bfcd40a5-8a74-4819-b205-6e7eea165f21",
   "metadata": {},
   "outputs": [],
   "source": []
  },
  {
   "cell_type": "code",
   "execution_count": 16,
   "id": "8fa54d9d-ddfd-4d9f-97c8-c9430ac66b36",
   "metadata": {},
   "outputs": [],
   "source": [
    "conv_mid_df = (callset_df\n",
    "    .filter(pl.col(\"idx_transitions\").list.len() == 2)\n",
    "    .select(pl.col(\"idx_transitions\").list.diff(null_behavior=\"drop\").list.first().alias(\"n_converted\"))\n",
    "    .group_by(\"n_converted\")\n",
    "    .len()\n",
    "    .sort(\"n_converted\")\n",
    ")"
   ]
  },
  {
   "cell_type": "code",
   "execution_count": 17,
   "id": "05bbb1bf-d475-493f-a2fd-5da2bbf31dc6",
   "metadata": {
    "tags": []
   },
   "outputs": [
    {
     "data": {
      "text/html": [
       "<div><style>\n",
       ".dataframe > thead > tr,\n",
       ".dataframe > tbody > tr {\n",
       "  text-align: right;\n",
       "  white-space: pre-wrap;\n",
       "}\n",
       "</style>\n",
       "<small>shape: (6, 2)</small><table border=\"1\" class=\"dataframe\"><thead><tr><th>n_converted</th><th>len</th></tr><tr><td>i64</td><td>u32</td></tr></thead><tbody><tr><td>1</td><td>446</td></tr><tr><td>2</td><td>39</td></tr><tr><td>3</td><td>12</td></tr><tr><td>4</td><td>1</td></tr><tr><td>5</td><td>4</td></tr><tr><td>6</td><td>2</td></tr></tbody></table></div>"
      ],
      "text/plain": [
       "shape: (6, 2)\n",
       "┌─────────────┬─────┐\n",
       "│ n_converted ┆ len │\n",
       "│ ---         ┆ --- │\n",
       "│ i64         ┆ u32 │\n",
       "╞═════════════╪═════╡\n",
       "│ 1           ┆ 446 │\n",
       "│ 2           ┆ 39  │\n",
       "│ 3           ┆ 12  │\n",
       "│ 4           ┆ 1   │\n",
       "│ 5           ┆ 4   │\n",
       "│ 6           ┆ 2   │\n",
       "└─────────────┴─────┘"
      ]
     },
     "execution_count": 17,
     "metadata": {},
     "output_type": "execute_result"
    }
   ],
   "source": [
    "conv_mid_df"
   ]
  },
  {
   "cell_type": "code",
   "execution_count": null,
   "id": "1ad61b14-c89e-4f66-8c52-89392d576883",
   "metadata": {},
   "outputs": [],
   "source": []
  },
  {
   "cell_type": "code",
   "execution_count": null,
   "id": "d0a8fc23-6b92-40ee-ad4b-4021a404d4a2",
   "metadata": {},
   "outputs": [],
   "source": []
  },
  {
   "cell_type": "code",
   "execution_count": 22,
   "id": "10111626-97ef-43b6-a7dc-307766e35bcf",
   "metadata": {
    "tags": []
   },
   "outputs": [
    {
     "data": {
      "image/png": "[encoded data removed]",
      "text/plain": [
       "<Figure size 400x400 with 3 Axes>"
      ]
     },
     "metadata": {},
     "output_type": "display_data"
    }
   ],
   "source": [
    "fig = plt.figure(figsize=(4,4))\n",
    "\n",
    "bax = brokenaxes(xlims=[(0.4, 7.6)], ylims=[(0, 0.15), (0.75, 0.92)], hspace=.4)\n",
    "\n",
    "ci_high_mix = scipy.stats.binom.isf(0.025, conv_mid_df[\"len\"].sum(), C_mix_mid) / conv_mid_df[\"len\"].sum()\n",
    "ci_low_mix = scipy.stats.binom.isf(1-0.025, conv_mid_df[\"len\"].sum(), C_mix_mid) / conv_mid_df[\"len\"].sum()\n",
    "\n",
    "R = np.zeros(10)\n",
    "for n, c in conv_mid_df.rows():\n",
    "    R[n] = c\n",
    "\n",
    "mns = R / R.sum()\n",
    "\n",
    "bax.plot(\n",
    "    np.arange(len(C_mix_mid))+0.1,\n",
    "    C_mix_mid, \n",
    "    '.', \n",
    "    color=\"C0\",\n",
    "    label=\"Short + Long\",\n",
    "    ms=10,    \n",
    ")\n",
    "bax.errorbar(\n",
    "    x = np.arange(len(C_mix_mid))+0.1,\n",
    "    y = C_mix_mid,\n",
    "    yerr = np.array([[mn-ci_low, ci_high-mn] for mn, ci_low, ci_high in zip(C_mix_mid, ci_low_mix, ci_high_mix)]).T,\n",
    "    ls = ' ',\n",
    "    color='C0',\n",
    ")\n",
    "\n",
    "ci_high_mix = scipy.stats.binom.isf(0.025, conv_mid_df[\"len\"].sum(), C_one_mid) / conv_mid_df[\"len\"].sum()\n",
    "ci_low_mix = scipy.stats.binom.isf(1-0.025, conv_mid_df[\"len\"].sum(), C_one_mid) / conv_mid_df[\"len\"].sum()\n",
    "bax.plot(\n",
    "    np.arange(len(C_mix_mid))-0.1,\n",
    "    C_one_mid, \n",
    "    '.', \n",
    "    color=\"C1\",\n",
    "    label=\"Single distribution\",\n",
    "    ms=10,\n",
    ")\n",
    "bax.errorbar(\n",
    "    x = np.arange(len(C_mix_mid))-0.1,\n",
    "    y = C_one_mid,\n",
    "    yerr = np.array([[mn-ci_low, ci_high-mn] for mn, ci_low, ci_high in zip(C_one_mid, ci_low_mix, ci_high_mix)]).T,\n",
    "    ls = ' ',\n",
    "    color='C1',\n",
    ")\n",
    "\n",
    "\n",
    "bax.bar(\n",
    "    x=np.arange(len(mns)),\n",
    "    height=mns, \n",
    "    color=NCO_color,\n",
    "    alpha=0.6,\n",
    "    label=\"NCO reads\",\n",
    "    edgecolor=\"black\",\n",
    "    linewidth=1,\n",
    ")\n",
    "\n",
    "bax.set_xlabel(\"# of converted markers\")\n",
    "bax.set_ylabel(\"Proportion\");\n",
    "bax.legend();\n",
    "\n",
    "bax.set_xticks(\n",
    "    np.arange(1, 8),\n",
    "    [str(x) for x in np.arange(1,8)],\n",
    ")\n",
    "\n",
    "fig.savefig(\"/nfs/treeoflife-01/teams/tola/users/rs42/git/sperm/figures/n_converted.pdf\")"
   ]
  },
  {
   "cell_type": "code",
   "execution_count": null,
   "id": "b793a521-aacc-4681-94d8-a9e73b2fe3b7",
   "metadata": {},
   "outputs": [],
   "source": []
  },
  {
   "cell_type": "code",
   "execution_count": null,
   "id": "62c51f5d-73a1-49b3-b842-73374579c0ff",
   "metadata": {},
   "outputs": [],
   "source": []
  },
  {
   "cell_type": "code",
   "execution_count": null,
   "id": "5a398a1a-4b90-4ae0-8b9c-a9434f54d9f7",
   "metadata": {},
   "outputs": [],
   "source": []
  },
  {
   "cell_type": "markdown",
   "id": "83d2fadb-e3df-4977-8eb4-866e2a747128",
   "metadata": {},
   "source": [
    "# Run it"
   ]
  },
  {
   "cell_type": "code",
   "execution_count": 7,
   "id": "438d81a4-d47b-4e6d-9080-42e2f4cbb577",
   "metadata": {
    "tags": []
   },
   "outputs": [
    {
     "name": "stdout",
     "output_type": "stream",
     "text": [
      "Current:\t[   0.1     0.98   30.   1000.  ]\t"
     ]
    },
    {
     "name": "stderr",
     "output_type": "stream",
     "text": [
      "/nfs/treeoflife-01/teams/tola/users/rs42/git/sperm/src/inference.py:1020: NumbaTypeSafetyWarning: \u001b[1m\u001b[1m\u001b[1munsafe cast from uint64 to int64. Precision may be lost.\u001b[0m\u001b[0m\u001b[0m\n",
      "  S += weights_list[i] * \\\n"
     ]
    },
    {
     "name": "stdout",
     "output_type": "stream",
     "text": [
      "26776.621303133223\n",
      "Current:\t[   0.105    0.98    30.    1000.   ]\t26767.092201297455\n",
      "Current:\t[   0.1    1.    30.  1000. ]\t27505.891699323565\n",
      "Current:\t[   0.1     0.98   31.5  1000.  ]\t26784.432390926617\n",
      "Current:\t[   0.1     0.98   30.   1050.  ]\t26776.4738584598\n",
      "Current:\t[   0.103    0.96    30.75  1025.   ]\t26822.85475657682\n",
      "Current:\t[   0.102    0.97    30.562 1018.75 ]\t26795.88200896053\n",
      "Current:\t[   0.101    0.99    30.188 1006.25 ]\t26767.952686347457\n",
      "Current:\t[   0.103    0.985   28.594 1028.125]\t26759.85158576996\n",
      "Current:\t[   0.104    0.988   27.141 1042.188]\t26753.279343615923\n",
      "Current:\t[   0.105    0.989   28.664 1049.219]\t26756.699425244868\n",
      "Current:\t[  0.107   0.993  27.996 998.828]\t26759.69860930588\n",
      "Current:\t[   0.11     0.985   26.713 1038.867]\t26748.814917606574\n",
      "Current:\t[   0.115    0.982   24.976 1055.176]\t26746.021848513246\n",
      "Current:\t[   0.111    0.996   24.388 1072.705]\t26767.461349589383\n",
      "Current:\t[   0.106    0.984   28.597 1018.176]\t26756.33769895216\n",
      "Current:\t[   0.108    0.978   26.693 1083.551]\t26754.619117956438\n",
      "Current:\t[   0.112    0.977   25.039 1050.327]\t26749.55942382518\n",
      "Current:\t[   0.113    0.978   23.327 1097.444]\t26746.951584539253\n",
      "Current:\t[   0.114    0.984   23.548 1039.016]\t26747.009427033794\n",
      "Current:\t[   0.123    0.973   21.304 1078.794]\t26751.695725798883\n",
      "Current:\t[   0.118    0.977   22.763 1069.642]\t26747.69106878039\n",
      "Current:\t[   0.118    0.984   22.268 1080.312]\t26749.400132157716\n",
      "Current:\t[   0.117    0.982   22.961 1072.816]\t26746.93998831127\n",
      "Current:\t[   0.111    0.987   24.642 1062.584]\t26747.120163515192\n",
      "Current:\t[   0.113    0.984   24.173 1064.348]\t26746.18022564644\n",
      "Current:\t[   0.115    0.979   24.17  1105.876]\t26746.419505831374\n",
      "Current:\t[   0.117    0.985   24.813 1051.664]\t26746.930277857733\n",
      "Current:\t[   0.113    0.983   26.104 1065.716]\t26746.8623881663\n",
      "Current:\t[   0.111    0.979   24.899 1093.894]\t26748.165486945614\n",
      "Current:\t[   0.115    0.984   24.834 1062.222]\t26746.03600836951\n",
      "Current:\t[   0.116    0.981   22.972 1078.095]\t26746.586327277055\n",
      "Current:\t[   0.115    0.982   23.755 1075.   ]\t26745.991952147975\n",
      "Current:\t[   0.114    0.987   24.699 1022.497]\t26748.237209356917\n",
      "Current:\t[   0.115    0.981   24.302 1085.031]\t26745.877477914877\n",
      "Current:\t[   0.117    0.98    24.76  1074.366]\t26745.942686851216\n",
      "Current:\t[   0.116    0.979   24.062 1082.565]\t26746.460446383004\n",
      "Current:\t[   0.115    0.982   24.641 1067.307]\t26745.85016025026\n",
      "Current:\t[   0.116    0.981   23.754 1095.677]\t26745.940529478805\n",
      "Current:\t[   0.116    0.98    24.974 1086.191]\t26745.91261665291\n",
      "Current:\t[   0.114    0.982   24.075 1092.737]\t26745.711122305762\n",
      "Current:\t[   0.113    0.983   23.732 1101.923]\t26745.70303462513\n",
      "Current:\t[   0.113    0.983   25.071 1074.549]\t26746.017358817313\n",
      "Current:\t[   0.115    0.981   24.083 1090.395]\t26745.78973015381\n",
      "Current:\t[   0.113    0.983   23.405 1086.137]\t26746.04479291749\n",
      "Current:\t[   0.115    0.981   24.582 1086.177]\t26745.780446525914\n",
      "Current:\t[   0.115    0.983   24.217 1087.87 ]\t26745.748678713575\n",
      "Current:\t[   0.114    0.981   23.665 1115.875]\t26745.662654146414\n",
      "Current:\t[   0.113    0.981   23.178 1140.158]\t26745.736764084984\n",
      "Current:\t[   0.113    0.983   24.015 1105.527]\t26745.617104329394\n",
      "Current:\t[   0.112    0.984   23.981 1113.094]\t26745.657831955534\n",
      "Current:\t[   0.112    0.984   23.233 1119.42 ]\t26745.874294929512\n",
      "Current:\t[   0.115    0.982   24.244 1094.488]\t26745.6747963871\n",
      "Current:\t[   0.112    0.982   23.612 1121.037]\t26745.63526053361\n",
      "Current:\t[   0.114    0.981   24.036 1116.541]\t26745.63383399863\n",
      "Current:\t[   0.112    0.982   23.42  1135.002]\t26745.54770667335\n",
      "Current:\t[   0.111    0.982   23.007 1155.259]\t26745.524637897815\n",
      "Current:\t[   0.111    0.983   23.67  1133.307]\t26745.497611836552\n",
      "Current:\t[   0.11     0.983   23.672 1142.023]\t26745.487420884543\n",
      "Current:\t[   0.112    0.983   23.754 1138.638]\t26745.39289197719\n",
      "Current:\t[   0.112    0.983   23.825 1147.439]\t26745.307445363454\n",
      "Current:\t[   0.109    0.985   23.223 1158.583]\t26745.444534610495\n",
      "Current:\t[   0.108    0.984   22.849 1196.125]\t26745.226772324142\n",
      "Current:\t[   0.105    0.984   22.265 1241.423]\t26745.172660733817\n",
      "Current:\t[   0.107    0.985   23.485 1189.476]\t26745.418487723702\n",
      "Current:\t[   0.106    0.985   22.727 1226.438]\t26745.100052547616\n",
      "Current:\t[   0.104    0.987   22.255 1268.645]\t26745.12091274659\n",
      "Current:\t[   0.106    0.984   22.928 1243.805]\t26744.993763068956\n",
      "Current:\t[   0.104    0.984   22.781 1286.416]\t26744.97465139808\n",
      "Current:\t[   0.107    0.983   22.314 1261.382]\t26745.030527772506\n",
      "Current:\t[   0.099    0.985   21.219 1360.39 ]\t26744.957569680217\n",
      "Current:\t[   0.093    0.986   19.916 1466.866]\t26745.274607235995\n",
      "Current:\t[   0.103    0.985   22.255 1325.89 ]\t26744.589241995618\n",
      "Current:\t[   0.103    0.986   22.25  1368.123]\t26744.338011668762\n",
      "Current:\t[   0.101    0.983   21.554 1411.718]\t26745.236730086188\n",
      "Current:\t[   0.105    0.985   22.434 1272.758]\t26744.82087289599\n",
      "Current:\t[   0.099    0.987   22.028 1382.461]\t26744.875207103527\n",
      "Current:\t[   0.098    0.987   21.185 1405.45 ]\t26744.519216413628\n",
      "Current:\t[   0.103    0.987   22.73  1354.006]\t26744.65680345636\n",
      "Current:\t[   0.105    0.986   22.271 1317.707]\t26744.500328290087\n",
      "Current:\t[   0.1      0.988   21.784 1449.885]\t26744.209022297837\n",
      "Current:\t[   0.097    0.989   21.459 1538.449]\t26744.325706409414\n",
      "Current:\t[   0.1      0.986   21.015 1416.577]\t26744.316021846265\n",
      "Current:\t[   0.106    0.985   22.475 1370.696]\t26744.043801184664\n",
      "Current:\t[   0.11     0.985   23.121 1353.319]\t26743.944356190637\n",
      "Current:\t[   0.101    0.986   21.814 1476.245]\t26743.758816135305\n",
      "Current:\t[   0.098    0.987   21.585 1555.513]\t26743.562032603844\n",
      "Current:\t[   0.102    0.987   21.502 1519.524]\t26743.472025720086\n",
      "Current:\t[   0.101    0.987   21.128 1595.225]\t26743.24419682019\n",
      "Current:\t[   0.104    0.988   22.794 1560.394]\t26743.025175301205\n",
      "Current:\t[   0.106    0.989   23.683 1632.302]\t26742.802212111495\n",
      "Current:\t[   0.108    0.986   22.975 1618.294]\t26742.239781667064\n",
      "Current:\t[   0.112    0.985   23.57  1702.499]\t26741.57826804321\n",
      "Current:\t[   0.099    0.989   21.862 1889.451]\t26741.52328593393\n",
      "Current:\t[   0.094    0.991   21.233 2157.518]\t26741.6509050184\n",
      "Current:\t[   0.11     0.988   23.537 1854.226]\t26741.416359142087\n",
      "Current:\t[   0.116    0.989   24.513 2003.582]\t26741.76444207356\n",
      "Current:\t[   0.113    0.988   25.198 1944.014]\t26740.066865028013\n",
      "Current:\t[   0.118    0.988   27.232 2118.408]\t26739.00079382041\n",
      "Current:\t[   0.114    0.986   24.418 2149.99 ]\t26738.600249079245\n",
      "Current:\t[   0.118    0.985   24.786 2408.834]\t26737.214336618923\n",
      "Current:\t[   0.111    0.991   25.138 2432.96 ]\t26739.37316459266\n",
      "Current:\t[   0.13     0.987   28.484 2517.763]\t26737.062097246984\n",
      "Current:\t[   0.145    0.986   31.795 2831.918]\t26736.650505294787\n",
      "Current:\t[   0.136    0.987   30.939 3041.835]\t26734.269419901517\n",
      "Current:\t[   0.148    0.986   34.64  3635.639]\t26732.799675214384\n",
      "Current:\t[   0.154    0.983   34.088 3064.439]\t26734.087866802813\n",
      "Current:\t[   0.164    0.982   35.422 3852.007]\t26733.85920017938\n",
      "Current:\t[   0.188    0.983   43.187 4283.169]\t26736.357998002462\n",
      "Current:\t[   0.182    0.981   41.873 4585.709]\t26732.643917489127\n",
      "Current:\t[   0.2      0.978   46.912 5462.604]\t26733.516917078457\n",
      "Current:\t[   0.136    0.983   29.825 3285.729]\t26732.35192356164\n",
      "Current:\t[   0.11     0.983   23.144 2787.009]\t26737.444766762776\n",
      "Current:\t[   0.161    0.984   36.792 4615.103]\t26731.000340626066\n",
      "Current:\t[   0.165    0.984   38.144 5390.434]\t26731.07234011774\n",
      "Current:\t[   0.15     0.985   36.142 4209.083]\t26729.907685910577\n",
      "Current:\t[   0.143    0.986   36.503 4387.621]\t26730.226892517272\n",
      "Current:\t[   0.166    0.98    37.676 4712.172]\t26729.971259231123\n",
      "Current:\t[   0.125    0.984   28.345 3825.334]\t26730.26712127728\n",
      "Current:\t[   0.165    0.983   39.653 5395.117]\t26729.443381600817\n",
      "Current:\t[   0.179    0.984   44.567 6449.811]\t26731.416663428045\n",
      "Current:\t[   0.142    0.982   34.116 4455.751]\t26728.469059064973\n",
      "Current:\t[   0.132    0.982   32.778 4376.074]\t26730.042185389124\n",
      "Current:\t[   0.186    0.981   45.45  5560.727]\t26730.82604512178\n",
      "Current:\t[   0.14     0.983   32.621 4259.182]\t26728.955526192596\n",
      "Current:\t[   0.132    0.987   33.59  4447.394]\t26730.57542995286\n",
      "Current:\t[   0.158    0.982   36.655 4645.978]\t26728.99982433702\n",
      "Current:\t[   0.152    0.981   35.38  5168.931]\t26727.885350944238\n",
      "Current:\t[   0.154    0.979   34.999 5648.855]\t26728.076234526907\n",
      "Current:\t[   0.131    0.981   29.733 3869.804]\t26731.129573628867\n",
      "Current:\t[   0.156    0.983   37.173 5013.789]\t26728.466130777466\n",
      "Current:\t[   0.138    0.983   32.99  4802.849]\t26727.859030472468\n",
      "Current:\t[   0.128    0.984   31.158 4881.284]\t26728.25853488483\n",
      "Current:\t[   0.154    0.981   37.209 5461.477]\t26727.281771301972\n",
      "Current:\t[   0.161    0.98    39.503 6062.624]\t26727.064448537003\n",
      "Current:\t[   0.162    0.981   38.407 6068.346]\t26727.684976169385\n",
      "Current:\t[   0.15     0.979   35.967 6037.586]\t26726.97680452758\n",
      "Current:\t[   0.147    0.978   35.364 6549.485]\t26727.523386310786\n",
      "Current:\t[   0.153    0.981   38.053 6316.772]\t26726.71138420597\n",
      "Current:\t[   0.153    0.981   39.39  6890.692]\t26726.879941267554\n",
      "Current:\t[   0.175    0.977   42.975 7439.816]\t26727.710266040256\n",
      "Current:\t[   0.166    0.979   40.479 6780.574]\t26727.117888572295\n",
      "Current:\t[   0.153    0.979   38.594 6530.432]\t26727.13526689499\n",
      "Current:\t[   0.155    0.979   38.547 6414.911]\t26726.825264743224\n",
      "Current:\t[   0.143    0.981   35.557 5635.373]\t26727.26456404695\n",
      "Current:\t[   0.16     0.979   39.248 6494.274]\t26726.86552932268\n",
      "Current:\t[   0.148    0.98    36.405 6569.147]\t26726.721447643584\n",
      "Current:\t[   0.158    0.98    40.16  6859.965]\t26726.78339317154\n",
      "Current:\t[   0.147    0.981   37.335 6586.123]\t26726.909600696847\n",
      "Current:\t[   0.157    0.98    38.77  6517.236]\t26726.726227372514\n",
      "Current:\t[   0.153    0.981   38.147 6716.649]\t26726.5928401146\n",
      "Current:\t[   0.152    0.982   37.947 6867.518]\t26726.638973087694\n",
      "Current:\t[   0.147    0.98    35.528 6199.937]\t26726.697209428563\n",
      "Current:\t[   0.144    0.981   35.297 6384.016]\t26726.569060778736\n",
      "Current:\t[   0.137    0.982   33.56  6317.406]\t26726.648496314538\n",
      "Current:\t[   0.15     0.982   37.107 6239.54 ]\t26726.757901610657\n",
      "Current:\t[   0.149    0.98    36.581 6486.745]\t26726.611539733967\n",
      "Current:\t[   0.144    0.981   34.722 6576.902]\t26726.582109506733\n",
      "Current:\t[   0.147    0.981   36.846 6882.219]\t26726.52627428934\n",
      "Current:\t[   0.147    0.981   37.505 7223.36 ]\t26726.672127315614\n",
      "Current:\t[   0.145    0.982   35.925 6793.148]\t26726.45408857115\n",
      "Current:\t[   0.144    0.982   35.597 6946.349]\t26726.473935176113\n",
      "Current:\t[   0.137    0.981   33.248 6601.494]\t26726.672314339183\n",
      "Current:\t[   0.149    0.981   36.922 6687.86 ]\t26726.50718825445\n",
      "Current:\t[   0.149    0.982   37.772 6796.72 ]\t26726.70992054964\n",
      "Current:\t[   0.145    0.981   35.485 6631.856]\t26726.497362489812\n",
      "Current:\t[   0.15     0.981   37.292 7113.526]\t26726.479571297252\n",
      "Current:\t[   0.147    0.981   35.967 6730.976]\t26726.441253995356\n",
      "Current:\t[   0.147    0.981   35.527 6655.354]\t26726.467739909902\n",
      "Current:\t[   0.144    0.981   35.412 6946.893]\t26726.40067610562\n",
      "Current:\t[   0.142    0.982   34.657 7076.409]\t26726.382457925443\n",
      "Current:\t[   0.147    0.982   36.436 7225.173]\t26726.457014222917\n",
      "Current:\t[   0.141    0.982   34.2   6799.327]\t26726.398399834212\n",
      "Current:\t[   0.141    0.981   33.939 6474.757]\t26726.524573424453\n",
      "Current:\t[   0.145    0.982   35.812 7037.569]\t26726.407479161517\n",
      "Current:\t[   0.143    0.982   34.393 7028.993]\t26726.38092989976\n",
      "Current:\t[   0.141    0.982   33.626 7146.915]\t26726.431981696285\n",
      "Current:\t[   0.139    0.982   33.564 7240.173]\t26726.384673985347\n",
      "Current:\t[   0.137    0.982   32.596 7034.882]\t26726.446765470486\n",
      "Current:\t[   0.143    0.982   35.008 7036.897]\t26726.37823782027\n",
      "Current:\t[   0.142    0.982   34.611 7391.909]\t26726.374687606196\n",
      "Current:\t[   0.143    0.981   34.816 7688.2  ]\t26726.410737471524\n",
      "Current:\t[   0.146    0.981   35.77  7026.931]\t26726.39856814465\n",
      "Current:\t[   0.141    0.982   34.116 7186.863]\t26726.37044858906\n",
      "Current:\t[   0.142    0.982   34.406 7245.922]\t26726.374380221278\n",
      "Current:\t[   0.141    0.982   34.677 7401.803]\t26726.39063328483\n",
      "Current:\t[   0.142    0.982   34.464 7122.195]\t26726.36875255085\n",
      "Current:\t[   0.14     0.982   33.791 7436.547]\t26726.38977961846\n",
      "Current:\t[   0.143    0.982   34.703 7136.81 ]\t26726.36799090456\n",
      "Current:\t[   0.142    0.982   34.234 6953.986]\t26726.389066236246\n",
      "Current:\t[   0.142    0.982   34.517 7282.428]\t26726.367141498566\n",
      "Current:\t[   0.142    0.982   34.494 7118.226]\t26726.378322572804\n",
      "Current:\t[   0.142    0.982   34.428 7213.998]\t26726.367839136496\n",
      "Current:\t[   0.144    0.982   34.94  7190.853]\t26726.370396138987\n",
      "Current:\t[   0.143    0.982   34.734 7189.855]\t26726.367129749793\n",
      "Current:\t[   0.142    0.982   34.727 7289.35 ]\t26726.368874811276\n",
      "Current:\t[   0.142    0.982   34.53  7163.984]\t26726.36665319686\n",
      "Current:\t[   0.142    0.982   34.401 7288.323]\t26726.370070533256\n",
      "Current:\t[   0.142    0.982   34.628 7174.688]\t26726.366306411222\n",
      "Current:\t[   0.143    0.982   34.776 7191.48 ]\t26726.366899168315\n",
      "Current:\t[   0.143    0.982   34.817 7077.575]\t26726.371372176905\n",
      "Current:\t[   0.142    0.982   34.592 7231.215]\t26726.36586077803\n",
      "Current:\t[   0.142    0.982   34.528 7190.828]\t26726.36701137437\n",
      "Current:\t[   0.142    0.982   34.58  7190.585]\t26726.36615447588\n",
      "Current:\t[   0.142    0.982   34.388 7188.756]\t26726.36710141458\n",
      "Current:\t[   0.143    0.982   34.679 7190.799]\t26726.366105765468\n",
      "Current:\t[   0.142    0.982   34.71  7229.66 ]\t26726.36712350533\n",
      "Current:\t[   0.142    0.982   34.575 7180.403]\t26726.36601254963\n",
      "Current:\t[   0.142    0.982   34.585 7221.813]\t26726.36659225592\n",
      "Current:\t[   0.142    0.982   34.617 7186.469]\t26726.365943607772\n",
      "Current:\t[   0.143    0.982   34.651 7203.858]\t26726.365953046257\n",
      "Current:\t[   0.142    0.982   34.538 7210.174]\t26726.366091450647\n",
      "Current:\t[   0.142    0.982   34.573 7205.33 ]\t26726.365877363267\n",
      "Current:\t[   0.142    0.982   34.642 7233.033]\t26726.365875358326\n",
      "Current:\t[   0.142    0.982   34.561 7224.166]\t26726.365959856426\n",
      "Current:\t[   0.143    0.982   34.629 7208.935]\t26726.365820348037\n",
      "Current:\t[   0.142    0.982   34.601 7252.787]\t26726.366071803786\n",
      "Current:\t[   0.142    0.982   34.613 7203.049]\t26726.36580646907\n",
      "Current:\t[   0.143    0.982   34.664 7232.786]\t26726.36593235295\n",
      "Current:\t[   0.142    0.982   34.596 7212.194]\t26726.36579650082\n",
      "Current:\t[   0.142    0.982   34.573 7194.663]\t26726.365855615288\n",
      "Current:\t[   0.143    0.982   34.614 7178.205]\t26726.366171819915\n",
      "Current:\t[   0.142    0.982   34.597 7217.963]\t26726.36577309918\n",
      "Current:\t[   0.143    0.982   34.645 7226.407]\t26726.365863898027\n",
      "Current:\t[   0.142    0.982   34.591 7202.599]\t26726.36579772152\n",
      "Current:\t[   0.142    0.982   34.57  7208.967]\t26726.36579372052\n",
      "Current:\t[   0.142    0.982   34.564 7217.813]\t26726.365799693216\n",
      "Current:\t[   0.142    0.982   34.576 7214.122]\t26726.365778842308\n",
      "Current:\t[   0.142    0.982   34.579 7224.024]\t26726.36579996596\n",
      "Current:\t[   0.142    0.982   34.588 7207.955]\t26726.3657782519\n",
      "Current:\t[   0.142    0.982   34.569 7212.309]\t26726.365821227508\n",
      "Current:\t[   0.142    0.982   34.589 7212.223]\t26726.36577605222\n",
      "Current:\t[   0.142    0.982   34.605 7217.164]\t26726.36579204541\n",
      "Current:\t[   0.142    0.982   34.597 7215.115]\t26726.36577639264\n",
      "Current:\t[   0.142    0.982   34.609 7212.506]\t26726.36577218783\n",
      "Current:\t[   0.142    0.982   34.626 7211.698]\t26726.36578322638\n",
      "Current:\t[   0.142    0.982   34.608 7220.948]\t26726.365777628358\n",
      "Current:\t[   0.142    0.982   34.603 7217.7  ]\t26726.36577173027\n",
      "Current:\t[   0.142    0.982   34.603 7215.081]\t26726.365770813423\n",
      "Current:\t[   0.142    0.982   34.606 7215.064]\t26726.36578129201\n",
      "Current:\t[   0.142    0.982   34.617 7219.402]\t26726.36577756612\n",
      "Current:\t[   0.142    0.982   34.596 7214.018]\t26726.36577029035\n",
      "Current:\t[   0.142    0.982   34.609 7211.689]\t26726.36578303905\n",
      "Current:\t[   0.142    0.982   34.6   7216.394]\t26726.365768985706\n",
      "Current:\t[   0.142    0.982   34.592 7219.09 ]\t26726.365774958507\n",
      "Current:\t[   0.142    0.982   34.605 7214.152]\t26726.365769418313\n",
      "Current:\t[   0.142    0.982   34.599 7212.123]\t26726.365770754444\n",
      "Current:\t[   0.142    0.982   34.597 7213.263]\t26726.3657704071\n",
      "Current:\t[   0.142    0.982   34.6   7216.791]\t26726.36577522519\n",
      "Current:\t[   0.142    0.982   34.599 7213.29 ]\t26726.365768781143\n",
      "Current:\t[   0.142    0.982   34.603 7215.664]\t26726.36576998477\n",
      "Current:\t[   0.142    0.982   34.607 7215.733]\t26726.365769704036\n",
      "Current:\t[   0.142    0.982   34.603 7214.12 ]\t26726.36576822747\n",
      "Current:\t[   0.142    0.982   34.602 7213.348]\t26726.365769842214\n",
      "Current:\t[   0.142    0.982   34.596 7213.245]\t26726.36577088745\n",
      "Current:\t[   0.142    0.982   34.605 7215.111]\t26726.3657684038\n",
      "Current:\t[   0.142    0.982   34.598 7215.305]\t26726.36576934065\n",
      "Current:\t[   0.142    0.982   34.6   7215.017]\t26726.365768376985\n",
      "Current:\t[   0.142    0.982   34.603 7212.374]\t26726.365768792763\n",
      "Current:\t[   0.142    0.982   34.602 7213.379]\t26726.365768194257\n",
      "Current:\t[   0.142    0.982   34.606 7215.524]\t26726.36576880925\n",
      "Current:\t[   0.142    0.982   34.601 7213.848]\t26726.365768189055\n",
      "Current:\t[   0.142    0.982   34.598 7213.072]\t26726.365768379852\n",
      "Current:\t[   0.142    0.982   34.6   7213.581]\t26726.36576807984\n",
      "Current:\t[   0.142    0.982   34.603 7212.447]\t26726.36576907412\n",
      "Current:\t[   0.142    0.982   34.601 7214.375]\t26726.365768029944\n",
      "Current:\t[   0.142    0.982   34.599 7213.472]\t26726.365768807696\n",
      "Current:\t[   0.142    0.982   34.602 7213.958]\t26726.36576801298\n",
      "Current:\t[   0.142    0.982   34.599 7214.502]\t26726.36576813018\n",
      "Current:\t[   0.142    0.982   34.6   7214.36 ]\t26726.365768314965\n",
      "Current:\t[   0.142    0.982   34.601 7213.976]\t26726.36576803506\n",
      "Current:\t[   0.142    0.982   34.602 7213.443]\t26726.36576810276\n",
      "Current:\t[   0.142    0.982   34.602 7213.708]\t26726.365768017546\n",
      "Current:\t[   0.142    0.982   34.602 7214.427]\t26726.365768017688\n",
      "Current:\t[   0.142    0.982   34.603 7214.258]\t26726.365767973566\n",
      "Current:\t[   0.142    0.982   34.604 7214.398]\t26726.36576803536\n",
      "Current:\t[   0.142    0.982   34.603 7213.801]\t26726.365768070136\n",
      "Current:\t[   0.142    0.982   34.601 7214.231]\t26726.365767979492\n",
      "Current:\t[   0.142    0.982   34.601 7213.65 ]\t26726.365768043383\n",
      "Current:\t[   0.142    0.982   34.602 7214.233]\t26726.36576797753\n",
      "Current:\t[   0.142    0.982   34.602 7214.632]\t26726.365768017655\n",
      "Current:\t[   0.142    0.982   34.602 7213.939]\t26726.365767977644\n",
      "Current:\t[   0.142    0.982   34.602 7214.372]\t26726.365768055897\n",
      "Current:\t[   0.142    0.982   34.602 7214.062]\t26726.36576797357\n",
      "Current:\t[   0.142    0.982   34.603 7214.014]\t26726.365767985542\n",
      "Current:\t[   0.142    0.982   34.602 7214.177]\t26726.36576796751\n",
      "Current:\t[   0.142    0.982   34.602 7214.426]\t26726.365767980245\n",
      "Current:\t[   0.142    0.982   34.602 7214.061]\t26726.365767968775\n",
      "Current:\t[   0.142    0.982   34.602 7214.046]\t26726.365767970816\n",
      "Current:\t[   0.142    0.982   34.602 7214.209]\t26726.36576797452\n",
      "Current:\t[   0.142    0.982   34.602 7214.098]\t26726.365767967247\n",
      "Current:\t[   0.142    0.982   34.601 7213.933]\t26726.36576798556\n",
      "Current:\t[   0.142    0.982   34.602 7214.177]\t26726.365767965315\n",
      "Current:\t[   0.142    0.982   34.602 7214.211]\t26726.365767978652\n",
      "Current:\t[   0.142    0.982   34.602 7214.087]\t26726.36576796692\n",
      "Current:\t[   0.142    0.982   34.602 7214.209]\t26726.365767967825\n",
      "Current:\t[   0.142    0.982   34.602 7214.172]\t26726.36576796517\n",
      "Current:\t[   0.142    0.982   34.602 7214.09 ]\t26726.36576797605\n",
      "Current:\t[   0.142    0.982   34.602 7214.155]\t26726.36576796412\n",
      "Current:\t[   0.142    0.982   34.602 7214.197]\t26726.365767968153\n",
      "Current:\t[   0.142    0.982   34.602 7214.123]\t26726.365767964297\n",
      "Current:\t[   0.142    0.982   34.602 7214.226]\t26726.365767966076\n",
      "Current:\t[   0.142    0.982   34.602 7214.191]\t26726.365767967218\n",
      "Current:\t[   0.142    0.982   34.602 7214.139]\t26726.365767962452\n",
      "Current:\t[   0.142    0.982   34.602 7214.163]\t26726.365767966192\n",
      "Current:\t[   0.142    0.982   34.602 7214.166]\t26726.365767964555\n",
      "Current:\t[   0.142    0.982   34.602 7214.121]\t26726.36576796338\n",
      "Current:\t[   0.142    0.982   34.602 7214.127]\t26726.36576796464\n",
      "Current:\t[   0.142    0.982   34.602 7214.136]\t26726.365767964184\n",
      "Current:\t[   0.142    0.982   34.602 7214.11 ]\t26726.365767968848\n",
      "Current:\t[   0.142    0.982   34.602 7214.152]\t26726.36576796727\n",
      "Current:\t[   0.142    0.982   34.602 7214.13 ]\t26726.365767964413\n",
      "Current:\t[   0.142    0.982   34.602 7214.147]\t26726.36576796277\n",
      "Current:\t[   0.142    0.982   34.602 7214.138]\t26726.365767960855\n",
      "Current:\t[   0.142    0.982   34.602 7214.152]\t26726.36576796453\n",
      "Current:\t[   0.142    0.982   34.602 7214.124]\t26726.365767966392\n",
      "Current:\t[   0.142    0.982   34.602 7214.145]\t26726.365767963904\n",
      "CPU times: user 7h 37min 52s, sys: 1min 52s, total: 7h 39min 44s\n",
      "Wall time: 33min 52s\n"
     ]
    },
    {
     "data": {
      "text/plain": [
       "       message: Optimization terminated successfully.\n",
       "       success: True\n",
       "        status: 0\n",
       "           fun: 26726.365767960855\n",
       "             x: [ 1.424e-01  9.817e-01  3.460e+01  7.214e+03]\n",
       "           nit: 179\n",
       "          nfev: 317\n",
       " final_simplex: (array([[ 1.424e-01,  9.817e-01,  3.460e+01,  7.214e+03],\n",
       "                       [ 1.424e-01,  9.817e-01,  3.460e+01,  7.214e+03],\n",
       "                       ...,\n",
       "                       [ 1.424e-01,  9.817e-01,  3.460e+01,  7.214e+03],\n",
       "                       [ 1.424e-01,  9.817e-01,  3.460e+01,  7.214e+03]]), array([ 2.673e+04,  2.673e+04,  2.673e+04,  2.673e+04,\n",
       "                        2.673e+04]))"
      ]
     },
     "execution_count": 7,
     "metadata": {},
     "output_type": "execute_result"
    }
   ],
   "source": [
    "%%time\n",
    "prob_factor = 1\n",
    "\n",
    "idf = callset_df\n",
    "\n",
    "# inference.maximum_likelihood_all_reads(\n",
    "#     idf[\"read_length\"].to_numpy(),\n",
    "#     idf[\"high_quality_snp_positions\"].to_numpy(),\n",
    "#     idf[\"high_quality_snps_idx_transitions\"].to_numpy(),\n",
    "#     idf[\"between_high_quality_snps_bp\"].to_numpy() * 1e-8 * prob_factor,\n",
    "#     numba.typed.List(np.repeat(5000 * 1e-8 * prob_factor, len(idf))),\n",
    "#     numba.typed.List(np.repeat(5000 * 1e-8 * prob_factor, len(idf))),\n",
    "#     idf[\"weight\"].to_numpy(),\n",
    "#     q_range = (0.05, 0.5),   \n",
    "#     m_range = (1, 1),\n",
    "#     GC_tract_mean_range = (5, 200),\n",
    "#     GC_tract_mean2_range = (100, 10000),\n",
    "#     read_margin_in_bp = 5000,\n",
    "#     x0 = [0.1, 0.98, 30, 1000],\n",
    "# )\n",
    "\n",
    "inference.maximum_likelihood_all_reads(\n",
    "    idf[\"read_length\"].to_numpy(),\n",
    "    idf[\"high_quality_snp_positions\"].to_numpy(),\n",
    "    idf[\"high_quality_snps_idx_transitions\"].to_numpy(),\n",
    "    idf[\"between_high_quality_snps_cM\"].to_numpy() * 1e-2 * prob_factor,\n",
    "    idf[\"before_read_cM\"].to_numpy() * 1e-2 * prob_factor,\n",
    "    idf[\"after_read_cM\"].to_numpy() * 1e-2 * prob_factor,\n",
    "    idf[\"weight\"].to_numpy(),\n",
    "    q_range = (0.05, 0.5),   \n",
    "    m_range = (0.8, 1),\n",
    "    GC_tract_mean_range = (5, 1000),\n",
    "    GC_tract_mean2_range = (100, 10000),\n",
    "    read_margin_in_bp = 5000,\n",
    "    x0 = [0.1, 0.98, 30, 1000],\n",
    ")\n"
   ]
  },
  {
   "cell_type": "markdown",
   "id": "5c0285ee-8406-45ea-9b9f-280c7fd3bcd0",
   "metadata": {},
   "source": [
    "# Read results from snakemake + bootstrap"
   ]
  },
  {
   "cell_type": "code",
   "execution_count": 11,
   "id": "014a5b32-68bb-48b6-9a93-6c8b7bd1dfd1",
   "metadata": {
    "tags": []
   },
   "outputs": [],
   "source": [
    "import glob, pickle\n",
    "\n",
    "pcls = glob.glob(\"/lustre/scratch126/casm/team154pc/sl17/03.sperm/02.results/08.tract_length/inference.sample_every=1.bootstrap=1.rep=*.pcl\")\n",
    "reses = [pickle.load(open(pcl, \"rb\")) for pcl in pcls]\n",
    "all_sols = np.vstack([x.x for x in reses])"
   ]
  },
  {
   "cell_type": "code",
   "execution_count": 214,
   "id": "16a34f88-da53-43c1-8a0b-2eacb6e9e991",
   "metadata": {
    "tags": []
   },
   "outputs": [
    {
     "data": {
      "image/png": "[encoded data removed]",
      "text/plain": [
       "<Figure size 640x480 with 1 Axes>"
      ]
     },
     "metadata": {},
     "output_type": "display_data"
    }
   ],
   "source": [
    "plt.hist(all_sols[:,0], bins=25);"
   ]
  },
  {
   "cell_type": "code",
   "execution_count": 215,
   "id": "657982e9-4737-4826-aa37-4dce5e2fc15f",
   "metadata": {
    "tags": []
   },
   "outputs": [
    {
     "name": "stdout",
     "output_type": "stream",
     "text": [
      "CI for q: [0.10543406 0.14208464 0.20236679]\n"
     ]
    }
   ],
   "source": [
    "print(\"CI for q:\", np.quantile(all_sols[:,0], q=[0.025, 0.5, 1-0.025]))"
   ]
  },
  {
   "cell_type": "code",
   "execution_count": 14,
   "id": "2f154cc5-9f76-462c-bc7e-8fa0a040149e",
   "metadata": {
    "tags": []
   },
   "outputs": [
    {
     "name": "stdout",
     "output_type": "stream",
     "text": [
      "CI for m: [0.02849401 0.01872182 0.01180842]\n"
     ]
    }
   ],
   "source": [
    "print(\"CI for m:\", 1-np.quantile(all_sols[:,1], q=[0.025, 0.5, 1-0.025]))"
   ]
  },
  {
   "cell_type": "code",
   "execution_count": 217,
   "id": "180b3f4f-2393-4b07-9805-33eb452a0f80",
   "metadata": {
    "tags": []
   },
   "outputs": [
    {
     "name": "stdout",
     "output_type": "stream",
     "text": [
      "CI for L1: [23.52249596 34.97330938 57.54320209]\n"
     ]
    }
   ],
   "source": [
    "print(\"CI for L1:\", np.quantile(all_sols[:,2], q=[0.025, 0.5, 1-0.025]))"
   ]
  },
  {
   "cell_type": "code",
   "execution_count": 218,
   "id": "de589c50-c6f8-48b7-ba99-4a1fbbacc3c6",
   "metadata": {
    "tags": []
   },
   "outputs": [
    {
     "name": "stdout",
     "output_type": "stream",
     "text": [
      "CI for L2: [ 1022.97678097  7316.43965419 11306.29357007]\n"
     ]
    }
   ],
   "source": [
    "print(\"CI for L2:\", np.quantile(all_sols[:,3], q=[0.025, 0.5, 1-0.025]))"
   ]
  },
  {
   "cell_type": "code",
   "execution_count": null,
   "id": "7ea1cf4b-1688-4078-ac2a-3c84bd7eaf06",
   "metadata": {},
   "outputs": [],
   "source": []
  },
  {
   "cell_type": "code",
   "execution_count": 205,
   "id": "73110d06-a493-4a73-82e9-45cf107e2ed0",
   "metadata": {
    "tags": []
   },
   "outputs": [
    {
     "data": {
      "text/plain": [
       "1.3132703631479545e-59"
      ]
     },
     "execution_count": 205,
     "metadata": {},
     "output_type": "execute_result"
    }
   ],
   "source": [
    "np.exp(((2*4 - 2*(-26726.36)) - (2*2 - 2*(-26863.94)))/2)"
   ]
  },
  {
   "cell_type": "code",
   "execution_count": null,
   "id": "6415ded7-0558-4234-8d69-be879241a55f",
   "metadata": {},
   "outputs": [],
   "source": []
  },
  {
   "cell_type": "code",
   "execution_count": null,
   "id": "524f8baf-014f-4afb-b32d-3caf26715d14",
   "metadata": {},
   "outputs": [],
   "source": []
  }
 ],
 "metadata": {
  "kernelspec": {
   "display_name": "sperm",
   "language": "python",
   "name": "sperm"
  },
  "language_info": {
   "codemirror_mode": {
    "name": "ipython",
    "version": 3
   },
   "file_extension": ".py",
   "mimetype": "text/x-python",
   "name": "python",
   "nbconvert_exporter": "python",
   "pygments_lexer": "ipython3",
   "version": "3.11.10"
  }
 },
 "nbformat": 4,
 "nbformat_minor": 5
}
