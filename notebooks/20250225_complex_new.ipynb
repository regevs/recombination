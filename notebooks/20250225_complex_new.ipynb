{
 "cells": [
  {
   "cell_type": "code",
   "execution_count": 1,
   "id": "075ab557-98a9-49fa-a936-15671a2ae232",
   "metadata": {},
   "outputs": [],
   "source": [
    "%load_ext autoreload\n",
    "%autoreload 2"
   ]
  },
  {
   "cell_type": "code",
   "execution_count": 2,
   "id": "c882f5ab-2a04-48d3-b68b-944e7ea5db5b",
   "metadata": {},
   "outputs": [],
   "source": [
    "import numpy as np\n",
    "import pandas as pd\n",
    "import matplotlib as mpl\n",
    "import matplotlib.pyplot as plt\n",
    "import matplotlib.ticker as ticker\n",
    "import numba\n",
    "import numba.typed\n",
    "\n",
    "from pathlib import Path\n",
    "import glob\n",
    "import tqdm\n",
    "import sys\n",
    "import seaborn as sns\n",
    "import scipy.stats\n",
    "import os\n",
    "import pysam\n",
    "import pprint\n",
    "import pickle\n",
    "import joblib\n",
    "import subprocess\n",
    "import io\n",
    "import itertools\n",
    "import warnings\n",
    "import statsmodels.stats.proportion\n",
    "\n",
    "import polars as pl\n",
    "pl.Config.set_tbl_rows(-1)\n",
    "pl.Config.set_fmt_str_lengths(50)\n",
    "\n",
    "\n",
    "from brokenaxes import brokenaxes\n",
    "from adjustText import adjust_text\n",
    "\n",
    "\n",
    "# This is needed before pybedtools to make sure bedtools is imported on sanger JupyterHub \n",
    "os.environ[\"PATH\"] += \":\" + os.path.join(sys.prefix, \"bin\")\n",
    "import pybedtools\n",
    "\n",
    "pd.set_option('display.max_rows', 1000)\n"
   ]
  },
  {
   "cell_type": "code",
   "execution_count": 3,
   "id": "8cd16bc4-107d-41f5-8350-c9a7c0ab3468",
   "metadata": {},
   "outputs": [],
   "source": [
    "sys.path.append(str(Path(os.getcwd()).parent))\n",
    "from src import liftover, annotate, diagnostics, inference\n",
    "from src.IDs import *\n"
   ]
  },
  {
   "cell_type": "markdown",
   "id": "91e9b5d7-99de-4ac7-aeed-16e52c9313b1",
   "metadata": {},
   "source": [
    "# Add relevant fields to the dataframe of all reads"
   ]
  },
  {
   "cell_type": "markdown",
   "id": "4f878811-ae5f-44a4-8795-519dde5db9ac",
   "metadata": {},
   "source": [
    "## Create reads dataframe"
   ]
  },
  {
   "cell_type": "code",
   "execution_count": 4,
   "id": "789e58f4-05af-4405-9c45-bf18a93cd25e",
   "metadata": {
    "tags": []
   },
   "outputs": [],
   "source": [
    "rahbari_df = pl.read_csv(\"/nfs/users/nfs_r/rs42/rs42/git/sperm/configs/Rahbari.tsv\", separator='\\t')"
   ]
  },
  {
   "cell_type": "code",
   "execution_count": 5,
   "id": "2f34c363-bf3e-4323-b213-b70b946bffd0",
   "metadata": {
    "tags": []
   },
   "outputs": [],
   "source": [
    "sudmant_df = pl.read_csv(\"/nfs/users/nfs_r/rs42/rs42/git/sperm/configs/Sudmant.tsv\", separator='\\t')"
   ]
  },
  {
   "cell_type": "code",
   "execution_count": 6,
   "id": "9399e1d2-3992-49e1-98e7-0d16ccbeb001",
   "metadata": {
    "tags": []
   },
   "outputs": [
    {
     "name": "stderr",
     "output_type": "stream",
     "text": [
      "9it [00:00, 3006.67it/s]"
     ]
    },
    {
     "name": "stdout",
     "output_type": "stream",
     "text": [
      "CPU times: user 5.59 ms, sys: 4.62 ms, total: 10.2 ms\n",
      "Wall time: 7.92 ms\n"
     ]
    },
    {
     "name": "stderr",
     "output_type": "stream",
     "text": [
      "\n"
     ]
    }
   ],
   "source": [
    "%%time\n",
    "rahbari_reads_df = pl.concat([\n",
    "    pl.scan_parquet(\n",
    "        f\"/lustre/scratch122/tol/projects/sperm/results/Rahbari_20250212/read_analysis/{sample_set}/{sample_id}/reads/{chrom}/all_reads_structure_annotated.parquet\",\n",
    "    ) \n",
    "    for sample_id, sample_set in tqdm.tqdm(rahbari_df.select(\"sample_id\", \"sample_set\").unique().iter_rows())\n",
    "    for chrom in aut_chrom_names\n",
    "])"
   ]
  },
  {
   "cell_type": "code",
   "execution_count": 7,
   "id": "11c242eb-56d2-41b2-a943-c0f275d8f3e5",
   "metadata": {
    "tags": []
   },
   "outputs": [
    {
     "name": "stderr",
     "output_type": "stream",
     "text": [
      "6it [00:00, 3728.82it/s]"
     ]
    },
    {
     "name": "stdout",
     "output_type": "stream",
     "text": [
      "CPU times: user 4.75 ms, sys: 64 μs, total: 4.81 ms\n",
      "Wall time: 3.35 ms\n"
     ]
    },
    {
     "name": "stderr",
     "output_type": "stream",
     "text": [
      "\n"
     ]
    }
   ],
   "source": [
    "%%time\n",
    "sudmant_reads_df = pl.concat([\n",
    "    pl.scan_parquet(\n",
    "        f\"/lustre/scratch122/tol/projects/sperm/results/Sudmant_20241121/read_analysis/{sample_set}/{sample_id}/reads/{chrom}/all_reads_structure_annotated.parquet\",\n",
    "    ) \n",
    "    for sample_id, sample_set in tqdm.tqdm(sudmant_df.select(\"sample_id\", \"sample_set\").unique().iter_rows())\n",
    "    for chrom in aut_chrom_names\n",
    "])"
   ]
  },
  {
   "cell_type": "code",
   "execution_count": 8,
   "id": "c212eaaa-aeea-4e50-ba0f-0ff4a95c85c4",
   "metadata": {
    "tags": []
   },
   "outputs": [],
   "source": [
    "reads_df = pl.concat([rahbari_reads_df, sudmant_reads_df])"
   ]
  },
  {
   "cell_type": "code",
   "execution_count": null,
   "id": "a7b428e5-76e4-45cc-8f1d-c8cbc7227e98",
   "metadata": {},
   "outputs": [],
   "source": []
  },
  {
   "cell_type": "markdown",
   "id": "4f7ff80b-960b-4dee-a1cc-953f96deffe8",
   "metadata": {},
   "source": [
    "## Subset of reads with at least 3 transitions"
   ]
  },
  {
   "cell_type": "code",
   "execution_count": 9,
   "id": "d3115d73-ee4d-4ba1-9aa0-e9347c5633a8",
   "metadata": {},
   "outputs": [
    {
     "name": "stdout",
     "output_type": "stream",
     "text": [
      "CPU times: user 4min 3s, sys: 1min 50s, total: 5min 54s\n",
      "Wall time: 10min 49s\n"
     ]
    }
   ],
   "source": [
    "%%time\n",
    "dense_reads_with_detection_df = (reads_df\n",
    "    .select(\n",
    "        'read_name',\n",
    "        'read_length',\n",
    "        'chrom',\n",
    "        'sample_id',\n",
    "        'grch37_chromosome_size_in_bp',\n",
    "        'high_quality_snp_positions',\n",
    "        'CO_active_interval_start',\n",
    "        'CO_active_interval_end',\n",
    "        'CO_active_interval_length_bp',\n",
    "        'grch37_reference_start',\n",
    "        'grch38_reference_start',\n",
    "        'grch37_reference_end',\n",
    "        'grch38_reference_end',\n",
    "        'grch37_reference_start_cM',\n",
    "        'grch37_reference_end_cM',\n",
    "        'CO_active_interval_start_cM',\n",
    "        'CO_active_interval_end_cM',\n",
    "        'CO_active_interval_crossover_prob',\n",
    "        \"mid_CO_active_interval_crossover_prob\",\n",
    "        'AA_motif_center_pos',\n",
    "        'AA_heat',\n",
    "        'AA_motif_strand',\n",
    "        'CL4_motif_center_pos',\n",
    "        'CL4_heat',\n",
    "        'CL4_motif_strand',\n",
    "        'is_high_quality_read',\n",
    "        \"min_coverage_hap1\",\n",
    "        \"min_coverage_hap2\",\n",
    "        \"high_quality_classification_class\",\n",
    "        \"snp_positions_on_read\", \n",
    "        \"idx_transitions\",\n",
    "        \"H3K4me3_signal_mean\",\n",
    "        \"CTCF_signal_sum\",\n",
    "        \"CTCF_signal_mean\",\n",
    "        \"high_quality_classification_in_detectable_class\",\n",
    "        \"full_read_crossover_prob\",\n",
    "        \"total_mismatches\",\n",
    "        \"is_contamination\",\n",
    "    )\n",
    "    #.filter(pl.col(\"idx_transitions\").list.len() >= 3)\n",
    "    .filter(pl.col(\"high_quality_classification_class\") == \"CNCO\")\n",
    "    .filter(\"is_high_quality_read\")\n",
    "    .filter(pl.col(\"CO_active_interval_crossover_prob\") > 0)\n",
    "    .collect(streaming=True)\n",
    ")"
   ]
  },
  {
   "cell_type": "code",
   "execution_count": 10,
   "id": "35e494e9-b686-4c54-b03d-b019bf7544d9",
   "metadata": {
    "tags": []
   },
   "outputs": [
    {
     "name": "stdout",
     "output_type": "stream",
     "text": [
      "# of complex reads before contamination filtering: 1301\n"
     ]
    }
   ],
   "source": [
    "print(\"# of complex reads before contamination filtering:\", len(dense_reads_with_detection_df))"
   ]
  },
  {
   "cell_type": "code",
   "execution_count": 11,
   "id": "dccfee43-6f90-49d8-9f7a-7337a19a7b93",
   "metadata": {
    "tags": []
   },
   "outputs": [],
   "source": [
    "dense_reads_with_detection_df = dense_reads_with_detection_df.filter(~pl.col(\"is_contamination\"))"
   ]
  },
  {
   "cell_type": "code",
   "execution_count": 12,
   "id": "cb25ac5c-acbe-4e18-b67e-74166918f51b",
   "metadata": {
    "tags": []
   },
   "outputs": [
    {
     "name": "stdout",
     "output_type": "stream",
     "text": [
      "# of complex reads after contamination filtering: 188\n"
     ]
    }
   ],
   "source": [
    "print(\"# of complex reads after contamination filtering:\", len(dense_reads_with_detection_df))"
   ]
  },
  {
   "cell_type": "code",
   "execution_count": null,
   "id": "489ced24-80f3-4956-9e26-56d209fbb794",
   "metadata": {},
   "outputs": [],
   "source": []
  },
  {
   "cell_type": "code",
   "execution_count": null,
   "id": "bf127c06-8250-4259-857f-33af51e5e8bc",
   "metadata": {},
   "outputs": [],
   "source": []
  },
  {
   "cell_type": "code",
   "execution_count": null,
   "id": "563a2903-4033-46a2-a30c-70314025082f",
   "metadata": {},
   "outputs": [],
   "source": []
  },
  {
   "cell_type": "markdown",
   "id": "437a116f-47aa-4355-a1ed-600de0fa77d1",
   "metadata": {},
   "source": [
    "# Basic stats"
   ]
  },
  {
   "cell_type": "code",
   "execution_count": 13,
   "id": "dca2145b-c993-410d-aae4-1cca691a4375",
   "metadata": {
    "tags": []
   },
   "outputs": [
    {
     "name": "stdout",
     "output_type": "stream",
     "text": [
      "# of complex reads here: 188\n"
     ]
    }
   ],
   "source": [
    "print(\"# of complex reads here:\", len(dense_reads_with_detection_df))"
   ]
  },
  {
   "cell_type": "markdown",
   "id": "3c3daec3-2aeb-4271-b15b-6ba9e017ff50",
   "metadata": {},
   "source": [
    "## Distribution of number of switches"
   ]
  },
  {
   "cell_type": "code",
   "execution_count": 14,
   "id": "13dabfc9-2161-41ea-9e88-e9d975434bad",
   "metadata": {
    "tags": []
   },
   "outputs": [
    {
     "data": {
      "text/html": [
       "<div><style>\n",
       ".dataframe > thead > tr,\n",
       ".dataframe > tbody > tr {\n",
       "  text-align: right;\n",
       "  white-space: pre-wrap;\n",
       "}\n",
       "</style>\n",
       "<small>shape: (7, 2)</small><table border=\"1\" class=\"dataframe\"><thead><tr><th>n_switches</th><th>len</th></tr><tr><td>u32</td><td>u32</td></tr></thead><tbody><tr><td>3</td><td>103</td></tr><tr><td>4</td><td>55</td></tr><tr><td>5</td><td>11</td></tr><tr><td>6</td><td>13</td></tr><tr><td>7</td><td>3</td></tr><tr><td>8</td><td>2</td></tr><tr><td>9</td><td>1</td></tr></tbody></table></div>"
      ],
      "text/plain": [
       "shape: (7, 2)\n",
       "┌────────────┬─────┐\n",
       "│ n_switches ┆ len │\n",
       "│ ---        ┆ --- │\n",
       "│ u32        ┆ u32 │\n",
       "╞════════════╪═════╡\n",
       "│ 3          ┆ 103 │\n",
       "│ 4          ┆ 55  │\n",
       "│ 5          ┆ 11  │\n",
       "│ 6          ┆ 13  │\n",
       "│ 7          ┆ 3   │\n",
       "│ 8          ┆ 2   │\n",
       "│ 9          ┆ 1   │\n",
       "└────────────┴─────┘"
      ]
     },
     "metadata": {},
     "output_type": "display_data"
    }
   ],
   "source": [
    "n_switches_df = (dense_reads_with_detection_df\n",
    "    .select(pl.col(\"idx_transitions\").list.len().alias(\"n_switches\"))\n",
    "    .group_by(\"n_switches\")\n",
    "    .len()\n",
    "    .sort(\"n_switches\")\n",
    ")\n",
    "\n",
    "display(n_switches_df)"
   ]
  },
  {
   "cell_type": "code",
   "execution_count": 15,
   "id": "cc3ce9ed-d31f-42ab-83c7-1c25a088fcb8",
   "metadata": {
    "tags": []
   },
   "outputs": [
    {
     "data": {
      "image/png": "[encoded data removed]",
      "text/plain": [
       "<Figure size 600x400 with 1 Axes>"
      ]
     },
     "metadata": {},
     "output_type": "display_data"
    }
   ],
   "source": [
    "fig, ax = plt.subplots(figsize=(6, 4))\n",
    "\n",
    "ax.bar(\n",
    "    x = n_switches_df[\"n_switches\"],\n",
    "    height = n_switches_df[\"len\"],\n",
    ");\n",
    "\n",
    "sns.despine(ax=ax);\n",
    "ax.set_xlabel(\"# of switches\");\n",
    "ax.set_ylabel(\"# of reads\");"
   ]
  },
  {
   "cell_type": "markdown",
   "id": "dff88fd0-0431-47c7-ac21-d60ff8466c36",
   "metadata": {},
   "source": [
    "## BQ distribution?"
   ]
  },
  {
   "cell_type": "code",
   "execution_count": 17,
   "id": "4cc2fc91-e239-4d14-b2cb-40e80923f784",
   "metadata": {
    "tags": []
   },
   "outputs": [
    {
     "name": "stderr",
     "output_type": "stream",
     "text": [
      "56it [09:43, 10.42s/it]\n"
     ]
    }
   ],
   "source": [
    "output_path = Path(\"/lustre/scratch122/tol/projects/sperm/results/Rahbari_20250212\")\n",
    "\n",
    "complex_max_ann_snps_df = pl.concat([\n",
    "    (\n",
    "        pl.scan_parquet(glob.glob(str(\n",
    "            output_path / f\"read_analysis/{sample_set}/{sample_id}/{flow_cell}/*/annotated_0.95_high_confidence_snps.parquet\"\n",
    "        ))).with_columns(\n",
    "            sample_id=pl.lit(sample_id), \n",
    "            flow_cell=pl.lit(flow_cell),\n",
    "            flow_cell_type=pl.lit(flow_cell_type),        \n",
    "        )\n",
    "        .join(\n",
    "            (dense_reads_with_detection_df\n",
    "                .select(\"read_name\", \"sample_id\", pl.col(\"idx_transitions\").list.len().alias(\"n_switches\"))\n",
    "                .lazy()\n",
    "            ),\n",
    "            on=[\"read_name\", \"sample_id\"],\n",
    "        )\n",
    "        .group_by(\"sample_id\", \"flow_cell\", \"flow_cell_type\", \"read_name\")\n",
    "        .agg(\n",
    "            max_qual = pl.col(\"qual_start1\").max(),\n",
    "            min_qual = pl.col(\"qual_start1\").min(),\n",
    "            median_qual = pl.col(\"qual_start1\").median(),            \n",
    "            chrom = pl.col(\"ref1_name\").first(),\n",
    "            ref1_start = pl.col(\"ref1_start\").first(),\n",
    "            ref2_start = pl.col(\"ref2_start\").first(),\n",
    "            n_snps = pl.len(),\n",
    "        )\n",
    "        .collect(streaming=True)\n",
    "    )\n",
    "    for sample_set, sample_id, flow_cell, flow_cell_type, _ in tqdm.tqdm(rahbari_df.iter_rows())\n",
    "#        if sample_id in [\"PD50523b\", \"PD50477f\"]\n",
    "])\n"
   ]
  },
  {
   "cell_type": "code",
   "execution_count": 27,
   "id": "bfa6e14c-3bc9-4d4b-9f3a-583532ff53b2",
   "metadata": {
    "tags": []
   },
   "outputs": [
    {
     "data": {
      "image/png": "[encoded data removed]",
      "text/plain": [
       "<Figure size 640x480 with 1 Axes>"
      ]
     },
     "metadata": {},
     "output_type": "display_data"
    }
   ],
   "source": [
    "sns.histplot(\n",
    "    [\n",
    "        complex_max_ann_snps_df.filter((pl.col(\"n_snps\") > 10) & (pl.col(\"sample_id\") == \"PD50523b\"))[\"max_qual\"], \n",
    "        complex_max_ann_snps_df.filter((pl.col(\"n_snps\") > 10) & (pl.col(\"sample_id\") != \"PD50523b\"))[\"max_qual\"], \n",
    "    ],\n",
    "    bins=50,\n",
    "    stat=\"probability\",\n",
    ");\n",
    "\n",
    "plt.legend([\"PD50523b\", \"Others\"]);\n",
    "plt.ylim(0, 0.02);"
   ]
  },
  {
   "cell_type": "code",
   "execution_count": 10,
   "id": "50703f57-19d0-46c9-afea-d3d67d619f43",
   "metadata": {
    "tags": []
   },
   "outputs": [
    {
     "name": "stderr",
     "output_type": "stream",
     "text": [
      "100%|██████████| 1/1 [00:40<00:00, 40.52s/it]\n"
     ]
    }
   ],
   "source": [
    "output_path = Path(\"/lustre/scratch122/tol/projects/sperm/results/Rahbari_20250212\")\n",
    "\n",
    "complex_ann_snps_df = pl.concat([\n",
    "    (\n",
    "        pl.scan_parquet(glob.glob(str(\n",
    "            output_path / f\"read_analysis/{sample_set}/{sample_id}/{flow_cell}/*/annotated_0.95_high_confidence_snps.parquet\"\n",
    "        ))).with_columns(\n",
    "            sample_id=pl.lit(sample_id), \n",
    "            flow_cell=pl.lit(flow_cell),\n",
    "            flow_cell_type=pl.lit(flow_cell_type),        \n",
    "        )\n",
    "        .join(\n",
    "            (dense_reads_with_detection_df\n",
    "                .select(\"read_name\", \"sample_id\", pl.col(\"idx_transitions\").list.len().alias(\"n_switches\"))\n",
    "                .lazy()\n",
    "            ),\n",
    "            on=[\"read_name\", \"sample_id\"],\n",
    "        )\n",
    "        .collect(streaming=True)\n",
    "    )\n",
    "    for sample_set, sample_id, flow_cell, flow_cell_type, _ in tqdm.tqdm(list(rahbari_df.iter_rows())[:1])\n",
    "#        if sample_id in [\"PD50523b\", \"PD50477f\"]\n",
    "])\n"
   ]
  },
  {
   "cell_type": "code",
   "execution_count": 43,
   "id": "38751a5c-7c37-4b91-ad0f-ea72602e33d6",
   "metadata": {
    "tags": []
   },
   "outputs": [
    {
     "name": "stderr",
     "output_type": "stream",
     "text": [
      "100%|██████████| 1/1 [00:00<00:00, 83.85it/s]\n"
     ]
    },
    {
     "name": "stdout",
     "output_type": "stream",
     "text": [
      "CPU times: user 5min 5s, sys: 48.4 s, total: 5min 53s\n",
      "Wall time: 1min 27s\n"
     ]
    }
   ],
   "source": [
    "%%time\n",
    "Ns = (\n",
    "    pl.concat([\n",
    "        (\n",
    "            pl.scan_parquet(glob.glob(str(\n",
    "                output_path / f\"read_analysis/{sample_set}/{sample_id}/{flow_cell}/*/annotated_0.95_high_confidence_snps.parquet\"\n",
    "            ))).with_columns(\n",
    "                sample_id=pl.lit(sample_id), \n",
    "                flow_cell=pl.lit(flow_cell),\n",
    "                flow_cell_type=pl.lit(flow_cell_type),        \n",
    "            )\n",
    "        )\n",
    "        for sample_set, sample_id, flow_cell, flow_cell_type, _ in tqdm.tqdm(list(rahbari_df.iter_rows())[:1])\n",
    "    #        if sample_id in [\"PD50523b\", \"PD50477f\"]\n",
    "    ])\n",
    "    # .group_by(\"read_name\")\n",
    "    # .agg(\n",
    "    #     (pl.col(\"op1\") == pl.col(\"op2\")).sum().alias(\"n_double_mismatches\")\n",
    "    # )\n",
    "    .unique(subset=[\"read_name\", \"total_mismatches\"])\n",
    "    .collect(streaming=True)\n",
    ")"
   ]
  },
  {
   "cell_type": "code",
   "execution_count": 44,
   "id": "27bcdf45-0fc2-4fe3-909d-f10510a29650",
   "metadata": {
    "tags": []
   },
   "outputs": [
    {
     "data": {
      "text/plain": [
       "0.2949945857537485"
      ]
     },
     "execution_count": 44,
     "metadata": {},
     "output_type": "execute_result"
    }
   ],
   "source": [
    "(Ns[\"total_mismatches\"]>0).mean()"
   ]
  },
  {
   "cell_type": "code",
   "execution_count": 40,
   "id": "85259f95-a67b-4b14-8a6b-f604076501c1",
   "metadata": {
    "tags": []
   },
   "outputs": [
    {
     "data": {
      "text/plain": [
       "0.2224648231093912"
      ]
     },
     "execution_count": 40,
     "metadata": {},
     "output_type": "execute_result"
    }
   ],
   "source": [
    "(Ns[\"n_double_mismatches\"]>0).mean()"
   ]
  },
  {
   "cell_type": "code",
   "execution_count": null,
   "id": "68dbab1d-1fc0-494c-8809-3192e9f38544",
   "metadata": {},
   "outputs": [],
   "source": []
  },
  {
   "cell_type": "code",
   "execution_count": 24,
   "id": "934ad0bc-0e0b-4b6e-917d-4d71d1e32f2f",
   "metadata": {
    "tags": []
   },
   "outputs": [
    {
     "data": {
      "text/html": [
       "<div><style>\n",
       ".dataframe > thead > tr,\n",
       ".dataframe > tbody > tr {\n",
       "  text-align: right;\n",
       "  white-space: pre-wrap;\n",
       "}\n",
       "</style>\n",
       "<small>shape: (5, 63)</small><table border=\"1\" class=\"dataframe\"><thead><tr><th>start</th><th>end</th><th>length</th><th>op1</th><th>op2</th><th>ref1_start</th><th>ref1_end</th><th>ref1_gap</th><th>ref2_start</th><th>ref2_end</th><th>ref2_gap</th><th>cigar_ptr1</th><th>cigar_ptr2</th><th>read_name</th><th>read_length1</th><th>read_length2</th><th>is_forward1</th><th>mapq1</th><th>ref1_name</th><th>qual_start1</th><th>refseq_start1</th><th>is_forward2</th><th>mapq2</th><th>ref2_name</th><th>qual_start2</th><th>refseq_start2</th><th>total_mismatches</th><th>total_common_insertions</th><th>num_common_insertions</th><th>num_common_deletions</th><th>total_clipping</th><th>num_clipping</th><th>is_snp</th><th>is_two_sided_mismatch</th><th>is_interesting_event</th><th>is_flanked_event</th><th>fits1_more</th><th>trf_repeat_length_hap1</th><th>trf_n_copies_hap1</th><th>trf_repeat_length_hap2</th><th>trf_n_copies_hap2</th><th>sdust_repeat_length_hap1</th><th>sdust_repeat_length_hap2</th><th>is_high_conf_event</th><th>is_high_conf_snp</th><th>is_mid_conf_event</th><th>is_mid_conf_snp</th><th>hap1_certainty_0.95_coverage</th><th>hap2_certainty_0.95_coverage</th><th>hap1_total_coverage</th><th>hap2_total_coverage</th><th>allele_coverage_hap1</th><th>allele_coverage_hap2</th><th>hap_certainty_0.95_coverage_balance_p</th><th>allele_coverage_balance_p</th><th>is_high_quality_event</th><th>is_high_quality_snp</th><th>is_mid_quality_event</th><th>is_mid_quality_snp</th><th>sample_id</th><th>flow_cell</th><th>flow_cell_type</th><th>n_switches</th></tr><tr><td>i64</td><td>i64</td><td>i64</td><td>i64</td><td>i64</td><td>i64</td><td>i64</td><td>i64</td><td>i64</td><td>i64</td><td>i64</td><td>i64</td><td>i64</td><td>str</td><td>i32</td><td>i32</td><td>bool</td><td>i32</td><td>str</td><td>u8</td><td>str</td><td>bool</td><td>i32</td><td>str</td><td>u8</td><td>str</td><td>i64</td><td>i64</td><td>u32</td><td>u32</td><td>i64</td><td>u32</td><td>bool</td><td>bool</td><td>bool</td><td>bool</td><td>i32</td><td>i64</td><td>f64</td><td>i64</td><td>f64</td><td>i32</td><td>i32</td><td>bool</td><td>bool</td><td>bool</td><td>bool</td><td>i64</td><td>i64</td><td>i64</td><td>i64</td><td>u32</td><td>u32</td><td>f64</td><td>f64</td><td>bool</td><td>bool</td><td>bool</td><td>bool</td><td>str</td><td>str</td><td>str</td><td>u32</td></tr></thead><tbody><tr><td>89</td><td>90</td><td>1</td><td>8</td><td>8</td><td>33872364</td><td>33872365</td><td>1</td><td>23104852</td><td>23104853</td><td>1</td><td>1</td><td>1</td><td>&quot;m84047_240924_113521_s4/27330523/ccs&quot;</td><td>9881</td><td>9881</td><td>false</td><td>60</td><td>&quot;chr14_RagTag&quot;</td><td>47</td><td>&quot;A&quot;</td><td>false</td><td>60</td><td>&quot;chr14_RagTag&quot;</td><td>47</td><td>&quot;A&quot;</td><td>33</td><td>22</td><td>5</td><td>15</td><td>0</td><td>0</td><td>false</td><td>true</td><td>true</td><td>true</td><td>0</td><td>0</td><td>0.0</td><td>0</td><td>0.0</td><td>0</td><td>0</td><td>false</td><td>false</td><td>false</td><td>false</td><td>87</td><td>96</td><td>184</td><td>184</td><td>0</td><td>0</td><td>0.554387</td><td>0.0</td><td>false</td><td>false</td><td>false</td><td>false</td><td>&quot;PD50521b&quot;</td><td>&quot;m84047_240924_113521_s4&quot;</td><td>&quot;revio_unbinned&quot;</td><td>3</td></tr><tr><td>175</td><td>176</td><td>1</td><td>8</td><td>8</td><td>33872450</td><td>33872451</td><td>1</td><td>23104938</td><td>23104939</td><td>1</td><td>5</td><td>3</td><td>&quot;m84047_240924_113521_s4/27330523/ccs&quot;</td><td>9881</td><td>9881</td><td>false</td><td>60</td><td>&quot;chr14_RagTag&quot;</td><td>62</td><td>&quot;C&quot;</td><td>false</td><td>60</td><td>&quot;chr14_RagTag&quot;</td><td>62</td><td>&quot;C&quot;</td><td>33</td><td>22</td><td>5</td><td>15</td><td>0</td><td>0</td><td>false</td><td>true</td><td>true</td><td>true</td><td>0</td><td>0</td><td>0.0</td><td>0</td><td>0.0</td><td>0</td><td>0</td><td>false</td><td>false</td><td>false</td><td>false</td><td>87</td><td>93</td><td>181</td><td>181</td><td>0</td><td>0</td><td>0.7095</td><td>0.0</td><td>false</td><td>false</td><td>false</td><td>false</td><td>&quot;PD50521b&quot;</td><td>&quot;m84047_240924_113521_s4&quot;</td><td>&quot;revio_unbinned&quot;</td><td>3</td></tr><tr><td>305</td><td>306</td><td>1</td><td>8</td><td>8</td><td>33872580</td><td>33872581</td><td>1</td><td>23105068</td><td>23105069</td><td>1</td><td>7</td><td>5</td><td>&quot;m84047_240924_113521_s4/27330523/ccs&quot;</td><td>9881</td><td>9881</td><td>false</td><td>60</td><td>&quot;chr14_RagTag&quot;</td><td>38</td><td>&quot;A&quot;</td><td>false</td><td>60</td><td>&quot;chr14_RagTag&quot;</td><td>38</td><td>&quot;A&quot;</td><td>33</td><td>22</td><td>5</td><td>15</td><td>0</td><td>0</td><td>false</td><td>true</td><td>true</td><td>true</td><td>0</td><td>0</td><td>0.0</td><td>0</td><td>0.0</td><td>0</td><td>0</td><td>false</td><td>false</td><td>true</td><td>false</td><td>87</td><td>93</td><td>181</td><td>181</td><td>0</td><td>0</td><td>0.7095</td><td>0.0</td><td>false</td><td>false</td><td>false</td><td>false</td><td>&quot;PD50521b&quot;</td><td>&quot;m84047_240924_113521_s4&quot;</td><td>&quot;revio_unbinned&quot;</td><td>3</td></tr><tr><td>700</td><td>701</td><td>1</td><td>8</td><td>8</td><td>33872976</td><td>33872977</td><td>1</td><td>23105464</td><td>23105465</td><td>1</td><td>13</td><td>9</td><td>&quot;m84047_240924_113521_s4/27330523/ccs&quot;</td><td>9881</td><td>9881</td><td>false</td><td>60</td><td>&quot;chr14_RagTag&quot;</td><td>81</td><td>&quot;A&quot;</td><td>false</td><td>60</td><td>&quot;chr14_RagTag&quot;</td><td>81</td><td>&quot;A&quot;</td><td>33</td><td>22</td><td>5</td><td>15</td><td>0</td><td>0</td><td>false</td><td>true</td><td>true</td><td>true</td><td>0</td><td>0</td><td>0.0</td><td>0</td><td>0.0</td><td>0</td><td>0</td><td>true</td><td>false</td><td>true</td><td>false</td><td>87</td><td>94</td><td>182</td><td>182</td><td>0</td><td>0</td><td>0.655734</td><td>0.0</td><td>false</td><td>false</td><td>false</td><td>false</td><td>&quot;PD50521b&quot;</td><td>&quot;m84047_240924_113521_s4&quot;</td><td>&quot;revio_unbinned&quot;</td><td>3</td></tr><tr><td>987</td><td>988</td><td>1</td><td>8</td><td>8</td><td>33873264</td><td>33873265</td><td>1</td><td>23105752</td><td>23105753</td><td>1</td><td>17</td><td>15</td><td>&quot;m84047_240924_113521_s4/27330523/ccs&quot;</td><td>9881</td><td>9881</td><td>false</td><td>60</td><td>&quot;chr14_RagTag&quot;</td><td>62</td><td>&quot;A&quot;</td><td>false</td><td>60</td><td>&quot;chr14_RagTag&quot;</td><td>62</td><td>&quot;A&quot;</td><td>33</td><td>22</td><td>5</td><td>15</td><td>0</td><td>0</td><td>false</td><td>true</td><td>true</td><td>true</td><td>0</td><td>0</td><td>0.0</td><td>0</td><td>0.0</td><td>0</td><td>0</td><td>true</td><td>false</td><td>true</td><td>false</td><td>85</td><td>90</td><td>176</td><td>176</td><td>0</td><td>0</td><td>0.762469</td><td>0.0</td><td>false</td><td>false</td><td>false</td><td>false</td><td>&quot;PD50521b&quot;</td><td>&quot;m84047_240924_113521_s4&quot;</td><td>&quot;revio_unbinned&quot;</td><td>3</td></tr></tbody></table></div>"
      ],
      "text/plain": [
       "shape: (5, 63)\n",
       "┌───────┬─────┬────────┬─────┬───┬───────────┬───────────────────────┬────────────────┬────────────┐\n",
       "│ start ┆ end ┆ length ┆ op1 ┆ … ┆ sample_id ┆ flow_cell             ┆ flow_cell_type ┆ n_switches │\n",
       "│ ---   ┆ --- ┆ ---    ┆ --- ┆   ┆ ---       ┆ ---                   ┆ ---            ┆ ---        │\n",
       "│ i64   ┆ i64 ┆ i64    ┆ i64 ┆   ┆ str       ┆ str                   ┆ str            ┆ u32        │\n",
       "╞═══════╪═════╪════════╪═════╪═══╪═══════════╪═══════════════════════╪════════════════╪════════════╡\n",
       "│ 89    ┆ 90  ┆ 1      ┆ 8   ┆ … ┆ PD50521b  ┆ m84047_240924_113521_ ┆ revio_unbinned ┆ 3          │\n",
       "│       ┆     ┆        ┆     ┆   ┆           ┆ s4                    ┆                ┆            │\n",
       "│ 175   ┆ 176 ┆ 1      ┆ 8   ┆ … ┆ PD50521b  ┆ m84047_240924_113521_ ┆ revio_unbinned ┆ 3          │\n",
       "│       ┆     ┆        ┆     ┆   ┆           ┆ s4                    ┆                ┆            │\n",
       "│ 305   ┆ 306 ┆ 1      ┆ 8   ┆ … ┆ PD50521b  ┆ m84047_240924_113521_ ┆ revio_unbinned ┆ 3          │\n",
       "│       ┆     ┆        ┆     ┆   ┆           ┆ s4                    ┆                ┆            │\n",
       "│ 700   ┆ 701 ┆ 1      ┆ 8   ┆ … ┆ PD50521b  ┆ m84047_240924_113521_ ┆ revio_unbinned ┆ 3          │\n",
       "│       ┆     ┆        ┆     ┆   ┆           ┆ s4                    ┆                ┆            │\n",
       "│ 987   ┆ 988 ┆ 1      ┆ 8   ┆ … ┆ PD50521b  ┆ m84047_240924_113521_ ┆ revio_unbinned ┆ 3          │\n",
       "│       ┆     ┆        ┆     ┆   ┆           ┆ s4                    ┆                ┆            │\n",
       "└───────┴─────┴────────┴─────┴───┴───────────┴───────────────────────┴────────────────┴────────────┘"
      ]
     },
     "execution_count": 24,
     "metadata": {},
     "output_type": "execute_result"
    }
   ],
   "source": [
    "(complex_ann_snps_df\n",
    "    .filter(pl.col(\"read_name\") == \"m84047_240924_113521_s4/27330523/ccs\")\n",
    "    .filter(pl.col(\"op1\") == pl.col(\"op2\"))\n",
    "    .head()\n",
    ")"
   ]
  },
  {
   "cell_type": "code",
   "execution_count": 25,
   "id": "3cd99497-cfe7-4122-8c02-06b9a1232cd3",
   "metadata": {
    "tags": []
   },
   "outputs": [
    {
     "data": {
      "text/html": [
       "<div><style>\n",
       ".dataframe > thead > tr,\n",
       ".dataframe > tbody > tr {\n",
       "  text-align: right;\n",
       "  white-space: pre-wrap;\n",
       "}\n",
       "</style>\n",
       "<small>shape: (1, 36)</small><table border=\"1\" class=\"dataframe\"><thead><tr><th>read_name</th><th>read_length</th><th>chrom</th><th>sample_id</th><th>grch37_chromosome_size_in_bp</th><th>high_quality_snp_positions</th><th>CO_active_interval_start</th><th>CO_active_interval_end</th><th>CO_active_interval_length_bp</th><th>grch37_reference_start</th><th>grch38_reference_start</th><th>grch37_reference_end</th><th>grch38_reference_end</th><th>grch37_reference_start_cM</th><th>grch37_reference_end_cM</th><th>CO_active_interval_start_cM</th><th>CO_active_interval_end_cM</th><th>CO_active_interval_crossover_prob</th><th>mid_CO_active_interval_crossover_prob</th><th>AA_motif_center_pos</th><th>AA_heat</th><th>AA_motif_strand</th><th>CL4_motif_center_pos</th><th>CL4_heat</th><th>CL4_motif_strand</th><th>is_high_quality_read</th><th>min_coverage_hap1</th><th>min_coverage_hap2</th><th>high_quality_classification_class</th><th>snp_positions_on_read</th><th>idx_transitions</th><th>H3K4me3_signal_mean</th><th>CTCF_signal_sum</th><th>CTCF_signal_mean</th><th>high_quality_classification_in_detectable_class</th><th>full_read_crossover_prob</th></tr><tr><td>str</td><td>i32</td><td>str</td><td>str</td><td>i32</td><td>list[i64]</td><td>i64</td><td>i64</td><td>i64</td><td>i64</td><td>i64</td><td>i64</td><td>i64</td><td>f64</td><td>f64</td><td>f64</td><td>f64</td><td>f64</td><td>f64</td><td>i64</td><td>f64</td><td>i64</td><td>i64</td><td>f64</td><td>i64</td><td>bool</td><td>i64</td><td>i64</td><td>str</td><td>list[i64]</td><td>list[i64]</td><td>f64</td><td>f64</td><td>f64</td><td>str</td><td>f64</td></tr></thead><tbody><tr><td>&quot;m84047_240924_113521_s4/27330523/ccs&quot;</td><td>9881</td><td>&quot;chr14&quot;</td><td>&quot;PD50521b&quot;</td><td>107349540</td><td>[1700,&nbsp;6191,&nbsp;…&nbsp;8720]</td><td>6191</td><td>6220</td><td>29</td><td>41071297</td><td>40602092</td><td>41081178</td><td>40611973</td><td>34.235771</td><td>34.240422</td><td>34.238685</td><td>34.238699</td><td>1.3648e-7</td><td>0.000009</td><td>null</td><td>null</td><td>null</td><td>null</td><td>null</td><td>null</td><td>true</td><td>59</td><td>65</td><td>&quot;CNCO&quot;</td><td>[1700,&nbsp;4333,&nbsp;…&nbsp;8720]</td><td>[1,&nbsp;2,&nbsp;4]</td><td>0.026294</td><td>19.10375</td><td>0.65875</td><td>null</td><td>0.000047</td></tr></tbody></table></div>"
      ],
      "text/plain": [
       "shape: (1, 36)\n",
       "┌────────────┬────────────┬───────┬───────────┬───┬────────────┬───────────┬───────────┬───────────┐\n",
       "│ read_name  ┆ read_lengt ┆ chrom ┆ sample_id ┆ … ┆ CTCF_signa ┆ CTCF_sign ┆ high_qual ┆ full_read │\n",
       "│ ---        ┆ h          ┆ ---   ┆ ---       ┆   ┆ l_sum      ┆ al_mean   ┆ ity_class ┆ _crossove │\n",
       "│ str        ┆ ---        ┆ str   ┆ str       ┆   ┆ ---        ┆ ---       ┆ ification ┆ r_prob    │\n",
       "│            ┆ i32        ┆       ┆           ┆   ┆ f64        ┆ f64       ┆ _in_detec ┆ ---       │\n",
       "│            ┆            ┆       ┆           ┆   ┆            ┆           ┆ table_cla ┆ f64       │\n",
       "│            ┆            ┆       ┆           ┆   ┆            ┆           ┆ ss        ┆           │\n",
       "│            ┆            ┆       ┆           ┆   ┆            ┆           ┆ ---       ┆           │\n",
       "│            ┆            ┆       ┆           ┆   ┆            ┆           ┆ str       ┆           │\n",
       "╞════════════╪════════════╪═══════╪═══════════╪═══╪════════════╪═══════════╪═══════════╪═══════════╡\n",
       "│ m84047_240 ┆ 9881       ┆ chr14 ┆ PD50521b  ┆ … ┆ 19.10375   ┆ 0.65875   ┆ null      ┆ 0.000047  │\n",
       "│ 924_113521 ┆            ┆       ┆           ┆   ┆            ┆           ┆           ┆           │\n",
       "│ _s4/273305 ┆            ┆       ┆           ┆   ┆            ┆           ┆           ┆           │\n",
       "│ 23/ccs     ┆            ┆       ┆           ┆   ┆            ┆           ┆           ┆           │\n",
       "└────────────┴────────────┴───────┴───────────┴───┴────────────┴───────────┴───────────┴───────────┘"
      ]
     },
     "execution_count": 25,
     "metadata": {},
     "output_type": "execute_result"
    }
   ],
   "source": [
    "(dense_reads_with_detection_df\n",
    "    .filter(pl.col(\"read_name\") == \"m84047_240924_113521_s4/27330523/ccs\")\n",
    ")"
   ]
  },
  {
   "cell_type": "code",
   "execution_count": 28,
   "id": "a201c35e-54ee-42e2-aa2a-f4ca3084ece3",
   "metadata": {
    "tags": []
   },
   "outputs": [
    {
     "data": {
      "text/plain": [
       "40602397"
      ]
     },
     "execution_count": 28,
     "metadata": {},
     "output_type": "execute_result"
    }
   ],
   "source": [
    "40602092+305"
   ]
  },
  {
   "cell_type": "code",
   "execution_count": null,
   "id": "809ffa6f-663a-471a-9159-4e1b2a33047c",
   "metadata": {},
   "outputs": [],
   "source": []
  },
  {
   "cell_type": "code",
   "execution_count": null,
   "id": "c9526acf-ba7f-400f-9ee1-6a5383dd4db9",
   "metadata": {},
   "outputs": [],
   "source": []
  },
  {
   "cell_type": "code",
   "execution_count": 41,
   "id": "2698495e-2ffa-403d-95b9-c172ffde3f7c",
   "metadata": {
    "tags": []
   },
   "outputs": [
    {
     "data": {
      "text/html": [
       "<div><style>\n",
       ".dataframe > thead > tr,\n",
       ".dataframe > tbody > tr {\n",
       "  text-align: right;\n",
       "  white-space: pre-wrap;\n",
       "}\n",
       "</style>\n",
       "<small>shape: (5, 5)</small><table border=\"1\" class=\"dataframe\"><thead><tr><th>sample_id</th><th>read_name</th><th>read_length1</th><th>total_mismatches</th><th>both_mismatch</th></tr><tr><td>str</td><td>str</td><td>i32</td><td>i64</td><td>u32</td></tr></thead><tbody><tr><td>&quot;PD50521b&quot;</td><td>&quot;m84047_240924_113521_s4/215029022/ccs&quot;</td><td>13815</td><td>57</td><td>32</td></tr><tr><td>&quot;PD50521b&quot;</td><td>&quot;m84047_240924_113521_s4/27330523/ccs&quot;</td><td>9881</td><td>33</td><td>32</td></tr><tr><td>&quot;PD50521b&quot;</td><td>&quot;m84047_240924_113521_s4/38535974/ccs&quot;</td><td>10016</td><td>55</td><td>24</td></tr><tr><td>&quot;PD50521b&quot;</td><td>&quot;m84047_240924_113521_s4/60425396/ccs&quot;</td><td>14984</td><td>11</td><td>11</td></tr><tr><td>&quot;PD50521b&quot;</td><td>&quot;m84047_240924_113521_s4/238095146/ccs&quot;</td><td>14973</td><td>15</td><td>14</td></tr></tbody></table></div>"
      ],
      "text/plain": [
       "shape: (5, 5)\n",
       "┌───────────┬────────────────────────────────────┬──────────────┬──────────────────┬───────────────┐\n",
       "│ sample_id ┆ read_name                          ┆ read_length1 ┆ total_mismatches ┆ both_mismatch │\n",
       "│ ---       ┆ ---                                ┆ ---          ┆ ---              ┆ ---           │\n",
       "│ str       ┆ str                                ┆ i32          ┆ i64              ┆ u32           │\n",
       "╞═══════════╪════════════════════════════════════╪══════════════╪══════════════════╪═══════════════╡\n",
       "│ PD50521b  ┆ m84047_240924_113521_s4/215029022/ ┆ 13815        ┆ 57               ┆ 32            │\n",
       "│           ┆ ccs                                ┆              ┆                  ┆               │\n",
       "│ PD50521b  ┆ m84047_240924_113521_s4/27330523/c ┆ 9881         ┆ 33               ┆ 32            │\n",
       "│           ┆ cs                                 ┆              ┆                  ┆               │\n",
       "│ PD50521b  ┆ m84047_240924_113521_s4/38535974/c ┆ 10016        ┆ 55               ┆ 24            │\n",
       "│           ┆ cs                                 ┆              ┆                  ┆               │\n",
       "│ PD50521b  ┆ m84047_240924_113521_s4/60425396/c ┆ 14984        ┆ 11               ┆ 11            │\n",
       "│           ┆ cs                                 ┆              ┆                  ┆               │\n",
       "│ PD50521b  ┆ m84047_240924_113521_s4/238095146/ ┆ 14973        ┆ 15               ┆ 14            │\n",
       "│           ┆ ccs                                ┆              ┆                  ┆               │\n",
       "└───────────┴────────────────────────────────────┴──────────────┴──────────────────┴───────────────┘"
      ]
     },
     "execution_count": 41,
     "metadata": {},
     "output_type": "execute_result"
    }
   ],
   "source": [
    "(complex_ann_snps_df\n",
    "    .group_by(\"sample_id\", \"read_name\", \"read_length1\", \"total_mismatches\")\n",
    "    .agg(\n",
    "        (pl.col(\"op1\") == pl.col(\"op2\")).sum().alias(\"both_mismatch\")\n",
    "    )\n",
    "    .filter(pl.col(\"both_mismatch\") > 10)\n",
    "    .head()\n",
    ")"
   ]
  },
  {
   "cell_type": "code",
   "execution_count": 50,
   "id": "82111135-25e2-4962-933a-8595dc541404",
   "metadata": {
    "tags": []
   },
   "outputs": [
    {
     "data": {
      "text/html": [
       "<div><style>\n",
       ".dataframe > thead > tr,\n",
       ".dataframe > tbody > tr {\n",
       "  text-align: right;\n",
       "  white-space: pre-wrap;\n",
       "}\n",
       "</style>\n",
       "<small>shape: (14, 63)</small><table border=\"1\" class=\"dataframe\"><thead><tr><th>start</th><th>end</th><th>length</th><th>op1</th><th>op2</th><th>ref1_start</th><th>ref1_end</th><th>ref1_gap</th><th>ref2_start</th><th>ref2_end</th><th>ref2_gap</th><th>cigar_ptr1</th><th>cigar_ptr2</th><th>read_name</th><th>read_length1</th><th>read_length2</th><th>is_forward1</th><th>mapq1</th><th>ref1_name</th><th>qual_start1</th><th>refseq_start1</th><th>is_forward2</th><th>mapq2</th><th>ref2_name</th><th>qual_start2</th><th>refseq_start2</th><th>total_mismatches</th><th>total_common_insertions</th><th>num_common_insertions</th><th>num_common_deletions</th><th>total_clipping</th><th>num_clipping</th><th>is_snp</th><th>is_two_sided_mismatch</th><th>is_interesting_event</th><th>is_flanked_event</th><th>fits1_more</th><th>trf_repeat_length_hap1</th><th>trf_n_copies_hap1</th><th>trf_repeat_length_hap2</th><th>trf_n_copies_hap2</th><th>sdust_repeat_length_hap1</th><th>sdust_repeat_length_hap2</th><th>is_high_conf_event</th><th>is_high_conf_snp</th><th>is_mid_conf_event</th><th>is_mid_conf_snp</th><th>hap1_certainty_0.95_coverage</th><th>hap2_certainty_0.95_coverage</th><th>hap1_total_coverage</th><th>hap2_total_coverage</th><th>allele_coverage_hap1</th><th>allele_coverage_hap2</th><th>hap_certainty_0.95_coverage_balance_p</th><th>allele_coverage_balance_p</th><th>is_high_quality_event</th><th>is_high_quality_snp</th><th>is_mid_quality_event</th><th>is_mid_quality_snp</th><th>sample_id</th><th>flow_cell</th><th>flow_cell_type</th><th>n_switches</th></tr><tr><td>i64</td><td>i64</td><td>i64</td><td>i64</td><td>i64</td><td>i64</td><td>i64</td><td>i64</td><td>i64</td><td>i64</td><td>i64</td><td>i64</td><td>i64</td><td>str</td><td>i32</td><td>i32</td><td>bool</td><td>i32</td><td>str</td><td>u8</td><td>str</td><td>bool</td><td>i32</td><td>str</td><td>u8</td><td>str</td><td>i64</td><td>i64</td><td>u32</td><td>u32</td><td>i64</td><td>u32</td><td>bool</td><td>bool</td><td>bool</td><td>bool</td><td>i32</td><td>i64</td><td>f64</td><td>i64</td><td>f64</td><td>i32</td><td>i32</td><td>bool</td><td>bool</td><td>bool</td><td>bool</td><td>i64</td><td>i64</td><td>i64</td><td>i64</td><td>u32</td><td>u32</td><td>f64</td><td>f64</td><td>bool</td><td>bool</td><td>bool</td><td>bool</td><td>str</td><td>str</td><td>str</td><td>u32</td></tr></thead><tbody><tr><td>7829</td><td>7830</td><td>1</td><td>8</td><td>8</td><td>161615170</td><td>161615171</td><td>1</td><td>163917350</td><td>163917351</td><td>1</td><td>19</td><td>17</td><td>&quot;m84047_240928_151025_s3/54985628/ccs&quot;</td><td>24634</td><td>24634</td><td>true</td><td>60</td><td>&quot;chr6_RagTag&quot;</td><td>75</td><td>&quot;T&quot;</td><td>true</td><td>60</td><td>&quot;chr6_RagTag&quot;</td><td>75</td><td>&quot;T&quot;</td><td>14</td><td>11</td><td>10</td><td>8</td><td>0</td><td>0</td><td>false</td><td>true</td><td>true</td><td>true</td><td>0</td><td>39</td><td>2.1</td><td>39</td><td>2.1</td><td>0</td><td>0</td><td>false</td><td>false</td><td>false</td><td>false</td><td>82</td><td>92</td><td>175</td><td>175</td><td>0</td><td>0</td><td>0.495169</td><td>0.0</td><td>false</td><td>false</td><td>false</td><td>false</td><td>&quot;PD50523b&quot;</td><td>&quot;m84047_240928_151025_s3&quot;</td><td>&quot;revio_unbinned&quot;</td><td>8</td></tr><tr><td>10372</td><td>10373</td><td>1</td><td>8</td><td>8</td><td>161617711</td><td>161617712</td><td>1</td><td>163919879</td><td>163919880</td><td>1</td><td>29</td><td>27</td><td>&quot;m84047_240928_151025_s3/54985628/ccs&quot;</td><td>24634</td><td>24634</td><td>true</td><td>60</td><td>&quot;chr6_RagTag&quot;</td><td>37</td><td>&quot;T&quot;</td><td>true</td><td>60</td><td>&quot;chr6_RagTag&quot;</td><td>37</td><td>&quot;T&quot;</td><td>14</td><td>11</td><td>10</td><td>8</td><td>0</td><td>0</td><td>false</td><td>true</td><td>true</td><td>true</td><td>0</td><td>0</td><td>0.0</td><td>0</td><td>0.0</td><td>0</td><td>0</td><td>false</td><td>false</td><td>true</td><td>false</td><td>91</td><td>86</td><td>178</td><td>178</td><td>0</td><td>0</td><td>0.763774</td><td>0.0</td><td>false</td><td>false</td><td>false</td><td>false</td><td>&quot;PD50523b&quot;</td><td>&quot;m84047_240928_151025_s3&quot;</td><td>&quot;revio_unbinned&quot;</td><td>8</td></tr><tr><td>13620</td><td>13621</td><td>1</td><td>8</td><td>8</td><td>161620958</td><td>161620959</td><td>1</td><td>163923126</td><td>163923127</td><td>1</td><td>39</td><td>33</td><td>&quot;m84047_240928_151025_s3/54985628/ccs&quot;</td><td>24634</td><td>24634</td><td>true</td><td>60</td><td>&quot;chr6_RagTag&quot;</td><td>56</td><td>&quot;T&quot;</td><td>true</td><td>60</td><td>&quot;chr6_RagTag&quot;</td><td>56</td><td>&quot;T&quot;</td><td>14</td><td>11</td><td>10</td><td>8</td><td>0</td><td>0</td><td>false</td><td>true</td><td>true</td><td>true</td><td>0</td><td>0</td><td>0.0</td><td>0</td><td>0.0</td><td>0</td><td>0</td><td>false</td><td>false</td><td>true</td><td>false</td><td>89</td><td>74</td><td>164</td><td>164</td><td>0</td><td>0</td><td>0.272784</td><td>0.0</td><td>false</td><td>false</td><td>false</td><td>false</td><td>&quot;PD50523b&quot;</td><td>&quot;m84047_240928_151025_s3&quot;</td><td>&quot;revio_unbinned&quot;</td><td>8</td></tr><tr><td>13654</td><td>13655</td><td>1</td><td>8</td><td>8</td><td>161620992</td><td>161620993</td><td>1</td><td>163923160</td><td>163923161</td><td>1</td><td>41</td><td>35</td><td>&quot;m84047_240928_151025_s3/54985628/ccs&quot;</td><td>24634</td><td>24634</td><td>true</td><td>60</td><td>&quot;chr6_RagTag&quot;</td><td>93</td><td>&quot;A&quot;</td><td>true</td><td>60</td><td>&quot;chr6_RagTag&quot;</td><td>93</td><td>&quot;A&quot;</td><td>14</td><td>11</td><td>10</td><td>8</td><td>0</td><td>0</td><td>false</td><td>true</td><td>true</td><td>true</td><td>0</td><td>0</td><td>0.0</td><td>0</td><td>0.0</td><td>0</td><td>0</td><td>true</td><td>false</td><td>true</td><td>false</td><td>89</td><td>74</td><td>164</td><td>164</td><td>0</td><td>0</td><td>0.272784</td><td>0.0</td><td>false</td><td>false</td><td>false</td><td>false</td><td>&quot;PD50523b&quot;</td><td>&quot;m84047_240928_151025_s3&quot;</td><td>&quot;revio_unbinned&quot;</td><td>8</td></tr><tr><td>14363</td><td>14364</td><td>1</td><td>8</td><td>8</td><td>161621702</td><td>161621703</td><td>1</td><td>163923870</td><td>163923871</td><td>1</td><td>45</td><td>39</td><td>&quot;m84047_240928_151025_s3/54985628/ccs&quot;</td><td>24634</td><td>24634</td><td>true</td><td>60</td><td>&quot;chr6_RagTag&quot;</td><td>92</td><td>&quot;G&quot;</td><td>true</td><td>60</td><td>&quot;chr6_RagTag&quot;</td><td>92</td><td>&quot;G&quot;</td><td>14</td><td>11</td><td>10</td><td>8</td><td>0</td><td>0</td><td>false</td><td>true</td><td>true</td><td>true</td><td>0</td><td>0</td><td>0.0</td><td>0</td><td>0.0</td><td>0</td><td>0</td><td>true</td><td>false</td><td>true</td><td>false</td><td>91</td><td>77</td><td>169</td><td>169</td><td>0</td><td>0</td><td>0.315875</td><td>0.0</td><td>false</td><td>false</td><td>false</td><td>false</td><td>&quot;PD50523b&quot;</td><td>&quot;m84047_240928_151025_s3&quot;</td><td>&quot;revio_unbinned&quot;</td><td>8</td></tr><tr><td>14692</td><td>14693</td><td>1</td><td>8</td><td>8</td><td>161622031</td><td>161622032</td><td>1</td><td>163924199</td><td>163924200</td><td>1</td><td>47</td><td>41</td><td>&quot;m84047_240928_151025_s3/54985628/ccs&quot;</td><td>24634</td><td>24634</td><td>true</td><td>60</td><td>&quot;chr6_RagTag&quot;</td><td>56</td><td>&quot;T&quot;</td><td>true</td><td>60</td><td>&quot;chr6_RagTag&quot;</td><td>56</td><td>&quot;T&quot;</td><td>14</td><td>11</td><td>10</td><td>8</td><td>0</td><td>0</td><td>false</td><td>true</td><td>true</td><td>true</td><td>0</td><td>0</td><td>0.0</td><td>0</td><td>0.0</td><td>0</td><td>0</td><td>false</td><td>false</td><td>true</td><td>false</td><td>92</td><td>76</td><td>169</td><td>169</td><td>0</td><td>0</td><td>0.247082</td><td>0.0</td><td>false</td><td>false</td><td>false</td><td>false</td><td>&quot;PD50523b&quot;</td><td>&quot;m84047_240928_151025_s3&quot;</td><td>&quot;revio_unbinned&quot;</td><td>8</td></tr><tr><td>15657</td><td>15658</td><td>1</td><td>8</td><td>8</td><td>161622998</td><td>161622999</td><td>1</td><td>163925166</td><td>163925167</td><td>1</td><td>53</td><td>51</td><td>&quot;m84047_240928_151025_s3/54985628/ccs&quot;</td><td>24634</td><td>24634</td><td>true</td><td>60</td><td>&quot;chr6_RagTag&quot;</td><td>56</td><td>&quot;T&quot;</td><td>true</td><td>60</td><td>&quot;chr6_RagTag&quot;</td><td>56</td><td>&quot;T&quot;</td><td>14</td><td>11</td><td>10</td><td>8</td><td>0</td><td>0</td><td>false</td><td>true</td><td>true</td><td>true</td><td>0</td><td>0</td><td>0.0</td><td>0</td><td>0.0</td><td>0</td><td>0</td><td>false</td><td>false</td><td>true</td><td>false</td><td>93</td><td>71</td><td>165</td><td>165</td><td>0</td><td>0</td><td>0.100749</td><td>0.0</td><td>false</td><td>false</td><td>false</td><td>false</td><td>&quot;PD50523b&quot;</td><td>&quot;m84047_240928_151025_s3&quot;</td><td>&quot;revio_unbinned&quot;</td><td>8</td></tr><tr><td>17684</td><td>17685</td><td>1</td><td>8</td><td>8</td><td>161625026</td><td>161625027</td><td>1</td><td>163927194</td><td>163927195</td><td>1</td><td>59</td><td>69</td><td>&quot;m84047_240928_151025_s3/54985628/ccs&quot;</td><td>24634</td><td>24634</td><td>true</td><td>60</td><td>&quot;chr6_RagTag&quot;</td><td>56</td><td>&quot;C&quot;</td><td>true</td><td>60</td><td>&quot;chr6_RagTag&quot;</td><td>56</td><td>&quot;C&quot;</td><td>14</td><td>11</td><td>10</td><td>8</td><td>0</td><td>0</td><td>false</td><td>true</td><td>true</td><td>true</td><td>0</td><td>0</td><td>0.0</td><td>0</td><td>0.0</td><td>0</td><td>0</td><td>false</td><td>false</td><td>true</td><td>false</td><td>99</td><td>76</td><td>176</td><td>176</td><td>0</td><td>0</td><td>0.096024</td><td>0.0</td><td>false</td><td>false</td><td>false</td><td>false</td><td>&quot;PD50523b&quot;</td><td>&quot;m84047_240928_151025_s3&quot;</td><td>&quot;revio_unbinned&quot;</td><td>8</td></tr><tr><td>18053</td><td>18054</td><td>1</td><td>8</td><td>8</td><td>161625395</td><td>161625396</td><td>1</td><td>163927563</td><td>163927564</td><td>1</td><td>61</td><td>71</td><td>&quot;m84047_240928_151025_s3/54985628/ccs&quot;</td><td>24634</td><td>24634</td><td>true</td><td>60</td><td>&quot;chr6_RagTag&quot;</td><td>72</td><td>&quot;C&quot;</td><td>true</td><td>60</td><td>&quot;chr6_RagTag&quot;</td><td>72</td><td>&quot;C&quot;</td><td>14</td><td>11</td><td>10</td><td>8</td><td>0</td><td>0</td><td>false</td><td>true</td><td>true</td><td>true</td><td>0</td><td>0</td><td>0.0</td><td>0</td><td>0.0</td><td>0</td><td>0</td><td>true</td><td>false</td><td>true</td><td>false</td><td>96</td><td>76</td><td>173</td><td>173</td><td>0</td><td>0</td><td>0.147196</td><td>0.0</td><td>false</td><td>false</td><td>false</td><td>false</td><td>&quot;PD50523b&quot;</td><td>&quot;m84047_240928_151025_s3&quot;</td><td>&quot;revio_unbinned&quot;</td><td>8</td></tr><tr><td>18380</td><td>18381</td><td>1</td><td>8</td><td>8</td><td>161625723</td><td>161625724</td><td>1</td><td>163927891</td><td>163927892</td><td>1</td><td>65</td><td>75</td><td>&quot;m84047_240928_151025_s3/54985628/ccs&quot;</td><td>24634</td><td>24634</td><td>true</td><td>60</td><td>&quot;chr6_RagTag&quot;</td><td>44</td><td>&quot;A&quot;</td><td>true</td><td>60</td><td>&quot;chr6_RagTag&quot;</td><td>44</td><td>&quot;A&quot;</td><td>14</td><td>11</td><td>10</td><td>8</td><td>0</td><td>0</td><td>false</td><td>true</td><td>true</td><td>true</td><td>0</td><td>0</td><td>0.0</td><td>0</td><td>0.0</td><td>0</td><td>0</td><td>false</td><td>false</td><td>true</td><td>false</td><td>99</td><td>75</td><td>175</td><td>175</td><td>0</td><td>0</td><td>0.080927</td><td>0.0</td><td>false</td><td>false</td><td>false</td><td>false</td><td>&quot;PD50523b&quot;</td><td>&quot;m84047_240928_151025_s3&quot;</td><td>&quot;revio_unbinned&quot;</td><td>8</td></tr><tr><td>22229</td><td>22230</td><td>1</td><td>8</td><td>8</td><td>161629568</td><td>161629569</td><td>1</td><td>163931734</td><td>163931735</td><td>1</td><td>81</td><td>89</td><td>&quot;m84047_240928_151025_s3/54985628/ccs&quot;</td><td>24634</td><td>24634</td><td>true</td><td>60</td><td>&quot;chr6_RagTag&quot;</td><td>66</td><td>&quot;G&quot;</td><td>true</td><td>60</td><td>&quot;chr6_RagTag&quot;</td><td>66</td><td>&quot;G&quot;</td><td>14</td><td>11</td><td>10</td><td>8</td><td>0</td><td>0</td><td>false</td><td>true</td><td>true</td><td>true</td><td>0</td><td>0</td><td>0.0</td><td>0</td><td>0.0</td><td>1</td><td>1</td><td>false</td><td>false</td><td>false</td><td>false</td><td>96</td><td>84</td><td>181</td><td>181</td><td>0</td><td>0</td><td>0.412351</td><td>0.0</td><td>false</td><td>false</td><td>false</td><td>false</td><td>&quot;PD50523b&quot;</td><td>&quot;m84047_240928_151025_s3&quot;</td><td>&quot;revio_unbinned&quot;</td><td>8</td></tr><tr><td>23331</td><td>23332</td><td>1</td><td>8</td><td>8</td><td>161630670</td><td>161630671</td><td>1</td><td>163932836</td><td>163932837</td><td>1</td><td>83</td><td>91</td><td>&quot;m84047_240928_151025_s3/54985628/ccs&quot;</td><td>24634</td><td>24634</td><td>true</td><td>60</td><td>&quot;chr6_RagTag&quot;</td><td>67</td><td>&quot;C&quot;</td><td>true</td><td>60</td><td>&quot;chr6_RagTag&quot;</td><td>67</td><td>&quot;C&quot;</td><td>14</td><td>11</td><td>10</td><td>8</td><td>0</td><td>0</td><td>false</td><td>true</td><td>true</td><td>true</td><td>0</td><td>0</td><td>0.0</td><td>0</td><td>0.0</td><td>0</td><td>0</td><td>true</td><td>false</td><td>true</td><td>false</td><td>97</td><td>90</td><td>188</td><td>188</td><td>0</td><td>0</td><td>0.660948</td><td>0.0</td><td>false</td><td>false</td><td>false</td><td>false</td><td>&quot;PD50523b&quot;</td><td>&quot;m84047_240928_151025_s3&quot;</td><td>&quot;revio_unbinned&quot;</td><td>8</td></tr><tr><td>23818</td><td>23819</td><td>1</td><td>8</td><td>8</td><td>161631159</td><td>161631160</td><td>1</td><td>163933323</td><td>163933324</td><td>1</td><td>87</td><td>93</td><td>&quot;m84047_240928_151025_s3/54985628/ccs&quot;</td><td>24634</td><td>24634</td><td>true</td><td>60</td><td>&quot;chr6_RagTag&quot;</td><td>49</td><td>&quot;C&quot;</td><td>true</td><td>60</td><td>&quot;chr6_RagTag&quot;</td><td>49</td><td>&quot;C&quot;</td><td>14</td><td>11</td><td>10</td><td>8</td><td>0</td><td>0</td><td>false</td><td>true</td><td>true</td><td>true</td><td>0</td><td>0</td><td>0.0</td><td>0</td><td>0.0</td><td>0</td><td>0</td><td>false</td><td>false</td><td>true</td><td>false</td><td>93</td><td>92</td><td>186</td><td>186</td><td>0</td><td>0</td><td>1.0</td><td>0.0</td><td>false</td><td>false</td><td>false</td><td>false</td><td>&quot;PD50523b&quot;</td><td>&quot;m84047_240928_151025_s3&quot;</td><td>&quot;revio_unbinned&quot;</td><td>8</td></tr><tr><td>24036</td><td>24037</td><td>1</td><td>8</td><td>8</td><td>161631377</td><td>161631378</td><td>1</td><td>163933541</td><td>163933542</td><td>1</td><td>91</td><td>95</td><td>&quot;m84047_240928_151025_s3/54985628/ccs&quot;</td><td>24634</td><td>24634</td><td>true</td><td>60</td><td>&quot;chr6_RagTag&quot;</td><td>91</td><td>&quot;A&quot;</td><td>true</td><td>60</td><td>&quot;chr6_RagTag&quot;</td><td>91</td><td>&quot;A&quot;</td><td>14</td><td>11</td><td>10</td><td>8</td><td>0</td><td>0</td><td>false</td><td>true</td><td>true</td><td>true</td><td>0</td><td>0</td><td>0.0</td><td>0</td><td>0.0</td><td>0</td><td>0</td><td>true</td><td>false</td><td>true</td><td>false</td><td>89</td><td>94</td><td>184</td><td>184</td><td>0</td><td>0</td><td>0.767563</td><td>0.0</td><td>false</td><td>false</td><td>false</td><td>false</td><td>&quot;PD50523b&quot;</td><td>&quot;m84047_240928_151025_s3&quot;</td><td>&quot;revio_unbinned&quot;</td><td>8</td></tr></tbody></table></div>"
      ],
      "text/plain": [
       "shape: (14, 63)\n",
       "┌───────┬───────┬────────┬─────┬───┬───────────┬─────────────────────┬────────────────┬────────────┐\n",
       "│ start ┆ end   ┆ length ┆ op1 ┆ … ┆ sample_id ┆ flow_cell           ┆ flow_cell_type ┆ n_switches │\n",
       "│ ---   ┆ ---   ┆ ---    ┆ --- ┆   ┆ ---       ┆ ---                 ┆ ---            ┆ ---        │\n",
       "│ i64   ┆ i64   ┆ i64    ┆ i64 ┆   ┆ str       ┆ str                 ┆ str            ┆ u32        │\n",
       "╞═══════╪═══════╪════════╪═════╪═══╪═══════════╪═════════════════════╪════════════════╪════════════╡\n",
       "│ 7829  ┆ 7830  ┆ 1      ┆ 8   ┆ … ┆ PD50523b  ┆ m84047_240928_15102 ┆ revio_unbinned ┆ 8          │\n",
       "│       ┆       ┆        ┆     ┆   ┆           ┆ 5_s3                ┆                ┆            │\n",
       "│ 10372 ┆ 10373 ┆ 1      ┆ 8   ┆ … ┆ PD50523b  ┆ m84047_240928_15102 ┆ revio_unbinned ┆ 8          │\n",
       "│       ┆       ┆        ┆     ┆   ┆           ┆ 5_s3                ┆                ┆            │\n",
       "│ 13620 ┆ 13621 ┆ 1      ┆ 8   ┆ … ┆ PD50523b  ┆ m84047_240928_15102 ┆ revio_unbinned ┆ 8          │\n",
       "│       ┆       ┆        ┆     ┆   ┆           ┆ 5_s3                ┆                ┆            │\n",
       "│ 13654 ┆ 13655 ┆ 1      ┆ 8   ┆ … ┆ PD50523b  ┆ m84047_240928_15102 ┆ revio_unbinned ┆ 8          │\n",
       "│       ┆       ┆        ┆     ┆   ┆           ┆ 5_s3                ┆                ┆            │\n",
       "│ 14363 ┆ 14364 ┆ 1      ┆ 8   ┆ … ┆ PD50523b  ┆ m84047_240928_15102 ┆ revio_unbinned ┆ 8          │\n",
       "│       ┆       ┆        ┆     ┆   ┆           ┆ 5_s3                ┆                ┆            │\n",
       "│ 14692 ┆ 14693 ┆ 1      ┆ 8   ┆ … ┆ PD50523b  ┆ m84047_240928_15102 ┆ revio_unbinned ┆ 8          │\n",
       "│       ┆       ┆        ┆     ┆   ┆           ┆ 5_s3                ┆                ┆            │\n",
       "│ 15657 ┆ 15658 ┆ 1      ┆ 8   ┆ … ┆ PD50523b  ┆ m84047_240928_15102 ┆ revio_unbinned ┆ 8          │\n",
       "│       ┆       ┆        ┆     ┆   ┆           ┆ 5_s3                ┆                ┆            │\n",
       "│ 17684 ┆ 17685 ┆ 1      ┆ 8   ┆ … ┆ PD50523b  ┆ m84047_240928_15102 ┆ revio_unbinned ┆ 8          │\n",
       "│       ┆       ┆        ┆     ┆   ┆           ┆ 5_s3                ┆                ┆            │\n",
       "│ 18053 ┆ 18054 ┆ 1      ┆ 8   ┆ … ┆ PD50523b  ┆ m84047_240928_15102 ┆ revio_unbinned ┆ 8          │\n",
       "│       ┆       ┆        ┆     ┆   ┆           ┆ 5_s3                ┆                ┆            │\n",
       "│ 18380 ┆ 18381 ┆ 1      ┆ 8   ┆ … ┆ PD50523b  ┆ m84047_240928_15102 ┆ revio_unbinned ┆ 8          │\n",
       "│       ┆       ┆        ┆     ┆   ┆           ┆ 5_s3                ┆                ┆            │\n",
       "│ 22229 ┆ 22230 ┆ 1      ┆ 8   ┆ … ┆ PD50523b  ┆ m84047_240928_15102 ┆ revio_unbinned ┆ 8          │\n",
       "│       ┆       ┆        ┆     ┆   ┆           ┆ 5_s3                ┆                ┆            │\n",
       "│ 23331 ┆ 23332 ┆ 1      ┆ 8   ┆ … ┆ PD50523b  ┆ m84047_240928_15102 ┆ revio_unbinned ┆ 8          │\n",
       "│       ┆       ┆        ┆     ┆   ┆           ┆ 5_s3                ┆                ┆            │\n",
       "│ 23818 ┆ 23819 ┆ 1      ┆ 8   ┆ … ┆ PD50523b  ┆ m84047_240928_15102 ┆ revio_unbinned ┆ 8          │\n",
       "│       ┆       ┆        ┆     ┆   ┆           ┆ 5_s3                ┆                ┆            │\n",
       "│ 24036 ┆ 24037 ┆ 1      ┆ 8   ┆ … ┆ PD50523b  ┆ m84047_240928_15102 ┆ revio_unbinned ┆ 8          │\n",
       "│       ┆       ┆        ┆     ┆   ┆           ┆ 5_s3                ┆                ┆            │\n",
       "└───────┴───────┴────────┴─────┴───┴───────────┴─────────────────────┴────────────────┴────────────┘"
      ]
     },
     "execution_count": 50,
     "metadata": {},
     "output_type": "execute_result"
    }
   ],
   "source": [
    "(complex_ann_snps_df.filter(pl.col(\"read_name\") == \"m84047_240928_151025_s3/54985628/ccs\")).filter(pl.col(\"op1\") == pl.col(\"op2\"))"
   ]
  },
  {
   "cell_type": "code",
   "execution_count": null,
   "id": "4b246f0f-919c-4f72-9d47-7618fbeebb5a",
   "metadata": {},
   "outputs": [],
   "source": []
  },
  {
   "cell_type": "code",
   "execution_count": null,
   "id": "c290171f-5bc4-4890-aab4-79d35a7dd180",
   "metadata": {},
   "outputs": [],
   "source": []
  },
  {
   "cell_type": "code",
   "execution_count": null,
   "id": "ef230606-2d67-4925-9704-505447011950",
   "metadata": {},
   "outputs": [],
   "source": []
  },
  {
   "cell_type": "code",
   "execution_count": 29,
   "id": "542fbf3e-caba-40ed-819a-26e7ed84ca57",
   "metadata": {
    "tags": []
   },
   "outputs": [],
   "source": [
    "df = (complex_ann_snps_df\n",
    "#    .filter(pl.col(\"qual_start1\") >= 93)\n",
    "    .group_by(\"sample_id\", \"read_name\", \"read_length1\")\n",
    "    .agg(\n",
    "        (pl.col(\"op1\") == pl.col(\"op2\")).sum().alias(\"both_mismatch\")\n",
    "    )\n",
    ")"
   ]
  },
  {
   "cell_type": "code",
   "execution_count": 30,
   "id": "5e5028e4-f5ba-4b88-aea2-5497bbbe78f0",
   "metadata": {
    "tags": []
   },
   "outputs": [
    {
     "data": {
      "text/plain": [
       "<Axes: ylabel='Probability'>"
      ]
     },
     "execution_count": 30,
     "metadata": {},
     "output_type": "execute_result"
    },
    {
     "data": {
      "image/png": "[encoded data removed]",
      "text/plain": [
       "<Figure size 640x480 with 1 Axes>"
      ]
     },
     "metadata": {},
     "output_type": "display_data"
    }
   ],
   "source": [
    "sns.histplot(df.filter(pl.col(\"sample_id\") == \"PD50523b\")[\"both_mismatch\"], stat=\"probability\", bins=np.linspace(0,50,21))\n",
    "sns.histplot(df.filter(pl.col(\"sample_id\") == \"PD50508f\")[\"both_mismatch\"], stat=\"probability\", bins=np.linspace(0,50,21))"
   ]
  },
  {
   "cell_type": "code",
   "execution_count": 40,
   "id": "7038393f-adf1-4bb2-ad4a-ddae3d3631ce",
   "metadata": {
    "tags": []
   },
   "outputs": [
    {
     "data": {
      "text/html": [
       "<div><style>\n",
       ".dataframe > thead > tr,\n",
       ".dataframe > tbody > tr {\n",
       "  text-align: right;\n",
       "  white-space: pre-wrap;\n",
       "}\n",
       "</style>\n",
       "<small>shape: (9, 3)</small><table border=\"1\" class=\"dataframe\"><thead><tr><th>sample_id</th><th>mean_n_both_mismatches</th><th>mean_n_both_mismatches_per_bp</th></tr><tr><td>str</td><td>f64</td><td>f64</td></tr></thead><tbody><tr><td>&quot;PD50477f&quot;</td><td>5.925926</td><td>0.000434</td></tr><tr><td>&quot;PD50508f&quot;</td><td>5.428571</td><td>0.000492</td></tr><tr><td>&quot;PD50523b&quot;</td><td>6.243003</td><td>0.000503</td></tr><tr><td>&quot;PD50521b&quot;</td><td>6.757576</td><td>0.000506</td></tr><tr><td>&quot;PD46180c&quot;</td><td>6.883117</td><td>0.000528</td></tr><tr><td>&quot;PD50508b&quot;</td><td>5.6</td><td>0.000586</td></tr><tr><td>&quot;PD50519d&quot;</td><td>6.897959</td><td>0.000645</td></tr><tr><td>&quot;PD50489e&quot;</td><td>6.309524</td><td>0.000846</td></tr><tr><td>&quot;PD50521e&quot;</td><td>9.0</td><td>0.000923</td></tr></tbody></table></div>"
      ],
      "text/plain": [
       "shape: (9, 3)\n",
       "┌───────────┬────────────────────────┬───────────────────────────────┐\n",
       "│ sample_id ┆ mean_n_both_mismatches ┆ mean_n_both_mismatches_per_bp │\n",
       "│ ---       ┆ ---                    ┆ ---                           │\n",
       "│ str       ┆ f64                    ┆ f64                           │\n",
       "╞═══════════╪════════════════════════╪═══════════════════════════════╡\n",
       "│ PD50477f  ┆ 5.925926               ┆ 0.000434                      │\n",
       "│ PD50508f  ┆ 5.428571               ┆ 0.000492                      │\n",
       "│ PD50523b  ┆ 6.243003               ┆ 0.000503                      │\n",
       "│ PD50521b  ┆ 6.757576               ┆ 0.000506                      │\n",
       "│ PD46180c  ┆ 6.883117               ┆ 0.000528                      │\n",
       "│ PD50508b  ┆ 5.6                    ┆ 0.000586                      │\n",
       "│ PD50519d  ┆ 6.897959               ┆ 0.000645                      │\n",
       "│ PD50489e  ┆ 6.309524               ┆ 0.000846                      │\n",
       "│ PD50521e  ┆ 9.0                    ┆ 0.000923                      │\n",
       "└───────────┴────────────────────────┴───────────────────────────────┘"
      ]
     },
     "execution_count": 40,
     "metadata": {},
     "output_type": "execute_result"
    }
   ],
   "source": [
    "(complex_ann_snps_df\n",
    "    .filter(pl.col(\"qual_start1\") >= 60)\n",
    "    .group_by(\"sample_id\", \"read_name\", \"read_length1\")\n",
    "    .agg(\n",
    "        (pl.col(\"op1\") == pl.col(\"op2\")).sum().alias(\"n_both_mismatch\"),\n",
    "        ((pl.col(\"op1\") == pl.col(\"op2\")).sum() / pl.col(\"read_length1\").first()).alias(\"n_both_mismatch_per_bp\"),\n",
    "    )\n",
    "    .group_by(\"sample_id\")\n",
    "    .agg(\n",
    "        mean_n_both_mismatches = pl.col(\"n_both_mismatch\").mean(),\n",
    "        mean_n_both_mismatches_per_bp = pl.col(\"n_both_mismatch_per_bp\").mean(),\n",
    "    )\n",
    "    .sort(\"mean_n_both_mismatches_per_bp\")\n",
    ")"
   ]
  },
  {
   "cell_type": "code",
   "execution_count": null,
   "id": "f41daf73-0e86-434b-93f1-8b4afd4b1552",
   "metadata": {},
   "outputs": [],
   "source": []
  },
  {
   "cell_type": "markdown",
   "id": "32ac0a6a-dcf5-4877-abb7-4cad0e02af1b",
   "metadata": {},
   "source": [
    "### What is the baseline?"
   ]
  },
  {
   "cell_type": "code",
   "execution_count": 41,
   "id": "607b4bae-2506-4ebc-a5b8-08eb29663418",
   "metadata": {
    "tags": []
   },
   "outputs": [
    {
     "name": "stderr",
     "output_type": "stream",
     "text": [
      "56it [02:48,  3.00s/it]\n"
     ]
    }
   ],
   "source": [
    "output_path = Path(\"/lustre/scratch122/tol/projects/sperm/results/Rahbari_20250212\")\n",
    "\n",
    "both_mismatches_stats_df = pl.concat([\n",
    "    (\n",
    "        pl.scan_parquet(glob.glob(str(\n",
    "            output_path / f\"read_analysis/{sample_set}/{sample_id}/{flow_cell}/*/annotated_0.95_high_confidence_snps.parquet\"\n",
    "        ))).with_columns(\n",
    "            sample_id=pl.lit(sample_id), \n",
    "            flow_cell=pl.lit(flow_cell),\n",
    "            flow_cell_type=pl.lit(flow_cell_type),        \n",
    "        )\n",
    "#        .filter(pl.col(\"qual_start1\") >= 60)\n",
    "        .group_by(\"sample_id\", \"read_name\", \"read_length1\")\n",
    "        .agg(\n",
    "            (pl.col(\"op1\") == pl.col(\"op2\")).sum().alias(\"n_both_mismatch\"),\n",
    "            ((pl.col(\"op1\") == pl.col(\"op2\")).sum() / pl.col(\"read_length1\").first()).alias(\"n_both_mismatch_per_bp\"),\n",
    "        )\n",
    "        .group_by(\"sample_id\")\n",
    "        .agg(\n",
    "            mean_n_both_mismatches = pl.col(\"n_both_mismatch\").mean(),\n",
    "            mean_n_both_mismatches_per_bp = pl.col(\"n_both_mismatch_per_bp\").mean(),\n",
    "        )\n",
    "        .sort(\"mean_n_both_mismatches_per_bp\")\n",
    "\n",
    "        .collect(streaming=True)\n",
    "    )\n",
    "    for sample_set, sample_id, flow_cell, flow_cell_type, _ in tqdm.tqdm(rahbari_df.iter_rows())\n",
    "#        if sample_id in [\"PD50523b\", \"PD50477f\"]\n",
    "])\n"
   ]
  },
  {
   "cell_type": "code",
   "execution_count": 43,
   "id": "3d324c7a-b8da-423f-88b0-412d78d26444",
   "metadata": {
    "tags": []
   },
   "outputs": [
    {
     "data": {
      "text/html": [
       "<div><style>\n",
       ".dataframe > thead > tr,\n",
       ".dataframe > tbody > tr {\n",
       "  text-align: right;\n",
       "  white-space: pre-wrap;\n",
       "}\n",
       "</style>\n",
       "<small>shape: (56, 3)</small><table border=\"1\" class=\"dataframe\"><thead><tr><th>sample_id</th><th>mean_n_both_mismatches</th><th>mean_n_both_mismatches_per_bp</th></tr><tr><td>str</td><td>f64</td><td>f64</td></tr></thead><tbody><tr><td>&quot;PD50521b&quot;</td><td>0.596746</td><td>0.000044</td></tr><tr><td>&quot;PD50521b&quot;</td><td>0.634562</td><td>0.000038</td></tr><tr><td>&quot;PD50521b&quot;</td><td>0.77549</td><td>0.000047</td></tr><tr><td>&quot;PD50521b&quot;</td><td>0.931537</td><td>0.000057</td></tr><tr><td>&quot;PD50521b&quot;</td><td>0.777683</td><td>0.000047</td></tr><tr><td>&quot;PD50521e&quot;</td><td>0.363869</td><td>0.000032</td></tr><tr><td>&quot;PD50521e&quot;</td><td>0.394924</td><td>0.000035</td></tr><tr><td>&quot;PD50521e&quot;</td><td>0.402596</td><td>0.000034</td></tr><tr><td>&quot;PD50521e&quot;</td><td>0.33729</td><td>0.000031</td></tr><tr><td>&quot;PD50521e&quot;</td><td>0.507601</td><td>0.000037</td></tr><tr><td>&quot;PD50521e&quot;</td><td>0.666266</td><td>0.000051</td></tr><tr><td>&quot;PD50521e&quot;</td><td>0.72617</td><td>0.000056</td></tr><tr><td>&quot;PD50521e&quot;</td><td>0.625283</td><td>0.000047</td></tr><tr><td>&quot;PD50477f&quot;</td><td>0.371987</td><td>0.000029</td></tr><tr><td>&quot;PD50477f&quot;</td><td>0.39116</td><td>0.00003</td></tr><tr><td>&quot;PD50477f&quot;</td><td>0.457885</td><td>0.000036</td></tr><tr><td>&quot;PD50477f&quot;</td><td>0.383281</td><td>0.000031</td></tr><tr><td>&quot;PD50477f&quot;</td><td>0.633551</td><td>0.000047</td></tr><tr><td>&quot;PD50477f&quot;</td><td>0.611598</td><td>0.000044</td></tr><tr><td>&quot;PD50477f&quot;</td><td>0.543922</td><td>0.000039</td></tr><tr><td>&quot;PD50508b&quot;</td><td>0.439083</td><td>0.000035</td></tr><tr><td>&quot;PD50508b&quot;</td><td>0.539775</td><td>0.00004</td></tr><tr><td>&quot;PD50508b&quot;</td><td>0.823355</td><td>0.000051</td></tr><tr><td>&quot;PD50508b&quot;</td><td>0.710902</td><td>0.000045</td></tr><tr><td>&quot;PD50523b&quot;</td><td>0.572319</td><td>0.000039</td></tr><tr><td>&quot;PD50523b&quot;</td><td>0.530566</td><td>0.000035</td></tr><tr><td>&quot;PD50523b&quot;</td><td>0.586484</td><td>0.000039</td></tr><tr><td>&quot;PD50523b&quot;</td><td>0.528218</td><td>0.000037</td></tr><tr><td>&quot;PD50523b&quot;</td><td>0.519048</td><td>0.000035</td></tr><tr><td>&quot;PD50523b&quot;</td><td>0.699418</td><td>0.000043</td></tr><tr><td>&quot;PD50523b&quot;</td><td>0.812685</td><td>0.000051</td></tr><tr><td>&quot;PD50523b&quot;</td><td>0.551788</td><td>0.000035</td></tr><tr><td>&quot;PD50523b&quot;</td><td>0.704957</td><td>0.000044</td></tr><tr><td>&quot;PD50489e&quot;</td><td>0.516058</td><td>0.000043</td></tr><tr><td>&quot;PD50489e&quot;</td><td>0.496311</td><td>0.000042</td></tr><tr><td>&quot;PD50489e&quot;</td><td>0.532108</td><td>0.000044</td></tr><tr><td>&quot;PD50489e&quot;</td><td>0.513179</td><td>0.000042</td></tr><tr><td>&quot;PD50489e&quot;</td><td>0.58751</td><td>0.000046</td></tr><tr><td>&quot;PD50489e&quot;</td><td>0.571487</td><td>0.000043</td></tr><tr><td>&quot;PD50489e&quot;</td><td>0.499013</td><td>0.00004</td></tr><tr><td>&quot;PD50519d&quot;</td><td>0.533959</td><td>0.00004</td></tr><tr><td>&quot;PD50519d&quot;</td><td>0.539217</td><td>0.000041</td></tr><tr><td>&quot;PD50519d&quot;</td><td>0.431123</td><td>0.000032</td></tr><tr><td>&quot;PD50519d&quot;</td><td>0.534887</td><td>0.000037</td></tr><tr><td>&quot;PD50519d&quot;</td><td>0.660532</td><td>0.000045</td></tr><tr><td>&quot;PD50519d&quot;</td><td>0.875748</td><td>0.00006</td></tr><tr><td>&quot;PD50519d&quot;</td><td>0.792864</td><td>0.000054</td></tr><tr><td>&quot;PD46180c&quot;</td><td>0.532205</td><td>0.000032</td></tr><tr><td>&quot;PD46180c&quot;</td><td>0.617547</td><td>0.000045</td></tr><tr><td>&quot;PD46180c&quot;</td><td>0.517947</td><td>0.000032</td></tr><tr><td>&quot;PD46180c&quot;</td><td>0.751062</td><td>0.000044</td></tr><tr><td>&quot;PD46180c&quot;</td><td>1.009816</td><td>0.000059</td></tr><tr><td>&quot;PD46180c&quot;</td><td>0.967405</td><td>0.000057</td></tr><tr><td>&quot;PD46180c&quot;</td><td>0.80277</td><td>0.000047</td></tr><tr><td>&quot;PD50508f&quot;</td><td>0.707339</td><td>0.000041</td></tr><tr><td>&quot;PD50508f&quot;</td><td>0.856508</td><td>0.000048</td></tr></tbody></table></div>"
      ],
      "text/plain": [
       "shape: (56, 3)\n",
       "┌───────────┬────────────────────────┬───────────────────────────────┐\n",
       "│ sample_id ┆ mean_n_both_mismatches ┆ mean_n_both_mismatches_per_bp │\n",
       "│ ---       ┆ ---                    ┆ ---                           │\n",
       "│ str       ┆ f64                    ┆ f64                           │\n",
       "╞═══════════╪════════════════════════╪═══════════════════════════════╡\n",
       "│ PD50521b  ┆ 0.596746               ┆ 0.000044                      │\n",
       "│ PD50521b  ┆ 0.634562               ┆ 0.000038                      │\n",
       "│ PD50521b  ┆ 0.77549                ┆ 0.000047                      │\n",
       "│ PD50521b  ┆ 0.931537               ┆ 0.000057                      │\n",
       "│ PD50521b  ┆ 0.777683               ┆ 0.000047                      │\n",
       "│ PD50521e  ┆ 0.363869               ┆ 0.000032                      │\n",
       "│ PD50521e  ┆ 0.394924               ┆ 0.000035                      │\n",
       "│ PD50521e  ┆ 0.402596               ┆ 0.000034                      │\n",
       "│ PD50521e  ┆ 0.33729                ┆ 0.000031                      │\n",
       "│ PD50521e  ┆ 0.507601               ┆ 0.000037                      │\n",
       "│ PD50521e  ┆ 0.666266               ┆ 0.000051                      │\n",
       "│ PD50521e  ┆ 0.72617                ┆ 0.000056                      │\n",
       "│ PD50521e  ┆ 0.625283               ┆ 0.000047                      │\n",
       "│ PD50477f  ┆ 0.371987               ┆ 0.000029                      │\n",
       "│ PD50477f  ┆ 0.39116                ┆ 0.00003                       │\n",
       "│ PD50477f  ┆ 0.457885               ┆ 0.000036                      │\n",
       "│ PD50477f  ┆ 0.383281               ┆ 0.000031                      │\n",
       "│ PD50477f  ┆ 0.633551               ┆ 0.000047                      │\n",
       "│ PD50477f  ┆ 0.611598               ┆ 0.000044                      │\n",
       "│ PD50477f  ┆ 0.543922               ┆ 0.000039                      │\n",
       "│ PD50508b  ┆ 0.439083               ┆ 0.000035                      │\n",
       "│ PD50508b  ┆ 0.539775               ┆ 0.00004                       │\n",
       "│ PD50508b  ┆ 0.823355               ┆ 0.000051                      │\n",
       "│ PD50508b  ┆ 0.710902               ┆ 0.000045                      │\n",
       "│ PD50523b  ┆ 0.572319               ┆ 0.000039                      │\n",
       "│ PD50523b  ┆ 0.530566               ┆ 0.000035                      │\n",
       "│ PD50523b  ┆ 0.586484               ┆ 0.000039                      │\n",
       "│ PD50523b  ┆ 0.528218               ┆ 0.000037                      │\n",
       "│ PD50523b  ┆ 0.519048               ┆ 0.000035                      │\n",
       "│ PD50523b  ┆ 0.699418               ┆ 0.000043                      │\n",
       "│ PD50523b  ┆ 0.812685               ┆ 0.000051                      │\n",
       "│ PD50523b  ┆ 0.551788               ┆ 0.000035                      │\n",
       "│ PD50523b  ┆ 0.704957               ┆ 0.000044                      │\n",
       "│ PD50489e  ┆ 0.516058               ┆ 0.000043                      │\n",
       "│ PD50489e  ┆ 0.496311               ┆ 0.000042                      │\n",
       "│ PD50489e  ┆ 0.532108               ┆ 0.000044                      │\n",
       "│ PD50489e  ┆ 0.513179               ┆ 0.000042                      │\n",
       "│ PD50489e  ┆ 0.58751                ┆ 0.000046                      │\n",
       "│ PD50489e  ┆ 0.571487               ┆ 0.000043                      │\n",
       "│ PD50489e  ┆ 0.499013               ┆ 0.00004                       │\n",
       "│ PD50519d  ┆ 0.533959               ┆ 0.00004                       │\n",
       "│ PD50519d  ┆ 0.539217               ┆ 0.000041                      │\n",
       "│ PD50519d  ┆ 0.431123               ┆ 0.000032                      │\n",
       "│ PD50519d  ┆ 0.534887               ┆ 0.000037                      │\n",
       "│ PD50519d  ┆ 0.660532               ┆ 0.000045                      │\n",
       "│ PD50519d  ┆ 0.875748               ┆ 0.00006                       │\n",
       "│ PD50519d  ┆ 0.792864               ┆ 0.000054                      │\n",
       "│ PD46180c  ┆ 0.532205               ┆ 0.000032                      │\n",
       "│ PD46180c  ┆ 0.617547               ┆ 0.000045                      │\n",
       "│ PD46180c  ┆ 0.517947               ┆ 0.000032                      │\n",
       "│ PD46180c  ┆ 0.751062               ┆ 0.000044                      │\n",
       "│ PD46180c  ┆ 1.009816               ┆ 0.000059                      │\n",
       "│ PD46180c  ┆ 0.967405               ┆ 0.000057                      │\n",
       "│ PD46180c  ┆ 0.80277                ┆ 0.000047                      │\n",
       "│ PD50508f  ┆ 0.707339               ┆ 0.000041                      │\n",
       "│ PD50508f  ┆ 0.856508               ┆ 0.000048                      │\n",
       "└───────────┴────────────────────────┴───────────────────────────────┘"
      ]
     },
     "execution_count": 43,
     "metadata": {},
     "output_type": "execute_result"
    }
   ],
   "source": [
    "both_mismatches_stats_df"
   ]
  },
  {
   "cell_type": "code",
   "execution_count": 56,
   "id": "78f90997-a8f4-4167-98a9-cdc3101cf9b3",
   "metadata": {
    "tags": []
   },
   "outputs": [
    {
     "name": "stderr",
     "output_type": "stream",
     "text": [
      "56it [01:10,  1.26s/it]\n"
     ]
    }
   ],
   "source": [
    "output_path = Path(\"/lustre/scratch122/tol/projects/sperm/results/Rahbari_20250212\")\n",
    "\n",
    "both_mismatches_bq_stats_df = pl.concat([\n",
    "    (\n",
    "        pl.scan_parquet(glob.glob(str(\n",
    "            output_path / f\"read_analysis/{sample_set}/{sample_id}/{flow_cell}/*/annotated_0.95_high_confidence_snps.parquet\"\n",
    "        ))).with_columns(\n",
    "            sample_id=pl.lit(sample_id), \n",
    "            flow_cell=pl.lit(flow_cell),\n",
    "            flow_cell_type=pl.lit(flow_cell_type),        \n",
    "        )\n",
    "#        .filter(pl.col(\"qual_start1\") >= 60)\n",
    "        .with_columns(\n",
    "            both_mismatches = (pl.col(\"op1\") == pl.col(\"op2\")),\n",
    "        )\n",
    "        .group_by(\"sample_id\", \"flow_cell\", \"both_mismatches\", \"qual_start1\")\n",
    "        .len()\n",
    "        .collect(streaming=True)\n",
    "    )\n",
    "    for sample_set, sample_id, flow_cell, flow_cell_type, _ in tqdm.tqdm(rahbari_df.iter_rows())\n",
    "#        if sample_id in [\"PD50523b\", \"PD50477f\"]\n",
    "])\n",
    "\n",
    "both_mismatches_bq_stats_df = (both_mismatches_bq_stats_df\n",
    "    .group_by(\"sample_id\", \"both_mismatches\", \"qual_start1\")\n",
    "    .agg(pl.col(\"len\").sum())\n",
    "    .sort(\"sample_id\", \"both_mismatches\", \"qual_start1\")\n",
    ")"
   ]
  },
  {
   "cell_type": "code",
   "execution_count": 61,
   "id": "8c5943ff-a534-4910-b848-724f8e81a5f9",
   "metadata": {
    "tags": []
   },
   "outputs": [
    {
     "data": {
      "image/png": "[encoded data removed]",
      "text/plain": [
       "<Figure size 640x480 with 1 Axes>"
      ]
     },
     "metadata": {},
     "output_type": "display_data"
    }
   ],
   "source": [
    "sid = \"PD50523b\"\n",
    "\n",
    "df = both_mismatches_bq_stats_df.filter(pl.col(\"sample_id\") == sid)\n",
    "plt.plot(\n",
    "    df.filter(~pl.col(\"both_mismatches\"))[\"qual_start1\"],\n",
    "    df.filter(~pl.col(\"both_mismatches\"))[\"len\"] / df.filter(~pl.col(\"both_mismatches\"))[\"len\"].sum(),\n",
    "    label = \"SNP\",\n",
    ");\n",
    "plt.plot(\n",
    "    df.filter(pl.col(\"both_mismatches\"))[\"qual_start1\"],\n",
    "    df.filter(pl.col(\"both_mismatches\"))[\"len\"]  / df.filter(pl.col(\"both_mismatches\"))[\"len\"].sum(),\n",
    "    label = \"Both\",\n",
    ");"
   ]
  },
  {
   "cell_type": "markdown",
   "id": "2f783e13-0d43-4121-9dcc-83df0ad87aa6",
   "metadata": {},
   "source": [
    "### BQ distribution for mismatches in complex reads"
   ]
  },
  {
   "cell_type": "code",
   "execution_count": 64,
   "id": "c56672f0-d464-4968-9c74-cb4dad709c59",
   "metadata": {
    "tags": []
   },
   "outputs": [],
   "source": [
    "complex_both_mismatches_bq_stats_df = (complex_ann_snps_df\n",
    "    .with_columns(\n",
    "        both_mismatches = (pl.col(\"op1\") == pl.col(\"op2\")),\n",
    "    ) \n",
    "    .group_by(\"sample_id\", \"flow_cell\", \"both_mismatches\", \"qual_start1\")\n",
    "    .len()\n",
    ")\n",
    "\n",
    "complex_both_mismatches_bq_stats_df = (complex_both_mismatches_bq_stats_df\n",
    "    .group_by(\"sample_id\", \"both_mismatches\", \"qual_start1\")\n",
    "    .agg(pl.col(\"len\").sum())\n",
    "    .sort(\"sample_id\", \"both_mismatches\", \"qual_start1\")\n",
    ")"
   ]
  },
  {
   "cell_type": "code",
   "execution_count": 78,
   "id": "b85c8855-f871-4002-8d81-10a8d93baa95",
   "metadata": {
    "tags": []
   },
   "outputs": [
    {
     "data": {
      "image/png": "[encoded data removed]",
      "text/plain": [
       "<Figure size 400x400 with 1 Axes>"
      ]
     },
     "metadata": {},
     "output_type": "display_data"
    }
   ],
   "source": [
    "# sid = \"PD50519d\"\n",
    "# df = both_mismatches_bq_stats_df.filter(pl.col(\"sample_id\") == sid)\n",
    "# cdf = complex_both_mismatches_bq_stats_df.filter(pl.col(\"sample_id\") == sid)\n",
    "\n",
    "#sid = \"PD50519d\"\n",
    "df = both_mismatches_bq_stats_df.group_by(\"both_mismatches\", \"qual_start1\").agg(pl.col(\"len\").sum()).sort(\"qual_start1\")\n",
    "cdf = complex_both_mismatches_bq_stats_df.group_by(\"both_mismatches\", \"qual_start1\").agg(pl.col(\"len\").sum()).sort(\"qual_start1\")\n",
    "\n",
    "plt.figure(figsize=(4,4));\n",
    "plt.plot(\n",
    "    df.filter(pl.col(\"both_mismatches\"))[\"qual_start1\"],\n",
    "    df.filter(pl.col(\"both_mismatches\"))[\"len\"]  / df.filter(pl.col(\"both_mismatches\"))[\"len\"].sum(),\n",
    "    label = \"Double-Mismatches (all)\",\n",
    ");\n",
    "\n",
    "plt.plot(\n",
    "    cdf.filter(pl.col(\"both_mismatches\"))[\"qual_start1\"],\n",
    "    cdf.filter(pl.col(\"both_mismatches\"))[\"len\"]  / cdf.filter(pl.col(\"both_mismatches\"))[\"len\"].sum(),\n",
    "    label = \"Double-Mismatches (complex)\",\n",
    ");\n",
    "\n",
    "plt.legend()\n",
    "plt.xlabel(\"BQ\");\n",
    "plt.ylabel(\"Fraction\");"
   ]
  },
  {
   "cell_type": "code",
   "execution_count": null,
   "id": "e2c1c0d6-ba15-414e-b8a9-0a8575709d2f",
   "metadata": {},
   "outputs": [],
   "source": []
  },
  {
   "cell_type": "markdown",
   "id": "b0f2b9ae-1f5e-47bd-8a4d-d82fa3dd4bea",
   "metadata": {},
   "source": [
    "# Paint"
   ]
  },
  {
   "cell_type": "code",
   "execution_count": 16,
   "id": "ed14aa8b-519a-4526-a19d-2764afe59a72",
   "metadata": {
    "tags": []
   },
   "outputs": [],
   "source": [
    "def paint_complex_events(\n",
    "    df,\n",
    "    figsize=(10,8),\n",
    "):\n",
    "\n",
    "    complex_rows = df.rows(named=True)\n",
    "\n",
    "    fig, ax = plt.subplots(figsize=figsize)\n",
    "\n",
    "    for i, row in enumerate(complex_rows):\n",
    "\n",
    "        ax.plot(\n",
    "            [0, row[\"read_length\"]],\n",
    "            [i,i],\n",
    "            color=\"black\",\n",
    "            lw=0.5,\n",
    "            alpha=0.5,\n",
    "        )\n",
    "\n",
    "        colors = [0]\n",
    "        for j in range(1, len(row[\"snp_positions_on_read\"])):\n",
    "            if j in row[\"idx_transitions\"]:\n",
    "                colors.append(1-colors[-1])\n",
    "            else:\n",
    "                colors.append(colors[-1])\n",
    "\n",
    "        ax.scatter(\n",
    "            x = row[\"snp_positions_on_read\"],\n",
    "            y = [i] * len(row[\"snp_positions_on_read\"]),\n",
    "            s = 6,\n",
    "            c = [[\"blue\", \"red\"][x] for x in colors],\n",
    "        )\n",
    "\n",
    "    ax.spines['top'].set_visible(False)\n",
    "    ax.spines['right'].set_visible(False)\n",
    "    #ax.spines['bottom'].set_visible(False)\n",
    "    ax.spines['left'].set_visible(False)\n",
    "\n",
    "    ax.set_xlabel(\"Position in read (bp)\");\n",
    "    ax.set_yticks([], []); #np.arange(len(complex_rows)), np.arange(len(complex_rows)), fontsize=7);\n",
    "    \n",
    "    return ax"
   ]
  },
  {
   "cell_type": "code",
   "execution_count": 17,
   "id": "a46ee7dd-2546-4320-aa9f-80f4ef3da248",
   "metadata": {
    "tags": []
   },
   "outputs": [
    {
     "ename": "NameError",
     "evalue": "name 'clean_df' is not defined",
     "output_type": "error",
     "traceback": [
      "\u001b[0;31m---------------------------------------------------------------------------\u001b[0m",
      "\u001b[0;31mNameError\u001b[0m                                 Traceback (most recent call last)",
      "Cell \u001b[0;32mIn[17], line 3\u001b[0m\n\u001b[1;32m      1\u001b[0m ax \u001b[38;5;241m=\u001b[39m paint_complex_events(\n\u001b[1;32m      2\u001b[0m     \u001b[38;5;66;03m#(dense_reads_with_detection_df\u001b[39;00m\n\u001b[0;32m----> 3\u001b[0m     (\u001b[43mclean_df\u001b[49m\n\u001b[1;32m      4\u001b[0m         \u001b[38;5;241m.\u001b[39mfilter(pl\u001b[38;5;241m.\u001b[39mcol(\u001b[38;5;124m\"\u001b[39m\u001b[38;5;124midx_transitions\u001b[39m\u001b[38;5;124m\"\u001b[39m)\u001b[38;5;241m.\u001b[39mlist\u001b[38;5;241m.\u001b[39mlen() \u001b[38;5;241m==\u001b[39m \u001b[38;5;241m3\u001b[39m)\n\u001b[1;32m      5\u001b[0m     ),\n\u001b[1;32m      6\u001b[0m     figsize\u001b[38;5;241m=\u001b[39m(\u001b[38;5;241m10\u001b[39m,\u001b[38;5;241m8\u001b[39m),\n\u001b[1;32m      7\u001b[0m )\n\u001b[1;32m      9\u001b[0m ax\u001b[38;5;241m.\u001b[39mset_title(\u001b[38;5;124m\"\u001b[39m\u001b[38;5;124m3 switches\u001b[39m\u001b[38;5;124m\"\u001b[39m);\n",
      "\u001b[0;31mNameError\u001b[0m: name 'clean_df' is not defined"
     ]
    }
   ],
   "source": [
    "ax = paint_complex_events(\n",
    "    #(dense_reads_with_detection_df\n",
    "    (clean_df\n",
    "        .filter(pl.col(\"idx_transitions\").list.len() == 3)\n",
    "    ),\n",
    "    figsize=(10,8),\n",
    ")\n",
    "\n",
    "ax.set_title(\"3 switches\");"
   ]
  },
  {
   "cell_type": "code",
   "execution_count": null,
   "id": "63812c88-9d06-4b6b-80c3-ce5358395e30",
   "metadata": {
    "tags": []
   },
   "outputs": [],
   "source": [
    "ax = paint_complex_events(\n",
    "    (clean_df\n",
    "        .filter(pl.col(\"idx_transitions\").list.len() == 4)\n",
    "    ),\n",
    "    figsize=(10,8),\n",
    ")\n",
    "\n",
    "ax.set_title(\"4 switches\");"
   ]
  },
  {
   "cell_type": "code",
   "execution_count": null,
   "id": "383165fc-a06e-41a8-8974-a1ec80a25b8a",
   "metadata": {
    "tags": []
   },
   "outputs": [],
   "source": [
    "ax = paint_complex_events(\n",
    "    (clean_df\n",
    "        .filter(pl.col(\"idx_transitions\").list.len() >= 6)\n",
    "    ),\n",
    "    figsize=(10,8),\n",
    ")\n",
    "\n",
    "ax.set_title(\">=8 switches\");"
   ]
  },
  {
   "cell_type": "markdown",
   "id": "e191dd8f-bd70-4f93-a6e9-413dc35a4f28",
   "metadata": {},
   "source": [
    "# Genetic length distribution"
   ]
  },
  {
   "cell_type": "code",
   "execution_count": 55,
   "id": "7c24a923-2bdd-4702-bda5-3160a52081a6",
   "metadata": {
    "tags": []
   },
   "outputs": [
    {
     "data": {
      "image/png": "[encoded data removed]",
      "text/plain": [
       "<Figure size 640x480 with 1 Axes>"
      ]
     },
     "metadata": {},
     "output_type": "display_data"
    }
   ],
   "source": [
    "plt.hist(\n",
    "    (clean_df[\"full_read_crossover_prob\"]*1e2).log10(),\n",
    "    bins=50,\n",
    ");"
   ]
  },
  {
   "cell_type": "code",
   "execution_count": 56,
   "id": "ad77ee18-670c-42df-85dc-6b946e14caea",
   "metadata": {
    "tags": []
   },
   "outputs": [
    {
     "data": {
      "text/plain": [
       "3.0804958558523228"
      ]
     },
     "execution_count": 56,
     "metadata": {},
     "output_type": "execute_result"
    }
   ],
   "source": [
    "(\n",
    "    clean_df[\"full_read_crossover_prob\"]*1e2 / \n",
    "    (clean_df[\"read_length\"] / 1e6)\n",
    ").mean()"
   ]
  },
  {
   "cell_type": "markdown",
   "id": "b7b9cd75-3d95-4d4c-838e-66efa65f6ce3",
   "metadata": {},
   "source": [
    "# Does it have hostpots"
   ]
  },
  {
   "cell_type": "code",
   "execution_count": 16,
   "id": "5ac0d530-74ec-49de-b609-3ab6857074e7",
   "metadata": {
    "tags": []
   },
   "outputs": [
    {
     "data": {
      "text/html": [
       "<div><style>\n",
       ".dataframe > thead > tr,\n",
       ".dataframe > tbody > tr {\n",
       "  text-align: right;\n",
       "  white-space: pre-wrap;\n",
       "}\n",
       "</style>\n",
       "<small>shape: (1, 1)</small><table border=\"1\" class=\"dataframe\"><thead><tr><th>AA_motif_center_pos</th></tr><tr><td>f64</td></tr></thead><tbody><tr><td>0.166667</td></tr></tbody></table></div>"
      ],
      "text/plain": [
       "shape: (1, 1)\n",
       "┌─────────────────────┐\n",
       "│ AA_motif_center_pos │\n",
       "│ ---                 │\n",
       "│ f64                 │\n",
       "╞═════════════════════╡\n",
       "│ 0.166667            │\n",
       "└─────────────────────┘"
      ]
     },
     "execution_count": 16,
     "metadata": {},
     "output_type": "execute_result"
    }
   ],
   "source": [
    "dense_reads_with_detection_df.select(pl.col(\"AA_motif_center_pos\").is_not_null()).mean()"
   ]
  },
  {
   "cell_type": "code",
   "execution_count": 18,
   "id": "fb9a6fc6-5dfa-4454-92ba-165f5140f9a0",
   "metadata": {
    "tags": []
   },
   "outputs": [
    {
     "data": {
      "text/html": [
       "<div><style>\n",
       ".dataframe > thead > tr,\n",
       ".dataframe > tbody > tr {\n",
       "  text-align: right;\n",
       "  white-space: pre-wrap;\n",
       "}\n",
       "</style>\n",
       "<small>shape: (9, 2)</small><table border=\"1\" class=\"dataframe\"><thead><tr><th>n_trans</th><th>has_dsb</th></tr><tr><td>u32</td><td>f64</td></tr></thead><tbody><tr><td>3</td><td>0.223301</td></tr><tr><td>4</td><td>0.081633</td></tr><tr><td>5</td><td>0.111111</td></tr><tr><td>6</td><td>0.0</td></tr><tr><td>7</td><td>0.333333</td></tr><tr><td>8</td><td>0.0</td></tr><tr><td>9</td><td>1.0</td></tr><tr><td>12</td><td>0.0</td></tr><tr><td>14</td><td>0.0</td></tr></tbody></table></div>"
      ],
      "text/plain": [
       "shape: (9, 2)\n",
       "┌─────────┬──────────┐\n",
       "│ n_trans ┆ has_dsb  │\n",
       "│ ---     ┆ ---      │\n",
       "│ u32     ┆ f64      │\n",
       "╞═════════╪══════════╡\n",
       "│ 3       ┆ 0.223301 │\n",
       "│ 4       ┆ 0.081633 │\n",
       "│ 5       ┆ 0.111111 │\n",
       "│ 6       ┆ 0.0      │\n",
       "│ 7       ┆ 0.333333 │\n",
       "│ 8       ┆ 0.0      │\n",
       "│ 9       ┆ 1.0      │\n",
       "│ 12      ┆ 0.0      │\n",
       "│ 14      ┆ 0.0      │\n",
       "└─────────┴──────────┘"
      ]
     },
     "execution_count": 18,
     "metadata": {},
     "output_type": "execute_result"
    }
   ],
   "source": [
    "(dense_reads_with_detection_df\n",
    "    .select(\n",
    "        pl.col(\"idx_transitions\").list.len().alias(\"n_trans\"),\n",
    "        pl.col(\"AA_motif_center_pos\").is_not_null().alias(\"has_dsb\"),\n",
    "    )\n",
    "    .group_by(\"n_trans\")\n",
    "    .agg(pl.col(\"has_dsb\").mean())\n",
    "    .sort(\"n_trans\")\n",
    ")"
   ]
  },
  {
   "cell_type": "markdown",
   "id": "a53c19db-89f3-43ab-82c7-9f7cc2c634e6",
   "metadata": {},
   "source": [
    "# Compare numbers between individuals]"
   ]
  },
  {
   "cell_type": "code",
   "execution_count": 47,
   "id": "36d41d9e-96fb-4127-849f-89923fb85fda",
   "metadata": {
    "tags": []
   },
   "outputs": [
    {
     "name": "stderr",
     "output_type": "stream",
     "text": [
      "100%|██████████| 15/15 [00:00<00:00, 20.82it/s]"
     ]
    },
    {
     "name": "stdout",
     "output_type": "stream",
     "text": [
      "CPU times: user 194 ms, sys: 208 ms, total: 402 ms\n",
      "Wall time: 757 ms\n"
     ]
    },
    {
     "name": "stderr",
     "output_type": "stream",
     "text": [
      "\n"
     ]
    }
   ],
   "source": [
    "%%time\n",
    "reads_df = pl.concat([\n",
    "    pl.scan_parquet(\n",
    "        f\"/lustre/scratch126/casm/team154pc/sl17/03.sperm/02.results/01.read_alignment/01.ccs/04.hifiasm/02.hifiasm_0.19.5-r592/02.chromosome_length_scaffolds/{focal_sample_id}/reads/{chrom}_RagTag.certainty_0.95.all_reads_structure_annotated.parquet\"\n",
    "    ) \n",
    "    for focal_sample_id in tqdm.tqdm(sample_ids)\n",
    "    for chrom in aut_chrom_names\n",
    "])"
   ]
  },
  {
   "cell_type": "code",
   "execution_count": 48,
   "id": "b7adb5a6-2b33-45c0-b3c8-f05873dfbca2",
   "metadata": {
    "tags": []
   },
   "outputs": [
    {
     "name": "stdout",
     "output_type": "stream",
     "text": [
      "CPU times: user 34.4 s, sys: 6.22 s, total: 40.6 s\n",
      "Wall time: 30.6 s\n"
     ]
    }
   ],
   "source": [
    "%%time\n",
    "candidates_df = (reads_df\n",
    "    .select(\n",
    "        'read_name',\n",
    "        'chrom',\n",
    "        'sample_id',\n",
    "        'is_high_quality_read',\n",
    "        \"high_quality_classification_class\",\n",
    "        \"high_quality_classification_in_detectable_class\",\n",
    "    )\n",
    "    .filter(\"is_high_quality_read\")\n",
    "    .filter(pl.col(\"high_quality_classification_class\").is_not_null())\n",
    "    .collect(streaming=True)\n",
    ")"
   ]
  },
  {
   "cell_type": "code",
   "execution_count": 49,
   "id": "36187296-eeec-47a4-a884-4033503451d1",
   "metadata": {
    "tags": []
   },
   "outputs": [
    {
     "data": {
      "text/plain": [
       "9679"
      ]
     },
     "execution_count": 49,
     "metadata": {},
     "output_type": "execute_result"
    }
   ],
   "source": [
    "len(candidates_df)"
   ]
  },
  {
   "cell_type": "code",
   "execution_count": null,
   "id": "d98d3c5b-c054-4f98-8768-6af6cfcc337b",
   "metadata": {},
   "outputs": [],
   "source": []
  },
  {
   "cell_type": "code",
   "execution_count": 50,
   "id": "92407bdf-89a4-415a-94be-e468372d5814",
   "metadata": {
    "tags": []
   },
   "outputs": [
    {
     "data": {
      "text/html": [
       "<div><style>\n",
       ".dataframe > thead > tr,\n",
       ".dataframe > tbody > tr {\n",
       "  text-align: right;\n",
       "  white-space: pre-wrap;\n",
       "}\n",
       "</style>\n",
       "<small>shape: (15, 5)</small><table border=\"1\" class=\"dataframe\"><thead><tr><th>paper_label_id</th><th>CO</th><th>GC</th><th>ambiguous</th><th>CNCO</th></tr><tr><td>str</td><td>u32</td><td>u32</td><td>u32</td><td>u32</td></tr></thead><tbody><tr><td>&quot;AA1-s1&quot;</td><td>161</td><td>45</td><td>95</td><td>3</td></tr><tr><td>&quot;AA1-s2&quot;</td><td>130</td><td>31</td><td>78</td><td>8</td></tr><tr><td>&quot;AA2-t1&quot;</td><td>262</td><td>72</td><td>135</td><td>45</td></tr><tr><td>&quot;AA2-t2&quot;</td><td>179</td><td>82</td><td>110</td><td>54</td></tr><tr><td>&quot;AA3&quot;</td><td>205</td><td>73</td><td>126</td><td>31</td></tr><tr><td>&quot;AA4&quot;</td><td>180</td><td>51</td><td>80</td><td>24</td></tr><tr><td>&quot;AA5&quot;</td><td>520</td><td>233</td><td>419</td><td>13</td></tr><tr><td>&quot;AA6&quot;</td><td>447</td><td>212</td><td>326</td><td>11</td></tr><tr><td>&quot;AA7&quot;</td><td>501</td><td>212</td><td>346</td><td>18</td></tr><tr><td>&quot;AA8&quot;</td><td>442</td><td>171</td><td>346</td><td>12</td></tr><tr><td>&quot;AA9&quot;</td><td>425</td><td>181</td><td>346</td><td>9</td></tr><tr><td>&quot;AN-s1&quot;</td><td>233</td><td>91</td><td>161</td><td>62</td></tr><tr><td>&quot;AN-s2&quot;</td><td>202</td><td>71</td><td>118</td><td>33</td></tr><tr><td>&quot;AB&quot;</td><td>363</td><td>149</td><td>304</td><td>9</td></tr><tr><td>&quot;AD&quot;</td><td>210</td><td>85</td><td>119</td><td>19</td></tr></tbody></table></div>"
      ],
      "text/plain": [
       "shape: (15, 5)\n",
       "┌────────────────┬─────┬─────┬───────────┬──────┐\n",
       "│ paper_label_id ┆ CO  ┆ GC  ┆ ambiguous ┆ CNCO │\n",
       "│ ---            ┆ --- ┆ --- ┆ ---       ┆ ---  │\n",
       "│ str            ┆ u32 ┆ u32 ┆ u32       ┆ u32  │\n",
       "╞════════════════╪═════╪═════╪═══════════╪══════╡\n",
       "│ AA1-s1         ┆ 161 ┆ 45  ┆ 95        ┆ 3    │\n",
       "│ AA1-s2         ┆ 130 ┆ 31  ┆ 78        ┆ 8    │\n",
       "│ AA2-t1         ┆ 262 ┆ 72  ┆ 135       ┆ 45   │\n",
       "│ AA2-t2         ┆ 179 ┆ 82  ┆ 110       ┆ 54   │\n",
       "│ AA3            ┆ 205 ┆ 73  ┆ 126       ┆ 31   │\n",
       "│ AA4            ┆ 180 ┆ 51  ┆ 80        ┆ 24   │\n",
       "│ AA5            ┆ 520 ┆ 233 ┆ 419       ┆ 13   │\n",
       "│ AA6            ┆ 447 ┆ 212 ┆ 326       ┆ 11   │\n",
       "│ AA7            ┆ 501 ┆ 212 ┆ 346       ┆ 18   │\n",
       "│ AA8            ┆ 442 ┆ 171 ┆ 346       ┆ 12   │\n",
       "│ AA9            ┆ 425 ┆ 181 ┆ 346       ┆ 9    │\n",
       "│ AN-s1          ┆ 233 ┆ 91  ┆ 161       ┆ 62   │\n",
       "│ AN-s2          ┆ 202 ┆ 71  ┆ 118       ┆ 33   │\n",
       "│ AB             ┆ 363 ┆ 149 ┆ 304       ┆ 9    │\n",
       "│ AD             ┆ 210 ┆ 85  ┆ 119       ┆ 19   │\n",
       "└────────────────┴─────┴─────┴───────────┴──────┘"
      ]
     },
     "metadata": {},
     "output_type": "display_data"
    }
   ],
   "source": [
    "call_stats_df = (candidates_df    \n",
    "    .pivot(\n",
    "        values=[\"high_quality_classification_class\"],\n",
    "        index=[\"sample_id\"],\n",
    "        columns=[\"high_quality_classification_class\"],\n",
    "        aggregate_function='len'\n",
    "    )\n",
    "    .sort(by=\"sample_id\")\n",
    "    .select(\"sample_id\", \"CO\", \"GC\", \"ambiguous\", \"CNCO\")\n",
    ")\n",
    "\n",
    "call_stats_df = (\n",
    "    pl.DataFrame(\n",
    "        {\n",
    "            \"sample_id\": sample_presentation_order, \n",
    "            \"paper_label_id\": [sample_id_to_paper_label[x] for x in sample_presentation_order]\n",
    "        }\n",
    "    )\n",
    "    .join(call_stats_df, on=\"sample_id\")\n",
    ")\n",
    "\n",
    "with pl.Config(tbl_rows=40):\n",
    "    display(call_stats_df.drop(\"sample_id\"))"
   ]
  },
  {
   "cell_type": "code",
   "execution_count": 59,
   "id": "8b80d360-31a7-4e1d-8b05-34c19ad03bb6",
   "metadata": {
    "tags": []
   },
   "outputs": [
    {
     "data": {
      "text/html": [
       "<div><style>\n",
       ".dataframe > thead > tr,\n",
       ".dataframe > tbody > tr {\n",
       "  text-align: right;\n",
       "  white-space: pre-wrap;\n",
       "}\n",
       "</style>\n",
       "<small>shape: (1, 6)</small><table border=\"1\" class=\"dataframe\"><thead><tr><th>sample_id</th><th>paper_label_id</th><th>CO</th><th>GC</th><th>ambiguous</th><th>CNCO</th></tr><tr><td>str</td><td>str</td><td>u32</td><td>u32</td><td>u32</td><td>u32</td></tr></thead><tbody><tr><td>null</td><td>null</td><td>4460</td><td>1759</td><td>3109</td><td>351</td></tr></tbody></table></div>"
      ],
      "text/plain": [
       "shape: (1, 6)\n",
       "┌───────────┬────────────────┬──────┬──────┬───────────┬──────┐\n",
       "│ sample_id ┆ paper_label_id ┆ CO   ┆ GC   ┆ ambiguous ┆ CNCO │\n",
       "│ ---       ┆ ---            ┆ ---  ┆ ---  ┆ ---       ┆ ---  │\n",
       "│ str       ┆ str            ┆ u32  ┆ u32  ┆ u32       ┆ u32  │\n",
       "╞═══════════╪════════════════╪══════╪══════╪═══════════╪══════╡\n",
       "│ null      ┆ null           ┆ 4460 ┆ 1759 ┆ 3109      ┆ 351  │\n",
       "└───────────┴────────────────┴──────┴──────┴───────────┴──────┘"
      ]
     },
     "execution_count": 59,
     "metadata": {},
     "output_type": "execute_result"
    }
   ],
   "source": [
    "call_stats_df.sum()"
   ]
  },
  {
   "cell_type": "code",
   "execution_count": 55,
   "id": "28a43c78-af2b-4686-8b4d-6fb627c1da92",
   "metadata": {
    "tags": []
   },
   "outputs": [
    {
     "data": {
      "text/plain": [
       "Chi2ContingencyResult(statistic=389.5600391904709, pvalue=2.002452818846771e-74, dof=14, expected_freq=array([[  11.02427937,    8.95722699,   18.63973551,   15.41223267,\n",
       "          15.77487344,   12.14846575,   42.97293109,   36.11902056,\n",
       "          39.05641079,   35.21241864,   34.84977787,   19.83645005,\n",
       "          15.37596859,   29.91786342,   15.70234528],\n",
       "       [ 292.97572063,  238.04277301,  495.36026449,  409.58776733,\n",
       "         419.22512656,  322.85153425, 1142.02706891,  959.88097944,\n",
       "        1037.94358921,  935.78758136,  926.15022213,  527.16354995,\n",
       "         408.62403141,  795.08213658,  417.29765472]]))"
      ]
     },
     "execution_count": 55,
     "metadata": {},
     "output_type": "execute_result"
    }
   ],
   "source": [
    "import scipy.stats\n",
    "\n",
    "cont = np.array(\n",
    "    [call_stats_df[\"CNCO\"].to_numpy(), (call_stats_df[\"CO\"]+call_stats_df[\"GC\"]+call_stats_df[\"ambiguous\"]).to_numpy()]\n",
    ")\n",
    "\n",
    "scipy.stats.chi2_contingency(cont)"
   ]
  },
  {
   "cell_type": "code",
   "execution_count": null,
   "id": "9747a14a-8f0f-42bc-8614-e0f8e8b8efa0",
   "metadata": {},
   "outputs": [],
   "source": []
  },
  {
   "cell_type": "code",
   "execution_count": 28,
   "id": "ab08056c-4a97-439d-b83a-b5196115ccce",
   "metadata": {},
   "outputs": [
    {
     "data": {
      "text/html": [
       "<div><style>\n",
       ".dataframe > thead > tr,\n",
       ".dataframe > tbody > tr {\n",
       "  text-align: right;\n",
       "  white-space: pre-wrap;\n",
       "}\n",
       "</style>\n",
       "<small>shape: (37, 4)</small><table border=\"1\" class=\"dataframe\"><thead><tr><th>n_switches</th><th>read_name</th><th>chrom</th><th>sample_id</th></tr><tr><td>u32</td><td>str</td><td>str</td><td>str</td></tr></thead><tbody><tr><td>11</td><td>&quot;m84047_240928_140551_s1/201983590/ccs&quot;</td><td>&quot;chr5&quot;</td><td>&quot;PD46180c&quot;</td></tr><tr><td>11</td><td>&quot;m84047_240928_151025_s3/219942845/ccs&quot;</td><td>&quot;chr1&quot;</td><td>&quot;PD50523b&quot;</td></tr><tr><td>11</td><td>&quot;m84047_240928_151025_s3/157485080/ccs&quot;</td><td>&quot;chr6&quot;</td><td>&quot;PD50523b&quot;</td></tr><tr><td>11</td><td>&quot;m84093_241009_101414_s1/194318210/ccs&quot;</td><td>&quot;chr8&quot;</td><td>&quot;PD50523b&quot;</td></tr><tr><td>11</td><td>&quot;m84047_240928_151025_s3/218236641/ccs&quot;</td><td>&quot;chr11&quot;</td><td>&quot;PD50523b&quot;</td></tr><tr><td>11</td><td>&quot;m84098_241009_114708_s4/158992428/ccs&quot;</td><td>&quot;chr14&quot;</td><td>&quot;PD50523b&quot;</td></tr><tr><td>11</td><td>&quot;m84047_240928_151025_s3/86509773/ccs&quot;</td><td>&quot;chr15&quot;</td><td>&quot;PD50523b&quot;</td></tr><tr><td>11</td><td>&quot;m84047_240927_134858_s1/249169861/ccs&quot;</td><td>&quot;chr11&quot;</td><td>&quot;PD50489e&quot;</td></tr><tr><td>12</td><td>&quot;m84047_240928_140551_s1/85725653/ccs&quot;</td><td>&quot;chr3&quot;</td><td>&quot;PD46180c&quot;</td></tr><tr><td>12</td><td>&quot;m64094e_220916_121850/110823223/ccs&quot;</td><td>&quot;chr7&quot;</td><td>&quot;PD46180c&quot;</td></tr><tr><td>12</td><td>&quot;m84047_240924_103047_s2/128386375/ccs&quot;</td><td>&quot;chr9&quot;</td><td>&quot;PD46180c&quot;</td></tr><tr><td>12</td><td>&quot;m84047_241008_110952_s3/40110517/ccs&quot;</td><td>&quot;chr13&quot;</td><td>&quot;PD46180c&quot;</td></tr><tr><td>12</td><td>&quot;m64221e_220814_084225/162661816/ccs&quot;</td><td>&quot;chr11&quot;</td><td>&quot;PD50519d&quot;</td></tr><tr><td>12</td><td>&quot;m64222e_220804_013319/77136842/ccs&quot;</td><td>&quot;chr14&quot;</td><td>&quot;PD50519d&quot;</td></tr><tr><td>12</td><td>&quot;m84047_240928_151025_s3/220007551/ccs&quot;</td><td>&quot;chr1&quot;</td><td>&quot;PD50523b&quot;</td></tr><tr><td>12</td><td>&quot;m84098_241009_111452_s3/25888886/ccs&quot;</td><td>&quot;chr3&quot;</td><td>&quot;PD50523b&quot;</td></tr><tr><td>12</td><td>&quot;m84047_240928_151025_s3/81855661/ccs&quot;</td><td>&quot;chr4&quot;</td><td>&quot;PD50523b&quot;</td></tr><tr><td>12</td><td>&quot;m84098_241009_114708_s4/109253855/ccs&quot;</td><td>&quot;chr5&quot;</td><td>&quot;PD50523b&quot;</td></tr><tr><td>12</td><td>&quot;m84098_241009_111452_s3/79954070/ccs&quot;</td><td>&quot;chr6&quot;</td><td>&quot;PD50523b&quot;</td></tr><tr><td>12</td><td>&quot;m84047_241008_100605_s1/242484467/ccs&quot;</td><td>&quot;chr5&quot;</td><td>&quot;PD50477f&quot;</td></tr><tr><td>13</td><td>&quot;m84047_241008_114208_s4/5442143/ccs&quot;</td><td>&quot;chr5&quot;</td><td>&quot;PD46180c&quot;</td></tr><tr><td>13</td><td>&quot;m84047_240928_151025_s3/90769942/ccs&quot;</td><td>&quot;chr7&quot;</td><td>&quot;PD50523b&quot;</td></tr><tr><td>13</td><td>&quot;m84047_240928_151025_s3/94310473/ccs&quot;</td><td>&quot;chr16&quot;</td><td>&quot;PD50523b&quot;</td></tr><tr><td>13</td><td>&quot;m84098_241009_111452_s3/96212881/ccs&quot;</td><td>&quot;chr18&quot;</td><td>&quot;PD50523b&quot;</td></tr><tr><td>14</td><td>&quot;m84047_241008_114208_s4/226628033/ccs&quot;</td><td>&quot;chr14&quot;</td><td>&quot;PD46180c&quot;</td></tr><tr><td>14</td><td>&quot;m84098_241009_111452_s3/201526491/ccs&quot;</td><td>&quot;chr22&quot;</td><td>&quot;PD50523b&quot;</td></tr><tr><td>15</td><td>&quot;m64229e_220909_150132/12977941/ccs&quot;</td><td>&quot;chr3&quot;</td><td>&quot;PD50521b&quot;</td></tr><tr><td>15</td><td>&quot;m84047_240928_151025_s3/159975779/ccs&quot;</td><td>&quot;chr3&quot;</td><td>&quot;PD50523b&quot;</td></tr><tr><td>15</td><td>&quot;m84047_240928_151025_s3/229839399/ccs&quot;</td><td>&quot;chr7&quot;</td><td>&quot;PD50523b&quot;</td></tr><tr><td>16</td><td>&quot;m84047_240928_140551_s1/149097314/ccs&quot;</td><td>&quot;chr18&quot;</td><td>&quot;PD46180c&quot;</td></tr><tr><td>16</td><td>&quot;m84047_240928_151025_s3/224528094/ccs&quot;</td><td>&quot;chr2&quot;</td><td>&quot;PD50523b&quot;</td></tr><tr><td>16</td><td>&quot;m84047_240928_151025_s3/265029841/ccs&quot;</td><td>&quot;chr4&quot;</td><td>&quot;PD50523b&quot;</td></tr><tr><td>17</td><td>&quot;m84047_240928_151025_s3/44897695/ccs&quot;</td><td>&quot;chr13&quot;</td><td>&quot;PD50523b&quot;</td></tr><tr><td>18</td><td>&quot;m84047_240928_140551_s1/167578481/ccs&quot;</td><td>&quot;chr11&quot;</td><td>&quot;PD46180c&quot;</td></tr><tr><td>18</td><td>&quot;m84047_240928_151025_s3/187175747/ccs&quot;</td><td>&quot;chr3&quot;</td><td>&quot;PD50523b&quot;</td></tr><tr><td>18</td><td>&quot;m84093_241009_101414_s1/160301423/ccs&quot;</td><td>&quot;chr9&quot;</td><td>&quot;PD50523b&quot;</td></tr><tr><td>22</td><td>&quot;m84047_240928_151025_s3/27787373/ccs&quot;</td><td>&quot;chr10&quot;</td><td>&quot;PD50523b&quot;</td></tr></tbody></table></div>"
      ],
      "text/plain": [
       "shape: (37, 4)\n",
       "┌────────────┬───────────────────────────────────────┬───────┬───────────┐\n",
       "│ n_switches ┆ read_name                             ┆ chrom ┆ sample_id │\n",
       "│ ---        ┆ ---                                   ┆ ---   ┆ ---       │\n",
       "│ u32        ┆ str                                   ┆ str   ┆ str       │\n",
       "╞════════════╪═══════════════════════════════════════╪═══════╪═══════════╡\n",
       "│ 11         ┆ m84047_240928_140551_s1/201983590/ccs ┆ chr5  ┆ PD46180c  │\n",
       "│ 11         ┆ m84047_240928_151025_s3/219942845/ccs ┆ chr1  ┆ PD50523b  │\n",
       "│ 11         ┆ m84047_240928_151025_s3/157485080/ccs ┆ chr6  ┆ PD50523b  │\n",
       "│ 11         ┆ m84093_241009_101414_s1/194318210/ccs ┆ chr8  ┆ PD50523b  │\n",
       "│ 11         ┆ m84047_240928_151025_s3/218236641/ccs ┆ chr11 ┆ PD50523b  │\n",
       "│ 11         ┆ m84098_241009_114708_s4/158992428/ccs ┆ chr14 ┆ PD50523b  │\n",
       "│ 11         ┆ m84047_240928_151025_s3/86509773/ccs  ┆ chr15 ┆ PD50523b  │\n",
       "│ 11         ┆ m84047_240927_134858_s1/249169861/ccs ┆ chr11 ┆ PD50489e  │\n",
       "│ 12         ┆ m84047_240928_140551_s1/85725653/ccs  ┆ chr3  ┆ PD46180c  │\n",
       "│ 12         ┆ m64094e_220916_121850/110823223/ccs   ┆ chr7  ┆ PD46180c  │\n",
       "│ 12         ┆ m84047_240924_103047_s2/128386375/ccs ┆ chr9  ┆ PD46180c  │\n",
       "│ 12         ┆ m84047_241008_110952_s3/40110517/ccs  ┆ chr13 ┆ PD46180c  │\n",
       "│ 12         ┆ m64221e_220814_084225/162661816/ccs   ┆ chr11 ┆ PD50519d  │\n",
       "│ 12         ┆ m64222e_220804_013319/77136842/ccs    ┆ chr14 ┆ PD50519d  │\n",
       "│ 12         ┆ m84047_240928_151025_s3/220007551/ccs ┆ chr1  ┆ PD50523b  │\n",
       "│ 12         ┆ m84098_241009_111452_s3/25888886/ccs  ┆ chr3  ┆ PD50523b  │\n",
       "│ 12         ┆ m84047_240928_151025_s3/81855661/ccs  ┆ chr4  ┆ PD50523b  │\n",
       "│ 12         ┆ m84098_241009_114708_s4/109253855/ccs ┆ chr5  ┆ PD50523b  │\n",
       "│ 12         ┆ m84098_241009_111452_s3/79954070/ccs  ┆ chr6  ┆ PD50523b  │\n",
       "│ 12         ┆ m84047_241008_100605_s1/242484467/ccs ┆ chr5  ┆ PD50477f  │\n",
       "│ 13         ┆ m84047_241008_114208_s4/5442143/ccs   ┆ chr5  ┆ PD46180c  │\n",
       "│ 13         ┆ m84047_240928_151025_s3/90769942/ccs  ┆ chr7  ┆ PD50523b  │\n",
       "│ 13         ┆ m84047_240928_151025_s3/94310473/ccs  ┆ chr16 ┆ PD50523b  │\n",
       "│ 13         ┆ m84098_241009_111452_s3/96212881/ccs  ┆ chr18 ┆ PD50523b  │\n",
       "│ 14         ┆ m84047_241008_114208_s4/226628033/ccs ┆ chr14 ┆ PD46180c  │\n",
       "│ 14         ┆ m84098_241009_111452_s3/201526491/ccs ┆ chr22 ┆ PD50523b  │\n",
       "│ 15         ┆ m64229e_220909_150132/12977941/ccs    ┆ chr3  ┆ PD50521b  │\n",
       "│ 15         ┆ m84047_240928_151025_s3/159975779/ccs ┆ chr3  ┆ PD50523b  │\n",
       "│ 15         ┆ m84047_240928_151025_s3/229839399/ccs ┆ chr7  ┆ PD50523b  │\n",
       "│ 16         ┆ m84047_240928_140551_s1/149097314/ccs ┆ chr18 ┆ PD46180c  │\n",
       "│ 16         ┆ m84047_240928_151025_s3/224528094/ccs ┆ chr2  ┆ PD50523b  │\n",
       "│ 16         ┆ m84047_240928_151025_s3/265029841/ccs ┆ chr4  ┆ PD50523b  │\n",
       "│ 17         ┆ m84047_240928_151025_s3/44897695/ccs  ┆ chr13 ┆ PD50523b  │\n",
       "│ 18         ┆ m84047_240928_140551_s1/167578481/ccs ┆ chr11 ┆ PD46180c  │\n",
       "│ 18         ┆ m84047_240928_151025_s3/187175747/ccs ┆ chr3  ┆ PD50523b  │\n",
       "│ 18         ┆ m84093_241009_101414_s1/160301423/ccs ┆ chr9  ┆ PD50523b  │\n",
       "│ 22         ┆ m84047_240928_151025_s3/27787373/ccs  ┆ chr10 ┆ PD50523b  │\n",
       "└────────────┴───────────────────────────────────────┴───────┴───────────┘"
      ]
     },
     "execution_count": 28,
     "metadata": {},
     "output_type": "execute_result"
    }
   ],
   "source": [
    "(dense_reads_with_detection_df\n",
    "    .with_columns(pl.col(\"idx_transitions\").list.len().alias(\"n_switches\"))\n",
    "    .filter(pl.col(\"n_switches\") > 10)\n",
    "    .sort(\"n_switches\")\n",
    "    .select(\"n_switches\", \"read_name\", \"chrom\", \"sample_id\")\n",
    ")\n"
   ]
  },
  {
   "cell_type": "code",
   "execution_count": null,
   "id": "372cf82b-551e-4c69-8340-3e856051f005",
   "metadata": {},
   "outputs": [],
   "source": []
  }
 ],
 "metadata": {
  "kernelspec": {
   "display_name": "sperm",
   "language": "python",
   "name": "sperm"
  },
  "language_info": {
   "codemirror_mode": {
    "name": "ipython",
    "version": 3
   },
   "file_extension": ".py",
   "mimetype": "text/x-python",
   "name": "python",
   "nbconvert_exporter": "python",
   "pygments_lexer": "ipython3",
   "version": "3.11.10"
  }
 },
 "nbformat": 4,
 "nbformat_minor": 5
}
