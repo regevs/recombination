{
 "cells": [
  {
   "cell_type": "code",
   "execution_count": 1,
   "id": "250c2dfd-5d39-44ae-86dc-4c8295b45388",
   "metadata": {},
   "outputs": [],
   "source": [
    "%load_ext autoreload\n",
    "%autoreload 2"
   ]
  },
  {
   "cell_type": "code",
   "execution_count": 2,
   "id": "8a25c75b-fb14-46da-ba84-00b35e68ffc2",
   "metadata": {},
   "outputs": [],
   "source": [
    "import numpy as np\n",
    "import pandas as pd\n",
    "import matplotlib.pyplot as plt\n",
    "plt.rcParams['pdf.use14corefonts'] = True\n",
    "\n",
    "import numba\n",
    "import numba.typed\n",
    "\n",
    "from pathlib import Path\n",
    "import tqdm\n",
    "import sys\n",
    "import seaborn as sns\n",
    "import scipy.stats\n",
    "import os\n",
    "import joblib\n",
    "import io\n",
    "import itertools\n",
    "import warnings\n",
    "\n",
    "from brokenaxes import brokenaxes\n",
    "\n",
    "\n",
    "import polars as pl\n",
    "pl.Config.set_tbl_rows(100);\n",
    "pl.Config.set_fmt_str_lengths(50);\n"
   ]
  },
  {
   "cell_type": "code",
   "execution_count": 3,
   "id": "05a65a95-e51a-49b7-9a8f-5ea35c523595",
   "metadata": {},
   "outputs": [],
   "source": [
    "sys.path.append(str(Path(os.getcwd()).parent))\n",
    "from src import liftover, annotate, diagnostics, inference\n",
    "from src.IDs import *\n"
   ]
  },
  {
   "cell_type": "markdown",
   "id": "40286606-1d91-41e0-b88e-55a7abfb5843",
   "metadata": {},
   "source": [
    "# Create callset to infer from"
   ]
  },
  {
   "cell_type": "code",
   "execution_count": 4,
   "id": "512ee601-0f34-45ef-8908-48665abb68f0",
   "metadata": {
    "tags": []
   },
   "outputs": [],
   "source": [
    "ceph_good_samples = \"NA12878,NA12879,NA12881,NA12882,NA12886,NA12892,200084,200085,200102,200104\".split(',')"
   ]
  },
  {
   "cell_type": "code",
   "execution_count": 5,
   "id": "046736fb-df76-4701-9c9c-a6e4236d22d7",
   "metadata": {},
   "outputs": [
    {
     "name": "stderr",
     "output_type": "stream",
     "text": [
      "100%|██████████| 10/10 [00:00<00:00, 2402.65it/s]"
     ]
    },
    {
     "name": "stdout",
     "output_type": "stream",
     "text": [
      "CPU times: user 6.77 ms, sys: 3.38 ms, total: 10.1 ms\n",
      "Wall time: 9.8 ms\n"
     ]
    },
    {
     "name": "stderr",
     "output_type": "stream",
     "text": [
      "\n"
     ]
    }
   ],
   "source": [
    "%%time\n",
    "reads_df = pl.concat([\n",
    "    pl.scan_parquet(\n",
    "        f\"/lustre/scratch122/tol/projects/sperm/results/CEPH_20241119/read_analysis/{sample_id}/{sample_id}/reads/{chrom}/all_reads_structure_annotated.parquet\"\n",
    "    ) \n",
    "    for sample_id in tqdm.tqdm(ceph_good_samples)\n",
    "    for chrom in aut_chrom_names\n",
    "])"
   ]
  },
  {
   "cell_type": "code",
   "execution_count": 6,
   "id": "8036c2cc-3045-440c-8575-d43def77e1a4",
   "metadata": {
    "tags": []
   },
   "outputs": [
    {
     "name": "stdout",
     "output_type": "stream",
     "text": [
      "CPU times: user 15min 1s, sys: 7min 35s, total: 22min 36s\n",
      "Wall time: 8min 15s\n"
     ]
    }
   ],
   "source": [
    "%%time\n",
    "callset_df = inference.generate_call_set(reads_df, ceph_good_samples, take_every=10, min_snps=3, sample_every=1)"
   ]
  },
  {
   "cell_type": "code",
   "execution_count": 7,
   "id": "b8bb6993-eb3d-46ee-8a47-36d899d99037",
   "metadata": {
    "tags": []
   },
   "outputs": [
    {
     "data": {
      "text/plain": [
       "(4318196, 19)"
      ]
     },
     "execution_count": 7,
     "metadata": {},
     "output_type": "execute_result"
    }
   ],
   "source": [
    "callset_df.shape"
   ]
  },
  {
   "cell_type": "code",
   "execution_count": null,
   "id": "35ca7a1b-aa72-488a-9e0e-b5758b303ee6",
   "metadata": {
    "tags": []
   },
   "outputs": [],
   "source": [
    "%%time\n",
    "fast_callset_df = inference.generate_call_set(reads_df, ceph_good_samples[:1], take_every=10, min_snps=5)\n",
    "fast_callset_df.shape"
   ]
  },
  {
   "cell_type": "code",
   "execution_count": null,
   "id": "ad6f9464-7d5d-402a-8568-b0b9b2dbfbb0",
   "metadata": {},
   "outputs": [],
   "source": []
  },
  {
   "cell_type": "code",
   "execution_count": null,
   "id": "b469e5cd-3d0b-4c05-891b-f1060af5049d",
   "metadata": {},
   "outputs": [],
   "source": []
  },
  {
   "cell_type": "code",
   "execution_count": null,
   "id": "efed4576-287f-489d-92ac-1d5e29971e56",
   "metadata": {},
   "outputs": [],
   "source": []
  },
  {
   "cell_type": "code",
   "execution_count": null,
   "id": "6a1f731f-3577-45bd-87aa-6761663ef6d0",
   "metadata": {},
   "outputs": [],
   "source": []
  },
  {
   "cell_type": "markdown",
   "id": "5b7d1201-d737-4d75-9b59-14ae75cd467b",
   "metadata": {},
   "source": [
    "# Confirm number of COs makes sense?"
   ]
  },
  {
   "cell_type": "markdown",
   "id": "d583860b-ccf6-48fc-96c5-a858d558f038",
   "metadata": {},
   "source": [
    "## x..y, high snps"
   ]
  },
  {
   "cell_type": "code",
   "execution_count": 8,
   "id": "12e863e7-d793-4407-8523-d07b69dc24b0",
   "metadata": {
    "tags": []
   },
   "outputs": [
    {
     "name": "stdout",
     "output_type": "stream",
     "text": [
      "# of observed 1-switches: 338\n"
     ]
    }
   ],
   "source": [
    "print(\n",
    "    \"# of observed 1-switches:\",\n",
    "    (callset_df\n",
    "        .filter(pl.col(\"high_quality_snps_idx_transitions\").list.len() == 1)\n",
    "        .select(pl.len()).item()\n",
    "    ),\n",
    ")"
   ]
  },
  {
   "cell_type": "code",
   "execution_count": 9,
   "id": "b4b7ea3c-6ff0-4c59-89ef-222b933438bc",
   "metadata": {
    "tags": []
   },
   "outputs": [
    {
     "name": "stdout",
     "output_type": "stream",
     "text": [
      "# of high quality expected 1-switches: 550.690976204473\n"
     ]
    }
   ],
   "source": [
    "print(\n",
    "    \"# of high quality expected 1-switches:\",\n",
    "    callset_df.select(\n",
    "        (pl.col(\"between_high_quality_snps_cM\").list.slice(\n",
    "            1, \n",
    "            pl.col(\"between_high_quality_snps_cM\").list.len() - 2,\n",
    "        ).list.sum() * 1e-2).alias(\"prob\")\n",
    "    )\n",
    "    [\"prob\"].sum()\n",
    ")"
   ]
  },
  {
   "cell_type": "code",
   "execution_count": null,
   "id": "6beae1bb-63a2-42c0-8c9f-4d8948f348e3",
   "metadata": {},
   "outputs": [],
   "source": []
  },
  {
   "cell_type": "markdown",
   "id": "7186d0f3-645b-4c30-8e76-73e449923170",
   "metadata": {
    "tags": []
   },
   "source": [
    "# See summary stats"
   ]
  },
  {
   "cell_type": "code",
   "execution_count": 10,
   "id": "5d9ea976-cf03-4e40-8b6e-c2e339b6fe51",
   "metadata": {
    "tags": []
   },
   "outputs": [
    {
     "data": {
      "text/html": [
       "<div><style>\n",
       ".dataframe > thead > tr,\n",
       ".dataframe > tbody > tr {\n",
       "  text-align: right;\n",
       "  white-space: pre-wrap;\n",
       "}\n",
       "</style>\n",
       "<small>shape: (3, 2)</small><table border=\"1\" class=\"dataframe\"><thead><tr><th>n_transitions</th><th>len</th></tr><tr><td>u32</td><td>u32</td></tr></thead><tbody><tr><td>0</td><td>4317102</td></tr><tr><td>1</td><td>338</td></tr><tr><td>2</td><td>756</td></tr></tbody></table></div>"
      ],
      "text/plain": [
       "shape: (3, 2)\n",
       "┌───────────────┬─────────┐\n",
       "│ n_transitions ┆ len     │\n",
       "│ ---           ┆ ---     │\n",
       "│ u32           ┆ u32     │\n",
       "╞═══════════════╪═════════╡\n",
       "│ 0             ┆ 4317102 │\n",
       "│ 1             ┆ 338     │\n",
       "│ 2             ┆ 756     │\n",
       "└───────────────┴─────────┘"
      ]
     },
     "execution_count": 10,
     "metadata": {},
     "output_type": "execute_result"
    }
   ],
   "source": [
    "(callset_df\n",
    "    .select(pl.col(\"high_quality_snps_idx_transitions\").list.len().alias(\"n_transitions\"))\n",
    "    .group_by(\"n_transitions\")\n",
    "    .len()\n",
    "    .sort(\"n_transitions\")\n",
    ")"
   ]
  },
  {
   "cell_type": "code",
   "execution_count": 11,
   "id": "fcb7b03d-80bd-4d8e-a79b-85a7264ecb08",
   "metadata": {
    "tags": []
   },
   "outputs": [
    {
     "data": {
      "text/html": [
       "<div><style>\n",
       ".dataframe > thead > tr,\n",
       ".dataframe > tbody > tr {\n",
       "  text-align: right;\n",
       "  white-space: pre-wrap;\n",
       "}\n",
       "</style>\n",
       "<small>shape: (3, 2)</small><table border=\"1\" class=\"dataframe\"><thead><tr><th>n_converted</th><th>len</th></tr><tr><td>i64</td><td>u32</td></tr></thead><tbody><tr><td>1</td><td>741</td></tr><tr><td>2</td><td>11</td></tr><tr><td>4</td><td>4</td></tr></tbody></table></div>"
      ],
      "text/plain": [
       "shape: (3, 2)\n",
       "┌─────────────┬─────┐\n",
       "│ n_converted ┆ len │\n",
       "│ ---         ┆ --- │\n",
       "│ i64         ┆ u32 │\n",
       "╞═════════════╪═════╡\n",
       "│ 1           ┆ 741 │\n",
       "│ 2           ┆ 11  │\n",
       "│ 4           ┆ 4   │\n",
       "└─────────────┴─────┘"
      ]
     },
     "execution_count": 11,
     "metadata": {},
     "output_type": "execute_result"
    }
   ],
   "source": [
    "(callset_df\n",
    "    .filter(pl.col(\"high_quality_snps_idx_transitions\").list.len() == 2)\n",
    "    .select(pl.col(\"high_quality_snps_idx_transitions\").list.diff(null_behavior=\"drop\").list.first().alias(\"n_converted\"))\n",
    "    .group_by(\"n_converted\")\n",
    "    .len()\n",
    "    .sort(\"n_converted\")\n",
    ")"
   ]
  },
  {
   "cell_type": "code",
   "execution_count": 21,
   "id": "afb1412a-d51d-4650-858d-240478557a40",
   "metadata": {
    "tags": []
   },
   "outputs": [],
   "source": [
    "ub = (callset_df\n",
    "    .filter(pl.col(\"high_quality_snps_idx_transitions\").list.len() == 2)\n",
    "    .select(\n",
    "        (\n",
    "            pl.col(\"high_quality_snp_positions\").list.get(pl.col(\"high_quality_snps_idx_transitions\").list.get(1)+1) -\n",
    "            pl.col(\"high_quality_snp_positions\").list.get(pl.col(\"high_quality_snps_idx_transitions\").list.get(0))\n",
    "        ).alias(\"upper_bound\")            \n",
    "    )\n",
    "    [\"upper_bound\"]\n",
    ")"
   ]
  },
  {
   "cell_type": "code",
   "execution_count": 22,
   "id": "fbdbb13a-cde0-4bfa-88cf-391353fa450d",
   "metadata": {},
   "outputs": [
    {
     "data": {
      "image/png": "[encoded data removed]",
      "text/plain": [
       "<Figure size 640x480 with 1 Axes>"
      ]
     },
     "metadata": {},
     "output_type": "display_data"
    }
   ],
   "source": [
    "plt.hist(ub, bins=50);"
   ]
  },
  {
   "cell_type": "code",
   "execution_count": null,
   "id": "c40e6a2a-28c2-49a1-8a41-225827f1d508",
   "metadata": {},
   "outputs": [],
   "source": []
  },
  {
   "cell_type": "markdown",
   "id": "33d34cbf-8ffe-4022-8d87-ca145458b157",
   "metadata": {},
   "source": [
    "# Test likelihood"
   ]
  },
  {
   "cell_type": "markdown",
   "id": "2af798f0-61c1-459f-bcf3-b00fb586ce56",
   "metadata": {},
   "source": [
    "## Focus on one read"
   ]
  },
  {
   "cell_type": "code",
   "execution_count": 113,
   "id": "6aa6bffe-a764-4e37-a5c6-e044aeaf2dd8",
   "metadata": {
    "tags": []
   },
   "outputs": [],
   "source": [
    "row = {\n",
    "    \"read_length\": 10000,\n",
    "    \"mid_quality_snp_positions\": [4000, 5000, 6000],\n",
    "    \"between_mid_quality_snps_cM\": [1e-2, 2e-2, 3e-2, 1e-2],\n",
    "    \"before_read_cM\": 1e-3,\n",
    "    \"after_read_cM\": 1e-3,\n",
    "}\n"
   ]
  },
  {
   "cell_type": "markdown",
   "id": "daa03c62-b603-418f-8e43-ec71d761afc5",
   "metadata": {},
   "source": [
    "## Simulate from the model many times with this read pattern"
   ]
  },
  {
   "cell_type": "code",
   "execution_count": 109,
   "id": "83591c6d-ffaa-4071-b25c-68b052d91478",
   "metadata": {
    "tags": []
   },
   "outputs": [
    {
     "name": "stdout",
     "output_type": "stream",
     "text": [
      "# events: 3189\n",
      "# CO events: 330\n",
      "# detected CO events: 135\n",
      "# NCO events: 2859\n",
      "# detected NCO events: 0.0\n",
      "# NCO first comp: 2859\n"
     ]
    }
   ],
   "source": [
    "n_reps = 1000000\n",
    "\n",
    "res = inference.simulate_read_patterns_probs(\n",
    "    numba.typed.List(np.repeat(row[\"read_length\"], n_reps)),\n",
    "    numba.typed.List([np.array(row[\"mid_quality_snp_positions\"]) for x in range(n_reps)]),\n",
    "    numba.typed.List([np.array(row[\"between_mid_quality_snps_cM\"]) * 1e-2 for x in range(n_reps)]),\n",
    "    numba.typed.List(np.repeat(row[\"before_read_cM\"] * 1e-2, n_reps)),\n",
    "    numba.typed.List(np.repeat(row[\"after_read_cM\"] * 1e-2, n_reps)),\n",
    "    q = 0.0,\n",
    "    m = 1,\n",
    "    GC_tract_mean = 30,\n",
    "    GC_tract_mean2 = 1000,\n",
    "    read_margin_in_bp = 5000,\n",
    "    allow_flip = False,\n",
    ")\n",
    "\n",
    "\n",
    "\n",
    "sim_idx_transitions = [np.array([], dtype=np.int64) for i in range(n_reps)]\n",
    "for i, lst in zip(res[1], res[0]):\n",
    "    sim_idx_transitions[i] = np.array(lst, dtype=np.int64)\n",
    "sim_idx_transitions = np.array(sim_idx_transitions, dtype=object)\n",
    "\n",
    "n_detected_COs = np.sum([1 for x in sim_idx_transitions if len(x) == 1])\n",
    "n_detected_NCOs = np.sum([1 for x in sim_idx_transitions if len(x) == 2])\n",
    "\n",
    "print(\"# events:\", len(res[0]))\n",
    "print(\"# CO events:\", res[3])\n",
    "print(\"# detected CO events:\", n_detected_COs)\n",
    "\n",
    "print(\"# NCO events:\", res[4])\n",
    "print(\"# detected NCO events:\", n_detected_NCOs)\n",
    "\n",
    "print(\"# NCO first comp:\", res[5])"
   ]
  },
  {
   "cell_type": "code",
   "execution_count": null,
   "id": "adfacf37-83e1-429f-bfb6-4d428dd01c7f",
   "metadata": {},
   "outputs": [],
   "source": []
  },
  {
   "cell_type": "code",
   "execution_count": null,
   "id": "ed1c239e-9fe5-4ae4-acdc-276b47f28204",
   "metadata": {},
   "outputs": [],
   "source": []
  },
  {
   "cell_type": "code",
   "execution_count": 119,
   "id": "9ac9195c-81e3-4d74-8037-d3d4192b4c67",
   "metadata": {
    "tags": []
   },
   "outputs": [
    {
     "data": {
      "text/plain": [
       "5.39999999999998e-05"
      ]
     },
     "execution_count": 119,
     "metadata": {},
     "output_type": "execute_result"
    }
   ],
   "source": [
    "idx_transitions = [0,1]\n",
    "\n",
    "inference.likelihood_of_read_one_direction(\n",
    "    row[\"read_length\"],\n",
    "    row[\"mid_quality_snp_positions\"],\n",
    "    numba.typed.List([999] + idx_transitions)[1:],  # hack for typing the list\n",
    "    np.array(row[\"between_mid_quality_snps_cM\"]) * 1e-2,\n",
    "    row[\"before_read_cM\"] * 1e-2,\n",
    "    row[\"after_read_cM\"] * 1e-2,\n",
    "    q = 0.1,\n",
    "    m = 1,\n",
    "    GC_tract_mean = 30,\n",
    "    GC_tract_mean2 = 1000,\n",
    "    read_margin_in_bp = 5000,\n",
    ")\n"
   ]
  },
  {
   "cell_type": "code",
   "execution_count": 121,
   "id": "c210ddc6-c557-44fc-8925-491b3eb5c904",
   "metadata": {
    "tags": []
   },
   "outputs": [
    {
     "data": {
      "text/plain": [
       "1.0"
      ]
     },
     "execution_count": 121,
     "metadata": {},
     "output_type": "execute_result"
    }
   ],
   "source": [
    "0.99935825 + 0.00020675000000000012 + 0.00038099999999999983 + 5.39999999999998e-05"
   ]
  },
  {
   "cell_type": "code",
   "execution_count": null,
   "id": "e9afa3a3-e972-431e-ad65-7d9c516c88d5",
   "metadata": {},
   "outputs": [],
   "source": []
  },
  {
   "cell_type": "code",
   "execution_count": null,
   "id": "79de067f-d3d4-420a-b276-2da40d604b44",
   "metadata": {},
   "outputs": [],
   "source": []
  },
  {
   "cell_type": "markdown",
   "id": "da86d805-114e-4a01-872d-79f096d1cbf8",
   "metadata": {},
   "source": [
    "# Test on simulations"
   ]
  },
  {
   "cell_type": "code",
   "execution_count": 14,
   "id": "23b98a79-a705-4cfd-8572-3f7f5f2ca530",
   "metadata": {
    "tags": []
   },
   "outputs": [
    {
     "name": "stdout",
     "output_type": "stream",
     "text": [
      "Working on 36970 events\n",
      "# events: 36970\n",
      "# CO events: 5235\n",
      "# detected CO events: 2124\n",
      "# NCO events: 31735\n",
      "# detected NCO events: 435\n",
      "# detected NCO events from NCOs: 435\n",
      "# detected CO events from NCOs: 278\n",
      "# NCO first comp: 31206\n",
      "CPU times: user 3min 49s, sys: 32.2 s, total: 4min 22s\n",
      "Wall time: 4min 22s\n"
     ]
    }
   ],
   "source": [
    "%%time\n",
    "idf = callset_df\n",
    "\n",
    "res = inference.simulate_read_patterns_probs(\n",
    "    numba.typed.List(idf[\"read_length\"].to_numpy()),\n",
    "    numba.typed.List(idf[\"high_quality_snp_positions\"].to_numpy()),\n",
    "    numba.typed.List(idf[\"between_high_quality_snps_cM\"].to_numpy() * 1e-2),\n",
    "    numba.typed.List(idf[\"before_read_cM\"].to_numpy() * 1e-2),\n",
    "    numba.typed.List(idf[\"after_read_cM\"].to_numpy() * 1e-2),\n",
    "    q = 0.142,\n",
    "    m = 0.982,\n",
    "    GC_tract_mean = 34.6,\n",
    "    GC_tract_mean2 = 7216,\n",
    "    read_margin_in_bp = 5000,\n",
    ")\n",
    "\n",
    "# res = inference.simulate_read_patterns_probs(\n",
    "#     numba.typed.List(idf[\"read_length\"].to_numpy()),\n",
    "#     numba.typed.List(idf[\"high_quality_snp_positions\"].to_numpy()),\n",
    "#     numba.typed.List(idf[\"between_high_quality_snps_bp\"].to_numpy() * 1e-8),\n",
    "#     numba.typed.List(np.repeat(5000 * 1e-8, len(idf))),\n",
    "#     numba.typed.List(np.repeat(5000 * 1e-8, len(idf))),\n",
    "#     q = 0.128,\n",
    "#     m = 0.97,\n",
    "#     GC_tract_mean = 29.59,\n",
    "#     GC_tract_mean2 = 652,\n",
    "#     read_margin_in_bp = 5000,\n",
    "# )\n",
    "\n",
    "\n",
    "sim_idx_transitions = [np.array([], dtype=np.int64) for i in range(len(idf))]\n",
    "for i, lst in zip(res[1], res[0]):\n",
    "    sim_idx_transitions[i] = np.array(lst, dtype=np.int64)\n",
    "#sim_idx_transitions = np.array(sim_idx_transitions, dtype=object)\n",
    "sim_callset_df = (idf\n",
    "    .with_columns(high_quality_snps_idx_transitions = pl.Series(sim_idx_transitions, dtype=pl.List(pl.Int64)))\n",
    ")\n",
    "\n",
    "n_detected_COs = np.sum([1 for x in sim_idx_transitions if len(x) == 1])\n",
    "n_detected_NCOs = np.sum([1 for x in sim_idx_transitions if len(x) == 2])\n",
    "\n",
    "n_detected_NCOs_from_NCOs = np.sum([1 for idx_trans, event_type in zip(res[0], res[6]) if event_type == 0 and len(idx_trans) == 2])\n",
    "n_detected_COs_from_NCOs = np.sum([1 for idx_trans, event_type in zip(res[0], res[6]) if event_type == 0 and len(idx_trans) == 1])\n",
    "\n",
    "print(\"# events:\", len(res[0]))\n",
    "print(\"# CO events:\", res[3])\n",
    "print(\"# detected CO events:\", n_detected_COs)\n",
    "\n",
    "print(\"# NCO events:\", res[4])\n",
    "print(\"# detected NCO events:\", n_detected_NCOs)\n",
    "print(\"# detected NCO events from NCOs:\", n_detected_NCOs_from_NCOs)\n",
    "print(\"# detected CO events from NCOs:\", n_detected_COs_from_NCOs)\n",
    "\n",
    "print(\"# NCO first comp:\", res[5])\n"
   ]
  },
  {
   "cell_type": "code",
   "execution_count": null,
   "id": "e7244fb0-e654-451f-b1f0-893be0c7edd6",
   "metadata": {},
   "outputs": [],
   "source": []
  },
  {
   "cell_type": "code",
   "execution_count": null,
   "id": "92b4df7b-68ab-4365-a409-8856aef1af06",
   "metadata": {},
   "outputs": [],
   "source": []
  },
  {
   "cell_type": "code",
   "execution_count": 27,
   "id": "742e796b-4f38-41b9-acf7-beb4a61a23bb",
   "metadata": {
    "tags": []
   },
   "outputs": [],
   "source": [
    "shorts = np.array([tract_length \\\n",
    "     for idx_trans, event_type, tract_type, tract_length in zip(res[0], res[6], res[7], res[8]) \\\n",
    "     if event_type == 0 and tract_type == 1])\n",
    "\n",
    "longs = np.array([tract_length \\\n",
    "     for idx_trans, event_type, tract_type, tract_length in zip(res[0], res[6], res[7], res[8]) \\\n",
    "     if event_type == 0 and tract_type == 0])\n",
    "\n",
    "shorts_frac_detected = np.array([(len(idx_trans) > 0) \\\n",
    "     for idx_trans, event_type, tract_type, tract_length in zip(res[0], res[6], res[7], res[8]) \\\n",
    "     if event_type == 0 and tract_type == 1]).mean()\n",
    "\n",
    "long_frac_detected = np.array([(len(idx_trans) > 0) \\\n",
    "     for idx_trans, event_type, tract_type, tract_length in zip(res[0], res[6], res[7], res[8]) \\\n",
    "     if event_type == 0 and tract_type == 0]).mean()\n"
   ]
  },
  {
   "cell_type": "code",
   "execution_count": 46,
   "id": "b9051ceb-e2ac-42ff-beb6-9a42e6a46b7e",
   "metadata": {
    "tags": []
   },
   "outputs": [
    {
     "data": {
      "text/plain": [
       "0.40831758034026466"
      ]
     },
     "execution_count": 46,
     "metadata": {},
     "output_type": "execute_result"
    }
   ],
   "source": [
    "np.array([(len(idx_trans) > 0) \\\n",
    "     for idx_trans, event_type, tract_type, tract_length in zip(res[0], res[6], res[7], res[8]) \\\n",
    "     if event_type == 0 and tract_type == 0]).mean()\n"
   ]
  },
  {
   "cell_type": "code",
   "execution_count": 47,
   "id": "f46aa7b3-272f-4c4d-9261-f3267c4ea235",
   "metadata": {
    "tags": []
   },
   "outputs": [
    {
     "data": {
      "text/plain": [
       "0.7685185185185185"
      ]
     },
     "execution_count": 47,
     "metadata": {},
     "output_type": "execute_result"
    }
   ],
   "source": [
    "0.31379962192816635 / 0.40831758034026466"
   ]
  },
  {
   "cell_type": "code",
   "execution_count": 28,
   "id": "58e374c7-dcec-429d-b3a3-6a2508516b8f",
   "metadata": {
    "tags": []
   },
   "outputs": [
    {
     "data": {
      "text/plain": [
       "0.40831758034026466"
      ]
     },
     "execution_count": 28,
     "metadata": {},
     "output_type": "execute_result"
    }
   ],
   "source": [
    "long_frac_detected"
   ]
  },
  {
   "cell_type": "code",
   "execution_count": null,
   "id": "88e0efb3-5a1e-47d0-8c97-b4177c2a368e",
   "metadata": {},
   "outputs": [],
   "source": []
  },
  {
   "cell_type": "markdown",
   "id": "3b44eefb-c227-484d-b698-4f344a65e350",
   "metadata": {},
   "source": [
    "Pr(NCO is long | detected NCO) = Pr(detected NCO | NCO is long) * Pr(NCO is long) / Pr(detected NCO)\n",
    "\n",
    "Pr(detected NCO | NCO is short) = 0.016\n",
    "\n",
    "Pr(detected NCO | NCO is long) = 0.4\n",
    "\n",
    "Pr(NCO is short) = 0.982\n",
    "\n",
    "Pr(NCO is long) = 0.018\n",
    "\n",
    "Pr(detected NCO) = 0.982 * 0.016 + 0.4 * 0.018 = 0.023\n",
    "\n",
    "Pr(NCO is long | detected NCO) = 0.4 * 0.018 / 0.023 = 0.31"
   ]
  },
  {
   "cell_type": "code",
   "execution_count": null,
   "id": "544e503d-7a4d-47b2-a5cc-cfcf54a32d3d",
   "metadata": {},
   "outputs": [],
   "source": [
    "Pr(NCO is long | detected NCO as NCO) = Pr(detected NCO as NCO | NCO is long) * Pr(NCO is long) / Pr(detected NCO as NCO)\n",
    "\n",
    "Pr(detected NCO as NCO | NCO is short) = 0.015 * 0.78 = 0.0117\n",
    "\n",
    "Pr(detected NCO | NCO is long) = 0.4 * 0.23 = 0.092\n",
    "\n",
    "Pr(NCO is short) = 0.98\n",
    "\n",
    "Pr(NCO is long) = 0.02\n",
    "\n",
    "Pr(detected NCO as NCO) = 0.98 * 0.0117 + 0.02 * 0.092 = 0.0133\n",
    "\n",
    "Pr(NCO is long | detected NCO) = 0.02 * 0.092 / 0.0133 = 0.138"
   ]
  },
  {
   "cell_type": "code",
   "execution_count": 51,
   "id": "050d714b-788b-407f-99cc-69c8d97942e1",
   "metadata": {
    "tags": []
   },
   "outputs": [
    {
     "data": {
      "text/plain": [
       "0.13834586466165413"
      ]
     },
     "execution_count": 51,
     "metadata": {},
     "output_type": "execute_result"
    }
   ],
   "source": [
    "0.02 * 0.092 / 0.0133"
   ]
  },
  {
   "cell_type": "code",
   "execution_count": null,
   "id": "bab3282f-1801-4054-92ae-c7894feeebf7",
   "metadata": {},
   "outputs": [],
   "source": []
  },
  {
   "cell_type": "code",
   "execution_count": 21,
   "id": "f755bf48-6e2c-4362-933f-b38c16e56c10",
   "metadata": {
    "tags": []
   },
   "outputs": [
    {
     "name": "stdout",
     "output_type": "stream",
     "text": [
      "# of NCO detected (all) 435\n",
      "# of NCO detected (short) 385\n",
      "# of NCO detected (long) 50\n"
     ]
    }
   ],
   "source": [
    "print(\"# of NCO detected (all)\", np.sum([len(lst)==2 for n_event, lst in enumerate(res[0]) if res[6][n_event] == 0]))\n",
    "print(\"# of NCO detected (short)\", np.sum([len(lst)==2 for n_event, lst in enumerate(res[0]) if res[6][n_event] == 0 and res[7][n_event] == 1]))\n",
    "print(\"# of NCO detected (long)\", np.sum([len(lst)==2 for n_event, lst in enumerate(res[0]) if res[6][n_event] == 0 and res[7][n_event] != 1]))"
   ]
  },
  {
   "cell_type": "code",
   "execution_count": null,
   "id": "c78c7606-8ae0-4136-bda2-7386663cfc9f",
   "metadata": {},
   "outputs": [],
   "source": []
  },
  {
   "cell_type": "code",
   "execution_count": null,
   "id": "bce5552e-e0c7-45d0-b034-82d27c3f0638",
   "metadata": {},
   "outputs": [],
   "source": []
  },
  {
   "cell_type": "code",
   "execution_count": null,
   "id": "22dcccb6-4c0b-4bdf-ab41-17622205042f",
   "metadata": {},
   "outputs": [],
   "source": []
  },
  {
   "cell_type": "code",
   "execution_count": 31,
   "id": "4c180124-c0bc-47e8-88fb-58b97256999c",
   "metadata": {
    "tags": []
   },
   "outputs": [
    {
     "name": "stdout",
     "output_type": "stream",
     "text": [
      "# expected CO events: 522.5405433017486\n"
     ]
    }
   ],
   "source": [
    "print(\n",
    "    \"# expected CO events:\", \n",
    "    (callset_df\n",
    "        .select((\n",
    "            (pl.col(\"between_high_quality_snps_cM\").list.sum() + \n",
    "             pl.col(\"before_read_cM\") + \n",
    "             pl.col(\"after_read_cM\")\n",
    "            ) * 1e-2).alias(\"prob\")\n",
    "        )\n",
    "    )[\"prob\"].sum()\n",
    ")\n",
    "        "
   ]
  },
  {
   "cell_type": "code",
   "execution_count": 11,
   "id": "41ecef30-f48a-477c-b3f2-3d17c99dfce0",
   "metadata": {},
   "outputs": [
    {
     "name": "stdout",
     "output_type": "stream",
     "text": [
      "# of high quality expected 1-switches: 181.4897911193739\n"
     ]
    }
   ],
   "source": [
    "print(\n",
    "    \"# of high quality expected 1-switches:\",\n",
    "    callset_df.select(\n",
    "        (pl.col(\"between_high_quality_snps_cM\").list.slice(\n",
    "            1, \n",
    "            pl.col(\"between_high_quality_snps_cM\").list.len() - 2,\n",
    "        ).list.sum() * 1e-2).alias(\"prob\")\n",
    "    )\n",
    "    [\"prob\"].sum()\n",
    ")"
   ]
  },
  {
   "cell_type": "code",
   "execution_count": 89,
   "id": "b6a52124-2628-4676-b389-7d2487884001",
   "metadata": {
    "tags": []
   },
   "outputs": [
    {
     "data": {
      "text/html": [
       "<div><style>\n",
       ".dataframe > thead > tr,\n",
       ".dataframe > tbody > tr {\n",
       "  text-align: right;\n",
       "  white-space: pre-wrap;\n",
       "}\n",
       "</style>\n",
       "<small>shape: (3, 2)</small><table border=\"1\" class=\"dataframe\"><thead><tr><th>n_transitions</th><th>len</th></tr><tr><td>u32</td><td>u32</td></tr></thead><tbody><tr><td>0</td><td>9837574</td></tr><tr><td>1</td><td>935</td></tr><tr><td>2</td><td>244</td></tr></tbody></table></div>"
      ],
      "text/plain": [
       "shape: (3, 2)\n",
       "┌───────────────┬─────────┐\n",
       "│ n_transitions ┆ len     │\n",
       "│ ---           ┆ ---     │\n",
       "│ u32           ┆ u32     │\n",
       "╞═══════════════╪═════════╡\n",
       "│ 0             ┆ 9837574 │\n",
       "│ 1             ┆ 935     │\n",
       "│ 2             ┆ 244     │\n",
       "└───────────────┴─────────┘"
      ]
     },
     "execution_count": 89,
     "metadata": {},
     "output_type": "execute_result"
    }
   ],
   "source": [
    "(sim_callset_df\n",
    "    .select(pl.col(\"high_quality_snps_idx_transitions\").list.len().alias(\"n_transitions\"))\n",
    "    .group_by(\"n_transitions\")\n",
    "    .len()\n",
    "    .sort(\"n_transitions\")\n",
    ")"
   ]
  },
  {
   "cell_type": "code",
   "execution_count": 91,
   "id": "81a7b087-6793-4a1f-89a9-78f9b529efff",
   "metadata": {
    "tags": []
   },
   "outputs": [
    {
     "data": {
      "text/html": [
       "<div><style>\n",
       ".dataframe > thead > tr,\n",
       ".dataframe > tbody > tr {\n",
       "  text-align: right;\n",
       "  white-space: pre-wrap;\n",
       "}\n",
       "</style>\n",
       "<small>shape: (7, 2)</small><table border=\"1\" class=\"dataframe\"><thead><tr><th>n_converted</th><th>len</th></tr><tr><td>i64</td><td>u32</td></tr></thead><tbody><tr><td>1</td><td>208</td></tr><tr><td>2</td><td>21</td></tr><tr><td>3</td><td>8</td></tr><tr><td>4</td><td>2</td></tr><tr><td>5</td><td>1</td></tr><tr><td>7</td><td>1</td></tr><tr><td>9</td><td>3</td></tr></tbody></table></div>"
      ],
      "text/plain": [
       "shape: (7, 2)\n",
       "┌─────────────┬─────┐\n",
       "│ n_converted ┆ len │\n",
       "│ ---         ┆ --- │\n",
       "│ i64         ┆ u32 │\n",
       "╞═════════════╪═════╡\n",
       "│ 1           ┆ 208 │\n",
       "│ 2           ┆ 21  │\n",
       "│ 3           ┆ 8   │\n",
       "│ 4           ┆ 2   │\n",
       "│ 5           ┆ 1   │\n",
       "│ 7           ┆ 1   │\n",
       "│ 9           ┆ 3   │\n",
       "└─────────────┴─────┘"
      ]
     },
     "execution_count": 91,
     "metadata": {},
     "output_type": "execute_result"
    }
   ],
   "source": [
    "(sim_callset_df\n",
    "    .filter(pl.col(\"high_quality_snps_idx_transitions\").list.len() == 2)\n",
    "    .select(pl.col(\"high_quality_snps_idx_transitions\").list.diff(null_behavior=\"drop\").list.first().alias(\"n_converted\"))\n",
    "    .group_by(\"n_converted\")\n",
    "    .len()\n",
    "    .sort(\"n_converted\")\n",
    ")"
   ]
  },
  {
   "cell_type": "code",
   "execution_count": 92,
   "id": "7adab82a-5677-4102-a95b-5799b3b4b701",
   "metadata": {
    "tags": []
   },
   "outputs": [
    {
     "data": {
      "image/png": "[encoded data removed]",
      "text/plain": [
       "<Figure size 640x480 with 1 Axes>"
      ]
     },
     "metadata": {},
     "output_type": "display_data"
    }
   ],
   "source": [
    "plt.hist(\n",
    "    [\n",
    "        (callset_df\n",
    "            .filter(pl.col(\"high_quality_snps_idx_transitions\").list.len() == 2)\n",
    "            .select(\n",
    "                (\n",
    "                    pl.col(\"high_quality_snp_positions\").list.get(pl.col(\"high_quality_snps_idx_transitions\").list.get(1)+1) -\n",
    "                    pl.col(\"high_quality_snp_positions\").list.get(pl.col(\"high_quality_snps_idx_transitions\").list.get(0))\n",
    "                ).alias(\"upper_bound\")            \n",
    "            )\n",
    "            [\"upper_bound\"]\n",
    "        ),\n",
    "        (sim_callset_df\n",
    "            .filter(pl.col(\"high_quality_snps_idx_transitions\").list.len() == 2)\n",
    "            .select(\n",
    "                (\n",
    "                    pl.col(\"high_quality_snp_positions\").list.get(pl.col(\"high_quality_snps_idx_transitions\").list.get(1)+1) -\n",
    "                    pl.col(\"high_quality_snp_positions\").list.get(pl.col(\"high_quality_snps_idx_transitions\").list.get(0))\n",
    "                ).alias(\"upper_bound\")            \n",
    "            )\n",
    "            [\"upper_bound\"]\n",
    "        ),\n",
    "    ],\n",
    "    bins=25,\n",
    "    density=True,\n",
    ");"
   ]
  },
  {
   "cell_type": "code",
   "execution_count": null,
   "id": "82a2f780-395d-4381-8102-58f8d0784071",
   "metadata": {},
   "outputs": [],
   "source": []
  },
  {
   "cell_type": "code",
   "execution_count": null,
   "id": "8b2a69b9-bd86-4b88-b724-3fb9f2f5f183",
   "metadata": {},
   "outputs": [],
   "source": []
  },
  {
   "cell_type": "code",
   "execution_count": null,
   "id": "288f306a-44af-4714-ba1b-79ea53c494b0",
   "metadata": {},
   "outputs": [],
   "source": []
  },
  {
   "cell_type": "code",
   "execution_count": 162,
   "id": "b30d976a-5623-4194-bf8e-847e97e6d484",
   "metadata": {
    "tags": []
   },
   "outputs": [
    {
     "ename": "KeyboardInterrupt",
     "evalue": "",
     "output_type": "error",
     "traceback": [
      "\u001b[0;31m---------------------------------------------------------------------------\u001b[0m",
      "\u001b[0;31mKeyboardInterrupt\u001b[0m                         Traceback (most recent call last)",
      "File \u001b[0;32m<timed eval>:1\u001b[0m\n",
      "File \u001b[0;32m/nfs/treeoflife-01/teams/tola/users/rs42/git/sperm/src/inference.py:1062\u001b[0m, in \u001b[0;36mmaximum_likelihood_all_reads\u001b[0;34m(read_length_list, snp_positions_on_read_list, idx_transitions_list, prob_CO_between_snps_list, prob_CO_before_read_list, prob_CO_after_read_list, weights_list, q_range, m_range, GC_tract_mean_range, GC_tract_mean2_range, read_margin_in_bp)\u001b[0m\n\u001b[1;32m   1060\u001b[0m read_length_list \u001b[38;5;241m=\u001b[39m numba\u001b[38;5;241m.\u001b[39mtyped\u001b[38;5;241m.\u001b[39mList(read_length_list)\n\u001b[1;32m   1061\u001b[0m snp_positions_on_read_list \u001b[38;5;241m=\u001b[39m numba\u001b[38;5;241m.\u001b[39mtyped\u001b[38;5;241m.\u001b[39mList(snp_positions_on_read_list)\n\u001b[0;32m-> 1062\u001b[0m idx_transitions_list \u001b[38;5;241m=\u001b[39m \u001b[43mnumba\u001b[49m\u001b[38;5;241;43m.\u001b[39;49m\u001b[43mtyped\u001b[49m\u001b[38;5;241;43m.\u001b[39;49m\u001b[43mList\u001b[49m\u001b[43m(\u001b[49m\u001b[43m[\u001b[49m\u001b[43mnp\u001b[49m\u001b[38;5;241;43m.\u001b[39;49m\u001b[43marray\u001b[49m\u001b[43m(\u001b[49m\u001b[43mx\u001b[49m\u001b[43m)\u001b[49m\u001b[38;5;241;43m.\u001b[39;49m\u001b[43mastype\u001b[49m\u001b[43m(\u001b[49m\u001b[43mnp\u001b[49m\u001b[38;5;241;43m.\u001b[39;49m\u001b[43mint32\u001b[49m\u001b[43m)\u001b[49m\u001b[43m \u001b[49m\u001b[38;5;28;43;01mfor\u001b[39;49;00m\u001b[43m \u001b[49m\u001b[43mx\u001b[49m\u001b[43m \u001b[49m\u001b[38;5;129;43;01min\u001b[39;49;00m\u001b[43m \u001b[49m\u001b[43midx_transitions_list\u001b[49m\u001b[43m]\u001b[49m\u001b[43m)\u001b[49m    \n\u001b[1;32m   1063\u001b[0m prob_CO_between_snps_list \u001b[38;5;241m=\u001b[39m numba\u001b[38;5;241m.\u001b[39mtyped\u001b[38;5;241m.\u001b[39mList(prob_CO_between_snps_list)\n\u001b[1;32m   1064\u001b[0m prob_CO_before_read_list \u001b[38;5;241m=\u001b[39m numba\u001b[38;5;241m.\u001b[39mtyped\u001b[38;5;241m.\u001b[39mList(prob_CO_before_read_list)\n",
      "File \u001b[0;32m/nfs/treeoflife-01/teams/tola/users/rs42/miniconda3/envs/sperm/lib/python3.11/site-packages/numba/typed/typedlist.py:268\u001b[0m, in \u001b[0;36mList.__init__\u001b[0;34m(self, *args, **kwargs)\u001b[0m\n\u001b[1;32m    266\u001b[0m     \u001b[38;5;28;01mraise\u001b[39;00m \u001b[38;5;167;01mTypeError\u001b[39;00m(\u001b[38;5;124m\"\u001b[39m\u001b[38;5;124mList() argument must be iterable\u001b[39m\u001b[38;5;124m\"\u001b[39m)\n\u001b[1;32m    267\u001b[0m \u001b[38;5;28;01mfor\u001b[39;00m i \u001b[38;5;129;01min\u001b[39;00m args[\u001b[38;5;241m0\u001b[39m]:\n\u001b[0;32m--> 268\u001b[0m     \u001b[38;5;28;43mself\u001b[39;49m\u001b[38;5;241;43m.\u001b[39;49m\u001b[43mappend\u001b[49m\u001b[43m(\u001b[49m\u001b[43mi\u001b[49m\u001b[43m)\u001b[49m\n",
      "File \u001b[0;32m/nfs/treeoflife-01/teams/tola/users/rs42/miniconda3/envs/sperm/lib/python3.11/site-packages/numba/typed/typedlist.py:344\u001b[0m, in \u001b[0;36mList.append\u001b[0;34m(self, item)\u001b[0m\n\u001b[1;32m    342\u001b[0m \u001b[38;5;28;01mif\u001b[39;00m \u001b[38;5;129;01mnot\u001b[39;00m \u001b[38;5;28mself\u001b[39m\u001b[38;5;241m.\u001b[39m_typed:\n\u001b[1;32m    343\u001b[0m     \u001b[38;5;28mself\u001b[39m\u001b[38;5;241m.\u001b[39m_initialise_list(item)\n\u001b[0;32m--> 344\u001b[0m \u001b[43m_append\u001b[49m\u001b[43m(\u001b[49m\u001b[38;5;28;43mself\u001b[39;49m\u001b[43m,\u001b[49m\u001b[43m \u001b[49m\u001b[43mitem\u001b[49m\u001b[43m)\u001b[49m\n",
      "\u001b[0;31mKeyboardInterrupt\u001b[0m: "
     ]
    }
   ],
   "source": [
    "%%time\n",
    "inference.maximum_likelihood_all_reads(\n",
    "    sampled_callset_df[\"read_length\"].to_numpy(),\n",
    "    sampled_callset_df[\"mid_quality_snp_positions\"].to_numpy(),\n",
    "    sim_idx_transitions,\n",
    "    sampled_callset_df[\"between_mid_quality_snps_cM\"].to_numpy() * 1e-2,\n",
    "    sampled_callset_df[\"before_read_cM\"].to_numpy() * 1e-2,\n",
    "    sampled_callset_df[\"after_read_cM\"].to_numpy() * 1e-2,\n",
    "    sampled_callset_df[\"weight\"].to_numpy(),\n",
    "    q_range = (0.03, 1-1e-2),   # Lower end of 0.03 chosen according to observed cMs\n",
    "    m_range = (0.5, 1),\n",
    "    GC_tract_mean_range = (1, 100),\n",
    "    GC_tract_mean2_range = (100, 5000),\n",
    "    read_margin_in_bp = 5000,\n",
    ")\n"
   ]
  },
  {
   "cell_type": "code",
   "execution_count": null,
   "id": "c3cdf141-c95b-4be3-9b67-8cd0c9f5ec7e",
   "metadata": {},
   "outputs": [],
   "source": [
    "# Current:\t[   0.144    0.98    60.629 2660.276]\t"
   ]
  },
  {
   "cell_type": "code",
   "execution_count": null,
   "id": "8a1c75a7-00f8-4fd5-babd-4eeb3631d60b",
   "metadata": {},
   "outputs": [],
   "source": []
  },
  {
   "cell_type": "markdown",
   "id": "85b75cf3-dc1f-4aa9-bb8d-2d65144350fd",
   "metadata": {},
   "source": [
    "# What is the full distribution from reads"
   ]
  },
  {
   "cell_type": "markdown",
   "id": "e593a6cd-96d1-43b2-bccf-58527b69bdc1",
   "metadata": {},
   "source": [
    "## Test one"
   ]
  },
  {
   "cell_type": "code",
   "execution_count": 34,
   "id": "5c1c9779-a70a-4902-b4c4-9577ecaa6c1c",
   "metadata": {
    "tags": []
   },
   "outputs": [],
   "source": [
    "row = {\n",
    "    \"read_length\": 10000,\n",
    "    \"high_quality_snp_positions\": [4000, 5001, 6010, 6500],\n",
    "    \"between_high_quality_snps_cM\": [1e-2, 2e-2, 3e-2, 1e-2, 1e-2],\n",
    "    \"before_read_cM\": 1e-3,\n",
    "    \"after_read_cM\": 1e-3,\n",
    "}\n"
   ]
  },
  {
   "cell_type": "code",
   "execution_count": 35,
   "id": "687e293b-7a43-4351-941f-3623545dc114",
   "metadata": {
    "tags": []
   },
   "outputs": [
    {
     "name": "stdout",
     "output_type": "stream",
     "text": [
      "CPU times: user 257 µs, sys: 79 µs, total: 336 µs\n",
      "Wall time: 348 µs\n"
     ]
    }
   ],
   "source": [
    "%%time\n",
    "D = inference.tract_length_upper_bound_dist_from_read(\n",
    "    row[\"read_length\"],\n",
    "    row[\"high_quality_snp_positions\"],\n",
    "    np.array(row[\"between_high_quality_snps_cM\"]) * 1e-2,\n",
    "    row[\"before_read_cM\"],\n",
    "    row[\"after_read_cM\"],\n",
    "    0.15,\n",
    "    0.98,\n",
    "    30,\n",
    "    1000,\n",
    "    read_margin_in_bp = 5000,\n",
    "    max_dist_bin = 30000,\n",
    ")"
   ]
  },
  {
   "cell_type": "code",
   "execution_count": 38,
   "id": "e9cf4c34-509d-4ed7-b253-2745aae31f90",
   "metadata": {
    "tags": []
   },
   "outputs": [
    {
     "data": {
      "text/plain": [
       "(array([1499, 2010, 2500]), array([0.56561641, 0.4145981 , 0.01978549]))"
      ]
     },
     "execution_count": 38,
     "metadata": {},
     "output_type": "execute_result"
    }
   ],
   "source": [
    "np.where(D)[0], D[np.where(D)]"
   ]
  },
  {
   "cell_type": "markdown",
   "id": "85ad49ad-d4a1-435f-9a87-3c1e5581b684",
   "metadata": {},
   "source": [
    "## Run on many reads"
   ]
  },
  {
   "cell_type": "markdown",
   "id": "ffb7c32e-fab9-437b-bc2b-fb3183ae2d82",
   "metadata": {},
   "source": [
    "### High quality reads"
   ]
  },
  {
   "cell_type": "code",
   "execution_count": 29,
   "id": "a5b8489b-e6ab-40be-9828-d40de3136954",
   "metadata": {
    "tags": []
   },
   "outputs": [
    {
     "name": "stdout",
     "output_type": "stream",
     "text": [
      "CPU times: user 23min 35s, sys: 11.6 s, total: 23min 46s\n",
      "Wall time: 3min 29s\n"
     ]
    }
   ],
   "source": [
    "%%time\n",
    "idf = callset_df\n",
    "\n",
    "D_mix, C_mix = inference.tract_length_upper_bound_dist_from_many_reads(\n",
    "    # numba.typed.List(idf[\"read_length\"].to_numpy()),\n",
    "    # numba.typed.List(idf[\"high_quality_snp_positions\"].to_numpy()),\n",
    "    # numba.typed.List(idf[\"between_high_quality_snps_bp\"].to_numpy() * 1e-8),\n",
    "    # numba.typed.List(np.repeat(5000 * 1e-8, len(idf))),\n",
    "    # numba.typed.List(np.repeat(5000 * 1e-8, len(idf))),\n",
    "    # numba.typed.List(idf[\"weight\"].to_numpy()),\n",
    "    numba.typed.List(idf[\"read_length\"].to_numpy()),\n",
    "    numba.typed.List(idf[\"high_quality_snp_positions\"].to_numpy()),\n",
    "    numba.typed.List(idf[\"between_high_quality_snps_cM\"].to_numpy() * 1e-2),\n",
    "    numba.typed.List(idf[\"before_read_cM\"].to_numpy() * 1e-2),\n",
    "    numba.typed.List(idf[\"after_read_cM\"].to_numpy() * 1e-2),\n",
    "    numba.typed.List(idf[\"weight\"].to_numpy()),\n",
    "    q = 0.05,\n",
    "    m = 0.999,\n",
    "    GC_tract_mean = 7.1,\n",
    "    GC_tract_mean2 = 583.7,\n",
    "    read_margin_in_bp = 5000,\n",
    ")\n",
    "\n",
    "D_one, C_one = inference.tract_length_upper_bound_dist_from_many_reads(\n",
    "    # numba.typed.List(idf[\"read_length\"].to_numpy()),\n",
    "    # numba.typed.List(idf[\"high_quality_snp_positions\"].to_numpy()),\n",
    "    # numba.typed.List(idf[\"between_high_quality_snps_bp\"].to_numpy() * 1e-8),\n",
    "    # numba.typed.List(np.repeat(5000 * 1e-8, len(idf))),\n",
    "    # numba.typed.List(np.repeat(5000 * 1e-8, len(idf))),\n",
    "    # numba.typed.List(idf[\"weight\"].to_numpy()),\n",
    "    numba.typed.List(idf[\"read_length\"].to_numpy()),\n",
    "    numba.typed.List(idf[\"high_quality_snp_positions\"].to_numpy()),\n",
    "    numba.typed.List(idf[\"between_high_quality_snps_cM\"].to_numpy() * 1e-2),\n",
    "    numba.typed.List(idf[\"before_read_cM\"].to_numpy() * 1e-2),\n",
    "    numba.typed.List(idf[\"after_read_cM\"].to_numpy() * 1e-2),\n",
    "    numba.typed.List(idf[\"weight\"].to_numpy()),    \n",
    "    q = 0.065,\n",
    "    m = 1,\n",
    "    GC_tract_mean = 1045.4,\n",
    "    GC_tract_mean2 = 1045.4,\n",
    "    read_margin_in_bp = 5000,\n",
    ")\n",
    "\n"
   ]
  },
  {
   "cell_type": "code",
   "execution_count": null,
   "id": "8399dd94-7ce3-49a7-b01c-fb59b738247e",
   "metadata": {},
   "outputs": [],
   "source": []
  },
  {
   "cell_type": "markdown",
   "id": "6bf2ad32-a7ed-4485-8979-e2dad8e4c43a",
   "metadata": {},
   "source": [
    "### Plot and compare"
   ]
  },
  {
   "cell_type": "code",
   "execution_count": 30,
   "id": "2d85ea47-9e3a-4a3e-a7bb-71a419e2a532",
   "metadata": {
    "tags": []
   },
   "outputs": [],
   "source": [
    "upper_bound = (callset_df\n",
    "    .filter(pl.col(\"high_quality_snps_idx_transitions\").list.len() == 2)\n",
    "    .select(\n",
    "        (\n",
    "            pl.col(\"high_quality_snp_positions\").list.get(pl.col(\"high_quality_snps_idx_transitions\").list.get(1)+1) -\n",
    "            pl.col(\"high_quality_snp_positions\").list.get(pl.col(\"high_quality_snps_idx_transitions\").list.get(0))\n",
    "        ).alias(\"upper_bound\")            \n",
    "    )\n",
    "    [\"upper_bound\"]\n",
    ")"
   ]
  },
  {
   "cell_type": "code",
   "execution_count": 32,
   "id": "93d1f357-63b5-4e1b-9f33-e225967ac6d1",
   "metadata": {
    "tags": []
   },
   "outputs": [
    {
     "data": {
      "image/png": "[encoded data removed]",
      "text/plain": [
       "<Figure size 400x400 with 1 Axes>"
      ]
     },
     "metadata": {},
     "output_type": "display_data"
    }
   ],
   "source": [
    "import scipy.ndimage\n",
    "\n",
    "\n",
    "smooth = 100\n",
    "\n",
    "fig, ax = plt.subplots(figsize=(4,4))\n",
    "\n",
    "ax.plot(\n",
    "    scipy.ndimage.uniform_filter1d(D_mix, smooth), \n",
    "    '.', ms=2, alpha=0.5, \n",
    "    label=\"Short + Long\",\n",
    "    color=\"C0\",\n",
    ");\n",
    "ax.plot(\n",
    "    scipy.ndimage.uniform_filter1d(D_one, smooth), \n",
    "    '.', ms=2, \n",
    "    alpha=0.5, \n",
    "    label=\"Single distribution\",\n",
    "    color=\"C1\",\n",
    ");\n",
    "#plt.ylim(0, 0.00005);\n",
    "ax.set_xlim(0, 15000);\n",
    "\n",
    "\n",
    "sns.histplot(\n",
    "    upper_bound,\n",
    "    ax=ax,\n",
    "    #kde=True,\n",
    "    stat=\"density\",\n",
    "    color=\"C2\",\n",
    "    bins=50,\n",
    "    label=\"real data\",\n",
    "    alpha=0.6,\n",
    "    linewidth=0.5,\n",
    ")\n",
    "# plt.hist(\n",
    "#     upper_bound,\n",
    "#     bins=200,\n",
    "#     density=True,\n",
    "#     label=\"real\",\n",
    "# );\n",
    "\n",
    "plt.legend();\n",
    "\n",
    "sns.despine(ax=ax)\n",
    "ax.set_xlabel(\"NCO tract length upper bound\");\n",
    "\n",
    "#fig.savefig(\"/nfs/treeoflife-01/teams/tola/users/rs42/git/sperm/figures/n_tract_length.pdf\")"
   ]
  },
  {
   "cell_type": "code",
   "execution_count": 33,
   "id": "506b590b-8c5e-40df-9951-74cd1bb7e3ac",
   "metadata": {},
   "outputs": [],
   "source": [
    "conv_df = (callset_df\n",
    "    .filter(pl.col(\"high_quality_snps_idx_transitions\").list.len() == 2)\n",
    "    .select(pl.col(\"high_quality_snps_idx_transitions\").list.diff(null_behavior=\"drop\").list.first().alias(\"n_converted\"))\n",
    "    .group_by(\"n_converted\")\n",
    "    .len()\n",
    "    .sort(\"n_converted\")\n",
    ")"
   ]
  },
  {
   "cell_type": "code",
   "execution_count": 34,
   "id": "cdf502c2-e15c-4e80-9da7-fc1cfedf4f8e",
   "metadata": {
    "tags": []
   },
   "outputs": [],
   "source": [
    "import statsmodels.stats.proportion\n",
    "\n",
    "R = np.zeros(10)\n",
    "for n, c in conv_df.rows():\n",
    "    R[n] = c\n",
    "\n",
    "mns = R / R.sum()\n",
    "cis = [statsmodels.stats.proportion.proportion_confint(c, R.sum()) for c in R]"
   ]
  },
  {
   "cell_type": "code",
   "execution_count": 41,
   "id": "95975656-0837-467d-a7a1-7b9ffeef4775",
   "metadata": {
    "tags": []
   },
   "outputs": [
    {
     "data": {
      "image/png": "[encoded data removed]",
      "text/plain": [
       "<Figure size 400x400 with 3 Axes>"
      ]
     },
     "metadata": {},
     "output_type": "display_data"
    }
   ],
   "source": [
    "fig = plt.figure(figsize=(4,4))\n",
    "\n",
    "bax = brokenaxes(xlims=[(0.4, 6.6)], ylims=[(0, 0.15), (0.75, 1)], hspace=.4)\n",
    "\n",
    "ci_high_mix = scipy.stats.binom.isf(0.025, conv_df[\"len\"].sum(), C_mix) / conv_df[\"len\"].sum()\n",
    "ci_low_mix = scipy.stats.binom.isf(1-0.025, conv_df[\"len\"].sum(), C_mix) / conv_df[\"len\"].sum()\n",
    "\n",
    "bax.plot(\n",
    "    np.arange(len(mns))+0.1,\n",
    "    C_mix, \n",
    "    '.', \n",
    "    color=\"C0\",\n",
    "    label=\"Short + Long\",\n",
    "    ms=10,    \n",
    ")\n",
    "bax.errorbar(\n",
    "    x = np.arange(len(mns))+0.1,\n",
    "    y = C_mix,\n",
    "    #yerr = np.array([[mn-ci_low, ci_high-mn] for mn, ci_low, ci_high in zip(C_mix, ci_low_mix, ci_high_mix)]).T,\n",
    "    ls = ' ',\n",
    "    color='C0',\n",
    ")\n",
    "\n",
    "ci_high_mix = scipy.stats.binom.isf(0.025, conv_df[\"len\"].sum(), C_one) / conv_df[\"len\"].sum()\n",
    "ci_low_mix = scipy.stats.binom.isf(1-0.025, conv_df[\"len\"].sum(), C_one) / conv_df[\"len\"].sum()\n",
    "# bax.plot(\n",
    "#     np.arange(len(mns))-0.1,\n",
    "#     C_one, \n",
    "#     '.', \n",
    "#     color=\"C1\",\n",
    "#     label=\"Single distribution\",\n",
    "#     ms=10,\n",
    "# )\n",
    "# bax.errorbar(\n",
    "#     x = np.arange(len(mns))-0.1,\n",
    "#     y = C_one,\n",
    "#     #yerr = np.array([[mn-ci_low, ci_high-mn] for mn, ci_low, ci_high in zip(C_one, ci_low_mix, ci_high_mix)]).T,\n",
    "#     ls = ' ',\n",
    "#     color='C1',\n",
    "# )\n",
    "\n",
    "\n",
    "bax.bar(\n",
    "    x=np.arange(len(mns)),\n",
    "    height=mns, \n",
    "    color=NCO_color,\n",
    "    alpha=0.6,\n",
    "    label=\"NCO reads\",\n",
    "    edgecolor=\"black\",\n",
    "    linewidth=1,\n",
    ")\n",
    "\n",
    "bax.set_xlabel(\"# of converted markers\")\n",
    "bax.set_ylabel(\"Proportion\");\n",
    "bax.legend();\n",
    "\n",
    "#fig.savefig(\"/nfs/treeoflife-01/teams/tola/users/rs42/git/sperm/figures/n_converted.pdf\")"
   ]
  },
  {
   "cell_type": "code",
   "execution_count": null,
   "id": "4d8cb0c3-6808-4fa0-9269-0082fc81f567",
   "metadata": {},
   "outputs": [],
   "source": []
  },
  {
   "cell_type": "markdown",
   "id": "71793f39-8abd-475b-b256-3615362eedde",
   "metadata": {},
   "source": [
    "### Mid quality"
   ]
  },
  {
   "cell_type": "code",
   "execution_count": 10,
   "id": "9909da00-dd4c-4a24-aafa-95ea261cefc9",
   "metadata": {
    "tags": []
   },
   "outputs": [
    {
     "name": "stdout",
     "output_type": "stream",
     "text": [
      "CPU times: user 2h 4min 26s, sys: 27.5 s, total: 2h 4min 53s\n",
      "Wall time: 14min 38s\n"
     ]
    }
   ],
   "source": [
    "%%time\n",
    "idf = callset_df\n",
    "\n",
    "D_mix_mid, C_mix_mid = inference.tract_length_upper_bound_dist_from_many_reads(\n",
    "    # numba.typed.List(idf[\"read_length\"].to_numpy()),\n",
    "    # numba.typed.List(idf[\"high_quality_snp_positions\"].to_numpy()),\n",
    "    # numba.typed.List(idf[\"between_high_quality_snps_bp\"].to_numpy() * 1e-8),\n",
    "    # numba.typed.List(np.repeat(5000 * 1e-8, len(idf))),\n",
    "    # numba.typed.List(np.repeat(5000 * 1e-8, len(idf))),\n",
    "    # numba.typed.List(idf[\"weight\"].to_numpy()),\n",
    "    numba.typed.List(idf[\"read_length\"].to_numpy()),\n",
    "    numba.typed.List(idf[\"mid_quality_snp_positions\"].to_numpy()),\n",
    "    numba.typed.List(idf[\"between_mid_quality_snps_cM\"].to_numpy() * 1e-2),\n",
    "    numba.typed.List(idf[\"before_read_cM\"].to_numpy() * 1e-2),\n",
    "    numba.typed.List(idf[\"after_read_cM\"].to_numpy() * 1e-2),\n",
    "    numba.typed.List(idf[\"weight\"].to_numpy()),\n",
    "    q = 0.142,\n",
    "    m = 0.982,\n",
    "    GC_tract_mean = 34.6,\n",
    "    GC_tract_mean2 = 7214.145,\n",
    "    read_margin_in_bp = 5000,\n",
    ")\n",
    "\n",
    "D_one_mid, C_one_mid = inference.tract_length_upper_bound_dist_from_many_reads(\n",
    "    # numba.typed.List(idf[\"read_length\"].to_numpy()),\n",
    "    # numba.typed.List(idf[\"high_quality_snp_positions\"].to_numpy()),\n",
    "    # numba.typed.List(idf[\"between_high_quality_snps_bp\"].to_numpy() * 1e-8),\n",
    "    # numba.typed.List(np.repeat(5000 * 1e-8, len(idf))),\n",
    "    # numba.typed.List(np.repeat(5000 * 1e-8, len(idf))),\n",
    "    # numba.typed.List(idf[\"weight\"].to_numpy()),\n",
    "    numba.typed.List(idf[\"read_length\"].to_numpy()),\n",
    "    numba.typed.List(idf[\"mid_quality_snp_positions\"].to_numpy()),\n",
    "    numba.typed.List(idf[\"between_mid_quality_snps_cM\"].to_numpy() * 1e-2),\n",
    "    numba.typed.List(idf[\"before_read_cM\"].to_numpy() * 1e-2),\n",
    "    numba.typed.List(idf[\"after_read_cM\"].to_numpy() * 1e-2),\n",
    "    numba.typed.List(idf[\"weight\"].to_numpy()),    \n",
    "    q = 0.409,\n",
    "    m = 1,\n",
    "    GC_tract_mean = 217.168,\n",
    "    GC_tract_mean2 = 1000,\n",
    "    read_margin_in_bp = 5000,\n",
    ")\n",
    "\n"
   ]
  },
  {
   "cell_type": "code",
   "execution_count": null,
   "id": "0edecd1c-fd9a-4567-bba9-75f8d4f147ef",
   "metadata": {},
   "outputs": [],
   "source": []
  },
  {
   "cell_type": "code",
   "execution_count": 71,
   "id": "44586083-225a-462e-aa81-9f3a168c161b",
   "metadata": {
    "tags": []
   },
   "outputs": [],
   "source": [
    "upper_bound_mid = (callset_df\n",
    "    .filter(pl.col(\"idx_transitions\").list.len() == 2)\n",
    "    .select(\n",
    "        (\n",
    "            pl.col(\"mid_quality_snp_positions\").list.get(pl.col(\"idx_transitions\").list.get(1)+1) -\n",
    "            pl.col(\"mid_quality_snp_positions\").list.get(pl.col(\"idx_transitions\").list.get(0))\n",
    "        ).alias(\"upper_bound\")            \n",
    "    )\n",
    "    [\"upper_bound\"]\n",
    ")"
   ]
  },
  {
   "cell_type": "code",
   "execution_count": 187,
   "id": "92ab6588-055e-4206-900d-5bd923bb7873",
   "metadata": {},
   "outputs": [
    {
     "data": {
      "image/png": "[encoded data removed]",
      "text/plain": [
       "<Figure size 400x400 with 1 Axes>"
      ]
     },
     "metadata": {},
     "output_type": "display_data"
    }
   ],
   "source": [
    "import scipy.ndimage\n",
    "\n",
    "\n",
    "smooth = 100\n",
    "\n",
    "fig, ax = plt.subplots(figsize=(4,4))\n",
    "\n",
    "ax.plot(\n",
    "    scipy.ndimage.uniform_filter1d(D_mix_mid, smooth), \n",
    "    '.', ms=2, alpha=0.5, \n",
    "    label=\"Short + Long\",\n",
    "    color=\"C0\",\n",
    ");\n",
    "ax.plot(\n",
    "    scipy.ndimage.uniform_filter1d(D_one_mid, smooth), \n",
    "    '.', ms=2, \n",
    "    alpha=0.5, \n",
    "    label=\"Singe distribution\",\n",
    "    color=\"C1\",\n",
    ");\n",
    "#plt.ylim(0, 0.00005);\n",
    "ax.set_xlim(0, 15000);\n",
    "\n",
    "\n",
    "sns.histplot(\n",
    "    upper_bound,\n",
    "    ax=ax,\n",
    "    #kde=True,\n",
    "    stat=\"density\",\n",
    "    color=\"C2\",\n",
    "    bins=50,\n",
    "    label=\"real data\",\n",
    "    alpha=0.6,\n",
    "    linewidth=0.5,\n",
    ")\n",
    "# plt.hist(\n",
    "#     upper_bound,\n",
    "#     bins=200,\n",
    "#     density=True,\n",
    "#     label=\"real\",\n",
    "# );\n",
    "\n",
    "plt.legend();\n",
    "\n",
    "sns.despine(ax=ax)\n",
    "ax.set_xlabel(\"NCO tract length upper bound\");\n",
    "\n",
    "#fig.savefig(\"/nfs/treeoflife-01/teams/tola/users/rs42/git/sperm/figures/n_tract_length.pdf\")"
   ]
  },
  {
   "cell_type": "code",
   "execution_count": null,
   "id": "bfcd40a5-8a74-4819-b205-6e7eea165f21",
   "metadata": {},
   "outputs": [],
   "source": []
  },
  {
   "cell_type": "code",
   "execution_count": 16,
   "id": "8fa54d9d-ddfd-4d9f-97c8-c9430ac66b36",
   "metadata": {},
   "outputs": [],
   "source": [
    "conv_mid_df = (callset_df\n",
    "    .filter(pl.col(\"idx_transitions\").list.len() == 2)\n",
    "    .select(pl.col(\"idx_transitions\").list.diff(null_behavior=\"drop\").list.first().alias(\"n_converted\"))\n",
    "    .group_by(\"n_converted\")\n",
    "    .len()\n",
    "    .sort(\"n_converted\")\n",
    ")"
   ]
  },
  {
   "cell_type": "code",
   "execution_count": 17,
   "id": "05bbb1bf-d475-493f-a2fd-5da2bbf31dc6",
   "metadata": {
    "tags": []
   },
   "outputs": [
    {
     "data": {
      "text/html": [
       "<div><style>\n",
       ".dataframe > thead > tr,\n",
       ".dataframe > tbody > tr {\n",
       "  text-align: right;\n",
       "  white-space: pre-wrap;\n",
       "}\n",
       "</style>\n",
       "<small>shape: (6, 2)</small><table border=\"1\" class=\"dataframe\"><thead><tr><th>n_converted</th><th>len</th></tr><tr><td>i64</td><td>u32</td></tr></thead><tbody><tr><td>1</td><td>446</td></tr><tr><td>2</td><td>39</td></tr><tr><td>3</td><td>12</td></tr><tr><td>4</td><td>1</td></tr><tr><td>5</td><td>4</td></tr><tr><td>6</td><td>2</td></tr></tbody></table></div>"
      ],
      "text/plain": [
       "shape: (6, 2)\n",
       "┌─────────────┬─────┐\n",
       "│ n_converted ┆ len │\n",
       "│ ---         ┆ --- │\n",
       "│ i64         ┆ u32 │\n",
       "╞═════════════╪═════╡\n",
       "│ 1           ┆ 446 │\n",
       "│ 2           ┆ 39  │\n",
       "│ 3           ┆ 12  │\n",
       "│ 4           ┆ 1   │\n",
       "│ 5           ┆ 4   │\n",
       "│ 6           ┆ 2   │\n",
       "└─────────────┴─────┘"
      ]
     },
     "execution_count": 17,
     "metadata": {},
     "output_type": "execute_result"
    }
   ],
   "source": [
    "conv_mid_df"
   ]
  },
  {
   "cell_type": "code",
   "execution_count": null,
   "id": "1ad61b14-c89e-4f66-8c52-89392d576883",
   "metadata": {},
   "outputs": [],
   "source": []
  },
  {
   "cell_type": "code",
   "execution_count": null,
   "id": "d0a8fc23-6b92-40ee-ad4b-4021a404d4a2",
   "metadata": {},
   "outputs": [],
   "source": []
  },
  {
   "cell_type": "code",
   "execution_count": 22,
   "id": "10111626-97ef-43b6-a7dc-307766e35bcf",
   "metadata": {
    "tags": []
   },
   "outputs": [
    {
     "data": {
      "image/png": "[encoded data removed]",
      "text/plain": [
       "<Figure size 400x400 with 3 Axes>"
      ]
     },
     "metadata": {},
     "output_type": "display_data"
    }
   ],
   "source": [
    "fig = plt.figure(figsize=(4,4))\n",
    "\n",
    "bax = brokenaxes(xlims=[(0.4, 7.6)], ylims=[(0, 0.15), (0.75, 0.92)], hspace=.4)\n",
    "\n",
    "ci_high_mix = scipy.stats.binom.isf(0.025, conv_mid_df[\"len\"].sum(), C_mix_mid) / conv_mid_df[\"len\"].sum()\n",
    "ci_low_mix = scipy.stats.binom.isf(1-0.025, conv_mid_df[\"len\"].sum(), C_mix_mid) / conv_mid_df[\"len\"].sum()\n",
    "\n",
    "R = np.zeros(10)\n",
    "for n, c in conv_mid_df.rows():\n",
    "    R[n] = c\n",
    "\n",
    "mns = R / R.sum()\n",
    "\n",
    "bax.plot(\n",
    "    np.arange(len(C_mix_mid))+0.1,\n",
    "    C_mix_mid, \n",
    "    '.', \n",
    "    color=\"C0\",\n",
    "    label=\"Short + Long\",\n",
    "    ms=10,    \n",
    ")\n",
    "bax.errorbar(\n",
    "    x = np.arange(len(C_mix_mid))+0.1,\n",
    "    y = C_mix_mid,\n",
    "    yerr = np.array([[mn-ci_low, ci_high-mn] for mn, ci_low, ci_high in zip(C_mix_mid, ci_low_mix, ci_high_mix)]).T,\n",
    "    ls = ' ',\n",
    "    color='C0',\n",
    ")\n",
    "\n",
    "ci_high_mix = scipy.stats.binom.isf(0.025, conv_mid_df[\"len\"].sum(), C_one_mid) / conv_mid_df[\"len\"].sum()\n",
    "ci_low_mix = scipy.stats.binom.isf(1-0.025, conv_mid_df[\"len\"].sum(), C_one_mid) / conv_mid_df[\"len\"].sum()\n",
    "bax.plot(\n",
    "    np.arange(len(C_mix_mid))-0.1,\n",
    "    C_one_mid, \n",
    "    '.', \n",
    "    color=\"C1\",\n",
    "    label=\"Single distribution\",\n",
    "    ms=10,\n",
    ")\n",
    "bax.errorbar(\n",
    "    x = np.arange(len(C_mix_mid))-0.1,\n",
    "    y = C_one_mid,\n",
    "    yerr = np.array([[mn-ci_low, ci_high-mn] for mn, ci_low, ci_high in zip(C_one_mid, ci_low_mix, ci_high_mix)]).T,\n",
    "    ls = ' ',\n",
    "    color='C1',\n",
    ")\n",
    "\n",
    "\n",
    "bax.bar(\n",
    "    x=np.arange(len(mns)),\n",
    "    height=mns, \n",
    "    color=NCO_color,\n",
    "    alpha=0.6,\n",
    "    label=\"NCO reads\",\n",
    "    edgecolor=\"black\",\n",
    "    linewidth=1,\n",
    ")\n",
    "\n",
    "bax.set_xlabel(\"# of converted markers\")\n",
    "bax.set_ylabel(\"Proportion\");\n",
    "bax.legend();\n",
    "\n",
    "bax.set_xticks(\n",
    "    np.arange(1, 8),\n",
    "    [str(x) for x in np.arange(1,8)],\n",
    ")\n",
    "\n",
    "#fig.savefig(\"/nfs/treeoflife-01/teams/tola/users/rs42/git/sperm/figures/n_converted.pdf\")"
   ]
  },
  {
   "cell_type": "code",
   "execution_count": null,
   "id": "b793a521-aacc-4681-94d8-a9e73b2fe3b7",
   "metadata": {},
   "outputs": [],
   "source": []
  },
  {
   "cell_type": "code",
   "execution_count": null,
   "id": "62c51f5d-73a1-49b3-b842-73374579c0ff",
   "metadata": {},
   "outputs": [],
   "source": []
  },
  {
   "cell_type": "code",
   "execution_count": null,
   "id": "5a398a1a-4b90-4ae0-8b9c-a9434f54d9f7",
   "metadata": {},
   "outputs": [],
   "source": []
  },
  {
   "cell_type": "markdown",
   "id": "83d2fadb-e3df-4977-8eb4-866e2a747128",
   "metadata": {},
   "source": [
    "# Run it"
   ]
  },
  {
   "cell_type": "code",
   "execution_count": 18,
   "id": "438d81a4-d47b-4e6d-9080-42e2f4cbb577",
   "metadata": {
    "tags": []
   },
   "outputs": [
    {
     "name": "stdout",
     "output_type": "stream",
     "text": [
      "Current:\t[   0.      1.      1.   1000.      0.01]\t15917.41616736455\n",
      "Current:\t[   0.      1.      1.   1000.      0.01]\t15940.584108357198\n",
      "Current:\t[   0.      1.      1.   1000.      0.01]\t15917.41616736455\n",
      "Current:\t[   0.      1.      1.   1000.      0.01]\t15917.41616736455\n",
      "Current:\t[   0.      1.      1.   1050.      0.01]\t15917.112393599595\n",
      "Current:\t[   0.       1.       1.    1000.       0.011]\t15893.300967200954\n",
      "Current:\t[   0.      1.      1.   1020.      0.01]\t15884.79078759299\n",
      "Current:\t[   0.      1.      1.   1030.      0.01]\t15858.254376359972\n",
      "Current:\t[   0.      1.      1.   1032.      0.01]\t15883.701166418965\n",
      "Current:\t[   0.      1.      1.   1044.8     0.01]\t15870.969396934195\n",
      "Current:\t[   0.       1.       1.    1062.72     0.011]\t15853.907395828342\n",
      "Current:\t[   0.       1.       1.    1094.08     0.011]\t15826.319436436266\n",
      "Current:\t[   0.       1.       1.    1030.352    0.011]\t15821.536017565926\n",
      "Current:\t[   0.       1.       1.    1020.528    0.012]\t15785.484453760051\n",
      "Current:\t[   0.       1.       1.    1088.563    0.011]\t15796.780228741432\n",
      "Current:\t[   0.       1.       1.    1079.188    0.011]\t15778.410987938581\n",
      "Current:\t[   0.       1.       1.    1102.783    0.012]\t15749.82931656583\n",
      "Current:\t[   0.       1.       1.    1089.582    0.012]\t15751.212067422854\n",
      "Current:\t[   0.       1.       1.    1128.214    0.012]\t15744.593649845196\n",
      "Current:\t[   0.       1.       1.    1177.321    0.014]\t15799.666198506504\n",
      "Current:\t[   0.       1.       1.    1077.788    0.012]\t15754.921236068809\n",
      "Current:\t[   0.       1.       1.    1078.995    0.013]\t15767.161879805366\n",
      "Current:\t[   0.       1.       1.    1170.416    0.013]\t15854.70395022283\n",
      "Current:\t[   0.       1.       1.    1058.       0.012]\t15754.902489220214\n",
      "Current:\t[   0.       1.       1.    1103.552    0.011]\t15780.433650340414\n",
      "Current:\t[   0.       1.       1.    1085.134    0.013]\t15747.904904901803\n",
      "Current:\t[   0.       1.       1.    1107.697    0.012]\t15767.53082847632\n",
      "Current:\t[   0.       1.       1.    1085.265    0.012]\t15745.792466300738\n",
      "Current:\t[   0.       1.       1.    1138.391    0.012]\t15752.53777166004\n",
      "Current:\t[   0.       1.       1.    1118.293    0.012]\t15746.194578230241\n",
      "Current:\t[   0.       1.       1.    1118.294    0.013]\t15755.826022823187\n",
      "Current:\t[   0.       1.       1.    1096.76     0.012]\t15746.215453539533\n",
      "Current:\t[   0.       1.       1.    1102.684    0.013]\t15757.33939575005\n",
      "Current:\t[   0.       1.       1.    1102.758    0.012]\t15745.668735469259\n",
      "Current:\t[   0.       1.       1.    1127.382    0.012]\t15747.539465661974\n",
      "Current:\t[   0.       1.       1.    1116.82     0.012]\t15745.560548398009\n",
      "Current:\t[   0.       1.       1.    1123.781    0.012]\t15746.5761935378\n",
      "Current:\t[   0.       1.       1.    1103.515    0.012]\t15745.203176945446\n",
      "Current:\t[   0.       1.       1.    1096.336    0.012]\t15747.008627882475\n",
      "Current:\t[   0.       1.       1.    1112.804    0.012]\t15745.111453442323\n",
      "Current:\t[   0.       1.       1.    1140.379    0.012]\t15746.470556936301\n",
      "Current:\t[   0.       1.       1.    1099.044    0.012]\t15745.043960619809\n",
      "Current:\t[   0.       1.       1.    1121.401    0.012]\t15745.288114076193\n",
      "Current:\t[   0.       1.       1.    1109.171    0.013]\t15746.352557633845\n",
      "Current:\t[   0.       1.       1.    1114.908    0.012]\t15744.959425381816\n",
      "Current:\t[   0.       1.       1.    1101.993    0.012]\t15745.345898271664\n",
      "Current:\t[   0.       1.       1.    1116.549    0.012]\t15744.948361706023\n",
      "Current:\t[   0.       1.       1.    1125.092    0.012]\t15745.562120404844\n",
      "Current:\t[   0.       1.       1.    1108.909    0.012]\t15744.90663088111\n",
      "Current:\t[   0.       1.       1.    1114.246    0.012]\t15744.771643323753\n",
      "Current:\t[   0.       1.       1.    1134.087    0.012]\t15744.631327032022\n",
      "Current:\t[   0.       1.       1.    1125.894    0.012]\t15744.583302520681\n",
      "Current:\t[   0.       1.       1.    1131.387    0.013]\t15744.617498370597\n",
      "Current:\t[   0.       1.       1.    1127.991    0.012]\t15744.653460560186\n",
      "Current:\t[   0.       1.       1.    1143.263    0.013]\t15744.243898572966\n",
      "Current:\t[   0.       1.       1.    1160.44     0.013]\t15743.946071239894\n",
      "Current:\t[   0.       1.       1.    1156.405    0.013]\t15744.134449911975\n",
      "Current:\t[   0.       1.       1.    1154.025    0.013]\t15744.546224557636\n",
      "Current:\t[   0.       1.       1.    1155.905    0.013]\t15744.589323482705\n",
      "Current:\t[   0.       1.       1.    1172.853    0.013]\t15744.004653311136\n",
      "Current:\t[   0.       1.       1.    1151.942    0.013]\t15744.269964009274\n",
      "Current:\t[   0.       1.       1.    1192.372    0.013]\t15743.64793348391\n",
      "Current:\t[   0.       1.       1.    1225.611    0.013]\t15743.239447762502\n",
      "Current:\t[   0.       1.       1.    1192.876    0.013]\t15743.618420014374\n",
      "Current:\t[   0.       1.       1.    1211.332    0.013]\t15743.349408166097\n",
      "Current:\t[   0.       1.       1.    1228.84     0.013]\t15743.016995700465\n",
      "Current:\t[   0.       1.       1.    1265.058    0.014]\t15742.547704899078\n",
      "Current:\t[   0.       1.       1.    1249.274    0.014]\t15742.909174658089\n",
      "Current:\t[   0.       1.       1.    1297.22     0.014]\t15742.304031111047\n",
      "Current:\t[   0.       1.       1.    1365.61     0.015]\t15741.706209910823\n",
      "Current:\t[   0.       1.       1.    1333.878    0.014]\t15742.081589499945\n",
      "Current:\t[   0.       1.       1.    1364.441    0.015]\t15741.797768113378\n",
      "Current:\t[   0.       1.       1.    1405.693    0.015]\t15741.34523322687\n",
      "Current:\t[   0.       1.       1.    1495.734    0.016]\t15740.86877222067\n",
      "Current:\t[   0.       1.       1.    1480.615    0.016]\t15740.95477626519\n",
      "Current:\t[   0.       1.       1.    1551.053    0.016]\t15740.669568436424\n",
      "Current:\t[   0.       1.       1.    1694.051    0.018]\t15740.43098525472\n",
      "Current:\t[   0.       1.       1.    1626.302    0.017]\t15740.692029247908\n",
      "Current:\t[   0.       1.       1.    1700.484    0.018]\t15740.402780361157\n",
      "Current:\t[   0.       1.       1.    1868.505    0.02 ]\t15740.686250913894\n",
      "Current:\t[   0.       1.       1.    1833.264    0.019]\t15740.613203482491\n",
      "Current:\t[   0.       1.       1.    1859.319    0.019]\t15740.957766124971\n",
      "Current:\t[   0.       1.       1.    1575.291    0.017]\t15740.558462339426\n",
      "Current:\t[   0.       1.       1.    1876.022    0.019]\t15740.644246750599\n",
      "Current:\t[   0.       1.       1.    1845.343    0.019]\t15740.641664815117\n",
      "Current:\t[   0.       1.       1.    1583.35     0.017]\t15740.50122307306\n",
      "Current:\t[   0.       1.       1.    1509.233    0.016]\t15740.961111335342\n",
      "Current:\t[   0.       1.       1.    1761.315    0.018]\t15740.440825781454\n",
      "Current:\t[   0.       1.       1.    1492.533    0.016]\t15740.92899258043\n",
      "Current:\t[   0.       1.       1.    1748.081    0.018]\t15740.43689594392\n",
      "Current:\t[   0.       1.       1.    1819.622    0.019]\t15740.535133511868\n",
      "Current:\t[   0.       1.       1.    1758.539    0.018]\t15740.434860410545\n",
      "Current:\t[   0.       1.       1.    1881.637    0.019]\t15740.666067115897\n",
      "Current:\t[   0.       1.       1.    1657.922    0.018]\t15740.41078881547\n",
      "Current:\t[   0.       1.       1.    1662.315    0.017]\t15740.474374102216\n",
      "Current:\t[   0.       1.       1.    1736.565    0.018]\t15740.412513428997\n",
      "Current:\t[   0.       1.       1.    1670.943    0.018]\t15740.416759862872\n",
      "Current:\t[   0.       1.       1.    1625.447    0.017]\t15740.470044570126\n",
      "Current:\t[   0.       1.       1.    1725.266    0.018]\t15740.408431085763\n",
      "Current:\t[   0.       1.       1.    1702.422    0.018]\t15740.396266911177\n",
      "Current:\t[   0.       1.       1.    1706.607    0.018]\t15740.416766207984\n",
      "Current:\t[   0.       1.       1.    1738.12     0.018]\t15740.419210569424\n",
      "Current:\t[   0.       1.       1.    1687.738    0.018]\t15740.402105717192\n",
      "Current:\t[   0.       1.       1.    1652.967    0.018]\t15740.40684132416\n",
      "Current:\t[   0.       1.       1.    1729.628    0.018]\t15740.407940261977\n",
      "Current:\t[   0.       1.       1.    1664.03     0.018]\t15740.393376900078\n",
      "Current:\t[   0.       1.       1.    1633.411    0.018]\t15740.404253317198\n",
      "Current:\t[   0.       1.       1.    1633.428    0.017]\t15740.421027328608\n",
      "Current:\t[   0.       1.       1.    1705.578    0.018]\t15740.396235310565\n",
      "Current:\t[   0.       1.       1.    1731.133    0.018]\t15740.410355648188\n",
      "Current:\t[   0.       1.       1.    1672.509    0.018]\t15740.396596475335\n",
      "Current:\t[   0.       1.       1.    1672.426    0.018]\t15740.400412937164\n",
      "Current:\t[   0.       1.       1.    1679.048    0.018]\t15740.386985153697\n",
      "Current:\t[   0.       1.       1.    1674.704    0.018]\t15740.386766949141\n",
      "Current:\t[   0.       1.       1.    1695.27     0.018]\t15740.390049574615\n",
      "Current:\t[   0.       1.       1.    1704.293    0.018]\t15740.397995281932\n",
      "Current:\t[   0.       1.       1.    1680.455    0.018]\t15740.389941669479\n",
      "Current:\t[   0.       1.       1.    1665.593    0.018]\t15740.386101835194\n",
      "Current:\t[   0.       1.       1.    1647.178    0.018]\t15740.393693031625\n",
      "Current:\t[   0.       1.       1.    1646.442    0.018]\t15740.379025672568\n",
      "Current:\t[   0.       1.       1.    1616.874    0.018]\t15740.37927109975\n",
      "Current:\t[   0.       1.       1.    1680.956    0.018]\t15740.38007920919\n",
      "Current:\t[   0.       1.       1.    1643.989    0.018]\t15740.381846195722\n",
      "Current:\t[   0.       1.       1.    1644.219    0.018]\t15740.371309808415\n",
      "Current:\t[   0.       1.       1.    1626.101    0.018]\t15740.369277690448\n",
      "Current:\t[   0.       1.       1.    1630.529    0.018]\t15740.374841903717\n",
      "Current:\t[   0.       1.       1.    1625.614    0.018]\t15740.371359294499\n",
      "Current:\t[   0.       1.       1.    1639.867    0.018]\t15740.36361928207\n",
      "Current:\t[   0.       1.       1.    1637.806    0.018]\t15740.364565229167\n",
      "Current:\t[   0.       1.       1.    1586.465    0.018]\t15740.370706176254\n",
      "Current:\t[   0.       1.       1.    1596.989    0.018]\t15740.359726308096\n",
      "Current:\t[   0.       1.       1.    1572.262    0.018]\t15740.364734561996\n",
      "Current:\t[   0.       1.       1.    1599.486    0.018]\t15740.38537898948\n",
      "Current:\t[   0.       1.       1.    1622.768    0.018]\t15740.364906069353\n",
      "Current:\t[   0.       1.       1.    1603.262    0.018]\t15740.357337823012\n",
      "Current:\t[   0.       1.       1.    1592.086    0.018]\t15740.357690210727\n",
      "Current:\t[   0.       1.       1.    1649.129    0.018]\t15740.368245747743\n",
      "Current:\t[   0.       1.       1.    1618.705    0.018]\t15740.360328276345\n",
      "Current:\t[   0.       1.       1.    1583.507    0.018]\t15740.364488229254\n",
      "Current:\t[   0.       1.       1.    1594.164    0.018]\t15740.353546991157\n",
      "Current:\t[   0.       1.       1.    1579.862    0.018]\t15740.353650819306\n",
      "Current:\t[   0.       1.       1.    1637.688    0.018]\t15740.36767578512\n",
      "Current:\t[   0.       1.       1.    1597.052    0.018]\t15740.357991885625\n",
      "Current:\t[   0.       1.       1.    1564.201    0.018]\t15740.354479105388\n",
      "Current:\t[   0.       1.       1.    1563.562    0.018]\t15740.363904940581\n",
      "Current:\t[   0.       1.       1.    1604.919    0.018]\t15740.355816050229\n",
      "Current:\t[   0.       1.       1.    1588.451    0.018]\t15740.361560284327\n",
      "Current:\t[   0.       1.       1.    1594.854    0.018]\t15740.355792153547\n",
      "Current:\t[   0.       1.       1.    1587.508    0.018]\t15740.352993724535\n",
      "Current:\t[   0.       1.       1.    1582.736    0.018]\t15740.354108363323\n",
      "Current:\t[   0.       1.       1.    1574.997    0.018]\t15740.35268552696\n",
      "Current:\t[   0.       1.       1.    1560.864    0.018]\t15740.355007129523\n",
      "Current:\t[   0.       1.       1.    1561.37     0.018]\t15740.354644640294\n",
      "Current:\t[   0.       1.       1.    1558.042    0.018]\t15740.352875961344\n",
      "Current:\t[   0.       1.       1.    1590.195    0.018]\t15740.354166919378\n",
      "Current:\t[   0.       1.       1.    1597.761    0.018]\t15740.356929238882\n",
      "Current:\t[   0.       1.       1.    1572.591    0.018]\t15740.352657051752\n",
      "Current:\t[   0.       1.       1.    1564.726    0.018]\t15740.354435612358\n",
      "Current:\t[   0.       1.       1.    1583.828    0.018]\t15740.352777130547\n",
      "Current:\t[   0.       1.       1.    1556.622    0.018]\t15740.352779735922\n",
      "Current:\t[   0.       1.       1.    1550.924    0.018]\t15740.353302134992\n",
      "Current:\t[   0.       1.       1.    1578.362    0.018]\t15740.352385541479\n",
      "Current:\t[   0.       1.       1.    1588.518    0.018]\t15740.353290839468\n",
      "Current:\t[   0.       1.       1.    1565.661    0.018]\t15740.352340778696\n",
      "Current:\t[   0.       1.       1.    1593.553    0.018]\t15740.353503449242\n",
      "Current:\t[   0.       1.       1.    1565.855    0.018]\t15740.35229521856\n",
      "Current:\t[   0.       1.       1.    1559.159    0.018]\t15740.353178746542\n",
      "Current:\t[   0.       1.       1.    1577.66     0.018]\t15740.352331382046\n",
      "Current:\t[   0.       1.       1.    1569.055    0.018]\t15740.352647058153\n",
      "Current:\t[   0.       1.       1.    1570.046    0.018]\t15740.352630562733\n",
      "Current:\t[   0.       1.       1.    1573.979    0.018]\t15740.353178861886\n",
      "Current:\t[   0.       1.       1.    1570.286    0.018]\t15740.352283945973\n",
      "Current:\t[   0.       1.       1.    1573.084    0.018]\t15740.352526560722\n",
      "Current:\t[   0.       1.       1.    1572.324    0.018]\t15740.352279900419\n",
      "Current:\t[   0.       1.       1.    1562.353    0.018]\t15740.352480380972\n",
      "Current:\t[   0.       1.       1.    1574.36     0.018]\t15740.352246520932\n",
      "Current:\t[   0.       1.       1.    1578.533    0.018]\t15740.352469699239\n",
      "Current:\t[   0.       1.       1.    1568.879    0.018]\t15740.352232959984\n",
      "Current:\t[   0.       1.       1.    1563.021    0.018]\t15740.352392999692\n",
      "Current:\t[   0.       1.       1.    1574.001    0.018]\t15740.352237099225\n",
      "Current:\t[   0.       1.       1.    1578.085    0.018]\t15740.35238750816\n",
      "Current:\t[   0.       1.       1.    1568.913    0.018]\t15740.352225912116\n",
      "Current:\t[   0.       1.       1.    1573.105    0.018]\t15740.352308767922\n",
      "Current:\t[   0.       1.       1.    1570.991    0.018]\t15740.352229259375\n",
      "Current:\t[   0.       1.       1.    1570.533    0.018]\t15740.35228442428\n",
      "Current:\t[   0.       1.       1.    1571.876    0.018]\t15740.35222927933\n",
      "Current:\t[   0.       1.       1.    1567.504    0.018]\t15740.352264818559\n",
      "Current:\t[   0.       1.       1.    1572.646    0.018]\t15740.352219760449\n",
      "Current:\t[   0.       1.       1.    1567.321    0.018]\t15740.352251734374\n",
      "Current:\t[   0.       1.       1.    1572.331    0.018]\t15740.35221777609\n",
      "Current:\t[   0.       1.       1.    1573.823    0.018]\t15740.352259801748\n",
      "Current:\t[   0.       1.       1.    1570.115    0.018]\t15740.35221590663\n",
      "Current:\t[   0.       1.       1.    1570.122    0.018]\t15740.352227722275\n",
      "Current:\t[   0.       1.       1.    1570.66     0.018]\t15740.352236211775\n",
      "Current:\t[   0.       1.       1.    1570.908    0.018]\t15740.352216641439\n",
      "Current:\t[   0.       1.       1.    1571.843    0.018]\t15740.352226489385\n",
      "Current:\t[   0.       1.       1.    1571.413    0.018]\t15740.35221617301\n",
      "Current:\t[   0.       1.       1.    1574.053    0.018]\t15740.352237688217\n",
      "Current:\t[   0.       1.       1.    1570.198    0.018]\t15740.352215094648\n",
      "Current:\t[   0.       1.       1.    1569.34     0.018]\t15740.352224338956\n",
      "Current:\t[   0.       1.       1.    1571.819    0.018]\t15740.352214299233\n",
      "Current:\t[   0.       1.       1.    1569.45     0.018]\t15740.352220358469\n",
      "Current:\t[   0.       1.       1.    1571.611    0.018]\t15740.352213992475\n",
      "Current:\t[   0.       1.       1.    1571.154    0.018]\t15740.352217314627\n",
      "Current:\t[   0.       1.       1.    1570.97     0.018]\t15740.35221385531\n",
      "Current:\t[   0.       1.       1.    1570.472    0.018]\t15740.35221656716\n",
      "Current:\t[   0.       1.       1.    1571.178    0.018]\t15740.352213725768\n",
      "Current:\t[   0.       1.       1.    1572.195    0.018]\t15740.352218472248\n",
      "Current:\t[   0.       1.       1.    1570.635    0.018]\t15740.352213468375\n",
      "Current:\t[   0.       1.       1.    1572.287    0.018]\t15740.352217290534\n",
      "Current:\t[   0.       1.       1.    1570.72     0.018]\t15740.352213326174\n",
      "Current:\t[   0.       1.       1.    1570.226    0.018]\t15740.352215669254\n",
      "Current:\t[   0.       1.       1.    1571.421    0.018]\t15740.352213224445\n",
      "Current:\t[   0.       1.       1.    1570.359    0.018]\t15740.352214467026\n",
      "Current:\t[   0.       1.       1.    1571.298    0.018]\t15740.352213232249\n",
      "Current:\t[   0.       1.       1.    1571.131    0.018]\t15740.352213620561\n",
      "Current:\t[   0.       1.       1.    1570.904    0.018]\t15740.352213221722\n",
      "Current:\t[   0.       1.       1.    1570.768    0.018]\t15740.352214538976\n",
      "Current:\t[   0.       1.       1.    1570.86     0.018]\t15740.352213818862\n",
      "Current:\t[   0.       1.       1.    1571.063    0.018]\t15740.3522130677\n",
      "Current:\t[   0.       1.       1.    1571.527    0.018]\t15740.352213483127\n",
      "Current:\t[   0.       1.       1.    1570.858    0.018]\t15740.35221303938\n",
      "Current:\t[   0.       1.       1.    1571.498    0.018]\t15740.352213254273\n",
      "Current:\t[   0.       1.       1.    1571.303    0.018]\t15740.352212969388\n",
      "Current:\t[   0.       1.       1.    1570.922    0.018]\t15740.352213446566\n",
      "Current:\t[   0.       1.       1.    1571.204    0.018]\t15740.352212949636\n",
      "Current:\t[   0.       1.       1.    1570.712    0.018]\t15740.352213442988\n",
      "Current:\t[   0.       1.       1.    1571.244    0.018]\t15740.35221294759\n",
      "Current:\t[   0.       1.       1.    1571.365    0.018]\t15740.35221349846\n",
      "Current:\t[   0.       1.       1.    1571.019    0.018]\t15740.35221294179\n",
      "Current:\t[   0.       1.       1.    1571.188    0.018]\t15740.35221303111\n",
      "Current:\t[   0.       1.       1.    1571.525    0.018]\t15740.352213325103\n",
      "Current:\t[   0.       1.       1.    1571.025    0.018]\t15740.352212896492\n",
      "Current:\t[   0.       1.       1.    1571.13     0.018]\t15740.352213051221\n",
      "Current:\t[   0.       1.       1.    1571.174    0.018]\t15740.352212918142\n",
      "Current:\t[   0.       1.       1.    1570.963    0.018]\t15740.352212944106\n",
      "Current:\t[   0.       1.       1.    1570.966    0.018]\t15740.352212975793\n",
      "Current:\t[   0.       1.       1.    1571.144    0.018]\t15740.352212894222\n",
      "Current:\t[   0.       1.       1.    1570.886    0.018]\t15740.352213064367\n",
      "Current:\t[   0.       1.       1.    1571.154    0.018]\t15740.35221288622\n",
      "Current:\t[   0.       1.       1.    1571.244    0.018]\t15740.352212925945\n",
      "Current:\t[   0.       1.       1.    1571.277    0.018]\t15740.352213022607\n",
      "Current:\t[   0.       1.       1.    1571.084    0.018]\t15740.352212887563\n",
      "Current:\t[   0.       1.       1.    1570.989    0.018]\t15740.352212937529\n",
      "Current:\t[   0.       1.       1.    1571.18     0.018]\t15740.352212890144\n",
      "Current:\t[   0.       1.       1.    1571.061    0.018]\t15740.35221290758\n",
      "Current:\t[   0.       1.       1.    1571.089    0.018]\t15740.352212884229\n",
      "Current:\t[   0.       1.       1.    1571.236    0.018]\t15740.352212916798\n",
      "Current:\t[   0.       1.       1.    1571.078    0.018]\t15740.352212880365\n",
      "Current:\t[   0.       1.       1.    1571.09     0.018]\t15740.35221289793\n",
      "Current:\t[   0.       1.       1.    1571.131    0.018]\t15740.352212881002\n",
      "Current:\t[   0.       1.       1.    1571.034    0.018]\t15740.352212896878\n",
      "Current:\t[   0.       1.       1.    1571.144    0.018]\t15740.352212879756\n",
      "Current:\t[   0.       1.       1.    1571.155    0.018]\t15740.352212903\n",
      "Current:\t[   0.       1.       1.    1571.102    0.018]\t15740.352212878719\n",
      "Current:\t[   0.       1.       1.    1571.063    0.018]\t15740.35221288583\n",
      "Current:\t[   0.       1.       1.    1571.086    0.018]\t15740.35221287929\n",
      "Current:\t[   0.       1.       1.    1571.126    0.018]\t15740.352212883592\n",
      "Current:\t[   0.       1.       1.    1571.117    0.018]\t15740.352212878488\n",
      "Current:\t[   0.       1.       1.    1571.079    0.018]\t15740.35221288606\n",
      "Current:\t[   0.       1.       1.    1571.118    0.018]\t15740.352212877973\n",
      "Current:\t[   0.       1.       1.    1571.149    0.018]\t15740.352212880998\n",
      "Current:\t[   0.       1.       1.    1571.095    0.018]\t15740.352212878288\n",
      "Current:\t[   0.       1.       1.    1571.063    0.018]\t15740.352212883887\n",
      "Current:\t[   0.       1.       1.    1571.124    0.018]\t15740.352212877975\n",
      "Current:\t[   0.       1.       1.    1571.136    0.018]\t15740.352212879468\n",
      "Current:\t[   0.       1.       1.    1571.098    0.018]\t15740.352212877966\n",
      "Current:\t[   0.       1.       1.    1571.119    0.018]\t15740.352212879723\n",
      "Current:\t[   0.       1.       1.    1571.106    0.018]\t15740.352212877688\n",
      "Current:\t[   0.       1.       1.    1571.099    0.018]\t15740.352212878752\n",
      "Current:\t[   0.       1.       1.    1571.113    0.018]\t15740.35221287786\n",
      "Current:\t[   0.       1.       1.    1571.128    0.018]\t15740.352212878059\n",
      "Current:\t[   0.       1.       1.    1571.12     0.018]\t15740.352212878217\n",
      "Current:\t[   0.       1.       1.    1571.109    0.018]\t15740.352212877768\n",
      "Current:\t[   0.       1.       1.    1571.102    0.018]\t15740.352212878299\n",
      "Current:\t[   0.       1.       1.    1571.112    0.018]\t15740.352212877622\n",
      "Current:\t[   0.       1.       1.    1571.115    0.018]\t15740.352212877775\n",
      "Current:\t[   0.       1.       1.    1571.101    0.018]\t15740.352212877406\n",
      "Current:\t[   0.       1.       1.    1571.115    0.018]\t15740.352212877515\n",
      "Current:\t[   0.       1.       1.    1571.102    0.018]\t15740.352212878208\n",
      "Current:\t[   0.       1.       1.    1571.112    0.018]\t15740.352212877113\n",
      "Current:\t[   0.       1.       1.    1571.109    0.018]\t15740.352212877475\n",
      "Current:\t[   0.       1.       1.    1571.113    0.018]\t15740.352212877244\n",
      "Current:\t[   0.       1.       1.    1571.108    0.018]\t15740.352212877395\n",
      "Current:\t[   0.       1.       1.    1571.102    0.018]\t15740.352212877688\n",
      "Current:\t[   0.       1.       1.    1571.112    0.018]\t15740.352212877378\n",
      "Current:\t[   0.       1.       1.    1571.109    0.018]\t15740.352212877793\n",
      "Current:\t[   0.       1.       1.    1571.109    0.018]\t15740.352212877135\n",
      "Current:\t[   0.       1.       1.    1571.121    0.018]\t15740.352212877366\n",
      "CPU times: user 1h 58min 31s, sys: 17.7 s, total: 1h 58min 49s\n",
      "Wall time: 9min 19s\n"
     ]
    },
    {
     "data": {
      "text/plain": [
       "       message: Optimization terminated successfully.\n",
       "       success: True\n",
       "        status: 0\n",
       "           fun: 15740.352212877113\n",
       "             x: [ 9.715e-05  1.000e+00  1.000e+00  1.571e+03  1.821e-02]\n",
       "           nit: 168\n",
       "          nfev: 289\n",
       " final_simplex: (array([[ 9.715e-05,  1.000e+00, ...,  1.571e+03,\n",
       "                         1.821e-02],\n",
       "                       [ 9.715e-05,  1.000e+00, ...,  1.571e+03,\n",
       "                         1.821e-02],\n",
       "                       ...,\n",
       "                       [ 9.715e-05,  1.000e+00, ...,  1.571e+03,\n",
       "                         1.821e-02],\n",
       "                       [ 9.715e-05,  1.000e+00, ...,  1.571e+03,\n",
       "                         1.821e-02]]), array([ 1.574e+04,  1.574e+04,  1.574e+04,  1.574e+04,\n",
       "                        1.574e+04,  1.574e+04]))"
      ]
     },
     "execution_count": 18,
     "metadata": {},
     "output_type": "execute_result"
    }
   ],
   "source": [
    "%%time\n",
    "prob_factor = 1\n",
    "\n",
    "idf = callset_df\n",
    "\n",
    "inference.maximum_likelihood_all_reads(\n",
    "    idf[\"read_length\"].to_numpy(),\n",
    "    idf[\"high_quality_snp_positions\"].to_numpy(),\n",
    "    idf[\"high_quality_snps_idx_transitions\"].to_numpy(),\n",
    "    idf[\"between_high_quality_snps_bp\"].to_numpy() * 1e-8 * prob_factor,\n",
    "    numba.typed.List(np.repeat(5000 * 1e-8 * prob_factor, len(idf))),\n",
    "    numba.typed.List(np.repeat(5000 * 1e-8 * prob_factor, len(idf))),\n",
    "    idf[\"weight\"].to_numpy(),\n",
    "    q_range = (1e-10, 0.5),   \n",
    "    m_range = (1-1e-10, 1-1e-10),\n",
    "    GC_tract_mean_range = (1, 1),\n",
    "    GC_tract_mean2_range = (100, 10000),\n",
    "    prob_factor_range = (1e-10, 1),\n",
    "    read_margin_in_bp = 5000,\n",
    "    x0 = [1e-4,   1-1e-10,      1, 1000, 1e-2],\n",
    ")\n",
    "\n",
    "# inference.maximum_likelihood_all_reads(\n",
    "#     idf[\"read_length\"].to_numpy(),\n",
    "#     idf[\"high_quality_snp_positions\"].to_numpy(),\n",
    "#     idf[\"high_quality_snps_idx_transitions\"].to_numpy(),\n",
    "#     idf[\"between_high_quality_snps_cM\"].to_numpy() * 1e-2 * prob_factor,\n",
    "#     idf[\"before_read_cM\"].to_numpy() * 1e-2 * prob_factor,\n",
    "#     idf[\"after_read_cM\"].to_numpy() * 1e-2 * prob_factor,\n",
    "#     idf[\"weight\"].to_numpy(),\n",
    "#     q_range = (0.05, 0.5),   \n",
    "#     m_range = (0.8, 1),\n",
    "#     GC_tract_mean_range = (5, 1000),\n",
    "#     GC_tract_mean2_range = (100, 10000),\n",
    "#     read_margin_in_bp = 5000,\n",
    "#     x0 = [0.05, 0.99, 7, 600],\n",
    "# )\n"
   ]
  },
  {
   "cell_type": "code",
   "execution_count": null,
   "id": "ce33a925-7c35-451a-94ca-43995cddd4c3",
   "metadata": {},
   "outputs": [],
   "source": []
  },
  {
   "cell_type": "code",
   "execution_count": null,
   "id": "128fda00-df0b-4d68-b679-350c8847df91",
   "metadata": {},
   "outputs": [],
   "source": []
  },
  {
   "cell_type": "code",
   "execution_count": 27,
   "id": "e9664209-dd97-4cf8-9497-c8316b635d5e",
   "metadata": {
    "tags": []
   },
   "outputs": [
    {
     "name": "stdout",
     "output_type": "stream",
     "text": [
      "Current:\t[  0.1   1.   10.  600. ]\t23987.073206731817\n",
      "Current:\t[  0.105   1.     10.    600.   ]\t24003.447186338795\n",
      "Current:\t[  0.1   1.   10.  600. ]\t23987.073206731817\n",
      "Current:\t[  0.1   1.   10.  600. ]\t23987.073206731817\n",
      "Current:\t[  0.1   1.   10.  630. ]\t23987.073206731817\n",
      "Current:\t[  0.095   1.     10.    615.   ]\t23971.475356880343\n",
      "Current:\t[  0.09   1.    10.   622.5 ]\t23956.893907686244\n",
      "Current:\t[  0.095   1.     10.    581.25 ]\t23971.475356880343\n",
      "Current:\t[  0.092   1.     10.    601.875]\t23964.04006341502\n",
      "Current:\t[  0.089   1.     10.    602.812]\t23953.441900516224\n",
      "Current:\t[  0.083   1.     10.    604.219]\t23939.09031021216\n",
      "Current:\t[  0.08    1.     10.    604.922]\t23932.777764144852\n",
      "Current:\t[  0.07    1.     10.    607.383]\t23917.03368671932\n",
      "Current:\t[  0.073   1.     10.    636.738]\t23920.0138178958\n",
      "Current:\t[  0.066   1.     10.    633.545]\t23914.345971308103\n",
      "Current:\t[  0.052   1.     10.    649.38 ]\t23936.234181905085\n",
      "Current:\t[  0.056   1.     10.    618.442]\t23924.199801356255\n",
      "Current:\t[  0.05    1.     10.    643.835]\t23947.72818456674\n",
      "Current:\t[  0.075   1.     10.    614.123]\t23922.486178583906\n",
      "Current:\t[  0.086   1.     10.    627.452]\t23945.698070646453\n",
      "Current:\t[  0.064   1.     10.    620.695]\t23914.51741903853\n",
      "Current:\t[  0.062   1.     10.    635.057]\t23915.554444314483\n",
      "Current:\t[  0.058   1.     10.    611.602]\t23920.815824911944\n",
      "Current:\t[  0.069   1.     10.    630.454]\t23915.953621351448\n",
      "Current:\t[  0.06    1.     10.    652.493]\t23917.640319041308\n",
      "Current:\t[  0.068   1.     10.    618.66 ]\t23915.0161719099\n",
      "Current:\t[  0.06    1.     10.    623.525]\t23916.99217959355\n",
      "Current:\t[  0.067   1.     10.    628.722]\t23914.655059959383\n",
      "Current:\t[  0.07    1.     10.    615.753]\t23916.952548122503\n",
      "Current:\t[  0.064   1.     10.    630.231]\t23914.44196836329\n",
      "Current:\t[  0.062   1.     10.    637.936]\t23915.099600577105\n",
      "Current:\t[  0.066   1.     10.    623.479]\t23914.475845543795\n",
      "Current:\t[  0.063   1.     10.    625.253]\t23914.809993644307\n",
      "Current:\t[  0.066   1.     10.    627.855]\t23914.36960499503\n",
      "Current:\t[  0.067   1.     10.    636.86 ]\t23914.839558939435\n",
      "Current:\t[  0.065   1.     10.    624.736]\t23914.316342927497\n",
      "Current:\t[  0.064   1.     10.    634.704]\t23914.497228447093\n",
      "Current:\t[  0.066   1.     10.    626.286]\t23914.33539129153\n",
      "Current:\t[  0.067   1.     10.    625.979]\t23914.72649511095\n",
      "Current:\t[  0.065   1.     10.    629.168]\t23914.30413293407\n",
      "Current:\t[  0.064   1.     10.    629.013]\t23914.329914532587\n",
      "Current:\t[  0.064   1.     10.    621.057]\t23914.43224293897\n",
      "Current:\t[  0.065   1.     10.    630.423]\t23914.296844349283\n",
      "Current:\t[  0.064   1.     10.    630.385]\t23914.465791645223\n",
      "Current:\t[  0.065   1.     10.    627.31 ]\t23914.292819659375\n",
      "Current:\t[  0.065   1.     10.    626.806]\t23914.306259141595\n",
      "Current:\t[  0.066   1.     10.    632.118]\t"
     ]
    },
    {
     "name": "stderr",
     "output_type": "stream",
     "text": [
      "Exception ignored in: <bound method IPythonKernel._clean_thread_parent_frames of <ipykernel.ipkernel.IPythonKernel object at 0x1528e761e910>>\n",
      "Traceback (most recent call last):\n",
      "  File \"/nfs/users/nfs_r/rs42/rs42/miniforge3/envs/sperm/lib/python3.11/site-packages/ipykernel/ipkernel.py\", line 775, in _clean_thread_parent_frames\n",
      "    def _clean_thread_parent_frames(\n",
      "\n",
      "KeyboardInterrupt: \n"
     ]
    },
    {
     "ename": "KeyboardInterrupt",
     "evalue": "",
     "output_type": "error",
     "traceback": [
      "\u001b[0;31m---------------------------------------------------------------------------\u001b[0m",
      "\u001b[0;31mKeyboardInterrupt\u001b[0m                         Traceback (most recent call last)",
      "File \u001b[0;32m<timed exec>:5\u001b[0m\n",
      "File \u001b[0;32m/nfs/treeoflife-01/teams/tola/users/rs42/git/sperm/src/inference.py:1161\u001b[0m, in \u001b[0;36mmaximum_likelihood_all_reads\u001b[0;34m(read_length_list, snp_positions_on_read_list, idx_transitions_list, prob_CO_between_snps_list, prob_CO_before_read_list, prob_CO_after_read_list, weights_list, q_range, m_range, GC_tract_mean_range, GC_tract_mean2_range, read_margin_in_bp, x0)\u001b[0m\n\u001b[1;32m   1157\u001b[0m         \u001b[38;5;28mprint\u001b[39m(\u001b[38;5;124mf\u001b[39m\u001b[38;5;124m\"\u001b[39m\u001b[38;5;132;01m{\u001b[39;00mres\u001b[38;5;132;01m}\u001b[39;00m\u001b[38;5;124m\"\u001b[39m)   \n\u001b[1;32m   1158\u001b[0m         \u001b[38;5;28;01mreturn\u001b[39;00m res     \n\u001b[0;32m-> 1161\u001b[0m res \u001b[38;5;241m=\u001b[39m \u001b[43mscipy\u001b[49m\u001b[38;5;241;43m.\u001b[39;49m\u001b[43moptimize\u001b[49m\u001b[38;5;241;43m.\u001b[39;49m\u001b[43mminimize\u001b[49m\u001b[43m(\u001b[49m\n\u001b[1;32m   1162\u001b[0m \u001b[43m    \u001b[49m\u001b[43mfun\u001b[49m\u001b[43m \u001b[49m\u001b[38;5;241;43m=\u001b[39;49m\u001b[43m \u001b[49m\u001b[43mminimizeme\u001b[49m\u001b[43m,\u001b[49m\n\u001b[1;32m   1163\u001b[0m \u001b[43m    \u001b[49m\u001b[43mx0\u001b[49m\u001b[43m \u001b[49m\u001b[38;5;241;43m=\u001b[39;49m\u001b[43m \u001b[49m\u001b[43mx0\u001b[49m\u001b[43m,\u001b[49m\n\u001b[1;32m   1164\u001b[0m \u001b[43m    \u001b[49m\u001b[43mmethod\u001b[49m\u001b[43m \u001b[49m\u001b[38;5;241;43m=\u001b[39;49m\u001b[43m \u001b[49m\u001b[38;5;124;43m\"\u001b[39;49m\u001b[38;5;124;43mNelder-Mead\u001b[39;49m\u001b[38;5;124;43m\"\u001b[39;49m\u001b[43m,\u001b[49m\n\u001b[1;32m   1165\u001b[0m \u001b[43m    \u001b[49m\u001b[43mbounds\u001b[49m\u001b[43m \u001b[49m\u001b[38;5;241;43m=\u001b[39;49m\u001b[43m \u001b[49m\u001b[43m[\u001b[49m\u001b[43mq_range\u001b[49m\u001b[43m,\u001b[49m\u001b[43m \u001b[49m\u001b[43mm_range\u001b[49m\u001b[43m,\u001b[49m\u001b[43m \u001b[49m\u001b[43mGC_tract_mean_range\u001b[49m\u001b[43m,\u001b[49m\u001b[43m \u001b[49m\u001b[43mGC_tract_mean2_range\u001b[49m\u001b[43m]\u001b[49m\u001b[43m,\u001b[49m\n\u001b[1;32m   1166\u001b[0m \u001b[43m    \u001b[49m\u001b[43moptions\u001b[49m\u001b[38;5;241;43m=\u001b[39;49m\u001b[43m{\u001b[49m\u001b[38;5;124;43m'\u001b[39;49m\u001b[38;5;124;43mxatol\u001b[39;49m\u001b[38;5;124;43m'\u001b[39;49m\u001b[43m:\u001b[49m\u001b[43m \u001b[49m\u001b[38;5;241;43m1e-2\u001b[39;49m\u001b[43m}\u001b[49m\u001b[43m,\u001b[49m\n\u001b[1;32m   1167\u001b[0m \u001b[43m\u001b[49m\u001b[43m)\u001b[49m\n\u001b[1;32m   1169\u001b[0m \u001b[38;5;28;01mreturn\u001b[39;00m res\n",
      "File \u001b[0;32m~/rs42/miniforge3/envs/sperm/lib/python3.11/site-packages/scipy/optimize/_minimize.py:719\u001b[0m, in \u001b[0;36mminimize\u001b[0;34m(fun, x0, args, method, jac, hess, hessp, bounds, constraints, tol, callback, options)\u001b[0m\n\u001b[1;32m    716\u001b[0m callback \u001b[38;5;241m=\u001b[39m _wrap_callback(callback, meth)\n\u001b[1;32m    718\u001b[0m \u001b[38;5;28;01mif\u001b[39;00m meth \u001b[38;5;241m==\u001b[39m \u001b[38;5;124m'\u001b[39m\u001b[38;5;124mnelder-mead\u001b[39m\u001b[38;5;124m'\u001b[39m:\n\u001b[0;32m--> 719\u001b[0m     res \u001b[38;5;241m=\u001b[39m \u001b[43m_minimize_neldermead\u001b[49m\u001b[43m(\u001b[49m\u001b[43mfun\u001b[49m\u001b[43m,\u001b[49m\u001b[43m \u001b[49m\u001b[43mx0\u001b[49m\u001b[43m,\u001b[49m\u001b[43m \u001b[49m\u001b[43margs\u001b[49m\u001b[43m,\u001b[49m\u001b[43m \u001b[49m\u001b[43mcallback\u001b[49m\u001b[43m,\u001b[49m\u001b[43m \u001b[49m\u001b[43mbounds\u001b[49m\u001b[38;5;241;43m=\u001b[39;49m\u001b[43mbounds\u001b[49m\u001b[43m,\u001b[49m\n\u001b[1;32m    720\u001b[0m \u001b[43m                               \u001b[49m\u001b[38;5;241;43m*\u001b[39;49m\u001b[38;5;241;43m*\u001b[39;49m\u001b[43moptions\u001b[49m\u001b[43m)\u001b[49m\n\u001b[1;32m    721\u001b[0m \u001b[38;5;28;01melif\u001b[39;00m meth \u001b[38;5;241m==\u001b[39m \u001b[38;5;124m'\u001b[39m\u001b[38;5;124mpowell\u001b[39m\u001b[38;5;124m'\u001b[39m:\n\u001b[1;32m    722\u001b[0m     res \u001b[38;5;241m=\u001b[39m _minimize_powell(fun, x0, args, callback, bounds, \u001b[38;5;241m*\u001b[39m\u001b[38;5;241m*\u001b[39moptions)\n",
      "File \u001b[0;32m~/rs42/miniforge3/envs/sperm/lib/python3.11/site-packages/scipy/optimize/_optimize.py:842\u001b[0m, in \u001b[0;36m_minimize_neldermead\u001b[0;34m(func, x0, args, callback, maxiter, maxfev, disp, return_all, initial_simplex, xatol, fatol, adaptive, bounds, **unknown_options)\u001b[0m\n\u001b[1;32m    840\u001b[0m \u001b[38;5;28;01mif\u001b[39;00m bounds \u001b[38;5;129;01mis\u001b[39;00m \u001b[38;5;129;01mnot\u001b[39;00m \u001b[38;5;28;01mNone\u001b[39;00m:\n\u001b[1;32m    841\u001b[0m     xr \u001b[38;5;241m=\u001b[39m np\u001b[38;5;241m.\u001b[39mclip(xr, lower_bound, upper_bound)\n\u001b[0;32m--> 842\u001b[0m fxr \u001b[38;5;241m=\u001b[39m \u001b[43mfunc\u001b[49m\u001b[43m(\u001b[49m\u001b[43mxr\u001b[49m\u001b[43m)\u001b[49m\n\u001b[1;32m    843\u001b[0m doshrink \u001b[38;5;241m=\u001b[39m \u001b[38;5;241m0\u001b[39m\n\u001b[1;32m    845\u001b[0m \u001b[38;5;28;01mif\u001b[39;00m fxr \u001b[38;5;241m<\u001b[39m fsim[\u001b[38;5;241m0\u001b[39m]:\n",
      "File \u001b[0;32m~/rs42/miniforge3/envs/sperm/lib/python3.11/site-packages/scipy/optimize/_optimize.py:526\u001b[0m, in \u001b[0;36m_wrap_scalar_function_maxfun_validation.<locals>.function_wrapper\u001b[0;34m(x, *wrapper_args)\u001b[0m\n\u001b[1;32m    524\u001b[0m ncalls[\u001b[38;5;241m0\u001b[39m] \u001b[38;5;241m+\u001b[39m\u001b[38;5;241m=\u001b[39m \u001b[38;5;241m1\u001b[39m\n\u001b[1;32m    525\u001b[0m \u001b[38;5;66;03m# A copy of x is sent to the user function (gh13740)\u001b[39;00m\n\u001b[0;32m--> 526\u001b[0m fx \u001b[38;5;241m=\u001b[39m \u001b[43mfunction\u001b[49m\u001b[43m(\u001b[49m\u001b[43mnp\u001b[49m\u001b[38;5;241;43m.\u001b[39;49m\u001b[43mcopy\u001b[49m\u001b[43m(\u001b[49m\u001b[43mx\u001b[49m\u001b[43m)\u001b[49m\u001b[43m,\u001b[49m\u001b[43m \u001b[49m\u001b[38;5;241;43m*\u001b[39;49m\u001b[43m(\u001b[49m\u001b[43mwrapper_args\u001b[49m\u001b[43m \u001b[49m\u001b[38;5;241;43m+\u001b[39;49m\u001b[43m \u001b[49m\u001b[43margs\u001b[49m\u001b[43m)\u001b[49m\u001b[43m)\u001b[49m\n\u001b[1;32m    527\u001b[0m \u001b[38;5;66;03m# Ideally, we'd like to a have a true scalar returned from f(x). For\u001b[39;00m\n\u001b[1;32m    528\u001b[0m \u001b[38;5;66;03m# backwards-compatibility, also allow np.array([1.3]),\u001b[39;00m\n\u001b[1;32m    529\u001b[0m \u001b[38;5;66;03m# np.array([[1.3]]) etc.\u001b[39;00m\n\u001b[1;32m    530\u001b[0m \u001b[38;5;28;01mif\u001b[39;00m \u001b[38;5;129;01mnot\u001b[39;00m np\u001b[38;5;241m.\u001b[39misscalar(fx):\n",
      "File \u001b[0;32m/nfs/treeoflife-01/teams/tola/users/rs42/git/sperm/src/inference.py:1142\u001b[0m, in \u001b[0;36mmaximum_likelihood_all_reads.<locals>.minimizeme\u001b[0;34m(x)\u001b[0m\n\u001b[1;32m   1140\u001b[0m \u001b[38;5;28;01mwith\u001b[39;00m np\u001b[38;5;241m.\u001b[39mprintoptions(precision\u001b[38;5;241m=\u001b[39m\u001b[38;5;241m3\u001b[39m, suppress\u001b[38;5;241m=\u001b[39m\u001b[38;5;28;01mTrue\u001b[39;00m):\n\u001b[1;32m   1141\u001b[0m     \u001b[38;5;28mprint\u001b[39m(\u001b[38;5;124mf\u001b[39m\u001b[38;5;124m\"\u001b[39m\u001b[38;5;124mCurrent:\u001b[39m\u001b[38;5;130;01m\\t\u001b[39;00m\u001b[38;5;132;01m{\u001b[39;00mx\u001b[38;5;132;01m}\u001b[39;00m\u001b[38;5;130;01m\\t\u001b[39;00m\u001b[38;5;124m\"\u001b[39m, end\u001b[38;5;241m=\u001b[39m\u001b[38;5;124m\"\u001b[39m\u001b[38;5;124m\"\u001b[39m)   \n\u001b[0;32m-> 1142\u001b[0m     res \u001b[38;5;241m=\u001b[39m \u001b[38;5;241m-\u001b[39m\u001b[43mlog_likelihood_of_many_reads\u001b[49m\u001b[43m(\u001b[49m\n\u001b[1;32m   1143\u001b[0m \u001b[43m        \u001b[49m\u001b[43mread_length_list\u001b[49m\u001b[43m,\u001b[49m\n\u001b[1;32m   1144\u001b[0m \u001b[43m        \u001b[49m\u001b[43msnp_positions_on_read_list\u001b[49m\u001b[43m,\u001b[49m\n\u001b[1;32m   1145\u001b[0m \u001b[43m        \u001b[49m\u001b[43midx_transitions_list\u001b[49m\u001b[43m,\u001b[49m\n\u001b[1;32m   1146\u001b[0m \u001b[43m        \u001b[49m\u001b[43mprob_CO_between_snps_list\u001b[49m\u001b[43m,\u001b[49m\n\u001b[1;32m   1147\u001b[0m \u001b[43m        \u001b[49m\u001b[43mprob_CO_before_read_list\u001b[49m\u001b[43m,\u001b[49m\n\u001b[1;32m   1148\u001b[0m \u001b[43m        \u001b[49m\u001b[43mprob_CO_after_read_list\u001b[49m\u001b[43m,\u001b[49m\n\u001b[1;32m   1149\u001b[0m \u001b[43m        \u001b[49m\u001b[43mweights_list\u001b[49m\u001b[43m,\u001b[49m\n\u001b[1;32m   1150\u001b[0m \u001b[43m        \u001b[49m\u001b[43mq\u001b[49m\u001b[43m \u001b[49m\u001b[38;5;241;43m=\u001b[39;49m\u001b[43m \u001b[49m\u001b[43mx\u001b[49m\u001b[43m[\u001b[49m\u001b[38;5;241;43m0\u001b[39;49m\u001b[43m]\u001b[49m\u001b[43m,\u001b[49m\n\u001b[1;32m   1151\u001b[0m \u001b[43m        \u001b[49m\u001b[43mm\u001b[49m\u001b[43m \u001b[49m\u001b[38;5;241;43m=\u001b[39;49m\u001b[43m \u001b[49m\u001b[43mx\u001b[49m\u001b[43m[\u001b[49m\u001b[38;5;241;43m1\u001b[39;49m\u001b[43m]\u001b[49m\u001b[43m,\u001b[49m\n\u001b[1;32m   1152\u001b[0m \u001b[43m        \u001b[49m\u001b[43mGC_tract_mean\u001b[49m\u001b[43m \u001b[49m\u001b[38;5;241;43m=\u001b[39;49m\u001b[43m \u001b[49m\u001b[43mx\u001b[49m\u001b[43m[\u001b[49m\u001b[38;5;241;43m2\u001b[39;49m\u001b[43m]\u001b[49m\u001b[43m,\u001b[49m\n\u001b[1;32m   1153\u001b[0m \u001b[43m        \u001b[49m\u001b[43mGC_tract_mean2\u001b[49m\u001b[43m \u001b[49m\u001b[38;5;241;43m=\u001b[39;49m\u001b[43m \u001b[49m\u001b[43mx\u001b[49m\u001b[43m[\u001b[49m\u001b[38;5;241;43m3\u001b[39;49m\u001b[43m]\u001b[49m\u001b[43m,\u001b[49m\n\u001b[1;32m   1154\u001b[0m \u001b[43m        \u001b[49m\u001b[43mread_margin_in_bp\u001b[49m\u001b[43m \u001b[49m\u001b[38;5;241;43m=\u001b[39;49m\u001b[43m \u001b[49m\u001b[43mread_margin_in_bp\u001b[49m\u001b[43m,\u001b[49m\n\u001b[1;32m   1155\u001b[0m \u001b[43m    \u001b[49m\u001b[43m)\u001b[49m\n\u001b[1;32m   1157\u001b[0m     \u001b[38;5;28mprint\u001b[39m(\u001b[38;5;124mf\u001b[39m\u001b[38;5;124m\"\u001b[39m\u001b[38;5;132;01m{\u001b[39;00mres\u001b[38;5;132;01m}\u001b[39;00m\u001b[38;5;124m\"\u001b[39m)   \n\u001b[1;32m   1158\u001b[0m     \u001b[38;5;28;01mreturn\u001b[39;00m res\n",
      "\u001b[0;31mKeyboardInterrupt\u001b[0m: "
     ]
    }
   ],
   "source": [
    "%%time\n",
    "prob_factor = 1\n",
    "\n",
    "idf = callset_df\n",
    "\n",
    "inference.maximum_likelihood_all_reads(\n",
    "    idf[\"read_length\"].to_numpy(),\n",
    "    idf[\"high_quality_snp_positions\"].to_numpy(),\n",
    "    idf[\"high_quality_snps_idx_transitions\"].to_numpy(),\n",
    "    idf[\"between_high_quality_snps_cM\"].to_numpy() * 1e-2 * prob_factor,\n",
    "    idf[\"before_read_cM\"].to_numpy() * 1e-2 * prob_factor,\n",
    "    idf[\"after_read_cM\"].to_numpy() * 1e-2 * prob_factor,\n",
    "    idf[\"weight\"].to_numpy(),\n",
    "    q_range = (0.05, 0.5),   \n",
    "    m_range = (1, 1),\n",
    "    GC_tract_mean_range = (10, 10),\n",
    "    GC_tract_mean2_range = (100, 10000),\n",
    "    read_margin_in_bp = 5000,\n",
    "    x0 = [0.1, 1, 10, 600],\n",
    ")\n"
   ]
  },
  {
   "cell_type": "code",
   "execution_count": null,
   "id": "6d645e76-cf69-49f6-bfa0-5ec1d5b87d0d",
   "metadata": {},
   "outputs": [],
   "source": []
  },
  {
   "cell_type": "code",
   "execution_count": null,
   "id": "661dbea8-57a8-44dc-a11a-ee309f532151",
   "metadata": {},
   "outputs": [],
   "source": []
  },
  {
   "cell_type": "markdown",
   "id": "5c0285ee-8406-45ea-9b9f-280c7fd3bcd0",
   "metadata": {
    "tags": []
   },
   "source": [
    "# Read results from snakemake + bootstrap"
   ]
  },
  {
   "cell_type": "code",
   "execution_count": 11,
   "id": "014a5b32-68bb-48b6-9a93-6c8b7bd1dfd1",
   "metadata": {
    "tags": []
   },
   "outputs": [],
   "source": [
    "import glob, pickle\n",
    "\n",
    "pcls = glob.glob(\"/lustre/scratch126/casm/team154pc/sl17/03.sperm/02.results/08.tract_length/inference.sample_every=1.bootstrap=1.rep=*.pcl\")\n",
    "reses = [pickle.load(open(pcl, \"rb\")) for pcl in pcls]\n",
    "all_sols = np.vstack([x.x for x in reses])"
   ]
  },
  {
   "cell_type": "code",
   "execution_count": 214,
   "id": "16a34f88-da53-43c1-8a0b-2eacb6e9e991",
   "metadata": {
    "tags": []
   },
   "outputs": [
    {
     "data": {
      "image/png": "[encoded data removed]",
      "text/plain": [
       "<Figure size 640x480 with 1 Axes>"
      ]
     },
     "metadata": {},
     "output_type": "display_data"
    }
   ],
   "source": [
    "plt.hist(all_sols[:,0], bins=25);"
   ]
  },
  {
   "cell_type": "code",
   "execution_count": 215,
   "id": "657982e9-4737-4826-aa37-4dce5e2fc15f",
   "metadata": {
    "tags": []
   },
   "outputs": [
    {
     "name": "stdout",
     "output_type": "stream",
     "text": [
      "CI for q: [0.10543406 0.14208464 0.20236679]\n"
     ]
    }
   ],
   "source": [
    "print(\"CI for q:\", np.quantile(all_sols[:,0], q=[0.025, 0.5, 1-0.025]))"
   ]
  },
  {
   "cell_type": "code",
   "execution_count": 14,
   "id": "2f154cc5-9f76-462c-bc7e-8fa0a040149e",
   "metadata": {
    "tags": []
   },
   "outputs": [
    {
     "name": "stdout",
     "output_type": "stream",
     "text": [
      "CI for m: [0.02849401 0.01872182 0.01180842]\n"
     ]
    }
   ],
   "source": [
    "print(\"CI for m:\", 1-np.quantile(all_sols[:,1], q=[0.025, 0.5, 1-0.025]))"
   ]
  },
  {
   "cell_type": "code",
   "execution_count": 217,
   "id": "180b3f4f-2393-4b07-9805-33eb452a0f80",
   "metadata": {
    "tags": []
   },
   "outputs": [
    {
     "name": "stdout",
     "output_type": "stream",
     "text": [
      "CI for L1: [23.52249596 34.97330938 57.54320209]\n"
     ]
    }
   ],
   "source": [
    "print(\"CI for L1:\", np.quantile(all_sols[:,2], q=[0.025, 0.5, 1-0.025]))"
   ]
  },
  {
   "cell_type": "code",
   "execution_count": 218,
   "id": "de589c50-c6f8-48b7-ba99-4a1fbbacc3c6",
   "metadata": {
    "tags": []
   },
   "outputs": [
    {
     "name": "stdout",
     "output_type": "stream",
     "text": [
      "CI for L2: [ 1022.97678097  7316.43965419 11306.29357007]\n"
     ]
    }
   ],
   "source": [
    "print(\"CI for L2:\", np.quantile(all_sols[:,3], q=[0.025, 0.5, 1-0.025]))"
   ]
  },
  {
   "cell_type": "code",
   "execution_count": null,
   "id": "7ea1cf4b-1688-4078-ac2a-3c84bd7eaf06",
   "metadata": {},
   "outputs": [],
   "source": []
  },
  {
   "cell_type": "code",
   "execution_count": 205,
   "id": "73110d06-a493-4a73-82e9-45cf107e2ed0",
   "metadata": {
    "tags": []
   },
   "outputs": [
    {
     "data": {
      "text/plain": [
       "1.3132703631479545e-59"
      ]
     },
     "execution_count": 205,
     "metadata": {},
     "output_type": "execute_result"
    }
   ],
   "source": [
    "np.exp(((2*4 - 2*(-26726.36)) - (2*2 - 2*(-26863.94)))/2)"
   ]
  },
  {
   "cell_type": "code",
   "execution_count": null,
   "id": "6415ded7-0558-4234-8d69-be879241a55f",
   "metadata": {},
   "outputs": [],
   "source": []
  },
  {
   "cell_type": "code",
   "execution_count": null,
   "id": "524f8baf-014f-4afb-b32d-3caf26715d14",
   "metadata": {},
   "outputs": [],
   "source": []
  }
 ],
 "metadata": {
  "kernelspec": {
   "display_name": "sperm",
   "language": "python",
   "name": "sperm"
  },
  "language_info": {
   "codemirror_mode": {
    "name": "ipython",
    "version": 3
   },
   "file_extension": ".py",
   "mimetype": "text/x-python",
   "name": "python",
   "nbconvert_exporter": "python",
   "pygments_lexer": "ipython3",
   "version": "3.11.10"
  }
 },
 "nbformat": 4,
 "nbformat_minor": 5
}
