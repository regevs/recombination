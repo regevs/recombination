{
 "cells": [
  {
   "cell_type": "code",
   "execution_count": 1,
   "id": "fc0d7313-9e26-4612-a61a-1d61e3228363",
   "metadata": {},
   "outputs": [],
   "source": [
    "%load_ext autoreload\n",
    "%autoreload 2"
   ]
  },
  {
   "cell_type": "code",
   "execution_count": 2,
   "id": "34e19167-5e02-49ab-8315-e92d03de0b87",
   "metadata": {},
   "outputs": [],
   "source": [
    "import numpy as np\n",
    "import pandas as pd\n",
    "import matplotlib as mpl\n",
    "import matplotlib.pyplot as plt\n",
    "import matplotlib.ticker as ticker\n",
    "import numba\n",
    "import numba.typed\n",
    "\n",
    "from pathlib import Path\n",
    "from tqdm import trange, tqdm\n",
    "import sys\n",
    "import seaborn as sns\n",
    "import scipy.stats\n",
    "import os\n",
    "import pysam\n",
    "import pprint\n",
    "import pickle\n",
    "import joblib\n",
    "import polars as pl\n",
    "\n",
    "# This is needed before pybedtools to make sure bedtools is imported on sanger JupyterHub \n",
    "os.environ[\"PATH\"] += \":\" + os.path.join(sys.prefix, \"bin\")\n",
    "import pybedtools\n",
    "\n",
    "pd.set_option('display.max_rows', 1000)\n"
   ]
  },
  {
   "cell_type": "code",
   "execution_count": 3,
   "id": "0b773a4c-f203-4653-8eb3-9a139dc7bb3e",
   "metadata": {},
   "outputs": [],
   "source": [
    "sys.path.append(str(Path(os.getcwd()).parent))\n",
    "from src import liftover, annotate, diagnostics, inference"
   ]
  },
  {
   "cell_type": "code",
   "execution_count": 4,
   "id": "5b6543e2-859c-4b87-a970-5a446e1ed25f",
   "metadata": {},
   "outputs": [],
   "source": [
    "aut_chrom_names = [f\"chr{i}\" for i in list(range(1, 23))]\n",
    "chrom_names = aut_chrom_names + [\"chrX\", \"chrY\"]"
   ]
  },
  {
   "cell_type": "markdown",
   "id": "e6b28240-33d1-41b4-a56c-f65752936b5a",
   "metadata": {},
   "source": [
    "# Read the classified events"
   ]
  },
  {
   "cell_type": "code",
   "execution_count": 5,
   "id": "93c24f1c-03c2-43bb-9292-7e9ae9b44a90",
   "metadata": {},
   "outputs": [],
   "source": [
    "# Samples to do\n",
    "sample_ids = [\n",
    "    \"PD50477f\",\n",
    "    # \"PD50508bf\", -- ignore; merged two sampling dates just for phasing, but should be analyzed separately\n",
    "    \"PD50519d\",\n",
    "    # \"PD47269d\", -- don't use, not there\n",
    "    \"PD50508f\",\n",
    "    # \"PD50511e\", -- don't use, likely mixture\n",
    "    \"PD50523b\",\n",
    "    # \"PD48473b\", -- don't use, not there\n",
    "    \"PD50521b\",\n",
    "    \"PD50508b\",\n",
    "    # \"PD50521be\", -- ignore; merged two sampling dates just for phasing, but should be analyzed separately\n",
    "    \"PD46180c\",\n",
    "    # \"PD50502f\", -- don't use, likely mixture\n",
    "    \"PD50521e\",\n",
    "    # \"PD50511e_SS\",  --- don't use\n",
    "    \"PD50489e\",\n",
    "]\n",
    "\n",
    "cls_df = pl.concat([\n",
    "    pl.read_parquet(\n",
    "        str(Path(\"/lustre/scratch126/casm/team154pc/sl17/03.sperm/02.results/01.read_alignment/01.ccs/04.hifiasm/02.hifiasm_0.19.5-r592/02.chromosome_length_scaffolds\")\n",
    "            / f\"{focal_sample_id}\" / \"reads\" / f\"{chrom}_RagTag.certainty_0.95.classified_reads.parquet\")\n",
    "    ) \\\n",
    "    for focal_sample_id in sample_ids\n",
    "    for chrom in aut_chrom_names\n",
    "])"
   ]
  },
  {
   "cell_type": "code",
   "execution_count": 6,
   "id": "9cf3ec43-a3b9-4145-bfb3-a0fde2f65f43",
   "metadata": {},
   "outputs": [],
   "source": [
    "trusty_cls_df = (cls_df\n",
    "    .filter(~pl.col(\"has_common_transition\"))\n",
    "    .filter(pl.col(\"min_coverage_between_transitions_hap1\") >= 3)\n",
    "    .filter(pl.col(\"min_coverage_between_transitions_hap2\") >= 3)\n",
    ")"
   ]
  },
  {
   "cell_type": "markdown",
   "id": "ab440dd8-fd24-40f5-b39e-c5222cfeb1b5",
   "metadata": {},
   "source": [
    "# Utils"
   ]
  },
  {
   "cell_type": "code",
   "execution_count": 7,
   "id": "cfd87f38-8280-494f-8936-48b79459a1d1",
   "metadata": {},
   "outputs": [],
   "source": [
    "def hist_transitions(df, upto=2):\n",
    "    return np.histogram(df[\"n_transitions\"], bins=np.arange(upto+2), density=True)[0]"
   ]
  },
  {
   "cell_type": "markdown",
   "id": "87b8f872-ce49-40de-8d99-48553528944b",
   "metadata": {},
   "source": [
    "# Functions to get call set for a single sample"
   ]
  },
  {
   "cell_type": "code",
   "execution_count": 30,
   "id": "fe1cd154-39cf-4a05-bfba-9e327bb97cf5",
   "metadata": {},
   "outputs": [],
   "source": [
    "def generate_call_set(focal_sample_ids, take_every=1, bootstrap=False, cutoff=None, min_snps=0):\n",
    "    certainty = \"0.95\"\n",
    "    \n",
    "    # Get all the other reads\n",
    "    all_sampled_reads = []\n",
    "\n",
    "    for focal_sample_id in focal_sample_ids:\n",
    "        for t2t_chrom in aut_chrom_names:\n",
    "            denovo_chrom = t2t_chrom + \"_RagTag\"\n",
    "\n",
    "            patterns_filename = Path(\"/lustre/scratch126/casm/team154pc/sl17/03.sperm/02.results/01.read_alignment/01.ccs/04.hifiasm/02.hifiasm_0.19.5-r592/02.chromosome_length_scaffolds/\") \\\n",
    "                / f\"{focal_sample_id}\" / \"reads\" / f\"{denovo_chrom}.certainty_{certainty}.candidate_reads.patterns.parquet\"\n",
    "\n",
    "            pat_df = pl.scan_parquet(patterns_filename)\n",
    "            pat_df = pat_df.gather_every(take_every)\n",
    "\n",
    "            all_sampled_reads.append(pat_df)\n",
    "\n",
    "    all_sampled_reads = pl.concat(all_sampled_reads).collect(streaming=True)\n",
    "    \n",
    "    # Create the joint dataframe\n",
    "    both_df = (\n",
    "        pl.concat([\n",
    "            (trusty_cls_df\n",
    "                .filter(pl.col(\"class\") != \"CNCO\")\n",
    "                .filter(pl.col(\"sample_id\").is_in(focal_sample_ids))\n",
    "                .select([\"read_length\", \"snp_positions_on_read\", \"idx_transitions\", \"sample_id\", \"read_name\"])\n",
    "                .with_columns(weight = 1)\n",
    "            ), \n",
    "            (all_sampled_reads\n",
    "                .select([\"read_length\", \"snp_positions_on_read\", \"idx_transitions\", \"sample_id\", \"read_name\"])\n",
    "                .with_columns(weight = take_every)\n",
    "            )\n",
    "        ])\n",
    "    )   \n",
    "    \n",
    "    # Make sure we have minimal number of SNPs\n",
    "    both_df = both_df.filter(pl.col(\"snp_positions_on_read\").list.len() >= min_snps)\n",
    "    \n",
    "    # Cutoff if needed\n",
    "    if cutoff:\n",
    "        both_df = both_df.filter(\n",
    "            pl.when(pl.col(\"idx_transitions\").list.len() != 2).then(pl.lit(True)).otherwise(\n",
    "                (pl.col(\"snp_positions_on_read\").list.get(pl.col(\"idx_transitions\").list.get(1)+1) - \\\n",
    "                 pl.col(\"snp_positions_on_read\").list.get(pl.col(\"idx_transitions\").list.get(0))) < cutoff\n",
    "            )\n",
    "        )\n",
    "    \n",
    "    # Bootstrap if needed\n",
    "    if bootstrap:\n",
    "        both_df = both_df.sample(n = len(both_df), with_replacement = True)\n",
    "    \n",
    "    # Add useful fields\n",
    "    aug_both_df = (both_df\n",
    "        .with_columns(\n",
    "            prob_inside = 1 - (pl.col(\"snp_positions_on_read\").list.get(0) + pl.col(\"read_length\") - pl.col(\"snp_positions_on_read\").list.get(-1)) / pl.col(\"read_length\"),\n",
    "            n_transitions = pl.col(\"idx_transitions\").list.len(),\n",
    "        )\n",
    "        .with_columns(\n",
    "            rounded_prob_inside = pl.col(\"prob_inside\") // 0.1 * 0.1,\n",
    "        )\n",
    "    )\n",
    "    \n",
    "    return aug_both_df\n"
   ]
  },
  {
   "cell_type": "code",
   "execution_count": 31,
   "id": "a4b38e0c-9d22-43fb-a711-bcc083852d9e",
   "metadata": {},
   "outputs": [],
   "source": [
    "def inferme(\n",
    "    focal_sample_ids, \n",
    "    take_every=100, \n",
    "    bootstrap=False, \n",
    "    recombination_rate_per_bp_range=[1e-7, 1e-7],\n",
    "    cutoff=None,\n",
    "    min_snps=0,\n",
    "):\n",
    "    df = generate_call_set(focal_sample_ids, take_every, bootstrap, cutoff, min_snps)\n",
    "\n",
    "    res = inference.maximum_likelihood_all_reads(\n",
    "        df[\"read_length\"].to_numpy(),\n",
    "        df[\"snp_positions_on_read\"].to_numpy(),\n",
    "        df[\"idx_transitions\"].to_numpy(),\n",
    "        df[\"weight\"].to_numpy(),\n",
    "        [0, 1],\n",
    "        [1, 10000],\n",
    "        recombination_rate_per_bp_range,\n",
    "    )\n",
    "    \n",
    "    return res"
   ]
  },
  {
   "cell_type": "markdown",
   "id": "dd552091-1236-4b07-9637-a5d02e07e530",
   "metadata": {},
   "source": [
    "# Estimate per sample"
   ]
  },
  {
   "cell_type": "code",
   "execution_count": 21,
   "id": "2d6a0479-ed49-41c6-85cd-494fb2a17f4c",
   "metadata": {},
   "outputs": [
    {
     "name": "stderr",
     "output_type": "stream",
     "text": [
      "[Parallel(n_jobs=-1)]: Using backend LokyBackend with 8 concurrent workers.\n",
      "[Parallel(n_jobs=-1)]: Done   2 out of   9 | elapsed:   16.2s remaining:   56.8s\n",
      "[Parallel(n_jobs=-1)]: Done   3 out of   9 | elapsed:   16.2s remaining:   32.5s\n",
      "[Parallel(n_jobs=-1)]: Done   4 out of   9 | elapsed:   16.9s remaining:   21.1s\n",
      "[Parallel(n_jobs=-1)]: Done   5 out of   9 | elapsed:   17.5s remaining:   14.0s\n",
      "[Parallel(n_jobs=-1)]: Done   6 out of   9 | elapsed:   17.9s remaining:    8.9s\n",
      "[Parallel(n_jobs=-1)]: Done   7 out of   9 | elapsed:   18.6s remaining:    5.3s\n"
     ]
    },
    {
     "name": "stdout",
     "output_type": "stream",
     "text": [
      "CPU times: user 67.9 ms, sys: 378 ms, total: 445 ms\n",
      "Wall time: 20.5 s\n"
     ]
    },
    {
     "name": "stderr",
     "output_type": "stream",
     "text": [
      "[Parallel(n_jobs=-1)]: Done   9 out of   9 | elapsed:   20.5s finished\n"
     ]
    }
   ],
   "source": [
    "%%time\n",
    "allres = joblib.Parallel(n_jobs=-1, verbose=10)(\n",
    "    joblib.delayed(inferme)([focal_sample_id]) for focal_sample_id in sample_ids\n",
    ")\n",
    "\n",
    "allres = dict(zip(sample_ids, allres))"
   ]
  },
  {
   "cell_type": "code",
   "execution_count": 22,
   "id": "dce382f0-1ea3-4058-a723-92f10412147c",
   "metadata": {},
   "outputs": [
    {
     "name": "stdout",
     "output_type": "stream",
     "text": [
      "PD50477f \t 0.1348519917092187 \t 26.614301150504446\n",
      "PD50519d \t 0.11012866937978177 \t 73.18830467556457\n",
      "PD50508f \t 0.10183691287894149 \t 22.845820041533912\n",
      "PD50523b \t 0.11326284777317752 \t 60.322522576934546\n",
      "PD50521b \t 0.12199967357498825 \t 70.47911316292749\n",
      "PD50508b \t 0.10923975103614439 \t 25.185702291095694\n",
      "PD46180c \t 0.12836521150089641 \t 61.71694646507646\n",
      "PD50521e \t 0.12997952603822954 \t 73.53056039717899\n",
      "PD50489e \t 0.11806953281700366 \t 44.06864819912904\n"
     ]
    }
   ],
   "source": [
    "for k,v in allres.items():\n",
    "    print(k,'\\t',v.x[0],'\\t',v.x[1])"
   ]
  },
  {
   "cell_type": "markdown",
   "id": "3890f1ba-2629-477a-b464-ae4b6e0776aa",
   "metadata": {},
   "source": [
    "# Estimate for all together"
   ]
  },
  {
   "cell_type": "code",
   "execution_count": 30,
   "id": "e326f504-fd70-425d-a53f-5779e47e8c48",
   "metadata": {},
   "outputs": [
    {
     "name": "stdout",
     "output_type": "stream",
     "text": [
      "[1.19543415e-01 5.71166317e+01 1.00000000e-07]\n",
      "CPU times: user 1min 18s, sys: 4.59 s, total: 1min 23s\n",
      "Wall time: 46.8 s\n"
     ]
    }
   ],
   "source": [
    "%%time\n",
    "together_res = inferme(sample_ids, 100, False)\n",
    "\n",
    "print(together_res.x)"
   ]
  },
  {
   "cell_type": "code",
   "execution_count": null,
   "id": "4ba9884f-ed49-4dac-8da3-15970776eca7",
   "metadata": {},
   "outputs": [],
   "source": []
  },
  {
   "cell_type": "markdown",
   "id": "68c5d7d1-74a6-49bb-9047-3f4ce1ae41cc",
   "metadata": {},
   "source": [
    "# Bootstrap estimator for all together"
   ]
  },
  {
   "cell_type": "code",
   "execution_count": 31,
   "id": "b323adf4-0d50-49a9-8073-f507706d604a",
   "metadata": {},
   "outputs": [
    {
     "name": "stderr",
     "output_type": "stream",
     "text": [
      "[Parallel(n_jobs=-1)]: Using backend LokyBackend with 8 concurrent workers.\n",
      "[Parallel(n_jobs=-1)]: Done   2 tasks      | elapsed:  1.8min\n",
      "[Parallel(n_jobs=-1)]: Done   9 tasks      | elapsed:  3.4min\n",
      "/nfs/treeoflife-01/teams/tola/users/rs42/miniconda3/envs/sperm/lib/python3.11/site-packages/joblib/externals/loky/process_executor.py:752: UserWarning: A worker stopped while some jobs were given to the executor. This can be caused by a too short worker timeout or by a memory leak.\n",
      "  warnings.warn(\n",
      "[Parallel(n_jobs=-1)]: Done  16 tasks      | elapsed:  3.8min\n",
      "[Parallel(n_jobs=-1)]: Done  25 tasks      | elapsed:  6.7min\n",
      "[Parallel(n_jobs=-1)]: Done  34 tasks      | elapsed:  8.4min\n",
      "[Parallel(n_jobs=-1)]: Done  41 out of  50 | elapsed:  9.8min remaining:  2.1min\n",
      "[Parallel(n_jobs=-1)]: Done  47 out of  50 | elapsed: 11.1min remaining:   42.4s\n"
     ]
    },
    {
     "name": "stdout",
     "output_type": "stream",
     "text": [
      "CPU times: user 1.33 s, sys: 1.32 s, total: 2.65 s\n",
      "Wall time: 11min 10s\n"
     ]
    },
    {
     "name": "stderr",
     "output_type": "stream",
     "text": [
      "[Parallel(n_jobs=-1)]: Done  50 out of  50 | elapsed: 11.2min finished\n"
     ]
    }
   ],
   "source": [
    "%%time\n",
    "allboots = joblib.Parallel(n_jobs=-1, verbose=10)(\n",
    "    joblib.delayed(inferme)(sample_ids, 100, True) for i in range(50)\n",
    ")\n"
   ]
  },
  {
   "cell_type": "code",
   "execution_count": 62,
   "id": "fba01f8e-bfa3-4b35-a9e2-59b0520a5952",
   "metadata": {},
   "outputs": [
    {
     "data": {
      "image/png": "[encoded data removed]",
      "text/plain": [
       "<Figure size 500x500 with 2 Axes>"
      ]
     },
     "metadata": {},
     "output_type": "display_data"
    }
   ],
   "source": [
    "fig, axs = plt.subplots(2, 1, figsize=(5,5))\n",
    "\n",
    "axs[0].plot(\n",
    "    [b.x[0] for b in allboots],\n",
    "    np.zeros(len(allboots)),\n",
    "    '.',\n",
    "    label=\"Bootstrap estimates\",\n",
    ")\n",
    "axs[0].axvline(together_res.x[0], color=\"black\", ls='--', label=\"ML estimate\");\n",
    "axs[0].xaxis.set_major_formatter(ticker.PercentFormatter(1, 2));\n",
    "axs[0].set_title(\"CO/recomb\");\n",
    "axs[0].set_yticks([]);\n",
    "axs[0].legend();\n",
    "\n",
    "axs[1].plot(\n",
    "    [b.x[1] for b in allboots],\n",
    "    np.zeros(len(allboots)),\n",
    "    '.',\n",
    "    label=\"Bootstrap estimates\",\n",
    "    color='C1',\n",
    ")\n",
    "axs[1].axvline(together_res.x[1], color=\"black\", ls='--', label=\"ML estimate\");\n",
    "axs[1].set_title(\"Tract length\");\n",
    "axs[1].set_yticks([]);\n",
    "axs[1].legend();\n",
    "\n",
    "fig.tight_layout()\n",
    "plt.subplots_adjust()"
   ]
  },
  {
   "cell_type": "code",
   "execution_count": null,
   "id": "eda3bbd6-dc7c-4d7d-b2db-c6981bd8f279",
   "metadata": {},
   "outputs": [],
   "source": []
  },
  {
   "cell_type": "code",
   "execution_count": 79,
   "id": "4d27b9d2-bd8d-44d3-924b-28225df1f447",
   "metadata": {},
   "outputs": [
    {
     "name": "stderr",
     "output_type": "stream",
     "text": [
      "[Parallel(n_jobs=-1)]: Using backend LokyBackend with 8 concurrent workers.\n",
      "[Parallel(n_jobs=-1)]: Done   2 tasks      | elapsed:   19.7s\n",
      "[Parallel(n_jobs=-1)]: Done   9 tasks      | elapsed:   31.3s\n",
      "[Parallel(n_jobs=-1)]: Done  16 tasks      | elapsed:   36.5s\n",
      "[Parallel(n_jobs=-1)]: Done  25 tasks      | elapsed:   53.9s\n",
      "[Parallel(n_jobs=-1)]: Done  34 tasks      | elapsed:  1.1min\n",
      "[Parallel(n_jobs=-1)]: Done  41 out of  50 | elapsed:  1.3min remaining:   16.7s\n",
      "[Parallel(n_jobs=-1)]: Done  47 out of  50 | elapsed:  1.4min remaining:    5.3s\n"
     ]
    },
    {
     "name": "stdout",
     "output_type": "stream",
     "text": [
      "CPU times: user 328 ms, sys: 442 ms, total: 770 ms\n",
      "Wall time: 1min 24s\n"
     ]
    },
    {
     "name": "stderr",
     "output_type": "stream",
     "text": [
      "[Parallel(n_jobs=-1)]: Done  50 out of  50 | elapsed:  1.4min finished\n"
     ]
    }
   ],
   "source": [
    "%%time\n",
    "allboots_one_sample = joblib.Parallel(n_jobs=-1, verbose=10)(\n",
    "    joblib.delayed(inferme)([sample_ids[0]], 100, True) for i in range(50)\n",
    ")\n"
   ]
  },
  {
   "cell_type": "code",
   "execution_count": 80,
   "id": "0522bd25-f6c9-41f4-af4c-12eb2082b8a4",
   "metadata": {},
   "outputs": [
    {
     "data": {
      "image/png": "[encoded data removed]",
      "text/plain": [
       "<Figure size 500x500 with 2 Axes>"
      ]
     },
     "metadata": {},
     "output_type": "display_data"
    }
   ],
   "source": [
    "fig, axs = plt.subplots(2, 1, figsize=(5,5))\n",
    "\n",
    "axs[0].plot(\n",
    "    [b.x[0] for b in allboots_one_sample],\n",
    "    np.zeros(len(allboots_one_sample)),\n",
    "    '.',\n",
    "    label=\"Bootstrap estimates\",\n",
    ")\n",
    "axs[0].axvline(allres[sample_ids[0]].x[0], color=\"black\", ls='--', label=\"ML estimate\");\n",
    "axs[0].xaxis.set_major_formatter(ticker.PercentFormatter(1, 2));\n",
    "axs[0].set_title(\"CO/recomb\");\n",
    "axs[0].set_yticks([]);\n",
    "axs[0].legend();\n",
    "\n",
    "axs[1].plot(\n",
    "    [b.x[1] for b in allboots_one_sample],\n",
    "    np.zeros(len(allboots_one_sample)),\n",
    "    '.',\n",
    "    label=\"Bootstrap estimates\",\n",
    "    color='C1',\n",
    ")\n",
    "axs[1].axvline(allres[sample_ids[0]].x[1], color=\"black\", ls='--', label=\"ML estimate\");\n",
    "axs[1].set_title(\"Tract length\");\n",
    "axs[1].set_yticks([]);\n",
    "axs[1].legend();\n",
    "\n",
    "fig.tight_layout()\n",
    "plt.subplots_adjust()"
   ]
  },
  {
   "cell_type": "code",
   "execution_count": null,
   "id": "efe9341e-581e-40d4-b85f-f1fe3c522a00",
   "metadata": {},
   "outputs": [],
   "source": []
  },
  {
   "cell_type": "markdown",
   "id": "cce36ddf-be89-4f2c-adaf-62960ce6e2c3",
   "metadata": {},
   "source": [
    "# Estimate for all together, fitting also recombination rate"
   ]
  },
  {
   "cell_type": "code",
   "execution_count": 64,
   "id": "a8583de6-d62d-461c-b09f-d0895c51262b",
   "metadata": {},
   "outputs": [
    {
     "name": "stdout",
     "output_type": "stream",
     "text": [
      "[4.21778904e-01 1.82318572e+02 2.82997492e-08]\n",
      "CPU times: user 1min 37s, sys: 4.65 s, total: 1min 41s\n",
      "Wall time: 1min 4s\n"
     ]
    }
   ],
   "source": [
    "%%time\n",
    "together_res_with_rate = inferme(sample_ids, 100, False, [1e-9, 1e-6])\n",
    "\n",
    "print(together_res_with_rate.x)"
   ]
  },
  {
   "cell_type": "code",
   "execution_count": null,
   "id": "270faa54-25f3-4a1f-a15d-09ec9312a68c",
   "metadata": {},
   "outputs": [],
   "source": []
  },
  {
   "cell_type": "code",
   "execution_count": 77,
   "id": "9523ee6a-7399-4b37-9799-66d31c2bbaa6",
   "metadata": {},
   "outputs": [
    {
     "name": "stderr",
     "output_type": "stream",
     "text": [
      "[Parallel(n_jobs=-1)]: Using backend LokyBackend with 8 concurrent workers.\n",
      "[Parallel(n_jobs=-1)]: Done   2 out of   9 | elapsed:   13.3s remaining:   46.5s\n",
      "[Parallel(n_jobs=-1)]: Done   3 out of   9 | elapsed:   14.3s remaining:   28.7s\n",
      "[Parallel(n_jobs=-1)]: Done   4 out of   9 | elapsed:   16.8s remaining:   21.0s\n",
      "[Parallel(n_jobs=-1)]: Done   5 out of   9 | elapsed:   17.4s remaining:   13.9s\n",
      "[Parallel(n_jobs=-1)]: Done   6 out of   9 | elapsed:   17.4s remaining:    8.7s\n",
      "[Parallel(n_jobs=-1)]: Done   7 out of   9 | elapsed:   18.2s remaining:    5.2s\n"
     ]
    },
    {
     "name": "stdout",
     "output_type": "stream",
     "text": [
      "CPU times: user 69.9 ms, sys: 13.2 ms, total: 83.1 ms\n",
      "Wall time: 24.2 s\n"
     ]
    },
    {
     "name": "stderr",
     "output_type": "stream",
     "text": [
      "[Parallel(n_jobs=-1)]: Done   9 out of   9 | elapsed:   24.2s finished\n"
     ]
    }
   ],
   "source": [
    "%%time\n",
    "allres_with_rate = joblib.Parallel(n_jobs=-1, verbose=10)(\n",
    "    joblib.delayed(inferme)([focal_sample_id], 100, False, [1e-9, 1e-6]) for focal_sample_id in sample_ids\n",
    ")\n",
    "\n",
    "allres_with_rate = dict(zip(sample_ids, allres_with_rate))"
   ]
  },
  {
   "cell_type": "code",
   "execution_count": 78,
   "id": "f687329a-bbef-4245-a6e6-8338e46e44bb",
   "metadata": {},
   "outputs": [
    {
     "name": "stdout",
     "output_type": "stream",
     "text": [
      "PD50477f\t1.362\t2.92\t1.000e-06\n",
      "PD50519d\t34.348\t196.72\t3.201e-08\n",
      "PD50508f\t16.246\t37.53\t6.263e-08\n",
      "PD50523b\t34.945\t168.27\t3.227e-08\n",
      "PD50521b\t47.113\t242.18\t2.566e-08\n",
      "PD50508b\t16.080\t36.82\t6.795e-08\n",
      "PD46180c\t57.341\t269.19\t2.221e-08\n",
      "PD50521e\t50.716\t259.66\t2.555e-08\n",
      "PD50489e\t39.120\t141.52\t3.041e-08\n"
     ]
    }
   ],
   "source": [
    "for k,v in allres_with_rate.items():\n",
    "    print(f\"{k}\\t{v.x[0]*100:2.3f}\\t{v.x[1]:.2f}\\t{v.x[2]:1.3e}\")"
   ]
  },
  {
   "cell_type": "code",
   "execution_count": null,
   "id": "99b1c34f-be5c-4161-a8d8-86d4fac1ff05",
   "metadata": {},
   "outputs": [],
   "source": []
  },
  {
   "cell_type": "markdown",
   "id": "9f592d46-d734-4e44-854d-d6db50c6b6bc",
   "metadata": {},
   "source": [
    "# Estimate all samples jointly, 5% longest cutoff "
   ]
  },
  {
   "cell_type": "code",
   "execution_count": null,
   "id": "93ddde5e-580d-475e-8adf-a6cb99e22ac2",
   "metadata": {},
   "outputs": [],
   "source": []
  },
  {
   "cell_type": "code",
   "execution_count": 18,
   "id": "8382cdf1-adc6-4f48-8d5d-0ce1cc3ebc23",
   "metadata": {},
   "outputs": [
    {
     "name": "stderr",
     "output_type": "stream",
     "text": [
      "[Parallel(n_jobs=-1)]: Using backend LokyBackend with 8 concurrent workers.\n",
      "[Parallel(n_jobs=-1)]: Done   2 out of   9 | elapsed:   14.8s remaining:   51.9s\n",
      "[Parallel(n_jobs=-1)]: Done   3 out of   9 | elapsed:   16.5s remaining:   32.9s\n",
      "[Parallel(n_jobs=-1)]: Done   4 out of   9 | elapsed:   18.6s remaining:   23.3s\n",
      "[Parallel(n_jobs=-1)]: Done   5 out of   9 | elapsed:   19.0s remaining:   15.2s\n",
      "[Parallel(n_jobs=-1)]: Done   6 out of   9 | elapsed:   19.3s remaining:    9.7s\n",
      "[Parallel(n_jobs=-1)]: Done   7 out of   9 | elapsed:   20.2s remaining:    5.8s\n"
     ]
    },
    {
     "name": "stdout",
     "output_type": "stream",
     "text": [
      "CPU times: user 59.3 ms, sys: 70.2 ms, total: 130 ms\n",
      "Wall time: 23.4 s\n"
     ]
    },
    {
     "name": "stderr",
     "output_type": "stream",
     "text": [
      "[Parallel(n_jobs=-1)]: Done   9 out of   9 | elapsed:   23.4s finished\n"
     ]
    }
   ],
   "source": [
    "%%time\n",
    "\n",
    "# 6700 is the 5% quantile for outer difference for called GCs\n",
    "\n",
    "allres_cutoff = joblib.Parallel(n_jobs=-1, verbose=10)(\n",
    "    joblib.delayed(inferme)(\n",
    "        [focal_sample_id],\n",
    "        100, \n",
    "        False, \n",
    "        [1e-7, 1e-7],\n",
    "        6700,\n",
    "    ) for focal_sample_id in sample_ids\n",
    ")\n",
    "\n",
    "allres_cutoff = dict(zip(sample_ids, allres_cutoff))"
   ]
  },
  {
   "cell_type": "code",
   "execution_count": 23,
   "id": "52ad824f-d8be-45fd-8c5b-3ee89d2da096",
   "metadata": {},
   "outputs": [
    {
     "name": "stdout",
     "output_type": "stream",
     "text": [
      "PD50477f \t 0.13506919994779806 \t 25.752676856793762 \t Prev: 26.614301150504446\n",
      "PD50519d \t 0.11021813593251487 \t 72.88368107862314 \t Prev: 73.18830467556457\n",
      "PD50508f \t 0.10266801259048916 \t 17.1779198118035 \t Prev: 22.845820041533912\n",
      "PD50523b \t 0.11348439686810774 \t 56.338714781293504 \t Prev: 60.322522576934546\n",
      "PD50521b \t 0.1226716948567243 \t 44.59593765585154 \t Prev: 70.47911316292749\n",
      "PD50508b \t 0.10934718868922835 \t 24.74005922413786 \t Prev: 25.185702291095694\n",
      "PD46180c \t 0.1285939615062887 \t 60.77515617590427 \t Prev: 61.71694646507646\n",
      "PD50521e \t 0.13031586149114052 \t 71.31915029252833 \t Prev: 73.53056039717899\n",
      "PD50489e \t 0.1216847427575648 \t 24.54033035630964 \t Prev: 44.06864819912904\n"
     ]
    }
   ],
   "source": [
    "for k,v in allres_cutoff.items():\n",
    "    print(k,'\\t',v.x[0],'\\t',v.x[1],'\\t Prev:', allres[k].x[1])"
   ]
  },
  {
   "cell_type": "markdown",
   "id": "78349b15-0537-4282-95ff-c71f4f724753",
   "metadata": {},
   "source": [
    "# Estimate all samples, 5% longest cutoff "
   ]
  },
  {
   "cell_type": "code",
   "execution_count": 20,
   "id": "30416e00-89e0-44a3-b90f-64a96b7ae495",
   "metadata": {},
   "outputs": [
    {
     "name": "stdout",
     "output_type": "stream",
     "text": [
      "[1.20003413e-01 5.05538807e+01 1.00000000e-07]\n",
      "CPU times: user 1min 15s, sys: 4.01 s, total: 1min 19s\n",
      "Wall time: 47.1 s\n"
     ]
    }
   ],
   "source": [
    "%%time\n",
    "together_res_cutoff = inferme(sample_ids, 100, False, [1e-7, 1e-7], 6700)\n",
    "\n",
    "print(together_res_cutoff.x)"
   ]
  },
  {
   "cell_type": "code",
   "execution_count": 28,
   "id": "e6d06c92-b957-492c-b885-9213b5483533",
   "metadata": {},
   "outputs": [
    {
     "name": "stdout",
     "output_type": "stream",
     "text": [
      "[1.25679106e-01 1.08385088e+01 1.00000000e-07]\n",
      "CPU times: user 1min 9s, sys: 4.21 s, total: 1min 14s\n",
      "Wall time: 42.1 s\n"
     ]
    }
   ],
   "source": [
    "%%time\n",
    "together_res_cutoff2 = inferme(sample_ids, 100, False, [1e-7, 1e-7], 1000)\n",
    "\n",
    "print(together_res_cutoff2.x)"
   ]
  },
  {
   "cell_type": "markdown",
   "id": "46396f77-3234-4e4f-af31-f4f7257228b3",
   "metadata": {},
   "source": [
    "# Estimate all samples, SNP count cutoff"
   ]
  },
  {
   "cell_type": "code",
   "execution_count": 33,
   "id": "bff0fedc-2586-4ed6-8b03-418877fcf91a",
   "metadata": {},
   "outputs": [
    {
     "name": "stderr",
     "output_type": "stream",
     "text": [
      "[Parallel(n_jobs=-1)]: Using backend LokyBackend with 8 concurrent workers.\n",
      "[Parallel(n_jobs=-1)]: Done   2 out of   9 | elapsed:  1.4min remaining:  4.9min\n",
      "[Parallel(n_jobs=-1)]: Done   3 out of   9 | elapsed:  1.4min remaining:  2.8min\n",
      "[Parallel(n_jobs=-1)]: Done   4 out of   9 | elapsed:  1.4min remaining:  1.8min\n",
      "[Parallel(n_jobs=-1)]: Done   5 out of   9 | elapsed:  1.5min remaining:  1.2min\n",
      "[Parallel(n_jobs=-1)]: Done   6 out of   9 | elapsed:  1.5min remaining:   45.7s\n",
      "[Parallel(n_jobs=-1)]: Done   7 out of   9 | elapsed:  1.6min remaining:   26.8s\n"
     ]
    },
    {
     "name": "stdout",
     "output_type": "stream",
     "text": [
      "CPU times: user 172 ms, sys: 463 ms, total: 636 ms\n",
      "Wall time: 1min 55s\n"
     ]
    },
    {
     "name": "stderr",
     "output_type": "stream",
     "text": [
      "[Parallel(n_jobs=-1)]: Done   9 out of   9 | elapsed:  1.9min finished\n"
     ]
    }
   ],
   "source": [
    "%%time\n",
    "\n",
    "allres_min_snps = joblib.Parallel(n_jobs=-1, verbose=10)(\n",
    "    joblib.delayed(inferme)(\n",
    "        sample_ids,\n",
    "        100, \n",
    "        False, \n",
    "        [1e-7, 1e-7],\n",
    "        None,\n",
    "        min_snps\n",
    "    ) for min_snps in range(1, 10)\n",
    ")\n"
   ]
  },
  {
   "cell_type": "code",
   "execution_count": 34,
   "id": "0639921d-f15a-442d-bc7b-b1b75a5c785b",
   "metadata": {},
   "outputs": [
    {
     "name": "stdout",
     "output_type": "stream",
     "text": [
      "1 \t 0.11954341503264315 \t 57.116631693069934\n",
      "2 \t 0.11911164667278168 \t 58.883358302222675\n",
      "3 \t 0.11218984774601828 \t 58.58330636088596\n",
      "4 \t 0.10939097507150465 \t 58.30492722560661\n",
      "5 \t 0.10723215177941392 \t 53.956019382774386\n",
      "6 \t 0.10567683999952107 \t 52.328334611690096\n",
      "7 \t 0.1034817574889488 \t 44.44883147230537\n",
      "8 \t 0.1020188910267217 \t 40.90021729929994\n",
      "9 \t 0.1023484694013948 \t 38.37143709977052\n"
     ]
    }
   ],
   "source": [
    "for i,v in enumerate(allres_min_snps):\n",
    "    print(i+1,'\\t',v.x[0],'\\t',v.x[1])"
   ]
  },
  {
   "cell_type": "code",
   "execution_count": null,
   "id": "8d7bb555-9f1b-496c-b382-28a521f627af",
   "metadata": {},
   "outputs": [],
   "source": []
  }
 ],
 "metadata": {
  "kernelspec": {
   "display_name": "sperm",
   "language": "python",
   "name": "sperm"
  },
  "language_info": {
   "codemirror_mode": {
    "name": "ipython",
    "version": 3
   },
   "file_extension": ".py",
   "mimetype": "text/x-python",
   "name": "python",
   "nbconvert_exporter": "python",
   "pygments_lexer": "ipython3",
   "version": "3.11.6"
  }
 },
 "nbformat": 4,
 "nbformat_minor": 5
}
