{
 "cells": [
  {
   "cell_type": "code",
   "execution_count": 1,
   "id": "933a95f3-b9eb-4b88-aba1-c19e4891fd0c",
   "metadata": {},
   "outputs": [],
   "source": [
    "%load_ext autoreload\n",
    "%autoreload 2"
   ]
  },
  {
   "cell_type": "code",
   "execution_count": 2,
   "id": "f0a02658-b84a-4b8c-8ebc-795b730b1fab",
   "metadata": {},
   "outputs": [],
   "source": [
    "import numpy as np\n",
    "import pandas as pd\n",
    "import matplotlib as mpl\n",
    "import matplotlib.pyplot as plt\n",
    "\n",
    "from pathlib import Path\n",
    "import tqdm\n",
    "import sys\n",
    "import seaborn as sns\n",
    "import scipy.stats\n",
    "import os\n",
    "import pysam\n",
    "import pprint\n",
    "import pickle\n",
    "import joblib\n",
    "import polars as pl\n",
    "\n",
    "# This is needed before pybedtools to make sure bedtools is imported on sanger JupyterHub \n",
    "os.environ[\"PATH\"] += \":\" + os.path.join(sys.prefix, \"bin\")\n",
    "import pybedtools\n",
    "\n",
    "pd.set_option('display.max_rows', 1000)\n"
   ]
  },
  {
   "cell_type": "code",
   "execution_count": 3,
   "id": "a53360dd-e511-45ba-aeed-a53c4b4decbd",
   "metadata": {},
   "outputs": [],
   "source": [
    "sys.path.append(str(Path(os.getcwd()).parent))\n",
    "from src import liftover, annotate, diagnostics\n",
    "from src.IDs import *\n"
   ]
  },
  {
   "cell_type": "markdown",
   "id": "399708b9-2043-4ebc-a604-91db6103ad38",
   "metadata": {},
   "source": [
    "# Choose sample and chrom"
   ]
  },
  {
   "cell_type": "code",
   "execution_count": 4,
   "id": "028e4eef-81ad-443e-9910-25fe4dd0133a",
   "metadata": {},
   "outputs": [],
   "source": [
    "focal_sample_id = \"1894\"\n",
    "t2t_chrom = \"chr2\"\n",
    "denovo_chrom = t2t_chrom + \"_RagTag\"\n",
    "\n"
   ]
  },
  {
   "cell_type": "markdown",
   "id": "8564bd03-7327-41d1-abc6-d929e722d588",
   "metadata": {},
   "source": [
    "# Mix high-conf SNPs and two-sided single nuc mismatches"
   ]
  },
  {
   "cell_type": "markdown",
   "id": "a2fe3616-0aff-463c-8e78-ee6e96df4c3d",
   "metadata": {},
   "source": [
    "## Get mismatches"
   ]
  },
  {
   "cell_type": "code",
   "execution_count": null,
   "id": "bed47b61-64cf-45a4-bab4-881fa86dcc6d",
   "metadata": {},
   "outputs": [],
   "source": []
  },
  {
   "cell_type": "code",
   "execution_count": 5,
   "id": "861d87b3-4653-4bed-84d1-582e2971e225",
   "metadata": {},
   "outputs": [],
   "source": [
    "def do_it_all(focal_sample_id, denovo_chrom):\n",
    "    filtered_high_conf_mismatches_df = pl.scan_parquet(Path(\"/lustre/scratch126/casm/team154pc/sl17/03.sperm/02.results/01.read_alignment/01.ccs/04.hifiasm/02.hifiasm_0.19.5-r592/02.chromosome_length_scaffolds/\") \\\n",
    "        / f\"{focal_sample_id}\" / \"reads\" / f\"{denovo_chrom}.high_confidence_snps.parquet\")\n",
    "    \n",
    "    \n",
    "    filtered_high_conf_mismatches_df = diagnostics.add_high_confidence_annotation(\n",
    "        filtered_high_conf_mismatches_df,\n",
    "        base_qual_min = 0, # Don't filter on this just yet\n",
    "    )\n",
    "    \n",
    "    filtered_high_conf_mismatches_df = filtered_high_conf_mismatches_df.filter(\"is_high_conf_event\")\n",
    "    \n",
    "    filtered_high_conf_mismatches_df = filtered_high_conf_mismatches_df.collect(streaming=True)\n",
    "    \n",
    "    #\n",
    "    # 3. Find mismatches supported by flanking high conf SNPs (putative GC)\n",
    "    #\n",
    "    def F(df):\n",
    "        df = (df\n",
    "            .with_columns(\n",
    "                pl.col(\"fits1\").cum_sum().alias(\"fits1_before\"),\n",
    "                pl.col(\"fits1\").cum_sum(reverse=True).alias(\"fits1_after\"),\n",
    "                pl.col(\"fits2\").cum_sum().alias(\"fits2_before\"),\n",
    "                pl.col(\"fits2\").cum_sum(reverse=True).alias(\"fits2_after\"),\n",
    "            )\n",
    "        )\n",
    "        return df\n",
    "\n",
    "    context_df = (filtered_high_conf_mismatches_df\n",
    "        .with_columns(\n",
    "            (pl.col(\"op1\") == 7).alias(\"fits1\").cast(int),\n",
    "            (pl.col(\"op2\") == 7).alias(\"fits2\").cast(int),\n",
    "        )\n",
    "        .sort(\"start\")\n",
    "        .group_by(\"read_name\")    \n",
    "        .map_groups(F)\n",
    "    )\n",
    "    \n",
    "    #\n",
    "    # 4. Calculate stats\n",
    "    # \n",
    "    flanking = 3\n",
    "\n",
    "    # Filter for putative GC events\n",
    "    putative_gc_df_hap = pl.concat(\n",
    "        [\n",
    "            (context_df\n",
    "                .filter((pl.col(\"op1\") == 8) & (pl.col(\"fits1_before\") >= flanking) & (pl.col(\"fits1_after\") >= flanking))\n",
    "                .with_columns((pl.col(\"op2\") == 7).alias(\"other_op_equal\"))\n",
    "            ),\n",
    "            (context_df\n",
    "                .filter((pl.col(\"op2\") == 8) & (pl.col(\"fits2_before\") >= flanking) & (pl.col(\"fits2_after\") >= flanking))\n",
    "                .with_columns((pl.col(\"op1\") == 7).alias(\"other_op_equal\"))\n",
    "            ),\n",
    "        ]\n",
    "    )\n",
    "    \n",
    "    # Mark where there are two different SNPs\n",
    "    putative_gc_df_hap = (putative_gc_df_hap\n",
    "        .with_columns((pl.col(\"refseq_start1\") != pl.col(\"refseq_start2\")).alias(\"diff_in_haplotypes\"))\n",
    "    )\n",
    "    \n",
    "    # Make the three categories\n",
    "    putative_gc_df_hap = (putative_gc_df_hap\n",
    "        .with_columns(\n",
    "            pl.when(pl.col('diff_in_haplotypes') & pl.col(\"other_op_equal\")).then(pl.lit(\"x_vs_y/x\"))\n",
    "              .when(pl.col('diff_in_haplotypes') & ~pl.col(\"other_op_equal\")).then(pl.lit(\"x_vs_y/z\"))\n",
    "              .when(~pl.col('diff_in_haplotypes') & ~pl.col(\"other_op_equal\")).then(pl.lit(\"x_vs_y/y\"))\n",
    "              .otherwise(pl.lit(\"x_vs_x/x\"))\n",
    "              .alias('category')\n",
    "        )\n",
    "    )\n",
    "    \n",
    "    to_round = 1\n",
    "    putative_gc_df_hap_cnt = (putative_gc_df_hap\n",
    "        .with_columns(\n",
    "            (pl.col(\"qual_start1\") // to_round * to_round).alias(\"qual_rounded\"),\n",
    "        )\n",
    "        .group_by([\"qual_rounded\", \"category\"])\n",
    "        .count()\n",
    "        .pivot(\n",
    "            values=[\"count\"],\n",
    "            index=[\"qual_rounded\"],\n",
    "            columns=[\"category\"],\n",
    "            aggregate_function=\"sum\",\n",
    "        )\n",
    "        .fill_null(0)\n",
    "        .sort(\"qual_rounded\")\n",
    "        .with_columns(\n",
    "            pl.lit(focal_sample_id).alias(\"focal_sample_id\"),\n",
    "            pl.lit(denovo_chrom).alias(\"chrom\"),\n",
    "        )\n",
    "    )\n",
    "    \n",
    "    return putative_gc_df_hap_cnt\n",
    "    \n",
    "    "
   ]
  },
  {
   "cell_type": "code",
   "execution_count": null,
   "id": "eb5f2333-5306-4726-b27f-8261e909fe4e",
   "metadata": {},
   "outputs": [],
   "source": []
  },
  {
   "cell_type": "markdown",
   "id": "d1fcd92e-79c6-4320-8366-571c6fffc7ef",
   "metadata": {},
   "source": [
    "# Get them all"
   ]
  },
  {
   "cell_type": "code",
   "execution_count": null,
   "id": "c9fff7ce-ceb9-4c5a-acfd-5fe125924da5",
   "metadata": {},
   "outputs": [],
   "source": []
  },
  {
   "cell_type": "code",
   "execution_count": 6,
   "id": "d1a378b9-70f6-412c-a385-efa574834b63",
   "metadata": {},
   "outputs": [
    {
     "name": "stdout",
     "output_type": "stream",
     "text": [
      "[Parallel(n_jobs=8)]: Using backend LokyBackend with 8 concurrent workers.\n"
     ]
    },
    {
     "name": "stderr",
     "output_type": "stream",
     "text": [
      "/tmp/ipykernel_2981514/4224850719.py:80: DeprecationWarning: `count` is deprecated. It has been renamed to `len`.\n"
     ]
    },
    {
     "name": "stdout",
     "output_type": "stream",
     "text": [
      "[Parallel(n_jobs=8)]: Done   1 tasks      | elapsed:  9.2min\n"
     ]
    },
    {
     "name": "stderr",
     "output_type": "stream",
     "text": [
      "/tmp/ipykernel_2981514/4224850719.py:80: DeprecationWarning: `count` is deprecated. It has been renamed to `len`.\n"
     ]
    },
    {
     "name": "stdout",
     "output_type": "stream",
     "text": [
      "[Parallel(n_jobs=8)]: Done   2 tasks      | elapsed: 11.3min\n"
     ]
    },
    {
     "name": "stderr",
     "output_type": "stream",
     "text": [
      "/tmp/ipykernel_2981514/4224850719.py:80: DeprecationWarning: `count` is deprecated. It has been renamed to `len`.\n"
     ]
    },
    {
     "name": "stdout",
     "output_type": "stream",
     "text": [
      "[Parallel(n_jobs=8)]: Done   3 tasks      | elapsed: 11.6min\n"
     ]
    },
    {
     "name": "stderr",
     "output_type": "stream",
     "text": [
      "/tmp/ipykernel_2981514/4224850719.py:80: DeprecationWarning: `count` is deprecated. It has been renamed to `len`.\n"
     ]
    },
    {
     "name": "stdout",
     "output_type": "stream",
     "text": [
      "[Parallel(n_jobs=8)]: Done   4 tasks      | elapsed: 11.7min\n"
     ]
    },
    {
     "name": "stderr",
     "output_type": "stream",
     "text": [
      "/tmp/ipykernel_2981514/4224850719.py:80: DeprecationWarning: `count` is deprecated. It has been renamed to `len`.\n"
     ]
    },
    {
     "name": "stdout",
     "output_type": "stream",
     "text": [
      "[Parallel(n_jobs=8)]: Done   5 tasks      | elapsed: 12.0min\n"
     ]
    },
    {
     "name": "stderr",
     "output_type": "stream",
     "text": [
      "/tmp/ipykernel_2981514/4224850719.py:80: DeprecationWarning: `count` is deprecated. It has been renamed to `len`.\n"
     ]
    },
    {
     "name": "stdout",
     "output_type": "stream",
     "text": [
      "[Parallel(n_jobs=8)]: Done   6 tasks      | elapsed: 12.3min\n"
     ]
    },
    {
     "name": "stderr",
     "output_type": "stream",
     "text": [
      "/tmp/ipykernel_2981514/4224850719.py:80: DeprecationWarning: `count` is deprecated. It has been renamed to `len`.\n"
     ]
    },
    {
     "name": "stdout",
     "output_type": "stream",
     "text": [
      "[Parallel(n_jobs=8)]: Done   7 tasks      | elapsed: 12.5min\n"
     ]
    },
    {
     "name": "stderr",
     "output_type": "stream",
     "text": [
      "/tmp/ipykernel_2981514/4224850719.py:80: DeprecationWarning: `count` is deprecated. It has been renamed to `len`.\n"
     ]
    },
    {
     "name": "stdout",
     "output_type": "stream",
     "text": [
      "[Parallel(n_jobs=8)]: Done   8 tasks      | elapsed: 13.1min\n"
     ]
    },
    {
     "name": "stderr",
     "output_type": "stream",
     "text": [
      "/tmp/ipykernel_2981514/4224850719.py:80: DeprecationWarning: `count` is deprecated. It has been renamed to `len`.\n"
     ]
    },
    {
     "name": "stdout",
     "output_type": "stream",
     "text": [
      "[Parallel(n_jobs=8)]: Done   9 tasks      | elapsed: 21.1min\n"
     ]
    },
    {
     "name": "stderr",
     "output_type": "stream",
     "text": [
      "/tmp/ipykernel_2981514/4224850719.py:80: DeprecationWarning: `count` is deprecated. It has been renamed to `len`.\n"
     ]
    },
    {
     "name": "stdout",
     "output_type": "stream",
     "text": [
      "[Parallel(n_jobs=8)]: Done  10 tasks      | elapsed: 21.9min\n"
     ]
    },
    {
     "name": "stderr",
     "output_type": "stream",
     "text": [
      "/tmp/ipykernel_2981514/4224850719.py:80: DeprecationWarning: `count` is deprecated. It has been renamed to `len`.\n"
     ]
    },
    {
     "name": "stdout",
     "output_type": "stream",
     "text": [
      "[Parallel(n_jobs=8)]: Done  11 tasks      | elapsed: 22.1min\n"
     ]
    },
    {
     "name": "stderr",
     "output_type": "stream",
     "text": [
      "/nfs/treeoflife-01/teams/tola/users/rs42/miniconda3/envs/sperm/lib/python3.11/site-packages/joblib/externals/loky/process_executor.py:752: UserWarning: A worker stopped while some jobs were given to the executor. This can be caused by a too short worker timeout or by a memory leak.\n",
      "  warnings.warn(\n",
      "/tmp/ipykernel_2981514/4224850719.py:80: DeprecationWarning: `count` is deprecated. It has been renamed to `len`.\n"
     ]
    },
    {
     "name": "stdout",
     "output_type": "stream",
     "text": [
      "[Parallel(n_jobs=8)]: Done  12 tasks      | elapsed: 22.2min\n"
     ]
    },
    {
     "name": "stderr",
     "output_type": "stream",
     "text": [
      "/tmp/ipykernel_2981514/4224850719.py:80: DeprecationWarning: `count` is deprecated. It has been renamed to `len`.\n"
     ]
    },
    {
     "name": "stdout",
     "output_type": "stream",
     "text": [
      "[Parallel(n_jobs=8)]: Done  13 tasks      | elapsed: 22.8min\n"
     ]
    },
    {
     "name": "stderr",
     "output_type": "stream",
     "text": [
      "/tmp/ipykernel_2981514/4224850719.py:80: DeprecationWarning: `count` is deprecated. It has been renamed to `len`.\n"
     ]
    },
    {
     "name": "stdout",
     "output_type": "stream",
     "text": [
      "[Parallel(n_jobs=8)]: Done  14 tasks      | elapsed: 23.2min\n"
     ]
    },
    {
     "name": "stderr",
     "output_type": "stream",
     "text": [
      "/tmp/ipykernel_2981514/4224850719.py:80: DeprecationWarning: `count` is deprecated. It has been renamed to `len`.\n"
     ]
    },
    {
     "name": "stdout",
     "output_type": "stream",
     "text": [
      "[Parallel(n_jobs=8)]: Done  15 tasks      | elapsed: 23.3min\n"
     ]
    },
    {
     "name": "stderr",
     "output_type": "stream",
     "text": [
      "/tmp/ipykernel_2981514/4224850719.py:80: DeprecationWarning: `count` is deprecated. It has been renamed to `len`.\n"
     ]
    },
    {
     "name": "stdout",
     "output_type": "stream",
     "text": [
      "[Parallel(n_jobs=8)]: Done  16 tasks      | elapsed: 23.8min\n"
     ]
    },
    {
     "name": "stderr",
     "output_type": "stream",
     "text": [
      "/tmp/ipykernel_2981514/4224850719.py:80: DeprecationWarning: `count` is deprecated. It has been renamed to `len`.\n"
     ]
    },
    {
     "name": "stdout",
     "output_type": "stream",
     "text": [
      "[Parallel(n_jobs=8)]: Done  17 tasks      | elapsed: 29.9min\n"
     ]
    },
    {
     "name": "stderr",
     "output_type": "stream",
     "text": [
      "/tmp/ipykernel_2981514/4224850719.py:80: DeprecationWarning: `count` is deprecated. It has been renamed to `len`.\n"
     ]
    },
    {
     "name": "stdout",
     "output_type": "stream",
     "text": [
      "[Parallel(n_jobs=8)]: Done  18 tasks      | elapsed: 30.6min\n"
     ]
    },
    {
     "name": "stderr",
     "output_type": "stream",
     "text": [
      "/tmp/ipykernel_2981514/4224850719.py:80: DeprecationWarning: `count` is deprecated. It has been renamed to `len`.\n"
     ]
    },
    {
     "name": "stdout",
     "output_type": "stream",
     "text": [
      "[Parallel(n_jobs=8)]: Done  19 tasks      | elapsed: 31.4min\n"
     ]
    },
    {
     "name": "stderr",
     "output_type": "stream",
     "text": [
      "/tmp/ipykernel_2981514/4224850719.py:80: DeprecationWarning: `count` is deprecated. It has been renamed to `len`.\n"
     ]
    },
    {
     "name": "stdout",
     "output_type": "stream",
     "text": [
      "[Parallel(n_jobs=8)]: Done  20 tasks      | elapsed: 31.8min\n"
     ]
    },
    {
     "name": "stderr",
     "output_type": "stream",
     "text": [
      "/tmp/ipykernel_2981514/4224850719.py:80: DeprecationWarning: `count` is deprecated. It has been renamed to `len`.\n"
     ]
    },
    {
     "name": "stdout",
     "output_type": "stream",
     "text": [
      "[Parallel(n_jobs=8)]: Done  21 tasks      | elapsed: 32.0min\n"
     ]
    },
    {
     "name": "stderr",
     "output_type": "stream",
     "text": [
      "/tmp/ipykernel_2981514/4224850719.py:80: DeprecationWarning: `count` is deprecated. It has been renamed to `len`.\n"
     ]
    },
    {
     "name": "stdout",
     "output_type": "stream",
     "text": [
      "[Parallel(n_jobs=8)]: Done  22 tasks      | elapsed: 32.6min\n"
     ]
    },
    {
     "name": "stderr",
     "output_type": "stream",
     "text": [
      "/tmp/ipykernel_2981514/4224850719.py:80: DeprecationWarning: `count` is deprecated. It has been renamed to `len`.\n"
     ]
    },
    {
     "name": "stdout",
     "output_type": "stream",
     "text": [
      "[Parallel(n_jobs=8)]: Done  23 tasks      | elapsed: 33.3min\n"
     ]
    },
    {
     "name": "stderr",
     "output_type": "stream",
     "text": [
      "/tmp/ipykernel_2981514/4224850719.py:80: DeprecationWarning: `count` is deprecated. It has been renamed to `len`.\n"
     ]
    },
    {
     "name": "stdout",
     "output_type": "stream",
     "text": [
      "[Parallel(n_jobs=8)]: Done  24 tasks      | elapsed: 34.1min\n"
     ]
    },
    {
     "name": "stderr",
     "output_type": "stream",
     "text": [
      "/tmp/ipykernel_2981514/4224850719.py:80: DeprecationWarning: `count` is deprecated. It has been renamed to `len`.\n"
     ]
    },
    {
     "name": "stdout",
     "output_type": "stream",
     "text": [
      "[Parallel(n_jobs=8)]: Done  25 tasks      | elapsed: 38.6min\n"
     ]
    },
    {
     "name": "stderr",
     "output_type": "stream",
     "text": [
      "/tmp/ipykernel_2981514/4224850719.py:80: DeprecationWarning: `count` is deprecated. It has been renamed to `len`.\n"
     ]
    },
    {
     "name": "stdout",
     "output_type": "stream",
     "text": [
      "[Parallel(n_jobs=8)]: Done  26 tasks      | elapsed: 39.3min\n"
     ]
    },
    {
     "name": "stderr",
     "output_type": "stream",
     "text": [
      "/tmp/ipykernel_2981514/4224850719.py:80: DeprecationWarning: `count` is deprecated. It has been renamed to `len`.\n"
     ]
    },
    {
     "name": "stdout",
     "output_type": "stream",
     "text": [
      "[Parallel(n_jobs=8)]: Done  27 tasks      | elapsed: 39.9min\n"
     ]
    },
    {
     "name": "stderr",
     "output_type": "stream",
     "text": [
      "/tmp/ipykernel_2981514/4224850719.py:80: DeprecationWarning: `count` is deprecated. It has been renamed to `len`.\n",
      "/tmp/ipykernel_2981514/4224850719.py:80: DeprecationWarning: `count` is deprecated. It has been renamed to `len`.\n"
     ]
    },
    {
     "name": "stdout",
     "output_type": "stream",
     "text": [
      "[Parallel(n_jobs=8)]: Done  28 tasks      | elapsed: 40.7min\n",
      "[Parallel(n_jobs=8)]: Done  29 tasks      | elapsed: 40.7min\n"
     ]
    },
    {
     "name": "stderr",
     "output_type": "stream",
     "text": [
      "/tmp/ipykernel_2981514/4224850719.py:80: DeprecationWarning: `count` is deprecated. It has been renamed to `len`.\n"
     ]
    },
    {
     "name": "stdout",
     "output_type": "stream",
     "text": [
      "[Parallel(n_jobs=8)]: Done  30 tasks      | elapsed: 41.6min\n"
     ]
    },
    {
     "name": "stderr",
     "output_type": "stream",
     "text": [
      "/tmp/ipykernel_2981514/4224850719.py:80: DeprecationWarning: `count` is deprecated. It has been renamed to `len`.\n"
     ]
    },
    {
     "name": "stdout",
     "output_type": "stream",
     "text": [
      "[Parallel(n_jobs=8)]: Done  31 tasks      | elapsed: 41.7min\n"
     ]
    },
    {
     "name": "stderr",
     "output_type": "stream",
     "text": [
      "/tmp/ipykernel_2981514/4224850719.py:80: DeprecationWarning: `count` is deprecated. It has been renamed to `len`.\n"
     ]
    },
    {
     "name": "stdout",
     "output_type": "stream",
     "text": [
      "[Parallel(n_jobs=8)]: Done  32 tasks      | elapsed: 42.4min\n"
     ]
    },
    {
     "name": "stderr",
     "output_type": "stream",
     "text": [
      "/tmp/ipykernel_2981514/4224850719.py:80: DeprecationWarning: `count` is deprecated. It has been renamed to `len`.\n"
     ]
    },
    {
     "name": "stdout",
     "output_type": "stream",
     "text": [
      "[Parallel(n_jobs=8)]: Done  33 tasks      | elapsed: 47.7min\n"
     ]
    },
    {
     "name": "stderr",
     "output_type": "stream",
     "text": [
      "/tmp/ipykernel_2981514/4224850719.py:80: DeprecationWarning: `count` is deprecated. It has been renamed to `len`.\n"
     ]
    },
    {
     "name": "stdout",
     "output_type": "stream",
     "text": [
      "[Parallel(n_jobs=8)]: Done  34 tasks      | elapsed: 48.0min\n"
     ]
    },
    {
     "name": "stderr",
     "output_type": "stream",
     "text": [
      "/tmp/ipykernel_2981514/4224850719.py:80: DeprecationWarning: `count` is deprecated. It has been renamed to `len`.\n"
     ]
    },
    {
     "name": "stdout",
     "output_type": "stream",
     "text": [
      "[Parallel(n_jobs=8)]: Done  35 tasks      | elapsed: 48.1min\n"
     ]
    },
    {
     "name": "stderr",
     "output_type": "stream",
     "text": [
      "/tmp/ipykernel_2981514/4224850719.py:80: DeprecationWarning: `count` is deprecated. It has been renamed to `len`.\n"
     ]
    },
    {
     "name": "stdout",
     "output_type": "stream",
     "text": [
      "[Parallel(n_jobs=8)]: Done  36 tasks      | elapsed: 48.2min\n"
     ]
    },
    {
     "name": "stderr",
     "output_type": "stream",
     "text": [
      "/tmp/ipykernel_2981514/4224850719.py:80: DeprecationWarning: `count` is deprecated. It has been renamed to `len`.\n"
     ]
    },
    {
     "name": "stdout",
     "output_type": "stream",
     "text": [
      "[Parallel(n_jobs=8)]: Done  37 tasks      | elapsed: 48.5min\n"
     ]
    },
    {
     "name": "stderr",
     "output_type": "stream",
     "text": [
      "/tmp/ipykernel_2981514/4224850719.py:80: DeprecationWarning: `count` is deprecated. It has been renamed to `len`.\n"
     ]
    },
    {
     "name": "stdout",
     "output_type": "stream",
     "text": [
      "[Parallel(n_jobs=8)]: Done  38 tasks      | elapsed: 48.8min\n"
     ]
    },
    {
     "name": "stderr",
     "output_type": "stream",
     "text": [
      "/tmp/ipykernel_2981514/4224850719.py:80: DeprecationWarning: `count` is deprecated. It has been renamed to `len`.\n"
     ]
    },
    {
     "name": "stdout",
     "output_type": "stream",
     "text": [
      "[Parallel(n_jobs=8)]: Done  39 tasks      | elapsed: 49.8min\n"
     ]
    },
    {
     "name": "stderr",
     "output_type": "stream",
     "text": [
      "/tmp/ipykernel_2981514/4224850719.py:80: DeprecationWarning: `count` is deprecated. It has been renamed to `len`.\n"
     ]
    },
    {
     "name": "stdout",
     "output_type": "stream",
     "text": [
      "[Parallel(n_jobs=8)]: Done  40 tasks      | elapsed: 50.4min\n"
     ]
    },
    {
     "name": "stderr",
     "output_type": "stream",
     "text": [
      "/tmp/ipykernel_2981514/4224850719.py:80: DeprecationWarning: `count` is deprecated. It has been renamed to `len`.\n"
     ]
    },
    {
     "name": "stdout",
     "output_type": "stream",
     "text": [
      "[Parallel(n_jobs=8)]: Done  41 tasks      | elapsed: 54.1min\n"
     ]
    },
    {
     "name": "stderr",
     "output_type": "stream",
     "text": [
      "/tmp/ipykernel_2981514/4224850719.py:80: DeprecationWarning: `count` is deprecated. It has been renamed to `len`.\n"
     ]
    },
    {
     "name": "stdout",
     "output_type": "stream",
     "text": [
      "[Parallel(n_jobs=8)]: Done  42 tasks      | elapsed: 54.9min\n"
     ]
    },
    {
     "name": "stderr",
     "output_type": "stream",
     "text": [
      "/tmp/ipykernel_2981514/4224850719.py:80: DeprecationWarning: `count` is deprecated. It has been renamed to `len`.\n"
     ]
    },
    {
     "name": "stdout",
     "output_type": "stream",
     "text": [
      "[Parallel(n_jobs=8)]: Done  43 tasks      | elapsed: 55.3min\n"
     ]
    },
    {
     "name": "stderr",
     "output_type": "stream",
     "text": [
      "/tmp/ipykernel_2981514/4224850719.py:80: DeprecationWarning: `count` is deprecated. It has been renamed to `len`.\n"
     ]
    },
    {
     "name": "stdout",
     "output_type": "stream",
     "text": [
      "[Parallel(n_jobs=8)]: Done  44 tasks      | elapsed: 55.4min\n"
     ]
    },
    {
     "name": "stderr",
     "output_type": "stream",
     "text": [
      "/tmp/ipykernel_2981514/4224850719.py:80: DeprecationWarning: `count` is deprecated. It has been renamed to `len`.\n"
     ]
    },
    {
     "name": "stdout",
     "output_type": "stream",
     "text": [
      "[Parallel(n_jobs=8)]: Done  45 tasks      | elapsed: 55.9min\n"
     ]
    },
    {
     "name": "stderr",
     "output_type": "stream",
     "text": [
      "/tmp/ipykernel_2981514/4224850719.py:80: DeprecationWarning: `count` is deprecated. It has been renamed to `len`.\n"
     ]
    },
    {
     "name": "stdout",
     "output_type": "stream",
     "text": [
      "[Parallel(n_jobs=8)]: Done  46 tasks      | elapsed: 55.9min\n"
     ]
    },
    {
     "name": "stderr",
     "output_type": "stream",
     "text": [
      "/tmp/ipykernel_2981514/4224850719.py:80: DeprecationWarning: `count` is deprecated. It has been renamed to `len`.\n",
      "/tmp/ipykernel_2981514/4224850719.py:80: DeprecationWarning: `count` is deprecated. It has been renamed to `len`.\n"
     ]
    },
    {
     "name": "stdout",
     "output_type": "stream",
     "text": [
      "[Parallel(n_jobs=8)]: Done  47 tasks      | elapsed: 56.5min\n",
      "[Parallel(n_jobs=8)]: Done  48 tasks      | elapsed: 56.5min\n"
     ]
    },
    {
     "name": "stderr",
     "output_type": "stream",
     "text": [
      "/tmp/ipykernel_2981514/4224850719.py:80: DeprecationWarning: `count` is deprecated. It has been renamed to `len`.\n"
     ]
    },
    {
     "name": "stdout",
     "output_type": "stream",
     "text": [
      "[Parallel(n_jobs=8)]: Done  49 tasks      | elapsed: 60.0min\n"
     ]
    },
    {
     "name": "stderr",
     "output_type": "stream",
     "text": [
      "/tmp/ipykernel_2981514/4224850719.py:80: DeprecationWarning: `count` is deprecated. It has been renamed to `len`.\n"
     ]
    },
    {
     "name": "stdout",
     "output_type": "stream",
     "text": [
      "[Parallel(n_jobs=8)]: Done  50 tasks      | elapsed: 60.4min\n"
     ]
    },
    {
     "name": "stderr",
     "output_type": "stream",
     "text": [
      "/tmp/ipykernel_2981514/4224850719.py:80: DeprecationWarning: `count` is deprecated. It has been renamed to `len`.\n"
     ]
    },
    {
     "name": "stdout",
     "output_type": "stream",
     "text": [
      "[Parallel(n_jobs=8)]: Done  51 tasks      | elapsed: 60.7min\n"
     ]
    },
    {
     "name": "stderr",
     "output_type": "stream",
     "text": [
      "/tmp/ipykernel_2981514/4224850719.py:80: DeprecationWarning: `count` is deprecated. It has been renamed to `len`.\n"
     ]
    },
    {
     "name": "stdout",
     "output_type": "stream",
     "text": [
      "[Parallel(n_jobs=8)]: Done  52 tasks      | elapsed: 61.4min\n"
     ]
    },
    {
     "name": "stderr",
     "output_type": "stream",
     "text": [
      "/tmp/ipykernel_2981514/4224850719.py:80: DeprecationWarning: `count` is deprecated. It has been renamed to `len`.\n"
     ]
    },
    {
     "name": "stdout",
     "output_type": "stream",
     "text": [
      "[Parallel(n_jobs=8)]: Done  53 tasks      | elapsed: 61.7min\n"
     ]
    },
    {
     "name": "stderr",
     "output_type": "stream",
     "text": [
      "/tmp/ipykernel_2981514/4224850719.py:80: DeprecationWarning: `count` is deprecated. It has been renamed to `len`.\n"
     ]
    },
    {
     "name": "stdout",
     "output_type": "stream",
     "text": [
      "[Parallel(n_jobs=8)]: Done  54 tasks      | elapsed: 61.8min\n"
     ]
    },
    {
     "name": "stderr",
     "output_type": "stream",
     "text": [
      "/tmp/ipykernel_2981514/4224850719.py:80: DeprecationWarning: `count` is deprecated. It has been renamed to `len`.\n"
     ]
    },
    {
     "name": "stdout",
     "output_type": "stream",
     "text": [
      "[Parallel(n_jobs=8)]: Done  55 tasks      | elapsed: 62.7min\n"
     ]
    },
    {
     "name": "stderr",
     "output_type": "stream",
     "text": [
      "/tmp/ipykernel_2981514/4224850719.py:80: DeprecationWarning: `count` is deprecated. It has been renamed to `len`.\n"
     ]
    },
    {
     "name": "stdout",
     "output_type": "stream",
     "text": [
      "[Parallel(n_jobs=8)]: Done  56 tasks      | elapsed: 63.2min\n"
     ]
    },
    {
     "name": "stderr",
     "output_type": "stream",
     "text": [
      "/tmp/ipykernel_2981514/4224850719.py:80: DeprecationWarning: `count` is deprecated. It has been renamed to `len`.\n"
     ]
    },
    {
     "name": "stdout",
     "output_type": "stream",
     "text": [
      "[Parallel(n_jobs=8)]: Done  57 tasks      | elapsed: 66.4min\n"
     ]
    },
    {
     "name": "stderr",
     "output_type": "stream",
     "text": [
      "/tmp/ipykernel_2981514/4224850719.py:80: DeprecationWarning: `count` is deprecated. It has been renamed to `len`.\n"
     ]
    },
    {
     "name": "stdout",
     "output_type": "stream",
     "text": [
      "[Parallel(n_jobs=8)]: Done  58 tasks      | elapsed: 66.7min\n"
     ]
    },
    {
     "name": "stderr",
     "output_type": "stream",
     "text": [
      "/tmp/ipykernel_2981514/4224850719.py:80: DeprecationWarning: `count` is deprecated. It has been renamed to `len`.\n"
     ]
    },
    {
     "name": "stdout",
     "output_type": "stream",
     "text": [
      "[Parallel(n_jobs=8)]: Done  59 tasks      | elapsed: 66.9min\n"
     ]
    },
    {
     "name": "stderr",
     "output_type": "stream",
     "text": [
      "/tmp/ipykernel_2981514/4224850719.py:80: DeprecationWarning: `count` is deprecated. It has been renamed to `len`.\n"
     ]
    },
    {
     "name": "stdout",
     "output_type": "stream",
     "text": [
      "[Parallel(n_jobs=8)]: Done  60 tasks      | elapsed: 67.1min\n"
     ]
    },
    {
     "name": "stderr",
     "output_type": "stream",
     "text": [
      "/tmp/ipykernel_2981514/4224850719.py:80: DeprecationWarning: `count` is deprecated. It has been renamed to `len`.\n"
     ]
    },
    {
     "name": "stdout",
     "output_type": "stream",
     "text": [
      "[Parallel(n_jobs=8)]: Done  61 tasks      | elapsed: 67.9min\n"
     ]
    },
    {
     "name": "stderr",
     "output_type": "stream",
     "text": [
      "/tmp/ipykernel_2981514/4224850719.py:80: DeprecationWarning: `count` is deprecated. It has been renamed to `len`.\n"
     ]
    },
    {
     "name": "stdout",
     "output_type": "stream",
     "text": [
      "[Parallel(n_jobs=8)]: Done  62 tasks      | elapsed: 68.4min\n"
     ]
    },
    {
     "name": "stderr",
     "output_type": "stream",
     "text": [
      "/tmp/ipykernel_2981514/4224850719.py:80: DeprecationWarning: `count` is deprecated. It has been renamed to `len`.\n"
     ]
    },
    {
     "name": "stdout",
     "output_type": "stream",
     "text": [
      "[Parallel(n_jobs=8)]: Done  63 tasks      | elapsed: 69.4min\n"
     ]
    },
    {
     "name": "stderr",
     "output_type": "stream",
     "text": [
      "/tmp/ipykernel_2981514/4224850719.py:80: DeprecationWarning: `count` is deprecated. It has been renamed to `len`.\n"
     ]
    },
    {
     "name": "stdout",
     "output_type": "stream",
     "text": [
      "[Parallel(n_jobs=8)]: Done  64 tasks      | elapsed: 69.5min\n"
     ]
    },
    {
     "name": "stderr",
     "output_type": "stream",
     "text": [
      "/tmp/ipykernel_2981514/4224850719.py:80: DeprecationWarning: `count` is deprecated. It has been renamed to `len`.\n"
     ]
    },
    {
     "name": "stdout",
     "output_type": "stream",
     "text": [
      "[Parallel(n_jobs=8)]: Done  65 tasks      | elapsed: 71.7min\n"
     ]
    },
    {
     "name": "stderr",
     "output_type": "stream",
     "text": [
      "/tmp/ipykernel_2981514/4224850719.py:80: DeprecationWarning: `count` is deprecated. It has been renamed to `len`.\n"
     ]
    },
    {
     "name": "stdout",
     "output_type": "stream",
     "text": [
      "[Parallel(n_jobs=8)]: Done  66 tasks      | elapsed: 72.4min\n"
     ]
    },
    {
     "name": "stderr",
     "output_type": "stream",
     "text": [
      "/tmp/ipykernel_2981514/4224850719.py:80: DeprecationWarning: `count` is deprecated. It has been renamed to `len`.\n"
     ]
    },
    {
     "name": "stdout",
     "output_type": "stream",
     "text": [
      "[Parallel(n_jobs=8)]: Done  67 tasks      | elapsed: 73.2min\n"
     ]
    },
    {
     "name": "stderr",
     "output_type": "stream",
     "text": [
      "/tmp/ipykernel_2981514/4224850719.py:80: DeprecationWarning: `count` is deprecated. It has been renamed to `len`.\n"
     ]
    },
    {
     "name": "stdout",
     "output_type": "stream",
     "text": [
      "[Parallel(n_jobs=8)]: Done  68 tasks      | elapsed: 73.4min\n"
     ]
    },
    {
     "name": "stderr",
     "output_type": "stream",
     "text": [
      "/tmp/ipykernel_2981514/4224850719.py:80: DeprecationWarning: `count` is deprecated. It has been renamed to `len`.\n"
     ]
    },
    {
     "name": "stdout",
     "output_type": "stream",
     "text": [
      "[Parallel(n_jobs=8)]: Done  69 tasks      | elapsed: 74.6min\n"
     ]
    },
    {
     "name": "stderr",
     "output_type": "stream",
     "text": [
      "/tmp/ipykernel_2981514/4224850719.py:80: DeprecationWarning: `count` is deprecated. It has been renamed to `len`.\n"
     ]
    },
    {
     "name": "stdout",
     "output_type": "stream",
     "text": [
      "[Parallel(n_jobs=8)]: Done  70 tasks      | elapsed: 74.7min\n"
     ]
    },
    {
     "name": "stderr",
     "output_type": "stream",
     "text": [
      "/tmp/ipykernel_2981514/4224850719.py:80: DeprecationWarning: `count` is deprecated. It has been renamed to `len`.\n"
     ]
    },
    {
     "name": "stdout",
     "output_type": "stream",
     "text": [
      "[Parallel(n_jobs=8)]: Done  71 tasks      | elapsed: 75.0min\n"
     ]
    },
    {
     "name": "stderr",
     "output_type": "stream",
     "text": [
      "/tmp/ipykernel_2981514/4224850719.py:80: DeprecationWarning: `count` is deprecated. It has been renamed to `len`.\n"
     ]
    },
    {
     "name": "stdout",
     "output_type": "stream",
     "text": [
      "[Parallel(n_jobs=8)]: Done  72 tasks      | elapsed: 75.2min\n"
     ]
    },
    {
     "name": "stderr",
     "output_type": "stream",
     "text": [
      "/tmp/ipykernel_2981514/4224850719.py:80: DeprecationWarning: `count` is deprecated. It has been renamed to `len`.\n"
     ]
    },
    {
     "name": "stdout",
     "output_type": "stream",
     "text": [
      "[Parallel(n_jobs=8)]: Done  73 tasks      | elapsed: 76.5min\n"
     ]
    },
    {
     "name": "stderr",
     "output_type": "stream",
     "text": [
      "/tmp/ipykernel_2981514/4224850719.py:80: DeprecationWarning: `count` is deprecated. It has been renamed to `len`.\n"
     ]
    },
    {
     "name": "stdout",
     "output_type": "stream",
     "text": [
      "[Parallel(n_jobs=8)]: Done  74 tasks      | elapsed: 77.1min\n"
     ]
    },
    {
     "name": "stderr",
     "output_type": "stream",
     "text": [
      "/tmp/ipykernel_2981514/4224850719.py:80: DeprecationWarning: `count` is deprecated. It has been renamed to `len`.\n"
     ]
    },
    {
     "name": "stdout",
     "output_type": "stream",
     "text": [
      "[Parallel(n_jobs=8)]: Done  75 tasks      | elapsed: 78.5min\n"
     ]
    },
    {
     "name": "stderr",
     "output_type": "stream",
     "text": [
      "/tmp/ipykernel_2981514/4224850719.py:80: DeprecationWarning: `count` is deprecated. It has been renamed to `len`.\n"
     ]
    },
    {
     "name": "stdout",
     "output_type": "stream",
     "text": [
      "[Parallel(n_jobs=8)]: Done  76 tasks      | elapsed: 78.7min\n"
     ]
    },
    {
     "name": "stderr",
     "output_type": "stream",
     "text": [
      "/tmp/ipykernel_2981514/4224850719.py:80: DeprecationWarning: `count` is deprecated. It has been renamed to `len`.\n"
     ]
    },
    {
     "name": "stdout",
     "output_type": "stream",
     "text": [
      "[Parallel(n_jobs=8)]: Done  77 tasks      | elapsed: 79.1min\n"
     ]
    },
    {
     "name": "stderr",
     "output_type": "stream",
     "text": [
      "/tmp/ipykernel_2981514/4224850719.py:80: DeprecationWarning: `count` is deprecated. It has been renamed to `len`.\n"
     ]
    },
    {
     "name": "stdout",
     "output_type": "stream",
     "text": [
      "[Parallel(n_jobs=8)]: Done  78 tasks      | elapsed: 79.4min\n"
     ]
    },
    {
     "name": "stderr",
     "output_type": "stream",
     "text": [
      "/tmp/ipykernel_2981514/4224850719.py:80: DeprecationWarning: `count` is deprecated. It has been renamed to `len`.\n"
     ]
    },
    {
     "name": "stdout",
     "output_type": "stream",
     "text": [
      "[Parallel(n_jobs=8)]: Done  79 tasks      | elapsed: 79.4min\n"
     ]
    },
    {
     "name": "stderr",
     "output_type": "stream",
     "text": [
      "/tmp/ipykernel_2981514/4224850719.py:80: DeprecationWarning: `count` is deprecated. It has been renamed to `len`.\n"
     ]
    },
    {
     "name": "stdout",
     "output_type": "stream",
     "text": [
      "[Parallel(n_jobs=8)]: Done  80 tasks      | elapsed: 79.4min\n"
     ]
    },
    {
     "name": "stderr",
     "output_type": "stream",
     "text": [
      "/tmp/ipykernel_2981514/4224850719.py:80: DeprecationWarning: `count` is deprecated. It has been renamed to `len`.\n"
     ]
    },
    {
     "name": "stdout",
     "output_type": "stream",
     "text": [
      "[Parallel(n_jobs=8)]: Done  81 tasks      | elapsed: 81.4min\n"
     ]
    },
    {
     "name": "stderr",
     "output_type": "stream",
     "text": [
      "/tmp/ipykernel_2981514/4224850719.py:80: DeprecationWarning: `count` is deprecated. It has been renamed to `len`.\n"
     ]
    },
    {
     "name": "stdout",
     "output_type": "stream",
     "text": [
      "[Parallel(n_jobs=8)]: Done  82 tasks      | elapsed: 81.6min\n"
     ]
    },
    {
     "name": "stderr",
     "output_type": "stream",
     "text": [
      "/tmp/ipykernel_2981514/4224850719.py:80: DeprecationWarning: `count` is deprecated. It has been renamed to `len`.\n"
     ]
    },
    {
     "name": "stdout",
     "output_type": "stream",
     "text": [
      "[Parallel(n_jobs=8)]: Done  83 tasks      | elapsed: 82.1min\n"
     ]
    },
    {
     "name": "stderr",
     "output_type": "stream",
     "text": [
      "/tmp/ipykernel_2981514/4224850719.py:80: DeprecationWarning: `count` is deprecated. It has been renamed to `len`.\n"
     ]
    },
    {
     "name": "stdout",
     "output_type": "stream",
     "text": [
      "[Parallel(n_jobs=8)]: Done  84 tasks      | elapsed: 82.9min\n"
     ]
    },
    {
     "name": "stderr",
     "output_type": "stream",
     "text": [
      "/tmp/ipykernel_2981514/4224850719.py:80: DeprecationWarning: `count` is deprecated. It has been renamed to `len`.\n"
     ]
    },
    {
     "name": "stdout",
     "output_type": "stream",
     "text": [
      "[Parallel(n_jobs=8)]: Done  85 tasks      | elapsed: 83.3min\n"
     ]
    },
    {
     "name": "stderr",
     "output_type": "stream",
     "text": [
      "/tmp/ipykernel_2981514/4224850719.py:80: DeprecationWarning: `count` is deprecated. It has been renamed to `len`.\n"
     ]
    },
    {
     "name": "stdout",
     "output_type": "stream",
     "text": [
      "[Parallel(n_jobs=8)]: Done  86 tasks      | elapsed: 83.4min\n"
     ]
    },
    {
     "name": "stderr",
     "output_type": "stream",
     "text": [
      "/tmp/ipykernel_2981514/4224850719.py:80: DeprecationWarning: `count` is deprecated. It has been renamed to `len`.\n"
     ]
    },
    {
     "name": "stdout",
     "output_type": "stream",
     "text": [
      "[Parallel(n_jobs=8)]: Done  87 tasks      | elapsed: 83.4min\n"
     ]
    },
    {
     "name": "stderr",
     "output_type": "stream",
     "text": [
      "/tmp/ipykernel_2981514/4224850719.py:80: DeprecationWarning: `count` is deprecated. It has been renamed to `len`.\n"
     ]
    },
    {
     "name": "stdout",
     "output_type": "stream",
     "text": [
      "[Parallel(n_jobs=8)]: Done  88 tasks      | elapsed: 83.8min\n"
     ]
    },
    {
     "name": "stderr",
     "output_type": "stream",
     "text": [
      "/tmp/ipykernel_2981514/4224850719.py:80: DeprecationWarning: `count` is deprecated. It has been renamed to `len`.\n"
     ]
    },
    {
     "name": "stdout",
     "output_type": "stream",
     "text": [
      "[Parallel(n_jobs=8)]: Done  89 tasks      | elapsed: 84.7min\n"
     ]
    },
    {
     "name": "stderr",
     "output_type": "stream",
     "text": [
      "/tmp/ipykernel_2981514/4224850719.py:80: DeprecationWarning: `count` is deprecated. It has been renamed to `len`.\n"
     ]
    },
    {
     "name": "stdout",
     "output_type": "stream",
     "text": [
      "[Parallel(n_jobs=8)]: Done  90 tasks      | elapsed: 85.3min\n"
     ]
    },
    {
     "name": "stderr",
     "output_type": "stream",
     "text": [
      "/tmp/ipykernel_2981514/4224850719.py:80: DeprecationWarning: `count` is deprecated. It has been renamed to `len`.\n"
     ]
    },
    {
     "name": "stdout",
     "output_type": "stream",
     "text": [
      "[Parallel(n_jobs=8)]: Done  91 tasks      | elapsed: 86.3min\n"
     ]
    },
    {
     "name": "stderr",
     "output_type": "stream",
     "text": [
      "/tmp/ipykernel_2981514/4224850719.py:80: DeprecationWarning: `count` is deprecated. It has been renamed to `len`.\n"
     ]
    },
    {
     "name": "stdout",
     "output_type": "stream",
     "text": [
      "[Parallel(n_jobs=8)]: Done  92 tasks      | elapsed: 86.6min\n"
     ]
    },
    {
     "name": "stderr",
     "output_type": "stream",
     "text": [
      "/tmp/ipykernel_2981514/4224850719.py:80: DeprecationWarning: `count` is deprecated. It has been renamed to `len`.\n"
     ]
    },
    {
     "name": "stdout",
     "output_type": "stream",
     "text": [
      "[Parallel(n_jobs=8)]: Done  93 tasks      | elapsed: 86.6min\n"
     ]
    },
    {
     "name": "stderr",
     "output_type": "stream",
     "text": [
      "/tmp/ipykernel_2981514/4224850719.py:80: DeprecationWarning: `count` is deprecated. It has been renamed to `len`.\n"
     ]
    },
    {
     "name": "stdout",
     "output_type": "stream",
     "text": [
      "[Parallel(n_jobs=8)]: Done  94 tasks      | elapsed: 87.1min\n"
     ]
    },
    {
     "name": "stderr",
     "output_type": "stream",
     "text": [
      "/tmp/ipykernel_2981514/4224850719.py:80: DeprecationWarning: `count` is deprecated. It has been renamed to `len`.\n"
     ]
    },
    {
     "name": "stdout",
     "output_type": "stream",
     "text": [
      "[Parallel(n_jobs=8)]: Done  95 tasks      | elapsed: 87.1min\n"
     ]
    },
    {
     "name": "stderr",
     "output_type": "stream",
     "text": [
      "/tmp/ipykernel_2981514/4224850719.py:80: DeprecationWarning: `count` is deprecated. It has been renamed to `len`.\n"
     ]
    },
    {
     "name": "stdout",
     "output_type": "stream",
     "text": [
      "[Parallel(n_jobs=8)]: Done  96 tasks      | elapsed: 87.6min\n"
     ]
    },
    {
     "name": "stderr",
     "output_type": "stream",
     "text": [
      "/tmp/ipykernel_2981514/4224850719.py:80: DeprecationWarning: `count` is deprecated. It has been renamed to `len`.\n"
     ]
    },
    {
     "name": "stdout",
     "output_type": "stream",
     "text": [
      "[Parallel(n_jobs=8)]: Done  97 tasks      | elapsed: 88.3min\n"
     ]
    },
    {
     "name": "stderr",
     "output_type": "stream",
     "text": [
      "/tmp/ipykernel_2981514/4224850719.py:80: DeprecationWarning: `count` is deprecated. It has been renamed to `len`.\n"
     ]
    },
    {
     "name": "stdout",
     "output_type": "stream",
     "text": [
      "[Parallel(n_jobs=8)]: Done  98 tasks      | elapsed: 88.3min\n"
     ]
    },
    {
     "name": "stderr",
     "output_type": "stream",
     "text": [
      "/tmp/ipykernel_2981514/4224850719.py:80: DeprecationWarning: `count` is deprecated. It has been renamed to `len`.\n"
     ]
    },
    {
     "name": "stdout",
     "output_type": "stream",
     "text": [
      "[Parallel(n_jobs=8)]: Done  99 tasks      | elapsed: 89.6min\n"
     ]
    },
    {
     "name": "stderr",
     "output_type": "stream",
     "text": [
      "/tmp/ipykernel_2981514/4224850719.py:80: DeprecationWarning: `count` is deprecated. It has been renamed to `len`.\n"
     ]
    },
    {
     "name": "stdout",
     "output_type": "stream",
     "text": [
      "[Parallel(n_jobs=8)]: Done 100 tasks      | elapsed: 89.9min\n"
     ]
    },
    {
     "name": "stderr",
     "output_type": "stream",
     "text": [
      "/tmp/ipykernel_2981514/4224850719.py:80: DeprecationWarning: `count` is deprecated. It has been renamed to `len`.\n"
     ]
    },
    {
     "name": "stdout",
     "output_type": "stream",
     "text": [
      "[Parallel(n_jobs=8)]: Done 101 tasks      | elapsed: 89.9min\n"
     ]
    },
    {
     "name": "stderr",
     "output_type": "stream",
     "text": [
      "/tmp/ipykernel_2981514/4224850719.py:80: DeprecationWarning: `count` is deprecated. It has been renamed to `len`.\n"
     ]
    },
    {
     "name": "stdout",
     "output_type": "stream",
     "text": [
      "[Parallel(n_jobs=8)]: Done 102 tasks      | elapsed: 90.0min\n"
     ]
    },
    {
     "name": "stderr",
     "output_type": "stream",
     "text": [
      "/tmp/ipykernel_2981514/4224850719.py:80: DeprecationWarning: `count` is deprecated. It has been renamed to `len`.\n"
     ]
    },
    {
     "name": "stdout",
     "output_type": "stream",
     "text": [
      "[Parallel(n_jobs=8)]: Done 103 tasks      | elapsed: 91.1min\n"
     ]
    },
    {
     "name": "stderr",
     "output_type": "stream",
     "text": [
      "/tmp/ipykernel_2981514/4224850719.py:80: DeprecationWarning: `count` is deprecated. It has been renamed to `len`.\n"
     ]
    },
    {
     "name": "stdout",
     "output_type": "stream",
     "text": [
      "[Parallel(n_jobs=8)]: Done 104 tasks      | elapsed: 91.4min\n"
     ]
    },
    {
     "name": "stderr",
     "output_type": "stream",
     "text": [
      "/tmp/ipykernel_2981514/4224850719.py:80: DeprecationWarning: `count` is deprecated. It has been renamed to `len`.\n"
     ]
    },
    {
     "name": "stdout",
     "output_type": "stream",
     "text": [
      "[Parallel(n_jobs=8)]: Done 105 tasks      | elapsed: 92.0min\n"
     ]
    },
    {
     "name": "stderr",
     "output_type": "stream",
     "text": [
      "/tmp/ipykernel_2981514/4224850719.py:80: DeprecationWarning: `count` is deprecated. It has been renamed to `len`.\n"
     ]
    },
    {
     "name": "stdout",
     "output_type": "stream",
     "text": [
      "[Parallel(n_jobs=8)]: Done 106 tasks      | elapsed: 92.2min\n"
     ]
    },
    {
     "name": "stderr",
     "output_type": "stream",
     "text": [
      "/tmp/ipykernel_2981514/4224850719.py:80: DeprecationWarning: `count` is deprecated. It has been renamed to `len`.\n"
     ]
    },
    {
     "name": "stdout",
     "output_type": "stream",
     "text": [
      "[Parallel(n_jobs=8)]: Done 107 tasks      | elapsed: 92.3min\n"
     ]
    },
    {
     "name": "stderr",
     "output_type": "stream",
     "text": [
      "/tmp/ipykernel_2981514/4224850719.py:80: DeprecationWarning: `count` is deprecated. It has been renamed to `len`.\n"
     ]
    },
    {
     "name": "stdout",
     "output_type": "stream",
     "text": [
      "[Parallel(n_jobs=8)]: Done 108 tasks      | elapsed: 92.8min\n"
     ]
    },
    {
     "name": "stderr",
     "output_type": "stream",
     "text": [
      "/tmp/ipykernel_2981514/4224850719.py:80: DeprecationWarning: `count` is deprecated. It has been renamed to `len`.\n"
     ]
    },
    {
     "name": "stdout",
     "output_type": "stream",
     "text": [
      "[Parallel(n_jobs=8)]: Done 109 tasks      | elapsed: 92.9min\n"
     ]
    },
    {
     "name": "stderr",
     "output_type": "stream",
     "text": [
      "/tmp/ipykernel_2981514/4224850719.py:80: DeprecationWarning: `count` is deprecated. It has been renamed to `len`.\n"
     ]
    },
    {
     "name": "stdout",
     "output_type": "stream",
     "text": [
      "[Parallel(n_jobs=8)]: Done 110 tasks      | elapsed: 93.4min\n"
     ]
    },
    {
     "name": "stderr",
     "output_type": "stream",
     "text": [
      "/tmp/ipykernel_2981514/4224850719.py:80: DeprecationWarning: `count` is deprecated. It has been renamed to `len`.\n"
     ]
    },
    {
     "name": "stdout",
     "output_type": "stream",
     "text": [
      "[Parallel(n_jobs=8)]: Done 111 tasks      | elapsed: 93.4min\n"
     ]
    },
    {
     "name": "stderr",
     "output_type": "stream",
     "text": [
      "/tmp/ipykernel_2981514/4224850719.py:80: DeprecationWarning: `count` is deprecated. It has been renamed to `len`.\n"
     ]
    },
    {
     "name": "stdout",
     "output_type": "stream",
     "text": [
      "[Parallel(n_jobs=8)]: Done 112 tasks      | elapsed: 93.5min\n"
     ]
    },
    {
     "name": "stderr",
     "output_type": "stream",
     "text": [
      "/tmp/ipykernel_2981514/4224850719.py:80: DeprecationWarning: `count` is deprecated. It has been renamed to `len`.\n"
     ]
    },
    {
     "name": "stdout",
     "output_type": "stream",
     "text": [
      "[Parallel(n_jobs=8)]: Done 113 tasks      | elapsed: 93.5min\n"
     ]
    },
    {
     "name": "stderr",
     "output_type": "stream",
     "text": [
      "/tmp/ipykernel_2981514/4224850719.py:80: DeprecationWarning: `count` is deprecated. It has been renamed to `len`.\n"
     ]
    },
    {
     "name": "stdout",
     "output_type": "stream",
     "text": [
      "[Parallel(n_jobs=8)]: Done 114 tasks      | elapsed: 94.0min\n"
     ]
    },
    {
     "name": "stderr",
     "output_type": "stream",
     "text": [
      "/tmp/ipykernel_2981514/4224850719.py:80: DeprecationWarning: `count` is deprecated. It has been renamed to `len`.\n"
     ]
    },
    {
     "name": "stdout",
     "output_type": "stream",
     "text": [
      "[Parallel(n_jobs=8)]: Done 115 tasks      | elapsed: 95.3min\n"
     ]
    },
    {
     "name": "stderr",
     "output_type": "stream",
     "text": [
      "/tmp/ipykernel_2981514/4224850719.py:80: DeprecationWarning: `count` is deprecated. It has been renamed to `len`.\n"
     ]
    },
    {
     "name": "stdout",
     "output_type": "stream",
     "text": [
      "[Parallel(n_jobs=8)]: Done 116 tasks      | elapsed: 95.3min\n"
     ]
    },
    {
     "name": "stderr",
     "output_type": "stream",
     "text": [
      "/tmp/ipykernel_2981514/4224850719.py:80: DeprecationWarning: `count` is deprecated. It has been renamed to `len`.\n"
     ]
    },
    {
     "name": "stdout",
     "output_type": "stream",
     "text": [
      "[Parallel(n_jobs=8)]: Done 117 tasks      | elapsed: 95.5min\n"
     ]
    },
    {
     "name": "stderr",
     "output_type": "stream",
     "text": [
      "/tmp/ipykernel_2981514/4224850719.py:80: DeprecationWarning: `count` is deprecated. It has been renamed to `len`.\n",
      "/tmp/ipykernel_2981514/4224850719.py:80: DeprecationWarning: `count` is deprecated. It has been renamed to `len`.\n",
      "/tmp/ipykernel_2981514/4224850719.py:80: DeprecationWarning: `count` is deprecated. It has been renamed to `len`.\n"
     ]
    },
    {
     "name": "stdout",
     "output_type": "stream",
     "text": [
      "[Parallel(n_jobs=8)]: Done 120 out of 132 | elapsed: 96.0min remaining:  9.6min\n"
     ]
    },
    {
     "name": "stderr",
     "output_type": "stream",
     "text": [
      "/tmp/ipykernel_2981514/4224850719.py:80: DeprecationWarning: `count` is deprecated. It has been renamed to `len`.\n",
      "/tmp/ipykernel_2981514/4224850719.py:80: DeprecationWarning: `count` is deprecated. It has been renamed to `len`.\n",
      "/tmp/ipykernel_2981514/4224850719.py:80: DeprecationWarning: `count` is deprecated. It has been renamed to `len`.\n"
     ]
    },
    {
     "name": "stdout",
     "output_type": "stream",
     "text": [
      "[Parallel(n_jobs=8)]: Done 123 out of 132 | elapsed: 97.0min remaining:  7.1min\n"
     ]
    },
    {
     "name": "stderr",
     "output_type": "stream",
     "text": [
      "/tmp/ipykernel_2981514/4224850719.py:80: DeprecationWarning: `count` is deprecated. It has been renamed to `len`.\n",
      "/tmp/ipykernel_2981514/4224850719.py:80: DeprecationWarning: `count` is deprecated. It has been renamed to `len`.\n",
      "/tmp/ipykernel_2981514/4224850719.py:80: DeprecationWarning: `count` is deprecated. It has been renamed to `len`.\n"
     ]
    },
    {
     "name": "stdout",
     "output_type": "stream",
     "text": [
      "[Parallel(n_jobs=8)]: Done 126 out of 132 | elapsed: 97.1min remaining:  4.6min\n"
     ]
    },
    {
     "name": "stderr",
     "output_type": "stream",
     "text": [
      "/tmp/ipykernel_2981514/4224850719.py:80: DeprecationWarning: `count` is deprecated. It has been renamed to `len`.\n",
      "/tmp/ipykernel_2981514/4224850719.py:80: DeprecationWarning: `count` is deprecated. It has been renamed to `len`.\n",
      "/tmp/ipykernel_2981514/4224850719.py:80: DeprecationWarning: `count` is deprecated. It has been renamed to `len`.\n"
     ]
    },
    {
     "name": "stdout",
     "output_type": "stream",
     "text": [
      "[Parallel(n_jobs=8)]: Done 129 out of 132 | elapsed: 97.5min remaining:  2.3min\n"
     ]
    },
    {
     "name": "stderr",
     "output_type": "stream",
     "text": [
      "/tmp/ipykernel_2981514/4224850719.py:80: DeprecationWarning: `count` is deprecated. It has been renamed to `len`.\n",
      "/tmp/ipykernel_2981514/4224850719.py:80: DeprecationWarning: `count` is deprecated. It has been renamed to `len`.\n",
      "/tmp/ipykernel_2981514/4224850719.py:80: DeprecationWarning: `count` is deprecated. It has been renamed to `len`.\n"
     ]
    },
    {
     "name": "stdout",
     "output_type": "stream",
     "text": [
      "[Parallel(n_jobs=8)]: Done 132 out of 132 | elapsed: 97.8min finished\n",
      "CPU times: user 6.02 s, sys: 2.36 s, total: 8.38 s\n",
      "Wall time: 1h 37min 48s\n"
     ]
    }
   ],
   "source": [
    "%%time \n",
    "# dfs = []\n",
    "# for chrom in aut_chrom_names[1:2]:\n",
    "#     print(chrom)\n",
    "#     dfs.append(do_it_all(focal_sample_id, chrom + \"_RagTag\"))\n",
    "dfs = joblib.Parallel(n_jobs=8, verbose=50)(\n",
    "    joblib.delayed(do_it_all)(focal_sample_id, chrom + \"_RagTag\") \\\n",
    "    for chrom in aut_chrom_names\n",
    "    for focal_sample_id in sudmant_sample_ids\n",
    ")"
   ]
  },
  {
   "cell_type": "code",
   "execution_count": null,
   "id": "4a020412-9350-4841-bd67-a23ec12a20cc",
   "metadata": {},
   "outputs": [],
   "source": []
  },
  {
   "cell_type": "markdown",
   "id": "2dddb00d-0b4c-43f7-93d0-3db153cb920d",
   "metadata": {},
   "source": [
    "# Plotting "
   ]
  },
  {
   "cell_type": "code",
   "execution_count": 7,
   "id": "cec03e39-6b99-4180-a5c4-a0f477f9ec3b",
   "metadata": {
    "tags": []
   },
   "outputs": [],
   "source": [
    "def plot_per_condition(dfs, ax, condition=None):\n",
    "    if condition is None:\n",
    "        condition = pl.lit(True)\n",
    "        \n",
    "    putative_gc_df_hap_cnt = (\n",
    "        pl.concat([x.filter(condition)[[\"qual_rounded\", \"x_vs_y/y\", \"x_vs_y/z\", \"x_vs_y/x\"]] for x in dfs])\n",
    "        .group_by([\"qual_rounded\"])\n",
    "        .agg(pl.col(\"x_vs_y/y\").sum(), pl.col(\"x_vs_y/z\").sum(), pl.col(\"x_vs_y/x\").sum())\n",
    "        .sort(\"qual_rounded\")\n",
    "    )\n",
    "    \n",
    "    import statsmodels.stats.proportion\n",
    "    A = np.cumsum(putative_gc_df_hap_cnt[\"x_vs_y/z\"][::-1])[::-1]\n",
    "    B = np.cumsum(putative_gc_df_hap_cnt[\"x_vs_y/x\"][::-1])[::-1]\n",
    "    p = A / B \n",
    "    lo, hi = statsmodels.stats.proportion.proportion_confint(\n",
    "        A, B,\n",
    "        method=\"beta\", \n",
    "        alpha=0.05\n",
    "    )\n",
    "\n",
    "    ax.errorbar(\n",
    "        x = putative_gc_df_hap_cnt[\"qual_rounded\"],\n",
    "        y = p,\n",
    "        yerr = [p-lo, hi-p],\n",
    "        fmt = '.'\n",
    "    )\n",
    "\n",
    "    ax.axhline(0.01, ls=\"--\", lw=0.5, c=\"black\")\n",
    "    ax.axhline(0.1, ls=\"--\", lw=0.5, c=\"black\")\n",
    "\n",
    "    ax.set_xlabel(\"BQ (lower threshold)\");\n",
    "    ax.set_ylabel(\"Estimated false positive rate\");\n",
    "    ax.set_yscale(\"log\")\n",
    "    #plt.ylim(0.95,1);\n",
    "\n",
    "\n",
    "    \n",
    "    "
   ]
  },
  {
   "cell_type": "markdown",
   "id": "7f371dd5-39d7-46c4-bb6c-25a569e20bcd",
   "metadata": {},
   "source": [
    "## All"
   ]
  },
  {
   "cell_type": "code",
   "execution_count": 8,
   "id": "ba1063d0-503d-45ee-b7a8-0ff2acaddb6f",
   "metadata": {
    "tags": []
   },
   "outputs": [
    {
     "data": {
      "image/png": "[encoded data removed]",
      "text/plain": [
       "<Figure size 600x400 with 1 Axes>"
      ]
     },
     "metadata": {},
     "output_type": "display_data"
    }
   ],
   "source": [
    "fig, ax = plt.subplots(figsize=(6, 4))\n",
    "\n",
    "plot_per_condition(dfs, ax, condition=None)"
   ]
  },
  {
   "cell_type": "markdown",
   "id": "924a1c02-3505-4806-8137-ed2e0f67054f",
   "metadata": {},
   "source": [
    "## Per sample"
   ]
  },
  {
   "cell_type": "code",
   "execution_count": 9,
   "id": "20c8f041-07ee-4e75-8650-64834cc4f104",
   "metadata": {
    "tags": []
   },
   "outputs": [
    {
     "data": {
      "image/png": "[encoded data removed]",
      "text/plain": [
       "<Figure size 1000x800 with 6 Axes>"
      ]
     },
     "metadata": {},
     "output_type": "display_data"
    }
   ],
   "source": [
    "fig, axs = plt.subplots(2, 3, figsize=(10, 8), sharex=True, sharey=True)\n",
    "\n",
    "for i, ax in enumerate(axs.ravel()[:len(sudmant_sample_ids)]):\n",
    "    plot_per_condition(dfs, ax, condition=(pl.col(\"focal_sample_id\") == sudmant_sample_ids[i]))\n",
    "    ax.set_title(sample_id_to_paper_label[sudmant_sample_ids[i]])\n",
    "\n",
    "plt.tight_layout()"
   ]
  },
  {
   "cell_type": "code",
   "execution_count": 10,
   "id": "dcbea18f-6814-40ef-a948-a2e434d53990",
   "metadata": {
    "tags": []
   },
   "outputs": [
    {
     "data": {
      "image/png": "[encoded data removed]",
      "text/plain": [
       "<Figure size 1000x800 with 25 Axes>"
      ]
     },
     "metadata": {},
     "output_type": "display_data"
    }
   ],
   "source": [
    "fig, axs = plt.subplots(5, 5, figsize=(10, 8), sharex=True, sharey=True)\n",
    "\n",
    "for i, ax in enumerate(axs.ravel()[:len(aut_chrom_names)]):\n",
    "    plot_per_condition(dfs, ax, condition=(pl.col(\"chrom\") == aut_chrom_names[i] + \"_RagTag\"))\n",
    "    ax.set_title(aut_chrom_names[i])\n",
    "\n",
    "plt.tight_layout()"
   ]
  },
  {
   "cell_type": "code",
   "execution_count": null,
   "id": "97f3bbb3-f8cd-42df-926d-ce6b9e438ab5",
   "metadata": {},
   "outputs": [],
   "source": []
  },
  {
   "cell_type": "code",
   "execution_count": null,
   "id": "c8937b8e-a61b-4259-a250-96298e3d8e69",
   "metadata": {},
   "outputs": [],
   "source": []
  },
  {
   "cell_type": "code",
   "execution_count": null,
   "id": "55398f11-393c-4af7-b610-1d298d5d3871",
   "metadata": {},
   "outputs": [],
   "source": []
  },
  {
   "cell_type": "code",
   "execution_count": null,
   "id": "466cd207-9a9a-499c-8d0a-9e71fb11193a",
   "metadata": {},
   "outputs": [],
   "source": []
  },
  {
   "cell_type": "markdown",
   "id": "0463a1fe-9365-48e6-9ed0-5e462bab7c64",
   "metadata": {},
   "source": [
    "# Plot it all"
   ]
  },
  {
   "cell_type": "code",
   "execution_count": 11,
   "id": "46ec78e7-3261-4930-bd7b-2d652f9ca843",
   "metadata": {},
   "outputs": [
    {
     "name": "stdout",
     "output_type": "stream",
     "text": [
      "CPU times: user 6.22 ms, sys: 6.81 ms, total: 13 ms\n",
      "Wall time: 12.3 ms\n"
     ]
    }
   ],
   "source": [
    "%%time\n",
    "putative_gc_df_hap_cnt = (\n",
    "    pl.concat([x[[\"qual_rounded\", \"x_vs_y/y\", \"x_vs_y/z\", \"x_vs_y/x\"]] for x in dfs])\n",
    "    .group_by([\"qual_rounded\"])\n",
    "    .agg(pl.col(\"x_vs_y/y\").sum(), pl.col(\"x_vs_y/z\").sum(), pl.col(\"x_vs_y/x\").sum())\n",
    "    .sort(\"qual_rounded\")\n",
    ")\n",
    "\n"
   ]
  },
  {
   "cell_type": "code",
   "execution_count": 12,
   "id": "1af13343-08d7-495d-bf59-aaa2a9eafb6c",
   "metadata": {},
   "outputs": [
    {
     "data": {
      "text/html": [
       "<div><style>\n",
       ".dataframe > thead > tr,\n",
       ".dataframe > tbody > tr {\n",
       "  text-align: right;\n",
       "  white-space: pre-wrap;\n",
       "}\n",
       "</style>\n",
       "<small>shape: (7, 4)</small><table border=\"1\" class=\"dataframe\"><thead><tr><th>qual_rounded</th><th>x_vs_y/y</th><th>x_vs_y/z</th><th>x_vs_y/x</th></tr><tr><td>u8</td><td>u32</td><td>u32</td><td>u32</td></tr></thead><tbody><tr><td>3</td><td>4121941</td><td>6558</td><td>26176</td></tr><tr><td>10</td><td>4258204</td><td>6768</td><td>32969</td></tr><tr><td>17</td><td>2657538</td><td>4223</td><td>26926</td></tr><tr><td>22</td><td>1354088</td><td>2178</td><td>21151</td></tr><tr><td>27</td><td>932753</td><td>1579</td><td>22244</td></tr><tr><td>35</td><td>981097</td><td>1644</td><td>47401</td></tr><tr><td>40</td><td>506977</td><td>1423</td><td>122700</td></tr></tbody></table></div>"
      ],
      "text/plain": [
       "shape: (7, 4)\n",
       "┌──────────────┬──────────┬──────────┬──────────┐\n",
       "│ qual_rounded ┆ x_vs_y/y ┆ x_vs_y/z ┆ x_vs_y/x │\n",
       "│ ---          ┆ ---      ┆ ---      ┆ ---      │\n",
       "│ u8           ┆ u32      ┆ u32      ┆ u32      │\n",
       "╞══════════════╪══════════╪══════════╪══════════╡\n",
       "│ 3            ┆ 4121941  ┆ 6558     ┆ 26176    │\n",
       "│ 10           ┆ 4258204  ┆ 6768     ┆ 32969    │\n",
       "│ 17           ┆ 2657538  ┆ 4223     ┆ 26926    │\n",
       "│ 22           ┆ 1354088  ┆ 2178     ┆ 21151    │\n",
       "│ 27           ┆ 932753   ┆ 1579     ┆ 22244    │\n",
       "│ 35           ┆ 981097   ┆ 1644     ┆ 47401    │\n",
       "│ 40           ┆ 506977   ┆ 1423     ┆ 122700   │\n",
       "└──────────────┴──────────┴──────────┴──────────┘"
      ]
     },
     "metadata": {},
     "output_type": "display_data"
    }
   ],
   "source": [
    "with pl.Config(fmt_str_lengths=50, set_tbl_rows=-1):\n",
    "    display(putative_gc_df_hap_cnt)"
   ]
  },
  {
   "cell_type": "code",
   "execution_count": null,
   "id": "f0064e92-cfab-47c7-901f-d2b3d98b4a18",
   "metadata": {},
   "outputs": [],
   "source": []
  },
  {
   "cell_type": "code",
   "execution_count": null,
   "id": "9702766d-ba6a-4cc4-b31f-6afe16046848",
   "metadata": {},
   "outputs": [],
   "source": [
    "import statsmodels.stats.proportion\n",
    "\n",
    "A = putative_gc_df_hap_cnt[\"x_vs_y/x\"]\n",
    "B = putative_gc_df_hap_cnt[\"x_vs_y/x\"] + putative_gc_df_hap_cnt[\"x_vs_y/z\"] + putative_gc_df_hap_cnt[\"x_vs_y/y\"]\n",
    "p = A / B \n",
    "lo, hi = statsmodels.stats.proportion.proportion_confint(\n",
    "    A, B,\n",
    "    method=\"beta\", \n",
    "    alpha=0.05\n",
    ")\n",
    "\n",
    "plt.errorbar(\n",
    "    x = putative_gc_df_hap_cnt[\"qual_rounded\"],\n",
    "    y = p,\n",
    "    yerr = [p-lo, hi-p],\n",
    "    fmt = '.'\n",
    ")\n",
    "\n",
    "plt.xlabel(\"BQ\");\n",
    "plt.ylabel(\"Frac. of putative GC flipping to other allele\");\n",
    "#plt.ylim(0,1);\n"
   ]
  },
  {
   "cell_type": "code",
   "execution_count": null,
   "id": "298b35e4-8531-47a0-b5fc-d2e95cfcf9c0",
   "metadata": {},
   "outputs": [],
   "source": [
    "import statsmodels.stats.proportion\n",
    "\n",
    "A = putative_gc_df_hap_cnt[\"x_vs_y/x\"]\n",
    "B = putative_gc_df_hap_cnt[\"x_vs_y/x\"] + putative_gc_df_hap_cnt[\"x_vs_y/z\"] \n",
    "p = A / B \n",
    "lo, hi = statsmodels.stats.proportion.proportion_confint(\n",
    "    A, B,\n",
    "    method=\"beta\", \n",
    "    alpha=0.05\n",
    ")\n",
    "\n",
    "plt.errorbar(\n",
    "    x = putative_gc_df_hap_cnt[\"qual_rounded\"],\n",
    "    y = p,\n",
    "    yerr = [p-lo, hi-p],\n",
    "    fmt = '.'\n",
    ")\n",
    "\n",
    "plt.xlabel(\"BQ\");\n",
    "plt.ylabel(\"Frac. of putative GC flipping to other allele\");\n",
    "#plt.ylim(0,1);\n"
   ]
  },
  {
   "cell_type": "code",
   "execution_count": null,
   "id": "e76b8942-b4a3-4984-81b7-f7fc9a272d25",
   "metadata": {},
   "outputs": [],
   "source": [
    "import statsmodels.stats.proportion\n",
    "\n",
    "A = np.cumsum(putative_gc_df_hap_cnt[\"x_vs_y/z\"][::-1])[::-1]\n",
    "B = np.cumsum(putative_gc_df_hap_cnt[\"x_vs_y/x\"][::-1])[::-1]\n",
    "p = A / B \n",
    "lo, hi = statsmodels.stats.proportion.proportion_confint(\n",
    "    A, B,\n",
    "    method=\"beta\", \n",
    "    alpha=0.05\n",
    ")\n",
    "\n",
    "plt.errorbar(\n",
    "    x = putative_gc_df_hap_cnt[\"qual_rounded\"],\n",
    "    y = p,\n",
    "    yerr = [p-lo, hi-p],\n",
    "    fmt = '.'\n",
    ")\n",
    "\n",
    "plt.xlabel(\"BQ, cumulative (>=)\");\n",
    "plt.ylabel(\"Estimated false positive rate\");\n",
    "plt.yscale(\"log\")\n",
    "#plt.ylim(0.95,1);\n"
   ]
  },
  {
   "cell_type": "markdown",
   "id": "53c522ca-61cb-4bbf-9fe7-7a3ef6ca2267",
   "metadata": {},
   "source": [
    "# BQ as distance from start/end of read"
   ]
  },
  {
   "cell_type": "markdown",
   "id": "ff9e2640-49d8-4552-9362-0ff868f05736",
   "metadata": {},
   "source": [
    "## Read length"
   ]
  },
  {
   "cell_type": "code",
   "execution_count": null,
   "id": "258a7444-ab26-4b45-bba8-ce5c68702147",
   "metadata": {},
   "outputs": [],
   "source": [
    "def get_read_lengths(focal_sample_id, denovo_chrom):\n",
    "    filtered_high_conf_mismatches_df = pl.scan_parquet(Path(\"/lustre/scratch126/casm/team154pc/sl17/03.sperm/02.results/01.read_alignment/01.ccs/04.hifiasm/02.hifiasm_0.19.5-r592/02.chromosome_length_scaffolds/\") \\\n",
    "            / f\"{focal_sample_id}\" / \"reads\" / f\"{denovo_chrom}.high_confindence_snps.parquet\")\n",
    "\n",
    "    read_lengths = filtered_high_conf_mismatches_df.unique([\"read_name\"]).select(\"read_length1\")\n",
    "\n",
    "    read_lengths = read_lengths.collect(streaming=True)\n",
    "    \n",
    "    return read_lengths\n"
   ]
  },
  {
   "cell_type": "code",
   "execution_count": null,
   "id": "cef1ff02-e2c9-4296-ade0-931becd2235a",
   "metadata": {},
   "outputs": [],
   "source": []
  },
  {
   "cell_type": "code",
   "execution_count": null,
   "id": "5b03284a-724c-4dbb-890f-523d16b8895d",
   "metadata": {},
   "outputs": [],
   "source": [
    "sample_id = \"PD50477f\"\n",
    "read_lengths = pl.concat([get_read_lengths(sample_id, chrom+\"_RagTag\") for chrom in aut_chrom_names]).to_series(0)\n",
    "plt.title(sample_id)\n",
    "plt.hist(read_lengths, bins=100);\n",
    "plt.xlabel(\"Length in bp\");\n",
    "print(\"Mean:\", read_lengths.mean())\n",
    "print(\"Median:\", read_lengths.median())\n",
    "print(\"SE:\", read_lengths.std())\n",
    "print(\"Quantiles 1%, 5%, 95%, 99%:\", np.quantile(read_lengths, q=[0.01,0.05,0.95,0.99]))"
   ]
  },
  {
   "cell_type": "code",
   "execution_count": null,
   "id": "f1fe0fb7-91b2-4854-a483-ed1cac15dfca",
   "metadata": {},
   "outputs": [],
   "source": [
    "sample_id = \"PD50489e\"\n",
    "read_lengths = pl.concat([get_read_lengths(sample_id, chrom+\"_RagTag\") for chrom in aut_chrom_names]).to_series(0)\n",
    "plt.title(sample_id)\n",
    "plt.hist(read_lengths, bins=100);\n",
    "plt.xlabel(\"Length in bp\");\n",
    "print(\"Mean:\", read_lengths.mean())\n",
    "print(\"Median:\", read_lengths.median())\n",
    "print(\"SE:\", read_lengths.std())\n",
    "print(\"Quantiles 1%, 5%, 95%, 99%:\", np.quantile(read_lengths, q=[0.01,0.05,0.95,0.99]))"
   ]
  },
  {
   "cell_type": "code",
   "execution_count": null,
   "id": "b5bd454a-0b14-4e86-9295-421806d921cf",
   "metadata": {},
   "outputs": [],
   "source": [
    "sample_id = \"PD50521b\"\n",
    "read_lengths = pl.concat([get_read_lengths(sample_id, chrom+\"_RagTag\") for chrom in aut_chrom_names]).to_series(0)\n",
    "plt.title(sample_id)\n",
    "plt.hist(read_lengths, bins=100);\n",
    "plt.xlabel(\"Length in bp\");\n",
    "print(\"Mean:\", read_lengths.mean())\n",
    "print(\"Median:\", read_lengths.median())\n",
    "print(\"SE:\", read_lengths.std())\n",
    "print(\"Quantiles 1%, 5%, 95%, 99%:\", np.quantile(read_lengths, q=[0.01,0.05,0.95,0.99]))"
   ]
  },
  {
   "cell_type": "code",
   "execution_count": null,
   "id": "f618fd14-b012-4be6-89b7-11dcd306db0a",
   "metadata": {},
   "outputs": [],
   "source": [
    "sample_id = \"PD50519d\"\n",
    "read_lengths = pl.concat([get_read_lengths(sample_id, chrom+\"_RagTag\") for chrom in aut_chrom_names]).to_series(0)\n",
    "plt.title(sample_id)\n",
    "plt.hist(read_lengths, bins=100);\n",
    "plt.xlabel(\"Length in bp\");\n",
    "print(\"Mean:\", read_lengths.mean())\n",
    "print(\"Median:\", read_lengths.median())\n",
    "print(\"SE:\", read_lengths.std())\n",
    "print(\"Quantiles 1%, 5%, 95%, 99%:\", np.quantile(read_lengths, q=[0.01,0.05,0.95,0.99]))"
   ]
  },
  {
   "cell_type": "code",
   "execution_count": null,
   "id": "8e145393-c2df-4808-98d7-6a6031a7c14d",
   "metadata": {},
   "outputs": [],
   "source": [
    "sample_id = \"PD50508f\"\n",
    "read_lengths = pl.concat([get_read_lengths(sample_id, chrom+\"_RagTag\") for chrom in aut_chrom_names]).to_series(0)\n",
    "plt.title(sample_id)\n",
    "plt.hist(read_lengths, bins=100);\n",
    "plt.xlabel(\"Length in bp\");\n",
    "print(\"Mean:\", read_lengths.mean())\n",
    "print(\"Median:\", read_lengths.median())\n",
    "print(\"SE:\", read_lengths.std())\n",
    "print(\"Quantiles 1%, 5%, 95%, 99%:\", np.quantile(read_lengths, q=[0.01,0.05,0.95,0.99]))"
   ]
  },
  {
   "cell_type": "code",
   "execution_count": null,
   "id": "4a9e7387-fd64-44cf-bf9b-50518631653d",
   "metadata": {},
   "outputs": [],
   "source": [
    "sample_id = \"PD50523b\"\n",
    "read_lengths = pl.concat([get_read_lengths(sample_id, chrom+\"_RagTag\") for chrom in aut_chrom_names]).to_series(0)\n",
    "plt.title(sample_id)\n",
    "plt.hist(read_lengths, bins=100);\n",
    "plt.xlabel(\"Length in bp\");\n",
    "print(\"Mean:\", read_lengths.mean())\n",
    "print(\"Median:\", read_lengths.median())\n",
    "print(\"SE:\", read_lengths.std())\n",
    "print(\"Quantiles 1%, 5%, 95%, 99%:\", np.quantile(read_lengths, q=[0.01,0.05,0.95,0.99]))"
   ]
  },
  {
   "cell_type": "code",
   "execution_count": null,
   "id": "52de4ef8-31fb-409c-b15c-a06f92e47aa2",
   "metadata": {},
   "outputs": [],
   "source": [
    "sample_id = \"PD46180c\"\n",
    "read_lengths = pl.concat([get_read_lengths(sample_id, chrom+\"_RagTag\") for chrom in aut_chrom_names]).to_series(0)\n",
    "plt.title(sample_id)\n",
    "plt.hist(read_lengths, bins=100);\n",
    "plt.xlabel(\"Length in bp\");\n",
    "print(\"Mean:\", read_lengths.mean())\n",
    "print(\"Median:\", read_lengths.median())\n",
    "print(\"SE:\", read_lengths.std())\n",
    "print(\"Quantiles 1%, 5%, 95%, 99%:\", np.quantile(read_lengths, q=[0.01,0.05,0.95,0.99]))"
   ]
  },
  {
   "cell_type": "code",
   "execution_count": null,
   "id": "77c098e5-7557-4460-a9c5-8f7d5565a2db",
   "metadata": {},
   "outputs": [],
   "source": [
    "sample_id = \"PD50521e\"\n",
    "read_lengths = pl.concat([get_read_lengths(sample_id, chrom+\"_RagTag\") for chrom in aut_chrom_names]).to_series(0)\n",
    "plt.title(sample_id)\n",
    "plt.hist(read_lengths, bins=100);\n",
    "plt.xlabel(\"Length in bp\");\n",
    "print(\"Mean:\", read_lengths.mean())\n",
    "print(\"Median:\", read_lengths.median())\n",
    "print(\"SE:\", read_lengths.std())\n",
    "print(\"Quantiles 1%, 5%, 95%, 99%:\", np.quantile(read_lengths, q=[0.01,0.05,0.95,0.99]))"
   ]
  },
  {
   "cell_type": "code",
   "execution_count": null,
   "id": "0afef058-6d98-41f2-a1dd-4154c3b06e37",
   "metadata": {},
   "outputs": [],
   "source": [
    "sample_id = \"PD50508b\"\n",
    "read_lengths = pl.concat([get_read_lengths(sample_id, chrom+\"_RagTag\") for chrom in aut_chrom_names]).to_series(0)\n",
    "plt.title(sample_id)\n",
    "plt.hist(read_lengths, bins=100);\n",
    "plt.xlabel(\"Length in bp\");\n",
    "print(\"Mean:\", read_lengths.mean())\n",
    "print(\"Median:\", read_lengths.median())\n",
    "print(\"SE:\", read_lengths.std())\n",
    "print(\"Quantiles 1%, 5%, 95%, 99%:\", np.quantile(read_lengths, q=[0.01,0.05,0.95,0.99]))"
   ]
  },
  {
   "cell_type": "code",
   "execution_count": null,
   "id": "0b736706-c10b-46fc-be8c-1b3b6aa4efb4",
   "metadata": {},
   "outputs": [],
   "source": []
  },
  {
   "cell_type": "code",
   "execution_count": null,
   "id": "0fbf9a0f-5af8-4756-a162-a840dbc89c98",
   "metadata": {},
   "outputs": [],
   "source": []
  },
  {
   "cell_type": "code",
   "execution_count": null,
   "id": "b584108e-6da7-40b7-ad64-ccf1505b6422",
   "metadata": {},
   "outputs": [],
   "source": []
  },
  {
   "cell_type": "markdown",
   "id": "85ecf58a-169a-4514-9a39-dbb0350211ea",
   "metadata": {},
   "source": [
    "## Errors at read ends"
   ]
  },
  {
   "cell_type": "code",
   "execution_count": null,
   "id": "1dc43427-13ab-4873-bbfe-5a0baba2c0da",
   "metadata": {},
   "outputs": [],
   "source": [
    "def do_it_all_start(focal_sample_id, denovo_chrom):\n",
    "    filtered_high_conf_mismatches_df = pl.scan_parquet(Path(\"/lustre/scratch126/casm/team154pc/sl17/03.sperm/02.results/01.read_alignment/01.ccs/04.hifiasm/02.hifiasm_0.19.5-r592/02.chromosome_length_scaffolds/\") \\\n",
    "        / f\"{focal_sample_id}\" / \"reads\" / f\"{denovo_chrom}.high_confindence_snps.parquet\")\n",
    "    \n",
    "    \n",
    "    filtered_high_conf_mismatches_df = diagnostics.add_high_confidence_annotation(\n",
    "        filtered_high_conf_mismatches_df,\n",
    "        base_qual_min = 0, # Don't filter on this just yet\n",
    "    )\n",
    "    \n",
    "    filtered_high_conf_mismatches_df = filtered_high_conf_mismatches_df.filter(\"is_high_conf_event\")\n",
    "    \n",
    "    filtered_high_conf_mismatches_df = filtered_high_conf_mismatches_df.collect(streaming=True)\n",
    "    \n",
    "    #\n",
    "    # 3. Find mismatches supported by flanking high conf SNPs (putative GC)\n",
    "    #\n",
    "    def F(df):\n",
    "        df = (df\n",
    "            .with_columns(\n",
    "                pl.col(\"fits1\").cum_sum().alias(\"fits1_before\"),\n",
    "                pl.col(\"fits1\").cum_sum(reverse=True).alias(\"fits1_after\"),\n",
    "                pl.col(\"fits2\").cum_sum().alias(\"fits2_before\"),\n",
    "                pl.col(\"fits2\").cum_sum(reverse=True).alias(\"fits2_after\"),\n",
    "                pl.col(\"start\").cum_count().alias(\"snp_index\"),\n",
    "                pl.col(\"start\").cum_count(reverse=True).alias(\"snp_rev_index\"),\n",
    "            )\n",
    "        )\n",
    "        return df\n",
    "\n",
    "    min_mapq = 93\n",
    "    context_df = (filtered_high_conf_mismatches_df\n",
    "        .filter((pl.col(\"qual_start1\") >= min_mapq) & (pl.col(\"qual_start2\") >= min_mapq))\n",
    "        .with_columns(\n",
    "            (pl.col(\"op1\") == 7).alias(\"fits1\").cast(int),\n",
    "            (pl.col(\"op2\") == 7).alias(\"fits2\").cast(int),\n",
    "        )\n",
    "        .sort(\"start\")\n",
    "        .group_by(\"read_name\")    \n",
    "        .map_groups(F)\n",
    "    )\n",
    "\n",
    "    #\n",
    "    # 4. Calculate stats\n",
    "    # \n",
    "    flanking = 3       # including itself, if it fits\n",
    "\n",
    "    # Filter for putative GC events\n",
    "    putative_gc_df_hap = pl.concat(\n",
    "        [\n",
    "            (context_df\n",
    "                .filter((pl.col(\"op1\") == 8) & (pl.col(\"snp_index\") == 0) & (pl.col(\"fits1_after\") >= flanking))\n",
    "                .with_columns((pl.col(\"op2\") == 7).alias(\"other_op_equal\"))\n",
    "                .with_columns(pl.col(\"start\").alias(\"dist_from_end\"))\n",
    "            ),\n",
    "            (context_df\n",
    "                .filter((pl.col(\"op1\") == 8) & (pl.col(\"snp_rev_index\") == 0) & (pl.col(\"fits1_before\") >= flanking))\n",
    "                .with_columns((pl.col(\"op2\") == 7).alias(\"other_op_equal\"))\n",
    "                .with_columns((pl.col(\"read_length1\") - pl.col(\"end\")).alias(\"dist_from_end\"))\n",
    "            ),\n",
    "            (context_df\n",
    "                .filter((pl.col(\"op2\") == 8) & (pl.col(\"snp_index\") == 0) & (pl.col(\"fits2_after\") >= flanking))\n",
    "                .with_columns((pl.col(\"op1\") == 7).alias(\"other_op_equal\"))\n",
    "                .with_columns(pl.col(\"start\").alias(\"dist_from_end\"))\n",
    "            ),\n",
    "            (context_df\n",
    "                .filter((pl.col(\"op2\") == 8) & (pl.col(\"snp_rev_index\") == 0) & (pl.col(\"fits2_before\") >= flanking))\n",
    "                .with_columns((pl.col(\"op1\") == 7).alias(\"other_op_equal\"))\n",
    "                .with_columns((pl.col(\"read_length2\") - pl.col(\"end\")).alias(\"dist_from_end\"))\n",
    "            ),\n",
    "        ]\n",
    "    )\n",
    "\n",
    "    # Mark where there are two different SNPs\n",
    "    putative_gc_df_hap = (putative_gc_df_hap\n",
    "        .with_columns((pl.col(\"refseq_start1\") != pl.col(\"refseq_start2\")).alias(\"diff_in_haplotypes\"))\n",
    "    )\n",
    "\n",
    "    # Make the three categories\n",
    "    putative_gc_df_hap = (putative_gc_df_hap\n",
    "        .with_columns(\n",
    "            pl.when(pl.col('diff_in_haplotypes') & pl.col(\"other_op_equal\")).then(pl.lit(\"x_vs_y/x\"))\n",
    "              .when(pl.col('diff_in_haplotypes') & ~pl.col(\"other_op_equal\")).then(pl.lit(\"x_vs_y/z\"))\n",
    "              .when(~pl.col('diff_in_haplotypes') & ~pl.col(\"other_op_equal\")).then(pl.lit(\"x_vs_y/y\"))\n",
    "              .otherwise(pl.lit(\"x_vs_x/x\"))\n",
    "              .alias('category')\n",
    "        )\n",
    "    )\n",
    "    \n",
    "    to_round = 50\n",
    "    putative_gc_df_hap_cnt = (putative_gc_df_hap\n",
    "        .with_columns(\n",
    "            (pl.col(\"dist_from_end\") // to_round * to_round).alias(\"dist_from_end_rounded\"),\n",
    "        )\n",
    "        .group_by([\"dist_from_end_rounded\", \"category\"])\n",
    "        .count()\n",
    "        .pivot(\n",
    "            values=[\"count\"],\n",
    "            index=[\"dist_from_end_rounded\"],\n",
    "            columns=[\"category\"],\n",
    "            aggregate_function=\"sum\",\n",
    "        )\n",
    "        .fill_null(0)\n",
    "        .sort(\"dist_from_end_rounded\")\n",
    "        .with_columns(\n",
    "            pl.lit(focal_sample_id).alias(\"focal_sample_id\"),\n",
    "            pl.lit(denovo_chrom).alias(\"chrom\"),\n",
    "        )\n",
    "    )\n",
    "    \n",
    "    return putative_gc_df_hap_cnt"
   ]
  },
  {
   "cell_type": "code",
   "execution_count": null,
   "id": "360625d6-8d69-4241-ac5e-19c8eef23b7b",
   "metadata": {},
   "outputs": [],
   "source": [
    "%%time \n",
    "startdfs = joblib.Parallel(n_jobs=4, verbose=50)(\n",
    "    joblib.delayed(do_it_all_start)(focal_sample_id, chrom + \"_RagTag\") for chrom in aut_chrom_names\n",
    ")"
   ]
  },
  {
   "cell_type": "code",
   "execution_count": null,
   "id": "2d54aaa4-6660-4688-bb47-39800e7cc3d1",
   "metadata": {},
   "outputs": [],
   "source": [
    "for i in range(len(startdfs)):\n",
    "    if \"x_vs_y/z\" not in startdfs[i].columns:\n",
    "        startdfs[i] = startdfs[i].with_columns(pl.lit(0).alias(\"x_vs_y/z\"))"
   ]
  },
  {
   "cell_type": "code",
   "execution_count": null,
   "id": "fa50e21e-50c9-4b58-9974-db84d55c2b2f",
   "metadata": {},
   "outputs": [],
   "source": [
    "%%time\n",
    "putative_gc_df_hap_cnt = (\n",
    "    pl.concat([x[[\"dist_from_end_rounded\", \"x_vs_y/y\", \"x_vs_y/x\", \"x_vs_y/z\"]] for x in startdfs], how=\"vertical_relaxed\")\n",
    "    .group_by([\"dist_from_end_rounded\"])\n",
    "    .agg(pl.col(\"x_vs_y/y\").sum(), pl.col(\"x_vs_y/x\").sum(), pl.col(\"x_vs_y/z\").sum())\n",
    "    .sort(\"dist_from_end_rounded\")\n",
    ")\n",
    "\n"
   ]
  },
  {
   "cell_type": "code",
   "execution_count": null,
   "id": "7f647328-a21b-4344-86e4-43dd0a3040a6",
   "metadata": {},
   "outputs": [],
   "source": []
  },
  {
   "cell_type": "code",
   "execution_count": null,
   "id": "4394c790-23f7-45a8-8ff5-05f057bc761f",
   "metadata": {},
   "outputs": [],
   "source": [
    "import statsmodels.stats.proportion\n",
    "\n",
    "plt.plot(\n",
    "    putative_gc_df_hap_cnt[\"dist_from_end_rounded\"],\n",
    "    putative_gc_df_hap_cnt[\"x_vs_y/y\"],\n",
    "    '.',\n",
    "    ms=5,\n",
    "    label=\"x vs. y/y\",\n",
    ")\n",
    "\n",
    "plt.plot(\n",
    "    putative_gc_df_hap_cnt[\"dist_from_end_rounded\"],\n",
    "    putative_gc_df_hap_cnt[\"x_vs_y/x\"],\n",
    "    '.',\n",
    "    ms=5,\n",
    "    label=\"x vs. y/x\",\n",
    ")\n",
    "\n",
    "plt.plot(\n",
    "    putative_gc_df_hap_cnt[\"dist_from_end_rounded\"],\n",
    "    putative_gc_df_hap_cnt[\"x_vs_y/z\"],\n",
    "    '.',\n",
    "    ms=5,\n",
    "    label=\"x vs. y/z\",\n",
    ")\n",
    "\n",
    "\n",
    "plt.xlabel(\"Distance from read end (bp)\");\n",
    "plt.ylabel(\"# of events\");\n",
    "#plt.yscale(\"log\")\n",
    "plt.xlim(-100, 3100);\n",
    "plt.legend();\n"
   ]
  },
  {
   "cell_type": "code",
   "execution_count": null,
   "id": "42f8d13b-d736-46eb-860f-e83b26376691",
   "metadata": {},
   "outputs": [],
   "source": [
    "# Sample data (replace this with your matrix)\n",
    "data = np.array([\n",
    "    putative_gc_df_hap_cnt[\"x_vs_y/y\"],\n",
    "    putative_gc_df_hap_cnt[\"x_vs_y/x\"],\n",
    "    putative_gc_df_hap_cnt[\"x_vs_y/z\"]\n",
    "]).T.astype(float)\n",
    "\n",
    "data /= data.sum(axis=1)[:,np.newaxis]\n",
    "\n",
    "# Number of rows and columns in the matrix\n",
    "num_rows, num_cols = data.shape\n",
    "\n",
    "# # Initialize a color map for better visualization\n",
    "# colors = plt.cm.viridis(np.linspace(0, 1, num_cols))\n",
    "\n",
    "# Plotting the stacked bars\n",
    "fig, ax = plt.subplots()\n",
    "\n",
    "for i in range(num_cols):\n",
    "    bottom = np.sum(data[:,:i], axis=1)\n",
    "    ax.bar(putative_gc_df_hap_cnt[\"dist_from_end_rounded\"].to_numpy(), data[:,i], bottom=bottom, width=50)\n",
    "    \n",
    "\n",
    "# Adding labels and legend\n",
    "ax.legend([\"x_vs_y/y\", \"x_vs_y/x\", \"x_vs_y/z\"])\n",
    "ax.set_xlim(-100,3100);\n",
    "\n",
    "# Show the plot\n",
    "plt.show()\n"
   ]
  },
  {
   "cell_type": "code",
   "execution_count": null,
   "id": "efb5f361-8140-44e5-abb6-d52e9765615a",
   "metadata": {},
   "outputs": [],
   "source": []
  },
  {
   "cell_type": "code",
   "execution_count": null,
   "id": "1e7730de-b751-42b2-a44c-c95b14e62565",
   "metadata": {},
   "outputs": [],
   "source": []
  },
  {
   "cell_type": "code",
   "execution_count": null,
   "id": "695d6bf4-074e-43f8-a18c-48626839ae4e",
   "metadata": {},
   "outputs": [],
   "source": []
  },
  {
   "cell_type": "code",
   "execution_count": null,
   "id": "7a597e14-3032-40b5-aa93-f1a039ec6b19",
   "metadata": {},
   "outputs": [],
   "source": [
    "import statsmodels.stats.proportion\n",
    "\n",
    "A = np.cumsum(putative_gc_df_hap_cnt[\"x_vs_y/z\"])\n",
    "B = np.cumsum(putative_gc_df_hap_cnt[\"x_vs_y/x\"])\n",
    "p = A / B \n",
    "lo, hi = statsmodels.stats.proportion.proportion_confint(\n",
    "    A, B,\n",
    "    method=\"beta\", \n",
    "    alpha=0.05\n",
    ")\n",
    "\n",
    "plt.errorbar(\n",
    "    x = putative_gc_df_hap_cnt[\"dist_from_end_rounded\"],\n",
    "    y = p,\n",
    "    yerr = [p-lo, hi-p],\n",
    "    fmt = '.'\n",
    ")\n",
    "\n",
    "plt.xlabel(\"dist, cumulative (<=)\");\n",
    "plt.ylabel(\"Estimated false positive rate\");\n",
    "plt.yscale(\"log\")\n",
    "plt.xlim(-100, 3100);\n"
   ]
  },
  {
   "cell_type": "code",
   "execution_count": null,
   "id": "878728de-dc47-43ce-a2ce-eb0d02fd4df2",
   "metadata": {},
   "outputs": [],
   "source": []
  }
 ],
 "metadata": {
  "kernelspec": {
   "display_name": "sperm",
   "language": "python",
   "name": "sperm"
  },
  "language_info": {
   "codemirror_mode": {
    "name": "ipython",
    "version": 3
   },
   "file_extension": ".py",
   "mimetype": "text/x-python",
   "name": "python",
   "nbconvert_exporter": "python",
   "pygments_lexer": "ipython3",
   "version": "3.11.6"
  }
 },
 "nbformat": 4,
 "nbformat_minor": 5
}
