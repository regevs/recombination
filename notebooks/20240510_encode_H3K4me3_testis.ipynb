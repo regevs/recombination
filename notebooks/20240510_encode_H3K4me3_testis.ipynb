{
 "cells": [
  {
   "cell_type": "code",
   "execution_count": 1,
   "id": "744cac1d-3c5e-4963-877f-02fa65b742ce",
   "metadata": {},
   "outputs": [],
   "source": [
    "%load_ext autoreload\n",
    "%autoreload 2"
   ]
  },
  {
   "cell_type": "code",
   "execution_count": 2,
   "id": "4633be77-5be3-453d-9a03-7feb1feed208",
   "metadata": {},
   "outputs": [],
   "source": [
    "import numpy as np\n",
    "import pandas as pd\n",
    "import matplotlib as mpl\n",
    "import matplotlib.pyplot as plt\n",
    "import matplotlib.ticker as ticker\n",
    "import matplotlib.patches as patches\n",
    "\n",
    "from pathlib import Path\n",
    "import tqdm\n",
    "import sys\n",
    "import seaborn as sns\n",
    "import scipy.stats\n",
    "import os\n",
    "import joblib\n",
    "\n",
    "import polars as pl\n",
    "pl.Config.set_tbl_rows(-1);\n",
    "pl.Config.set_fmt_str_lengths(50);\n"
   ]
  },
  {
   "cell_type": "code",
   "execution_count": 3,
   "id": "f1bf474a-d25b-44b2-bf0e-81afc431345f",
   "metadata": {
    "tags": []
   },
   "outputs": [],
   "source": [
    "# This is needed before pybedtools to make sure bedtools is imported on sanger JupyterHub \n",
    "os.environ[\"PATH\"] += \":\" + os.path.join(sys.prefix, \"bin\")\n",
    "import pybedtools\n"
   ]
  },
  {
   "cell_type": "code",
   "execution_count": 4,
   "id": "183282bb-9559-4d31-9aef-4ffec608e548",
   "metadata": {},
   "outputs": [],
   "source": [
    "sys.path.append(str(Path(os.getcwd()).parent))\n",
    "from src import liftover, annotate, diagnostics, inference\n",
    "from src.IDs import *"
   ]
  },
  {
   "cell_type": "code",
   "execution_count": null,
   "id": "3477581c-3b15-40e1-9ed6-40e3bbfdf5db",
   "metadata": {},
   "outputs": [],
   "source": []
  },
  {
   "cell_type": "code",
   "execution_count": null,
   "id": "c26fd3a2-6eb9-4543-84cf-e2b4856fd930",
   "metadata": {},
   "outputs": [],
   "source": []
  },
  {
   "cell_type": "code",
   "execution_count": 75,
   "id": "af4585ec-83b1-4631-b6f2-223e35ffd172",
   "metadata": {},
   "outputs": [
    {
     "name": "stderr",
     "output_type": "stream",
     "text": [
      "100%|██████████| 9/9 [00:03<00:00,  2.95it/s]"
     ]
    },
    {
     "name": "stdout",
     "output_type": "stream",
     "text": [
      "CPU times: user 148 ms, sys: 150 ms, total: 298 ms\n",
      "Wall time: 3.07 s\n"
     ]
    },
    {
     "name": "stderr",
     "output_type": "stream",
     "text": [
      "\n"
     ]
    }
   ],
   "source": [
    "%%time\n",
    "reads_df = pl.concat([\n",
    "    pl.scan_parquet(\n",
    "        f\"/lustre/scratch126/casm/team154pc/sl17/03.sperm/02.results/01.read_alignment/01.ccs/04.hifiasm/02.hifiasm_0.19.5-r592/02.chromosome_length_scaffolds/{focal_sample_id}/reads/{chrom}_RagTag.certainty_0.95.all_reads_structure_annotated.parquet\"\n",
    "    ) \n",
    "    for focal_sample_id in tqdm.tqdm(sample_ids)\n",
    "    for chrom in aut_chrom_names\n",
    "])"
   ]
  },
  {
   "cell_type": "markdown",
   "id": "a8b485b2-a870-4ff3-8633-949a51fd1a51",
   "metadata": {},
   "source": [
    "## Subset of reads with at least 4 SNPs (only four because we focus on COs)"
   ]
  },
  {
   "cell_type": "code",
   "execution_count": 80,
   "id": "29c60138-7f05-4935-88c7-ee31d20b3a90",
   "metadata": {},
   "outputs": [
    {
     "name": "stdout",
     "output_type": "stream",
     "text": [
      "CPU times: user 776 ms, sys: 172 ms, total: 948 ms\n",
      "Wall time: 425 ms\n"
     ]
    }
   ],
   "source": [
    "%%time\n",
    "test_df = (reads_df\n",
    "    .select(\n",
    "        'read_name',\n",
    "        'chrom',\n",
    "        'sample_id',\n",
    "        'grch37_reference_start',\n",
    "        'grch37_reference_end', \n",
    "        \"grch37_chromosome_size_in_bp\",\n",
    "        \"mid_quality_snp_positions\",\n",
    "        \"between_mid_quality_snps_cM\",\n",
    "        \"before_read_cM\",\n",
    "        \"after_read_cM\",\n",
    "        \"idx_transitions\",\n",
    "    )\n",
    "    .filter(\n",
    "        pl.col(\"grch37_reference_start\").is_not_null() & \\\n",
    "        pl.col(\"grch37_reference_end\").is_not_null()\n",
    "    )\n",
    "    .head(500)\n",
    "    .collect()\n",
    ")"
   ]
  },
  {
   "cell_type": "code",
   "execution_count": 42,
   "id": "851d283d-b9ff-4909-b720-d8afafd28eb4",
   "metadata": {
    "tags": []
   },
   "outputs": [],
   "source": [
    "rate_map = annotate.rate_maps[\"chr1\"]"
   ]
  },
  {
   "cell_type": "code",
   "execution_count": null,
   "id": "84265934-3d5c-4c2e-92b4-ed0eeaa76127",
   "metadata": {},
   "outputs": [],
   "source": []
  },
  {
   "cell_type": "code",
   "execution_count": 81,
   "id": "0a1a69fd-91f6-4236-ac94-141b07054a65",
   "metadata": {
    "tags": []
   },
   "outputs": [
    {
     "data": {
      "text/html": [
       "<div><style>\n",
       ".dataframe > thead > tr,\n",
       ".dataframe > tbody > tr {\n",
       "  text-align: right;\n",
       "  white-space: pre-wrap;\n",
       "}\n",
       "</style>\n",
       "<small>shape: (10, 11)</small><table border=\"1\" class=\"dataframe\"><thead><tr><th>read_name</th><th>chrom</th><th>sample_id</th><th>grch37_reference_start</th><th>grch37_reference_end</th><th>grch37_chromosome_size_in_bp</th><th>mid_quality_snp_positions</th><th>between_mid_quality_snps_cM</th><th>before_read_cM</th><th>after_read_cM</th><th>idx_transitions</th></tr><tr><td>str</td><td>str</td><td>str</td><td>i64</td><td>i64</td><td>i32</td><td>list[i64]</td><td>list[f64]</td><td>f64</td><td>f64</td><td>list[i64]</td></tr></thead><tbody><tr><td>&quot;m64178e_220829_002441/31917701/ccs&quot;</td><td>&quot;chr1&quot;</td><td>&quot;PD50477f&quot;</td><td>57080451</td><td>57096052</td><td>249250621</td><td>[]</td><td>null</td><td>0.000202</td><td>0.000112</td><td>null</td></tr><tr><td>&quot;m64230e_220906_003948/8128517/ccs&quot;</td><td>&quot;chr1&quot;</td><td>&quot;PD50477f&quot;</td><td>55655495</td><td>55673769</td><td>249250621</td><td>[]</td><td>null</td><td>0.000625</td><td>0.000751</td><td>null</td></tr><tr><td>&quot;m64230e_220906_003948/107806804/ccs&quot;</td><td>&quot;chr1&quot;</td><td>&quot;PD50477f&quot;</td><td>42122479</td><td>42134593</td><td>249250621</td><td>[]</td><td>null</td><td>0.000329</td><td>0.000161</td><td>null</td></tr><tr><td>&quot;m64230e_220906_003948/27853954/ccs&quot;</td><td>&quot;chr1&quot;</td><td>&quot;PD50477f&quot;</td><td>85897457</td><td>85911642</td><td>249250621</td><td>[703, 1004, … 13494]</td><td>[0.000009, 0.000004, … 0.00001]</td><td>0.000656</td><td>0.000105</td><td>null</td></tr><tr><td>&quot;m64094e_220917_231317/171508784/ccs&quot;</td><td>&quot;chr1&quot;</td><td>&quot;PD50477f&quot;</td><td>227673258</td><td>227687338</td><td>249250621</td><td>[10689]</td><td>[0.003215, 0.00101]</td><td>0.000815</td><td>0.011108</td><td>null</td></tr><tr><td>&quot;m64230e_220906_003948/53085521/ccs&quot;</td><td>&quot;chr1&quot;</td><td>&quot;PD50477f&quot;</td><td>21270608</td><td>21282758</td><td>249250621</td><td>[4791, 11214]</td><td>[0.000082, 0.000066, 0.000008]</td><td>0.000793</td><td>0.000041</td><td>null</td></tr><tr><td>&quot;m64178e_220829_002441/59771296/ccs&quot;</td><td>&quot;chr1&quot;</td><td>&quot;PD50477f&quot;</td><td>57237238</td><td>57250383</td><td>249250621</td><td>[1285, 3981, … 10668]</td><td>[0.000428, 0.00188, … 0.000697]</td><td>0.000893</td><td>0.044708</td><td>null</td></tr><tr><td>&quot;m64178e_220829_002441/51513292/ccs&quot;</td><td>&quot;chr1&quot;</td><td>&quot;PD50477f&quot;</td><td>208895949</td><td>208911281</td><td>249250621</td><td>[]</td><td>null</td><td>0.00012</td><td>0.003563</td><td>null</td></tr><tr><td>&quot;m64094e_220917_231317/95814353/ccs&quot;</td><td>&quot;chr1&quot;</td><td>&quot;PD50477f&quot;</td><td>50422570</td><td>50433494</td><td>249250621</td><td>[10352]</td><td>[0.000415, 0.000031]</td><td>0.000089</td><td>0.00027</td><td>null</td></tr><tr><td>&quot;m64178e_220829_002441/78972673/ccs&quot;</td><td>&quot;chr1&quot;</td><td>&quot;PD50477f&quot;</td><td>230380596</td><td>230395375</td><td>249250621</td><td>[2663, 2924, … 11950]</td><td>[0.000021, 0.000002, … 0.00004]</td><td>0.00004</td><td>0.000105</td><td>null</td></tr></tbody></table></div>"
      ],
      "text/plain": [
       "shape: (10, 11)\n",
       "┌────────────┬───────┬───────────┬────────────┬───┬────────────┬───────────┬───────────┬───────────┐\n",
       "│ read_name  ┆ chrom ┆ sample_id ┆ grch37_ref ┆ … ┆ between_mi ┆ before_re ┆ after_rea ┆ idx_trans │\n",
       "│ ---        ┆ ---   ┆ ---       ┆ erence_sta ┆   ┆ d_quality_ ┆ ad_cM     ┆ d_cM      ┆ itions    │\n",
       "│ str        ┆ str   ┆ str       ┆ rt         ┆   ┆ snps_cM    ┆ ---       ┆ ---       ┆ ---       │\n",
       "│            ┆       ┆           ┆ ---        ┆   ┆ ---        ┆ f64       ┆ f64       ┆ list[i64] │\n",
       "│            ┆       ┆           ┆ i64        ┆   ┆ list[f64]  ┆           ┆           ┆           │\n",
       "╞════════════╪═══════╪═══════════╪════════════╪═══╪════════════╪═══════════╪═══════════╪═══════════╡\n",
       "│ m64178e_22 ┆ chr1  ┆ PD50477f  ┆ 57080451   ┆ … ┆ null       ┆ 0.000202  ┆ 0.000112  ┆ null      │\n",
       "│ 0829_00244 ┆       ┆           ┆            ┆   ┆            ┆           ┆           ┆           │\n",
       "│ 1/31917701 ┆       ┆           ┆            ┆   ┆            ┆           ┆           ┆           │\n",
       "│ /ccs       ┆       ┆           ┆            ┆   ┆            ┆           ┆           ┆           │\n",
       "│ m64230e_22 ┆ chr1  ┆ PD50477f  ┆ 55655495   ┆ … ┆ null       ┆ 0.000625  ┆ 0.000751  ┆ null      │\n",
       "│ 0906_00394 ┆       ┆           ┆            ┆   ┆            ┆           ┆           ┆           │\n",
       "│ 8/8128517/ ┆       ┆           ┆            ┆   ┆            ┆           ┆           ┆           │\n",
       "│ ccs        ┆       ┆           ┆            ┆   ┆            ┆           ┆           ┆           │\n",
       "│ m64230e_22 ┆ chr1  ┆ PD50477f  ┆ 42122479   ┆ … ┆ null       ┆ 0.000329  ┆ 0.000161  ┆ null      │\n",
       "│ 0906_00394 ┆       ┆           ┆            ┆   ┆            ┆           ┆           ┆           │\n",
       "│ 8/10780680 ┆       ┆           ┆            ┆   ┆            ┆           ┆           ┆           │\n",
       "│ 4/ccs      ┆       ┆           ┆            ┆   ┆            ┆           ┆           ┆           │\n",
       "│ m64230e_22 ┆ chr1  ┆ PD50477f  ┆ 85897457   ┆ … ┆ [0.000009, ┆ 0.000656  ┆ 0.000105  ┆ null      │\n",
       "│ 0906_00394 ┆       ┆           ┆            ┆   ┆ 0.000004,  ┆           ┆           ┆           │\n",
       "│ 8/27853954 ┆       ┆           ┆            ┆   ┆ … 0.00001] ┆           ┆           ┆           │\n",
       "│ /ccs       ┆       ┆           ┆            ┆   ┆            ┆           ┆           ┆           │\n",
       "│ m64094e_22 ┆ chr1  ┆ PD50477f  ┆ 227673258  ┆ … ┆ [0.003215, ┆ 0.000815  ┆ 0.011108  ┆ null      │\n",
       "│ 0917_23131 ┆       ┆           ┆            ┆   ┆ 0.00101]   ┆           ┆           ┆           │\n",
       "│ 7/17150878 ┆       ┆           ┆            ┆   ┆            ┆           ┆           ┆           │\n",
       "│ 4/ccs      ┆       ┆           ┆            ┆   ┆            ┆           ┆           ┆           │\n",
       "│ m64230e_22 ┆ chr1  ┆ PD50477f  ┆ 21270608   ┆ … ┆ [0.000082, ┆ 0.000793  ┆ 0.000041  ┆ null      │\n",
       "│ 0906_00394 ┆       ┆           ┆            ┆   ┆ 0.000066,  ┆           ┆           ┆           │\n",
       "│ 8/53085521 ┆       ┆           ┆            ┆   ┆ 0.000008]  ┆           ┆           ┆           │\n",
       "│ /ccs       ┆       ┆           ┆            ┆   ┆            ┆           ┆           ┆           │\n",
       "│ m64178e_22 ┆ chr1  ┆ PD50477f  ┆ 57237238   ┆ … ┆ [0.000428, ┆ 0.000893  ┆ 0.044708  ┆ null      │\n",
       "│ 0829_00244 ┆       ┆           ┆            ┆   ┆ 0.00188, … ┆           ┆           ┆           │\n",
       "│ 1/59771296 ┆       ┆           ┆            ┆   ┆ 0.000697]  ┆           ┆           ┆           │\n",
       "│ /ccs       ┆       ┆           ┆            ┆   ┆            ┆           ┆           ┆           │\n",
       "│ m64178e_22 ┆ chr1  ┆ PD50477f  ┆ 208895949  ┆ … ┆ null       ┆ 0.00012   ┆ 0.003563  ┆ null      │\n",
       "│ 0829_00244 ┆       ┆           ┆            ┆   ┆            ┆           ┆           ┆           │\n",
       "│ 1/51513292 ┆       ┆           ┆            ┆   ┆            ┆           ┆           ┆           │\n",
       "│ /ccs       ┆       ┆           ┆            ┆   ┆            ┆           ┆           ┆           │\n",
       "│ m64094e_22 ┆ chr1  ┆ PD50477f  ┆ 50422570   ┆ … ┆ [0.000415, ┆ 0.000089  ┆ 0.00027   ┆ null      │\n",
       "│ 0917_23131 ┆       ┆           ┆            ┆   ┆ 0.000031]  ┆           ┆           ┆           │\n",
       "│ 7/95814353 ┆       ┆           ┆            ┆   ┆            ┆           ┆           ┆           │\n",
       "│ /ccs       ┆       ┆           ┆            ┆   ┆            ┆           ┆           ┆           │\n",
       "│ m64178e_22 ┆ chr1  ┆ PD50477f  ┆ 230380596  ┆ … ┆ [0.000021, ┆ 0.00004   ┆ 0.000105  ┆ null      │\n",
       "│ 0829_00244 ┆       ┆           ┆            ┆   ┆ 0.000002,  ┆           ┆           ┆           │\n",
       "│ 1/78972673 ┆       ┆           ┆            ┆   ┆ … 0.00004] ┆           ┆           ┆           │\n",
       "│ /ccs       ┆       ┆           ┆            ┆   ┆            ┆           ┆           ┆           │\n",
       "└────────────┴───────┴───────────┴────────────┴───┴────────────┴───────────┴───────────┴───────────┘"
      ]
     },
     "execution_count": 81,
     "metadata": {},
     "output_type": "execute_result"
    }
   ],
   "source": [
    "test_df.head(10)"
   ]
  },
  {
   "cell_type": "code",
   "execution_count": null,
   "id": "496a2c25-9a7c-45c2-bc19-f623aa050783",
   "metadata": {},
   "outputs": [],
   "source": []
  },
  {
   "cell_type": "code",
   "execution_count": 21,
   "id": "91c41a8b-7d53-472e-a6b6-7f3e17c6e18d",
   "metadata": {
    "tags": []
   },
   "outputs": [],
   "source": [
    "values = np.concatenate(test_df[\"mid_quality_snp_positions\"].to_numpy())"
   ]
  },
  {
   "cell_type": "code",
   "execution_count": 23,
   "id": "8b0c97a4-52bd-4f5b-a89e-d9d8d70728ff",
   "metadata": {
    "tags": []
   },
   "outputs": [
    {
     "data": {
      "text/plain": [
       "4340"
      ]
     },
     "execution_count": 23,
     "metadata": {},
     "output_type": "execute_result"
    }
   ],
   "source": [
    "len(values)"
   ]
  },
  {
   "cell_type": "code",
   "execution_count": 11,
   "id": "1575c832-14a7-49a0-b8e8-b89fb4824ead",
   "metadata": {},
   "outputs": [],
   "source": [
    "lens = test_df.select(pl.col(\"mid_quality_snp_positions\").list.len()).to_numpy().ravel()"
   ]
  },
  {
   "cell_type": "code",
   "execution_count": 40,
   "id": "34bf87d3-61a3-4462-8bf8-1e97286c18ff",
   "metadata": {
    "tags": []
   },
   "outputs": [
    {
     "data": {
      "text/plain": [
       "array([array([], dtype=int64), array([], dtype=int64),\n",
       "       array([], dtype=int64),\n",
       "       array([  703,  1004,  1671,  1758,  1971,  3269,  3851,  3909,  4140,\n",
       "               4587,  7526,  8926,  9356, 10169, 11192, 11327, 11753, 13320,\n",
       "              13436, 13494])                                                ,\n",
       "       array([10689]), array([ 4791, 11214]),\n",
       "       array([ 1285,  3981,  5372,  5683,  5852,  6280,  6680,  8657,  8840,\n",
       "               8947,  9050,  9355, 10668])                                  ,\n",
       "       array([], dtype=int64), array([10352]),\n",
       "       array([ 2663,  2924,  4561,  5753,  6696,  7631,  8193,  8284,  8404,\n",
       "               9445, 10652, 11373, 11950])                                  ],\n",
       "      dtype=object)"
      ]
     },
     "execution_count": 40,
     "metadata": {},
     "output_type": "execute_result"
    }
   ],
   "source": [
    "test_df[\"mid_quality_snp_positions\"].to_numpy()[:10]"
   ]
  },
  {
   "cell_type": "code",
   "execution_count": 41,
   "id": "11094ef0-dcb4-40eb-97d4-bc92734e3a01",
   "metadata": {
    "tags": []
   },
   "outputs": [],
   "source": [
    "for i,x,y in zip(range(len(test_df)), np.array_split(values, np.cumsum(lens)), test_df[\"mid_quality_snp_positions\"].to_numpy()):\n",
    "    if len(x) != len(y):\n",
    "        print(i, x, y)"
   ]
  },
  {
   "cell_type": "code",
   "execution_count": null,
   "id": "bbaddd52-506d-4efb-befe-0e5ba020c7b9",
   "metadata": {},
   "outputs": [],
   "source": []
  },
  {
   "cell_type": "code",
   "execution_count": null,
   "id": "05dd69fb-afcf-4303-91a4-4f6b6ba56b09",
   "metadata": {},
   "outputs": [],
   "source": []
  },
  {
   "cell_type": "code",
   "execution_count": 7,
   "id": "865bd45a-4ca4-47dd-acdb-1f862fbbcf28",
   "metadata": {
    "tags": []
   },
   "outputs": [],
   "source": [
    "pratto = pd.read_csv(\n",
    "    \"/lustre/scratch126/casm/team154pc/sl17/03.sperm/01.data/07.references/06.hotspots/pratto_2014_hotspots.tsv\",\n",
    "    delim_whitespace = True,\n",
    "    comment = \"#\",\n",
    ")"
   ]
  },
  {
   "cell_type": "code",
   "execution_count": 8,
   "id": "8f3957e6-b56d-4520-8720-8a0bafcadc92",
   "metadata": {
    "tags": []
   },
   "outputs": [
    {
     "data": {
      "text/html": [
       "<div>\n",
       "<style scoped>\n",
       "    .dataframe tbody tr th:only-of-type {\n",
       "        vertical-align: middle;\n",
       "    }\n",
       "\n",
       "    .dataframe tbody tr th {\n",
       "        vertical-align: top;\n",
       "    }\n",
       "\n",
       "    .dataframe thead th {\n",
       "        text-align: right;\n",
       "    }\n",
       "</style>\n",
       "<table border=\"1\" class=\"dataframe\">\n",
       "  <thead>\n",
       "    <tr style=\"text-align: right;\">\n",
       "      <th></th>\n",
       "      <th>chrom</th>\n",
       "      <th>start</th>\n",
       "      <th>end</th>\n",
       "      <th>AA1_strength</th>\n",
       "      <th>AA2_strength</th>\n",
       "      <th>AB1_strength</th>\n",
       "      <th>AB2_strength</th>\n",
       "      <th>AC_strength</th>\n",
       "      <th>AA1_hotspots</th>\n",
       "      <th>AA2_hotspots</th>\n",
       "      <th>...</th>\n",
       "      <th>A_hotspots_in_AC</th>\n",
       "      <th>C_hotspots</th>\n",
       "      <th>AA1_down</th>\n",
       "      <th>AA1_up</th>\n",
       "      <th>AA2_down</th>\n",
       "      <th>AA2_up</th>\n",
       "      <th>AB1_down</th>\n",
       "      <th>AB1_up</th>\n",
       "      <th>at_LCR</th>\n",
       "      <th>Stronger_than_Berg_et_al_Hotspots</th>\n",
       "    </tr>\n",
       "  </thead>\n",
       "  <tbody>\n",
       "    <tr>\n",
       "      <th>0</th>\n",
       "      <td>chr1</td>\n",
       "      <td>12769</td>\n",
       "      <td>13928</td>\n",
       "      <td>9</td>\n",
       "      <td>20</td>\n",
       "      <td>6</td>\n",
       "      <td>23</td>\n",
       "      <td>2</td>\n",
       "      <td>0</td>\n",
       "      <td>0</td>\n",
       "      <td>...</td>\n",
       "      <td>0</td>\n",
       "      <td>0</td>\n",
       "      <td>0</td>\n",
       "      <td>0</td>\n",
       "      <td>0</td>\n",
       "      <td>0</td>\n",
       "      <td>0</td>\n",
       "      <td>0</td>\n",
       "      <td>0</td>\n",
       "      <td>0</td>\n",
       "    </tr>\n",
       "    <tr>\n",
       "      <th>1</th>\n",
       "      <td>chr1</td>\n",
       "      <td>15497</td>\n",
       "      <td>18631</td>\n",
       "      <td>145</td>\n",
       "      <td>130</td>\n",
       "      <td>144</td>\n",
       "      <td>83</td>\n",
       "      <td>98</td>\n",
       "      <td>1</td>\n",
       "      <td>1</td>\n",
       "      <td>...</td>\n",
       "      <td>1</td>\n",
       "      <td>0</td>\n",
       "      <td>0</td>\n",
       "      <td>0</td>\n",
       "      <td>1</td>\n",
       "      <td>0</td>\n",
       "      <td>0</td>\n",
       "      <td>0</td>\n",
       "      <td>0</td>\n",
       "      <td>0</td>\n",
       "    </tr>\n",
       "    <tr>\n",
       "      <th>2</th>\n",
       "      <td>chr1</td>\n",
       "      <td>36224</td>\n",
       "      <td>37432</td>\n",
       "      <td>33</td>\n",
       "      <td>17</td>\n",
       "      <td>18</td>\n",
       "      <td>16</td>\n",
       "      <td>12</td>\n",
       "      <td>1</td>\n",
       "      <td>0</td>\n",
       "      <td>...</td>\n",
       "      <td>1</td>\n",
       "      <td>0</td>\n",
       "      <td>0</td>\n",
       "      <td>0</td>\n",
       "      <td>0</td>\n",
       "      <td>0</td>\n",
       "      <td>0</td>\n",
       "      <td>0</td>\n",
       "      <td>0</td>\n",
       "      <td>0</td>\n",
       "    </tr>\n",
       "    <tr>\n",
       "      <th>3</th>\n",
       "      <td>chr1</td>\n",
       "      <td>38426</td>\n",
       "      <td>40527</td>\n",
       "      <td>158</td>\n",
       "      <td>203</td>\n",
       "      <td>183</td>\n",
       "      <td>56</td>\n",
       "      <td>192</td>\n",
       "      <td>1</td>\n",
       "      <td>1</td>\n",
       "      <td>...</td>\n",
       "      <td>1</td>\n",
       "      <td>0</td>\n",
       "      <td>0</td>\n",
       "      <td>0</td>\n",
       "      <td>0</td>\n",
       "      <td>0</td>\n",
       "      <td>0</td>\n",
       "      <td>0</td>\n",
       "      <td>0</td>\n",
       "      <td>0</td>\n",
       "    </tr>\n",
       "    <tr>\n",
       "      <th>4</th>\n",
       "      <td>chr1</td>\n",
       "      <td>90761</td>\n",
       "      <td>91987</td>\n",
       "      <td>8</td>\n",
       "      <td>16</td>\n",
       "      <td>32</td>\n",
       "      <td>0</td>\n",
       "      <td>22</td>\n",
       "      <td>0</td>\n",
       "      <td>0</td>\n",
       "      <td>...</td>\n",
       "      <td>0</td>\n",
       "      <td>0</td>\n",
       "      <td>0</td>\n",
       "      <td>0</td>\n",
       "      <td>0</td>\n",
       "      <td>0</td>\n",
       "      <td>0</td>\n",
       "      <td>0</td>\n",
       "      <td>1</td>\n",
       "      <td>0</td>\n",
       "    </tr>\n",
       "  </tbody>\n",
       "</table>\n",
       "<p>5 rows × 27 columns</p>\n",
       "</div>"
      ],
      "text/plain": [
       "  chrom  start    end  AA1_strength  AA2_strength  AB1_strength  AB2_strength  \\\n",
       "0  chr1  12769  13928             9            20             6            23   \n",
       "1  chr1  15497  18631           145           130           144            83   \n",
       "2  chr1  36224  37432            33            17            18            16   \n",
       "3  chr1  38426  40527           158           203           183            56   \n",
       "4  chr1  90761  91987             8            16            32             0   \n",
       "\n",
       "   AC_strength  AA1_hotspots  AA2_hotspots  ...  A_hotspots_in_AC  C_hotspots  \\\n",
       "0            2             0             0  ...                 0           0   \n",
       "1           98             1             1  ...                 1           0   \n",
       "2           12             1             0  ...                 1           0   \n",
       "3          192             1             1  ...                 1           0   \n",
       "4           22             0             0  ...                 0           0   \n",
       "\n",
       "   AA1_down  AA1_up  AA2_down  AA2_up  AB1_down  AB1_up  at_LCR  \\\n",
       "0         0       0         0       0         0       0       0   \n",
       "1         0       0         1       0         0       0       0   \n",
       "2         0       0         0       0         0       0       0   \n",
       "3         0       0         0       0         0       0       0   \n",
       "4         0       0         0       0         0       0       1   \n",
       "\n",
       "   Stronger_than_Berg_et_al_Hotspots  \n",
       "0                                  0  \n",
       "1                                  0  \n",
       "2                                  0  \n",
       "3                                  0  \n",
       "4                                  0  \n",
       "\n",
       "[5 rows x 27 columns]"
      ]
     },
     "execution_count": 8,
     "metadata": {},
     "output_type": "execute_result"
    }
   ],
   "source": [
    "pratto.head()"
   ]
  },
  {
   "cell_type": "code",
   "execution_count": 11,
   "id": "f5b92ea9-77bf-4d54-a016-4b212a258dc0",
   "metadata": {
    "tags": []
   },
   "outputs": [
    {
     "name": "stdout",
     "output_type": "stream",
     "text": [
      "chr1\t1517726\t1520037\t412\n",
      " chr1\t1892101\t1892581\t166\n",
      " chr1\t1892888\t1894125\t14\n",
      " chr1\t1900372\t1902441\t256\n",
      " chr1\t2068699\t2070097\t1\n",
      " chr1\t2584705\t2586012\t0\n",
      " chr1\t5858381\t5859402\t10\n",
      " chr1\t6059391\t6060994\t77\n",
      " chr1\t6064204\t6066013\t211\n",
      " chr1\t6204691\t6205582\t10\n",
      " "
     ]
    }
   ],
   "source": [
    "(\n",
    "    pybedtools.BedTool.from_dataframe(\n",
    "        pratto[[\"chrom\", \"start\", \"end\", \"AA1_strength\"]].sort_values([\"chrom\", \"start\"])\n",
    "    ).intersect(\n",
    "        pybedtools.BedTool.from_dataframe(\n",
    "            test_df\n",
    "                .select(\"chrom\", \"grch37_reference_start\", \"grch37_reference_end\")\n",
    "                .sort(\"chrom\", \"grch37_reference_start\", \"grch37_reference_end\")\n",
    "                .to_pandas()\n",
    "        )\n",
    "    )\n",
    ").head()"
   ]
  },
  {
   "cell_type": "code",
   "execution_count": null,
   "id": "84c340fd-1ae5-44ec-8bfd-76e5205d0c42",
   "metadata": {},
   "outputs": [],
   "source": []
  },
  {
   "cell_type": "code",
   "execution_count": null,
   "id": "11a8d27a-2ad4-4d85-9768-905eae1f7ba9",
   "metadata": {},
   "outputs": [],
   "source": []
  },
  {
   "cell_type": "code",
   "execution_count": null,
   "id": "d718d978-1e50-49db-a1e3-d7ba68f337a2",
   "metadata": {},
   "outputs": [],
   "source": []
  }
 ],
 "metadata": {
  "kernelspec": {
   "display_name": "sperm",
   "language": "python",
   "name": "sperm"
  },
  "language_info": {
   "codemirror_mode": {
    "name": "ipython",
    "version": 3
   },
   "file_extension": ".py",
   "mimetype": "text/x-python",
   "name": "python",
   "nbconvert_exporter": "python",
   "pygments_lexer": "ipython3",
   "version": "3.11.6"
  }
 },
 "nbformat": 4,
 "nbformat_minor": 5
}
