{
 "cells": [
  {
   "cell_type": "code",
   "execution_count": 1,
   "id": "933a95f3-b9eb-4b88-aba1-c19e4891fd0c",
   "metadata": {},
   "outputs": [],
   "source": [
    "%load_ext autoreload\n",
    "%autoreload 2"
   ]
  },
  {
   "cell_type": "code",
   "execution_count": 2,
   "id": "f0a02658-b84a-4b8c-8ebc-795b730b1fab",
   "metadata": {},
   "outputs": [],
   "source": [
    "import numpy as np\n",
    "import pandas as pd\n",
    "import matplotlib as mpl\n",
    "import matplotlib.pyplot as plt\n",
    "\n",
    "from pathlib import Path\n",
    "import tqdm\n",
    "import sys\n",
    "import seaborn as sns\n",
    "import scipy.stats\n",
    "import os\n",
    "import pysam\n",
    "import pprint\n",
    "import pickle\n",
    "import joblib\n",
    "import polars as pl\n",
    "\n",
    "# This is needed before pybedtools to make sure bedtools is imported on sanger JupyterHub \n",
    "os.environ[\"PATH\"] += \":\" + os.path.join(sys.prefix, \"bin\")\n",
    "import pybedtools\n",
    "\n",
    "pd.set_option('display.max_rows', 1000)\n"
   ]
  },
  {
   "cell_type": "code",
   "execution_count": 3,
   "id": "a53360dd-e511-45ba-aeed-a53c4b4decbd",
   "metadata": {},
   "outputs": [],
   "source": [
    "sys.path.append(str(Path(os.getcwd()).parent))\n",
    "from src import liftover, annotate, diagnostics\n",
    "from src.IDs import *\n"
   ]
  },
  {
   "cell_type": "markdown",
   "id": "399708b9-2043-4ebc-a604-91db6103ad38",
   "metadata": {},
   "source": [
    "# Choose sample and chrom"
   ]
  },
  {
   "cell_type": "code",
   "execution_count": 4,
   "id": "028e4eef-81ad-443e-9910-25fe4dd0133a",
   "metadata": {},
   "outputs": [],
   "source": [
    "focal_sample_id = \"NA12879\"\n",
    "t2t_chrom = \"chr20\"\n",
    "denovo_chrom = t2t_chrom + \"_RagTag\"\n",
    "\n"
   ]
  },
  {
   "cell_type": "markdown",
   "id": "8564bd03-7327-41d1-abc6-d929e722d588",
   "metadata": {},
   "source": [
    "# Mix high-conf SNPs and two-sided single nuc mismatches"
   ]
  },
  {
   "cell_type": "markdown",
   "id": "a2fe3616-0aff-463c-8e78-ee6e96df4c3d",
   "metadata": {},
   "source": [
    "## Get mismatches"
   ]
  },
  {
   "cell_type": "code",
   "execution_count": null,
   "id": "bed47b61-64cf-45a4-bab4-881fa86dcc6d",
   "metadata": {},
   "outputs": [],
   "source": []
  },
  {
   "cell_type": "code",
   "execution_count": 5,
   "id": "861d87b3-4653-4bed-84d1-582e2971e225",
   "metadata": {},
   "outputs": [],
   "source": [
    "def do_it_all(focal_sample_id, denovo_chrom):\n",
    "    filtered_high_conf_mismatches_df = pl.scan_parquet(Path(\"/lustre/scratch126/casm/team154pc/sl17/03.sperm/02.results/01.read_alignment/01.ccs/04.hifiasm/02.hifiasm_0.19.5-r592/02.chromosome_length_scaffolds/\") \\\n",
    "        / f\"{focal_sample_id}\" / \"reads\" / f\"{denovo_chrom}.high_confidence_snps.parquet\")\n",
    "    \n",
    "    \n",
    "    filtered_high_conf_mismatches_df = diagnostics.add_high_confidence_annotation(\n",
    "        filtered_high_conf_mismatches_df,\n",
    "        base_qual_min = 0, # Don't filter on this just yet\n",
    "    )\n",
    "    \n",
    "    filtered_high_conf_mismatches_df = filtered_high_conf_mismatches_df.filter(\"is_high_conf_event\")\n",
    "    \n",
    "    filtered_high_conf_mismatches_df = filtered_high_conf_mismatches_df.collect(streaming=True)\n",
    "    \n",
    "    #\n",
    "    # 3. Find mismatches supported by flanking high conf SNPs (putative GC)\n",
    "    #\n",
    "    def F(df):\n",
    "        df = (df\n",
    "            .with_columns(\n",
    "                pl.col(\"fits1\").cum_sum().alias(\"fits1_before\"),\n",
    "                pl.col(\"fits1\").cum_sum(reverse=True).alias(\"fits1_after\"),\n",
    "                pl.col(\"fits2\").cum_sum().alias(\"fits2_before\"),\n",
    "                pl.col(\"fits2\").cum_sum(reverse=True).alias(\"fits2_after\"),\n",
    "            )\n",
    "        )\n",
    "        return df\n",
    "\n",
    "    context_df = (filtered_high_conf_mismatches_df\n",
    "        .with_columns(\n",
    "            (pl.col(\"op1\") == 7).alias(\"fits1\").cast(int),\n",
    "            (pl.col(\"op2\") == 7).alias(\"fits2\").cast(int),\n",
    "        )\n",
    "        .sort(\"start\")\n",
    "        .group_by(\"read_name\")    \n",
    "        .map_groups(F)\n",
    "    )\n",
    "    \n",
    "    #\n",
    "    # 4. Calculate stats\n",
    "    # \n",
    "    flanking = 3\n",
    "\n",
    "    # Filter for putative GC events\n",
    "    putative_gc_df_hap = pl.concat(\n",
    "        [\n",
    "            (context_df\n",
    "                .filter((pl.col(\"op1\") == 8) & (pl.col(\"fits1_before\") >= flanking) & (pl.col(\"fits1_after\") >= flanking))\n",
    "                .with_columns((pl.col(\"op2\") == 7).alias(\"other_op_equal\"))\n",
    "            ),\n",
    "            (context_df\n",
    "                .filter((pl.col(\"op2\") == 8) & (pl.col(\"fits2_before\") >= flanking) & (pl.col(\"fits2_after\") >= flanking))\n",
    "                .with_columns((pl.col(\"op1\") == 7).alias(\"other_op_equal\"))\n",
    "            ),\n",
    "        ]\n",
    "    )\n",
    "    \n",
    "    # Mark where there are two different SNPs\n",
    "    putative_gc_df_hap = (putative_gc_df_hap\n",
    "        .with_columns((pl.col(\"refseq_start1\") != pl.col(\"refseq_start2\")).alias(\"diff_in_haplotypes\"))\n",
    "    )\n",
    "    \n",
    "    # Make the three categories\n",
    "    putative_gc_df_hap = (putative_gc_df_hap\n",
    "        .with_columns(\n",
    "            pl.when(pl.col('diff_in_haplotypes') & pl.col(\"other_op_equal\")).then(pl.lit(\"x_vs_y/x\"))\n",
    "              .when(pl.col('diff_in_haplotypes') & ~pl.col(\"other_op_equal\")).then(pl.lit(\"x_vs_y/z\"))\n",
    "              .when(~pl.col('diff_in_haplotypes') & ~pl.col(\"other_op_equal\")).then(pl.lit(\"x_vs_y/y\"))\n",
    "              .otherwise(pl.lit(\"x_vs_x/x\"))\n",
    "              .alias('category')\n",
    "        )\n",
    "    )\n",
    "    \n",
    "    to_round = 1\n",
    "    putative_gc_df_hap_cnt = (putative_gc_df_hap\n",
    "        .with_columns(\n",
    "            (pl.col(\"qual_start1\") // to_round * to_round).alias(\"qual_rounded\"),\n",
    "        )\n",
    "        .group_by([\"qual_rounded\", \"category\"])\n",
    "        .count()\n",
    "        .pivot(\n",
    "            values=[\"count\"],\n",
    "            index=[\"qual_rounded\"],\n",
    "            columns=[\"category\"],\n",
    "            aggregate_function=\"sum\",\n",
    "        )\n",
    "        .fill_null(0)\n",
    "        .sort(\"qual_rounded\")\n",
    "        .with_columns(\n",
    "            pl.lit(focal_sample_id).alias(\"focal_sample_id\"),\n",
    "            pl.lit(denovo_chrom).alias(\"chrom\"),\n",
    "        )\n",
    "    )\n",
    "    \n",
    "    return putative_gc_df_hap_cnt\n",
    "    \n",
    "    "
   ]
  },
  {
   "cell_type": "code",
   "execution_count": null,
   "id": "eb5f2333-5306-4726-b27f-8261e909fe4e",
   "metadata": {},
   "outputs": [],
   "source": []
  },
  {
   "cell_type": "markdown",
   "id": "d1fcd92e-79c6-4320-8366-571c6fffc7ef",
   "metadata": {},
   "source": [
    "# Get them all"
   ]
  },
  {
   "cell_type": "code",
   "execution_count": null,
   "id": "c9fff7ce-ceb9-4c5a-acfd-5fe125924da5",
   "metadata": {},
   "outputs": [],
   "source": []
  },
  {
   "cell_type": "code",
   "execution_count": 6,
   "id": "d1a378b9-70f6-412c-a385-efa574834b63",
   "metadata": {},
   "outputs": [
    {
     "name": "stdout",
     "output_type": "stream",
     "text": [
      "[Parallel(n_jobs=4)]: Using backend LokyBackend with 4 concurrent workers.\n"
     ]
    },
    {
     "name": "stderr",
     "output_type": "stream",
     "text": [
      "/nfs/users/nfs_r/rs42/rs42/miniforge3/envs/sperm/lib/python3.11/site-packages/joblib/externals/loky/backend/fork_exec.py:38: RuntimeWarning: Using fork() can cause Polars to deadlock in the child process.\n",
      "In addition, using fork() with Python in general is a recipe for mysterious\n",
      "deadlocks and crashes.\n",
      "\n",
      "The most likely reason you are seeing this error is because you are using the\n",
      "multiprocessing module on Linux, which uses fork() by default. This will be\n",
      "fixed in Python 3.14. Until then, you want to use the \"spawn\" context instead.\n",
      "\n",
      "See https://docs.pola.rs/user-guide/misc/multiprocessing/ for details.\n",
      "\n",
      "  pid = os.fork()\n",
      "/tmp/ipykernel_2345368/4224850719.py:80: DeprecationWarning: `GroupBy.count` is deprecated. It has been renamed to `len`.\n",
      "/tmp/ipykernel_2345368/4224850719.py:81: DeprecationWarning: The argument `columns` for `DataFrame.pivot` is deprecated. It has been renamed to `on`.\n"
     ]
    },
    {
     "name": "stdout",
     "output_type": "stream",
     "text": [
      "[Parallel(n_jobs=4)]: Done   1 tasks      | elapsed: 11.3min\n"
     ]
    },
    {
     "name": "stderr",
     "output_type": "stream",
     "text": [
      "/tmp/ipykernel_2345368/4224850719.py:80: DeprecationWarning: `GroupBy.count` is deprecated. It has been renamed to `len`.\n",
      "/tmp/ipykernel_2345368/4224850719.py:81: DeprecationWarning: The argument `columns` for `DataFrame.pivot` is deprecated. It has been renamed to `on`.\n"
     ]
    },
    {
     "name": "stdout",
     "output_type": "stream",
     "text": [
      "[Parallel(n_jobs=4)]: Done   2 tasks      | elapsed: 11.4min\n"
     ]
    },
    {
     "name": "stderr",
     "output_type": "stream",
     "text": [
      "/tmp/ipykernel_2345368/4224850719.py:80: DeprecationWarning: `GroupBy.count` is deprecated. It has been renamed to `len`.\n",
      "/tmp/ipykernel_2345368/4224850719.py:81: DeprecationWarning: The argument `columns` for `DataFrame.pivot` is deprecated. It has been renamed to `on`.\n"
     ]
    },
    {
     "name": "stdout",
     "output_type": "stream",
     "text": [
      "[Parallel(n_jobs=4)]: Done   3 tasks      | elapsed: 12.2min\n"
     ]
    },
    {
     "name": "stderr",
     "output_type": "stream",
     "text": [
      "/tmp/ipykernel_2345368/4224850719.py:80: DeprecationWarning: `GroupBy.count` is deprecated. It has been renamed to `len`.\n",
      "/tmp/ipykernel_2345368/4224850719.py:81: DeprecationWarning: The argument `columns` for `DataFrame.pivot` is deprecated. It has been renamed to `on`.\n"
     ]
    },
    {
     "name": "stdout",
     "output_type": "stream",
     "text": [
      "[Parallel(n_jobs=4)]: Done   4 tasks      | elapsed: 12.5min\n"
     ]
    },
    {
     "name": "stderr",
     "output_type": "stream",
     "text": [
      "/tmp/ipykernel_2345368/4224850719.py:80: DeprecationWarning: `GroupBy.count` is deprecated. It has been renamed to `len`.\n",
      "/tmp/ipykernel_2345368/4224850719.py:81: DeprecationWarning: The argument `columns` for `DataFrame.pivot` is deprecated. It has been renamed to `on`.\n"
     ]
    },
    {
     "name": "stdout",
     "output_type": "stream",
     "text": [
      "[Parallel(n_jobs=4)]: Done   5 tasks      | elapsed: 20.2min\n"
     ]
    },
    {
     "name": "stderr",
     "output_type": "stream",
     "text": [
      "/tmp/ipykernel_2345368/4224850719.py:80: DeprecationWarning: `GroupBy.count` is deprecated. It has been renamed to `len`.\n",
      "/tmp/ipykernel_2345368/4224850719.py:81: DeprecationWarning: The argument `columns` for `DataFrame.pivot` is deprecated. It has been renamed to `on`.\n",
      "/tmp/ipykernel_2345368/4224850719.py:80: DeprecationWarning: `GroupBy.count` is deprecated. It has been renamed to `len`.\n",
      "/tmp/ipykernel_2345368/4224850719.py:81: DeprecationWarning: The argument `columns` for `DataFrame.pivot` is deprecated. It has been renamed to `on`.\n",
      "/nfs/users/nfs_r/rs42/rs42/miniforge3/envs/sperm/lib/python3.11/site-packages/joblib/externals/loky/process_executor.py:752: UserWarning: A worker stopped while some jobs were given to the executor. This can be caused by a too short worker timeout or by a memory leak.\n",
      "  warnings.warn(\n"
     ]
    },
    {
     "name": "stdout",
     "output_type": "stream",
     "text": [
      "[Parallel(n_jobs=4)]: Done   6 tasks      | elapsed: 20.4min\n",
      "[Parallel(n_jobs=4)]: Done   7 tasks      | elapsed: 20.4min\n"
     ]
    },
    {
     "name": "stderr",
     "output_type": "stream",
     "text": [
      "/tmp/ipykernel_2345368/4224850719.py:80: DeprecationWarning: `GroupBy.count` is deprecated. It has been renamed to `len`.\n",
      "/tmp/ipykernel_2345368/4224850719.py:81: DeprecationWarning: The argument `columns` for `DataFrame.pivot` is deprecated. It has been renamed to `on`.\n"
     ]
    },
    {
     "name": "stdout",
     "output_type": "stream",
     "text": [
      "[Parallel(n_jobs=4)]: Done   8 tasks      | elapsed: 20.8min\n"
     ]
    },
    {
     "name": "stderr",
     "output_type": "stream",
     "text": [
      "/tmp/ipykernel_2345368/4224850719.py:80: DeprecationWarning: `GroupBy.count` is deprecated. It has been renamed to `len`.\n",
      "/tmp/ipykernel_2345368/4224850719.py:81: DeprecationWarning: The argument `columns` for `DataFrame.pivot` is deprecated. It has been renamed to `on`.\n"
     ]
    },
    {
     "name": "stdout",
     "output_type": "stream",
     "text": [
      "[Parallel(n_jobs=4)]: Done   9 tasks      | elapsed: 26.6min\n"
     ]
    },
    {
     "name": "stderr",
     "output_type": "stream",
     "text": [
      "/tmp/ipykernel_2345368/4224850719.py:80: DeprecationWarning: `GroupBy.count` is deprecated. It has been renamed to `len`.\n",
      "/tmp/ipykernel_2345368/4224850719.py:81: DeprecationWarning: The argument `columns` for `DataFrame.pivot` is deprecated. It has been renamed to `on`.\n"
     ]
    },
    {
     "name": "stdout",
     "output_type": "stream",
     "text": [
      "[Parallel(n_jobs=4)]: Done  10 tasks      | elapsed: 27.1min\n"
     ]
    },
    {
     "name": "stderr",
     "output_type": "stream",
     "text": [
      "/tmp/ipykernel_2345368/4224850719.py:80: DeprecationWarning: `GroupBy.count` is deprecated. It has been renamed to `len`.\n",
      "/tmp/ipykernel_2345368/4224850719.py:81: DeprecationWarning: The argument `columns` for `DataFrame.pivot` is deprecated. It has been renamed to `on`.\n"
     ]
    },
    {
     "name": "stdout",
     "output_type": "stream",
     "text": [
      "[Parallel(n_jobs=4)]: Done  11 tasks      | elapsed: 27.3min\n"
     ]
    },
    {
     "name": "stderr",
     "output_type": "stream",
     "text": [
      "/tmp/ipykernel_2345368/4224850719.py:80: DeprecationWarning: `GroupBy.count` is deprecated. It has been renamed to `len`.\n",
      "/tmp/ipykernel_2345368/4224850719.py:81: DeprecationWarning: The argument `columns` for `DataFrame.pivot` is deprecated. It has been renamed to `on`.\n"
     ]
    },
    {
     "name": "stdout",
     "output_type": "stream",
     "text": [
      "[Parallel(n_jobs=4)]: Done  12 tasks      | elapsed: 27.4min\n"
     ]
    },
    {
     "name": "stderr",
     "output_type": "stream",
     "text": [
      "/tmp/ipykernel_2345368/4224850719.py:80: DeprecationWarning: `GroupBy.count` is deprecated. It has been renamed to `len`.\n",
      "/tmp/ipykernel_2345368/4224850719.py:81: DeprecationWarning: The argument `columns` for `DataFrame.pivot` is deprecated. It has been renamed to `on`.\n"
     ]
    },
    {
     "name": "stdout",
     "output_type": "stream",
     "text": [
      "[Parallel(n_jobs=4)]: Done  13 tasks      | elapsed: 31.6min\n"
     ]
    },
    {
     "name": "stderr",
     "output_type": "stream",
     "text": [
      "/tmp/ipykernel_2345368/4224850719.py:80: DeprecationWarning: `GroupBy.count` is deprecated. It has been renamed to `len`.\n",
      "/tmp/ipykernel_2345368/4224850719.py:81: DeprecationWarning: The argument `columns` for `DataFrame.pivot` is deprecated. It has been renamed to `on`.\n"
     ]
    },
    {
     "name": "stdout",
     "output_type": "stream",
     "text": [
      "[Parallel(n_jobs=4)]: Done  14 tasks      | elapsed: 31.7min\n"
     ]
    },
    {
     "name": "stderr",
     "output_type": "stream",
     "text": [
      "/tmp/ipykernel_2345368/4224850719.py:80: DeprecationWarning: `GroupBy.count` is deprecated. It has been renamed to `len`.\n",
      "/tmp/ipykernel_2345368/4224850719.py:81: DeprecationWarning: The argument `columns` for `DataFrame.pivot` is deprecated. It has been renamed to `on`.\n"
     ]
    },
    {
     "name": "stdout",
     "output_type": "stream",
     "text": [
      "[Parallel(n_jobs=4)]: Done  15 tasks      | elapsed: 31.9min\n"
     ]
    },
    {
     "name": "stderr",
     "output_type": "stream",
     "text": [
      "/tmp/ipykernel_2345368/4224850719.py:80: DeprecationWarning: `GroupBy.count` is deprecated. It has been renamed to `len`.\n",
      "/tmp/ipykernel_2345368/4224850719.py:81: DeprecationWarning: The argument `columns` for `DataFrame.pivot` is deprecated. It has been renamed to `on`.\n"
     ]
    },
    {
     "name": "stdout",
     "output_type": "stream",
     "text": [
      "[Parallel(n_jobs=4)]: Done  16 out of  22 | elapsed: 32.0min remaining: 12.0min\n"
     ]
    },
    {
     "name": "stderr",
     "output_type": "stream",
     "text": [
      "/tmp/ipykernel_2345368/4224850719.py:80: DeprecationWarning: `GroupBy.count` is deprecated. It has been renamed to `len`.\n",
      "/tmp/ipykernel_2345368/4224850719.py:81: DeprecationWarning: The argument `columns` for `DataFrame.pivot` is deprecated. It has been renamed to `on`.\n"
     ]
    },
    {
     "name": "stdout",
     "output_type": "stream",
     "text": [
      "[Parallel(n_jobs=4)]: Done  17 out of  22 | elapsed: 34.0min remaining: 10.0min\n"
     ]
    },
    {
     "name": "stderr",
     "output_type": "stream",
     "text": [
      "/tmp/ipykernel_2345368/4224850719.py:80: DeprecationWarning: `GroupBy.count` is deprecated. It has been renamed to `len`.\n",
      "/tmp/ipykernel_2345368/4224850719.py:81: DeprecationWarning: The argument `columns` for `DataFrame.pivot` is deprecated. It has been renamed to `on`.\n"
     ]
    },
    {
     "name": "stdout",
     "output_type": "stream",
     "text": [
      "[Parallel(n_jobs=4)]: Done  18 out of  22 | elapsed: 34.6min remaining:  7.7min\n"
     ]
    },
    {
     "name": "stderr",
     "output_type": "stream",
     "text": [
      "/tmp/ipykernel_2345368/4224850719.py:80: DeprecationWarning: `GroupBy.count` is deprecated. It has been renamed to `len`.\n",
      "/tmp/ipykernel_2345368/4224850719.py:81: DeprecationWarning: The argument `columns` for `DataFrame.pivot` is deprecated. It has been renamed to `on`.\n"
     ]
    },
    {
     "name": "stdout",
     "output_type": "stream",
     "text": [
      "[Parallel(n_jobs=4)]: Done  19 out of  22 | elapsed: 34.8min remaining:  5.5min\n"
     ]
    },
    {
     "name": "stderr",
     "output_type": "stream",
     "text": [
      "/tmp/ipykernel_2345368/4224850719.py:80: DeprecationWarning: `GroupBy.count` is deprecated. It has been renamed to `len`.\n",
      "/tmp/ipykernel_2345368/4224850719.py:81: DeprecationWarning: The argument `columns` for `DataFrame.pivot` is deprecated. It has been renamed to `on`.\n"
     ]
    },
    {
     "name": "stdout",
     "output_type": "stream",
     "text": [
      "[Parallel(n_jobs=4)]: Done  20 out of  22 | elapsed: 35.6min remaining:  3.6min\n"
     ]
    },
    {
     "name": "stderr",
     "output_type": "stream",
     "text": [
      "/tmp/ipykernel_2345368/4224850719.py:80: DeprecationWarning: `GroupBy.count` is deprecated. It has been renamed to `len`.\n",
      "/tmp/ipykernel_2345368/4224850719.py:81: DeprecationWarning: The argument `columns` for `DataFrame.pivot` is deprecated. It has been renamed to `on`.\n",
      "/tmp/ipykernel_2345368/4224850719.py:80: DeprecationWarning: `GroupBy.count` is deprecated. It has been renamed to `len`.\n",
      "/tmp/ipykernel_2345368/4224850719.py:81: DeprecationWarning: The argument `columns` for `DataFrame.pivot` is deprecated. It has been renamed to `on`.\n"
     ]
    },
    {
     "name": "stdout",
     "output_type": "stream",
     "text": [
      "[Parallel(n_jobs=4)]: Done  22 out of  22 | elapsed: 35.9min finished\n",
      "CPU times: user 1.62 s, sys: 44.2 s, total: 45.8 s\n",
      "Wall time: 35min 55s\n"
     ]
    }
   ],
   "source": [
    "%%time \n",
    "# dfs = []\n",
    "# for chrom in aut_chrom_names[1:2]:\n",
    "#     print(chrom)\n",
    "#     dfs.append(do_it_all(focal_sample_id, chrom + \"_RagTag\"))\n",
    "dfs = joblib.Parallel(n_jobs=4, verbose=50)(\n",
    "    joblib.delayed(do_it_all)(focal_sample_id, chrom + \"_RagTag\") \\\n",
    "    for chrom in aut_chrom_names\n",
    "    for focal_sample_id in ceph_sample_ids[:1]\n",
    ")"
   ]
  },
  {
   "cell_type": "code",
   "execution_count": null,
   "id": "4a020412-9350-4841-bd67-a23ec12a20cc",
   "metadata": {},
   "outputs": [],
   "source": []
  },
  {
   "cell_type": "markdown",
   "id": "2dddb00d-0b4c-43f7-93d0-3db153cb920d",
   "metadata": {},
   "source": [
    "# Plotting "
   ]
  },
  {
   "cell_type": "code",
   "execution_count": 7,
   "id": "cec03e39-6b99-4180-a5c4-a0f477f9ec3b",
   "metadata": {
    "tags": []
   },
   "outputs": [],
   "source": [
    "def plot_per_condition(dfs, ax, condition=None):\n",
    "    if condition is None:\n",
    "        condition = pl.lit(True)\n",
    "        \n",
    "    putative_gc_df_hap_cnt = (\n",
    "        pl.concat([x.filter(condition)[[\"qual_rounded\", \"x_vs_y/y\", \"x_vs_y/z\", \"x_vs_y/x\"]] for x in dfs])\n",
    "        .group_by([\"qual_rounded\"])\n",
    "        .agg(pl.col(\"x_vs_y/y\").sum(), pl.col(\"x_vs_y/z\").sum(), pl.col(\"x_vs_y/x\").sum())\n",
    "        .sort(\"qual_rounded\")\n",
    "    )\n",
    "    \n",
    "    import statsmodels.stats.proportion\n",
    "    A = np.cumsum(putative_gc_df_hap_cnt[\"x_vs_y/z\"][::-1])[::-1]\n",
    "    B = np.cumsum(putative_gc_df_hap_cnt[\"x_vs_y/x\"][::-1])[::-1]\n",
    "    p = A / B \n",
    "    lo, hi = statsmodels.stats.proportion.proportion_confint(\n",
    "        A, B,\n",
    "        method=\"beta\", \n",
    "        alpha=0.05\n",
    "    )\n",
    "\n",
    "    ax.errorbar(\n",
    "        x = putative_gc_df_hap_cnt[\"qual_rounded\"],\n",
    "        y = p,\n",
    "        yerr = [p-lo, hi-p],\n",
    "        fmt = '.'\n",
    "    )\n",
    "\n",
    "    ax.axhline(0.01, ls=\"--\", lw=0.5, c=\"black\")\n",
    "    ax.axhline(0.1, ls=\"--\", lw=0.5, c=\"black\")\n",
    "\n",
    "    ax.set_xlabel(\"BQ (lower threshold)\");\n",
    "    ax.set_ylabel(\"Estimated false positive rate\");\n",
    "    ax.set_yscale(\"log\")\n",
    "    #plt.ylim(0.95,1);\n",
    "\n",
    "\n",
    "    \n",
    "    "
   ]
  },
  {
   "cell_type": "markdown",
   "id": "7f371dd5-39d7-46c4-bb6c-25a569e20bcd",
   "metadata": {},
   "source": [
    "## All"
   ]
  },
  {
   "cell_type": "code",
   "execution_count": 9,
   "id": "ba1063d0-503d-45ee-b7a8-0ff2acaddb6f",
   "metadata": {
    "tags": []
   },
   "outputs": [
    {
     "data": {
      "image/png": "[encoded data removed]",
      "text/plain": [
       "<Figure size 600x400 with 1 Axes>"
      ]
     },
     "metadata": {},
     "output_type": "display_data"
    }
   ],
   "source": [
    "fig, ax = plt.subplots(figsize=(6, 4))\n",
    "\n",
    "plot_per_condition(dfs, ax, condition=None)"
   ]
  },
  {
   "cell_type": "markdown",
   "id": "924a1c02-3505-4806-8137-ed2e0f67054f",
   "metadata": {},
   "source": [
    "## Per sample"
   ]
  },
  {
   "cell_type": "code",
   "execution_count": 9,
   "id": "20c8f041-07ee-4e75-8650-64834cc4f104",
   "metadata": {
    "tags": []
   },
   "outputs": [
    {
     "data": {
      "image/png": "[encoded data removed]",
      "text/plain": [
       "<Figure size 1000x800 with 6 Axes>"
      ]
     },
     "metadata": {},
     "output_type": "display_data"
    }
   ],
   "source": [
    "fig, axs = plt.subplots(2, 3, figsize=(10, 8), sharex=True, sharey=True)\n",
    "\n",
    "for i, ax in enumerate(axs.ravel()[:len(sudmant_sample_ids)]):\n",
    "    plot_per_condition(dfs, ax, condition=(pl.col(\"focal_sample_id\") == sudmant_sample_ids[i]))\n",
    "    ax.set_title(sample_id_to_paper_label[sudmant_sample_ids[i]])\n",
    "\n",
    "plt.tight_layout()"
   ]
  },
  {
   "cell_type": "code",
   "execution_count": 10,
   "id": "dcbea18f-6814-40ef-a948-a2e434d53990",
   "metadata": {
    "tags": []
   },
   "outputs": [
    {
     "data": {
      "image/png": "[encoded data removed]",
      "text/plain": [
       "<Figure size 1000x800 with 25 Axes>"
      ]
     },
     "metadata": {},
     "output_type": "display_data"
    }
   ],
   "source": [
    "fig, axs = plt.subplots(5, 5, figsize=(10, 8), sharex=True, sharey=True)\n",
    "\n",
    "for i, ax in enumerate(axs.ravel()[:len(aut_chrom_names)]):\n",
    "    plot_per_condition(dfs, ax, condition=(pl.col(\"chrom\") == aut_chrom_names[i] + \"_RagTag\"))\n",
    "    ax.set_title(aut_chrom_names[i])\n",
    "\n",
    "plt.tight_layout()"
   ]
  },
  {
   "cell_type": "code",
   "execution_count": null,
   "id": "97f3bbb3-f8cd-42df-926d-ce6b9e438ab5",
   "metadata": {},
   "outputs": [],
   "source": []
  },
  {
   "cell_type": "code",
   "execution_count": null,
   "id": "c8937b8e-a61b-4259-a250-96298e3d8e69",
   "metadata": {},
   "outputs": [],
   "source": []
  },
  {
   "cell_type": "code",
   "execution_count": null,
   "id": "55398f11-393c-4af7-b610-1d298d5d3871",
   "metadata": {},
   "outputs": [],
   "source": []
  },
  {
   "cell_type": "code",
   "execution_count": null,
   "id": "466cd207-9a9a-499c-8d0a-9e71fb11193a",
   "metadata": {},
   "outputs": [],
   "source": []
  },
  {
   "cell_type": "markdown",
   "id": "0463a1fe-9365-48e6-9ed0-5e462bab7c64",
   "metadata": {},
   "source": [
    "# Plot it all"
   ]
  },
  {
   "cell_type": "code",
   "execution_count": 10,
   "id": "46ec78e7-3261-4930-bd7b-2d652f9ca843",
   "metadata": {},
   "outputs": [
    {
     "name": "stdout",
     "output_type": "stream",
     "text": [
      "CPU times: user 518 μs, sys: 4.11 ms, total: 4.63 ms\n",
      "Wall time: 1.44 ms\n"
     ]
    }
   ],
   "source": [
    "%%time\n",
    "putative_gc_df_hap_cnt = (\n",
    "    pl.concat([x[[\"qual_rounded\", \"x_vs_y/y\", \"x_vs_y/z\", \"x_vs_y/x\"]] for x in dfs])\n",
    "    .group_by([\"qual_rounded\"])\n",
    "    .agg(pl.col(\"x_vs_y/y\").sum(), pl.col(\"x_vs_y/z\").sum(), pl.col(\"x_vs_y/x\").sum())\n",
    "    .sort(\"qual_rounded\")\n",
    ")\n",
    "\n"
   ]
  },
  {
   "cell_type": "code",
   "execution_count": 11,
   "id": "1af13343-08d7-495d-bf59-aaa2a9eafb6c",
   "metadata": {},
   "outputs": [
    {
     "data": {
      "text/html": [
       "<div><style>\n",
       ".dataframe > thead > tr,\n",
       ".dataframe > tbody > tr {\n",
       "  text-align: right;\n",
       "  white-space: pre-wrap;\n",
       "}\n",
       "</style>\n",
       "<small>shape: (93, 4)</small><table border=\"1\" class=\"dataframe\"><thead><tr><th>qual_rounded</th><th>x_vs_y/y</th><th>x_vs_y/z</th><th>x_vs_y/x</th></tr><tr><td>u8</td><td>u32</td><td>u32</td><td>u32</td></tr></thead><tbody><tr><td>1</td><td>121</td><td>0</td><td>3</td></tr><tr><td>2</td><td>38641</td><td>49</td><td>193</td></tr><tr><td>3</td><td>805068</td><td>1246</td><td>4766</td></tr><tr><td>4</td><td>293614</td><td>441</td><td>1416</td></tr><tr><td>5</td><td>207503</td><td>266</td><td>1063</td></tr><tr><td>6</td><td>158752</td><td>259</td><td>774</td></tr><tr><td>7</td><td>127571</td><td>186</td><td>645</td></tr><tr><td>8</td><td>106739</td><td>152</td><td>537</td></tr><tr><td>9</td><td>90896</td><td>113</td><td>493</td></tr><tr><td>10</td><td>619428</td><td>953</td><td>4767</td></tr><tr><td>11</td><td>68156</td><td>88</td><td>378</td></tr><tr><td>12</td><td>60538</td><td>88</td><td>359</td></tr><tr><td>13</td><td>53537</td><td>85</td><td>314</td></tr><tr><td>14</td><td>46836</td><td>79</td><td>290</td></tr><tr><td>15</td><td>40901</td><td>55</td><td>276</td></tr><tr><td>16</td><td>36703</td><td>43</td><td>256</td></tr><tr><td>17</td><td>370365</td><td>552</td><td>3737</td></tr><tr><td>18</td><td>29562</td><td>36</td><td>208</td></tr><tr><td>19</td><td>26179</td><td>36</td><td>191</td></tr><tr><td>20</td><td>23572</td><td>31</td><td>209</td></tr><tr><td>21</td><td>20953</td><td>25</td><td>168</td></tr><tr><td>22</td><td>189641</td><td>304</td><td>2823</td></tr><tr><td>23</td><td>16548</td><td>19</td><td>175</td></tr><tr><td>24</td><td>14717</td><td>28</td><td>200</td></tr><tr><td>25</td><td>13335</td><td>22</td><td>199</td></tr><tr><td>26</td><td>12071</td><td>11</td><td>185</td></tr><tr><td>27</td><td>127895</td><td>198</td><td>2976</td></tr><tr><td>28</td><td>9722</td><td>11</td><td>193</td></tr><tr><td>29</td><td>8923</td><td>13</td><td>201</td></tr><tr><td>30</td><td>8299</td><td>11</td><td>189</td></tr><tr><td>31</td><td>7620</td><td>12</td><td>178</td></tr><tr><td>32</td><td>7062</td><td>9</td><td>185</td></tr><tr><td>33</td><td>6195</td><td>12</td><td>195</td></tr><tr><td>34</td><td>5669</td><td>7</td><td>201</td></tr><tr><td>35</td><td>127761</td><td>173</td><td>5829</td></tr><tr><td>36</td><td>4528</td><td>10</td><td>199</td></tr><tr><td>37</td><td>4353</td><td>7</td><td>256</td></tr><tr><td>38</td><td>3872</td><td>9</td><td>213</td></tr><tr><td>39</td><td>3602</td><td>9</td><td>254</td></tr><tr><td>40</td><td>70249</td><td>192</td><td>11047</td></tr><tr><td>41</td><td>3034</td><td>6</td><td>228</td></tr><tr><td>42</td><td>2906</td><td>8</td><td>312</td></tr><tr><td>43</td><td>2717</td><td>3</td><td>277</td></tr><tr><td>44</td><td>2481</td><td>3</td><td>307</td></tr><tr><td>45</td><td>2331</td><td>4</td><td>312</td></tr><tr><td>46</td><td>2095</td><td>4</td><td>314</td></tr><tr><td>47</td><td>2009</td><td>5</td><td>318</td></tr><tr><td>48</td><td>1908</td><td>5</td><td>320</td></tr><tr><td>49</td><td>1754</td><td>3</td><td>327</td></tr><tr><td>50</td><td>1697</td><td>3</td><td>331</td></tr><tr><td>51</td><td>1626</td><td>2</td><td>330</td></tr><tr><td>52</td><td>1501</td><td>2</td><td>371</td></tr><tr><td>53</td><td>1406</td><td>3</td><td>371</td></tr><tr><td>54</td><td>1285</td><td>3</td><td>343</td></tr><tr><td>55</td><td>1300</td><td>1</td><td>333</td></tr><tr><td>56</td><td>1152</td><td>8</td><td>312</td></tr><tr><td>57</td><td>1096</td><td>2</td><td>297</td></tr><tr><td>58</td><td>994</td><td>2</td><td>264</td></tr><tr><td>59</td><td>983</td><td>4</td><td>290</td></tr><tr><td>60</td><td>915</td><td>0</td><td>275</td></tr><tr><td>61</td><td>856</td><td>3</td><td>340</td></tr><tr><td>62</td><td>893</td><td>3</td><td>327</td></tr><tr><td>63</td><td>854</td><td>2</td><td>340</td></tr><tr><td>64</td><td>835</td><td>1</td><td>317</td></tr><tr><td>65</td><td>780</td><td>1</td><td>365</td></tr><tr><td>66</td><td>697</td><td>1</td><td>315</td></tr><tr><td>67</td><td>676</td><td>2</td><td>296</td></tr><tr><td>68</td><td>640</td><td>5</td><td>292</td></tr><tr><td>69</td><td>609</td><td>4</td><td>253</td></tr><tr><td>70</td><td>607</td><td>1</td><td>205</td></tr><tr><td>71</td><td>578</td><td>5</td><td>225</td></tr><tr><td>72</td><td>528</td><td>7</td><td>197</td></tr><tr><td>73</td><td>515</td><td>3</td><td>213</td></tr><tr><td>74</td><td>523</td><td>1</td><td>232</td></tr><tr><td>75</td><td>504</td><td>5</td><td>241</td></tr><tr><td>76</td><td>489</td><td>2</td><td>240</td></tr><tr><td>77</td><td>458</td><td>3</td><td>202</td></tr><tr><td>78</td><td>498</td><td>2</td><td>210</td></tr><tr><td>79</td><td>454</td><td>4</td><td>210</td></tr><tr><td>80</td><td>436</td><td>2</td><td>211</td></tr><tr><td>81</td><td>423</td><td>1</td><td>187</td></tr><tr><td>82</td><td>408</td><td>5</td><td>187</td></tr><tr><td>83</td><td>397</td><td>4</td><td>141</td></tr><tr><td>84</td><td>338</td><td>2</td><td>149</td></tr><tr><td>85</td><td>325</td><td>1</td><td>146</td></tr><tr><td>86</td><td>339</td><td>3</td><td>134</td></tr><tr><td>87</td><td>350</td><td>0</td><td>117</td></tr><tr><td>88</td><td>336</td><td>3</td><td>135</td></tr><tr><td>89</td><td>328</td><td>1</td><td>149</td></tr><tr><td>90</td><td>312</td><td>2</td><td>125</td></tr><tr><td>91</td><td>271</td><td>0</td><td>138</td></tr><tr><td>92</td><td>319</td><td>2</td><td>120</td></tr><tr><td>93</td><td>13918</td><td>91</td><td>5623</td></tr></tbody></table></div>"
      ],
      "text/plain": [
       "shape: (93, 4)\n",
       "┌──────────────┬──────────┬──────────┬──────────┐\n",
       "│ qual_rounded ┆ x_vs_y/y ┆ x_vs_y/z ┆ x_vs_y/x │\n",
       "│ ---          ┆ ---      ┆ ---      ┆ ---      │\n",
       "│ u8           ┆ u32      ┆ u32      ┆ u32      │\n",
       "╞══════════════╪══════════╪══════════╪══════════╡\n",
       "│ 1            ┆ 121      ┆ 0        ┆ 3        │\n",
       "│ 2            ┆ 38641    ┆ 49       ┆ 193      │\n",
       "│ 3            ┆ 805068   ┆ 1246     ┆ 4766     │\n",
       "│ 4            ┆ 293614   ┆ 441      ┆ 1416     │\n",
       "│ 5            ┆ 207503   ┆ 266      ┆ 1063     │\n",
       "│ 6            ┆ 158752   ┆ 259      ┆ 774      │\n",
       "│ 7            ┆ 127571   ┆ 186      ┆ 645      │\n",
       "│ 8            ┆ 106739   ┆ 152      ┆ 537      │\n",
       "│ 9            ┆ 90896    ┆ 113      ┆ 493      │\n",
       "│ 10           ┆ 619428   ┆ 953      ┆ 4767     │\n",
       "│ 11           ┆ 68156    ┆ 88       ┆ 378      │\n",
       "│ 12           ┆ 60538    ┆ 88       ┆ 359      │\n",
       "│ 13           ┆ 53537    ┆ 85       ┆ 314      │\n",
       "│ 14           ┆ 46836    ┆ 79       ┆ 290      │\n",
       "│ 15           ┆ 40901    ┆ 55       ┆ 276      │\n",
       "│ 16           ┆ 36703    ┆ 43       ┆ 256      │\n",
       "│ 17           ┆ 370365   ┆ 552      ┆ 3737     │\n",
       "│ 18           ┆ 29562    ┆ 36       ┆ 208      │\n",
       "│ 19           ┆ 26179    ┆ 36       ┆ 191      │\n",
       "│ 20           ┆ 23572    ┆ 31       ┆ 209      │\n",
       "│ 21           ┆ 20953    ┆ 25       ┆ 168      │\n",
       "│ 22           ┆ 189641   ┆ 304      ┆ 2823     │\n",
       "│ 23           ┆ 16548    ┆ 19       ┆ 175      │\n",
       "│ 24           ┆ 14717    ┆ 28       ┆ 200      │\n",
       "│ 25           ┆ 13335    ┆ 22       ┆ 199      │\n",
       "│ 26           ┆ 12071    ┆ 11       ┆ 185      │\n",
       "│ 27           ┆ 127895   ┆ 198      ┆ 2976     │\n",
       "│ 28           ┆ 9722     ┆ 11       ┆ 193      │\n",
       "│ 29           ┆ 8923     ┆ 13       ┆ 201      │\n",
       "│ 30           ┆ 8299     ┆ 11       ┆ 189      │\n",
       "│ 31           ┆ 7620     ┆ 12       ┆ 178      │\n",
       "│ 32           ┆ 7062     ┆ 9        ┆ 185      │\n",
       "│ 33           ┆ 6195     ┆ 12       ┆ 195      │\n",
       "│ 34           ┆ 5669     ┆ 7        ┆ 201      │\n",
       "│ 35           ┆ 127761   ┆ 173      ┆ 5829     │\n",
       "│ 36           ┆ 4528     ┆ 10       ┆ 199      │\n",
       "│ 37           ┆ 4353     ┆ 7        ┆ 256      │\n",
       "│ 38           ┆ 3872     ┆ 9        ┆ 213      │\n",
       "│ 39           ┆ 3602     ┆ 9        ┆ 254      │\n",
       "│ 40           ┆ 70249    ┆ 192      ┆ 11047    │\n",
       "│ 41           ┆ 3034     ┆ 6        ┆ 228      │\n",
       "│ 42           ┆ 2906     ┆ 8        ┆ 312      │\n",
       "│ 43           ┆ 2717     ┆ 3        ┆ 277      │\n",
       "│ 44           ┆ 2481     ┆ 3        ┆ 307      │\n",
       "│ 45           ┆ 2331     ┆ 4        ┆ 312      │\n",
       "│ 46           ┆ 2095     ┆ 4        ┆ 314      │\n",
       "│ 47           ┆ 2009     ┆ 5        ┆ 318      │\n",
       "│ 48           ┆ 1908     ┆ 5        ┆ 320      │\n",
       "│ 49           ┆ 1754     ┆ 3        ┆ 327      │\n",
       "│ 50           ┆ 1697     ┆ 3        ┆ 331      │\n",
       "│ 51           ┆ 1626     ┆ 2        ┆ 330      │\n",
       "│ 52           ┆ 1501     ┆ 2        ┆ 371      │\n",
       "│ 53           ┆ 1406     ┆ 3        ┆ 371      │\n",
       "│ 54           ┆ 1285     ┆ 3        ┆ 343      │\n",
       "│ 55           ┆ 1300     ┆ 1        ┆ 333      │\n",
       "│ 56           ┆ 1152     ┆ 8        ┆ 312      │\n",
       "│ 57           ┆ 1096     ┆ 2        ┆ 297      │\n",
       "│ 58           ┆ 994      ┆ 2        ┆ 264      │\n",
       "│ 59           ┆ 983      ┆ 4        ┆ 290      │\n",
       "│ 60           ┆ 915      ┆ 0        ┆ 275      │\n",
       "│ 61           ┆ 856      ┆ 3        ┆ 340      │\n",
       "│ 62           ┆ 893      ┆ 3        ┆ 327      │\n",
       "│ 63           ┆ 854      ┆ 2        ┆ 340      │\n",
       "│ 64           ┆ 835      ┆ 1        ┆ 317      │\n",
       "│ 65           ┆ 780      ┆ 1        ┆ 365      │\n",
       "│ 66           ┆ 697      ┆ 1        ┆ 315      │\n",
       "│ 67           ┆ 676      ┆ 2        ┆ 296      │\n",
       "│ 68           ┆ 640      ┆ 5        ┆ 292      │\n",
       "│ 69           ┆ 609      ┆ 4        ┆ 253      │\n",
       "│ 70           ┆ 607      ┆ 1        ┆ 205      │\n",
       "│ 71           ┆ 578      ┆ 5        ┆ 225      │\n",
       "│ 72           ┆ 528      ┆ 7        ┆ 197      │\n",
       "│ 73           ┆ 515      ┆ 3        ┆ 213      │\n",
       "│ 74           ┆ 523      ┆ 1        ┆ 232      │\n",
       "│ 75           ┆ 504      ┆ 5        ┆ 241      │\n",
       "│ 76           ┆ 489      ┆ 2        ┆ 240      │\n",
       "│ 77           ┆ 458      ┆ 3        ┆ 202      │\n",
       "│ 78           ┆ 498      ┆ 2        ┆ 210      │\n",
       "│ 79           ┆ 454      ┆ 4        ┆ 210      │\n",
       "│ 80           ┆ 436      ┆ 2        ┆ 211      │\n",
       "│ 81           ┆ 423      ┆ 1        ┆ 187      │\n",
       "│ 82           ┆ 408      ┆ 5        ┆ 187      │\n",
       "│ 83           ┆ 397      ┆ 4        ┆ 141      │\n",
       "│ 84           ┆ 338      ┆ 2        ┆ 149      │\n",
       "│ 85           ┆ 325      ┆ 1        ┆ 146      │\n",
       "│ 86           ┆ 339      ┆ 3        ┆ 134      │\n",
       "│ 87           ┆ 350      ┆ 0        ┆ 117      │\n",
       "│ 88           ┆ 336      ┆ 3        ┆ 135      │\n",
       "│ 89           ┆ 328      ┆ 1        ┆ 149      │\n",
       "│ 90           ┆ 312      ┆ 2        ┆ 125      │\n",
       "│ 91           ┆ 271      ┆ 0        ┆ 138      │\n",
       "│ 92           ┆ 319      ┆ 2        ┆ 120      │\n",
       "│ 93           ┆ 13918    ┆ 91       ┆ 5623     │\n",
       "└──────────────┴──────────┴──────────┴──────────┘"
      ]
     },
     "metadata": {},
     "output_type": "display_data"
    }
   ],
   "source": [
    "with pl.Config(fmt_str_lengths=50, set_tbl_rows=-1):\n",
    "    display(putative_gc_df_hap_cnt)"
   ]
  },
  {
   "cell_type": "code",
   "execution_count": null,
   "id": "f0064e92-cfab-47c7-901f-d2b3d98b4a18",
   "metadata": {},
   "outputs": [],
   "source": []
  },
  {
   "cell_type": "code",
   "execution_count": 12,
   "id": "9702766d-ba6a-4cc4-b31f-6afe16046848",
   "metadata": {},
   "outputs": [
    {
     "data": {
      "image/png": "[encoded data removed]",
      "text/plain": [
       "<Figure size 640x480 with 1 Axes>"
      ]
     },
     "metadata": {},
     "output_type": "display_data"
    }
   ],
   "source": [
    "import statsmodels.stats.proportion\n",
    "\n",
    "A = putative_gc_df_hap_cnt[\"x_vs_y/x\"]\n",
    "B = putative_gc_df_hap_cnt[\"x_vs_y/x\"] + putative_gc_df_hap_cnt[\"x_vs_y/z\"] + putative_gc_df_hap_cnt[\"x_vs_y/y\"]\n",
    "p = A / B \n",
    "lo, hi = statsmodels.stats.proportion.proportion_confint(\n",
    "    A, B,\n",
    "    method=\"beta\", \n",
    "    alpha=0.05\n",
    ")\n",
    "\n",
    "plt.errorbar(\n",
    "    x = putative_gc_df_hap_cnt[\"qual_rounded\"],\n",
    "    y = p,\n",
    "    yerr = [p-lo, hi-p],\n",
    "    fmt = '.'\n",
    ")\n",
    "\n",
    "plt.xlabel(\"BQ\");\n",
    "plt.ylabel(\"Frac. of putative GC flipping to other allele\");\n",
    "#plt.ylim(0,1);\n"
   ]
  },
  {
   "cell_type": "code",
   "execution_count": 13,
   "id": "298b35e4-8531-47a0-b5fc-d2e95cfcf9c0",
   "metadata": {},
   "outputs": [
    {
     "data": {
      "image/png": "[encoded data removed]",
      "text/plain": [
       "<Figure size 640x480 with 1 Axes>"
      ]
     },
     "metadata": {},
     "output_type": "display_data"
    }
   ],
   "source": [
    "import statsmodels.stats.proportion\n",
    "\n",
    "A = putative_gc_df_hap_cnt[\"x_vs_y/x\"]\n",
    "B = putative_gc_df_hap_cnt[\"x_vs_y/x\"] + putative_gc_df_hap_cnt[\"x_vs_y/z\"] \n",
    "p = A / B \n",
    "lo, hi = statsmodels.stats.proportion.proportion_confint(\n",
    "    A, B,\n",
    "    method=\"beta\", \n",
    "    alpha=0.05\n",
    ")\n",
    "\n",
    "plt.errorbar(\n",
    "    x = putative_gc_df_hap_cnt[\"qual_rounded\"],\n",
    "    y = p,\n",
    "    yerr = [p-lo, hi-p],\n",
    "    fmt = '.'\n",
    ")\n",
    "\n",
    "plt.xlabel(\"BQ\");\n",
    "plt.ylabel(\"Frac. of putative GC flipping to other allele\");\n",
    "#plt.ylim(0,1);\n"
   ]
  },
  {
   "cell_type": "code",
   "execution_count": 14,
   "id": "e76b8942-b4a3-4984-81b7-f7fc9a272d25",
   "metadata": {},
   "outputs": [
    {
     "data": {
      "image/png": "[encoded data removed]",
      "text/plain": [
       "<Figure size 640x480 with 1 Axes>"
      ]
     },
     "metadata": {},
     "output_type": "display_data"
    }
   ],
   "source": [
    "import statsmodels.stats.proportion\n",
    "\n",
    "A = np.cumsum(putative_gc_df_hap_cnt[\"x_vs_y/z\"][::-1])[::-1]\n",
    "B = np.cumsum(putative_gc_df_hap_cnt[\"x_vs_y/x\"][::-1])[::-1]\n",
    "p = A / B \n",
    "lo, hi = statsmodels.stats.proportion.proportion_confint(\n",
    "    A, B,\n",
    "    method=\"beta\", \n",
    "    alpha=0.05\n",
    ")\n",
    "\n",
    "plt.errorbar(\n",
    "    x = putative_gc_df_hap_cnt[\"qual_rounded\"],\n",
    "    y = p,\n",
    "    yerr = [p-lo, hi-p],\n",
    "    fmt = '.'\n",
    ")\n",
    "\n",
    "plt.xlabel(\"BQ, cumulative (>=)\");\n",
    "plt.ylabel(\"Estimated false positive rate\");\n",
    "plt.yscale(\"log\")\n",
    "#plt.ylim(0.95,1);\n"
   ]
  },
  {
   "cell_type": "markdown",
   "id": "53c522ca-61cb-4bbf-9fe7-7a3ef6ca2267",
   "metadata": {},
   "source": [
    "# BQ as distance from start/end of read"
   ]
  },
  {
   "cell_type": "markdown",
   "id": "ff9e2640-49d8-4552-9362-0ff868f05736",
   "metadata": {},
   "source": [
    "## Read length"
   ]
  },
  {
   "cell_type": "code",
   "execution_count": 19,
   "id": "258a7444-ab26-4b45-bba8-ce5c68702147",
   "metadata": {},
   "outputs": [],
   "source": [
    "def get_read_lengths(focal_sample_id, denovo_chrom):\n",
    "    filtered_high_conf_mismatches_df = pl.scan_parquet(Path(\"/lustre/scratch126/casm/team154pc/sl17/03.sperm/02.results/01.read_alignment/01.ccs/04.hifiasm/02.hifiasm_0.19.5-r592/02.chromosome_length_scaffolds/\") \\\n",
    "            / f\"{focal_sample_id}\" / \"reads\" / f\"{denovo_chrom}.high_confidence_snps.parquet\")\n",
    "\n",
    "    read_lengths = filtered_high_conf_mismatches_df.unique([\"read_name\"]).select(\"read_length1\")\n",
    "\n",
    "    read_lengths = read_lengths.collect(streaming=True)\n",
    "    \n",
    "    return read_lengths\n"
   ]
  },
  {
   "cell_type": "code",
   "execution_count": null,
   "id": "cef1ff02-e2c9-4296-ade0-931becd2235a",
   "metadata": {},
   "outputs": [],
   "source": []
  },
  {
   "cell_type": "code",
   "execution_count": 20,
   "id": "5b03284a-724c-4dbb-890f-523d16b8895d",
   "metadata": {},
   "outputs": [
    {
     "name": "stdout",
     "output_type": "stream",
     "text": [
      "Mean: 17478.77499150923\n",
      "Median: 16754.0\n",
      "SE: 5042.332638112159\n",
      "Quantiles 1%, 5%, 95%, 99%: [ 4663. 11758. 26569. 31484.]\n"
     ]
    },
    {
     "data": {
      "image/png": "[encoded data removed]",
      "text/plain": [
       "<Figure size 640x480 with 1 Axes>"
      ]
     },
     "metadata": {},
     "output_type": "display_data"
    }
   ],
   "source": [
    "sample_id = \"NA12879\"\n",
    "read_lengths = pl.concat([get_read_lengths(sample_id, chrom+\"_RagTag\") for chrom in aut_chrom_names]).to_series(0)\n",
    "plt.title(sample_id)\n",
    "plt.hist(read_lengths, bins=100);\n",
    "plt.xlabel(\"Length in bp\");\n",
    "print(\"Mean:\", read_lengths.mean())\n",
    "print(\"Median:\", read_lengths.median())\n",
    "print(\"SE:\", read_lengths.std())\n",
    "print(\"Quantiles 1%, 5%, 95%, 99%:\", np.quantile(read_lengths, q=[0.01,0.05,0.95,0.99]))"
   ]
  },
  {
   "cell_type": "code",
   "execution_count": null,
   "id": "0b736706-c10b-46fc-be8c-1b3b6aa4efb4",
   "metadata": {},
   "outputs": [],
   "source": []
  },
  {
   "cell_type": "code",
   "execution_count": null,
   "id": "0fbf9a0f-5af8-4756-a162-a840dbc89c98",
   "metadata": {},
   "outputs": [],
   "source": []
  },
  {
   "cell_type": "code",
   "execution_count": null,
   "id": "b584108e-6da7-40b7-ad64-ccf1505b6422",
   "metadata": {},
   "outputs": [],
   "source": []
  },
  {
   "cell_type": "markdown",
   "id": "85ecf58a-169a-4514-9a39-dbb0350211ea",
   "metadata": {},
   "source": [
    "## Errors at read ends"
   ]
  },
  {
   "cell_type": "code",
   "execution_count": 38,
   "id": "1dc43427-13ab-4873-bbfe-5a0baba2c0da",
   "metadata": {},
   "outputs": [],
   "source": [
    "def do_it_all_start(focal_sample_id, denovo_chrom):\n",
    "    filtered_high_conf_mismatches_df = pl.scan_parquet(Path(\"/lustre/scratch126/casm/team154pc/sl17/03.sperm/02.results/01.read_alignment/01.ccs/04.hifiasm/02.hifiasm_0.19.5-r592/02.chromosome_length_scaffolds/\") \\\n",
    "        / f\"{focal_sample_id}\" / \"reads\" / f\"{denovo_chrom}.high_confidence_snps.parquet\")\n",
    "    \n",
    "    \n",
    "    filtered_high_conf_mismatches_df = diagnostics.add_high_confidence_annotation(\n",
    "        filtered_high_conf_mismatches_df,\n",
    "        base_qual_min = 0, # Don't filter on this just yet\n",
    "    )\n",
    "    \n",
    "    filtered_high_conf_mismatches_df = filtered_high_conf_mismatches_df.filter(\"is_high_conf_event\")\n",
    "    \n",
    "    filtered_high_conf_mismatches_df = filtered_high_conf_mismatches_df.collect(streaming=True)    \n",
    "    \n",
    "    \n",
    "    #\n",
    "    # 3. Find mismatches supported by flanking high conf SNPs (putative GC)\n",
    "    #\n",
    "    def F(df):\n",
    "        df = (df\n",
    "            .with_columns(\n",
    "                pl.col(\"fits1\").cum_sum().alias(\"fits1_before\"),\n",
    "                pl.col(\"fits1\").cum_sum(reverse=True).alias(\"fits1_after\"),\n",
    "                pl.col(\"fits2\").cum_sum().alias(\"fits2_before\"),\n",
    "                pl.col(\"fits2\").cum_sum(reverse=True).alias(\"fits2_after\"),\n",
    "                pl.col(\"start\").cum_count().alias(\"snp_index\"),\n",
    "                pl.col(\"start\").cum_count(reverse=True).alias(\"snp_rev_index\"),\n",
    "            )\n",
    "        )\n",
    "        return df\n",
    "\n",
    "    min_mapq = 93\n",
    "    context_df = (filtered_high_conf_mismatches_df\n",
    "        .filter((pl.col(\"qual_start1\") >= min_mapq) & (pl.col(\"qual_start2\") >= min_mapq))\n",
    "        .with_columns(\n",
    "            (pl.col(\"op1\") == 7).alias(\"fits1\").cast(int),\n",
    "            (pl.col(\"op2\") == 7).alias(\"fits2\").cast(int),\n",
    "        )\n",
    "        .sort(\"start\")\n",
    "        .group_by(\"read_name\")    \n",
    "        .map_groups(F)\n",
    "    )\n",
    "    \n",
    "    #\n",
    "    # 4. Calculate stats\n",
    "    # \n",
    "    flanking = 3       # including itself, if it fits\n",
    "    \n",
    "    display(context_df)\n",
    "\n",
    "    # Filter for putative GC events\n",
    "    putative_gc_df_hap = pl.concat(\n",
    "        [\n",
    "            (context_df\n",
    "                .filter((pl.col(\"op1\") == 8) & (pl.col(\"snp_index\") == 0) & (pl.col(\"fits1_after\") >= flanking))\n",
    "                .with_columns((pl.col(\"op2\") == 7).alias(\"other_op_equal\"))\n",
    "                .with_columns(pl.col(\"start\").alias(\"dist_from_end\"))\n",
    "            ),\n",
    "            (context_df\n",
    "                .filter((pl.col(\"op1\") == 8) & (pl.col(\"snp_rev_index\") == 0) & (pl.col(\"fits1_before\") >= flanking))\n",
    "                .with_columns((pl.col(\"op2\") == 7).alias(\"other_op_equal\"))\n",
    "                .with_columns((pl.col(\"read_length1\") - pl.col(\"end\")).alias(\"dist_from_end\"))\n",
    "            ),\n",
    "            (context_df\n",
    "                .filter((pl.col(\"op2\") == 8) & (pl.col(\"snp_index\") == 0) & (pl.col(\"fits2_after\") >= flanking))\n",
    "                .with_columns((pl.col(\"op1\") == 7).alias(\"other_op_equal\"))\n",
    "                .with_columns(pl.col(\"start\").alias(\"dist_from_end\"))\n",
    "            ),\n",
    "            (context_df\n",
    "                .filter((pl.col(\"op2\") == 8) & (pl.col(\"snp_rev_index\") == 0) & (pl.col(\"fits2_before\") >= flanking))\n",
    "                .with_columns((pl.col(\"op1\") == 7).alias(\"other_op_equal\"))\n",
    "                .with_columns((pl.col(\"read_length2\") - pl.col(\"end\")).alias(\"dist_from_end\"))\n",
    "            ),\n",
    "        ]\n",
    "    )\n",
    "\n",
    "    \n",
    "\n",
    "    # Mark where there are two different SNPs\n",
    "    putative_gc_df_hap = (putative_gc_df_hap\n",
    "        .with_columns((pl.col(\"refseq_start1\") != pl.col(\"refseq_start2\")).alias(\"diff_in_haplotypes\"))\n",
    "    )\n",
    "\n",
    "    # Make the three categories\n",
    "    putative_gc_df_hap = (putative_gc_df_hap\n",
    "        .with_columns(\n",
    "            pl.when(pl.col('diff_in_haplotypes') & pl.col(\"other_op_equal\")).then(pl.lit(\"x_vs_y/x\"))\n",
    "              .when(pl.col('diff_in_haplotypes') & ~pl.col(\"other_op_equal\")).then(pl.lit(\"x_vs_y/z\"))\n",
    "              .when(~pl.col('diff_in_haplotypes') & ~pl.col(\"other_op_equal\")).then(pl.lit(\"x_vs_y/y\"))\n",
    "              .otherwise(pl.lit(\"x_vs_x/x\"))\n",
    "              .alias('category')\n",
    "        )\n",
    "    )\n",
    "    \n",
    "    to_round = 50\n",
    "    putative_gc_df_hap_cnt = (putative_gc_df_hap\n",
    "        .with_columns(\n",
    "            (pl.col(\"dist_from_end\") // to_round * to_round).alias(\"dist_from_end_rounded\"),\n",
    "        )\n",
    "        .group_by([\"dist_from_end_rounded\", \"category\"])\n",
    "        .count()\n",
    "        .pivot(\n",
    "            values=[\"count\"],\n",
    "            index=[\"dist_from_end_rounded\"],\n",
    "            columns=[\"category\"],\n",
    "            aggregate_function=\"sum\",\n",
    "        )\n",
    "        .fill_null(0)\n",
    "        .sort(\"dist_from_end_rounded\")\n",
    "        .with_columns(\n",
    "            pl.lit(focal_sample_id).alias(\"focal_sample_id\"),\n",
    "            pl.lit(denovo_chrom).alias(\"chrom\"),\n",
    "        )\n",
    "    )\n",
    "    \n",
    "    return putative_gc_df_hap_cnt"
   ]
  },
  {
   "cell_type": "code",
   "execution_count": 39,
   "id": "5459b3a9-e16c-4401-a8a3-5946048fd217",
   "metadata": {
    "tags": []
   },
   "outputs": [
    {
     "data": {
      "text/html": [
       "<div><style>\n",
       ".dataframe > thead > tr,\n",
       ".dataframe > tbody > tr {\n",
       "  text-align: right;\n",
       "  white-space: pre-wrap;\n",
       "}\n",
       "</style>\n",
       "<small>shape: (236_452, 55)</small><table border=\"1\" class=\"dataframe\"><thead><tr><th>start</th><th>end</th><th>length</th><th>op1</th><th>op2</th><th>ref1_start</th><th>ref1_end</th><th>ref1_gap</th><th>ref2_start</th><th>ref2_end</th><th>ref2_gap</th><th>cigar_ptr1</th><th>cigar_ptr2</th><th>read_name</th><th>read_length1</th><th>read_length2</th><th>is_forward1</th><th>mapq1</th><th>ref1_name</th><th>qual_start1</th><th>refseq_start1</th><th>is_forward2</th><th>mapq2</th><th>ref2_name</th><th>qual_start2</th><th>refseq_start2</th><th>total_mismatches</th><th>total_common_insertions</th><th>num_common_insertions</th><th>num_common_deletions</th><th>total_clipping</th><th>num_clipping</th><th>is_snp</th><th>is_two_sided_mismatch</th><th>is_interesting_event</th><th>is_flanked_event</th><th>fits1_more</th><th>trf_repeat_length_hap1</th><th>trf_n_copies_hap1</th><th>trf_repeat_length_hap2</th><th>trf_n_copies_hap2</th><th>sdust_repeat_length_hap1</th><th>sdust_repeat_length_hap2</th><th>is_high_conf_event</th><th>is_high_conf_snp</th><th>is_mid_conf_event</th><th>is_mid_conf_snp</th><th>fits1</th><th>fits2</th><th>fits1_before</th><th>fits1_after</th><th>fits2_before</th><th>fits2_after</th><th>snp_index</th><th>snp_rev_index</th></tr><tr><td>i64</td><td>i64</td><td>i64</td><td>i64</td><td>i64</td><td>i64</td><td>i64</td><td>i64</td><td>i64</td><td>i64</td><td>i64</td><td>i64</td><td>i64</td><td>str</td><td>i32</td><td>i32</td><td>bool</td><td>i32</td><td>str</td><td>u8</td><td>str</td><td>bool</td><td>i32</td><td>str</td><td>u8</td><td>str</td><td>i64</td><td>i64</td><td>u32</td><td>u32</td><td>i64</td><td>u32</td><td>bool</td><td>bool</td><td>bool</td><td>bool</td><td>i32</td><td>i64</td><td>f64</td><td>i64</td><td>f64</td><td>i32</td><td>i32</td><td>bool</td><td>bool</td><td>bool</td><td>bool</td><td>i64</td><td>i64</td><td>i64</td><td>i64</td><td>i64</td><td>i64</td><td>u32</td><td>u32</td></tr></thead><tbody><tr><td>10639</td><td>10640</td><td>1</td><td>7</td><td>8</td><td>25810172</td><td>25810173</td><td>1</td><td>28170473</td><td>28170474</td><td>1</td><td>311</td><td>371</td><td>&quot;m64076_230221_200319/64029254/…</td><td>18380</td><td>18380</td><td>true</td><td>60</td><td>&quot;chr22_RagTag&quot;</td><td>93</td><td>&quot;C&quot;</td><td>true</td><td>60</td><td>&quot;chr22_RagTag&quot;</td><td>93</td><td>&quot;T&quot;</td><td>21</td><td>142</td><td>128</td><td>65</td><td>8</td><td>1</td><td>true</td><td>false</td><td>true</td><td>true</td><td>1</td><td>0</td><td>0.0</td><td>0</td><td>0.0</td><td>0</td><td>0</td><td>true</td><td>true</td><td>true</td><td>true</td><td>1</td><td>0</td><td>1</td><td>1</td><td>0</td><td>0</td><td>1</td><td>1</td></tr><tr><td>1535</td><td>1536</td><td>1</td><td>7</td><td>8</td><td>10385768</td><td>10385769</td><td>1</td><td>12729294</td><td>12729295</td><td>1</td><td>2</td><td>77</td><td>&quot;m64076_230503_071720/56755514/…</td><td>28375</td><td>28375</td><td>false</td><td>50</td><td>&quot;chr22_RagTag&quot;</td><td>93</td><td>&quot;A&quot;</td><td>false</td><td>60</td><td>&quot;chr22_RagTag&quot;</td><td>93</td><td>&quot;G&quot;</td><td>0</td><td>2</td><td>2</td><td>15</td><td>0</td><td>0</td><td>true</td><td>false</td><td>true</td><td>true</td><td>1</td><td>0</td><td>0.0</td><td>0</td><td>0.0</td><td>0</td><td>0</td><td>true</td><td>true</td><td>true</td><td>true</td><td>1</td><td>0</td><td>1</td><td>88</td><td>0</td><td>0</td><td>1</td><td>88</td></tr><tr><td>1692</td><td>1693</td><td>1</td><td>7</td><td>8</td><td>10385925</td><td>10385926</td><td>1</td><td>12729451</td><td>12729452</td><td>1</td><td>2</td><td>83</td><td>&quot;m64076_230503_071720/56755514/…</td><td>28375</td><td>28375</td><td>false</td><td>50</td><td>&quot;chr22_RagTag&quot;</td><td>93</td><td>&quot;A&quot;</td><td>false</td><td>60</td><td>&quot;chr22_RagTag&quot;</td><td>93</td><td>&quot;T&quot;</td><td>0</td><td>2</td><td>2</td><td>15</td><td>0</td><td>0</td><td>true</td><td>false</td><td>true</td><td>true</td><td>1</td><td>0</td><td>0.0</td><td>0</td><td>0.0</td><td>0</td><td>0</td><td>true</td><td>true</td><td>true</td><td>true</td><td>1</td><td>0</td><td>2</td><td>87</td><td>0</td><td>0</td><td>2</td><td>87</td></tr><tr><td>1745</td><td>1746</td><td>1</td><td>7</td><td>8</td><td>10385978</td><td>10385979</td><td>1</td><td>12729504</td><td>12729505</td><td>1</td><td>2</td><td>91</td><td>&quot;m64076_230503_071720/56755514/…</td><td>28375</td><td>28375</td><td>false</td><td>50</td><td>&quot;chr22_RagTag&quot;</td><td>93</td><td>&quot;C&quot;</td><td>false</td><td>60</td><td>&quot;chr22_RagTag&quot;</td><td>93</td><td>&quot;T&quot;</td><td>0</td><td>2</td><td>2</td><td>15</td><td>0</td><td>0</td><td>true</td><td>false</td><td>true</td><td>true</td><td>1</td><td>0</td><td>0.0</td><td>0</td><td>0.0</td><td>0</td><td>0</td><td>true</td><td>true</td><td>true</td><td>true</td><td>1</td><td>0</td><td>3</td><td>86</td><td>0</td><td>0</td><td>3</td><td>86</td></tr><tr><td>1795</td><td>1796</td><td>1</td><td>7</td><td>8</td><td>10386028</td><td>10386029</td><td>1</td><td>12729554</td><td>12729555</td><td>1</td><td>2</td><td>97</td><td>&quot;m64076_230503_071720/56755514/…</td><td>28375</td><td>28375</td><td>false</td><td>50</td><td>&quot;chr22_RagTag&quot;</td><td>93</td><td>&quot;T&quot;</td><td>false</td><td>60</td><td>&quot;chr22_RagTag&quot;</td><td>93</td><td>&quot;G&quot;</td><td>0</td><td>2</td><td>2</td><td>15</td><td>0</td><td>0</td><td>true</td><td>false</td><td>true</td><td>true</td><td>1</td><td>0</td><td>0.0</td><td>0</td><td>0.0</td><td>0</td><td>0</td><td>true</td><td>true</td><td>true</td><td>true</td><td>1</td><td>0</td><td>4</td><td>85</td><td>0</td><td>0</td><td>4</td><td>85</td></tr><tr><td>&hellip;</td><td>&hellip;</td><td>&hellip;</td><td>&hellip;</td><td>&hellip;</td><td>&hellip;</td><td>&hellip;</td><td>&hellip;</td><td>&hellip;</td><td>&hellip;</td><td>&hellip;</td><td>&hellip;</td><td>&hellip;</td><td>&hellip;</td><td>&hellip;</td><td>&hellip;</td><td>&hellip;</td><td>&hellip;</td><td>&hellip;</td><td>&hellip;</td><td>&hellip;</td><td>&hellip;</td><td>&hellip;</td><td>&hellip;</td><td>&hellip;</td><td>&hellip;</td><td>&hellip;</td><td>&hellip;</td><td>&hellip;</td><td>&hellip;</td><td>&hellip;</td><td>&hellip;</td><td>&hellip;</td><td>&hellip;</td><td>&hellip;</td><td>&hellip;</td><td>&hellip;</td><td>&hellip;</td><td>&hellip;</td><td>&hellip;</td><td>&hellip;</td><td>&hellip;</td><td>&hellip;</td><td>&hellip;</td><td>&hellip;</td><td>&hellip;</td><td>&hellip;</td><td>&hellip;</td><td>&hellip;</td><td>&hellip;</td><td>&hellip;</td><td>&hellip;</td><td>&hellip;</td><td>&hellip;</td><td>&hellip;</td></tr><tr><td>11772</td><td>11773</td><td>1</td><td>7</td><td>8</td><td>7691879</td><td>7691880</td><td>1</td><td>10029928</td><td>10029929</td><td>1</td><td>13</td><td>32</td><td>&quot;m64076_230503_071720/112787639…</td><td>17982</td><td>17982</td><td>false</td><td>41</td><td>&quot;chr22_RagTag&quot;</td><td>93</td><td>&quot;T&quot;</td><td>false</td><td>29</td><td>&quot;chr22_RagTag&quot;</td><td>93</td><td>&quot;C&quot;</td><td>1</td><td>8</td><td>6</td><td>4</td><td>0</td><td>0</td><td>true</td><td>false</td><td>true</td><td>true</td><td>1</td><td>0</td><td>0.0</td><td>0</td><td>0.0</td><td>0</td><td>0</td><td>true</td><td>true</td><td>true</td><td>true</td><td>1</td><td>0</td><td>4</td><td>5</td><td>0</td><td>0</td><td>4</td><td>5</td></tr><tr><td>14001</td><td>14002</td><td>1</td><td>7</td><td>8</td><td>7694106</td><td>7694107</td><td>1</td><td>10032155</td><td>10032156</td><td>1</td><td>15</td><td>38</td><td>&quot;m64076_230503_071720/112787639…</td><td>17982</td><td>17982</td><td>false</td><td>41</td><td>&quot;chr22_RagTag&quot;</td><td>93</td><td>&quot;A&quot;</td><td>false</td><td>29</td><td>&quot;chr22_RagTag&quot;</td><td>93</td><td>&quot;C&quot;</td><td>1</td><td>8</td><td>6</td><td>4</td><td>0</td><td>0</td><td>true</td><td>false</td><td>true</td><td>true</td><td>1</td><td>0</td><td>0.0</td><td>0</td><td>0.0</td><td>0</td><td>0</td><td>true</td><td>true</td><td>true</td><td>true</td><td>1</td><td>0</td><td>5</td><td>4</td><td>0</td><td>0</td><td>5</td><td>4</td></tr><tr><td>14286</td><td>14287</td><td>1</td><td>7</td><td>8</td><td>7694391</td><td>7694392</td><td>1</td><td>10032440</td><td>10032441</td><td>1</td><td>15</td><td>40</td><td>&quot;m64076_230503_071720/112787639…</td><td>17982</td><td>17982</td><td>false</td><td>41</td><td>&quot;chr22_RagTag&quot;</td><td>93</td><td>&quot;G&quot;</td><td>false</td><td>29</td><td>&quot;chr22_RagTag&quot;</td><td>93</td><td>&quot;A&quot;</td><td>1</td><td>8</td><td>6</td><td>4</td><td>0</td><td>0</td><td>true</td><td>false</td><td>true</td><td>true</td><td>1</td><td>0</td><td>0.0</td><td>0</td><td>0.0</td><td>0</td><td>0</td><td>true</td><td>true</td><td>true</td><td>true</td><td>1</td><td>0</td><td>6</td><td>3</td><td>0</td><td>0</td><td>6</td><td>3</td></tr><tr><td>16180</td><td>16181</td><td>1</td><td>7</td><td>8</td><td>7696285</td><td>7696286</td><td>1</td><td>10034334</td><td>10034335</td><td>1</td><td>15</td><td>42</td><td>&quot;m64076_230503_071720/112787639…</td><td>17982</td><td>17982</td><td>false</td><td>41</td><td>&quot;chr22_RagTag&quot;</td><td>93</td><td>&quot;A&quot;</td><td>false</td><td>29</td><td>&quot;chr22_RagTag&quot;</td><td>93</td><td>&quot;G&quot;</td><td>1</td><td>8</td><td>6</td><td>4</td><td>0</td><td>0</td><td>true</td><td>false</td><td>true</td><td>true</td><td>1</td><td>0</td><td>0.0</td><td>0</td><td>0.0</td><td>0</td><td>0</td><td>true</td><td>true</td><td>true</td><td>true</td><td>1</td><td>0</td><td>7</td><td>2</td><td>0</td><td>0</td><td>7</td><td>2</td></tr><tr><td>16249</td><td>16250</td><td>1</td><td>7</td><td>8</td><td>7696354</td><td>7696355</td><td>1</td><td>10034403</td><td>10034404</td><td>1</td><td>15</td><td>44</td><td>&quot;m64076_230503_071720/112787639…</td><td>17982</td><td>17982</td><td>false</td><td>41</td><td>&quot;chr22_RagTag&quot;</td><td>93</td><td>&quot;T&quot;</td><td>false</td><td>29</td><td>&quot;chr22_RagTag&quot;</td><td>93</td><td>&quot;G&quot;</td><td>1</td><td>8</td><td>6</td><td>4</td><td>0</td><td>0</td><td>true</td><td>false</td><td>true</td><td>true</td><td>1</td><td>0</td><td>0.0</td><td>0</td><td>0.0</td><td>0</td><td>0</td><td>true</td><td>true</td><td>true</td><td>true</td><td>1</td><td>0</td><td>8</td><td>1</td><td>0</td><td>0</td><td>8</td><td>1</td></tr></tbody></table></div>"
      ],
      "text/plain": [
       "shape: (236_452, 55)\n",
       "┌───────┬───────┬────────┬─────┬───┬──────────────┬─────────────┬───────────┬───────────────┐\n",
       "│ start ┆ end   ┆ length ┆ op1 ┆ … ┆ fits2_before ┆ fits2_after ┆ snp_index ┆ snp_rev_index │\n",
       "│ ---   ┆ ---   ┆ ---    ┆ --- ┆   ┆ ---          ┆ ---         ┆ ---       ┆ ---           │\n",
       "│ i64   ┆ i64   ┆ i64    ┆ i64 ┆   ┆ i64          ┆ i64         ┆ u32       ┆ u32           │\n",
       "╞═══════╪═══════╪════════╪═════╪═══╪══════════════╪═════════════╪═══════════╪═══════════════╡\n",
       "│ 10639 ┆ 10640 ┆ 1      ┆ 7   ┆ … ┆ 0            ┆ 0           ┆ 1         ┆ 1             │\n",
       "│ 1535  ┆ 1536  ┆ 1      ┆ 7   ┆ … ┆ 0            ┆ 0           ┆ 1         ┆ 88            │\n",
       "│ 1692  ┆ 1693  ┆ 1      ┆ 7   ┆ … ┆ 0            ┆ 0           ┆ 2         ┆ 87            │\n",
       "│ 1745  ┆ 1746  ┆ 1      ┆ 7   ┆ … ┆ 0            ┆ 0           ┆ 3         ┆ 86            │\n",
       "│ 1795  ┆ 1796  ┆ 1      ┆ 7   ┆ … ┆ 0            ┆ 0           ┆ 4         ┆ 85            │\n",
       "│ …     ┆ …     ┆ …      ┆ …   ┆ … ┆ …            ┆ …           ┆ …         ┆ …             │\n",
       "│ 11772 ┆ 11773 ┆ 1      ┆ 7   ┆ … ┆ 0            ┆ 0           ┆ 4         ┆ 5             │\n",
       "│ 14001 ┆ 14002 ┆ 1      ┆ 7   ┆ … ┆ 0            ┆ 0           ┆ 5         ┆ 4             │\n",
       "│ 14286 ┆ 14287 ┆ 1      ┆ 7   ┆ … ┆ 0            ┆ 0           ┆ 6         ┆ 3             │\n",
       "│ 16180 ┆ 16181 ┆ 1      ┆ 7   ┆ … ┆ 0            ┆ 0           ┆ 7         ┆ 2             │\n",
       "│ 16249 ┆ 16250 ┆ 1      ┆ 7   ┆ … ┆ 0            ┆ 0           ┆ 8         ┆ 1             │\n",
       "└───────┴───────┴────────┴─────┴───┴──────────────┴─────────────┴───────────┴───────────────┘"
      ]
     },
     "metadata": {},
     "output_type": "display_data"
    },
    {
     "name": "stderr",
     "output_type": "stream",
     "text": [
      "/tmp/ipykernel_2345368/1256789826.py:101: DeprecationWarning: `GroupBy.count` is deprecated. It has been renamed to `len`.\n",
      "  .count()\n",
      "/tmp/ipykernel_2345368/1256789826.py:102: DeprecationWarning: The argument `columns` for `DataFrame.pivot` is deprecated. It has been renamed to `on`.\n",
      "  .pivot(\n"
     ]
    },
    {
     "data": {
      "text/html": [
       "<div><style>\n",
       ".dataframe > thead > tr,\n",
       ".dataframe > tbody > tr {\n",
       "  text-align: right;\n",
       "  white-space: pre-wrap;\n",
       "}\n",
       "</style>\n",
       "<small>shape: (0, 3)</small><table border=\"1\" class=\"dataframe\"><thead><tr><th>dist_from_end_rounded</th><th>focal_sample_id</th><th>chrom</th></tr><tr><td>i64</td><td>str</td><td>str</td></tr></thead><tbody></tbody></table></div>"
      ],
      "text/plain": [
       "shape: (0, 3)\n",
       "┌───────────────────────┬─────────────────┬───────┐\n",
       "│ dist_from_end_rounded ┆ focal_sample_id ┆ chrom │\n",
       "│ ---                   ┆ ---             ┆ ---   │\n",
       "│ i64                   ┆ str             ┆ str   │\n",
       "╞═══════════════════════╪═════════════════╪═══════╡\n",
       "└───────────────────────┴─────────────────┴───────┘"
      ]
     },
     "execution_count": 39,
     "metadata": {},
     "output_type": "execute_result"
    }
   ],
   "source": [
    "do_it_all_start(focal_sample_id, \"chr22\" + \"_RagTag\")"
   ]
  },
  {
   "cell_type": "code",
   "execution_count": null,
   "id": "412bdbc7-bba6-4c97-b0d4-2de3480b5666",
   "metadata": {},
   "outputs": [],
   "source": []
  },
  {
   "cell_type": "code",
   "execution_count": 22,
   "id": "360625d6-8d69-4241-ac5e-19c8eef23b7b",
   "metadata": {},
   "outputs": [
    {
     "name": "stdout",
     "output_type": "stream",
     "text": [
      "[Parallel(n_jobs=4)]: Using backend LokyBackend with 4 concurrent workers.\n"
     ]
    },
    {
     "name": "stderr",
     "output_type": "stream",
     "text": [
      "/nfs/users/nfs_r/rs42/rs42/miniforge3/envs/sperm/lib/python3.11/site-packages/joblib/externals/loky/backend/fork_exec.py:38: RuntimeWarning: Using fork() can cause Polars to deadlock in the child process.\n",
      "In addition, using fork() with Python in general is a recipe for mysterious\n",
      "deadlocks and crashes.\n",
      "\n",
      "The most likely reason you are seeing this error is because you are using the\n",
      "multiprocessing module on Linux, which uses fork() by default. This will be\n",
      "fixed in Python 3.14. Until then, you want to use the \"spawn\" context instead.\n",
      "\n",
      "See https://docs.pola.rs/user-guide/misc/multiprocessing/ for details.\n",
      "\n",
      "  pid = os.fork()\n",
      "/tmp/ipykernel_2345368/1810856695.py:96: DeprecationWarning: `GroupBy.count` is deprecated. It has been renamed to `len`.\n",
      "/tmp/ipykernel_2345368/1810856695.py:97: DeprecationWarning: The argument `columns` for `DataFrame.pivot` is deprecated. It has been renamed to `on`.\n"
     ]
    },
    {
     "name": "stdout",
     "output_type": "stream",
     "text": [
      "[Parallel(n_jobs=4)]: Done   1 tasks      | elapsed:  1.5min\n"
     ]
    },
    {
     "name": "stderr",
     "output_type": "stream",
     "text": [
      "/tmp/ipykernel_2345368/1810856695.py:96: DeprecationWarning: `GroupBy.count` is deprecated. It has been renamed to `len`.\n",
      "/tmp/ipykernel_2345368/1810856695.py:97: DeprecationWarning: The argument `columns` for `DataFrame.pivot` is deprecated. It has been renamed to `on`.\n"
     ]
    },
    {
     "name": "stdout",
     "output_type": "stream",
     "text": [
      "[Parallel(n_jobs=4)]: Done   2 tasks      | elapsed:  1.6min\n"
     ]
    },
    {
     "name": "stderr",
     "output_type": "stream",
     "text": [
      "/tmp/ipykernel_2345368/1810856695.py:96: DeprecationWarning: `GroupBy.count` is deprecated. It has been renamed to `len`.\n",
      "/tmp/ipykernel_2345368/1810856695.py:97: DeprecationWarning: The argument `columns` for `DataFrame.pivot` is deprecated. It has been renamed to `on`.\n"
     ]
    },
    {
     "name": "stdout",
     "output_type": "stream",
     "text": [
      "[Parallel(n_jobs=4)]: Done   3 tasks      | elapsed:  1.6min\n"
     ]
    },
    {
     "name": "stderr",
     "output_type": "stream",
     "text": [
      "/tmp/ipykernel_2345368/1810856695.py:96: DeprecationWarning: `GroupBy.count` is deprecated. It has been renamed to `len`.\n",
      "/tmp/ipykernel_2345368/1810856695.py:97: DeprecationWarning: The argument `columns` for `DataFrame.pivot` is deprecated. It has been renamed to `on`.\n"
     ]
    },
    {
     "name": "stdout",
     "output_type": "stream",
     "text": [
      "[Parallel(n_jobs=4)]: Done   4 tasks      | elapsed:  1.7min\n"
     ]
    },
    {
     "name": "stderr",
     "output_type": "stream",
     "text": [
      "/tmp/ipykernel_2345368/1810856695.py:96: DeprecationWarning: `GroupBy.count` is deprecated. It has been renamed to `len`.\n",
      "/tmp/ipykernel_2345368/1810856695.py:97: DeprecationWarning: The argument `columns` for `DataFrame.pivot` is deprecated. It has been renamed to `on`.\n"
     ]
    },
    {
     "name": "stdout",
     "output_type": "stream",
     "text": [
      "[Parallel(n_jobs=4)]: Done   5 tasks      | elapsed:  2.6min\n"
     ]
    },
    {
     "name": "stderr",
     "output_type": "stream",
     "text": [
      "/tmp/ipykernel_2345368/1810856695.py:96: DeprecationWarning: `GroupBy.count` is deprecated. It has been renamed to `len`.\n",
      "/tmp/ipykernel_2345368/1810856695.py:97: DeprecationWarning: The argument `columns` for `DataFrame.pivot` is deprecated. It has been renamed to `on`.\n"
     ]
    },
    {
     "name": "stdout",
     "output_type": "stream",
     "text": [
      "[Parallel(n_jobs=4)]: Done   6 tasks      | elapsed:  2.7min\n"
     ]
    },
    {
     "name": "stderr",
     "output_type": "stream",
     "text": [
      "/tmp/ipykernel_2345368/1810856695.py:96: DeprecationWarning: `GroupBy.count` is deprecated. It has been renamed to `len`.\n",
      "/tmp/ipykernel_2345368/1810856695.py:97: DeprecationWarning: The argument `columns` for `DataFrame.pivot` is deprecated. It has been renamed to `on`.\n"
     ]
    },
    {
     "name": "stdout",
     "output_type": "stream",
     "text": [
      "[Parallel(n_jobs=4)]: Done   7 tasks      | elapsed:  2.7min\n"
     ]
    },
    {
     "name": "stderr",
     "output_type": "stream",
     "text": [
      "/tmp/ipykernel_2345368/1810856695.py:96: DeprecationWarning: `GroupBy.count` is deprecated. It has been renamed to `len`.\n",
      "/tmp/ipykernel_2345368/1810856695.py:97: DeprecationWarning: The argument `columns` for `DataFrame.pivot` is deprecated. It has been renamed to `on`.\n"
     ]
    },
    {
     "name": "stdout",
     "output_type": "stream",
     "text": [
      "[Parallel(n_jobs=4)]: Done   8 tasks      | elapsed:  2.7min\n"
     ]
    },
    {
     "name": "stderr",
     "output_type": "stream",
     "text": [
      "/tmp/ipykernel_2345368/1810856695.py:96: DeprecationWarning: `GroupBy.count` is deprecated. It has been renamed to `len`.\n",
      "/tmp/ipykernel_2345368/1810856695.py:97: DeprecationWarning: The argument `columns` for `DataFrame.pivot` is deprecated. It has been renamed to `on`.\n"
     ]
    },
    {
     "name": "stdout",
     "output_type": "stream",
     "text": [
      "[Parallel(n_jobs=4)]: Done   9 tasks      | elapsed:  3.3min\n"
     ]
    },
    {
     "name": "stderr",
     "output_type": "stream",
     "text": [
      "/tmp/ipykernel_2345368/1810856695.py:96: DeprecationWarning: `GroupBy.count` is deprecated. It has been renamed to `len`.\n",
      "/tmp/ipykernel_2345368/1810856695.py:97: DeprecationWarning: The argument `columns` for `DataFrame.pivot` is deprecated. It has been renamed to `on`.\n"
     ]
    },
    {
     "name": "stdout",
     "output_type": "stream",
     "text": [
      "[Parallel(n_jobs=4)]: Done  10 tasks      | elapsed:  3.5min\n"
     ]
    },
    {
     "name": "stderr",
     "output_type": "stream",
     "text": [
      "/tmp/ipykernel_2345368/1810856695.py:96: DeprecationWarning: `GroupBy.count` is deprecated. It has been renamed to `len`.\n",
      "/tmp/ipykernel_2345368/1810856695.py:97: DeprecationWarning: The argument `columns` for `DataFrame.pivot` is deprecated. It has been renamed to `on`.\n",
      "/tmp/ipykernel_2345368/1810856695.py:96: DeprecationWarning: `GroupBy.count` is deprecated. It has been renamed to `len`.\n",
      "/tmp/ipykernel_2345368/1810856695.py:97: DeprecationWarning: The argument `columns` for `DataFrame.pivot` is deprecated. It has been renamed to `on`.\n"
     ]
    },
    {
     "name": "stdout",
     "output_type": "stream",
     "text": [
      "[Parallel(n_jobs=4)]: Done  11 tasks      | elapsed:  3.5min\n",
      "[Parallel(n_jobs=4)]: Done  12 tasks      | elapsed:  3.5min\n"
     ]
    },
    {
     "name": "stderr",
     "output_type": "stream",
     "text": [
      "/tmp/ipykernel_2345368/1810856695.py:96: DeprecationWarning: `GroupBy.count` is deprecated. It has been renamed to `len`.\n",
      "/tmp/ipykernel_2345368/1810856695.py:97: DeprecationWarning: The argument `columns` for `DataFrame.pivot` is deprecated. It has been renamed to `on`.\n"
     ]
    },
    {
     "name": "stdout",
     "output_type": "stream",
     "text": [
      "[Parallel(n_jobs=4)]: Done  13 tasks      | elapsed:  3.9min\n"
     ]
    },
    {
     "name": "stderr",
     "output_type": "stream",
     "text": [
      "/tmp/ipykernel_2345368/1810856695.py:96: DeprecationWarning: `GroupBy.count` is deprecated. It has been renamed to `len`.\n",
      "/tmp/ipykernel_2345368/1810856695.py:97: DeprecationWarning: The argument `columns` for `DataFrame.pivot` is deprecated. It has been renamed to `on`.\n"
     ]
    },
    {
     "name": "stdout",
     "output_type": "stream",
     "text": [
      "[Parallel(n_jobs=4)]: Done  14 tasks      | elapsed:  3.9min\n"
     ]
    },
    {
     "name": "stderr",
     "output_type": "stream",
     "text": [
      "/tmp/ipykernel_2345368/1810856695.py:96: DeprecationWarning: `GroupBy.count` is deprecated. It has been renamed to `len`.\n",
      "/tmp/ipykernel_2345368/1810856695.py:97: DeprecationWarning: The argument `columns` for `DataFrame.pivot` is deprecated. It has been renamed to `on`.\n"
     ]
    },
    {
     "name": "stdout",
     "output_type": "stream",
     "text": [
      "[Parallel(n_jobs=4)]: Done  15 tasks      | elapsed:  4.0min\n"
     ]
    },
    {
     "name": "stderr",
     "output_type": "stream",
     "text": [
      "/tmp/ipykernel_2345368/1810856695.py:96: DeprecationWarning: `GroupBy.count` is deprecated. It has been renamed to `len`.\n",
      "/tmp/ipykernel_2345368/1810856695.py:97: DeprecationWarning: The argument `columns` for `DataFrame.pivot` is deprecated. It has been renamed to `on`.\n"
     ]
    },
    {
     "name": "stdout",
     "output_type": "stream",
     "text": [
      "[Parallel(n_jobs=4)]: Done  16 out of  22 | elapsed:  4.1min remaining:  1.5min\n"
     ]
    },
    {
     "name": "stderr",
     "output_type": "stream",
     "text": [
      "/tmp/ipykernel_2345368/1810856695.py:96: DeprecationWarning: `GroupBy.count` is deprecated. It has been renamed to `len`.\n",
      "/tmp/ipykernel_2345368/1810856695.py:97: DeprecationWarning: The argument `columns` for `DataFrame.pivot` is deprecated. It has been renamed to `on`.\n"
     ]
    },
    {
     "name": "stdout",
     "output_type": "stream",
     "text": [
      "[Parallel(n_jobs=4)]: Done  17 out of  22 | elapsed:  4.2min remaining:  1.2min\n"
     ]
    },
    {
     "name": "stderr",
     "output_type": "stream",
     "text": [
      "/tmp/ipykernel_2345368/1810856695.py:96: DeprecationWarning: `GroupBy.count` is deprecated. It has been renamed to `len`.\n",
      "/tmp/ipykernel_2345368/1810856695.py:97: DeprecationWarning: The argument `columns` for `DataFrame.pivot` is deprecated. It has been renamed to `on`.\n"
     ]
    },
    {
     "name": "stdout",
     "output_type": "stream",
     "text": [
      "[Parallel(n_jobs=4)]: Done  18 out of  22 | elapsed:  4.2min remaining:   56.7s\n"
     ]
    },
    {
     "name": "stderr",
     "output_type": "stream",
     "text": [
      "/tmp/ipykernel_2345368/1810856695.py:96: DeprecationWarning: `GroupBy.count` is deprecated. It has been renamed to `len`.\n",
      "/tmp/ipykernel_2345368/1810856695.py:97: DeprecationWarning: The argument `columns` for `DataFrame.pivot` is deprecated. It has been renamed to `on`.\n"
     ]
    },
    {
     "name": "stdout",
     "output_type": "stream",
     "text": [
      "[Parallel(n_jobs=4)]: Done  19 out of  22 | elapsed:  4.4min remaining:   41.4s\n"
     ]
    },
    {
     "name": "stderr",
     "output_type": "stream",
     "text": [
      "/tmp/ipykernel_2345368/1810856695.py:96: DeprecationWarning: `GroupBy.count` is deprecated. It has been renamed to `len`.\n",
      "/tmp/ipykernel_2345368/1810856695.py:97: DeprecationWarning: The argument `columns` for `DataFrame.pivot` is deprecated. It has been renamed to `on`.\n",
      "/tmp/ipykernel_2345368/1810856695.py:96: DeprecationWarning: `GroupBy.count` is deprecated. It has been renamed to `len`.\n",
      "/tmp/ipykernel_2345368/1810856695.py:97: DeprecationWarning: The argument `columns` for `DataFrame.pivot` is deprecated. It has been renamed to `on`.\n"
     ]
    },
    {
     "name": "stdout",
     "output_type": "stream",
     "text": [
      "[Parallel(n_jobs=4)]: Done  20 out of  22 | elapsed:  4.4min remaining:   26.6s\n",
      "[Parallel(n_jobs=4)]: Done  22 out of  22 | elapsed:  4.4min finished\n",
      "CPU times: user 248 ms, sys: 236 ms, total: 484 ms\n",
      "Wall time: 4min 26s\n"
     ]
    },
    {
     "name": "stderr",
     "output_type": "stream",
     "text": [
      "/tmp/ipykernel_2345368/1810856695.py:96: DeprecationWarning: `GroupBy.count` is deprecated. It has been renamed to `len`.\n",
      "/tmp/ipykernel_2345368/1810856695.py:97: DeprecationWarning: The argument `columns` for `DataFrame.pivot` is deprecated. It has been renamed to `on`.\n"
     ]
    }
   ],
   "source": [
    "%%time \n",
    "startdfs = joblib.Parallel(n_jobs=4, verbose=50)(\n",
    "    joblib.delayed(do_it_all_start)(focal_sample_id, chrom + \"_RagTag\") for chrom in aut_chrom_names\n",
    ")"
   ]
  },
  {
   "cell_type": "code",
   "execution_count": 23,
   "id": "2d54aaa4-6660-4688-bb47-39800e7cc3d1",
   "metadata": {},
   "outputs": [],
   "source": [
    "for i in range(len(startdfs)):\n",
    "    if \"x_vs_y/z\" not in startdfs[i].columns:\n",
    "        startdfs[i] = startdfs[i].with_columns(pl.lit(0).alias(\"x_vs_y/z\"))"
   ]
  },
  {
   "cell_type": "code",
   "execution_count": 29,
   "id": "166c5759-6dd3-4c23-8957-e80faf3207b4",
   "metadata": {
    "tags": []
   },
   "outputs": [
    {
     "data": {
      "text/html": [
       "<div><style>\n",
       ".dataframe > thead > tr,\n",
       ".dataframe > tbody > tr {\n",
       "  text-align: right;\n",
       "  white-space: pre-wrap;\n",
       "}\n",
       "</style>\n",
       "<small>shape: (0, 4)</small><table border=\"1\" class=\"dataframe\"><thead><tr><th>dist_from_end_rounded</th><th>focal_sample_id</th><th>chrom</th><th>x_vs_y/z</th></tr><tr><td>i64</td><td>str</td><td>str</td><td>i32</td></tr></thead><tbody></tbody></table></div>"
      ],
      "text/plain": [
       "shape: (0, 4)\n",
       "┌───────────────────────┬─────────────────┬───────┬──────────┐\n",
       "│ dist_from_end_rounded ┆ focal_sample_id ┆ chrom ┆ x_vs_y/z │\n",
       "│ ---                   ┆ ---             ┆ ---   ┆ ---      │\n",
       "│ i64                   ┆ str             ┆ str   ┆ i32      │\n",
       "╞═══════════════════════╪═════════════════╪═══════╪══════════╡\n",
       "└───────────────────────┴─────────────────┴───────┴──────────┘"
      ]
     },
     "execution_count": 29,
     "metadata": {},
     "output_type": "execute_result"
    }
   ],
   "source": [
    "startdfs[3]"
   ]
  },
  {
   "cell_type": "code",
   "execution_count": 24,
   "id": "fa50e21e-50c9-4b58-9974-db84d55c2b2f",
   "metadata": {},
   "outputs": [
    {
     "ename": "ColumnNotFoundError",
     "evalue": "\"x_vs_y/y\" not found",
     "output_type": "error",
     "traceback": [
      "\u001b[0;31m---------------------------------------------------------------------------\u001b[0m",
      "\u001b[0;31mTypeError\u001b[0m                                 Traceback (most recent call last)",
      "File \u001b[0;32m~/rs42/miniforge3/envs/sperm/lib/python3.11/site-packages/polars/_utils/construction/series.py:312\u001b[0m, in \u001b[0;36m_construct_series_with_fallbacks\u001b[0;34m(constructor, name, values, dtype, strict)\u001b[0m\n\u001b[1;32m    311\u001b[0m \u001b[38;5;28;01mtry\u001b[39;00m:\n\u001b[0;32m--> 312\u001b[0m     \u001b[38;5;28;01mreturn\u001b[39;00m \u001b[43mconstructor\u001b[49m\u001b[43m(\u001b[49m\u001b[43mname\u001b[49m\u001b[43m,\u001b[49m\u001b[43m \u001b[49m\u001b[43mvalues\u001b[49m\u001b[43m,\u001b[49m\u001b[43m \u001b[49m\u001b[43mstrict\u001b[49m\u001b[43m)\u001b[49m\n\u001b[1;32m    313\u001b[0m \u001b[38;5;28;01mexcept\u001b[39;00m \u001b[38;5;167;01mTypeError\u001b[39;00m:\n",
      "\u001b[0;31mTypeError\u001b[0m: 'str' object cannot be interpreted as an integer",
      "\nDuring handling of the above exception, another exception occurred:\n",
      "\u001b[0;31mTypeError\u001b[0m                                 Traceback (most recent call last)",
      "File \u001b[0;32m~/rs42/miniforge3/envs/sperm/lib/python3.11/site-packages/polars/_utils/getitem.py:167\u001b[0m, in \u001b[0;36mget_df_item_by_key\u001b[0;34m(df, key)\u001b[0m\n\u001b[1;32m    166\u001b[0m \u001b[38;5;28;01mtry\u001b[39;00m:\n\u001b[0;32m--> 167\u001b[0m     \u001b[38;5;28;01mreturn\u001b[39;00m \u001b[43m_select_rows\u001b[49m\u001b[43m(\u001b[49m\u001b[43mdf\u001b[49m\u001b[43m,\u001b[49m\u001b[43m \u001b[49m\u001b[43mkey\u001b[49m\u001b[43m)\u001b[49m  \u001b[38;5;66;03m# type: ignore[arg-type]\u001b[39;00m\n\u001b[1;32m    168\u001b[0m \u001b[38;5;28;01mexcept\u001b[39;00m \u001b[38;5;167;01mTypeError\u001b[39;00m:\n",
      "File \u001b[0;32m~/rs42/miniforge3/envs/sperm/lib/python3.11/site-packages/polars/_utils/getitem.py:306\u001b[0m, in \u001b[0;36m_select_rows\u001b[0;34m(df, key)\u001b[0m\n\u001b[1;32m    305\u001b[0m     _raise_on_boolean_mask()\n\u001b[0;32m--> 306\u001b[0m s \u001b[38;5;241m=\u001b[39m \u001b[43mpl\u001b[49m\u001b[38;5;241;43m.\u001b[39;49m\u001b[43mSeries\u001b[49m\u001b[43m(\u001b[49m\u001b[38;5;124;43m\"\u001b[39;49m\u001b[38;5;124;43m\"\u001b[39;49m\u001b[43m,\u001b[49m\u001b[43m \u001b[49m\u001b[43mkey\u001b[49m\u001b[43m,\u001b[49m\u001b[43m \u001b[49m\u001b[43mdtype\u001b[49m\u001b[38;5;241;43m=\u001b[39;49m\u001b[43mInt64\u001b[49m\u001b[43m)\u001b[49m\n\u001b[1;32m    307\u001b[0m indices \u001b[38;5;241m=\u001b[39m _convert_series_to_indices(s, df\u001b[38;5;241m.\u001b[39mheight)\n",
      "File \u001b[0;32m~/rs42/miniforge3/envs/sperm/lib/python3.11/site-packages/polars/series/series.py:289\u001b[0m, in \u001b[0;36mSeries.__init__\u001b[0;34m(self, name, values, dtype, strict, nan_to_null)\u001b[0m\n\u001b[1;32m    288\u001b[0m \u001b[38;5;28;01mif\u001b[39;00m \u001b[38;5;28misinstance\u001b[39m(values, Sequence):\n\u001b[0;32m--> 289\u001b[0m     \u001b[38;5;28mself\u001b[39m\u001b[38;5;241m.\u001b[39m_s \u001b[38;5;241m=\u001b[39m \u001b[43msequence_to_pyseries\u001b[49m\u001b[43m(\u001b[49m\n\u001b[1;32m    290\u001b[0m \u001b[43m        \u001b[49m\u001b[43mname\u001b[49m\u001b[43m,\u001b[49m\n\u001b[1;32m    291\u001b[0m \u001b[43m        \u001b[49m\u001b[43mvalues\u001b[49m\u001b[43m,\u001b[49m\n\u001b[1;32m    292\u001b[0m \u001b[43m        \u001b[49m\u001b[43mdtype\u001b[49m\u001b[38;5;241;43m=\u001b[39;49m\u001b[43mdtype\u001b[49m\u001b[43m,\u001b[49m\n\u001b[1;32m    293\u001b[0m \u001b[43m        \u001b[49m\u001b[43mstrict\u001b[49m\u001b[38;5;241;43m=\u001b[39;49m\u001b[43mstrict\u001b[49m\u001b[43m,\u001b[49m\n\u001b[1;32m    294\u001b[0m \u001b[43m        \u001b[49m\u001b[43mnan_to_null\u001b[49m\u001b[38;5;241;43m=\u001b[39;49m\u001b[43mnan_to_null\u001b[49m\u001b[43m,\u001b[49m\n\u001b[1;32m    295\u001b[0m \u001b[43m    \u001b[49m\u001b[43m)\u001b[49m\n\u001b[1;32m    297\u001b[0m \u001b[38;5;28;01melif\u001b[39;00m values \u001b[38;5;129;01mis\u001b[39;00m \u001b[38;5;28;01mNone\u001b[39;00m:\n",
      "File \u001b[0;32m~/rs42/miniforge3/envs/sperm/lib/python3.11/site-packages/polars/_utils/construction/series.py:137\u001b[0m, in \u001b[0;36msequence_to_pyseries\u001b[0;34m(name, values, dtype, strict, nan_to_null)\u001b[0m\n\u001b[1;32m    136\u001b[0m constructor \u001b[38;5;241m=\u001b[39m polars_type_to_constructor(dtype)\n\u001b[0;32m--> 137\u001b[0m pyseries \u001b[38;5;241m=\u001b[39m \u001b[43m_construct_series_with_fallbacks\u001b[49m\u001b[43m(\u001b[49m\n\u001b[1;32m    138\u001b[0m \u001b[43m    \u001b[49m\u001b[43mconstructor\u001b[49m\u001b[43m,\u001b[49m\u001b[43m \u001b[49m\u001b[43mname\u001b[49m\u001b[43m,\u001b[49m\u001b[43m \u001b[49m\u001b[43mvalues\u001b[49m\u001b[43m,\u001b[49m\u001b[43m \u001b[49m\u001b[43mdtype\u001b[49m\u001b[43m,\u001b[49m\u001b[43m \u001b[49m\u001b[43mstrict\u001b[49m\u001b[38;5;241;43m=\u001b[39;49m\u001b[43mstrict\u001b[49m\n\u001b[1;32m    139\u001b[0m \u001b[43m\u001b[49m\u001b[43m)\u001b[49m\n\u001b[1;32m    140\u001b[0m \u001b[38;5;28;01mif\u001b[39;00m dtype \u001b[38;5;129;01min\u001b[39;00m (\n\u001b[1;32m    141\u001b[0m     Date,\n\u001b[1;32m    142\u001b[0m     Datetime,\n\u001b[0;32m   (...)\u001b[0m\n\u001b[1;32m    148\u001b[0m     Decimal,\n\u001b[1;32m    149\u001b[0m ):\n",
      "File \u001b[0;32m~/rs42/miniforge3/envs/sperm/lib/python3.11/site-packages/polars/_utils/construction/series.py:317\u001b[0m, in \u001b[0;36m_construct_series_with_fallbacks\u001b[0;34m(constructor, name, values, dtype, strict)\u001b[0m\n\u001b[1;32m    316\u001b[0m \u001b[38;5;28;01melse\u001b[39;00m:\n\u001b[0;32m--> 317\u001b[0m     \u001b[38;5;28;01mreturn\u001b[39;00m \u001b[43mPySeries\u001b[49m\u001b[38;5;241;43m.\u001b[39;49m\u001b[43mnew_from_any_values_and_dtype\u001b[49m\u001b[43m(\u001b[49m\n\u001b[1;32m    318\u001b[0m \u001b[43m        \u001b[49m\u001b[43mname\u001b[49m\u001b[43m,\u001b[49m\u001b[43m \u001b[49m\u001b[43mvalues\u001b[49m\u001b[43m,\u001b[49m\u001b[43m \u001b[49m\u001b[43mdtype\u001b[49m\u001b[43m,\u001b[49m\u001b[43m \u001b[49m\u001b[43mstrict\u001b[49m\u001b[38;5;241;43m=\u001b[39;49m\u001b[43mstrict\u001b[49m\n\u001b[1;32m    319\u001b[0m \u001b[43m    \u001b[49m\u001b[43m)\u001b[49m\n",
      "\u001b[0;31mTypeError\u001b[0m: unexpected value while building Series of type Int64; found value of type String: \"dist_from_end_rounded\"\n\nHint: Try setting `strict=False` to allow passing data with mixed types.",
      "\nDuring handling of the above exception, another exception occurred:\n",
      "\u001b[0;31mColumnNotFoundError\u001b[0m                       Traceback (most recent call last)",
      "File \u001b[0;32m<timed exec>:2\u001b[0m\n",
      "File \u001b[0;32m<timed exec>:2\u001b[0m, in \u001b[0;36m<listcomp>\u001b[0;34m(.0)\u001b[0m\n",
      "File \u001b[0;32m~/rs42/miniforge3/envs/sperm/lib/python3.11/site-packages/polars/dataframe/frame.py:1354\u001b[0m, in \u001b[0;36mDataFrame.__getitem__\u001b[0;34m(self, key)\u001b[0m\n\u001b[1;32m   1217\u001b[0m \u001b[38;5;28;01mdef\u001b[39;00m \u001b[38;5;21m__getitem__\u001b[39m(\n\u001b[1;32m   1218\u001b[0m     \u001b[38;5;28mself\u001b[39m,\n\u001b[1;32m   1219\u001b[0m     key: (\n\u001b[0;32m   (...)\u001b[0m\n\u001b[1;32m   1228\u001b[0m     ),\n\u001b[1;32m   1229\u001b[0m ) \u001b[38;5;241m-\u001b[39m\u001b[38;5;241m>\u001b[39m DataFrame \u001b[38;5;241m|\u001b[39m Series \u001b[38;5;241m|\u001b[39m Any:\n\u001b[1;32m   1230\u001b[0m \u001b[38;5;250m    \u001b[39m\u001b[38;5;124;03m\"\"\"\u001b[39;00m\n\u001b[1;32m   1231\u001b[0m \u001b[38;5;124;03m    Get part of the DataFrame as a new DataFrame, Series, or scalar.\u001b[39;00m\n\u001b[1;32m   1232\u001b[0m \n\u001b[0;32m   (...)\u001b[0m\n\u001b[1;32m   1352\u001b[0m \u001b[38;5;124;03m    └─────┴─────┴─────┘\u001b[39;00m\n\u001b[1;32m   1353\u001b[0m \u001b[38;5;124;03m    \"\"\"\u001b[39;00m\n\u001b[0;32m-> 1354\u001b[0m     \u001b[38;5;28;01mreturn\u001b[39;00m \u001b[43mget_df_item_by_key\u001b[49m\u001b[43m(\u001b[49m\u001b[38;5;28;43mself\u001b[39;49m\u001b[43m,\u001b[49m\u001b[43m \u001b[49m\u001b[43mkey\u001b[49m\u001b[43m)\u001b[49m\n",
      "File \u001b[0;32m~/rs42/miniforge3/envs/sperm/lib/python3.11/site-packages/polars/_utils/getitem.py:169\u001b[0m, in \u001b[0;36mget_df_item_by_key\u001b[0;34m(df, key)\u001b[0m\n\u001b[1;32m    167\u001b[0m     \u001b[38;5;28;01mreturn\u001b[39;00m _select_rows(df, key)  \u001b[38;5;66;03m# type: ignore[arg-type]\u001b[39;00m\n\u001b[1;32m    168\u001b[0m \u001b[38;5;28;01mexcept\u001b[39;00m \u001b[38;5;167;01mTypeError\u001b[39;00m:\n\u001b[0;32m--> 169\u001b[0m     \u001b[38;5;28;01mreturn\u001b[39;00m \u001b[43m_select_columns\u001b[49m\u001b[43m(\u001b[49m\u001b[43mdf\u001b[49m\u001b[43m,\u001b[49m\u001b[43m \u001b[49m\u001b[43mkey\u001b[49m\u001b[43m)\u001b[49m\n",
      "File \u001b[0;32m~/rs42/miniforge3/envs/sperm/lib/python3.11/site-packages/polars/_utils/getitem.py:217\u001b[0m, in \u001b[0;36m_select_columns\u001b[0;34m(df, key)\u001b[0m\n\u001b[1;32m    215\u001b[0m     \u001b[38;5;28;01mreturn\u001b[39;00m _select_columns_by_index(df, key)  \u001b[38;5;66;03m# type: ignore[arg-type]\u001b[39;00m\n\u001b[1;32m    216\u001b[0m \u001b[38;5;28;01melif\u001b[39;00m \u001b[38;5;28misinstance\u001b[39m(first, \u001b[38;5;28mstr\u001b[39m):\n\u001b[0;32m--> 217\u001b[0m     \u001b[38;5;28;01mreturn\u001b[39;00m \u001b[43m_select_columns_by_name\u001b[49m\u001b[43m(\u001b[49m\u001b[43mdf\u001b[49m\u001b[43m,\u001b[49m\u001b[43m \u001b[49m\u001b[43mkey\u001b[49m\u001b[43m)\u001b[49m  \u001b[38;5;66;03m# type: ignore[arg-type]\u001b[39;00m\n\u001b[1;32m    218\u001b[0m \u001b[38;5;28;01melse\u001b[39;00m:\n\u001b[1;32m    219\u001b[0m     msg \u001b[38;5;241m=\u001b[39m \u001b[38;5;124mf\u001b[39m\u001b[38;5;124m\"\u001b[39m\u001b[38;5;124mcannot select columns using Sequence with elements of type \u001b[39m\u001b[38;5;132;01m{\u001b[39;00m\u001b[38;5;28mtype\u001b[39m(first)\u001b[38;5;241m.\u001b[39m\u001b[38;5;18m__name__\u001b[39m\u001b[38;5;132;01m!r}\u001b[39;00m\u001b[38;5;124m\"\u001b[39m\n",
      "File \u001b[0;32m~/rs42/miniforge3/envs/sperm/lib/python3.11/site-packages/polars/_utils/getitem.py:265\u001b[0m, in \u001b[0;36m_select_columns_by_name\u001b[0;34m(df, key)\u001b[0m\n\u001b[1;32m    264\u001b[0m \u001b[38;5;28;01mdef\u001b[39;00m \u001b[38;5;21m_select_columns_by_name\u001b[39m(df: DataFrame, key: Iterable[\u001b[38;5;28mstr\u001b[39m]) \u001b[38;5;241m-\u001b[39m\u001b[38;5;241m>\u001b[39m DataFrame:\n\u001b[0;32m--> 265\u001b[0m     \u001b[38;5;28;01mreturn\u001b[39;00m df\u001b[38;5;241m.\u001b[39m_from_pydf(\u001b[43mdf\u001b[49m\u001b[38;5;241;43m.\u001b[39;49m\u001b[43m_df\u001b[49m\u001b[38;5;241;43m.\u001b[39;49m\u001b[43mselect\u001b[49m\u001b[43m(\u001b[49m\u001b[43mkey\u001b[49m\u001b[43m)\u001b[49m)\n",
      "\u001b[0;31mColumnNotFoundError\u001b[0m: \"x_vs_y/y\" not found"
     ]
    }
   ],
   "source": [
    "%%time\n",
    "putative_gc_df_hap_cnt = (\n",
    "    pl.concat([x[[\"dist_from_end_rounded\", \"x_vs_y/y\", \"x_vs_y/x\", \"x_vs_y/z\"]] for x in startdfs], how=\"vertical_relaxed\")\n",
    "    .group_by([\"dist_from_end_rounded\"])\n",
    "    .agg(pl.col(\"x_vs_y/y\").sum(), pl.col(\"x_vs_y/x\").sum(), pl.col(\"x_vs_y/z\").sum())\n",
    "    .sort(\"dist_from_end_rounded\")\n",
    ")\n",
    "\n"
   ]
  },
  {
   "cell_type": "code",
   "execution_count": null,
   "id": "7f647328-a21b-4344-86e4-43dd0a3040a6",
   "metadata": {},
   "outputs": [],
   "source": []
  },
  {
   "cell_type": "code",
   "execution_count": 25,
   "id": "4394c790-23f7-45a8-8ff5-05f057bc761f",
   "metadata": {},
   "outputs": [
    {
     "ename": "ColumnNotFoundError",
     "evalue": "\"dist_from_end_rounded\" not found",
     "output_type": "error",
     "traceback": [
      "\u001b[0;31m---------------------------------------------------------------------------\u001b[0m",
      "\u001b[0;31mColumnNotFoundError\u001b[0m                       Traceback (most recent call last)",
      "\u001b[0;32m/tmp/ipykernel_2345368/144007878.py\u001b[0m in \u001b[0;36m?\u001b[0;34m()\u001b[0m\n\u001b[1;32m      1\u001b[0m \u001b[0;32mimport\u001b[0m \u001b[0mstatsmodels\u001b[0m\u001b[0;34m.\u001b[0m\u001b[0mstats\u001b[0m\u001b[0;34m.\u001b[0m\u001b[0mproportion\u001b[0m\u001b[0;34m\u001b[0m\u001b[0;34m\u001b[0m\u001b[0m\n\u001b[1;32m      2\u001b[0m \u001b[0;34m\u001b[0m\u001b[0m\n\u001b[1;32m      3\u001b[0m plt.plot(\n\u001b[0;32m----> 4\u001b[0;31m     \u001b[0mputative_gc_df_hap_cnt\u001b[0m\u001b[0;34m[\u001b[0m\u001b[0;34m\"dist_from_end_rounded\"\u001b[0m\u001b[0;34m]\u001b[0m\u001b[0;34m,\u001b[0m\u001b[0;34m\u001b[0m\u001b[0;34m\u001b[0m\u001b[0m\n\u001b[0m\u001b[1;32m      5\u001b[0m     \u001b[0mputative_gc_df_hap_cnt\u001b[0m\u001b[0;34m[\u001b[0m\u001b[0;34m\"x_vs_y/y\"\u001b[0m\u001b[0;34m]\u001b[0m\u001b[0;34m,\u001b[0m\u001b[0;34m\u001b[0m\u001b[0;34m\u001b[0m\u001b[0m\n\u001b[1;32m      6\u001b[0m     \u001b[0;34m'.'\u001b[0m\u001b[0;34m,\u001b[0m\u001b[0;34m\u001b[0m\u001b[0;34m\u001b[0m\u001b[0m\n\u001b[1;32m      7\u001b[0m     \u001b[0mms\u001b[0m\u001b[0;34m=\u001b[0m\u001b[0;36m5\u001b[0m\u001b[0;34m,\u001b[0m\u001b[0;34m\u001b[0m\u001b[0;34m\u001b[0m\u001b[0m\n",
      "\u001b[0;32m~/rs42/miniforge3/envs/sperm/lib/python3.11/site-packages/polars/dataframe/frame.py\u001b[0m in \u001b[0;36m?\u001b[0;34m(self, key)\u001b[0m\n\u001b[1;32m   1350\u001b[0m         \u001b[0;31m│\u001b[0m \u001b[0;36m2\u001b[0m\u001b[0;31m \u001b[0m\u001b[0;31m \u001b[0m\u001b[0;31m \u001b[0m\u001b[0;31m┆\u001b[0m \u001b[0;36m5\u001b[0m\u001b[0;31m \u001b[0m\u001b[0;31m \u001b[0m\u001b[0;31m \u001b[0m\u001b[0;31m┆\u001b[0m \u001b[0;36m3\u001b[0m\u001b[0;31m \u001b[0m\u001b[0;31m \u001b[0m\u001b[0;31m \u001b[0m\u001b[0;31m│\u001b[0m\u001b[0;34m\u001b[0m\u001b[0;34m\u001b[0m\u001b[0m\n\u001b[1;32m   1351\u001b[0m         \u001b[0;31m│\u001b[0m \u001b[0;36m3\u001b[0m\u001b[0;31m \u001b[0m\u001b[0;31m \u001b[0m\u001b[0;31m \u001b[0m\u001b[0;31m┆\u001b[0m \u001b[0;36m6\u001b[0m\u001b[0;31m \u001b[0m\u001b[0;31m \u001b[0m\u001b[0;31m \u001b[0m\u001b[0;31m┆\u001b[0m \u001b[0;36m2\u001b[0m\u001b[0;31m \u001b[0m\u001b[0;31m \u001b[0m\u001b[0;31m \u001b[0m\u001b[0;31m│\u001b[0m\u001b[0;34m\u001b[0m\u001b[0;34m\u001b[0m\u001b[0m\n\u001b[1;32m   1352\u001b[0m         \u001b[0;31m└\u001b[0m\u001b[0;31m─\u001b[0m\u001b[0;31m─\u001b[0m\u001b[0;31m─\u001b[0m\u001b[0;31m─\u001b[0m\u001b[0;31m─\u001b[0m\u001b[0;31m┴\u001b[0m\u001b[0;31m─\u001b[0m\u001b[0;31m─\u001b[0m\u001b[0;31m─\u001b[0m\u001b[0;31m─\u001b[0m\u001b[0;31m─\u001b[0m\u001b[0;31m┴\u001b[0m\u001b[0;31m─\u001b[0m\u001b[0;31m─\u001b[0m\u001b[0;31m─\u001b[0m\u001b[0;31m─\u001b[0m\u001b[0;31m─\u001b[0m\u001b[0;31m┘\u001b[0m\u001b[0;34m\u001b[0m\u001b[0;34m\u001b[0m\u001b[0m\n\u001b[1;32m   1353\u001b[0m         \"\"\"\n\u001b[0;32m-> 1354\u001b[0;31m         \u001b[0;32mreturn\u001b[0m \u001b[0mget_df_item_by_key\u001b[0m\u001b[0;34m(\u001b[0m\u001b[0mself\u001b[0m\u001b[0;34m,\u001b[0m \u001b[0mkey\u001b[0m\u001b[0;34m)\u001b[0m\u001b[0;34m\u001b[0m\u001b[0;34m\u001b[0m\u001b[0m\n\u001b[0m",
      "\u001b[0;32m~/rs42/miniforge3/envs/sperm/lib/python3.11/site-packages/polars/_utils/getitem.py\u001b[0m in \u001b[0;36m?\u001b[0;34m(df, key)\u001b[0m\n\u001b[1;32m    159\u001b[0m     \u001b[0;31m# Single string input, e.g. df[\"a\"]\u001b[0m\u001b[0;34m\u001b[0m\u001b[0;34m\u001b[0m\u001b[0m\n\u001b[1;32m    160\u001b[0m     \u001b[0;32mif\u001b[0m \u001b[0misinstance\u001b[0m\u001b[0;34m(\u001b[0m\u001b[0mkey\u001b[0m\u001b[0;34m,\u001b[0m \u001b[0mstr\u001b[0m\u001b[0;34m)\u001b[0m\u001b[0;34m:\u001b[0m\u001b[0;34m\u001b[0m\u001b[0;34m\u001b[0m\u001b[0m\n\u001b[1;32m    161\u001b[0m         \u001b[0;31m# This case is required because empty strings are otherwise treated\u001b[0m\u001b[0;34m\u001b[0m\u001b[0;34m\u001b[0m\u001b[0m\n\u001b[1;32m    162\u001b[0m         \u001b[0;31m# as an empty Sequence in `_select_rows`\u001b[0m\u001b[0;34m\u001b[0m\u001b[0;34m\u001b[0m\u001b[0m\n\u001b[0;32m--> 163\u001b[0;31m         \u001b[0;32mreturn\u001b[0m \u001b[0mdf\u001b[0m\u001b[0;34m.\u001b[0m\u001b[0mget_column\u001b[0m\u001b[0;34m(\u001b[0m\u001b[0mkey\u001b[0m\u001b[0;34m)\u001b[0m\u001b[0;34m\u001b[0m\u001b[0;34m\u001b[0m\u001b[0m\n\u001b[0m\u001b[1;32m    164\u001b[0m \u001b[0;34m\u001b[0m\u001b[0m\n\u001b[1;32m    165\u001b[0m     \u001b[0;31m# Single input - df[1] - or multiple inputs - df[\"a\", \"b\", \"c\"]\u001b[0m\u001b[0;34m\u001b[0m\u001b[0;34m\u001b[0m\u001b[0m\n\u001b[1;32m    166\u001b[0m     \u001b[0;32mtry\u001b[0m\u001b[0;34m:\u001b[0m\u001b[0;34m\u001b[0m\u001b[0;34m\u001b[0m\u001b[0m\n",
      "\u001b[0;32m~/rs42/miniforge3/envs/sperm/lib/python3.11/site-packages/polars/dataframe/frame.py\u001b[0m in \u001b[0;36m?\u001b[0;34m(self, name, default)\u001b[0m\n\u001b[1;32m   7915\u001b[0m         \u001b[0;32mtry\u001b[0m\u001b[0;34m:\u001b[0m\u001b[0;34m\u001b[0m\u001b[0;34m\u001b[0m\u001b[0m\n\u001b[1;32m   7916\u001b[0m             \u001b[0;32mreturn\u001b[0m \u001b[0mwrap_s\u001b[0m\u001b[0;34m(\u001b[0m\u001b[0mself\u001b[0m\u001b[0;34m.\u001b[0m\u001b[0m_df\u001b[0m\u001b[0;34m.\u001b[0m\u001b[0mget_column\u001b[0m\u001b[0;34m(\u001b[0m\u001b[0mname\u001b[0m\u001b[0;34m)\u001b[0m\u001b[0;34m)\u001b[0m\u001b[0;34m\u001b[0m\u001b[0;34m\u001b[0m\u001b[0m\n\u001b[1;32m   7917\u001b[0m         \u001b[0;32mexcept\u001b[0m \u001b[0mColumnNotFoundError\u001b[0m\u001b[0;34m:\u001b[0m\u001b[0;34m\u001b[0m\u001b[0;34m\u001b[0m\u001b[0m\n\u001b[1;32m   7918\u001b[0m             \u001b[0;32mif\u001b[0m \u001b[0mdefault\u001b[0m \u001b[0;32mis\u001b[0m \u001b[0mno_default\u001b[0m\u001b[0;34m:\u001b[0m\u001b[0;34m\u001b[0m\u001b[0;34m\u001b[0m\u001b[0m\n\u001b[0;32m-> 7919\u001b[0;31m                 \u001b[0;32mraise\u001b[0m\u001b[0;34m\u001b[0m\u001b[0;34m\u001b[0m\u001b[0m\n\u001b[0m\u001b[1;32m   7920\u001b[0m             \u001b[0;32mreturn\u001b[0m \u001b[0mdefault\u001b[0m\u001b[0;34m\u001b[0m\u001b[0;34m\u001b[0m\u001b[0m\n",
      "\u001b[0;31mColumnNotFoundError\u001b[0m: \"dist_from_end_rounded\" not found"
     ]
    }
   ],
   "source": [
    "import statsmodels.stats.proportion\n",
    "\n",
    "plt.plot(\n",
    "    putative_gc_df_hap_cnt[\"dist_from_end_rounded\"],\n",
    "    putative_gc_df_hap_cnt[\"x_vs_y/y\"],\n",
    "    '.',\n",
    "    ms=5,\n",
    "    label=\"x vs. y/y\",\n",
    ")\n",
    "\n",
    "plt.plot(\n",
    "    putative_gc_df_hap_cnt[\"dist_from_end_rounded\"],\n",
    "    putative_gc_df_hap_cnt[\"x_vs_y/x\"],\n",
    "    '.',\n",
    "    ms=5,\n",
    "    label=\"x vs. y/x\",\n",
    ")\n",
    "\n",
    "plt.plot(\n",
    "    putative_gc_df_hap_cnt[\"dist_from_end_rounded\"],\n",
    "    putative_gc_df_hap_cnt[\"x_vs_y/z\"],\n",
    "    '.',\n",
    "    ms=5,\n",
    "    label=\"x vs. y/z\",\n",
    ")\n",
    "\n",
    "\n",
    "plt.xlabel(\"Distance from read end (bp)\");\n",
    "plt.ylabel(\"# of events\");\n",
    "#plt.yscale(\"log\")\n",
    "plt.xlim(-100, 3100);\n",
    "plt.legend();\n"
   ]
  },
  {
   "cell_type": "code",
   "execution_count": null,
   "id": "42f8d13b-d736-46eb-860f-e83b26376691",
   "metadata": {},
   "outputs": [],
   "source": [
    "# Sample data (replace this with your matrix)\n",
    "data = np.array([\n",
    "    putative_gc_df_hap_cnt[\"x_vs_y/y\"],\n",
    "    putative_gc_df_hap_cnt[\"x_vs_y/x\"],\n",
    "    putative_gc_df_hap_cnt[\"x_vs_y/z\"]\n",
    "]).T.astype(float)\n",
    "\n",
    "data /= data.sum(axis=1)[:,np.newaxis]\n",
    "\n",
    "# Number of rows and columns in the matrix\n",
    "num_rows, num_cols = data.shape\n",
    "\n",
    "# # Initialize a color map for better visualization\n",
    "# colors = plt.cm.viridis(np.linspace(0, 1, num_cols))\n",
    "\n",
    "# Plotting the stacked bars\n",
    "fig, ax = plt.subplots()\n",
    "\n",
    "for i in range(num_cols):\n",
    "    bottom = np.sum(data[:,:i], axis=1)\n",
    "    ax.bar(putative_gc_df_hap_cnt[\"dist_from_end_rounded\"].to_numpy(), data[:,i], bottom=bottom, width=50)\n",
    "    \n",
    "\n",
    "# Adding labels and legend\n",
    "ax.legend([\"x_vs_y/y\", \"x_vs_y/x\", \"x_vs_y/z\"])\n",
    "ax.set_xlim(-100,3100);\n",
    "\n",
    "# Show the plot\n",
    "plt.show()\n"
   ]
  },
  {
   "cell_type": "code",
   "execution_count": null,
   "id": "efb5f361-8140-44e5-abb6-d52e9765615a",
   "metadata": {},
   "outputs": [],
   "source": []
  },
  {
   "cell_type": "code",
   "execution_count": null,
   "id": "1e7730de-b751-42b2-a44c-c95b14e62565",
   "metadata": {},
   "outputs": [],
   "source": []
  },
  {
   "cell_type": "code",
   "execution_count": null,
   "id": "695d6bf4-074e-43f8-a18c-48626839ae4e",
   "metadata": {},
   "outputs": [],
   "source": []
  },
  {
   "cell_type": "code",
   "execution_count": null,
   "id": "7a597e14-3032-40b5-aa93-f1a039ec6b19",
   "metadata": {},
   "outputs": [],
   "source": [
    "import statsmodels.stats.proportion\n",
    "\n",
    "A = np.cumsum(putative_gc_df_hap_cnt[\"x_vs_y/z\"])\n",
    "B = np.cumsum(putative_gc_df_hap_cnt[\"x_vs_y/x\"])\n",
    "p = A / B \n",
    "lo, hi = statsmodels.stats.proportion.proportion_confint(\n",
    "    A, B,\n",
    "    method=\"beta\", \n",
    "    alpha=0.05\n",
    ")\n",
    "\n",
    "plt.errorbar(\n",
    "    x = putative_gc_df_hap_cnt[\"dist_from_end_rounded\"],\n",
    "    y = p,\n",
    "    yerr = [p-lo, hi-p],\n",
    "    fmt = '.'\n",
    ")\n",
    "\n",
    "plt.xlabel(\"dist, cumulative (<=)\");\n",
    "plt.ylabel(\"Estimated false positive rate\");\n",
    "plt.yscale(\"log\")\n",
    "plt.xlim(-100, 3100);\n"
   ]
  },
  {
   "cell_type": "code",
   "execution_count": null,
   "id": "878728de-dc47-43ce-a2ce-eb0d02fd4df2",
   "metadata": {},
   "outputs": [],
   "source": []
  }
 ],
 "metadata": {
  "kernelspec": {
   "display_name": "sperm",
   "language": "python",
   "name": "sperm"
  },
  "language_info": {
   "codemirror_mode": {
    "name": "ipython",
    "version": 3
   },
   "file_extension": ".py",
   "mimetype": "text/x-python",
   "name": "python",
   "nbconvert_exporter": "python",
   "pygments_lexer": "ipython3",
   "version": "3.11.10"
  }
 },
 "nbformat": 4,
 "nbformat_minor": 5
}
